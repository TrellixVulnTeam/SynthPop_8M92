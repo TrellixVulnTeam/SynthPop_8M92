{
 "cells": [
  {
   "cell_type": "code",
   "execution_count": 1,
   "metadata": {},
   "outputs": [],
   "source": [
    "import os\n",
    "os.chdir('../..')"
   ]
  },
  {
   "cell_type": "code",
   "execution_count": 2,
   "metadata": {},
   "outputs": [],
   "source": [
    "from platform import python_version\n",
    "print(python_version())"
   ]
  },
  {
   "cell_type": "code",
   "execution_count": 3,
   "metadata": {},
   "outputs": [],
   "source": [
    "import numpy as np\n",
    "import pandas as pd\n",
    "import json\n",
    "import sys\n",
    "\n",
    "import matplotlib.pyplot as plt\n",
    "\n",
    "# For the Python notebook\n",
    "%matplotlib inline\n",
    "%reload_ext autoreload\n",
    "%autoreload 2"
   ]
  },
  {
   "cell_type": "code",
   "execution_count": 4,
   "metadata": {},
   "outputs": [],
   "source": [
    "dataset = 'LPMC_DAG'\n",
    "n_models = 5\n",
    "n_data = 5\n",
    "reuse_data = False\n",
    "\n",
    "models = ['FULL', 'TRANSRED', 'LINEAR', 'NOLINKS', 'PREDICTION']\n",
    "models = ['FULL']\n",
    "\n",
    "if n_models > 1:\n",
    "    tmp = []\n",
    "    for i in range(n_models):\n",
    "        for m in models:\n",
    "            tmp.append(m + '_{:0>2d}'.format(i+1))\n",
    "\n",
    "    tmp.sort()\n",
    "    models = tmp"
   ]
  },
  {
   "cell_type": "code",
   "execution_count": 5,
   "metadata": {},
   "outputs": [],
   "source": [
    "df = pd.read_csv('../data/' + dataset.split('_')[0] + '/data.csv')"
   ]
  },
  {
   "cell_type": "code",
   "execution_count": 6,
   "metadata": {},
   "outputs": [],
   "source": [
    "input_folder = '../output/' + dataset + '/'\n",
    "output_folder = '../synth_data/' + dataset + '/'\n",
    "\n",
    "try:\n",
    "    os.makedirs(output_folder)\n",
    "except:\n",
    "    pass"
   ]
  },
  {
   "cell_type": "code",
   "execution_count": 7,
   "metadata": {},
   "outputs": [],
   "source": [
    "def is_a_DATGAN(name):\n",
    "    if 'TGAN' in name or 'CTGAN' in name:\n",
    "        return False\n",
    "    else:\n",
    "        return True\n",
    "    \n",
    "def round_some_vars(samples, dataset):\n",
    "    if dataset is 'Chicago':\n",
    "        samples.age = np.round(samples.age)\n",
    "    elif dataset is 'LPMC':\n",
    "        samples.age = np.round(samples.age)\n",
    "        samples.distance = np.round(samples.distance)\n",
    "        \n",
    "    return samples"
   ]
  },
  {
   "cell_type": "code",
   "execution_count": 8,
   "metadata": {
    "scrolled": true
   },
   "outputs": [
    {
     "name": "stdout",
     "output_type": "stream",
     "text": [
      "Sampling synthetic data from model \u001b[1mFULL_01\u001b[0m (1/5)\n",
      "WARNING:tensorflow:From D:\\Users\\glede\\anaconda3\\envs\\py37\\lib\\site-packages\\tensorpack\\callbacks\\hooks.py:17: The name tf.train.SessionRunHook is deprecated. Please use tf.estimator.SessionRunHook instead.\n",
      "\n",
      "WARNING:tensorflow:From D:\\Users\\glede\\anaconda3\\envs\\py37\\lib\\site-packages\\tensorpack\\tfutils\\optimizer.py:18: The name tf.train.Optimizer is deprecated. Please use tf.compat.v1.train.Optimizer instead.\n",
      "\n",
      "WARNING:tensorflow:From D:\\Users\\glede\\anaconda3\\envs\\py37\\lib\\site-packages\\tensorpack\\tfutils\\sesscreate.py:20: The name tf.train.SessionCreator is deprecated. Please use tf.compat.v1.train.SessionCreator instead.\n",
      "\n",
      "WARNING:tensorflow:From D:\\Users\\glede\\anaconda3\\envs\\py37\\lib\\site-packages\\tensorpack\\tfutils\\varmanip.py:178: The name tf.gfile.Exists is deprecated. Please use tf.io.gfile.exists instead.\n",
      "\n",
      "WARNING:tensorflow:From D:\\Users\\glede\\anaconda3\\envs\\py37\\lib\\site-packages\\tensorpack\\predict\\config.py:101: The name tf.train.ChiefSessionCreator is deprecated. Please use tf.compat.v1.train.ChiefSessionCreator instead.\n",
      "\n",
      "WARNING:tensorflow:From D:\\Users\\glede\\anaconda3\\envs\\py37\\lib\\site-packages\\tensorpack\\tfutils\\common.py:41: The name tf.ConfigProto is deprecated. Please use tf.compat.v1.ConfigProto instead.\n",
      "\n",
      "WARNING:tensorflow:From D:\\Users\\glede\\anaconda3\\envs\\py37\\lib\\site-packages\\tensorpack\\graph_builder\\model_desc.py:29: The name tf.get_default_graph is deprecated. Please use tf.compat.v1.get_default_graph instead.\n",
      "\n",
      "WARNING:tensorflow:From D:\\Users\\glede\\anaconda3\\envs\\py37\\lib\\site-packages\\tensorpack\\graph_builder\\model_desc.py:39: The name tf.placeholder is deprecated. Please use tf.compat.v1.placeholder instead.\n",
      "\n",
      "WARNING:tensorflow:From D:\\Users\\glede\\anaconda3\\envs\\py37\\lib\\site-packages\\tensorpack\\tfutils\\tower.py:204: The name tf.get_variable_scope is deprecated. Please use tf.compat.v1.get_variable_scope instead.\n",
      "\n",
      "WARNING:tensorflow:From D:\\Users\\glede\\anaconda3\\envs\\py37\\lib\\site-packages\\tensorpack\\tfutils\\tower.py:216: The name tf.GraphKeys is deprecated. Please use tf.compat.v1.GraphKeys instead.\n",
      "\n",
      "WARNING:tensorflow:From D:\\Users\\glede\\anaconda3\\envs\\py37\\lib\\site-packages\\tensorpack\\tfutils\\tower.py:101: The name tf.variable_scope is deprecated. Please use tf.compat.v1.variable_scope instead.\n",
      "\n",
      "WARNING:tensorflow:From D:\\Users\\glede\\anaconda3\\envs\\py37\\lib\\site-packages\\tensorpack\\tfutils\\collection.py:33: The name tf.get_collection is deprecated. Please use tf.compat.v1.get_collection instead.\n",
      "\n",
      "WARNING:tensorflow:From C:\\Users\\glede\\Documents\\EPFL\\PhD\\SynthPop\\code\\modules\\datgan\\models\\DATSGANModel.py:517: The name tf.random_normal is deprecated. Please use tf.random.normal instead.\n",
      "\n",
      "WARNING:tensorflow:From C:\\Users\\glede\\Documents\\EPFL\\PhD\\SynthPop\\code\\modules\\datgan\\models\\DATSGANModel.py:518: The name tf.placeholder_with_default is deprecated. Please use tf.compat.v1.placeholder_with_default instead.\n",
      "\n",
      "WARNING:tensorflow:From C:\\Users\\glede\\Documents\\EPFL\\PhD\\SynthPop\\code\\modules\\datgan\\models\\DATSGANModel.py:207: LSTMCell.__init__ (from tensorflow.python.ops.rnn_cell_impl) is deprecated and will be removed in a future version.\n",
      "Instructions for updating:\n",
      "This class is equivalent as tf.keras.layers.LSTMCell, and will be replaced by that in Tensorflow 2.0.\n",
      "\u001b[32m[1215 17:41:37 @DATSGANModel.py:213]\u001b[0m \u001b[91mCreating cell for travel_year (in-edges: 0; ancestors: 0)\n",
      "WARNING:tensorflow:From C:\\Users\\glede\\Documents\\EPFL\\PhD\\SynthPop\\code\\modules\\datgan\\models\\DATSGANModel.py:224: The name tf.get_variable is deprecated. Please use tf.compat.v1.get_variable instead.\n",
      "\n",
      "WARNING:tensorflow:From D:\\Users\\glede\\anaconda3\\envs\\py37\\lib\\site-packages\\tensorflow_core\\python\\ops\\rnn_cell_impl.py:958: Layer.add_variable (from tensorflow.python.keras.engine.base_layer) is deprecated and will be removed in a future version.\n",
      "Instructions for updating:\n",
      "Please use `layer.add_weight` method instead.\n",
      "WARNING:tensorflow:From D:\\Users\\glede\\anaconda3\\envs\\py37\\lib\\site-packages\\tensorflow_core\\python\\ops\\rnn_cell_impl.py:962: calling Zeros.__init__ (from tensorflow.python.ops.init_ops) with dtype is deprecated and will be removed in a future version.\n",
      "Instructions for updating:\n",
      "Call initializer instance with the dtype argument instead of passing it to the constructor\n",
      "\u001b[32m[1215 17:41:37 @registry.py:126]\u001b[0m gen/LSTM/travel_year/FC input: [500, 100]\n",
      "WARNING:tensorflow:From D:\\Users\\glede\\anaconda3\\envs\\py37\\lib\\site-packages\\tensorpack\\models\\fc.py:57: The name tf.layers.Dense is deprecated. Please use tf.compat.v1.layers.Dense instead.\n",
      "\n",
      "WARNING:tensorflow:From D:\\Users\\glede\\anaconda3\\envs\\py37\\lib\\site-packages\\tensorpack\\models\\fc.py:67: Layer.apply (from tensorflow.python.keras.engine.base_layer) is deprecated and will be removed in a future version.\n",
      "Instructions for updating:\n",
      "Please use `layer.__call__` method instead.\n",
      "\u001b[32m[1215 17:41:37 @registry.py:134]\u001b[0m gen/LSTM/travel_year/FC output: [500, 50]\n",
      "\u001b[32m[1215 17:41:37 @registry.py:126]\u001b[0m gen/LSTM/travel_year/FC_prob input: [500, 50]\n",
      "\u001b[32m[1215 17:41:37 @registry.py:134]\u001b[0m gen/LSTM/travel_year/FC_prob output: [500, 4]\n",
      "\u001b[32m[1215 17:41:37 @registry.py:126]\u001b[0m gen/LSTM/travel_year/FC_input input: [500, 4]\n",
      "\u001b[32m[1215 17:41:37 @registry.py:134]\u001b[0m gen/LSTM/travel_year/FC_input output: [500, 100]\n",
      "\u001b[32m[1215 17:41:37 @DATSGANModel.py:213]\u001b[0m \u001b[91mCreating cell for car_ownership (in-edges: 0; ancestors: 0)\n",
      "\u001b[32m[1215 17:41:37 @registry.py:126]\u001b[0m gen/LSTM/car_ownership/FC input: [500, 100]\n",
      "\u001b[32m[1215 17:41:37 @registry.py:134]\u001b[0m gen/LSTM/car_ownership/FC output: [500, 50]\n",
      "\u001b[32m[1215 17:41:37 @registry.py:126]\u001b[0m gen/LSTM/car_ownership/FC_prob input: [500, 50]\n",
      "\u001b[32m[1215 17:41:37 @registry.py:134]\u001b[0m gen/LSTM/car_ownership/FC_prob output: [500, 3]\n",
      "\u001b[32m[1215 17:41:37 @registry.py:126]\u001b[0m gen/LSTM/car_ownership/FC_input input: [500, 3]\n",
      "\u001b[32m[1215 17:41:37 @registry.py:134]\u001b[0m gen/LSTM/car_ownership/FC_input output: [500, 100]\n",
      "\u001b[32m[1215 17:41:37 @DATSGANModel.py:213]\u001b[0m \u001b[91mCreating cell for female (in-edges: 0; ancestors: 0)\n",
      "\u001b[32m[1215 17:41:37 @registry.py:126]\u001b[0m gen/LSTM/female/FC input: [500, 100]\n",
      "\u001b[32m[1215 17:41:37 @registry.py:134]\u001b[0m gen/LSTM/female/FC output: [500, 50]\n",
      "\u001b[32m[1215 17:41:37 @registry.py:126]\u001b[0m gen/LSTM/female/FC_prob input: [500, 50]\n",
      "\u001b[32m[1215 17:41:37 @registry.py:134]\u001b[0m gen/LSTM/female/FC_prob output: [500, 2]\n",
      "\u001b[32m[1215 17:41:37 @registry.py:126]\u001b[0m gen/LSTM/female/FC_input input: [500, 2]\n",
      "\u001b[32m[1215 17:41:37 @registry.py:134]\u001b[0m gen/LSTM/female/FC_input output: [500, 100]\n",
      "\u001b[32m[1215 17:41:37 @DATSGANModel.py:213]\u001b[0m \u001b[91mCreating cell for age (in-edges: 0; ancestors: 0)\n",
      "\u001b[32m[1215 17:41:37 @registry.py:126]\u001b[0m gen/LSTM/age/FC input: [500, 100]\n",
      "\u001b[32m[1215 17:41:37 @registry.py:134]\u001b[0m gen/LSTM/age/FC output: [500, 50]\n",
      "\u001b[32m[1215 17:41:37 @registry.py:126]\u001b[0m gen/LSTM/age/FC_val input: [500, 50]\n",
      "\u001b[32m[1215 17:41:37 @registry.py:134]\u001b[0m gen/LSTM/age/FC_val output: [500, 6]\n",
      "\u001b[32m[1215 17:41:37 @registry.py:126]\u001b[0m gen/LSTM/age/FC_prob input: [500, 50]\n",
      "\u001b[32m[1215 17:41:37 @registry.py:134]\u001b[0m gen/LSTM/age/FC_prob output: [500, 6]\n",
      "\u001b[32m[1215 17:41:37 @registry.py:126]\u001b[0m gen/LSTM/age/FC_input input: [500, 12]\n",
      "\u001b[32m[1215 17:41:37 @registry.py:134]\u001b[0m gen/LSTM/age/FC_input output: [500, 100]\n",
      "\u001b[32m[1215 17:41:37 @DATSGANModel.py:213]\u001b[0m \u001b[91mCreating cell for travel_month (in-edges: 1; ancestors: 1)\n",
      "WARNING:tensorflow:From C:\\Users\\glede\\Documents\\EPFL\\PhD\\SynthPop\\code\\modules\\datgan\\models\\DATSGANModel.py:233: The name tf.nn.rnn_cell.LSTMStateTuple is deprecated. Please use tf.compat.v1.nn.rnn_cell.LSTMStateTuple instead.\n",
      "\n",
      "\u001b[32m[1215 17:41:37 @registry.py:126]\u001b[0m gen/LSTM/travel_month/FC input: [500, 100]\n",
      "\u001b[32m[1215 17:41:37 @registry.py:134]\u001b[0m gen/LSTM/travel_month/FC output: [500, 50]\n",
      "\u001b[32m[1215 17:41:37 @registry.py:126]\u001b[0m gen/LSTM/travel_month/FC_prob input: [500, 50]\n",
      "\u001b[32m[1215 17:41:37 @registry.py:134]\u001b[0m gen/LSTM/travel_month/FC_prob output: [500, 12]\n",
      "\u001b[32m[1215 17:41:37 @registry.py:126]\u001b[0m gen/LSTM/travel_month/FC_input input: [500, 12]\n",
      "\u001b[32m[1215 17:41:37 @registry.py:134]\u001b[0m gen/LSTM/travel_month/FC_input output: [500, 100]\n",
      "\u001b[32m[1215 17:41:37 @DATSGANModel.py:213]\u001b[0m \u001b[91mCreating cell for fueltype (in-edges: 1; ancestors: 1)\n"
     ]
    },
    {
     "name": "stdout",
     "output_type": "stream",
     "text": [
      "\u001b[32m[1215 17:41:37 @registry.py:126]\u001b[0m gen/LSTM/fueltype/FC input: [500, 100]\n",
      "\u001b[32m[1215 17:41:37 @registry.py:134]\u001b[0m gen/LSTM/fueltype/FC output: [500, 50]\n",
      "\u001b[32m[1215 17:41:37 @registry.py:126]\u001b[0m gen/LSTM/fueltype/FC_prob input: [500, 50]\n",
      "\u001b[32m[1215 17:41:37 @registry.py:134]\u001b[0m gen/LSTM/fueltype/FC_prob output: [500, 6]\n",
      "\u001b[32m[1215 17:41:37 @registry.py:126]\u001b[0m gen/LSTM/fueltype/FC_input input: [500, 6]\n",
      "\u001b[32m[1215 17:41:37 @registry.py:134]\u001b[0m gen/LSTM/fueltype/FC_input output: [500, 100]\n",
      "\u001b[32m[1215 17:41:37 @DATSGANModel.py:213]\u001b[0m \u001b[91mCreating cell for driving_license (in-edges: 3; ancestors: 3)\n",
      "\u001b[32m[1215 17:41:37 @registry.py:126]\u001b[0m gen/LSTM/concat-driving_license/FC_inputs input: [500, 300]\n",
      "\u001b[32m[1215 17:41:37 @registry.py:134]\u001b[0m gen/LSTM/concat-driving_license/FC_inputs output: [500, 100]\n",
      "\u001b[32m[1215 17:41:37 @registry.py:126]\u001b[0m gen/LSTM/concat-driving_license/FC_states input: [500, 300]\n",
      "\u001b[32m[1215 17:41:37 @registry.py:134]\u001b[0m gen/LSTM/concat-driving_license/FC_states output: [500, 100]\n",
      "\u001b[32m[1215 17:41:37 @registry.py:126]\u001b[0m gen/LSTM/concat-driving_license/FC_h_outputs input: [500, 300]\n",
      "\u001b[32m[1215 17:41:37 @registry.py:134]\u001b[0m gen/LSTM/concat-driving_license/FC_h_outputs output: [500, 100]\n",
      "\u001b[32m[1215 17:41:37 @registry.py:126]\u001b[0m gen/LSTM/age-car_ownership-female/FC_noise input: [None, 600]\n",
      "\u001b[32m[1215 17:41:37 @registry.py:134]\u001b[0m gen/LSTM/age-car_ownership-female/FC_noise output: [None, 200]\n",
      "\u001b[32m[1215 17:41:37 @registry.py:126]\u001b[0m gen/LSTM/driving_license/FC input: [500, 100]\n",
      "\u001b[32m[1215 17:41:37 @registry.py:134]\u001b[0m gen/LSTM/driving_license/FC output: [500, 50]\n",
      "\u001b[32m[1215 17:41:37 @registry.py:126]\u001b[0m gen/LSTM/driving_license/FC_prob input: [500, 50]\n",
      "\u001b[32m[1215 17:41:37 @registry.py:134]\u001b[0m gen/LSTM/driving_license/FC_prob output: [500, 2]\n",
      "\u001b[32m[1215 17:41:37 @registry.py:126]\u001b[0m gen/LSTM/driving_license/FC_input input: [500, 2]\n",
      "\u001b[32m[1215 17:41:37 @registry.py:134]\u001b[0m gen/LSTM/driving_license/FC_input output: [500, 100]\n",
      "\u001b[32m[1215 17:41:37 @DATSGANModel.py:213]\u001b[0m \u001b[91mCreating cell for faretype (in-edges: 1; ancestors: 1)\n",
      "\u001b[32m[1215 17:41:37 @registry.py:126]\u001b[0m gen/LSTM/faretype/FC input: [500, 100]\n",
      "\u001b[32m[1215 17:41:37 @registry.py:134]\u001b[0m gen/LSTM/faretype/FC output: [500, 50]\n",
      "\u001b[32m[1215 17:41:37 @registry.py:126]\u001b[0m gen/LSTM/faretype/FC_prob input: [500, 50]\n",
      "\u001b[32m[1215 17:41:37 @registry.py:134]\u001b[0m gen/LSTM/faretype/FC_prob output: [500, 5]\n",
      "\u001b[32m[1215 17:41:37 @registry.py:126]\u001b[0m gen/LSTM/faretype/FC_input input: [500, 5]\n",
      "\u001b[32m[1215 17:41:37 @registry.py:134]\u001b[0m gen/LSTM/faretype/FC_input output: [500, 100]\n",
      "\u001b[32m[1215 17:41:37 @DATSGANModel.py:213]\u001b[0m \u001b[91mCreating cell for travel_date (in-edges: 1; ancestors: 2)\n",
      "\u001b[32m[1215 17:41:38 @registry.py:126]\u001b[0m gen/LSTM/travel_date/FC input: [500, 100]\n",
      "\u001b[32m[1215 17:41:38 @registry.py:134]\u001b[0m gen/LSTM/travel_date/FC output: [500, 50]\n",
      "\u001b[32m[1215 17:41:38 @registry.py:126]\u001b[0m gen/LSTM/travel_date/FC_prob input: [500, 50]\n",
      "\u001b[32m[1215 17:41:38 @registry.py:134]\u001b[0m gen/LSTM/travel_date/FC_prob output: [500, 31]\n",
      "\u001b[32m[1215 17:41:38 @registry.py:126]\u001b[0m gen/LSTM/travel_date/FC_input input: [500, 31]\n",
      "\u001b[32m[1215 17:41:38 @registry.py:134]\u001b[0m gen/LSTM/travel_date/FC_input output: [500, 100]\n",
      "\u001b[32m[1215 17:41:38 @DATSGANModel.py:213]\u001b[0m \u001b[91mCreating cell for bus_scale (in-edges: 2; ancestors: 2)\n",
      "\u001b[32m[1215 17:41:38 @registry.py:126]\u001b[0m gen/LSTM/concat-bus_scale/FC_inputs input: [500, 200]\n",
      "\u001b[32m[1215 17:41:38 @registry.py:134]\u001b[0m gen/LSTM/concat-bus_scale/FC_inputs output: [500, 100]\n",
      "\u001b[32m[1215 17:41:38 @registry.py:126]\u001b[0m gen/LSTM/concat-bus_scale/FC_states input: [500, 200]\n",
      "\u001b[32m[1215 17:41:38 @registry.py:134]\u001b[0m gen/LSTM/concat-bus_scale/FC_states output: [500, 100]\n",
      "\u001b[32m[1215 17:41:38 @registry.py:126]\u001b[0m gen/LSTM/concat-bus_scale/FC_h_outputs input: [500, 200]\n",
      "\u001b[32m[1215 17:41:38 @registry.py:134]\u001b[0m gen/LSTM/concat-bus_scale/FC_h_outputs output: [500, 100]\n",
      "\u001b[32m[1215 17:41:38 @registry.py:126]\u001b[0m gen/LSTM/bus_scale/FC input: [500, 100]\n",
      "\u001b[32m[1215 17:41:38 @registry.py:134]\u001b[0m gen/LSTM/bus_scale/FC output: [500, 50]\n",
      "\u001b[32m[1215 17:41:38 @registry.py:126]\u001b[0m gen/LSTM/bus_scale/FC_prob input: [500, 50]\n",
      "\u001b[32m[1215 17:41:38 @registry.py:134]\u001b[0m gen/LSTM/bus_scale/FC_prob output: [500, 3]\n",
      "\u001b[32m[1215 17:41:38 @registry.py:126]\u001b[0m gen/LSTM/bus_scale/FC_input input: [500, 3]\n",
      "\u001b[32m[1215 17:41:38 @registry.py:134]\u001b[0m gen/LSTM/bus_scale/FC_input output: [500, 100]\n",
      "\u001b[32m[1215 17:41:38 @DATSGANModel.py:213]\u001b[0m \u001b[91mCreating cell for day_of_week (in-edges: 2; ancestors: 3)\n",
      "\u001b[32m[1215 17:41:38 @registry.py:126]\u001b[0m gen/LSTM/concat-day_of_week/FC_inputs input: [500, 200]\n",
      "\u001b[32m[1215 17:41:38 @registry.py:134]\u001b[0m gen/LSTM/concat-day_of_week/FC_inputs output: [500, 100]\n",
      "\u001b[32m[1215 17:41:38 @registry.py:126]\u001b[0m gen/LSTM/concat-day_of_week/FC_states input: [500, 200]\n",
      "\u001b[32m[1215 17:41:38 @registry.py:134]\u001b[0m gen/LSTM/concat-day_of_week/FC_states output: [500, 100]\n",
      "\u001b[32m[1215 17:41:38 @registry.py:126]\u001b[0m gen/LSTM/concat-day_of_week/FC_h_outputs input: [500, 200]\n",
      "\u001b[32m[1215 17:41:38 @registry.py:134]\u001b[0m gen/LSTM/concat-day_of_week/FC_h_outputs output: [500, 100]\n",
      "\u001b[32m[1215 17:41:38 @registry.py:126]\u001b[0m gen/LSTM/day_of_week/FC input: [500, 100]\n",
      "\u001b[32m[1215 17:41:38 @registry.py:134]\u001b[0m gen/LSTM/day_of_week/FC output: [500, 50]\n",
      "\u001b[32m[1215 17:41:38 @registry.py:126]\u001b[0m gen/LSTM/day_of_week/FC_prob input: [500, 50]\n",
      "\u001b[32m[1215 17:41:38 @registry.py:134]\u001b[0m gen/LSTM/day_of_week/FC_prob output: [500, 7]\n",
      "\u001b[32m[1215 17:41:38 @registry.py:126]\u001b[0m gen/LSTM/day_of_week/FC_input input: [500, 7]\n",
      "\u001b[32m[1215 17:41:38 @registry.py:134]\u001b[0m gen/LSTM/day_of_week/FC_input output: [500, 100]\n",
      "\u001b[32m[1215 17:41:38 @DATSGANModel.py:213]\u001b[0m \u001b[91mCreating cell for purpose (in-edges: 1; ancestors: 4)\n",
      "\u001b[32m[1215 17:41:38 @registry.py:126]\u001b[0m gen/LSTM/purpose/FC input: [500, 100]\n",
      "\u001b[32m[1215 17:41:38 @registry.py:134]\u001b[0m gen/LSTM/purpose/FC output: [500, 50]\n",
      "\u001b[32m[1215 17:41:38 @registry.py:126]\u001b[0m gen/LSTM/purpose/FC_prob input: [500, 50]\n",
      "\u001b[32m[1215 17:41:38 @registry.py:134]\u001b[0m gen/LSTM/purpose/FC_prob output: [500, 5]\n",
      "\u001b[32m[1215 17:41:38 @registry.py:126]\u001b[0m gen/LSTM/purpose/FC_input input: [500, 5]\n",
      "\u001b[32m[1215 17:41:38 @registry.py:134]\u001b[0m gen/LSTM/purpose/FC_input output: [500, 100]\n",
      "\u001b[32m[1215 17:41:38 @DATSGANModel.py:213]\u001b[0m \u001b[91mCreating cell for start_time_linear (in-edges: 2; ancestors: 5)\n",
      "\u001b[32m[1215 17:41:38 @registry.py:126]\u001b[0m gen/LSTM/concat-start_time_linear/FC_inputs input: [500, 200]\n",
      "\u001b[32m[1215 17:41:38 @registry.py:134]\u001b[0m gen/LSTM/concat-start_time_linear/FC_inputs output: [500, 100]\n",
      "\u001b[32m[1215 17:41:38 @registry.py:126]\u001b[0m gen/LSTM/concat-start_time_linear/FC_states input: [500, 200]\n",
      "\u001b[32m[1215 17:41:38 @registry.py:134]\u001b[0m gen/LSTM/concat-start_time_linear/FC_states output: [500, 100]\n",
      "\u001b[32m[1215 17:41:38 @registry.py:126]\u001b[0m gen/LSTM/concat-start_time_linear/FC_h_outputs input: [500, 200]\n",
      "\u001b[32m[1215 17:41:38 @registry.py:134]\u001b[0m gen/LSTM/concat-start_time_linear/FC_h_outputs output: [500, 100]\n",
      "\u001b[32m[1215 17:41:38 @registry.py:126]\u001b[0m gen/LSTM/start_time_linear/FC input: [500, 100]\n",
      "\u001b[32m[1215 17:41:38 @registry.py:134]\u001b[0m gen/LSTM/start_time_linear/FC output: [500, 50]\n",
      "\u001b[32m[1215 17:41:38 @registry.py:126]\u001b[0m gen/LSTM/start_time_linear/FC_val input: [500, 50]\n",
      "\u001b[32m[1215 17:41:38 @registry.py:134]\u001b[0m gen/LSTM/start_time_linear/FC_val output: [500, 6]\n",
      "\u001b[32m[1215 17:41:38 @registry.py:126]\u001b[0m gen/LSTM/start_time_linear/FC_prob input: [500, 50]\n",
      "\u001b[32m[1215 17:41:38 @registry.py:134]\u001b[0m gen/LSTM/start_time_linear/FC_prob output: [500, 6]\n",
      "\u001b[32m[1215 17:41:38 @registry.py:126]\u001b[0m gen/LSTM/start_time_linear/FC_input input: [500, 12]\n",
      "\u001b[32m[1215 17:41:38 @registry.py:134]\u001b[0m gen/LSTM/start_time_linear/FC_input output: [500, 100]\n",
      "\u001b[32m[1215 17:41:38 @DATSGANModel.py:213]\u001b[0m \u001b[91mCreating cell for distance (in-edges: 1; ancestors: 5)\n",
      "\u001b[32m[1215 17:41:38 @registry.py:126]\u001b[0m gen/LSTM/distance/FC input: [500, 100]\n",
      "\u001b[32m[1215 17:41:38 @registry.py:134]\u001b[0m gen/LSTM/distance/FC output: [500, 50]\n",
      "\u001b[32m[1215 17:41:38 @registry.py:126]\u001b[0m gen/LSTM/distance/FC_val input: [500, 50]\n",
      "\u001b[32m[1215 17:41:38 @registry.py:134]\u001b[0m gen/LSTM/distance/FC_val output: [500, 7]\n"
     ]
    },
    {
     "name": "stdout",
     "output_type": "stream",
     "text": [
      "\u001b[32m[1215 17:41:38 @registry.py:126]\u001b[0m gen/LSTM/distance/FC_prob input: [500, 50]\n",
      "\u001b[32m[1215 17:41:38 @registry.py:134]\u001b[0m gen/LSTM/distance/FC_prob output: [500, 7]\n",
      "\u001b[32m[1215 17:41:38 @registry.py:126]\u001b[0m gen/LSTM/distance/FC_input input: [500, 14]\n",
      "\u001b[32m[1215 17:41:38 @registry.py:134]\u001b[0m gen/LSTM/distance/FC_input output: [500, 100]\n",
      "\u001b[32m[1215 17:41:38 @DATSGANModel.py:213]\u001b[0m \u001b[91mCreating cell for driving_traffic_percent (in-edges: 3; ancestors: 6)\n",
      "\u001b[32m[1215 17:41:38 @registry.py:126]\u001b[0m gen/LSTM/concat-driving_traffic_percent/FC_inputs input: [500, 300]\n",
      "\u001b[32m[1215 17:41:38 @registry.py:134]\u001b[0m gen/LSTM/concat-driving_traffic_percent/FC_inputs output: [500, 100]\n",
      "\u001b[32m[1215 17:41:38 @registry.py:126]\u001b[0m gen/LSTM/concat-driving_traffic_percent/FC_states input: [500, 300]\n",
      "\u001b[32m[1215 17:41:38 @registry.py:134]\u001b[0m gen/LSTM/concat-driving_traffic_percent/FC_states output: [500, 100]\n",
      "\u001b[32m[1215 17:41:38 @registry.py:126]\u001b[0m gen/LSTM/concat-driving_traffic_percent/FC_h_outputs input: [500, 300]\n",
      "\u001b[32m[1215 17:41:38 @registry.py:134]\u001b[0m gen/LSTM/concat-driving_traffic_percent/FC_h_outputs output: [500, 100]\n",
      "\u001b[32m[1215 17:41:38 @registry.py:126]\u001b[0m gen/LSTM/driving_traffic_percent/FC input: [500, 100]\n",
      "\u001b[32m[1215 17:41:38 @registry.py:134]\u001b[0m gen/LSTM/driving_traffic_percent/FC output: [500, 50]\n",
      "\u001b[32m[1215 17:41:38 @registry.py:126]\u001b[0m gen/LSTM/driving_traffic_percent/FC_val input: [500, 50]\n",
      "\u001b[32m[1215 17:41:38 @registry.py:134]\u001b[0m gen/LSTM/driving_traffic_percent/FC_val output: [500, 6]\n",
      "\u001b[32m[1215 17:41:38 @registry.py:126]\u001b[0m gen/LSTM/driving_traffic_percent/FC_prob input: [500, 50]\n",
      "\u001b[32m[1215 17:41:38 @registry.py:134]\u001b[0m gen/LSTM/driving_traffic_percent/FC_prob output: [500, 6]\n",
      "\u001b[32m[1215 17:41:38 @registry.py:126]\u001b[0m gen/LSTM/driving_traffic_percent/FC_input input: [500, 12]\n",
      "\u001b[32m[1215 17:41:38 @registry.py:134]\u001b[0m gen/LSTM/driving_traffic_percent/FC_input output: [500, 100]\n",
      "\u001b[32m[1215 17:41:38 @DATSGANModel.py:213]\u001b[0m \u001b[91mCreating cell for cost_driving_fuel (in-edges: 2; ancestors: 8)\n",
      "\u001b[32m[1215 17:41:38 @registry.py:126]\u001b[0m gen/LSTM/concat-cost_driving_fuel/FC_inputs input: [500, 200]\n",
      "\u001b[32m[1215 17:41:38 @registry.py:134]\u001b[0m gen/LSTM/concat-cost_driving_fuel/FC_inputs output: [500, 100]\n",
      "\u001b[32m[1215 17:41:38 @registry.py:126]\u001b[0m gen/LSTM/concat-cost_driving_fuel/FC_states input: [500, 200]\n",
      "\u001b[32m[1215 17:41:38 @registry.py:134]\u001b[0m gen/LSTM/concat-cost_driving_fuel/FC_states output: [500, 100]\n",
      "\u001b[32m[1215 17:41:38 @registry.py:126]\u001b[0m gen/LSTM/concat-cost_driving_fuel/FC_h_outputs input: [500, 200]\n",
      "\u001b[32m[1215 17:41:38 @registry.py:134]\u001b[0m gen/LSTM/concat-cost_driving_fuel/FC_h_outputs output: [500, 100]\n",
      "\u001b[32m[1215 17:41:38 @registry.py:126]\u001b[0m gen/LSTM/car_ownership-travel_year/FC_noise input: [None, 400]\n",
      "\u001b[32m[1215 17:41:38 @registry.py:134]\u001b[0m gen/LSTM/car_ownership-travel_year/FC_noise output: [None, 200]\n",
      "\u001b[32m[1215 17:41:38 @registry.py:126]\u001b[0m gen/LSTM/cost_driving_fuel/FC input: [500, 100]\n",
      "\u001b[32m[1215 17:41:38 @registry.py:134]\u001b[0m gen/LSTM/cost_driving_fuel/FC output: [500, 50]\n",
      "\u001b[32m[1215 17:41:38 @registry.py:126]\u001b[0m gen/LSTM/cost_driving_fuel/FC_val input: [500, 50]\n",
      "\u001b[32m[1215 17:41:38 @registry.py:134]\u001b[0m gen/LSTM/cost_driving_fuel/FC_val output: [500, 5]\n",
      "\u001b[32m[1215 17:41:38 @registry.py:126]\u001b[0m gen/LSTM/cost_driving_fuel/FC_prob input: [500, 50]\n",
      "\u001b[32m[1215 17:41:38 @registry.py:134]\u001b[0m gen/LSTM/cost_driving_fuel/FC_prob output: [500, 5]\n",
      "\u001b[32m[1215 17:41:38 @registry.py:126]\u001b[0m gen/LSTM/cost_driving_fuel/FC_input input: [500, 10]\n",
      "\u001b[32m[1215 17:41:38 @registry.py:134]\u001b[0m gen/LSTM/cost_driving_fuel/FC_input output: [500, 100]\n",
      "\u001b[32m[1215 17:41:38 @DATSGANModel.py:213]\u001b[0m \u001b[91mCreating cell for dur_driving (in-edges: 1; ancestors: 6)\n",
      "\u001b[32m[1215 17:41:38 @registry.py:126]\u001b[0m gen/LSTM/dur_driving/FC input: [500, 100]\n",
      "\u001b[32m[1215 17:41:38 @registry.py:134]\u001b[0m gen/LSTM/dur_driving/FC output: [500, 50]\n",
      "\u001b[32m[1215 17:41:38 @registry.py:126]\u001b[0m gen/LSTM/dur_driving/FC_val input: [500, 50]\n",
      "\u001b[32m[1215 17:41:38 @registry.py:134]\u001b[0m gen/LSTM/dur_driving/FC_val output: [500, 6]\n",
      "\u001b[32m[1215 17:41:38 @registry.py:126]\u001b[0m gen/LSTM/dur_driving/FC_prob input: [500, 50]\n",
      "\u001b[32m[1215 17:41:38 @registry.py:134]\u001b[0m gen/LSTM/dur_driving/FC_prob output: [500, 6]\n",
      "\u001b[32m[1215 17:41:38 @registry.py:126]\u001b[0m gen/LSTM/dur_driving/FC_input input: [500, 12]\n",
      "\u001b[32m[1215 17:41:38 @registry.py:134]\u001b[0m gen/LSTM/dur_driving/FC_input output: [500, 100]\n",
      "\u001b[32m[1215 17:41:38 @DATSGANModel.py:213]\u001b[0m \u001b[91mCreating cell for dur_walking (in-edges: 1; ancestors: 6)\n",
      "\u001b[32m[1215 17:41:38 @registry.py:126]\u001b[0m gen/LSTM/dur_walking/FC input: [500, 100]\n",
      "\u001b[32m[1215 17:41:38 @registry.py:134]\u001b[0m gen/LSTM/dur_walking/FC output: [500, 50]\n",
      "\u001b[32m[1215 17:41:38 @registry.py:126]\u001b[0m gen/LSTM/dur_walking/FC_val input: [500, 50]\n",
      "\u001b[32m[1215 17:41:38 @registry.py:134]\u001b[0m gen/LSTM/dur_walking/FC_val output: [500, 6]\n",
      "\u001b[32m[1215 17:41:38 @registry.py:126]\u001b[0m gen/LSTM/dur_walking/FC_prob input: [500, 50]\n",
      "\u001b[32m[1215 17:41:38 @registry.py:134]\u001b[0m gen/LSTM/dur_walking/FC_prob output: [500, 6]\n",
      "\u001b[32m[1215 17:41:38 @registry.py:126]\u001b[0m gen/LSTM/dur_walking/FC_input input: [500, 12]\n",
      "\u001b[32m[1215 17:41:38 @registry.py:134]\u001b[0m gen/LSTM/dur_walking/FC_input output: [500, 100]\n",
      "\u001b[32m[1215 17:41:38 @DATSGANModel.py:213]\u001b[0m \u001b[91mCreating cell for dur_cycling (in-edges: 1; ancestors: 6)\n",
      "\u001b[32m[1215 17:41:38 @registry.py:126]\u001b[0m gen/LSTM/dur_cycling/FC input: [500, 100]\n",
      "\u001b[32m[1215 17:41:38 @registry.py:134]\u001b[0m gen/LSTM/dur_cycling/FC output: [500, 50]\n",
      "\u001b[32m[1215 17:41:38 @registry.py:126]\u001b[0m gen/LSTM/dur_cycling/FC_val input: [500, 50]\n",
      "\u001b[32m[1215 17:41:38 @registry.py:134]\u001b[0m gen/LSTM/dur_cycling/FC_val output: [500, 5]\n",
      "\u001b[32m[1215 17:41:38 @registry.py:126]\u001b[0m gen/LSTM/dur_cycling/FC_prob input: [500, 50]\n",
      "\u001b[32m[1215 17:41:38 @registry.py:134]\u001b[0m gen/LSTM/dur_cycling/FC_prob output: [500, 5]\n",
      "\u001b[32m[1215 17:41:38 @registry.py:126]\u001b[0m gen/LSTM/dur_cycling/FC_input input: [500, 10]\n",
      "\u001b[32m[1215 17:41:38 @registry.py:134]\u001b[0m gen/LSTM/dur_cycling/FC_input output: [500, 100]\n",
      "\u001b[32m[1215 17:41:38 @DATSGANModel.py:213]\u001b[0m \u001b[91mCreating cell for dur_pt_access (in-edges: 1; ancestors: 6)\n",
      "\u001b[32m[1215 17:41:39 @registry.py:126]\u001b[0m gen/LSTM/dur_pt_access/FC input: [500, 100]\n",
      "\u001b[32m[1215 17:41:39 @registry.py:134]\u001b[0m gen/LSTM/dur_pt_access/FC output: [500, 50]\n",
      "\u001b[32m[1215 17:41:39 @registry.py:126]\u001b[0m gen/LSTM/dur_pt_access/FC_val input: [500, 50]\n",
      "\u001b[32m[1215 17:41:39 @registry.py:134]\u001b[0m gen/LSTM/dur_pt_access/FC_val output: [500, 5]\n",
      "\u001b[32m[1215 17:41:39 @registry.py:126]\u001b[0m gen/LSTM/dur_pt_access/FC_prob input: [500, 50]\n",
      "\u001b[32m[1215 17:41:39 @registry.py:134]\u001b[0m gen/LSTM/dur_pt_access/FC_prob output: [500, 5]\n",
      "\u001b[32m[1215 17:41:39 @registry.py:126]\u001b[0m gen/LSTM/dur_pt_access/FC_input input: [500, 10]\n",
      "\u001b[32m[1215 17:41:39 @registry.py:134]\u001b[0m gen/LSTM/dur_pt_access/FC_input output: [500, 100]\n",
      "\u001b[32m[1215 17:41:39 @DATSGANModel.py:213]\u001b[0m \u001b[91mCreating cell for pt_n_interchanges (in-edges: 1; ancestors: 6)\n",
      "\u001b[32m[1215 17:41:39 @registry.py:126]\u001b[0m gen/LSTM/pt_n_interchanges/FC input: [500, 100]\n",
      "\u001b[32m[1215 17:41:39 @registry.py:134]\u001b[0m gen/LSTM/pt_n_interchanges/FC output: [500, 50]\n",
      "\u001b[32m[1215 17:41:39 @registry.py:126]\u001b[0m gen/LSTM/pt_n_interchanges/FC_prob input: [500, 50]\n",
      "\u001b[32m[1215 17:41:39 @registry.py:134]\u001b[0m gen/LSTM/pt_n_interchanges/FC_prob output: [500, 5]\n",
      "\u001b[32m[1215 17:41:39 @registry.py:126]\u001b[0m gen/LSTM/pt_n_interchanges/FC_input input: [500, 5]\n",
      "\u001b[32m[1215 17:41:39 @registry.py:134]\u001b[0m gen/LSTM/pt_n_interchanges/FC_input output: [500, 100]\n",
      "\u001b[32m[1215 17:41:39 @DATSGANModel.py:213]\u001b[0m \u001b[91mCreating cell for cost_driving_con_charge (in-edges: 5; ancestors: 11)\n",
      "\u001b[32m[1215 17:41:39 @registry.py:126]\u001b[0m gen/LSTM/concat-cost_driving_con_charge/FC_inputs input: [500, 500]\n",
      "\u001b[32m[1215 17:41:39 @registry.py:134]\u001b[0m gen/LSTM/concat-cost_driving_con_charge/FC_inputs output: [500, 100]\n",
      "\u001b[32m[1215 17:41:39 @registry.py:126]\u001b[0m gen/LSTM/concat-cost_driving_con_charge/FC_states input: [500, 500]\n",
      "\u001b[32m[1215 17:41:39 @registry.py:134]\u001b[0m gen/LSTM/concat-cost_driving_con_charge/FC_states output: [500, 100]\n",
      "\u001b[32m[1215 17:41:39 @registry.py:126]\u001b[0m gen/LSTM/concat-cost_driving_con_charge/FC_h_outputs input: [500, 500]\n"
     ]
    },
    {
     "name": "stdout",
     "output_type": "stream",
     "text": [
      "\u001b[32m[1215 17:41:39 @registry.py:134]\u001b[0m gen/LSTM/concat-cost_driving_con_charge/FC_h_outputs output: [500, 100]\n",
      "\u001b[32m[1215 17:41:39 @registry.py:126]\u001b[0m gen/LSTM/cost_driving_con_charge/FC input: [500, 100]\n",
      "\u001b[32m[1215 17:41:39 @registry.py:134]\u001b[0m gen/LSTM/cost_driving_con_charge/FC output: [500, 50]\n",
      "\u001b[32m[1215 17:41:39 @registry.py:126]\u001b[0m gen/LSTM/cost_driving_con_charge/FC_prob input: [500, 50]\n",
      "\u001b[32m[1215 17:41:39 @registry.py:134]\u001b[0m gen/LSTM/cost_driving_con_charge/FC_prob output: [500, 2]\n",
      "\u001b[32m[1215 17:41:39 @registry.py:126]\u001b[0m gen/LSTM/cost_driving_con_charge/FC_input input: [500, 2]\n",
      "\u001b[32m[1215 17:41:39 @registry.py:134]\u001b[0m gen/LSTM/cost_driving_con_charge/FC_input output: [500, 100]\n",
      "\u001b[32m[1215 17:41:39 @DATSGANModel.py:213]\u001b[0m \u001b[91mCreating cell for dur_pt_rail (in-edges: 2; ancestors: 7)\n",
      "\u001b[32m[1215 17:41:39 @registry.py:126]\u001b[0m gen/LSTM/concat-dur_pt_rail/FC_inputs input: [500, 200]\n",
      "\u001b[32m[1215 17:41:39 @registry.py:134]\u001b[0m gen/LSTM/concat-dur_pt_rail/FC_inputs output: [500, 100]\n",
      "\u001b[32m[1215 17:41:39 @registry.py:126]\u001b[0m gen/LSTM/concat-dur_pt_rail/FC_states input: [500, 200]\n",
      "\u001b[32m[1215 17:41:39 @registry.py:134]\u001b[0m gen/LSTM/concat-dur_pt_rail/FC_states output: [500, 100]\n",
      "\u001b[32m[1215 17:41:39 @registry.py:126]\u001b[0m gen/LSTM/concat-dur_pt_rail/FC_h_outputs input: [500, 200]\n",
      "\u001b[32m[1215 17:41:39 @registry.py:134]\u001b[0m gen/LSTM/concat-dur_pt_rail/FC_h_outputs output: [500, 100]\n",
      "\u001b[32m[1215 17:41:39 @registry.py:126]\u001b[0m gen/LSTM/dur_pt_rail/FC input: [500, 100]\n",
      "\u001b[32m[1215 17:41:39 @registry.py:134]\u001b[0m gen/LSTM/dur_pt_rail/FC output: [500, 50]\n",
      "\u001b[32m[1215 17:41:39 @registry.py:126]\u001b[0m gen/LSTM/dur_pt_rail/FC_val input: [500, 50]\n",
      "\u001b[32m[1215 17:41:39 @registry.py:134]\u001b[0m gen/LSTM/dur_pt_rail/FC_val output: [500, 6]\n",
      "\u001b[32m[1215 17:41:39 @registry.py:126]\u001b[0m gen/LSTM/dur_pt_rail/FC_prob input: [500, 50]\n",
      "\u001b[32m[1215 17:41:39 @registry.py:134]\u001b[0m gen/LSTM/dur_pt_rail/FC_prob output: [500, 6]\n",
      "\u001b[32m[1215 17:41:39 @registry.py:126]\u001b[0m gen/LSTM/dur_pt_rail/FC_input input: [500, 12]\n",
      "\u001b[32m[1215 17:41:39 @registry.py:134]\u001b[0m gen/LSTM/dur_pt_rail/FC_input output: [500, 100]\n",
      "\u001b[32m[1215 17:41:39 @DATSGANModel.py:213]\u001b[0m \u001b[91mCreating cell for dur_pt_bus (in-edges: 2; ancestors: 7)\n",
      "\u001b[32m[1215 17:41:39 @registry.py:126]\u001b[0m gen/LSTM/concat-dur_pt_bus/FC_inputs input: [500, 200]\n",
      "\u001b[32m[1215 17:41:39 @registry.py:134]\u001b[0m gen/LSTM/concat-dur_pt_bus/FC_inputs output: [500, 100]\n",
      "\u001b[32m[1215 17:41:39 @registry.py:126]\u001b[0m gen/LSTM/concat-dur_pt_bus/FC_states input: [500, 200]\n",
      "\u001b[32m[1215 17:41:39 @registry.py:134]\u001b[0m gen/LSTM/concat-dur_pt_bus/FC_states output: [500, 100]\n",
      "\u001b[32m[1215 17:41:39 @registry.py:126]\u001b[0m gen/LSTM/concat-dur_pt_bus/FC_h_outputs input: [500, 200]\n",
      "\u001b[32m[1215 17:41:39 @registry.py:134]\u001b[0m gen/LSTM/concat-dur_pt_bus/FC_h_outputs output: [500, 100]\n",
      "\u001b[32m[1215 17:41:39 @registry.py:126]\u001b[0m gen/LSTM/dur_pt_bus/FC input: [500, 100]\n",
      "\u001b[32m[1215 17:41:39 @registry.py:134]\u001b[0m gen/LSTM/dur_pt_bus/FC output: [500, 50]\n",
      "\u001b[32m[1215 17:41:39 @registry.py:126]\u001b[0m gen/LSTM/dur_pt_bus/FC_val input: [500, 50]\n",
      "\u001b[32m[1215 17:41:39 @registry.py:134]\u001b[0m gen/LSTM/dur_pt_bus/FC_val output: [500, 6]\n",
      "\u001b[32m[1215 17:41:39 @registry.py:126]\u001b[0m gen/LSTM/dur_pt_bus/FC_prob input: [500, 50]\n",
      "\u001b[32m[1215 17:41:39 @registry.py:134]\u001b[0m gen/LSTM/dur_pt_bus/FC_prob output: [500, 6]\n",
      "\u001b[32m[1215 17:41:39 @registry.py:126]\u001b[0m gen/LSTM/dur_pt_bus/FC_input input: [500, 12]\n",
      "\u001b[32m[1215 17:41:39 @registry.py:134]\u001b[0m gen/LSTM/dur_pt_bus/FC_input output: [500, 100]\n",
      "\u001b[32m[1215 17:41:39 @DATSGANModel.py:213]\u001b[0m \u001b[91mCreating cell for dur_pt_int (in-edges: 2; ancestors: 7)\n",
      "\u001b[32m[1215 17:41:39 @registry.py:126]\u001b[0m gen/LSTM/concat-dur_pt_int/FC_inputs input: [500, 200]\n",
      "\u001b[32m[1215 17:41:39 @registry.py:134]\u001b[0m gen/LSTM/concat-dur_pt_int/FC_inputs output: [500, 100]\n",
      "\u001b[32m[1215 17:41:39 @registry.py:126]\u001b[0m gen/LSTM/concat-dur_pt_int/FC_states input: [500, 200]\n",
      "\u001b[32m[1215 17:41:39 @registry.py:134]\u001b[0m gen/LSTM/concat-dur_pt_int/FC_states output: [500, 100]\n",
      "\u001b[32m[1215 17:41:39 @registry.py:126]\u001b[0m gen/LSTM/concat-dur_pt_int/FC_h_outputs input: [500, 200]\n",
      "\u001b[32m[1215 17:41:39 @registry.py:134]\u001b[0m gen/LSTM/concat-dur_pt_int/FC_h_outputs output: [500, 100]\n",
      "\u001b[32m[1215 17:41:39 @registry.py:126]\u001b[0m gen/LSTM/dur_pt_int/FC input: [500, 100]\n",
      "\u001b[32m[1215 17:41:39 @registry.py:134]\u001b[0m gen/LSTM/dur_pt_int/FC output: [500, 50]\n",
      "\u001b[32m[1215 17:41:39 @registry.py:126]\u001b[0m gen/LSTM/dur_pt_int/FC_val input: [500, 50]\n",
      "\u001b[32m[1215 17:41:39 @registry.py:134]\u001b[0m gen/LSTM/dur_pt_int/FC_val output: [500, 4]\n",
      "\u001b[32m[1215 17:41:39 @registry.py:126]\u001b[0m gen/LSTM/dur_pt_int/FC_prob input: [500, 50]\n",
      "\u001b[32m[1215 17:41:39 @registry.py:134]\u001b[0m gen/LSTM/dur_pt_int/FC_prob output: [500, 4]\n",
      "\u001b[32m[1215 17:41:39 @registry.py:126]\u001b[0m gen/LSTM/dur_pt_int/FC_input input: [500, 8]\n",
      "\u001b[32m[1215 17:41:39 @registry.py:134]\u001b[0m gen/LSTM/dur_pt_int/FC_input output: [500, 100]\n",
      "\u001b[32m[1215 17:41:39 @DATSGANModel.py:213]\u001b[0m \u001b[91mCreating cell for cost_transit (in-edges: 5; ancestors: 12)\n",
      "\u001b[32m[1215 17:41:39 @registry.py:126]\u001b[0m gen/LSTM/concat-cost_transit/FC_inputs input: [500, 500]\n",
      "\u001b[32m[1215 17:41:39 @registry.py:134]\u001b[0m gen/LSTM/concat-cost_transit/FC_inputs output: [500, 100]\n",
      "\u001b[32m[1215 17:41:39 @registry.py:126]\u001b[0m gen/LSTM/concat-cost_transit/FC_states input: [500, 500]\n",
      "\u001b[32m[1215 17:41:39 @registry.py:134]\u001b[0m gen/LSTM/concat-cost_transit/FC_states output: [500, 100]\n",
      "\u001b[32m[1215 17:41:39 @registry.py:126]\u001b[0m gen/LSTM/concat-cost_transit/FC_h_outputs input: [500, 500]\n",
      "\u001b[32m[1215 17:41:39 @registry.py:134]\u001b[0m gen/LSTM/concat-cost_transit/FC_h_outputs output: [500, 100]\n",
      "\u001b[32m[1215 17:41:39 @registry.py:126]\u001b[0m gen/LSTM/age-travel_year/FC_noise input: [None, 400]\n",
      "\u001b[32m[1215 17:41:39 @registry.py:134]\u001b[0m gen/LSTM/age-travel_year/FC_noise output: [None, 200]\n",
      "\u001b[32m[1215 17:41:39 @registry.py:126]\u001b[0m gen/LSTM/cost_transit/FC input: [500, 100]\n",
      "\u001b[32m[1215 17:41:39 @registry.py:134]\u001b[0m gen/LSTM/cost_transit/FC output: [500, 50]\n",
      "\u001b[32m[1215 17:41:39 @registry.py:126]\u001b[0m gen/LSTM/cost_transit/FC_val input: [500, 50]\n",
      "\u001b[32m[1215 17:41:39 @registry.py:134]\u001b[0m gen/LSTM/cost_transit/FC_val output: [500, 8]\n",
      "\u001b[32m[1215 17:41:39 @registry.py:126]\u001b[0m gen/LSTM/cost_transit/FC_prob input: [500, 50]\n",
      "\u001b[32m[1215 17:41:39 @registry.py:134]\u001b[0m gen/LSTM/cost_transit/FC_prob output: [500, 8]\n",
      "\u001b[32m[1215 17:41:39 @registry.py:126]\u001b[0m gen/LSTM/cost_transit/FC_input input: [500, 16]\n",
      "\u001b[32m[1215 17:41:39 @registry.py:134]\u001b[0m gen/LSTM/cost_transit/FC_input output: [500, 100]\n",
      "\u001b[32m[1215 17:41:39 @DATSGANModel.py:213]\u001b[0m \u001b[91mCreating cell for travel_mode (in-edges: 21; ancestors: 26)\n",
      "\u001b[32m[1215 17:41:39 @registry.py:126]\u001b[0m gen/LSTM/concat-travel_mode/FC_inputs input: [500, 2100]\n",
      "\u001b[32m[1215 17:41:39 @registry.py:134]\u001b[0m gen/LSTM/concat-travel_mode/FC_inputs output: [500, 100]\n",
      "\u001b[32m[1215 17:41:39 @registry.py:126]\u001b[0m gen/LSTM/concat-travel_mode/FC_states input: [500, 2100]\n",
      "\u001b[32m[1215 17:41:39 @registry.py:134]\u001b[0m gen/LSTM/concat-travel_mode/FC_states output: [500, 100]\n",
      "\u001b[32m[1215 17:41:39 @registry.py:126]\u001b[0m gen/LSTM/concat-travel_mode/FC_h_outputs input: [500, 2100]\n",
      "\u001b[32m[1215 17:41:39 @registry.py:134]\u001b[0m gen/LSTM/concat-travel_mode/FC_h_outputs output: [500, 100]\n",
      "\u001b[32m[1215 17:41:39 @registry.py:126]\u001b[0m gen/LSTM/age-car_ownership-female-travel_year/FC_noise input: [None, 800]\n",
      "\u001b[32m[1215 17:41:39 @registry.py:134]\u001b[0m gen/LSTM/age-car_ownership-female-travel_year/FC_noise output: [None, 200]\n",
      "\u001b[32m[1215 17:41:39 @registry.py:126]\u001b[0m gen/LSTM/travel_mode/FC input: [500, 100]\n",
      "\u001b[32m[1215 17:41:39 @registry.py:134]\u001b[0m gen/LSTM/travel_mode/FC output: [500, 50]\n",
      "\u001b[32m[1215 17:41:39 @registry.py:126]\u001b[0m gen/LSTM/travel_mode/FC_prob input: [500, 50]\n",
      "\u001b[32m[1215 17:41:39 @registry.py:134]\u001b[0m gen/LSTM/travel_mode/FC_prob output: [500, 4]\n",
      "\u001b[32m[1215 17:41:39 @registry.py:126]\u001b[0m gen/LSTM/travel_mode/FC_input input: [500, 4]\n",
      "\u001b[32m[1215 17:41:39 @registry.py:134]\u001b[0m gen/LSTM/travel_mode/FC_input output: [500, 100]\n",
      "WARNING:tensorflow:From C:\\Users\\glede\\Documents\\EPFL\\PhD\\SynthPop\\code\\modules\\datgan\\models\\DATSGANModel.py:542: The name tf.random_uniform is deprecated. Please use tf.random.uniform instead.\n",
      "\n",
      "WARNING:tensorflow:From C:\\Users\\glede\\Documents\\EPFL\\PhD\\SynthPop\\code\\modules\\datgan\\models\\DATSGANModel.py:479: The name tf.log is deprecated. Please use tf.math.log instead.\n",
      "\n"
     ]
    },
    {
     "name": "stdout",
     "output_type": "stream",
     "text": [
      "\u001b[32m[1215 17:41:40 @registry.py:126]\u001b[0m discrim/discrim/dis_fc0/fc input: [500, 243]\n",
      "\u001b[32m[1215 17:41:40 @registry.py:134]\u001b[0m discrim/discrim/dis_fc0/fc output: [500, 100]\n",
      "\u001b[32m[1215 17:41:40 @registry.py:126]\u001b[0m discrim/discrim/dis_fc0/FC_DIVERSITY input: [500, 100]\n",
      "\u001b[32m[1215 17:41:40 @registry.py:134]\u001b[0m discrim/discrim/dis_fc0/FC_DIVERSITY output: [500, 100]\n",
      "\u001b[32m[1215 17:41:40 @registry.py:126]\u001b[0m discrim/discrim/dis_fc_top input: [500, 110]\n",
      "\u001b[32m[1215 17:41:40 @registry.py:134]\u001b[0m discrim/discrim/dis_fc_top output: [500, 1]\n",
      "WARNING:tensorflow:From D:\\Users\\glede\\anaconda3\\envs\\py37\\lib\\site-packages\\tensorpack\\tfutils\\collection.py:45: The name tf.get_collection_ref is deprecated. Please use tf.compat.v1.get_collection_ref instead.\n",
      "\n",
      "WARNING:tensorflow:From D:\\Users\\glede\\anaconda3\\envs\\py37\\lib\\site-packages\\tensorpack\\tfutils\\sessinit.py:120: The name tf.train.NewCheckpointReader is deprecated. Please use tf.compat.v1.train.NewCheckpointReader instead.\n",
      "\n",
      "WARNING:tensorflow:From D:\\Users\\glede\\anaconda3\\envs\\py37\\lib\\site-packages\\tensorpack\\tfutils\\sessinit.py:127: The name tf.global_variables is deprecated. Please use tf.compat.v1.global_variables instead.\n",
      "\n",
      "\u001b[32m[1215 17:41:40 @sessinit.py:87]\u001b[0m \u001b[5m\u001b[31mWRN\u001b[0m The following variables are in the checkpoint, but not found in the graph: global_step, optimize/beta1_power, optimize/beta2_power\n",
      "WARNING:tensorflow:From D:\\Users\\glede\\anaconda3\\envs\\py37\\lib\\site-packages\\tensorpack\\tfutils\\sessinit.py:111: The name tf.train.Saver is deprecated. Please use tf.compat.v1.train.Saver instead.\n",
      "\n",
      "WARNING:tensorflow:From D:\\Users\\glede\\anaconda3\\envs\\py37\\lib\\site-packages\\tensorflow_core\\python\\ops\\array_ops.py:1475: where (from tensorflow.python.ops.array_ops) is deprecated and will be removed in a future version.\n",
      "Instructions for updating:\n",
      "Use tf.where in 2.0, which has the same broadcast rule as np.where\n",
      "INFO:tensorflow:Graph was finalized.\n",
      "INFO:tensorflow:Running local_init_op.\n",
      "INFO:tensorflow:Done running local_init_op.\n",
      "\u001b[32m[1215 17:41:43 @sessinit.py:114]\u001b[0m Restoring checkpoint from ../output/LPMC_DAG/FULL_01/model\\model-41999 ...\n",
      "INFO:tensorflow:Restoring parameters from ../output/LPMC_DAG/FULL_01/model\\model-41999\n",
      "\u001b[32m[1215 17:41:43 @DATSGAN.py:267]\u001b[0m Loading Preprocessor!\n"
     ]
    },
    {
     "name": "stderr",
     "output_type": "stream",
     "text": [
      "|                                                                                          |35/?[00:02<00:00,14.23it/s]\n"
     ]
    },
    {
     "name": "stdout",
     "output_type": "stream",
     "text": [
      "\u001b[32m[1215 17:41:46 @DATSGAN.py:267]\u001b[0m Loading Preprocessor!\n"
     ]
    },
    {
     "name": "stderr",
     "output_type": "stream",
     "text": [
      "|                                                                                          |35/?[00:01<00:00,25.39it/s]\n"
     ]
    },
    {
     "name": "stdout",
     "output_type": "stream",
     "text": [
      "\u001b[32m[1215 17:41:48 @DATSGAN.py:267]\u001b[0m Loading Preprocessor!\n"
     ]
    },
    {
     "name": "stderr",
     "output_type": "stream",
     "text": [
      "|                                                                                          |35/?[00:01<00:00,25.30it/s]\n"
     ]
    },
    {
     "name": "stdout",
     "output_type": "stream",
     "text": [
      "\u001b[32m[1215 17:41:50 @DATSGAN.py:267]\u001b[0m Loading Preprocessor!\n"
     ]
    },
    {
     "name": "stderr",
     "output_type": "stream",
     "text": [
      "|                                                                                          |35/?[00:01<00:00,24.17it/s]\n"
     ]
    },
    {
     "name": "stdout",
     "output_type": "stream",
     "text": [
      "\u001b[32m[1215 17:41:51 @DATSGAN.py:267]\u001b[0m Loading Preprocessor!\n"
     ]
    },
    {
     "name": "stderr",
     "output_type": "stream",
     "text": [
      "|                                                                                          |35/?[00:01<00:00,25.28it/s]\n"
     ]
    },
    {
     "name": "stdout",
     "output_type": "stream",
     "text": [
      "Sampling synthetic data from model \u001b[1mFULL_02\u001b[0m (2/5)\n",
      "\u001b[32m[1215 17:42:05 @DATSGANModel.py:213]\u001b[0m \u001b[91mCreating cell for travel_year (in-edges: 0; ancestors: 0)\n",
      "\u001b[32m[1215 17:42:05 @DATSGANModel.py:213]\u001b[0m \u001b[91mCreating cell for car_ownership (in-edges: 0; ancestors: 0)\n",
      "\u001b[32m[1215 17:42:05 @DATSGANModel.py:213]\u001b[0m \u001b[91mCreating cell for female (in-edges: 0; ancestors: 0)\n",
      "\u001b[32m[1215 17:42:05 @DATSGANModel.py:213]\u001b[0m \u001b[91mCreating cell for age (in-edges: 0; ancestors: 0)\n",
      "\u001b[32m[1215 17:42:05 @DATSGANModel.py:213]\u001b[0m \u001b[91mCreating cell for travel_month (in-edges: 1; ancestors: 1)\n",
      "\u001b[32m[1215 17:42:05 @DATSGANModel.py:213]\u001b[0m \u001b[91mCreating cell for fueltype (in-edges: 1; ancestors: 1)\n",
      "\u001b[32m[1215 17:42:05 @DATSGANModel.py:213]\u001b[0m \u001b[91mCreating cell for driving_license (in-edges: 3; ancestors: 3)\n",
      "\u001b[32m[1215 17:42:05 @DATSGANModel.py:213]\u001b[0m \u001b[91mCreating cell for faretype (in-edges: 1; ancestors: 1)\n",
      "\u001b[32m[1215 17:42:05 @DATSGANModel.py:213]\u001b[0m \u001b[91mCreating cell for travel_date (in-edges: 1; ancestors: 2)\n",
      "\u001b[32m[1215 17:42:05 @DATSGANModel.py:213]\u001b[0m \u001b[91mCreating cell for bus_scale (in-edges: 2; ancestors: 2)\n",
      "\u001b[32m[1215 17:42:05 @DATSGANModel.py:213]\u001b[0m \u001b[91mCreating cell for day_of_week (in-edges: 2; ancestors: 3)\n",
      "\u001b[32m[1215 17:42:05 @DATSGANModel.py:213]\u001b[0m \u001b[91mCreating cell for purpose (in-edges: 1; ancestors: 4)\n",
      "\u001b[32m[1215 17:42:05 @DATSGANModel.py:213]\u001b[0m \u001b[91mCreating cell for start_time_linear (in-edges: 2; ancestors: 5)\n",
      "\u001b[32m[1215 17:42:05 @DATSGANModel.py:213]\u001b[0m \u001b[91mCreating cell for distance (in-edges: 1; ancestors: 5)\n",
      "\u001b[32m[1215 17:42:06 @DATSGANModel.py:213]\u001b[0m \u001b[91mCreating cell for driving_traffic_percent (in-edges: 3; ancestors: 6)\n",
      "\u001b[32m[1215 17:42:06 @DATSGANModel.py:213]\u001b[0m \u001b[91mCreating cell for cost_driving_fuel (in-edges: 2; ancestors: 8)\n",
      "\u001b[32m[1215 17:42:06 @DATSGANModel.py:213]\u001b[0m \u001b[91mCreating cell for dur_driving (in-edges: 1; ancestors: 6)\n",
      "\u001b[32m[1215 17:42:06 @DATSGANModel.py:213]\u001b[0m \u001b[91mCreating cell for dur_walking (in-edges: 1; ancestors: 6)\n",
      "\u001b[32m[1215 17:42:06 @DATSGANModel.py:213]\u001b[0m \u001b[91mCreating cell for dur_cycling (in-edges: 1; ancestors: 6)\n",
      "\u001b[32m[1215 17:42:06 @DATSGANModel.py:213]\u001b[0m \u001b[91mCreating cell for dur_pt_access (in-edges: 1; ancestors: 6)\n",
      "\u001b[32m[1215 17:42:06 @DATSGANModel.py:213]\u001b[0m \u001b[91mCreating cell for pt_n_interchanges (in-edges: 1; ancestors: 6)\n",
      "\u001b[32m[1215 17:42:06 @DATSGANModel.py:213]\u001b[0m \u001b[91mCreating cell for cost_driving_con_charge (in-edges: 5; ancestors: 11)\n",
      "\u001b[32m[1215 17:42:06 @DATSGANModel.py:213]\u001b[0m \u001b[91mCreating cell for dur_pt_rail (in-edges: 2; ancestors: 7)\n",
      "\u001b[32m[1215 17:42:06 @DATSGANModel.py:213]\u001b[0m \u001b[91mCreating cell for dur_pt_bus (in-edges: 2; ancestors: 7)\n",
      "\u001b[32m[1215 17:42:06 @DATSGANModel.py:213]\u001b[0m \u001b[91mCreating cell for dur_pt_int (in-edges: 2; ancestors: 7)\n",
      "\u001b[32m[1215 17:42:06 @DATSGANModel.py:213]\u001b[0m \u001b[91mCreating cell for cost_transit (in-edges: 5; ancestors: 12)\n",
      "\u001b[32m[1215 17:42:07 @DATSGANModel.py:213]\u001b[0m \u001b[91mCreating cell for travel_mode (in-edges: 21; ancestors: 26)\n",
      "\u001b[32m[1215 17:42:07 @sessinit.py:87]\u001b[0m \u001b[5m\u001b[31mWRN\u001b[0m The following variables are in the checkpoint, but not found in the graph: global_step, optimize/beta1_power, optimize/beta2_power\n",
      "INFO:tensorflow:Graph was finalized.\n",
      "INFO:tensorflow:Running local_init_op.\n",
      "INFO:tensorflow:Done running local_init_op.\n",
      "\u001b[32m[1215 17:42:09 @sessinit.py:114]\u001b[0m Restoring checkpoint from ../output/LPMC_DAG/FULL_02/model\\model-41999 ...\n",
      "INFO:tensorflow:Restoring parameters from ../output/LPMC_DAG/FULL_02/model\\model-41999\n",
      "\u001b[32m[1215 17:42:09 @DATSGAN.py:267]\u001b[0m Loading Preprocessor!\n"
     ]
    },
    {
     "name": "stderr",
     "output_type": "stream",
     "text": [
      "|                                                                                          |35/?[00:01<00:00,18.65it/s]\n"
     ]
    },
    {
     "name": "stdout",
     "output_type": "stream",
     "text": [
      "\u001b[32m[1215 17:42:12 @DATSGAN.py:267]\u001b[0m Loading Preprocessor!\n"
     ]
    },
    {
     "name": "stderr",
     "output_type": "stream",
     "text": [
      "|                                                                                          |35/?[00:01<00:00,25.85it/s]\n"
     ]
    },
    {
     "name": "stdout",
     "output_type": "stream",
     "text": [
      "\u001b[32m[1215 17:42:13 @DATSGAN.py:267]\u001b[0m Loading Preprocessor!\n"
     ]
    },
    {
     "name": "stderr",
     "output_type": "stream",
     "text": [
      "|                                                                                          |35/?[00:01<00:00,27.29it/s]\n"
     ]
    },
    {
     "name": "stdout",
     "output_type": "stream",
     "text": [
      "\u001b[32m[1215 17:42:15 @DATSGAN.py:267]\u001b[0m Loading Preprocessor!\n"
     ]
    },
    {
     "name": "stderr",
     "output_type": "stream",
     "text": [
      "|                                                                                          |35/?[00:01<00:00,25.94it/s]\n"
     ]
    },
    {
     "name": "stdout",
     "output_type": "stream",
     "text": [
      "\u001b[32m[1215 17:42:17 @DATSGAN.py:267]\u001b[0m Loading Preprocessor!\n"
     ]
    },
    {
     "name": "stderr",
     "output_type": "stream",
     "text": [
      "|                                                                                          |35/?[00:01<00:00,25.26it/s]\n"
     ]
    },
    {
     "name": "stdout",
     "output_type": "stream",
     "text": [
      "Sampling synthetic data from model \u001b[1mFULL_03\u001b[0m (3/5)\n",
      "\u001b[32m[1215 17:42:31 @DATSGANModel.py:213]\u001b[0m \u001b[91mCreating cell for travel_year (in-edges: 0; ancestors: 0)\n",
      "\u001b[32m[1215 17:42:31 @DATSGANModel.py:213]\u001b[0m \u001b[91mCreating cell for car_ownership (in-edges: 0; ancestors: 0)\n",
      "\u001b[32m[1215 17:42:31 @DATSGANModel.py:213]\u001b[0m \u001b[91mCreating cell for female (in-edges: 0; ancestors: 0)\n",
      "\u001b[32m[1215 17:42:31 @DATSGANModel.py:213]\u001b[0m \u001b[91mCreating cell for age (in-edges: 0; ancestors: 0)\n",
      "\u001b[32m[1215 17:42:31 @DATSGANModel.py:213]\u001b[0m \u001b[91mCreating cell for travel_month (in-edges: 1; ancestors: 1)\n",
      "\u001b[32m[1215 17:42:32 @DATSGANModel.py:213]\u001b[0m \u001b[91mCreating cell for fueltype (in-edges: 1; ancestors: 1)\n",
      "\u001b[32m[1215 17:42:32 @DATSGANModel.py:213]\u001b[0m \u001b[91mCreating cell for driving_license (in-edges: 3; ancestors: 3)\n",
      "\u001b[32m[1215 17:42:32 @DATSGANModel.py:213]\u001b[0m \u001b[91mCreating cell for faretype (in-edges: 1; ancestors: 1)\n",
      "\u001b[32m[1215 17:42:32 @DATSGANModel.py:213]\u001b[0m \u001b[91mCreating cell for travel_date (in-edges: 1; ancestors: 2)\n",
      "\u001b[32m[1215 17:42:32 @DATSGANModel.py:213]\u001b[0m \u001b[91mCreating cell for bus_scale (in-edges: 2; ancestors: 2)\n",
      "\u001b[32m[1215 17:42:32 @DATSGANModel.py:213]\u001b[0m \u001b[91mCreating cell for day_of_week (in-edges: 2; ancestors: 3)\n",
      "\u001b[32m[1215 17:42:32 @DATSGANModel.py:213]\u001b[0m \u001b[91mCreating cell for purpose (in-edges: 1; ancestors: 4)\n",
      "\u001b[32m[1215 17:42:32 @DATSGANModel.py:213]\u001b[0m \u001b[91mCreating cell for start_time_linear (in-edges: 2; ancestors: 5)\n",
      "\u001b[32m[1215 17:42:32 @DATSGANModel.py:213]\u001b[0m \u001b[91mCreating cell for distance (in-edges: 1; ancestors: 5)\n",
      "\u001b[32m[1215 17:42:32 @DATSGANModel.py:213]\u001b[0m \u001b[91mCreating cell for driving_traffic_percent (in-edges: 3; ancestors: 6)\n",
      "\u001b[32m[1215 17:42:32 @DATSGANModel.py:213]\u001b[0m \u001b[91mCreating cell for cost_driving_fuel (in-edges: 2; ancestors: 8)\n",
      "\u001b[32m[1215 17:42:32 @DATSGANModel.py:213]\u001b[0m \u001b[91mCreating cell for dur_driving (in-edges: 1; ancestors: 6)\n",
      "\u001b[32m[1215 17:42:32 @DATSGANModel.py:213]\u001b[0m \u001b[91mCreating cell for dur_walking (in-edges: 1; ancestors: 6)\n",
      "\u001b[32m[1215 17:42:32 @DATSGANModel.py:213]\u001b[0m \u001b[91mCreating cell for dur_cycling (in-edges: 1; ancestors: 6)\n",
      "\u001b[32m[1215 17:42:33 @DATSGANModel.py:213]\u001b[0m \u001b[91mCreating cell for dur_pt_access (in-edges: 1; ancestors: 6)\n",
      "\u001b[32m[1215 17:42:33 @DATSGANModel.py:213]\u001b[0m \u001b[91mCreating cell for pt_n_interchanges (in-edges: 1; ancestors: 6)\n",
      "\u001b[32m[1215 17:42:33 @DATSGANModel.py:213]\u001b[0m \u001b[91mCreating cell for cost_driving_con_charge (in-edges: 5; ancestors: 11)\n",
      "\u001b[32m[1215 17:42:33 @DATSGANModel.py:213]\u001b[0m \u001b[91mCreating cell for dur_pt_rail (in-edges: 2; ancestors: 7)\n",
      "\u001b[32m[1215 17:42:33 @DATSGANModel.py:213]\u001b[0m \u001b[91mCreating cell for dur_pt_bus (in-edges: 2; ancestors: 7)\n",
      "\u001b[32m[1215 17:42:33 @DATSGANModel.py:213]\u001b[0m \u001b[91mCreating cell for dur_pt_int (in-edges: 2; ancestors: 7)\n",
      "\u001b[32m[1215 17:42:33 @DATSGANModel.py:213]\u001b[0m \u001b[91mCreating cell for cost_transit (in-edges: 5; ancestors: 12)\n",
      "\u001b[32m[1215 17:42:33 @DATSGANModel.py:213]\u001b[0m \u001b[91mCreating cell for travel_mode (in-edges: 21; ancestors: 26)\n",
      "\u001b[32m[1215 17:42:34 @sessinit.py:87]\u001b[0m \u001b[5m\u001b[31mWRN\u001b[0m The following variables are in the checkpoint, but not found in the graph: global_step, optimize/beta1_power, optimize/beta2_power\n",
      "INFO:tensorflow:Graph was finalized.\n",
      "INFO:tensorflow:Running local_init_op.\n",
      "INFO:tensorflow:Done running local_init_op.\n",
      "\u001b[32m[1215 17:42:36 @sessinit.py:114]\u001b[0m Restoring checkpoint from ../output/LPMC_DAG/FULL_03/model\\model-41999 ...\n",
      "INFO:tensorflow:Restoring parameters from ../output/LPMC_DAG/FULL_03/model\\model-41999\n",
      "\u001b[32m[1215 17:42:36 @DATSGAN.py:267]\u001b[0m Loading Preprocessor!\n"
     ]
    },
    {
     "name": "stderr",
     "output_type": "stream",
     "text": [
      "|                                                                                          |35/?[00:01<00:00,18.94it/s]\n"
     ]
    },
    {
     "name": "stdout",
     "output_type": "stream",
     "text": [
      "\u001b[32m[1215 17:42:38 @DATSGAN.py:267]\u001b[0m Loading Preprocessor!\n"
     ]
    },
    {
     "name": "stderr",
     "output_type": "stream",
     "text": [
      "|                                                                                          |35/?[00:01<00:00,26.10it/s]\n"
     ]
    },
    {
     "name": "stdout",
     "output_type": "stream",
     "text": [
      "\u001b[32m[1215 17:42:40 @DATSGAN.py:267]\u001b[0m Loading Preprocessor!\n"
     ]
    },
    {
     "name": "stderr",
     "output_type": "stream",
     "text": [
      "|                                                                                          |35/?[00:01<00:00,24.95it/s]\n"
     ]
    },
    {
     "name": "stdout",
     "output_type": "stream",
     "text": [
      "\u001b[32m[1215 17:42:42 @DATSGAN.py:267]\u001b[0m Loading Preprocessor!\n"
     ]
    },
    {
     "name": "stderr",
     "output_type": "stream",
     "text": [
      "|                                                                                          |35/?[00:01<00:00,24.65it/s]\n"
     ]
    },
    {
     "name": "stdout",
     "output_type": "stream",
     "text": [
      "\u001b[32m[1215 17:42:44 @DATSGAN.py:267]\u001b[0m Loading Preprocessor!\n"
     ]
    },
    {
     "name": "stderr",
     "output_type": "stream",
     "text": [
      "|                                                                                          |35/?[00:01<00:00,24.80it/s]\n"
     ]
    },
    {
     "name": "stdout",
     "output_type": "stream",
     "text": [
      "Sampling synthetic data from model \u001b[1mFULL_04\u001b[0m (4/5)\n",
      "\u001b[32m[1215 17:42:59 @DATSGANModel.py:213]\u001b[0m \u001b[91mCreating cell for travel_year (in-edges: 0; ancestors: 0)\n",
      "\u001b[32m[1215 17:42:59 @DATSGANModel.py:213]\u001b[0m \u001b[91mCreating cell for car_ownership (in-edges: 0; ancestors: 0)\n",
      "\u001b[32m[1215 17:42:59 @DATSGANModel.py:213]\u001b[0m \u001b[91mCreating cell for female (in-edges: 0; ancestors: 0)\n",
      "\u001b[32m[1215 17:42:59 @DATSGANModel.py:213]\u001b[0m \u001b[91mCreating cell for age (in-edges: 0; ancestors: 0)\n",
      "\u001b[32m[1215 17:42:59 @DATSGANModel.py:213]\u001b[0m \u001b[91mCreating cell for travel_month (in-edges: 1; ancestors: 1)\n",
      "\u001b[32m[1215 17:42:59 @DATSGANModel.py:213]\u001b[0m \u001b[91mCreating cell for fueltype (in-edges: 1; ancestors: 1)\n",
      "\u001b[32m[1215 17:42:59 @DATSGANModel.py:213]\u001b[0m \u001b[91mCreating cell for driving_license (in-edges: 3; ancestors: 3)\n",
      "\u001b[32m[1215 17:42:59 @DATSGANModel.py:213]\u001b[0m \u001b[91mCreating cell for faretype (in-edges: 1; ancestors: 1)\n",
      "\u001b[32m[1215 17:42:59 @DATSGANModel.py:213]\u001b[0m \u001b[91mCreating cell for travel_date (in-edges: 1; ancestors: 2)\n",
      "\u001b[32m[1215 17:42:59 @DATSGANModel.py:213]\u001b[0m \u001b[91mCreating cell for bus_scale (in-edges: 2; ancestors: 2)\n",
      "\u001b[32m[1215 17:42:59 @DATSGANModel.py:213]\u001b[0m \u001b[91mCreating cell for day_of_week (in-edges: 2; ancestors: 3)\n",
      "\u001b[32m[1215 17:43:00 @DATSGANModel.py:213]\u001b[0m \u001b[91mCreating cell for purpose (in-edges: 1; ancestors: 4)\n",
      "\u001b[32m[1215 17:43:00 @DATSGANModel.py:213]\u001b[0m \u001b[91mCreating cell for start_time_linear (in-edges: 2; ancestors: 5)\n",
      "\u001b[32m[1215 17:43:00 @DATSGANModel.py:213]\u001b[0m \u001b[91mCreating cell for distance (in-edges: 1; ancestors: 5)\n",
      "\u001b[32m[1215 17:43:00 @DATSGANModel.py:213]\u001b[0m \u001b[91mCreating cell for driving_traffic_percent (in-edges: 3; ancestors: 6)\n",
      "\u001b[32m[1215 17:43:00 @DATSGANModel.py:213]\u001b[0m \u001b[91mCreating cell for cost_driving_fuel (in-edges: 2; ancestors: 8)\n",
      "\u001b[32m[1215 17:43:00 @DATSGANModel.py:213]\u001b[0m \u001b[91mCreating cell for dur_driving (in-edges: 1; ancestors: 6)\n",
      "\u001b[32m[1215 17:43:00 @DATSGANModel.py:213]\u001b[0m \u001b[91mCreating cell for dur_walking (in-edges: 1; ancestors: 6)\n",
      "\u001b[32m[1215 17:43:00 @DATSGANModel.py:213]\u001b[0m \u001b[91mCreating cell for dur_cycling (in-edges: 1; ancestors: 6)\n",
      "\u001b[32m[1215 17:43:00 @DATSGANModel.py:213]\u001b[0m \u001b[91mCreating cell for dur_pt_access (in-edges: 1; ancestors: 6)\n",
      "\u001b[32m[1215 17:43:00 @DATSGANModel.py:213]\u001b[0m \u001b[91mCreating cell for pt_n_interchanges (in-edges: 1; ancestors: 6)\n",
      "\u001b[32m[1215 17:43:00 @DATSGANModel.py:213]\u001b[0m \u001b[91mCreating cell for cost_driving_con_charge (in-edges: 5; ancestors: 11)\n",
      "\u001b[32m[1215 17:43:00 @DATSGANModel.py:213]\u001b[0m \u001b[91mCreating cell for dur_pt_rail (in-edges: 2; ancestors: 7)\n",
      "\u001b[32m[1215 17:43:00 @DATSGANModel.py:213]\u001b[0m \u001b[91mCreating cell for dur_pt_bus (in-edges: 2; ancestors: 7)\n",
      "\u001b[32m[1215 17:43:00 @DATSGANModel.py:213]\u001b[0m \u001b[91mCreating cell for dur_pt_int (in-edges: 2; ancestors: 7)\n",
      "\u001b[32m[1215 17:43:01 @DATSGANModel.py:213]\u001b[0m \u001b[91mCreating cell for cost_transit (in-edges: 5; ancestors: 12)\n",
      "\u001b[32m[1215 17:43:01 @DATSGANModel.py:213]\u001b[0m \u001b[91mCreating cell for travel_mode (in-edges: 21; ancestors: 26)\n",
      "\u001b[32m[1215 17:43:01 @sessinit.py:87]\u001b[0m \u001b[5m\u001b[31mWRN\u001b[0m The following variables are in the checkpoint, but not found in the graph: global_step, optimize/beta1_power, optimize/beta2_power\n",
      "INFO:tensorflow:Graph was finalized.\n",
      "INFO:tensorflow:Running local_init_op.\n",
      "INFO:tensorflow:Done running local_init_op.\n",
      "\u001b[32m[1215 17:43:03 @sessinit.py:114]\u001b[0m Restoring checkpoint from ../output/LPMC_DAG/FULL_04/model\\model-41999 ...\n",
      "INFO:tensorflow:Restoring parameters from ../output/LPMC_DAG/FULL_04/model\\model-41999\n",
      "\u001b[32m[1215 17:43:04 @DATSGAN.py:267]\u001b[0m Loading Preprocessor!\n"
     ]
    },
    {
     "name": "stderr",
     "output_type": "stream",
     "text": [
      "|                                                                                          |35/?[00:01<00:00,19.21it/s]\n"
     ]
    },
    {
     "name": "stdout",
     "output_type": "stream",
     "text": [
      "\u001b[32m[1215 17:43:06 @DATSGAN.py:267]\u001b[0m Loading Preprocessor!\n"
     ]
    },
    {
     "name": "stderr",
     "output_type": "stream",
     "text": [
      "|                                                                                          |35/?[00:01<00:00,25.80it/s]\n"
     ]
    },
    {
     "name": "stdout",
     "output_type": "stream",
     "text": [
      "\u001b[32m[1215 17:43:08 @DATSGAN.py:267]\u001b[0m Loading Preprocessor!\n"
     ]
    },
    {
     "name": "stderr",
     "output_type": "stream",
     "text": [
      "|                                                                                          |35/?[00:01<00:00,24.85it/s]\n"
     ]
    },
    {
     "name": "stdout",
     "output_type": "stream",
     "text": [
      "\u001b[32m[1215 17:43:09 @DATSGAN.py:267]\u001b[0m Loading Preprocessor!\n"
     ]
    },
    {
     "name": "stderr",
     "output_type": "stream",
     "text": [
      "|                                                                                          |35/?[00:01<00:00,26.60it/s]\n"
     ]
    },
    {
     "name": "stdout",
     "output_type": "stream",
     "text": [
      "\u001b[32m[1215 17:43:11 @DATSGAN.py:267]\u001b[0m Loading Preprocessor!\n"
     ]
    },
    {
     "name": "stderr",
     "output_type": "stream",
     "text": [
      "|                                                                                          |35/?[00:01<00:00,25.84it/s]\n"
     ]
    },
    {
     "name": "stdout",
     "output_type": "stream",
     "text": [
      "Sampling synthetic data from model \u001b[1mFULL_05\u001b[0m (5/5)\n",
      "\u001b[32m[1215 17:43:26 @DATSGANModel.py:213]\u001b[0m \u001b[91mCreating cell for travel_year (in-edges: 0; ancestors: 0)\n",
      "\u001b[32m[1215 17:43:26 @DATSGANModel.py:213]\u001b[0m \u001b[91mCreating cell for car_ownership (in-edges: 0; ancestors: 0)\n",
      "\u001b[32m[1215 17:43:26 @DATSGANModel.py:213]\u001b[0m \u001b[91mCreating cell for female (in-edges: 0; ancestors: 0)\n",
      "\u001b[32m[1215 17:43:26 @DATSGANModel.py:213]\u001b[0m \u001b[91mCreating cell for age (in-edges: 0; ancestors: 0)\n",
      "\u001b[32m[1215 17:43:26 @DATSGANModel.py:213]\u001b[0m \u001b[91mCreating cell for travel_month (in-edges: 1; ancestors: 1)\n",
      "\u001b[32m[1215 17:43:26 @DATSGANModel.py:213]\u001b[0m \u001b[91mCreating cell for fueltype (in-edges: 1; ancestors: 1)\n",
      "\u001b[32m[1215 17:43:26 @DATSGANModel.py:213]\u001b[0m \u001b[91mCreating cell for driving_license (in-edges: 3; ancestors: 3)\n",
      "\u001b[32m[1215 17:43:26 @DATSGANModel.py:213]\u001b[0m \u001b[91mCreating cell for faretype (in-edges: 1; ancestors: 1)\n",
      "\u001b[32m[1215 17:43:26 @DATSGANModel.py:213]\u001b[0m \u001b[91mCreating cell for travel_date (in-edges: 1; ancestors: 2)\n",
      "\u001b[32m[1215 17:43:26 @DATSGANModel.py:213]\u001b[0m \u001b[91mCreating cell for bus_scale (in-edges: 2; ancestors: 2)\n",
      "\u001b[32m[1215 17:43:26 @DATSGANModel.py:213]\u001b[0m \u001b[91mCreating cell for day_of_week (in-edges: 2; ancestors: 3)\n",
      "\u001b[32m[1215 17:43:26 @DATSGANModel.py:213]\u001b[0m \u001b[91mCreating cell for purpose (in-edges: 1; ancestors: 4)\n",
      "\u001b[32m[1215 17:43:26 @DATSGANModel.py:213]\u001b[0m \u001b[91mCreating cell for start_time_linear (in-edges: 2; ancestors: 5)\n",
      "\u001b[32m[1215 17:43:26 @DATSGANModel.py:213]\u001b[0m \u001b[91mCreating cell for distance (in-edges: 1; ancestors: 5)\n",
      "\u001b[32m[1215 17:43:27 @DATSGANModel.py:213]\u001b[0m \u001b[91mCreating cell for driving_traffic_percent (in-edges: 3; ancestors: 6)\n",
      "\u001b[32m[1215 17:43:27 @DATSGANModel.py:213]\u001b[0m \u001b[91mCreating cell for cost_driving_fuel (in-edges: 2; ancestors: 8)\n",
      "\u001b[32m[1215 17:43:27 @DATSGANModel.py:213]\u001b[0m \u001b[91mCreating cell for dur_driving (in-edges: 1; ancestors: 6)\n",
      "\u001b[32m[1215 17:43:27 @DATSGANModel.py:213]\u001b[0m \u001b[91mCreating cell for dur_walking (in-edges: 1; ancestors: 6)\n",
      "\u001b[32m[1215 17:43:27 @DATSGANModel.py:213]\u001b[0m \u001b[91mCreating cell for dur_cycling (in-edges: 1; ancestors: 6)\n",
      "\u001b[32m[1215 17:43:27 @DATSGANModel.py:213]\u001b[0m \u001b[91mCreating cell for dur_pt_access (in-edges: 1; ancestors: 6)\n",
      "\u001b[32m[1215 17:43:27 @DATSGANModel.py:213]\u001b[0m \u001b[91mCreating cell for pt_n_interchanges (in-edges: 1; ancestors: 6)\n",
      "\u001b[32m[1215 17:43:27 @DATSGANModel.py:213]\u001b[0m \u001b[91mCreating cell for cost_driving_con_charge (in-edges: 5; ancestors: 11)\n",
      "\u001b[32m[1215 17:43:27 @DATSGANModel.py:213]\u001b[0m \u001b[91mCreating cell for dur_pt_rail (in-edges: 2; ancestors: 7)\n",
      "\u001b[32m[1215 17:43:27 @DATSGANModel.py:213]\u001b[0m \u001b[91mCreating cell for dur_pt_bus (in-edges: 2; ancestors: 7)\n",
      "\u001b[32m[1215 17:43:27 @DATSGANModel.py:213]\u001b[0m \u001b[91mCreating cell for dur_pt_int (in-edges: 2; ancestors: 7)\n",
      "\u001b[32m[1215 17:43:27 @DATSGANModel.py:213]\u001b[0m \u001b[91mCreating cell for cost_transit (in-edges: 5; ancestors: 12)\n",
      "\u001b[32m[1215 17:43:27 @DATSGANModel.py:213]\u001b[0m \u001b[91mCreating cell for travel_mode (in-edges: 21; ancestors: 26)\n",
      "\u001b[32m[1215 17:43:28 @sessinit.py:87]\u001b[0m \u001b[5m\u001b[31mWRN\u001b[0m The following variables are in the checkpoint, but not found in the graph: global_step, optimize/beta1_power, optimize/beta2_power\n",
      "INFO:tensorflow:Graph was finalized.\n",
      "INFO:tensorflow:Running local_init_op.\n",
      "INFO:tensorflow:Done running local_init_op.\n",
      "\u001b[32m[1215 17:43:30 @sessinit.py:114]\u001b[0m Restoring checkpoint from ../output/LPMC_DAG/FULL_05/model\\model-41999 ...\n",
      "INFO:tensorflow:Restoring parameters from ../output/LPMC_DAG/FULL_05/model\\model-41999\n",
      "\u001b[32m[1215 17:43:30 @DATSGAN.py:267]\u001b[0m Loading Preprocessor!\n"
     ]
    },
    {
     "name": "stderr",
     "output_type": "stream",
     "text": [
      "|                                                                                          |35/?[00:01<00:00,18.76it/s]\n"
     ]
    },
    {
     "name": "stdout",
     "output_type": "stream",
     "text": [
      "\u001b[32m[1215 17:43:33 @DATSGAN.py:267]\u001b[0m Loading Preprocessor!\n"
     ]
    },
    {
     "name": "stderr",
     "output_type": "stream",
     "text": [
      "|                                                                                          |35/?[00:01<00:00,25.53it/s]\n"
     ]
    },
    {
     "name": "stdout",
     "output_type": "stream",
     "text": [
      "\u001b[32m[1215 17:43:34 @DATSGAN.py:267]\u001b[0m Loading Preprocessor!\n"
     ]
    },
    {
     "name": "stderr",
     "output_type": "stream",
     "text": [
      "|                                                                                          |35/?[00:01<00:00,28.17it/s]\n"
     ]
    },
    {
     "name": "stdout",
     "output_type": "stream",
     "text": [
      "\u001b[32m[1215 17:43:36 @DATSGAN.py:267]\u001b[0m Loading Preprocessor!\n"
     ]
    },
    {
     "name": "stderr",
     "output_type": "stream",
     "text": [
      "|                                                                                          |35/?[00:01<00:00,26.01it/s]\n"
     ]
    },
    {
     "name": "stdout",
     "output_type": "stream",
     "text": [
      "\u001b[32m[1215 17:43:38 @DATSGAN.py:267]\u001b[0m Loading Preprocessor!\n"
     ]
    },
    {
     "name": "stderr",
     "output_type": "stream",
     "text": [
      "|                                                                                          |35/?[00:01<00:00,24.73it/s]\n"
     ]
    },
    {
     "name": "stdout",
     "output_type": "stream",
     "text": [
      "\u001b[1mFINISHED!\u001b[0m\n"
     ]
    }
   ],
   "source": [
    "for i, m in enumerate(models):\n",
    "    \n",
    "    name = m.split('_')[0]\n",
    "    \n",
    "    print(\"Sampling synthetic data from model \\033[1m{}\\033[0m ({}/{})\".format(m, i+1, len(models)))\n",
    "\n",
    "    if 'Chicago' in dataset:\n",
    "        from modules.datgan import DATWGAN as LIB\n",
    "    elif 'LPMC' in dataset:\n",
    "        from modules.datgan import DATWGANGP as LIB\n",
    "\n",
    "    model = LIB.load(input_folder + m + '/', 'trained')\n",
    "    \n",
    "    for k in range(n_data):\n",
    "        \n",
    "        samples = model.sample(len(df), 'NO')\n",
    "                \n",
    "        samples = round_some_vars(samples, dataset)\n",
    "        \n",
    "        if n_data == 1:\n",
    "            samples.to_csv(output_folder + m + '.csv', index=False)\n",
    "        else:\n",
    "            samples.to_csv(output_folder + m + '_{:0>2d}.csv'.format(k+1), index=False)\n",
    "\n",
    "print(\"\\033[1mFINISHED!\\033[0m\")"
   ]
  },
  {
   "cell_type": "code",
   "execution_count": null,
   "metadata": {},
   "outputs": [],
   "source": []
  }
 ],
 "metadata": {
  "kernelspec": {
   "display_name": "Python 3",
   "language": "python",
   "name": "python3"
  },
  "language_info": {
   "codemirror_mode": {
    "name": "ipython",
    "version": 3
   },
   "file_extension": ".py",
   "mimetype": "text/x-python",
   "name": "python",
   "nbconvert_exporter": "python",
   "pygments_lexer": "ipython3",
   "version": "3.7.9"
  }
 },
 "nbformat": 4,
 "nbformat_minor": 4
}
