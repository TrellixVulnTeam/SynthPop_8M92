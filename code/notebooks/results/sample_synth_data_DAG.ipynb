{
 "cells": [
  {
   "cell_type": "code",
   "execution_count": 1,
   "metadata": {},
   "outputs": [],
   "source": [
    "import os\n",
    "os.chdir('../..')"
   ]
  },
  {
   "cell_type": "code",
   "execution_count": 2,
   "metadata": {},
   "outputs": [],
   "source": [
    "from platform import python_version\n",
    "print(python_version())"
   ]
  },
  {
   "cell_type": "code",
   "execution_count": 3,
   "metadata": {},
   "outputs": [],
   "source": [
    "import numpy as np\n",
    "import pandas as pd\n",
    "import json\n",
    "import sys\n",
    "\n",
    "import matplotlib.pyplot as plt\n",
    "\n",
    "# For the Python notebook\n",
    "%matplotlib inline\n",
    "%reload_ext autoreload\n",
    "%autoreload 2"
   ]
  },
  {
   "cell_type": "code",
   "execution_count": 4,
   "metadata": {},
   "outputs": [],
   "source": [
    "dataset = 'LPMC_half_DAG'\n",
    "n_models = 5\n",
    "n_data = 5\n",
    "reuse_data = False\n",
    "\n",
    "models = ['FULL', 'TRANSRED', 'LINEAR', 'NOLINKS', 'PREDICTION']\n",
    "\n",
    "if n_models > 1:\n",
    "    tmp = []\n",
    "    for i in range(n_models):\n",
    "        for m in models:\n",
    "            tmp.append(m + '_{:0>2d}'.format(i+1))\n",
    "\n",
    "    tmp.sort()\n",
    "    models = tmp"
   ]
  },
  {
   "cell_type": "code",
   "execution_count": 5,
   "metadata": {},
   "outputs": [],
   "source": [
    "df = pd.read_csv('../data/' + dataset.split('_')[0] + '/data.csv')"
   ]
  },
  {
   "cell_type": "code",
   "execution_count": 6,
   "metadata": {},
   "outputs": [],
   "source": [
    "input_folder = '../output/' + dataset + '/'\n",
    "output_folder = '../synth_data/' + dataset + '/'\n",
    "\n",
    "try:\n",
    "    os.makedirs(output_folder)\n",
    "except:\n",
    "    pass"
   ]
  },
  {
   "cell_type": "code",
   "execution_count": 7,
   "metadata": {},
   "outputs": [],
   "source": [
    "def is_a_DATGAN(name):\n",
    "    if 'TGAN' in name or 'CTGAN' in name:\n",
    "        return False\n",
    "    else:\n",
    "        return True\n",
    "    \n",
    "def round_some_vars(samples, dataset):\n",
    "    if dataset is 'Chicago':\n",
    "        samples.age = np.round(samples.age)\n",
    "    elif dataset is 'LPMC':\n",
    "        samples.age = np.round(samples.age)\n",
    "        samples.distance = np.round(samples.distance)\n",
    "        \n",
    "    return samples"
   ]
  },
  {
   "cell_type": "code",
   "execution_count": 8,
   "metadata": {
    "scrolled": true
   },
   "outputs": [
    {
     "name": "stdout",
     "output_type": "stream",
     "text": [
      "Sampling synthetic data from model \u001b[1mFULL_01\u001b[0m (1/25)\n",
      "WARNING:tensorflow:From D:\\Users\\glede\\anaconda3\\envs\\py37\\lib\\site-packages\\tensorpack\\callbacks\\hooks.py:17: The name tf.train.SessionRunHook is deprecated. Please use tf.estimator.SessionRunHook instead.\n",
      "\n",
      "WARNING:tensorflow:From D:\\Users\\glede\\anaconda3\\envs\\py37\\lib\\site-packages\\tensorpack\\tfutils\\optimizer.py:18: The name tf.train.Optimizer is deprecated. Please use tf.compat.v1.train.Optimizer instead.\n",
      "\n",
      "WARNING:tensorflow:From D:\\Users\\glede\\anaconda3\\envs\\py37\\lib\\site-packages\\tensorpack\\tfutils\\sesscreate.py:20: The name tf.train.SessionCreator is deprecated. Please use tf.compat.v1.train.SessionCreator instead.\n",
      "\n",
      "WARNING:tensorflow:From D:\\Users\\glede\\anaconda3\\envs\\py37\\lib\\site-packages\\tensorpack\\tfutils\\varmanip.py:178: The name tf.gfile.Exists is deprecated. Please use tf.io.gfile.exists instead.\n",
      "\n",
      "WARNING:tensorflow:From D:\\Users\\glede\\anaconda3\\envs\\py37\\lib\\site-packages\\tensorpack\\predict\\config.py:101: The name tf.train.ChiefSessionCreator is deprecated. Please use tf.compat.v1.train.ChiefSessionCreator instead.\n",
      "\n",
      "WARNING:tensorflow:From D:\\Users\\glede\\anaconda3\\envs\\py37\\lib\\site-packages\\tensorpack\\tfutils\\common.py:41: The name tf.ConfigProto is deprecated. Please use tf.compat.v1.ConfigProto instead.\n",
      "\n",
      "WARNING:tensorflow:From D:\\Users\\glede\\anaconda3\\envs\\py37\\lib\\site-packages\\tensorpack\\graph_builder\\model_desc.py:29: The name tf.get_default_graph is deprecated. Please use tf.compat.v1.get_default_graph instead.\n",
      "\n",
      "WARNING:tensorflow:From D:\\Users\\glede\\anaconda3\\envs\\py37\\lib\\site-packages\\tensorpack\\graph_builder\\model_desc.py:39: The name tf.placeholder is deprecated. Please use tf.compat.v1.placeholder instead.\n",
      "\n",
      "WARNING:tensorflow:From D:\\Users\\glede\\anaconda3\\envs\\py37\\lib\\site-packages\\tensorpack\\tfutils\\tower.py:204: The name tf.get_variable_scope is deprecated. Please use tf.compat.v1.get_variable_scope instead.\n",
      "\n",
      "WARNING:tensorflow:From D:\\Users\\glede\\anaconda3\\envs\\py37\\lib\\site-packages\\tensorpack\\tfutils\\tower.py:216: The name tf.GraphKeys is deprecated. Please use tf.compat.v1.GraphKeys instead.\n",
      "\n",
      "WARNING:tensorflow:From D:\\Users\\glede\\anaconda3\\envs\\py37\\lib\\site-packages\\tensorpack\\tfutils\\tower.py:101: The name tf.variable_scope is deprecated. Please use tf.compat.v1.variable_scope instead.\n",
      "\n",
      "WARNING:tensorflow:From D:\\Users\\glede\\anaconda3\\envs\\py37\\lib\\site-packages\\tensorpack\\tfutils\\collection.py:33: The name tf.get_collection is deprecated. Please use tf.compat.v1.get_collection instead.\n",
      "\n",
      "WARNING:tensorflow:From C:\\Users\\glede\\Documents\\EPFL\\PhD\\SynthPop\\code\\modules\\datgan\\models\\DATSGANModel.py:517: The name tf.random_normal is deprecated. Please use tf.random.normal instead.\n",
      "\n",
      "WARNING:tensorflow:From C:\\Users\\glede\\Documents\\EPFL\\PhD\\SynthPop\\code\\modules\\datgan\\models\\DATSGANModel.py:518: The name tf.placeholder_with_default is deprecated. Please use tf.compat.v1.placeholder_with_default instead.\n",
      "\n",
      "WARNING:tensorflow:From C:\\Users\\glede\\Documents\\EPFL\\PhD\\SynthPop\\code\\modules\\datgan\\models\\DATSGANModel.py:207: LSTMCell.__init__ (from tensorflow.python.ops.rnn_cell_impl) is deprecated and will be removed in a future version.\n",
      "Instructions for updating:\n",
      "This class is equivalent as tf.keras.layers.LSTMCell, and will be replaced by that in Tensorflow 2.0.\n",
      "\u001b[32m[1230 18:48:12 @DATSGANModel.py:213]\u001b[0m \u001b[91mCreating cell for travel_year (in-edges: 0; ancestors: 0)\n",
      "WARNING:tensorflow:From C:\\Users\\glede\\Documents\\EPFL\\PhD\\SynthPop\\code\\modules\\datgan\\models\\DATSGANModel.py:224: The name tf.get_variable is deprecated. Please use tf.compat.v1.get_variable instead.\n",
      "\n",
      "WARNING:tensorflow:From D:\\Users\\glede\\anaconda3\\envs\\py37\\lib\\site-packages\\tensorflow_core\\python\\ops\\rnn_cell_impl.py:958: Layer.add_variable (from tensorflow.python.keras.engine.base_layer) is deprecated and will be removed in a future version.\n",
      "Instructions for updating:\n",
      "Please use `layer.add_weight` method instead.\n",
      "WARNING:tensorflow:From D:\\Users\\glede\\anaconda3\\envs\\py37\\lib\\site-packages\\tensorflow_core\\python\\ops\\rnn_cell_impl.py:962: calling Zeros.__init__ (from tensorflow.python.ops.init_ops) with dtype is deprecated and will be removed in a future version.\n",
      "Instructions for updating:\n",
      "Call initializer instance with the dtype argument instead of passing it to the constructor\n",
      "\u001b[32m[1230 18:48:12 @registry.py:126]\u001b[0m gen/LSTM/travel_year/FC input: [500, 100]\n",
      "WARNING:tensorflow:From D:\\Users\\glede\\anaconda3\\envs\\py37\\lib\\site-packages\\tensorpack\\models\\fc.py:57: The name tf.layers.Dense is deprecated. Please use tf.compat.v1.layers.Dense instead.\n",
      "\n",
      "WARNING:tensorflow:From D:\\Users\\glede\\anaconda3\\envs\\py37\\lib\\site-packages\\tensorpack\\models\\fc.py:67: Layer.apply (from tensorflow.python.keras.engine.base_layer) is deprecated and will be removed in a future version.\n",
      "Instructions for updating:\n",
      "Please use `layer.__call__` method instead.\n",
      "\u001b[32m[1230 18:48:12 @registry.py:134]\u001b[0m gen/LSTM/travel_year/FC output: [500, 50]\n",
      "\u001b[32m[1230 18:48:12 @registry.py:126]\u001b[0m gen/LSTM/travel_year/FC_prob input: [500, 50]\n",
      "\u001b[32m[1230 18:48:12 @registry.py:134]\u001b[0m gen/LSTM/travel_year/FC_prob output: [500, 4]\n",
      "\u001b[32m[1230 18:48:12 @registry.py:126]\u001b[0m gen/LSTM/travel_year/FC_input input: [500, 4]\n",
      "\u001b[32m[1230 18:48:12 @registry.py:134]\u001b[0m gen/LSTM/travel_year/FC_input output: [500, 100]\n",
      "\u001b[32m[1230 18:48:12 @DATSGANModel.py:213]\u001b[0m \u001b[91mCreating cell for car_ownership (in-edges: 0; ancestors: 0)\n",
      "\u001b[32m[1230 18:48:12 @registry.py:126]\u001b[0m gen/LSTM/car_ownership/FC input: [500, 100]\n",
      "\u001b[32m[1230 18:48:12 @registry.py:134]\u001b[0m gen/LSTM/car_ownership/FC output: [500, 50]\n",
      "\u001b[32m[1230 18:48:12 @registry.py:126]\u001b[0m gen/LSTM/car_ownership/FC_prob input: [500, 50]\n",
      "\u001b[32m[1230 18:48:12 @registry.py:134]\u001b[0m gen/LSTM/car_ownership/FC_prob output: [500, 3]\n",
      "\u001b[32m[1230 18:48:12 @registry.py:126]\u001b[0m gen/LSTM/car_ownership/FC_input input: [500, 3]\n",
      "\u001b[32m[1230 18:48:12 @registry.py:134]\u001b[0m gen/LSTM/car_ownership/FC_input output: [500, 100]\n",
      "\u001b[32m[1230 18:48:12 @DATSGANModel.py:213]\u001b[0m \u001b[91mCreating cell for female (in-edges: 0; ancestors: 0)\n",
      "\u001b[32m[1230 18:48:12 @registry.py:126]\u001b[0m gen/LSTM/female/FC input: [500, 100]\n",
      "\u001b[32m[1230 18:48:12 @registry.py:134]\u001b[0m gen/LSTM/female/FC output: [500, 50]\n",
      "\u001b[32m[1230 18:48:12 @registry.py:126]\u001b[0m gen/LSTM/female/FC_prob input: [500, 50]\n",
      "\u001b[32m[1230 18:48:12 @registry.py:134]\u001b[0m gen/LSTM/female/FC_prob output: [500, 2]\n",
      "\u001b[32m[1230 18:48:12 @registry.py:126]\u001b[0m gen/LSTM/female/FC_input input: [500, 2]\n",
      "\u001b[32m[1230 18:48:12 @registry.py:134]\u001b[0m gen/LSTM/female/FC_input output: [500, 100]\n",
      "\u001b[32m[1230 18:48:12 @DATSGANModel.py:213]\u001b[0m \u001b[91mCreating cell for age (in-edges: 0; ancestors: 0)\n",
      "\u001b[32m[1230 18:48:12 @registry.py:126]\u001b[0m gen/LSTM/age/FC input: [500, 100]\n",
      "\u001b[32m[1230 18:48:12 @registry.py:134]\u001b[0m gen/LSTM/age/FC output: [500, 50]\n",
      "\u001b[32m[1230 18:48:12 @registry.py:126]\u001b[0m gen/LSTM/age/FC_val input: [500, 50]\n",
      "\u001b[32m[1230 18:48:12 @registry.py:134]\u001b[0m gen/LSTM/age/FC_val output: [500, 5]\n",
      "\u001b[32m[1230 18:48:12 @registry.py:126]\u001b[0m gen/LSTM/age/FC_prob input: [500, 50]\n",
      "\u001b[32m[1230 18:48:12 @registry.py:134]\u001b[0m gen/LSTM/age/FC_prob output: [500, 5]\n",
      "\u001b[32m[1230 18:48:12 @registry.py:126]\u001b[0m gen/LSTM/age/FC_input input: [500, 10]\n",
      "\u001b[32m[1230 18:48:12 @registry.py:134]\u001b[0m gen/LSTM/age/FC_input output: [500, 100]\n",
      "\u001b[32m[1230 18:48:12 @DATSGANModel.py:213]\u001b[0m \u001b[91mCreating cell for travel_month (in-edges: 1; ancestors: 1)\n",
      "WARNING:tensorflow:From C:\\Users\\glede\\Documents\\EPFL\\PhD\\SynthPop\\code\\modules\\datgan\\models\\DATSGANModel.py:233: The name tf.nn.rnn_cell.LSTMStateTuple is deprecated. Please use tf.compat.v1.nn.rnn_cell.LSTMStateTuple instead.\n",
      "\n",
      "\u001b[32m[1230 18:48:12 @registry.py:126]\u001b[0m gen/LSTM/travel_month/FC input: [500, 100]\n",
      "\u001b[32m[1230 18:48:12 @registry.py:134]\u001b[0m gen/LSTM/travel_month/FC output: [500, 50]\n",
      "\u001b[32m[1230 18:48:12 @registry.py:126]\u001b[0m gen/LSTM/travel_month/FC_prob input: [500, 50]\n",
      "\u001b[32m[1230 18:48:12 @registry.py:134]\u001b[0m gen/LSTM/travel_month/FC_prob output: [500, 12]\n",
      "\u001b[32m[1230 18:48:12 @registry.py:126]\u001b[0m gen/LSTM/travel_month/FC_input input: [500, 12]\n",
      "\u001b[32m[1230 18:48:12 @registry.py:134]\u001b[0m gen/LSTM/travel_month/FC_input output: [500, 100]\n",
      "\u001b[32m[1230 18:48:12 @DATSGANModel.py:213]\u001b[0m \u001b[91mCreating cell for fueltype (in-edges: 1; ancestors: 1)\n"
     ]
    },
    {
     "name": "stdout",
     "output_type": "stream",
     "text": [
      "\u001b[32m[1230 18:48:12 @registry.py:126]\u001b[0m gen/LSTM/fueltype/FC input: [500, 100]\n",
      "\u001b[32m[1230 18:48:12 @registry.py:134]\u001b[0m gen/LSTM/fueltype/FC output: [500, 50]\n",
      "\u001b[32m[1230 18:48:12 @registry.py:126]\u001b[0m gen/LSTM/fueltype/FC_prob input: [500, 50]\n",
      "\u001b[32m[1230 18:48:12 @registry.py:134]\u001b[0m gen/LSTM/fueltype/FC_prob output: [500, 6]\n",
      "\u001b[32m[1230 18:48:12 @registry.py:126]\u001b[0m gen/LSTM/fueltype/FC_input input: [500, 6]\n",
      "\u001b[32m[1230 18:48:12 @registry.py:134]\u001b[0m gen/LSTM/fueltype/FC_input output: [500, 100]\n",
      "\u001b[32m[1230 18:48:12 @DATSGANModel.py:213]\u001b[0m \u001b[91mCreating cell for driving_license (in-edges: 3; ancestors: 3)\n",
      "\u001b[32m[1230 18:48:12 @registry.py:126]\u001b[0m gen/LSTM/concat-driving_license/FC_inputs input: [500, 300]\n",
      "\u001b[32m[1230 18:48:12 @registry.py:134]\u001b[0m gen/LSTM/concat-driving_license/FC_inputs output: [500, 100]\n",
      "\u001b[32m[1230 18:48:12 @registry.py:126]\u001b[0m gen/LSTM/concat-driving_license/FC_states input: [500, 300]\n",
      "\u001b[32m[1230 18:48:12 @registry.py:134]\u001b[0m gen/LSTM/concat-driving_license/FC_states output: [500, 100]\n",
      "\u001b[32m[1230 18:48:12 @registry.py:126]\u001b[0m gen/LSTM/concat-driving_license/FC_h_outputs input: [500, 300]\n",
      "\u001b[32m[1230 18:48:12 @registry.py:134]\u001b[0m gen/LSTM/concat-driving_license/FC_h_outputs output: [500, 100]\n",
      "\u001b[32m[1230 18:48:12 @registry.py:126]\u001b[0m gen/LSTM/age-car_ownership-female/FC_noise input: [None, 600]\n",
      "\u001b[32m[1230 18:48:12 @registry.py:134]\u001b[0m gen/LSTM/age-car_ownership-female/FC_noise output: [None, 200]\n",
      "\u001b[32m[1230 18:48:12 @registry.py:126]\u001b[0m gen/LSTM/driving_license/FC input: [500, 100]\n",
      "\u001b[32m[1230 18:48:12 @registry.py:134]\u001b[0m gen/LSTM/driving_license/FC output: [500, 50]\n",
      "\u001b[32m[1230 18:48:12 @registry.py:126]\u001b[0m gen/LSTM/driving_license/FC_prob input: [500, 50]\n",
      "\u001b[32m[1230 18:48:12 @registry.py:134]\u001b[0m gen/LSTM/driving_license/FC_prob output: [500, 2]\n",
      "\u001b[32m[1230 18:48:12 @registry.py:126]\u001b[0m gen/LSTM/driving_license/FC_input input: [500, 2]\n",
      "\u001b[32m[1230 18:48:12 @registry.py:134]\u001b[0m gen/LSTM/driving_license/FC_input output: [500, 100]\n",
      "\u001b[32m[1230 18:48:12 @DATSGANModel.py:213]\u001b[0m \u001b[91mCreating cell for faretype (in-edges: 1; ancestors: 1)\n",
      "\u001b[32m[1230 18:48:12 @registry.py:126]\u001b[0m gen/LSTM/faretype/FC input: [500, 100]\n",
      "\u001b[32m[1230 18:48:12 @registry.py:134]\u001b[0m gen/LSTM/faretype/FC output: [500, 50]\n",
      "\u001b[32m[1230 18:48:12 @registry.py:126]\u001b[0m gen/LSTM/faretype/FC_prob input: [500, 50]\n",
      "\u001b[32m[1230 18:48:12 @registry.py:134]\u001b[0m gen/LSTM/faretype/FC_prob output: [500, 5]\n",
      "\u001b[32m[1230 18:48:12 @registry.py:126]\u001b[0m gen/LSTM/faretype/FC_input input: [500, 5]\n",
      "\u001b[32m[1230 18:48:12 @registry.py:134]\u001b[0m gen/LSTM/faretype/FC_input output: [500, 100]\n",
      "\u001b[32m[1230 18:48:12 @DATSGANModel.py:213]\u001b[0m \u001b[91mCreating cell for travel_date (in-edges: 1; ancestors: 2)\n",
      "\u001b[32m[1230 18:48:12 @registry.py:126]\u001b[0m gen/LSTM/travel_date/FC input: [500, 100]\n",
      "\u001b[32m[1230 18:48:12 @registry.py:134]\u001b[0m gen/LSTM/travel_date/FC output: [500, 50]\n",
      "\u001b[32m[1230 18:48:12 @registry.py:126]\u001b[0m gen/LSTM/travel_date/FC_prob input: [500, 50]\n",
      "\u001b[32m[1230 18:48:12 @registry.py:134]\u001b[0m gen/LSTM/travel_date/FC_prob output: [500, 31]\n",
      "\u001b[32m[1230 18:48:12 @registry.py:126]\u001b[0m gen/LSTM/travel_date/FC_input input: [500, 31]\n",
      "\u001b[32m[1230 18:48:12 @registry.py:134]\u001b[0m gen/LSTM/travel_date/FC_input output: [500, 100]\n",
      "\u001b[32m[1230 18:48:12 @DATSGANModel.py:213]\u001b[0m \u001b[91mCreating cell for bus_scale (in-edges: 2; ancestors: 2)\n",
      "\u001b[32m[1230 18:48:12 @registry.py:126]\u001b[0m gen/LSTM/concat-bus_scale/FC_inputs input: [500, 200]\n",
      "\u001b[32m[1230 18:48:12 @registry.py:134]\u001b[0m gen/LSTM/concat-bus_scale/FC_inputs output: [500, 100]\n",
      "\u001b[32m[1230 18:48:12 @registry.py:126]\u001b[0m gen/LSTM/concat-bus_scale/FC_states input: [500, 200]\n",
      "\u001b[32m[1230 18:48:12 @registry.py:134]\u001b[0m gen/LSTM/concat-bus_scale/FC_states output: [500, 100]\n",
      "\u001b[32m[1230 18:48:12 @registry.py:126]\u001b[0m gen/LSTM/concat-bus_scale/FC_h_outputs input: [500, 200]\n",
      "\u001b[32m[1230 18:48:12 @registry.py:134]\u001b[0m gen/LSTM/concat-bus_scale/FC_h_outputs output: [500, 100]\n",
      "\u001b[32m[1230 18:48:13 @registry.py:126]\u001b[0m gen/LSTM/bus_scale/FC input: [500, 100]\n",
      "\u001b[32m[1230 18:48:13 @registry.py:134]\u001b[0m gen/LSTM/bus_scale/FC output: [500, 50]\n",
      "\u001b[32m[1230 18:48:13 @registry.py:126]\u001b[0m gen/LSTM/bus_scale/FC_prob input: [500, 50]\n",
      "\u001b[32m[1230 18:48:13 @registry.py:134]\u001b[0m gen/LSTM/bus_scale/FC_prob output: [500, 3]\n",
      "\u001b[32m[1230 18:48:13 @registry.py:126]\u001b[0m gen/LSTM/bus_scale/FC_input input: [500, 3]\n",
      "\u001b[32m[1230 18:48:13 @registry.py:134]\u001b[0m gen/LSTM/bus_scale/FC_input output: [500, 100]\n",
      "\u001b[32m[1230 18:48:13 @DATSGANModel.py:213]\u001b[0m \u001b[91mCreating cell for day_of_week (in-edges: 2; ancestors: 3)\n",
      "\u001b[32m[1230 18:48:13 @registry.py:126]\u001b[0m gen/LSTM/concat-day_of_week/FC_inputs input: [500, 200]\n",
      "\u001b[32m[1230 18:48:13 @registry.py:134]\u001b[0m gen/LSTM/concat-day_of_week/FC_inputs output: [500, 100]\n",
      "\u001b[32m[1230 18:48:13 @registry.py:126]\u001b[0m gen/LSTM/concat-day_of_week/FC_states input: [500, 200]\n",
      "\u001b[32m[1230 18:48:13 @registry.py:134]\u001b[0m gen/LSTM/concat-day_of_week/FC_states output: [500, 100]\n",
      "\u001b[32m[1230 18:48:13 @registry.py:126]\u001b[0m gen/LSTM/concat-day_of_week/FC_h_outputs input: [500, 200]\n",
      "\u001b[32m[1230 18:48:13 @registry.py:134]\u001b[0m gen/LSTM/concat-day_of_week/FC_h_outputs output: [500, 100]\n",
      "\u001b[32m[1230 18:48:13 @registry.py:126]\u001b[0m gen/LSTM/day_of_week/FC input: [500, 100]\n",
      "\u001b[32m[1230 18:48:13 @registry.py:134]\u001b[0m gen/LSTM/day_of_week/FC output: [500, 50]\n",
      "\u001b[32m[1230 18:48:13 @registry.py:126]\u001b[0m gen/LSTM/day_of_week/FC_prob input: [500, 50]\n",
      "\u001b[32m[1230 18:48:13 @registry.py:134]\u001b[0m gen/LSTM/day_of_week/FC_prob output: [500, 7]\n",
      "\u001b[32m[1230 18:48:13 @registry.py:126]\u001b[0m gen/LSTM/day_of_week/FC_input input: [500, 7]\n",
      "\u001b[32m[1230 18:48:13 @registry.py:134]\u001b[0m gen/LSTM/day_of_week/FC_input output: [500, 100]\n",
      "\u001b[32m[1230 18:48:13 @DATSGANModel.py:213]\u001b[0m \u001b[91mCreating cell for purpose (in-edges: 1; ancestors: 4)\n",
      "\u001b[32m[1230 18:48:13 @registry.py:126]\u001b[0m gen/LSTM/purpose/FC input: [500, 100]\n",
      "\u001b[32m[1230 18:48:13 @registry.py:134]\u001b[0m gen/LSTM/purpose/FC output: [500, 50]\n",
      "\u001b[32m[1230 18:48:13 @registry.py:126]\u001b[0m gen/LSTM/purpose/FC_prob input: [500, 50]\n",
      "\u001b[32m[1230 18:48:13 @registry.py:134]\u001b[0m gen/LSTM/purpose/FC_prob output: [500, 5]\n",
      "\u001b[32m[1230 18:48:13 @registry.py:126]\u001b[0m gen/LSTM/purpose/FC_input input: [500, 5]\n",
      "\u001b[32m[1230 18:48:13 @registry.py:134]\u001b[0m gen/LSTM/purpose/FC_input output: [500, 100]\n",
      "\u001b[32m[1230 18:48:13 @DATSGANModel.py:213]\u001b[0m \u001b[91mCreating cell for start_time_linear (in-edges: 2; ancestors: 5)\n",
      "\u001b[32m[1230 18:48:13 @registry.py:126]\u001b[0m gen/LSTM/concat-start_time_linear/FC_inputs input: [500, 200]\n",
      "\u001b[32m[1230 18:48:13 @registry.py:134]\u001b[0m gen/LSTM/concat-start_time_linear/FC_inputs output: [500, 100]\n",
      "\u001b[32m[1230 18:48:13 @registry.py:126]\u001b[0m gen/LSTM/concat-start_time_linear/FC_states input: [500, 200]\n",
      "\u001b[32m[1230 18:48:13 @registry.py:134]\u001b[0m gen/LSTM/concat-start_time_linear/FC_states output: [500, 100]\n",
      "\u001b[32m[1230 18:48:13 @registry.py:126]\u001b[0m gen/LSTM/concat-start_time_linear/FC_h_outputs input: [500, 200]\n",
      "\u001b[32m[1230 18:48:13 @registry.py:134]\u001b[0m gen/LSTM/concat-start_time_linear/FC_h_outputs output: [500, 100]\n",
      "\u001b[32m[1230 18:48:13 @registry.py:126]\u001b[0m gen/LSTM/start_time_linear/FC input: [500, 100]\n",
      "\u001b[32m[1230 18:48:13 @registry.py:134]\u001b[0m gen/LSTM/start_time_linear/FC output: [500, 50]\n",
      "\u001b[32m[1230 18:48:13 @registry.py:126]\u001b[0m gen/LSTM/start_time_linear/FC_val input: [500, 50]\n",
      "\u001b[32m[1230 18:48:13 @registry.py:134]\u001b[0m gen/LSTM/start_time_linear/FC_val output: [500, 6]\n",
      "\u001b[32m[1230 18:48:13 @registry.py:126]\u001b[0m gen/LSTM/start_time_linear/FC_prob input: [500, 50]\n",
      "\u001b[32m[1230 18:48:13 @registry.py:134]\u001b[0m gen/LSTM/start_time_linear/FC_prob output: [500, 6]\n",
      "\u001b[32m[1230 18:48:13 @registry.py:126]\u001b[0m gen/LSTM/start_time_linear/FC_input input: [500, 12]\n",
      "\u001b[32m[1230 18:48:13 @registry.py:134]\u001b[0m gen/LSTM/start_time_linear/FC_input output: [500, 100]\n",
      "\u001b[32m[1230 18:48:13 @DATSGANModel.py:213]\u001b[0m \u001b[91mCreating cell for distance (in-edges: 1; ancestors: 5)\n",
      "\u001b[32m[1230 18:48:13 @registry.py:126]\u001b[0m gen/LSTM/distance/FC input: [500, 100]\n",
      "\u001b[32m[1230 18:48:13 @registry.py:134]\u001b[0m gen/LSTM/distance/FC output: [500, 50]\n",
      "\u001b[32m[1230 18:48:13 @registry.py:126]\u001b[0m gen/LSTM/distance/FC_val input: [500, 50]\n",
      "\u001b[32m[1230 18:48:13 @registry.py:134]\u001b[0m gen/LSTM/distance/FC_val output: [500, 6]\n"
     ]
    },
    {
     "name": "stdout",
     "output_type": "stream",
     "text": [
      "\u001b[32m[1230 18:48:13 @registry.py:126]\u001b[0m gen/LSTM/distance/FC_prob input: [500, 50]\n",
      "\u001b[32m[1230 18:48:13 @registry.py:134]\u001b[0m gen/LSTM/distance/FC_prob output: [500, 6]\n",
      "\u001b[32m[1230 18:48:13 @registry.py:126]\u001b[0m gen/LSTM/distance/FC_input input: [500, 12]\n",
      "\u001b[32m[1230 18:48:13 @registry.py:134]\u001b[0m gen/LSTM/distance/FC_input output: [500, 100]\n",
      "\u001b[32m[1230 18:48:13 @DATSGANModel.py:213]\u001b[0m \u001b[91mCreating cell for driving_traffic_percent (in-edges: 3; ancestors: 6)\n",
      "\u001b[32m[1230 18:48:13 @registry.py:126]\u001b[0m gen/LSTM/concat-driving_traffic_percent/FC_inputs input: [500, 300]\n",
      "\u001b[32m[1230 18:48:13 @registry.py:134]\u001b[0m gen/LSTM/concat-driving_traffic_percent/FC_inputs output: [500, 100]\n",
      "\u001b[32m[1230 18:48:13 @registry.py:126]\u001b[0m gen/LSTM/concat-driving_traffic_percent/FC_states input: [500, 300]\n",
      "\u001b[32m[1230 18:48:13 @registry.py:134]\u001b[0m gen/LSTM/concat-driving_traffic_percent/FC_states output: [500, 100]\n",
      "\u001b[32m[1230 18:48:13 @registry.py:126]\u001b[0m gen/LSTM/concat-driving_traffic_percent/FC_h_outputs input: [500, 300]\n",
      "\u001b[32m[1230 18:48:13 @registry.py:134]\u001b[0m gen/LSTM/concat-driving_traffic_percent/FC_h_outputs output: [500, 100]\n",
      "\u001b[32m[1230 18:48:13 @registry.py:126]\u001b[0m gen/LSTM/driving_traffic_percent/FC input: [500, 100]\n",
      "\u001b[32m[1230 18:48:13 @registry.py:134]\u001b[0m gen/LSTM/driving_traffic_percent/FC output: [500, 50]\n",
      "\u001b[32m[1230 18:48:13 @registry.py:126]\u001b[0m gen/LSTM/driving_traffic_percent/FC_val input: [500, 50]\n",
      "\u001b[32m[1230 18:48:13 @registry.py:134]\u001b[0m gen/LSTM/driving_traffic_percent/FC_val output: [500, 5]\n",
      "\u001b[32m[1230 18:48:13 @registry.py:126]\u001b[0m gen/LSTM/driving_traffic_percent/FC_prob input: [500, 50]\n",
      "\u001b[32m[1230 18:48:13 @registry.py:134]\u001b[0m gen/LSTM/driving_traffic_percent/FC_prob output: [500, 5]\n",
      "\u001b[32m[1230 18:48:13 @registry.py:126]\u001b[0m gen/LSTM/driving_traffic_percent/FC_input input: [500, 10]\n",
      "\u001b[32m[1230 18:48:13 @registry.py:134]\u001b[0m gen/LSTM/driving_traffic_percent/FC_input output: [500, 100]\n",
      "\u001b[32m[1230 18:48:13 @DATSGANModel.py:213]\u001b[0m \u001b[91mCreating cell for cost_driving_fuel (in-edges: 2; ancestors: 8)\n",
      "\u001b[32m[1230 18:48:13 @registry.py:126]\u001b[0m gen/LSTM/concat-cost_driving_fuel/FC_inputs input: [500, 200]\n",
      "\u001b[32m[1230 18:48:13 @registry.py:134]\u001b[0m gen/LSTM/concat-cost_driving_fuel/FC_inputs output: [500, 100]\n",
      "\u001b[32m[1230 18:48:13 @registry.py:126]\u001b[0m gen/LSTM/concat-cost_driving_fuel/FC_states input: [500, 200]\n",
      "\u001b[32m[1230 18:48:13 @registry.py:134]\u001b[0m gen/LSTM/concat-cost_driving_fuel/FC_states output: [500, 100]\n",
      "\u001b[32m[1230 18:48:13 @registry.py:126]\u001b[0m gen/LSTM/concat-cost_driving_fuel/FC_h_outputs input: [500, 200]\n",
      "\u001b[32m[1230 18:48:13 @registry.py:134]\u001b[0m gen/LSTM/concat-cost_driving_fuel/FC_h_outputs output: [500, 100]\n",
      "\u001b[32m[1230 18:48:13 @registry.py:126]\u001b[0m gen/LSTM/car_ownership-travel_year/FC_noise input: [None, 400]\n",
      "\u001b[32m[1230 18:48:13 @registry.py:134]\u001b[0m gen/LSTM/car_ownership-travel_year/FC_noise output: [None, 200]\n",
      "\u001b[32m[1230 18:48:13 @registry.py:126]\u001b[0m gen/LSTM/cost_driving_fuel/FC input: [500, 100]\n",
      "\u001b[32m[1230 18:48:13 @registry.py:134]\u001b[0m gen/LSTM/cost_driving_fuel/FC output: [500, 50]\n",
      "\u001b[32m[1230 18:48:13 @registry.py:126]\u001b[0m gen/LSTM/cost_driving_fuel/FC_val input: [500, 50]\n",
      "\u001b[32m[1230 18:48:13 @registry.py:134]\u001b[0m gen/LSTM/cost_driving_fuel/FC_val output: [500, 4]\n",
      "\u001b[32m[1230 18:48:13 @registry.py:126]\u001b[0m gen/LSTM/cost_driving_fuel/FC_prob input: [500, 50]\n",
      "\u001b[32m[1230 18:48:13 @registry.py:134]\u001b[0m gen/LSTM/cost_driving_fuel/FC_prob output: [500, 4]\n",
      "\u001b[32m[1230 18:48:13 @registry.py:126]\u001b[0m gen/LSTM/cost_driving_fuel/FC_input input: [500, 8]\n",
      "\u001b[32m[1230 18:48:13 @registry.py:134]\u001b[0m gen/LSTM/cost_driving_fuel/FC_input output: [500, 100]\n",
      "\u001b[32m[1230 18:48:13 @DATSGANModel.py:213]\u001b[0m \u001b[91mCreating cell for dur_driving (in-edges: 1; ancestors: 6)\n",
      "\u001b[32m[1230 18:48:13 @registry.py:126]\u001b[0m gen/LSTM/dur_driving/FC input: [500, 100]\n",
      "\u001b[32m[1230 18:48:13 @registry.py:134]\u001b[0m gen/LSTM/dur_driving/FC output: [500, 50]\n",
      "\u001b[32m[1230 18:48:13 @registry.py:126]\u001b[0m gen/LSTM/dur_driving/FC_val input: [500, 50]\n",
      "\u001b[32m[1230 18:48:13 @registry.py:134]\u001b[0m gen/LSTM/dur_driving/FC_val output: [500, 5]\n",
      "\u001b[32m[1230 18:48:13 @registry.py:126]\u001b[0m gen/LSTM/dur_driving/FC_prob input: [500, 50]\n",
      "\u001b[32m[1230 18:48:13 @registry.py:134]\u001b[0m gen/LSTM/dur_driving/FC_prob output: [500, 5]\n",
      "\u001b[32m[1230 18:48:13 @registry.py:126]\u001b[0m gen/LSTM/dur_driving/FC_input input: [500, 10]\n",
      "\u001b[32m[1230 18:48:13 @registry.py:134]\u001b[0m gen/LSTM/dur_driving/FC_input output: [500, 100]\n",
      "\u001b[32m[1230 18:48:13 @DATSGANModel.py:213]\u001b[0m \u001b[91mCreating cell for dur_walking (in-edges: 1; ancestors: 6)\n",
      "\u001b[32m[1230 18:48:13 @registry.py:126]\u001b[0m gen/LSTM/dur_walking/FC input: [500, 100]\n",
      "\u001b[32m[1230 18:48:13 @registry.py:134]\u001b[0m gen/LSTM/dur_walking/FC output: [500, 50]\n",
      "\u001b[32m[1230 18:48:13 @registry.py:126]\u001b[0m gen/LSTM/dur_walking/FC_val input: [500, 50]\n",
      "\u001b[32m[1230 18:48:13 @registry.py:134]\u001b[0m gen/LSTM/dur_walking/FC_val output: [500, 5]\n",
      "\u001b[32m[1230 18:48:13 @registry.py:126]\u001b[0m gen/LSTM/dur_walking/FC_prob input: [500, 50]\n",
      "\u001b[32m[1230 18:48:13 @registry.py:134]\u001b[0m gen/LSTM/dur_walking/FC_prob output: [500, 5]\n",
      "\u001b[32m[1230 18:48:13 @registry.py:126]\u001b[0m gen/LSTM/dur_walking/FC_input input: [500, 10]\n",
      "\u001b[32m[1230 18:48:13 @registry.py:134]\u001b[0m gen/LSTM/dur_walking/FC_input output: [500, 100]\n",
      "\u001b[32m[1230 18:48:13 @DATSGANModel.py:213]\u001b[0m \u001b[91mCreating cell for dur_cycling (in-edges: 1; ancestors: 6)\n",
      "\u001b[32m[1230 18:48:13 @registry.py:126]\u001b[0m gen/LSTM/dur_cycling/FC input: [500, 100]\n",
      "\u001b[32m[1230 18:48:13 @registry.py:134]\u001b[0m gen/LSTM/dur_cycling/FC output: [500, 50]\n",
      "\u001b[32m[1230 18:48:13 @registry.py:126]\u001b[0m gen/LSTM/dur_cycling/FC_val input: [500, 50]\n",
      "\u001b[32m[1230 18:48:13 @registry.py:134]\u001b[0m gen/LSTM/dur_cycling/FC_val output: [500, 6]\n",
      "\u001b[32m[1230 18:48:13 @registry.py:126]\u001b[0m gen/LSTM/dur_cycling/FC_prob input: [500, 50]\n",
      "\u001b[32m[1230 18:48:13 @registry.py:134]\u001b[0m gen/LSTM/dur_cycling/FC_prob output: [500, 6]\n",
      "\u001b[32m[1230 18:48:13 @registry.py:126]\u001b[0m gen/LSTM/dur_cycling/FC_input input: [500, 12]\n",
      "\u001b[32m[1230 18:48:13 @registry.py:134]\u001b[0m gen/LSTM/dur_cycling/FC_input output: [500, 100]\n",
      "\u001b[32m[1230 18:48:13 @DATSGANModel.py:213]\u001b[0m \u001b[91mCreating cell for dur_pt_access (in-edges: 1; ancestors: 6)\n",
      "\u001b[32m[1230 18:48:13 @registry.py:126]\u001b[0m gen/LSTM/dur_pt_access/FC input: [500, 100]\n",
      "\u001b[32m[1230 18:48:13 @registry.py:134]\u001b[0m gen/LSTM/dur_pt_access/FC output: [500, 50]\n",
      "\u001b[32m[1230 18:48:13 @registry.py:126]\u001b[0m gen/LSTM/dur_pt_access/FC_val input: [500, 50]\n",
      "\u001b[32m[1230 18:48:13 @registry.py:134]\u001b[0m gen/LSTM/dur_pt_access/FC_val output: [500, 6]\n",
      "\u001b[32m[1230 18:48:13 @registry.py:126]\u001b[0m gen/LSTM/dur_pt_access/FC_prob input: [500, 50]\n",
      "\u001b[32m[1230 18:48:13 @registry.py:134]\u001b[0m gen/LSTM/dur_pt_access/FC_prob output: [500, 6]\n",
      "\u001b[32m[1230 18:48:13 @registry.py:126]\u001b[0m gen/LSTM/dur_pt_access/FC_input input: [500, 12]\n",
      "\u001b[32m[1230 18:48:13 @registry.py:134]\u001b[0m gen/LSTM/dur_pt_access/FC_input output: [500, 100]\n",
      "\u001b[32m[1230 18:48:13 @DATSGANModel.py:213]\u001b[0m \u001b[91mCreating cell for pt_n_interchanges (in-edges: 1; ancestors: 6)\n",
      "\u001b[32m[1230 18:48:13 @registry.py:126]\u001b[0m gen/LSTM/pt_n_interchanges/FC input: [500, 100]\n",
      "\u001b[32m[1230 18:48:14 @registry.py:134]\u001b[0m gen/LSTM/pt_n_interchanges/FC output: [500, 50]\n",
      "\u001b[32m[1230 18:48:14 @registry.py:126]\u001b[0m gen/LSTM/pt_n_interchanges/FC_prob input: [500, 50]\n",
      "\u001b[32m[1230 18:48:14 @registry.py:134]\u001b[0m gen/LSTM/pt_n_interchanges/FC_prob output: [500, 5]\n",
      "\u001b[32m[1230 18:48:14 @registry.py:126]\u001b[0m gen/LSTM/pt_n_interchanges/FC_input input: [500, 5]\n",
      "\u001b[32m[1230 18:48:14 @registry.py:134]\u001b[0m gen/LSTM/pt_n_interchanges/FC_input output: [500, 100]\n",
      "\u001b[32m[1230 18:48:14 @DATSGANModel.py:213]\u001b[0m \u001b[91mCreating cell for cost_driving_con_charge (in-edges: 5; ancestors: 11)\n",
      "\u001b[32m[1230 18:48:14 @registry.py:126]\u001b[0m gen/LSTM/concat-cost_driving_con_charge/FC_inputs input: [500, 500]\n",
      "\u001b[32m[1230 18:48:14 @registry.py:134]\u001b[0m gen/LSTM/concat-cost_driving_con_charge/FC_inputs output: [500, 100]\n",
      "\u001b[32m[1230 18:48:14 @registry.py:126]\u001b[0m gen/LSTM/concat-cost_driving_con_charge/FC_states input: [500, 500]\n",
      "\u001b[32m[1230 18:48:14 @registry.py:134]\u001b[0m gen/LSTM/concat-cost_driving_con_charge/FC_states output: [500, 100]\n",
      "\u001b[32m[1230 18:48:14 @registry.py:126]\u001b[0m gen/LSTM/concat-cost_driving_con_charge/FC_h_outputs input: [500, 500]\n"
     ]
    },
    {
     "name": "stdout",
     "output_type": "stream",
     "text": [
      "\u001b[32m[1230 18:48:14 @registry.py:134]\u001b[0m gen/LSTM/concat-cost_driving_con_charge/FC_h_outputs output: [500, 100]\n",
      "\u001b[32m[1230 18:48:14 @registry.py:126]\u001b[0m gen/LSTM/cost_driving_con_charge/FC input: [500, 100]\n",
      "\u001b[32m[1230 18:48:14 @registry.py:134]\u001b[0m gen/LSTM/cost_driving_con_charge/FC output: [500, 50]\n",
      "\u001b[32m[1230 18:48:14 @registry.py:126]\u001b[0m gen/LSTM/cost_driving_con_charge/FC_prob input: [500, 50]\n",
      "\u001b[32m[1230 18:48:14 @registry.py:134]\u001b[0m gen/LSTM/cost_driving_con_charge/FC_prob output: [500, 2]\n",
      "\u001b[32m[1230 18:48:14 @registry.py:126]\u001b[0m gen/LSTM/cost_driving_con_charge/FC_input input: [500, 2]\n",
      "\u001b[32m[1230 18:48:14 @registry.py:134]\u001b[0m gen/LSTM/cost_driving_con_charge/FC_input output: [500, 100]\n",
      "\u001b[32m[1230 18:48:14 @DATSGANModel.py:213]\u001b[0m \u001b[91mCreating cell for dur_pt_rail (in-edges: 2; ancestors: 7)\n",
      "\u001b[32m[1230 18:48:14 @registry.py:126]\u001b[0m gen/LSTM/concat-dur_pt_rail/FC_inputs input: [500, 200]\n",
      "\u001b[32m[1230 18:48:14 @registry.py:134]\u001b[0m gen/LSTM/concat-dur_pt_rail/FC_inputs output: [500, 100]\n",
      "\u001b[32m[1230 18:48:14 @registry.py:126]\u001b[0m gen/LSTM/concat-dur_pt_rail/FC_states input: [500, 200]\n",
      "\u001b[32m[1230 18:48:14 @registry.py:134]\u001b[0m gen/LSTM/concat-dur_pt_rail/FC_states output: [500, 100]\n",
      "\u001b[32m[1230 18:48:14 @registry.py:126]\u001b[0m gen/LSTM/concat-dur_pt_rail/FC_h_outputs input: [500, 200]\n",
      "\u001b[32m[1230 18:48:14 @registry.py:134]\u001b[0m gen/LSTM/concat-dur_pt_rail/FC_h_outputs output: [500, 100]\n",
      "\u001b[32m[1230 18:48:14 @registry.py:126]\u001b[0m gen/LSTM/dur_pt_rail/FC input: [500, 100]\n",
      "\u001b[32m[1230 18:48:14 @registry.py:134]\u001b[0m gen/LSTM/dur_pt_rail/FC output: [500, 50]\n",
      "\u001b[32m[1230 18:48:14 @registry.py:126]\u001b[0m gen/LSTM/dur_pt_rail/FC_val input: [500, 50]\n",
      "\u001b[32m[1230 18:48:14 @registry.py:134]\u001b[0m gen/LSTM/dur_pt_rail/FC_val output: [500, 5]\n",
      "\u001b[32m[1230 18:48:14 @registry.py:126]\u001b[0m gen/LSTM/dur_pt_rail/FC_prob input: [500, 50]\n",
      "\u001b[32m[1230 18:48:14 @registry.py:134]\u001b[0m gen/LSTM/dur_pt_rail/FC_prob output: [500, 5]\n",
      "\u001b[32m[1230 18:48:14 @registry.py:126]\u001b[0m gen/LSTM/dur_pt_rail/FC_input input: [500, 10]\n",
      "\u001b[32m[1230 18:48:14 @registry.py:134]\u001b[0m gen/LSTM/dur_pt_rail/FC_input output: [500, 100]\n",
      "\u001b[32m[1230 18:48:14 @DATSGANModel.py:213]\u001b[0m \u001b[91mCreating cell for dur_pt_bus (in-edges: 2; ancestors: 7)\n",
      "\u001b[32m[1230 18:48:14 @registry.py:126]\u001b[0m gen/LSTM/concat-dur_pt_bus/FC_inputs input: [500, 200]\n",
      "\u001b[32m[1230 18:48:14 @registry.py:134]\u001b[0m gen/LSTM/concat-dur_pt_bus/FC_inputs output: [500, 100]\n",
      "\u001b[32m[1230 18:48:14 @registry.py:126]\u001b[0m gen/LSTM/concat-dur_pt_bus/FC_states input: [500, 200]\n",
      "\u001b[32m[1230 18:48:14 @registry.py:134]\u001b[0m gen/LSTM/concat-dur_pt_bus/FC_states output: [500, 100]\n",
      "\u001b[32m[1230 18:48:14 @registry.py:126]\u001b[0m gen/LSTM/concat-dur_pt_bus/FC_h_outputs input: [500, 200]\n",
      "\u001b[32m[1230 18:48:14 @registry.py:134]\u001b[0m gen/LSTM/concat-dur_pt_bus/FC_h_outputs output: [500, 100]\n",
      "\u001b[32m[1230 18:48:14 @registry.py:126]\u001b[0m gen/LSTM/dur_pt_bus/FC input: [500, 100]\n",
      "\u001b[32m[1230 18:48:14 @registry.py:134]\u001b[0m gen/LSTM/dur_pt_bus/FC output: [500, 50]\n",
      "\u001b[32m[1230 18:48:14 @registry.py:126]\u001b[0m gen/LSTM/dur_pt_bus/FC_val input: [500, 50]\n",
      "\u001b[32m[1230 18:48:14 @registry.py:134]\u001b[0m gen/LSTM/dur_pt_bus/FC_val output: [500, 6]\n",
      "\u001b[32m[1230 18:48:14 @registry.py:126]\u001b[0m gen/LSTM/dur_pt_bus/FC_prob input: [500, 50]\n",
      "\u001b[32m[1230 18:48:14 @registry.py:134]\u001b[0m gen/LSTM/dur_pt_bus/FC_prob output: [500, 6]\n",
      "\u001b[32m[1230 18:48:14 @registry.py:126]\u001b[0m gen/LSTM/dur_pt_bus/FC_input input: [500, 12]\n",
      "\u001b[32m[1230 18:48:14 @registry.py:134]\u001b[0m gen/LSTM/dur_pt_bus/FC_input output: [500, 100]\n",
      "\u001b[32m[1230 18:48:14 @DATSGANModel.py:213]\u001b[0m \u001b[91mCreating cell for dur_pt_int (in-edges: 2; ancestors: 7)\n",
      "\u001b[32m[1230 18:48:14 @registry.py:126]\u001b[0m gen/LSTM/concat-dur_pt_int/FC_inputs input: [500, 200]\n",
      "\u001b[32m[1230 18:48:14 @registry.py:134]\u001b[0m gen/LSTM/concat-dur_pt_int/FC_inputs output: [500, 100]\n",
      "\u001b[32m[1230 18:48:14 @registry.py:126]\u001b[0m gen/LSTM/concat-dur_pt_int/FC_states input: [500, 200]\n",
      "\u001b[32m[1230 18:48:14 @registry.py:134]\u001b[0m gen/LSTM/concat-dur_pt_int/FC_states output: [500, 100]\n",
      "\u001b[32m[1230 18:48:14 @registry.py:126]\u001b[0m gen/LSTM/concat-dur_pt_int/FC_h_outputs input: [500, 200]\n",
      "\u001b[32m[1230 18:48:14 @registry.py:134]\u001b[0m gen/LSTM/concat-dur_pt_int/FC_h_outputs output: [500, 100]\n",
      "\u001b[32m[1230 18:48:14 @registry.py:126]\u001b[0m gen/LSTM/dur_pt_int/FC input: [500, 100]\n",
      "\u001b[32m[1230 18:48:14 @registry.py:134]\u001b[0m gen/LSTM/dur_pt_int/FC output: [500, 50]\n",
      "\u001b[32m[1230 18:48:14 @registry.py:126]\u001b[0m gen/LSTM/dur_pt_int/FC_val input: [500, 50]\n",
      "\u001b[32m[1230 18:48:14 @registry.py:134]\u001b[0m gen/LSTM/dur_pt_int/FC_val output: [500, 5]\n",
      "\u001b[32m[1230 18:48:14 @registry.py:126]\u001b[0m gen/LSTM/dur_pt_int/FC_prob input: [500, 50]\n",
      "\u001b[32m[1230 18:48:14 @registry.py:134]\u001b[0m gen/LSTM/dur_pt_int/FC_prob output: [500, 5]\n",
      "\u001b[32m[1230 18:48:14 @registry.py:126]\u001b[0m gen/LSTM/dur_pt_int/FC_input input: [500, 10]\n",
      "\u001b[32m[1230 18:48:14 @registry.py:134]\u001b[0m gen/LSTM/dur_pt_int/FC_input output: [500, 100]\n",
      "\u001b[32m[1230 18:48:14 @DATSGANModel.py:213]\u001b[0m \u001b[91mCreating cell for cost_transit (in-edges: 5; ancestors: 12)\n",
      "\u001b[32m[1230 18:48:14 @registry.py:126]\u001b[0m gen/LSTM/concat-cost_transit/FC_inputs input: [500, 500]\n",
      "\u001b[32m[1230 18:48:14 @registry.py:134]\u001b[0m gen/LSTM/concat-cost_transit/FC_inputs output: [500, 100]\n",
      "\u001b[32m[1230 18:48:14 @registry.py:126]\u001b[0m gen/LSTM/concat-cost_transit/FC_states input: [500, 500]\n",
      "\u001b[32m[1230 18:48:14 @registry.py:134]\u001b[0m gen/LSTM/concat-cost_transit/FC_states output: [500, 100]\n",
      "\u001b[32m[1230 18:48:14 @registry.py:126]\u001b[0m gen/LSTM/concat-cost_transit/FC_h_outputs input: [500, 500]\n",
      "\u001b[32m[1230 18:48:14 @registry.py:134]\u001b[0m gen/LSTM/concat-cost_transit/FC_h_outputs output: [500, 100]\n",
      "\u001b[32m[1230 18:48:14 @registry.py:126]\u001b[0m gen/LSTM/age-travel_year/FC_noise input: [None, 400]\n",
      "\u001b[32m[1230 18:48:14 @registry.py:134]\u001b[0m gen/LSTM/age-travel_year/FC_noise output: [None, 200]\n",
      "\u001b[32m[1230 18:48:14 @registry.py:126]\u001b[0m gen/LSTM/cost_transit/FC input: [500, 100]\n",
      "\u001b[32m[1230 18:48:14 @registry.py:134]\u001b[0m gen/LSTM/cost_transit/FC output: [500, 50]\n",
      "\u001b[32m[1230 18:48:14 @registry.py:126]\u001b[0m gen/LSTM/cost_transit/FC_val input: [500, 50]\n",
      "\u001b[32m[1230 18:48:14 @registry.py:134]\u001b[0m gen/LSTM/cost_transit/FC_val output: [500, 8]\n",
      "\u001b[32m[1230 18:48:14 @registry.py:126]\u001b[0m gen/LSTM/cost_transit/FC_prob input: [500, 50]\n",
      "\u001b[32m[1230 18:48:14 @registry.py:134]\u001b[0m gen/LSTM/cost_transit/FC_prob output: [500, 8]\n",
      "\u001b[32m[1230 18:48:14 @registry.py:126]\u001b[0m gen/LSTM/cost_transit/FC_input input: [500, 16]\n",
      "\u001b[32m[1230 18:48:14 @registry.py:134]\u001b[0m gen/LSTM/cost_transit/FC_input output: [500, 100]\n",
      "\u001b[32m[1230 18:48:14 @DATSGANModel.py:213]\u001b[0m \u001b[91mCreating cell for travel_mode (in-edges: 21; ancestors: 26)\n",
      "\u001b[32m[1230 18:48:14 @registry.py:126]\u001b[0m gen/LSTM/concat-travel_mode/FC_inputs input: [500, 2100]\n",
      "\u001b[32m[1230 18:48:14 @registry.py:134]\u001b[0m gen/LSTM/concat-travel_mode/FC_inputs output: [500, 100]\n",
      "\u001b[32m[1230 18:48:14 @registry.py:126]\u001b[0m gen/LSTM/concat-travel_mode/FC_states input: [500, 2100]\n",
      "\u001b[32m[1230 18:48:14 @registry.py:134]\u001b[0m gen/LSTM/concat-travel_mode/FC_states output: [500, 100]\n",
      "\u001b[32m[1230 18:48:14 @registry.py:126]\u001b[0m gen/LSTM/concat-travel_mode/FC_h_outputs input: [500, 2100]\n",
      "\u001b[32m[1230 18:48:14 @registry.py:134]\u001b[0m gen/LSTM/concat-travel_mode/FC_h_outputs output: [500, 100]\n",
      "\u001b[32m[1230 18:48:14 @registry.py:126]\u001b[0m gen/LSTM/age-car_ownership-female-travel_year/FC_noise input: [None, 800]\n",
      "\u001b[32m[1230 18:48:14 @registry.py:134]\u001b[0m gen/LSTM/age-car_ownership-female-travel_year/FC_noise output: [None, 200]\n",
      "\u001b[32m[1230 18:48:14 @registry.py:126]\u001b[0m gen/LSTM/travel_mode/FC input: [500, 100]\n",
      "\u001b[32m[1230 18:48:14 @registry.py:134]\u001b[0m gen/LSTM/travel_mode/FC output: [500, 50]\n",
      "\u001b[32m[1230 18:48:14 @registry.py:126]\u001b[0m gen/LSTM/travel_mode/FC_prob input: [500, 50]\n",
      "\u001b[32m[1230 18:48:14 @registry.py:134]\u001b[0m gen/LSTM/travel_mode/FC_prob output: [500, 4]\n",
      "\u001b[32m[1230 18:48:14 @registry.py:126]\u001b[0m gen/LSTM/travel_mode/FC_input input: [500, 4]\n",
      "\u001b[32m[1230 18:48:14 @registry.py:134]\u001b[0m gen/LSTM/travel_mode/FC_input output: [500, 100]\n",
      "WARNING:tensorflow:From C:\\Users\\glede\\Documents\\EPFL\\PhD\\SynthPop\\code\\modules\\datgan\\models\\DATSGANModel.py:542: The name tf.random_uniform is deprecated. Please use tf.random.uniform instead.\n",
      "\n",
      "WARNING:tensorflow:From C:\\Users\\glede\\Documents\\EPFL\\PhD\\SynthPop\\code\\modules\\datgan\\models\\DATSGANModel.py:479: The name tf.log is deprecated. Please use tf.math.log instead.\n",
      "\n"
     ]
    },
    {
     "name": "stdout",
     "output_type": "stream",
     "text": [
      "\u001b[32m[1230 18:48:14 @registry.py:126]\u001b[0m discrim/discrim/dis_fc0/fc input: [500, 235]\n",
      "\u001b[32m[1230 18:48:15 @registry.py:134]\u001b[0m discrim/discrim/dis_fc0/fc output: [500, 100]\n",
      "\u001b[32m[1230 18:48:15 @registry.py:126]\u001b[0m discrim/discrim/dis_fc0/FC_DIVERSITY input: [500, 100]\n",
      "\u001b[32m[1230 18:48:15 @registry.py:134]\u001b[0m discrim/discrim/dis_fc0/FC_DIVERSITY output: [500, 100]\n",
      "\u001b[32m[1230 18:48:15 @registry.py:126]\u001b[0m discrim/discrim/dis_fc_top input: [500, 110]\n",
      "\u001b[32m[1230 18:48:15 @registry.py:134]\u001b[0m discrim/discrim/dis_fc_top output: [500, 1]\n",
      "WARNING:tensorflow:From D:\\Users\\glede\\anaconda3\\envs\\py37\\lib\\site-packages\\tensorpack\\tfutils\\collection.py:45: The name tf.get_collection_ref is deprecated. Please use tf.compat.v1.get_collection_ref instead.\n",
      "\n",
      "WARNING:tensorflow:From D:\\Users\\glede\\anaconda3\\envs\\py37\\lib\\site-packages\\tensorpack\\tfutils\\sessinit.py:120: The name tf.train.NewCheckpointReader is deprecated. Please use tf.compat.v1.train.NewCheckpointReader instead.\n",
      "\n",
      "WARNING:tensorflow:From D:\\Users\\glede\\anaconda3\\envs\\py37\\lib\\site-packages\\tensorpack\\tfutils\\sessinit.py:127: The name tf.global_variables is deprecated. Please use tf.compat.v1.global_variables instead.\n",
      "\n",
      "\u001b[32m[1230 18:48:15 @sessinit.py:87]\u001b[0m \u001b[5m\u001b[31mWRN\u001b[0m The following variables are in the checkpoint, but not found in the graph: global_step, optimize/beta1_power, optimize/beta2_power\n",
      "WARNING:tensorflow:From D:\\Users\\glede\\anaconda3\\envs\\py37\\lib\\site-packages\\tensorpack\\tfutils\\sessinit.py:111: The name tf.train.Saver is deprecated. Please use tf.compat.v1.train.Saver instead.\n",
      "\n",
      "WARNING:tensorflow:From D:\\Users\\glede\\anaconda3\\envs\\py37\\lib\\site-packages\\tensorflow_core\\python\\ops\\array_ops.py:1475: where (from tensorflow.python.ops.array_ops) is deprecated and will be removed in a future version.\n",
      "Instructions for updating:\n",
      "Use tf.where in 2.0, which has the same broadcast rule as np.where\n",
      "INFO:tensorflow:Graph was finalized.\n",
      "INFO:tensorflow:Running local_init_op.\n",
      "INFO:tensorflow:Done running local_init_op.\n",
      "\u001b[32m[1230 18:48:17 @sessinit.py:114]\u001b[0m Restoring checkpoint from ../output/LPMC_half_DAG/FULL_01/model\\model-20399 ...\n",
      "INFO:tensorflow:Restoring parameters from ../output/LPMC_half_DAG/FULL_01/model\\model-20399\n",
      "\u001b[32m[1230 18:48:17 @DATSGAN.py:267]\u001b[0m Loading Preprocessor!\n"
     ]
    },
    {
     "name": "stderr",
     "output_type": "stream",
     "text": [
      "|                                                                                          |35/?[00:01<00:00,24.79it/s]\n"
     ]
    },
    {
     "name": "stdout",
     "output_type": "stream",
     "text": [
      "\u001b[32m[1230 18:48:19 @DATSGAN.py:267]\u001b[0m Loading Preprocessor!\n"
     ]
    },
    {
     "name": "stderr",
     "output_type": "stream",
     "text": [
      "|                                                                                          |35/?[00:00<00:00,47.23it/s]\n"
     ]
    },
    {
     "name": "stdout",
     "output_type": "stream",
     "text": [
      "\u001b[32m[1230 18:48:20 @DATSGAN.py:267]\u001b[0m Loading Preprocessor!\n"
     ]
    },
    {
     "name": "stderr",
     "output_type": "stream",
     "text": [
      "|                                                                                          |35/?[00:00<00:00,47.68it/s]\n"
     ]
    },
    {
     "name": "stdout",
     "output_type": "stream",
     "text": [
      "\u001b[32m[1230 18:48:21 @DATSGAN.py:267]\u001b[0m Loading Preprocessor!\n"
     ]
    },
    {
     "name": "stderr",
     "output_type": "stream",
     "text": [
      "|                                                                                          |35/?[00:00<00:00,48.30it/s]\n"
     ]
    },
    {
     "name": "stdout",
     "output_type": "stream",
     "text": [
      "\u001b[32m[1230 18:48:22 @DATSGAN.py:267]\u001b[0m Loading Preprocessor!\n"
     ]
    },
    {
     "name": "stderr",
     "output_type": "stream",
     "text": [
      "|                                                                                          |35/?[00:00<00:00,48.50it/s]\n"
     ]
    },
    {
     "name": "stdout",
     "output_type": "stream",
     "text": [
      "Sampling synthetic data from model \u001b[1mFULL_02\u001b[0m (2/25)\n",
      "\u001b[32m[1230 18:48:35 @DATSGANModel.py:213]\u001b[0m \u001b[91mCreating cell for travel_year (in-edges: 0; ancestors: 0)\n",
      "\u001b[32m[1230 18:48:35 @DATSGANModel.py:213]\u001b[0m \u001b[91mCreating cell for car_ownership (in-edges: 0; ancestors: 0)\n",
      "\u001b[32m[1230 18:48:35 @DATSGANModel.py:213]\u001b[0m \u001b[91mCreating cell for female (in-edges: 0; ancestors: 0)\n",
      "\u001b[32m[1230 18:48:35 @DATSGANModel.py:213]\u001b[0m \u001b[91mCreating cell for age (in-edges: 0; ancestors: 0)\n",
      "\u001b[32m[1230 18:48:35 @DATSGANModel.py:213]\u001b[0m \u001b[91mCreating cell for travel_month (in-edges: 1; ancestors: 1)\n",
      "\u001b[32m[1230 18:48:35 @DATSGANModel.py:213]\u001b[0m \u001b[91mCreating cell for fueltype (in-edges: 1; ancestors: 1)\n",
      "\u001b[32m[1230 18:48:36 @DATSGANModel.py:213]\u001b[0m \u001b[91mCreating cell for driving_license (in-edges: 3; ancestors: 3)\n",
      "\u001b[32m[1230 18:48:36 @DATSGANModel.py:213]\u001b[0m \u001b[91mCreating cell for faretype (in-edges: 1; ancestors: 1)\n",
      "\u001b[32m[1230 18:48:36 @DATSGANModel.py:213]\u001b[0m \u001b[91mCreating cell for travel_date (in-edges: 1; ancestors: 2)\n",
      "\u001b[32m[1230 18:48:36 @DATSGANModel.py:213]\u001b[0m \u001b[91mCreating cell for bus_scale (in-edges: 2; ancestors: 2)\n",
      "\u001b[32m[1230 18:48:36 @DATSGANModel.py:213]\u001b[0m \u001b[91mCreating cell for day_of_week (in-edges: 2; ancestors: 3)\n",
      "\u001b[32m[1230 18:48:36 @DATSGANModel.py:213]\u001b[0m \u001b[91mCreating cell for purpose (in-edges: 1; ancestors: 4)\n",
      "\u001b[32m[1230 18:48:36 @DATSGANModel.py:213]\u001b[0m \u001b[91mCreating cell for start_time_linear (in-edges: 2; ancestors: 5)\n",
      "\u001b[32m[1230 18:48:36 @DATSGANModel.py:213]\u001b[0m \u001b[91mCreating cell for distance (in-edges: 1; ancestors: 5)\n",
      "\u001b[32m[1230 18:48:36 @DATSGANModel.py:213]\u001b[0m \u001b[91mCreating cell for driving_traffic_percent (in-edges: 3; ancestors: 6)\n",
      "\u001b[32m[1230 18:48:36 @DATSGANModel.py:213]\u001b[0m \u001b[91mCreating cell for cost_driving_fuel (in-edges: 2; ancestors: 8)\n",
      "\u001b[32m[1230 18:48:36 @DATSGANModel.py:213]\u001b[0m \u001b[91mCreating cell for dur_driving (in-edges: 1; ancestors: 6)\n",
      "\u001b[32m[1230 18:48:37 @DATSGANModel.py:213]\u001b[0m \u001b[91mCreating cell for dur_walking (in-edges: 1; ancestors: 6)\n",
      "\u001b[32m[1230 18:48:37 @DATSGANModel.py:213]\u001b[0m \u001b[91mCreating cell for dur_cycling (in-edges: 1; ancestors: 6)\n",
      "\u001b[32m[1230 18:48:37 @DATSGANModel.py:213]\u001b[0m \u001b[91mCreating cell for dur_pt_access (in-edges: 1; ancestors: 6)\n",
      "\u001b[32m[1230 18:48:37 @DATSGANModel.py:213]\u001b[0m \u001b[91mCreating cell for pt_n_interchanges (in-edges: 1; ancestors: 6)\n",
      "\u001b[32m[1230 18:48:37 @DATSGANModel.py:213]\u001b[0m \u001b[91mCreating cell for cost_driving_con_charge (in-edges: 5; ancestors: 11)\n",
      "\u001b[32m[1230 18:48:37 @DATSGANModel.py:213]\u001b[0m \u001b[91mCreating cell for dur_pt_rail (in-edges: 2; ancestors: 7)\n",
      "\u001b[32m[1230 18:48:37 @DATSGANModel.py:213]\u001b[0m \u001b[91mCreating cell for dur_pt_bus (in-edges: 2; ancestors: 7)\n",
      "\u001b[32m[1230 18:48:37 @DATSGANModel.py:213]\u001b[0m \u001b[91mCreating cell for dur_pt_int (in-edges: 2; ancestors: 7)\n",
      "\u001b[32m[1230 18:48:37 @DATSGANModel.py:213]\u001b[0m \u001b[91mCreating cell for cost_transit (in-edges: 5; ancestors: 12)\n",
      "\u001b[32m[1230 18:48:37 @DATSGANModel.py:213]\u001b[0m \u001b[91mCreating cell for travel_mode (in-edges: 21; ancestors: 26)\n",
      "\u001b[32m[1230 18:48:38 @sessinit.py:87]\u001b[0m \u001b[5m\u001b[31mWRN\u001b[0m The following variables are in the checkpoint, but not found in the graph: global_step, optimize/beta1_power, optimize/beta2_power\n",
      "INFO:tensorflow:Graph was finalized.\n",
      "INFO:tensorflow:Running local_init_op.\n",
      "INFO:tensorflow:Done running local_init_op.\n",
      "\u001b[32m[1230 18:48:40 @sessinit.py:114]\u001b[0m Restoring checkpoint from ../output/LPMC_half_DAG/FULL_02/model\\model-20399 ...\n",
      "INFO:tensorflow:Restoring parameters from ../output/LPMC_half_DAG/FULL_02/model\\model-20399\n",
      "\u001b[32m[1230 18:48:40 @DATSGAN.py:267]\u001b[0m Loading Preprocessor!\n"
     ]
    },
    {
     "name": "stderr",
     "output_type": "stream",
     "text": [
      "|                                                                                          |35/?[00:01<00:00,20.95it/s]\n"
     ]
    },
    {
     "name": "stdout",
     "output_type": "stream",
     "text": [
      "\u001b[32m[1230 18:48:42 @DATSGAN.py:267]\u001b[0m Loading Preprocessor!\n"
     ]
    },
    {
     "name": "stderr",
     "output_type": "stream",
     "text": [
      "|                                                                                          |35/?[00:01<00:00,31.79it/s]\n"
     ]
    },
    {
     "name": "stdout",
     "output_type": "stream",
     "text": [
      "\u001b[32m[1230 18:48:44 @DATSGAN.py:267]\u001b[0m Loading Preprocessor!\n"
     ]
    },
    {
     "name": "stderr",
     "output_type": "stream",
     "text": [
      "|                                                                                          |35/?[00:01<00:00,31.97it/s]\n"
     ]
    },
    {
     "name": "stdout",
     "output_type": "stream",
     "text": [
      "\u001b[32m[1230 18:48:45 @DATSGAN.py:267]\u001b[0m Loading Preprocessor!\n"
     ]
    },
    {
     "name": "stderr",
     "output_type": "stream",
     "text": [
      "|                                                                                          |35/?[00:01<00:00,31.96it/s]\n"
     ]
    },
    {
     "name": "stdout",
     "output_type": "stream",
     "text": [
      "\u001b[32m[1230 18:48:47 @DATSGAN.py:267]\u001b[0m Loading Preprocessor!\n"
     ]
    },
    {
     "name": "stderr",
     "output_type": "stream",
     "text": [
      "|                                                                                          |35/?[00:01<00:00,31.32it/s]\n"
     ]
    },
    {
     "name": "stdout",
     "output_type": "stream",
     "text": [
      "Sampling synthetic data from model \u001b[1mFULL_03\u001b[0m (3/25)\n",
      "\u001b[32m[1230 18:49:00 @DATSGANModel.py:213]\u001b[0m \u001b[91mCreating cell for travel_year (in-edges: 0; ancestors: 0)\n",
      "\u001b[32m[1230 18:49:00 @DATSGANModel.py:213]\u001b[0m \u001b[91mCreating cell for car_ownership (in-edges: 0; ancestors: 0)\n",
      "\u001b[32m[1230 18:49:00 @DATSGANModel.py:213]\u001b[0m \u001b[91mCreating cell for female (in-edges: 0; ancestors: 0)\n",
      "\u001b[32m[1230 18:49:00 @DATSGANModel.py:213]\u001b[0m \u001b[91mCreating cell for age (in-edges: 0; ancestors: 0)\n",
      "\u001b[32m[1230 18:49:00 @DATSGANModel.py:213]\u001b[0m \u001b[91mCreating cell for travel_month (in-edges: 1; ancestors: 1)\n",
      "\u001b[32m[1230 18:49:00 @DATSGANModel.py:213]\u001b[0m \u001b[91mCreating cell for fueltype (in-edges: 1; ancestors: 1)\n",
      "\u001b[32m[1230 18:49:00 @DATSGANModel.py:213]\u001b[0m \u001b[91mCreating cell for driving_license (in-edges: 3; ancestors: 3)\n",
      "\u001b[32m[1230 18:49:00 @DATSGANModel.py:213]\u001b[0m \u001b[91mCreating cell for faretype (in-edges: 1; ancestors: 1)\n",
      "\u001b[32m[1230 18:49:00 @DATSGANModel.py:213]\u001b[0m \u001b[91mCreating cell for travel_date (in-edges: 1; ancestors: 2)\n",
      "\u001b[32m[1230 18:49:00 @DATSGANModel.py:213]\u001b[0m \u001b[91mCreating cell for bus_scale (in-edges: 2; ancestors: 2)\n",
      "\u001b[32m[1230 18:49:00 @DATSGANModel.py:213]\u001b[0m \u001b[91mCreating cell for day_of_week (in-edges: 2; ancestors: 3)\n",
      "\u001b[32m[1230 18:49:00 @DATSGANModel.py:213]\u001b[0m \u001b[91mCreating cell for purpose (in-edges: 1; ancestors: 4)\n",
      "\u001b[32m[1230 18:49:01 @DATSGANModel.py:213]\u001b[0m \u001b[91mCreating cell for start_time_linear (in-edges: 2; ancestors: 5)\n",
      "\u001b[32m[1230 18:49:01 @DATSGANModel.py:213]\u001b[0m \u001b[91mCreating cell for distance (in-edges: 1; ancestors: 5)\n",
      "\u001b[32m[1230 18:49:01 @DATSGANModel.py:213]\u001b[0m \u001b[91mCreating cell for driving_traffic_percent (in-edges: 3; ancestors: 6)\n",
      "\u001b[32m[1230 18:49:01 @DATSGANModel.py:213]\u001b[0m \u001b[91mCreating cell for cost_driving_fuel (in-edges: 2; ancestors: 8)\n",
      "\u001b[32m[1230 18:49:01 @DATSGANModel.py:213]\u001b[0m \u001b[91mCreating cell for dur_driving (in-edges: 1; ancestors: 6)\n",
      "\u001b[32m[1230 18:49:01 @DATSGANModel.py:213]\u001b[0m \u001b[91mCreating cell for dur_walking (in-edges: 1; ancestors: 6)\n",
      "\u001b[32m[1230 18:49:01 @DATSGANModel.py:213]\u001b[0m \u001b[91mCreating cell for dur_cycling (in-edges: 1; ancestors: 6)\n",
      "\u001b[32m[1230 18:49:01 @DATSGANModel.py:213]\u001b[0m \u001b[91mCreating cell for dur_pt_access (in-edges: 1; ancestors: 6)\n",
      "\u001b[32m[1230 18:49:01 @DATSGANModel.py:213]\u001b[0m \u001b[91mCreating cell for pt_n_interchanges (in-edges: 1; ancestors: 6)\n",
      "\u001b[32m[1230 18:49:01 @DATSGANModel.py:213]\u001b[0m \u001b[91mCreating cell for cost_driving_con_charge (in-edges: 5; ancestors: 11)\n",
      "\u001b[32m[1230 18:49:01 @DATSGANModel.py:213]\u001b[0m \u001b[91mCreating cell for dur_pt_rail (in-edges: 2; ancestors: 7)\n",
      "\u001b[32m[1230 18:49:01 @DATSGANModel.py:213]\u001b[0m \u001b[91mCreating cell for dur_pt_bus (in-edges: 2; ancestors: 7)\n",
      "\u001b[32m[1230 18:49:02 @DATSGANModel.py:213]\u001b[0m \u001b[91mCreating cell for dur_pt_int (in-edges: 2; ancestors: 7)\n",
      "\u001b[32m[1230 18:49:02 @DATSGANModel.py:213]\u001b[0m \u001b[91mCreating cell for cost_transit (in-edges: 5; ancestors: 12)\n",
      "\u001b[32m[1230 18:49:02 @DATSGANModel.py:213]\u001b[0m \u001b[91mCreating cell for travel_mode (in-edges: 21; ancestors: 26)\n",
      "\u001b[32m[1230 18:49:02 @sessinit.py:87]\u001b[0m \u001b[5m\u001b[31mWRN\u001b[0m The following variables are in the checkpoint, but not found in the graph: global_step, optimize/beta1_power, optimize/beta2_power\n",
      "INFO:tensorflow:Graph was finalized.\n",
      "INFO:tensorflow:Running local_init_op.\n",
      "INFO:tensorflow:Done running local_init_op.\n",
      "\u001b[32m[1230 18:49:05 @sessinit.py:114]\u001b[0m Restoring checkpoint from ../output/LPMC_half_DAG/FULL_03/model\\model-20399 ...\n",
      "INFO:tensorflow:Restoring parameters from ../output/LPMC_half_DAG/FULL_03/model\\model-20399\n",
      "\u001b[32m[1230 18:49:05 @DATSGAN.py:267]\u001b[0m Loading Preprocessor!\n"
     ]
    },
    {
     "name": "stderr",
     "output_type": "stream",
     "text": [
      "|                                                                                          |35/?[00:01<00:00,18.88it/s]\n"
     ]
    },
    {
     "name": "stdout",
     "output_type": "stream",
     "text": [
      "\u001b[32m[1230 18:49:07 @DATSGAN.py:267]\u001b[0m Loading Preprocessor!\n"
     ]
    },
    {
     "name": "stderr",
     "output_type": "stream",
     "text": [
      "|                                                                                          |35/?[00:01<00:00,28.18it/s]\n"
     ]
    },
    {
     "name": "stdout",
     "output_type": "stream",
     "text": [
      "\u001b[32m[1230 18:49:09 @DATSGAN.py:267]\u001b[0m Loading Preprocessor!\n"
     ]
    },
    {
     "name": "stderr",
     "output_type": "stream",
     "text": [
      "|                                                                                          |35/?[00:01<00:00,30.09it/s]\n"
     ]
    },
    {
     "name": "stdout",
     "output_type": "stream",
     "text": [
      "\u001b[32m[1230 18:49:10 @DATSGAN.py:267]\u001b[0m Loading Preprocessor!\n"
     ]
    },
    {
     "name": "stderr",
     "output_type": "stream",
     "text": [
      "|                                                                                          |35/?[00:01<00:00,29.67it/s]\n"
     ]
    },
    {
     "name": "stdout",
     "output_type": "stream",
     "text": [
      "\u001b[32m[1230 18:49:12 @DATSGAN.py:267]\u001b[0m Loading Preprocessor!\n"
     ]
    },
    {
     "name": "stderr",
     "output_type": "stream",
     "text": [
      "|                                                                                          |35/?[00:01<00:00,29.95it/s]\n"
     ]
    },
    {
     "name": "stdout",
     "output_type": "stream",
     "text": [
      "Sampling synthetic data from model \u001b[1mFULL_04\u001b[0m (4/25)\n",
      "\u001b[32m[1230 18:49:25 @DATSGANModel.py:213]\u001b[0m \u001b[91mCreating cell for travel_year (in-edges: 0; ancestors: 0)\n",
      "\u001b[32m[1230 18:49:25 @DATSGANModel.py:213]\u001b[0m \u001b[91mCreating cell for car_ownership (in-edges: 0; ancestors: 0)\n",
      "\u001b[32m[1230 18:49:25 @DATSGANModel.py:213]\u001b[0m \u001b[91mCreating cell for female (in-edges: 0; ancestors: 0)\n",
      "\u001b[32m[1230 18:49:25 @DATSGANModel.py:213]\u001b[0m \u001b[91mCreating cell for age (in-edges: 0; ancestors: 0)\n",
      "\u001b[32m[1230 18:49:25 @DATSGANModel.py:213]\u001b[0m \u001b[91mCreating cell for travel_month (in-edges: 1; ancestors: 1)\n",
      "\u001b[32m[1230 18:49:25 @DATSGANModel.py:213]\u001b[0m \u001b[91mCreating cell for fueltype (in-edges: 1; ancestors: 1)\n",
      "\u001b[32m[1230 18:49:25 @DATSGANModel.py:213]\u001b[0m \u001b[91mCreating cell for driving_license (in-edges: 3; ancestors: 3)\n",
      "\u001b[32m[1230 18:49:26 @DATSGANModel.py:213]\u001b[0m \u001b[91mCreating cell for faretype (in-edges: 1; ancestors: 1)\n",
      "\u001b[32m[1230 18:49:26 @DATSGANModel.py:213]\u001b[0m \u001b[91mCreating cell for travel_date (in-edges: 1; ancestors: 2)\n",
      "\u001b[32m[1230 18:49:26 @DATSGANModel.py:213]\u001b[0m \u001b[91mCreating cell for bus_scale (in-edges: 2; ancestors: 2)\n",
      "\u001b[32m[1230 18:49:26 @DATSGANModel.py:213]\u001b[0m \u001b[91mCreating cell for day_of_week (in-edges: 2; ancestors: 3)\n",
      "\u001b[32m[1230 18:49:26 @DATSGANModel.py:213]\u001b[0m \u001b[91mCreating cell for purpose (in-edges: 1; ancestors: 4)\n",
      "\u001b[32m[1230 18:49:26 @DATSGANModel.py:213]\u001b[0m \u001b[91mCreating cell for start_time_linear (in-edges: 2; ancestors: 5)\n",
      "\u001b[32m[1230 18:49:26 @DATSGANModel.py:213]\u001b[0m \u001b[91mCreating cell for distance (in-edges: 1; ancestors: 5)\n",
      "\u001b[32m[1230 18:49:26 @DATSGANModel.py:213]\u001b[0m \u001b[91mCreating cell for driving_traffic_percent (in-edges: 3; ancestors: 6)\n",
      "\u001b[32m[1230 18:49:26 @DATSGANModel.py:213]\u001b[0m \u001b[91mCreating cell for cost_driving_fuel (in-edges: 2; ancestors: 8)\n",
      "\u001b[32m[1230 18:49:26 @DATSGANModel.py:213]\u001b[0m \u001b[91mCreating cell for dur_driving (in-edges: 1; ancestors: 6)\n",
      "\u001b[32m[1230 18:49:26 @DATSGANModel.py:213]\u001b[0m \u001b[91mCreating cell for dur_walking (in-edges: 1; ancestors: 6)\n",
      "\u001b[32m[1230 18:49:26 @DATSGANModel.py:213]\u001b[0m \u001b[91mCreating cell for dur_cycling (in-edges: 1; ancestors: 6)\n",
      "\u001b[32m[1230 18:49:27 @DATSGANModel.py:213]\u001b[0m \u001b[91mCreating cell for dur_pt_access (in-edges: 1; ancestors: 6)\n",
      "\u001b[32m[1230 18:49:27 @DATSGANModel.py:213]\u001b[0m \u001b[91mCreating cell for pt_n_interchanges (in-edges: 1; ancestors: 6)\n",
      "\u001b[32m[1230 18:49:27 @DATSGANModel.py:213]\u001b[0m \u001b[91mCreating cell for cost_driving_con_charge (in-edges: 5; ancestors: 11)\n",
      "\u001b[32m[1230 18:49:27 @DATSGANModel.py:213]\u001b[0m \u001b[91mCreating cell for dur_pt_rail (in-edges: 2; ancestors: 7)\n",
      "\u001b[32m[1230 18:49:27 @DATSGANModel.py:213]\u001b[0m \u001b[91mCreating cell for dur_pt_bus (in-edges: 2; ancestors: 7)\n",
      "\u001b[32m[1230 18:49:27 @DATSGANModel.py:213]\u001b[0m \u001b[91mCreating cell for dur_pt_int (in-edges: 2; ancestors: 7)\n",
      "\u001b[32m[1230 18:49:27 @DATSGANModel.py:213]\u001b[0m \u001b[91mCreating cell for cost_transit (in-edges: 5; ancestors: 12)\n",
      "\u001b[32m[1230 18:49:27 @DATSGANModel.py:213]\u001b[0m \u001b[91mCreating cell for travel_mode (in-edges: 21; ancestors: 26)\n",
      "\u001b[32m[1230 18:49:28 @sessinit.py:87]\u001b[0m \u001b[5m\u001b[31mWRN\u001b[0m The following variables are in the checkpoint, but not found in the graph: global_step, optimize/beta1_power, optimize/beta2_power\n",
      "INFO:tensorflow:Graph was finalized.\n",
      "INFO:tensorflow:Running local_init_op.\n",
      "INFO:tensorflow:Done running local_init_op.\n",
      "\u001b[32m[1230 18:49:30 @sessinit.py:114]\u001b[0m Restoring checkpoint from ../output/LPMC_half_DAG/FULL_04/model\\model-20399 ...\n",
      "INFO:tensorflow:Restoring parameters from ../output/LPMC_half_DAG/FULL_04/model\\model-20399\n",
      "\u001b[32m[1230 18:49:30 @DATSGAN.py:267]\u001b[0m Loading Preprocessor!\n"
     ]
    },
    {
     "name": "stderr",
     "output_type": "stream",
     "text": [
      "|                                                                                          |35/?[00:01<00:00,20.24it/s]\n"
     ]
    },
    {
     "name": "stdout",
     "output_type": "stream",
     "text": [
      "\u001b[32m[1230 18:49:32 @DATSGAN.py:267]\u001b[0m Loading Preprocessor!\n"
     ]
    },
    {
     "name": "stderr",
     "output_type": "stream",
     "text": [
      "|                                                                                          |35/?[00:01<00:00,25.99it/s]\n"
     ]
    },
    {
     "name": "stdout",
     "output_type": "stream",
     "text": [
      "\u001b[32m[1230 18:49:34 @DATSGAN.py:267]\u001b[0m Loading Preprocessor!\n"
     ]
    },
    {
     "name": "stderr",
     "output_type": "stream",
     "text": [
      "|                                                                                          |35/?[00:01<00:00,26.92it/s]\n"
     ]
    },
    {
     "name": "stdout",
     "output_type": "stream",
     "text": [
      "\u001b[32m[1230 18:49:36 @DATSGAN.py:267]\u001b[0m Loading Preprocessor!\n"
     ]
    },
    {
     "name": "stderr",
     "output_type": "stream",
     "text": [
      "|                                                                                          |35/?[00:01<00:00,25.86it/s]\n"
     ]
    },
    {
     "name": "stdout",
     "output_type": "stream",
     "text": [
      "\u001b[32m[1230 18:49:38 @DATSGAN.py:267]\u001b[0m Loading Preprocessor!\n"
     ]
    },
    {
     "name": "stderr",
     "output_type": "stream",
     "text": [
      "|                                                                                          |35/?[00:01<00:00,28.51it/s]\n"
     ]
    },
    {
     "name": "stdout",
     "output_type": "stream",
     "text": [
      "Sampling synthetic data from model \u001b[1mFULL_05\u001b[0m (5/25)\n",
      "\u001b[32m[1230 18:49:51 @DATSGANModel.py:213]\u001b[0m \u001b[91mCreating cell for travel_year (in-edges: 0; ancestors: 0)\n",
      "\u001b[32m[1230 18:49:51 @DATSGANModel.py:213]\u001b[0m \u001b[91mCreating cell for car_ownership (in-edges: 0; ancestors: 0)\n",
      "\u001b[32m[1230 18:49:51 @DATSGANModel.py:213]\u001b[0m \u001b[91mCreating cell for female (in-edges: 0; ancestors: 0)\n",
      "\u001b[32m[1230 18:49:51 @DATSGANModel.py:213]\u001b[0m \u001b[91mCreating cell for age (in-edges: 0; ancestors: 0)\n",
      "\u001b[32m[1230 18:49:51 @DATSGANModel.py:213]\u001b[0m \u001b[91mCreating cell for travel_month (in-edges: 1; ancestors: 1)\n",
      "\u001b[32m[1230 18:49:51 @DATSGANModel.py:213]\u001b[0m \u001b[91mCreating cell for fueltype (in-edges: 1; ancestors: 1)\n",
      "\u001b[32m[1230 18:49:51 @DATSGANModel.py:213]\u001b[0m \u001b[91mCreating cell for driving_license (in-edges: 3; ancestors: 3)\n",
      "\u001b[32m[1230 18:49:51 @DATSGANModel.py:213]\u001b[0m \u001b[91mCreating cell for faretype (in-edges: 1; ancestors: 1)\n",
      "\u001b[32m[1230 18:49:51 @DATSGANModel.py:213]\u001b[0m \u001b[91mCreating cell for travel_date (in-edges: 1; ancestors: 2)\n",
      "\u001b[32m[1230 18:49:51 @DATSGANModel.py:213]\u001b[0m \u001b[91mCreating cell for bus_scale (in-edges: 2; ancestors: 2)\n",
      "\u001b[32m[1230 18:49:51 @DATSGANModel.py:213]\u001b[0m \u001b[91mCreating cell for day_of_week (in-edges: 2; ancestors: 3)\n",
      "\u001b[32m[1230 18:49:51 @DATSGANModel.py:213]\u001b[0m \u001b[91mCreating cell for purpose (in-edges: 1; ancestors: 4)\n",
      "\u001b[32m[1230 18:49:52 @DATSGANModel.py:213]\u001b[0m \u001b[91mCreating cell for start_time_linear (in-edges: 2; ancestors: 5)\n",
      "\u001b[32m[1230 18:49:52 @DATSGANModel.py:213]\u001b[0m \u001b[91mCreating cell for distance (in-edges: 1; ancestors: 5)\n",
      "\u001b[32m[1230 18:49:52 @DATSGANModel.py:213]\u001b[0m \u001b[91mCreating cell for driving_traffic_percent (in-edges: 3; ancestors: 6)\n",
      "\u001b[32m[1230 18:49:52 @DATSGANModel.py:213]\u001b[0m \u001b[91mCreating cell for cost_driving_fuel (in-edges: 2; ancestors: 8)\n",
      "\u001b[32m[1230 18:49:52 @DATSGANModel.py:213]\u001b[0m \u001b[91mCreating cell for dur_driving (in-edges: 1; ancestors: 6)\n",
      "\u001b[32m[1230 18:49:52 @DATSGANModel.py:213]\u001b[0m \u001b[91mCreating cell for dur_walking (in-edges: 1; ancestors: 6)\n",
      "\u001b[32m[1230 18:49:52 @DATSGANModel.py:213]\u001b[0m \u001b[91mCreating cell for dur_cycling (in-edges: 1; ancestors: 6)\n",
      "\u001b[32m[1230 18:49:52 @DATSGANModel.py:213]\u001b[0m \u001b[91mCreating cell for dur_pt_access (in-edges: 1; ancestors: 6)\n",
      "\u001b[32m[1230 18:49:52 @DATSGANModel.py:213]\u001b[0m \u001b[91mCreating cell for pt_n_interchanges (in-edges: 1; ancestors: 6)\n",
      "\u001b[32m[1230 18:49:52 @DATSGANModel.py:213]\u001b[0m \u001b[91mCreating cell for cost_driving_con_charge (in-edges: 5; ancestors: 11)\n",
      "\u001b[32m[1230 18:49:52 @DATSGANModel.py:213]\u001b[0m \u001b[91mCreating cell for dur_pt_rail (in-edges: 2; ancestors: 7)\n",
      "\u001b[32m[1230 18:49:52 @DATSGANModel.py:213]\u001b[0m \u001b[91mCreating cell for dur_pt_bus (in-edges: 2; ancestors: 7)\n",
      "\u001b[32m[1230 18:49:53 @DATSGANModel.py:213]\u001b[0m \u001b[91mCreating cell for dur_pt_int (in-edges: 2; ancestors: 7)\n",
      "\u001b[32m[1230 18:49:53 @DATSGANModel.py:213]\u001b[0m \u001b[91mCreating cell for cost_transit (in-edges: 5; ancestors: 12)\n",
      "\u001b[32m[1230 18:49:53 @DATSGANModel.py:213]\u001b[0m \u001b[91mCreating cell for travel_mode (in-edges: 21; ancestors: 26)\n",
      "\u001b[32m[1230 18:49:53 @sessinit.py:87]\u001b[0m \u001b[5m\u001b[31mWRN\u001b[0m The following variables are in the checkpoint, but not found in the graph: global_step, optimize/beta1_power, optimize/beta2_power\n",
      "INFO:tensorflow:Graph was finalized.\n",
      "INFO:tensorflow:Running local_init_op.\n",
      "INFO:tensorflow:Done running local_init_op.\n",
      "\u001b[32m[1230 18:49:55 @sessinit.py:114]\u001b[0m Restoring checkpoint from ../output/LPMC_half_DAG/FULL_05/model\\model-20399 ...\n",
      "INFO:tensorflow:Restoring parameters from ../output/LPMC_half_DAG/FULL_05/model\\model-20399\n",
      "\u001b[32m[1230 18:49:56 @DATSGAN.py:267]\u001b[0m Loading Preprocessor!\n"
     ]
    },
    {
     "name": "stderr",
     "output_type": "stream",
     "text": [
      "|                                                                                          |35/?[00:01<00:00,20.58it/s]\n"
     ]
    },
    {
     "name": "stdout",
     "output_type": "stream",
     "text": [
      "\u001b[32m[1230 18:49:58 @DATSGAN.py:267]\u001b[0m Loading Preprocessor!\n"
     ]
    },
    {
     "name": "stderr",
     "output_type": "stream",
     "text": [
      "|                                                                                          |35/?[00:01<00:00,31.03it/s]\n"
     ]
    },
    {
     "name": "stdout",
     "output_type": "stream",
     "text": [
      "\u001b[32m[1230 18:49:59 @DATSGAN.py:267]\u001b[0m Loading Preprocessor!\n"
     ]
    },
    {
     "name": "stderr",
     "output_type": "stream",
     "text": [
      "|                                                                                          |35/?[00:01<00:00,29.76it/s]\n"
     ]
    },
    {
     "name": "stdout",
     "output_type": "stream",
     "text": [
      "\u001b[32m[1230 18:50:01 @DATSGAN.py:267]\u001b[0m Loading Preprocessor!\n"
     ]
    },
    {
     "name": "stderr",
     "output_type": "stream",
     "text": [
      "|                                                                                          |35/?[00:01<00:00,28.36it/s]\n"
     ]
    },
    {
     "name": "stdout",
     "output_type": "stream",
     "text": [
      "\u001b[32m[1230 18:50:03 @DATSGAN.py:267]\u001b[0m Loading Preprocessor!\n"
     ]
    },
    {
     "name": "stderr",
     "output_type": "stream",
     "text": [
      "|                                                                                          |35/?[00:01<00:00,25.36it/s]\n"
     ]
    },
    {
     "name": "stdout",
     "output_type": "stream",
     "text": [
      "Sampling synthetic data from model \u001b[1mLINEAR_01\u001b[0m (6/25)\n",
      "\u001b[32m[1230 18:50:13 @DATSGANModel.py:213]\u001b[0m \u001b[91mCreating cell for travel_mode (in-edges: 0; ancestors: 0)\n",
      "\u001b[32m[1230 18:50:13 @DATSGANModel.py:213]\u001b[0m \u001b[91mCreating cell for purpose (in-edges: 1; ancestors: 1)\n",
      "\u001b[32m[1230 18:50:14 @DATSGANModel.py:213]\u001b[0m \u001b[91mCreating cell for fueltype (in-edges: 1; ancestors: 2)\n",
      "\u001b[32m[1230 18:50:14 @DATSGANModel.py:213]\u001b[0m \u001b[91mCreating cell for faretype (in-edges: 1; ancestors: 3)\n",
      "\u001b[32m[1230 18:50:14 @DATSGANModel.py:213]\u001b[0m \u001b[91mCreating cell for bus_scale (in-edges: 1; ancestors: 4)\n",
      "\u001b[32m[1230 18:50:14 @DATSGANModel.py:213]\u001b[0m \u001b[91mCreating cell for travel_year (in-edges: 1; ancestors: 5)\n",
      "\u001b[32m[1230 18:50:14 @DATSGANModel.py:213]\u001b[0m \u001b[91mCreating cell for travel_month (in-edges: 1; ancestors: 6)\n",
      "\u001b[32m[1230 18:50:14 @DATSGANModel.py:213]\u001b[0m \u001b[91mCreating cell for travel_date (in-edges: 1; ancestors: 7)\n",
      "\u001b[32m[1230 18:50:14 @DATSGANModel.py:213]\u001b[0m \u001b[91mCreating cell for day_of_week (in-edges: 1; ancestors: 8)\n",
      "\u001b[32m[1230 18:50:14 @DATSGANModel.py:213]\u001b[0m \u001b[91mCreating cell for start_time_linear (in-edges: 1; ancestors: 9)\n",
      "\u001b[32m[1230 18:50:14 @DATSGANModel.py:213]\u001b[0m \u001b[91mCreating cell for age (in-edges: 1; ancestors: 10)\n",
      "\u001b[32m[1230 18:50:14 @DATSGANModel.py:213]\u001b[0m \u001b[91mCreating cell for female (in-edges: 1; ancestors: 11)\n",
      "\u001b[32m[1230 18:50:14 @DATSGANModel.py:213]\u001b[0m \u001b[91mCreating cell for driving_license (in-edges: 1; ancestors: 12)\n",
      "\u001b[32m[1230 18:50:14 @DATSGANModel.py:213]\u001b[0m \u001b[91mCreating cell for car_ownership (in-edges: 1; ancestors: 13)\n",
      "\u001b[32m[1230 18:50:14 @DATSGANModel.py:213]\u001b[0m \u001b[91mCreating cell for distance (in-edges: 1; ancestors: 14)\n",
      "\u001b[32m[1230 18:50:14 @DATSGANModel.py:213]\u001b[0m \u001b[91mCreating cell for dur_walking (in-edges: 1; ancestors: 15)\n",
      "\u001b[32m[1230 18:50:14 @DATSGANModel.py:213]\u001b[0m \u001b[91mCreating cell for dur_cycling (in-edges: 1; ancestors: 16)\n",
      "\u001b[32m[1230 18:50:14 @DATSGANModel.py:213]\u001b[0m \u001b[91mCreating cell for dur_pt_access (in-edges: 1; ancestors: 17)\n",
      "\u001b[32m[1230 18:50:15 @DATSGANModel.py:213]\u001b[0m \u001b[91mCreating cell for dur_pt_rail (in-edges: 1; ancestors: 18)\n",
      "\u001b[32m[1230 18:50:15 @DATSGANModel.py:213]\u001b[0m \u001b[91mCreating cell for dur_pt_bus (in-edges: 1; ancestors: 19)\n",
      "\u001b[32m[1230 18:50:15 @DATSGANModel.py:213]\u001b[0m \u001b[91mCreating cell for dur_pt_int (in-edges: 1; ancestors: 20)\n",
      "\u001b[32m[1230 18:50:15 @DATSGANModel.py:213]\u001b[0m \u001b[91mCreating cell for pt_n_interchanges (in-edges: 1; ancestors: 21)\n",
      "\u001b[32m[1230 18:50:15 @DATSGANModel.py:213]\u001b[0m \u001b[91mCreating cell for dur_driving (in-edges: 1; ancestors: 22)\n",
      "\u001b[32m[1230 18:50:15 @DATSGANModel.py:213]\u001b[0m \u001b[91mCreating cell for cost_transit (in-edges: 1; ancestors: 23)\n",
      "\u001b[32m[1230 18:50:15 @DATSGANModel.py:213]\u001b[0m \u001b[91mCreating cell for cost_driving_fuel (in-edges: 1; ancestors: 24)\n",
      "\u001b[32m[1230 18:50:15 @DATSGANModel.py:213]\u001b[0m \u001b[91mCreating cell for cost_driving_con_charge (in-edges: 1; ancestors: 25)\n",
      "\u001b[32m[1230 18:50:15 @DATSGANModel.py:213]\u001b[0m \u001b[91mCreating cell for driving_traffic_percent (in-edges: 1; ancestors: 26)\n",
      "\u001b[32m[1230 18:50:16 @sessinit.py:87]\u001b[0m \u001b[5m\u001b[31mWRN\u001b[0m The following variables are in the checkpoint, but not found in the graph: global_step, optimize/beta1_power, optimize/beta2_power\n",
      "INFO:tensorflow:Graph was finalized.\n",
      "INFO:tensorflow:Running local_init_op.\n",
      "INFO:tensorflow:Done running local_init_op.\n",
      "\u001b[32m[1230 18:50:17 @sessinit.py:114]\u001b[0m Restoring checkpoint from ../output/LPMC_half_DAG/LINEAR_01/model\\model-20399 ...\n",
      "INFO:tensorflow:Restoring parameters from ../output/LPMC_half_DAG/LINEAR_01/model\\model-20399\n",
      "\u001b[32m[1230 18:50:17 @DATSGAN.py:267]\u001b[0m Loading Preprocessor!\n"
     ]
    },
    {
     "name": "stderr",
     "output_type": "stream",
     "text": [
      "|                                                                                          |35/?[00:01<00:00,26.92it/s]\n"
     ]
    },
    {
     "name": "stdout",
     "output_type": "stream",
     "text": [
      "\u001b[32m[1230 18:50:19 @DATSGAN.py:267]\u001b[0m Loading Preprocessor!\n"
     ]
    },
    {
     "name": "stderr",
     "output_type": "stream",
     "text": [
      "|                                                                                          |35/?[00:00<00:00,48.33it/s]\n"
     ]
    },
    {
     "name": "stdout",
     "output_type": "stream",
     "text": [
      "\u001b[32m[1230 18:50:20 @DATSGAN.py:267]\u001b[0m Loading Preprocessor!\n"
     ]
    },
    {
     "name": "stderr",
     "output_type": "stream",
     "text": [
      "|                                                                                          |35/?[00:00<00:00,48.67it/s]\n"
     ]
    },
    {
     "name": "stdout",
     "output_type": "stream",
     "text": [
      "\u001b[32m[1230 18:50:21 @DATSGAN.py:267]\u001b[0m Loading Preprocessor!\n"
     ]
    },
    {
     "name": "stderr",
     "output_type": "stream",
     "text": [
      "|                                                                                          |35/?[00:00<00:00,48.56it/s]\n"
     ]
    },
    {
     "name": "stdout",
     "output_type": "stream",
     "text": [
      "\u001b[32m[1230 18:50:23 @DATSGAN.py:267]\u001b[0m Loading Preprocessor!\n"
     ]
    },
    {
     "name": "stderr",
     "output_type": "stream",
     "text": [
      "|                                                                                          |35/?[00:00<00:00,48.53it/s]\n"
     ]
    },
    {
     "name": "stdout",
     "output_type": "stream",
     "text": [
      "Sampling synthetic data from model \u001b[1mLINEAR_02\u001b[0m (7/25)\n",
      "\u001b[32m[1230 18:50:33 @DATSGANModel.py:213]\u001b[0m \u001b[91mCreating cell for travel_mode (in-edges: 0; ancestors: 0)\n",
      "\u001b[32m[1230 18:50:33 @DATSGANModel.py:213]\u001b[0m \u001b[91mCreating cell for purpose (in-edges: 1; ancestors: 1)\n",
      "\u001b[32m[1230 18:50:33 @DATSGANModel.py:213]\u001b[0m \u001b[91mCreating cell for fueltype (in-edges: 1; ancestors: 2)\n",
      "\u001b[32m[1230 18:50:33 @DATSGANModel.py:213]\u001b[0m \u001b[91mCreating cell for faretype (in-edges: 1; ancestors: 3)\n",
      "\u001b[32m[1230 18:50:33 @DATSGANModel.py:213]\u001b[0m \u001b[91mCreating cell for bus_scale (in-edges: 1; ancestors: 4)\n",
      "\u001b[32m[1230 18:50:33 @DATSGANModel.py:213]\u001b[0m \u001b[91mCreating cell for travel_year (in-edges: 1; ancestors: 5)\n",
      "\u001b[32m[1230 18:50:33 @DATSGANModel.py:213]\u001b[0m \u001b[91mCreating cell for travel_month (in-edges: 1; ancestors: 6)\n",
      "\u001b[32m[1230 18:50:33 @DATSGANModel.py:213]\u001b[0m \u001b[91mCreating cell for travel_date (in-edges: 1; ancestors: 7)\n",
      "\u001b[32m[1230 18:50:33 @DATSGANModel.py:213]\u001b[0m \u001b[91mCreating cell for day_of_week (in-edges: 1; ancestors: 8)\n",
      "\u001b[32m[1230 18:50:33 @DATSGANModel.py:213]\u001b[0m \u001b[91mCreating cell for start_time_linear (in-edges: 1; ancestors: 9)\n",
      "\u001b[32m[1230 18:50:33 @DATSGANModel.py:213]\u001b[0m \u001b[91mCreating cell for age (in-edges: 1; ancestors: 10)\n",
      "\u001b[32m[1230 18:50:33 @DATSGANModel.py:213]\u001b[0m \u001b[91mCreating cell for female (in-edges: 1; ancestors: 11)\n",
      "\u001b[32m[1230 18:50:34 @DATSGANModel.py:213]\u001b[0m \u001b[91mCreating cell for driving_license (in-edges: 1; ancestors: 12)\n",
      "\u001b[32m[1230 18:50:34 @DATSGANModel.py:213]\u001b[0m \u001b[91mCreating cell for car_ownership (in-edges: 1; ancestors: 13)\n",
      "\u001b[32m[1230 18:50:34 @DATSGANModel.py:213]\u001b[0m \u001b[91mCreating cell for distance (in-edges: 1; ancestors: 14)\n",
      "\u001b[32m[1230 18:50:34 @DATSGANModel.py:213]\u001b[0m \u001b[91mCreating cell for dur_walking (in-edges: 1; ancestors: 15)\n",
      "\u001b[32m[1230 18:50:34 @DATSGANModel.py:213]\u001b[0m \u001b[91mCreating cell for dur_cycling (in-edges: 1; ancestors: 16)\n",
      "\u001b[32m[1230 18:50:34 @DATSGANModel.py:213]\u001b[0m \u001b[91mCreating cell for dur_pt_access (in-edges: 1; ancestors: 17)\n",
      "\u001b[32m[1230 18:50:34 @DATSGANModel.py:213]\u001b[0m \u001b[91mCreating cell for dur_pt_rail (in-edges: 1; ancestors: 18)\n",
      "\u001b[32m[1230 18:50:34 @DATSGANModel.py:213]\u001b[0m \u001b[91mCreating cell for dur_pt_bus (in-edges: 1; ancestors: 19)\n",
      "\u001b[32m[1230 18:50:34 @DATSGANModel.py:213]\u001b[0m \u001b[91mCreating cell for dur_pt_int (in-edges: 1; ancestors: 20)\n",
      "\u001b[32m[1230 18:50:34 @DATSGANModel.py:213]\u001b[0m \u001b[91mCreating cell for pt_n_interchanges (in-edges: 1; ancestors: 21)\n",
      "\u001b[32m[1230 18:50:34 @DATSGANModel.py:213]\u001b[0m \u001b[91mCreating cell for dur_driving (in-edges: 1; ancestors: 22)\n",
      "\u001b[32m[1230 18:50:35 @DATSGANModel.py:213]\u001b[0m \u001b[91mCreating cell for cost_transit (in-edges: 1; ancestors: 23)\n",
      "\u001b[32m[1230 18:50:35 @DATSGANModel.py:213]\u001b[0m \u001b[91mCreating cell for cost_driving_fuel (in-edges: 1; ancestors: 24)\n",
      "\u001b[32m[1230 18:50:35 @DATSGANModel.py:213]\u001b[0m \u001b[91mCreating cell for cost_driving_con_charge (in-edges: 1; ancestors: 25)\n",
      "\u001b[32m[1230 18:50:35 @DATSGANModel.py:213]\u001b[0m \u001b[91mCreating cell for driving_traffic_percent (in-edges: 1; ancestors: 26)\n",
      "\u001b[32m[1230 18:50:35 @sessinit.py:87]\u001b[0m \u001b[5m\u001b[31mWRN\u001b[0m The following variables are in the checkpoint, but not found in the graph: global_step, optimize/beta1_power, optimize/beta2_power\n",
      "INFO:tensorflow:Graph was finalized.\n",
      "INFO:tensorflow:Running local_init_op.\n",
      "INFO:tensorflow:Done running local_init_op.\n",
      "\u001b[32m[1230 18:50:37 @sessinit.py:114]\u001b[0m Restoring checkpoint from ../output/LPMC_half_DAG/LINEAR_02/model\\model-20399 ...\n",
      "INFO:tensorflow:Restoring parameters from ../output/LPMC_half_DAG/LINEAR_02/model\\model-20399\n",
      "\u001b[32m[1230 18:50:37 @DATSGAN.py:267]\u001b[0m Loading Preprocessor!\n"
     ]
    },
    {
     "name": "stderr",
     "output_type": "stream",
     "text": [
      "|                                                                                          |35/?[00:01<00:00,28.37it/s]\n"
     ]
    },
    {
     "name": "stdout",
     "output_type": "stream",
     "text": [
      "\u001b[32m[1230 18:50:39 @DATSGAN.py:267]\u001b[0m Loading Preprocessor!\n"
     ]
    },
    {
     "name": "stderr",
     "output_type": "stream",
     "text": [
      "|                                                                                          |35/?[00:00<00:00,44.55it/s]\n"
     ]
    },
    {
     "name": "stdout",
     "output_type": "stream",
     "text": [
      "\u001b[32m[1230 18:50:40 @DATSGAN.py:267]\u001b[0m Loading Preprocessor!\n"
     ]
    },
    {
     "name": "stderr",
     "output_type": "stream",
     "text": [
      "|                                                                                          |35/?[00:00<00:00,47.42it/s]\n"
     ]
    },
    {
     "name": "stdout",
     "output_type": "stream",
     "text": [
      "\u001b[32m[1230 18:50:41 @DATSGAN.py:267]\u001b[0m Loading Preprocessor!\n"
     ]
    },
    {
     "name": "stderr",
     "output_type": "stream",
     "text": [
      "|                                                                                          |35/?[00:00<00:00,48.63it/s]\n"
     ]
    },
    {
     "name": "stdout",
     "output_type": "stream",
     "text": [
      "\u001b[32m[1230 18:50:42 @DATSGAN.py:267]\u001b[0m Loading Preprocessor!\n"
     ]
    },
    {
     "name": "stderr",
     "output_type": "stream",
     "text": [
      "|                                                                                          |35/?[00:00<00:00,47.65it/s]\n"
     ]
    },
    {
     "name": "stdout",
     "output_type": "stream",
     "text": [
      "Sampling synthetic data from model \u001b[1mLINEAR_03\u001b[0m (8/25)\n",
      "\u001b[32m[1230 18:50:52 @DATSGANModel.py:213]\u001b[0m \u001b[91mCreating cell for travel_mode (in-edges: 0; ancestors: 0)\n",
      "\u001b[32m[1230 18:50:52 @DATSGANModel.py:213]\u001b[0m \u001b[91mCreating cell for purpose (in-edges: 1; ancestors: 1)\n",
      "\u001b[32m[1230 18:50:52 @DATSGANModel.py:213]\u001b[0m \u001b[91mCreating cell for fueltype (in-edges: 1; ancestors: 2)\n",
      "\u001b[32m[1230 18:50:53 @DATSGANModel.py:213]\u001b[0m \u001b[91mCreating cell for faretype (in-edges: 1; ancestors: 3)\n",
      "\u001b[32m[1230 18:50:53 @DATSGANModel.py:213]\u001b[0m \u001b[91mCreating cell for bus_scale (in-edges: 1; ancestors: 4)\n",
      "\u001b[32m[1230 18:50:53 @DATSGANModel.py:213]\u001b[0m \u001b[91mCreating cell for travel_year (in-edges: 1; ancestors: 5)\n",
      "\u001b[32m[1230 18:50:53 @DATSGANModel.py:213]\u001b[0m \u001b[91mCreating cell for travel_month (in-edges: 1; ancestors: 6)\n",
      "\u001b[32m[1230 18:50:53 @DATSGANModel.py:213]\u001b[0m \u001b[91mCreating cell for travel_date (in-edges: 1; ancestors: 7)\n",
      "\u001b[32m[1230 18:50:53 @DATSGANModel.py:213]\u001b[0m \u001b[91mCreating cell for day_of_week (in-edges: 1; ancestors: 8)\n",
      "\u001b[32m[1230 18:50:53 @DATSGANModel.py:213]\u001b[0m \u001b[91mCreating cell for start_time_linear (in-edges: 1; ancestors: 9)\n",
      "\u001b[32m[1230 18:50:53 @DATSGANModel.py:213]\u001b[0m \u001b[91mCreating cell for age (in-edges: 1; ancestors: 10)\n",
      "\u001b[32m[1230 18:50:53 @DATSGANModel.py:213]\u001b[0m \u001b[91mCreating cell for female (in-edges: 1; ancestors: 11)\n",
      "\u001b[32m[1230 18:50:53 @DATSGANModel.py:213]\u001b[0m \u001b[91mCreating cell for driving_license (in-edges: 1; ancestors: 12)\n",
      "\u001b[32m[1230 18:50:53 @DATSGANModel.py:213]\u001b[0m \u001b[91mCreating cell for car_ownership (in-edges: 1; ancestors: 13)\n",
      "\u001b[32m[1230 18:50:53 @DATSGANModel.py:213]\u001b[0m \u001b[91mCreating cell for distance (in-edges: 1; ancestors: 14)\n",
      "\u001b[32m[1230 18:50:53 @DATSGANModel.py:213]\u001b[0m \u001b[91mCreating cell for dur_walking (in-edges: 1; ancestors: 15)\n",
      "\u001b[32m[1230 18:50:53 @DATSGANModel.py:213]\u001b[0m \u001b[91mCreating cell for dur_cycling (in-edges: 1; ancestors: 16)\n",
      "\u001b[32m[1230 18:50:54 @DATSGANModel.py:213]\u001b[0m \u001b[91mCreating cell for dur_pt_access (in-edges: 1; ancestors: 17)\n",
      "\u001b[32m[1230 18:50:54 @DATSGANModel.py:213]\u001b[0m \u001b[91mCreating cell for dur_pt_rail (in-edges: 1; ancestors: 18)\n",
      "\u001b[32m[1230 18:50:54 @DATSGANModel.py:213]\u001b[0m \u001b[91mCreating cell for dur_pt_bus (in-edges: 1; ancestors: 19)\n",
      "\u001b[32m[1230 18:50:54 @DATSGANModel.py:213]\u001b[0m \u001b[91mCreating cell for dur_pt_int (in-edges: 1; ancestors: 20)\n",
      "\u001b[32m[1230 18:50:54 @DATSGANModel.py:213]\u001b[0m \u001b[91mCreating cell for pt_n_interchanges (in-edges: 1; ancestors: 21)\n",
      "\u001b[32m[1230 18:50:54 @DATSGANModel.py:213]\u001b[0m \u001b[91mCreating cell for dur_driving (in-edges: 1; ancestors: 22)\n",
      "\u001b[32m[1230 18:50:54 @DATSGANModel.py:213]\u001b[0m \u001b[91mCreating cell for cost_transit (in-edges: 1; ancestors: 23)\n",
      "\u001b[32m[1230 18:50:54 @DATSGANModel.py:213]\u001b[0m \u001b[91mCreating cell for cost_driving_fuel (in-edges: 1; ancestors: 24)\n",
      "\u001b[32m[1230 18:50:54 @DATSGANModel.py:213]\u001b[0m \u001b[91mCreating cell for cost_driving_con_charge (in-edges: 1; ancestors: 25)\n",
      "\u001b[32m[1230 18:50:54 @DATSGANModel.py:213]\u001b[0m \u001b[91mCreating cell for driving_traffic_percent (in-edges: 1; ancestors: 26)\n",
      "\u001b[32m[1230 18:50:55 @sessinit.py:87]\u001b[0m \u001b[5m\u001b[31mWRN\u001b[0m The following variables are in the checkpoint, but not found in the graph: global_step, optimize/beta1_power, optimize/beta2_power\n",
      "INFO:tensorflow:Graph was finalized.\n",
      "INFO:tensorflow:Running local_init_op.\n",
      "INFO:tensorflow:Done running local_init_op.\n",
      "\u001b[32m[1230 18:50:56 @sessinit.py:114]\u001b[0m Restoring checkpoint from ../output/LPMC_half_DAG/LINEAR_03/model\\model-20399 ...\n",
      "INFO:tensorflow:Restoring parameters from ../output/LPMC_half_DAG/LINEAR_03/model\\model-20399\n",
      "\u001b[32m[1230 18:50:57 @DATSGAN.py:267]\u001b[0m Loading Preprocessor!\n"
     ]
    },
    {
     "name": "stderr",
     "output_type": "stream",
     "text": [
      "|                                                                                          |35/?[00:01<00:00,29.71it/s]\n"
     ]
    },
    {
     "name": "stdout",
     "output_type": "stream",
     "text": [
      "\u001b[32m[1230 18:50:58 @DATSGAN.py:267]\u001b[0m Loading Preprocessor!\n"
     ]
    },
    {
     "name": "stderr",
     "output_type": "stream",
     "text": [
      "|                                                                                          |35/?[00:00<00:00,41.36it/s]\n"
     ]
    },
    {
     "name": "stdout",
     "output_type": "stream",
     "text": [
      "\u001b[32m[1230 18:50:59 @DATSGAN.py:267]\u001b[0m Loading Preprocessor!\n"
     ]
    },
    {
     "name": "stderr",
     "output_type": "stream",
     "text": [
      "|                                                                                          |35/?[00:00<00:00,38.84it/s]\n"
     ]
    },
    {
     "name": "stdout",
     "output_type": "stream",
     "text": [
      "\u001b[32m[1230 18:51:01 @DATSGAN.py:267]\u001b[0m Loading Preprocessor!\n"
     ]
    },
    {
     "name": "stderr",
     "output_type": "stream",
     "text": [
      "|                                                                                          |35/?[00:00<00:00,46.79it/s]\n"
     ]
    },
    {
     "name": "stdout",
     "output_type": "stream",
     "text": [
      "\u001b[32m[1230 18:51:02 @DATSGAN.py:267]\u001b[0m Loading Preprocessor!\n"
     ]
    },
    {
     "name": "stderr",
     "output_type": "stream",
     "text": [
      "|                                                                                          |35/?[00:00<00:00,41.03it/s]\n"
     ]
    },
    {
     "name": "stdout",
     "output_type": "stream",
     "text": [
      "Sampling synthetic data from model \u001b[1mLINEAR_04\u001b[0m (9/25)\n",
      "\u001b[32m[1230 18:51:12 @DATSGANModel.py:213]\u001b[0m \u001b[91mCreating cell for travel_mode (in-edges: 0; ancestors: 0)\n",
      "\u001b[32m[1230 18:51:12 @DATSGANModel.py:213]\u001b[0m \u001b[91mCreating cell for purpose (in-edges: 1; ancestors: 1)\n",
      "\u001b[32m[1230 18:51:12 @DATSGANModel.py:213]\u001b[0m \u001b[91mCreating cell for fueltype (in-edges: 1; ancestors: 2)\n",
      "\u001b[32m[1230 18:51:12 @DATSGANModel.py:213]\u001b[0m \u001b[91mCreating cell for faretype (in-edges: 1; ancestors: 3)\n",
      "\u001b[32m[1230 18:51:13 @DATSGANModel.py:213]\u001b[0m \u001b[91mCreating cell for bus_scale (in-edges: 1; ancestors: 4)\n",
      "\u001b[32m[1230 18:51:13 @DATSGANModel.py:213]\u001b[0m \u001b[91mCreating cell for travel_year (in-edges: 1; ancestors: 5)\n",
      "\u001b[32m[1230 18:51:13 @DATSGANModel.py:213]\u001b[0m \u001b[91mCreating cell for travel_month (in-edges: 1; ancestors: 6)\n",
      "\u001b[32m[1230 18:51:13 @DATSGANModel.py:213]\u001b[0m \u001b[91mCreating cell for travel_date (in-edges: 1; ancestors: 7)\n",
      "\u001b[32m[1230 18:51:13 @DATSGANModel.py:213]\u001b[0m \u001b[91mCreating cell for day_of_week (in-edges: 1; ancestors: 8)\n",
      "\u001b[32m[1230 18:51:13 @DATSGANModel.py:213]\u001b[0m \u001b[91mCreating cell for start_time_linear (in-edges: 1; ancestors: 9)\n",
      "\u001b[32m[1230 18:51:13 @DATSGANModel.py:213]\u001b[0m \u001b[91mCreating cell for age (in-edges: 1; ancestors: 10)\n",
      "\u001b[32m[1230 18:51:13 @DATSGANModel.py:213]\u001b[0m \u001b[91mCreating cell for female (in-edges: 1; ancestors: 11)\n",
      "\u001b[32m[1230 18:51:13 @DATSGANModel.py:213]\u001b[0m \u001b[91mCreating cell for driving_license (in-edges: 1; ancestors: 12)\n",
      "\u001b[32m[1230 18:51:13 @DATSGANModel.py:213]\u001b[0m \u001b[91mCreating cell for car_ownership (in-edges: 1; ancestors: 13)\n",
      "\u001b[32m[1230 18:51:13 @DATSGANModel.py:213]\u001b[0m \u001b[91mCreating cell for distance (in-edges: 1; ancestors: 14)\n",
      "\u001b[32m[1230 18:51:13 @DATSGANModel.py:213]\u001b[0m \u001b[91mCreating cell for dur_walking (in-edges: 1; ancestors: 15)\n",
      "\u001b[32m[1230 18:51:13 @DATSGANModel.py:213]\u001b[0m \u001b[91mCreating cell for dur_cycling (in-edges: 1; ancestors: 16)\n",
      "\u001b[32m[1230 18:51:14 @DATSGANModel.py:213]\u001b[0m \u001b[91mCreating cell for dur_pt_access (in-edges: 1; ancestors: 17)\n",
      "\u001b[32m[1230 18:51:14 @DATSGANModel.py:213]\u001b[0m \u001b[91mCreating cell for dur_pt_rail (in-edges: 1; ancestors: 18)\n",
      "\u001b[32m[1230 18:51:14 @DATSGANModel.py:213]\u001b[0m \u001b[91mCreating cell for dur_pt_bus (in-edges: 1; ancestors: 19)\n",
      "\u001b[32m[1230 18:51:14 @DATSGANModel.py:213]\u001b[0m \u001b[91mCreating cell for dur_pt_int (in-edges: 1; ancestors: 20)\n",
      "\u001b[32m[1230 18:51:14 @DATSGANModel.py:213]\u001b[0m \u001b[91mCreating cell for pt_n_interchanges (in-edges: 1; ancestors: 21)\n",
      "\u001b[32m[1230 18:51:14 @DATSGANModel.py:213]\u001b[0m \u001b[91mCreating cell for dur_driving (in-edges: 1; ancestors: 22)\n",
      "\u001b[32m[1230 18:51:14 @DATSGANModel.py:213]\u001b[0m \u001b[91mCreating cell for cost_transit (in-edges: 1; ancestors: 23)\n",
      "\u001b[32m[1230 18:51:14 @DATSGANModel.py:213]\u001b[0m \u001b[91mCreating cell for cost_driving_fuel (in-edges: 1; ancestors: 24)\n",
      "\u001b[32m[1230 18:51:14 @DATSGANModel.py:213]\u001b[0m \u001b[91mCreating cell for cost_driving_con_charge (in-edges: 1; ancestors: 25)\n",
      "\u001b[32m[1230 18:51:14 @DATSGANModel.py:213]\u001b[0m \u001b[91mCreating cell for driving_traffic_percent (in-edges: 1; ancestors: 26)\n",
      "\u001b[32m[1230 18:51:15 @sessinit.py:87]\u001b[0m \u001b[5m\u001b[31mWRN\u001b[0m The following variables are in the checkpoint, but not found in the graph: global_step, optimize/beta1_power, optimize/beta2_power\n",
      "INFO:tensorflow:Graph was finalized.\n",
      "INFO:tensorflow:Running local_init_op.\n",
      "INFO:tensorflow:Done running local_init_op.\n",
      "\u001b[32m[1230 18:51:16 @sessinit.py:114]\u001b[0m Restoring checkpoint from ../output/LPMC_half_DAG/LINEAR_04/model\\model-20399 ...\n",
      "INFO:tensorflow:Restoring parameters from ../output/LPMC_half_DAG/LINEAR_04/model\\model-20399\n",
      "\u001b[32m[1230 18:51:17 @DATSGAN.py:267]\u001b[0m Loading Preprocessor!\n"
     ]
    },
    {
     "name": "stderr",
     "output_type": "stream",
     "text": [
      "|                                                                                          |35/?[00:01<00:00,28.80it/s]\n"
     ]
    },
    {
     "name": "stdout",
     "output_type": "stream",
     "text": [
      "\u001b[32m[1230 18:51:18 @DATSGAN.py:267]\u001b[0m Loading Preprocessor!\n"
     ]
    },
    {
     "name": "stderr",
     "output_type": "stream",
     "text": [
      "|                                                                                          |35/?[00:00<00:00,43.37it/s]\n"
     ]
    },
    {
     "name": "stdout",
     "output_type": "stream",
     "text": [
      "\u001b[32m[1230 18:51:19 @DATSGAN.py:267]\u001b[0m Loading Preprocessor!\n"
     ]
    },
    {
     "name": "stderr",
     "output_type": "stream",
     "text": [
      "|                                                                                          |35/?[00:00<00:00,39.14it/s]\n"
     ]
    },
    {
     "name": "stdout",
     "output_type": "stream",
     "text": [
      "\u001b[32m[1230 18:51:21 @DATSGAN.py:267]\u001b[0m Loading Preprocessor!\n"
     ]
    },
    {
     "name": "stderr",
     "output_type": "stream",
     "text": [
      "|                                                                                          |35/?[00:00<00:00,48.53it/s]\n"
     ]
    },
    {
     "name": "stdout",
     "output_type": "stream",
     "text": [
      "\u001b[32m[1230 18:51:22 @DATSGAN.py:267]\u001b[0m Loading Preprocessor!\n"
     ]
    },
    {
     "name": "stderr",
     "output_type": "stream",
     "text": [
      "|                                                                                          |35/?[00:00<00:00,44.72it/s]\n"
     ]
    },
    {
     "name": "stdout",
     "output_type": "stream",
     "text": [
      "Sampling synthetic data from model \u001b[1mLINEAR_05\u001b[0m (10/25)\n",
      "\u001b[32m[1230 18:51:32 @DATSGANModel.py:213]\u001b[0m \u001b[91mCreating cell for travel_mode (in-edges: 0; ancestors: 0)\n",
      "\u001b[32m[1230 18:51:32 @DATSGANModel.py:213]\u001b[0m \u001b[91mCreating cell for purpose (in-edges: 1; ancestors: 1)\n",
      "\u001b[32m[1230 18:51:32 @DATSGANModel.py:213]\u001b[0m \u001b[91mCreating cell for fueltype (in-edges: 1; ancestors: 2)\n",
      "\u001b[32m[1230 18:51:32 @DATSGANModel.py:213]\u001b[0m \u001b[91mCreating cell for faretype (in-edges: 1; ancestors: 3)\n",
      "\u001b[32m[1230 18:51:32 @DATSGANModel.py:213]\u001b[0m \u001b[91mCreating cell for bus_scale (in-edges: 1; ancestors: 4)\n",
      "\u001b[32m[1230 18:51:32 @DATSGANModel.py:213]\u001b[0m \u001b[91mCreating cell for travel_year (in-edges: 1; ancestors: 5)\n",
      "\u001b[32m[1230 18:51:32 @DATSGANModel.py:213]\u001b[0m \u001b[91mCreating cell for travel_month (in-edges: 1; ancestors: 6)\n",
      "\u001b[32m[1230 18:51:32 @DATSGANModel.py:213]\u001b[0m \u001b[91mCreating cell for travel_date (in-edges: 1; ancestors: 7)\n",
      "\u001b[32m[1230 18:51:32 @DATSGANModel.py:213]\u001b[0m \u001b[91mCreating cell for day_of_week (in-edges: 1; ancestors: 8)\n",
      "\u001b[32m[1230 18:51:33 @DATSGANModel.py:213]\u001b[0m \u001b[91mCreating cell for start_time_linear (in-edges: 1; ancestors: 9)\n",
      "\u001b[32m[1230 18:51:33 @DATSGANModel.py:213]\u001b[0m \u001b[91mCreating cell for age (in-edges: 1; ancestors: 10)\n",
      "\u001b[32m[1230 18:51:33 @DATSGANModel.py:213]\u001b[0m \u001b[91mCreating cell for female (in-edges: 1; ancestors: 11)\n",
      "\u001b[32m[1230 18:51:33 @DATSGANModel.py:213]\u001b[0m \u001b[91mCreating cell for driving_license (in-edges: 1; ancestors: 12)\n",
      "\u001b[32m[1230 18:51:33 @DATSGANModel.py:213]\u001b[0m \u001b[91mCreating cell for car_ownership (in-edges: 1; ancestors: 13)\n",
      "\u001b[32m[1230 18:51:33 @DATSGANModel.py:213]\u001b[0m \u001b[91mCreating cell for distance (in-edges: 1; ancestors: 14)\n",
      "\u001b[32m[1230 18:51:33 @DATSGANModel.py:213]\u001b[0m \u001b[91mCreating cell for dur_walking (in-edges: 1; ancestors: 15)\n",
      "\u001b[32m[1230 18:51:33 @DATSGANModel.py:213]\u001b[0m \u001b[91mCreating cell for dur_cycling (in-edges: 1; ancestors: 16)\n",
      "\u001b[32m[1230 18:51:33 @DATSGANModel.py:213]\u001b[0m \u001b[91mCreating cell for dur_pt_access (in-edges: 1; ancestors: 17)\n",
      "\u001b[32m[1230 18:51:33 @DATSGANModel.py:213]\u001b[0m \u001b[91mCreating cell for dur_pt_rail (in-edges: 1; ancestors: 18)\n",
      "\u001b[32m[1230 18:51:33 @DATSGANModel.py:213]\u001b[0m \u001b[91mCreating cell for dur_pt_bus (in-edges: 1; ancestors: 19)\n",
      "\u001b[32m[1230 18:51:33 @DATSGANModel.py:213]\u001b[0m \u001b[91mCreating cell for dur_pt_int (in-edges: 1; ancestors: 20)\n",
      "\u001b[32m[1230 18:51:33 @DATSGANModel.py:213]\u001b[0m \u001b[91mCreating cell for pt_n_interchanges (in-edges: 1; ancestors: 21)\n",
      "\u001b[32m[1230 18:51:34 @DATSGANModel.py:213]\u001b[0m \u001b[91mCreating cell for dur_driving (in-edges: 1; ancestors: 22)\n",
      "\u001b[32m[1230 18:51:34 @DATSGANModel.py:213]\u001b[0m \u001b[91mCreating cell for cost_transit (in-edges: 1; ancestors: 23)\n",
      "\u001b[32m[1230 18:51:34 @DATSGANModel.py:213]\u001b[0m \u001b[91mCreating cell for cost_driving_fuel (in-edges: 1; ancestors: 24)\n",
      "\u001b[32m[1230 18:51:34 @DATSGANModel.py:213]\u001b[0m \u001b[91mCreating cell for cost_driving_con_charge (in-edges: 1; ancestors: 25)\n",
      "\u001b[32m[1230 18:51:34 @DATSGANModel.py:213]\u001b[0m \u001b[91mCreating cell for driving_traffic_percent (in-edges: 1; ancestors: 26)\n",
      "\u001b[32m[1230 18:51:34 @sessinit.py:87]\u001b[0m \u001b[5m\u001b[31mWRN\u001b[0m The following variables are in the checkpoint, but not found in the graph: global_step, optimize/beta1_power, optimize/beta2_power\n",
      "INFO:tensorflow:Graph was finalized.\n",
      "INFO:tensorflow:Running local_init_op.\n",
      "INFO:tensorflow:Done running local_init_op.\n",
      "\u001b[32m[1230 18:51:36 @sessinit.py:114]\u001b[0m Restoring checkpoint from ../output/LPMC_half_DAG/LINEAR_05/model\\model-20399 ...\n",
      "INFO:tensorflow:Restoring parameters from ../output/LPMC_half_DAG/LINEAR_05/model\\model-20399\n",
      "\u001b[32m[1230 18:51:36 @DATSGAN.py:267]\u001b[0m Loading Preprocessor!\n"
     ]
    },
    {
     "name": "stderr",
     "output_type": "stream",
     "text": [
      "|                                                                                          |35/?[00:01<00:00,26.64it/s]\n"
     ]
    },
    {
     "name": "stdout",
     "output_type": "stream",
     "text": [
      "\u001b[32m[1230 18:51:38 @DATSGAN.py:267]\u001b[0m Loading Preprocessor!\n"
     ]
    },
    {
     "name": "stderr",
     "output_type": "stream",
     "text": [
      "|                                                                                          |35/?[00:00<00:00,46.09it/s]\n"
     ]
    },
    {
     "name": "stdout",
     "output_type": "stream",
     "text": [
      "\u001b[32m[1230 18:51:39 @DATSGAN.py:267]\u001b[0m Loading Preprocessor!\n"
     ]
    },
    {
     "name": "stderr",
     "output_type": "stream",
     "text": [
      "|                                                                                          |35/?[00:00<00:00,44.30it/s]\n"
     ]
    },
    {
     "name": "stdout",
     "output_type": "stream",
     "text": [
      "\u001b[32m[1230 18:51:40 @DATSGAN.py:267]\u001b[0m Loading Preprocessor!\n"
     ]
    },
    {
     "name": "stderr",
     "output_type": "stream",
     "text": [
      "|                                                                                          |35/?[00:00<00:00,47.84it/s]\n"
     ]
    },
    {
     "name": "stdout",
     "output_type": "stream",
     "text": [
      "\u001b[32m[1230 18:51:41 @DATSGAN.py:267]\u001b[0m Loading Preprocessor!\n"
     ]
    },
    {
     "name": "stderr",
     "output_type": "stream",
     "text": [
      "|                                                                                          |35/?[00:00<00:00,46.30it/s]\n"
     ]
    },
    {
     "name": "stdout",
     "output_type": "stream",
     "text": [
      "Sampling synthetic data from model \u001b[1mNOLINKS_01\u001b[0m (11/25)\n",
      "\u001b[32m[1230 18:51:57 @DATSGANModel.py:213]\u001b[0m \u001b[91mCreating cell for travel_mode (in-edges: 0; ancestors: 0)\n",
      "\u001b[32m[1230 18:51:57 @DATSGANModel.py:213]\u001b[0m \u001b[91mCreating cell for purpose (in-edges: 0; ancestors: 0)\n",
      "\u001b[32m[1230 18:51:57 @DATSGANModel.py:213]\u001b[0m \u001b[91mCreating cell for fueltype (in-edges: 0; ancestors: 0)\n",
      "\u001b[32m[1230 18:51:57 @DATSGANModel.py:213]\u001b[0m \u001b[91mCreating cell for faretype (in-edges: 0; ancestors: 0)\n",
      "\u001b[32m[1230 18:51:57 @DATSGANModel.py:213]\u001b[0m \u001b[91mCreating cell for bus_scale (in-edges: 0; ancestors: 0)\n",
      "\u001b[32m[1230 18:51:57 @DATSGANModel.py:213]\u001b[0m \u001b[91mCreating cell for travel_year (in-edges: 0; ancestors: 0)\n",
      "\u001b[32m[1230 18:51:57 @DATSGANModel.py:213]\u001b[0m \u001b[91mCreating cell for travel_month (in-edges: 0; ancestors: 0)\n",
      "\u001b[32m[1230 18:51:57 @DATSGANModel.py:213]\u001b[0m \u001b[91mCreating cell for travel_date (in-edges: 0; ancestors: 0)\n",
      "\u001b[32m[1230 18:51:57 @DATSGANModel.py:213]\u001b[0m \u001b[91mCreating cell for day_of_week (in-edges: 0; ancestors: 0)\n",
      "\u001b[32m[1230 18:51:57 @DATSGANModel.py:213]\u001b[0m \u001b[91mCreating cell for start_time_linear (in-edges: 0; ancestors: 0)\n",
      "\u001b[32m[1230 18:51:57 @DATSGANModel.py:213]\u001b[0m \u001b[91mCreating cell for age (in-edges: 0; ancestors: 0)\n",
      "\u001b[32m[1230 18:51:57 @DATSGANModel.py:213]\u001b[0m \u001b[91mCreating cell for female (in-edges: 0; ancestors: 0)\n",
      "\u001b[32m[1230 18:51:57 @DATSGANModel.py:213]\u001b[0m \u001b[91mCreating cell for driving_license (in-edges: 0; ancestors: 0)\n",
      "\u001b[32m[1230 18:51:58 @DATSGANModel.py:213]\u001b[0m \u001b[91mCreating cell for car_ownership (in-edges: 0; ancestors: 0)\n",
      "\u001b[32m[1230 18:51:58 @DATSGANModel.py:213]\u001b[0m \u001b[91mCreating cell for distance (in-edges: 0; ancestors: 0)\n",
      "\u001b[32m[1230 18:51:58 @DATSGANModel.py:213]\u001b[0m \u001b[91mCreating cell for dur_walking (in-edges: 0; ancestors: 0)\n",
      "\u001b[32m[1230 18:51:58 @DATSGANModel.py:213]\u001b[0m \u001b[91mCreating cell for dur_cycling (in-edges: 0; ancestors: 0)\n",
      "\u001b[32m[1230 18:51:58 @DATSGANModel.py:213]\u001b[0m \u001b[91mCreating cell for dur_pt_access (in-edges: 0; ancestors: 0)\n",
      "\u001b[32m[1230 18:51:58 @DATSGANModel.py:213]\u001b[0m \u001b[91mCreating cell for dur_pt_rail (in-edges: 0; ancestors: 0)\n",
      "\u001b[32m[1230 18:51:58 @DATSGANModel.py:213]\u001b[0m \u001b[91mCreating cell for dur_pt_bus (in-edges: 0; ancestors: 0)\n",
      "\u001b[32m[1230 18:51:58 @DATSGANModel.py:213]\u001b[0m \u001b[91mCreating cell for dur_pt_int (in-edges: 0; ancestors: 0)\n",
      "\u001b[32m[1230 18:51:58 @DATSGANModel.py:213]\u001b[0m \u001b[91mCreating cell for pt_n_interchanges (in-edges: 0; ancestors: 0)\n",
      "\u001b[32m[1230 18:51:58 @DATSGANModel.py:213]\u001b[0m \u001b[91mCreating cell for dur_driving (in-edges: 0; ancestors: 0)\n",
      "\u001b[32m[1230 18:51:58 @DATSGANModel.py:213]\u001b[0m \u001b[91mCreating cell for cost_transit (in-edges: 0; ancestors: 0)\n",
      "\u001b[32m[1230 18:51:58 @DATSGANModel.py:213]\u001b[0m \u001b[91mCreating cell for cost_driving_fuel (in-edges: 0; ancestors: 0)\n",
      "\u001b[32m[1230 18:51:58 @DATSGANModel.py:213]\u001b[0m \u001b[91mCreating cell for cost_driving_con_charge (in-edges: 0; ancestors: 0)\n",
      "\u001b[32m[1230 18:51:58 @DATSGANModel.py:213]\u001b[0m \u001b[91mCreating cell for driving_traffic_percent (in-edges: 0; ancestors: 0)\n",
      "\u001b[32m[1230 18:51:59 @sessinit.py:87]\u001b[0m \u001b[5m\u001b[31mWRN\u001b[0m The following variables are in the checkpoint, but not found in the graph: global_step, optimize/beta1_power, optimize/beta2_power\n",
      "INFO:tensorflow:Graph was finalized.\n",
      "INFO:tensorflow:Running local_init_op.\n",
      "INFO:tensorflow:Done running local_init_op.\n",
      "\u001b[32m[1230 18:52:00 @sessinit.py:114]\u001b[0m Restoring checkpoint from ../output/LPMC_half_DAG/NOLINKS_01/model\\model-20399 ...\n",
      "INFO:tensorflow:Restoring parameters from ../output/LPMC_half_DAG/NOLINKS_01/model\\model-20399\n",
      "\u001b[32m[1230 18:52:01 @DATSGAN.py:267]\u001b[0m Loading Preprocessor!\n"
     ]
    },
    {
     "name": "stderr",
     "output_type": "stream",
     "text": [
      "|                                                                                          |35/?[00:03<00:00,10.35it/s]\n"
     ]
    },
    {
     "name": "stdout",
     "output_type": "stream",
     "text": [
      "\u001b[32m[1230 18:52:05 @DATSGAN.py:267]\u001b[0m Loading Preprocessor!\n"
     ]
    },
    {
     "name": "stderr",
     "output_type": "stream",
     "text": [
      "|                                                                                          |35/?[00:02<00:00,11.83it/s]\n"
     ]
    },
    {
     "name": "stdout",
     "output_type": "stream",
     "text": [
      "\u001b[32m[1230 18:52:08 @DATSGAN.py:267]\u001b[0m Loading Preprocessor!\n"
     ]
    },
    {
     "name": "stderr",
     "output_type": "stream",
     "text": [
      "|                                                                                          |35/?[00:02<00:00,12.08it/s]\n"
     ]
    },
    {
     "name": "stdout",
     "output_type": "stream",
     "text": [
      "\u001b[32m[1230 18:52:11 @DATSGAN.py:267]\u001b[0m Loading Preprocessor!\n"
     ]
    },
    {
     "name": "stderr",
     "output_type": "stream",
     "text": [
      "|                                                                                          |35/?[00:02<00:00,12.14it/s]\n"
     ]
    },
    {
     "name": "stdout",
     "output_type": "stream",
     "text": [
      "\u001b[32m[1230 18:52:14 @DATSGAN.py:267]\u001b[0m Loading Preprocessor!\n"
     ]
    },
    {
     "name": "stderr",
     "output_type": "stream",
     "text": [
      "|                                                                                          |35/?[00:02<00:00,12.04it/s]\n"
     ]
    },
    {
     "name": "stdout",
     "output_type": "stream",
     "text": [
      "Sampling synthetic data from model \u001b[1mNOLINKS_02\u001b[0m (12/25)\n",
      "\u001b[32m[1230 18:52:25 @DATSGANModel.py:213]\u001b[0m \u001b[91mCreating cell for travel_mode (in-edges: 0; ancestors: 0)\n",
      "\u001b[32m[1230 18:52:25 @DATSGANModel.py:213]\u001b[0m \u001b[91mCreating cell for purpose (in-edges: 0; ancestors: 0)\n",
      "\u001b[32m[1230 18:52:25 @DATSGANModel.py:213]\u001b[0m \u001b[91mCreating cell for fueltype (in-edges: 0; ancestors: 0)\n",
      "\u001b[32m[1230 18:52:25 @DATSGANModel.py:213]\u001b[0m \u001b[91mCreating cell for faretype (in-edges: 0; ancestors: 0)\n",
      "\u001b[32m[1230 18:52:25 @DATSGANModel.py:213]\u001b[0m \u001b[91mCreating cell for bus_scale (in-edges: 0; ancestors: 0)\n",
      "\u001b[32m[1230 18:52:25 @DATSGANModel.py:213]\u001b[0m \u001b[91mCreating cell for travel_year (in-edges: 0; ancestors: 0)\n",
      "\u001b[32m[1230 18:52:25 @DATSGANModel.py:213]\u001b[0m \u001b[91mCreating cell for travel_month (in-edges: 0; ancestors: 0)\n",
      "\u001b[32m[1230 18:52:25 @DATSGANModel.py:213]\u001b[0m \u001b[91mCreating cell for travel_date (in-edges: 0; ancestors: 0)\n",
      "\u001b[32m[1230 18:52:25 @DATSGANModel.py:213]\u001b[0m \u001b[91mCreating cell for day_of_week (in-edges: 0; ancestors: 0)\n",
      "\u001b[32m[1230 18:52:26 @DATSGANModel.py:213]\u001b[0m \u001b[91mCreating cell for start_time_linear (in-edges: 0; ancestors: 0)\n",
      "\u001b[32m[1230 18:52:26 @DATSGANModel.py:213]\u001b[0m \u001b[91mCreating cell for age (in-edges: 0; ancestors: 0)\n",
      "\u001b[32m[1230 18:52:26 @DATSGANModel.py:213]\u001b[0m \u001b[91mCreating cell for female (in-edges: 0; ancestors: 0)\n",
      "\u001b[32m[1230 18:52:26 @DATSGANModel.py:213]\u001b[0m \u001b[91mCreating cell for driving_license (in-edges: 0; ancestors: 0)\n",
      "\u001b[32m[1230 18:52:26 @DATSGANModel.py:213]\u001b[0m \u001b[91mCreating cell for car_ownership (in-edges: 0; ancestors: 0)\n",
      "\u001b[32m[1230 18:52:26 @DATSGANModel.py:213]\u001b[0m \u001b[91mCreating cell for distance (in-edges: 0; ancestors: 0)\n",
      "\u001b[32m[1230 18:52:26 @DATSGANModel.py:213]\u001b[0m \u001b[91mCreating cell for dur_walking (in-edges: 0; ancestors: 0)\n",
      "\u001b[32m[1230 18:52:26 @DATSGANModel.py:213]\u001b[0m \u001b[91mCreating cell for dur_cycling (in-edges: 0; ancestors: 0)\n",
      "\u001b[32m[1230 18:52:26 @DATSGANModel.py:213]\u001b[0m \u001b[91mCreating cell for dur_pt_access (in-edges: 0; ancestors: 0)\n",
      "\u001b[32m[1230 18:52:26 @DATSGANModel.py:213]\u001b[0m \u001b[91mCreating cell for dur_pt_rail (in-edges: 0; ancestors: 0)\n",
      "\u001b[32m[1230 18:52:26 @DATSGANModel.py:213]\u001b[0m \u001b[91mCreating cell for dur_pt_bus (in-edges: 0; ancestors: 0)\n",
      "\u001b[32m[1230 18:52:26 @DATSGANModel.py:213]\u001b[0m \u001b[91mCreating cell for dur_pt_int (in-edges: 0; ancestors: 0)\n",
      "\u001b[32m[1230 18:52:26 @DATSGANModel.py:213]\u001b[0m \u001b[91mCreating cell for pt_n_interchanges (in-edges: 0; ancestors: 0)\n",
      "\u001b[32m[1230 18:52:26 @DATSGANModel.py:213]\u001b[0m \u001b[91mCreating cell for dur_driving (in-edges: 0; ancestors: 0)\n",
      "\u001b[32m[1230 18:52:26 @DATSGANModel.py:213]\u001b[0m \u001b[91mCreating cell for cost_transit (in-edges: 0; ancestors: 0)\n",
      "\u001b[32m[1230 18:52:26 @DATSGANModel.py:213]\u001b[0m \u001b[91mCreating cell for cost_driving_fuel (in-edges: 0; ancestors: 0)\n",
      "\u001b[32m[1230 18:52:27 @DATSGANModel.py:213]\u001b[0m \u001b[91mCreating cell for cost_driving_con_charge (in-edges: 0; ancestors: 0)\n",
      "\u001b[32m[1230 18:52:27 @DATSGANModel.py:213]\u001b[0m \u001b[91mCreating cell for driving_traffic_percent (in-edges: 0; ancestors: 0)\n",
      "\u001b[32m[1230 18:52:27 @sessinit.py:87]\u001b[0m \u001b[5m\u001b[31mWRN\u001b[0m The following variables are in the checkpoint, but not found in the graph: global_step, optimize/beta1_power, optimize/beta2_power\n",
      "INFO:tensorflow:Graph was finalized.\n",
      "INFO:tensorflow:Running local_init_op.\n",
      "INFO:tensorflow:Done running local_init_op.\n",
      "\u001b[32m[1230 18:52:29 @sessinit.py:114]\u001b[0m Restoring checkpoint from ../output/LPMC_half_DAG/NOLINKS_02/model\\model-20399 ...\n",
      "INFO:tensorflow:Restoring parameters from ../output/LPMC_half_DAG/NOLINKS_02/model\\model-20399\n",
      "\u001b[32m[1230 18:52:29 @DATSGAN.py:267]\u001b[0m Loading Preprocessor!\n"
     ]
    },
    {
     "name": "stderr",
     "output_type": "stream",
     "text": [
      "|                                                                                          |35/?[00:03<00:00,10.42it/s]\n"
     ]
    },
    {
     "name": "stdout",
     "output_type": "stream",
     "text": [
      "\u001b[32m[1230 18:52:33 @DATSGAN.py:267]\u001b[0m Loading Preprocessor!\n"
     ]
    },
    {
     "name": "stderr",
     "output_type": "stream",
     "text": [
      "|                                                                                          |35/?[00:02<00:00,11.82it/s]\n"
     ]
    },
    {
     "name": "stdout",
     "output_type": "stream",
     "text": [
      "\u001b[32m[1230 18:52:36 @DATSGAN.py:267]\u001b[0m Loading Preprocessor!\n"
     ]
    },
    {
     "name": "stderr",
     "output_type": "stream",
     "text": [
      "|                                                                                          |35/?[00:02<00:00,12.01it/s]\n"
     ]
    },
    {
     "name": "stdout",
     "output_type": "stream",
     "text": [
      "\u001b[32m[1230 18:52:40 @DATSGAN.py:267]\u001b[0m Loading Preprocessor!\n"
     ]
    },
    {
     "name": "stderr",
     "output_type": "stream",
     "text": [
      "|                                                                                          |35/?[00:02<00:00,12.10it/s]\n"
     ]
    },
    {
     "name": "stdout",
     "output_type": "stream",
     "text": [
      "\u001b[32m[1230 18:52:43 @DATSGAN.py:267]\u001b[0m Loading Preprocessor!\n"
     ]
    },
    {
     "name": "stderr",
     "output_type": "stream",
     "text": [
      "|                                                                                          |35/?[00:02<00:00,11.91it/s]\n"
     ]
    },
    {
     "name": "stdout",
     "output_type": "stream",
     "text": [
      "Sampling synthetic data from model \u001b[1mNOLINKS_03\u001b[0m (13/25)\n",
      "\u001b[32m[1230 18:52:54 @DATSGANModel.py:213]\u001b[0m \u001b[91mCreating cell for travel_mode (in-edges: 0; ancestors: 0)\n",
      "\u001b[32m[1230 18:52:54 @DATSGANModel.py:213]\u001b[0m \u001b[91mCreating cell for purpose (in-edges: 0; ancestors: 0)\n",
      "\u001b[32m[1230 18:52:54 @DATSGANModel.py:213]\u001b[0m \u001b[91mCreating cell for fueltype (in-edges: 0; ancestors: 0)\n",
      "\u001b[32m[1230 18:52:54 @DATSGANModel.py:213]\u001b[0m \u001b[91mCreating cell for faretype (in-edges: 0; ancestors: 0)\n",
      "\u001b[32m[1230 18:52:54 @DATSGANModel.py:213]\u001b[0m \u001b[91mCreating cell for bus_scale (in-edges: 0; ancestors: 0)\n",
      "\u001b[32m[1230 18:52:54 @DATSGANModel.py:213]\u001b[0m \u001b[91mCreating cell for travel_year (in-edges: 0; ancestors: 0)\n",
      "\u001b[32m[1230 18:52:54 @DATSGANModel.py:213]\u001b[0m \u001b[91mCreating cell for travel_month (in-edges: 0; ancestors: 0)\n",
      "\u001b[32m[1230 18:52:54 @DATSGANModel.py:213]\u001b[0m \u001b[91mCreating cell for travel_date (in-edges: 0; ancestors: 0)\n",
      "\u001b[32m[1230 18:52:54 @DATSGANModel.py:213]\u001b[0m \u001b[91mCreating cell for day_of_week (in-edges: 0; ancestors: 0)\n",
      "\u001b[32m[1230 18:52:54 @DATSGANModel.py:213]\u001b[0m \u001b[91mCreating cell for start_time_linear (in-edges: 0; ancestors: 0)\n",
      "\u001b[32m[1230 18:52:54 @DATSGANModel.py:213]\u001b[0m \u001b[91mCreating cell for age (in-edges: 0; ancestors: 0)\n",
      "\u001b[32m[1230 18:52:54 @DATSGANModel.py:213]\u001b[0m \u001b[91mCreating cell for female (in-edges: 0; ancestors: 0)\n",
      "\u001b[32m[1230 18:52:54 @DATSGANModel.py:213]\u001b[0m \u001b[91mCreating cell for driving_license (in-edges: 0; ancestors: 0)\n",
      "\u001b[32m[1230 18:52:54 @DATSGANModel.py:213]\u001b[0m \u001b[91mCreating cell for car_ownership (in-edges: 0; ancestors: 0)\n",
      "\u001b[32m[1230 18:52:55 @DATSGANModel.py:213]\u001b[0m \u001b[91mCreating cell for distance (in-edges: 0; ancestors: 0)\n",
      "\u001b[32m[1230 18:52:55 @DATSGANModel.py:213]\u001b[0m \u001b[91mCreating cell for dur_walking (in-edges: 0; ancestors: 0)\n",
      "\u001b[32m[1230 18:52:55 @DATSGANModel.py:213]\u001b[0m \u001b[91mCreating cell for dur_cycling (in-edges: 0; ancestors: 0)\n",
      "\u001b[32m[1230 18:52:55 @DATSGANModel.py:213]\u001b[0m \u001b[91mCreating cell for dur_pt_access (in-edges: 0; ancestors: 0)\n",
      "\u001b[32m[1230 18:52:55 @DATSGANModel.py:213]\u001b[0m \u001b[91mCreating cell for dur_pt_rail (in-edges: 0; ancestors: 0)\n",
      "\u001b[32m[1230 18:52:55 @DATSGANModel.py:213]\u001b[0m \u001b[91mCreating cell for dur_pt_bus (in-edges: 0; ancestors: 0)\n",
      "\u001b[32m[1230 18:52:55 @DATSGANModel.py:213]\u001b[0m \u001b[91mCreating cell for dur_pt_int (in-edges: 0; ancestors: 0)\n",
      "\u001b[32m[1230 18:52:55 @DATSGANModel.py:213]\u001b[0m \u001b[91mCreating cell for pt_n_interchanges (in-edges: 0; ancestors: 0)\n",
      "\u001b[32m[1230 18:52:55 @DATSGANModel.py:213]\u001b[0m \u001b[91mCreating cell for dur_driving (in-edges: 0; ancestors: 0)\n",
      "\u001b[32m[1230 18:52:55 @DATSGANModel.py:213]\u001b[0m \u001b[91mCreating cell for cost_transit (in-edges: 0; ancestors: 0)\n",
      "\u001b[32m[1230 18:52:55 @DATSGANModel.py:213]\u001b[0m \u001b[91mCreating cell for cost_driving_fuel (in-edges: 0; ancestors: 0)\n",
      "\u001b[32m[1230 18:52:55 @DATSGANModel.py:213]\u001b[0m \u001b[91mCreating cell for cost_driving_con_charge (in-edges: 0; ancestors: 0)\n",
      "\u001b[32m[1230 18:52:55 @DATSGANModel.py:213]\u001b[0m \u001b[91mCreating cell for driving_traffic_percent (in-edges: 0; ancestors: 0)\n",
      "\u001b[32m[1230 18:52:56 @sessinit.py:87]\u001b[0m \u001b[5m\u001b[31mWRN\u001b[0m The following variables are in the checkpoint, but not found in the graph: global_step, optimize/beta1_power, optimize/beta2_power\n",
      "INFO:tensorflow:Graph was finalized.\n",
      "INFO:tensorflow:Running local_init_op.\n",
      "INFO:tensorflow:Done running local_init_op.\n",
      "\u001b[32m[1230 18:52:57 @sessinit.py:114]\u001b[0m Restoring checkpoint from ../output/LPMC_half_DAG/NOLINKS_03/model\\model-20399 ...\n",
      "INFO:tensorflow:Restoring parameters from ../output/LPMC_half_DAG/NOLINKS_03/model\\model-20399\n",
      "\u001b[32m[1230 18:52:58 @DATSGAN.py:267]\u001b[0m Loading Preprocessor!\n"
     ]
    },
    {
     "name": "stderr",
     "output_type": "stream",
     "text": [
      "|                                                                                          |35/?[00:03<00:00,10.61it/s]\n"
     ]
    },
    {
     "name": "stdout",
     "output_type": "stream",
     "text": [
      "\u001b[32m[1230 18:53:01 @DATSGAN.py:267]\u001b[0m Loading Preprocessor!\n"
     ]
    },
    {
     "name": "stderr",
     "output_type": "stream",
     "text": [
      "|                                                                                          |35/?[00:03<00:00,11.57it/s]\n"
     ]
    },
    {
     "name": "stdout",
     "output_type": "stream",
     "text": [
      "\u001b[32m[1230 18:53:05 @DATSGAN.py:267]\u001b[0m Loading Preprocessor!\n"
     ]
    },
    {
     "name": "stderr",
     "output_type": "stream",
     "text": [
      "|                                                                                          |35/?[00:03<00:00,11.49it/s]\n"
     ]
    },
    {
     "name": "stdout",
     "output_type": "stream",
     "text": [
      "\u001b[32m[1230 18:53:08 @DATSGAN.py:267]\u001b[0m Loading Preprocessor!\n"
     ]
    },
    {
     "name": "stderr",
     "output_type": "stream",
     "text": [
      "|                                                                                          |35/?[00:02<00:00,12.11it/s]\n"
     ]
    },
    {
     "name": "stdout",
     "output_type": "stream",
     "text": [
      "\u001b[32m[1230 18:53:12 @DATSGAN.py:267]\u001b[0m Loading Preprocessor!\n"
     ]
    },
    {
     "name": "stderr",
     "output_type": "stream",
     "text": [
      "|                                                                                          |35/?[00:02<00:00,11.97it/s]\n"
     ]
    },
    {
     "name": "stdout",
     "output_type": "stream",
     "text": [
      "Sampling synthetic data from model \u001b[1mNOLINKS_04\u001b[0m (14/25)\n",
      "\u001b[32m[1230 18:53:22 @DATSGANModel.py:213]\u001b[0m \u001b[91mCreating cell for travel_mode (in-edges: 0; ancestors: 0)\n",
      "\u001b[32m[1230 18:53:22 @DATSGANModel.py:213]\u001b[0m \u001b[91mCreating cell for purpose (in-edges: 0; ancestors: 0)\n",
      "\u001b[32m[1230 18:53:22 @DATSGANModel.py:213]\u001b[0m \u001b[91mCreating cell for fueltype (in-edges: 0; ancestors: 0)\n",
      "\u001b[32m[1230 18:53:22 @DATSGANModel.py:213]\u001b[0m \u001b[91mCreating cell for faretype (in-edges: 0; ancestors: 0)\n",
      "\u001b[32m[1230 18:53:22 @DATSGANModel.py:213]\u001b[0m \u001b[91mCreating cell for bus_scale (in-edges: 0; ancestors: 0)\n",
      "\u001b[32m[1230 18:53:22 @DATSGANModel.py:213]\u001b[0m \u001b[91mCreating cell for travel_year (in-edges: 0; ancestors: 0)\n",
      "\u001b[32m[1230 18:53:23 @DATSGANModel.py:213]\u001b[0m \u001b[91mCreating cell for travel_month (in-edges: 0; ancestors: 0)\n",
      "\u001b[32m[1230 18:53:23 @DATSGANModel.py:213]\u001b[0m \u001b[91mCreating cell for travel_date (in-edges: 0; ancestors: 0)\n",
      "\u001b[32m[1230 18:53:23 @DATSGANModel.py:213]\u001b[0m \u001b[91mCreating cell for day_of_week (in-edges: 0; ancestors: 0)\n",
      "\u001b[32m[1230 18:53:23 @DATSGANModel.py:213]\u001b[0m \u001b[91mCreating cell for start_time_linear (in-edges: 0; ancestors: 0)\n",
      "\u001b[32m[1230 18:53:23 @DATSGANModel.py:213]\u001b[0m \u001b[91mCreating cell for age (in-edges: 0; ancestors: 0)\n",
      "\u001b[32m[1230 18:53:23 @DATSGANModel.py:213]\u001b[0m \u001b[91mCreating cell for female (in-edges: 0; ancestors: 0)\n",
      "\u001b[32m[1230 18:53:23 @DATSGANModel.py:213]\u001b[0m \u001b[91mCreating cell for driving_license (in-edges: 0; ancestors: 0)\n",
      "\u001b[32m[1230 18:53:23 @DATSGANModel.py:213]\u001b[0m \u001b[91mCreating cell for car_ownership (in-edges: 0; ancestors: 0)\n",
      "\u001b[32m[1230 18:53:23 @DATSGANModel.py:213]\u001b[0m \u001b[91mCreating cell for distance (in-edges: 0; ancestors: 0)\n",
      "\u001b[32m[1230 18:53:23 @DATSGANModel.py:213]\u001b[0m \u001b[91mCreating cell for dur_walking (in-edges: 0; ancestors: 0)\n",
      "\u001b[32m[1230 18:53:23 @DATSGANModel.py:213]\u001b[0m \u001b[91mCreating cell for dur_cycling (in-edges: 0; ancestors: 0)\n",
      "\u001b[32m[1230 18:53:23 @DATSGANModel.py:213]\u001b[0m \u001b[91mCreating cell for dur_pt_access (in-edges: 0; ancestors: 0)\n",
      "\u001b[32m[1230 18:53:23 @DATSGANModel.py:213]\u001b[0m \u001b[91mCreating cell for dur_pt_rail (in-edges: 0; ancestors: 0)\n",
      "\u001b[32m[1230 18:53:23 @DATSGANModel.py:213]\u001b[0m \u001b[91mCreating cell for dur_pt_bus (in-edges: 0; ancestors: 0)\n",
      "\u001b[32m[1230 18:53:23 @DATSGANModel.py:213]\u001b[0m \u001b[91mCreating cell for dur_pt_int (in-edges: 0; ancestors: 0)\n",
      "\u001b[32m[1230 18:53:23 @DATSGANModel.py:213]\u001b[0m \u001b[91mCreating cell for pt_n_interchanges (in-edges: 0; ancestors: 0)\n",
      "\u001b[32m[1230 18:53:23 @DATSGANModel.py:213]\u001b[0m \u001b[91mCreating cell for dur_driving (in-edges: 0; ancestors: 0)\n",
      "\u001b[32m[1230 18:53:24 @DATSGANModel.py:213]\u001b[0m \u001b[91mCreating cell for cost_transit (in-edges: 0; ancestors: 0)\n",
      "\u001b[32m[1230 18:53:24 @DATSGANModel.py:213]\u001b[0m \u001b[91mCreating cell for cost_driving_fuel (in-edges: 0; ancestors: 0)\n",
      "\u001b[32m[1230 18:53:24 @DATSGANModel.py:213]\u001b[0m \u001b[91mCreating cell for cost_driving_con_charge (in-edges: 0; ancestors: 0)\n",
      "\u001b[32m[1230 18:53:24 @DATSGANModel.py:213]\u001b[0m \u001b[91mCreating cell for driving_traffic_percent (in-edges: 0; ancestors: 0)\n",
      "\u001b[32m[1230 18:53:24 @sessinit.py:87]\u001b[0m \u001b[5m\u001b[31mWRN\u001b[0m The following variables are in the checkpoint, but not found in the graph: global_step, optimize/beta1_power, optimize/beta2_power\n",
      "INFO:tensorflow:Graph was finalized.\n",
      "INFO:tensorflow:Running local_init_op.\n",
      "INFO:tensorflow:Done running local_init_op.\n",
      "\u001b[32m[1230 18:53:26 @sessinit.py:114]\u001b[0m Restoring checkpoint from ../output/LPMC_half_DAG/NOLINKS_04/model\\model-20399 ...\n",
      "INFO:tensorflow:Restoring parameters from ../output/LPMC_half_DAG/NOLINKS_04/model\\model-20399\n",
      "\u001b[32m[1230 18:53:26 @DATSGAN.py:267]\u001b[0m Loading Preprocessor!\n"
     ]
    },
    {
     "name": "stderr",
     "output_type": "stream",
     "text": [
      "|                                                                                          |35/?[00:03<00:00,10.46it/s]\n"
     ]
    },
    {
     "name": "stdout",
     "output_type": "stream",
     "text": [
      "\u001b[32m[1230 18:53:30 @DATSGAN.py:267]\u001b[0m Loading Preprocessor!\n"
     ]
    },
    {
     "name": "stderr",
     "output_type": "stream",
     "text": [
      "|                                                                                          |35/?[00:02<00:00,11.99it/s]\n"
     ]
    },
    {
     "name": "stdout",
     "output_type": "stream",
     "text": [
      "\u001b[32m[1230 18:53:33 @DATSGAN.py:267]\u001b[0m Loading Preprocessor!\n"
     ]
    },
    {
     "name": "stderr",
     "output_type": "stream",
     "text": [
      "|                                                                                          |35/?[00:02<00:00,11.72it/s]\n"
     ]
    },
    {
     "name": "stdout",
     "output_type": "stream",
     "text": [
      "\u001b[32m[1230 18:53:36 @DATSGAN.py:267]\u001b[0m Loading Preprocessor!\n"
     ]
    },
    {
     "name": "stderr",
     "output_type": "stream",
     "text": [
      "|                                                                                          |35/?[00:03<00:00,11.41it/s]\n"
     ]
    },
    {
     "name": "stdout",
     "output_type": "stream",
     "text": [
      "\u001b[32m[1230 18:53:40 @DATSGAN.py:267]\u001b[0m Loading Preprocessor!\n"
     ]
    },
    {
     "name": "stderr",
     "output_type": "stream",
     "text": [
      "|                                                                                          |35/?[00:02<00:00,12.13it/s]\n"
     ]
    },
    {
     "name": "stdout",
     "output_type": "stream",
     "text": [
      "Sampling synthetic data from model \u001b[1mNOLINKS_05\u001b[0m (15/25)\n",
      "\u001b[32m[1230 18:53:51 @DATSGANModel.py:213]\u001b[0m \u001b[91mCreating cell for travel_mode (in-edges: 0; ancestors: 0)\n",
      "\u001b[32m[1230 18:53:51 @DATSGANModel.py:213]\u001b[0m \u001b[91mCreating cell for purpose (in-edges: 0; ancestors: 0)\n",
      "\u001b[32m[1230 18:53:51 @DATSGANModel.py:213]\u001b[0m \u001b[91mCreating cell for fueltype (in-edges: 0; ancestors: 0)\n",
      "\u001b[32m[1230 18:53:51 @DATSGANModel.py:213]\u001b[0m \u001b[91mCreating cell for faretype (in-edges: 0; ancestors: 0)\n",
      "\u001b[32m[1230 18:53:51 @DATSGANModel.py:213]\u001b[0m \u001b[91mCreating cell for bus_scale (in-edges: 0; ancestors: 0)\n",
      "\u001b[32m[1230 18:53:51 @DATSGANModel.py:213]\u001b[0m \u001b[91mCreating cell for travel_year (in-edges: 0; ancestors: 0)\n",
      "\u001b[32m[1230 18:53:51 @DATSGANModel.py:213]\u001b[0m \u001b[91mCreating cell for travel_month (in-edges: 0; ancestors: 0)\n",
      "\u001b[32m[1230 18:53:51 @DATSGANModel.py:213]\u001b[0m \u001b[91mCreating cell for travel_date (in-edges: 0; ancestors: 0)\n",
      "\u001b[32m[1230 18:53:51 @DATSGANModel.py:213]\u001b[0m \u001b[91mCreating cell for day_of_week (in-edges: 0; ancestors: 0)\n",
      "\u001b[32m[1230 18:53:51 @DATSGANModel.py:213]\u001b[0m \u001b[91mCreating cell for start_time_linear (in-edges: 0; ancestors: 0)\n",
      "\u001b[32m[1230 18:53:51 @DATSGANModel.py:213]\u001b[0m \u001b[91mCreating cell for age (in-edges: 0; ancestors: 0)\n",
      "\u001b[32m[1230 18:53:51 @DATSGANModel.py:213]\u001b[0m \u001b[91mCreating cell for female (in-edges: 0; ancestors: 0)\n",
      "\u001b[32m[1230 18:53:52 @DATSGANModel.py:213]\u001b[0m \u001b[91mCreating cell for driving_license (in-edges: 0; ancestors: 0)\n",
      "\u001b[32m[1230 18:53:52 @DATSGANModel.py:213]\u001b[0m \u001b[91mCreating cell for car_ownership (in-edges: 0; ancestors: 0)\n",
      "\u001b[32m[1230 18:53:52 @DATSGANModel.py:213]\u001b[0m \u001b[91mCreating cell for distance (in-edges: 0; ancestors: 0)\n",
      "\u001b[32m[1230 18:53:52 @DATSGANModel.py:213]\u001b[0m \u001b[91mCreating cell for dur_walking (in-edges: 0; ancestors: 0)\n",
      "\u001b[32m[1230 18:53:52 @DATSGANModel.py:213]\u001b[0m \u001b[91mCreating cell for dur_cycling (in-edges: 0; ancestors: 0)\n",
      "\u001b[32m[1230 18:53:52 @DATSGANModel.py:213]\u001b[0m \u001b[91mCreating cell for dur_pt_access (in-edges: 0; ancestors: 0)\n",
      "\u001b[32m[1230 18:53:52 @DATSGANModel.py:213]\u001b[0m \u001b[91mCreating cell for dur_pt_rail (in-edges: 0; ancestors: 0)\n",
      "\u001b[32m[1230 18:53:52 @DATSGANModel.py:213]\u001b[0m \u001b[91mCreating cell for dur_pt_bus (in-edges: 0; ancestors: 0)\n",
      "\u001b[32m[1230 18:53:52 @DATSGANModel.py:213]\u001b[0m \u001b[91mCreating cell for dur_pt_int (in-edges: 0; ancestors: 0)\n",
      "\u001b[32m[1230 18:53:52 @DATSGANModel.py:213]\u001b[0m \u001b[91mCreating cell for pt_n_interchanges (in-edges: 0; ancestors: 0)\n",
      "\u001b[32m[1230 18:53:52 @DATSGANModel.py:213]\u001b[0m \u001b[91mCreating cell for dur_driving (in-edges: 0; ancestors: 0)\n",
      "\u001b[32m[1230 18:53:52 @DATSGANModel.py:213]\u001b[0m \u001b[91mCreating cell for cost_transit (in-edges: 0; ancestors: 0)\n",
      "\u001b[32m[1230 18:53:52 @DATSGANModel.py:213]\u001b[0m \u001b[91mCreating cell for cost_driving_fuel (in-edges: 0; ancestors: 0)\n",
      "\u001b[32m[1230 18:53:52 @DATSGANModel.py:213]\u001b[0m \u001b[91mCreating cell for cost_driving_con_charge (in-edges: 0; ancestors: 0)\n",
      "\u001b[32m[1230 18:53:52 @DATSGANModel.py:213]\u001b[0m \u001b[91mCreating cell for driving_traffic_percent (in-edges: 0; ancestors: 0)\n",
      "\u001b[32m[1230 18:53:53 @sessinit.py:87]\u001b[0m \u001b[5m\u001b[31mWRN\u001b[0m The following variables are in the checkpoint, but not found in the graph: global_step, optimize/beta1_power, optimize/beta2_power\n",
      "INFO:tensorflow:Graph was finalized.\n",
      "INFO:tensorflow:Running local_init_op.\n",
      "INFO:tensorflow:Done running local_init_op.\n",
      "\u001b[32m[1230 18:53:55 @sessinit.py:114]\u001b[0m Restoring checkpoint from ../output/LPMC_half_DAG/NOLINKS_05/model\\model-20399 ...\n",
      "INFO:tensorflow:Restoring parameters from ../output/LPMC_half_DAG/NOLINKS_05/model\\model-20399\n",
      "\u001b[32m[1230 18:53:55 @DATSGAN.py:267]\u001b[0m Loading Preprocessor!\n"
     ]
    },
    {
     "name": "stderr",
     "output_type": "stream",
     "text": [
      "|                                                                                          |35/?[00:03<00:00,10.64it/s]\n"
     ]
    },
    {
     "name": "stdout",
     "output_type": "stream",
     "text": [
      "\u001b[32m[1230 18:53:59 @DATSGAN.py:267]\u001b[0m Loading Preprocessor!\n"
     ]
    },
    {
     "name": "stderr",
     "output_type": "stream",
     "text": [
      "|                                                                                          |35/?[00:02<00:00,11.99it/s]\n"
     ]
    },
    {
     "name": "stdout",
     "output_type": "stream",
     "text": [
      "\u001b[32m[1230 18:54:02 @DATSGAN.py:267]\u001b[0m Loading Preprocessor!\n"
     ]
    },
    {
     "name": "stderr",
     "output_type": "stream",
     "text": [
      "|                                                                                          |35/?[00:02<00:00,11.76it/s]\n"
     ]
    },
    {
     "name": "stdout",
     "output_type": "stream",
     "text": [
      "\u001b[32m[1230 18:54:05 @DATSGAN.py:267]\u001b[0m Loading Preprocessor!\n"
     ]
    },
    {
     "name": "stderr",
     "output_type": "stream",
     "text": [
      "|                                                                                          |35/?[00:02<00:00,11.82it/s]\n"
     ]
    },
    {
     "name": "stdout",
     "output_type": "stream",
     "text": [
      "\u001b[32m[1230 18:54:09 @DATSGAN.py:267]\u001b[0m Loading Preprocessor!\n"
     ]
    },
    {
     "name": "stderr",
     "output_type": "stream",
     "text": [
      "|                                                                                          |35/?[00:02<00:00,12.12it/s]\n"
     ]
    },
    {
     "name": "stdout",
     "output_type": "stream",
     "text": [
      "Sampling synthetic data from model \u001b[1mPREDICTION_01\u001b[0m (16/25)\n",
      "\u001b[32m[1230 18:54:22 @DATSGANModel.py:213]\u001b[0m \u001b[91mCreating cell for purpose (in-edges: 0; ancestors: 0)\n",
      "\u001b[32m[1230 18:54:22 @DATSGANModel.py:213]\u001b[0m \u001b[91mCreating cell for fueltype (in-edges: 0; ancestors: 0)\n",
      "\u001b[32m[1230 18:54:22 @DATSGANModel.py:213]\u001b[0m \u001b[91mCreating cell for faretype (in-edges: 0; ancestors: 0)\n",
      "\u001b[32m[1230 18:54:22 @DATSGANModel.py:213]\u001b[0m \u001b[91mCreating cell for bus_scale (in-edges: 0; ancestors: 0)\n",
      "\u001b[32m[1230 18:54:22 @DATSGANModel.py:213]\u001b[0m \u001b[91mCreating cell for travel_year (in-edges: 0; ancestors: 0)\n",
      "\u001b[32m[1230 18:54:22 @DATSGANModel.py:213]\u001b[0m \u001b[91mCreating cell for travel_month (in-edges: 0; ancestors: 0)\n",
      "\u001b[32m[1230 18:54:22 @DATSGANModel.py:213]\u001b[0m \u001b[91mCreating cell for travel_date (in-edges: 0; ancestors: 0)\n",
      "\u001b[32m[1230 18:54:22 @DATSGANModel.py:213]\u001b[0m \u001b[91mCreating cell for day_of_week (in-edges: 0; ancestors: 0)\n",
      "\u001b[32m[1230 18:54:22 @DATSGANModel.py:213]\u001b[0m \u001b[91mCreating cell for start_time_linear (in-edges: 0; ancestors: 0)\n",
      "\u001b[32m[1230 18:54:22 @DATSGANModel.py:213]\u001b[0m \u001b[91mCreating cell for age (in-edges: 0; ancestors: 0)\n",
      "\u001b[32m[1230 18:54:23 @DATSGANModel.py:213]\u001b[0m \u001b[91mCreating cell for female (in-edges: 0; ancestors: 0)\n",
      "\u001b[32m[1230 18:54:23 @DATSGANModel.py:213]\u001b[0m \u001b[91mCreating cell for driving_license (in-edges: 0; ancestors: 0)\n",
      "\u001b[32m[1230 18:54:23 @DATSGANModel.py:213]\u001b[0m \u001b[91mCreating cell for car_ownership (in-edges: 0; ancestors: 0)\n",
      "\u001b[32m[1230 18:54:23 @DATSGANModel.py:213]\u001b[0m \u001b[91mCreating cell for distance (in-edges: 0; ancestors: 0)\n",
      "\u001b[32m[1230 18:54:23 @DATSGANModel.py:213]\u001b[0m \u001b[91mCreating cell for dur_walking (in-edges: 0; ancestors: 0)\n",
      "\u001b[32m[1230 18:54:23 @DATSGANModel.py:213]\u001b[0m \u001b[91mCreating cell for dur_cycling (in-edges: 0; ancestors: 0)\n",
      "\u001b[32m[1230 18:54:23 @DATSGANModel.py:213]\u001b[0m \u001b[91mCreating cell for dur_pt_access (in-edges: 0; ancestors: 0)\n",
      "\u001b[32m[1230 18:54:23 @DATSGANModel.py:213]\u001b[0m \u001b[91mCreating cell for dur_pt_rail (in-edges: 0; ancestors: 0)\n",
      "\u001b[32m[1230 18:54:23 @DATSGANModel.py:213]\u001b[0m \u001b[91mCreating cell for dur_pt_bus (in-edges: 0; ancestors: 0)\n",
      "\u001b[32m[1230 18:54:23 @DATSGANModel.py:213]\u001b[0m \u001b[91mCreating cell for dur_pt_int (in-edges: 0; ancestors: 0)\n",
      "\u001b[32m[1230 18:54:23 @DATSGANModel.py:213]\u001b[0m \u001b[91mCreating cell for pt_n_interchanges (in-edges: 0; ancestors: 0)\n",
      "\u001b[32m[1230 18:54:23 @DATSGANModel.py:213]\u001b[0m \u001b[91mCreating cell for dur_driving (in-edges: 0; ancestors: 0)\n",
      "\u001b[32m[1230 18:54:23 @DATSGANModel.py:213]\u001b[0m \u001b[91mCreating cell for cost_transit (in-edges: 0; ancestors: 0)\n",
      "\u001b[32m[1230 18:54:23 @DATSGANModel.py:213]\u001b[0m \u001b[91mCreating cell for cost_driving_fuel (in-edges: 0; ancestors: 0)\n",
      "\u001b[32m[1230 18:54:24 @DATSGANModel.py:213]\u001b[0m \u001b[91mCreating cell for cost_driving_con_charge (in-edges: 0; ancestors: 0)\n",
      "\u001b[32m[1230 18:54:24 @DATSGANModel.py:213]\u001b[0m \u001b[91mCreating cell for driving_traffic_percent (in-edges: 0; ancestors: 0)\n",
      "\u001b[32m[1230 18:54:24 @DATSGANModel.py:213]\u001b[0m \u001b[91mCreating cell for travel_mode (in-edges: 26; ancestors: 26)\n",
      "\u001b[32m[1230 18:54:24 @registry.py:126]\u001b[0m gen/LSTM/age-bus_scale-car_ownership-cost_driving_con_charge-cost_driving_fuel-cost_transit-day_of_week-distance-driving_license-driving_traffic_percent-dur_cycling-dur_driving-dur_pt_access-dur_pt_bus-dur_pt_int-dur_pt_rail-dur_walking-faretype-female-fueltype-pt_n_interchanges-purpose-start_time_linear-travel_date-travel_month-travel_year/FC_noise input: [None, 5200]\n",
      "\u001b[32m[1230 18:54:24 @registry.py:134]\u001b[0m gen/LSTM/age-bus_scale-car_ownership-cost_driving_con_charge-cost_driving_fuel-cost_transit-day_of_week-distance-driving_license-driving_traffic_percent-dur_cycling-dur_driving-dur_pt_access-dur_pt_bus-dur_pt_int-dur_pt_rail-dur_walking-faretype-female-fueltype-pt_n_interchanges-purpose-start_time_linear-travel_date-travel_month-travel_year/FC_noise output: [None, 200]\n",
      "\u001b[32m[1230 18:54:24 @sessinit.py:87]\u001b[0m \u001b[5m\u001b[31mWRN\u001b[0m The following variables are in the checkpoint, but not found in the graph: global_step, optimize/beta1_power, optimize/beta2_power\n",
      "INFO:tensorflow:Graph was finalized.\n",
      "INFO:tensorflow:Running local_init_op.\n",
      "INFO:tensorflow:Done running local_init_op.\n",
      "\u001b[32m[1230 18:54:26 @sessinit.py:114]\u001b[0m Restoring checkpoint from ../output/LPMC_half_DAG/PREDICTION_01/model\\model-20399 ...\n",
      "INFO:tensorflow:Restoring parameters from ../output/LPMC_half_DAG/PREDICTION_01/model\\model-20399\n",
      "\u001b[32m[1230 18:54:26 @DATSGAN.py:267]\u001b[0m Loading Preprocessor!\n"
     ]
    },
    {
     "name": "stderr",
     "output_type": "stream",
     "text": [
      "|                                                                                          |35/?[00:03<00:00,10.46it/s]\n"
     ]
    },
    {
     "name": "stdout",
     "output_type": "stream",
     "text": [
      "\u001b[32m[1230 18:54:30 @DATSGAN.py:267]\u001b[0m Loading Preprocessor!\n"
     ]
    },
    {
     "name": "stderr",
     "output_type": "stream",
     "text": [
      "|                                                                                          |35/?[00:02<00:00,11.68it/s]\n"
     ]
    },
    {
     "name": "stdout",
     "output_type": "stream",
     "text": [
      "\u001b[32m[1230 18:54:33 @DATSGAN.py:267]\u001b[0m Loading Preprocessor!\n"
     ]
    },
    {
     "name": "stderr",
     "output_type": "stream",
     "text": [
      "|                                                                                          |35/?[00:03<00:00,11.52it/s]\n"
     ]
    },
    {
     "name": "stdout",
     "output_type": "stream",
     "text": [
      "\u001b[32m[1230 18:54:37 @DATSGAN.py:267]\u001b[0m Loading Preprocessor!\n"
     ]
    },
    {
     "name": "stderr",
     "output_type": "stream",
     "text": [
      "|                                                                                          |35/?[00:02<00:00,11.91it/s]\n"
     ]
    },
    {
     "name": "stdout",
     "output_type": "stream",
     "text": [
      "\u001b[32m[1230 18:54:40 @DATSGAN.py:267]\u001b[0m Loading Preprocessor!\n"
     ]
    },
    {
     "name": "stderr",
     "output_type": "stream",
     "text": [
      "|                                                                                          |35/?[00:02<00:00,11.94it/s]\n"
     ]
    },
    {
     "name": "stdout",
     "output_type": "stream",
     "text": [
      "Sampling synthetic data from model \u001b[1mPREDICTION_02\u001b[0m (17/25)\n",
      "\u001b[32m[1230 18:54:53 @DATSGANModel.py:213]\u001b[0m \u001b[91mCreating cell for purpose (in-edges: 0; ancestors: 0)\n",
      "\u001b[32m[1230 18:54:54 @DATSGANModel.py:213]\u001b[0m \u001b[91mCreating cell for fueltype (in-edges: 0; ancestors: 0)\n",
      "\u001b[32m[1230 18:54:54 @DATSGANModel.py:213]\u001b[0m \u001b[91mCreating cell for faretype (in-edges: 0; ancestors: 0)\n",
      "\u001b[32m[1230 18:54:54 @DATSGANModel.py:213]\u001b[0m \u001b[91mCreating cell for bus_scale (in-edges: 0; ancestors: 0)\n",
      "\u001b[32m[1230 18:54:54 @DATSGANModel.py:213]\u001b[0m \u001b[91mCreating cell for travel_year (in-edges: 0; ancestors: 0)\n",
      "\u001b[32m[1230 18:54:54 @DATSGANModel.py:213]\u001b[0m \u001b[91mCreating cell for travel_month (in-edges: 0; ancestors: 0)\n",
      "\u001b[32m[1230 18:54:54 @DATSGANModel.py:213]\u001b[0m \u001b[91mCreating cell for travel_date (in-edges: 0; ancestors: 0)\n",
      "\u001b[32m[1230 18:54:54 @DATSGANModel.py:213]\u001b[0m \u001b[91mCreating cell for day_of_week (in-edges: 0; ancestors: 0)\n",
      "\u001b[32m[1230 18:54:54 @DATSGANModel.py:213]\u001b[0m \u001b[91mCreating cell for start_time_linear (in-edges: 0; ancestors: 0)\n",
      "\u001b[32m[1230 18:54:54 @DATSGANModel.py:213]\u001b[0m \u001b[91mCreating cell for age (in-edges: 0; ancestors: 0)\n",
      "\u001b[32m[1230 18:54:54 @DATSGANModel.py:213]\u001b[0m \u001b[91mCreating cell for female (in-edges: 0; ancestors: 0)\n",
      "\u001b[32m[1230 18:54:54 @DATSGANModel.py:213]\u001b[0m \u001b[91mCreating cell for driving_license (in-edges: 0; ancestors: 0)\n",
      "\u001b[32m[1230 18:54:54 @DATSGANModel.py:213]\u001b[0m \u001b[91mCreating cell for car_ownership (in-edges: 0; ancestors: 0)\n",
      "\u001b[32m[1230 18:54:54 @DATSGANModel.py:213]\u001b[0m \u001b[91mCreating cell for distance (in-edges: 0; ancestors: 0)\n",
      "\u001b[32m[1230 18:54:54 @DATSGANModel.py:213]\u001b[0m \u001b[91mCreating cell for dur_walking (in-edges: 0; ancestors: 0)\n",
      "\u001b[32m[1230 18:54:54 @DATSGANModel.py:213]\u001b[0m \u001b[91mCreating cell for dur_cycling (in-edges: 0; ancestors: 0)\n",
      "\u001b[32m[1230 18:54:55 @DATSGANModel.py:213]\u001b[0m \u001b[91mCreating cell for dur_pt_access (in-edges: 0; ancestors: 0)\n",
      "\u001b[32m[1230 18:54:55 @DATSGANModel.py:213]\u001b[0m \u001b[91mCreating cell for dur_pt_rail (in-edges: 0; ancestors: 0)\n",
      "\u001b[32m[1230 18:54:55 @DATSGANModel.py:213]\u001b[0m \u001b[91mCreating cell for dur_pt_bus (in-edges: 0; ancestors: 0)\n",
      "\u001b[32m[1230 18:54:55 @DATSGANModel.py:213]\u001b[0m \u001b[91mCreating cell for dur_pt_int (in-edges: 0; ancestors: 0)\n",
      "\u001b[32m[1230 18:54:55 @DATSGANModel.py:213]\u001b[0m \u001b[91mCreating cell for pt_n_interchanges (in-edges: 0; ancestors: 0)\n",
      "\u001b[32m[1230 18:54:55 @DATSGANModel.py:213]\u001b[0m \u001b[91mCreating cell for dur_driving (in-edges: 0; ancestors: 0)\n",
      "\u001b[32m[1230 18:54:55 @DATSGANModel.py:213]\u001b[0m \u001b[91mCreating cell for cost_transit (in-edges: 0; ancestors: 0)\n",
      "\u001b[32m[1230 18:54:55 @DATSGANModel.py:213]\u001b[0m \u001b[91mCreating cell for cost_driving_fuel (in-edges: 0; ancestors: 0)\n",
      "\u001b[32m[1230 18:54:55 @DATSGANModel.py:213]\u001b[0m \u001b[91mCreating cell for cost_driving_con_charge (in-edges: 0; ancestors: 0)\n",
      "\u001b[32m[1230 18:54:55 @DATSGANModel.py:213]\u001b[0m \u001b[91mCreating cell for driving_traffic_percent (in-edges: 0; ancestors: 0)\n",
      "\u001b[32m[1230 18:54:55 @DATSGANModel.py:213]\u001b[0m \u001b[91mCreating cell for travel_mode (in-edges: 26; ancestors: 26)\n",
      "\u001b[32m[1230 18:54:56 @sessinit.py:87]\u001b[0m \u001b[5m\u001b[31mWRN\u001b[0m The following variables are in the checkpoint, but not found in the graph: global_step, optimize/beta1_power, optimize/beta2_power\n",
      "INFO:tensorflow:Graph was finalized.\n",
      "INFO:tensorflow:Running local_init_op.\n",
      "INFO:tensorflow:Done running local_init_op.\n",
      "\u001b[32m[1230 18:54:57 @sessinit.py:114]\u001b[0m Restoring checkpoint from ../output/LPMC_half_DAG/PREDICTION_02/model\\model-20399 ...\n",
      "INFO:tensorflow:Restoring parameters from ../output/LPMC_half_DAG/PREDICTION_02/model\\model-20399\n",
      "\u001b[32m[1230 18:54:58 @DATSGAN.py:267]\u001b[0m Loading Preprocessor!\n"
     ]
    },
    {
     "name": "stderr",
     "output_type": "stream",
     "text": [
      "|                                                                                          |35/?[00:03<00:00,10.24it/s]\n"
     ]
    },
    {
     "name": "stdout",
     "output_type": "stream",
     "text": [
      "\u001b[32m[1230 18:55:01 @DATSGAN.py:267]\u001b[0m Loading Preprocessor!\n"
     ]
    },
    {
     "name": "stderr",
     "output_type": "stream",
     "text": [
      "|                                                                                          |35/?[00:03<00:00,11.20it/s]\n"
     ]
    },
    {
     "name": "stdout",
     "output_type": "stream",
     "text": [
      "\u001b[32m[1230 18:55:05 @DATSGAN.py:267]\u001b[0m Loading Preprocessor!\n"
     ]
    },
    {
     "name": "stderr",
     "output_type": "stream",
     "text": [
      "|                                                                                          |35/?[00:03<00:00,11.54it/s]\n"
     ]
    },
    {
     "name": "stdout",
     "output_type": "stream",
     "text": [
      "\u001b[32m[1230 18:55:08 @DATSGAN.py:267]\u001b[0m Loading Preprocessor!\n"
     ]
    },
    {
     "name": "stderr",
     "output_type": "stream",
     "text": [
      "|                                                                                          |35/?[00:02<00:00,11.86it/s]\n"
     ]
    },
    {
     "name": "stdout",
     "output_type": "stream",
     "text": [
      "\u001b[32m[1230 18:55:12 @DATSGAN.py:267]\u001b[0m Loading Preprocessor!\n"
     ]
    },
    {
     "name": "stderr",
     "output_type": "stream",
     "text": [
      "|                                                                                          |35/?[00:03<00:00,11.64it/s]\n"
     ]
    },
    {
     "name": "stdout",
     "output_type": "stream",
     "text": [
      "Sampling synthetic data from model \u001b[1mPREDICTION_03\u001b[0m (18/25)\n",
      "\u001b[32m[1230 18:55:25 @DATSGANModel.py:213]\u001b[0m \u001b[91mCreating cell for purpose (in-edges: 0; ancestors: 0)\n",
      "\u001b[32m[1230 18:55:25 @DATSGANModel.py:213]\u001b[0m \u001b[91mCreating cell for fueltype (in-edges: 0; ancestors: 0)\n",
      "\u001b[32m[1230 18:55:25 @DATSGANModel.py:213]\u001b[0m \u001b[91mCreating cell for faretype (in-edges: 0; ancestors: 0)\n",
      "\u001b[32m[1230 18:55:25 @DATSGANModel.py:213]\u001b[0m \u001b[91mCreating cell for bus_scale (in-edges: 0; ancestors: 0)\n",
      "\u001b[32m[1230 18:55:25 @DATSGANModel.py:213]\u001b[0m \u001b[91mCreating cell for travel_year (in-edges: 0; ancestors: 0)\n",
      "\u001b[32m[1230 18:55:25 @DATSGANModel.py:213]\u001b[0m \u001b[91mCreating cell for travel_month (in-edges: 0; ancestors: 0)\n",
      "\u001b[32m[1230 18:55:26 @DATSGANModel.py:213]\u001b[0m \u001b[91mCreating cell for travel_date (in-edges: 0; ancestors: 0)\n",
      "\u001b[32m[1230 18:55:26 @DATSGANModel.py:213]\u001b[0m \u001b[91mCreating cell for day_of_week (in-edges: 0; ancestors: 0)\n",
      "\u001b[32m[1230 18:55:26 @DATSGANModel.py:213]\u001b[0m \u001b[91mCreating cell for start_time_linear (in-edges: 0; ancestors: 0)\n",
      "\u001b[32m[1230 18:55:26 @DATSGANModel.py:213]\u001b[0m \u001b[91mCreating cell for age (in-edges: 0; ancestors: 0)\n",
      "\u001b[32m[1230 18:55:26 @DATSGANModel.py:213]\u001b[0m \u001b[91mCreating cell for female (in-edges: 0; ancestors: 0)\n",
      "\u001b[32m[1230 18:55:26 @DATSGANModel.py:213]\u001b[0m \u001b[91mCreating cell for driving_license (in-edges: 0; ancestors: 0)\n",
      "\u001b[32m[1230 18:55:26 @DATSGANModel.py:213]\u001b[0m \u001b[91mCreating cell for car_ownership (in-edges: 0; ancestors: 0)\n",
      "\u001b[32m[1230 18:55:26 @DATSGANModel.py:213]\u001b[0m \u001b[91mCreating cell for distance (in-edges: 0; ancestors: 0)\n",
      "\u001b[32m[1230 18:55:26 @DATSGANModel.py:213]\u001b[0m \u001b[91mCreating cell for dur_walking (in-edges: 0; ancestors: 0)\n",
      "\u001b[32m[1230 18:55:26 @DATSGANModel.py:213]\u001b[0m \u001b[91mCreating cell for dur_cycling (in-edges: 0; ancestors: 0)\n",
      "\u001b[32m[1230 18:55:26 @DATSGANModel.py:213]\u001b[0m \u001b[91mCreating cell for dur_pt_access (in-edges: 0; ancestors: 0)\n",
      "\u001b[32m[1230 18:55:26 @DATSGANModel.py:213]\u001b[0m \u001b[91mCreating cell for dur_pt_rail (in-edges: 0; ancestors: 0)\n",
      "\u001b[32m[1230 18:55:26 @DATSGANModel.py:213]\u001b[0m \u001b[91mCreating cell for dur_pt_bus (in-edges: 0; ancestors: 0)\n",
      "\u001b[32m[1230 18:55:26 @DATSGANModel.py:213]\u001b[0m \u001b[91mCreating cell for dur_pt_int (in-edges: 0; ancestors: 0)\n",
      "\u001b[32m[1230 18:55:27 @DATSGANModel.py:213]\u001b[0m \u001b[91mCreating cell for pt_n_interchanges (in-edges: 0; ancestors: 0)\n",
      "\u001b[32m[1230 18:55:27 @DATSGANModel.py:213]\u001b[0m \u001b[91mCreating cell for dur_driving (in-edges: 0; ancestors: 0)\n",
      "\u001b[32m[1230 18:55:27 @DATSGANModel.py:213]\u001b[0m \u001b[91mCreating cell for cost_transit (in-edges: 0; ancestors: 0)\n",
      "\u001b[32m[1230 18:55:27 @DATSGANModel.py:213]\u001b[0m \u001b[91mCreating cell for cost_driving_fuel (in-edges: 0; ancestors: 0)\n",
      "\u001b[32m[1230 18:55:27 @DATSGANModel.py:213]\u001b[0m \u001b[91mCreating cell for cost_driving_con_charge (in-edges: 0; ancestors: 0)\n",
      "\u001b[32m[1230 18:55:27 @DATSGANModel.py:213]\u001b[0m \u001b[91mCreating cell for driving_traffic_percent (in-edges: 0; ancestors: 0)\n",
      "\u001b[32m[1230 18:55:27 @DATSGANModel.py:213]\u001b[0m \u001b[91mCreating cell for travel_mode (in-edges: 26; ancestors: 26)\n",
      "\u001b[32m[1230 18:55:27 @sessinit.py:87]\u001b[0m \u001b[5m\u001b[31mWRN\u001b[0m The following variables are in the checkpoint, but not found in the graph: global_step, optimize/beta1_power, optimize/beta2_power\n",
      "INFO:tensorflow:Graph was finalized.\n",
      "INFO:tensorflow:Running local_init_op.\n",
      "INFO:tensorflow:Done running local_init_op.\n",
      "\u001b[32m[1230 18:55:29 @sessinit.py:114]\u001b[0m Restoring checkpoint from ../output/LPMC_half_DAG/PREDICTION_03/model\\model-20399 ...\n",
      "INFO:tensorflow:Restoring parameters from ../output/LPMC_half_DAG/PREDICTION_03/model\\model-20399\n",
      "\u001b[32m[1230 18:55:29 @DATSGAN.py:267]\u001b[0m Loading Preprocessor!\n"
     ]
    },
    {
     "name": "stderr",
     "output_type": "stream",
     "text": [
      "|                                                                                          |35/?[00:03<00:00,10.31it/s]\n"
     ]
    },
    {
     "name": "stdout",
     "output_type": "stream",
     "text": [
      "\u001b[32m[1230 18:55:33 @DATSGAN.py:267]\u001b[0m Loading Preprocessor!\n"
     ]
    },
    {
     "name": "stderr",
     "output_type": "stream",
     "text": [
      "|                                                                                          |35/?[00:03<00:00,11.54it/s]\n"
     ]
    },
    {
     "name": "stdout",
     "output_type": "stream",
     "text": [
      "\u001b[32m[1230 18:55:36 @DATSGAN.py:267]\u001b[0m Loading Preprocessor!\n"
     ]
    },
    {
     "name": "stderr",
     "output_type": "stream",
     "text": [
      "|                                                                                          |35/?[00:02<00:00,11.87it/s]\n"
     ]
    },
    {
     "name": "stdout",
     "output_type": "stream",
     "text": [
      "\u001b[32m[1230 18:55:40 @DATSGAN.py:267]\u001b[0m Loading Preprocessor!\n"
     ]
    },
    {
     "name": "stderr",
     "output_type": "stream",
     "text": [
      "|                                                                                          |35/?[00:02<00:00,12.00it/s]\n"
     ]
    },
    {
     "name": "stdout",
     "output_type": "stream",
     "text": [
      "\u001b[32m[1230 18:55:43 @DATSGAN.py:267]\u001b[0m Loading Preprocessor!\n"
     ]
    },
    {
     "name": "stderr",
     "output_type": "stream",
     "text": [
      "|                                                                                          |35/?[00:03<00:00,11.42it/s]\n"
     ]
    },
    {
     "name": "stdout",
     "output_type": "stream",
     "text": [
      "Sampling synthetic data from model \u001b[1mPREDICTION_04\u001b[0m (19/25)\n",
      "\u001b[32m[1230 18:55:57 @DATSGANModel.py:213]\u001b[0m \u001b[91mCreating cell for purpose (in-edges: 0; ancestors: 0)\n",
      "\u001b[32m[1230 18:55:57 @DATSGANModel.py:213]\u001b[0m \u001b[91mCreating cell for fueltype (in-edges: 0; ancestors: 0)\n",
      "\u001b[32m[1230 18:55:57 @DATSGANModel.py:213]\u001b[0m \u001b[91mCreating cell for faretype (in-edges: 0; ancestors: 0)\n",
      "\u001b[32m[1230 18:55:57 @DATSGANModel.py:213]\u001b[0m \u001b[91mCreating cell for bus_scale (in-edges: 0; ancestors: 0)\n",
      "\u001b[32m[1230 18:55:57 @DATSGANModel.py:213]\u001b[0m \u001b[91mCreating cell for travel_year (in-edges: 0; ancestors: 0)\n",
      "\u001b[32m[1230 18:55:57 @DATSGANModel.py:213]\u001b[0m \u001b[91mCreating cell for travel_month (in-edges: 0; ancestors: 0)\n",
      "\u001b[32m[1230 18:55:57 @DATSGANModel.py:213]\u001b[0m \u001b[91mCreating cell for travel_date (in-edges: 0; ancestors: 0)\n",
      "\u001b[32m[1230 18:55:57 @DATSGANModel.py:213]\u001b[0m \u001b[91mCreating cell for day_of_week (in-edges: 0; ancestors: 0)\n",
      "\u001b[32m[1230 18:55:57 @DATSGANModel.py:213]\u001b[0m \u001b[91mCreating cell for start_time_linear (in-edges: 0; ancestors: 0)\n",
      "\u001b[32m[1230 18:55:57 @DATSGANModel.py:213]\u001b[0m \u001b[91mCreating cell for age (in-edges: 0; ancestors: 0)\n",
      "\u001b[32m[1230 18:55:57 @DATSGANModel.py:213]\u001b[0m \u001b[91mCreating cell for female (in-edges: 0; ancestors: 0)\n",
      "\u001b[32m[1230 18:55:57 @DATSGANModel.py:213]\u001b[0m \u001b[91mCreating cell for driving_license (in-edges: 0; ancestors: 0)\n",
      "\u001b[32m[1230 18:55:57 @DATSGANModel.py:213]\u001b[0m \u001b[91mCreating cell for car_ownership (in-edges: 0; ancestors: 0)\n",
      "\u001b[32m[1230 18:55:57 @DATSGANModel.py:213]\u001b[0m \u001b[91mCreating cell for distance (in-edges: 0; ancestors: 0)\n",
      "\u001b[32m[1230 18:55:57 @DATSGANModel.py:213]\u001b[0m \u001b[91mCreating cell for dur_walking (in-edges: 0; ancestors: 0)\n",
      "\u001b[32m[1230 18:55:58 @DATSGANModel.py:213]\u001b[0m \u001b[91mCreating cell for dur_cycling (in-edges: 0; ancestors: 0)\n",
      "\u001b[32m[1230 18:55:58 @DATSGANModel.py:213]\u001b[0m \u001b[91mCreating cell for dur_pt_access (in-edges: 0; ancestors: 0)\n",
      "\u001b[32m[1230 18:55:58 @DATSGANModel.py:213]\u001b[0m \u001b[91mCreating cell for dur_pt_rail (in-edges: 0; ancestors: 0)\n",
      "\u001b[32m[1230 18:55:58 @DATSGANModel.py:213]\u001b[0m \u001b[91mCreating cell for dur_pt_bus (in-edges: 0; ancestors: 0)\n",
      "\u001b[32m[1230 18:55:58 @DATSGANModel.py:213]\u001b[0m \u001b[91mCreating cell for dur_pt_int (in-edges: 0; ancestors: 0)\n",
      "\u001b[32m[1230 18:55:58 @DATSGANModel.py:213]\u001b[0m \u001b[91mCreating cell for pt_n_interchanges (in-edges: 0; ancestors: 0)\n",
      "\u001b[32m[1230 18:55:58 @DATSGANModel.py:213]\u001b[0m \u001b[91mCreating cell for dur_driving (in-edges: 0; ancestors: 0)\n",
      "\u001b[32m[1230 18:55:58 @DATSGANModel.py:213]\u001b[0m \u001b[91mCreating cell for cost_transit (in-edges: 0; ancestors: 0)\n",
      "\u001b[32m[1230 18:55:58 @DATSGANModel.py:213]\u001b[0m \u001b[91mCreating cell for cost_driving_fuel (in-edges: 0; ancestors: 0)\n",
      "\u001b[32m[1230 18:55:58 @DATSGANModel.py:213]\u001b[0m \u001b[91mCreating cell for cost_driving_con_charge (in-edges: 0; ancestors: 0)\n",
      "\u001b[32m[1230 18:55:58 @DATSGANModel.py:213]\u001b[0m \u001b[91mCreating cell for driving_traffic_percent (in-edges: 0; ancestors: 0)\n",
      "\u001b[32m[1230 18:55:58 @DATSGANModel.py:213]\u001b[0m \u001b[91mCreating cell for travel_mode (in-edges: 26; ancestors: 26)\n",
      "\u001b[32m[1230 18:55:59 @sessinit.py:87]\u001b[0m \u001b[5m\u001b[31mWRN\u001b[0m The following variables are in the checkpoint, but not found in the graph: global_step, optimize/beta1_power, optimize/beta2_power\n",
      "INFO:tensorflow:Graph was finalized.\n",
      "INFO:tensorflow:Running local_init_op.\n",
      "INFO:tensorflow:Done running local_init_op.\n",
      "\u001b[32m[1230 18:56:00 @sessinit.py:114]\u001b[0m Restoring checkpoint from ../output/LPMC_half_DAG/PREDICTION_04/model\\model-20399 ...\n",
      "INFO:tensorflow:Restoring parameters from ../output/LPMC_half_DAG/PREDICTION_04/model\\model-20399\n",
      "\u001b[32m[1230 18:56:01 @DATSGAN.py:267]\u001b[0m Loading Preprocessor!\n"
     ]
    },
    {
     "name": "stderr",
     "output_type": "stream",
     "text": [
      "|                                                                                          |35/?[00:03<00:00,10.23it/s]\n"
     ]
    },
    {
     "name": "stdout",
     "output_type": "stream",
     "text": [
      "\u001b[32m[1230 18:56:05 @DATSGAN.py:267]\u001b[0m Loading Preprocessor!\n"
     ]
    },
    {
     "name": "stderr",
     "output_type": "stream",
     "text": [
      "|                                                                                          |35/?[00:02<00:00,11.82it/s]\n"
     ]
    },
    {
     "name": "stdout",
     "output_type": "stream",
     "text": [
      "\u001b[32m[1230 18:56:08 @DATSGAN.py:267]\u001b[0m Loading Preprocessor!\n"
     ]
    },
    {
     "name": "stderr",
     "output_type": "stream",
     "text": [
      "|                                                                                          |35/?[00:02<00:00,11.92it/s]\n"
     ]
    },
    {
     "name": "stdout",
     "output_type": "stream",
     "text": [
      "\u001b[32m[1230 18:56:11 @DATSGAN.py:267]\u001b[0m Loading Preprocessor!\n"
     ]
    },
    {
     "name": "stderr",
     "output_type": "stream",
     "text": [
      "|                                                                                          |35/?[00:02<00:00,11.97it/s]\n"
     ]
    },
    {
     "name": "stdout",
     "output_type": "stream",
     "text": [
      "\u001b[32m[1230 18:56:15 @DATSGAN.py:267]\u001b[0m Loading Preprocessor!\n"
     ]
    },
    {
     "name": "stderr",
     "output_type": "stream",
     "text": [
      "|                                                                                          |35/?[00:02<00:00,11.76it/s]\n"
     ]
    },
    {
     "name": "stdout",
     "output_type": "stream",
     "text": [
      "Sampling synthetic data from model \u001b[1mPREDICTION_05\u001b[0m (20/25)\n",
      "\u001b[32m[1230 18:56:28 @DATSGANModel.py:213]\u001b[0m \u001b[91mCreating cell for purpose (in-edges: 0; ancestors: 0)\n",
      "\u001b[32m[1230 18:56:28 @DATSGANModel.py:213]\u001b[0m \u001b[91mCreating cell for fueltype (in-edges: 0; ancestors: 0)\n",
      "\u001b[32m[1230 18:56:28 @DATSGANModel.py:213]\u001b[0m \u001b[91mCreating cell for faretype (in-edges: 0; ancestors: 0)\n",
      "\u001b[32m[1230 18:56:28 @DATSGANModel.py:213]\u001b[0m \u001b[91mCreating cell for bus_scale (in-edges: 0; ancestors: 0)\n",
      "\u001b[32m[1230 18:56:28 @DATSGANModel.py:213]\u001b[0m \u001b[91mCreating cell for travel_year (in-edges: 0; ancestors: 0)\n",
      "\u001b[32m[1230 18:56:28 @DATSGANModel.py:213]\u001b[0m \u001b[91mCreating cell for travel_month (in-edges: 0; ancestors: 0)\n",
      "\u001b[32m[1230 18:56:28 @DATSGANModel.py:213]\u001b[0m \u001b[91mCreating cell for travel_date (in-edges: 0; ancestors: 0)\n",
      "\u001b[32m[1230 18:56:28 @DATSGANModel.py:213]\u001b[0m \u001b[91mCreating cell for day_of_week (in-edges: 0; ancestors: 0)\n",
      "\u001b[32m[1230 18:56:28 @DATSGANModel.py:213]\u001b[0m \u001b[91mCreating cell for start_time_linear (in-edges: 0; ancestors: 0)\n",
      "\u001b[32m[1230 18:56:28 @DATSGANModel.py:213]\u001b[0m \u001b[91mCreating cell for age (in-edges: 0; ancestors: 0)\n",
      "\u001b[32m[1230 18:56:29 @DATSGANModel.py:213]\u001b[0m \u001b[91mCreating cell for female (in-edges: 0; ancestors: 0)\n",
      "\u001b[32m[1230 18:56:29 @DATSGANModel.py:213]\u001b[0m \u001b[91mCreating cell for driving_license (in-edges: 0; ancestors: 0)\n",
      "\u001b[32m[1230 18:56:29 @DATSGANModel.py:213]\u001b[0m \u001b[91mCreating cell for car_ownership (in-edges: 0; ancestors: 0)\n",
      "\u001b[32m[1230 18:56:29 @DATSGANModel.py:213]\u001b[0m \u001b[91mCreating cell for distance (in-edges: 0; ancestors: 0)\n",
      "\u001b[32m[1230 18:56:29 @DATSGANModel.py:213]\u001b[0m \u001b[91mCreating cell for dur_walking (in-edges: 0; ancestors: 0)\n",
      "\u001b[32m[1230 18:56:29 @DATSGANModel.py:213]\u001b[0m \u001b[91mCreating cell for dur_cycling (in-edges: 0; ancestors: 0)\n",
      "\u001b[32m[1230 18:56:29 @DATSGANModel.py:213]\u001b[0m \u001b[91mCreating cell for dur_pt_access (in-edges: 0; ancestors: 0)\n",
      "\u001b[32m[1230 18:56:29 @DATSGANModel.py:213]\u001b[0m \u001b[91mCreating cell for dur_pt_rail (in-edges: 0; ancestors: 0)\n",
      "\u001b[32m[1230 18:56:29 @DATSGANModel.py:213]\u001b[0m \u001b[91mCreating cell for dur_pt_bus (in-edges: 0; ancestors: 0)\n",
      "\u001b[32m[1230 18:56:29 @DATSGANModel.py:213]\u001b[0m \u001b[91mCreating cell for dur_pt_int (in-edges: 0; ancestors: 0)\n",
      "\u001b[32m[1230 18:56:29 @DATSGANModel.py:213]\u001b[0m \u001b[91mCreating cell for pt_n_interchanges (in-edges: 0; ancestors: 0)\n",
      "\u001b[32m[1230 18:56:29 @DATSGANModel.py:213]\u001b[0m \u001b[91mCreating cell for dur_driving (in-edges: 0; ancestors: 0)\n",
      "\u001b[32m[1230 18:56:29 @DATSGANModel.py:213]\u001b[0m \u001b[91mCreating cell for cost_transit (in-edges: 0; ancestors: 0)\n",
      "\u001b[32m[1230 18:56:29 @DATSGANModel.py:213]\u001b[0m \u001b[91mCreating cell for cost_driving_fuel (in-edges: 0; ancestors: 0)\n",
      "\u001b[32m[1230 18:56:29 @DATSGANModel.py:213]\u001b[0m \u001b[91mCreating cell for cost_driving_con_charge (in-edges: 0; ancestors: 0)\n",
      "\u001b[32m[1230 18:56:29 @DATSGANModel.py:213]\u001b[0m \u001b[91mCreating cell for driving_traffic_percent (in-edges: 0; ancestors: 0)\n",
      "\u001b[32m[1230 18:56:30 @DATSGANModel.py:213]\u001b[0m \u001b[91mCreating cell for travel_mode (in-edges: 26; ancestors: 26)\n",
      "\u001b[32m[1230 18:56:30 @sessinit.py:87]\u001b[0m \u001b[5m\u001b[31mWRN\u001b[0m The following variables are in the checkpoint, but not found in the graph: global_step, optimize/beta1_power, optimize/beta2_power\n",
      "INFO:tensorflow:Graph was finalized.\n",
      "INFO:tensorflow:Running local_init_op.\n",
      "INFO:tensorflow:Done running local_init_op.\n",
      "\u001b[32m[1230 18:56:32 @sessinit.py:114]\u001b[0m Restoring checkpoint from ../output/LPMC_half_DAG/PREDICTION_05/model\\model-20399 ...\n",
      "INFO:tensorflow:Restoring parameters from ../output/LPMC_half_DAG/PREDICTION_05/model\\model-20399\n",
      "\u001b[32m[1230 18:56:32 @DATSGAN.py:267]\u001b[0m Loading Preprocessor!\n"
     ]
    },
    {
     "name": "stderr",
     "output_type": "stream",
     "text": [
      "|                                                                                          |35/?[00:03<00:00, 9.83it/s]\n"
     ]
    },
    {
     "name": "stdout",
     "output_type": "stream",
     "text": [
      "\u001b[32m[1230 18:56:36 @DATSGAN.py:267]\u001b[0m Loading Preprocessor!\n"
     ]
    },
    {
     "name": "stderr",
     "output_type": "stream",
     "text": [
      "|                                                                                          |35/?[00:03<00:00,11.56it/s]\n"
     ]
    },
    {
     "name": "stdout",
     "output_type": "stream",
     "text": [
      "\u001b[32m[1230 18:56:39 @DATSGAN.py:267]\u001b[0m Loading Preprocessor!\n"
     ]
    },
    {
     "name": "stderr",
     "output_type": "stream",
     "text": [
      "|                                                                                          |35/?[00:02<00:00,11.72it/s]\n"
     ]
    },
    {
     "name": "stdout",
     "output_type": "stream",
     "text": [
      "\u001b[32m[1230 18:56:43 @DATSGAN.py:267]\u001b[0m Loading Preprocessor!\n"
     ]
    },
    {
     "name": "stderr",
     "output_type": "stream",
     "text": [
      "|                                                                                          |35/?[00:03<00:00,11.63it/s]\n"
     ]
    },
    {
     "name": "stdout",
     "output_type": "stream",
     "text": [
      "\u001b[32m[1230 18:56:46 @DATSGAN.py:267]\u001b[0m Loading Preprocessor!\n"
     ]
    },
    {
     "name": "stderr",
     "output_type": "stream",
     "text": [
      "|                                                                                          |35/?[00:02<00:00,11.91it/s]\n"
     ]
    },
    {
     "name": "stdout",
     "output_type": "stream",
     "text": [
      "Sampling synthetic data from model \u001b[1mTRANSRED_01\u001b[0m (21/25)\n",
      "\u001b[32m[1230 18:57:00 @DATSGANModel.py:213]\u001b[0m \u001b[91mCreating cell for travel_year (in-edges: 0; ancestors: 0)\n",
      "\u001b[32m[1230 18:57:00 @DATSGANModel.py:213]\u001b[0m \u001b[91mCreating cell for car_ownership (in-edges: 0; ancestors: 0)\n",
      "\u001b[32m[1230 18:57:00 @DATSGANModel.py:213]\u001b[0m \u001b[91mCreating cell for female (in-edges: 0; ancestors: 0)\n",
      "\u001b[32m[1230 18:57:00 @DATSGANModel.py:213]\u001b[0m \u001b[91mCreating cell for age (in-edges: 0; ancestors: 0)\n",
      "\u001b[32m[1230 18:57:00 @DATSGANModel.py:213]\u001b[0m \u001b[91mCreating cell for travel_month (in-edges: 1; ancestors: 1)\n",
      "\u001b[32m[1230 18:57:00 @DATSGANModel.py:213]\u001b[0m \u001b[91mCreating cell for fueltype (in-edges: 1; ancestors: 1)\n",
      "\u001b[32m[1230 18:57:00 @DATSGANModel.py:213]\u001b[0m \u001b[91mCreating cell for driving_license (in-edges: 3; ancestors: 3)\n",
      "\u001b[32m[1230 18:57:00 @DATSGANModel.py:213]\u001b[0m \u001b[91mCreating cell for faretype (in-edges: 1; ancestors: 1)\n",
      "\u001b[32m[1230 18:57:00 @DATSGANModel.py:213]\u001b[0m \u001b[91mCreating cell for travel_date (in-edges: 1; ancestors: 2)\n",
      "\u001b[32m[1230 18:57:00 @DATSGANModel.py:213]\u001b[0m \u001b[91mCreating cell for bus_scale (in-edges: 1; ancestors: 2)\n",
      "\u001b[32m[1230 18:57:00 @DATSGANModel.py:213]\u001b[0m \u001b[91mCreating cell for day_of_week (in-edges: 1; ancestors: 3)\n",
      "\u001b[32m[1230 18:57:00 @DATSGANModel.py:213]\u001b[0m \u001b[91mCreating cell for purpose (in-edges: 1; ancestors: 4)\n",
      "\u001b[32m[1230 18:57:00 @DATSGANModel.py:213]\u001b[0m \u001b[91mCreating cell for start_time_linear (in-edges: 1; ancestors: 5)\n",
      "\u001b[32m[1230 18:57:00 @DATSGANModel.py:213]\u001b[0m \u001b[91mCreating cell for distance (in-edges: 1; ancestors: 5)\n",
      "\u001b[32m[1230 18:57:01 @DATSGANModel.py:213]\u001b[0m \u001b[91mCreating cell for driving_traffic_percent (in-edges: 1; ancestors: 6)\n",
      "\u001b[32m[1230 18:57:01 @DATSGANModel.py:213]\u001b[0m \u001b[91mCreating cell for cost_driving_fuel (in-edges: 2; ancestors: 8)\n",
      "\u001b[32m[1230 18:57:01 @DATSGANModel.py:213]\u001b[0m \u001b[91mCreating cell for dur_driving (in-edges: 1; ancestors: 6)\n",
      "\u001b[32m[1230 18:57:01 @DATSGANModel.py:213]\u001b[0m \u001b[91mCreating cell for dur_walking (in-edges: 1; ancestors: 6)\n",
      "\u001b[32m[1230 18:57:01 @DATSGANModel.py:213]\u001b[0m \u001b[91mCreating cell for dur_cycling (in-edges: 1; ancestors: 6)\n",
      "\u001b[32m[1230 18:57:01 @DATSGANModel.py:213]\u001b[0m \u001b[91mCreating cell for dur_pt_access (in-edges: 1; ancestors: 6)\n",
      "\u001b[32m[1230 18:57:01 @DATSGANModel.py:213]\u001b[0m \u001b[91mCreating cell for pt_n_interchanges (in-edges: 1; ancestors: 6)\n",
      "\u001b[32m[1230 18:57:01 @DATSGANModel.py:213]\u001b[0m \u001b[91mCreating cell for cost_driving_con_charge (in-edges: 2; ancestors: 11)\n",
      "\u001b[32m[1230 18:57:01 @DATSGANModel.py:213]\u001b[0m \u001b[91mCreating cell for dur_pt_rail (in-edges: 1; ancestors: 7)\n",
      "\u001b[32m[1230 18:57:01 @DATSGANModel.py:213]\u001b[0m \u001b[91mCreating cell for dur_pt_bus (in-edges: 1; ancestors: 7)\n",
      "\u001b[32m[1230 18:57:01 @DATSGANModel.py:213]\u001b[0m \u001b[91mCreating cell for dur_pt_int (in-edges: 1; ancestors: 7)\n",
      "\u001b[32m[1230 18:57:01 @DATSGANModel.py:213]\u001b[0m \u001b[91mCreating cell for cost_transit (in-edges: 3; ancestors: 12)\n",
      "\u001b[32m[1230 18:57:01 @DATSGANModel.py:213]\u001b[0m \u001b[91mCreating cell for travel_mode (in-edges: 8; ancestors: 26)\n",
      "\u001b[32m[1230 18:57:02 @sessinit.py:87]\u001b[0m \u001b[5m\u001b[31mWRN\u001b[0m The following variables are in the checkpoint, but not found in the graph: global_step, optimize/beta1_power, optimize/beta2_power\n",
      "INFO:tensorflow:Graph was finalized.\n",
      "INFO:tensorflow:Running local_init_op.\n",
      "INFO:tensorflow:Done running local_init_op.\n",
      "\u001b[32m[1230 18:57:04 @sessinit.py:114]\u001b[0m Restoring checkpoint from ../output/LPMC_half_DAG/TRANSRED_01/model\\model-20399 ...\n",
      "INFO:tensorflow:Restoring parameters from ../output/LPMC_half_DAG/TRANSRED_01/model\\model-20399\n",
      "\u001b[32m[1230 18:57:04 @DATSGAN.py:267]\u001b[0m Loading Preprocessor!\n"
     ]
    },
    {
     "name": "stderr",
     "output_type": "stream",
     "text": [
      "|                                                                                          |35/?[00:01<00:00,17.80it/s]\n"
     ]
    },
    {
     "name": "stdout",
     "output_type": "stream",
     "text": [
      "\u001b[32m[1230 18:57:07 @DATSGAN.py:267]\u001b[0m Loading Preprocessor!\n"
     ]
    },
    {
     "name": "stderr",
     "output_type": "stream",
     "text": [
      "|                                                                                          |35/?[00:01<00:00,21.40it/s]\n"
     ]
    },
    {
     "name": "stdout",
     "output_type": "stream",
     "text": [
      "\u001b[32m[1230 18:57:09 @DATSGAN.py:267]\u001b[0m Loading Preprocessor!\n"
     ]
    },
    {
     "name": "stderr",
     "output_type": "stream",
     "text": [
      "|                                                                                          |35/?[00:01<00:00,23.81it/s]\n"
     ]
    },
    {
     "name": "stdout",
     "output_type": "stream",
     "text": [
      "\u001b[32m[1230 18:57:11 @DATSGAN.py:267]\u001b[0m Loading Preprocessor!\n"
     ]
    },
    {
     "name": "stderr",
     "output_type": "stream",
     "text": [
      "|                                                                                          |35/?[00:01<00:00,29.59it/s]\n"
     ]
    },
    {
     "name": "stdout",
     "output_type": "stream",
     "text": [
      "\u001b[32m[1230 18:57:12 @DATSGAN.py:267]\u001b[0m Loading Preprocessor!\n"
     ]
    },
    {
     "name": "stderr",
     "output_type": "stream",
     "text": [
      "|                                                                                          |35/?[00:01<00:00,32.94it/s]\n"
     ]
    },
    {
     "name": "stdout",
     "output_type": "stream",
     "text": [
      "Sampling synthetic data from model \u001b[1mTRANSRED_02\u001b[0m (22/25)\n",
      "\u001b[32m[1230 18:57:24 @DATSGANModel.py:213]\u001b[0m \u001b[91mCreating cell for travel_year (in-edges: 0; ancestors: 0)\n",
      "\u001b[32m[1230 18:57:24 @DATSGANModel.py:213]\u001b[0m \u001b[91mCreating cell for car_ownership (in-edges: 0; ancestors: 0)\n",
      "\u001b[32m[1230 18:57:24 @DATSGANModel.py:213]\u001b[0m \u001b[91mCreating cell for female (in-edges: 0; ancestors: 0)\n",
      "\u001b[32m[1230 18:57:24 @DATSGANModel.py:213]\u001b[0m \u001b[91mCreating cell for age (in-edges: 0; ancestors: 0)\n",
      "\u001b[32m[1230 18:57:24 @DATSGANModel.py:213]\u001b[0m \u001b[91mCreating cell for travel_month (in-edges: 1; ancestors: 1)\n",
      "\u001b[32m[1230 18:57:24 @DATSGANModel.py:213]\u001b[0m \u001b[91mCreating cell for fueltype (in-edges: 1; ancestors: 1)\n",
      "\u001b[32m[1230 18:57:24 @DATSGANModel.py:213]\u001b[0m \u001b[91mCreating cell for driving_license (in-edges: 3; ancestors: 3)\n",
      "\u001b[32m[1230 18:57:24 @DATSGANModel.py:213]\u001b[0m \u001b[91mCreating cell for faretype (in-edges: 1; ancestors: 1)\n",
      "\u001b[32m[1230 18:57:24 @DATSGANModel.py:213]\u001b[0m \u001b[91mCreating cell for travel_date (in-edges: 1; ancestors: 2)\n",
      "\u001b[32m[1230 18:57:24 @DATSGANModel.py:213]\u001b[0m \u001b[91mCreating cell for bus_scale (in-edges: 1; ancestors: 2)\n",
      "\u001b[32m[1230 18:57:24 @DATSGANModel.py:213]\u001b[0m \u001b[91mCreating cell for day_of_week (in-edges: 1; ancestors: 3)\n",
      "\u001b[32m[1230 18:57:24 @DATSGANModel.py:213]\u001b[0m \u001b[91mCreating cell for purpose (in-edges: 1; ancestors: 4)\n",
      "\u001b[32m[1230 18:57:24 @DATSGANModel.py:213]\u001b[0m \u001b[91mCreating cell for start_time_linear (in-edges: 1; ancestors: 5)\n",
      "\u001b[32m[1230 18:57:24 @DATSGANModel.py:213]\u001b[0m \u001b[91mCreating cell for distance (in-edges: 1; ancestors: 5)\n",
      "\u001b[32m[1230 18:57:25 @DATSGANModel.py:213]\u001b[0m \u001b[91mCreating cell for driving_traffic_percent (in-edges: 1; ancestors: 6)\n",
      "\u001b[32m[1230 18:57:25 @DATSGANModel.py:213]\u001b[0m \u001b[91mCreating cell for cost_driving_fuel (in-edges: 2; ancestors: 8)\n",
      "\u001b[32m[1230 18:57:25 @DATSGANModel.py:213]\u001b[0m \u001b[91mCreating cell for dur_driving (in-edges: 1; ancestors: 6)\n",
      "\u001b[32m[1230 18:57:25 @DATSGANModel.py:213]\u001b[0m \u001b[91mCreating cell for dur_walking (in-edges: 1; ancestors: 6)\n",
      "\u001b[32m[1230 18:57:25 @DATSGANModel.py:213]\u001b[0m \u001b[91mCreating cell for dur_cycling (in-edges: 1; ancestors: 6)\n",
      "\u001b[32m[1230 18:57:25 @DATSGANModel.py:213]\u001b[0m \u001b[91mCreating cell for dur_pt_access (in-edges: 1; ancestors: 6)\n",
      "\u001b[32m[1230 18:57:25 @DATSGANModel.py:213]\u001b[0m \u001b[91mCreating cell for pt_n_interchanges (in-edges: 1; ancestors: 6)\n",
      "\u001b[32m[1230 18:57:25 @DATSGANModel.py:213]\u001b[0m \u001b[91mCreating cell for cost_driving_con_charge (in-edges: 2; ancestors: 11)\n",
      "\u001b[32m[1230 18:57:25 @DATSGANModel.py:213]\u001b[0m \u001b[91mCreating cell for dur_pt_rail (in-edges: 1; ancestors: 7)\n",
      "\u001b[32m[1230 18:57:25 @DATSGANModel.py:213]\u001b[0m \u001b[91mCreating cell for dur_pt_bus (in-edges: 1; ancestors: 7)\n",
      "\u001b[32m[1230 18:57:25 @DATSGANModel.py:213]\u001b[0m \u001b[91mCreating cell for dur_pt_int (in-edges: 1; ancestors: 7)\n",
      "\u001b[32m[1230 18:57:25 @DATSGANModel.py:213]\u001b[0m \u001b[91mCreating cell for cost_transit (in-edges: 3; ancestors: 12)\n",
      "\u001b[32m[1230 18:57:25 @DATSGANModel.py:213]\u001b[0m \u001b[91mCreating cell for travel_mode (in-edges: 8; ancestors: 26)\n",
      "\u001b[32m[1230 18:57:26 @sessinit.py:87]\u001b[0m \u001b[5m\u001b[31mWRN\u001b[0m The following variables are in the checkpoint, but not found in the graph: global_step, optimize/beta1_power, optimize/beta2_power\n",
      "INFO:tensorflow:Graph was finalized.\n",
      "INFO:tensorflow:Running local_init_op.\n",
      "INFO:tensorflow:Done running local_init_op.\n",
      "\u001b[32m[1230 18:57:28 @sessinit.py:114]\u001b[0m Restoring checkpoint from ../output/LPMC_half_DAG/TRANSRED_02/model\\model-20399 ...\n",
      "INFO:tensorflow:Restoring parameters from ../output/LPMC_half_DAG/TRANSRED_02/model\\model-20399\n",
      "\u001b[32m[1230 18:57:28 @DATSGAN.py:267]\u001b[0m Loading Preprocessor!\n"
     ]
    },
    {
     "name": "stderr",
     "output_type": "stream",
     "text": [
      "|                                                                                          |35/?[00:01<00:00,21.45it/s]\n"
     ]
    },
    {
     "name": "stdout",
     "output_type": "stream",
     "text": [
      "\u001b[32m[1230 18:57:30 @DATSGAN.py:267]\u001b[0m Loading Preprocessor!\n"
     ]
    },
    {
     "name": "stderr",
     "output_type": "stream",
     "text": [
      "|                                                                                          |35/?[00:01<00:00,29.59it/s]\n"
     ]
    },
    {
     "name": "stdout",
     "output_type": "stream",
     "text": [
      "\u001b[32m[1230 18:57:32 @DATSGAN.py:267]\u001b[0m Loading Preprocessor!\n"
     ]
    },
    {
     "name": "stderr",
     "output_type": "stream",
     "text": [
      "|                                                                                          |35/?[00:01<00:00,28.11it/s]\n"
     ]
    },
    {
     "name": "stdout",
     "output_type": "stream",
     "text": [
      "\u001b[32m[1230 18:57:33 @DATSGAN.py:267]\u001b[0m Loading Preprocessor!\n"
     ]
    },
    {
     "name": "stderr",
     "output_type": "stream",
     "text": [
      "|                                                                                          |35/?[00:01<00:00,26.26it/s]\n"
     ]
    },
    {
     "name": "stdout",
     "output_type": "stream",
     "text": [
      "\u001b[32m[1230 18:57:35 @DATSGAN.py:267]\u001b[0m Loading Preprocessor!\n"
     ]
    },
    {
     "name": "stderr",
     "output_type": "stream",
     "text": [
      "|                                                                                          |35/?[00:01<00:00,28.20it/s]\n"
     ]
    },
    {
     "name": "stdout",
     "output_type": "stream",
     "text": [
      "Sampling synthetic data from model \u001b[1mTRANSRED_03\u001b[0m (23/25)\n",
      "\u001b[32m[1230 18:57:47 @DATSGANModel.py:213]\u001b[0m \u001b[91mCreating cell for travel_year (in-edges: 0; ancestors: 0)\n",
      "\u001b[32m[1230 18:57:47 @DATSGANModel.py:213]\u001b[0m \u001b[91mCreating cell for car_ownership (in-edges: 0; ancestors: 0)\n",
      "\u001b[32m[1230 18:57:47 @DATSGANModel.py:213]\u001b[0m \u001b[91mCreating cell for female (in-edges: 0; ancestors: 0)\n",
      "\u001b[32m[1230 18:57:47 @DATSGANModel.py:213]\u001b[0m \u001b[91mCreating cell for age (in-edges: 0; ancestors: 0)\n",
      "\u001b[32m[1230 18:57:47 @DATSGANModel.py:213]\u001b[0m \u001b[91mCreating cell for travel_month (in-edges: 1; ancestors: 1)\n",
      "\u001b[32m[1230 18:57:47 @DATSGANModel.py:213]\u001b[0m \u001b[91mCreating cell for fueltype (in-edges: 1; ancestors: 1)\n",
      "\u001b[32m[1230 18:57:47 @DATSGANModel.py:213]\u001b[0m \u001b[91mCreating cell for driving_license (in-edges: 3; ancestors: 3)\n",
      "\u001b[32m[1230 18:57:47 @DATSGANModel.py:213]\u001b[0m \u001b[91mCreating cell for faretype (in-edges: 1; ancestors: 1)\n",
      "\u001b[32m[1230 18:57:47 @DATSGANModel.py:213]\u001b[0m \u001b[91mCreating cell for travel_date (in-edges: 1; ancestors: 2)\n",
      "\u001b[32m[1230 18:57:47 @DATSGANModel.py:213]\u001b[0m \u001b[91mCreating cell for bus_scale (in-edges: 1; ancestors: 2)\n",
      "\u001b[32m[1230 18:57:47 @DATSGANModel.py:213]\u001b[0m \u001b[91mCreating cell for day_of_week (in-edges: 1; ancestors: 3)\n",
      "\u001b[32m[1230 18:57:47 @DATSGANModel.py:213]\u001b[0m \u001b[91mCreating cell for purpose (in-edges: 1; ancestors: 4)\n",
      "\u001b[32m[1230 18:57:47 @DATSGANModel.py:213]\u001b[0m \u001b[91mCreating cell for start_time_linear (in-edges: 1; ancestors: 5)\n",
      "\u001b[32m[1230 18:57:47 @DATSGANModel.py:213]\u001b[0m \u001b[91mCreating cell for distance (in-edges: 1; ancestors: 5)\n",
      "\u001b[32m[1230 18:57:48 @DATSGANModel.py:213]\u001b[0m \u001b[91mCreating cell for driving_traffic_percent (in-edges: 1; ancestors: 6)\n",
      "\u001b[32m[1230 18:57:48 @DATSGANModel.py:213]\u001b[0m \u001b[91mCreating cell for cost_driving_fuel (in-edges: 2; ancestors: 8)\n",
      "\u001b[32m[1230 18:57:48 @DATSGANModel.py:213]\u001b[0m \u001b[91mCreating cell for dur_driving (in-edges: 1; ancestors: 6)\n",
      "\u001b[32m[1230 18:57:48 @DATSGANModel.py:213]\u001b[0m \u001b[91mCreating cell for dur_walking (in-edges: 1; ancestors: 6)\n",
      "\u001b[32m[1230 18:57:48 @DATSGANModel.py:213]\u001b[0m \u001b[91mCreating cell for dur_cycling (in-edges: 1; ancestors: 6)\n",
      "\u001b[32m[1230 18:57:48 @DATSGANModel.py:213]\u001b[0m \u001b[91mCreating cell for dur_pt_access (in-edges: 1; ancestors: 6)\n",
      "\u001b[32m[1230 18:57:48 @DATSGANModel.py:213]\u001b[0m \u001b[91mCreating cell for pt_n_interchanges (in-edges: 1; ancestors: 6)\n",
      "\u001b[32m[1230 18:57:48 @DATSGANModel.py:213]\u001b[0m \u001b[91mCreating cell for cost_driving_con_charge (in-edges: 2; ancestors: 11)\n",
      "\u001b[32m[1230 18:57:48 @DATSGANModel.py:213]\u001b[0m \u001b[91mCreating cell for dur_pt_rail (in-edges: 1; ancestors: 7)\n",
      "\u001b[32m[1230 18:57:48 @DATSGANModel.py:213]\u001b[0m \u001b[91mCreating cell for dur_pt_bus (in-edges: 1; ancestors: 7)\n",
      "\u001b[32m[1230 18:57:48 @DATSGANModel.py:213]\u001b[0m \u001b[91mCreating cell for dur_pt_int (in-edges: 1; ancestors: 7)\n",
      "\u001b[32m[1230 18:57:48 @DATSGANModel.py:213]\u001b[0m \u001b[91mCreating cell for cost_transit (in-edges: 3; ancestors: 12)\n",
      "\u001b[32m[1230 18:57:48 @DATSGANModel.py:213]\u001b[0m \u001b[91mCreating cell for travel_mode (in-edges: 8; ancestors: 26)\n",
      "\u001b[32m[1230 18:57:49 @sessinit.py:87]\u001b[0m \u001b[5m\u001b[31mWRN\u001b[0m The following variables are in the checkpoint, but not found in the graph: global_step, optimize/beta1_power, optimize/beta2_power\n",
      "INFO:tensorflow:Graph was finalized.\n",
      "INFO:tensorflow:Running local_init_op.\n",
      "INFO:tensorflow:Done running local_init_op.\n",
      "\u001b[32m[1230 18:57:51 @sessinit.py:114]\u001b[0m Restoring checkpoint from ../output/LPMC_half_DAG/TRANSRED_03/model\\model-20399 ...\n",
      "INFO:tensorflow:Restoring parameters from ../output/LPMC_half_DAG/TRANSRED_03/model\\model-20399\n",
      "\u001b[32m[1230 18:57:51 @DATSGAN.py:267]\u001b[0m Loading Preprocessor!\n"
     ]
    },
    {
     "name": "stderr",
     "output_type": "stream",
     "text": [
      "|                                                                                          |35/?[00:01<00:00,27.60it/s]\n"
     ]
    },
    {
     "name": "stdout",
     "output_type": "stream",
     "text": [
      "\u001b[32m[1230 18:57:53 @DATSGAN.py:267]\u001b[0m Loading Preprocessor!\n"
     ]
    },
    {
     "name": "stderr",
     "output_type": "stream",
     "text": [
      "|                                                                                          |35/?[00:01<00:00,28.12it/s]\n"
     ]
    },
    {
     "name": "stdout",
     "output_type": "stream",
     "text": [
      "\u001b[32m[1230 18:57:55 @DATSGAN.py:267]\u001b[0m Loading Preprocessor!\n"
     ]
    },
    {
     "name": "stderr",
     "output_type": "stream",
     "text": [
      "|                                                                                          |35/?[00:02<00:00,16.23it/s]\n"
     ]
    },
    {
     "name": "stdout",
     "output_type": "stream",
     "text": [
      "\u001b[32m[1230 18:57:57 @DATSGAN.py:267]\u001b[0m Loading Preprocessor!\n"
     ]
    },
    {
     "name": "stderr",
     "output_type": "stream",
     "text": [
      "|                                                                                          |35/?[00:02<00:00,16.79it/s]\n"
     ]
    },
    {
     "name": "stdout",
     "output_type": "stream",
     "text": [
      "\u001b[32m[1230 18:58:00 @DATSGAN.py:267]\u001b[0m Loading Preprocessor!\n"
     ]
    },
    {
     "name": "stderr",
     "output_type": "stream",
     "text": [
      "|                                                                                          |35/?[00:02<00:00,15.88it/s]\n"
     ]
    },
    {
     "name": "stdout",
     "output_type": "stream",
     "text": [
      "Sampling synthetic data from model \u001b[1mTRANSRED_04\u001b[0m (24/25)\n",
      "\u001b[32m[1230 18:58:13 @DATSGANModel.py:213]\u001b[0m \u001b[91mCreating cell for travel_year (in-edges: 0; ancestors: 0)\n",
      "\u001b[32m[1230 18:58:14 @DATSGANModel.py:213]\u001b[0m \u001b[91mCreating cell for car_ownership (in-edges: 0; ancestors: 0)\n",
      "\u001b[32m[1230 18:58:14 @DATSGANModel.py:213]\u001b[0m \u001b[91mCreating cell for female (in-edges: 0; ancestors: 0)\n",
      "\u001b[32m[1230 18:58:14 @DATSGANModel.py:213]\u001b[0m \u001b[91mCreating cell for age (in-edges: 0; ancestors: 0)\n",
      "\u001b[32m[1230 18:58:14 @DATSGANModel.py:213]\u001b[0m \u001b[91mCreating cell for travel_month (in-edges: 1; ancestors: 1)\n",
      "\u001b[32m[1230 18:58:14 @DATSGANModel.py:213]\u001b[0m \u001b[91mCreating cell for fueltype (in-edges: 1; ancestors: 1)\n",
      "\u001b[32m[1230 18:58:14 @DATSGANModel.py:213]\u001b[0m \u001b[91mCreating cell for driving_license (in-edges: 3; ancestors: 3)\n",
      "\u001b[32m[1230 18:58:14 @DATSGANModel.py:213]\u001b[0m \u001b[91mCreating cell for faretype (in-edges: 1; ancestors: 1)\n",
      "\u001b[32m[1230 18:58:14 @DATSGANModel.py:213]\u001b[0m \u001b[91mCreating cell for travel_date (in-edges: 1; ancestors: 2)\n",
      "\u001b[32m[1230 18:58:14 @DATSGANModel.py:213]\u001b[0m \u001b[91mCreating cell for bus_scale (in-edges: 1; ancestors: 2)\n",
      "\u001b[32m[1230 18:58:14 @DATSGANModel.py:213]\u001b[0m \u001b[91mCreating cell for day_of_week (in-edges: 1; ancestors: 3)\n",
      "\u001b[32m[1230 18:58:14 @DATSGANModel.py:213]\u001b[0m \u001b[91mCreating cell for purpose (in-edges: 1; ancestors: 4)\n",
      "\u001b[32m[1230 18:58:14 @DATSGANModel.py:213]\u001b[0m \u001b[91mCreating cell for start_time_linear (in-edges: 1; ancestors: 5)\n",
      "\u001b[32m[1230 18:58:14 @DATSGANModel.py:213]\u001b[0m \u001b[91mCreating cell for distance (in-edges: 1; ancestors: 5)\n",
      "\u001b[32m[1230 18:58:14 @DATSGANModel.py:213]\u001b[0m \u001b[91mCreating cell for driving_traffic_percent (in-edges: 1; ancestors: 6)\n",
      "\u001b[32m[1230 18:58:14 @DATSGANModel.py:213]\u001b[0m \u001b[91mCreating cell for cost_driving_fuel (in-edges: 2; ancestors: 8)\n",
      "\u001b[32m[1230 18:58:15 @DATSGANModel.py:213]\u001b[0m \u001b[91mCreating cell for dur_driving (in-edges: 1; ancestors: 6)\n",
      "\u001b[32m[1230 18:58:15 @DATSGANModel.py:213]\u001b[0m \u001b[91mCreating cell for dur_walking (in-edges: 1; ancestors: 6)\n",
      "\u001b[32m[1230 18:58:15 @DATSGANModel.py:213]\u001b[0m \u001b[91mCreating cell for dur_cycling (in-edges: 1; ancestors: 6)\n",
      "\u001b[32m[1230 18:58:15 @DATSGANModel.py:213]\u001b[0m \u001b[91mCreating cell for dur_pt_access (in-edges: 1; ancestors: 6)\n",
      "\u001b[32m[1230 18:58:15 @DATSGANModel.py:213]\u001b[0m \u001b[91mCreating cell for pt_n_interchanges (in-edges: 1; ancestors: 6)\n",
      "\u001b[32m[1230 18:58:15 @DATSGANModel.py:213]\u001b[0m \u001b[91mCreating cell for cost_driving_con_charge (in-edges: 2; ancestors: 11)\n",
      "\u001b[32m[1230 18:58:15 @DATSGANModel.py:213]\u001b[0m \u001b[91mCreating cell for dur_pt_rail (in-edges: 1; ancestors: 7)\n",
      "\u001b[32m[1230 18:58:15 @DATSGANModel.py:213]\u001b[0m \u001b[91mCreating cell for dur_pt_bus (in-edges: 1; ancestors: 7)\n",
      "\u001b[32m[1230 18:58:15 @DATSGANModel.py:213]\u001b[0m \u001b[91mCreating cell for dur_pt_int (in-edges: 1; ancestors: 7)\n",
      "\u001b[32m[1230 18:58:15 @DATSGANModel.py:213]\u001b[0m \u001b[91mCreating cell for cost_transit (in-edges: 3; ancestors: 12)\n",
      "\u001b[32m[1230 18:58:15 @DATSGANModel.py:213]\u001b[0m \u001b[91mCreating cell for travel_mode (in-edges: 8; ancestors: 26)\n",
      "\u001b[32m[1230 18:58:16 @sessinit.py:87]\u001b[0m \u001b[5m\u001b[31mWRN\u001b[0m The following variables are in the checkpoint, but not found in the graph: global_step, optimize/beta1_power, optimize/beta2_power\n",
      "INFO:tensorflow:Graph was finalized.\n",
      "INFO:tensorflow:Running local_init_op.\n",
      "INFO:tensorflow:Done running local_init_op.\n",
      "\u001b[32m[1230 18:58:18 @sessinit.py:114]\u001b[0m Restoring checkpoint from ../output/LPMC_half_DAG/TRANSRED_04/model\\model-20399 ...\n",
      "INFO:tensorflow:Restoring parameters from ../output/LPMC_half_DAG/TRANSRED_04/model\\model-20399\n",
      "\u001b[32m[1230 18:58:18 @DATSGAN.py:267]\u001b[0m Loading Preprocessor!\n"
     ]
    },
    {
     "name": "stderr",
     "output_type": "stream",
     "text": [
      "|                                                                                          |35/?[00:02<00:00,15.37it/s]\n"
     ]
    },
    {
     "name": "stdout",
     "output_type": "stream",
     "text": [
      "\u001b[32m[1230 18:58:21 @DATSGAN.py:267]\u001b[0m Loading Preprocessor!\n"
     ]
    },
    {
     "name": "stderr",
     "output_type": "stream",
     "text": [
      "|                                                                                          |35/?[00:01<00:00,19.11it/s]\n"
     ]
    },
    {
     "name": "stdout",
     "output_type": "stream",
     "text": [
      "\u001b[32m[1230 18:58:23 @DATSGAN.py:267]\u001b[0m Loading Preprocessor!\n"
     ]
    },
    {
     "name": "stderr",
     "output_type": "stream",
     "text": [
      "|                                                                                          |35/?[00:02<00:00,17.42it/s]\n"
     ]
    },
    {
     "name": "stdout",
     "output_type": "stream",
     "text": [
      "\u001b[32m[1230 18:58:25 @DATSGAN.py:267]\u001b[0m Loading Preprocessor!\n"
     ]
    },
    {
     "name": "stderr",
     "output_type": "stream",
     "text": [
      "|                                                                                          |35/?[00:02<00:00,17.30it/s]\n"
     ]
    },
    {
     "name": "stdout",
     "output_type": "stream",
     "text": [
      "\u001b[32m[1230 18:58:28 @DATSGAN.py:267]\u001b[0m Loading Preprocessor!\n"
     ]
    },
    {
     "name": "stderr",
     "output_type": "stream",
     "text": [
      "|                                                                                          |35/?[00:02<00:00,16.18it/s]\n"
     ]
    },
    {
     "name": "stdout",
     "output_type": "stream",
     "text": [
      "Sampling synthetic data from model \u001b[1mTRANSRED_05\u001b[0m (25/25)\n",
      "\u001b[32m[1230 18:58:40 @DATSGANModel.py:213]\u001b[0m \u001b[91mCreating cell for travel_year (in-edges: 0; ancestors: 0)\n",
      "\u001b[32m[1230 18:58:40 @DATSGANModel.py:213]\u001b[0m \u001b[91mCreating cell for car_ownership (in-edges: 0; ancestors: 0)\n",
      "\u001b[32m[1230 18:58:41 @DATSGANModel.py:213]\u001b[0m \u001b[91mCreating cell for female (in-edges: 0; ancestors: 0)\n",
      "\u001b[32m[1230 18:58:41 @DATSGANModel.py:213]\u001b[0m \u001b[91mCreating cell for age (in-edges: 0; ancestors: 0)\n",
      "\u001b[32m[1230 18:58:41 @DATSGANModel.py:213]\u001b[0m \u001b[91mCreating cell for travel_month (in-edges: 1; ancestors: 1)\n",
      "\u001b[32m[1230 18:58:41 @DATSGANModel.py:213]\u001b[0m \u001b[91mCreating cell for fueltype (in-edges: 1; ancestors: 1)\n",
      "\u001b[32m[1230 18:58:41 @DATSGANModel.py:213]\u001b[0m \u001b[91mCreating cell for driving_license (in-edges: 3; ancestors: 3)\n",
      "\u001b[32m[1230 18:58:41 @DATSGANModel.py:213]\u001b[0m \u001b[91mCreating cell for faretype (in-edges: 1; ancestors: 1)\n",
      "\u001b[32m[1230 18:58:41 @DATSGANModel.py:213]\u001b[0m \u001b[91mCreating cell for travel_date (in-edges: 1; ancestors: 2)\n",
      "\u001b[32m[1230 18:58:41 @DATSGANModel.py:213]\u001b[0m \u001b[91mCreating cell for bus_scale (in-edges: 1; ancestors: 2)\n",
      "\u001b[32m[1230 18:58:41 @DATSGANModel.py:213]\u001b[0m \u001b[91mCreating cell for day_of_week (in-edges: 1; ancestors: 3)\n",
      "\u001b[32m[1230 18:58:41 @DATSGANModel.py:213]\u001b[0m \u001b[91mCreating cell for purpose (in-edges: 1; ancestors: 4)\n",
      "\u001b[32m[1230 18:58:41 @DATSGANModel.py:213]\u001b[0m \u001b[91mCreating cell for start_time_linear (in-edges: 1; ancestors: 5)\n",
      "\u001b[32m[1230 18:58:41 @DATSGANModel.py:213]\u001b[0m \u001b[91mCreating cell for distance (in-edges: 1; ancestors: 5)\n",
      "\u001b[32m[1230 18:58:41 @DATSGANModel.py:213]\u001b[0m \u001b[91mCreating cell for driving_traffic_percent (in-edges: 1; ancestors: 6)\n",
      "\u001b[32m[1230 18:58:41 @DATSGANModel.py:213]\u001b[0m \u001b[91mCreating cell for cost_driving_fuel (in-edges: 2; ancestors: 8)\n",
      "\u001b[32m[1230 18:58:42 @DATSGANModel.py:213]\u001b[0m \u001b[91mCreating cell for dur_driving (in-edges: 1; ancestors: 6)\n",
      "\u001b[32m[1230 18:58:42 @DATSGANModel.py:213]\u001b[0m \u001b[91mCreating cell for dur_walking (in-edges: 1; ancestors: 6)\n",
      "\u001b[32m[1230 18:58:42 @DATSGANModel.py:213]\u001b[0m \u001b[91mCreating cell for dur_cycling (in-edges: 1; ancestors: 6)\n",
      "\u001b[32m[1230 18:58:42 @DATSGANModel.py:213]\u001b[0m \u001b[91mCreating cell for dur_pt_access (in-edges: 1; ancestors: 6)\n",
      "\u001b[32m[1230 18:58:42 @DATSGANModel.py:213]\u001b[0m \u001b[91mCreating cell for pt_n_interchanges (in-edges: 1; ancestors: 6)\n",
      "\u001b[32m[1230 18:58:42 @DATSGANModel.py:213]\u001b[0m \u001b[91mCreating cell for cost_driving_con_charge (in-edges: 2; ancestors: 11)\n",
      "\u001b[32m[1230 18:58:42 @DATSGANModel.py:213]\u001b[0m \u001b[91mCreating cell for dur_pt_rail (in-edges: 1; ancestors: 7)\n",
      "\u001b[32m[1230 18:58:42 @DATSGANModel.py:213]\u001b[0m \u001b[91mCreating cell for dur_pt_bus (in-edges: 1; ancestors: 7)\n",
      "\u001b[32m[1230 18:58:42 @DATSGANModel.py:213]\u001b[0m \u001b[91mCreating cell for dur_pt_int (in-edges: 1; ancestors: 7)\n",
      "\u001b[32m[1230 18:58:42 @DATSGANModel.py:213]\u001b[0m \u001b[91mCreating cell for cost_transit (in-edges: 3; ancestors: 12)\n",
      "\u001b[32m[1230 18:58:42 @DATSGANModel.py:213]\u001b[0m \u001b[91mCreating cell for travel_mode (in-edges: 8; ancestors: 26)\n",
      "\u001b[32m[1230 18:58:43 @sessinit.py:87]\u001b[0m \u001b[5m\u001b[31mWRN\u001b[0m The following variables are in the checkpoint, but not found in the graph: global_step, optimize/beta1_power, optimize/beta2_power\n",
      "INFO:tensorflow:Graph was finalized.\n",
      "INFO:tensorflow:Running local_init_op.\n",
      "INFO:tensorflow:Done running local_init_op.\n",
      "\u001b[32m[1230 18:58:45 @sessinit.py:114]\u001b[0m Restoring checkpoint from ../output/LPMC_half_DAG/TRANSRED_05/model\\model-20399 ...\n",
      "INFO:tensorflow:Restoring parameters from ../output/LPMC_half_DAG/TRANSRED_05/model\\model-20399\n",
      "\u001b[32m[1230 18:58:45 @DATSGAN.py:267]\u001b[0m Loading Preprocessor!\n"
     ]
    },
    {
     "name": "stderr",
     "output_type": "stream",
     "text": [
      "|                                                                                          |35/?[00:02<00:00,15.27it/s]\n"
     ]
    },
    {
     "name": "stdout",
     "output_type": "stream",
     "text": [
      "\u001b[32m[1230 18:58:48 @DATSGAN.py:267]\u001b[0m Loading Preprocessor!\n"
     ]
    },
    {
     "name": "stderr",
     "output_type": "stream",
     "text": [
      "|                                                                                          |35/?[00:01<00:00,19.01it/s]\n"
     ]
    },
    {
     "name": "stdout",
     "output_type": "stream",
     "text": [
      "\u001b[32m[1230 18:58:50 @DATSGAN.py:267]\u001b[0m Loading Preprocessor!\n"
     ]
    },
    {
     "name": "stderr",
     "output_type": "stream",
     "text": [
      "|                                                                                          |35/?[00:02<00:00,16.20it/s]\n"
     ]
    },
    {
     "name": "stdout",
     "output_type": "stream",
     "text": [
      "\u001b[32m[1230 18:58:52 @DATSGAN.py:267]\u001b[0m Loading Preprocessor!\n"
     ]
    },
    {
     "name": "stderr",
     "output_type": "stream",
     "text": [
      "|                                                                                          |35/?[00:01<00:00,18.66it/s]\n"
     ]
    },
    {
     "name": "stdout",
     "output_type": "stream",
     "text": [
      "\u001b[32m[1230 18:58:55 @DATSGAN.py:267]\u001b[0m Loading Preprocessor!\n"
     ]
    },
    {
     "name": "stderr",
     "output_type": "stream",
     "text": [
      "|                                                                                          |35/?[00:01<00:00,19.85it/s]\n"
     ]
    },
    {
     "name": "stdout",
     "output_type": "stream",
     "text": [
      "\u001b[1mFINISHED!\u001b[0m\n"
     ]
    }
   ],
   "source": [
    "for i, m in enumerate(models):\n",
    "    \n",
    "    name = m.split('_')[0]\n",
    "    \n",
    "    print(\"Sampling synthetic data from model \\033[1m{}\\033[0m ({}/{})\".format(m, i+1, len(models)))\n",
    "\n",
    "    if 'Chicago' in dataset:\n",
    "        from modules.datgan import DATWGAN as LIB\n",
    "    elif 'LPMC' in dataset:\n",
    "        from modules.datgan import DATWGANGP as LIB\n",
    "\n",
    "    model = LIB.load(input_folder + m + '/', 'trained')\n",
    "    \n",
    "    for k in range(n_data):\n",
    "        \n",
    "        samples = model.sample(len(df), 'NO')\n",
    "                \n",
    "        samples = round_some_vars(samples, dataset)\n",
    "        \n",
    "        if n_data == 1:\n",
    "            samples.to_csv(output_folder + m + '.csv', index=False)\n",
    "        else:\n",
    "            samples.to_csv(output_folder + m + '_{:0>2d}.csv'.format(k+1), index=False)\n",
    "\n",
    "print(\"\\033[1mFINISHED!\\033[0m\")"
   ]
  },
  {
   "cell_type": "code",
   "execution_count": null,
   "metadata": {},
   "outputs": [],
   "source": []
  }
 ],
 "metadata": {
  "kernelspec": {
   "display_name": "Python 3",
   "language": "python",
   "name": "python3"
  },
  "language_info": {
   "codemirror_mode": {
    "name": "ipython",
    "version": 3
   },
   "file_extension": ".py",
   "mimetype": "text/x-python",
   "name": "python",
   "nbconvert_exporter": "python",
   "pygments_lexer": "ipython3",
   "version": "3.7.9"
  }
 },
 "nbformat": 4,
 "nbformat_minor": 4
}
