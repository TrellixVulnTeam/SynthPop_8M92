{
 "cells": [
  {
   "cell_type": "code",
   "execution_count": 1,
   "metadata": {},
   "outputs": [],
   "source": [
    "import os\n",
    "os.chdir('../..')"
   ]
  },
  {
   "cell_type": "code",
   "execution_count": 2,
   "metadata": {},
   "outputs": [
    {
     "name": "stdout",
     "output_type": "stream",
     "text": [
      "3.7.9\n"
     ]
    }
   ],
   "source": [
    "from platform import python_version\n",
    "print(python_version())"
   ]
  },
  {
   "cell_type": "code",
   "execution_count": 3,
   "metadata": {},
   "outputs": [],
   "source": [
    "import numpy as np\n",
    "import pandas as pd\n",
    "import json\n",
    "import sys\n",
    "import pickle\n",
    "\n",
    "import matplotlib.pyplot as plt\n",
    "\n",
    "# For the Python notebook\n",
    "%matplotlib inline\n",
    "%reload_ext autoreload\n",
    "%autoreload 2"
   ]
  },
  {
   "cell_type": "code",
   "execution_count": 4,
   "metadata": {},
   "outputs": [],
   "source": [
    "dataset = 'adult'\n",
    "n_models = 5\n",
    "n_data = 5\n",
    "\n",
    "if 'adult' in dataset:\n",
    "    models = ['TGAN', 'CTGAN', 'TVAE', 'CTABGAN', 'WGGP_WI', 'WGAN_WI', 'LINEAR']\n",
    "else:\n",
    "    models = ['TGAN', 'CTGAN', 'CTABGAN', 'TVAE']\n",
    "\n",
    "    for i in ['WGAN', 'SGAN', 'WGGP']:\n",
    "        for j in ['WI', 'OR', 'WO']:\n",
    "            models.append('{}_{}'.format(i,j))\n",
    "            \n",
    "models = ['LINEAR']\n",
    "        \n",
    "if n_models > 1:\n",
    "    tmp = []\n",
    "    \n",
    "    for i in range(n_models):\n",
    "        for m in models:\n",
    "            tmp.append(m + '_{:0>2d}'.format(i+1))\n",
    "        \n",
    "    tmp.sort()\n",
    "    models = tmp"
   ]
  },
  {
   "cell_type": "code",
   "execution_count": 5,
   "metadata": {},
   "outputs": [],
   "source": [
    "df = pd.read_csv('../data/' + dataset + '/data.csv')"
   ]
  },
  {
   "cell_type": "code",
   "execution_count": 6,
   "metadata": {},
   "outputs": [],
   "source": [
    "input_folder = '../output/' + dataset + '/'\n",
    "output_folder = '../synth_data/' + dataset + '/'"
   ]
  },
  {
   "cell_type": "code",
   "execution_count": 7,
   "metadata": {},
   "outputs": [],
   "source": [
    "def is_a_DATGAN(name):\n",
    "    if any(x in name for x in ['TGAN', 'CTGAN', 'TVAE', 'CTABGAN']):\n",
    "        return False\n",
    "    else:\n",
    "        return True\n",
    "    \n",
    "def round_some_vars(samples, dataset):\n",
    "    if 'Chicago' in dataset:\n",
    "        samples.age = np.round(samples.age)\n",
    "    elif 'LPMC' in dataset:\n",
    "        samples.age = np.round(samples.age)\n",
    "        samples.distance = np.round(samples.distance)\n",
    "    elif 'adult' in dataset:\n",
    "        for c in ['age', 'capital-gain', 'capital-loss','hours-per-week']:\n",
    "            samples[c] = np.round(samples[c])\n",
    "        \n",
    "    return samples"
   ]
  },
  {
   "cell_type": "code",
   "execution_count": 8,
   "metadata": {
    "scrolled": true
   },
   "outputs": [
    {
     "name": "stdout",
     "output_type": "stream",
     "text": [
      "Sampling synthetic data from model \u001b[1mLINEAR_01\u001b[0m (1/5)\n",
      "WARNING:tensorflow:From D:\\Users\\glede\\anaconda3\\envs\\py37\\lib\\site-packages\\tensorpack\\callbacks\\hooks.py:17: The name tf.train.SessionRunHook is deprecated. Please use tf.estimator.SessionRunHook instead.\n",
      "\n",
      "WARNING:tensorflow:From D:\\Users\\glede\\anaconda3\\envs\\py37\\lib\\site-packages\\tensorpack\\tfutils\\optimizer.py:18: The name tf.train.Optimizer is deprecated. Please use tf.compat.v1.train.Optimizer instead.\n",
      "\n",
      "WARNING:tensorflow:From D:\\Users\\glede\\anaconda3\\envs\\py37\\lib\\site-packages\\tensorpack\\tfutils\\sesscreate.py:20: The name tf.train.SessionCreator is deprecated. Please use tf.compat.v1.train.SessionCreator instead.\n",
      "\n",
      "WARNING:tensorflow:From D:\\Users\\glede\\anaconda3\\envs\\py37\\lib\\site-packages\\tensorpack\\tfutils\\varmanip.py:178: The name tf.gfile.Exists is deprecated. Please use tf.io.gfile.exists instead.\n",
      "\n",
      "WARNING:tensorflow:From D:\\Users\\glede\\anaconda3\\envs\\py37\\lib\\site-packages\\tensorpack\\predict\\config.py:101: The name tf.train.ChiefSessionCreator is deprecated. Please use tf.compat.v1.train.ChiefSessionCreator instead.\n",
      "\n",
      "WARNING:tensorflow:From D:\\Users\\glede\\anaconda3\\envs\\py37\\lib\\site-packages\\tensorpack\\tfutils\\common.py:41: The name tf.ConfigProto is deprecated. Please use tf.compat.v1.ConfigProto instead.\n",
      "\n",
      "WARNING:tensorflow:From D:\\Users\\glede\\anaconda3\\envs\\py37\\lib\\site-packages\\tensorpack\\graph_builder\\model_desc.py:29: The name tf.get_default_graph is deprecated. Please use tf.compat.v1.get_default_graph instead.\n",
      "\n",
      "WARNING:tensorflow:From D:\\Users\\glede\\anaconda3\\envs\\py37\\lib\\site-packages\\tensorpack\\graph_builder\\model_desc.py:39: The name tf.placeholder is deprecated. Please use tf.compat.v1.placeholder instead.\n",
      "\n",
      "WARNING:tensorflow:From D:\\Users\\glede\\anaconda3\\envs\\py37\\lib\\site-packages\\tensorpack\\tfutils\\tower.py:204: The name tf.get_variable_scope is deprecated. Please use tf.compat.v1.get_variable_scope instead.\n",
      "\n",
      "WARNING:tensorflow:From D:\\Users\\glede\\anaconda3\\envs\\py37\\lib\\site-packages\\tensorpack\\tfutils\\tower.py:216: The name tf.GraphKeys is deprecated. Please use tf.compat.v1.GraphKeys instead.\n",
      "\n",
      "WARNING:tensorflow:From D:\\Users\\glede\\anaconda3\\envs\\py37\\lib\\site-packages\\tensorpack\\tfutils\\tower.py:101: The name tf.variable_scope is deprecated. Please use tf.compat.v1.variable_scope instead.\n",
      "\n",
      "WARNING:tensorflow:From D:\\Users\\glede\\anaconda3\\envs\\py37\\lib\\site-packages\\tensorpack\\tfutils\\collection.py:33: The name tf.get_collection is deprecated. Please use tf.compat.v1.get_collection instead.\n",
      "\n",
      "WARNING:tensorflow:From C:\\Users\\glede\\Documents\\EPFL\\PhD\\SynthPop\\code\\modules\\datgan\\models\\DATSGANModel.py:517: The name tf.random_normal is deprecated. Please use tf.random.normal instead.\n",
      "\n",
      "WARNING:tensorflow:From C:\\Users\\glede\\Documents\\EPFL\\PhD\\SynthPop\\code\\modules\\datgan\\models\\DATSGANModel.py:518: The name tf.placeholder_with_default is deprecated. Please use tf.compat.v1.placeholder_with_default instead.\n",
      "\n",
      "WARNING:tensorflow:From C:\\Users\\glede\\Documents\\EPFL\\PhD\\SynthPop\\code\\modules\\datgan\\models\\DATSGANModel.py:207: LSTMCell.__init__ (from tensorflow.python.ops.rnn_cell_impl) is deprecated and will be removed in a future version.\n",
      "Instructions for updating:\n",
      "This class is equivalent as tf.keras.layers.LSTMCell, and will be replaced by that in Tensorflow 2.0.\n",
      "\u001b[32m[0103 15:06:13 @DATSGANModel.py:213]\u001b[0m \u001b[91mCreating cell for age (in-edges: 0; ancestors: 0)\n",
      "WARNING:tensorflow:From C:\\Users\\glede\\Documents\\EPFL\\PhD\\SynthPop\\code\\modules\\datgan\\models\\DATSGANModel.py:224: The name tf.get_variable is deprecated. Please use tf.compat.v1.get_variable instead.\n",
      "\n",
      "WARNING:tensorflow:From D:\\Users\\glede\\anaconda3\\envs\\py37\\lib\\site-packages\\tensorflow_core\\python\\ops\\rnn_cell_impl.py:958: Layer.add_variable (from tensorflow.python.keras.engine.base_layer) is deprecated and will be removed in a future version.\n",
      "Instructions for updating:\n",
      "Please use `layer.add_weight` method instead.\n",
      "WARNING:tensorflow:From D:\\Users\\glede\\anaconda3\\envs\\py37\\lib\\site-packages\\tensorflow_core\\python\\ops\\rnn_cell_impl.py:962: calling Zeros.__init__ (from tensorflow.python.ops.init_ops) with dtype is deprecated and will be removed in a future version.\n",
      "Instructions for updating:\n",
      "Call initializer instance with the dtype argument instead of passing it to the constructor\n",
      "\u001b[32m[0103 15:06:13 @registry.py:126]\u001b[0m gen/LSTM/age/FC input: [500, 100]\n",
      "WARNING:tensorflow:From D:\\Users\\glede\\anaconda3\\envs\\py37\\lib\\site-packages\\tensorpack\\models\\fc.py:57: The name tf.layers.Dense is deprecated. Please use tf.compat.v1.layers.Dense instead.\n",
      "\n",
      "WARNING:tensorflow:From D:\\Users\\glede\\anaconda3\\envs\\py37\\lib\\site-packages\\tensorpack\\models\\fc.py:67: Layer.apply (from tensorflow.python.keras.engine.base_layer) is deprecated and will be removed in a future version.\n",
      "Instructions for updating:\n",
      "Please use `layer.__call__` method instead.\n",
      "\u001b[32m[0103 15:06:13 @registry.py:134]\u001b[0m gen/LSTM/age/FC output: [500, 50]\n",
      "\u001b[32m[0103 15:06:13 @registry.py:126]\u001b[0m gen/LSTM/age/FC_val input: [500, 50]\n",
      "\u001b[32m[0103 15:06:13 @registry.py:134]\u001b[0m gen/LSTM/age/FC_val output: [500, 6]\n",
      "\u001b[32m[0103 15:06:13 @registry.py:126]\u001b[0m gen/LSTM/age/FC_prob input: [500, 50]\n",
      "\u001b[32m[0103 15:06:13 @registry.py:134]\u001b[0m gen/LSTM/age/FC_prob output: [500, 6]\n",
      "\u001b[32m[0103 15:06:13 @registry.py:126]\u001b[0m gen/LSTM/age/FC_input input: [500, 12]\n",
      "\u001b[32m[0103 15:06:13 @registry.py:134]\u001b[0m gen/LSTM/age/FC_input output: [500, 100]\n",
      "\u001b[32m[0103 15:06:13 @DATSGANModel.py:213]\u001b[0m \u001b[91mCreating cell for workclass (in-edges: 1; ancestors: 1)\n",
      "WARNING:tensorflow:From C:\\Users\\glede\\Documents\\EPFL\\PhD\\SynthPop\\code\\modules\\datgan\\models\\DATSGANModel.py:233: The name tf.nn.rnn_cell.LSTMStateTuple is deprecated. Please use tf.compat.v1.nn.rnn_cell.LSTMStateTuple instead.\n",
      "\n",
      "\u001b[32m[0103 15:06:13 @registry.py:126]\u001b[0m gen/LSTM/workclass/FC input: [500, 100]\n",
      "\u001b[32m[0103 15:06:13 @registry.py:134]\u001b[0m gen/LSTM/workclass/FC output: [500, 50]\n",
      "\u001b[32m[0103 15:06:13 @registry.py:126]\u001b[0m gen/LSTM/workclass/FC_prob input: [500, 50]\n",
      "\u001b[32m[0103 15:06:13 @registry.py:134]\u001b[0m gen/LSTM/workclass/FC_prob output: [500, 7]\n",
      "\u001b[32m[0103 15:06:13 @registry.py:126]\u001b[0m gen/LSTM/workclass/FC_input input: [500, 7]\n",
      "\u001b[32m[0103 15:06:13 @registry.py:134]\u001b[0m gen/LSTM/workclass/FC_input output: [500, 100]\n",
      "\u001b[32m[0103 15:06:13 @DATSGANModel.py:213]\u001b[0m \u001b[91mCreating cell for education (in-edges: 1; ancestors: 2)\n",
      "\u001b[32m[0103 15:06:13 @registry.py:126]\u001b[0m gen/LSTM/education/FC input: [500, 100]\n",
      "\u001b[32m[0103 15:06:13 @registry.py:134]\u001b[0m gen/LSTM/education/FC output: [500, 50]\n",
      "\u001b[32m[0103 15:06:13 @registry.py:126]\u001b[0m gen/LSTM/education/FC_prob input: [500, 50]\n",
      "\u001b[32m[0103 15:06:13 @registry.py:134]\u001b[0m gen/LSTM/education/FC_prob output: [500, 16]\n",
      "\u001b[32m[0103 15:06:13 @registry.py:126]\u001b[0m gen/LSTM/education/FC_input input: [500, 16]\n",
      "\u001b[32m[0103 15:06:13 @registry.py:134]\u001b[0m gen/LSTM/education/FC_input output: [500, 100]\n",
      "\u001b[32m[0103 15:06:13 @DATSGANModel.py:213]\u001b[0m \u001b[91mCreating cell for educational-num (in-edges: 1; ancestors: 3)\n",
      "\u001b[32m[0103 15:06:13 @registry.py:126]\u001b[0m gen/LSTM/educational-num/FC input: [500, 100]\n",
      "\u001b[32m[0103 15:06:13 @registry.py:134]\u001b[0m gen/LSTM/educational-num/FC output: [500, 50]\n",
      "\u001b[32m[0103 15:06:13 @registry.py:126]\u001b[0m gen/LSTM/educational-num/FC_prob input: [500, 50]\n",
      "\u001b[32m[0103 15:06:13 @registry.py:134]\u001b[0m gen/LSTM/educational-num/FC_prob output: [500, 16]\n",
      "\u001b[32m[0103 15:06:13 @registry.py:126]\u001b[0m gen/LSTM/educational-num/FC_input input: [500, 16]\n",
      "\u001b[32m[0103 15:06:13 @registry.py:134]\u001b[0m gen/LSTM/educational-num/FC_input output: [500, 100]\n",
      "\u001b[32m[0103 15:06:13 @DATSGANModel.py:213]\u001b[0m \u001b[91mCreating cell for marital-status (in-edges: 1; ancestors: 4)\n",
      "\u001b[32m[0103 15:06:13 @registry.py:126]\u001b[0m gen/LSTM/marital-status/FC input: [500, 100]\n",
      "\u001b[32m[0103 15:06:13 @registry.py:134]\u001b[0m gen/LSTM/marital-status/FC output: [500, 50]\n",
      "\u001b[32m[0103 15:06:13 @registry.py:126]\u001b[0m gen/LSTM/marital-status/FC_prob input: [500, 50]\n",
      "\u001b[32m[0103 15:06:13 @registry.py:134]\u001b[0m gen/LSTM/marital-status/FC_prob output: [500, 7]\n",
      "\u001b[32m[0103 15:06:13 @registry.py:126]\u001b[0m gen/LSTM/marital-status/FC_input input: [500, 7]\n",
      "\u001b[32m[0103 15:06:13 @registry.py:134]\u001b[0m gen/LSTM/marital-status/FC_input output: [500, 100]\n"
     ]
    },
    {
     "name": "stdout",
     "output_type": "stream",
     "text": [
      "\u001b[32m[0103 15:06:13 @DATSGANModel.py:213]\u001b[0m \u001b[91mCreating cell for occupation (in-edges: 1; ancestors: 5)\n",
      "\u001b[32m[0103 15:06:13 @registry.py:126]\u001b[0m gen/LSTM/occupation/FC input: [500, 100]\n",
      "\u001b[32m[0103 15:06:13 @registry.py:134]\u001b[0m gen/LSTM/occupation/FC output: [500, 50]\n",
      "\u001b[32m[0103 15:06:13 @registry.py:126]\u001b[0m gen/LSTM/occupation/FC_prob input: [500, 50]\n",
      "\u001b[32m[0103 15:06:13 @registry.py:134]\u001b[0m gen/LSTM/occupation/FC_prob output: [500, 14]\n",
      "\u001b[32m[0103 15:06:13 @registry.py:126]\u001b[0m gen/LSTM/occupation/FC_input input: [500, 14]\n",
      "\u001b[32m[0103 15:06:14 @registry.py:134]\u001b[0m gen/LSTM/occupation/FC_input output: [500, 100]\n",
      "\u001b[32m[0103 15:06:14 @DATSGANModel.py:213]\u001b[0m \u001b[91mCreating cell for relationship (in-edges: 1; ancestors: 6)\n",
      "\u001b[32m[0103 15:06:14 @registry.py:126]\u001b[0m gen/LSTM/relationship/FC input: [500, 100]\n",
      "\u001b[32m[0103 15:06:14 @registry.py:134]\u001b[0m gen/LSTM/relationship/FC output: [500, 50]\n",
      "\u001b[32m[0103 15:06:14 @registry.py:126]\u001b[0m gen/LSTM/relationship/FC_prob input: [500, 50]\n",
      "\u001b[32m[0103 15:06:14 @registry.py:134]\u001b[0m gen/LSTM/relationship/FC_prob output: [500, 6]\n",
      "\u001b[32m[0103 15:06:14 @registry.py:126]\u001b[0m gen/LSTM/relationship/FC_input input: [500, 6]\n",
      "\u001b[32m[0103 15:06:14 @registry.py:134]\u001b[0m gen/LSTM/relationship/FC_input output: [500, 100]\n",
      "\u001b[32m[0103 15:06:14 @DATSGANModel.py:213]\u001b[0m \u001b[91mCreating cell for race (in-edges: 1; ancestors: 7)\n",
      "\u001b[32m[0103 15:06:14 @registry.py:126]\u001b[0m gen/LSTM/race/FC input: [500, 100]\n",
      "\u001b[32m[0103 15:06:14 @registry.py:134]\u001b[0m gen/LSTM/race/FC output: [500, 50]\n",
      "\u001b[32m[0103 15:06:14 @registry.py:126]\u001b[0m gen/LSTM/race/FC_prob input: [500, 50]\n",
      "\u001b[32m[0103 15:06:14 @registry.py:134]\u001b[0m gen/LSTM/race/FC_prob output: [500, 5]\n",
      "\u001b[32m[0103 15:06:14 @registry.py:126]\u001b[0m gen/LSTM/race/FC_input input: [500, 5]\n",
      "\u001b[32m[0103 15:06:14 @registry.py:134]\u001b[0m gen/LSTM/race/FC_input output: [500, 100]\n",
      "\u001b[32m[0103 15:06:14 @DATSGANModel.py:213]\u001b[0m \u001b[91mCreating cell for gender (in-edges: 1; ancestors: 8)\n",
      "\u001b[32m[0103 15:06:14 @registry.py:126]\u001b[0m gen/LSTM/gender/FC input: [500, 100]\n",
      "\u001b[32m[0103 15:06:14 @registry.py:134]\u001b[0m gen/LSTM/gender/FC output: [500, 50]\n",
      "\u001b[32m[0103 15:06:14 @registry.py:126]\u001b[0m gen/LSTM/gender/FC_prob input: [500, 50]\n",
      "\u001b[32m[0103 15:06:14 @registry.py:134]\u001b[0m gen/LSTM/gender/FC_prob output: [500, 2]\n",
      "\u001b[32m[0103 15:06:14 @registry.py:126]\u001b[0m gen/LSTM/gender/FC_input input: [500, 2]\n",
      "\u001b[32m[0103 15:06:14 @registry.py:134]\u001b[0m gen/LSTM/gender/FC_input output: [500, 100]\n",
      "\u001b[32m[0103 15:06:14 @DATSGANModel.py:213]\u001b[0m \u001b[91mCreating cell for capital-gain (in-edges: 1; ancestors: 9)\n",
      "\u001b[32m[0103 15:06:14 @registry.py:126]\u001b[0m gen/LSTM/capital-gain/FC input: [500, 100]\n",
      "\u001b[32m[0103 15:06:14 @registry.py:134]\u001b[0m gen/LSTM/capital-gain/FC output: [500, 50]\n",
      "\u001b[32m[0103 15:06:14 @registry.py:126]\u001b[0m gen/LSTM/capital-gain/FC_val input: [500, 50]\n",
      "\u001b[32m[0103 15:06:14 @registry.py:134]\u001b[0m gen/LSTM/capital-gain/FC_val output: [500, 2]\n",
      "\u001b[32m[0103 15:06:14 @registry.py:126]\u001b[0m gen/LSTM/capital-gain/FC_prob input: [500, 50]\n",
      "\u001b[32m[0103 15:06:14 @registry.py:134]\u001b[0m gen/LSTM/capital-gain/FC_prob output: [500, 2]\n",
      "\u001b[32m[0103 15:06:14 @registry.py:126]\u001b[0m gen/LSTM/capital-gain/FC_input input: [500, 4]\n",
      "\u001b[32m[0103 15:06:14 @registry.py:134]\u001b[0m gen/LSTM/capital-gain/FC_input output: [500, 100]\n",
      "\u001b[32m[0103 15:06:14 @DATSGANModel.py:213]\u001b[0m \u001b[91mCreating cell for capital-loss (in-edges: 1; ancestors: 10)\n",
      "\u001b[32m[0103 15:06:14 @registry.py:126]\u001b[0m gen/LSTM/capital-loss/FC input: [500, 100]\n",
      "\u001b[32m[0103 15:06:14 @registry.py:134]\u001b[0m gen/LSTM/capital-loss/FC output: [500, 50]\n",
      "\u001b[32m[0103 15:06:14 @registry.py:126]\u001b[0m gen/LSTM/capital-loss/FC_val input: [500, 50]\n",
      "\u001b[32m[0103 15:06:14 @registry.py:134]\u001b[0m gen/LSTM/capital-loss/FC_val output: [500, 2]\n",
      "\u001b[32m[0103 15:06:14 @registry.py:126]\u001b[0m gen/LSTM/capital-loss/FC_prob input: [500, 50]\n",
      "\u001b[32m[0103 15:06:14 @registry.py:134]\u001b[0m gen/LSTM/capital-loss/FC_prob output: [500, 2]\n",
      "\u001b[32m[0103 15:06:14 @registry.py:126]\u001b[0m gen/LSTM/capital-loss/FC_input input: [500, 4]\n",
      "\u001b[32m[0103 15:06:14 @registry.py:134]\u001b[0m gen/LSTM/capital-loss/FC_input output: [500, 100]\n",
      "\u001b[32m[0103 15:06:14 @DATSGANModel.py:213]\u001b[0m \u001b[91mCreating cell for hours-per-week (in-edges: 1; ancestors: 11)\n",
      "\u001b[32m[0103 15:06:14 @registry.py:126]\u001b[0m gen/LSTM/hours-per-week/FC input: [500, 100]\n",
      "\u001b[32m[0103 15:06:14 @registry.py:134]\u001b[0m gen/LSTM/hours-per-week/FC output: [500, 50]\n",
      "\u001b[32m[0103 15:06:14 @registry.py:126]\u001b[0m gen/LSTM/hours-per-week/FC_val input: [500, 50]\n",
      "\u001b[32m[0103 15:06:14 @registry.py:134]\u001b[0m gen/LSTM/hours-per-week/FC_val output: [500, 10]\n",
      "\u001b[32m[0103 15:06:14 @registry.py:126]\u001b[0m gen/LSTM/hours-per-week/FC_prob input: [500, 50]\n",
      "\u001b[32m[0103 15:06:14 @registry.py:134]\u001b[0m gen/LSTM/hours-per-week/FC_prob output: [500, 10]\n",
      "\u001b[32m[0103 15:06:14 @registry.py:126]\u001b[0m gen/LSTM/hours-per-week/FC_input input: [500, 20]\n",
      "\u001b[32m[0103 15:06:14 @registry.py:134]\u001b[0m gen/LSTM/hours-per-week/FC_input output: [500, 100]\n",
      "\u001b[32m[0103 15:06:14 @DATSGANModel.py:213]\u001b[0m \u001b[91mCreating cell for native-country (in-edges: 1; ancestors: 12)\n",
      "\u001b[32m[0103 15:06:14 @registry.py:126]\u001b[0m gen/LSTM/native-country/FC input: [500, 100]\n",
      "\u001b[32m[0103 15:06:14 @registry.py:134]\u001b[0m gen/LSTM/native-country/FC output: [500, 50]\n",
      "\u001b[32m[0103 15:06:14 @registry.py:126]\u001b[0m gen/LSTM/native-country/FC_prob input: [500, 50]\n",
      "\u001b[32m[0103 15:06:14 @registry.py:134]\u001b[0m gen/LSTM/native-country/FC_prob output: [500, 41]\n",
      "\u001b[32m[0103 15:06:14 @registry.py:126]\u001b[0m gen/LSTM/native-country/FC_input input: [500, 41]\n",
      "\u001b[32m[0103 15:06:14 @registry.py:134]\u001b[0m gen/LSTM/native-country/FC_input output: [500, 100]\n",
      "\u001b[32m[0103 15:06:14 @DATSGANModel.py:213]\u001b[0m \u001b[91mCreating cell for income (in-edges: 1; ancestors: 13)\n",
      "\u001b[32m[0103 15:06:14 @registry.py:126]\u001b[0m gen/LSTM/income/FC input: [500, 100]\n",
      "\u001b[32m[0103 15:06:14 @registry.py:134]\u001b[0m gen/LSTM/income/FC output: [500, 50]\n",
      "\u001b[32m[0103 15:06:14 @registry.py:126]\u001b[0m gen/LSTM/income/FC_prob input: [500, 50]\n",
      "\u001b[32m[0103 15:06:14 @registry.py:134]\u001b[0m gen/LSTM/income/FC_prob output: [500, 2]\n",
      "\u001b[32m[0103 15:06:14 @registry.py:126]\u001b[0m gen/LSTM/income/FC_input input: [500, 2]\n",
      "\u001b[32m[0103 15:06:14 @registry.py:134]\u001b[0m gen/LSTM/income/FC_input output: [500, 100]\n",
      "WARNING:tensorflow:From C:\\Users\\glede\\Documents\\EPFL\\PhD\\SynthPop\\code\\modules\\datgan\\models\\DATSGANModel.py:542: The name tf.random_uniform is deprecated. Please use tf.random.uniform instead.\n",
      "\n",
      "WARNING:tensorflow:From C:\\Users\\glede\\Documents\\EPFL\\PhD\\SynthPop\\code\\modules\\datgan\\models\\DATSGANModel.py:479: The name tf.log is deprecated. Please use tf.math.log instead.\n",
      "\n",
      "\u001b[32m[0103 15:06:14 @registry.py:126]\u001b[0m discrim/DISCR_FC_0/FC input: [500, 156]\n",
      "\u001b[32m[0103 15:06:14 @registry.py:134]\u001b[0m discrim/DISCR_FC_0/FC output: [500, 100]\n",
      "\u001b[32m[0103 15:06:14 @registry.py:126]\u001b[0m discrim/DISCR_FC_0/FC_DIVERSITY input: [500, 100]\n",
      "\u001b[32m[0103 15:06:14 @registry.py:134]\u001b[0m discrim/DISCR_FC_0/FC_DIVERSITY output: [500, 100]\n",
      "WARNING:tensorflow:From D:\\Users\\glede\\anaconda3\\envs\\py37\\lib\\site-packages\\tensorpack\\models\\batch_norm.py:204: The name tf.layers.BatchNormalization is deprecated. Please use tf.compat.v1.layers.BatchNormalization instead.\n",
      "\n",
      "WARNING:tensorflow:From D:\\Users\\glede\\anaconda3\\envs\\py37\\lib\\site-packages\\tensorpack\\tfutils\\collection.py:45: The name tf.get_collection_ref is deprecated. Please use tf.compat.v1.get_collection_ref instead.\n",
      "\n",
      "\u001b[32m[0103 15:06:14 @registry.py:126]\u001b[0m discrim/DISCR_FC_TOP input: [500, 110]\n",
      "\u001b[32m[0103 15:06:14 @registry.py:134]\u001b[0m discrim/DISCR_FC_TOP output: [500, 1]\n",
      "WARNING:tensorflow:From D:\\Users\\glede\\anaconda3\\envs\\py37\\lib\\site-packages\\tensorpack\\tfutils\\sessinit.py:120: The name tf.train.NewCheckpointReader is deprecated. Please use tf.compat.v1.train.NewCheckpointReader instead.\n",
      "\n",
      "WARNING:tensorflow:From D:\\Users\\glede\\anaconda3\\envs\\py37\\lib\\site-packages\\tensorpack\\tfutils\\sessinit.py:127: The name tf.global_variables is deprecated. Please use tf.compat.v1.global_variables instead.\n",
      "\n",
      "\u001b[32m[0103 15:06:14 @sessinit.py:87]\u001b[0m \u001b[5m\u001b[31mWRN\u001b[0m The following variables are in the checkpoint, but not found in the graph: global_step\n",
      "WARNING:tensorflow:From D:\\Users\\glede\\anaconda3\\envs\\py37\\lib\\site-packages\\tensorpack\\tfutils\\sessinit.py:111: The name tf.train.Saver is deprecated. Please use tf.compat.v1.train.Saver instead.\n",
      "\n"
     ]
    },
    {
     "name": "stdout",
     "output_type": "stream",
     "text": [
      "WARNING:tensorflow:From D:\\Users\\glede\\anaconda3\\envs\\py37\\lib\\site-packages\\tensorflow_core\\python\\ops\\array_ops.py:1475: where (from tensorflow.python.ops.array_ops) is deprecated and will be removed in a future version.\n",
      "Instructions for updating:\n",
      "Use tf.where in 2.0, which has the same broadcast rule as np.where\n",
      "INFO:tensorflow:Graph was finalized.\n",
      "INFO:tensorflow:Running local_init_op.\n",
      "INFO:tensorflow:Done running local_init_op.\n",
      "\u001b[32m[0103 15:06:15 @sessinit.py:114]\u001b[0m Restoring checkpoint from ../output/adult/LINEAR_01/model\\model-134999 ...\n",
      "INFO:tensorflow:Restoring parameters from ../output/adult/LINEAR_01/model\\model-134999\n",
      "\u001b[32m[0103 15:06:15 @DATSGAN.py:267]\u001b[0m Loading Preprocessor!\n"
     ]
    },
    {
     "name": "stderr",
     "output_type": "stream",
     "text": [
      "|                                                                                         |90/?[00:00<00:00,105.77it/s]\n"
     ]
    },
    {
     "name": "stdout",
     "output_type": "stream",
     "text": [
      "\u001b[32m[0103 15:06:17 @DATSGAN.py:267]\u001b[0m Loading Preprocessor!\n"
     ]
    },
    {
     "name": "stderr",
     "output_type": "stream",
     "text": [
      "|                                                                                         |90/?[00:00<00:00,166.26it/s]\n"
     ]
    },
    {
     "name": "stdout",
     "output_type": "stream",
     "text": [
      "\u001b[32m[0103 15:06:17 @DATSGAN.py:267]\u001b[0m Loading Preprocessor!\n"
     ]
    },
    {
     "name": "stderr",
     "output_type": "stream",
     "text": [
      "|                                                                                         |90/?[00:00<00:00,167.71it/s]\n"
     ]
    },
    {
     "name": "stdout",
     "output_type": "stream",
     "text": [
      "\u001b[32m[0103 15:06:18 @DATSGAN.py:267]\u001b[0m Loading Preprocessor!\n"
     ]
    },
    {
     "name": "stderr",
     "output_type": "stream",
     "text": [
      "|                                                                                         |90/?[00:00<00:00,167.71it/s]\n"
     ]
    },
    {
     "name": "stdout",
     "output_type": "stream",
     "text": [
      "\u001b[32m[0103 15:06:19 @DATSGAN.py:267]\u001b[0m Loading Preprocessor!\n"
     ]
    },
    {
     "name": "stderr",
     "output_type": "stream",
     "text": [
      "|                                                                                         |90/?[00:00<00:00,164.66it/s]\n"
     ]
    },
    {
     "name": "stdout",
     "output_type": "stream",
     "text": [
      "Sampling synthetic data from model \u001b[1mLINEAR_02\u001b[0m (2/5)\n",
      "\u001b[32m[0103 15:06:25 @DATSGANModel.py:213]\u001b[0m \u001b[91mCreating cell for age (in-edges: 0; ancestors: 0)\n",
      "\u001b[32m[0103 15:06:25 @DATSGANModel.py:213]\u001b[0m \u001b[91mCreating cell for workclass (in-edges: 1; ancestors: 1)\n",
      "\u001b[32m[0103 15:06:25 @DATSGANModel.py:213]\u001b[0m \u001b[91mCreating cell for education (in-edges: 1; ancestors: 2)\n",
      "\u001b[32m[0103 15:06:25 @DATSGANModel.py:213]\u001b[0m \u001b[91mCreating cell for educational-num (in-edges: 1; ancestors: 3)\n",
      "\u001b[32m[0103 15:06:25 @DATSGANModel.py:213]\u001b[0m \u001b[91mCreating cell for marital-status (in-edges: 1; ancestors: 4)\n",
      "\u001b[32m[0103 15:06:25 @DATSGANModel.py:213]\u001b[0m \u001b[91mCreating cell for occupation (in-edges: 1; ancestors: 5)\n",
      "\u001b[32m[0103 15:06:25 @DATSGANModel.py:213]\u001b[0m \u001b[91mCreating cell for relationship (in-edges: 1; ancestors: 6)\n",
      "\u001b[32m[0103 15:06:25 @DATSGANModel.py:213]\u001b[0m \u001b[91mCreating cell for race (in-edges: 1; ancestors: 7)\n",
      "\u001b[32m[0103 15:06:25 @DATSGANModel.py:213]\u001b[0m \u001b[91mCreating cell for gender (in-edges: 1; ancestors: 8)\n",
      "\u001b[32m[0103 15:06:25 @DATSGANModel.py:213]\u001b[0m \u001b[91mCreating cell for capital-gain (in-edges: 1; ancestors: 9)\n",
      "\u001b[32m[0103 15:06:25 @DATSGANModel.py:213]\u001b[0m \u001b[91mCreating cell for capital-loss (in-edges: 1; ancestors: 10)\n",
      "\u001b[32m[0103 15:06:26 @DATSGANModel.py:213]\u001b[0m \u001b[91mCreating cell for hours-per-week (in-edges: 1; ancestors: 11)\n",
      "\u001b[32m[0103 15:06:26 @DATSGANModel.py:213]\u001b[0m \u001b[91mCreating cell for native-country (in-edges: 1; ancestors: 12)\n",
      "\u001b[32m[0103 15:06:26 @DATSGANModel.py:213]\u001b[0m \u001b[91mCreating cell for income (in-edges: 1; ancestors: 13)\n",
      "\u001b[32m[0103 15:06:26 @sessinit.py:87]\u001b[0m \u001b[5m\u001b[31mWRN\u001b[0m The following variables are in the checkpoint, but not found in the graph: global_step\n",
      "INFO:tensorflow:Graph was finalized.\n",
      "INFO:tensorflow:Running local_init_op.\n",
      "INFO:tensorflow:Done running local_init_op.\n",
      "\u001b[32m[0103 15:06:27 @sessinit.py:114]\u001b[0m Restoring checkpoint from ../output/adult/LINEAR_02/model\\model-134999 ...\n",
      "INFO:tensorflow:Restoring parameters from ../output/adult/LINEAR_02/model\\model-134999\n",
      "\u001b[32m[0103 15:06:27 @DATSGAN.py:267]\u001b[0m Loading Preprocessor!\n"
     ]
    },
    {
     "name": "stderr",
     "output_type": "stream",
     "text": [
      "|                                                                                         |90/?[00:00<00:00,122.90it/s]\n"
     ]
    },
    {
     "name": "stdout",
     "output_type": "stream",
     "text": [
      "\u001b[32m[0103 15:06:28 @DATSGAN.py:267]\u001b[0m Loading Preprocessor!\n"
     ]
    },
    {
     "name": "stderr",
     "output_type": "stream",
     "text": [
      "|                                                                                         |90/?[00:00<00:00,167.24it/s]\n"
     ]
    },
    {
     "name": "stdout",
     "output_type": "stream",
     "text": [
      "\u001b[32m[0103 15:06:29 @DATSGAN.py:267]\u001b[0m Loading Preprocessor!\n"
     ]
    },
    {
     "name": "stderr",
     "output_type": "stream",
     "text": [
      "|                                                                                         |90/?[00:00<00:00,157.78it/s]\n"
     ]
    },
    {
     "name": "stdout",
     "output_type": "stream",
     "text": [
      "\u001b[32m[0103 15:06:30 @DATSGAN.py:267]\u001b[0m Loading Preprocessor!\n"
     ]
    },
    {
     "name": "stderr",
     "output_type": "stream",
     "text": [
      "|                                                                                         |90/?[00:00<00:00,155.62it/s]\n"
     ]
    },
    {
     "name": "stdout",
     "output_type": "stream",
     "text": [
      "\u001b[32m[0103 15:06:30 @DATSGAN.py:267]\u001b[0m Loading Preprocessor!\n"
     ]
    },
    {
     "name": "stderr",
     "output_type": "stream",
     "text": [
      "|                                                                                         |90/?[00:00<00:00,162.34it/s]\n"
     ]
    },
    {
     "name": "stdout",
     "output_type": "stream",
     "text": [
      "Sampling synthetic data from model \u001b[1mLINEAR_03\u001b[0m (3/5)\n",
      "\u001b[32m[0103 15:06:37 @DATSGANModel.py:213]\u001b[0m \u001b[91mCreating cell for age (in-edges: 0; ancestors: 0)\n",
      "\u001b[32m[0103 15:06:37 @DATSGANModel.py:213]\u001b[0m \u001b[91mCreating cell for workclass (in-edges: 1; ancestors: 1)\n",
      "\u001b[32m[0103 15:06:37 @DATSGANModel.py:213]\u001b[0m \u001b[91mCreating cell for education (in-edges: 1; ancestors: 2)\n",
      "\u001b[32m[0103 15:06:37 @DATSGANModel.py:213]\u001b[0m \u001b[91mCreating cell for educational-num (in-edges: 1; ancestors: 3)\n",
      "\u001b[32m[0103 15:06:37 @DATSGANModel.py:213]\u001b[0m \u001b[91mCreating cell for marital-status (in-edges: 1; ancestors: 4)\n",
      "\u001b[32m[0103 15:06:37 @DATSGANModel.py:213]\u001b[0m \u001b[91mCreating cell for occupation (in-edges: 1; ancestors: 5)\n",
      "\u001b[32m[0103 15:06:37 @DATSGANModel.py:213]\u001b[0m \u001b[91mCreating cell for relationship (in-edges: 1; ancestors: 6)\n",
      "\u001b[32m[0103 15:06:37 @DATSGANModel.py:213]\u001b[0m \u001b[91mCreating cell for race (in-edges: 1; ancestors: 7)\n",
      "\u001b[32m[0103 15:06:38 @DATSGANModel.py:213]\u001b[0m \u001b[91mCreating cell for gender (in-edges: 1; ancestors: 8)\n",
      "\u001b[32m[0103 15:06:38 @DATSGANModel.py:213]\u001b[0m \u001b[91mCreating cell for capital-gain (in-edges: 1; ancestors: 9)\n",
      "\u001b[32m[0103 15:06:38 @DATSGANModel.py:213]\u001b[0m \u001b[91mCreating cell for capital-loss (in-edges: 1; ancestors: 10)\n",
      "\u001b[32m[0103 15:06:38 @DATSGANModel.py:213]\u001b[0m \u001b[91mCreating cell for hours-per-week (in-edges: 1; ancestors: 11)\n",
      "\u001b[32m[0103 15:06:38 @DATSGANModel.py:213]\u001b[0m \u001b[91mCreating cell for native-country (in-edges: 1; ancestors: 12)\n",
      "\u001b[32m[0103 15:06:38 @DATSGANModel.py:213]\u001b[0m \u001b[91mCreating cell for income (in-edges: 1; ancestors: 13)\n",
      "\u001b[32m[0103 15:06:38 @sessinit.py:87]\u001b[0m \u001b[5m\u001b[31mWRN\u001b[0m The following variables are in the checkpoint, but not found in the graph: global_step\n",
      "INFO:tensorflow:Graph was finalized.\n",
      "INFO:tensorflow:Running local_init_op.\n",
      "INFO:tensorflow:Done running local_init_op.\n",
      "\u001b[32m[0103 15:06:40 @sessinit.py:114]\u001b[0m Restoring checkpoint from ../output/adult/LINEAR_03/model\\model-134999 ...\n",
      "INFO:tensorflow:Restoring parameters from ../output/adult/LINEAR_03/model\\model-134999\n",
      "\u001b[32m[0103 15:06:40 @DATSGAN.py:267]\u001b[0m Loading Preprocessor!\n"
     ]
    },
    {
     "name": "stderr",
     "output_type": "stream",
     "text": [
      "|                                                                                          |90/?[00:01<00:00,85.23it/s]\n"
     ]
    },
    {
     "name": "stdout",
     "output_type": "stream",
     "text": [
      "\u001b[32m[0103 15:06:41 @DATSGAN.py:267]\u001b[0m Loading Preprocessor!\n"
     ]
    },
    {
     "name": "stderr",
     "output_type": "stream",
     "text": [
      "|                                                                                         |90/?[00:00<00:00,120.33it/s]\n"
     ]
    },
    {
     "name": "stdout",
     "output_type": "stream",
     "text": [
      "\u001b[32m[0103 15:06:43 @DATSGAN.py:267]\u001b[0m Loading Preprocessor!\n"
     ]
    },
    {
     "name": "stderr",
     "output_type": "stream",
     "text": [
      "|                                                                                         |90/?[00:00<00:00,122.85it/s]\n"
     ]
    },
    {
     "name": "stdout",
     "output_type": "stream",
     "text": [
      "\u001b[32m[0103 15:06:44 @DATSGAN.py:267]\u001b[0m Loading Preprocessor!\n"
     ]
    },
    {
     "name": "stderr",
     "output_type": "stream",
     "text": [
      "|                                                                                         |90/?[00:00<00:00,122.52it/s]\n"
     ]
    },
    {
     "name": "stdout",
     "output_type": "stream",
     "text": [
      "\u001b[32m[0103 15:06:45 @DATSGAN.py:267]\u001b[0m Loading Preprocessor!\n"
     ]
    },
    {
     "name": "stderr",
     "output_type": "stream",
     "text": [
      "|                                                                                         |90/?[00:00<00:00,119.53it/s]\n"
     ]
    },
    {
     "name": "stdout",
     "output_type": "stream",
     "text": [
      "Sampling synthetic data from model \u001b[1mLINEAR_04\u001b[0m (4/5)\n",
      "\u001b[32m[0103 15:06:53 @DATSGANModel.py:213]\u001b[0m \u001b[91mCreating cell for age (in-edges: 0; ancestors: 0)\n",
      "\u001b[32m[0103 15:06:53 @DATSGANModel.py:213]\u001b[0m \u001b[91mCreating cell for workclass (in-edges: 1; ancestors: 1)\n",
      "\u001b[32m[0103 15:06:53 @DATSGANModel.py:213]\u001b[0m \u001b[91mCreating cell for education (in-edges: 1; ancestors: 2)\n",
      "\u001b[32m[0103 15:06:53 @DATSGANModel.py:213]\u001b[0m \u001b[91mCreating cell for educational-num (in-edges: 1; ancestors: 3)\n",
      "\u001b[32m[0103 15:06:53 @DATSGANModel.py:213]\u001b[0m \u001b[91mCreating cell for marital-status (in-edges: 1; ancestors: 4)\n",
      "\u001b[32m[0103 15:06:53 @DATSGANModel.py:213]\u001b[0m \u001b[91mCreating cell for occupation (in-edges: 1; ancestors: 5)\n",
      "\u001b[32m[0103 15:06:53 @DATSGANModel.py:213]\u001b[0m \u001b[91mCreating cell for relationship (in-edges: 1; ancestors: 6)\n",
      "\u001b[32m[0103 15:06:53 @DATSGANModel.py:213]\u001b[0m \u001b[91mCreating cell for race (in-edges: 1; ancestors: 7)\n",
      "\u001b[32m[0103 15:06:53 @DATSGANModel.py:213]\u001b[0m \u001b[91mCreating cell for gender (in-edges: 1; ancestors: 8)\n",
      "\u001b[32m[0103 15:06:53 @DATSGANModel.py:213]\u001b[0m \u001b[91mCreating cell for capital-gain (in-edges: 1; ancestors: 9)\n",
      "\u001b[32m[0103 15:06:53 @DATSGANModel.py:213]\u001b[0m \u001b[91mCreating cell for capital-loss (in-edges: 1; ancestors: 10)\n",
      "\u001b[32m[0103 15:06:54 @DATSGANModel.py:213]\u001b[0m \u001b[91mCreating cell for hours-per-week (in-edges: 1; ancestors: 11)\n",
      "\u001b[32m[0103 15:06:54 @DATSGANModel.py:213]\u001b[0m \u001b[91mCreating cell for native-country (in-edges: 1; ancestors: 12)\n",
      "\u001b[32m[0103 15:06:54 @DATSGANModel.py:213]\u001b[0m \u001b[91mCreating cell for income (in-edges: 1; ancestors: 13)\n",
      "\u001b[32m[0103 15:06:54 @sessinit.py:87]\u001b[0m \u001b[5m\u001b[31mWRN\u001b[0m The following variables are in the checkpoint, but not found in the graph: global_step\n",
      "INFO:tensorflow:Graph was finalized.\n",
      "INFO:tensorflow:Running local_init_op.\n",
      "INFO:tensorflow:Done running local_init_op.\n",
      "\u001b[32m[0103 15:06:55 @sessinit.py:114]\u001b[0m Restoring checkpoint from ../output/adult/LINEAR_04/model\\model-134999 ...\n",
      "INFO:tensorflow:Restoring parameters from ../output/adult/LINEAR_04/model\\model-134999\n",
      "\u001b[32m[0103 15:06:56 @DATSGAN.py:267]\u001b[0m Loading Preprocessor!\n"
     ]
    },
    {
     "name": "stderr",
     "output_type": "stream",
     "text": [
      "|                                                                                          |90/?[00:01<00:00,84.32it/s]\n"
     ]
    },
    {
     "name": "stdout",
     "output_type": "stream",
     "text": [
      "\u001b[32m[0103 15:06:57 @DATSGAN.py:267]\u001b[0m Loading Preprocessor!\n"
     ]
    },
    {
     "name": "stderr",
     "output_type": "stream",
     "text": [
      "|                                                                                         |90/?[00:00<00:00,119.69it/s]\n"
     ]
    },
    {
     "name": "stdout",
     "output_type": "stream",
     "text": [
      "\u001b[32m[0103 15:06:58 @DATSGAN.py:267]\u001b[0m Loading Preprocessor!\n"
     ]
    },
    {
     "name": "stderr",
     "output_type": "stream",
     "text": [
      "|                                                                                         |90/?[00:00<00:00,117.22it/s]\n"
     ]
    },
    {
     "name": "stdout",
     "output_type": "stream",
     "text": [
      "\u001b[32m[0103 15:07:00 @DATSGAN.py:267]\u001b[0m Loading Preprocessor!\n"
     ]
    },
    {
     "name": "stderr",
     "output_type": "stream",
     "text": [
      "|                                                                                         |90/?[00:00<00:00,117.98it/s]\n"
     ]
    },
    {
     "name": "stdout",
     "output_type": "stream",
     "text": [
      "\u001b[32m[0103 15:07:01 @DATSGAN.py:267]\u001b[0m Loading Preprocessor!\n"
     ]
    },
    {
     "name": "stderr",
     "output_type": "stream",
     "text": [
      "|                                                                                         |90/?[00:00<00:00,116.09it/s]\n"
     ]
    },
    {
     "name": "stdout",
     "output_type": "stream",
     "text": [
      "Sampling synthetic data from model \u001b[1mLINEAR_05\u001b[0m (5/5)\n",
      "\u001b[32m[0103 15:07:08 @DATSGANModel.py:213]\u001b[0m \u001b[91mCreating cell for age (in-edges: 0; ancestors: 0)\n",
      "\u001b[32m[0103 15:07:09 @DATSGANModel.py:213]\u001b[0m \u001b[91mCreating cell for workclass (in-edges: 1; ancestors: 1)\n",
      "\u001b[32m[0103 15:07:09 @DATSGANModel.py:213]\u001b[0m \u001b[91mCreating cell for education (in-edges: 1; ancestors: 2)\n",
      "\u001b[32m[0103 15:07:09 @DATSGANModel.py:213]\u001b[0m \u001b[91mCreating cell for educational-num (in-edges: 1; ancestors: 3)\n",
      "\u001b[32m[0103 15:07:09 @DATSGANModel.py:213]\u001b[0m \u001b[91mCreating cell for marital-status (in-edges: 1; ancestors: 4)\n",
      "\u001b[32m[0103 15:07:09 @DATSGANModel.py:213]\u001b[0m \u001b[91mCreating cell for occupation (in-edges: 1; ancestors: 5)\n",
      "\u001b[32m[0103 15:07:09 @DATSGANModel.py:213]\u001b[0m \u001b[91mCreating cell for relationship (in-edges: 1; ancestors: 6)\n",
      "\u001b[32m[0103 15:07:09 @DATSGANModel.py:213]\u001b[0m \u001b[91mCreating cell for race (in-edges: 1; ancestors: 7)\n",
      "\u001b[32m[0103 15:07:09 @DATSGANModel.py:213]\u001b[0m \u001b[91mCreating cell for gender (in-edges: 1; ancestors: 8)\n",
      "\u001b[32m[0103 15:07:09 @DATSGANModel.py:213]\u001b[0m \u001b[91mCreating cell for capital-gain (in-edges: 1; ancestors: 9)\n",
      "\u001b[32m[0103 15:07:09 @DATSGANModel.py:213]\u001b[0m \u001b[91mCreating cell for capital-loss (in-edges: 1; ancestors: 10)\n",
      "\u001b[32m[0103 15:07:09 @DATSGANModel.py:213]\u001b[0m \u001b[91mCreating cell for hours-per-week (in-edges: 1; ancestors: 11)\n",
      "\u001b[32m[0103 15:07:09 @DATSGANModel.py:213]\u001b[0m \u001b[91mCreating cell for native-country (in-edges: 1; ancestors: 12)\n",
      "\u001b[32m[0103 15:07:09 @DATSGANModel.py:213]\u001b[0m \u001b[91mCreating cell for income (in-edges: 1; ancestors: 13)\n",
      "\u001b[32m[0103 15:07:10 @sessinit.py:87]\u001b[0m \u001b[5m\u001b[31mWRN\u001b[0m The following variables are in the checkpoint, but not found in the graph: global_step\n",
      "INFO:tensorflow:Graph was finalized.\n",
      "INFO:tensorflow:Running local_init_op.\n",
      "INFO:tensorflow:Done running local_init_op.\n",
      "\u001b[32m[0103 15:07:11 @sessinit.py:114]\u001b[0m Restoring checkpoint from ../output/adult/LINEAR_05/model\\model-134999 ...\n",
      "INFO:tensorflow:Restoring parameters from ../output/adult/LINEAR_05/model\\model-134999\n",
      "\u001b[32m[0103 15:07:11 @DATSGAN.py:267]\u001b[0m Loading Preprocessor!\n"
     ]
    },
    {
     "name": "stderr",
     "output_type": "stream",
     "text": [
      "|                                                                                          |90/?[00:01<00:00,85.75it/s]\n"
     ]
    },
    {
     "name": "stdout",
     "output_type": "stream",
     "text": [
      "\u001b[32m[0103 15:07:13 @DATSGAN.py:267]\u001b[0m Loading Preprocessor!\n"
     ]
    },
    {
     "name": "stderr",
     "output_type": "stream",
     "text": [
      "|                                                                                         |90/?[00:00<00:00,121.70it/s]\n"
     ]
    },
    {
     "name": "stdout",
     "output_type": "stream",
     "text": [
      "\u001b[32m[0103 15:07:14 @DATSGAN.py:267]\u001b[0m Loading Preprocessor!\n"
     ]
    },
    {
     "name": "stderr",
     "output_type": "stream",
     "text": [
      "|                                                                                         |90/?[00:00<00:00,118.60it/s]\n"
     ]
    },
    {
     "name": "stdout",
     "output_type": "stream",
     "text": [
      "\u001b[32m[0103 15:07:15 @DATSGAN.py:267]\u001b[0m Loading Preprocessor!\n"
     ]
    },
    {
     "name": "stderr",
     "output_type": "stream",
     "text": [
      "|                                                                                         |90/?[00:00<00:00,127.78it/s]\n"
     ]
    },
    {
     "name": "stdout",
     "output_type": "stream",
     "text": [
      "\u001b[32m[0103 15:07:16 @DATSGAN.py:267]\u001b[0m Loading Preprocessor!\n"
     ]
    },
    {
     "name": "stderr",
     "output_type": "stream",
     "text": [
      "|                                                                                         |90/?[00:00<00:00,123.77it/s]\n"
     ]
    },
    {
     "name": "stdout",
     "output_type": "stream",
     "text": [
      "\u001b[1mFINISHED!\u001b[0m\n"
     ]
    }
   ],
   "source": [
    "for i, m in enumerate(models):\n",
    "    \n",
    "    name = m.split('_')[0]\n",
    "    \n",
    "    print(\"Sampling synthetic data from model \\033[1m{}\\033[0m ({}/{})\".format(m, i+1, len(models)))\n",
    "\n",
    "    \n",
    "    model = None\n",
    "\n",
    "    if 'CTGAN' in name:\n",
    "        import ctgan\n",
    "        from ctgan import CTGANSynthesizer\n",
    "        \n",
    "        ctgan = CTGANSynthesizer()\n",
    "        model = ctgan.load(input_folder + m + '/trained.pickle')\n",
    "\n",
    "    elif 'TGAN' in name:\n",
    "        from tgan.model import TGANModel\n",
    "        model = TGANModel.load(input_folder + m + '/trained.pickle')\n",
    "        \n",
    "    elif 'TVAE' in name:\n",
    "        from ctgan import TVAESynthesizer\n",
    "        \n",
    "        tvae = TVAESynthesizer()\n",
    "        model = tvae.load(input_folder + m + '/trained.pickle')\n",
    "        \n",
    "    elif 'CTABGAN' in name:\n",
    "        from CTABGAN.model.ctabgan import CTABGAN\n",
    "        \n",
    "        with open(input_folder + m + '/trained.pickle', 'rb') as handle:\n",
    "            model = pickle.load(handle)\n",
    "    else:\n",
    "\n",
    "        LIB = None\n",
    "\n",
    "        if 'WGAN' in name:\n",
    "            from modules.datgan import DATWGAN as LIB\n",
    "        if any(x in name for x in ('WGANGP','WGGP')) :\n",
    "            from modules.datgan import DATWGANGP as LIB\n",
    "        elif 'SGAN' in name:\n",
    "            from modules.datgan import DATSGAN as LIB\n",
    "        else:\n",
    "            from modules.datgan import DATWGAN as LIB\n",
    "\n",
    "        model = LIB.load(input_folder + m + '/', 'trained')\n",
    "    \n",
    "    for k in range(n_data):\n",
    "            \n",
    "        if is_a_DATGAN(name):\n",
    "            if any(x in dataset for x in ['Chicago', 'LPMC']):\n",
    "                samp_types =  ['NO', 'BO', 'OD', 'OC']\n",
    "            else:\n",
    "                samp_types = ['NO']\n",
    "                \n",
    "            for samp_type in samp_types:\n",
    "                samples = model.sample(len(df), samp_type)\n",
    "\n",
    "                samples = round_some_vars(samples, dataset)\n",
    "                if 'LINEAR' in m:\n",
    "                    if n_data == 1:\n",
    "                        samples.to_csv(output_folder + m + '.csv', index=False)\n",
    "                    else:\n",
    "                        samples.to_csv(output_folder + m + '_{:0>2d}.csv'.format(k+1), index=False)\n",
    "                else:\n",
    "                    if n_data == 1:\n",
    "                        samples.to_csv(output_folder + m + '_{}.csv'.format(samp_type), index=False)\n",
    "                    else:\n",
    "                        samples.to_csv(output_folder + m + '_{}_{:0>2d}.csv'.format(samp_type, k+1), index=False)\n",
    "        elif 'CTABGAN' in name:\n",
    "            samples = model.generate_samples()\n",
    "            \n",
    "            if n_data == 1:\n",
    "                samples.to_csv(output_folder + m + '.csv', index=False)\n",
    "            else:\n",
    "                samples.to_csv(output_folder + m + '_{:0>2d}.csv'.format(k+1), index=False)\n",
    "            \n",
    "        else:\n",
    "            samples = model.sample(len(df))\n",
    "\n",
    "            samples = round_some_vars(samples, dataset)\n",
    "\n",
    "            if n_data == 1:\n",
    "                samples.to_csv(output_folder + m + '.csv', index=False)\n",
    "            else:\n",
    "                samples.to_csv(output_folder + m + '_{:0>2d}.csv'.format(k+1), index=False)\n",
    "                \n",
    "print(\"\\033[1mFINISHED!\\033[0m\")"
   ]
  },
  {
   "cell_type": "code",
   "execution_count": null,
   "metadata": {},
   "outputs": [],
   "source": []
  }
 ],
 "metadata": {
  "kernelspec": {
   "display_name": "Python 3",
   "language": "python",
   "name": "python3"
  },
  "language_info": {
   "codemirror_mode": {
    "name": "ipython",
    "version": 3
   },
   "file_extension": ".py",
   "mimetype": "text/x-python",
   "name": "python",
   "nbconvert_exporter": "python",
   "pygments_lexer": "ipython3",
   "version": "3.7.9"
  }
 },
 "nbformat": 4,
 "nbformat_minor": 4
}
