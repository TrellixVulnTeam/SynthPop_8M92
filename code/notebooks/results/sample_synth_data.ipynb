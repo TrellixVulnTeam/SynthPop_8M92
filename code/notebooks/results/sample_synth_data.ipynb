{
 "cells": [
  {
   "cell_type": "code",
   "execution_count": 1,
   "metadata": {},
   "outputs": [],
   "source": [
    "import os\n",
    "os.chdir('../..')"
   ]
  },
  {
   "cell_type": "code",
   "execution_count": 2,
   "metadata": {},
   "outputs": [],
   "source": [
    "from platform import python_version\n",
    "print(python_version())"
   ]
  },
  {
   "cell_type": "code",
   "execution_count": 3,
   "metadata": {},
   "outputs": [],
   "source": [
    "import numpy as np\n",
    "import pandas as pd\n",
    "import json\n",
    "import sys\n",
    "\n",
    "import matplotlib.pyplot as plt\n",
    "\n",
    "# For the Python notebook\n",
    "%matplotlib inline\n",
    "%reload_ext autoreload\n",
    "%autoreload 2"
   ]
  },
  {
   "cell_type": "code",
   "execution_count": 4,
   "metadata": {},
   "outputs": [],
   "source": [
    "dataset = 'LPMC'\n",
    "n_models = 5\n",
    "n_data = 5\n",
    "\n",
    "models = ['TGAN', 'CTGAN', 'TVAE']\n",
    "\n",
    "for i in ['WGAN', 'SGAN', 'WGGP']:\n",
    "    for j in ['WI', 'OR', 'WO']:\n",
    "        models.append('{}_{}'.format(i,j))\n",
    "        \n",
    "if n_models > 1:\n",
    "    tmp = []\n",
    "    \n",
    "    for i in range(n_models):\n",
    "        for m in models:\n",
    "            tmp.append(m + '_{:0>2d}'.format(i+1))\n",
    "        \n",
    "    tmp.sort()\n",
    "    models = tmp"
   ]
  },
  {
   "cell_type": "code",
   "execution_count": 5,
   "metadata": {},
   "outputs": [],
   "source": [
    "df = pd.read_csv('../data/' + dataset + '/data.csv')"
   ]
  },
  {
   "cell_type": "code",
   "execution_count": 6,
   "metadata": {},
   "outputs": [],
   "source": [
    "input_folder = '../output/' + dataset + '/'\n",
    "output_folder = '../synth_data/' + dataset + '/'"
   ]
  },
  {
   "cell_type": "code",
   "execution_count": 7,
   "metadata": {},
   "outputs": [],
   "source": [
    "def is_a_DATGAN(name):\n",
    "    if any(x in name for x in ['TGAN', 'CTGAN', 'TVAE']):\n",
    "        return False\n",
    "    else:\n",
    "        return True\n",
    "    \n",
    "def round_some_vars(samples, dataset):\n",
    "    if dataset is 'Chicago':\n",
    "        samples.age = np.round(samples.age)\n",
    "    elif dataset is 'LPMC':\n",
    "        samples.age = np.round(samples.age)\n",
    "        samples.distance = np.round(samples.distance)\n",
    "        \n",
    "    return samples"
   ]
  },
  {
   "cell_type": "code",
   "execution_count": 8,
   "metadata": {
    "scrolled": true
   },
   "outputs": [
    {
     "name": "stdout",
     "output_type": "stream",
     "text": [
      "Sampling synthetic data from model \u001b[1mCTGAN_01\u001b[0m (1/60)\n",
      "Sampling synthetic data from model \u001b[1mCTGAN_02\u001b[0m (2/60)\n",
      "Sampling synthetic data from model \u001b[1mCTGAN_03\u001b[0m (3/60)\n",
      "Sampling synthetic data from model \u001b[1mCTGAN_04\u001b[0m (4/60)\n",
      "Sampling synthetic data from model \u001b[1mCTGAN_05\u001b[0m (5/60)\n",
      "Sampling synthetic data from model \u001b[1mSGAN_OR_01\u001b[0m (6/60)\n",
      "WARNING:tensorflow:From D:\\Users\\glede\\anaconda3\\envs\\py37\\lib\\site-packages\\tensorpack\\callbacks\\hooks.py:17: The name tf.train.SessionRunHook is deprecated. Please use tf.estimator.SessionRunHook instead.\n",
      "\n",
      "WARNING:tensorflow:From D:\\Users\\glede\\anaconda3\\envs\\py37\\lib\\site-packages\\tensorpack\\tfutils\\optimizer.py:18: The name tf.train.Optimizer is deprecated. Please use tf.compat.v1.train.Optimizer instead.\n",
      "\n",
      "WARNING:tensorflow:From D:\\Users\\glede\\anaconda3\\envs\\py37\\lib\\site-packages\\tensorpack\\tfutils\\sesscreate.py:20: The name tf.train.SessionCreator is deprecated. Please use tf.compat.v1.train.SessionCreator instead.\n",
      "\n",
      "WARNING:tensorflow:From D:\\Users\\glede\\anaconda3\\envs\\py37\\lib\\site-packages\\tensorpack\\tfutils\\varmanip.py:178: The name tf.gfile.Exists is deprecated. Please use tf.io.gfile.exists instead.\n",
      "\n",
      "WARNING:tensorflow:From D:\\Users\\glede\\anaconda3\\envs\\py37\\lib\\site-packages\\tensorpack\\predict\\config.py:101: The name tf.train.ChiefSessionCreator is deprecated. Please use tf.compat.v1.train.ChiefSessionCreator instead.\n",
      "\n",
      "WARNING:tensorflow:From D:\\Users\\glede\\anaconda3\\envs\\py37\\lib\\site-packages\\tensorpack\\tfutils\\common.py:41: The name tf.ConfigProto is deprecated. Please use tf.compat.v1.ConfigProto instead.\n",
      "\n",
      "WARNING:tensorflow:From D:\\Users\\glede\\anaconda3\\envs\\py37\\lib\\site-packages\\tensorpack\\graph_builder\\model_desc.py:29: The name tf.get_default_graph is deprecated. Please use tf.compat.v1.get_default_graph instead.\n",
      "\n",
      "WARNING:tensorflow:From D:\\Users\\glede\\anaconda3\\envs\\py37\\lib\\site-packages\\tensorpack\\graph_builder\\model_desc.py:39: The name tf.placeholder is deprecated. Please use tf.compat.v1.placeholder instead.\n",
      "\n",
      "WARNING:tensorflow:From D:\\Users\\glede\\anaconda3\\envs\\py37\\lib\\site-packages\\tensorpack\\tfutils\\tower.py:204: The name tf.get_variable_scope is deprecated. Please use tf.compat.v1.get_variable_scope instead.\n",
      "\n",
      "WARNING:tensorflow:From D:\\Users\\glede\\anaconda3\\envs\\py37\\lib\\site-packages\\tensorpack\\tfutils\\tower.py:216: The name tf.GraphKeys is deprecated. Please use tf.compat.v1.GraphKeys instead.\n",
      "\n",
      "WARNING:tensorflow:From D:\\Users\\glede\\anaconda3\\envs\\py37\\lib\\site-packages\\tensorpack\\tfutils\\tower.py:101: The name tf.variable_scope is deprecated. Please use tf.compat.v1.variable_scope instead.\n",
      "\n",
      "WARNING:tensorflow:From D:\\Users\\glede\\anaconda3\\envs\\py37\\lib\\site-packages\\tensorpack\\tfutils\\collection.py:33: The name tf.get_collection is deprecated. Please use tf.compat.v1.get_collection instead.\n",
      "\n",
      "WARNING:tensorflow:From C:\\Users\\glede\\Documents\\EPFL\\PhD\\SynthPop\\code\\modules\\datgan\\models\\DATSGANModel.py:517: The name tf.random_normal is deprecated. Please use tf.random.normal instead.\n",
      "\n",
      "WARNING:tensorflow:From C:\\Users\\glede\\Documents\\EPFL\\PhD\\SynthPop\\code\\modules\\datgan\\models\\DATSGANModel.py:518: The name tf.placeholder_with_default is deprecated. Please use tf.compat.v1.placeholder_with_default instead.\n",
      "\n",
      "WARNING:tensorflow:From C:\\Users\\glede\\Documents\\EPFL\\PhD\\SynthPop\\code\\modules\\datgan\\models\\DATSGANModel.py:207: LSTMCell.__init__ (from tensorflow.python.ops.rnn_cell_impl) is deprecated and will be removed in a future version.\n",
      "Instructions for updating:\n",
      "This class is equivalent as tf.keras.layers.LSTMCell, and will be replaced by that in Tensorflow 2.0.\n",
      "\u001b[32m[1217 10:22:21 @DATSGANModel.py:213]\u001b[0m \u001b[91mCreating cell for travel_year (in-edges: 0; ancestors: 0)\n",
      "WARNING:tensorflow:From C:\\Users\\glede\\Documents\\EPFL\\PhD\\SynthPop\\code\\modules\\datgan\\models\\DATSGANModel.py:224: The name tf.get_variable is deprecated. Please use tf.compat.v1.get_variable instead.\n",
      "\n",
      "WARNING:tensorflow:From D:\\Users\\glede\\anaconda3\\envs\\py37\\lib\\site-packages\\tensorflow_core\\python\\ops\\rnn_cell_impl.py:958: Layer.add_variable (from tensorflow.python.keras.engine.base_layer) is deprecated and will be removed in a future version.\n",
      "Instructions for updating:\n",
      "Please use `layer.add_weight` method instead.\n",
      "WARNING:tensorflow:From D:\\Users\\glede\\anaconda3\\envs\\py37\\lib\\site-packages\\tensorflow_core\\python\\ops\\rnn_cell_impl.py:962: calling Zeros.__init__ (from tensorflow.python.ops.init_ops) with dtype is deprecated and will be removed in a future version.\n",
      "Instructions for updating:\n",
      "Call initializer instance with the dtype argument instead of passing it to the constructor\n",
      "\u001b[32m[1217 10:22:21 @registry.py:126]\u001b[0m gen/LSTM/travel_year/FC input: [500, 100]\n",
      "WARNING:tensorflow:From D:\\Users\\glede\\anaconda3\\envs\\py37\\lib\\site-packages\\tensorpack\\models\\fc.py:57: The name tf.layers.Dense is deprecated. Please use tf.compat.v1.layers.Dense instead.\n",
      "\n",
      "WARNING:tensorflow:From D:\\Users\\glede\\anaconda3\\envs\\py37\\lib\\site-packages\\tensorpack\\models\\fc.py:67: Layer.apply (from tensorflow.python.keras.engine.base_layer) is deprecated and will be removed in a future version.\n",
      "Instructions for updating:\n",
      "Please use `layer.__call__` method instead.\n",
      "\u001b[32m[1217 10:22:21 @registry.py:134]\u001b[0m gen/LSTM/travel_year/FC output: [500, 50]\n",
      "\u001b[32m[1217 10:22:21 @registry.py:126]\u001b[0m gen/LSTM/travel_year/FC_prob input: [500, 50]\n",
      "\u001b[32m[1217 10:22:21 @registry.py:134]\u001b[0m gen/LSTM/travel_year/FC_prob output: [500, 4]\n",
      "\u001b[32m[1217 10:22:21 @registry.py:126]\u001b[0m gen/LSTM/travel_year/FC_input input: [500, 4]\n",
      "\u001b[32m[1217 10:22:21 @registry.py:134]\u001b[0m gen/LSTM/travel_year/FC_input output: [500, 100]\n",
      "\u001b[32m[1217 10:22:21 @DATSGANModel.py:213]\u001b[0m \u001b[91mCreating cell for car_ownership (in-edges: 0; ancestors: 0)\n",
      "\u001b[32m[1217 10:22:21 @registry.py:126]\u001b[0m gen/LSTM/car_ownership/FC input: [500, 100]\n",
      "\u001b[32m[1217 10:22:21 @registry.py:134]\u001b[0m gen/LSTM/car_ownership/FC output: [500, 50]\n",
      "\u001b[32m[1217 10:22:21 @registry.py:126]\u001b[0m gen/LSTM/car_ownership/FC_prob input: [500, 50]\n",
      "\u001b[32m[1217 10:22:21 @registry.py:134]\u001b[0m gen/LSTM/car_ownership/FC_prob output: [500, 3]\n",
      "\u001b[32m[1217 10:22:21 @registry.py:126]\u001b[0m gen/LSTM/car_ownership/FC_input input: [500, 3]\n",
      "\u001b[32m[1217 10:22:21 @registry.py:134]\u001b[0m gen/LSTM/car_ownership/FC_input output: [500, 100]\n",
      "\u001b[32m[1217 10:22:21 @DATSGANModel.py:213]\u001b[0m \u001b[91mCreating cell for female (in-edges: 0; ancestors: 0)\n",
      "\u001b[32m[1217 10:22:21 @registry.py:126]\u001b[0m gen/LSTM/female/FC input: [500, 100]\n",
      "\u001b[32m[1217 10:22:21 @registry.py:134]\u001b[0m gen/LSTM/female/FC output: [500, 50]\n",
      "\u001b[32m[1217 10:22:21 @registry.py:126]\u001b[0m gen/LSTM/female/FC_prob input: [500, 50]\n",
      "\u001b[32m[1217 10:22:21 @registry.py:134]\u001b[0m gen/LSTM/female/FC_prob output: [500, 2]\n",
      "\u001b[32m[1217 10:22:21 @registry.py:126]\u001b[0m gen/LSTM/female/FC_input input: [500, 2]\n",
      "\u001b[32m[1217 10:22:21 @registry.py:134]\u001b[0m gen/LSTM/female/FC_input output: [500, 100]\n",
      "\u001b[32m[1217 10:22:21 @DATSGANModel.py:213]\u001b[0m \u001b[91mCreating cell for age (in-edges: 0; ancestors: 0)\n",
      "\u001b[32m[1217 10:22:21 @registry.py:126]\u001b[0m gen/LSTM/age/FC input: [500, 100]\n",
      "\u001b[32m[1217 10:22:21 @registry.py:134]\u001b[0m gen/LSTM/age/FC output: [500, 50]\n",
      "\u001b[32m[1217 10:22:21 @registry.py:126]\u001b[0m gen/LSTM/age/FC_val input: [500, 50]\n",
      "\u001b[32m[1217 10:22:21 @registry.py:134]\u001b[0m gen/LSTM/age/FC_val output: [500, 6]\n",
      "\u001b[32m[1217 10:22:21 @registry.py:126]\u001b[0m gen/LSTM/age/FC_prob input: [500, 50]\n",
      "\u001b[32m[1217 10:22:21 @registry.py:134]\u001b[0m gen/LSTM/age/FC_prob output: [500, 6]\n",
      "\u001b[32m[1217 10:22:21 @registry.py:126]\u001b[0m gen/LSTM/age/FC_input input: [500, 12]\n",
      "\u001b[32m[1217 10:22:21 @registry.py:134]\u001b[0m gen/LSTM/age/FC_input output: [500, 100]\n",
      "\u001b[32m[1217 10:22:21 @DATSGANModel.py:213]\u001b[0m \u001b[91mCreating cell for travel_month (in-edges: 1; ancestors: 1)\n",
      "WARNING:tensorflow:From C:\\Users\\glede\\Documents\\EPFL\\PhD\\SynthPop\\code\\modules\\datgan\\models\\DATSGANModel.py:233: The name tf.nn.rnn_cell.LSTMStateTuple is deprecated. Please use tf.compat.v1.nn.rnn_cell.LSTMStateTuple instead.\n",
      "\n",
      "\u001b[32m[1217 10:22:21 @registry.py:126]\u001b[0m gen/LSTM/travel_month/FC input: [500, 100]\n",
      "\u001b[32m[1217 10:22:21 @registry.py:134]\u001b[0m gen/LSTM/travel_month/FC output: [500, 50]\n",
      "\u001b[32m[1217 10:22:21 @registry.py:126]\u001b[0m gen/LSTM/travel_month/FC_prob input: [500, 50]\n"
     ]
    },
    {
     "name": "stdout",
     "output_type": "stream",
     "text": [
      "\u001b[32m[1217 10:22:21 @registry.py:134]\u001b[0m gen/LSTM/travel_month/FC_prob output: [500, 12]\n",
      "\u001b[32m[1217 10:22:21 @registry.py:126]\u001b[0m gen/LSTM/travel_month/FC_input input: [500, 12]\n",
      "\u001b[32m[1217 10:22:21 @registry.py:134]\u001b[0m gen/LSTM/travel_month/FC_input output: [500, 100]\n",
      "\u001b[32m[1217 10:22:21 @DATSGANModel.py:213]\u001b[0m \u001b[91mCreating cell for fueltype (in-edges: 1; ancestors: 1)\n",
      "\u001b[32m[1217 10:22:21 @registry.py:126]\u001b[0m gen/LSTM/fueltype/FC input: [500, 100]\n",
      "\u001b[32m[1217 10:22:21 @registry.py:134]\u001b[0m gen/LSTM/fueltype/FC output: [500, 50]\n",
      "\u001b[32m[1217 10:22:21 @registry.py:126]\u001b[0m gen/LSTM/fueltype/FC_prob input: [500, 50]\n",
      "\u001b[32m[1217 10:22:21 @registry.py:134]\u001b[0m gen/LSTM/fueltype/FC_prob output: [500, 6]\n",
      "\u001b[32m[1217 10:22:21 @registry.py:126]\u001b[0m gen/LSTM/fueltype/FC_input input: [500, 6]\n",
      "\u001b[32m[1217 10:22:21 @registry.py:134]\u001b[0m gen/LSTM/fueltype/FC_input output: [500, 100]\n",
      "\u001b[32m[1217 10:22:21 @DATSGANModel.py:213]\u001b[0m \u001b[91mCreating cell for driving_license (in-edges: 3; ancestors: 3)\n",
      "\u001b[32m[1217 10:22:21 @registry.py:126]\u001b[0m gen/LSTM/concat-driving_license/FC_inputs input: [500, 300]\n",
      "\u001b[32m[1217 10:22:21 @registry.py:134]\u001b[0m gen/LSTM/concat-driving_license/FC_inputs output: [500, 100]\n",
      "\u001b[32m[1217 10:22:21 @registry.py:126]\u001b[0m gen/LSTM/concat-driving_license/FC_states input: [500, 300]\n",
      "\u001b[32m[1217 10:22:21 @registry.py:134]\u001b[0m gen/LSTM/concat-driving_license/FC_states output: [500, 100]\n",
      "\u001b[32m[1217 10:22:21 @registry.py:126]\u001b[0m gen/LSTM/concat-driving_license/FC_h_outputs input: [500, 300]\n",
      "\u001b[32m[1217 10:22:21 @registry.py:134]\u001b[0m gen/LSTM/concat-driving_license/FC_h_outputs output: [500, 100]\n",
      "\u001b[32m[1217 10:22:21 @registry.py:126]\u001b[0m gen/LSTM/age-car_ownership-female/FC_noise input: [None, 600]\n",
      "\u001b[32m[1217 10:22:21 @registry.py:134]\u001b[0m gen/LSTM/age-car_ownership-female/FC_noise output: [None, 200]\n",
      "\u001b[32m[1217 10:22:22 @registry.py:126]\u001b[0m gen/LSTM/driving_license/FC input: [500, 100]\n",
      "\u001b[32m[1217 10:22:22 @registry.py:134]\u001b[0m gen/LSTM/driving_license/FC output: [500, 50]\n",
      "\u001b[32m[1217 10:22:22 @registry.py:126]\u001b[0m gen/LSTM/driving_license/FC_prob input: [500, 50]\n",
      "\u001b[32m[1217 10:22:22 @registry.py:134]\u001b[0m gen/LSTM/driving_license/FC_prob output: [500, 2]\n",
      "\u001b[32m[1217 10:22:22 @registry.py:126]\u001b[0m gen/LSTM/driving_license/FC_input input: [500, 2]\n",
      "\u001b[32m[1217 10:22:22 @registry.py:134]\u001b[0m gen/LSTM/driving_license/FC_input output: [500, 100]\n",
      "\u001b[32m[1217 10:22:22 @DATSGANModel.py:213]\u001b[0m \u001b[91mCreating cell for faretype (in-edges: 1; ancestors: 1)\n",
      "\u001b[32m[1217 10:22:22 @registry.py:126]\u001b[0m gen/LSTM/faretype/FC input: [500, 100]\n",
      "\u001b[32m[1217 10:22:22 @registry.py:134]\u001b[0m gen/LSTM/faretype/FC output: [500, 50]\n",
      "\u001b[32m[1217 10:22:22 @registry.py:126]\u001b[0m gen/LSTM/faretype/FC_prob input: [500, 50]\n",
      "\u001b[32m[1217 10:22:22 @registry.py:134]\u001b[0m gen/LSTM/faretype/FC_prob output: [500, 5]\n",
      "\u001b[32m[1217 10:22:22 @registry.py:126]\u001b[0m gen/LSTM/faretype/FC_input input: [500, 5]\n",
      "\u001b[32m[1217 10:22:22 @registry.py:134]\u001b[0m gen/LSTM/faretype/FC_input output: [500, 100]\n",
      "\u001b[32m[1217 10:22:22 @DATSGANModel.py:213]\u001b[0m \u001b[91mCreating cell for travel_date (in-edges: 1; ancestors: 2)\n",
      "\u001b[32m[1217 10:22:22 @registry.py:126]\u001b[0m gen/LSTM/travel_date/FC input: [500, 100]\n",
      "\u001b[32m[1217 10:22:22 @registry.py:134]\u001b[0m gen/LSTM/travel_date/FC output: [500, 50]\n",
      "\u001b[32m[1217 10:22:22 @registry.py:126]\u001b[0m gen/LSTM/travel_date/FC_prob input: [500, 50]\n",
      "\u001b[32m[1217 10:22:22 @registry.py:134]\u001b[0m gen/LSTM/travel_date/FC_prob output: [500, 31]\n",
      "\u001b[32m[1217 10:22:22 @registry.py:126]\u001b[0m gen/LSTM/travel_date/FC_input input: [500, 31]\n",
      "\u001b[32m[1217 10:22:22 @registry.py:134]\u001b[0m gen/LSTM/travel_date/FC_input output: [500, 100]\n",
      "\u001b[32m[1217 10:22:22 @DATSGANModel.py:213]\u001b[0m \u001b[91mCreating cell for bus_scale (in-edges: 2; ancestors: 2)\n",
      "\u001b[32m[1217 10:22:22 @registry.py:126]\u001b[0m gen/LSTM/concat-bus_scale/FC_inputs input: [500, 200]\n",
      "\u001b[32m[1217 10:22:22 @registry.py:134]\u001b[0m gen/LSTM/concat-bus_scale/FC_inputs output: [500, 100]\n",
      "\u001b[32m[1217 10:22:22 @registry.py:126]\u001b[0m gen/LSTM/concat-bus_scale/FC_states input: [500, 200]\n",
      "\u001b[32m[1217 10:22:22 @registry.py:134]\u001b[0m gen/LSTM/concat-bus_scale/FC_states output: [500, 100]\n",
      "\u001b[32m[1217 10:22:22 @registry.py:126]\u001b[0m gen/LSTM/concat-bus_scale/FC_h_outputs input: [500, 200]\n",
      "\u001b[32m[1217 10:22:22 @registry.py:134]\u001b[0m gen/LSTM/concat-bus_scale/FC_h_outputs output: [500, 100]\n",
      "\u001b[32m[1217 10:22:22 @registry.py:126]\u001b[0m gen/LSTM/bus_scale/FC input: [500, 100]\n",
      "\u001b[32m[1217 10:22:22 @registry.py:134]\u001b[0m gen/LSTM/bus_scale/FC output: [500, 50]\n",
      "\u001b[32m[1217 10:22:22 @registry.py:126]\u001b[0m gen/LSTM/bus_scale/FC_prob input: [500, 50]\n",
      "\u001b[32m[1217 10:22:22 @registry.py:134]\u001b[0m gen/LSTM/bus_scale/FC_prob output: [500, 3]\n",
      "\u001b[32m[1217 10:22:22 @registry.py:126]\u001b[0m gen/LSTM/bus_scale/FC_input input: [500, 3]\n",
      "\u001b[32m[1217 10:22:22 @registry.py:134]\u001b[0m gen/LSTM/bus_scale/FC_input output: [500, 100]\n",
      "\u001b[32m[1217 10:22:22 @DATSGANModel.py:213]\u001b[0m \u001b[91mCreating cell for day_of_week (in-edges: 2; ancestors: 3)\n",
      "\u001b[32m[1217 10:22:22 @registry.py:126]\u001b[0m gen/LSTM/concat-day_of_week/FC_inputs input: [500, 200]\n",
      "\u001b[32m[1217 10:22:22 @registry.py:134]\u001b[0m gen/LSTM/concat-day_of_week/FC_inputs output: [500, 100]\n",
      "\u001b[32m[1217 10:22:22 @registry.py:126]\u001b[0m gen/LSTM/concat-day_of_week/FC_states input: [500, 200]\n",
      "\u001b[32m[1217 10:22:22 @registry.py:134]\u001b[0m gen/LSTM/concat-day_of_week/FC_states output: [500, 100]\n",
      "\u001b[32m[1217 10:22:22 @registry.py:126]\u001b[0m gen/LSTM/concat-day_of_week/FC_h_outputs input: [500, 200]\n",
      "\u001b[32m[1217 10:22:22 @registry.py:134]\u001b[0m gen/LSTM/concat-day_of_week/FC_h_outputs output: [500, 100]\n",
      "\u001b[32m[1217 10:22:22 @registry.py:126]\u001b[0m gen/LSTM/day_of_week/FC input: [500, 100]\n",
      "\u001b[32m[1217 10:22:22 @registry.py:134]\u001b[0m gen/LSTM/day_of_week/FC output: [500, 50]\n",
      "\u001b[32m[1217 10:22:22 @registry.py:126]\u001b[0m gen/LSTM/day_of_week/FC_prob input: [500, 50]\n",
      "\u001b[32m[1217 10:22:22 @registry.py:134]\u001b[0m gen/LSTM/day_of_week/FC_prob output: [500, 7]\n",
      "\u001b[32m[1217 10:22:22 @registry.py:126]\u001b[0m gen/LSTM/day_of_week/FC_input input: [500, 7]\n",
      "\u001b[32m[1217 10:22:22 @registry.py:134]\u001b[0m gen/LSTM/day_of_week/FC_input output: [500, 100]\n",
      "\u001b[32m[1217 10:22:22 @DATSGANModel.py:213]\u001b[0m \u001b[91mCreating cell for purpose (in-edges: 1; ancestors: 4)\n",
      "\u001b[32m[1217 10:22:22 @registry.py:126]\u001b[0m gen/LSTM/purpose/FC input: [500, 100]\n",
      "\u001b[32m[1217 10:22:22 @registry.py:134]\u001b[0m gen/LSTM/purpose/FC output: [500, 50]\n",
      "\u001b[32m[1217 10:22:22 @registry.py:126]\u001b[0m gen/LSTM/purpose/FC_prob input: [500, 50]\n",
      "\u001b[32m[1217 10:22:22 @registry.py:134]\u001b[0m gen/LSTM/purpose/FC_prob output: [500, 5]\n",
      "\u001b[32m[1217 10:22:22 @registry.py:126]\u001b[0m gen/LSTM/purpose/FC_input input: [500, 5]\n",
      "\u001b[32m[1217 10:22:22 @registry.py:134]\u001b[0m gen/LSTM/purpose/FC_input output: [500, 100]\n",
      "\u001b[32m[1217 10:22:22 @DATSGANModel.py:213]\u001b[0m \u001b[91mCreating cell for start_time_linear (in-edges: 2; ancestors: 5)\n",
      "\u001b[32m[1217 10:22:22 @registry.py:126]\u001b[0m gen/LSTM/concat-start_time_linear/FC_inputs input: [500, 200]\n",
      "\u001b[32m[1217 10:22:22 @registry.py:134]\u001b[0m gen/LSTM/concat-start_time_linear/FC_inputs output: [500, 100]\n",
      "\u001b[32m[1217 10:22:22 @registry.py:126]\u001b[0m gen/LSTM/concat-start_time_linear/FC_states input: [500, 200]\n",
      "\u001b[32m[1217 10:22:22 @registry.py:134]\u001b[0m gen/LSTM/concat-start_time_linear/FC_states output: [500, 100]\n",
      "\u001b[32m[1217 10:22:22 @registry.py:126]\u001b[0m gen/LSTM/concat-start_time_linear/FC_h_outputs input: [500, 200]\n",
      "\u001b[32m[1217 10:22:22 @registry.py:134]\u001b[0m gen/LSTM/concat-start_time_linear/FC_h_outputs output: [500, 100]\n",
      "\u001b[32m[1217 10:22:22 @registry.py:126]\u001b[0m gen/LSTM/start_time_linear/FC input: [500, 100]\n",
      "\u001b[32m[1217 10:22:22 @registry.py:134]\u001b[0m gen/LSTM/start_time_linear/FC output: [500, 50]\n",
      "\u001b[32m[1217 10:22:22 @registry.py:126]\u001b[0m gen/LSTM/start_time_linear/FC_val input: [500, 50]\n",
      "\u001b[32m[1217 10:22:22 @registry.py:134]\u001b[0m gen/LSTM/start_time_linear/FC_val output: [500, 6]\n",
      "\u001b[32m[1217 10:22:22 @registry.py:126]\u001b[0m gen/LSTM/start_time_linear/FC_prob input: [500, 50]\n",
      "\u001b[32m[1217 10:22:22 @registry.py:134]\u001b[0m gen/LSTM/start_time_linear/FC_prob output: [500, 6]\n",
      "\u001b[32m[1217 10:22:22 @registry.py:126]\u001b[0m gen/LSTM/start_time_linear/FC_input input: [500, 12]\n",
      "\u001b[32m[1217 10:22:22 @registry.py:134]\u001b[0m gen/LSTM/start_time_linear/FC_input output: [500, 100]\n",
      "\u001b[32m[1217 10:22:22 @DATSGANModel.py:213]\u001b[0m \u001b[91mCreating cell for distance (in-edges: 1; ancestors: 5)\n"
     ]
    },
    {
     "name": "stdout",
     "output_type": "stream",
     "text": [
      "\u001b[32m[1217 10:22:22 @registry.py:126]\u001b[0m gen/LSTM/distance/FC input: [500, 100]\n",
      "\u001b[32m[1217 10:22:22 @registry.py:134]\u001b[0m gen/LSTM/distance/FC output: [500, 50]\n",
      "\u001b[32m[1217 10:22:22 @registry.py:126]\u001b[0m gen/LSTM/distance/FC_val input: [500, 50]\n",
      "\u001b[32m[1217 10:22:22 @registry.py:134]\u001b[0m gen/LSTM/distance/FC_val output: [500, 6]\n",
      "\u001b[32m[1217 10:22:22 @registry.py:126]\u001b[0m gen/LSTM/distance/FC_prob input: [500, 50]\n",
      "\u001b[32m[1217 10:22:22 @registry.py:134]\u001b[0m gen/LSTM/distance/FC_prob output: [500, 6]\n",
      "\u001b[32m[1217 10:22:22 @registry.py:126]\u001b[0m gen/LSTM/distance/FC_input input: [500, 12]\n",
      "\u001b[32m[1217 10:22:22 @registry.py:134]\u001b[0m gen/LSTM/distance/FC_input output: [500, 100]\n",
      "\u001b[32m[1217 10:22:22 @DATSGANModel.py:213]\u001b[0m \u001b[91mCreating cell for driving_traffic_percent (in-edges: 3; ancestors: 6)\n",
      "\u001b[32m[1217 10:22:22 @registry.py:126]\u001b[0m gen/LSTM/concat-driving_traffic_percent/FC_inputs input: [500, 300]\n",
      "\u001b[32m[1217 10:22:22 @registry.py:134]\u001b[0m gen/LSTM/concat-driving_traffic_percent/FC_inputs output: [500, 100]\n",
      "\u001b[32m[1217 10:22:22 @registry.py:126]\u001b[0m gen/LSTM/concat-driving_traffic_percent/FC_states input: [500, 300]\n",
      "\u001b[32m[1217 10:22:22 @registry.py:134]\u001b[0m gen/LSTM/concat-driving_traffic_percent/FC_states output: [500, 100]\n",
      "\u001b[32m[1217 10:22:22 @registry.py:126]\u001b[0m gen/LSTM/concat-driving_traffic_percent/FC_h_outputs input: [500, 300]\n",
      "\u001b[32m[1217 10:22:22 @registry.py:134]\u001b[0m gen/LSTM/concat-driving_traffic_percent/FC_h_outputs output: [500, 100]\n",
      "\u001b[32m[1217 10:22:22 @registry.py:126]\u001b[0m gen/LSTM/driving_traffic_percent/FC input: [500, 100]\n",
      "\u001b[32m[1217 10:22:22 @registry.py:134]\u001b[0m gen/LSTM/driving_traffic_percent/FC output: [500, 50]\n",
      "\u001b[32m[1217 10:22:22 @registry.py:126]\u001b[0m gen/LSTM/driving_traffic_percent/FC_val input: [500, 50]\n",
      "\u001b[32m[1217 10:22:22 @registry.py:134]\u001b[0m gen/LSTM/driving_traffic_percent/FC_val output: [500, 7]\n",
      "\u001b[32m[1217 10:22:22 @registry.py:126]\u001b[0m gen/LSTM/driving_traffic_percent/FC_prob input: [500, 50]\n",
      "\u001b[32m[1217 10:22:22 @registry.py:134]\u001b[0m gen/LSTM/driving_traffic_percent/FC_prob output: [500, 7]\n",
      "\u001b[32m[1217 10:22:22 @registry.py:126]\u001b[0m gen/LSTM/driving_traffic_percent/FC_input input: [500, 14]\n",
      "\u001b[32m[1217 10:22:22 @registry.py:134]\u001b[0m gen/LSTM/driving_traffic_percent/FC_input output: [500, 100]\n",
      "\u001b[32m[1217 10:22:22 @DATSGANModel.py:213]\u001b[0m \u001b[91mCreating cell for cost_driving_fuel (in-edges: 2; ancestors: 8)\n",
      "\u001b[32m[1217 10:22:22 @registry.py:126]\u001b[0m gen/LSTM/concat-cost_driving_fuel/FC_inputs input: [500, 200]\n",
      "\u001b[32m[1217 10:22:22 @registry.py:134]\u001b[0m gen/LSTM/concat-cost_driving_fuel/FC_inputs output: [500, 100]\n",
      "\u001b[32m[1217 10:22:22 @registry.py:126]\u001b[0m gen/LSTM/concat-cost_driving_fuel/FC_states input: [500, 200]\n",
      "\u001b[32m[1217 10:22:22 @registry.py:134]\u001b[0m gen/LSTM/concat-cost_driving_fuel/FC_states output: [500, 100]\n",
      "\u001b[32m[1217 10:22:22 @registry.py:126]\u001b[0m gen/LSTM/concat-cost_driving_fuel/FC_h_outputs input: [500, 200]\n",
      "\u001b[32m[1217 10:22:22 @registry.py:134]\u001b[0m gen/LSTM/concat-cost_driving_fuel/FC_h_outputs output: [500, 100]\n",
      "\u001b[32m[1217 10:22:22 @registry.py:126]\u001b[0m gen/LSTM/car_ownership-travel_year/FC_noise input: [None, 400]\n",
      "\u001b[32m[1217 10:22:22 @registry.py:134]\u001b[0m gen/LSTM/car_ownership-travel_year/FC_noise output: [None, 200]\n",
      "\u001b[32m[1217 10:22:22 @registry.py:126]\u001b[0m gen/LSTM/cost_driving_fuel/FC input: [500, 100]\n",
      "\u001b[32m[1217 10:22:22 @registry.py:134]\u001b[0m gen/LSTM/cost_driving_fuel/FC output: [500, 50]\n",
      "\u001b[32m[1217 10:22:22 @registry.py:126]\u001b[0m gen/LSTM/cost_driving_fuel/FC_val input: [500, 50]\n",
      "\u001b[32m[1217 10:22:22 @registry.py:134]\u001b[0m gen/LSTM/cost_driving_fuel/FC_val output: [500, 4]\n",
      "\u001b[32m[1217 10:22:22 @registry.py:126]\u001b[0m gen/LSTM/cost_driving_fuel/FC_prob input: [500, 50]\n",
      "\u001b[32m[1217 10:22:22 @registry.py:134]\u001b[0m gen/LSTM/cost_driving_fuel/FC_prob output: [500, 4]\n",
      "\u001b[32m[1217 10:22:22 @registry.py:126]\u001b[0m gen/LSTM/cost_driving_fuel/FC_input input: [500, 8]\n",
      "\u001b[32m[1217 10:22:22 @registry.py:134]\u001b[0m gen/LSTM/cost_driving_fuel/FC_input output: [500, 100]\n",
      "\u001b[32m[1217 10:22:22 @DATSGANModel.py:213]\u001b[0m \u001b[91mCreating cell for dur_driving (in-edges: 1; ancestors: 6)\n",
      "\u001b[32m[1217 10:22:22 @registry.py:126]\u001b[0m gen/LSTM/dur_driving/FC input: [500, 100]\n",
      "\u001b[32m[1217 10:22:22 @registry.py:134]\u001b[0m gen/LSTM/dur_driving/FC output: [500, 50]\n",
      "\u001b[32m[1217 10:22:22 @registry.py:126]\u001b[0m gen/LSTM/dur_driving/FC_val input: [500, 50]\n",
      "\u001b[32m[1217 10:22:22 @registry.py:134]\u001b[0m gen/LSTM/dur_driving/FC_val output: [500, 6]\n",
      "\u001b[32m[1217 10:22:22 @registry.py:126]\u001b[0m gen/LSTM/dur_driving/FC_prob input: [500, 50]\n",
      "\u001b[32m[1217 10:22:22 @registry.py:134]\u001b[0m gen/LSTM/dur_driving/FC_prob output: [500, 6]\n",
      "\u001b[32m[1217 10:22:22 @registry.py:126]\u001b[0m gen/LSTM/dur_driving/FC_input input: [500, 12]\n",
      "\u001b[32m[1217 10:22:22 @registry.py:134]\u001b[0m gen/LSTM/dur_driving/FC_input output: [500, 100]\n",
      "\u001b[32m[1217 10:22:22 @DATSGANModel.py:213]\u001b[0m \u001b[91mCreating cell for dur_walking (in-edges: 1; ancestors: 6)\n",
      "\u001b[32m[1217 10:22:22 @registry.py:126]\u001b[0m gen/LSTM/dur_walking/FC input: [500, 100]\n",
      "\u001b[32m[1217 10:22:22 @registry.py:134]\u001b[0m gen/LSTM/dur_walking/FC output: [500, 50]\n",
      "\u001b[32m[1217 10:22:22 @registry.py:126]\u001b[0m gen/LSTM/dur_walking/FC_val input: [500, 50]\n",
      "\u001b[32m[1217 10:22:22 @registry.py:134]\u001b[0m gen/LSTM/dur_walking/FC_val output: [500, 6]\n",
      "\u001b[32m[1217 10:22:22 @registry.py:126]\u001b[0m gen/LSTM/dur_walking/FC_prob input: [500, 50]\n",
      "\u001b[32m[1217 10:22:22 @registry.py:134]\u001b[0m gen/LSTM/dur_walking/FC_prob output: [500, 6]\n",
      "\u001b[32m[1217 10:22:22 @registry.py:126]\u001b[0m gen/LSTM/dur_walking/FC_input input: [500, 12]\n",
      "\u001b[32m[1217 10:22:22 @registry.py:134]\u001b[0m gen/LSTM/dur_walking/FC_input output: [500, 100]\n",
      "\u001b[32m[1217 10:22:22 @DATSGANModel.py:213]\u001b[0m \u001b[91mCreating cell for dur_cycling (in-edges: 1; ancestors: 6)\n",
      "\u001b[32m[1217 10:22:22 @registry.py:126]\u001b[0m gen/LSTM/dur_cycling/FC input: [500, 100]\n",
      "\u001b[32m[1217 10:22:22 @registry.py:134]\u001b[0m gen/LSTM/dur_cycling/FC output: [500, 50]\n",
      "\u001b[32m[1217 10:22:22 @registry.py:126]\u001b[0m gen/LSTM/dur_cycling/FC_val input: [500, 50]\n",
      "\u001b[32m[1217 10:22:22 @registry.py:134]\u001b[0m gen/LSTM/dur_cycling/FC_val output: [500, 6]\n",
      "\u001b[32m[1217 10:22:22 @registry.py:126]\u001b[0m gen/LSTM/dur_cycling/FC_prob input: [500, 50]\n",
      "\u001b[32m[1217 10:22:22 @registry.py:134]\u001b[0m gen/LSTM/dur_cycling/FC_prob output: [500, 6]\n",
      "\u001b[32m[1217 10:22:22 @registry.py:126]\u001b[0m gen/LSTM/dur_cycling/FC_input input: [500, 12]\n",
      "\u001b[32m[1217 10:22:22 @registry.py:134]\u001b[0m gen/LSTM/dur_cycling/FC_input output: [500, 100]\n",
      "\u001b[32m[1217 10:22:22 @DATSGANModel.py:213]\u001b[0m \u001b[91mCreating cell for dur_pt_access (in-edges: 1; ancestors: 6)\n",
      "\u001b[32m[1217 10:22:23 @registry.py:126]\u001b[0m gen/LSTM/dur_pt_access/FC input: [500, 100]\n",
      "\u001b[32m[1217 10:22:23 @registry.py:134]\u001b[0m gen/LSTM/dur_pt_access/FC output: [500, 50]\n",
      "\u001b[32m[1217 10:22:23 @registry.py:126]\u001b[0m gen/LSTM/dur_pt_access/FC_val input: [500, 50]\n",
      "\u001b[32m[1217 10:22:23 @registry.py:134]\u001b[0m gen/LSTM/dur_pt_access/FC_val output: [500, 4]\n",
      "\u001b[32m[1217 10:22:23 @registry.py:126]\u001b[0m gen/LSTM/dur_pt_access/FC_prob input: [500, 50]\n",
      "\u001b[32m[1217 10:22:23 @registry.py:134]\u001b[0m gen/LSTM/dur_pt_access/FC_prob output: [500, 4]\n",
      "\u001b[32m[1217 10:22:23 @registry.py:126]\u001b[0m gen/LSTM/dur_pt_access/FC_input input: [500, 8]\n",
      "\u001b[32m[1217 10:22:23 @registry.py:134]\u001b[0m gen/LSTM/dur_pt_access/FC_input output: [500, 100]\n",
      "\u001b[32m[1217 10:22:23 @DATSGANModel.py:213]\u001b[0m \u001b[91mCreating cell for pt_n_interchanges (in-edges: 1; ancestors: 6)\n",
      "\u001b[32m[1217 10:22:23 @registry.py:126]\u001b[0m gen/LSTM/pt_n_interchanges/FC input: [500, 100]\n",
      "\u001b[32m[1217 10:22:23 @registry.py:134]\u001b[0m gen/LSTM/pt_n_interchanges/FC output: [500, 50]\n",
      "\u001b[32m[1217 10:22:23 @registry.py:126]\u001b[0m gen/LSTM/pt_n_interchanges/FC_prob input: [500, 50]\n",
      "\u001b[32m[1217 10:22:23 @registry.py:134]\u001b[0m gen/LSTM/pt_n_interchanges/FC_prob output: [500, 5]\n",
      "\u001b[32m[1217 10:22:23 @registry.py:126]\u001b[0m gen/LSTM/pt_n_interchanges/FC_input input: [500, 5]\n",
      "\u001b[32m[1217 10:22:23 @registry.py:134]\u001b[0m gen/LSTM/pt_n_interchanges/FC_input output: [500, 100]\n",
      "\u001b[32m[1217 10:22:23 @DATSGANModel.py:213]\u001b[0m \u001b[91mCreating cell for cost_driving_con_charge (in-edges: 5; ancestors: 11)\n",
      "\u001b[32m[1217 10:22:23 @registry.py:126]\u001b[0m gen/LSTM/concat-cost_driving_con_charge/FC_inputs input: [500, 500]\n",
      "\u001b[32m[1217 10:22:23 @registry.py:134]\u001b[0m gen/LSTM/concat-cost_driving_con_charge/FC_inputs output: [500, 100]\n"
     ]
    },
    {
     "name": "stdout",
     "output_type": "stream",
     "text": [
      "\u001b[32m[1217 10:22:23 @registry.py:126]\u001b[0m gen/LSTM/concat-cost_driving_con_charge/FC_states input: [500, 500]\n",
      "\u001b[32m[1217 10:22:23 @registry.py:134]\u001b[0m gen/LSTM/concat-cost_driving_con_charge/FC_states output: [500, 100]\n",
      "\u001b[32m[1217 10:22:23 @registry.py:126]\u001b[0m gen/LSTM/concat-cost_driving_con_charge/FC_h_outputs input: [500, 500]\n",
      "\u001b[32m[1217 10:22:23 @registry.py:134]\u001b[0m gen/LSTM/concat-cost_driving_con_charge/FC_h_outputs output: [500, 100]\n",
      "\u001b[32m[1217 10:22:23 @registry.py:126]\u001b[0m gen/LSTM/cost_driving_con_charge/FC input: [500, 100]\n",
      "\u001b[32m[1217 10:22:23 @registry.py:134]\u001b[0m gen/LSTM/cost_driving_con_charge/FC output: [500, 50]\n",
      "\u001b[32m[1217 10:22:23 @registry.py:126]\u001b[0m gen/LSTM/cost_driving_con_charge/FC_prob input: [500, 50]\n",
      "\u001b[32m[1217 10:22:23 @registry.py:134]\u001b[0m gen/LSTM/cost_driving_con_charge/FC_prob output: [500, 2]\n",
      "\u001b[32m[1217 10:22:23 @registry.py:126]\u001b[0m gen/LSTM/cost_driving_con_charge/FC_input input: [500, 2]\n",
      "\u001b[32m[1217 10:22:23 @registry.py:134]\u001b[0m gen/LSTM/cost_driving_con_charge/FC_input output: [500, 100]\n",
      "\u001b[32m[1217 10:22:23 @DATSGANModel.py:213]\u001b[0m \u001b[91mCreating cell for dur_pt_rail (in-edges: 2; ancestors: 7)\n",
      "\u001b[32m[1217 10:22:23 @registry.py:126]\u001b[0m gen/LSTM/concat-dur_pt_rail/FC_inputs input: [500, 200]\n",
      "\u001b[32m[1217 10:22:23 @registry.py:134]\u001b[0m gen/LSTM/concat-dur_pt_rail/FC_inputs output: [500, 100]\n",
      "\u001b[32m[1217 10:22:23 @registry.py:126]\u001b[0m gen/LSTM/concat-dur_pt_rail/FC_states input: [500, 200]\n",
      "\u001b[32m[1217 10:22:23 @registry.py:134]\u001b[0m gen/LSTM/concat-dur_pt_rail/FC_states output: [500, 100]\n",
      "\u001b[32m[1217 10:22:23 @registry.py:126]\u001b[0m gen/LSTM/concat-dur_pt_rail/FC_h_outputs input: [500, 200]\n",
      "\u001b[32m[1217 10:22:23 @registry.py:134]\u001b[0m gen/LSTM/concat-dur_pt_rail/FC_h_outputs output: [500, 100]\n",
      "\u001b[32m[1217 10:22:23 @registry.py:126]\u001b[0m gen/LSTM/dur_pt_rail/FC input: [500, 100]\n",
      "\u001b[32m[1217 10:22:23 @registry.py:134]\u001b[0m gen/LSTM/dur_pt_rail/FC output: [500, 50]\n",
      "\u001b[32m[1217 10:22:23 @registry.py:126]\u001b[0m gen/LSTM/dur_pt_rail/FC_val input: [500, 50]\n",
      "\u001b[32m[1217 10:22:23 @registry.py:134]\u001b[0m gen/LSTM/dur_pt_rail/FC_val output: [500, 5]\n",
      "\u001b[32m[1217 10:22:23 @registry.py:126]\u001b[0m gen/LSTM/dur_pt_rail/FC_prob input: [500, 50]\n",
      "\u001b[32m[1217 10:22:23 @registry.py:134]\u001b[0m gen/LSTM/dur_pt_rail/FC_prob output: [500, 5]\n",
      "\u001b[32m[1217 10:22:23 @registry.py:126]\u001b[0m gen/LSTM/dur_pt_rail/FC_input input: [500, 10]\n",
      "\u001b[32m[1217 10:22:23 @registry.py:134]\u001b[0m gen/LSTM/dur_pt_rail/FC_input output: [500, 100]\n",
      "\u001b[32m[1217 10:22:23 @DATSGANModel.py:213]\u001b[0m \u001b[91mCreating cell for dur_pt_bus (in-edges: 2; ancestors: 7)\n",
      "\u001b[32m[1217 10:22:23 @registry.py:126]\u001b[0m gen/LSTM/concat-dur_pt_bus/FC_inputs input: [500, 200]\n",
      "\u001b[32m[1217 10:22:23 @registry.py:134]\u001b[0m gen/LSTM/concat-dur_pt_bus/FC_inputs output: [500, 100]\n",
      "\u001b[32m[1217 10:22:23 @registry.py:126]\u001b[0m gen/LSTM/concat-dur_pt_bus/FC_states input: [500, 200]\n",
      "\u001b[32m[1217 10:22:23 @registry.py:134]\u001b[0m gen/LSTM/concat-dur_pt_bus/FC_states output: [500, 100]\n",
      "\u001b[32m[1217 10:22:23 @registry.py:126]\u001b[0m gen/LSTM/concat-dur_pt_bus/FC_h_outputs input: [500, 200]\n",
      "\u001b[32m[1217 10:22:23 @registry.py:134]\u001b[0m gen/LSTM/concat-dur_pt_bus/FC_h_outputs output: [500, 100]\n",
      "\u001b[32m[1217 10:22:23 @registry.py:126]\u001b[0m gen/LSTM/dur_pt_bus/FC input: [500, 100]\n",
      "\u001b[32m[1217 10:22:23 @registry.py:134]\u001b[0m gen/LSTM/dur_pt_bus/FC output: [500, 50]\n",
      "\u001b[32m[1217 10:22:23 @registry.py:126]\u001b[0m gen/LSTM/dur_pt_bus/FC_val input: [500, 50]\n",
      "\u001b[32m[1217 10:22:23 @registry.py:134]\u001b[0m gen/LSTM/dur_pt_bus/FC_val output: [500, 6]\n",
      "\u001b[32m[1217 10:22:23 @registry.py:126]\u001b[0m gen/LSTM/dur_pt_bus/FC_prob input: [500, 50]\n",
      "\u001b[32m[1217 10:22:23 @registry.py:134]\u001b[0m gen/LSTM/dur_pt_bus/FC_prob output: [500, 6]\n",
      "\u001b[32m[1217 10:22:23 @registry.py:126]\u001b[0m gen/LSTM/dur_pt_bus/FC_input input: [500, 12]\n",
      "\u001b[32m[1217 10:22:23 @registry.py:134]\u001b[0m gen/LSTM/dur_pt_bus/FC_input output: [500, 100]\n",
      "\u001b[32m[1217 10:22:23 @DATSGANModel.py:213]\u001b[0m \u001b[91mCreating cell for dur_pt_int (in-edges: 2; ancestors: 7)\n",
      "\u001b[32m[1217 10:22:23 @registry.py:126]\u001b[0m gen/LSTM/concat-dur_pt_int/FC_inputs input: [500, 200]\n",
      "\u001b[32m[1217 10:22:23 @registry.py:134]\u001b[0m gen/LSTM/concat-dur_pt_int/FC_inputs output: [500, 100]\n",
      "\u001b[32m[1217 10:22:23 @registry.py:126]\u001b[0m gen/LSTM/concat-dur_pt_int/FC_states input: [500, 200]\n",
      "\u001b[32m[1217 10:22:23 @registry.py:134]\u001b[0m gen/LSTM/concat-dur_pt_int/FC_states output: [500, 100]\n",
      "\u001b[32m[1217 10:22:23 @registry.py:126]\u001b[0m gen/LSTM/concat-dur_pt_int/FC_h_outputs input: [500, 200]\n",
      "\u001b[32m[1217 10:22:23 @registry.py:134]\u001b[0m gen/LSTM/concat-dur_pt_int/FC_h_outputs output: [500, 100]\n",
      "\u001b[32m[1217 10:22:23 @registry.py:126]\u001b[0m gen/LSTM/dur_pt_int/FC input: [500, 100]\n",
      "\u001b[32m[1217 10:22:23 @registry.py:134]\u001b[0m gen/LSTM/dur_pt_int/FC output: [500, 50]\n",
      "\u001b[32m[1217 10:22:23 @registry.py:126]\u001b[0m gen/LSTM/dur_pt_int/FC_val input: [500, 50]\n",
      "\u001b[32m[1217 10:22:23 @registry.py:134]\u001b[0m gen/LSTM/dur_pt_int/FC_val output: [500, 4]\n",
      "\u001b[32m[1217 10:22:23 @registry.py:126]\u001b[0m gen/LSTM/dur_pt_int/FC_prob input: [500, 50]\n",
      "\u001b[32m[1217 10:22:23 @registry.py:134]\u001b[0m gen/LSTM/dur_pt_int/FC_prob output: [500, 4]\n",
      "\u001b[32m[1217 10:22:23 @registry.py:126]\u001b[0m gen/LSTM/dur_pt_int/FC_input input: [500, 8]\n",
      "\u001b[32m[1217 10:22:23 @registry.py:134]\u001b[0m gen/LSTM/dur_pt_int/FC_input output: [500, 100]\n",
      "\u001b[32m[1217 10:22:23 @DATSGANModel.py:213]\u001b[0m \u001b[91mCreating cell for cost_transit (in-edges: 5; ancestors: 12)\n",
      "\u001b[32m[1217 10:22:23 @registry.py:126]\u001b[0m gen/LSTM/concat-cost_transit/FC_inputs input: [500, 500]\n",
      "\u001b[32m[1217 10:22:23 @registry.py:134]\u001b[0m gen/LSTM/concat-cost_transit/FC_inputs output: [500, 100]\n",
      "\u001b[32m[1217 10:22:23 @registry.py:126]\u001b[0m gen/LSTM/concat-cost_transit/FC_states input: [500, 500]\n",
      "\u001b[32m[1217 10:22:23 @registry.py:134]\u001b[0m gen/LSTM/concat-cost_transit/FC_states output: [500, 100]\n",
      "\u001b[32m[1217 10:22:23 @registry.py:126]\u001b[0m gen/LSTM/concat-cost_transit/FC_h_outputs input: [500, 500]\n",
      "\u001b[32m[1217 10:22:23 @registry.py:134]\u001b[0m gen/LSTM/concat-cost_transit/FC_h_outputs output: [500, 100]\n",
      "\u001b[32m[1217 10:22:23 @registry.py:126]\u001b[0m gen/LSTM/age-travel_year/FC_noise input: [None, 400]\n",
      "\u001b[32m[1217 10:22:23 @registry.py:134]\u001b[0m gen/LSTM/age-travel_year/FC_noise output: [None, 200]\n",
      "\u001b[32m[1217 10:22:23 @registry.py:126]\u001b[0m gen/LSTM/cost_transit/FC input: [500, 100]\n",
      "\u001b[32m[1217 10:22:23 @registry.py:134]\u001b[0m gen/LSTM/cost_transit/FC output: [500, 50]\n",
      "\u001b[32m[1217 10:22:23 @registry.py:126]\u001b[0m gen/LSTM/cost_transit/FC_val input: [500, 50]\n",
      "\u001b[32m[1217 10:22:23 @registry.py:134]\u001b[0m gen/LSTM/cost_transit/FC_val output: [500, 7]\n",
      "\u001b[32m[1217 10:22:23 @registry.py:126]\u001b[0m gen/LSTM/cost_transit/FC_prob input: [500, 50]\n",
      "\u001b[32m[1217 10:22:23 @registry.py:134]\u001b[0m gen/LSTM/cost_transit/FC_prob output: [500, 7]\n",
      "\u001b[32m[1217 10:22:23 @registry.py:126]\u001b[0m gen/LSTM/cost_transit/FC_input input: [500, 14]\n",
      "\u001b[32m[1217 10:22:23 @registry.py:134]\u001b[0m gen/LSTM/cost_transit/FC_input output: [500, 100]\n",
      "\u001b[32m[1217 10:22:23 @DATSGANModel.py:213]\u001b[0m \u001b[91mCreating cell for travel_mode (in-edges: 21; ancestors: 26)\n",
      "\u001b[32m[1217 10:22:23 @registry.py:126]\u001b[0m gen/LSTM/concat-travel_mode/FC_inputs input: [500, 2100]\n",
      "\u001b[32m[1217 10:22:23 @registry.py:134]\u001b[0m gen/LSTM/concat-travel_mode/FC_inputs output: [500, 100]\n",
      "\u001b[32m[1217 10:22:23 @registry.py:126]\u001b[0m gen/LSTM/concat-travel_mode/FC_states input: [500, 2100]\n",
      "\u001b[32m[1217 10:22:23 @registry.py:134]\u001b[0m gen/LSTM/concat-travel_mode/FC_states output: [500, 100]\n",
      "\u001b[32m[1217 10:22:23 @registry.py:126]\u001b[0m gen/LSTM/concat-travel_mode/FC_h_outputs input: [500, 2100]\n",
      "\u001b[32m[1217 10:22:23 @registry.py:134]\u001b[0m gen/LSTM/concat-travel_mode/FC_h_outputs output: [500, 100]\n",
      "\u001b[32m[1217 10:22:23 @registry.py:126]\u001b[0m gen/LSTM/age-car_ownership-female-travel_year/FC_noise input: [None, 800]\n",
      "\u001b[32m[1217 10:22:23 @registry.py:134]\u001b[0m gen/LSTM/age-car_ownership-female-travel_year/FC_noise output: [None, 200]\n",
      "\u001b[32m[1217 10:22:23 @registry.py:126]\u001b[0m gen/LSTM/travel_mode/FC input: [500, 100]\n",
      "\u001b[32m[1217 10:22:23 @registry.py:134]\u001b[0m gen/LSTM/travel_mode/FC output: [500, 50]\n",
      "\u001b[32m[1217 10:22:23 @registry.py:126]\u001b[0m gen/LSTM/travel_mode/FC_prob input: [500, 50]\n",
      "\u001b[32m[1217 10:22:23 @registry.py:134]\u001b[0m gen/LSTM/travel_mode/FC_prob output: [500, 4]\n",
      "\u001b[32m[1217 10:22:23 @registry.py:126]\u001b[0m gen/LSTM/travel_mode/FC_input input: [500, 4]\n"
     ]
    },
    {
     "name": "stdout",
     "output_type": "stream",
     "text": [
      "\u001b[32m[1217 10:22:23 @registry.py:134]\u001b[0m gen/LSTM/travel_mode/FC_input output: [500, 100]\n",
      "WARNING:tensorflow:From C:\\Users\\glede\\Documents\\EPFL\\PhD\\SynthPop\\code\\modules\\datgan\\models\\DATSGANModel.py:551: The name tf.random_uniform is deprecated. Please use tf.random.uniform instead.\n",
      "\n",
      "WARNING:tensorflow:From C:\\Users\\glede\\Documents\\EPFL\\PhD\\SynthPop\\code\\modules\\datgan\\models\\DATSGANModel.py:479: The name tf.log is deprecated. Please use tf.math.log instead.\n",
      "\n",
      "\u001b[32m[1217 10:22:23 @registry.py:126]\u001b[0m discrim/DISCR_FC_0/FC input: [500, 237]\n",
      "\u001b[32m[1217 10:22:23 @registry.py:134]\u001b[0m discrim/DISCR_FC_0/FC output: [500, 100]\n",
      "\u001b[32m[1217 10:22:23 @registry.py:126]\u001b[0m discrim/DISCR_FC_0/FC_DIVERSITY input: [500, 100]\n",
      "\u001b[32m[1217 10:22:23 @registry.py:134]\u001b[0m discrim/DISCR_FC_0/FC_DIVERSITY output: [500, 100]\n",
      "WARNING:tensorflow:From D:\\Users\\glede\\anaconda3\\envs\\py37\\lib\\site-packages\\tensorpack\\models\\batch_norm.py:204: The name tf.layers.BatchNormalization is deprecated. Please use tf.compat.v1.layers.BatchNormalization instead.\n",
      "\n",
      "WARNING:tensorflow:From D:\\Users\\glede\\anaconda3\\envs\\py37\\lib\\site-packages\\tensorpack\\tfutils\\collection.py:45: The name tf.get_collection_ref is deprecated. Please use tf.compat.v1.get_collection_ref instead.\n",
      "\n",
      "\u001b[32m[1217 10:22:24 @registry.py:126]\u001b[0m discrim/DISCR_FC_TOP input: [500, 110]\n",
      "\u001b[32m[1217 10:22:24 @registry.py:134]\u001b[0m discrim/DISCR_FC_TOP output: [500, 1]\n",
      "WARNING:tensorflow:From C:\\Users\\glede\\Documents\\EPFL\\PhD\\SynthPop\\code\\modules\\datgan\\models\\DATSGANModel.py:608: The name tf.summary.histogram is deprecated. Please use tf.compat.v1.summary.histogram instead.\n",
      "\n",
      "WARNING:tensorflow:From D:\\Users\\glede\\anaconda3\\envs\\py37\\lib\\site-packages\\tensorflow_core\\python\\ops\\nn_impl.py:183: where (from tensorflow.python.ops.array_ops) is deprecated and will be removed in a future version.\n",
      "Instructions for updating:\n",
      "Use tf.where in 2.0, which has the same broadcast rule as np.where\n",
      "WARNING:tensorflow:\n",
      "The TensorFlow contrib module will not be included in TensorFlow 2.0.\n",
      "For more information, please see:\n",
      "  * https://github.com/tensorflow/community/blob/master/rfcs/20180907-contrib-sunset.md\n",
      "  * https://github.com/tensorflow/addons\n",
      "  * https://github.com/tensorflow/io (for I/O related ops)\n",
      "If you depend on functionality not listed there, please file an issue.\n",
      "\n",
      "\u001b[32m[1217 10:22:25 @collection.py:146]\u001b[0m New collections created in tower : tf.GraphKeys.REGULARIZATION_LOSSES\n",
      "\u001b[32m[1217 10:22:25 @collection.py:165]\u001b[0m These collections were modified but restored in : (tf.GraphKeys.SUMMARIES: 0->2)\n",
      "WARNING:tensorflow:From D:\\Users\\glede\\anaconda3\\envs\\py37\\lib\\site-packages\\tensorpack\\tfutils\\sessinit.py:120: The name tf.train.NewCheckpointReader is deprecated. Please use tf.compat.v1.train.NewCheckpointReader instead.\n",
      "\n",
      "WARNING:tensorflow:From D:\\Users\\glede\\anaconda3\\envs\\py37\\lib\\site-packages\\tensorpack\\tfutils\\sessinit.py:127: The name tf.global_variables is deprecated. Please use tf.compat.v1.global_variables instead.\n",
      "\n",
      "\u001b[32m[1217 10:22:25 @sessinit.py:87]\u001b[0m \u001b[5m\u001b[31mWRN\u001b[0m The following variables are in the checkpoint, but not found in the graph: global_step, optimize/beta1_power, optimize/beta2_power\n",
      "WARNING:tensorflow:From D:\\Users\\glede\\anaconda3\\envs\\py37\\lib\\site-packages\\tensorpack\\tfutils\\sessinit.py:111: The name tf.train.Saver is deprecated. Please use tf.compat.v1.train.Saver instead.\n",
      "\n",
      "INFO:tensorflow:Graph was finalized.\n",
      "INFO:tensorflow:Running local_init_op.\n",
      "INFO:tensorflow:Done running local_init_op.\n",
      "\u001b[32m[1217 10:22:27 @sessinit.py:114]\u001b[0m Restoring checkpoint from ../output/LPMC/SGAN_OR_01/model\\model-35000 ...\n",
      "INFO:tensorflow:Restoring parameters from ../output/LPMC/SGAN_OR_01/model\\model-35000\n",
      "\u001b[32m[1217 10:22:27 @DATSGAN.py:267]\u001b[0m Loading Preprocessor!\n"
     ]
    },
    {
     "name": "stderr",
     "output_type": "stream",
     "text": [
      "|                                                                                          |35/?[00:01<00:00,25.73it/s]\n"
     ]
    },
    {
     "name": "stdout",
     "output_type": "stream",
     "text": [
      "\u001b[32m[1217 10:22:29 @DATSGAN.py:267]\u001b[0m Loading Preprocessor!\n"
     ]
    },
    {
     "name": "stderr",
     "output_type": "stream",
     "text": [
      "|                                                                                          |35/?[00:00<00:00,50.58it/s]\n"
     ]
    },
    {
     "name": "stdout",
     "output_type": "stream",
     "text": [
      "\u001b[32m[1217 10:22:30 @DATSGAN.py:267]\u001b[0m Loading Preprocessor!\n"
     ]
    },
    {
     "name": "stderr",
     "output_type": "stream",
     "text": [
      "|                                                                                          |35/?[00:00<00:00,51.73it/s]\n"
     ]
    },
    {
     "name": "stdout",
     "output_type": "stream",
     "text": [
      "\u001b[32m[1217 10:22:31 @DATSGAN.py:267]\u001b[0m Loading Preprocessor!\n"
     ]
    },
    {
     "name": "stderr",
     "output_type": "stream",
     "text": [
      "|                                                                                          |35/?[00:00<00:00,51.51it/s]\n"
     ]
    },
    {
     "name": "stdout",
     "output_type": "stream",
     "text": [
      "\u001b[32m[1217 10:22:32 @DATSGAN.py:267]\u001b[0m Loading Preprocessor!\n"
     ]
    },
    {
     "name": "stderr",
     "output_type": "stream",
     "text": [
      "|                                                                                          |35/?[00:00<00:00,50.21it/s]\n"
     ]
    },
    {
     "name": "stdout",
     "output_type": "stream",
     "text": [
      "\u001b[32m[1217 10:22:33 @DATSGAN.py:267]\u001b[0m Loading Preprocessor!\n"
     ]
    },
    {
     "name": "stderr",
     "output_type": "stream",
     "text": [
      "|                                                                                          |35/?[00:00<00:00,51.62it/s]\n"
     ]
    },
    {
     "name": "stdout",
     "output_type": "stream",
     "text": [
      "\u001b[32m[1217 10:22:34 @DATSGAN.py:267]\u001b[0m Loading Preprocessor!\n"
     ]
    },
    {
     "name": "stderr",
     "output_type": "stream",
     "text": [
      "|                                                                                          |35/?[00:00<00:00,51.73it/s]\n"
     ]
    },
    {
     "name": "stdout",
     "output_type": "stream",
     "text": [
      "\u001b[32m[1217 10:22:35 @DATSGAN.py:267]\u001b[0m Loading Preprocessor!\n"
     ]
    },
    {
     "name": "stderr",
     "output_type": "stream",
     "text": [
      "|                                                                                          |35/?[00:00<00:00,50.77it/s]\n"
     ]
    },
    {
     "name": "stdout",
     "output_type": "stream",
     "text": [
      "\u001b[32m[1217 10:22:36 @DATSGAN.py:267]\u001b[0m Loading Preprocessor!\n"
     ]
    },
    {
     "name": "stderr",
     "output_type": "stream",
     "text": [
      "|                                                                                          |35/?[00:00<00:00,50.48it/s]\n"
     ]
    },
    {
     "name": "stdout",
     "output_type": "stream",
     "text": [
      "\u001b[32m[1217 10:22:37 @DATSGAN.py:267]\u001b[0m Loading Preprocessor!\n"
     ]
    },
    {
     "name": "stderr",
     "output_type": "stream",
     "text": [
      "|                                                                                          |35/?[00:00<00:00,51.62it/s]\n"
     ]
    },
    {
     "name": "stdout",
     "output_type": "stream",
     "text": [
      "\u001b[32m[1217 10:22:38 @DATSGAN.py:267]\u001b[0m Loading Preprocessor!\n"
     ]
    },
    {
     "name": "stderr",
     "output_type": "stream",
     "text": [
      "|                                                                                          |35/?[00:00<00:00,51.70it/s]\n"
     ]
    },
    {
     "name": "stdout",
     "output_type": "stream",
     "text": [
      "\u001b[32m[1217 10:22:39 @DATSGAN.py:267]\u001b[0m Loading Preprocessor!\n"
     ]
    },
    {
     "name": "stderr",
     "output_type": "stream",
     "text": [
      "|                                                                                          |35/?[00:00<00:00,52.66it/s]\n"
     ]
    },
    {
     "name": "stdout",
     "output_type": "stream",
     "text": [
      "\u001b[32m[1217 10:22:40 @DATSGAN.py:267]\u001b[0m Loading Preprocessor!\n"
     ]
    },
    {
     "name": "stderr",
     "output_type": "stream",
     "text": [
      "|                                                                                          |35/?[00:00<00:00,52.66it/s]\n"
     ]
    },
    {
     "name": "stdout",
     "output_type": "stream",
     "text": [
      "\u001b[32m[1217 10:22:41 @DATSGAN.py:267]\u001b[0m Loading Preprocessor!\n"
     ]
    },
    {
     "name": "stderr",
     "output_type": "stream",
     "text": [
      "|                                                                                          |35/?[00:00<00:00,51.28it/s]\n"
     ]
    },
    {
     "name": "stdout",
     "output_type": "stream",
     "text": [
      "\u001b[32m[1217 10:22:42 @DATSGAN.py:267]\u001b[0m Loading Preprocessor!\n"
     ]
    },
    {
     "name": "stderr",
     "output_type": "stream",
     "text": [
      "|                                                                                          |35/?[00:00<00:00,52.04it/s]\n"
     ]
    },
    {
     "name": "stdout",
     "output_type": "stream",
     "text": [
      "\u001b[32m[1217 10:22:43 @DATSGAN.py:267]\u001b[0m Loading Preprocessor!\n"
     ]
    },
    {
     "name": "stderr",
     "output_type": "stream",
     "text": [
      "|                                                                                          |35/?[00:00<00:00,51.70it/s]\n"
     ]
    },
    {
     "name": "stdout",
     "output_type": "stream",
     "text": [
      "\u001b[32m[1217 10:22:44 @DATSGAN.py:267]\u001b[0m Loading Preprocessor!\n"
     ]
    },
    {
     "name": "stderr",
     "output_type": "stream",
     "text": [
      "|                                                                                          |35/?[00:00<00:00,52.58it/s]\n"
     ]
    },
    {
     "name": "stdout",
     "output_type": "stream",
     "text": [
      "\u001b[32m[1217 10:22:45 @DATSGAN.py:267]\u001b[0m Loading Preprocessor!\n"
     ]
    },
    {
     "name": "stderr",
     "output_type": "stream",
     "text": [
      "|                                                                                          |35/?[00:00<00:00,50.73it/s]\n"
     ]
    },
    {
     "name": "stdout",
     "output_type": "stream",
     "text": [
      "\u001b[32m[1217 10:22:46 @DATSGAN.py:267]\u001b[0m Loading Preprocessor!\n"
     ]
    },
    {
     "name": "stderr",
     "output_type": "stream",
     "text": [
      "|                                                                                          |35/?[00:00<00:00,49.52it/s]\n"
     ]
    },
    {
     "name": "stdout",
     "output_type": "stream",
     "text": [
      "\u001b[32m[1217 10:22:47 @DATSGAN.py:267]\u001b[0m Loading Preprocessor!\n"
     ]
    },
    {
     "name": "stderr",
     "output_type": "stream",
     "text": [
      "|                                                                                          |35/?[00:00<00:00,52.39it/s]\n"
     ]
    },
    {
     "name": "stdout",
     "output_type": "stream",
     "text": [
      "Sampling synthetic data from model \u001b[1mSGAN_OR_02\u001b[0m (7/60)\n",
      "\u001b[32m[1217 10:23:01 @DATSGANModel.py:213]\u001b[0m \u001b[91mCreating cell for travel_year (in-edges: 0; ancestors: 0)\n",
      "\u001b[32m[1217 10:23:01 @DATSGANModel.py:213]\u001b[0m \u001b[91mCreating cell for car_ownership (in-edges: 0; ancestors: 0)\n",
      "\u001b[32m[1217 10:23:01 @DATSGANModel.py:213]\u001b[0m \u001b[91mCreating cell for female (in-edges: 0; ancestors: 0)\n",
      "\u001b[32m[1217 10:23:01 @DATSGANModel.py:213]\u001b[0m \u001b[91mCreating cell for age (in-edges: 0; ancestors: 0)\n",
      "\u001b[32m[1217 10:23:01 @DATSGANModel.py:213]\u001b[0m \u001b[91mCreating cell for travel_month (in-edges: 1; ancestors: 1)\n",
      "\u001b[32m[1217 10:23:01 @DATSGANModel.py:213]\u001b[0m \u001b[91mCreating cell for fueltype (in-edges: 1; ancestors: 1)\n",
      "\u001b[32m[1217 10:23:01 @DATSGANModel.py:213]\u001b[0m \u001b[91mCreating cell for driving_license (in-edges: 3; ancestors: 3)\n",
      "\u001b[32m[1217 10:23:01 @DATSGANModel.py:213]\u001b[0m \u001b[91mCreating cell for faretype (in-edges: 1; ancestors: 1)\n",
      "\u001b[32m[1217 10:23:01 @DATSGANModel.py:213]\u001b[0m \u001b[91mCreating cell for travel_date (in-edges: 1; ancestors: 2)\n",
      "\u001b[32m[1217 10:23:01 @DATSGANModel.py:213]\u001b[0m \u001b[91mCreating cell for bus_scale (in-edges: 2; ancestors: 2)\n",
      "\u001b[32m[1217 10:23:02 @DATSGANModel.py:213]\u001b[0m \u001b[91mCreating cell for day_of_week (in-edges: 2; ancestors: 3)\n",
      "\u001b[32m[1217 10:23:02 @DATSGANModel.py:213]\u001b[0m \u001b[91mCreating cell for purpose (in-edges: 1; ancestors: 4)\n",
      "\u001b[32m[1217 10:23:02 @DATSGANModel.py:213]\u001b[0m \u001b[91mCreating cell for start_time_linear (in-edges: 2; ancestors: 5)\n",
      "\u001b[32m[1217 10:23:02 @DATSGANModel.py:213]\u001b[0m \u001b[91mCreating cell for distance (in-edges: 1; ancestors: 5)\n",
      "\u001b[32m[1217 10:23:02 @DATSGANModel.py:213]\u001b[0m \u001b[91mCreating cell for driving_traffic_percent (in-edges: 3; ancestors: 6)\n",
      "\u001b[32m[1217 10:23:02 @DATSGANModel.py:213]\u001b[0m \u001b[91mCreating cell for cost_driving_fuel (in-edges: 2; ancestors: 8)\n",
      "\u001b[32m[1217 10:23:02 @DATSGANModel.py:213]\u001b[0m \u001b[91mCreating cell for dur_driving (in-edges: 1; ancestors: 6)\n",
      "\u001b[32m[1217 10:23:02 @DATSGANModel.py:213]\u001b[0m \u001b[91mCreating cell for dur_walking (in-edges: 1; ancestors: 6)\n",
      "\u001b[32m[1217 10:23:02 @DATSGANModel.py:213]\u001b[0m \u001b[91mCreating cell for dur_cycling (in-edges: 1; ancestors: 6)\n",
      "\u001b[32m[1217 10:23:02 @DATSGANModel.py:213]\u001b[0m \u001b[91mCreating cell for dur_pt_access (in-edges: 1; ancestors: 6)\n",
      "\u001b[32m[1217 10:23:02 @DATSGANModel.py:213]\u001b[0m \u001b[91mCreating cell for pt_n_interchanges (in-edges: 1; ancestors: 6)\n",
      "\u001b[32m[1217 10:23:02 @DATSGANModel.py:213]\u001b[0m \u001b[91mCreating cell for cost_driving_con_charge (in-edges: 5; ancestors: 11)\n",
      "\u001b[32m[1217 10:23:03 @DATSGANModel.py:213]\u001b[0m \u001b[91mCreating cell for dur_pt_rail (in-edges: 2; ancestors: 7)\n",
      "\u001b[32m[1217 10:23:03 @DATSGANModel.py:213]\u001b[0m \u001b[91mCreating cell for dur_pt_bus (in-edges: 2; ancestors: 7)\n",
      "\u001b[32m[1217 10:23:03 @DATSGANModel.py:213]\u001b[0m \u001b[91mCreating cell for dur_pt_int (in-edges: 2; ancestors: 7)\n",
      "\u001b[32m[1217 10:23:03 @DATSGANModel.py:213]\u001b[0m \u001b[91mCreating cell for cost_transit (in-edges: 5; ancestors: 12)\n",
      "\u001b[32m[1217 10:23:03 @DATSGANModel.py:213]\u001b[0m \u001b[91mCreating cell for travel_mode (in-edges: 21; ancestors: 26)\n",
      "\u001b[32m[1217 10:23:04 @collection.py:146]\u001b[0m New collections created in tower : tf.GraphKeys.REGULARIZATION_LOSSES\n",
      "\u001b[32m[1217 10:23:04 @collection.py:165]\u001b[0m These collections were modified but restored in : (tf.GraphKeys.SUMMARIES: 0->2)\n",
      "\u001b[32m[1217 10:23:04 @sessinit.py:87]\u001b[0m \u001b[5m\u001b[31mWRN\u001b[0m The following variables are in the checkpoint, but not found in the graph: global_step, optimize/beta1_power, optimize/beta2_power\n",
      "INFO:tensorflow:Graph was finalized.\n",
      "INFO:tensorflow:Running local_init_op.\n",
      "INFO:tensorflow:Done running local_init_op.\n",
      "\u001b[32m[1217 10:23:05 @sessinit.py:114]\u001b[0m Restoring checkpoint from ../output/LPMC/SGAN_OR_02/model\\model-35000 ...\n",
      "INFO:tensorflow:Restoring parameters from ../output/LPMC/SGAN_OR_02/model\\model-35000\n",
      "\u001b[32m[1217 10:23:06 @DATSGAN.py:267]\u001b[0m Loading Preprocessor!\n"
     ]
    },
    {
     "name": "stderr",
     "output_type": "stream",
     "text": [
      "|                                                                                          |35/?[00:01<00:00,29.90it/s]\n"
     ]
    },
    {
     "name": "stdout",
     "output_type": "stream",
     "text": [
      "\u001b[32m[1217 10:23:07 @DATSGAN.py:267]\u001b[0m Loading Preprocessor!\n"
     ]
    },
    {
     "name": "stderr",
     "output_type": "stream",
     "text": [
      "|                                                                                          |35/?[00:00<00:00,50.09it/s]\n"
     ]
    },
    {
     "name": "stdout",
     "output_type": "stream",
     "text": [
      "\u001b[32m[1217 10:23:08 @DATSGAN.py:267]\u001b[0m Loading Preprocessor!\n"
     ]
    },
    {
     "name": "stderr",
     "output_type": "stream",
     "text": [
      "|                                                                                          |35/?[00:00<00:00,50.37it/s]\n"
     ]
    },
    {
     "name": "stdout",
     "output_type": "stream",
     "text": [
      "\u001b[32m[1217 10:23:09 @DATSGAN.py:267]\u001b[0m Loading Preprocessor!\n"
     ]
    },
    {
     "name": "stderr",
     "output_type": "stream",
     "text": [
      "|                                                                                          |35/?[00:00<00:00,51.02it/s]\n"
     ]
    },
    {
     "name": "stdout",
     "output_type": "stream",
     "text": [
      "\u001b[32m[1217 10:23:10 @DATSGAN.py:267]\u001b[0m Loading Preprocessor!\n"
     ]
    },
    {
     "name": "stderr",
     "output_type": "stream",
     "text": [
      "|                                                                                          |35/?[00:00<00:00,51.73it/s]\n"
     ]
    },
    {
     "name": "stdout",
     "output_type": "stream",
     "text": [
      "\u001b[32m[1217 10:23:11 @DATSGAN.py:267]\u001b[0m Loading Preprocessor!\n"
     ]
    },
    {
     "name": "stderr",
     "output_type": "stream",
     "text": [
      "|                                                                                          |35/?[00:00<00:00,52.54it/s]\n"
     ]
    },
    {
     "name": "stdout",
     "output_type": "stream",
     "text": [
      "\u001b[32m[1217 10:23:12 @DATSGAN.py:267]\u001b[0m Loading Preprocessor!\n"
     ]
    },
    {
     "name": "stderr",
     "output_type": "stream",
     "text": [
      "|                                                                                          |35/?[00:00<00:00,50.63it/s]\n"
     ]
    },
    {
     "name": "stdout",
     "output_type": "stream",
     "text": [
      "\u001b[32m[1217 10:23:13 @DATSGAN.py:267]\u001b[0m Loading Preprocessor!\n"
     ]
    },
    {
     "name": "stderr",
     "output_type": "stream",
     "text": [
      "|                                                                                          |35/?[00:00<00:00,51.43it/s]\n"
     ]
    },
    {
     "name": "stdout",
     "output_type": "stream",
     "text": [
      "\u001b[32m[1217 10:23:14 @DATSGAN.py:267]\u001b[0m Loading Preprocessor!\n"
     ]
    },
    {
     "name": "stderr",
     "output_type": "stream",
     "text": [
      "|                                                                                          |35/?[00:00<00:00,51.51it/s]\n"
     ]
    },
    {
     "name": "stdout",
     "output_type": "stream",
     "text": [
      "\u001b[32m[1217 10:23:16 @DATSGAN.py:267]\u001b[0m Loading Preprocessor!\n"
     ]
    },
    {
     "name": "stderr",
     "output_type": "stream",
     "text": [
      "|                                                                                          |35/?[00:00<00:00,51.85it/s]\n"
     ]
    },
    {
     "name": "stdout",
     "output_type": "stream",
     "text": [
      "\u001b[32m[1217 10:23:17 @DATSGAN.py:267]\u001b[0m Loading Preprocessor!\n"
     ]
    },
    {
     "name": "stderr",
     "output_type": "stream",
     "text": [
      "|                                                                                          |35/?[00:00<00:00,49.80it/s]\n"
     ]
    },
    {
     "name": "stdout",
     "output_type": "stream",
     "text": [
      "\u001b[32m[1217 10:23:18 @DATSGAN.py:267]\u001b[0m Loading Preprocessor!\n"
     ]
    },
    {
     "name": "stderr",
     "output_type": "stream",
     "text": [
      "|                                                                                          |35/?[00:00<00:00,51.43it/s]\n"
     ]
    },
    {
     "name": "stdout",
     "output_type": "stream",
     "text": [
      "\u001b[32m[1217 10:23:19 @DATSGAN.py:267]\u001b[0m Loading Preprocessor!\n"
     ]
    },
    {
     "name": "stderr",
     "output_type": "stream",
     "text": [
      "|                                                                                          |35/?[00:00<00:00,51.28it/s]\n"
     ]
    },
    {
     "name": "stdout",
     "output_type": "stream",
     "text": [
      "\u001b[32m[1217 10:23:20 @DATSGAN.py:267]\u001b[0m Loading Preprocessor!\n"
     ]
    },
    {
     "name": "stderr",
     "output_type": "stream",
     "text": [
      "|                                                                                          |35/?[00:00<00:00,50.04it/s]\n"
     ]
    },
    {
     "name": "stdout",
     "output_type": "stream",
     "text": [
      "\u001b[32m[1217 10:23:21 @DATSGAN.py:267]\u001b[0m Loading Preprocessor!\n"
     ]
    },
    {
     "name": "stderr",
     "output_type": "stream",
     "text": [
      "|                                                                                          |35/?[00:00<00:00,50.40it/s]\n"
     ]
    },
    {
     "name": "stdout",
     "output_type": "stream",
     "text": [
      "\u001b[32m[1217 10:23:22 @DATSGAN.py:267]\u001b[0m Loading Preprocessor!\n"
     ]
    },
    {
     "name": "stderr",
     "output_type": "stream",
     "text": [
      "|                                                                                          |35/?[00:00<00:00,51.14it/s]\n"
     ]
    },
    {
     "name": "stdout",
     "output_type": "stream",
     "text": [
      "\u001b[32m[1217 10:23:23 @DATSGAN.py:267]\u001b[0m Loading Preprocessor!\n"
     ]
    },
    {
     "name": "stderr",
     "output_type": "stream",
     "text": [
      "|                                                                                          |35/?[00:00<00:00,50.92it/s]\n"
     ]
    },
    {
     "name": "stdout",
     "output_type": "stream",
     "text": [
      "\u001b[32m[1217 10:23:24 @DATSGAN.py:267]\u001b[0m Loading Preprocessor!\n"
     ]
    },
    {
     "name": "stderr",
     "output_type": "stream",
     "text": [
      "|                                                                                          |35/?[00:00<00:00,50.12it/s]\n"
     ]
    },
    {
     "name": "stdout",
     "output_type": "stream",
     "text": [
      "\u001b[32m[1217 10:23:25 @DATSGAN.py:267]\u001b[0m Loading Preprocessor!\n"
     ]
    },
    {
     "name": "stderr",
     "output_type": "stream",
     "text": [
      "|                                                                                          |35/?[00:00<00:00,51.77it/s]\n"
     ]
    },
    {
     "name": "stdout",
     "output_type": "stream",
     "text": [
      "\u001b[32m[1217 10:23:26 @DATSGAN.py:267]\u001b[0m Loading Preprocessor!\n"
     ]
    },
    {
     "name": "stderr",
     "output_type": "stream",
     "text": [
      "|                                                                                          |35/?[00:00<00:00,50.66it/s]\n"
     ]
    },
    {
     "name": "stdout",
     "output_type": "stream",
     "text": [
      "Sampling synthetic data from model \u001b[1mSGAN_OR_03\u001b[0m (8/60)\n",
      "\u001b[32m[1217 10:23:40 @DATSGANModel.py:213]\u001b[0m \u001b[91mCreating cell for travel_year (in-edges: 0; ancestors: 0)\n",
      "\u001b[32m[1217 10:23:40 @DATSGANModel.py:213]\u001b[0m \u001b[91mCreating cell for car_ownership (in-edges: 0; ancestors: 0)\n",
      "\u001b[32m[1217 10:23:40 @DATSGANModel.py:213]\u001b[0m \u001b[91mCreating cell for female (in-edges: 0; ancestors: 0)\n",
      "\u001b[32m[1217 10:23:40 @DATSGANModel.py:213]\u001b[0m \u001b[91mCreating cell for age (in-edges: 0; ancestors: 0)\n",
      "\u001b[32m[1217 10:23:40 @DATSGANModel.py:213]\u001b[0m \u001b[91mCreating cell for travel_month (in-edges: 1; ancestors: 1)\n",
      "\u001b[32m[1217 10:23:40 @DATSGANModel.py:213]\u001b[0m \u001b[91mCreating cell for fueltype (in-edges: 1; ancestors: 1)\n",
      "\u001b[32m[1217 10:23:40 @DATSGANModel.py:213]\u001b[0m \u001b[91mCreating cell for driving_license (in-edges: 3; ancestors: 3)\n",
      "\u001b[32m[1217 10:23:41 @DATSGANModel.py:213]\u001b[0m \u001b[91mCreating cell for faretype (in-edges: 1; ancestors: 1)\n",
      "\u001b[32m[1217 10:23:41 @DATSGANModel.py:213]\u001b[0m \u001b[91mCreating cell for travel_date (in-edges: 1; ancestors: 2)\n",
      "\u001b[32m[1217 10:23:41 @DATSGANModel.py:213]\u001b[0m \u001b[91mCreating cell for bus_scale (in-edges: 2; ancestors: 2)\n",
      "\u001b[32m[1217 10:23:41 @DATSGANModel.py:213]\u001b[0m \u001b[91mCreating cell for day_of_week (in-edges: 2; ancestors: 3)\n",
      "\u001b[32m[1217 10:23:41 @DATSGANModel.py:213]\u001b[0m \u001b[91mCreating cell for purpose (in-edges: 1; ancestors: 4)\n",
      "\u001b[32m[1217 10:23:41 @DATSGANModel.py:213]\u001b[0m \u001b[91mCreating cell for start_time_linear (in-edges: 2; ancestors: 5)\n",
      "\u001b[32m[1217 10:23:41 @DATSGANModel.py:213]\u001b[0m \u001b[91mCreating cell for distance (in-edges: 1; ancestors: 5)\n",
      "\u001b[32m[1217 10:23:41 @DATSGANModel.py:213]\u001b[0m \u001b[91mCreating cell for driving_traffic_percent (in-edges: 3; ancestors: 6)\n",
      "\u001b[32m[1217 10:23:41 @DATSGANModel.py:213]\u001b[0m \u001b[91mCreating cell for cost_driving_fuel (in-edges: 2; ancestors: 8)\n",
      "\u001b[32m[1217 10:23:41 @DATSGANModel.py:213]\u001b[0m \u001b[91mCreating cell for dur_driving (in-edges: 1; ancestors: 6)\n",
      "\u001b[32m[1217 10:23:41 @DATSGANModel.py:213]\u001b[0m \u001b[91mCreating cell for dur_walking (in-edges: 1; ancestors: 6)\n",
      "\u001b[32m[1217 10:23:41 @DATSGANModel.py:213]\u001b[0m \u001b[91mCreating cell for dur_cycling (in-edges: 1; ancestors: 6)\n",
      "\u001b[32m[1217 10:23:41 @DATSGANModel.py:213]\u001b[0m \u001b[91mCreating cell for dur_pt_access (in-edges: 1; ancestors: 6)\n",
      "\u001b[32m[1217 10:23:41 @DATSGANModel.py:213]\u001b[0m \u001b[91mCreating cell for pt_n_interchanges (in-edges: 1; ancestors: 6)\n",
      "\u001b[32m[1217 10:23:42 @DATSGANModel.py:213]\u001b[0m \u001b[91mCreating cell for cost_driving_con_charge (in-edges: 5; ancestors: 11)\n",
      "\u001b[32m[1217 10:23:42 @DATSGANModel.py:213]\u001b[0m \u001b[91mCreating cell for dur_pt_rail (in-edges: 2; ancestors: 7)\n",
      "\u001b[32m[1217 10:23:42 @DATSGANModel.py:213]\u001b[0m \u001b[91mCreating cell for dur_pt_bus (in-edges: 2; ancestors: 7)\n",
      "\u001b[32m[1217 10:23:42 @DATSGANModel.py:213]\u001b[0m \u001b[91mCreating cell for dur_pt_int (in-edges: 2; ancestors: 7)\n",
      "\u001b[32m[1217 10:23:42 @DATSGANModel.py:213]\u001b[0m \u001b[91mCreating cell for cost_transit (in-edges: 5; ancestors: 12)\n",
      "\u001b[32m[1217 10:23:42 @DATSGANModel.py:213]\u001b[0m \u001b[91mCreating cell for travel_mode (in-edges: 21; ancestors: 26)\n",
      "\u001b[32m[1217 10:23:43 @collection.py:146]\u001b[0m New collections created in tower : tf.GraphKeys.REGULARIZATION_LOSSES\n",
      "\u001b[32m[1217 10:23:43 @collection.py:165]\u001b[0m These collections were modified but restored in : (tf.GraphKeys.SUMMARIES: 0->2)\n",
      "\u001b[32m[1217 10:23:43 @sessinit.py:87]\u001b[0m \u001b[5m\u001b[31mWRN\u001b[0m The following variables are in the checkpoint, but not found in the graph: global_step, optimize/beta1_power, optimize/beta2_power\n",
      "INFO:tensorflow:Graph was finalized.\n",
      "INFO:tensorflow:Running local_init_op.\n",
      "INFO:tensorflow:Done running local_init_op.\n",
      "\u001b[32m[1217 10:23:45 @sessinit.py:114]\u001b[0m Restoring checkpoint from ../output/LPMC/SGAN_OR_03/model\\model-35000 ...\n",
      "INFO:tensorflow:Restoring parameters from ../output/LPMC/SGAN_OR_03/model\\model-35000\n",
      "\u001b[32m[1217 10:23:45 @DATSGAN.py:267]\u001b[0m Loading Preprocessor!\n"
     ]
    },
    {
     "name": "stderr",
     "output_type": "stream",
     "text": [
      "|                                                                                          |35/?[00:01<00:00,30.38it/s]\n"
     ]
    },
    {
     "name": "stdout",
     "output_type": "stream",
     "text": [
      "\u001b[32m[1217 10:23:46 @DATSGAN.py:267]\u001b[0m Loading Preprocessor!\n"
     ]
    },
    {
     "name": "stderr",
     "output_type": "stream",
     "text": [
      "|                                                                                          |35/?[00:00<00:00,52.50it/s]\n"
     ]
    },
    {
     "name": "stdout",
     "output_type": "stream",
     "text": [
      "\u001b[32m[1217 10:23:47 @DATSGAN.py:267]\u001b[0m Loading Preprocessor!\n"
     ]
    },
    {
     "name": "stderr",
     "output_type": "stream",
     "text": [
      "|                                                                                          |35/?[00:00<00:00,52.98it/s]\n"
     ]
    },
    {
     "name": "stdout",
     "output_type": "stream",
     "text": [
      "\u001b[32m[1217 10:23:48 @DATSGAN.py:267]\u001b[0m Loading Preprocessor!\n"
     ]
    },
    {
     "name": "stderr",
     "output_type": "stream",
     "text": [
      "|                                                                                          |35/?[00:00<00:00,50.77it/s]\n"
     ]
    },
    {
     "name": "stdout",
     "output_type": "stream",
     "text": [
      "\u001b[32m[1217 10:23:49 @DATSGAN.py:267]\u001b[0m Loading Preprocessor!\n"
     ]
    },
    {
     "name": "stderr",
     "output_type": "stream",
     "text": [
      "|                                                                                          |35/?[00:00<00:00,50.99it/s]\n"
     ]
    },
    {
     "name": "stdout",
     "output_type": "stream",
     "text": [
      "\u001b[32m[1217 10:23:50 @DATSGAN.py:267]\u001b[0m Loading Preprocessor!\n"
     ]
    },
    {
     "name": "stderr",
     "output_type": "stream",
     "text": [
      "|                                                                                          |35/?[00:00<00:00,51.44it/s]\n"
     ]
    },
    {
     "name": "stdout",
     "output_type": "stream",
     "text": [
      "\u001b[32m[1217 10:23:51 @DATSGAN.py:267]\u001b[0m Loading Preprocessor!\n"
     ]
    },
    {
     "name": "stderr",
     "output_type": "stream",
     "text": [
      "|                                                                                          |35/?[00:00<00:00,51.73it/s]\n"
     ]
    },
    {
     "name": "stdout",
     "output_type": "stream",
     "text": [
      "\u001b[32m[1217 10:23:52 @DATSGAN.py:267]\u001b[0m Loading Preprocessor!\n"
     ]
    },
    {
     "name": "stderr",
     "output_type": "stream",
     "text": [
      "|                                                                                          |35/?[00:00<00:00,52.04it/s]\n"
     ]
    },
    {
     "name": "stdout",
     "output_type": "stream",
     "text": [
      "\u001b[32m[1217 10:23:53 @DATSGAN.py:267]\u001b[0m Loading Preprocessor!\n"
     ]
    },
    {
     "name": "stderr",
     "output_type": "stream",
     "text": [
      "|                                                                                          |35/?[00:00<00:00,49.75it/s]\n"
     ]
    },
    {
     "name": "stdout",
     "output_type": "stream",
     "text": [
      "\u001b[32m[1217 10:23:55 @DATSGAN.py:267]\u001b[0m Loading Preprocessor!\n"
     ]
    },
    {
     "name": "stderr",
     "output_type": "stream",
     "text": [
      "|                                                                                          |35/?[00:00<00:00,52.04it/s]\n"
     ]
    },
    {
     "name": "stdout",
     "output_type": "stream",
     "text": [
      "\u001b[32m[1217 10:23:55 @DATSGAN.py:267]\u001b[0m Loading Preprocessor!\n"
     ]
    },
    {
     "name": "stderr",
     "output_type": "stream",
     "text": [
      "|                                                                                          |35/?[00:00<00:00,51.89it/s]\n"
     ]
    },
    {
     "name": "stdout",
     "output_type": "stream",
     "text": [
      "\u001b[32m[1217 10:23:57 @DATSGAN.py:267]\u001b[0m Loading Preprocessor!\n"
     ]
    },
    {
     "name": "stderr",
     "output_type": "stream",
     "text": [
      "|                                                                                          |35/?[00:00<00:00,50.59it/s]\n"
     ]
    },
    {
     "name": "stdout",
     "output_type": "stream",
     "text": [
      "\u001b[32m[1217 10:23:58 @DATSGAN.py:267]\u001b[0m Loading Preprocessor!\n"
     ]
    },
    {
     "name": "stderr",
     "output_type": "stream",
     "text": [
      "|                                                                                          |35/?[00:00<00:00,51.73it/s]\n"
     ]
    },
    {
     "name": "stdout",
     "output_type": "stream",
     "text": [
      "\u001b[32m[1217 10:23:59 @DATSGAN.py:267]\u001b[0m Loading Preprocessor!\n"
     ]
    },
    {
     "name": "stderr",
     "output_type": "stream",
     "text": [
      "|                                                                                          |35/?[00:00<00:00,52.43it/s]\n"
     ]
    },
    {
     "name": "stdout",
     "output_type": "stream",
     "text": [
      "\u001b[32m[1217 10:24:00 @DATSGAN.py:267]\u001b[0m Loading Preprocessor!\n"
     ]
    },
    {
     "name": "stderr",
     "output_type": "stream",
     "text": [
      "|                                                                                          |35/?[00:00<00:00,50.91it/s]\n"
     ]
    },
    {
     "name": "stdout",
     "output_type": "stream",
     "text": [
      "\u001b[32m[1217 10:24:01 @DATSGAN.py:267]\u001b[0m Loading Preprocessor!\n"
     ]
    },
    {
     "name": "stderr",
     "output_type": "stream",
     "text": [
      "|                                                                                          |35/?[00:00<00:00,51.59it/s]\n"
     ]
    },
    {
     "name": "stdout",
     "output_type": "stream",
     "text": [
      "\u001b[32m[1217 10:24:02 @DATSGAN.py:267]\u001b[0m Loading Preprocessor!\n"
     ]
    },
    {
     "name": "stderr",
     "output_type": "stream",
     "text": [
      "|                                                                                          |35/?[00:00<00:00,51.74it/s]\n"
     ]
    },
    {
     "name": "stdout",
     "output_type": "stream",
     "text": [
      "\u001b[32m[1217 10:24:03 @DATSGAN.py:267]\u001b[0m Loading Preprocessor!\n"
     ]
    },
    {
     "name": "stderr",
     "output_type": "stream",
     "text": [
      "|                                                                                          |35/?[00:00<00:00,51.77it/s]\n"
     ]
    },
    {
     "name": "stdout",
     "output_type": "stream",
     "text": [
      "\u001b[32m[1217 10:24:04 @DATSGAN.py:267]\u001b[0m Loading Preprocessor!\n"
     ]
    },
    {
     "name": "stderr",
     "output_type": "stream",
     "text": [
      "|                                                                                          |35/?[00:00<00:00,50.75it/s]\n"
     ]
    },
    {
     "name": "stdout",
     "output_type": "stream",
     "text": [
      "\u001b[32m[1217 10:24:05 @DATSGAN.py:267]\u001b[0m Loading Preprocessor!\n"
     ]
    },
    {
     "name": "stderr",
     "output_type": "stream",
     "text": [
      "|                                                                                          |35/?[00:00<00:00,51.54it/s]\n"
     ]
    },
    {
     "name": "stdout",
     "output_type": "stream",
     "text": [
      "Sampling synthetic data from model \u001b[1mSGAN_OR_04\u001b[0m (9/60)\n",
      "\u001b[32m[1217 10:24:19 @DATSGANModel.py:213]\u001b[0m \u001b[91mCreating cell for travel_year (in-edges: 0; ancestors: 0)\n",
      "\u001b[32m[1217 10:24:19 @DATSGANModel.py:213]\u001b[0m \u001b[91mCreating cell for car_ownership (in-edges: 0; ancestors: 0)\n",
      "\u001b[32m[1217 10:24:19 @DATSGANModel.py:213]\u001b[0m \u001b[91mCreating cell for female (in-edges: 0; ancestors: 0)\n",
      "\u001b[32m[1217 10:24:19 @DATSGANModel.py:213]\u001b[0m \u001b[91mCreating cell for age (in-edges: 0; ancestors: 0)\n",
      "\u001b[32m[1217 10:24:19 @DATSGANModel.py:213]\u001b[0m \u001b[91mCreating cell for travel_month (in-edges: 1; ancestors: 1)\n",
      "\u001b[32m[1217 10:24:19 @DATSGANModel.py:213]\u001b[0m \u001b[91mCreating cell for fueltype (in-edges: 1; ancestors: 1)\n",
      "\u001b[32m[1217 10:24:19 @DATSGANModel.py:213]\u001b[0m \u001b[91mCreating cell for driving_license (in-edges: 3; ancestors: 3)\n",
      "\u001b[32m[1217 10:24:19 @DATSGANModel.py:213]\u001b[0m \u001b[91mCreating cell for faretype (in-edges: 1; ancestors: 1)\n",
      "\u001b[32m[1217 10:24:19 @DATSGANModel.py:213]\u001b[0m \u001b[91mCreating cell for travel_date (in-edges: 1; ancestors: 2)\n",
      "\u001b[32m[1217 10:24:19 @DATSGANModel.py:213]\u001b[0m \u001b[91mCreating cell for bus_scale (in-edges: 2; ancestors: 2)\n",
      "\u001b[32m[1217 10:24:19 @DATSGANModel.py:213]\u001b[0m \u001b[91mCreating cell for day_of_week (in-edges: 2; ancestors: 3)\n",
      "\u001b[32m[1217 10:24:19 @DATSGANModel.py:213]\u001b[0m \u001b[91mCreating cell for purpose (in-edges: 1; ancestors: 4)\n",
      "\u001b[32m[1217 10:24:19 @DATSGANModel.py:213]\u001b[0m \u001b[91mCreating cell for start_time_linear (in-edges: 2; ancestors: 5)\n",
      "\u001b[32m[1217 10:24:19 @DATSGANModel.py:213]\u001b[0m \u001b[91mCreating cell for distance (in-edges: 1; ancestors: 5)\n",
      "\u001b[32m[1217 10:24:19 @DATSGANModel.py:213]\u001b[0m \u001b[91mCreating cell for driving_traffic_percent (in-edges: 3; ancestors: 6)\n",
      "\u001b[32m[1217 10:24:20 @DATSGANModel.py:213]\u001b[0m \u001b[91mCreating cell for cost_driving_fuel (in-edges: 2; ancestors: 8)\n",
      "\u001b[32m[1217 10:24:20 @DATSGANModel.py:213]\u001b[0m \u001b[91mCreating cell for dur_driving (in-edges: 1; ancestors: 6)\n",
      "\u001b[32m[1217 10:24:20 @DATSGANModel.py:213]\u001b[0m \u001b[91mCreating cell for dur_walking (in-edges: 1; ancestors: 6)\n",
      "\u001b[32m[1217 10:24:20 @DATSGANModel.py:213]\u001b[0m \u001b[91mCreating cell for dur_cycling (in-edges: 1; ancestors: 6)\n",
      "\u001b[32m[1217 10:24:20 @DATSGANModel.py:213]\u001b[0m \u001b[91mCreating cell for dur_pt_access (in-edges: 1; ancestors: 6)\n",
      "\u001b[32m[1217 10:24:20 @DATSGANModel.py:213]\u001b[0m \u001b[91mCreating cell for pt_n_interchanges (in-edges: 1; ancestors: 6)\n",
      "\u001b[32m[1217 10:24:20 @DATSGANModel.py:213]\u001b[0m \u001b[91mCreating cell for cost_driving_con_charge (in-edges: 5; ancestors: 11)\n",
      "\u001b[32m[1217 10:24:20 @DATSGANModel.py:213]\u001b[0m \u001b[91mCreating cell for dur_pt_rail (in-edges: 2; ancestors: 7)\n",
      "\u001b[32m[1217 10:24:20 @DATSGANModel.py:213]\u001b[0m \u001b[91mCreating cell for dur_pt_bus (in-edges: 2; ancestors: 7)\n",
      "\u001b[32m[1217 10:24:20 @DATSGANModel.py:213]\u001b[0m \u001b[91mCreating cell for dur_pt_int (in-edges: 2; ancestors: 7)\n",
      "\u001b[32m[1217 10:24:20 @DATSGANModel.py:213]\u001b[0m \u001b[91mCreating cell for cost_transit (in-edges: 5; ancestors: 12)\n",
      "\u001b[32m[1217 10:24:21 @DATSGANModel.py:213]\u001b[0m \u001b[91mCreating cell for travel_mode (in-edges: 21; ancestors: 26)\n",
      "\u001b[32m[1217 10:24:21 @collection.py:146]\u001b[0m New collections created in tower : tf.GraphKeys.REGULARIZATION_LOSSES\n",
      "\u001b[32m[1217 10:24:21 @collection.py:165]\u001b[0m These collections were modified but restored in : (tf.GraphKeys.SUMMARIES: 0->2)\n",
      "\u001b[32m[1217 10:24:21 @sessinit.py:87]\u001b[0m \u001b[5m\u001b[31mWRN\u001b[0m The following variables are in the checkpoint, but not found in the graph: global_step, optimize/beta1_power, optimize/beta2_power\n",
      "INFO:tensorflow:Graph was finalized.\n",
      "INFO:tensorflow:Running local_init_op.\n",
      "INFO:tensorflow:Done running local_init_op.\n",
      "\u001b[32m[1217 10:24:23 @sessinit.py:114]\u001b[0m Restoring checkpoint from ../output/LPMC/SGAN_OR_04/model\\model-35000 ...\n",
      "INFO:tensorflow:Restoring parameters from ../output/LPMC/SGAN_OR_04/model\\model-35000\n",
      "\u001b[32m[1217 10:24:24 @DATSGAN.py:267]\u001b[0m Loading Preprocessor!\n"
     ]
    },
    {
     "name": "stderr",
     "output_type": "stream",
     "text": [
      "|                                                                                          |35/?[00:01<00:00,28.20it/s]\n"
     ]
    },
    {
     "name": "stdout",
     "output_type": "stream",
     "text": [
      "\u001b[32m[1217 10:24:25 @DATSGAN.py:267]\u001b[0m Loading Preprocessor!\n"
     ]
    },
    {
     "name": "stderr",
     "output_type": "stream",
     "text": [
      "|                                                                                          |35/?[00:00<00:00,48.27it/s]\n"
     ]
    },
    {
     "name": "stdout",
     "output_type": "stream",
     "text": [
      "\u001b[32m[1217 10:24:26 @DATSGAN.py:267]\u001b[0m Loading Preprocessor!\n"
     ]
    },
    {
     "name": "stderr",
     "output_type": "stream",
     "text": [
      "|                                                                                          |35/?[00:00<00:00,48.23it/s]\n"
     ]
    },
    {
     "name": "stdout",
     "output_type": "stream",
     "text": [
      "\u001b[32m[1217 10:24:27 @DATSGAN.py:267]\u001b[0m Loading Preprocessor!\n"
     ]
    },
    {
     "name": "stderr",
     "output_type": "stream",
     "text": [
      "|                                                                                          |35/?[00:00<00:00,48.97it/s]\n"
     ]
    },
    {
     "name": "stdout",
     "output_type": "stream",
     "text": [
      "\u001b[32m[1217 10:24:29 @DATSGAN.py:267]\u001b[0m Loading Preprocessor!\n"
     ]
    },
    {
     "name": "stderr",
     "output_type": "stream",
     "text": [
      "|                                                                                          |35/?[00:00<00:00,47.78it/s]\n"
     ]
    },
    {
     "name": "stdout",
     "output_type": "stream",
     "text": [
      "\u001b[32m[1217 10:24:30 @DATSGAN.py:267]\u001b[0m Loading Preprocessor!\n"
     ]
    },
    {
     "name": "stderr",
     "output_type": "stream",
     "text": [
      "|                                                                                          |35/?[00:00<00:00,47.65it/s]\n"
     ]
    },
    {
     "name": "stdout",
     "output_type": "stream",
     "text": [
      "\u001b[32m[1217 10:24:31 @DATSGAN.py:267]\u001b[0m Loading Preprocessor!\n"
     ]
    },
    {
     "name": "stderr",
     "output_type": "stream",
     "text": [
      "|                                                                                          |35/?[00:00<00:00,48.38it/s]\n"
     ]
    },
    {
     "name": "stdout",
     "output_type": "stream",
     "text": [
      "\u001b[32m[1217 10:24:32 @DATSGAN.py:267]\u001b[0m Loading Preprocessor!\n"
     ]
    },
    {
     "name": "stderr",
     "output_type": "stream",
     "text": [
      "|                                                                                          |35/?[00:00<00:00,47.04it/s]\n"
     ]
    },
    {
     "name": "stdout",
     "output_type": "stream",
     "text": [
      "\u001b[32m[1217 10:24:33 @DATSGAN.py:267]\u001b[0m Loading Preprocessor!\n"
     ]
    },
    {
     "name": "stderr",
     "output_type": "stream",
     "text": [
      "|                                                                                          |35/?[00:00<00:00,45.09it/s]\n"
     ]
    },
    {
     "name": "stdout",
     "output_type": "stream",
     "text": [
      "\u001b[32m[1217 10:24:34 @DATSGAN.py:267]\u001b[0m Loading Preprocessor!\n"
     ]
    },
    {
     "name": "stderr",
     "output_type": "stream",
     "text": [
      "|                                                                                          |35/?[00:00<00:00,47.04it/s]\n"
     ]
    },
    {
     "name": "stdout",
     "output_type": "stream",
     "text": [
      "\u001b[32m[1217 10:24:35 @DATSGAN.py:267]\u001b[0m Loading Preprocessor!\n"
     ]
    },
    {
     "name": "stderr",
     "output_type": "stream",
     "text": [
      "|                                                                                          |35/?[00:00<00:00,47.11it/s]\n"
     ]
    },
    {
     "name": "stdout",
     "output_type": "stream",
     "text": [
      "\u001b[32m[1217 10:24:36 @DATSGAN.py:267]\u001b[0m Loading Preprocessor!\n"
     ]
    },
    {
     "name": "stderr",
     "output_type": "stream",
     "text": [
      "|                                                                                          |35/?[00:00<00:00,46.70it/s]\n"
     ]
    },
    {
     "name": "stdout",
     "output_type": "stream",
     "text": [
      "\u001b[32m[1217 10:24:38 @DATSGAN.py:267]\u001b[0m Loading Preprocessor!\n"
     ]
    },
    {
     "name": "stderr",
     "output_type": "stream",
     "text": [
      "|                                                                                          |35/?[00:00<00:00,44.95it/s]\n"
     ]
    },
    {
     "name": "stdout",
     "output_type": "stream",
     "text": [
      "\u001b[32m[1217 10:24:39 @DATSGAN.py:267]\u001b[0m Loading Preprocessor!\n"
     ]
    },
    {
     "name": "stderr",
     "output_type": "stream",
     "text": [
      "|                                                                                          |35/?[00:00<00:00,45.26it/s]\n"
     ]
    },
    {
     "name": "stdout",
     "output_type": "stream",
     "text": [
      "\u001b[32m[1217 10:24:40 @DATSGAN.py:267]\u001b[0m Loading Preprocessor!\n"
     ]
    },
    {
     "name": "stderr",
     "output_type": "stream",
     "text": [
      "|                                                                                          |35/?[00:00<00:00,49.21it/s]\n"
     ]
    },
    {
     "name": "stdout",
     "output_type": "stream",
     "text": [
      "\u001b[32m[1217 10:24:41 @DATSGAN.py:267]\u001b[0m Loading Preprocessor!\n"
     ]
    },
    {
     "name": "stderr",
     "output_type": "stream",
     "text": [
      "|                                                                                          |35/?[00:00<00:00,48.00it/s]\n"
     ]
    },
    {
     "name": "stdout",
     "output_type": "stream",
     "text": [
      "\u001b[32m[1217 10:24:42 @DATSGAN.py:267]\u001b[0m Loading Preprocessor!\n"
     ]
    },
    {
     "name": "stderr",
     "output_type": "stream",
     "text": [
      "|                                                                                          |35/?[00:00<00:00,48.70it/s]\n"
     ]
    },
    {
     "name": "stdout",
     "output_type": "stream",
     "text": [
      "\u001b[32m[1217 10:24:43 @DATSGAN.py:267]\u001b[0m Loading Preprocessor!\n"
     ]
    },
    {
     "name": "stderr",
     "output_type": "stream",
     "text": [
      "|                                                                                          |35/?[00:00<00:00,48.27it/s]\n"
     ]
    },
    {
     "name": "stdout",
     "output_type": "stream",
     "text": [
      "\u001b[32m[1217 10:24:45 @DATSGAN.py:267]\u001b[0m Loading Preprocessor!\n"
     ]
    },
    {
     "name": "stderr",
     "output_type": "stream",
     "text": [
      "|                                                                                          |35/?[00:00<00:00,47.68it/s]\n"
     ]
    },
    {
     "name": "stdout",
     "output_type": "stream",
     "text": [
      "\u001b[32m[1217 10:24:46 @DATSGAN.py:267]\u001b[0m Loading Preprocessor!\n"
     ]
    },
    {
     "name": "stderr",
     "output_type": "stream",
     "text": [
      "|                                                                                          |35/?[00:00<00:00,49.41it/s]\n"
     ]
    },
    {
     "name": "stdout",
     "output_type": "stream",
     "text": [
      "Sampling synthetic data from model \u001b[1mSGAN_OR_05\u001b[0m (10/60)\n",
      "\u001b[32m[1217 10:25:00 @DATSGANModel.py:213]\u001b[0m \u001b[91mCreating cell for travel_year (in-edges: 0; ancestors: 0)\n",
      "\u001b[32m[1217 10:25:00 @DATSGANModel.py:213]\u001b[0m \u001b[91mCreating cell for car_ownership (in-edges: 0; ancestors: 0)\n",
      "\u001b[32m[1217 10:25:00 @DATSGANModel.py:213]\u001b[0m \u001b[91mCreating cell for female (in-edges: 0; ancestors: 0)\n",
      "\u001b[32m[1217 10:25:00 @DATSGANModel.py:213]\u001b[0m \u001b[91mCreating cell for age (in-edges: 0; ancestors: 0)\n",
      "\u001b[32m[1217 10:25:00 @DATSGANModel.py:213]\u001b[0m \u001b[91mCreating cell for travel_month (in-edges: 1; ancestors: 1)\n",
      "\u001b[32m[1217 10:25:00 @DATSGANModel.py:213]\u001b[0m \u001b[91mCreating cell for fueltype (in-edges: 1; ancestors: 1)\n",
      "\u001b[32m[1217 10:25:00 @DATSGANModel.py:213]\u001b[0m \u001b[91mCreating cell for driving_license (in-edges: 3; ancestors: 3)\n",
      "\u001b[32m[1217 10:25:00 @DATSGANModel.py:213]\u001b[0m \u001b[91mCreating cell for faretype (in-edges: 1; ancestors: 1)\n",
      "\u001b[32m[1217 10:25:00 @DATSGANModel.py:213]\u001b[0m \u001b[91mCreating cell for travel_date (in-edges: 1; ancestors: 2)\n",
      "\u001b[32m[1217 10:25:00 @DATSGANModel.py:213]\u001b[0m \u001b[91mCreating cell for bus_scale (in-edges: 2; ancestors: 2)\n",
      "\u001b[32m[1217 10:25:01 @DATSGANModel.py:213]\u001b[0m \u001b[91mCreating cell for day_of_week (in-edges: 2; ancestors: 3)\n",
      "\u001b[32m[1217 10:25:01 @DATSGANModel.py:213]\u001b[0m \u001b[91mCreating cell for purpose (in-edges: 1; ancestors: 4)\n",
      "\u001b[32m[1217 10:25:01 @DATSGANModel.py:213]\u001b[0m \u001b[91mCreating cell for start_time_linear (in-edges: 2; ancestors: 5)\n",
      "\u001b[32m[1217 10:25:01 @DATSGANModel.py:213]\u001b[0m \u001b[91mCreating cell for distance (in-edges: 1; ancestors: 5)\n",
      "\u001b[32m[1217 10:25:01 @DATSGANModel.py:213]\u001b[0m \u001b[91mCreating cell for driving_traffic_percent (in-edges: 3; ancestors: 6)\n",
      "\u001b[32m[1217 10:25:01 @DATSGANModel.py:213]\u001b[0m \u001b[91mCreating cell for cost_driving_fuel (in-edges: 2; ancestors: 8)\n",
      "\u001b[32m[1217 10:25:01 @DATSGANModel.py:213]\u001b[0m \u001b[91mCreating cell for dur_driving (in-edges: 1; ancestors: 6)\n",
      "\u001b[32m[1217 10:25:01 @DATSGANModel.py:213]\u001b[0m \u001b[91mCreating cell for dur_walking (in-edges: 1; ancestors: 6)\n",
      "\u001b[32m[1217 10:25:01 @DATSGANModel.py:213]\u001b[0m \u001b[91mCreating cell for dur_cycling (in-edges: 1; ancestors: 6)\n",
      "\u001b[32m[1217 10:25:01 @DATSGANModel.py:213]\u001b[0m \u001b[91mCreating cell for dur_pt_access (in-edges: 1; ancestors: 6)\n",
      "\u001b[32m[1217 10:25:01 @DATSGANModel.py:213]\u001b[0m \u001b[91mCreating cell for pt_n_interchanges (in-edges: 1; ancestors: 6)\n",
      "\u001b[32m[1217 10:25:01 @DATSGANModel.py:213]\u001b[0m \u001b[91mCreating cell for cost_driving_con_charge (in-edges: 5; ancestors: 11)\n",
      "\u001b[32m[1217 10:25:01 @DATSGANModel.py:213]\u001b[0m \u001b[91mCreating cell for dur_pt_rail (in-edges: 2; ancestors: 7)\n",
      "\u001b[32m[1217 10:25:02 @DATSGANModel.py:213]\u001b[0m \u001b[91mCreating cell for dur_pt_bus (in-edges: 2; ancestors: 7)\n",
      "\u001b[32m[1217 10:25:02 @DATSGANModel.py:213]\u001b[0m \u001b[91mCreating cell for dur_pt_int (in-edges: 2; ancestors: 7)\n",
      "\u001b[32m[1217 10:25:02 @DATSGANModel.py:213]\u001b[0m \u001b[91mCreating cell for cost_transit (in-edges: 5; ancestors: 12)\n",
      "\u001b[32m[1217 10:25:02 @DATSGANModel.py:213]\u001b[0m \u001b[91mCreating cell for travel_mode (in-edges: 21; ancestors: 26)\n",
      "\u001b[32m[1217 10:25:03 @collection.py:146]\u001b[0m New collections created in tower : tf.GraphKeys.REGULARIZATION_LOSSES\n",
      "\u001b[32m[1217 10:25:03 @collection.py:165]\u001b[0m These collections were modified but restored in : (tf.GraphKeys.SUMMARIES: 0->2)\n",
      "\u001b[32m[1217 10:25:03 @sessinit.py:87]\u001b[0m \u001b[5m\u001b[31mWRN\u001b[0m The following variables are in the checkpoint, but not found in the graph: global_step, optimize/beta1_power, optimize/beta2_power\n",
      "INFO:tensorflow:Graph was finalized.\n",
      "INFO:tensorflow:Running local_init_op.\n",
      "INFO:tensorflow:Done running local_init_op.\n",
      "\u001b[32m[1217 10:25:05 @sessinit.py:114]\u001b[0m Restoring checkpoint from ../output/LPMC/SGAN_OR_05/model\\model-35000 ...\n",
      "INFO:tensorflow:Restoring parameters from ../output/LPMC/SGAN_OR_05/model\\model-35000\n",
      "\u001b[32m[1217 10:25:05 @DATSGAN.py:267]\u001b[0m Loading Preprocessor!\n"
     ]
    },
    {
     "name": "stderr",
     "output_type": "stream",
     "text": [
      "|                                                                                          |35/?[00:01<00:00,28.11it/s]\n"
     ]
    },
    {
     "name": "stdout",
     "output_type": "stream",
     "text": [
      "\u001b[32m[1217 10:25:06 @DATSGAN.py:267]\u001b[0m Loading Preprocessor!\n"
     ]
    },
    {
     "name": "stderr",
     "output_type": "stream",
     "text": [
      "|                                                                                          |35/?[00:00<00:00,47.61it/s]\n"
     ]
    },
    {
     "name": "stdout",
     "output_type": "stream",
     "text": [
      "\u001b[32m[1217 10:25:08 @DATSGAN.py:267]\u001b[0m Loading Preprocessor!\n"
     ]
    },
    {
     "name": "stderr",
     "output_type": "stream",
     "text": [
      "|                                                                                          |35/?[00:00<00:00,48.33it/s]\n"
     ]
    },
    {
     "name": "stdout",
     "output_type": "stream",
     "text": [
      "\u001b[32m[1217 10:25:09 @DATSGAN.py:267]\u001b[0m Loading Preprocessor!\n"
     ]
    },
    {
     "name": "stderr",
     "output_type": "stream",
     "text": [
      "|                                                                                          |35/?[00:00<00:00,48.10it/s]\n"
     ]
    },
    {
     "name": "stdout",
     "output_type": "stream",
     "text": [
      "\u001b[32m[1217 10:25:10 @DATSGAN.py:267]\u001b[0m Loading Preprocessor!\n"
     ]
    },
    {
     "name": "stderr",
     "output_type": "stream",
     "text": [
      "|                                                                                          |35/?[00:00<00:00,49.04it/s]\n"
     ]
    },
    {
     "name": "stdout",
     "output_type": "stream",
     "text": [
      "\u001b[32m[1217 10:25:11 @DATSGAN.py:267]\u001b[0m Loading Preprocessor!\n"
     ]
    },
    {
     "name": "stderr",
     "output_type": "stream",
     "text": [
      "|                                                                                          |35/?[00:00<00:00,47.65it/s]\n"
     ]
    },
    {
     "name": "stdout",
     "output_type": "stream",
     "text": [
      "\u001b[32m[1217 10:25:12 @DATSGAN.py:267]\u001b[0m Loading Preprocessor!\n"
     ]
    },
    {
     "name": "stderr",
     "output_type": "stream",
     "text": [
      "|                                                                                          |35/?[00:00<00:00,45.41it/s]\n"
     ]
    },
    {
     "name": "stdout",
     "output_type": "stream",
     "text": [
      "\u001b[32m[1217 10:25:13 @DATSGAN.py:267]\u001b[0m Loading Preprocessor!\n"
     ]
    },
    {
     "name": "stderr",
     "output_type": "stream",
     "text": [
      "|                                                                                          |35/?[00:00<00:00,45.76it/s]\n"
     ]
    },
    {
     "name": "stdout",
     "output_type": "stream",
     "text": [
      "\u001b[32m[1217 10:25:14 @DATSGAN.py:267]\u001b[0m Loading Preprocessor!\n"
     ]
    },
    {
     "name": "stderr",
     "output_type": "stream",
     "text": [
      "|                                                                                          |35/?[00:00<00:00,49.31it/s]\n"
     ]
    },
    {
     "name": "stdout",
     "output_type": "stream",
     "text": [
      "\u001b[32m[1217 10:25:15 @DATSGAN.py:267]\u001b[0m Loading Preprocessor!\n"
     ]
    },
    {
     "name": "stderr",
     "output_type": "stream",
     "text": [
      "|                                                                                          |35/?[00:00<00:00,44.97it/s]\n"
     ]
    },
    {
     "name": "stdout",
     "output_type": "stream",
     "text": [
      "\u001b[32m[1217 10:25:17 @DATSGAN.py:267]\u001b[0m Loading Preprocessor!\n"
     ]
    },
    {
     "name": "stderr",
     "output_type": "stream",
     "text": [
      "|                                                                                          |35/?[00:00<00:00,43.34it/s]\n"
     ]
    },
    {
     "name": "stdout",
     "output_type": "stream",
     "text": [
      "\u001b[32m[1217 10:25:18 @DATSGAN.py:267]\u001b[0m Loading Preprocessor!\n"
     ]
    },
    {
     "name": "stderr",
     "output_type": "stream",
     "text": [
      "|                                                                                          |35/?[00:00<00:00,42.00it/s]\n"
     ]
    },
    {
     "name": "stdout",
     "output_type": "stream",
     "text": [
      "\u001b[32m[1217 10:25:19 @DATSGAN.py:267]\u001b[0m Loading Preprocessor!\n"
     ]
    },
    {
     "name": "stderr",
     "output_type": "stream",
     "text": [
      "|                                                                                          |35/?[00:00<00:00,45.61it/s]\n"
     ]
    },
    {
     "name": "stdout",
     "output_type": "stream",
     "text": [
      "\u001b[32m[1217 10:25:20 @DATSGAN.py:267]\u001b[0m Loading Preprocessor!\n"
     ]
    },
    {
     "name": "stderr",
     "output_type": "stream",
     "text": [
      "|                                                                                          |35/?[00:00<00:00,48.27it/s]\n"
     ]
    },
    {
     "name": "stdout",
     "output_type": "stream",
     "text": [
      "\u001b[32m[1217 10:25:21 @DATSGAN.py:267]\u001b[0m Loading Preprocessor!\n"
     ]
    },
    {
     "name": "stderr",
     "output_type": "stream",
     "text": [
      "|                                                                                          |35/?[00:00<00:00,47.91it/s]\n"
     ]
    },
    {
     "name": "stdout",
     "output_type": "stream",
     "text": [
      "\u001b[32m[1217 10:25:22 @DATSGAN.py:267]\u001b[0m Loading Preprocessor!\n"
     ]
    },
    {
     "name": "stderr",
     "output_type": "stream",
     "text": [
      "|                                                                                          |35/?[00:00<00:00,49.07it/s]\n"
     ]
    },
    {
     "name": "stdout",
     "output_type": "stream",
     "text": [
      "\u001b[32m[1217 10:25:23 @DATSGAN.py:267]\u001b[0m Loading Preprocessor!\n"
     ]
    },
    {
     "name": "stderr",
     "output_type": "stream",
     "text": [
      "|                                                                                          |35/?[00:00<00:00,50.12it/s]\n"
     ]
    },
    {
     "name": "stdout",
     "output_type": "stream",
     "text": [
      "\u001b[32m[1217 10:25:24 @DATSGAN.py:267]\u001b[0m Loading Preprocessor!\n"
     ]
    },
    {
     "name": "stderr",
     "output_type": "stream",
     "text": [
      "|                                                                                          |35/?[00:00<00:00,50.48it/s]\n"
     ]
    },
    {
     "name": "stdout",
     "output_type": "stream",
     "text": [
      "\u001b[32m[1217 10:25:25 @DATSGAN.py:267]\u001b[0m Loading Preprocessor!\n"
     ]
    },
    {
     "name": "stderr",
     "output_type": "stream",
     "text": [
      "|                                                                                          |35/?[00:00<00:00,51.13it/s]\n"
     ]
    },
    {
     "name": "stdout",
     "output_type": "stream",
     "text": [
      "\u001b[32m[1217 10:25:26 @DATSGAN.py:267]\u001b[0m Loading Preprocessor!\n"
     ]
    },
    {
     "name": "stderr",
     "output_type": "stream",
     "text": [
      "|                                                                                          |35/?[00:00<00:00,47.94it/s]\n"
     ]
    },
    {
     "name": "stdout",
     "output_type": "stream",
     "text": [
      "Sampling synthetic data from model \u001b[1mSGAN_WI_01\u001b[0m (11/60)\n",
      "\u001b[32m[1217 10:25:41 @DATSGANModel.py:213]\u001b[0m \u001b[91mCreating cell for travel_year (in-edges: 0; ancestors: 0)\n",
      "\u001b[32m[1217 10:25:41 @DATSGANModel.py:213]\u001b[0m \u001b[91mCreating cell for car_ownership (in-edges: 0; ancestors: 0)\n",
      "\u001b[32m[1217 10:25:41 @DATSGANModel.py:213]\u001b[0m \u001b[91mCreating cell for female (in-edges: 0; ancestors: 0)\n",
      "\u001b[32m[1217 10:25:41 @DATSGANModel.py:213]\u001b[0m \u001b[91mCreating cell for age (in-edges: 0; ancestors: 0)\n",
      "\u001b[32m[1217 10:25:41 @DATSGANModel.py:213]\u001b[0m \u001b[91mCreating cell for travel_month (in-edges: 1; ancestors: 1)\n",
      "\u001b[32m[1217 10:25:41 @DATSGANModel.py:213]\u001b[0m \u001b[91mCreating cell for fueltype (in-edges: 1; ancestors: 1)\n",
      "\u001b[32m[1217 10:25:41 @DATSGANModel.py:213]\u001b[0m \u001b[91mCreating cell for driving_license (in-edges: 3; ancestors: 3)\n",
      "\u001b[32m[1217 10:25:41 @DATSGANModel.py:213]\u001b[0m \u001b[91mCreating cell for faretype (in-edges: 1; ancestors: 1)\n",
      "\u001b[32m[1217 10:25:41 @DATSGANModel.py:213]\u001b[0m \u001b[91mCreating cell for travel_date (in-edges: 1; ancestors: 2)\n",
      "\u001b[32m[1217 10:25:41 @DATSGANModel.py:213]\u001b[0m \u001b[91mCreating cell for bus_scale (in-edges: 2; ancestors: 2)\n",
      "\u001b[32m[1217 10:25:41 @DATSGANModel.py:213]\u001b[0m \u001b[91mCreating cell for day_of_week (in-edges: 2; ancestors: 3)\n",
      "\u001b[32m[1217 10:25:41 @DATSGANModel.py:213]\u001b[0m \u001b[91mCreating cell for purpose (in-edges: 1; ancestors: 4)\n",
      "\u001b[32m[1217 10:25:41 @DATSGANModel.py:213]\u001b[0m \u001b[91mCreating cell for start_time_linear (in-edges: 2; ancestors: 5)\n",
      "\u001b[32m[1217 10:25:41 @DATSGANModel.py:213]\u001b[0m \u001b[91mCreating cell for distance (in-edges: 1; ancestors: 5)\n",
      "\u001b[32m[1217 10:25:41 @DATSGANModel.py:213]\u001b[0m \u001b[91mCreating cell for driving_traffic_percent (in-edges: 3; ancestors: 6)\n",
      "\u001b[32m[1217 10:25:41 @DATSGANModel.py:213]\u001b[0m \u001b[91mCreating cell for cost_driving_fuel (in-edges: 2; ancestors: 8)\n",
      "\u001b[32m[1217 10:25:42 @DATSGANModel.py:213]\u001b[0m \u001b[91mCreating cell for dur_driving (in-edges: 1; ancestors: 6)\n",
      "\u001b[32m[1217 10:25:42 @DATSGANModel.py:213]\u001b[0m \u001b[91mCreating cell for dur_walking (in-edges: 1; ancestors: 6)\n",
      "\u001b[32m[1217 10:25:42 @DATSGANModel.py:213]\u001b[0m \u001b[91mCreating cell for dur_cycling (in-edges: 1; ancestors: 6)\n",
      "\u001b[32m[1217 10:25:42 @DATSGANModel.py:213]\u001b[0m \u001b[91mCreating cell for dur_pt_access (in-edges: 1; ancestors: 6)\n",
      "\u001b[32m[1217 10:25:42 @DATSGANModel.py:213]\u001b[0m \u001b[91mCreating cell for pt_n_interchanges (in-edges: 1; ancestors: 6)\n",
      "\u001b[32m[1217 10:25:42 @DATSGANModel.py:213]\u001b[0m \u001b[91mCreating cell for cost_driving_con_charge (in-edges: 5; ancestors: 11)\n",
      "\u001b[32m[1217 10:25:42 @DATSGANModel.py:213]\u001b[0m \u001b[91mCreating cell for dur_pt_rail (in-edges: 2; ancestors: 7)\n",
      "\u001b[32m[1217 10:25:42 @DATSGANModel.py:213]\u001b[0m \u001b[91mCreating cell for dur_pt_bus (in-edges: 2; ancestors: 7)\n",
      "\u001b[32m[1217 10:25:42 @DATSGANModel.py:213]\u001b[0m \u001b[91mCreating cell for dur_pt_int (in-edges: 2; ancestors: 7)\n",
      "\u001b[32m[1217 10:25:42 @DATSGANModel.py:213]\u001b[0m \u001b[91mCreating cell for cost_transit (in-edges: 5; ancestors: 12)\n",
      "\u001b[32m[1217 10:25:42 @DATSGANModel.py:213]\u001b[0m \u001b[91mCreating cell for travel_mode (in-edges: 21; ancestors: 26)\n",
      "\u001b[32m[1217 10:25:43 @collection.py:146]\u001b[0m New collections created in tower : tf.GraphKeys.REGULARIZATION_LOSSES\n",
      "\u001b[32m[1217 10:25:43 @collection.py:165]\u001b[0m These collections were modified but restored in : (tf.GraphKeys.SUMMARIES: 0->2)\n",
      "\u001b[32m[1217 10:25:43 @sessinit.py:87]\u001b[0m \u001b[5m\u001b[31mWRN\u001b[0m The following variables are in the checkpoint, but not found in the graph: global_step, optimize/beta1_power, optimize/beta2_power\n",
      "INFO:tensorflow:Graph was finalized.\n",
      "INFO:tensorflow:Running local_init_op.\n",
      "INFO:tensorflow:Done running local_init_op.\n",
      "\u001b[32m[1217 10:25:45 @sessinit.py:114]\u001b[0m Restoring checkpoint from ../output/LPMC/SGAN_WI_01/model\\model-35000 ...\n",
      "INFO:tensorflow:Restoring parameters from ../output/LPMC/SGAN_WI_01/model\\model-35000\n",
      "\u001b[32m[1217 10:25:45 @DATSGAN.py:267]\u001b[0m Loading Preprocessor!\n"
     ]
    },
    {
     "name": "stderr",
     "output_type": "stream",
     "text": [
      "|                                                                                          |35/?[00:01<00:00,29.29it/s]\n"
     ]
    },
    {
     "name": "stdout",
     "output_type": "stream",
     "text": [
      "\u001b[32m[1217 10:25:47 @DATSGAN.py:267]\u001b[0m Loading Preprocessor!\n"
     ]
    },
    {
     "name": "stderr",
     "output_type": "stream",
     "text": [
      "|                                                                                          |35/?[00:00<00:00,48.17it/s]\n"
     ]
    },
    {
     "name": "stdout",
     "output_type": "stream",
     "text": [
      "\u001b[32m[1217 10:25:48 @DATSGAN.py:267]\u001b[0m Loading Preprocessor!\n"
     ]
    },
    {
     "name": "stderr",
     "output_type": "stream",
     "text": [
      "|                                                                                          |35/?[00:00<00:00,49.11it/s]\n"
     ]
    },
    {
     "name": "stdout",
     "output_type": "stream",
     "text": [
      "\u001b[32m[1217 10:25:49 @DATSGAN.py:267]\u001b[0m Loading Preprocessor!\n"
     ]
    },
    {
     "name": "stderr",
     "output_type": "stream",
     "text": [
      "|                                                                                          |35/?[00:00<00:00,48.80it/s]\n"
     ]
    },
    {
     "name": "stdout",
     "output_type": "stream",
     "text": [
      "\u001b[32m[1217 10:25:50 @DATSGAN.py:267]\u001b[0m Loading Preprocessor!\n"
     ]
    },
    {
     "name": "stderr",
     "output_type": "stream",
     "text": [
      "|                                                                                          |35/?[00:00<00:00,50.19it/s]\n"
     ]
    },
    {
     "name": "stdout",
     "output_type": "stream",
     "text": [
      "\u001b[32m[1217 10:25:51 @DATSGAN.py:267]\u001b[0m Loading Preprocessor!\n"
     ]
    },
    {
     "name": "stderr",
     "output_type": "stream",
     "text": [
      "|                                                                                          |35/?[00:00<00:00,50.15it/s]\n"
     ]
    },
    {
     "name": "stdout",
     "output_type": "stream",
     "text": [
      "\u001b[32m[1217 10:25:52 @DATSGAN.py:267]\u001b[0m Loading Preprocessor!\n"
     ]
    },
    {
     "name": "stderr",
     "output_type": "stream",
     "text": [
      "|                                                                                          |35/?[00:00<00:00,49.21it/s]\n"
     ]
    },
    {
     "name": "stdout",
     "output_type": "stream",
     "text": [
      "\u001b[32m[1217 10:25:53 @DATSGAN.py:267]\u001b[0m Loading Preprocessor!\n"
     ]
    },
    {
     "name": "stderr",
     "output_type": "stream",
     "text": [
      "|                                                                                          |35/?[00:00<00:00,48.67it/s]\n"
     ]
    },
    {
     "name": "stdout",
     "output_type": "stream",
     "text": [
      "\u001b[32m[1217 10:25:55 @DATSGAN.py:267]\u001b[0m Loading Preprocessor!\n"
     ]
    },
    {
     "name": "stderr",
     "output_type": "stream",
     "text": [
      "|                                                                                          |35/?[00:00<00:00,48.30it/s]\n"
     ]
    },
    {
     "name": "stdout",
     "output_type": "stream",
     "text": [
      "\u001b[32m[1217 10:25:56 @DATSGAN.py:267]\u001b[0m Loading Preprocessor!\n"
     ]
    },
    {
     "name": "stderr",
     "output_type": "stream",
     "text": [
      "|                                                                                          |35/?[00:00<00:00,48.23it/s]\n"
     ]
    },
    {
     "name": "stdout",
     "output_type": "stream",
     "text": [
      "\u001b[32m[1217 10:25:57 @DATSGAN.py:267]\u001b[0m Loading Preprocessor!\n"
     ]
    },
    {
     "name": "stderr",
     "output_type": "stream",
     "text": [
      "|                                                                                          |35/?[00:00<00:00,48.77it/s]\n"
     ]
    },
    {
     "name": "stdout",
     "output_type": "stream",
     "text": [
      "\u001b[32m[1217 10:25:58 @DATSGAN.py:267]\u001b[0m Loading Preprocessor!\n"
     ]
    },
    {
     "name": "stderr",
     "output_type": "stream",
     "text": [
      "|                                                                                          |35/?[00:00<00:00,49.17it/s]\n"
     ]
    },
    {
     "name": "stdout",
     "output_type": "stream",
     "text": [
      "\u001b[32m[1217 10:25:59 @DATSGAN.py:267]\u001b[0m Loading Preprocessor!\n"
     ]
    },
    {
     "name": "stderr",
     "output_type": "stream",
     "text": [
      "|                                                                                          |35/?[00:00<00:00,48.17it/s]\n"
     ]
    },
    {
     "name": "stdout",
     "output_type": "stream",
     "text": [
      "\u001b[32m[1217 10:26:00 @DATSGAN.py:267]\u001b[0m Loading Preprocessor!\n"
     ]
    },
    {
     "name": "stderr",
     "output_type": "stream",
     "text": [
      "|                                                                                          |35/?[00:00<00:00,49.38it/s]\n"
     ]
    },
    {
     "name": "stdout",
     "output_type": "stream",
     "text": [
      "\u001b[32m[1217 10:26:01 @DATSGAN.py:267]\u001b[0m Loading Preprocessor!\n"
     ]
    },
    {
     "name": "stderr",
     "output_type": "stream",
     "text": [
      "|                                                                                          |35/?[00:00<00:00,49.48it/s]\n"
     ]
    },
    {
     "name": "stdout",
     "output_type": "stream",
     "text": [
      "\u001b[32m[1217 10:26:02 @DATSGAN.py:267]\u001b[0m Loading Preprocessor!\n"
     ]
    },
    {
     "name": "stderr",
     "output_type": "stream",
     "text": [
      "|                                                                                          |35/?[00:00<00:00,49.97it/s]\n"
     ]
    },
    {
     "name": "stdout",
     "output_type": "stream",
     "text": [
      "\u001b[32m[1217 10:26:03 @DATSGAN.py:267]\u001b[0m Loading Preprocessor!\n"
     ]
    },
    {
     "name": "stderr",
     "output_type": "stream",
     "text": [
      "|                                                                                          |35/?[00:00<00:00,51.24it/s]\n"
     ]
    },
    {
     "name": "stdout",
     "output_type": "stream",
     "text": [
      "\u001b[32m[1217 10:26:05 @DATSGAN.py:267]\u001b[0m Loading Preprocessor!\n"
     ]
    },
    {
     "name": "stderr",
     "output_type": "stream",
     "text": [
      "|                                                                                          |35/?[00:00<00:00,51.25it/s]\n"
     ]
    },
    {
     "name": "stdout",
     "output_type": "stream",
     "text": [
      "\u001b[32m[1217 10:26:06 @DATSGAN.py:267]\u001b[0m Loading Preprocessor!\n"
     ]
    },
    {
     "name": "stderr",
     "output_type": "stream",
     "text": [
      "|                                                                                          |35/?[00:00<00:00,49.73it/s]\n"
     ]
    },
    {
     "name": "stdout",
     "output_type": "stream",
     "text": [
      "\u001b[32m[1217 10:26:07 @DATSGAN.py:267]\u001b[0m Loading Preprocessor!\n"
     ]
    },
    {
     "name": "stderr",
     "output_type": "stream",
     "text": [
      "|                                                                                          |35/?[00:00<00:00,51.51it/s]\n"
     ]
    },
    {
     "name": "stdout",
     "output_type": "stream",
     "text": [
      "Sampling synthetic data from model \u001b[1mSGAN_WI_02\u001b[0m (12/60)\n",
      "\u001b[32m[1217 10:26:20 @DATSGANModel.py:213]\u001b[0m \u001b[91mCreating cell for travel_year (in-edges: 0; ancestors: 0)\n",
      "\u001b[32m[1217 10:26:20 @DATSGANModel.py:213]\u001b[0m \u001b[91mCreating cell for car_ownership (in-edges: 0; ancestors: 0)\n",
      "\u001b[32m[1217 10:26:21 @DATSGANModel.py:213]\u001b[0m \u001b[91mCreating cell for female (in-edges: 0; ancestors: 0)\n",
      "\u001b[32m[1217 10:26:21 @DATSGANModel.py:213]\u001b[0m \u001b[91mCreating cell for age (in-edges: 0; ancestors: 0)\n",
      "\u001b[32m[1217 10:26:21 @DATSGANModel.py:213]\u001b[0m \u001b[91mCreating cell for travel_month (in-edges: 1; ancestors: 1)\n",
      "\u001b[32m[1217 10:26:21 @DATSGANModel.py:213]\u001b[0m \u001b[91mCreating cell for fueltype (in-edges: 1; ancestors: 1)\n",
      "\u001b[32m[1217 10:26:21 @DATSGANModel.py:213]\u001b[0m \u001b[91mCreating cell for driving_license (in-edges: 3; ancestors: 3)\n",
      "\u001b[32m[1217 10:26:21 @DATSGANModel.py:213]\u001b[0m \u001b[91mCreating cell for faretype (in-edges: 1; ancestors: 1)\n",
      "\u001b[32m[1217 10:26:21 @DATSGANModel.py:213]\u001b[0m \u001b[91mCreating cell for travel_date (in-edges: 1; ancestors: 2)\n",
      "\u001b[32m[1217 10:26:21 @DATSGANModel.py:213]\u001b[0m \u001b[91mCreating cell for bus_scale (in-edges: 2; ancestors: 2)\n",
      "\u001b[32m[1217 10:26:21 @DATSGANModel.py:213]\u001b[0m \u001b[91mCreating cell for day_of_week (in-edges: 2; ancestors: 3)\n",
      "\u001b[32m[1217 10:26:21 @DATSGANModel.py:213]\u001b[0m \u001b[91mCreating cell for purpose (in-edges: 1; ancestors: 4)\n",
      "\u001b[32m[1217 10:26:21 @DATSGANModel.py:213]\u001b[0m \u001b[91mCreating cell for start_time_linear (in-edges: 2; ancestors: 5)\n",
      "\u001b[32m[1217 10:26:21 @DATSGANModel.py:213]\u001b[0m \u001b[91mCreating cell for distance (in-edges: 1; ancestors: 5)\n",
      "\u001b[32m[1217 10:26:21 @DATSGANModel.py:213]\u001b[0m \u001b[91mCreating cell for driving_traffic_percent (in-edges: 3; ancestors: 6)\n",
      "\u001b[32m[1217 10:26:21 @DATSGANModel.py:213]\u001b[0m \u001b[91mCreating cell for cost_driving_fuel (in-edges: 2; ancestors: 8)\n",
      "\u001b[32m[1217 10:26:22 @DATSGANModel.py:213]\u001b[0m \u001b[91mCreating cell for dur_driving (in-edges: 1; ancestors: 6)\n",
      "\u001b[32m[1217 10:26:22 @DATSGANModel.py:213]\u001b[0m \u001b[91mCreating cell for dur_walking (in-edges: 1; ancestors: 6)\n",
      "\u001b[32m[1217 10:26:22 @DATSGANModel.py:213]\u001b[0m \u001b[91mCreating cell for dur_cycling (in-edges: 1; ancestors: 6)\n",
      "\u001b[32m[1217 10:26:22 @DATSGANModel.py:213]\u001b[0m \u001b[91mCreating cell for dur_pt_access (in-edges: 1; ancestors: 6)\n",
      "\u001b[32m[1217 10:26:22 @DATSGANModel.py:213]\u001b[0m \u001b[91mCreating cell for pt_n_interchanges (in-edges: 1; ancestors: 6)\n",
      "\u001b[32m[1217 10:26:22 @DATSGANModel.py:213]\u001b[0m \u001b[91mCreating cell for cost_driving_con_charge (in-edges: 5; ancestors: 11)\n",
      "\u001b[32m[1217 10:26:22 @DATSGANModel.py:213]\u001b[0m \u001b[91mCreating cell for dur_pt_rail (in-edges: 2; ancestors: 7)\n",
      "\u001b[32m[1217 10:26:22 @DATSGANModel.py:213]\u001b[0m \u001b[91mCreating cell for dur_pt_bus (in-edges: 2; ancestors: 7)\n",
      "\u001b[32m[1217 10:26:22 @DATSGANModel.py:213]\u001b[0m \u001b[91mCreating cell for dur_pt_int (in-edges: 2; ancestors: 7)\n",
      "\u001b[32m[1217 10:26:22 @DATSGANModel.py:213]\u001b[0m \u001b[91mCreating cell for cost_transit (in-edges: 5; ancestors: 12)\n",
      "\u001b[32m[1217 10:26:22 @DATSGANModel.py:213]\u001b[0m \u001b[91mCreating cell for travel_mode (in-edges: 21; ancestors: 26)\n",
      "\u001b[32m[1217 10:26:23 @collection.py:146]\u001b[0m New collections created in tower : tf.GraphKeys.REGULARIZATION_LOSSES\n",
      "\u001b[32m[1217 10:26:23 @collection.py:165]\u001b[0m These collections were modified but restored in : (tf.GraphKeys.SUMMARIES: 0->2)\n",
      "\u001b[32m[1217 10:26:23 @sessinit.py:87]\u001b[0m \u001b[5m\u001b[31mWRN\u001b[0m The following variables are in the checkpoint, but not found in the graph: global_step, optimize/beta1_power, optimize/beta2_power\n",
      "INFO:tensorflow:Graph was finalized.\n",
      "INFO:tensorflow:Running local_init_op.\n",
      "INFO:tensorflow:Done running local_init_op.\n",
      "\u001b[32m[1217 10:26:25 @sessinit.py:114]\u001b[0m Restoring checkpoint from ../output/LPMC/SGAN_WI_02/model\\model-35000 ...\n",
      "INFO:tensorflow:Restoring parameters from ../output/LPMC/SGAN_WI_02/model\\model-35000\n",
      "\u001b[32m[1217 10:26:25 @DATSGAN.py:267]\u001b[0m Loading Preprocessor!\n"
     ]
    },
    {
     "name": "stderr",
     "output_type": "stream",
     "text": [
      "|                                                                                          |35/?[00:01<00:00,29.58it/s]\n"
     ]
    },
    {
     "name": "stdout",
     "output_type": "stream",
     "text": [
      "\u001b[32m[1217 10:26:27 @DATSGAN.py:267]\u001b[0m Loading Preprocessor!\n"
     ]
    },
    {
     "name": "stderr",
     "output_type": "stream",
     "text": [
      "|                                                                                          |35/?[00:00<00:00,49.45it/s]\n"
     ]
    },
    {
     "name": "stdout",
     "output_type": "stream",
     "text": [
      "\u001b[32m[1217 10:26:28 @DATSGAN.py:267]\u001b[0m Loading Preprocessor!\n"
     ]
    },
    {
     "name": "stderr",
     "output_type": "stream",
     "text": [
      "|                                                                                          |35/?[00:00<00:00,48.63it/s]\n"
     ]
    },
    {
     "name": "stdout",
     "output_type": "stream",
     "text": [
      "\u001b[32m[1217 10:26:29 @DATSGAN.py:267]\u001b[0m Loading Preprocessor!\n"
     ]
    },
    {
     "name": "stderr",
     "output_type": "stream",
     "text": [
      "|                                                                                          |35/?[00:00<00:00,49.07it/s]\n"
     ]
    },
    {
     "name": "stdout",
     "output_type": "stream",
     "text": [
      "\u001b[32m[1217 10:26:30 @DATSGAN.py:267]\u001b[0m Loading Preprocessor!\n"
     ]
    },
    {
     "name": "stderr",
     "output_type": "stream",
     "text": [
      "|                                                                                          |35/?[00:00<00:00,50.08it/s]\n"
     ]
    },
    {
     "name": "stdout",
     "output_type": "stream",
     "text": [
      "\u001b[32m[1217 10:26:31 @DATSGAN.py:267]\u001b[0m Loading Preprocessor!\n"
     ]
    },
    {
     "name": "stderr",
     "output_type": "stream",
     "text": [
      "|                                                                                          |35/?[00:00<00:00,50.40it/s]\n"
     ]
    },
    {
     "name": "stdout",
     "output_type": "stream",
     "text": [
      "\u001b[32m[1217 10:26:32 @DATSGAN.py:267]\u001b[0m Loading Preprocessor!\n"
     ]
    },
    {
     "name": "stderr",
     "output_type": "stream",
     "text": [
      "|                                                                                          |35/?[00:00<00:00,48.50it/s]\n"
     ]
    },
    {
     "name": "stdout",
     "output_type": "stream",
     "text": [
      "\u001b[32m[1217 10:26:33 @DATSGAN.py:267]\u001b[0m Loading Preprocessor!\n"
     ]
    },
    {
     "name": "stderr",
     "output_type": "stream",
     "text": [
      "|                                                                                          |35/?[00:00<00:00,48.77it/s]\n"
     ]
    },
    {
     "name": "stdout",
     "output_type": "stream",
     "text": [
      "\u001b[32m[1217 10:26:34 @DATSGAN.py:267]\u001b[0m Loading Preprocessor!\n"
     ]
    },
    {
     "name": "stderr",
     "output_type": "stream",
     "text": [
      "|                                                                                          |35/?[00:00<00:00,48.27it/s]\n"
     ]
    },
    {
     "name": "stdout",
     "output_type": "stream",
     "text": [
      "\u001b[32m[1217 10:26:35 @DATSGAN.py:267]\u001b[0m Loading Preprocessor!\n"
     ]
    },
    {
     "name": "stderr",
     "output_type": "stream",
     "text": [
      "|                                                                                          |35/?[00:00<00:00,48.77it/s]\n"
     ]
    },
    {
     "name": "stdout",
     "output_type": "stream",
     "text": [
      "\u001b[32m[1217 10:26:36 @DATSGAN.py:267]\u001b[0m Loading Preprocessor!\n"
     ]
    },
    {
     "name": "stderr",
     "output_type": "stream",
     "text": [
      "|                                                                                          |35/?[00:00<00:00,51.96it/s]\n"
     ]
    },
    {
     "name": "stdout",
     "output_type": "stream",
     "text": [
      "\u001b[32m[1217 10:26:37 @DATSGAN.py:267]\u001b[0m Loading Preprocessor!\n"
     ]
    },
    {
     "name": "stderr",
     "output_type": "stream",
     "text": [
      "|                                                                                          |35/?[00:00<00:00,48.80it/s]\n"
     ]
    },
    {
     "name": "stdout",
     "output_type": "stream",
     "text": [
      "\u001b[32m[1217 10:26:38 @DATSGAN.py:267]\u001b[0m Loading Preprocessor!\n"
     ]
    },
    {
     "name": "stderr",
     "output_type": "stream",
     "text": [
      "|                                                                                          |35/?[00:00<00:00,49.07it/s]\n"
     ]
    },
    {
     "name": "stdout",
     "output_type": "stream",
     "text": [
      "\u001b[32m[1217 10:26:39 @DATSGAN.py:267]\u001b[0m Loading Preprocessor!\n"
     ]
    },
    {
     "name": "stderr",
     "output_type": "stream",
     "text": [
      "|                                                                                          |35/?[00:00<00:00,49.55it/s]\n"
     ]
    },
    {
     "name": "stdout",
     "output_type": "stream",
     "text": [
      "\u001b[32m[1217 10:26:41 @DATSGAN.py:267]\u001b[0m Loading Preprocessor!\n"
     ]
    },
    {
     "name": "stderr",
     "output_type": "stream",
     "text": [
      "|                                                                                          |35/?[00:00<00:00,50.26it/s]\n"
     ]
    },
    {
     "name": "stdout",
     "output_type": "stream",
     "text": [
      "\u001b[32m[1217 10:26:42 @DATSGAN.py:267]\u001b[0m Loading Preprocessor!\n"
     ]
    },
    {
     "name": "stderr",
     "output_type": "stream",
     "text": [
      "|                                                                                          |35/?[00:00<00:00,47.81it/s]\n"
     ]
    },
    {
     "name": "stdout",
     "output_type": "stream",
     "text": [
      "\u001b[32m[1217 10:26:43 @DATSGAN.py:267]\u001b[0m Loading Preprocessor!\n"
     ]
    },
    {
     "name": "stderr",
     "output_type": "stream",
     "text": [
      "|                                                                                          |35/?[00:00<00:00,50.55it/s]\n"
     ]
    },
    {
     "name": "stdout",
     "output_type": "stream",
     "text": [
      "\u001b[32m[1217 10:26:44 @DATSGAN.py:267]\u001b[0m Loading Preprocessor!\n"
     ]
    },
    {
     "name": "stderr",
     "output_type": "stream",
     "text": [
      "|                                                                                          |35/?[00:00<00:00,51.50it/s]\n"
     ]
    },
    {
     "name": "stdout",
     "output_type": "stream",
     "text": [
      "\u001b[32m[1217 10:26:45 @DATSGAN.py:267]\u001b[0m Loading Preprocessor!\n"
     ]
    },
    {
     "name": "stderr",
     "output_type": "stream",
     "text": [
      "|                                                                                          |35/?[00:00<00:00,51.38it/s]\n"
     ]
    },
    {
     "name": "stdout",
     "output_type": "stream",
     "text": [
      "\u001b[32m[1217 10:26:46 @DATSGAN.py:267]\u001b[0m Loading Preprocessor!\n"
     ]
    },
    {
     "name": "stderr",
     "output_type": "stream",
     "text": [
      "|                                                                                          |35/?[00:00<00:00,48.66it/s]\n"
     ]
    },
    {
     "name": "stdout",
     "output_type": "stream",
     "text": [
      "Sampling synthetic data from model \u001b[1mSGAN_WI_03\u001b[0m (13/60)\n",
      "\u001b[32m[1217 10:26:59 @DATSGANModel.py:213]\u001b[0m \u001b[91mCreating cell for travel_year (in-edges: 0; ancestors: 0)\n",
      "\u001b[32m[1217 10:26:59 @DATSGANModel.py:213]\u001b[0m \u001b[91mCreating cell for car_ownership (in-edges: 0; ancestors: 0)\n",
      "\u001b[32m[1217 10:26:59 @DATSGANModel.py:213]\u001b[0m \u001b[91mCreating cell for female (in-edges: 0; ancestors: 0)\n",
      "\u001b[32m[1217 10:27:00 @DATSGANModel.py:213]\u001b[0m \u001b[91mCreating cell for age (in-edges: 0; ancestors: 0)\n",
      "\u001b[32m[1217 10:27:00 @DATSGANModel.py:213]\u001b[0m \u001b[91mCreating cell for travel_month (in-edges: 1; ancestors: 1)\n",
      "\u001b[32m[1217 10:27:00 @DATSGANModel.py:213]\u001b[0m \u001b[91mCreating cell for fueltype (in-edges: 1; ancestors: 1)\n",
      "\u001b[32m[1217 10:27:00 @DATSGANModel.py:213]\u001b[0m \u001b[91mCreating cell for driving_license (in-edges: 3; ancestors: 3)\n",
      "\u001b[32m[1217 10:27:00 @DATSGANModel.py:213]\u001b[0m \u001b[91mCreating cell for faretype (in-edges: 1; ancestors: 1)\n",
      "\u001b[32m[1217 10:27:00 @DATSGANModel.py:213]\u001b[0m \u001b[91mCreating cell for travel_date (in-edges: 1; ancestors: 2)\n",
      "\u001b[32m[1217 10:27:00 @DATSGANModel.py:213]\u001b[0m \u001b[91mCreating cell for bus_scale (in-edges: 2; ancestors: 2)\n",
      "\u001b[32m[1217 10:27:00 @DATSGANModel.py:213]\u001b[0m \u001b[91mCreating cell for day_of_week (in-edges: 2; ancestors: 3)\n",
      "\u001b[32m[1217 10:27:00 @DATSGANModel.py:213]\u001b[0m \u001b[91mCreating cell for purpose (in-edges: 1; ancestors: 4)\n",
      "\u001b[32m[1217 10:27:00 @DATSGANModel.py:213]\u001b[0m \u001b[91mCreating cell for start_time_linear (in-edges: 2; ancestors: 5)\n",
      "\u001b[32m[1217 10:27:00 @DATSGANModel.py:213]\u001b[0m \u001b[91mCreating cell for distance (in-edges: 1; ancestors: 5)\n",
      "\u001b[32m[1217 10:27:00 @DATSGANModel.py:213]\u001b[0m \u001b[91mCreating cell for driving_traffic_percent (in-edges: 3; ancestors: 6)\n",
      "\u001b[32m[1217 10:27:00 @DATSGANModel.py:213]\u001b[0m \u001b[91mCreating cell for cost_driving_fuel (in-edges: 2; ancestors: 8)\n",
      "\u001b[32m[1217 10:27:00 @DATSGANModel.py:213]\u001b[0m \u001b[91mCreating cell for dur_driving (in-edges: 1; ancestors: 6)\n",
      "\u001b[32m[1217 10:27:01 @DATSGANModel.py:213]\u001b[0m \u001b[91mCreating cell for dur_walking (in-edges: 1; ancestors: 6)\n",
      "\u001b[32m[1217 10:27:01 @DATSGANModel.py:213]\u001b[0m \u001b[91mCreating cell for dur_cycling (in-edges: 1; ancestors: 6)\n",
      "\u001b[32m[1217 10:27:01 @DATSGANModel.py:213]\u001b[0m \u001b[91mCreating cell for dur_pt_access (in-edges: 1; ancestors: 6)\n",
      "\u001b[32m[1217 10:27:01 @DATSGANModel.py:213]\u001b[0m \u001b[91mCreating cell for pt_n_interchanges (in-edges: 1; ancestors: 6)\n",
      "\u001b[32m[1217 10:27:01 @DATSGANModel.py:213]\u001b[0m \u001b[91mCreating cell for cost_driving_con_charge (in-edges: 5; ancestors: 11)\n",
      "\u001b[32m[1217 10:27:01 @DATSGANModel.py:213]\u001b[0m \u001b[91mCreating cell for dur_pt_rail (in-edges: 2; ancestors: 7)\n",
      "\u001b[32m[1217 10:27:01 @DATSGANModel.py:213]\u001b[0m \u001b[91mCreating cell for dur_pt_bus (in-edges: 2; ancestors: 7)\n",
      "\u001b[32m[1217 10:27:01 @DATSGANModel.py:213]\u001b[0m \u001b[91mCreating cell for dur_pt_int (in-edges: 2; ancestors: 7)\n",
      "\u001b[32m[1217 10:27:01 @DATSGANModel.py:213]\u001b[0m \u001b[91mCreating cell for cost_transit (in-edges: 5; ancestors: 12)\n",
      "\u001b[32m[1217 10:27:01 @DATSGANModel.py:213]\u001b[0m \u001b[91mCreating cell for travel_mode (in-edges: 21; ancestors: 26)\n",
      "\u001b[32m[1217 10:27:02 @collection.py:146]\u001b[0m New collections created in tower : tf.GraphKeys.REGULARIZATION_LOSSES\n",
      "\u001b[32m[1217 10:27:02 @collection.py:165]\u001b[0m These collections were modified but restored in : (tf.GraphKeys.SUMMARIES: 0->2)\n",
      "\u001b[32m[1217 10:27:02 @sessinit.py:87]\u001b[0m \u001b[5m\u001b[31mWRN\u001b[0m The following variables are in the checkpoint, but not found in the graph: global_step, optimize/beta1_power, optimize/beta2_power\n",
      "INFO:tensorflow:Graph was finalized.\n",
      "INFO:tensorflow:Running local_init_op.\n",
      "INFO:tensorflow:Done running local_init_op.\n",
      "\u001b[32m[1217 10:27:04 @sessinit.py:114]\u001b[0m Restoring checkpoint from ../output/LPMC/SGAN_WI_03/model\\model-35000 ...\n",
      "INFO:tensorflow:Restoring parameters from ../output/LPMC/SGAN_WI_03/model\\model-35000\n",
      "\u001b[32m[1217 10:27:04 @DATSGAN.py:267]\u001b[0m Loading Preprocessor!\n"
     ]
    },
    {
     "name": "stderr",
     "output_type": "stream",
     "text": [
      "|                                                                                          |35/?[00:01<00:00,25.31it/s]\n"
     ]
    },
    {
     "name": "stdout",
     "output_type": "stream",
     "text": [
      "\u001b[32m[1217 10:27:06 @DATSGAN.py:267]\u001b[0m Loading Preprocessor!\n"
     ]
    },
    {
     "name": "stderr",
     "output_type": "stream",
     "text": [
      "|                                                                                          |35/?[00:00<00:00,48.60it/s]\n"
     ]
    },
    {
     "name": "stdout",
     "output_type": "stream",
     "text": [
      "\u001b[32m[1217 10:27:07 @DATSGAN.py:267]\u001b[0m Loading Preprocessor!\n"
     ]
    },
    {
     "name": "stderr",
     "output_type": "stream",
     "text": [
      "|                                                                                          |35/?[00:00<00:00,48.39it/s]\n"
     ]
    },
    {
     "name": "stdout",
     "output_type": "stream",
     "text": [
      "\u001b[32m[1217 10:27:08 @DATSGAN.py:267]\u001b[0m Loading Preprocessor!\n"
     ]
    },
    {
     "name": "stderr",
     "output_type": "stream",
     "text": [
      "|                                                                                          |35/?[00:00<00:00,50.08it/s]\n"
     ]
    },
    {
     "name": "stdout",
     "output_type": "stream",
     "text": [
      "\u001b[32m[1217 10:27:09 @DATSGAN.py:267]\u001b[0m Loading Preprocessor!\n"
     ]
    },
    {
     "name": "stderr",
     "output_type": "stream",
     "text": [
      "|                                                                                          |35/?[00:00<00:00,48.33it/s]\n"
     ]
    },
    {
     "name": "stdout",
     "output_type": "stream",
     "text": [
      "\u001b[32m[1217 10:27:10 @DATSGAN.py:267]\u001b[0m Loading Preprocessor!\n"
     ]
    },
    {
     "name": "stderr",
     "output_type": "stream",
     "text": [
      "|                                                                                          |35/?[00:00<00:00,49.76it/s]\n"
     ]
    },
    {
     "name": "stdout",
     "output_type": "stream",
     "text": [
      "\u001b[32m[1217 10:27:11 @DATSGAN.py:267]\u001b[0m Loading Preprocessor!\n"
     ]
    },
    {
     "name": "stderr",
     "output_type": "stream",
     "text": [
      "|                                                                                          |35/?[00:00<00:00,51.77it/s]\n"
     ]
    },
    {
     "name": "stdout",
     "output_type": "stream",
     "text": [
      "\u001b[32m[1217 10:27:12 @DATSGAN.py:267]\u001b[0m Loading Preprocessor!\n"
     ]
    },
    {
     "name": "stderr",
     "output_type": "stream",
     "text": [
      "|                                                                                          |35/?[00:00<00:00,49.31it/s]\n"
     ]
    },
    {
     "name": "stdout",
     "output_type": "stream",
     "text": [
      "\u001b[32m[1217 10:27:13 @DATSGAN.py:267]\u001b[0m Loading Preprocessor!\n"
     ]
    },
    {
     "name": "stderr",
     "output_type": "stream",
     "text": [
      "|                                                                                          |35/?[00:00<00:00,49.75it/s]\n"
     ]
    },
    {
     "name": "stdout",
     "output_type": "stream",
     "text": [
      "\u001b[32m[1217 10:27:14 @DATSGAN.py:267]\u001b[0m Loading Preprocessor!\n"
     ]
    },
    {
     "name": "stderr",
     "output_type": "stream",
     "text": [
      "|                                                                                          |35/?[00:00<00:00,49.84it/s]\n"
     ]
    },
    {
     "name": "stdout",
     "output_type": "stream",
     "text": [
      "\u001b[32m[1217 10:27:15 @DATSGAN.py:267]\u001b[0m Loading Preprocessor!\n"
     ]
    },
    {
     "name": "stderr",
     "output_type": "stream",
     "text": [
      "|                                                                                          |35/?[00:00<00:00,50.55it/s]\n"
     ]
    },
    {
     "name": "stdout",
     "output_type": "stream",
     "text": [
      "\u001b[32m[1217 10:27:17 @DATSGAN.py:267]\u001b[0m Loading Preprocessor!\n"
     ]
    },
    {
     "name": "stderr",
     "output_type": "stream",
     "text": [
      "|                                                                                          |35/?[00:00<00:00,48.78it/s]\n"
     ]
    },
    {
     "name": "stdout",
     "output_type": "stream",
     "text": [
      "\u001b[32m[1217 10:27:18 @DATSGAN.py:267]\u001b[0m Loading Preprocessor!\n"
     ]
    },
    {
     "name": "stderr",
     "output_type": "stream",
     "text": [
      "|                                                                                          |35/?[00:00<00:00,49.59it/s]\n"
     ]
    },
    {
     "name": "stdout",
     "output_type": "stream",
     "text": [
      "\u001b[32m[1217 10:27:19 @DATSGAN.py:267]\u001b[0m Loading Preprocessor!\n"
     ]
    },
    {
     "name": "stderr",
     "output_type": "stream",
     "text": [
      "|                                                                                          |35/?[00:00<00:00,49.55it/s]\n"
     ]
    },
    {
     "name": "stdout",
     "output_type": "stream",
     "text": [
      "\u001b[32m[1217 10:27:20 @DATSGAN.py:267]\u001b[0m Loading Preprocessor!\n"
     ]
    },
    {
     "name": "stderr",
     "output_type": "stream",
     "text": [
      "|                                                                                          |35/?[00:00<00:00,49.38it/s]\n"
     ]
    },
    {
     "name": "stdout",
     "output_type": "stream",
     "text": [
      "\u001b[32m[1217 10:27:21 @DATSGAN.py:267]\u001b[0m Loading Preprocessor!\n"
     ]
    },
    {
     "name": "stderr",
     "output_type": "stream",
     "text": [
      "|                                                                                          |35/?[00:00<00:00,48.33it/s]\n"
     ]
    },
    {
     "name": "stdout",
     "output_type": "stream",
     "text": [
      "\u001b[32m[1217 10:27:22 @DATSGAN.py:267]\u001b[0m Loading Preprocessor!\n"
     ]
    },
    {
     "name": "stderr",
     "output_type": "stream",
     "text": [
      "|                                                                                          |35/?[00:00<00:00,49.94it/s]\n"
     ]
    },
    {
     "name": "stdout",
     "output_type": "stream",
     "text": [
      "\u001b[32m[1217 10:27:23 @DATSGAN.py:267]\u001b[0m Loading Preprocessor!\n"
     ]
    },
    {
     "name": "stderr",
     "output_type": "stream",
     "text": [
      "|                                                                                          |35/?[00:00<00:00,49.31it/s]\n"
     ]
    },
    {
     "name": "stdout",
     "output_type": "stream",
     "text": [
      "\u001b[32m[1217 10:27:24 @DATSGAN.py:267]\u001b[0m Loading Preprocessor!\n"
     ]
    },
    {
     "name": "stderr",
     "output_type": "stream",
     "text": [
      "|                                                                                          |35/?[00:00<00:00,48.83it/s]\n"
     ]
    },
    {
     "name": "stdout",
     "output_type": "stream",
     "text": [
      "\u001b[32m[1217 10:27:25 @DATSGAN.py:267]\u001b[0m Loading Preprocessor!\n"
     ]
    },
    {
     "name": "stderr",
     "output_type": "stream",
     "text": [
      "|                                                                                          |35/?[00:00<00:00,49.11it/s]\n"
     ]
    },
    {
     "name": "stdout",
     "output_type": "stream",
     "text": [
      "Sampling synthetic data from model \u001b[1mSGAN_WI_04\u001b[0m (14/60)\n",
      "\u001b[32m[1217 10:27:39 @DATSGANModel.py:213]\u001b[0m \u001b[91mCreating cell for travel_year (in-edges: 0; ancestors: 0)\n",
      "\u001b[32m[1217 10:27:39 @DATSGANModel.py:213]\u001b[0m \u001b[91mCreating cell for car_ownership (in-edges: 0; ancestors: 0)\n",
      "\u001b[32m[1217 10:27:39 @DATSGANModel.py:213]\u001b[0m \u001b[91mCreating cell for female (in-edges: 0; ancestors: 0)\n",
      "\u001b[32m[1217 10:27:39 @DATSGANModel.py:213]\u001b[0m \u001b[91mCreating cell for age (in-edges: 0; ancestors: 0)\n",
      "\u001b[32m[1217 10:27:39 @DATSGANModel.py:213]\u001b[0m \u001b[91mCreating cell for travel_month (in-edges: 1; ancestors: 1)\n",
      "\u001b[32m[1217 10:27:39 @DATSGANModel.py:213]\u001b[0m \u001b[91mCreating cell for fueltype (in-edges: 1; ancestors: 1)\n",
      "\u001b[32m[1217 10:27:39 @DATSGANModel.py:213]\u001b[0m \u001b[91mCreating cell for driving_license (in-edges: 3; ancestors: 3)\n",
      "\u001b[32m[1217 10:27:39 @DATSGANModel.py:213]\u001b[0m \u001b[91mCreating cell for faretype (in-edges: 1; ancestors: 1)\n",
      "\u001b[32m[1217 10:27:40 @DATSGANModel.py:213]\u001b[0m \u001b[91mCreating cell for travel_date (in-edges: 1; ancestors: 2)\n",
      "\u001b[32m[1217 10:27:40 @DATSGANModel.py:213]\u001b[0m \u001b[91mCreating cell for bus_scale (in-edges: 2; ancestors: 2)\n",
      "\u001b[32m[1217 10:27:40 @DATSGANModel.py:213]\u001b[0m \u001b[91mCreating cell for day_of_week (in-edges: 2; ancestors: 3)\n",
      "\u001b[32m[1217 10:27:40 @DATSGANModel.py:213]\u001b[0m \u001b[91mCreating cell for purpose (in-edges: 1; ancestors: 4)\n",
      "\u001b[32m[1217 10:27:40 @DATSGANModel.py:213]\u001b[0m \u001b[91mCreating cell for start_time_linear (in-edges: 2; ancestors: 5)\n",
      "\u001b[32m[1217 10:27:40 @DATSGANModel.py:213]\u001b[0m \u001b[91mCreating cell for distance (in-edges: 1; ancestors: 5)\n",
      "\u001b[32m[1217 10:27:40 @DATSGANModel.py:213]\u001b[0m \u001b[91mCreating cell for driving_traffic_percent (in-edges: 3; ancestors: 6)\n",
      "\u001b[32m[1217 10:27:40 @DATSGANModel.py:213]\u001b[0m \u001b[91mCreating cell for cost_driving_fuel (in-edges: 2; ancestors: 8)\n",
      "\u001b[32m[1217 10:27:40 @DATSGANModel.py:213]\u001b[0m \u001b[91mCreating cell for dur_driving (in-edges: 1; ancestors: 6)\n",
      "\u001b[32m[1217 10:27:40 @DATSGANModel.py:213]\u001b[0m \u001b[91mCreating cell for dur_walking (in-edges: 1; ancestors: 6)\n",
      "\u001b[32m[1217 10:27:40 @DATSGANModel.py:213]\u001b[0m \u001b[91mCreating cell for dur_cycling (in-edges: 1; ancestors: 6)\n",
      "\u001b[32m[1217 10:27:40 @DATSGANModel.py:213]\u001b[0m \u001b[91mCreating cell for dur_pt_access (in-edges: 1; ancestors: 6)\n",
      "\u001b[32m[1217 10:27:40 @DATSGANModel.py:213]\u001b[0m \u001b[91mCreating cell for pt_n_interchanges (in-edges: 1; ancestors: 6)\n",
      "\u001b[32m[1217 10:27:41 @DATSGANModel.py:213]\u001b[0m \u001b[91mCreating cell for cost_driving_con_charge (in-edges: 5; ancestors: 11)\n",
      "\u001b[32m[1217 10:27:41 @DATSGANModel.py:213]\u001b[0m \u001b[91mCreating cell for dur_pt_rail (in-edges: 2; ancestors: 7)\n",
      "\u001b[32m[1217 10:27:41 @DATSGANModel.py:213]\u001b[0m \u001b[91mCreating cell for dur_pt_bus (in-edges: 2; ancestors: 7)\n",
      "\u001b[32m[1217 10:27:41 @DATSGANModel.py:213]\u001b[0m \u001b[91mCreating cell for dur_pt_int (in-edges: 2; ancestors: 7)\n",
      "\u001b[32m[1217 10:27:41 @DATSGANModel.py:213]\u001b[0m \u001b[91mCreating cell for cost_transit (in-edges: 5; ancestors: 12)\n",
      "\u001b[32m[1217 10:27:41 @DATSGANModel.py:213]\u001b[0m \u001b[91mCreating cell for travel_mode (in-edges: 21; ancestors: 26)\n",
      "\u001b[32m[1217 10:27:42 @collection.py:146]\u001b[0m New collections created in tower : tf.GraphKeys.REGULARIZATION_LOSSES\n",
      "\u001b[32m[1217 10:27:42 @collection.py:165]\u001b[0m These collections were modified but restored in : (tf.GraphKeys.SUMMARIES: 0->2)\n",
      "\u001b[32m[1217 10:27:42 @sessinit.py:87]\u001b[0m \u001b[5m\u001b[31mWRN\u001b[0m The following variables are in the checkpoint, but not found in the graph: global_step, optimize/beta1_power, optimize/beta2_power\n",
      "INFO:tensorflow:Graph was finalized.\n",
      "INFO:tensorflow:Running local_init_op.\n",
      "INFO:tensorflow:Done running local_init_op.\n",
      "\u001b[32m[1217 10:27:44 @sessinit.py:114]\u001b[0m Restoring checkpoint from ../output/LPMC/SGAN_WI_04/model\\model-35000 ...\n",
      "INFO:tensorflow:Restoring parameters from ../output/LPMC/SGAN_WI_04/model\\model-35000\n",
      "\u001b[32m[1217 10:27:44 @DATSGAN.py:267]\u001b[0m Loading Preprocessor!\n"
     ]
    },
    {
     "name": "stderr",
     "output_type": "stream",
     "text": [
      "|                                                                                          |35/?[00:01<00:00,30.19it/s]\n"
     ]
    },
    {
     "name": "stdout",
     "output_type": "stream",
     "text": [
      "\u001b[32m[1217 10:27:45 @DATSGAN.py:267]\u001b[0m Loading Preprocessor!\n"
     ]
    },
    {
     "name": "stderr",
     "output_type": "stream",
     "text": [
      "|                                                                                          |35/?[00:00<00:00,49.69it/s]\n"
     ]
    },
    {
     "name": "stdout",
     "output_type": "stream",
     "text": [
      "\u001b[32m[1217 10:27:46 @DATSGAN.py:267]\u001b[0m Loading Preprocessor!\n"
     ]
    },
    {
     "name": "stderr",
     "output_type": "stream",
     "text": [
      "|                                                                                          |35/?[00:00<00:00,50.00it/s]\n"
     ]
    },
    {
     "name": "stdout",
     "output_type": "stream",
     "text": [
      "\u001b[32m[1217 10:27:47 @DATSGAN.py:267]\u001b[0m Loading Preprocessor!\n"
     ]
    },
    {
     "name": "stderr",
     "output_type": "stream",
     "text": [
      "|                                                                                          |35/?[00:00<00:00,50.69it/s]\n"
     ]
    },
    {
     "name": "stdout",
     "output_type": "stream",
     "text": [
      "\u001b[32m[1217 10:27:48 @DATSGAN.py:267]\u001b[0m Loading Preprocessor!\n"
     ]
    },
    {
     "name": "stderr",
     "output_type": "stream",
     "text": [
      "|                                                                                          |35/?[00:00<00:00,51.30it/s]\n"
     ]
    },
    {
     "name": "stdout",
     "output_type": "stream",
     "text": [
      "\u001b[32m[1217 10:27:50 @DATSGAN.py:267]\u001b[0m Loading Preprocessor!\n"
     ]
    },
    {
     "name": "stderr",
     "output_type": "stream",
     "text": [
      "|                                                                                          |35/?[00:00<00:00,49.91it/s]\n"
     ]
    },
    {
     "name": "stdout",
     "output_type": "stream",
     "text": [
      "\u001b[32m[1217 10:27:51 @DATSGAN.py:267]\u001b[0m Loading Preprocessor!\n"
     ]
    },
    {
     "name": "stderr",
     "output_type": "stream",
     "text": [
      "|                                                                                          |35/?[00:00<00:00,50.55it/s]\n"
     ]
    },
    {
     "name": "stdout",
     "output_type": "stream",
     "text": [
      "\u001b[32m[1217 10:27:52 @DATSGAN.py:267]\u001b[0m Loading Preprocessor!\n"
     ]
    },
    {
     "name": "stderr",
     "output_type": "stream",
     "text": [
      "|                                                                                          |35/?[00:00<00:00,50.69it/s]\n"
     ]
    },
    {
     "name": "stdout",
     "output_type": "stream",
     "text": [
      "\u001b[32m[1217 10:27:53 @DATSGAN.py:267]\u001b[0m Loading Preprocessor!\n"
     ]
    },
    {
     "name": "stderr",
     "output_type": "stream",
     "text": [
      "|                                                                                          |35/?[00:00<00:00,51.43it/s]\n"
     ]
    },
    {
     "name": "stdout",
     "output_type": "stream",
     "text": [
      "\u001b[32m[1217 10:27:54 @DATSGAN.py:267]\u001b[0m Loading Preprocessor!\n"
     ]
    },
    {
     "name": "stderr",
     "output_type": "stream",
     "text": [
      "|                                                                                          |35/?[00:00<00:00,51.43it/s]\n"
     ]
    },
    {
     "name": "stdout",
     "output_type": "stream",
     "text": [
      "\u001b[32m[1217 10:27:55 @DATSGAN.py:267]\u001b[0m Loading Preprocessor!\n"
     ]
    },
    {
     "name": "stderr",
     "output_type": "stream",
     "text": [
      "|                                                                                          |35/?[00:00<00:00,51.51it/s]\n"
     ]
    },
    {
     "name": "stdout",
     "output_type": "stream",
     "text": [
      "\u001b[32m[1217 10:27:56 @DATSGAN.py:267]\u001b[0m Loading Preprocessor!\n"
     ]
    },
    {
     "name": "stderr",
     "output_type": "stream",
     "text": [
      "|                                                                                          |35/?[00:00<00:00,51.32it/s]\n"
     ]
    },
    {
     "name": "stdout",
     "output_type": "stream",
     "text": [
      "\u001b[32m[1217 10:27:57 @DATSGAN.py:267]\u001b[0m Loading Preprocessor!\n"
     ]
    },
    {
     "name": "stderr",
     "output_type": "stream",
     "text": [
      "|                                                                                          |35/?[00:00<00:00,49.28it/s]\n"
     ]
    },
    {
     "name": "stdout",
     "output_type": "stream",
     "text": [
      "\u001b[32m[1217 10:27:58 @DATSGAN.py:267]\u001b[0m Loading Preprocessor!\n"
     ]
    },
    {
     "name": "stderr",
     "output_type": "stream",
     "text": [
      "|                                                                                          |35/?[00:00<00:00,50.95it/s]\n"
     ]
    },
    {
     "name": "stdout",
     "output_type": "stream",
     "text": [
      "\u001b[32m[1217 10:27:59 @DATSGAN.py:267]\u001b[0m Loading Preprocessor!\n"
     ]
    },
    {
     "name": "stderr",
     "output_type": "stream",
     "text": [
      "|                                                                                          |35/?[00:00<00:00,50.95it/s]\n"
     ]
    },
    {
     "name": "stdout",
     "output_type": "stream",
     "text": [
      "\u001b[32m[1217 10:28:00 @DATSGAN.py:267]\u001b[0m Loading Preprocessor!\n"
     ]
    },
    {
     "name": "stderr",
     "output_type": "stream",
     "text": [
      "|                                                                                          |35/?[00:00<00:00,52.23it/s]\n"
     ]
    },
    {
     "name": "stdout",
     "output_type": "stream",
     "text": [
      "\u001b[32m[1217 10:28:01 @DATSGAN.py:267]\u001b[0m Loading Preprocessor!\n"
     ]
    },
    {
     "name": "stderr",
     "output_type": "stream",
     "text": [
      "|                                                                                          |35/?[00:00<00:00,49.97it/s]\n"
     ]
    },
    {
     "name": "stdout",
     "output_type": "stream",
     "text": [
      "\u001b[32m[1217 10:28:02 @DATSGAN.py:267]\u001b[0m Loading Preprocessor!\n"
     ]
    },
    {
     "name": "stderr",
     "output_type": "stream",
     "text": [
      "|                                                                                          |35/?[00:00<00:00,51.66it/s]\n"
     ]
    },
    {
     "name": "stdout",
     "output_type": "stream",
     "text": [
      "\u001b[32m[1217 10:28:03 @DATSGAN.py:267]\u001b[0m Loading Preprocessor!\n"
     ]
    },
    {
     "name": "stderr",
     "output_type": "stream",
     "text": [
      "|                                                                                          |35/?[00:00<00:00,51.96it/s]\n"
     ]
    },
    {
     "name": "stdout",
     "output_type": "stream",
     "text": [
      "\u001b[32m[1217 10:28:04 @DATSGAN.py:267]\u001b[0m Loading Preprocessor!\n"
     ]
    },
    {
     "name": "stderr",
     "output_type": "stream",
     "text": [
      "|                                                                                          |35/?[00:00<00:00,52.04it/s]\n"
     ]
    },
    {
     "name": "stdout",
     "output_type": "stream",
     "text": [
      "Sampling synthetic data from model \u001b[1mSGAN_WI_05\u001b[0m (15/60)\n",
      "\u001b[32m[1217 10:28:17 @DATSGANModel.py:213]\u001b[0m \u001b[91mCreating cell for travel_year (in-edges: 0; ancestors: 0)\n",
      "\u001b[32m[1217 10:28:18 @DATSGANModel.py:213]\u001b[0m \u001b[91mCreating cell for car_ownership (in-edges: 0; ancestors: 0)\n",
      "\u001b[32m[1217 10:28:18 @DATSGANModel.py:213]\u001b[0m \u001b[91mCreating cell for female (in-edges: 0; ancestors: 0)\n",
      "\u001b[32m[1217 10:28:18 @DATSGANModel.py:213]\u001b[0m \u001b[91mCreating cell for age (in-edges: 0; ancestors: 0)\n",
      "\u001b[32m[1217 10:28:18 @DATSGANModel.py:213]\u001b[0m \u001b[91mCreating cell for travel_month (in-edges: 1; ancestors: 1)\n",
      "\u001b[32m[1217 10:28:18 @DATSGANModel.py:213]\u001b[0m \u001b[91mCreating cell for fueltype (in-edges: 1; ancestors: 1)\n",
      "\u001b[32m[1217 10:28:18 @DATSGANModel.py:213]\u001b[0m \u001b[91mCreating cell for driving_license (in-edges: 3; ancestors: 3)\n",
      "\u001b[32m[1217 10:28:18 @DATSGANModel.py:213]\u001b[0m \u001b[91mCreating cell for faretype (in-edges: 1; ancestors: 1)\n",
      "\u001b[32m[1217 10:28:18 @DATSGANModel.py:213]\u001b[0m \u001b[91mCreating cell for travel_date (in-edges: 1; ancestors: 2)\n",
      "\u001b[32m[1217 10:28:18 @DATSGANModel.py:213]\u001b[0m \u001b[91mCreating cell for bus_scale (in-edges: 2; ancestors: 2)\n",
      "\u001b[32m[1217 10:28:18 @DATSGANModel.py:213]\u001b[0m \u001b[91mCreating cell for day_of_week (in-edges: 2; ancestors: 3)\n",
      "\u001b[32m[1217 10:28:18 @DATSGANModel.py:213]\u001b[0m \u001b[91mCreating cell for purpose (in-edges: 1; ancestors: 4)\n",
      "\u001b[32m[1217 10:28:18 @DATSGANModel.py:213]\u001b[0m \u001b[91mCreating cell for start_time_linear (in-edges: 2; ancestors: 5)\n",
      "\u001b[32m[1217 10:28:18 @DATSGANModel.py:213]\u001b[0m \u001b[91mCreating cell for distance (in-edges: 1; ancestors: 5)\n",
      "\u001b[32m[1217 10:28:18 @DATSGANModel.py:213]\u001b[0m \u001b[91mCreating cell for driving_traffic_percent (in-edges: 3; ancestors: 6)\n",
      "\u001b[32m[1217 10:28:18 @DATSGANModel.py:213]\u001b[0m \u001b[91mCreating cell for cost_driving_fuel (in-edges: 2; ancestors: 8)\n",
      "\u001b[32m[1217 10:28:19 @DATSGANModel.py:213]\u001b[0m \u001b[91mCreating cell for dur_driving (in-edges: 1; ancestors: 6)\n",
      "\u001b[32m[1217 10:28:19 @DATSGANModel.py:213]\u001b[0m \u001b[91mCreating cell for dur_walking (in-edges: 1; ancestors: 6)\n",
      "\u001b[32m[1217 10:28:19 @DATSGANModel.py:213]\u001b[0m \u001b[91mCreating cell for dur_cycling (in-edges: 1; ancestors: 6)\n",
      "\u001b[32m[1217 10:28:19 @DATSGANModel.py:213]\u001b[0m \u001b[91mCreating cell for dur_pt_access (in-edges: 1; ancestors: 6)\n",
      "\u001b[32m[1217 10:28:19 @DATSGANModel.py:213]\u001b[0m \u001b[91mCreating cell for pt_n_interchanges (in-edges: 1; ancestors: 6)\n",
      "\u001b[32m[1217 10:28:19 @DATSGANModel.py:213]\u001b[0m \u001b[91mCreating cell for cost_driving_con_charge (in-edges: 5; ancestors: 11)\n",
      "\u001b[32m[1217 10:28:19 @DATSGANModel.py:213]\u001b[0m \u001b[91mCreating cell for dur_pt_rail (in-edges: 2; ancestors: 7)\n",
      "\u001b[32m[1217 10:28:19 @DATSGANModel.py:213]\u001b[0m \u001b[91mCreating cell for dur_pt_bus (in-edges: 2; ancestors: 7)\n",
      "\u001b[32m[1217 10:28:19 @DATSGANModel.py:213]\u001b[0m \u001b[91mCreating cell for dur_pt_int (in-edges: 2; ancestors: 7)\n",
      "\u001b[32m[1217 10:28:19 @DATSGANModel.py:213]\u001b[0m \u001b[91mCreating cell for cost_transit (in-edges: 5; ancestors: 12)\n",
      "\u001b[32m[1217 10:28:19 @DATSGANModel.py:213]\u001b[0m \u001b[91mCreating cell for travel_mode (in-edges: 21; ancestors: 26)\n",
      "\u001b[32m[1217 10:28:20 @collection.py:146]\u001b[0m New collections created in tower : tf.GraphKeys.REGULARIZATION_LOSSES\n",
      "\u001b[32m[1217 10:28:20 @collection.py:165]\u001b[0m These collections were modified but restored in : (tf.GraphKeys.SUMMARIES: 0->2)\n",
      "\u001b[32m[1217 10:28:20 @sessinit.py:87]\u001b[0m \u001b[5m\u001b[31mWRN\u001b[0m The following variables are in the checkpoint, but not found in the graph: global_step, optimize/beta1_power, optimize/beta2_power\n",
      "INFO:tensorflow:Graph was finalized.\n",
      "INFO:tensorflow:Running local_init_op.\n",
      "INFO:tensorflow:Done running local_init_op.\n",
      "\u001b[32m[1217 10:28:22 @sessinit.py:114]\u001b[0m Restoring checkpoint from ../output/LPMC/SGAN_WI_05/model\\model-35000 ...\n",
      "INFO:tensorflow:Restoring parameters from ../output/LPMC/SGAN_WI_05/model\\model-35000\n",
      "\u001b[32m[1217 10:28:22 @DATSGAN.py:267]\u001b[0m Loading Preprocessor!\n"
     ]
    },
    {
     "name": "stderr",
     "output_type": "stream",
     "text": [
      "|                                                                                          |35/?[00:01<00:00,29.75it/s]\n"
     ]
    },
    {
     "name": "stdout",
     "output_type": "stream",
     "text": [
      "\u001b[32m[1217 10:28:24 @DATSGAN.py:267]\u001b[0m Loading Preprocessor!\n"
     ]
    },
    {
     "name": "stderr",
     "output_type": "stream",
     "text": [
      "|                                                                                          |35/?[00:00<00:00,48.43it/s]\n"
     ]
    },
    {
     "name": "stdout",
     "output_type": "stream",
     "text": [
      "\u001b[32m[1217 10:28:25 @DATSGAN.py:267]\u001b[0m Loading Preprocessor!\n"
     ]
    },
    {
     "name": "stderr",
     "output_type": "stream",
     "text": [
      "|                                                                                          |35/?[00:00<00:00,50.12it/s]\n"
     ]
    },
    {
     "name": "stdout",
     "output_type": "stream",
     "text": [
      "\u001b[32m[1217 10:28:26 @DATSGAN.py:267]\u001b[0m Loading Preprocessor!\n"
     ]
    },
    {
     "name": "stderr",
     "output_type": "stream",
     "text": [
      "|                                                                                          |35/?[00:00<00:00,51.06it/s]\n"
     ]
    },
    {
     "name": "stdout",
     "output_type": "stream",
     "text": [
      "\u001b[32m[1217 10:28:27 @DATSGAN.py:267]\u001b[0m Loading Preprocessor!\n"
     ]
    },
    {
     "name": "stderr",
     "output_type": "stream",
     "text": [
      "|                                                                                          |35/?[00:00<00:00,51.17it/s]\n"
     ]
    },
    {
     "name": "stdout",
     "output_type": "stream",
     "text": [
      "\u001b[32m[1217 10:28:28 @DATSGAN.py:267]\u001b[0m Loading Preprocessor!\n"
     ]
    },
    {
     "name": "stderr",
     "output_type": "stream",
     "text": [
      "|                                                                                          |35/?[00:00<00:00,50.95it/s]\n"
     ]
    },
    {
     "name": "stdout",
     "output_type": "stream",
     "text": [
      "\u001b[32m[1217 10:28:29 @DATSGAN.py:267]\u001b[0m Loading Preprocessor!\n"
     ]
    },
    {
     "name": "stderr",
     "output_type": "stream",
     "text": [
      "|                                                                                          |35/?[00:00<00:00,49.55it/s]\n"
     ]
    },
    {
     "name": "stdout",
     "output_type": "stream",
     "text": [
      "\u001b[32m[1217 10:28:30 @DATSGAN.py:267]\u001b[0m Loading Preprocessor!\n"
     ]
    },
    {
     "name": "stderr",
     "output_type": "stream",
     "text": [
      "|                                                                                          |35/?[00:00<00:00,49.62it/s]\n"
     ]
    },
    {
     "name": "stdout",
     "output_type": "stream",
     "text": [
      "\u001b[32m[1217 10:28:31 @DATSGAN.py:267]\u001b[0m Loading Preprocessor!\n"
     ]
    },
    {
     "name": "stderr",
     "output_type": "stream",
     "text": [
      "|                                                                                          |35/?[00:00<00:00,49.83it/s]\n"
     ]
    },
    {
     "name": "stdout",
     "output_type": "stream",
     "text": [
      "\u001b[32m[1217 10:28:32 @DATSGAN.py:267]\u001b[0m Loading Preprocessor!\n"
     ]
    },
    {
     "name": "stderr",
     "output_type": "stream",
     "text": [
      "|                                                                                          |35/?[00:00<00:00,50.46it/s]\n"
     ]
    },
    {
     "name": "stdout",
     "output_type": "stream",
     "text": [
      "\u001b[32m[1217 10:28:33 @DATSGAN.py:267]\u001b[0m Loading Preprocessor!\n"
     ]
    },
    {
     "name": "stderr",
     "output_type": "stream",
     "text": [
      "|                                                                                          |35/?[00:00<00:00,50.29it/s]\n"
     ]
    },
    {
     "name": "stdout",
     "output_type": "stream",
     "text": [
      "\u001b[32m[1217 10:28:34 @DATSGAN.py:267]\u001b[0m Loading Preprocessor!\n"
     ]
    },
    {
     "name": "stderr",
     "output_type": "stream",
     "text": [
      "|                                                                                          |35/?[00:00<00:00,49.21it/s]\n"
     ]
    },
    {
     "name": "stdout",
     "output_type": "stream",
     "text": [
      "\u001b[32m[1217 10:28:35 @DATSGAN.py:267]\u001b[0m Loading Preprocessor!\n"
     ]
    },
    {
     "name": "stderr",
     "output_type": "stream",
     "text": [
      "|                                                                                          |35/?[00:00<00:00,50.33it/s]\n"
     ]
    },
    {
     "name": "stdout",
     "output_type": "stream",
     "text": [
      "\u001b[32m[1217 10:28:37 @DATSGAN.py:267]\u001b[0m Loading Preprocessor!\n"
     ]
    },
    {
     "name": "stderr",
     "output_type": "stream",
     "text": [
      "|                                                                                          |35/?[00:00<00:00,50.12it/s]\n"
     ]
    },
    {
     "name": "stdout",
     "output_type": "stream",
     "text": [
      "\u001b[32m[1217 10:28:38 @DATSGAN.py:267]\u001b[0m Loading Preprocessor!\n"
     ]
    },
    {
     "name": "stderr",
     "output_type": "stream",
     "text": [
      "|                                                                                          |35/?[00:00<00:00,48.66it/s]\n"
     ]
    },
    {
     "name": "stdout",
     "output_type": "stream",
     "text": [
      "\u001b[32m[1217 10:28:39 @DATSGAN.py:267]\u001b[0m Loading Preprocessor!\n"
     ]
    },
    {
     "name": "stderr",
     "output_type": "stream",
     "text": [
      "|                                                                                          |35/?[00:00<00:00,50.57it/s]\n"
     ]
    },
    {
     "name": "stdout",
     "output_type": "stream",
     "text": [
      "\u001b[32m[1217 10:28:40 @DATSGAN.py:267]\u001b[0m Loading Preprocessor!\n"
     ]
    },
    {
     "name": "stderr",
     "output_type": "stream",
     "text": [
      "|                                                                                          |35/?[00:00<00:00,50.51it/s]\n"
     ]
    },
    {
     "name": "stdout",
     "output_type": "stream",
     "text": [
      "\u001b[32m[1217 10:28:41 @DATSGAN.py:267]\u001b[0m Loading Preprocessor!\n"
     ]
    },
    {
     "name": "stderr",
     "output_type": "stream",
     "text": [
      "|                                                                                          |35/?[00:00<00:00,51.81it/s]\n"
     ]
    },
    {
     "name": "stdout",
     "output_type": "stream",
     "text": [
      "\u001b[32m[1217 10:28:42 @DATSGAN.py:267]\u001b[0m Loading Preprocessor!\n"
     ]
    },
    {
     "name": "stderr",
     "output_type": "stream",
     "text": [
      "|                                                                                          |35/?[00:00<00:00,49.21it/s]\n"
     ]
    },
    {
     "name": "stdout",
     "output_type": "stream",
     "text": [
      "\u001b[32m[1217 10:28:43 @DATSGAN.py:267]\u001b[0m Loading Preprocessor!\n"
     ]
    },
    {
     "name": "stderr",
     "output_type": "stream",
     "text": [
      "|                                                                                          |35/?[00:00<00:00,50.57it/s]\n"
     ]
    },
    {
     "name": "stdout",
     "output_type": "stream",
     "text": [
      "Sampling synthetic data from model \u001b[1mSGAN_WO_01\u001b[0m (16/60)\n",
      "\u001b[32m[1217 10:28:57 @DATSGANModel.py:213]\u001b[0m \u001b[91mCreating cell for travel_year (in-edges: 0; ancestors: 0)\n",
      "\u001b[32m[1217 10:28:57 @DATSGANModel.py:213]\u001b[0m \u001b[91mCreating cell for car_ownership (in-edges: 0; ancestors: 0)\n",
      "\u001b[32m[1217 10:28:57 @DATSGANModel.py:213]\u001b[0m \u001b[91mCreating cell for female (in-edges: 0; ancestors: 0)\n",
      "\u001b[32m[1217 10:28:57 @DATSGANModel.py:213]\u001b[0m \u001b[91mCreating cell for age (in-edges: 0; ancestors: 0)\n",
      "\u001b[32m[1217 10:28:57 @DATSGANModel.py:213]\u001b[0m \u001b[91mCreating cell for travel_month (in-edges: 1; ancestors: 1)\n",
      "\u001b[32m[1217 10:28:57 @DATSGANModel.py:213]\u001b[0m \u001b[91mCreating cell for fueltype (in-edges: 1; ancestors: 1)\n",
      "\u001b[32m[1217 10:28:57 @DATSGANModel.py:213]\u001b[0m \u001b[91mCreating cell for driving_license (in-edges: 3; ancestors: 3)\n",
      "\u001b[32m[1217 10:28:57 @DATSGANModel.py:213]\u001b[0m \u001b[91mCreating cell for faretype (in-edges: 1; ancestors: 1)\n",
      "\u001b[32m[1217 10:28:57 @DATSGANModel.py:213]\u001b[0m \u001b[91mCreating cell for travel_date (in-edges: 1; ancestors: 2)\n",
      "\u001b[32m[1217 10:28:57 @DATSGANModel.py:213]\u001b[0m \u001b[91mCreating cell for bus_scale (in-edges: 2; ancestors: 2)\n",
      "\u001b[32m[1217 10:28:57 @DATSGANModel.py:213]\u001b[0m \u001b[91mCreating cell for day_of_week (in-edges: 2; ancestors: 3)\n",
      "\u001b[32m[1217 10:28:58 @DATSGANModel.py:213]\u001b[0m \u001b[91mCreating cell for purpose (in-edges: 1; ancestors: 4)\n",
      "\u001b[32m[1217 10:28:58 @DATSGANModel.py:213]\u001b[0m \u001b[91mCreating cell for start_time_linear (in-edges: 2; ancestors: 5)\n",
      "\u001b[32m[1217 10:28:58 @DATSGANModel.py:213]\u001b[0m \u001b[91mCreating cell for distance (in-edges: 1; ancestors: 5)\n",
      "\u001b[32m[1217 10:28:58 @DATSGANModel.py:213]\u001b[0m \u001b[91mCreating cell for driving_traffic_percent (in-edges: 3; ancestors: 6)\n",
      "\u001b[32m[1217 10:28:58 @DATSGANModel.py:213]\u001b[0m \u001b[91mCreating cell for cost_driving_fuel (in-edges: 2; ancestors: 8)\n",
      "\u001b[32m[1217 10:28:58 @DATSGANModel.py:213]\u001b[0m \u001b[91mCreating cell for dur_driving (in-edges: 1; ancestors: 6)\n",
      "\u001b[32m[1217 10:28:58 @DATSGANModel.py:213]\u001b[0m \u001b[91mCreating cell for dur_walking (in-edges: 1; ancestors: 6)\n",
      "\u001b[32m[1217 10:28:58 @DATSGANModel.py:213]\u001b[0m \u001b[91mCreating cell for dur_cycling (in-edges: 1; ancestors: 6)\n",
      "\u001b[32m[1217 10:28:58 @DATSGANModel.py:213]\u001b[0m \u001b[91mCreating cell for dur_pt_access (in-edges: 1; ancestors: 6)\n",
      "\u001b[32m[1217 10:28:58 @DATSGANModel.py:213]\u001b[0m \u001b[91mCreating cell for pt_n_interchanges (in-edges: 1; ancestors: 6)\n",
      "\u001b[32m[1217 10:28:58 @DATSGANModel.py:213]\u001b[0m \u001b[91mCreating cell for cost_driving_con_charge (in-edges: 5; ancestors: 11)\n",
      "\u001b[32m[1217 10:28:58 @DATSGANModel.py:213]\u001b[0m \u001b[91mCreating cell for dur_pt_rail (in-edges: 2; ancestors: 7)\n",
      "\u001b[32m[1217 10:28:59 @DATSGANModel.py:213]\u001b[0m \u001b[91mCreating cell for dur_pt_bus (in-edges: 2; ancestors: 7)\n",
      "\u001b[32m[1217 10:28:59 @DATSGANModel.py:213]\u001b[0m \u001b[91mCreating cell for dur_pt_int (in-edges: 2; ancestors: 7)\n",
      "\u001b[32m[1217 10:28:59 @DATSGANModel.py:213]\u001b[0m \u001b[91mCreating cell for cost_transit (in-edges: 5; ancestors: 12)\n",
      "\u001b[32m[1217 10:28:59 @DATSGANModel.py:213]\u001b[0m \u001b[91mCreating cell for travel_mode (in-edges: 21; ancestors: 26)\n",
      "\u001b[32m[1217 10:29:00 @collection.py:146]\u001b[0m New collections created in tower : tf.GraphKeys.REGULARIZATION_LOSSES\n",
      "\u001b[32m[1217 10:29:00 @collection.py:165]\u001b[0m These collections were modified but restored in : (tf.GraphKeys.SUMMARIES: 0->2)\n",
      "\u001b[32m[1217 10:29:00 @sessinit.py:87]\u001b[0m \u001b[5m\u001b[31mWRN\u001b[0m The following variables are in the checkpoint, but not found in the graph: global_step, optimize/beta1_power, optimize/beta2_power\n",
      "INFO:tensorflow:Graph was finalized.\n",
      "INFO:tensorflow:Running local_init_op.\n",
      "INFO:tensorflow:Done running local_init_op.\n",
      "\u001b[32m[1217 10:29:01 @sessinit.py:114]\u001b[0m Restoring checkpoint from ../output/LPMC/SGAN_WO_01/model\\model-35000 ...\n",
      "INFO:tensorflow:Restoring parameters from ../output/LPMC/SGAN_WO_01/model\\model-35000\n",
      "\u001b[32m[1217 10:29:02 @DATSGAN.py:267]\u001b[0m Loading Preprocessor!\n"
     ]
    },
    {
     "name": "stderr",
     "output_type": "stream",
     "text": [
      "|                                                                                          |35/?[00:01<00:00,28.88it/s]\n"
     ]
    },
    {
     "name": "stdout",
     "output_type": "stream",
     "text": [
      "\u001b[32m[1217 10:29:03 @DATSGAN.py:267]\u001b[0m Loading Preprocessor!\n"
     ]
    },
    {
     "name": "stderr",
     "output_type": "stream",
     "text": [
      "|                                                                                          |35/?[00:00<00:00,48.00it/s]\n"
     ]
    },
    {
     "name": "stdout",
     "output_type": "stream",
     "text": [
      "\u001b[32m[1217 10:29:04 @DATSGAN.py:267]\u001b[0m Loading Preprocessor!\n"
     ]
    },
    {
     "name": "stderr",
     "output_type": "stream",
     "text": [
      "|                                                                                          |35/?[00:00<00:00,50.51it/s]\n"
     ]
    },
    {
     "name": "stdout",
     "output_type": "stream",
     "text": [
      "\u001b[32m[1217 10:29:05 @DATSGAN.py:267]\u001b[0m Loading Preprocessor!\n"
     ]
    },
    {
     "name": "stderr",
     "output_type": "stream",
     "text": [
      "|                                                                                          |35/?[00:00<00:00,51.10it/s]\n"
     ]
    },
    {
     "name": "stdout",
     "output_type": "stream",
     "text": [
      "\u001b[32m[1217 10:29:06 @DATSGAN.py:267]\u001b[0m Loading Preprocessor!\n"
     ]
    },
    {
     "name": "stderr",
     "output_type": "stream",
     "text": [
      "|                                                                                          |35/?[00:00<00:00,47.74it/s]\n"
     ]
    },
    {
     "name": "stdout",
     "output_type": "stream",
     "text": [
      "\u001b[32m[1217 10:29:08 @DATSGAN.py:267]\u001b[0m Loading Preprocessor!\n"
     ]
    },
    {
     "name": "stderr",
     "output_type": "stream",
     "text": [
      "|                                                                                          |35/?[00:00<00:00,50.01it/s]\n"
     ]
    },
    {
     "name": "stdout",
     "output_type": "stream",
     "text": [
      "\u001b[32m[1217 10:29:09 @DATSGAN.py:267]\u001b[0m Loading Preprocessor!\n"
     ]
    },
    {
     "name": "stderr",
     "output_type": "stream",
     "text": [
      "|                                                                                          |35/?[00:00<00:00,49.73it/s]\n"
     ]
    },
    {
     "name": "stdout",
     "output_type": "stream",
     "text": [
      "\u001b[32m[1217 10:29:10 @DATSGAN.py:267]\u001b[0m Loading Preprocessor!\n"
     ]
    },
    {
     "name": "stderr",
     "output_type": "stream",
     "text": [
      "|                                                                                          |35/?[00:00<00:00,50.48it/s]\n"
     ]
    },
    {
     "name": "stdout",
     "output_type": "stream",
     "text": [
      "\u001b[32m[1217 10:29:11 @DATSGAN.py:267]\u001b[0m Loading Preprocessor!\n"
     ]
    },
    {
     "name": "stderr",
     "output_type": "stream",
     "text": [
      "|                                                                                          |35/?[00:00<00:00,48.67it/s]\n"
     ]
    },
    {
     "name": "stdout",
     "output_type": "stream",
     "text": [
      "\u001b[32m[1217 10:29:12 @DATSGAN.py:267]\u001b[0m Loading Preprocessor!\n"
     ]
    },
    {
     "name": "stderr",
     "output_type": "stream",
     "text": [
      "|                                                                                          |35/?[00:00<00:00,50.51it/s]\n"
     ]
    },
    {
     "name": "stdout",
     "output_type": "stream",
     "text": [
      "\u001b[32m[1217 10:29:13 @DATSGAN.py:267]\u001b[0m Loading Preprocessor!\n"
     ]
    },
    {
     "name": "stderr",
     "output_type": "stream",
     "text": [
      "|                                                                                          |35/?[00:00<00:00,51.62it/s]\n"
     ]
    },
    {
     "name": "stdout",
     "output_type": "stream",
     "text": [
      "\u001b[32m[1217 10:29:14 @DATSGAN.py:267]\u001b[0m Loading Preprocessor!\n"
     ]
    },
    {
     "name": "stderr",
     "output_type": "stream",
     "text": [
      "|                                                                                          |35/?[00:00<00:00,50.51it/s]\n"
     ]
    },
    {
     "name": "stdout",
     "output_type": "stream",
     "text": [
      "\u001b[32m[1217 10:29:15 @DATSGAN.py:267]\u001b[0m Loading Preprocessor!\n"
     ]
    },
    {
     "name": "stderr",
     "output_type": "stream",
     "text": [
      "|                                                                                          |35/?[00:00<00:00,50.37it/s]\n"
     ]
    },
    {
     "name": "stdout",
     "output_type": "stream",
     "text": [
      "\u001b[32m[1217 10:29:16 @DATSGAN.py:267]\u001b[0m Loading Preprocessor!\n"
     ]
    },
    {
     "name": "stderr",
     "output_type": "stream",
     "text": [
      "|                                                                                          |35/?[00:00<00:00,50.44it/s]\n"
     ]
    },
    {
     "name": "stdout",
     "output_type": "stream",
     "text": [
      "\u001b[32m[1217 10:29:17 @DATSGAN.py:267]\u001b[0m Loading Preprocessor!\n"
     ]
    },
    {
     "name": "stderr",
     "output_type": "stream",
     "text": [
      "|                                                                                          |35/?[00:00<00:00,47.84it/s]\n"
     ]
    },
    {
     "name": "stdout",
     "output_type": "stream",
     "text": [
      "\u001b[32m[1217 10:29:18 @DATSGAN.py:267]\u001b[0m Loading Preprocessor!\n"
     ]
    },
    {
     "name": "stderr",
     "output_type": "stream",
     "text": [
      "|                                                                                          |35/?[00:00<00:00,49.67it/s]\n"
     ]
    },
    {
     "name": "stdout",
     "output_type": "stream",
     "text": [
      "\u001b[32m[1217 10:29:19 @DATSGAN.py:267]\u001b[0m Loading Preprocessor!\n"
     ]
    },
    {
     "name": "stderr",
     "output_type": "stream",
     "text": [
      "|                                                                                          |35/?[00:00<00:00,50.99it/s]\n"
     ]
    },
    {
     "name": "stdout",
     "output_type": "stream",
     "text": [
      "\u001b[32m[1217 10:29:20 @DATSGAN.py:267]\u001b[0m Loading Preprocessor!\n"
     ]
    },
    {
     "name": "stderr",
     "output_type": "stream",
     "text": [
      "|                                                                                          |35/?[00:00<00:00,49.66it/s]\n"
     ]
    },
    {
     "name": "stdout",
     "output_type": "stream",
     "text": [
      "\u001b[32m[1217 10:29:21 @DATSGAN.py:267]\u001b[0m Loading Preprocessor!\n"
     ]
    },
    {
     "name": "stderr",
     "output_type": "stream",
     "text": [
      "|                                                                                          |35/?[00:00<00:00,52.12it/s]\n"
     ]
    },
    {
     "name": "stdout",
     "output_type": "stream",
     "text": [
      "\u001b[32m[1217 10:29:22 @DATSGAN.py:267]\u001b[0m Loading Preprocessor!\n"
     ]
    },
    {
     "name": "stderr",
     "output_type": "stream",
     "text": [
      "|                                                                                          |35/?[00:00<00:00,50.37it/s]\n"
     ]
    },
    {
     "name": "stdout",
     "output_type": "stream",
     "text": [
      "Sampling synthetic data from model \u001b[1mSGAN_WO_02\u001b[0m (17/60)\n",
      "\u001b[32m[1217 10:29:36 @DATSGANModel.py:213]\u001b[0m \u001b[91mCreating cell for travel_year (in-edges: 0; ancestors: 0)\n",
      "\u001b[32m[1217 10:29:36 @DATSGANModel.py:213]\u001b[0m \u001b[91mCreating cell for car_ownership (in-edges: 0; ancestors: 0)\n",
      "\u001b[32m[1217 10:29:36 @DATSGANModel.py:213]\u001b[0m \u001b[91mCreating cell for female (in-edges: 0; ancestors: 0)\n",
      "\u001b[32m[1217 10:29:36 @DATSGANModel.py:213]\u001b[0m \u001b[91mCreating cell for age (in-edges: 0; ancestors: 0)\n",
      "\u001b[32m[1217 10:29:36 @DATSGANModel.py:213]\u001b[0m \u001b[91mCreating cell for travel_month (in-edges: 1; ancestors: 1)\n",
      "\u001b[32m[1217 10:29:37 @DATSGANModel.py:213]\u001b[0m \u001b[91mCreating cell for fueltype (in-edges: 1; ancestors: 1)\n",
      "\u001b[32m[1217 10:29:37 @DATSGANModel.py:213]\u001b[0m \u001b[91mCreating cell for driving_license (in-edges: 3; ancestors: 3)\n",
      "\u001b[32m[1217 10:29:37 @DATSGANModel.py:213]\u001b[0m \u001b[91mCreating cell for faretype (in-edges: 1; ancestors: 1)\n",
      "\u001b[32m[1217 10:29:37 @DATSGANModel.py:213]\u001b[0m \u001b[91mCreating cell for travel_date (in-edges: 1; ancestors: 2)\n",
      "\u001b[32m[1217 10:29:37 @DATSGANModel.py:213]\u001b[0m \u001b[91mCreating cell for bus_scale (in-edges: 2; ancestors: 2)\n",
      "\u001b[32m[1217 10:29:37 @DATSGANModel.py:213]\u001b[0m \u001b[91mCreating cell for day_of_week (in-edges: 2; ancestors: 3)\n",
      "\u001b[32m[1217 10:29:37 @DATSGANModel.py:213]\u001b[0m \u001b[91mCreating cell for purpose (in-edges: 1; ancestors: 4)\n",
      "\u001b[32m[1217 10:29:37 @DATSGANModel.py:213]\u001b[0m \u001b[91mCreating cell for start_time_linear (in-edges: 2; ancestors: 5)\n",
      "\u001b[32m[1217 10:29:37 @DATSGANModel.py:213]\u001b[0m \u001b[91mCreating cell for distance (in-edges: 1; ancestors: 5)\n",
      "\u001b[32m[1217 10:29:37 @DATSGANModel.py:213]\u001b[0m \u001b[91mCreating cell for driving_traffic_percent (in-edges: 3; ancestors: 6)\n",
      "\u001b[32m[1217 10:29:37 @DATSGANModel.py:213]\u001b[0m \u001b[91mCreating cell for cost_driving_fuel (in-edges: 2; ancestors: 8)\n",
      "\u001b[32m[1217 10:29:37 @DATSGANModel.py:213]\u001b[0m \u001b[91mCreating cell for dur_driving (in-edges: 1; ancestors: 6)\n",
      "\u001b[32m[1217 10:29:37 @DATSGANModel.py:213]\u001b[0m \u001b[91mCreating cell for dur_walking (in-edges: 1; ancestors: 6)\n",
      "\u001b[32m[1217 10:29:37 @DATSGANModel.py:213]\u001b[0m \u001b[91mCreating cell for dur_cycling (in-edges: 1; ancestors: 6)\n",
      "\u001b[32m[1217 10:29:38 @DATSGANModel.py:213]\u001b[0m \u001b[91mCreating cell for dur_pt_access (in-edges: 1; ancestors: 6)\n",
      "\u001b[32m[1217 10:29:38 @DATSGANModel.py:213]\u001b[0m \u001b[91mCreating cell for pt_n_interchanges (in-edges: 1; ancestors: 6)\n",
      "\u001b[32m[1217 10:29:38 @DATSGANModel.py:213]\u001b[0m \u001b[91mCreating cell for cost_driving_con_charge (in-edges: 5; ancestors: 11)\n",
      "\u001b[32m[1217 10:29:38 @DATSGANModel.py:213]\u001b[0m \u001b[91mCreating cell for dur_pt_rail (in-edges: 2; ancestors: 7)\n",
      "\u001b[32m[1217 10:29:38 @DATSGANModel.py:213]\u001b[0m \u001b[91mCreating cell for dur_pt_bus (in-edges: 2; ancestors: 7)\n",
      "\u001b[32m[1217 10:29:38 @DATSGANModel.py:213]\u001b[0m \u001b[91mCreating cell for dur_pt_int (in-edges: 2; ancestors: 7)\n",
      "\u001b[32m[1217 10:29:38 @DATSGANModel.py:213]\u001b[0m \u001b[91mCreating cell for cost_transit (in-edges: 5; ancestors: 12)\n",
      "\u001b[32m[1217 10:29:38 @DATSGANModel.py:213]\u001b[0m \u001b[91mCreating cell for travel_mode (in-edges: 21; ancestors: 26)\n",
      "\u001b[32m[1217 10:29:39 @collection.py:146]\u001b[0m New collections created in tower : tf.GraphKeys.REGULARIZATION_LOSSES\n",
      "\u001b[32m[1217 10:29:39 @collection.py:165]\u001b[0m These collections were modified but restored in : (tf.GraphKeys.SUMMARIES: 0->2)\n",
      "\u001b[32m[1217 10:29:39 @sessinit.py:87]\u001b[0m \u001b[5m\u001b[31mWRN\u001b[0m The following variables are in the checkpoint, but not found in the graph: global_step, optimize/beta1_power, optimize/beta2_power\n",
      "INFO:tensorflow:Graph was finalized.\n",
      "INFO:tensorflow:Running local_init_op.\n",
      "INFO:tensorflow:Done running local_init_op.\n",
      "\u001b[32m[1217 10:29:41 @sessinit.py:114]\u001b[0m Restoring checkpoint from ../output/LPMC/SGAN_WO_02/model\\model-35000 ...\n",
      "INFO:tensorflow:Restoring parameters from ../output/LPMC/SGAN_WO_02/model\\model-35000\n",
      "\u001b[32m[1217 10:29:41 @DATSGAN.py:267]\u001b[0m Loading Preprocessor!\n"
     ]
    },
    {
     "name": "stderr",
     "output_type": "stream",
     "text": [
      "|                                                                                          |35/?[00:01<00:00,29.75it/s]\n"
     ]
    },
    {
     "name": "stdout",
     "output_type": "stream",
     "text": [
      "\u001b[32m[1217 10:29:42 @DATSGAN.py:267]\u001b[0m Loading Preprocessor!\n"
     ]
    },
    {
     "name": "stderr",
     "output_type": "stream",
     "text": [
      "|                                                                                          |35/?[00:00<00:00,50.58it/s]\n"
     ]
    },
    {
     "name": "stdout",
     "output_type": "stream",
     "text": [
      "\u001b[32m[1217 10:29:43 @DATSGAN.py:267]\u001b[0m Loading Preprocessor!\n"
     ]
    },
    {
     "name": "stderr",
     "output_type": "stream",
     "text": [
      "|                                                                                          |35/?[00:00<00:00,51.58it/s]\n"
     ]
    },
    {
     "name": "stdout",
     "output_type": "stream",
     "text": [
      "\u001b[32m[1217 10:29:44 @DATSGAN.py:267]\u001b[0m Loading Preprocessor!\n"
     ]
    },
    {
     "name": "stderr",
     "output_type": "stream",
     "text": [
      "|                                                                                          |35/?[00:00<00:00,51.57it/s]\n"
     ]
    },
    {
     "name": "stdout",
     "output_type": "stream",
     "text": [
      "\u001b[32m[1217 10:29:46 @DATSGAN.py:267]\u001b[0m Loading Preprocessor!\n"
     ]
    },
    {
     "name": "stderr",
     "output_type": "stream",
     "text": [
      "|                                                                                          |35/?[00:00<00:00,49.94it/s]\n"
     ]
    },
    {
     "name": "stdout",
     "output_type": "stream",
     "text": [
      "\u001b[32m[1217 10:29:47 @DATSGAN.py:267]\u001b[0m Loading Preprocessor!\n"
     ]
    },
    {
     "name": "stderr",
     "output_type": "stream",
     "text": [
      "|                                                                                          |35/?[00:00<00:00,51.45it/s]\n"
     ]
    },
    {
     "name": "stdout",
     "output_type": "stream",
     "text": [
      "\u001b[32m[1217 10:29:48 @DATSGAN.py:267]\u001b[0m Loading Preprocessor!\n"
     ]
    },
    {
     "name": "stderr",
     "output_type": "stream",
     "text": [
      "|                                                                                          |35/?[00:00<00:00,51.81it/s]\n"
     ]
    },
    {
     "name": "stdout",
     "output_type": "stream",
     "text": [
      "\u001b[32m[1217 10:29:49 @DATSGAN.py:267]\u001b[0m Loading Preprocessor!\n"
     ]
    },
    {
     "name": "stderr",
     "output_type": "stream",
     "text": [
      "|                                                                                          |35/?[00:00<00:00,51.96it/s]\n"
     ]
    },
    {
     "name": "stdout",
     "output_type": "stream",
     "text": [
      "\u001b[32m[1217 10:29:50 @DATSGAN.py:267]\u001b[0m Loading Preprocessor!\n"
     ]
    },
    {
     "name": "stderr",
     "output_type": "stream",
     "text": [
      "|                                                                                          |35/?[00:00<00:00,50.22it/s]\n"
     ]
    },
    {
     "name": "stdout",
     "output_type": "stream",
     "text": [
      "\u001b[32m[1217 10:29:51 @DATSGAN.py:267]\u001b[0m Loading Preprocessor!\n"
     ]
    },
    {
     "name": "stderr",
     "output_type": "stream",
     "text": [
      "|                                                                                          |35/?[00:00<00:00,50.84it/s]\n"
     ]
    },
    {
     "name": "stdout",
     "output_type": "stream",
     "text": [
      "\u001b[32m[1217 10:29:52 @DATSGAN.py:267]\u001b[0m Loading Preprocessor!\n"
     ]
    },
    {
     "name": "stderr",
     "output_type": "stream",
     "text": [
      "|                                                                                          |35/?[00:00<00:00,50.05it/s]\n"
     ]
    },
    {
     "name": "stdout",
     "output_type": "stream",
     "text": [
      "\u001b[32m[1217 10:29:53 @DATSGAN.py:267]\u001b[0m Loading Preprocessor!\n"
     ]
    },
    {
     "name": "stderr",
     "output_type": "stream",
     "text": [
      "|                                                                                          |35/?[00:00<00:00,51.25it/s]\n"
     ]
    },
    {
     "name": "stdout",
     "output_type": "stream",
     "text": [
      "\u001b[32m[1217 10:29:54 @DATSGAN.py:267]\u001b[0m Loading Preprocessor!\n"
     ]
    },
    {
     "name": "stderr",
     "output_type": "stream",
     "text": [
      "|                                                                                          |35/?[00:00<00:00,51.70it/s]\n"
     ]
    },
    {
     "name": "stdout",
     "output_type": "stream",
     "text": [
      "\u001b[32m[1217 10:29:55 @DATSGAN.py:267]\u001b[0m Loading Preprocessor!\n"
     ]
    },
    {
     "name": "stderr",
     "output_type": "stream",
     "text": [
      "|                                                                                          |35/?[00:00<00:00,51.84it/s]\n"
     ]
    },
    {
     "name": "stdout",
     "output_type": "stream",
     "text": [
      "\u001b[32m[1217 10:29:56 @DATSGAN.py:267]\u001b[0m Loading Preprocessor!\n"
     ]
    },
    {
     "name": "stderr",
     "output_type": "stream",
     "text": [
      "|                                                                                          |35/?[00:00<00:00,51.93it/s]\n"
     ]
    },
    {
     "name": "stdout",
     "output_type": "stream",
     "text": [
      "\u001b[32m[1217 10:29:57 @DATSGAN.py:267]\u001b[0m Loading Preprocessor!\n"
     ]
    },
    {
     "name": "stderr",
     "output_type": "stream",
     "text": [
      "|                                                                                          |35/?[00:00<00:00,50.88it/s]\n"
     ]
    },
    {
     "name": "stdout",
     "output_type": "stream",
     "text": [
      "\u001b[32m[1217 10:29:58 @DATSGAN.py:267]\u001b[0m Loading Preprocessor!\n"
     ]
    },
    {
     "name": "stderr",
     "output_type": "stream",
     "text": [
      "|                                                                                          |35/?[00:00<00:00,51.33it/s]\n"
     ]
    },
    {
     "name": "stdout",
     "output_type": "stream",
     "text": [
      "\u001b[32m[1217 10:29:59 @DATSGAN.py:267]\u001b[0m Loading Preprocessor!\n"
     ]
    },
    {
     "name": "stderr",
     "output_type": "stream",
     "text": [
      "|                                                                                          |35/?[00:00<00:00,52.50it/s]\n"
     ]
    },
    {
     "name": "stdout",
     "output_type": "stream",
     "text": [
      "\u001b[32m[1217 10:30:00 @DATSGAN.py:267]\u001b[0m Loading Preprocessor!\n"
     ]
    },
    {
     "name": "stderr",
     "output_type": "stream",
     "text": [
      "|                                                                                          |35/?[00:00<00:00,49.62it/s]\n"
     ]
    },
    {
     "name": "stdout",
     "output_type": "stream",
     "text": [
      "\u001b[32m[1217 10:30:01 @DATSGAN.py:267]\u001b[0m Loading Preprocessor!\n"
     ]
    },
    {
     "name": "stderr",
     "output_type": "stream",
     "text": [
      "|                                                                                          |35/?[00:00<00:00,49.94it/s]\n"
     ]
    },
    {
     "name": "stdout",
     "output_type": "stream",
     "text": [
      "Sampling synthetic data from model \u001b[1mSGAN_WO_03\u001b[0m (18/60)\n",
      "\u001b[32m[1217 10:30:15 @DATSGANModel.py:213]\u001b[0m \u001b[91mCreating cell for travel_year (in-edges: 0; ancestors: 0)\n",
      "\u001b[32m[1217 10:30:15 @DATSGANModel.py:213]\u001b[0m \u001b[91mCreating cell for car_ownership (in-edges: 0; ancestors: 0)\n",
      "\u001b[32m[1217 10:30:15 @DATSGANModel.py:213]\u001b[0m \u001b[91mCreating cell for female (in-edges: 0; ancestors: 0)\n",
      "\u001b[32m[1217 10:30:15 @DATSGANModel.py:213]\u001b[0m \u001b[91mCreating cell for age (in-edges: 0; ancestors: 0)\n",
      "\u001b[32m[1217 10:30:15 @DATSGANModel.py:213]\u001b[0m \u001b[91mCreating cell for travel_month (in-edges: 1; ancestors: 1)\n",
      "\u001b[32m[1217 10:30:15 @DATSGANModel.py:213]\u001b[0m \u001b[91mCreating cell for fueltype (in-edges: 1; ancestors: 1)\n",
      "\u001b[32m[1217 10:30:15 @DATSGANModel.py:213]\u001b[0m \u001b[91mCreating cell for driving_license (in-edges: 3; ancestors: 3)\n",
      "\u001b[32m[1217 10:30:16 @DATSGANModel.py:213]\u001b[0m \u001b[91mCreating cell for faretype (in-edges: 1; ancestors: 1)\n",
      "\u001b[32m[1217 10:30:16 @DATSGANModel.py:213]\u001b[0m \u001b[91mCreating cell for travel_date (in-edges: 1; ancestors: 2)\n",
      "\u001b[32m[1217 10:30:16 @DATSGANModel.py:213]\u001b[0m \u001b[91mCreating cell for bus_scale (in-edges: 2; ancestors: 2)\n",
      "\u001b[32m[1217 10:30:16 @DATSGANModel.py:213]\u001b[0m \u001b[91mCreating cell for day_of_week (in-edges: 2; ancestors: 3)\n",
      "\u001b[32m[1217 10:30:16 @DATSGANModel.py:213]\u001b[0m \u001b[91mCreating cell for purpose (in-edges: 1; ancestors: 4)\n",
      "\u001b[32m[1217 10:30:16 @DATSGANModel.py:213]\u001b[0m \u001b[91mCreating cell for start_time_linear (in-edges: 2; ancestors: 5)\n",
      "\u001b[32m[1217 10:30:16 @DATSGANModel.py:213]\u001b[0m \u001b[91mCreating cell for distance (in-edges: 1; ancestors: 5)\n",
      "\u001b[32m[1217 10:30:16 @DATSGANModel.py:213]\u001b[0m \u001b[91mCreating cell for driving_traffic_percent (in-edges: 3; ancestors: 6)\n",
      "\u001b[32m[1217 10:30:16 @DATSGANModel.py:213]\u001b[0m \u001b[91mCreating cell for cost_driving_fuel (in-edges: 2; ancestors: 8)\n",
      "\u001b[32m[1217 10:30:16 @DATSGANModel.py:213]\u001b[0m \u001b[91mCreating cell for dur_driving (in-edges: 1; ancestors: 6)\n",
      "\u001b[32m[1217 10:30:16 @DATSGANModel.py:213]\u001b[0m \u001b[91mCreating cell for dur_walking (in-edges: 1; ancestors: 6)\n",
      "\u001b[32m[1217 10:30:16 @DATSGANModel.py:213]\u001b[0m \u001b[91mCreating cell for dur_cycling (in-edges: 1; ancestors: 6)\n",
      "\u001b[32m[1217 10:30:16 @DATSGANModel.py:213]\u001b[0m \u001b[91mCreating cell for dur_pt_access (in-edges: 1; ancestors: 6)\n",
      "\u001b[32m[1217 10:30:16 @DATSGANModel.py:213]\u001b[0m \u001b[91mCreating cell for pt_n_interchanges (in-edges: 1; ancestors: 6)\n",
      "\u001b[32m[1217 10:30:17 @DATSGANModel.py:213]\u001b[0m \u001b[91mCreating cell for cost_driving_con_charge (in-edges: 5; ancestors: 11)\n",
      "\u001b[32m[1217 10:30:17 @DATSGANModel.py:213]\u001b[0m \u001b[91mCreating cell for dur_pt_rail (in-edges: 2; ancestors: 7)\n",
      "\u001b[32m[1217 10:30:17 @DATSGANModel.py:213]\u001b[0m \u001b[91mCreating cell for dur_pt_bus (in-edges: 2; ancestors: 7)\n",
      "\u001b[32m[1217 10:30:17 @DATSGANModel.py:213]\u001b[0m \u001b[91mCreating cell for dur_pt_int (in-edges: 2; ancestors: 7)\n",
      "\u001b[32m[1217 10:30:17 @DATSGANModel.py:213]\u001b[0m \u001b[91mCreating cell for cost_transit (in-edges: 5; ancestors: 12)\n",
      "\u001b[32m[1217 10:30:17 @DATSGANModel.py:213]\u001b[0m \u001b[91mCreating cell for travel_mode (in-edges: 21; ancestors: 26)\n",
      "\u001b[32m[1217 10:30:18 @collection.py:146]\u001b[0m New collections created in tower : tf.GraphKeys.REGULARIZATION_LOSSES\n",
      "\u001b[32m[1217 10:30:18 @collection.py:165]\u001b[0m These collections were modified but restored in : (tf.GraphKeys.SUMMARIES: 0->2)\n",
      "\u001b[32m[1217 10:30:18 @sessinit.py:87]\u001b[0m \u001b[5m\u001b[31mWRN\u001b[0m The following variables are in the checkpoint, but not found in the graph: global_step, optimize/beta1_power, optimize/beta2_power\n",
      "INFO:tensorflow:Graph was finalized.\n",
      "INFO:tensorflow:Running local_init_op.\n",
      "INFO:tensorflow:Done running local_init_op.\n",
      "\u001b[32m[1217 10:30:20 @sessinit.py:114]\u001b[0m Restoring checkpoint from ../output/LPMC/SGAN_WO_03/model\\model-35000 ...\n",
      "INFO:tensorflow:Restoring parameters from ../output/LPMC/SGAN_WO_03/model\\model-35000\n",
      "\u001b[32m[1217 10:30:20 @DATSGAN.py:267]\u001b[0m Loading Preprocessor!\n"
     ]
    },
    {
     "name": "stderr",
     "output_type": "stream",
     "text": [
      "|                                                                                          |35/?[00:01<00:00,29.97it/s]\n"
     ]
    },
    {
     "name": "stdout",
     "output_type": "stream",
     "text": [
      "\u001b[32m[1217 10:30:22 @DATSGAN.py:267]\u001b[0m Loading Preprocessor!\n"
     ]
    },
    {
     "name": "stderr",
     "output_type": "stream",
     "text": [
      "|                                                                                          |35/?[00:00<00:00,47.55it/s]\n"
     ]
    },
    {
     "name": "stdout",
     "output_type": "stream",
     "text": [
      "\u001b[32m[1217 10:30:23 @DATSGAN.py:267]\u001b[0m Loading Preprocessor!\n"
     ]
    },
    {
     "name": "stderr",
     "output_type": "stream",
     "text": [
      "|                                                                                          |35/?[00:00<00:00,51.10it/s]\n"
     ]
    },
    {
     "name": "stdout",
     "output_type": "stream",
     "text": [
      "\u001b[32m[1217 10:30:24 @DATSGAN.py:267]\u001b[0m Loading Preprocessor!\n"
     ]
    },
    {
     "name": "stderr",
     "output_type": "stream",
     "text": [
      "|                                                                                          |35/?[00:00<00:00,49.80it/s]\n"
     ]
    },
    {
     "name": "stdout",
     "output_type": "stream",
     "text": [
      "\u001b[32m[1217 10:30:25 @DATSGAN.py:267]\u001b[0m Loading Preprocessor!\n"
     ]
    },
    {
     "name": "stderr",
     "output_type": "stream",
     "text": [
      "|                                                                                          |35/?[00:00<00:00,49.04it/s]\n"
     ]
    },
    {
     "name": "stdout",
     "output_type": "stream",
     "text": [
      "\u001b[32m[1217 10:30:26 @DATSGAN.py:267]\u001b[0m Loading Preprocessor!\n"
     ]
    },
    {
     "name": "stderr",
     "output_type": "stream",
     "text": [
      "|                                                                                          |35/?[00:00<00:00,51.66it/s]\n"
     ]
    },
    {
     "name": "stdout",
     "output_type": "stream",
     "text": [
      "\u001b[32m[1217 10:30:27 @DATSGAN.py:267]\u001b[0m Loading Preprocessor!\n"
     ]
    },
    {
     "name": "stderr",
     "output_type": "stream",
     "text": [
      "|                                                                                          |35/?[00:00<00:00,50.57it/s]\n"
     ]
    },
    {
     "name": "stdout",
     "output_type": "stream",
     "text": [
      "\u001b[32m[1217 10:30:28 @DATSGAN.py:267]\u001b[0m Loading Preprocessor!\n"
     ]
    },
    {
     "name": "stderr",
     "output_type": "stream",
     "text": [
      "|                                                                                          |35/?[00:00<00:00,49.60it/s]\n"
     ]
    },
    {
     "name": "stdout",
     "output_type": "stream",
     "text": [
      "\u001b[32m[1217 10:30:29 @DATSGAN.py:267]\u001b[0m Loading Preprocessor!\n"
     ]
    },
    {
     "name": "stderr",
     "output_type": "stream",
     "text": [
      "|                                                                                          |35/?[00:00<00:00,50.74it/s]\n"
     ]
    },
    {
     "name": "stdout",
     "output_type": "stream",
     "text": [
      "\u001b[32m[1217 10:30:30 @DATSGAN.py:267]\u001b[0m Loading Preprocessor!\n"
     ]
    },
    {
     "name": "stderr",
     "output_type": "stream",
     "text": [
      "|                                                                                          |35/?[00:00<00:00,50.92it/s]\n"
     ]
    },
    {
     "name": "stdout",
     "output_type": "stream",
     "text": [
      "\u001b[32m[1217 10:30:31 @DATSGAN.py:267]\u001b[0m Loading Preprocessor!\n"
     ]
    },
    {
     "name": "stderr",
     "output_type": "stream",
     "text": [
      "|                                                                                          |35/?[00:00<00:00,50.84it/s]\n"
     ]
    },
    {
     "name": "stdout",
     "output_type": "stream",
     "text": [
      "\u001b[32m[1217 10:30:32 @DATSGAN.py:267]\u001b[0m Loading Preprocessor!\n"
     ]
    },
    {
     "name": "stderr",
     "output_type": "stream",
     "text": [
      "|                                                                                          |35/?[00:00<00:00,49.46it/s]\n"
     ]
    },
    {
     "name": "stdout",
     "output_type": "stream",
     "text": [
      "\u001b[32m[1217 10:30:33 @DATSGAN.py:267]\u001b[0m Loading Preprocessor!\n"
     ]
    },
    {
     "name": "stderr",
     "output_type": "stream",
     "text": [
      "|                                                                                          |35/?[00:00<00:00,50.19it/s]\n"
     ]
    },
    {
     "name": "stdout",
     "output_type": "stream",
     "text": [
      "\u001b[32m[1217 10:30:34 @DATSGAN.py:267]\u001b[0m Loading Preprocessor!\n"
     ]
    },
    {
     "name": "stderr",
     "output_type": "stream",
     "text": [
      "|                                                                                          |35/?[00:00<00:00,50.02it/s]\n"
     ]
    },
    {
     "name": "stdout",
     "output_type": "stream",
     "text": [
      "\u001b[32m[1217 10:30:35 @DATSGAN.py:267]\u001b[0m Loading Preprocessor!\n"
     ]
    },
    {
     "name": "stderr",
     "output_type": "stream",
     "text": [
      "|                                                                                          |35/?[00:00<00:00,49.69it/s]\n"
     ]
    },
    {
     "name": "stdout",
     "output_type": "stream",
     "text": [
      "\u001b[32m[1217 10:30:36 @DATSGAN.py:267]\u001b[0m Loading Preprocessor!\n"
     ]
    },
    {
     "name": "stderr",
     "output_type": "stream",
     "text": [
      "|                                                                                          |35/?[00:00<00:00,50.13it/s]\n"
     ]
    },
    {
     "name": "stdout",
     "output_type": "stream",
     "text": [
      "\u001b[32m[1217 10:30:37 @DATSGAN.py:267]\u001b[0m Loading Preprocessor!\n"
     ]
    },
    {
     "name": "stderr",
     "output_type": "stream",
     "text": [
      "|                                                                                          |35/?[00:00<00:00,49.14it/s]\n"
     ]
    },
    {
     "name": "stdout",
     "output_type": "stream",
     "text": [
      "\u001b[32m[1217 10:30:38 @DATSGAN.py:267]\u001b[0m Loading Preprocessor!\n"
     ]
    },
    {
     "name": "stderr",
     "output_type": "stream",
     "text": [
      "|                                                                                          |35/?[00:00<00:00,48.69it/s]\n"
     ]
    },
    {
     "name": "stdout",
     "output_type": "stream",
     "text": [
      "\u001b[32m[1217 10:30:39 @DATSGAN.py:267]\u001b[0m Loading Preprocessor!\n"
     ]
    },
    {
     "name": "stderr",
     "output_type": "stream",
     "text": [
      "|                                                                                          |35/?[00:00<00:00,49.69it/s]\n"
     ]
    },
    {
     "name": "stdout",
     "output_type": "stream",
     "text": [
      "\u001b[32m[1217 10:30:41 @DATSGAN.py:267]\u001b[0m Loading Preprocessor!\n"
     ]
    },
    {
     "name": "stderr",
     "output_type": "stream",
     "text": [
      "|                                                                                          |35/?[00:00<00:00,50.36it/s]\n"
     ]
    },
    {
     "name": "stdout",
     "output_type": "stream",
     "text": [
      "Sampling synthetic data from model \u001b[1mSGAN_WO_04\u001b[0m (19/60)\n",
      "\u001b[32m[1217 10:30:54 @DATSGANModel.py:213]\u001b[0m \u001b[91mCreating cell for travel_year (in-edges: 0; ancestors: 0)\n",
      "\u001b[32m[1217 10:30:54 @DATSGANModel.py:213]\u001b[0m \u001b[91mCreating cell for car_ownership (in-edges: 0; ancestors: 0)\n",
      "\u001b[32m[1217 10:30:54 @DATSGANModel.py:213]\u001b[0m \u001b[91mCreating cell for female (in-edges: 0; ancestors: 0)\n",
      "\u001b[32m[1217 10:30:54 @DATSGANModel.py:213]\u001b[0m \u001b[91mCreating cell for age (in-edges: 0; ancestors: 0)\n",
      "\u001b[32m[1217 10:30:54 @DATSGANModel.py:213]\u001b[0m \u001b[91mCreating cell for travel_month (in-edges: 1; ancestors: 1)\n",
      "\u001b[32m[1217 10:30:54 @DATSGANModel.py:213]\u001b[0m \u001b[91mCreating cell for fueltype (in-edges: 1; ancestors: 1)\n",
      "\u001b[32m[1217 10:30:54 @DATSGANModel.py:213]\u001b[0m \u001b[91mCreating cell for driving_license (in-edges: 3; ancestors: 3)\n",
      "\u001b[32m[1217 10:30:54 @DATSGANModel.py:213]\u001b[0m \u001b[91mCreating cell for faretype (in-edges: 1; ancestors: 1)\n",
      "\u001b[32m[1217 10:30:54 @DATSGANModel.py:213]\u001b[0m \u001b[91mCreating cell for travel_date (in-edges: 1; ancestors: 2)\n",
      "\u001b[32m[1217 10:30:55 @DATSGANModel.py:213]\u001b[0m \u001b[91mCreating cell for bus_scale (in-edges: 2; ancestors: 2)\n",
      "\u001b[32m[1217 10:30:55 @DATSGANModel.py:213]\u001b[0m \u001b[91mCreating cell for day_of_week (in-edges: 2; ancestors: 3)\n",
      "\u001b[32m[1217 10:30:55 @DATSGANModel.py:213]\u001b[0m \u001b[91mCreating cell for purpose (in-edges: 1; ancestors: 4)\n",
      "\u001b[32m[1217 10:30:55 @DATSGANModel.py:213]\u001b[0m \u001b[91mCreating cell for start_time_linear (in-edges: 2; ancestors: 5)\n",
      "\u001b[32m[1217 10:30:55 @DATSGANModel.py:213]\u001b[0m \u001b[91mCreating cell for distance (in-edges: 1; ancestors: 5)\n",
      "\u001b[32m[1217 10:30:55 @DATSGANModel.py:213]\u001b[0m \u001b[91mCreating cell for driving_traffic_percent (in-edges: 3; ancestors: 6)\n",
      "\u001b[32m[1217 10:30:55 @DATSGANModel.py:213]\u001b[0m \u001b[91mCreating cell for cost_driving_fuel (in-edges: 2; ancestors: 8)\n",
      "\u001b[32m[1217 10:30:55 @DATSGANModel.py:213]\u001b[0m \u001b[91mCreating cell for dur_driving (in-edges: 1; ancestors: 6)\n",
      "\u001b[32m[1217 10:30:55 @DATSGANModel.py:213]\u001b[0m \u001b[91mCreating cell for dur_walking (in-edges: 1; ancestors: 6)\n",
      "\u001b[32m[1217 10:30:55 @DATSGANModel.py:213]\u001b[0m \u001b[91mCreating cell for dur_cycling (in-edges: 1; ancestors: 6)\n",
      "\u001b[32m[1217 10:30:55 @DATSGANModel.py:213]\u001b[0m \u001b[91mCreating cell for dur_pt_access (in-edges: 1; ancestors: 6)\n",
      "\u001b[32m[1217 10:30:55 @DATSGANModel.py:213]\u001b[0m \u001b[91mCreating cell for pt_n_interchanges (in-edges: 1; ancestors: 6)\n",
      "\u001b[32m[1217 10:30:55 @DATSGANModel.py:213]\u001b[0m \u001b[91mCreating cell for cost_driving_con_charge (in-edges: 5; ancestors: 11)\n",
      "\u001b[32m[1217 10:30:55 @DATSGANModel.py:213]\u001b[0m \u001b[91mCreating cell for dur_pt_rail (in-edges: 2; ancestors: 7)\n",
      "\u001b[32m[1217 10:30:56 @DATSGANModel.py:213]\u001b[0m \u001b[91mCreating cell for dur_pt_bus (in-edges: 2; ancestors: 7)\n",
      "\u001b[32m[1217 10:30:56 @DATSGANModel.py:213]\u001b[0m \u001b[91mCreating cell for dur_pt_int (in-edges: 2; ancestors: 7)\n",
      "\u001b[32m[1217 10:30:56 @DATSGANModel.py:213]\u001b[0m \u001b[91mCreating cell for cost_transit (in-edges: 5; ancestors: 12)\n",
      "\u001b[32m[1217 10:30:56 @DATSGANModel.py:213]\u001b[0m \u001b[91mCreating cell for travel_mode (in-edges: 21; ancestors: 26)\n",
      "\u001b[32m[1217 10:30:57 @collection.py:146]\u001b[0m New collections created in tower : tf.GraphKeys.REGULARIZATION_LOSSES\n",
      "\u001b[32m[1217 10:30:57 @collection.py:165]\u001b[0m These collections were modified but restored in : (tf.GraphKeys.SUMMARIES: 0->2)\n",
      "\u001b[32m[1217 10:30:57 @sessinit.py:87]\u001b[0m \u001b[5m\u001b[31mWRN\u001b[0m The following variables are in the checkpoint, but not found in the graph: global_step, optimize/beta1_power, optimize/beta2_power\n",
      "INFO:tensorflow:Graph was finalized.\n",
      "INFO:tensorflow:Running local_init_op.\n",
      "INFO:tensorflow:Done running local_init_op.\n",
      "\u001b[32m[1217 10:30:58 @sessinit.py:114]\u001b[0m Restoring checkpoint from ../output/LPMC/SGAN_WO_04/model\\model-35000 ...\n",
      "INFO:tensorflow:Restoring parameters from ../output/LPMC/SGAN_WO_04/model\\model-35000\n",
      "\u001b[32m[1217 10:30:59 @DATSGAN.py:267]\u001b[0m Loading Preprocessor!\n"
     ]
    },
    {
     "name": "stderr",
     "output_type": "stream",
     "text": [
      "|                                                                                          |35/?[00:01<00:00,29.51it/s]\n"
     ]
    },
    {
     "name": "stdout",
     "output_type": "stream",
     "text": [
      "\u001b[32m[1217 10:31:00 @DATSGAN.py:267]\u001b[0m Loading Preprocessor!\n"
     ]
    },
    {
     "name": "stderr",
     "output_type": "stream",
     "text": [
      "|                                                                                          |35/?[00:00<00:00,48.77it/s]\n"
     ]
    },
    {
     "name": "stdout",
     "output_type": "stream",
     "text": [
      "\u001b[32m[1217 10:31:01 @DATSGAN.py:267]\u001b[0m Loading Preprocessor!\n"
     ]
    },
    {
     "name": "stderr",
     "output_type": "stream",
     "text": [
      "|                                                                                          |35/?[00:00<00:00,47.84it/s]\n"
     ]
    },
    {
     "name": "stdout",
     "output_type": "stream",
     "text": [
      "\u001b[32m[1217 10:31:02 @DATSGAN.py:267]\u001b[0m Loading Preprocessor!\n"
     ]
    },
    {
     "name": "stderr",
     "output_type": "stream",
     "text": [
      "|                                                                                          |35/?[00:00<00:00,50.19it/s]\n"
     ]
    },
    {
     "name": "stdout",
     "output_type": "stream",
     "text": [
      "\u001b[32m[1217 10:31:03 @DATSGAN.py:267]\u001b[0m Loading Preprocessor!\n"
     ]
    },
    {
     "name": "stderr",
     "output_type": "stream",
     "text": [
      "|                                                                                          |35/?[00:00<00:00,50.69it/s]\n"
     ]
    },
    {
     "name": "stdout",
     "output_type": "stream",
     "text": [
      "\u001b[32m[1217 10:31:04 @DATSGAN.py:267]\u001b[0m Loading Preprocessor!\n"
     ]
    },
    {
     "name": "stderr",
     "output_type": "stream",
     "text": [
      "|                                                                                          |35/?[00:00<00:00,51.56it/s]\n"
     ]
    },
    {
     "name": "stdout",
     "output_type": "stream",
     "text": [
      "\u001b[32m[1217 10:31:05 @DATSGAN.py:267]\u001b[0m Loading Preprocessor!\n"
     ]
    },
    {
     "name": "stderr",
     "output_type": "stream",
     "text": [
      "|                                                                                          |35/?[00:00<00:00,48.10it/s]\n"
     ]
    },
    {
     "name": "stdout",
     "output_type": "stream",
     "text": [
      "\u001b[32m[1217 10:31:06 @DATSGAN.py:267]\u001b[0m Loading Preprocessor!\n"
     ]
    },
    {
     "name": "stderr",
     "output_type": "stream",
     "text": [
      "|                                                                                          |35/?[00:00<00:00,49.21it/s]\n"
     ]
    },
    {
     "name": "stdout",
     "output_type": "stream",
     "text": [
      "\u001b[32m[1217 10:31:08 @DATSGAN.py:267]\u001b[0m Loading Preprocessor!\n"
     ]
    },
    {
     "name": "stderr",
     "output_type": "stream",
     "text": [
      "|                                                                                          |35/?[00:00<00:00,47.52it/s]\n"
     ]
    },
    {
     "name": "stdout",
     "output_type": "stream",
     "text": [
      "\u001b[32m[1217 10:31:09 @DATSGAN.py:267]\u001b[0m Loading Preprocessor!\n"
     ]
    },
    {
     "name": "stderr",
     "output_type": "stream",
     "text": [
      "|                                                                                          |35/?[00:00<00:00,49.21it/s]\n"
     ]
    },
    {
     "name": "stdout",
     "output_type": "stream",
     "text": [
      "\u001b[32m[1217 10:31:10 @DATSGAN.py:267]\u001b[0m Loading Preprocessor!\n"
     ]
    },
    {
     "name": "stderr",
     "output_type": "stream",
     "text": [
      "|                                                                                          |35/?[00:00<00:00,48.56it/s]\n"
     ]
    },
    {
     "name": "stdout",
     "output_type": "stream",
     "text": [
      "\u001b[32m[1217 10:31:11 @DATSGAN.py:267]\u001b[0m Loading Preprocessor!\n"
     ]
    },
    {
     "name": "stderr",
     "output_type": "stream",
     "text": [
      "|                                                                                          |35/?[00:00<00:00,51.02it/s]\n"
     ]
    },
    {
     "name": "stdout",
     "output_type": "stream",
     "text": [
      "\u001b[32m[1217 10:31:12 @DATSGAN.py:267]\u001b[0m Loading Preprocessor!\n"
     ]
    },
    {
     "name": "stderr",
     "output_type": "stream",
     "text": [
      "|                                                                                          |35/?[00:00<00:00,48.45it/s]\n"
     ]
    },
    {
     "name": "stdout",
     "output_type": "stream",
     "text": [
      "\u001b[32m[1217 10:31:13 @DATSGAN.py:267]\u001b[0m Loading Preprocessor!\n"
     ]
    },
    {
     "name": "stderr",
     "output_type": "stream",
     "text": [
      "|                                                                                          |35/?[00:00<00:00,49.45it/s]\n"
     ]
    },
    {
     "name": "stdout",
     "output_type": "stream",
     "text": [
      "\u001b[32m[1217 10:31:14 @DATSGAN.py:267]\u001b[0m Loading Preprocessor!\n"
     ]
    },
    {
     "name": "stderr",
     "output_type": "stream",
     "text": [
      "|                                                                                          |35/?[00:00<00:00,49.69it/s]\n"
     ]
    },
    {
     "name": "stdout",
     "output_type": "stream",
     "text": [
      "\u001b[32m[1217 10:31:15 @DATSGAN.py:267]\u001b[0m Loading Preprocessor!\n"
     ]
    },
    {
     "name": "stderr",
     "output_type": "stream",
     "text": [
      "|                                                                                          |35/?[00:00<00:00,47.55it/s]\n"
     ]
    },
    {
     "name": "stdout",
     "output_type": "stream",
     "text": [
      "\u001b[32m[1217 10:31:16 @DATSGAN.py:267]\u001b[0m Loading Preprocessor!\n"
     ]
    },
    {
     "name": "stderr",
     "output_type": "stream",
     "text": [
      "|                                                                                          |35/?[00:00<00:00,47.39it/s]\n"
     ]
    },
    {
     "name": "stdout",
     "output_type": "stream",
     "text": [
      "\u001b[32m[1217 10:31:18 @DATSGAN.py:267]\u001b[0m Loading Preprocessor!\n"
     ]
    },
    {
     "name": "stderr",
     "output_type": "stream",
     "text": [
      "|                                                                                          |35/?[00:00<00:00,48.70it/s]\n"
     ]
    },
    {
     "name": "stdout",
     "output_type": "stream",
     "text": [
      "\u001b[32m[1217 10:31:19 @DATSGAN.py:267]\u001b[0m Loading Preprocessor!\n"
     ]
    },
    {
     "name": "stderr",
     "output_type": "stream",
     "text": [
      "|                                                                                          |35/?[00:00<00:00,51.92it/s]\n"
     ]
    },
    {
     "name": "stdout",
     "output_type": "stream",
     "text": [
      "\u001b[32m[1217 10:31:20 @DATSGAN.py:267]\u001b[0m Loading Preprocessor!\n"
     ]
    },
    {
     "name": "stderr",
     "output_type": "stream",
     "text": [
      "|                                                                                          |35/?[00:00<00:00,48.87it/s]\n"
     ]
    },
    {
     "name": "stdout",
     "output_type": "stream",
     "text": [
      "Sampling synthetic data from model \u001b[1mSGAN_WO_05\u001b[0m (20/60)\n",
      "\u001b[32m[1217 10:31:34 @DATSGANModel.py:213]\u001b[0m \u001b[91mCreating cell for travel_year (in-edges: 0; ancestors: 0)\n",
      "\u001b[32m[1217 10:31:34 @DATSGANModel.py:213]\u001b[0m \u001b[91mCreating cell for car_ownership (in-edges: 0; ancestors: 0)\n",
      "\u001b[32m[1217 10:31:34 @DATSGANModel.py:213]\u001b[0m \u001b[91mCreating cell for female (in-edges: 0; ancestors: 0)\n",
      "\u001b[32m[1217 10:31:34 @DATSGANModel.py:213]\u001b[0m \u001b[91mCreating cell for age (in-edges: 0; ancestors: 0)\n",
      "\u001b[32m[1217 10:31:34 @DATSGANModel.py:213]\u001b[0m \u001b[91mCreating cell for travel_month (in-edges: 1; ancestors: 1)\n",
      "\u001b[32m[1217 10:31:34 @DATSGANModel.py:213]\u001b[0m \u001b[91mCreating cell for fueltype (in-edges: 1; ancestors: 1)\n",
      "\u001b[32m[1217 10:31:34 @DATSGANModel.py:213]\u001b[0m \u001b[91mCreating cell for driving_license (in-edges: 3; ancestors: 3)\n",
      "\u001b[32m[1217 10:31:34 @DATSGANModel.py:213]\u001b[0m \u001b[91mCreating cell for faretype (in-edges: 1; ancestors: 1)\n",
      "\u001b[32m[1217 10:31:34 @DATSGANModel.py:213]\u001b[0m \u001b[91mCreating cell for travel_date (in-edges: 1; ancestors: 2)\n",
      "\u001b[32m[1217 10:31:34 @DATSGANModel.py:213]\u001b[0m \u001b[91mCreating cell for bus_scale (in-edges: 2; ancestors: 2)\n",
      "\u001b[32m[1217 10:31:34 @DATSGANModel.py:213]\u001b[0m \u001b[91mCreating cell for day_of_week (in-edges: 2; ancestors: 3)\n",
      "\u001b[32m[1217 10:31:34 @DATSGANModel.py:213]\u001b[0m \u001b[91mCreating cell for purpose (in-edges: 1; ancestors: 4)\n",
      "\u001b[32m[1217 10:31:34 @DATSGANModel.py:213]\u001b[0m \u001b[91mCreating cell for start_time_linear (in-edges: 2; ancestors: 5)\n",
      "\u001b[32m[1217 10:31:34 @DATSGANModel.py:213]\u001b[0m \u001b[91mCreating cell for distance (in-edges: 1; ancestors: 5)\n",
      "\u001b[32m[1217 10:31:34 @DATSGANModel.py:213]\u001b[0m \u001b[91mCreating cell for driving_traffic_percent (in-edges: 3; ancestors: 6)\n",
      "\u001b[32m[1217 10:31:35 @DATSGANModel.py:213]\u001b[0m \u001b[91mCreating cell for cost_driving_fuel (in-edges: 2; ancestors: 8)\n",
      "\u001b[32m[1217 10:31:35 @DATSGANModel.py:213]\u001b[0m \u001b[91mCreating cell for dur_driving (in-edges: 1; ancestors: 6)\n",
      "\u001b[32m[1217 10:31:35 @DATSGANModel.py:213]\u001b[0m \u001b[91mCreating cell for dur_walking (in-edges: 1; ancestors: 6)\n",
      "\u001b[32m[1217 10:31:35 @DATSGANModel.py:213]\u001b[0m \u001b[91mCreating cell for dur_cycling (in-edges: 1; ancestors: 6)\n",
      "\u001b[32m[1217 10:31:35 @DATSGANModel.py:213]\u001b[0m \u001b[91mCreating cell for dur_pt_access (in-edges: 1; ancestors: 6)\n",
      "\u001b[32m[1217 10:31:35 @DATSGANModel.py:213]\u001b[0m \u001b[91mCreating cell for pt_n_interchanges (in-edges: 1; ancestors: 6)\n",
      "\u001b[32m[1217 10:31:35 @DATSGANModel.py:213]\u001b[0m \u001b[91mCreating cell for cost_driving_con_charge (in-edges: 5; ancestors: 11)\n",
      "\u001b[32m[1217 10:31:35 @DATSGANModel.py:213]\u001b[0m \u001b[91mCreating cell for dur_pt_rail (in-edges: 2; ancestors: 7)\n",
      "\u001b[32m[1217 10:31:35 @DATSGANModel.py:213]\u001b[0m \u001b[91mCreating cell for dur_pt_bus (in-edges: 2; ancestors: 7)\n",
      "\u001b[32m[1217 10:31:35 @DATSGANModel.py:213]\u001b[0m \u001b[91mCreating cell for dur_pt_int (in-edges: 2; ancestors: 7)\n",
      "\u001b[32m[1217 10:31:35 @DATSGANModel.py:213]\u001b[0m \u001b[91mCreating cell for cost_transit (in-edges: 5; ancestors: 12)\n",
      "\u001b[32m[1217 10:31:35 @DATSGANModel.py:213]\u001b[0m \u001b[91mCreating cell for travel_mode (in-edges: 21; ancestors: 26)\n",
      "\u001b[32m[1217 10:31:36 @collection.py:146]\u001b[0m New collections created in tower : tf.GraphKeys.REGULARIZATION_LOSSES\n",
      "\u001b[32m[1217 10:31:36 @collection.py:165]\u001b[0m These collections were modified but restored in : (tf.GraphKeys.SUMMARIES: 0->2)\n",
      "\u001b[32m[1217 10:31:36 @sessinit.py:87]\u001b[0m \u001b[5m\u001b[31mWRN\u001b[0m The following variables are in the checkpoint, but not found in the graph: global_step, optimize/beta1_power, optimize/beta2_power\n",
      "INFO:tensorflow:Graph was finalized.\n",
      "INFO:tensorflow:Running local_init_op.\n",
      "INFO:tensorflow:Done running local_init_op.\n",
      "\u001b[32m[1217 10:31:38 @sessinit.py:114]\u001b[0m Restoring checkpoint from ../output/LPMC/SGAN_WO_05/model\\model-35000 ...\n",
      "INFO:tensorflow:Restoring parameters from ../output/LPMC/SGAN_WO_05/model\\model-35000\n",
      "\u001b[32m[1217 10:31:38 @DATSGAN.py:267]\u001b[0m Loading Preprocessor!\n"
     ]
    },
    {
     "name": "stderr",
     "output_type": "stream",
     "text": [
      "|                                                                                          |35/?[00:01<00:00,28.82it/s]\n"
     ]
    },
    {
     "name": "stdout",
     "output_type": "stream",
     "text": [
      "\u001b[32m[1217 10:31:40 @DATSGAN.py:267]\u001b[0m Loading Preprocessor!\n"
     ]
    },
    {
     "name": "stderr",
     "output_type": "stream",
     "text": [
      "|                                                                                          |35/?[00:00<00:00,46.27it/s]\n"
     ]
    },
    {
     "name": "stdout",
     "output_type": "stream",
     "text": [
      "\u001b[32m[1217 10:31:41 @DATSGAN.py:267]\u001b[0m Loading Preprocessor!\n"
     ]
    },
    {
     "name": "stderr",
     "output_type": "stream",
     "text": [
      "|                                                                                          |35/?[00:01<00:00,25.83it/s]\n"
     ]
    },
    {
     "name": "stdout",
     "output_type": "stream",
     "text": [
      "\u001b[32m[1217 10:31:43 @DATSGAN.py:267]\u001b[0m Loading Preprocessor!\n"
     ]
    },
    {
     "name": "stderr",
     "output_type": "stream",
     "text": [
      "|                                                                                          |35/?[00:01<00:00,25.55it/s]\n"
     ]
    },
    {
     "name": "stdout",
     "output_type": "stream",
     "text": [
      "\u001b[32m[1217 10:31:44 @DATSGAN.py:267]\u001b[0m Loading Preprocessor!\n"
     ]
    },
    {
     "name": "stderr",
     "output_type": "stream",
     "text": [
      "|                                                                                          |35/?[00:01<00:00,25.41it/s]\n"
     ]
    },
    {
     "name": "stdout",
     "output_type": "stream",
     "text": [
      "\u001b[32m[1217 10:31:46 @DATSGAN.py:267]\u001b[0m Loading Preprocessor!\n"
     ]
    },
    {
     "name": "stderr",
     "output_type": "stream",
     "text": [
      "|                                                                                          |35/?[00:01<00:00,24.46it/s]\n"
     ]
    },
    {
     "name": "stdout",
     "output_type": "stream",
     "text": [
      "\u001b[32m[1217 10:31:48 @DATSGAN.py:267]\u001b[0m Loading Preprocessor!\n"
     ]
    },
    {
     "name": "stderr",
     "output_type": "stream",
     "text": [
      "|                                                                                          |35/?[00:01<00:00,23.48it/s]\n"
     ]
    },
    {
     "name": "stdout",
     "output_type": "stream",
     "text": [
      "\u001b[32m[1217 10:31:50 @DATSGAN.py:267]\u001b[0m Loading Preprocessor!\n"
     ]
    },
    {
     "name": "stderr",
     "output_type": "stream",
     "text": [
      "|                                                                                          |35/?[00:01<00:00,28.00it/s]\n"
     ]
    },
    {
     "name": "stdout",
     "output_type": "stream",
     "text": [
      "\u001b[32m[1217 10:31:51 @DATSGAN.py:267]\u001b[0m Loading Preprocessor!\n"
     ]
    },
    {
     "name": "stderr",
     "output_type": "stream",
     "text": [
      "|                                                                                          |35/?[00:01<00:00,25.83it/s]\n"
     ]
    },
    {
     "name": "stdout",
     "output_type": "stream",
     "text": [
      "\u001b[32m[1217 10:31:53 @DATSGAN.py:267]\u001b[0m Loading Preprocessor!\n"
     ]
    },
    {
     "name": "stderr",
     "output_type": "stream",
     "text": [
      "|                                                                                          |35/?[00:01<00:00,25.85it/s]\n"
     ]
    },
    {
     "name": "stdout",
     "output_type": "stream",
     "text": [
      "\u001b[32m[1217 10:31:55 @DATSGAN.py:267]\u001b[0m Loading Preprocessor!\n"
     ]
    },
    {
     "name": "stderr",
     "output_type": "stream",
     "text": [
      "|                                                                                          |35/?[00:01<00:00,27.65it/s]\n"
     ]
    },
    {
     "name": "stdout",
     "output_type": "stream",
     "text": [
      "\u001b[32m[1217 10:31:56 @DATSGAN.py:267]\u001b[0m Loading Preprocessor!\n"
     ]
    },
    {
     "name": "stderr",
     "output_type": "stream",
     "text": [
      "|                                                                                          |35/?[00:01<00:00,26.35it/s]\n"
     ]
    },
    {
     "name": "stdout",
     "output_type": "stream",
     "text": [
      "\u001b[32m[1217 10:31:58 @DATSGAN.py:267]\u001b[0m Loading Preprocessor!\n"
     ]
    },
    {
     "name": "stderr",
     "output_type": "stream",
     "text": [
      "|                                                                                          |35/?[00:01<00:00,25.92it/s]\n"
     ]
    },
    {
     "name": "stdout",
     "output_type": "stream",
     "text": [
      "\u001b[32m[1217 10:32:00 @DATSGAN.py:267]\u001b[0m Loading Preprocessor!\n"
     ]
    },
    {
     "name": "stderr",
     "output_type": "stream",
     "text": [
      "|                                                                                          |35/?[00:01<00:00,26.23it/s]\n"
     ]
    },
    {
     "name": "stdout",
     "output_type": "stream",
     "text": [
      "\u001b[32m[1217 10:32:01 @DATSGAN.py:267]\u001b[0m Loading Preprocessor!\n"
     ]
    },
    {
     "name": "stderr",
     "output_type": "stream",
     "text": [
      "|                                                                                          |35/?[00:01<00:00,26.85it/s]\n"
     ]
    },
    {
     "name": "stdout",
     "output_type": "stream",
     "text": [
      "\u001b[32m[1217 10:32:03 @DATSGAN.py:267]\u001b[0m Loading Preprocessor!\n"
     ]
    },
    {
     "name": "stderr",
     "output_type": "stream",
     "text": [
      "|                                                                                          |35/?[00:01<00:00,24.81it/s]\n"
     ]
    },
    {
     "name": "stdout",
     "output_type": "stream",
     "text": [
      "\u001b[32m[1217 10:32:05 @DATSGAN.py:267]\u001b[0m Loading Preprocessor!\n"
     ]
    },
    {
     "name": "stderr",
     "output_type": "stream",
     "text": [
      "|                                                                                          |35/?[00:01<00:00,23.79it/s]\n"
     ]
    },
    {
     "name": "stdout",
     "output_type": "stream",
     "text": [
      "\u001b[32m[1217 10:32:07 @DATSGAN.py:267]\u001b[0m Loading Preprocessor!\n"
     ]
    },
    {
     "name": "stderr",
     "output_type": "stream",
     "text": [
      "|                                                                                          |35/?[00:01<00:00,26.85it/s]\n"
     ]
    },
    {
     "name": "stdout",
     "output_type": "stream",
     "text": [
      "\u001b[32m[1217 10:32:08 @DATSGAN.py:267]\u001b[0m Loading Preprocessor!\n"
     ]
    },
    {
     "name": "stderr",
     "output_type": "stream",
     "text": [
      "|                                                                                          |35/?[00:01<00:00,24.70it/s]\n"
     ]
    },
    {
     "name": "stdout",
     "output_type": "stream",
     "text": [
      "\u001b[32m[1217 10:32:10 @DATSGAN.py:267]\u001b[0m Loading Preprocessor!\n"
     ]
    },
    {
     "name": "stderr",
     "output_type": "stream",
     "text": [
      "|                                                                                          |35/?[00:01<00:00,26.06it/s]\n"
     ]
    },
    {
     "name": "stdout",
     "output_type": "stream",
     "text": [
      "Sampling synthetic data from model \u001b[1mTGAN_01\u001b[0m (21/60)\n",
      "\u001b[32m[1217 10:32:13 @registry.py:126]\u001b[0m gen/LSTM/00/FC input: [500, 100]\n",
      "\u001b[32m[1217 10:32:13 @registry.py:134]\u001b[0m gen/LSTM/00/FC output: [500, 100]\n",
      "\u001b[32m[1217 10:32:13 @registry.py:126]\u001b[0m gen/LSTM/00/FC2 input: [500, 100]\n",
      "\u001b[32m[1217 10:32:13 @registry.py:134]\u001b[0m gen/LSTM/00/FC2 output: [500, 4]\n",
      "\u001b[32m[1217 10:32:13 @registry.py:126]\u001b[0m gen/LSTM/00/FC3 input: [500, 4]\n",
      "\u001b[32m[1217 10:32:13 @registry.py:134]\u001b[0m gen/LSTM/00/FC3 output: [500, 100]\n",
      "\u001b[32m[1217 10:32:13 @registry.py:126]\u001b[0m gen/LSTM/01/FC input: [500, 100]\n",
      "\u001b[32m[1217 10:32:13 @registry.py:134]\u001b[0m gen/LSTM/01/FC output: [500, 100]\n",
      "\u001b[32m[1217 10:32:13 @registry.py:126]\u001b[0m gen/LSTM/01/FC2 input: [500, 100]\n",
      "\u001b[32m[1217 10:32:13 @registry.py:134]\u001b[0m gen/LSTM/01/FC2 output: [500, 5]\n",
      "\u001b[32m[1217 10:32:13 @registry.py:126]\u001b[0m gen/LSTM/01/FC3 input: [500, 5]\n",
      "\u001b[32m[1217 10:32:13 @registry.py:134]\u001b[0m gen/LSTM/01/FC3 output: [500, 100]\n",
      "\u001b[32m[1217 10:32:13 @registry.py:126]\u001b[0m gen/LSTM/02/FC input: [500, 100]\n",
      "\u001b[32m[1217 10:32:13 @registry.py:134]\u001b[0m gen/LSTM/02/FC output: [500, 100]\n",
      "\u001b[32m[1217 10:32:13 @registry.py:126]\u001b[0m gen/LSTM/02/FC2 input: [500, 100]\n",
      "\u001b[32m[1217 10:32:13 @registry.py:134]\u001b[0m gen/LSTM/02/FC2 output: [500, 6]\n",
      "\u001b[32m[1217 10:32:13 @registry.py:126]\u001b[0m gen/LSTM/02/FC3 input: [500, 6]\n",
      "\u001b[32m[1217 10:32:13 @registry.py:134]\u001b[0m gen/LSTM/02/FC3 output: [500, 100]\n",
      "\u001b[32m[1217 10:32:13 @registry.py:126]\u001b[0m gen/LSTM/03/FC input: [500, 100]\n",
      "\u001b[32m[1217 10:32:13 @registry.py:134]\u001b[0m gen/LSTM/03/FC output: [500, 100]\n",
      "\u001b[32m[1217 10:32:13 @registry.py:126]\u001b[0m gen/LSTM/03/FC2 input: [500, 100]\n",
      "\u001b[32m[1217 10:32:13 @registry.py:134]\u001b[0m gen/LSTM/03/FC2 output: [500, 5]\n",
      "\u001b[32m[1217 10:32:13 @registry.py:126]\u001b[0m gen/LSTM/03/FC3 input: [500, 5]\n",
      "\u001b[32m[1217 10:32:13 @registry.py:134]\u001b[0m gen/LSTM/03/FC3 output: [500, 100]\n",
      "\u001b[32m[1217 10:32:13 @registry.py:126]\u001b[0m gen/LSTM/04/FC input: [500, 100]\n",
      "\u001b[32m[1217 10:32:13 @registry.py:134]\u001b[0m gen/LSTM/04/FC output: [500, 100]\n",
      "\u001b[32m[1217 10:32:13 @registry.py:126]\u001b[0m gen/LSTM/04/FC2 input: [500, 100]\n",
      "\u001b[32m[1217 10:32:13 @registry.py:134]\u001b[0m gen/LSTM/04/FC2 output: [500, 3]\n",
      "\u001b[32m[1217 10:32:13 @registry.py:126]\u001b[0m gen/LSTM/04/FC3 input: [500, 3]\n",
      "\u001b[32m[1217 10:32:13 @registry.py:134]\u001b[0m gen/LSTM/04/FC3 output: [500, 100]\n",
      "\u001b[32m[1217 10:32:13 @registry.py:126]\u001b[0m gen/LSTM/05/FC input: [500, 100]\n",
      "\u001b[32m[1217 10:32:13 @registry.py:134]\u001b[0m gen/LSTM/05/FC output: [500, 100]\n",
      "\u001b[32m[1217 10:32:13 @registry.py:126]\u001b[0m gen/LSTM/05/FC2 input: [500, 100]\n",
      "\u001b[32m[1217 10:32:13 @registry.py:134]\u001b[0m gen/LSTM/05/FC2 output: [500, 4]\n",
      "\u001b[32m[1217 10:32:13 @registry.py:126]\u001b[0m gen/LSTM/05/FC3 input: [500, 4]\n",
      "\u001b[32m[1217 10:32:13 @registry.py:134]\u001b[0m gen/LSTM/05/FC3 output: [500, 100]\n",
      "\u001b[32m[1217 10:32:13 @registry.py:126]\u001b[0m gen/LSTM/06/FC input: [500, 100]\n",
      "\u001b[32m[1217 10:32:13 @registry.py:134]\u001b[0m gen/LSTM/06/FC output: [500, 100]\n",
      "\u001b[32m[1217 10:32:13 @registry.py:126]\u001b[0m gen/LSTM/06/FC2 input: [500, 100]\n",
      "\u001b[32m[1217 10:32:13 @registry.py:134]\u001b[0m gen/LSTM/06/FC2 output: [500, 12]\n",
      "\u001b[32m[1217 10:32:13 @registry.py:126]\u001b[0m gen/LSTM/06/FC3 input: [500, 12]\n",
      "\u001b[32m[1217 10:32:13 @registry.py:134]\u001b[0m gen/LSTM/06/FC3 output: [500, 100]\n",
      "\u001b[32m[1217 10:32:13 @registry.py:126]\u001b[0m gen/LSTM/07/FC input: [500, 100]\n",
      "\u001b[32m[1217 10:32:13 @registry.py:134]\u001b[0m gen/LSTM/07/FC output: [500, 100]\n",
      "\u001b[32m[1217 10:32:13 @registry.py:126]\u001b[0m gen/LSTM/07/FC2 input: [500, 100]\n",
      "\u001b[32m[1217 10:32:13 @registry.py:134]\u001b[0m gen/LSTM/07/FC2 output: [500, 31]\n",
      "\u001b[32m[1217 10:32:13 @registry.py:126]\u001b[0m gen/LSTM/07/FC3 input: [500, 31]\n",
      "\u001b[32m[1217 10:32:13 @registry.py:134]\u001b[0m gen/LSTM/07/FC3 output: [500, 100]\n",
      "\u001b[32m[1217 10:32:13 @registry.py:126]\u001b[0m gen/LSTM/08/FC input: [500, 100]\n",
      "\u001b[32m[1217 10:32:13 @registry.py:134]\u001b[0m gen/LSTM/08/FC output: [500, 100]\n",
      "\u001b[32m[1217 10:32:13 @registry.py:126]\u001b[0m gen/LSTM/08/FC2 input: [500, 100]\n",
      "\u001b[32m[1217 10:32:14 @registry.py:134]\u001b[0m gen/LSTM/08/FC2 output: [500, 7]\n",
      "\u001b[32m[1217 10:32:14 @registry.py:126]\u001b[0m gen/LSTM/08/FC3 input: [500, 7]\n",
      "\u001b[32m[1217 10:32:14 @registry.py:134]\u001b[0m gen/LSTM/08/FC3 output: [500, 100]\n",
      "\u001b[32m[1217 10:32:14 @registry.py:126]\u001b[0m gen/LSTM/09/FC input: [500, 100]\n",
      "\u001b[32m[1217 10:32:14 @registry.py:134]\u001b[0m gen/LSTM/09/FC output: [500, 100]\n",
      "\u001b[32m[1217 10:32:14 @registry.py:126]\u001b[0m gen/LSTM/09/FC2 input: [500, 100]\n",
      "\u001b[32m[1217 10:32:14 @registry.py:134]\u001b[0m gen/LSTM/09/FC2 output: [500, 1]\n",
      "\u001b[32m[1217 10:32:14 @registry.py:126]\u001b[0m gen/LSTM/10/FC input: [500, 100]\n",
      "\u001b[32m[1217 10:32:14 @registry.py:134]\u001b[0m gen/LSTM/10/FC output: [500, 100]\n",
      "\u001b[32m[1217 10:32:14 @registry.py:126]\u001b[0m gen/LSTM/10/FC2 input: [500, 100]\n",
      "\u001b[32m[1217 10:32:14 @registry.py:134]\u001b[0m gen/LSTM/10/FC2 output: [500, 5]\n",
      "\u001b[32m[1217 10:32:14 @registry.py:126]\u001b[0m gen/LSTM/10/FC3 input: [500, 5]\n",
      "\u001b[32m[1217 10:32:14 @registry.py:134]\u001b[0m gen/LSTM/10/FC3 output: [500, 100]\n",
      "\u001b[32m[1217 10:32:14 @registry.py:126]\u001b[0m gen/LSTM/11/FC input: [500, 100]\n",
      "\u001b[32m[1217 10:32:14 @registry.py:134]\u001b[0m gen/LSTM/11/FC output: [500, 100]\n",
      "\u001b[32m[1217 10:32:14 @registry.py:126]\u001b[0m gen/LSTM/11/FC2 input: [500, 100]\n",
      "\u001b[32m[1217 10:32:14 @registry.py:134]\u001b[0m gen/LSTM/11/FC2 output: [500, 1]\n",
      "\u001b[32m[1217 10:32:14 @registry.py:126]\u001b[0m gen/LSTM/12/FC input: [500, 100]\n",
      "\u001b[32m[1217 10:32:14 @registry.py:134]\u001b[0m gen/LSTM/12/FC output: [500, 100]\n",
      "\u001b[32m[1217 10:32:14 @registry.py:126]\u001b[0m gen/LSTM/12/FC2 input: [500, 100]\n",
      "\u001b[32m[1217 10:32:14 @registry.py:134]\u001b[0m gen/LSTM/12/FC2 output: [500, 5]\n",
      "\u001b[32m[1217 10:32:14 @registry.py:126]\u001b[0m gen/LSTM/12/FC3 input: [500, 5]\n",
      "\u001b[32m[1217 10:32:14 @registry.py:134]\u001b[0m gen/LSTM/12/FC3 output: [500, 100]\n",
      "\u001b[32m[1217 10:32:14 @registry.py:126]\u001b[0m gen/LSTM/13/FC input: [500, 100]\n",
      "\u001b[32m[1217 10:32:14 @registry.py:134]\u001b[0m gen/LSTM/13/FC output: [500, 100]\n",
      "\u001b[32m[1217 10:32:14 @registry.py:126]\u001b[0m gen/LSTM/13/FC2 input: [500, 100]\n",
      "\u001b[32m[1217 10:32:14 @registry.py:134]\u001b[0m gen/LSTM/13/FC2 output: [500, 2]\n",
      "\u001b[32m[1217 10:32:14 @registry.py:126]\u001b[0m gen/LSTM/13/FC3 input: [500, 2]\n",
      "\u001b[32m[1217 10:32:14 @registry.py:134]\u001b[0m gen/LSTM/13/FC3 output: [500, 100]\n",
      "\u001b[32m[1217 10:32:14 @registry.py:126]\u001b[0m gen/LSTM/14/FC input: [500, 100]\n",
      "\u001b[32m[1217 10:32:14 @registry.py:134]\u001b[0m gen/LSTM/14/FC output: [500, 100]\n",
      "\u001b[32m[1217 10:32:14 @registry.py:126]\u001b[0m gen/LSTM/14/FC2 input: [500, 100]\n",
      "\u001b[32m[1217 10:32:14 @registry.py:134]\u001b[0m gen/LSTM/14/FC2 output: [500, 2]\n",
      "\u001b[32m[1217 10:32:14 @registry.py:126]\u001b[0m gen/LSTM/14/FC3 input: [500, 2]\n",
      "\u001b[32m[1217 10:32:14 @registry.py:134]\u001b[0m gen/LSTM/14/FC3 output: [500, 100]\n",
      "\u001b[32m[1217 10:32:14 @registry.py:126]\u001b[0m gen/LSTM/15/FC input: [500, 100]\n",
      "\u001b[32m[1217 10:32:14 @registry.py:134]\u001b[0m gen/LSTM/15/FC output: [500, 100]\n",
      "\u001b[32m[1217 10:32:14 @registry.py:126]\u001b[0m gen/LSTM/15/FC2 input: [500, 100]\n",
      "\u001b[32m[1217 10:32:14 @registry.py:134]\u001b[0m gen/LSTM/15/FC2 output: [500, 3]\n",
      "\u001b[32m[1217 10:32:14 @registry.py:126]\u001b[0m gen/LSTM/15/FC3 input: [500, 3]\n",
      "\u001b[32m[1217 10:32:14 @registry.py:134]\u001b[0m gen/LSTM/15/FC3 output: [500, 100]\n",
      "\u001b[32m[1217 10:32:14 @registry.py:126]\u001b[0m gen/LSTM/16/FC input: [500, 100]\n",
      "\u001b[32m[1217 10:32:14 @registry.py:134]\u001b[0m gen/LSTM/16/FC output: [500, 100]\n",
      "\u001b[32m[1217 10:32:14 @registry.py:126]\u001b[0m gen/LSTM/16/FC2 input: [500, 100]\n",
      "\u001b[32m[1217 10:32:14 @registry.py:134]\u001b[0m gen/LSTM/16/FC2 output: [500, 1]\n",
      "\u001b[32m[1217 10:32:14 @registry.py:126]\u001b[0m gen/LSTM/17/FC input: [500, 100]\n",
      "\u001b[32m[1217 10:32:14 @registry.py:134]\u001b[0m gen/LSTM/17/FC output: [500, 100]\n",
      "\u001b[32m[1217 10:32:14 @registry.py:126]\u001b[0m gen/LSTM/17/FC2 input: [500, 100]\n",
      "\u001b[32m[1217 10:32:14 @registry.py:134]\u001b[0m gen/LSTM/17/FC2 output: [500, 5]\n",
      "\u001b[32m[1217 10:32:14 @registry.py:126]\u001b[0m gen/LSTM/17/FC3 input: [500, 5]\n",
      "\u001b[32m[1217 10:32:14 @registry.py:134]\u001b[0m gen/LSTM/17/FC3 output: [500, 100]\n",
      "\u001b[32m[1217 10:32:14 @registry.py:126]\u001b[0m gen/LSTM/18/FC input: [500, 100]\n",
      "\u001b[32m[1217 10:32:14 @registry.py:134]\u001b[0m gen/LSTM/18/FC output: [500, 100]\n",
      "\u001b[32m[1217 10:32:14 @registry.py:126]\u001b[0m gen/LSTM/18/FC2 input: [500, 100]\n",
      "\u001b[32m[1217 10:32:14 @registry.py:134]\u001b[0m gen/LSTM/18/FC2 output: [500, 1]\n",
      "\u001b[32m[1217 10:32:14 @registry.py:126]\u001b[0m gen/LSTM/19/FC input: [500, 100]\n",
      "\u001b[32m[1217 10:32:14 @registry.py:134]\u001b[0m gen/LSTM/19/FC output: [500, 100]\n"
     ]
    },
    {
     "name": "stdout",
     "output_type": "stream",
     "text": [
      "\u001b[32m[1217 10:32:14 @registry.py:126]\u001b[0m gen/LSTM/19/FC2 input: [500, 100]\n",
      "\u001b[32m[1217 10:32:14 @registry.py:134]\u001b[0m gen/LSTM/19/FC2 output: [500, 5]\n",
      "\u001b[32m[1217 10:32:14 @registry.py:126]\u001b[0m gen/LSTM/19/FC3 input: [500, 5]\n",
      "\u001b[32m[1217 10:32:14 @registry.py:134]\u001b[0m gen/LSTM/19/FC3 output: [500, 100]\n",
      "\u001b[32m[1217 10:32:14 @registry.py:126]\u001b[0m gen/LSTM/20/FC input: [500, 100]\n",
      "\u001b[32m[1217 10:32:14 @registry.py:134]\u001b[0m gen/LSTM/20/FC output: [500, 100]\n",
      "\u001b[32m[1217 10:32:14 @registry.py:126]\u001b[0m gen/LSTM/20/FC2 input: [500, 100]\n",
      "\u001b[32m[1217 10:32:14 @registry.py:134]\u001b[0m gen/LSTM/20/FC2 output: [500, 1]\n",
      "\u001b[32m[1217 10:32:14 @registry.py:126]\u001b[0m gen/LSTM/21/FC input: [500, 100]\n",
      "\u001b[32m[1217 10:32:14 @registry.py:134]\u001b[0m gen/LSTM/21/FC output: [500, 100]\n",
      "\u001b[32m[1217 10:32:14 @registry.py:126]\u001b[0m gen/LSTM/21/FC2 input: [500, 100]\n",
      "\u001b[32m[1217 10:32:14 @registry.py:134]\u001b[0m gen/LSTM/21/FC2 output: [500, 5]\n",
      "\u001b[32m[1217 10:32:14 @registry.py:126]\u001b[0m gen/LSTM/21/FC3 input: [500, 5]\n",
      "\u001b[32m[1217 10:32:14 @registry.py:134]\u001b[0m gen/LSTM/21/FC3 output: [500, 100]\n",
      "\u001b[32m[1217 10:32:14 @registry.py:126]\u001b[0m gen/LSTM/22/FC input: [500, 100]\n",
      "\u001b[32m[1217 10:32:14 @registry.py:134]\u001b[0m gen/LSTM/22/FC output: [500, 100]\n",
      "\u001b[32m[1217 10:32:14 @registry.py:126]\u001b[0m gen/LSTM/22/FC2 input: [500, 100]\n",
      "\u001b[32m[1217 10:32:14 @registry.py:134]\u001b[0m gen/LSTM/22/FC2 output: [500, 1]\n",
      "\u001b[32m[1217 10:32:14 @registry.py:126]\u001b[0m gen/LSTM/23/FC input: [500, 100]\n",
      "\u001b[32m[1217 10:32:14 @registry.py:134]\u001b[0m gen/LSTM/23/FC output: [500, 100]\n",
      "\u001b[32m[1217 10:32:14 @registry.py:126]\u001b[0m gen/LSTM/23/FC2 input: [500, 100]\n",
      "\u001b[32m[1217 10:32:14 @registry.py:134]\u001b[0m gen/LSTM/23/FC2 output: [500, 5]\n",
      "\u001b[32m[1217 10:32:14 @registry.py:126]\u001b[0m gen/LSTM/23/FC3 input: [500, 5]\n",
      "\u001b[32m[1217 10:32:14 @registry.py:134]\u001b[0m gen/LSTM/23/FC3 output: [500, 100]\n",
      "\u001b[32m[1217 10:32:14 @registry.py:126]\u001b[0m gen/LSTM/24/FC input: [500, 100]\n",
      "\u001b[32m[1217 10:32:14 @registry.py:134]\u001b[0m gen/LSTM/24/FC output: [500, 100]\n",
      "\u001b[32m[1217 10:32:14 @registry.py:126]\u001b[0m gen/LSTM/24/FC2 input: [500, 100]\n",
      "\u001b[32m[1217 10:32:14 @registry.py:134]\u001b[0m gen/LSTM/24/FC2 output: [500, 1]\n",
      "\u001b[32m[1217 10:32:14 @registry.py:126]\u001b[0m gen/LSTM/25/FC input: [500, 100]\n",
      "\u001b[32m[1217 10:32:14 @registry.py:134]\u001b[0m gen/LSTM/25/FC output: [500, 100]\n",
      "\u001b[32m[1217 10:32:14 @registry.py:126]\u001b[0m gen/LSTM/25/FC2 input: [500, 100]\n",
      "\u001b[32m[1217 10:32:14 @registry.py:134]\u001b[0m gen/LSTM/25/FC2 output: [500, 5]\n",
      "\u001b[32m[1217 10:32:14 @registry.py:126]\u001b[0m gen/LSTM/25/FC3 input: [500, 5]\n",
      "\u001b[32m[1217 10:32:14 @registry.py:134]\u001b[0m gen/LSTM/25/FC3 output: [500, 100]\n",
      "\u001b[32m[1217 10:32:14 @registry.py:126]\u001b[0m gen/LSTM/26/FC input: [500, 100]\n",
      "\u001b[32m[1217 10:32:14 @registry.py:134]\u001b[0m gen/LSTM/26/FC output: [500, 100]\n",
      "\u001b[32m[1217 10:32:14 @registry.py:126]\u001b[0m gen/LSTM/26/FC2 input: [500, 100]\n",
      "\u001b[32m[1217 10:32:14 @registry.py:134]\u001b[0m gen/LSTM/26/FC2 output: [500, 1]\n",
      "\u001b[32m[1217 10:32:14 @registry.py:126]\u001b[0m gen/LSTM/27/FC input: [500, 100]\n",
      "\u001b[32m[1217 10:32:14 @registry.py:134]\u001b[0m gen/LSTM/27/FC output: [500, 100]\n",
      "\u001b[32m[1217 10:32:14 @registry.py:126]\u001b[0m gen/LSTM/27/FC2 input: [500, 100]\n",
      "\u001b[32m[1217 10:32:15 @registry.py:134]\u001b[0m gen/LSTM/27/FC2 output: [500, 5]\n",
      "\u001b[32m[1217 10:32:15 @registry.py:126]\u001b[0m gen/LSTM/27/FC3 input: [500, 5]\n",
      "\u001b[32m[1217 10:32:15 @registry.py:134]\u001b[0m gen/LSTM/27/FC3 output: [500, 100]\n",
      "\u001b[32m[1217 10:32:15 @registry.py:126]\u001b[0m gen/LSTM/28/FC input: [500, 100]\n",
      "\u001b[32m[1217 10:32:15 @registry.py:134]\u001b[0m gen/LSTM/28/FC output: [500, 100]\n",
      "\u001b[32m[1217 10:32:15 @registry.py:126]\u001b[0m gen/LSTM/28/FC2 input: [500, 100]\n",
      "\u001b[32m[1217 10:32:15 @registry.py:134]\u001b[0m gen/LSTM/28/FC2 output: [500, 1]\n",
      "\u001b[32m[1217 10:32:15 @registry.py:126]\u001b[0m gen/LSTM/29/FC input: [500, 100]\n",
      "\u001b[32m[1217 10:32:15 @registry.py:134]\u001b[0m gen/LSTM/29/FC output: [500, 100]\n",
      "\u001b[32m[1217 10:32:15 @registry.py:126]\u001b[0m gen/LSTM/29/FC2 input: [500, 100]\n",
      "\u001b[32m[1217 10:32:15 @registry.py:134]\u001b[0m gen/LSTM/29/FC2 output: [500, 5]\n",
      "\u001b[32m[1217 10:32:15 @registry.py:126]\u001b[0m gen/LSTM/29/FC3 input: [500, 5]\n",
      "\u001b[32m[1217 10:32:15 @registry.py:134]\u001b[0m gen/LSTM/29/FC3 output: [500, 100]\n",
      "\u001b[32m[1217 10:32:15 @registry.py:126]\u001b[0m gen/LSTM/30/FC input: [500, 100]\n",
      "\u001b[32m[1217 10:32:15 @registry.py:134]\u001b[0m gen/LSTM/30/FC output: [500, 100]\n",
      "\u001b[32m[1217 10:32:15 @registry.py:126]\u001b[0m gen/LSTM/30/FC2 input: [500, 100]\n",
      "\u001b[32m[1217 10:32:15 @registry.py:134]\u001b[0m gen/LSTM/30/FC2 output: [500, 5]\n",
      "\u001b[32m[1217 10:32:15 @registry.py:126]\u001b[0m gen/LSTM/30/FC3 input: [500, 5]\n",
      "\u001b[32m[1217 10:32:15 @registry.py:134]\u001b[0m gen/LSTM/30/FC3 output: [500, 100]\n",
      "\u001b[32m[1217 10:32:15 @registry.py:126]\u001b[0m gen/LSTM/31/FC input: [500, 100]\n",
      "\u001b[32m[1217 10:32:15 @registry.py:134]\u001b[0m gen/LSTM/31/FC output: [500, 100]\n",
      "\u001b[32m[1217 10:32:15 @registry.py:126]\u001b[0m gen/LSTM/31/FC2 input: [500, 100]\n",
      "\u001b[32m[1217 10:32:15 @registry.py:134]\u001b[0m gen/LSTM/31/FC2 output: [500, 1]\n",
      "\u001b[32m[1217 10:32:15 @registry.py:126]\u001b[0m gen/LSTM/32/FC input: [500, 100]\n",
      "\u001b[32m[1217 10:32:15 @registry.py:134]\u001b[0m gen/LSTM/32/FC output: [500, 100]\n",
      "\u001b[32m[1217 10:32:15 @registry.py:126]\u001b[0m gen/LSTM/32/FC2 input: [500, 100]\n",
      "\u001b[32m[1217 10:32:15 @registry.py:134]\u001b[0m gen/LSTM/32/FC2 output: [500, 5]\n",
      "\u001b[32m[1217 10:32:15 @registry.py:126]\u001b[0m gen/LSTM/32/FC3 input: [500, 5]\n",
      "\u001b[32m[1217 10:32:15 @registry.py:134]\u001b[0m gen/LSTM/32/FC3 output: [500, 100]\n",
      "\u001b[32m[1217 10:32:15 @registry.py:126]\u001b[0m gen/LSTM/33/FC input: [500, 100]\n",
      "\u001b[32m[1217 10:32:15 @registry.py:134]\u001b[0m gen/LSTM/33/FC output: [500, 100]\n",
      "\u001b[32m[1217 10:32:15 @registry.py:126]\u001b[0m gen/LSTM/33/FC2 input: [500, 100]\n",
      "\u001b[32m[1217 10:32:15 @registry.py:134]\u001b[0m gen/LSTM/33/FC2 output: [500, 1]\n",
      "\u001b[32m[1217 10:32:15 @registry.py:126]\u001b[0m gen/LSTM/34/FC input: [500, 100]\n",
      "\u001b[32m[1217 10:32:15 @registry.py:134]\u001b[0m gen/LSTM/34/FC output: [500, 100]\n",
      "\u001b[32m[1217 10:32:15 @registry.py:126]\u001b[0m gen/LSTM/34/FC2 input: [500, 100]\n",
      "\u001b[32m[1217 10:32:15 @registry.py:134]\u001b[0m gen/LSTM/34/FC2 output: [500, 5]\n",
      "\u001b[32m[1217 10:32:15 @registry.py:126]\u001b[0m gen/LSTM/34/FC3 input: [500, 5]\n",
      "\u001b[32m[1217 10:32:15 @registry.py:134]\u001b[0m gen/LSTM/34/FC3 output: [500, 100]\n",
      "\u001b[32m[1217 10:32:15 @registry.py:126]\u001b[0m gen/LSTM/35/FC input: [500, 100]\n",
      "\u001b[32m[1217 10:32:15 @registry.py:134]\u001b[0m gen/LSTM/35/FC output: [500, 100]\n",
      "\u001b[32m[1217 10:32:15 @registry.py:126]\u001b[0m gen/LSTM/35/FC2 input: [500, 100]\n",
      "\u001b[32m[1217 10:32:15 @registry.py:134]\u001b[0m gen/LSTM/35/FC2 output: [500, 1]\n",
      "\u001b[32m[1217 10:32:15 @registry.py:126]\u001b[0m gen/LSTM/36/FC input: [500, 100]\n",
      "\u001b[32m[1217 10:32:15 @registry.py:134]\u001b[0m gen/LSTM/36/FC output: [500, 100]\n",
      "\u001b[32m[1217 10:32:15 @registry.py:126]\u001b[0m gen/LSTM/36/FC2 input: [500, 100]\n",
      "\u001b[32m[1217 10:32:15 @registry.py:134]\u001b[0m gen/LSTM/36/FC2 output: [500, 5]\n",
      "\u001b[32m[1217 10:32:15 @registry.py:126]\u001b[0m gen/LSTM/36/FC3 input: [500, 5]\n",
      "\u001b[32m[1217 10:32:15 @registry.py:134]\u001b[0m gen/LSTM/36/FC3 output: [500, 100]\n",
      "\u001b[32m[1217 10:32:15 @registry.py:126]\u001b[0m gen/LSTM/37/FC input: [500, 100]\n",
      "\u001b[32m[1217 10:32:15 @registry.py:134]\u001b[0m gen/LSTM/37/FC output: [500, 100]\n",
      "\u001b[32m[1217 10:32:15 @registry.py:126]\u001b[0m gen/LSTM/37/FC2 input: [500, 100]\n",
      "\u001b[32m[1217 10:32:15 @registry.py:134]\u001b[0m gen/LSTM/37/FC2 output: [500, 2]\n",
      "\u001b[32m[1217 10:32:15 @registry.py:126]\u001b[0m gen/LSTM/37/FC3 input: [500, 2]\n",
      "\u001b[32m[1217 10:32:15 @registry.py:134]\u001b[0m gen/LSTM/37/FC3 output: [500, 100]\n",
      "\u001b[32m[1217 10:32:15 @registry.py:126]\u001b[0m gen/LSTM/38/FC input: [500, 100]\n",
      "\u001b[32m[1217 10:32:15 @registry.py:134]\u001b[0m gen/LSTM/38/FC output: [500, 100]\n",
      "\u001b[32m[1217 10:32:15 @registry.py:126]\u001b[0m gen/LSTM/38/FC2 input: [500, 100]\n",
      "\u001b[32m[1217 10:32:15 @registry.py:134]\u001b[0m gen/LSTM/38/FC2 output: [500, 1]\n",
      "\u001b[32m[1217 10:32:15 @registry.py:126]\u001b[0m gen/LSTM/39/FC input: [500, 100]\n",
      "\u001b[32m[1217 10:32:15 @registry.py:134]\u001b[0m gen/LSTM/39/FC output: [500, 100]\n",
      "\u001b[32m[1217 10:32:15 @registry.py:126]\u001b[0m gen/LSTM/39/FC2 input: [500, 100]\n",
      "\u001b[32m[1217 10:32:15 @registry.py:134]\u001b[0m gen/LSTM/39/FC2 output: [500, 5]\n",
      "\u001b[32m[1217 10:32:15 @registry.py:126]\u001b[0m gen/LSTM/39/FC3 input: [500, 5]\n",
      "\u001b[32m[1217 10:32:15 @registry.py:134]\u001b[0m gen/LSTM/39/FC3 output: [500, 100]\n",
      "\u001b[32m[1217 10:32:15 @registry.py:126]\u001b[0m discrim/dis_fc0/fc input: [500, 169]\n",
      "\u001b[32m[1217 10:32:15 @registry.py:134]\u001b[0m discrim/dis_fc0/fc output: [500, 100]\n",
      "\u001b[32m[1217 10:32:15 @registry.py:126]\u001b[0m discrim/dis_fc0/fc_diversity input: [500, 100]\n"
     ]
    },
    {
     "name": "stdout",
     "output_type": "stream",
     "text": [
      "\u001b[32m[1217 10:32:15 @registry.py:134]\u001b[0m discrim/dis_fc0/fc_diversity output: [500, 100]\n",
      "\u001b[32m[1217 10:32:15 @registry.py:126]\u001b[0m discrim/dis_fc_top input: [500, 110]\n",
      "\u001b[32m[1217 10:32:15 @registry.py:134]\u001b[0m discrim/dis_fc_top output: [500, 1]\n",
      "\u001b[32m[1217 10:32:16 @collection.py:146]\u001b[0m New collections created in tower : tf.GraphKeys.REGULARIZATION_LOSSES\n",
      "\u001b[32m[1217 10:32:16 @collection.py:165]\u001b[0m These collections were modified but restored in : (tf.GraphKeys.SUMMARIES: 0->2)\n",
      "\u001b[32m[1217 10:32:16 @sessinit.py:87]\u001b[0m \u001b[5m\u001b[31mWRN\u001b[0m The following variables are in the checkpoint, but not found in the graph: global_step, optimize/beta1_power, optimize/beta2_power\n",
      "INFO:tensorflow:Graph was finalized.\n",
      "INFO:tensorflow:Running local_init_op.\n",
      "INFO:tensorflow:Done running local_init_op.\n",
      "\u001b[32m[1217 10:32:17 @sessinit.py:114]\u001b[0m Restoring checkpoint from ../output/LPMC/TGAN_01/model\\model-35000 ...\n",
      "INFO:tensorflow:Restoring parameters from ../output/LPMC/TGAN_01/model\\model-35000\n"
     ]
    },
    {
     "name": "stderr",
     "output_type": "stream",
     "text": [
      "  7%|#####8                                                                              |35/500[00:01<00:25,18.22it/s]\n",
      "  7%|#####8                                                                              |35/500[00:01<00:18,25.74it/s]\n",
      "  7%|#####8                                                                              |35/500[00:01<00:18,24.68it/s]\n",
      "  7%|#####8                                                                              |35/500[00:01<00:18,25.55it/s]\n",
      "  7%|#####8                                                                              |35/500[00:01<00:18,24.84it/s]\n"
     ]
    },
    {
     "name": "stdout",
     "output_type": "stream",
     "text": [
      "Sampling synthetic data from model \u001b[1mTGAN_02\u001b[0m (22/60)\n",
      "\u001b[32m[1217 10:32:30 @collection.py:146]\u001b[0m New collections created in tower : tf.GraphKeys.REGULARIZATION_LOSSES\n",
      "\u001b[32m[1217 10:32:30 @collection.py:165]\u001b[0m These collections were modified but restored in : (tf.GraphKeys.SUMMARIES: 0->2)\n",
      "\u001b[32m[1217 10:32:30 @sessinit.py:87]\u001b[0m \u001b[5m\u001b[31mWRN\u001b[0m The following variables are in the checkpoint, but not found in the graph: global_step, optimize/beta1_power, optimize/beta2_power\n",
      "INFO:tensorflow:Graph was finalized.\n",
      "INFO:tensorflow:Running local_init_op.\n",
      "INFO:tensorflow:Done running local_init_op.\n",
      "\u001b[32m[1217 10:32:31 @sessinit.py:114]\u001b[0m Restoring checkpoint from ../output/LPMC/TGAN_02/model\\model-35000 ...\n",
      "INFO:tensorflow:Restoring parameters from ../output/LPMC/TGAN_02/model\\model-35000\n"
     ]
    },
    {
     "name": "stderr",
     "output_type": "stream",
     "text": [
      "  7%|#####8                                                                              |35/500[00:01<00:25,18.21it/s]\n",
      "  7%|#####8                                                                              |35/500[00:01<00:18,25.26it/s]\n",
      "  7%|#####8                                                                              |35/500[00:01<00:18,25.20it/s]\n",
      "  7%|#####8                                                                              |35/500[00:01<00:17,25.84it/s]\n",
      "  7%|#####8                                                                              |35/500[00:01<00:18,24.48it/s]\n"
     ]
    },
    {
     "name": "stdout",
     "output_type": "stream",
     "text": [
      "Sampling synthetic data from model \u001b[1mTGAN_03\u001b[0m (23/60)\n",
      "\u001b[32m[1217 10:32:44 @collection.py:146]\u001b[0m New collections created in tower : tf.GraphKeys.REGULARIZATION_LOSSES\n",
      "\u001b[32m[1217 10:32:44 @collection.py:165]\u001b[0m These collections were modified but restored in : (tf.GraphKeys.SUMMARIES: 0->2)\n",
      "\u001b[32m[1217 10:32:44 @sessinit.py:87]\u001b[0m \u001b[5m\u001b[31mWRN\u001b[0m The following variables are in the checkpoint, but not found in the graph: global_step, optimize/beta1_power, optimize/beta2_power\n",
      "INFO:tensorflow:Graph was finalized.\n",
      "INFO:tensorflow:Running local_init_op.\n",
      "INFO:tensorflow:Done running local_init_op.\n",
      "\u001b[32m[1217 10:32:46 @sessinit.py:114]\u001b[0m Restoring checkpoint from ../output/LPMC/TGAN_03/model\\model-35000 ...\n",
      "INFO:tensorflow:Restoring parameters from ../output/LPMC/TGAN_03/model\\model-35000\n"
     ]
    },
    {
     "name": "stderr",
     "output_type": "stream",
     "text": [
      "  7%|#####8                                                                              |35/500[00:01<00:25,18.25it/s]\n",
      "  7%|#####8                                                                              |35/500[00:01<00:18,25.35it/s]\n",
      "  7%|#####8                                                                              |35/500[00:01<00:18,25.62it/s]\n",
      "  7%|#####8                                                                              |35/500[00:01<00:17,25.98it/s]\n",
      "  7%|#####8                                                                              |35/500[00:01<00:18,25.11it/s]\n"
     ]
    },
    {
     "name": "stdout",
     "output_type": "stream",
     "text": [
      "Sampling synthetic data from model \u001b[1mTGAN_04\u001b[0m (24/60)\n",
      "\u001b[32m[1217 10:32:59 @collection.py:146]\u001b[0m New collections created in tower : tf.GraphKeys.REGULARIZATION_LOSSES\n",
      "\u001b[32m[1217 10:32:59 @collection.py:165]\u001b[0m These collections were modified but restored in : (tf.GraphKeys.SUMMARIES: 0->2)\n",
      "\u001b[32m[1217 10:32:59 @sessinit.py:87]\u001b[0m \u001b[5m\u001b[31mWRN\u001b[0m The following variables are in the checkpoint, but not found in the graph: global_step, optimize/beta1_power, optimize/beta2_power\n",
      "INFO:tensorflow:Graph was finalized.\n",
      "INFO:tensorflow:Running local_init_op.\n",
      "INFO:tensorflow:Done running local_init_op.\n",
      "\u001b[32m[1217 10:33:00 @sessinit.py:114]\u001b[0m Restoring checkpoint from ../output/LPMC/TGAN_04/model\\model-35000 ...\n",
      "INFO:tensorflow:Restoring parameters from ../output/LPMC/TGAN_04/model\\model-35000\n"
     ]
    },
    {
     "name": "stderr",
     "output_type": "stream",
     "text": [
      "  7%|#####8                                                                              |35/500[00:00<00:13,35.26it/s]\n",
      "  7%|#####8                                                                              |35/500[00:00<00:06,72.52it/s]\n",
      "  7%|#####8                                                                              |35/500[00:00<00:06,72.97it/s]\n",
      "  7%|#####8                                                                              |35/500[00:00<00:06,72.30it/s]\n",
      "  7%|#####8                                                                              |35/500[00:00<00:06,72.37it/s]\n"
     ]
    },
    {
     "name": "stdout",
     "output_type": "stream",
     "text": [
      "Sampling synthetic data from model \u001b[1mTGAN_05\u001b[0m (25/60)\n",
      "\u001b[32m[1217 10:33:08 @collection.py:146]\u001b[0m New collections created in tower : tf.GraphKeys.REGULARIZATION_LOSSES\n",
      "\u001b[32m[1217 10:33:08 @collection.py:165]\u001b[0m These collections were modified but restored in : (tf.GraphKeys.SUMMARIES: 0->2)\n",
      "\u001b[32m[1217 10:33:08 @sessinit.py:87]\u001b[0m \u001b[5m\u001b[31mWRN\u001b[0m The following variables are in the checkpoint, but not found in the graph: global_step, optimize/beta1_power, optimize/beta2_power\n",
      "INFO:tensorflow:Graph was finalized.\n",
      "INFO:tensorflow:Running local_init_op.\n",
      "INFO:tensorflow:Done running local_init_op.\n",
      "\u001b[32m[1217 10:33:10 @sessinit.py:114]\u001b[0m Restoring checkpoint from ../output/LPMC/TGAN_05/model\\model-35000 ...\n",
      "INFO:tensorflow:Restoring parameters from ../output/LPMC/TGAN_05/model\\model-35000\n"
     ]
    },
    {
     "name": "stderr",
     "output_type": "stream",
     "text": [
      "  7%|#####8                                                                              |35/500[00:00<00:13,35.02it/s]\n",
      "  7%|#####8                                                                              |35/500[00:00<00:06,71.86it/s]\n",
      "  7%|#####8                                                                              |35/500[00:00<00:06,71.49it/s]\n",
      "  7%|#####8                                                                              |35/500[00:00<00:06,71.35it/s]\n",
      "  7%|#####8                                                                              |35/500[00:00<00:06,70.71it/s]\n"
     ]
    },
    {
     "name": "stdout",
     "output_type": "stream",
     "text": [
      "Sampling synthetic data from model \u001b[1mTVAE_01\u001b[0m (26/60)\n",
      "Sampling synthetic data from model \u001b[1mTVAE_02\u001b[0m (27/60)\n",
      "Sampling synthetic data from model \u001b[1mTVAE_03\u001b[0m (28/60)\n",
      "Sampling synthetic data from model \u001b[1mTVAE_04\u001b[0m (29/60)\n",
      "Sampling synthetic data from model \u001b[1mTVAE_05\u001b[0m (30/60)\n",
      "Sampling synthetic data from model \u001b[1mWGAN_OR_01\u001b[0m (31/60)\n",
      "\u001b[32m[1217 10:33:38 @DATSGANModel.py:213]\u001b[0m \u001b[91mCreating cell for travel_year (in-edges: 0; ancestors: 0)\n",
      "\u001b[32m[1217 10:33:38 @DATSGANModel.py:213]\u001b[0m \u001b[91mCreating cell for car_ownership (in-edges: 0; ancestors: 0)\n",
      "\u001b[32m[1217 10:33:38 @DATSGANModel.py:213]\u001b[0m \u001b[91mCreating cell for female (in-edges: 0; ancestors: 0)\n",
      "\u001b[32m[1217 10:33:38 @DATSGANModel.py:213]\u001b[0m \u001b[91mCreating cell for age (in-edges: 0; ancestors: 0)\n",
      "\u001b[32m[1217 10:33:38 @DATSGANModel.py:213]\u001b[0m \u001b[91mCreating cell for travel_month (in-edges: 1; ancestors: 1)\n",
      "\u001b[32m[1217 10:33:38 @DATSGANModel.py:213]\u001b[0m \u001b[91mCreating cell for fueltype (in-edges: 1; ancestors: 1)\n",
      "\u001b[32m[1217 10:33:38 @DATSGANModel.py:213]\u001b[0m \u001b[91mCreating cell for driving_license (in-edges: 3; ancestors: 3)\n",
      "\u001b[32m[1217 10:33:38 @DATSGANModel.py:213]\u001b[0m \u001b[91mCreating cell for faretype (in-edges: 1; ancestors: 1)\n",
      "\u001b[32m[1217 10:33:38 @DATSGANModel.py:213]\u001b[0m \u001b[91mCreating cell for travel_date (in-edges: 1; ancestors: 2)\n",
      "\u001b[32m[1217 10:33:38 @DATSGANModel.py:213]\u001b[0m \u001b[91mCreating cell for bus_scale (in-edges: 2; ancestors: 2)\n",
      "\u001b[32m[1217 10:33:39 @DATSGANModel.py:213]\u001b[0m \u001b[91mCreating cell for day_of_week (in-edges: 2; ancestors: 3)\n",
      "\u001b[32m[1217 10:33:39 @DATSGANModel.py:213]\u001b[0m \u001b[91mCreating cell for purpose (in-edges: 1; ancestors: 4)\n",
      "\u001b[32m[1217 10:33:39 @DATSGANModel.py:213]\u001b[0m \u001b[91mCreating cell for start_time_linear (in-edges: 2; ancestors: 5)\n",
      "\u001b[32m[1217 10:33:39 @DATSGANModel.py:213]\u001b[0m \u001b[91mCreating cell for distance (in-edges: 1; ancestors: 5)\n",
      "\u001b[32m[1217 10:33:39 @DATSGANModel.py:213]\u001b[0m \u001b[91mCreating cell for driving_traffic_percent (in-edges: 3; ancestors: 6)\n",
      "\u001b[32m[1217 10:33:39 @DATSGANModel.py:213]\u001b[0m \u001b[91mCreating cell for cost_driving_fuel (in-edges: 2; ancestors: 8)\n",
      "\u001b[32m[1217 10:33:39 @DATSGANModel.py:213]\u001b[0m \u001b[91mCreating cell for dur_driving (in-edges: 1; ancestors: 6)\n",
      "\u001b[32m[1217 10:33:39 @DATSGANModel.py:213]\u001b[0m \u001b[91mCreating cell for dur_walking (in-edges: 1; ancestors: 6)\n",
      "\u001b[32m[1217 10:33:39 @DATSGANModel.py:213]\u001b[0m \u001b[91mCreating cell for dur_cycling (in-edges: 1; ancestors: 6)\n",
      "\u001b[32m[1217 10:33:39 @DATSGANModel.py:213]\u001b[0m \u001b[91mCreating cell for dur_pt_access (in-edges: 1; ancestors: 6)\n",
      "\u001b[32m[1217 10:33:39 @DATSGANModel.py:213]\u001b[0m \u001b[91mCreating cell for pt_n_interchanges (in-edges: 1; ancestors: 6)\n",
      "\u001b[32m[1217 10:33:39 @DATSGANModel.py:213]\u001b[0m \u001b[91mCreating cell for cost_driving_con_charge (in-edges: 5; ancestors: 11)\n",
      "\u001b[32m[1217 10:33:39 @DATSGANModel.py:213]\u001b[0m \u001b[91mCreating cell for dur_pt_rail (in-edges: 2; ancestors: 7)\n",
      "\u001b[32m[1217 10:33:40 @DATSGANModel.py:213]\u001b[0m \u001b[91mCreating cell for dur_pt_bus (in-edges: 2; ancestors: 7)\n",
      "\u001b[32m[1217 10:33:40 @DATSGANModel.py:213]\u001b[0m \u001b[91mCreating cell for dur_pt_int (in-edges: 2; ancestors: 7)\n",
      "\u001b[32m[1217 10:33:40 @DATSGANModel.py:213]\u001b[0m \u001b[91mCreating cell for cost_transit (in-edges: 5; ancestors: 12)\n",
      "\u001b[32m[1217 10:33:40 @DATSGANModel.py:213]\u001b[0m \u001b[91mCreating cell for travel_mode (in-edges: 21; ancestors: 26)\n",
      "\u001b[32m[1217 10:33:40 @sessinit.py:87]\u001b[0m \u001b[5m\u001b[31mWRN\u001b[0m The following variables are in the checkpoint, but not found in the graph: global_step\n",
      "INFO:tensorflow:Graph was finalized.\n",
      "INFO:tensorflow:Running local_init_op.\n",
      "INFO:tensorflow:Done running local_init_op.\n",
      "\u001b[32m[1217 10:33:42 @sessinit.py:114]\u001b[0m Restoring checkpoint from ../output/LPMC/WGAN_OR_01/model\\model-52499 ...\n",
      "INFO:tensorflow:Restoring parameters from ../output/LPMC/WGAN_OR_01/model\\model-52499\n",
      "\u001b[32m[1217 10:33:42 @DATSGAN.py:267]\u001b[0m Loading Preprocessor!\n"
     ]
    },
    {
     "name": "stderr",
     "output_type": "stream",
     "text": [
      "|                                                                                          |35/?[00:01<00:00,29.31it/s]\n"
     ]
    },
    {
     "name": "stdout",
     "output_type": "stream",
     "text": [
      "\u001b[32m[1217 10:33:44 @DATSGAN.py:267]\u001b[0m Loading Preprocessor!\n"
     ]
    },
    {
     "name": "stderr",
     "output_type": "stream",
     "text": [
      "|                                                                                          |35/?[00:00<00:00,51.10it/s]\n"
     ]
    },
    {
     "name": "stdout",
     "output_type": "stream",
     "text": [
      "\u001b[32m[1217 10:33:45 @DATSGAN.py:267]\u001b[0m Loading Preprocessor!\n"
     ]
    },
    {
     "name": "stderr",
     "output_type": "stream",
     "text": [
      "|                                                                                          |35/?[00:00<00:00,50.99it/s]\n"
     ]
    },
    {
     "name": "stdout",
     "output_type": "stream",
     "text": [
      "\u001b[32m[1217 10:33:46 @DATSGAN.py:267]\u001b[0m Loading Preprocessor!\n"
     ]
    },
    {
     "name": "stderr",
     "output_type": "stream",
     "text": [
      "|                                                                                          |35/?[00:00<00:00,49.17it/s]\n"
     ]
    },
    {
     "name": "stdout",
     "output_type": "stream",
     "text": [
      "\u001b[32m[1217 10:33:47 @DATSGAN.py:267]\u001b[0m Loading Preprocessor!\n"
     ]
    },
    {
     "name": "stderr",
     "output_type": "stream",
     "text": [
      "|                                                                                          |35/?[00:00<00:00,50.19it/s]\n"
     ]
    },
    {
     "name": "stdout",
     "output_type": "stream",
     "text": [
      "\u001b[32m[1217 10:33:48 @DATSGAN.py:267]\u001b[0m Loading Preprocessor!\n"
     ]
    },
    {
     "name": "stderr",
     "output_type": "stream",
     "text": [
      "|                                                                                          |35/?[00:00<00:00,49.97it/s]\n"
     ]
    },
    {
     "name": "stdout",
     "output_type": "stream",
     "text": [
      "\u001b[32m[1217 10:33:49 @DATSGAN.py:267]\u001b[0m Loading Preprocessor!\n"
     ]
    },
    {
     "name": "stderr",
     "output_type": "stream",
     "text": [
      "|                                                                                          |35/?[00:00<00:00,50.30it/s]\n"
     ]
    },
    {
     "name": "stdout",
     "output_type": "stream",
     "text": [
      "\u001b[32m[1217 10:33:50 @DATSGAN.py:267]\u001b[0m Loading Preprocessor!\n"
     ]
    },
    {
     "name": "stderr",
     "output_type": "stream",
     "text": [
      "|                                                                                          |35/?[00:00<00:00,51.13it/s]\n"
     ]
    },
    {
     "name": "stdout",
     "output_type": "stream",
     "text": [
      "\u001b[32m[1217 10:33:51 @DATSGAN.py:267]\u001b[0m Loading Preprocessor!\n"
     ]
    },
    {
     "name": "stderr",
     "output_type": "stream",
     "text": [
      "|                                                                                          |35/?[00:00<00:00,51.43it/s]\n"
     ]
    },
    {
     "name": "stdout",
     "output_type": "stream",
     "text": [
      "\u001b[32m[1217 10:33:52 @DATSGAN.py:267]\u001b[0m Loading Preprocessor!\n"
     ]
    },
    {
     "name": "stderr",
     "output_type": "stream",
     "text": [
      "|                                                                                          |35/?[00:00<00:00,48.30it/s]\n"
     ]
    },
    {
     "name": "stdout",
     "output_type": "stream",
     "text": [
      "\u001b[32m[1217 10:33:53 @DATSGAN.py:267]\u001b[0m Loading Preprocessor!\n"
     ]
    },
    {
     "name": "stderr",
     "output_type": "stream",
     "text": [
      "|                                                                                          |35/?[00:00<00:00,49.94it/s]\n"
     ]
    },
    {
     "name": "stdout",
     "output_type": "stream",
     "text": [
      "\u001b[32m[1217 10:33:54 @DATSGAN.py:267]\u001b[0m Loading Preprocessor!\n"
     ]
    },
    {
     "name": "stderr",
     "output_type": "stream",
     "text": [
      "|                                                                                          |35/?[00:00<00:00,50.26it/s]\n"
     ]
    },
    {
     "name": "stdout",
     "output_type": "stream",
     "text": [
      "\u001b[32m[1217 10:33:55 @DATSGAN.py:267]\u001b[0m Loading Preprocessor!\n"
     ]
    },
    {
     "name": "stderr",
     "output_type": "stream",
     "text": [
      "|                                                                                          |35/?[00:00<00:00,48.83it/s]\n"
     ]
    },
    {
     "name": "stdout",
     "output_type": "stream",
     "text": [
      "\u001b[32m[1217 10:33:56 @DATSGAN.py:267]\u001b[0m Loading Preprocessor!\n"
     ]
    },
    {
     "name": "stderr",
     "output_type": "stream",
     "text": [
      "|                                                                                          |35/?[00:00<00:00,50.53it/s]\n"
     ]
    },
    {
     "name": "stdout",
     "output_type": "stream",
     "text": [
      "\u001b[32m[1217 10:33:57 @DATSGAN.py:267]\u001b[0m Loading Preprocessor!\n"
     ]
    },
    {
     "name": "stderr",
     "output_type": "stream",
     "text": [
      "|                                                                                          |35/?[00:00<00:00,50.73it/s]\n"
     ]
    },
    {
     "name": "stdout",
     "output_type": "stream",
     "text": [
      "\u001b[32m[1217 10:33:58 @DATSGAN.py:267]\u001b[0m Loading Preprocessor!\n"
     ]
    },
    {
     "name": "stderr",
     "output_type": "stream",
     "text": [
      "|                                                                                          |35/?[00:00<00:00,49.69it/s]\n"
     ]
    },
    {
     "name": "stdout",
     "output_type": "stream",
     "text": [
      "\u001b[32m[1217 10:34:00 @DATSGAN.py:267]\u001b[0m Loading Preprocessor!\n"
     ]
    },
    {
     "name": "stderr",
     "output_type": "stream",
     "text": [
      "|                                                                                          |35/?[00:00<00:00,49.83it/s]\n"
     ]
    },
    {
     "name": "stdout",
     "output_type": "stream",
     "text": [
      "\u001b[32m[1217 10:34:01 @DATSGAN.py:267]\u001b[0m Loading Preprocessor!\n"
     ]
    },
    {
     "name": "stderr",
     "output_type": "stream",
     "text": [
      "|                                                                                          |35/?[00:00<00:00,49.35it/s]\n"
     ]
    },
    {
     "name": "stdout",
     "output_type": "stream",
     "text": [
      "\u001b[32m[1217 10:34:02 @DATSGAN.py:267]\u001b[0m Loading Preprocessor!\n"
     ]
    },
    {
     "name": "stderr",
     "output_type": "stream",
     "text": [
      "|                                                                                          |35/?[00:00<00:00,49.12it/s]\n"
     ]
    },
    {
     "name": "stdout",
     "output_type": "stream",
     "text": [
      "\u001b[32m[1217 10:34:03 @DATSGAN.py:267]\u001b[0m Loading Preprocessor!\n"
     ]
    },
    {
     "name": "stderr",
     "output_type": "stream",
     "text": [
      "|                                                                                          |35/?[00:00<00:00,50.79it/s]\n"
     ]
    },
    {
     "name": "stdout",
     "output_type": "stream",
     "text": [
      "Sampling synthetic data from model \u001b[1mWGAN_OR_02\u001b[0m (32/60)\n",
      "\u001b[32m[1217 10:34:15 @DATSGANModel.py:213]\u001b[0m \u001b[91mCreating cell for travel_year (in-edges: 0; ancestors: 0)\n",
      "\u001b[32m[1217 10:34:15 @DATSGANModel.py:213]\u001b[0m \u001b[91mCreating cell for car_ownership (in-edges: 0; ancestors: 0)\n",
      "\u001b[32m[1217 10:34:15 @DATSGANModel.py:213]\u001b[0m \u001b[91mCreating cell for female (in-edges: 0; ancestors: 0)\n",
      "\u001b[32m[1217 10:34:16 @DATSGANModel.py:213]\u001b[0m \u001b[91mCreating cell for age (in-edges: 0; ancestors: 0)\n",
      "\u001b[32m[1217 10:34:16 @DATSGANModel.py:213]\u001b[0m \u001b[91mCreating cell for travel_month (in-edges: 1; ancestors: 1)\n",
      "\u001b[32m[1217 10:34:16 @DATSGANModel.py:213]\u001b[0m \u001b[91mCreating cell for fueltype (in-edges: 1; ancestors: 1)\n",
      "\u001b[32m[1217 10:34:16 @DATSGANModel.py:213]\u001b[0m \u001b[91mCreating cell for driving_license (in-edges: 3; ancestors: 3)\n",
      "\u001b[32m[1217 10:34:16 @DATSGANModel.py:213]\u001b[0m \u001b[91mCreating cell for faretype (in-edges: 1; ancestors: 1)\n",
      "\u001b[32m[1217 10:34:16 @DATSGANModel.py:213]\u001b[0m \u001b[91mCreating cell for travel_date (in-edges: 1; ancestors: 2)\n",
      "\u001b[32m[1217 10:34:16 @DATSGANModel.py:213]\u001b[0m \u001b[91mCreating cell for bus_scale (in-edges: 2; ancestors: 2)\n",
      "\u001b[32m[1217 10:34:16 @DATSGANModel.py:213]\u001b[0m \u001b[91mCreating cell for day_of_week (in-edges: 2; ancestors: 3)\n",
      "\u001b[32m[1217 10:34:16 @DATSGANModel.py:213]\u001b[0m \u001b[91mCreating cell for purpose (in-edges: 1; ancestors: 4)\n",
      "\u001b[32m[1217 10:34:16 @DATSGANModel.py:213]\u001b[0m \u001b[91mCreating cell for start_time_linear (in-edges: 2; ancestors: 5)\n",
      "\u001b[32m[1217 10:34:16 @DATSGANModel.py:213]\u001b[0m \u001b[91mCreating cell for distance (in-edges: 1; ancestors: 5)\n",
      "\u001b[32m[1217 10:34:16 @DATSGANModel.py:213]\u001b[0m \u001b[91mCreating cell for driving_traffic_percent (in-edges: 3; ancestors: 6)\n",
      "\u001b[32m[1217 10:34:17 @DATSGANModel.py:213]\u001b[0m \u001b[91mCreating cell for cost_driving_fuel (in-edges: 2; ancestors: 8)\n",
      "\u001b[32m[1217 10:34:17 @DATSGANModel.py:213]\u001b[0m \u001b[91mCreating cell for dur_driving (in-edges: 1; ancestors: 6)\n",
      "\u001b[32m[1217 10:34:17 @DATSGANModel.py:213]\u001b[0m \u001b[91mCreating cell for dur_walking (in-edges: 1; ancestors: 6)\n",
      "\u001b[32m[1217 10:34:17 @DATSGANModel.py:213]\u001b[0m \u001b[91mCreating cell for dur_cycling (in-edges: 1; ancestors: 6)\n",
      "\u001b[32m[1217 10:34:17 @DATSGANModel.py:213]\u001b[0m \u001b[91mCreating cell for dur_pt_access (in-edges: 1; ancestors: 6)\n",
      "\u001b[32m[1217 10:34:17 @DATSGANModel.py:213]\u001b[0m \u001b[91mCreating cell for pt_n_interchanges (in-edges: 1; ancestors: 6)\n",
      "\u001b[32m[1217 10:34:17 @DATSGANModel.py:213]\u001b[0m \u001b[91mCreating cell for cost_driving_con_charge (in-edges: 5; ancestors: 11)\n",
      "\u001b[32m[1217 10:34:17 @DATSGANModel.py:213]\u001b[0m \u001b[91mCreating cell for dur_pt_rail (in-edges: 2; ancestors: 7)\n",
      "\u001b[32m[1217 10:34:17 @DATSGANModel.py:213]\u001b[0m \u001b[91mCreating cell for dur_pt_bus (in-edges: 2; ancestors: 7)\n",
      "\u001b[32m[1217 10:34:17 @DATSGANModel.py:213]\u001b[0m \u001b[91mCreating cell for dur_pt_int (in-edges: 2; ancestors: 7)\n",
      "\u001b[32m[1217 10:34:18 @DATSGANModel.py:213]\u001b[0m \u001b[91mCreating cell for cost_transit (in-edges: 5; ancestors: 12)\n",
      "\u001b[32m[1217 10:34:18 @DATSGANModel.py:213]\u001b[0m \u001b[91mCreating cell for travel_mode (in-edges: 21; ancestors: 26)\n",
      "\u001b[32m[1217 10:34:18 @sessinit.py:87]\u001b[0m \u001b[5m\u001b[31mWRN\u001b[0m The following variables are in the checkpoint, but not found in the graph: global_step\n",
      "INFO:tensorflow:Graph was finalized.\n",
      "INFO:tensorflow:Running local_init_op.\n",
      "INFO:tensorflow:Done running local_init_op.\n",
      "\u001b[32m[1217 10:34:21 @sessinit.py:114]\u001b[0m Restoring checkpoint from ../output/LPMC/WGAN_OR_02/model\\model-52499 ...\n",
      "INFO:tensorflow:Restoring parameters from ../output/LPMC/WGAN_OR_02/model\\model-52499\n",
      "\u001b[32m[1217 10:34:21 @DATSGAN.py:267]\u001b[0m Loading Preprocessor!\n"
     ]
    },
    {
     "name": "stderr",
     "output_type": "stream",
     "text": [
      "|                                                                                          |35/?[00:01<00:00,20.54it/s]\n"
     ]
    },
    {
     "name": "stdout",
     "output_type": "stream",
     "text": [
      "\u001b[32m[1217 10:34:24 @DATSGAN.py:267]\u001b[0m Loading Preprocessor!\n"
     ]
    },
    {
     "name": "stderr",
     "output_type": "stream",
     "text": [
      "|                                                                                          |35/?[00:00<00:00,38.29it/s]\n"
     ]
    },
    {
     "name": "stdout",
     "output_type": "stream",
     "text": [
      "\u001b[32m[1217 10:34:25 @DATSGAN.py:267]\u001b[0m Loading Preprocessor!\n"
     ]
    },
    {
     "name": "stderr",
     "output_type": "stream",
     "text": [
      "|                                                                                          |35/?[00:00<00:00,38.00it/s]\n"
     ]
    },
    {
     "name": "stdout",
     "output_type": "stream",
     "text": [
      "\u001b[32m[1217 10:34:27 @DATSGAN.py:267]\u001b[0m Loading Preprocessor!\n"
     ]
    },
    {
     "name": "stderr",
     "output_type": "stream",
     "text": [
      "|                                                                                          |35/?[00:00<00:00,38.08it/s]\n"
     ]
    },
    {
     "name": "stdout",
     "output_type": "stream",
     "text": [
      "\u001b[32m[1217 10:34:28 @DATSGAN.py:267]\u001b[0m Loading Preprocessor!\n"
     ]
    },
    {
     "name": "stderr",
     "output_type": "stream",
     "text": [
      "|                                                                                          |35/?[00:00<00:00,38.23it/s]\n"
     ]
    },
    {
     "name": "stdout",
     "output_type": "stream",
     "text": [
      "\u001b[32m[1217 10:34:30 @DATSGAN.py:267]\u001b[0m Loading Preprocessor!\n"
     ]
    },
    {
     "name": "stderr",
     "output_type": "stream",
     "text": [
      "|                                                                                          |35/?[00:00<00:00,38.62it/s]\n"
     ]
    },
    {
     "name": "stdout",
     "output_type": "stream",
     "text": [
      "\u001b[32m[1217 10:34:31 @DATSGAN.py:267]\u001b[0m Loading Preprocessor!\n"
     ]
    },
    {
     "name": "stderr",
     "output_type": "stream",
     "text": [
      "|                                                                                          |35/?[00:00<00:00,39.01it/s]\n"
     ]
    },
    {
     "name": "stdout",
     "output_type": "stream",
     "text": [
      "\u001b[32m[1217 10:34:32 @DATSGAN.py:267]\u001b[0m Loading Preprocessor!\n"
     ]
    },
    {
     "name": "stderr",
     "output_type": "stream",
     "text": [
      "|                                                                                          |35/?[00:00<00:00,38.50it/s]\n"
     ]
    },
    {
     "name": "stdout",
     "output_type": "stream",
     "text": [
      "\u001b[32m[1217 10:34:34 @DATSGAN.py:267]\u001b[0m Loading Preprocessor!\n"
     ]
    },
    {
     "name": "stderr",
     "output_type": "stream",
     "text": [
      "|                                                                                          |35/?[00:00<00:00,38.37it/s]\n"
     ]
    },
    {
     "name": "stdout",
     "output_type": "stream",
     "text": [
      "\u001b[32m[1217 10:34:35 @DATSGAN.py:267]\u001b[0m Loading Preprocessor!\n"
     ]
    },
    {
     "name": "stderr",
     "output_type": "stream",
     "text": [
      "|                                                                                          |35/?[00:00<00:00,37.43it/s]\n"
     ]
    },
    {
     "name": "stdout",
     "output_type": "stream",
     "text": [
      "\u001b[32m[1217 10:34:37 @DATSGAN.py:267]\u001b[0m Loading Preprocessor!\n"
     ]
    },
    {
     "name": "stderr",
     "output_type": "stream",
     "text": [
      "|                                                                                          |35/?[00:00<00:00,38.25it/s]\n"
     ]
    },
    {
     "name": "stdout",
     "output_type": "stream",
     "text": [
      "\u001b[32m[1217 10:34:38 @DATSGAN.py:267]\u001b[0m Loading Preprocessor!\n"
     ]
    },
    {
     "name": "stderr",
     "output_type": "stream",
     "text": [
      "|                                                                                          |35/?[00:00<00:00,37.88it/s]\n"
     ]
    },
    {
     "name": "stdout",
     "output_type": "stream",
     "text": [
      "\u001b[32m[1217 10:34:40 @DATSGAN.py:267]\u001b[0m Loading Preprocessor!\n"
     ]
    },
    {
     "name": "stderr",
     "output_type": "stream",
     "text": [
      "|                                                                                          |35/?[00:00<00:00,37.80it/s]\n"
     ]
    },
    {
     "name": "stdout",
     "output_type": "stream",
     "text": [
      "\u001b[32m[1217 10:34:41 @DATSGAN.py:267]\u001b[0m Loading Preprocessor!\n"
     ]
    },
    {
     "name": "stderr",
     "output_type": "stream",
     "text": [
      "|                                                                                          |35/?[00:00<00:00,38.23it/s]\n"
     ]
    },
    {
     "name": "stdout",
     "output_type": "stream",
     "text": [
      "\u001b[32m[1217 10:34:43 @DATSGAN.py:267]\u001b[0m Loading Preprocessor!\n"
     ]
    },
    {
     "name": "stderr",
     "output_type": "stream",
     "text": [
      "|                                                                                          |35/?[00:00<00:00,38.75it/s]\n"
     ]
    },
    {
     "name": "stdout",
     "output_type": "stream",
     "text": [
      "\u001b[32m[1217 10:34:44 @DATSGAN.py:267]\u001b[0m Loading Preprocessor!\n"
     ]
    },
    {
     "name": "stderr",
     "output_type": "stream",
     "text": [
      "|                                                                                          |35/?[00:00<00:00,38.14it/s]\n"
     ]
    },
    {
     "name": "stdout",
     "output_type": "stream",
     "text": [
      "\u001b[32m[1217 10:34:46 @DATSGAN.py:267]\u001b[0m Loading Preprocessor!\n"
     ]
    },
    {
     "name": "stderr",
     "output_type": "stream",
     "text": [
      "|                                                                                          |35/?[00:00<00:00,38.60it/s]\n"
     ]
    },
    {
     "name": "stdout",
     "output_type": "stream",
     "text": [
      "\u001b[32m[1217 10:34:47 @DATSGAN.py:267]\u001b[0m Loading Preprocessor!\n"
     ]
    },
    {
     "name": "stderr",
     "output_type": "stream",
     "text": [
      "|                                                                                          |35/?[00:00<00:00,38.48it/s]\n"
     ]
    },
    {
     "name": "stdout",
     "output_type": "stream",
     "text": [
      "\u001b[32m[1217 10:34:48 @DATSGAN.py:267]\u001b[0m Loading Preprocessor!\n"
     ]
    },
    {
     "name": "stderr",
     "output_type": "stream",
     "text": [
      "|                                                                                          |35/?[00:00<00:00,36.83it/s]\n"
     ]
    },
    {
     "name": "stdout",
     "output_type": "stream",
     "text": [
      "\u001b[32m[1217 10:34:50 @DATSGAN.py:267]\u001b[0m Loading Preprocessor!\n"
     ]
    },
    {
     "name": "stderr",
     "output_type": "stream",
     "text": [
      "|                                                                                          |35/?[00:00<00:00,37.96it/s]\n"
     ]
    },
    {
     "name": "stdout",
     "output_type": "stream",
     "text": [
      "Sampling synthetic data from model \u001b[1mWGAN_OR_03\u001b[0m (33/60)\n",
      "\u001b[32m[1217 10:35:12 @DATSGANModel.py:213]\u001b[0m \u001b[91mCreating cell for travel_year (in-edges: 0; ancestors: 0)\n",
      "\u001b[32m[1217 10:35:12 @DATSGANModel.py:213]\u001b[0m \u001b[91mCreating cell for car_ownership (in-edges: 0; ancestors: 0)\n",
      "\u001b[32m[1217 10:35:12 @DATSGANModel.py:213]\u001b[0m \u001b[91mCreating cell for female (in-edges: 0; ancestors: 0)\n",
      "\u001b[32m[1217 10:35:13 @DATSGANModel.py:213]\u001b[0m \u001b[91mCreating cell for age (in-edges: 0; ancestors: 0)\n",
      "\u001b[32m[1217 10:35:13 @DATSGANModel.py:213]\u001b[0m \u001b[91mCreating cell for travel_month (in-edges: 1; ancestors: 1)\n",
      "\u001b[32m[1217 10:35:13 @DATSGANModel.py:213]\u001b[0m \u001b[91mCreating cell for fueltype (in-edges: 1; ancestors: 1)\n",
      "\u001b[32m[1217 10:35:13 @DATSGANModel.py:213]\u001b[0m \u001b[91mCreating cell for driving_license (in-edges: 3; ancestors: 3)\n",
      "\u001b[32m[1217 10:35:13 @DATSGANModel.py:213]\u001b[0m \u001b[91mCreating cell for faretype (in-edges: 1; ancestors: 1)\n",
      "\u001b[32m[1217 10:35:13 @DATSGANModel.py:213]\u001b[0m \u001b[91mCreating cell for travel_date (in-edges: 1; ancestors: 2)\n",
      "\u001b[32m[1217 10:35:13 @DATSGANModel.py:213]\u001b[0m \u001b[91mCreating cell for bus_scale (in-edges: 2; ancestors: 2)\n",
      "\u001b[32m[1217 10:35:13 @DATSGANModel.py:213]\u001b[0m \u001b[91mCreating cell for day_of_week (in-edges: 2; ancestors: 3)\n",
      "\u001b[32m[1217 10:35:13 @DATSGANModel.py:213]\u001b[0m \u001b[91mCreating cell for purpose (in-edges: 1; ancestors: 4)\n",
      "\u001b[32m[1217 10:35:13 @DATSGANModel.py:213]\u001b[0m \u001b[91mCreating cell for start_time_linear (in-edges: 2; ancestors: 5)\n",
      "\u001b[32m[1217 10:35:14 @DATSGANModel.py:213]\u001b[0m \u001b[91mCreating cell for distance (in-edges: 1; ancestors: 5)\n",
      "\u001b[32m[1217 10:35:14 @DATSGANModel.py:213]\u001b[0m \u001b[91mCreating cell for driving_traffic_percent (in-edges: 3; ancestors: 6)\n",
      "\u001b[32m[1217 10:35:14 @DATSGANModel.py:213]\u001b[0m \u001b[91mCreating cell for cost_driving_fuel (in-edges: 2; ancestors: 8)\n",
      "\u001b[32m[1217 10:35:14 @DATSGANModel.py:213]\u001b[0m \u001b[91mCreating cell for dur_driving (in-edges: 1; ancestors: 6)\n",
      "\u001b[32m[1217 10:35:14 @DATSGANModel.py:213]\u001b[0m \u001b[91mCreating cell for dur_walking (in-edges: 1; ancestors: 6)\n",
      "\u001b[32m[1217 10:35:14 @DATSGANModel.py:213]\u001b[0m \u001b[91mCreating cell for dur_cycling (in-edges: 1; ancestors: 6)\n",
      "\u001b[32m[1217 10:35:14 @DATSGANModel.py:213]\u001b[0m \u001b[91mCreating cell for dur_pt_access (in-edges: 1; ancestors: 6)\n",
      "\u001b[32m[1217 10:35:14 @DATSGANModel.py:213]\u001b[0m \u001b[91mCreating cell for pt_n_interchanges (in-edges: 1; ancestors: 6)\n",
      "\u001b[32m[1217 10:35:14 @DATSGANModel.py:213]\u001b[0m \u001b[91mCreating cell for cost_driving_con_charge (in-edges: 5; ancestors: 11)\n",
      "\u001b[32m[1217 10:35:14 @DATSGANModel.py:213]\u001b[0m \u001b[91mCreating cell for dur_pt_rail (in-edges: 2; ancestors: 7)\n",
      "\u001b[32m[1217 10:35:15 @DATSGANModel.py:213]\u001b[0m \u001b[91mCreating cell for dur_pt_bus (in-edges: 2; ancestors: 7)\n",
      "\u001b[32m[1217 10:35:15 @DATSGANModel.py:213]\u001b[0m \u001b[91mCreating cell for dur_pt_int (in-edges: 2; ancestors: 7)\n",
      "\u001b[32m[1217 10:35:15 @DATSGANModel.py:213]\u001b[0m \u001b[91mCreating cell for cost_transit (in-edges: 5; ancestors: 12)\n",
      "\u001b[32m[1217 10:35:15 @DATSGANModel.py:213]\u001b[0m \u001b[91mCreating cell for travel_mode (in-edges: 21; ancestors: 26)\n",
      "\u001b[32m[1217 10:35:16 @sessinit.py:87]\u001b[0m \u001b[5m\u001b[31mWRN\u001b[0m The following variables are in the checkpoint, but not found in the graph: global_step\n",
      "INFO:tensorflow:Graph was finalized.\n",
      "INFO:tensorflow:Running local_init_op.\n",
      "INFO:tensorflow:Done running local_init_op.\n",
      "\u001b[32m[1217 10:35:19 @sessinit.py:114]\u001b[0m Restoring checkpoint from ../output/LPMC/WGAN_OR_03/model\\model-52499 ...\n",
      "INFO:tensorflow:Restoring parameters from ../output/LPMC/WGAN_OR_03/model\\model-52499\n",
      "\u001b[32m[1217 10:35:19 @DATSGAN.py:267]\u001b[0m Loading Preprocessor!\n"
     ]
    },
    {
     "name": "stderr",
     "output_type": "stream",
     "text": [
      "|                                                                                          |35/?[00:02<00:00,14.94it/s]\n"
     ]
    },
    {
     "name": "stdout",
     "output_type": "stream",
     "text": [
      "\u001b[32m[1217 10:35:22 @DATSGAN.py:267]\u001b[0m Loading Preprocessor!\n"
     ]
    },
    {
     "name": "stderr",
     "output_type": "stream",
     "text": [
      "|                                                                                          |35/?[00:01<00:00,23.23it/s]\n"
     ]
    },
    {
     "name": "stdout",
     "output_type": "stream",
     "text": [
      "\u001b[32m[1217 10:35:24 @DATSGAN.py:267]\u001b[0m Loading Preprocessor!\n"
     ]
    },
    {
     "name": "stderr",
     "output_type": "stream",
     "text": [
      "|                                                                                          |35/?[00:01<00:00,22.49it/s]\n"
     ]
    },
    {
     "name": "stdout",
     "output_type": "stream",
     "text": [
      "\u001b[32m[1217 10:35:26 @DATSGAN.py:267]\u001b[0m Loading Preprocessor!\n"
     ]
    },
    {
     "name": "stderr",
     "output_type": "stream",
     "text": [
      "|                                                                                          |35/?[00:01<00:00,22.27it/s]\n"
     ]
    },
    {
     "name": "stdout",
     "output_type": "stream",
     "text": [
      "\u001b[32m[1217 10:35:28 @DATSGAN.py:267]\u001b[0m Loading Preprocessor!\n"
     ]
    },
    {
     "name": "stderr",
     "output_type": "stream",
     "text": [
      "|                                                                                          |35/?[00:01<00:00,23.64it/s]\n"
     ]
    },
    {
     "name": "stdout",
     "output_type": "stream",
     "text": [
      "\u001b[32m[1217 10:35:30 @DATSGAN.py:267]\u001b[0m Loading Preprocessor!\n"
     ]
    },
    {
     "name": "stderr",
     "output_type": "stream",
     "text": [
      "|                                                                                          |35/?[00:01<00:00,23.05it/s]\n"
     ]
    },
    {
     "name": "stdout",
     "output_type": "stream",
     "text": [
      "\u001b[32m[1217 10:35:32 @DATSGAN.py:267]\u001b[0m Loading Preprocessor!\n"
     ]
    },
    {
     "name": "stderr",
     "output_type": "stream",
     "text": [
      "|                                                                                          |35/?[00:01<00:00,22.54it/s]\n"
     ]
    },
    {
     "name": "stdout",
     "output_type": "stream",
     "text": [
      "\u001b[32m[1217 10:35:35 @DATSGAN.py:267]\u001b[0m Loading Preprocessor!\n"
     ]
    },
    {
     "name": "stderr",
     "output_type": "stream",
     "text": [
      "|                                                                                          |35/?[00:01<00:00,22.58it/s]\n"
     ]
    },
    {
     "name": "stdout",
     "output_type": "stream",
     "text": [
      "\u001b[32m[1217 10:35:37 @DATSGAN.py:267]\u001b[0m Loading Preprocessor!\n"
     ]
    },
    {
     "name": "stderr",
     "output_type": "stream",
     "text": [
      "|                                                                                          |35/?[00:01<00:00,22.62it/s]\n"
     ]
    },
    {
     "name": "stdout",
     "output_type": "stream",
     "text": [
      "\u001b[32m[1217 10:35:39 @DATSGAN.py:267]\u001b[0m Loading Preprocessor!\n"
     ]
    },
    {
     "name": "stderr",
     "output_type": "stream",
     "text": [
      "|                                                                                          |35/?[00:01<00:00,23.41it/s]\n"
     ]
    },
    {
     "name": "stdout",
     "output_type": "stream",
     "text": [
      "\u001b[32m[1217 10:35:41 @DATSGAN.py:267]\u001b[0m Loading Preprocessor!\n"
     ]
    },
    {
     "name": "stderr",
     "output_type": "stream",
     "text": [
      "|                                                                                          |35/?[00:01<00:00,24.42it/s]\n"
     ]
    },
    {
     "name": "stdout",
     "output_type": "stream",
     "text": [
      "\u001b[32m[1217 10:35:43 @DATSGAN.py:267]\u001b[0m Loading Preprocessor!\n"
     ]
    },
    {
     "name": "stderr",
     "output_type": "stream",
     "text": [
      "|                                                                                          |35/?[00:01<00:00,23.34it/s]\n"
     ]
    },
    {
     "name": "stdout",
     "output_type": "stream",
     "text": [
      "\u001b[32m[1217 10:35:45 @DATSGAN.py:267]\u001b[0m Loading Preprocessor!\n"
     ]
    },
    {
     "name": "stderr",
     "output_type": "stream",
     "text": [
      "|                                                                                          |35/?[00:01<00:00,22.09it/s]\n"
     ]
    },
    {
     "name": "stdout",
     "output_type": "stream",
     "text": [
      "\u001b[32m[1217 10:35:47 @DATSGAN.py:267]\u001b[0m Loading Preprocessor!\n"
     ]
    },
    {
     "name": "stderr",
     "output_type": "stream",
     "text": [
      "|                                                                                          |35/?[00:01<00:00,21.64it/s]\n"
     ]
    },
    {
     "name": "stdout",
     "output_type": "stream",
     "text": [
      "\u001b[32m[1217 10:35:50 @DATSGAN.py:267]\u001b[0m Loading Preprocessor!\n"
     ]
    },
    {
     "name": "stderr",
     "output_type": "stream",
     "text": [
      "|                                                                                          |35/?[00:01<00:00,22.57it/s]\n"
     ]
    },
    {
     "name": "stdout",
     "output_type": "stream",
     "text": [
      "\u001b[32m[1217 10:35:52 @DATSGAN.py:267]\u001b[0m Loading Preprocessor!\n"
     ]
    },
    {
     "name": "stderr",
     "output_type": "stream",
     "text": [
      "|                                                                                          |35/?[00:01<00:00,22.63it/s]\n"
     ]
    },
    {
     "name": "stdout",
     "output_type": "stream",
     "text": [
      "\u001b[32m[1217 10:35:54 @DATSGAN.py:267]\u001b[0m Loading Preprocessor!\n"
     ]
    },
    {
     "name": "stderr",
     "output_type": "stream",
     "text": [
      "|                                                                                          |35/?[00:01<00:00,23.00it/s]\n"
     ]
    },
    {
     "name": "stdout",
     "output_type": "stream",
     "text": [
      "\u001b[32m[1217 10:35:56 @DATSGAN.py:267]\u001b[0m Loading Preprocessor!\n"
     ]
    },
    {
     "name": "stderr",
     "output_type": "stream",
     "text": [
      "|                                                                                          |35/?[00:01<00:00,21.38it/s]\n"
     ]
    },
    {
     "name": "stdout",
     "output_type": "stream",
     "text": [
      "\u001b[32m[1217 10:35:58 @DATSGAN.py:267]\u001b[0m Loading Preprocessor!\n"
     ]
    },
    {
     "name": "stderr",
     "output_type": "stream",
     "text": [
      "|                                                                                          |35/?[00:01<00:00,24.27it/s]\n"
     ]
    },
    {
     "name": "stdout",
     "output_type": "stream",
     "text": [
      "\u001b[32m[1217 10:36:00 @DATSGAN.py:267]\u001b[0m Loading Preprocessor!\n"
     ]
    },
    {
     "name": "stderr",
     "output_type": "stream",
     "text": [
      "|                                                                                          |35/?[00:01<00:00,24.23it/s]\n"
     ]
    },
    {
     "name": "stdout",
     "output_type": "stream",
     "text": [
      "Sampling synthetic data from model \u001b[1mWGAN_OR_04\u001b[0m (34/60)\n",
      "\u001b[32m[1217 10:36:17 @DATSGANModel.py:213]\u001b[0m \u001b[91mCreating cell for travel_year (in-edges: 0; ancestors: 0)\n",
      "\u001b[32m[1217 10:36:17 @DATSGANModel.py:213]\u001b[0m \u001b[91mCreating cell for car_ownership (in-edges: 0; ancestors: 0)\n",
      "\u001b[32m[1217 10:36:18 @DATSGANModel.py:213]\u001b[0m \u001b[91mCreating cell for female (in-edges: 0; ancestors: 0)\n",
      "\u001b[32m[1217 10:36:18 @DATSGANModel.py:213]\u001b[0m \u001b[91mCreating cell for age (in-edges: 0; ancestors: 0)\n",
      "\u001b[32m[1217 10:36:18 @DATSGANModel.py:213]\u001b[0m \u001b[91mCreating cell for travel_month (in-edges: 1; ancestors: 1)\n",
      "\u001b[32m[1217 10:36:18 @DATSGANModel.py:213]\u001b[0m \u001b[91mCreating cell for fueltype (in-edges: 1; ancestors: 1)\n",
      "\u001b[32m[1217 10:36:18 @DATSGANModel.py:213]\u001b[0m \u001b[91mCreating cell for driving_license (in-edges: 3; ancestors: 3)\n",
      "\u001b[32m[1217 10:36:18 @DATSGANModel.py:213]\u001b[0m \u001b[91mCreating cell for faretype (in-edges: 1; ancestors: 1)\n",
      "\u001b[32m[1217 10:36:18 @DATSGANModel.py:213]\u001b[0m \u001b[91mCreating cell for travel_date (in-edges: 1; ancestors: 2)\n",
      "\u001b[32m[1217 10:36:18 @DATSGANModel.py:213]\u001b[0m \u001b[91mCreating cell for bus_scale (in-edges: 2; ancestors: 2)\n",
      "\u001b[32m[1217 10:36:18 @DATSGANModel.py:213]\u001b[0m \u001b[91mCreating cell for day_of_week (in-edges: 2; ancestors: 3)\n",
      "\u001b[32m[1217 10:36:18 @DATSGANModel.py:213]\u001b[0m \u001b[91mCreating cell for purpose (in-edges: 1; ancestors: 4)\n",
      "\u001b[32m[1217 10:36:19 @DATSGANModel.py:213]\u001b[0m \u001b[91mCreating cell for start_time_linear (in-edges: 2; ancestors: 5)\n",
      "\u001b[32m[1217 10:36:19 @DATSGANModel.py:213]\u001b[0m \u001b[91mCreating cell for distance (in-edges: 1; ancestors: 5)\n",
      "\u001b[32m[1217 10:36:19 @DATSGANModel.py:213]\u001b[0m \u001b[91mCreating cell for driving_traffic_percent (in-edges: 3; ancestors: 6)\n",
      "\u001b[32m[1217 10:36:19 @DATSGANModel.py:213]\u001b[0m \u001b[91mCreating cell for cost_driving_fuel (in-edges: 2; ancestors: 8)\n",
      "\u001b[32m[1217 10:36:19 @DATSGANModel.py:213]\u001b[0m \u001b[91mCreating cell for dur_driving (in-edges: 1; ancestors: 6)\n",
      "\u001b[32m[1217 10:36:19 @DATSGANModel.py:213]\u001b[0m \u001b[91mCreating cell for dur_walking (in-edges: 1; ancestors: 6)\n",
      "\u001b[32m[1217 10:36:19 @DATSGANModel.py:213]\u001b[0m \u001b[91mCreating cell for dur_cycling (in-edges: 1; ancestors: 6)\n",
      "\u001b[32m[1217 10:36:19 @DATSGANModel.py:213]\u001b[0m \u001b[91mCreating cell for dur_pt_access (in-edges: 1; ancestors: 6)\n",
      "\u001b[32m[1217 10:36:19 @DATSGANModel.py:213]\u001b[0m \u001b[91mCreating cell for pt_n_interchanges (in-edges: 1; ancestors: 6)\n",
      "\u001b[32m[1217 10:36:20 @DATSGANModel.py:213]\u001b[0m \u001b[91mCreating cell for cost_driving_con_charge (in-edges: 5; ancestors: 11)\n",
      "\u001b[32m[1217 10:36:20 @DATSGANModel.py:213]\u001b[0m \u001b[91mCreating cell for dur_pt_rail (in-edges: 2; ancestors: 7)\n",
      "\u001b[32m[1217 10:36:20 @DATSGANModel.py:213]\u001b[0m \u001b[91mCreating cell for dur_pt_bus (in-edges: 2; ancestors: 7)\n",
      "\u001b[32m[1217 10:36:20 @DATSGANModel.py:213]\u001b[0m \u001b[91mCreating cell for dur_pt_int (in-edges: 2; ancestors: 7)\n",
      "\u001b[32m[1217 10:36:20 @DATSGANModel.py:213]\u001b[0m \u001b[91mCreating cell for cost_transit (in-edges: 5; ancestors: 12)\n",
      "\u001b[32m[1217 10:36:20 @DATSGANModel.py:213]\u001b[0m \u001b[91mCreating cell for travel_mode (in-edges: 21; ancestors: 26)\n",
      "\u001b[32m[1217 10:36:21 @sessinit.py:87]\u001b[0m \u001b[5m\u001b[31mWRN\u001b[0m The following variables are in the checkpoint, but not found in the graph: global_step\n",
      "INFO:tensorflow:Graph was finalized.\n",
      "INFO:tensorflow:Running local_init_op.\n",
      "INFO:tensorflow:Done running local_init_op.\n",
      "\u001b[32m[1217 10:36:24 @sessinit.py:114]\u001b[0m Restoring checkpoint from ../output/LPMC/WGAN_OR_04/model\\model-52499 ...\n",
      "INFO:tensorflow:Restoring parameters from ../output/LPMC/WGAN_OR_04/model\\model-52499\n",
      "\u001b[32m[1217 10:36:24 @DATSGAN.py:267]\u001b[0m Loading Preprocessor!\n"
     ]
    },
    {
     "name": "stderr",
     "output_type": "stream",
     "text": [
      "|                                                                                          |35/?[00:02<00:00,14.89it/s]\n"
     ]
    },
    {
     "name": "stdout",
     "output_type": "stream",
     "text": [
      "\u001b[32m[1217 10:36:27 @DATSGAN.py:267]\u001b[0m Loading Preprocessor!\n"
     ]
    },
    {
     "name": "stderr",
     "output_type": "stream",
     "text": [
      "|                                                                                          |35/?[00:01<00:00,23.08it/s]\n"
     ]
    },
    {
     "name": "stdout",
     "output_type": "stream",
     "text": [
      "\u001b[32m[1217 10:36:29 @DATSGAN.py:267]\u001b[0m Loading Preprocessor!\n"
     ]
    },
    {
     "name": "stderr",
     "output_type": "stream",
     "text": [
      "|                                                                                          |35/?[00:01<00:00,25.42it/s]\n"
     ]
    },
    {
     "name": "stdout",
     "output_type": "stream",
     "text": [
      "\u001b[32m[1217 10:36:31 @DATSGAN.py:267]\u001b[0m Loading Preprocessor!\n"
     ]
    },
    {
     "name": "stderr",
     "output_type": "stream",
     "text": [
      "|                                                                                          |35/?[00:01<00:00,24.89it/s]\n"
     ]
    },
    {
     "name": "stdout",
     "output_type": "stream",
     "text": [
      "\u001b[32m[1217 10:36:33 @DATSGAN.py:267]\u001b[0m Loading Preprocessor!\n"
     ]
    },
    {
     "name": "stderr",
     "output_type": "stream",
     "text": [
      "|                                                                                          |35/?[00:01<00:00,22.94it/s]\n"
     ]
    },
    {
     "name": "stdout",
     "output_type": "stream",
     "text": [
      "\u001b[32m[1217 10:36:35 @DATSGAN.py:267]\u001b[0m Loading Preprocessor!\n"
     ]
    },
    {
     "name": "stderr",
     "output_type": "stream",
     "text": [
      "|                                                                                          |35/?[00:01<00:00,24.47it/s]\n"
     ]
    },
    {
     "name": "stdout",
     "output_type": "stream",
     "text": [
      "\u001b[32m[1217 10:36:37 @DATSGAN.py:267]\u001b[0m Loading Preprocessor!\n"
     ]
    },
    {
     "name": "stderr",
     "output_type": "stream",
     "text": [
      "|                                                                                          |35/?[00:01<00:00,22.28it/s]\n"
     ]
    },
    {
     "name": "stdout",
     "output_type": "stream",
     "text": [
      "\u001b[32m[1217 10:36:39 @DATSGAN.py:267]\u001b[0m Loading Preprocessor!\n"
     ]
    },
    {
     "name": "stderr",
     "output_type": "stream",
     "text": [
      "|                                                                                          |35/?[00:01<00:00,22.71it/s]\n"
     ]
    },
    {
     "name": "stdout",
     "output_type": "stream",
     "text": [
      "\u001b[32m[1217 10:36:41 @DATSGAN.py:267]\u001b[0m Loading Preprocessor!\n"
     ]
    },
    {
     "name": "stderr",
     "output_type": "stream",
     "text": [
      "|                                                                                          |35/?[00:01<00:00,24.06it/s]\n"
     ]
    },
    {
     "name": "stdout",
     "output_type": "stream",
     "text": [
      "\u001b[32m[1217 10:36:43 @DATSGAN.py:267]\u001b[0m Loading Preprocessor!\n"
     ]
    },
    {
     "name": "stderr",
     "output_type": "stream",
     "text": [
      "|                                                                                          |35/?[00:01<00:00,23.74it/s]\n"
     ]
    },
    {
     "name": "stdout",
     "output_type": "stream",
     "text": [
      "\u001b[32m[1217 10:36:45 @DATSGAN.py:267]\u001b[0m Loading Preprocessor!\n"
     ]
    },
    {
     "name": "stderr",
     "output_type": "stream",
     "text": [
      "|                                                                                          |35/?[00:01<00:00,23.92it/s]\n"
     ]
    },
    {
     "name": "stdout",
     "output_type": "stream",
     "text": [
      "\u001b[32m[1217 10:36:47 @DATSGAN.py:267]\u001b[0m Loading Preprocessor!\n"
     ]
    },
    {
     "name": "stderr",
     "output_type": "stream",
     "text": [
      "|                                                                                          |35/?[00:01<00:00,24.09it/s]\n"
     ]
    },
    {
     "name": "stdout",
     "output_type": "stream",
     "text": [
      "\u001b[32m[1217 10:36:49 @DATSGAN.py:267]\u001b[0m Loading Preprocessor!\n"
     ]
    },
    {
     "name": "stderr",
     "output_type": "stream",
     "text": [
      "|                                                                                          |35/?[00:01<00:00,24.55it/s]\n"
     ]
    },
    {
     "name": "stdout",
     "output_type": "stream",
     "text": [
      "\u001b[32m[1217 10:36:51 @DATSGAN.py:267]\u001b[0m Loading Preprocessor!\n"
     ]
    },
    {
     "name": "stderr",
     "output_type": "stream",
     "text": [
      "|                                                                                          |35/?[00:01<00:00,21.55it/s]\n"
     ]
    },
    {
     "name": "stdout",
     "output_type": "stream",
     "text": [
      "\u001b[32m[1217 10:36:53 @DATSGAN.py:267]\u001b[0m Loading Preprocessor!\n"
     ]
    },
    {
     "name": "stderr",
     "output_type": "stream",
     "text": [
      "|                                                                                          |35/?[00:01<00:00,22.69it/s]\n"
     ]
    },
    {
     "name": "stdout",
     "output_type": "stream",
     "text": [
      "\u001b[32m[1217 10:36:55 @DATSGAN.py:267]\u001b[0m Loading Preprocessor!\n"
     ]
    },
    {
     "name": "stderr",
     "output_type": "stream",
     "text": [
      "|                                                                                          |35/?[00:01<00:00,21.89it/s]\n"
     ]
    },
    {
     "name": "stdout",
     "output_type": "stream",
     "text": [
      "\u001b[32m[1217 10:36:57 @DATSGAN.py:267]\u001b[0m Loading Preprocessor!\n"
     ]
    },
    {
     "name": "stderr",
     "output_type": "stream",
     "text": [
      "|                                                                                          |35/?[00:01<00:00,21.89it/s]\n"
     ]
    },
    {
     "name": "stdout",
     "output_type": "stream",
     "text": [
      "\u001b[32m[1217 10:36:59 @DATSGAN.py:267]\u001b[0m Loading Preprocessor!\n"
     ]
    },
    {
     "name": "stderr",
     "output_type": "stream",
     "text": [
      "|                                                                                          |35/?[00:01<00:00,22.13it/s]\n"
     ]
    },
    {
     "name": "stdout",
     "output_type": "stream",
     "text": [
      "\u001b[32m[1217 10:37:01 @DATSGAN.py:267]\u001b[0m Loading Preprocessor!\n"
     ]
    },
    {
     "name": "stderr",
     "output_type": "stream",
     "text": [
      "|                                                                                          |35/?[00:01<00:00,22.71it/s]\n"
     ]
    },
    {
     "name": "stdout",
     "output_type": "stream",
     "text": [
      "\u001b[32m[1217 10:37:03 @DATSGAN.py:267]\u001b[0m Loading Preprocessor!\n"
     ]
    },
    {
     "name": "stderr",
     "output_type": "stream",
     "text": [
      "|                                                                                          |35/?[00:01<00:00,21.83it/s]\n"
     ]
    },
    {
     "name": "stdout",
     "output_type": "stream",
     "text": [
      "Sampling synthetic data from model \u001b[1mWGAN_OR_05\u001b[0m (35/60)\n",
      "\u001b[32m[1217 10:37:20 @DATSGANModel.py:213]\u001b[0m \u001b[91mCreating cell for travel_year (in-edges: 0; ancestors: 0)\n",
      "\u001b[32m[1217 10:37:20 @DATSGANModel.py:213]\u001b[0m \u001b[91mCreating cell for car_ownership (in-edges: 0; ancestors: 0)\n",
      "\u001b[32m[1217 10:37:20 @DATSGANModel.py:213]\u001b[0m \u001b[91mCreating cell for female (in-edges: 0; ancestors: 0)\n",
      "\u001b[32m[1217 10:37:20 @DATSGANModel.py:213]\u001b[0m \u001b[91mCreating cell for age (in-edges: 0; ancestors: 0)\n",
      "\u001b[32m[1217 10:37:20 @DATSGANModel.py:213]\u001b[0m \u001b[91mCreating cell for travel_month (in-edges: 1; ancestors: 1)\n",
      "\u001b[32m[1217 10:37:20 @DATSGANModel.py:213]\u001b[0m \u001b[91mCreating cell for fueltype (in-edges: 1; ancestors: 1)\n",
      "\u001b[32m[1217 10:37:21 @DATSGANModel.py:213]\u001b[0m \u001b[91mCreating cell for driving_license (in-edges: 3; ancestors: 3)\n",
      "\u001b[32m[1217 10:37:21 @DATSGANModel.py:213]\u001b[0m \u001b[91mCreating cell for faretype (in-edges: 1; ancestors: 1)\n",
      "\u001b[32m[1217 10:37:21 @DATSGANModel.py:213]\u001b[0m \u001b[91mCreating cell for travel_date (in-edges: 1; ancestors: 2)\n",
      "\u001b[32m[1217 10:37:21 @DATSGANModel.py:213]\u001b[0m \u001b[91mCreating cell for bus_scale (in-edges: 2; ancestors: 2)\n",
      "\u001b[32m[1217 10:37:21 @DATSGANModel.py:213]\u001b[0m \u001b[91mCreating cell for day_of_week (in-edges: 2; ancestors: 3)\n",
      "\u001b[32m[1217 10:37:21 @DATSGANModel.py:213]\u001b[0m \u001b[91mCreating cell for purpose (in-edges: 1; ancestors: 4)\n",
      "\u001b[32m[1217 10:37:21 @DATSGANModel.py:213]\u001b[0m \u001b[91mCreating cell for start_time_linear (in-edges: 2; ancestors: 5)\n",
      "\u001b[32m[1217 10:37:22 @DATSGANModel.py:213]\u001b[0m \u001b[91mCreating cell for distance (in-edges: 1; ancestors: 5)\n",
      "\u001b[32m[1217 10:37:22 @DATSGANModel.py:213]\u001b[0m \u001b[91mCreating cell for driving_traffic_percent (in-edges: 3; ancestors: 6)\n",
      "\u001b[32m[1217 10:37:22 @DATSGANModel.py:213]\u001b[0m \u001b[91mCreating cell for cost_driving_fuel (in-edges: 2; ancestors: 8)\n",
      "\u001b[32m[1217 10:37:22 @DATSGANModel.py:213]\u001b[0m \u001b[91mCreating cell for dur_driving (in-edges: 1; ancestors: 6)\n",
      "\u001b[32m[1217 10:37:22 @DATSGANModel.py:213]\u001b[0m \u001b[91mCreating cell for dur_walking (in-edges: 1; ancestors: 6)\n",
      "\u001b[32m[1217 10:37:22 @DATSGANModel.py:213]\u001b[0m \u001b[91mCreating cell for dur_cycling (in-edges: 1; ancestors: 6)\n",
      "\u001b[32m[1217 10:37:22 @DATSGANModel.py:213]\u001b[0m \u001b[91mCreating cell for dur_pt_access (in-edges: 1; ancestors: 6)\n",
      "\u001b[32m[1217 10:37:22 @DATSGANModel.py:213]\u001b[0m \u001b[91mCreating cell for pt_n_interchanges (in-edges: 1; ancestors: 6)\n",
      "\u001b[32m[1217 10:37:22 @DATSGANModel.py:213]\u001b[0m \u001b[91mCreating cell for cost_driving_con_charge (in-edges: 5; ancestors: 11)\n",
      "\u001b[32m[1217 10:37:22 @DATSGANModel.py:213]\u001b[0m \u001b[91mCreating cell for dur_pt_rail (in-edges: 2; ancestors: 7)\n",
      "\u001b[32m[1217 10:37:23 @DATSGANModel.py:213]\u001b[0m \u001b[91mCreating cell for dur_pt_bus (in-edges: 2; ancestors: 7)\n",
      "\u001b[32m[1217 10:37:23 @DATSGANModel.py:213]\u001b[0m \u001b[91mCreating cell for dur_pt_int (in-edges: 2; ancestors: 7)\n",
      "\u001b[32m[1217 10:37:23 @DATSGANModel.py:213]\u001b[0m \u001b[91mCreating cell for cost_transit (in-edges: 5; ancestors: 12)\n",
      "\u001b[32m[1217 10:37:23 @DATSGANModel.py:213]\u001b[0m \u001b[91mCreating cell for travel_mode (in-edges: 21; ancestors: 26)\n",
      "\u001b[32m[1217 10:37:24 @sessinit.py:87]\u001b[0m \u001b[5m\u001b[31mWRN\u001b[0m The following variables are in the checkpoint, but not found in the graph: global_step\n",
      "INFO:tensorflow:Graph was finalized.\n",
      "INFO:tensorflow:Running local_init_op.\n",
      "INFO:tensorflow:Done running local_init_op.\n",
      "\u001b[32m[1217 10:37:27 @sessinit.py:114]\u001b[0m Restoring checkpoint from ../output/LPMC/WGAN_OR_05/model\\model-52499 ...\n",
      "INFO:tensorflow:Restoring parameters from ../output/LPMC/WGAN_OR_05/model\\model-52499\n",
      "\u001b[32m[1217 10:37:27 @DATSGAN.py:267]\u001b[0m Loading Preprocessor!\n"
     ]
    },
    {
     "name": "stderr",
     "output_type": "stream",
     "text": [
      "|                                                                                          |35/?[00:02<00:00,15.03it/s]\n"
     ]
    },
    {
     "name": "stdout",
     "output_type": "stream",
     "text": [
      "\u001b[32m[1217 10:37:30 @DATSGAN.py:267]\u001b[0m Loading Preprocessor!\n"
     ]
    },
    {
     "name": "stderr",
     "output_type": "stream",
     "text": [
      "|                                                                                          |35/?[00:01<00:00,23.20it/s]\n"
     ]
    },
    {
     "name": "stdout",
     "output_type": "stream",
     "text": [
      "\u001b[32m[1217 10:37:32 @DATSGAN.py:267]\u001b[0m Loading Preprocessor!\n"
     ]
    },
    {
     "name": "stderr",
     "output_type": "stream",
     "text": [
      "|                                                                                          |35/?[00:01<00:00,23.51it/s]\n"
     ]
    },
    {
     "name": "stdout",
     "output_type": "stream",
     "text": [
      "\u001b[32m[1217 10:37:34 @DATSGAN.py:267]\u001b[0m Loading Preprocessor!\n"
     ]
    },
    {
     "name": "stderr",
     "output_type": "stream",
     "text": [
      "|                                                                                          |35/?[00:01<00:00,23.17it/s]\n"
     ]
    },
    {
     "name": "stdout",
     "output_type": "stream",
     "text": [
      "\u001b[32m[1217 10:37:36 @DATSGAN.py:267]\u001b[0m Loading Preprocessor!\n"
     ]
    },
    {
     "name": "stderr",
     "output_type": "stream",
     "text": [
      "|                                                                                          |35/?[00:01<00:00,23.16it/s]\n"
     ]
    },
    {
     "name": "stdout",
     "output_type": "stream",
     "text": [
      "\u001b[32m[1217 10:37:38 @DATSGAN.py:267]\u001b[0m Loading Preprocessor!\n"
     ]
    },
    {
     "name": "stderr",
     "output_type": "stream",
     "text": [
      "|                                                                                          |35/?[00:01<00:00,24.07it/s]\n"
     ]
    },
    {
     "name": "stdout",
     "output_type": "stream",
     "text": [
      "\u001b[32m[1217 10:37:40 @DATSGAN.py:267]\u001b[0m Loading Preprocessor!\n"
     ]
    },
    {
     "name": "stderr",
     "output_type": "stream",
     "text": [
      "|                                                                                          |35/?[00:01<00:00,24.10it/s]\n"
     ]
    },
    {
     "name": "stdout",
     "output_type": "stream",
     "text": [
      "\u001b[32m[1217 10:37:42 @DATSGAN.py:267]\u001b[0m Loading Preprocessor!\n"
     ]
    },
    {
     "name": "stderr",
     "output_type": "stream",
     "text": [
      "|                                                                                          |35/?[00:01<00:00,24.50it/s]\n"
     ]
    },
    {
     "name": "stdout",
     "output_type": "stream",
     "text": [
      "\u001b[32m[1217 10:37:44 @DATSGAN.py:267]\u001b[0m Loading Preprocessor!\n"
     ]
    },
    {
     "name": "stderr",
     "output_type": "stream",
     "text": [
      "|                                                                                          |35/?[00:01<00:00,24.16it/s]\n"
     ]
    },
    {
     "name": "stdout",
     "output_type": "stream",
     "text": [
      "\u001b[32m[1217 10:37:46 @DATSGAN.py:267]\u001b[0m Loading Preprocessor!\n"
     ]
    },
    {
     "name": "stderr",
     "output_type": "stream",
     "text": [
      "|                                                                                          |35/?[00:01<00:00,23.55it/s]\n"
     ]
    },
    {
     "name": "stdout",
     "output_type": "stream",
     "text": [
      "\u001b[32m[1217 10:37:48 @DATSGAN.py:267]\u001b[0m Loading Preprocessor!\n"
     ]
    },
    {
     "name": "stderr",
     "output_type": "stream",
     "text": [
      "|                                                                                          |35/?[00:01<00:00,22.45it/s]\n"
     ]
    },
    {
     "name": "stdout",
     "output_type": "stream",
     "text": [
      "\u001b[32m[1217 10:37:50 @DATSGAN.py:267]\u001b[0m Loading Preprocessor!\n"
     ]
    },
    {
     "name": "stderr",
     "output_type": "stream",
     "text": [
      "|                                                                                          |35/?[00:01<00:00,23.94it/s]\n"
     ]
    },
    {
     "name": "stdout",
     "output_type": "stream",
     "text": [
      "\u001b[32m[1217 10:37:52 @DATSGAN.py:267]\u001b[0m Loading Preprocessor!\n"
     ]
    },
    {
     "name": "stderr",
     "output_type": "stream",
     "text": [
      "|                                                                                          |35/?[00:01<00:00,23.36it/s]\n"
     ]
    },
    {
     "name": "stdout",
     "output_type": "stream",
     "text": [
      "\u001b[32m[1217 10:37:54 @DATSGAN.py:267]\u001b[0m Loading Preprocessor!\n"
     ]
    },
    {
     "name": "stderr",
     "output_type": "stream",
     "text": [
      "|                                                                                          |35/?[00:01<00:00,24.43it/s]\n"
     ]
    },
    {
     "name": "stdout",
     "output_type": "stream",
     "text": [
      "\u001b[32m[1217 10:37:56 @DATSGAN.py:267]\u001b[0m Loading Preprocessor!\n"
     ]
    },
    {
     "name": "stderr",
     "output_type": "stream",
     "text": [
      "|                                                                                          |35/?[00:01<00:00,23.14it/s]\n"
     ]
    },
    {
     "name": "stdout",
     "output_type": "stream",
     "text": [
      "\u001b[32m[1217 10:37:58 @DATSGAN.py:267]\u001b[0m Loading Preprocessor!\n"
     ]
    },
    {
     "name": "stderr",
     "output_type": "stream",
     "text": [
      "|                                                                                          |35/?[00:01<00:00,23.30it/s]\n"
     ]
    },
    {
     "name": "stdout",
     "output_type": "stream",
     "text": [
      "\u001b[32m[1217 10:38:00 @DATSGAN.py:267]\u001b[0m Loading Preprocessor!\n"
     ]
    },
    {
     "name": "stderr",
     "output_type": "stream",
     "text": [
      "|                                                                                          |35/?[00:01<00:00,22.77it/s]\n"
     ]
    },
    {
     "name": "stdout",
     "output_type": "stream",
     "text": [
      "\u001b[32m[1217 10:38:02 @DATSGAN.py:267]\u001b[0m Loading Preprocessor!\n"
     ]
    },
    {
     "name": "stderr",
     "output_type": "stream",
     "text": [
      "|                                                                                          |35/?[00:01<00:00,23.48it/s]\n"
     ]
    },
    {
     "name": "stdout",
     "output_type": "stream",
     "text": [
      "\u001b[32m[1217 10:38:04 @DATSGAN.py:267]\u001b[0m Loading Preprocessor!\n"
     ]
    },
    {
     "name": "stderr",
     "output_type": "stream",
     "text": [
      "|                                                                                          |35/?[00:01<00:00,22.48it/s]\n"
     ]
    },
    {
     "name": "stdout",
     "output_type": "stream",
     "text": [
      "\u001b[32m[1217 10:38:06 @DATSGAN.py:267]\u001b[0m Loading Preprocessor!\n"
     ]
    },
    {
     "name": "stderr",
     "output_type": "stream",
     "text": [
      "|                                                                                          |35/?[00:01<00:00,23.55it/s]\n"
     ]
    },
    {
     "name": "stdout",
     "output_type": "stream",
     "text": [
      "Sampling synthetic data from model \u001b[1mWGAN_WI_01\u001b[0m (36/60)\n",
      "\u001b[32m[1217 10:38:23 @DATSGANModel.py:213]\u001b[0m \u001b[91mCreating cell for travel_year (in-edges: 0; ancestors: 0)\n",
      "\u001b[32m[1217 10:38:23 @DATSGANModel.py:213]\u001b[0m \u001b[91mCreating cell for car_ownership (in-edges: 0; ancestors: 0)\n",
      "\u001b[32m[1217 10:38:23 @DATSGANModel.py:213]\u001b[0m \u001b[91mCreating cell for female (in-edges: 0; ancestors: 0)\n",
      "\u001b[32m[1217 10:38:24 @DATSGANModel.py:213]\u001b[0m \u001b[91mCreating cell for age (in-edges: 0; ancestors: 0)\n",
      "\u001b[32m[1217 10:38:24 @DATSGANModel.py:213]\u001b[0m \u001b[91mCreating cell for travel_month (in-edges: 1; ancestors: 1)\n",
      "\u001b[32m[1217 10:38:24 @DATSGANModel.py:213]\u001b[0m \u001b[91mCreating cell for fueltype (in-edges: 1; ancestors: 1)\n",
      "\u001b[32m[1217 10:38:24 @DATSGANModel.py:213]\u001b[0m \u001b[91mCreating cell for driving_license (in-edges: 3; ancestors: 3)\n",
      "\u001b[32m[1217 10:38:24 @DATSGANModel.py:213]\u001b[0m \u001b[91mCreating cell for faretype (in-edges: 1; ancestors: 1)\n",
      "\u001b[32m[1217 10:38:24 @DATSGANModel.py:213]\u001b[0m \u001b[91mCreating cell for travel_date (in-edges: 1; ancestors: 2)\n",
      "\u001b[32m[1217 10:38:24 @DATSGANModel.py:213]\u001b[0m \u001b[91mCreating cell for bus_scale (in-edges: 2; ancestors: 2)\n",
      "\u001b[32m[1217 10:38:24 @DATSGANModel.py:213]\u001b[0m \u001b[91mCreating cell for day_of_week (in-edges: 2; ancestors: 3)\n",
      "\u001b[32m[1217 10:38:24 @DATSGANModel.py:213]\u001b[0m \u001b[91mCreating cell for purpose (in-edges: 1; ancestors: 4)\n",
      "\u001b[32m[1217 10:38:25 @DATSGANModel.py:213]\u001b[0m \u001b[91mCreating cell for start_time_linear (in-edges: 2; ancestors: 5)\n",
      "\u001b[32m[1217 10:38:25 @DATSGANModel.py:213]\u001b[0m \u001b[91mCreating cell for distance (in-edges: 1; ancestors: 5)\n",
      "\u001b[32m[1217 10:38:25 @DATSGANModel.py:213]\u001b[0m \u001b[91mCreating cell for driving_traffic_percent (in-edges: 3; ancestors: 6)\n",
      "\u001b[32m[1217 10:38:25 @DATSGANModel.py:213]\u001b[0m \u001b[91mCreating cell for cost_driving_fuel (in-edges: 2; ancestors: 8)\n",
      "\u001b[32m[1217 10:38:25 @DATSGANModel.py:213]\u001b[0m \u001b[91mCreating cell for dur_driving (in-edges: 1; ancestors: 6)\n",
      "\u001b[32m[1217 10:38:25 @DATSGANModel.py:213]\u001b[0m \u001b[91mCreating cell for dur_walking (in-edges: 1; ancestors: 6)\n",
      "\u001b[32m[1217 10:38:25 @DATSGANModel.py:213]\u001b[0m \u001b[91mCreating cell for dur_cycling (in-edges: 1; ancestors: 6)\n",
      "\u001b[32m[1217 10:38:25 @DATSGANModel.py:213]\u001b[0m \u001b[91mCreating cell for dur_pt_access (in-edges: 1; ancestors: 6)\n",
      "\u001b[32m[1217 10:38:25 @DATSGANModel.py:213]\u001b[0m \u001b[91mCreating cell for pt_n_interchanges (in-edges: 1; ancestors: 6)\n",
      "\u001b[32m[1217 10:38:26 @DATSGANModel.py:213]\u001b[0m \u001b[91mCreating cell for cost_driving_con_charge (in-edges: 5; ancestors: 11)\n",
      "\u001b[32m[1217 10:38:26 @DATSGANModel.py:213]\u001b[0m \u001b[91mCreating cell for dur_pt_rail (in-edges: 2; ancestors: 7)\n",
      "\u001b[32m[1217 10:38:26 @DATSGANModel.py:213]\u001b[0m \u001b[91mCreating cell for dur_pt_bus (in-edges: 2; ancestors: 7)\n",
      "\u001b[32m[1217 10:38:26 @DATSGANModel.py:213]\u001b[0m \u001b[91mCreating cell for dur_pt_int (in-edges: 2; ancestors: 7)\n",
      "\u001b[32m[1217 10:38:26 @DATSGANModel.py:213]\u001b[0m \u001b[91mCreating cell for cost_transit (in-edges: 5; ancestors: 12)\n",
      "\u001b[32m[1217 10:38:26 @DATSGANModel.py:213]\u001b[0m \u001b[91mCreating cell for travel_mode (in-edges: 21; ancestors: 26)\n",
      "\u001b[32m[1217 10:38:27 @sessinit.py:87]\u001b[0m \u001b[5m\u001b[31mWRN\u001b[0m The following variables are in the checkpoint, but not found in the graph: global_step\n",
      "INFO:tensorflow:Graph was finalized.\n",
      "INFO:tensorflow:Running local_init_op.\n",
      "INFO:tensorflow:Done running local_init_op.\n",
      "\u001b[32m[1217 10:38:30 @sessinit.py:114]\u001b[0m Restoring checkpoint from ../output/LPMC/WGAN_WI_01/model\\model-52499 ...\n",
      "INFO:tensorflow:Restoring parameters from ../output/LPMC/WGAN_WI_01/model\\model-52499\n",
      "\u001b[32m[1217 10:38:30 @DATSGAN.py:267]\u001b[0m Loading Preprocessor!\n"
     ]
    },
    {
     "name": "stderr",
     "output_type": "stream",
     "text": [
      "|                                                                                          |35/?[00:02<00:00,15.62it/s]\n"
     ]
    },
    {
     "name": "stdout",
     "output_type": "stream",
     "text": [
      "\u001b[32m[1217 10:38:33 @DATSGAN.py:267]\u001b[0m Loading Preprocessor!\n"
     ]
    },
    {
     "name": "stderr",
     "output_type": "stream",
     "text": [
      "|                                                                                          |35/?[00:01<00:00,23.05it/s]\n"
     ]
    },
    {
     "name": "stdout",
     "output_type": "stream",
     "text": [
      "\u001b[32m[1217 10:38:35 @DATSGAN.py:267]\u001b[0m Loading Preprocessor!\n"
     ]
    },
    {
     "name": "stderr",
     "output_type": "stream",
     "text": [
      "|                                                                                          |35/?[00:01<00:00,22.32it/s]\n"
     ]
    },
    {
     "name": "stdout",
     "output_type": "stream",
     "text": [
      "\u001b[32m[1217 10:38:37 @DATSGAN.py:267]\u001b[0m Loading Preprocessor!\n"
     ]
    },
    {
     "name": "stderr",
     "output_type": "stream",
     "text": [
      "|                                                                                          |35/?[00:01<00:00,23.74it/s]\n"
     ]
    },
    {
     "name": "stdout",
     "output_type": "stream",
     "text": [
      "\u001b[32m[1217 10:38:39 @DATSGAN.py:267]\u001b[0m Loading Preprocessor!\n"
     ]
    },
    {
     "name": "stderr",
     "output_type": "stream",
     "text": [
      "|                                                                                          |35/?[00:01<00:00,23.29it/s]\n"
     ]
    },
    {
     "name": "stdout",
     "output_type": "stream",
     "text": [
      "\u001b[32m[1217 10:38:41 @DATSGAN.py:267]\u001b[0m Loading Preprocessor!\n"
     ]
    },
    {
     "name": "stderr",
     "output_type": "stream",
     "text": [
      "|                                                                                          |35/?[00:01<00:00,22.20it/s]\n"
     ]
    },
    {
     "name": "stdout",
     "output_type": "stream",
     "text": [
      "\u001b[32m[1217 10:38:43 @DATSGAN.py:267]\u001b[0m Loading Preprocessor!\n"
     ]
    },
    {
     "name": "stderr",
     "output_type": "stream",
     "text": [
      "|                                                                                          |35/?[00:01<00:00,22.54it/s]\n"
     ]
    },
    {
     "name": "stdout",
     "output_type": "stream",
     "text": [
      "\u001b[32m[1217 10:38:45 @DATSGAN.py:267]\u001b[0m Loading Preprocessor!\n"
     ]
    },
    {
     "name": "stderr",
     "output_type": "stream",
     "text": [
      "|                                                                                          |35/?[00:01<00:00,22.40it/s]\n"
     ]
    },
    {
     "name": "stdout",
     "output_type": "stream",
     "text": [
      "\u001b[32m[1217 10:38:47 @DATSGAN.py:267]\u001b[0m Loading Preprocessor!\n"
     ]
    },
    {
     "name": "stderr",
     "output_type": "stream",
     "text": [
      "|                                                                                          |35/?[00:01<00:00,22.52it/s]\n"
     ]
    },
    {
     "name": "stdout",
     "output_type": "stream",
     "text": [
      "\u001b[32m[1217 10:38:50 @DATSGAN.py:267]\u001b[0m Loading Preprocessor!\n"
     ]
    },
    {
     "name": "stderr",
     "output_type": "stream",
     "text": [
      "|                                                                                          |35/?[00:01<00:00,25.23it/s]\n"
     ]
    },
    {
     "name": "stdout",
     "output_type": "stream",
     "text": [
      "\u001b[32m[1217 10:38:51 @DATSGAN.py:267]\u001b[0m Loading Preprocessor!\n"
     ]
    },
    {
     "name": "stderr",
     "output_type": "stream",
     "text": [
      "|                                                                                          |35/?[00:01<00:00,24.09it/s]\n"
     ]
    },
    {
     "name": "stdout",
     "output_type": "stream",
     "text": [
      "\u001b[32m[1217 10:38:53 @DATSGAN.py:267]\u001b[0m Loading Preprocessor!\n"
     ]
    },
    {
     "name": "stderr",
     "output_type": "stream",
     "text": [
      "|                                                                                          |35/?[00:01<00:00,22.58it/s]\n"
     ]
    },
    {
     "name": "stdout",
     "output_type": "stream",
     "text": [
      "\u001b[32m[1217 10:38:56 @DATSGAN.py:267]\u001b[0m Loading Preprocessor!\n"
     ]
    },
    {
     "name": "stderr",
     "output_type": "stream",
     "text": [
      "|                                                                                          |35/?[00:01<00:00,24.33it/s]\n"
     ]
    },
    {
     "name": "stdout",
     "output_type": "stream",
     "text": [
      "\u001b[32m[1217 10:38:58 @DATSGAN.py:267]\u001b[0m Loading Preprocessor!\n"
     ]
    },
    {
     "name": "stderr",
     "output_type": "stream",
     "text": [
      "|                                                                                          |35/?[00:01<00:00,23.27it/s]\n"
     ]
    },
    {
     "name": "stdout",
     "output_type": "stream",
     "text": [
      "\u001b[32m[1217 10:39:00 @DATSGAN.py:267]\u001b[0m Loading Preprocessor!\n"
     ]
    },
    {
     "name": "stderr",
     "output_type": "stream",
     "text": [
      "|                                                                                          |35/?[00:01<00:00,22.44it/s]\n"
     ]
    },
    {
     "name": "stdout",
     "output_type": "stream",
     "text": [
      "\u001b[32m[1217 10:39:02 @DATSGAN.py:267]\u001b[0m Loading Preprocessor!\n"
     ]
    },
    {
     "name": "stderr",
     "output_type": "stream",
     "text": [
      "|                                                                                          |35/?[00:01<00:00,23.35it/s]\n"
     ]
    },
    {
     "name": "stdout",
     "output_type": "stream",
     "text": [
      "\u001b[32m[1217 10:39:04 @DATSGAN.py:267]\u001b[0m Loading Preprocessor!\n"
     ]
    },
    {
     "name": "stderr",
     "output_type": "stream",
     "text": [
      "|                                                                                          |35/?[00:01<00:00,23.48it/s]\n"
     ]
    },
    {
     "name": "stdout",
     "output_type": "stream",
     "text": [
      "\u001b[32m[1217 10:39:06 @DATSGAN.py:267]\u001b[0m Loading Preprocessor!\n"
     ]
    },
    {
     "name": "stderr",
     "output_type": "stream",
     "text": [
      "|                                                                                          |35/?[00:01<00:00,22.12it/s]\n"
     ]
    },
    {
     "name": "stdout",
     "output_type": "stream",
     "text": [
      "\u001b[32m[1217 10:39:08 @DATSGAN.py:267]\u001b[0m Loading Preprocessor!\n"
     ]
    },
    {
     "name": "stderr",
     "output_type": "stream",
     "text": [
      "|                                                                                          |35/?[00:01<00:00,21.56it/s]\n"
     ]
    },
    {
     "name": "stdout",
     "output_type": "stream",
     "text": [
      "\u001b[32m[1217 10:39:10 @DATSGAN.py:267]\u001b[0m Loading Preprocessor!\n"
     ]
    },
    {
     "name": "stderr",
     "output_type": "stream",
     "text": [
      "|                                                                                          |35/?[00:01<00:00,22.39it/s]\n"
     ]
    },
    {
     "name": "stdout",
     "output_type": "stream",
     "text": [
      "Sampling synthetic data from model \u001b[1mWGAN_WI_02\u001b[0m (37/60)\n",
      "\u001b[32m[1217 10:39:27 @DATSGANModel.py:213]\u001b[0m \u001b[91mCreating cell for travel_year (in-edges: 0; ancestors: 0)\n",
      "\u001b[32m[1217 10:39:28 @DATSGANModel.py:213]\u001b[0m \u001b[91mCreating cell for car_ownership (in-edges: 0; ancestors: 0)\n",
      "\u001b[32m[1217 10:39:28 @DATSGANModel.py:213]\u001b[0m \u001b[91mCreating cell for female (in-edges: 0; ancestors: 0)\n",
      "\u001b[32m[1217 10:39:28 @DATSGANModel.py:213]\u001b[0m \u001b[91mCreating cell for age (in-edges: 0; ancestors: 0)\n",
      "\u001b[32m[1217 10:39:28 @DATSGANModel.py:213]\u001b[0m \u001b[91mCreating cell for travel_month (in-edges: 1; ancestors: 1)\n",
      "\u001b[32m[1217 10:39:28 @DATSGANModel.py:213]\u001b[0m \u001b[91mCreating cell for fueltype (in-edges: 1; ancestors: 1)\n",
      "\u001b[32m[1217 10:39:28 @DATSGANModel.py:213]\u001b[0m \u001b[91mCreating cell for driving_license (in-edges: 3; ancestors: 3)\n",
      "\u001b[32m[1217 10:39:28 @DATSGANModel.py:213]\u001b[0m \u001b[91mCreating cell for faretype (in-edges: 1; ancestors: 1)\n",
      "\u001b[32m[1217 10:39:28 @DATSGANModel.py:213]\u001b[0m \u001b[91mCreating cell for travel_date (in-edges: 1; ancestors: 2)\n",
      "\u001b[32m[1217 10:39:28 @DATSGANModel.py:213]\u001b[0m \u001b[91mCreating cell for bus_scale (in-edges: 2; ancestors: 2)\n",
      "\u001b[32m[1217 10:39:28 @DATSGANModel.py:213]\u001b[0m \u001b[91mCreating cell for day_of_week (in-edges: 2; ancestors: 3)\n",
      "\u001b[32m[1217 10:39:28 @DATSGANModel.py:213]\u001b[0m \u001b[91mCreating cell for purpose (in-edges: 1; ancestors: 4)\n",
      "\u001b[32m[1217 10:39:28 @DATSGANModel.py:213]\u001b[0m \u001b[91mCreating cell for start_time_linear (in-edges: 2; ancestors: 5)\n",
      "\u001b[32m[1217 10:39:29 @DATSGANModel.py:213]\u001b[0m \u001b[91mCreating cell for distance (in-edges: 1; ancestors: 5)\n",
      "\u001b[32m[1217 10:39:29 @DATSGANModel.py:213]\u001b[0m \u001b[91mCreating cell for driving_traffic_percent (in-edges: 3; ancestors: 6)\n",
      "\u001b[32m[1217 10:39:29 @DATSGANModel.py:213]\u001b[0m \u001b[91mCreating cell for cost_driving_fuel (in-edges: 2; ancestors: 8)\n",
      "\u001b[32m[1217 10:39:29 @DATSGANModel.py:213]\u001b[0m \u001b[91mCreating cell for dur_driving (in-edges: 1; ancestors: 6)\n",
      "\u001b[32m[1217 10:39:29 @DATSGANModel.py:213]\u001b[0m \u001b[91mCreating cell for dur_walking (in-edges: 1; ancestors: 6)\n",
      "\u001b[32m[1217 10:39:29 @DATSGANModel.py:213]\u001b[0m \u001b[91mCreating cell for dur_cycling (in-edges: 1; ancestors: 6)\n",
      "\u001b[32m[1217 10:39:29 @DATSGANModel.py:213]\u001b[0m \u001b[91mCreating cell for dur_pt_access (in-edges: 1; ancestors: 6)\n",
      "\u001b[32m[1217 10:39:29 @DATSGANModel.py:213]\u001b[0m \u001b[91mCreating cell for pt_n_interchanges (in-edges: 1; ancestors: 6)\n",
      "\u001b[32m[1217 10:39:29 @DATSGANModel.py:213]\u001b[0m \u001b[91mCreating cell for cost_driving_con_charge (in-edges: 5; ancestors: 11)\n",
      "\u001b[32m[1217 10:39:30 @DATSGANModel.py:213]\u001b[0m \u001b[91mCreating cell for dur_pt_rail (in-edges: 2; ancestors: 7)\n",
      "\u001b[32m[1217 10:39:30 @DATSGANModel.py:213]\u001b[0m \u001b[91mCreating cell for dur_pt_bus (in-edges: 2; ancestors: 7)\n",
      "\u001b[32m[1217 10:39:30 @DATSGANModel.py:213]\u001b[0m \u001b[91mCreating cell for dur_pt_int (in-edges: 2; ancestors: 7)\n",
      "\u001b[32m[1217 10:39:30 @DATSGANModel.py:213]\u001b[0m \u001b[91mCreating cell for cost_transit (in-edges: 5; ancestors: 12)\n",
      "\u001b[32m[1217 10:39:30 @DATSGANModel.py:213]\u001b[0m \u001b[91mCreating cell for travel_mode (in-edges: 21; ancestors: 26)\n",
      "\u001b[32m[1217 10:39:31 @sessinit.py:87]\u001b[0m \u001b[5m\u001b[31mWRN\u001b[0m The following variables are in the checkpoint, but not found in the graph: global_step\n",
      "INFO:tensorflow:Graph was finalized.\n",
      "INFO:tensorflow:Running local_init_op.\n",
      "INFO:tensorflow:Done running local_init_op.\n",
      "\u001b[32m[1217 10:39:34 @sessinit.py:114]\u001b[0m Restoring checkpoint from ../output/LPMC/WGAN_WI_02/model\\model-52499 ...\n",
      "INFO:tensorflow:Restoring parameters from ../output/LPMC/WGAN_WI_02/model\\model-52499\n",
      "\u001b[32m[1217 10:39:34 @DATSGAN.py:267]\u001b[0m Loading Preprocessor!\n"
     ]
    },
    {
     "name": "stderr",
     "output_type": "stream",
     "text": [
      "|                                                                                          |35/?[00:02<00:00,15.14it/s]\n"
     ]
    },
    {
     "name": "stdout",
     "output_type": "stream",
     "text": [
      "\u001b[32m[1217 10:39:37 @DATSGAN.py:267]\u001b[0m Loading Preprocessor!\n"
     ]
    },
    {
     "name": "stderr",
     "output_type": "stream",
     "text": [
      "|                                                                                          |35/?[00:01<00:00,24.37it/s]\n"
     ]
    },
    {
     "name": "stdout",
     "output_type": "stream",
     "text": [
      "\u001b[32m[1217 10:39:39 @DATSGAN.py:267]\u001b[0m Loading Preprocessor!\n"
     ]
    },
    {
     "name": "stderr",
     "output_type": "stream",
     "text": [
      "|                                                                                          |35/?[00:01<00:00,24.03it/s]\n"
     ]
    },
    {
     "name": "stdout",
     "output_type": "stream",
     "text": [
      "\u001b[32m[1217 10:39:41 @DATSGAN.py:267]\u001b[0m Loading Preprocessor!\n"
     ]
    },
    {
     "name": "stderr",
     "output_type": "stream",
     "text": [
      "|                                                                                          |35/?[00:01<00:00,23.68it/s]\n"
     ]
    },
    {
     "name": "stdout",
     "output_type": "stream",
     "text": [
      "\u001b[32m[1217 10:39:43 @DATSGAN.py:267]\u001b[0m Loading Preprocessor!\n"
     ]
    },
    {
     "name": "stderr",
     "output_type": "stream",
     "text": [
      "|                                                                                          |35/?[00:01<00:00,23.17it/s]\n"
     ]
    },
    {
     "name": "stdout",
     "output_type": "stream",
     "text": [
      "\u001b[32m[1217 10:39:45 @DATSGAN.py:267]\u001b[0m Loading Preprocessor!\n"
     ]
    },
    {
     "name": "stderr",
     "output_type": "stream",
     "text": [
      "|                                                                                          |35/?[00:01<00:00,22.19it/s]\n"
     ]
    },
    {
     "name": "stdout",
     "output_type": "stream",
     "text": [
      "\u001b[32m[1217 10:39:47 @DATSGAN.py:267]\u001b[0m Loading Preprocessor!\n"
     ]
    },
    {
     "name": "stderr",
     "output_type": "stream",
     "text": [
      "|                                                                                          |35/?[00:01<00:00,23.58it/s]\n"
     ]
    },
    {
     "name": "stdout",
     "output_type": "stream",
     "text": [
      "\u001b[32m[1217 10:39:49 @DATSGAN.py:267]\u001b[0m Loading Preprocessor!\n"
     ]
    },
    {
     "name": "stderr",
     "output_type": "stream",
     "text": [
      "|                                                                                          |35/?[00:01<00:00,22.42it/s]\n"
     ]
    },
    {
     "name": "stdout",
     "output_type": "stream",
     "text": [
      "\u001b[32m[1217 10:39:51 @DATSGAN.py:267]\u001b[0m Loading Preprocessor!\n"
     ]
    },
    {
     "name": "stderr",
     "output_type": "stream",
     "text": [
      "|                                                                                          |35/?[00:01<00:00,24.79it/s]\n"
     ]
    },
    {
     "name": "stdout",
     "output_type": "stream",
     "text": [
      "\u001b[32m[1217 10:39:53 @DATSGAN.py:267]\u001b[0m Loading Preprocessor!\n"
     ]
    },
    {
     "name": "stderr",
     "output_type": "stream",
     "text": [
      "|                                                                                          |35/?[00:01<00:00,24.17it/s]\n"
     ]
    },
    {
     "name": "stdout",
     "output_type": "stream",
     "text": [
      "\u001b[32m[1217 10:39:55 @DATSGAN.py:267]\u001b[0m Loading Preprocessor!\n"
     ]
    },
    {
     "name": "stderr",
     "output_type": "stream",
     "text": [
      "|                                                                                          |35/?[00:01<00:00,23.73it/s]\n"
     ]
    },
    {
     "name": "stdout",
     "output_type": "stream",
     "text": [
      "\u001b[32m[1217 10:39:57 @DATSGAN.py:267]\u001b[0m Loading Preprocessor!\n"
     ]
    },
    {
     "name": "stderr",
     "output_type": "stream",
     "text": [
      "|                                                                                          |35/?[00:01<00:00,24.31it/s]\n"
     ]
    },
    {
     "name": "stdout",
     "output_type": "stream",
     "text": [
      "\u001b[32m[1217 10:39:59 @DATSGAN.py:267]\u001b[0m Loading Preprocessor!\n"
     ]
    },
    {
     "name": "stderr",
     "output_type": "stream",
     "text": [
      "|                                                                                          |35/?[00:01<00:00,22.59it/s]\n"
     ]
    },
    {
     "name": "stdout",
     "output_type": "stream",
     "text": [
      "\u001b[32m[1217 10:40:01 @DATSGAN.py:267]\u001b[0m Loading Preprocessor!\n"
     ]
    },
    {
     "name": "stderr",
     "output_type": "stream",
     "text": [
      "|                                                                                          |35/?[00:01<00:00,24.14it/s]\n"
     ]
    },
    {
     "name": "stdout",
     "output_type": "stream",
     "text": [
      "\u001b[32m[1217 10:40:03 @DATSGAN.py:267]\u001b[0m Loading Preprocessor!\n"
     ]
    },
    {
     "name": "stderr",
     "output_type": "stream",
     "text": [
      "|                                                                                          |35/?[00:01<00:00,23.56it/s]\n"
     ]
    },
    {
     "name": "stdout",
     "output_type": "stream",
     "text": [
      "\u001b[32m[1217 10:40:05 @DATSGAN.py:267]\u001b[0m Loading Preprocessor!\n"
     ]
    },
    {
     "name": "stderr",
     "output_type": "stream",
     "text": [
      "|                                                                                          |35/?[00:01<00:00,24.03it/s]\n"
     ]
    },
    {
     "name": "stdout",
     "output_type": "stream",
     "text": [
      "\u001b[32m[1217 10:40:07 @DATSGAN.py:267]\u001b[0m Loading Preprocessor!\n"
     ]
    },
    {
     "name": "stderr",
     "output_type": "stream",
     "text": [
      "|                                                                                          |35/?[00:01<00:00,23.08it/s]\n"
     ]
    },
    {
     "name": "stdout",
     "output_type": "stream",
     "text": [
      "\u001b[32m[1217 10:40:09 @DATSGAN.py:267]\u001b[0m Loading Preprocessor!\n"
     ]
    },
    {
     "name": "stderr",
     "output_type": "stream",
     "text": [
      "|                                                                                          |35/?[00:01<00:00,22.29it/s]\n"
     ]
    },
    {
     "name": "stdout",
     "output_type": "stream",
     "text": [
      "\u001b[32m[1217 10:40:11 @DATSGAN.py:267]\u001b[0m Loading Preprocessor!\n"
     ]
    },
    {
     "name": "stderr",
     "output_type": "stream",
     "text": [
      "|                                                                                          |35/?[00:01<00:00,22.25it/s]\n"
     ]
    },
    {
     "name": "stdout",
     "output_type": "stream",
     "text": [
      "\u001b[32m[1217 10:40:13 @DATSGAN.py:267]\u001b[0m Loading Preprocessor!\n"
     ]
    },
    {
     "name": "stderr",
     "output_type": "stream",
     "text": [
      "|                                                                                          |35/?[00:01<00:00,24.08it/s]\n"
     ]
    },
    {
     "name": "stdout",
     "output_type": "stream",
     "text": [
      "Sampling synthetic data from model \u001b[1mWGAN_WI_03\u001b[0m (38/60)\n",
      "\u001b[32m[1217 10:40:30 @DATSGANModel.py:213]\u001b[0m \u001b[91mCreating cell for travel_year (in-edges: 0; ancestors: 0)\n",
      "\u001b[32m[1217 10:40:30 @DATSGANModel.py:213]\u001b[0m \u001b[91mCreating cell for car_ownership (in-edges: 0; ancestors: 0)\n",
      "\u001b[32m[1217 10:40:30 @DATSGANModel.py:213]\u001b[0m \u001b[91mCreating cell for female (in-edges: 0; ancestors: 0)\n",
      "\u001b[32m[1217 10:40:30 @DATSGANModel.py:213]\u001b[0m \u001b[91mCreating cell for age (in-edges: 0; ancestors: 0)\n",
      "\u001b[32m[1217 10:40:30 @DATSGANModel.py:213]\u001b[0m \u001b[91mCreating cell for travel_month (in-edges: 1; ancestors: 1)\n",
      "\u001b[32m[1217 10:40:30 @DATSGANModel.py:213]\u001b[0m \u001b[91mCreating cell for fueltype (in-edges: 1; ancestors: 1)\n",
      "\u001b[32m[1217 10:40:31 @DATSGANModel.py:213]\u001b[0m \u001b[91mCreating cell for driving_license (in-edges: 3; ancestors: 3)\n",
      "\u001b[32m[1217 10:40:31 @DATSGANModel.py:213]\u001b[0m \u001b[91mCreating cell for faretype (in-edges: 1; ancestors: 1)\n",
      "\u001b[32m[1217 10:40:31 @DATSGANModel.py:213]\u001b[0m \u001b[91mCreating cell for travel_date (in-edges: 1; ancestors: 2)\n",
      "\u001b[32m[1217 10:40:31 @DATSGANModel.py:213]\u001b[0m \u001b[91mCreating cell for bus_scale (in-edges: 2; ancestors: 2)\n",
      "\u001b[32m[1217 10:40:31 @DATSGANModel.py:213]\u001b[0m \u001b[91mCreating cell for day_of_week (in-edges: 2; ancestors: 3)\n",
      "\u001b[32m[1217 10:40:31 @DATSGANModel.py:213]\u001b[0m \u001b[91mCreating cell for purpose (in-edges: 1; ancestors: 4)\n",
      "\u001b[32m[1217 10:40:31 @DATSGANModel.py:213]\u001b[0m \u001b[91mCreating cell for start_time_linear (in-edges: 2; ancestors: 5)\n",
      "\u001b[32m[1217 10:40:31 @DATSGANModel.py:213]\u001b[0m \u001b[91mCreating cell for distance (in-edges: 1; ancestors: 5)\n",
      "\u001b[32m[1217 10:40:32 @DATSGANModel.py:213]\u001b[0m \u001b[91mCreating cell for driving_traffic_percent (in-edges: 3; ancestors: 6)\n",
      "\u001b[32m[1217 10:40:32 @DATSGANModel.py:213]\u001b[0m \u001b[91mCreating cell for cost_driving_fuel (in-edges: 2; ancestors: 8)\n",
      "\u001b[32m[1217 10:40:32 @DATSGANModel.py:213]\u001b[0m \u001b[91mCreating cell for dur_driving (in-edges: 1; ancestors: 6)\n",
      "\u001b[32m[1217 10:40:32 @DATSGANModel.py:213]\u001b[0m \u001b[91mCreating cell for dur_walking (in-edges: 1; ancestors: 6)\n",
      "\u001b[32m[1217 10:40:32 @DATSGANModel.py:213]\u001b[0m \u001b[91mCreating cell for dur_cycling (in-edges: 1; ancestors: 6)\n",
      "\u001b[32m[1217 10:40:32 @DATSGANModel.py:213]\u001b[0m \u001b[91mCreating cell for dur_pt_access (in-edges: 1; ancestors: 6)\n",
      "\u001b[32m[1217 10:40:32 @DATSGANModel.py:213]\u001b[0m \u001b[91mCreating cell for pt_n_interchanges (in-edges: 1; ancestors: 6)\n",
      "\u001b[32m[1217 10:40:32 @DATSGANModel.py:213]\u001b[0m \u001b[91mCreating cell for cost_driving_con_charge (in-edges: 5; ancestors: 11)\n",
      "\u001b[32m[1217 10:40:32 @DATSGANModel.py:213]\u001b[0m \u001b[91mCreating cell for dur_pt_rail (in-edges: 2; ancestors: 7)\n",
      "\u001b[32m[1217 10:40:33 @DATSGANModel.py:213]\u001b[0m \u001b[91mCreating cell for dur_pt_bus (in-edges: 2; ancestors: 7)\n",
      "\u001b[32m[1217 10:40:33 @DATSGANModel.py:213]\u001b[0m \u001b[91mCreating cell for dur_pt_int (in-edges: 2; ancestors: 7)\n",
      "\u001b[32m[1217 10:40:33 @DATSGANModel.py:213]\u001b[0m \u001b[91mCreating cell for cost_transit (in-edges: 5; ancestors: 12)\n",
      "\u001b[32m[1217 10:40:33 @DATSGANModel.py:213]\u001b[0m \u001b[91mCreating cell for travel_mode (in-edges: 21; ancestors: 26)\n",
      "\u001b[32m[1217 10:40:34 @sessinit.py:87]\u001b[0m \u001b[5m\u001b[31mWRN\u001b[0m The following variables are in the checkpoint, but not found in the graph: global_step\n",
      "INFO:tensorflow:Graph was finalized.\n",
      "INFO:tensorflow:Running local_init_op.\n",
      "INFO:tensorflow:Done running local_init_op.\n",
      "\u001b[32m[1217 10:40:36 @sessinit.py:114]\u001b[0m Restoring checkpoint from ../output/LPMC/WGAN_WI_03/model\\model-52499 ...\n",
      "INFO:tensorflow:Restoring parameters from ../output/LPMC/WGAN_WI_03/model\\model-52499\n",
      "\u001b[32m[1217 10:40:37 @DATSGAN.py:267]\u001b[0m Loading Preprocessor!\n"
     ]
    },
    {
     "name": "stderr",
     "output_type": "stream",
     "text": [
      "|                                                                                          |35/?[00:02<00:00,14.30it/s]\n"
     ]
    },
    {
     "name": "stdout",
     "output_type": "stream",
     "text": [
      "\u001b[32m[1217 10:40:40 @DATSGAN.py:267]\u001b[0m Loading Preprocessor!\n"
     ]
    },
    {
     "name": "stderr",
     "output_type": "stream",
     "text": [
      "|                                                                                          |35/?[00:01<00:00,21.42it/s]\n"
     ]
    },
    {
     "name": "stdout",
     "output_type": "stream",
     "text": [
      "\u001b[32m[1217 10:40:42 @DATSGAN.py:267]\u001b[0m Loading Preprocessor!\n"
     ]
    },
    {
     "name": "stderr",
     "output_type": "stream",
     "text": [
      "|                                                                                          |35/?[00:01<00:00,22.06it/s]\n"
     ]
    },
    {
     "name": "stdout",
     "output_type": "stream",
     "text": [
      "\u001b[32m[1217 10:40:44 @DATSGAN.py:267]\u001b[0m Loading Preprocessor!\n"
     ]
    },
    {
     "name": "stderr",
     "output_type": "stream",
     "text": [
      "|                                                                                          |35/?[00:01<00:00,22.65it/s]\n"
     ]
    },
    {
     "name": "stdout",
     "output_type": "stream",
     "text": [
      "\u001b[32m[1217 10:40:46 @DATSGAN.py:267]\u001b[0m Loading Preprocessor!\n"
     ]
    },
    {
     "name": "stderr",
     "output_type": "stream",
     "text": [
      "|                                                                                          |35/?[00:01<00:00,24.05it/s]\n"
     ]
    },
    {
     "name": "stdout",
     "output_type": "stream",
     "text": [
      "\u001b[32m[1217 10:40:48 @DATSGAN.py:267]\u001b[0m Loading Preprocessor!\n"
     ]
    },
    {
     "name": "stderr",
     "output_type": "stream",
     "text": [
      "|                                                                                          |35/?[00:01<00:00,22.79it/s]\n"
     ]
    },
    {
     "name": "stdout",
     "output_type": "stream",
     "text": [
      "\u001b[32m[1217 10:40:50 @DATSGAN.py:267]\u001b[0m Loading Preprocessor!\n"
     ]
    },
    {
     "name": "stderr",
     "output_type": "stream",
     "text": [
      "|                                                                                          |35/?[00:01<00:00,24.47it/s]\n"
     ]
    },
    {
     "name": "stdout",
     "output_type": "stream",
     "text": [
      "\u001b[32m[1217 10:40:52 @DATSGAN.py:267]\u001b[0m Loading Preprocessor!\n"
     ]
    },
    {
     "name": "stderr",
     "output_type": "stream",
     "text": [
      "|                                                                                          |35/?[00:01<00:00,23.74it/s]\n"
     ]
    },
    {
     "name": "stdout",
     "output_type": "stream",
     "text": [
      "\u001b[32m[1217 10:40:54 @DATSGAN.py:267]\u001b[0m Loading Preprocessor!\n"
     ]
    },
    {
     "name": "stderr",
     "output_type": "stream",
     "text": [
      "|                                                                                          |35/?[00:01<00:00,24.24it/s]\n"
     ]
    },
    {
     "name": "stdout",
     "output_type": "stream",
     "text": [
      "\u001b[32m[1217 10:40:56 @DATSGAN.py:267]\u001b[0m Loading Preprocessor!\n"
     ]
    },
    {
     "name": "stderr",
     "output_type": "stream",
     "text": [
      "|                                                                                          |35/?[00:01<00:00,23.00it/s]\n"
     ]
    },
    {
     "name": "stdout",
     "output_type": "stream",
     "text": [
      "\u001b[32m[1217 10:40:58 @DATSGAN.py:267]\u001b[0m Loading Preprocessor!\n"
     ]
    },
    {
     "name": "stderr",
     "output_type": "stream",
     "text": [
      "|                                                                                          |35/?[00:01<00:00,24.39it/s]\n"
     ]
    },
    {
     "name": "stdout",
     "output_type": "stream",
     "text": [
      "\u001b[32m[1217 10:41:00 @DATSGAN.py:267]\u001b[0m Loading Preprocessor!\n"
     ]
    },
    {
     "name": "stderr",
     "output_type": "stream",
     "text": [
      "|                                                                                          |35/?[00:01<00:00,22.43it/s]\n"
     ]
    },
    {
     "name": "stdout",
     "output_type": "stream",
     "text": [
      "\u001b[32m[1217 10:41:02 @DATSGAN.py:267]\u001b[0m Loading Preprocessor!\n"
     ]
    },
    {
     "name": "stderr",
     "output_type": "stream",
     "text": [
      "|                                                                                          |35/?[00:01<00:00,23.53it/s]\n"
     ]
    },
    {
     "name": "stdout",
     "output_type": "stream",
     "text": [
      "\u001b[32m[1217 10:41:04 @DATSGAN.py:267]\u001b[0m Loading Preprocessor!\n"
     ]
    },
    {
     "name": "stderr",
     "output_type": "stream",
     "text": [
      "|                                                                                          |35/?[00:01<00:00,22.73it/s]\n"
     ]
    },
    {
     "name": "stdout",
     "output_type": "stream",
     "text": [
      "\u001b[32m[1217 10:41:06 @DATSGAN.py:267]\u001b[0m Loading Preprocessor!\n"
     ]
    },
    {
     "name": "stderr",
     "output_type": "stream",
     "text": [
      "|                                                                                          |35/?[00:01<00:00,22.37it/s]\n"
     ]
    },
    {
     "name": "stdout",
     "output_type": "stream",
     "text": [
      "\u001b[32m[1217 10:41:08 @DATSGAN.py:267]\u001b[0m Loading Preprocessor!\n"
     ]
    },
    {
     "name": "stderr",
     "output_type": "stream",
     "text": [
      "|                                                                                          |35/?[00:01<00:00,22.16it/s]\n"
     ]
    },
    {
     "name": "stdout",
     "output_type": "stream",
     "text": [
      "\u001b[32m[1217 10:41:10 @DATSGAN.py:267]\u001b[0m Loading Preprocessor!\n"
     ]
    },
    {
     "name": "stderr",
     "output_type": "stream",
     "text": [
      "|                                                                                          |35/?[00:01<00:00,21.69it/s]\n"
     ]
    },
    {
     "name": "stdout",
     "output_type": "stream",
     "text": [
      "\u001b[32m[1217 10:41:13 @DATSGAN.py:267]\u001b[0m Loading Preprocessor!\n"
     ]
    },
    {
     "name": "stderr",
     "output_type": "stream",
     "text": [
      "|                                                                                          |35/?[00:01<00:00,21.38it/s]\n"
     ]
    },
    {
     "name": "stdout",
     "output_type": "stream",
     "text": [
      "\u001b[32m[1217 10:41:15 @DATSGAN.py:267]\u001b[0m Loading Preprocessor!\n"
     ]
    },
    {
     "name": "stderr",
     "output_type": "stream",
     "text": [
      "|                                                                                          |35/?[00:01<00:00,23.14it/s]\n"
     ]
    },
    {
     "name": "stdout",
     "output_type": "stream",
     "text": [
      "\u001b[32m[1217 10:41:17 @DATSGAN.py:267]\u001b[0m Loading Preprocessor!\n"
     ]
    },
    {
     "name": "stderr",
     "output_type": "stream",
     "text": [
      "|                                                                                          |35/?[00:01<00:00,22.22it/s]\n"
     ]
    },
    {
     "name": "stdout",
     "output_type": "stream",
     "text": [
      "Sampling synthetic data from model \u001b[1mWGAN_WI_04\u001b[0m (39/60)\n",
      "\u001b[32m[1217 10:41:34 @DATSGANModel.py:213]\u001b[0m \u001b[91mCreating cell for travel_year (in-edges: 0; ancestors: 0)\n",
      "\u001b[32m[1217 10:41:34 @DATSGANModel.py:213]\u001b[0m \u001b[91mCreating cell for car_ownership (in-edges: 0; ancestors: 0)\n",
      "\u001b[32m[1217 10:41:34 @DATSGANModel.py:213]\u001b[0m \u001b[91mCreating cell for female (in-edges: 0; ancestors: 0)\n",
      "\u001b[32m[1217 10:41:34 @DATSGANModel.py:213]\u001b[0m \u001b[91mCreating cell for age (in-edges: 0; ancestors: 0)\n",
      "\u001b[32m[1217 10:41:34 @DATSGANModel.py:213]\u001b[0m \u001b[91mCreating cell for travel_month (in-edges: 1; ancestors: 1)\n",
      "\u001b[32m[1217 10:41:34 @DATSGANModel.py:213]\u001b[0m \u001b[91mCreating cell for fueltype (in-edges: 1; ancestors: 1)\n",
      "\u001b[32m[1217 10:41:34 @DATSGANModel.py:213]\u001b[0m \u001b[91mCreating cell for driving_license (in-edges: 3; ancestors: 3)\n",
      "\u001b[32m[1217 10:41:34 @DATSGANModel.py:213]\u001b[0m \u001b[91mCreating cell for faretype (in-edges: 1; ancestors: 1)\n",
      "\u001b[32m[1217 10:41:34 @DATSGANModel.py:213]\u001b[0m \u001b[91mCreating cell for travel_date (in-edges: 1; ancestors: 2)\n",
      "\u001b[32m[1217 10:41:34 @DATSGANModel.py:213]\u001b[0m \u001b[91mCreating cell for bus_scale (in-edges: 2; ancestors: 2)\n",
      "\u001b[32m[1217 10:41:35 @DATSGANModel.py:213]\u001b[0m \u001b[91mCreating cell for day_of_week (in-edges: 2; ancestors: 3)\n",
      "\u001b[32m[1217 10:41:35 @DATSGANModel.py:213]\u001b[0m \u001b[91mCreating cell for purpose (in-edges: 1; ancestors: 4)\n",
      "\u001b[32m[1217 10:41:35 @DATSGANModel.py:213]\u001b[0m \u001b[91mCreating cell for start_time_linear (in-edges: 2; ancestors: 5)\n",
      "\u001b[32m[1217 10:41:35 @DATSGANModel.py:213]\u001b[0m \u001b[91mCreating cell for distance (in-edges: 1; ancestors: 5)\n",
      "\u001b[32m[1217 10:41:35 @DATSGANModel.py:213]\u001b[0m \u001b[91mCreating cell for driving_traffic_percent (in-edges: 3; ancestors: 6)\n",
      "\u001b[32m[1217 10:41:35 @DATSGANModel.py:213]\u001b[0m \u001b[91mCreating cell for cost_driving_fuel (in-edges: 2; ancestors: 8)\n",
      "\u001b[32m[1217 10:41:35 @DATSGANModel.py:213]\u001b[0m \u001b[91mCreating cell for dur_driving (in-edges: 1; ancestors: 6)\n",
      "\u001b[32m[1217 10:41:35 @DATSGANModel.py:213]\u001b[0m \u001b[91mCreating cell for dur_walking (in-edges: 1; ancestors: 6)\n",
      "\u001b[32m[1217 10:41:35 @DATSGANModel.py:213]\u001b[0m \u001b[91mCreating cell for dur_cycling (in-edges: 1; ancestors: 6)\n",
      "\u001b[32m[1217 10:41:36 @DATSGANModel.py:213]\u001b[0m \u001b[91mCreating cell for dur_pt_access (in-edges: 1; ancestors: 6)\n",
      "\u001b[32m[1217 10:41:36 @DATSGANModel.py:213]\u001b[0m \u001b[91mCreating cell for pt_n_interchanges (in-edges: 1; ancestors: 6)\n",
      "\u001b[32m[1217 10:41:36 @DATSGANModel.py:213]\u001b[0m \u001b[91mCreating cell for cost_driving_con_charge (in-edges: 5; ancestors: 11)\n",
      "\u001b[32m[1217 10:41:36 @DATSGANModel.py:213]\u001b[0m \u001b[91mCreating cell for dur_pt_rail (in-edges: 2; ancestors: 7)\n",
      "\u001b[32m[1217 10:41:36 @DATSGANModel.py:213]\u001b[0m \u001b[91mCreating cell for dur_pt_bus (in-edges: 2; ancestors: 7)\n",
      "\u001b[32m[1217 10:41:36 @DATSGANModel.py:213]\u001b[0m \u001b[91mCreating cell for dur_pt_int (in-edges: 2; ancestors: 7)\n",
      "\u001b[32m[1217 10:41:36 @DATSGANModel.py:213]\u001b[0m \u001b[91mCreating cell for cost_transit (in-edges: 5; ancestors: 12)\n",
      "\u001b[32m[1217 10:41:36 @DATSGANModel.py:213]\u001b[0m \u001b[91mCreating cell for travel_mode (in-edges: 21; ancestors: 26)\n",
      "\u001b[32m[1217 10:41:37 @sessinit.py:87]\u001b[0m \u001b[5m\u001b[31mWRN\u001b[0m The following variables are in the checkpoint, but not found in the graph: global_step\n",
      "INFO:tensorflow:Graph was finalized.\n",
      "INFO:tensorflow:Running local_init_op.\n",
      "INFO:tensorflow:Done running local_init_op.\n",
      "\u001b[32m[1217 10:41:40 @sessinit.py:114]\u001b[0m Restoring checkpoint from ../output/LPMC/WGAN_WI_04/model\\model-52499 ...\n",
      "INFO:tensorflow:Restoring parameters from ../output/LPMC/WGAN_WI_04/model\\model-52499\n",
      "\u001b[32m[1217 10:41:41 @DATSGAN.py:267]\u001b[0m Loading Preprocessor!\n"
     ]
    },
    {
     "name": "stderr",
     "output_type": "stream",
     "text": [
      "|                                                                                          |35/?[00:02<00:00,14.35it/s]\n"
     ]
    },
    {
     "name": "stdout",
     "output_type": "stream",
     "text": [
      "\u001b[32m[1217 10:41:44 @DATSGAN.py:267]\u001b[0m Loading Preprocessor!\n"
     ]
    },
    {
     "name": "stderr",
     "output_type": "stream",
     "text": [
      "|                                                                                          |35/?[00:01<00:00,22.47it/s]\n"
     ]
    },
    {
     "name": "stdout",
     "output_type": "stream",
     "text": [
      "\u001b[32m[1217 10:41:46 @DATSGAN.py:267]\u001b[0m Loading Preprocessor!\n"
     ]
    },
    {
     "name": "stderr",
     "output_type": "stream",
     "text": [
      "|                                                                                          |35/?[00:01<00:00,22.32it/s]\n"
     ]
    },
    {
     "name": "stdout",
     "output_type": "stream",
     "text": [
      "\u001b[32m[1217 10:41:48 @DATSGAN.py:267]\u001b[0m Loading Preprocessor!\n"
     ]
    },
    {
     "name": "stderr",
     "output_type": "stream",
     "text": [
      "|                                                                                          |35/?[00:01<00:00,22.89it/s]\n"
     ]
    },
    {
     "name": "stdout",
     "output_type": "stream",
     "text": [
      "\u001b[32m[1217 10:41:50 @DATSGAN.py:267]\u001b[0m Loading Preprocessor!\n"
     ]
    },
    {
     "name": "stderr",
     "output_type": "stream",
     "text": [
      "|                                                                                          |35/?[00:01<00:00,22.21it/s]\n"
     ]
    },
    {
     "name": "stdout",
     "output_type": "stream",
     "text": [
      "\u001b[32m[1217 10:41:52 @DATSGAN.py:267]\u001b[0m Loading Preprocessor!\n"
     ]
    },
    {
     "name": "stderr",
     "output_type": "stream",
     "text": [
      "|                                                                                          |35/?[00:01<00:00,22.58it/s]\n"
     ]
    },
    {
     "name": "stdout",
     "output_type": "stream",
     "text": [
      "\u001b[32m[1217 10:41:54 @DATSGAN.py:267]\u001b[0m Loading Preprocessor!\n"
     ]
    },
    {
     "name": "stderr",
     "output_type": "stream",
     "text": [
      "|                                                                                          |35/?[00:01<00:00,22.40it/s]\n"
     ]
    },
    {
     "name": "stdout",
     "output_type": "stream",
     "text": [
      "\u001b[32m[1217 10:41:56 @DATSGAN.py:267]\u001b[0m Loading Preprocessor!\n"
     ]
    },
    {
     "name": "stderr",
     "output_type": "stream",
     "text": [
      "|                                                                                          |35/?[00:01<00:00,23.33it/s]\n"
     ]
    },
    {
     "name": "stdout",
     "output_type": "stream",
     "text": [
      "\u001b[32m[1217 10:41:58 @DATSGAN.py:267]\u001b[0m Loading Preprocessor!\n"
     ]
    },
    {
     "name": "stderr",
     "output_type": "stream",
     "text": [
      "|                                                                                          |35/?[00:01<00:00,23.44it/s]\n"
     ]
    },
    {
     "name": "stdout",
     "output_type": "stream",
     "text": [
      "\u001b[32m[1217 10:42:00 @DATSGAN.py:267]\u001b[0m Loading Preprocessor!\n"
     ]
    },
    {
     "name": "stderr",
     "output_type": "stream",
     "text": [
      "|                                                                                          |35/?[00:01<00:00,24.48it/s]\n"
     ]
    },
    {
     "name": "stdout",
     "output_type": "stream",
     "text": [
      "\u001b[32m[1217 10:42:02 @DATSGAN.py:267]\u001b[0m Loading Preprocessor!\n"
     ]
    },
    {
     "name": "stderr",
     "output_type": "stream",
     "text": [
      "|                                                                                          |35/?[00:01<00:00,24.51it/s]\n"
     ]
    },
    {
     "name": "stdout",
     "output_type": "stream",
     "text": [
      "\u001b[32m[1217 10:42:04 @DATSGAN.py:267]\u001b[0m Loading Preprocessor!\n"
     ]
    },
    {
     "name": "stderr",
     "output_type": "stream",
     "text": [
      "|                                                                                          |35/?[00:01<00:00,22.42it/s]\n"
     ]
    },
    {
     "name": "stdout",
     "output_type": "stream",
     "text": [
      "\u001b[32m[1217 10:42:06 @DATSGAN.py:267]\u001b[0m Loading Preprocessor!\n"
     ]
    },
    {
     "name": "stderr",
     "output_type": "stream",
     "text": [
      "|                                                                                          |35/?[00:01<00:00,22.88it/s]\n"
     ]
    },
    {
     "name": "stdout",
     "output_type": "stream",
     "text": [
      "\u001b[32m[1217 10:42:08 @DATSGAN.py:267]\u001b[0m Loading Preprocessor!\n"
     ]
    },
    {
     "name": "stderr",
     "output_type": "stream",
     "text": [
      "|                                                                                          |35/?[00:01<00:00,23.06it/s]\n"
     ]
    },
    {
     "name": "stdout",
     "output_type": "stream",
     "text": [
      "\u001b[32m[1217 10:42:10 @DATSGAN.py:267]\u001b[0m Loading Preprocessor!\n"
     ]
    },
    {
     "name": "stderr",
     "output_type": "stream",
     "text": [
      "|                                                                                          |35/?[00:01<00:00,23.01it/s]\n"
     ]
    },
    {
     "name": "stdout",
     "output_type": "stream",
     "text": [
      "\u001b[32m[1217 10:42:12 @DATSGAN.py:267]\u001b[0m Loading Preprocessor!\n"
     ]
    },
    {
     "name": "stderr",
     "output_type": "stream",
     "text": [
      "|                                                                                          |35/?[00:01<00:00,23.86it/s]\n"
     ]
    },
    {
     "name": "stdout",
     "output_type": "stream",
     "text": [
      "\u001b[32m[1217 10:42:14 @DATSGAN.py:267]\u001b[0m Loading Preprocessor!\n"
     ]
    },
    {
     "name": "stderr",
     "output_type": "stream",
     "text": [
      "|                                                                                          |35/?[00:01<00:00,23.40it/s]\n"
     ]
    },
    {
     "name": "stdout",
     "output_type": "stream",
     "text": [
      "\u001b[32m[1217 10:42:16 @DATSGAN.py:267]\u001b[0m Loading Preprocessor!\n"
     ]
    },
    {
     "name": "stderr",
     "output_type": "stream",
     "text": [
      "|                                                                                          |35/?[00:01<00:00,21.63it/s]\n"
     ]
    },
    {
     "name": "stdout",
     "output_type": "stream",
     "text": [
      "\u001b[32m[1217 10:42:19 @DATSGAN.py:267]\u001b[0m Loading Preprocessor!\n"
     ]
    },
    {
     "name": "stderr",
     "output_type": "stream",
     "text": [
      "|                                                                                          |35/?[00:01<00:00,23.30it/s]\n"
     ]
    },
    {
     "name": "stdout",
     "output_type": "stream",
     "text": [
      "\u001b[32m[1217 10:42:21 @DATSGAN.py:267]\u001b[0m Loading Preprocessor!\n"
     ]
    },
    {
     "name": "stderr",
     "output_type": "stream",
     "text": [
      "|                                                                                          |35/?[00:01<00:00,23.90it/s]\n"
     ]
    },
    {
     "name": "stdout",
     "output_type": "stream",
     "text": [
      "Sampling synthetic data from model \u001b[1mWGAN_WI_05\u001b[0m (40/60)\n",
      "\u001b[32m[1217 10:42:37 @DATSGANModel.py:213]\u001b[0m \u001b[91mCreating cell for travel_year (in-edges: 0; ancestors: 0)\n",
      "\u001b[32m[1217 10:42:37 @DATSGANModel.py:213]\u001b[0m \u001b[91mCreating cell for car_ownership (in-edges: 0; ancestors: 0)\n",
      "\u001b[32m[1217 10:42:37 @DATSGANModel.py:213]\u001b[0m \u001b[91mCreating cell for female (in-edges: 0; ancestors: 0)\n",
      "\u001b[32m[1217 10:42:37 @DATSGANModel.py:213]\u001b[0m \u001b[91mCreating cell for age (in-edges: 0; ancestors: 0)\n",
      "\u001b[32m[1217 10:42:37 @DATSGANModel.py:213]\u001b[0m \u001b[91mCreating cell for travel_month (in-edges: 1; ancestors: 1)\n",
      "\u001b[32m[1217 10:42:38 @DATSGANModel.py:213]\u001b[0m \u001b[91mCreating cell for fueltype (in-edges: 1; ancestors: 1)\n",
      "\u001b[32m[1217 10:42:38 @DATSGANModel.py:213]\u001b[0m \u001b[91mCreating cell for driving_license (in-edges: 3; ancestors: 3)\n",
      "\u001b[32m[1217 10:42:38 @DATSGANModel.py:213]\u001b[0m \u001b[91mCreating cell for faretype (in-edges: 1; ancestors: 1)\n",
      "\u001b[32m[1217 10:42:38 @DATSGANModel.py:213]\u001b[0m \u001b[91mCreating cell for travel_date (in-edges: 1; ancestors: 2)\n",
      "\u001b[32m[1217 10:42:38 @DATSGANModel.py:213]\u001b[0m \u001b[91mCreating cell for bus_scale (in-edges: 2; ancestors: 2)\n",
      "\u001b[32m[1217 10:42:38 @DATSGANModel.py:213]\u001b[0m \u001b[91mCreating cell for day_of_week (in-edges: 2; ancestors: 3)\n",
      "\u001b[32m[1217 10:42:38 @DATSGANModel.py:213]\u001b[0m \u001b[91mCreating cell for purpose (in-edges: 1; ancestors: 4)\n",
      "\u001b[32m[1217 10:42:38 @DATSGANModel.py:213]\u001b[0m \u001b[91mCreating cell for start_time_linear (in-edges: 2; ancestors: 5)\n",
      "\u001b[32m[1217 10:42:38 @DATSGANModel.py:213]\u001b[0m \u001b[91mCreating cell for distance (in-edges: 1; ancestors: 5)\n",
      "\u001b[32m[1217 10:42:38 @DATSGANModel.py:213]\u001b[0m \u001b[91mCreating cell for driving_traffic_percent (in-edges: 3; ancestors: 6)\n",
      "\u001b[32m[1217 10:42:39 @DATSGANModel.py:213]\u001b[0m \u001b[91mCreating cell for cost_driving_fuel (in-edges: 2; ancestors: 8)\n",
      "\u001b[32m[1217 10:42:39 @DATSGANModel.py:213]\u001b[0m \u001b[91mCreating cell for dur_driving (in-edges: 1; ancestors: 6)\n",
      "\u001b[32m[1217 10:42:39 @DATSGANModel.py:213]\u001b[0m \u001b[91mCreating cell for dur_walking (in-edges: 1; ancestors: 6)\n",
      "\u001b[32m[1217 10:42:39 @DATSGANModel.py:213]\u001b[0m \u001b[91mCreating cell for dur_cycling (in-edges: 1; ancestors: 6)\n",
      "\u001b[32m[1217 10:42:39 @DATSGANModel.py:213]\u001b[0m \u001b[91mCreating cell for dur_pt_access (in-edges: 1; ancestors: 6)\n",
      "\u001b[32m[1217 10:42:39 @DATSGANModel.py:213]\u001b[0m \u001b[91mCreating cell for pt_n_interchanges (in-edges: 1; ancestors: 6)\n",
      "\u001b[32m[1217 10:42:39 @DATSGANModel.py:213]\u001b[0m \u001b[91mCreating cell for cost_driving_con_charge (in-edges: 5; ancestors: 11)\n",
      "\u001b[32m[1217 10:42:39 @DATSGANModel.py:213]\u001b[0m \u001b[91mCreating cell for dur_pt_rail (in-edges: 2; ancestors: 7)\n",
      "\u001b[32m[1217 10:42:39 @DATSGANModel.py:213]\u001b[0m \u001b[91mCreating cell for dur_pt_bus (in-edges: 2; ancestors: 7)\n",
      "\u001b[32m[1217 10:42:40 @DATSGANModel.py:213]\u001b[0m \u001b[91mCreating cell for dur_pt_int (in-edges: 2; ancestors: 7)\n",
      "\u001b[32m[1217 10:42:40 @DATSGANModel.py:213]\u001b[0m \u001b[91mCreating cell for cost_transit (in-edges: 5; ancestors: 12)\n",
      "\u001b[32m[1217 10:42:40 @DATSGANModel.py:213]\u001b[0m \u001b[91mCreating cell for travel_mode (in-edges: 21; ancestors: 26)\n",
      "\u001b[32m[1217 10:42:40 @sessinit.py:87]\u001b[0m \u001b[5m\u001b[31mWRN\u001b[0m The following variables are in the checkpoint, but not found in the graph: global_step\n",
      "INFO:tensorflow:Graph was finalized.\n",
      "INFO:tensorflow:Running local_init_op.\n",
      "INFO:tensorflow:Done running local_init_op.\n",
      "\u001b[32m[1217 10:42:43 @sessinit.py:114]\u001b[0m Restoring checkpoint from ../output/LPMC/WGAN_WI_05/model\\model-52499 ...\n",
      "INFO:tensorflow:Restoring parameters from ../output/LPMC/WGAN_WI_05/model\\model-52499\n",
      "\u001b[32m[1217 10:42:44 @DATSGAN.py:267]\u001b[0m Loading Preprocessor!\n"
     ]
    },
    {
     "name": "stderr",
     "output_type": "stream",
     "text": [
      "|                                                                                          |35/?[00:02<00:00,15.55it/s]\n"
     ]
    },
    {
     "name": "stdout",
     "output_type": "stream",
     "text": [
      "\u001b[32m[1217 10:42:47 @DATSGAN.py:267]\u001b[0m Loading Preprocessor!\n"
     ]
    },
    {
     "name": "stderr",
     "output_type": "stream",
     "text": [
      "|                                                                                          |35/?[00:01<00:00,24.15it/s]\n"
     ]
    },
    {
     "name": "stdout",
     "output_type": "stream",
     "text": [
      "\u001b[32m[1217 10:42:49 @DATSGAN.py:267]\u001b[0m Loading Preprocessor!\n"
     ]
    },
    {
     "name": "stderr",
     "output_type": "stream",
     "text": [
      "|                                                                                          |35/?[00:01<00:00,23.16it/s]\n"
     ]
    },
    {
     "name": "stdout",
     "output_type": "stream",
     "text": [
      "\u001b[32m[1217 10:42:51 @DATSGAN.py:267]\u001b[0m Loading Preprocessor!\n"
     ]
    },
    {
     "name": "stderr",
     "output_type": "stream",
     "text": [
      "|                                                                                          |35/?[00:01<00:00,22.44it/s]\n"
     ]
    },
    {
     "name": "stdout",
     "output_type": "stream",
     "text": [
      "\u001b[32m[1217 10:42:53 @DATSGAN.py:267]\u001b[0m Loading Preprocessor!\n"
     ]
    },
    {
     "name": "stderr",
     "output_type": "stream",
     "text": [
      "|                                                                                          |35/?[00:01<00:00,23.94it/s]\n"
     ]
    },
    {
     "name": "stdout",
     "output_type": "stream",
     "text": [
      "\u001b[32m[1217 10:42:55 @DATSGAN.py:267]\u001b[0m Loading Preprocessor!\n"
     ]
    },
    {
     "name": "stderr",
     "output_type": "stream",
     "text": [
      "|                                                                                          |35/?[00:01<00:00,22.30it/s]\n"
     ]
    },
    {
     "name": "stdout",
     "output_type": "stream",
     "text": [
      "\u001b[32m[1217 10:42:57 @DATSGAN.py:267]\u001b[0m Loading Preprocessor!\n"
     ]
    },
    {
     "name": "stderr",
     "output_type": "stream",
     "text": [
      "|                                                                                          |35/?[00:01<00:00,25.28it/s]\n"
     ]
    },
    {
     "name": "stdout",
     "output_type": "stream",
     "text": [
      "\u001b[32m[1217 10:42:59 @DATSGAN.py:267]\u001b[0m Loading Preprocessor!\n"
     ]
    },
    {
     "name": "stderr",
     "output_type": "stream",
     "text": [
      "|                                                                                          |35/?[00:01<00:00,22.93it/s]\n"
     ]
    },
    {
     "name": "stdout",
     "output_type": "stream",
     "text": [
      "\u001b[32m[1217 10:43:01 @DATSGAN.py:267]\u001b[0m Loading Preprocessor!\n"
     ]
    },
    {
     "name": "stderr",
     "output_type": "stream",
     "text": [
      "|                                                                                          |35/?[00:01<00:00,22.17it/s]\n"
     ]
    },
    {
     "name": "stdout",
     "output_type": "stream",
     "text": [
      "\u001b[32m[1217 10:43:03 @DATSGAN.py:267]\u001b[0m Loading Preprocessor!\n"
     ]
    },
    {
     "name": "stderr",
     "output_type": "stream",
     "text": [
      "|                                                                                          |35/?[00:01<00:00,22.41it/s]\n"
     ]
    },
    {
     "name": "stdout",
     "output_type": "stream",
     "text": [
      "\u001b[32m[1217 10:43:05 @DATSGAN.py:267]\u001b[0m Loading Preprocessor!\n"
     ]
    },
    {
     "name": "stderr",
     "output_type": "stream",
     "text": [
      "|                                                                                          |35/?[00:01<00:00,22.60it/s]\n"
     ]
    },
    {
     "name": "stdout",
     "output_type": "stream",
     "text": [
      "\u001b[32m[1217 10:43:07 @DATSGAN.py:267]\u001b[0m Loading Preprocessor!\n"
     ]
    },
    {
     "name": "stderr",
     "output_type": "stream",
     "text": [
      "|                                                                                          |35/?[00:01<00:00,24.24it/s]\n"
     ]
    },
    {
     "name": "stdout",
     "output_type": "stream",
     "text": [
      "\u001b[32m[1217 10:43:09 @DATSGAN.py:267]\u001b[0m Loading Preprocessor!\n"
     ]
    },
    {
     "name": "stderr",
     "output_type": "stream",
     "text": [
      "|                                                                                          |35/?[00:01<00:00,23.33it/s]\n"
     ]
    },
    {
     "name": "stdout",
     "output_type": "stream",
     "text": [
      "\u001b[32m[1217 10:43:11 @DATSGAN.py:267]\u001b[0m Loading Preprocessor!\n"
     ]
    },
    {
     "name": "stderr",
     "output_type": "stream",
     "text": [
      "|                                                                                          |35/?[00:01<00:00,23.27it/s]\n"
     ]
    },
    {
     "name": "stdout",
     "output_type": "stream",
     "text": [
      "\u001b[32m[1217 10:43:13 @DATSGAN.py:267]\u001b[0m Loading Preprocessor!\n"
     ]
    },
    {
     "name": "stderr",
     "output_type": "stream",
     "text": [
      "|                                                                                          |35/?[00:01<00:00,23.01it/s]\n"
     ]
    },
    {
     "name": "stdout",
     "output_type": "stream",
     "text": [
      "\u001b[32m[1217 10:43:15 @DATSGAN.py:267]\u001b[0m Loading Preprocessor!\n"
     ]
    },
    {
     "name": "stderr",
     "output_type": "stream",
     "text": [
      "|                                                                                          |35/?[00:01<00:00,22.93it/s]\n"
     ]
    },
    {
     "name": "stdout",
     "output_type": "stream",
     "text": [
      "\u001b[32m[1217 10:43:17 @DATSGAN.py:267]\u001b[0m Loading Preprocessor!\n"
     ]
    },
    {
     "name": "stderr",
     "output_type": "stream",
     "text": [
      "|                                                                                          |35/?[00:01<00:00,23.70it/s]\n"
     ]
    },
    {
     "name": "stdout",
     "output_type": "stream",
     "text": [
      "\u001b[32m[1217 10:43:20 @DATSGAN.py:267]\u001b[0m Loading Preprocessor!\n"
     ]
    },
    {
     "name": "stderr",
     "output_type": "stream",
     "text": [
      "|                                                                                          |35/?[00:01<00:00,23.47it/s]\n"
     ]
    },
    {
     "name": "stdout",
     "output_type": "stream",
     "text": [
      "\u001b[32m[1217 10:43:22 @DATSGAN.py:267]\u001b[0m Loading Preprocessor!\n"
     ]
    },
    {
     "name": "stderr",
     "output_type": "stream",
     "text": [
      "|                                                                                          |35/?[00:01<00:00,24.12it/s]\n"
     ]
    },
    {
     "name": "stdout",
     "output_type": "stream",
     "text": [
      "\u001b[32m[1217 10:43:24 @DATSGAN.py:267]\u001b[0m Loading Preprocessor!\n"
     ]
    },
    {
     "name": "stderr",
     "output_type": "stream",
     "text": [
      "|                                                                                          |35/?[00:01<00:00,22.25it/s]\n"
     ]
    },
    {
     "name": "stdout",
     "output_type": "stream",
     "text": [
      "Sampling synthetic data from model \u001b[1mWGAN_WO_01\u001b[0m (41/60)\n",
      "\u001b[32m[1217 10:43:40 @DATSGANModel.py:213]\u001b[0m \u001b[91mCreating cell for travel_year (in-edges: 0; ancestors: 0)\n",
      "\u001b[32m[1217 10:43:40 @DATSGANModel.py:213]\u001b[0m \u001b[91mCreating cell for car_ownership (in-edges: 0; ancestors: 0)\n",
      "\u001b[32m[1217 10:43:40 @DATSGANModel.py:213]\u001b[0m \u001b[91mCreating cell for female (in-edges: 0; ancestors: 0)\n",
      "\u001b[32m[1217 10:43:40 @DATSGANModel.py:213]\u001b[0m \u001b[91mCreating cell for age (in-edges: 0; ancestors: 0)\n",
      "\u001b[32m[1217 10:43:40 @DATSGANModel.py:213]\u001b[0m \u001b[91mCreating cell for travel_month (in-edges: 1; ancestors: 1)\n",
      "\u001b[32m[1217 10:43:41 @DATSGANModel.py:213]\u001b[0m \u001b[91mCreating cell for fueltype (in-edges: 1; ancestors: 1)\n",
      "\u001b[32m[1217 10:43:41 @DATSGANModel.py:213]\u001b[0m \u001b[91mCreating cell for driving_license (in-edges: 3; ancestors: 3)\n",
      "\u001b[32m[1217 10:43:41 @DATSGANModel.py:213]\u001b[0m \u001b[91mCreating cell for faretype (in-edges: 1; ancestors: 1)\n",
      "\u001b[32m[1217 10:43:41 @DATSGANModel.py:213]\u001b[0m \u001b[91mCreating cell for travel_date (in-edges: 1; ancestors: 2)\n",
      "\u001b[32m[1217 10:43:41 @DATSGANModel.py:213]\u001b[0m \u001b[91mCreating cell for bus_scale (in-edges: 2; ancestors: 2)\n",
      "\u001b[32m[1217 10:43:41 @DATSGANModel.py:213]\u001b[0m \u001b[91mCreating cell for day_of_week (in-edges: 2; ancestors: 3)\n",
      "\u001b[32m[1217 10:43:41 @DATSGANModel.py:213]\u001b[0m \u001b[91mCreating cell for purpose (in-edges: 1; ancestors: 4)\n",
      "\u001b[32m[1217 10:43:41 @DATSGANModel.py:213]\u001b[0m \u001b[91mCreating cell for start_time_linear (in-edges: 2; ancestors: 5)\n",
      "\u001b[32m[1217 10:43:41 @DATSGANModel.py:213]\u001b[0m \u001b[91mCreating cell for distance (in-edges: 1; ancestors: 5)\n",
      "\u001b[32m[1217 10:43:41 @DATSGANModel.py:213]\u001b[0m \u001b[91mCreating cell for driving_traffic_percent (in-edges: 3; ancestors: 6)\n",
      "\u001b[32m[1217 10:43:42 @DATSGANModel.py:213]\u001b[0m \u001b[91mCreating cell for cost_driving_fuel (in-edges: 2; ancestors: 8)\n",
      "\u001b[32m[1217 10:43:42 @DATSGANModel.py:213]\u001b[0m \u001b[91mCreating cell for dur_driving (in-edges: 1; ancestors: 6)\n",
      "\u001b[32m[1217 10:43:42 @DATSGANModel.py:213]\u001b[0m \u001b[91mCreating cell for dur_walking (in-edges: 1; ancestors: 6)\n",
      "\u001b[32m[1217 10:43:42 @DATSGANModel.py:213]\u001b[0m \u001b[91mCreating cell for dur_cycling (in-edges: 1; ancestors: 6)\n",
      "\u001b[32m[1217 10:43:42 @DATSGANModel.py:213]\u001b[0m \u001b[91mCreating cell for dur_pt_access (in-edges: 1; ancestors: 6)\n",
      "\u001b[32m[1217 10:43:42 @DATSGANModel.py:213]\u001b[0m \u001b[91mCreating cell for pt_n_interchanges (in-edges: 1; ancestors: 6)\n",
      "\u001b[32m[1217 10:43:42 @DATSGANModel.py:213]\u001b[0m \u001b[91mCreating cell for cost_driving_con_charge (in-edges: 5; ancestors: 11)\n",
      "\u001b[32m[1217 10:43:42 @DATSGANModel.py:213]\u001b[0m \u001b[91mCreating cell for dur_pt_rail (in-edges: 2; ancestors: 7)\n",
      "\u001b[32m[1217 10:43:42 @DATSGANModel.py:213]\u001b[0m \u001b[91mCreating cell for dur_pt_bus (in-edges: 2; ancestors: 7)\n",
      "\u001b[32m[1217 10:43:43 @DATSGANModel.py:213]\u001b[0m \u001b[91mCreating cell for dur_pt_int (in-edges: 2; ancestors: 7)\n",
      "\u001b[32m[1217 10:43:43 @DATSGANModel.py:213]\u001b[0m \u001b[91mCreating cell for cost_transit (in-edges: 5; ancestors: 12)\n",
      "\u001b[32m[1217 10:43:43 @DATSGANModel.py:213]\u001b[0m \u001b[91mCreating cell for travel_mode (in-edges: 21; ancestors: 26)\n",
      "\u001b[32m[1217 10:43:43 @sessinit.py:87]\u001b[0m \u001b[5m\u001b[31mWRN\u001b[0m The following variables are in the checkpoint, but not found in the graph: global_step\n",
      "INFO:tensorflow:Graph was finalized.\n",
      "INFO:tensorflow:Running local_init_op.\n",
      "INFO:tensorflow:Done running local_init_op.\n",
      "\u001b[32m[1217 10:43:46 @sessinit.py:114]\u001b[0m Restoring checkpoint from ../output/LPMC/WGAN_WO_01/model\\model-52499 ...\n",
      "INFO:tensorflow:Restoring parameters from ../output/LPMC/WGAN_WO_01/model\\model-52499\n",
      "\u001b[32m[1217 10:43:47 @DATSGAN.py:267]\u001b[0m Loading Preprocessor!\n"
     ]
    },
    {
     "name": "stderr",
     "output_type": "stream",
     "text": [
      "|                                                                                          |35/?[00:02<00:00,15.17it/s]\n"
     ]
    },
    {
     "name": "stdout",
     "output_type": "stream",
     "text": [
      "\u001b[32m[1217 10:43:49 @DATSGAN.py:267]\u001b[0m Loading Preprocessor!\n"
     ]
    },
    {
     "name": "stderr",
     "output_type": "stream",
     "text": [
      "|                                                                                          |35/?[00:01<00:00,23.20it/s]\n"
     ]
    },
    {
     "name": "stdout",
     "output_type": "stream",
     "text": [
      "\u001b[32m[1217 10:43:51 @DATSGAN.py:267]\u001b[0m Loading Preprocessor!\n"
     ]
    },
    {
     "name": "stderr",
     "output_type": "stream",
     "text": [
      "|                                                                                          |35/?[00:01<00:00,23.90it/s]\n"
     ]
    },
    {
     "name": "stdout",
     "output_type": "stream",
     "text": [
      "\u001b[32m[1217 10:43:53 @DATSGAN.py:267]\u001b[0m Loading Preprocessor!\n"
     ]
    },
    {
     "name": "stderr",
     "output_type": "stream",
     "text": [
      "|                                                                                          |35/?[00:01<00:00,24.23it/s]\n"
     ]
    },
    {
     "name": "stdout",
     "output_type": "stream",
     "text": [
      "\u001b[32m[1217 10:43:55 @DATSGAN.py:267]\u001b[0m Loading Preprocessor!\n"
     ]
    },
    {
     "name": "stderr",
     "output_type": "stream",
     "text": [
      "|                                                                                          |35/?[00:01<00:00,23.44it/s]\n"
     ]
    },
    {
     "name": "stdout",
     "output_type": "stream",
     "text": [
      "\u001b[32m[1217 10:43:57 @DATSGAN.py:267]\u001b[0m Loading Preprocessor!\n"
     ]
    },
    {
     "name": "stderr",
     "output_type": "stream",
     "text": [
      "|                                                                                          |35/?[00:01<00:00,24.53it/s]\n"
     ]
    },
    {
     "name": "stdout",
     "output_type": "stream",
     "text": [
      "\u001b[32m[1217 10:43:59 @DATSGAN.py:267]\u001b[0m Loading Preprocessor!\n"
     ]
    },
    {
     "name": "stderr",
     "output_type": "stream",
     "text": [
      "|                                                                                          |35/?[00:01<00:00,23.35it/s]\n"
     ]
    },
    {
     "name": "stdout",
     "output_type": "stream",
     "text": [
      "\u001b[32m[1217 10:44:01 @DATSGAN.py:267]\u001b[0m Loading Preprocessor!\n"
     ]
    },
    {
     "name": "stderr",
     "output_type": "stream",
     "text": [
      "|                                                                                          |35/?[00:01<00:00,22.87it/s]\n"
     ]
    },
    {
     "name": "stdout",
     "output_type": "stream",
     "text": [
      "\u001b[32m[1217 10:44:04 @DATSGAN.py:267]\u001b[0m Loading Preprocessor!\n"
     ]
    },
    {
     "name": "stderr",
     "output_type": "stream",
     "text": [
      "|                                                                                          |35/?[00:01<00:00,23.37it/s]\n"
     ]
    },
    {
     "name": "stdout",
     "output_type": "stream",
     "text": [
      "\u001b[32m[1217 10:44:06 @DATSGAN.py:267]\u001b[0m Loading Preprocessor!\n"
     ]
    },
    {
     "name": "stderr",
     "output_type": "stream",
     "text": [
      "|                                                                                          |35/?[00:01<00:00,23.78it/s]\n"
     ]
    },
    {
     "name": "stdout",
     "output_type": "stream",
     "text": [
      "\u001b[32m[1217 10:44:08 @DATSGAN.py:267]\u001b[0m Loading Preprocessor!\n"
     ]
    },
    {
     "name": "stderr",
     "output_type": "stream",
     "text": [
      "|                                                                                          |35/?[00:01<00:00,22.70it/s]\n"
     ]
    },
    {
     "name": "stdout",
     "output_type": "stream",
     "text": [
      "\u001b[32m[1217 10:44:10 @DATSGAN.py:267]\u001b[0m Loading Preprocessor!\n"
     ]
    },
    {
     "name": "stderr",
     "output_type": "stream",
     "text": [
      "|                                                                                          |35/?[00:01<00:00,23.56it/s]\n"
     ]
    },
    {
     "name": "stdout",
     "output_type": "stream",
     "text": [
      "\u001b[32m[1217 10:44:12 @DATSGAN.py:267]\u001b[0m Loading Preprocessor!\n"
     ]
    },
    {
     "name": "stderr",
     "output_type": "stream",
     "text": [
      "|                                                                                          |35/?[00:01<00:00,23.30it/s]\n"
     ]
    },
    {
     "name": "stdout",
     "output_type": "stream",
     "text": [
      "\u001b[32m[1217 10:44:14 @DATSGAN.py:267]\u001b[0m Loading Preprocessor!\n"
     ]
    },
    {
     "name": "stderr",
     "output_type": "stream",
     "text": [
      "|                                                                                          |35/?[00:01<00:00,23.18it/s]\n"
     ]
    },
    {
     "name": "stdout",
     "output_type": "stream",
     "text": [
      "\u001b[32m[1217 10:44:16 @DATSGAN.py:267]\u001b[0m Loading Preprocessor!\n"
     ]
    },
    {
     "name": "stderr",
     "output_type": "stream",
     "text": [
      "|                                                                                          |35/?[00:01<00:00,23.99it/s]\n"
     ]
    },
    {
     "name": "stdout",
     "output_type": "stream",
     "text": [
      "\u001b[32m[1217 10:44:18 @DATSGAN.py:267]\u001b[0m Loading Preprocessor!\n"
     ]
    },
    {
     "name": "stderr",
     "output_type": "stream",
     "text": [
      "|                                                                                          |35/?[00:01<00:00,24.22it/s]\n"
     ]
    },
    {
     "name": "stdout",
     "output_type": "stream",
     "text": [
      "\u001b[32m[1217 10:44:20 @DATSGAN.py:267]\u001b[0m Loading Preprocessor!\n"
     ]
    },
    {
     "name": "stderr",
     "output_type": "stream",
     "text": [
      "|                                                                                          |35/?[00:01<00:00,22.47it/s]\n"
     ]
    },
    {
     "name": "stdout",
     "output_type": "stream",
     "text": [
      "\u001b[32m[1217 10:44:22 @DATSGAN.py:267]\u001b[0m Loading Preprocessor!\n"
     ]
    },
    {
     "name": "stderr",
     "output_type": "stream",
     "text": [
      "|                                                                                          |35/?[00:01<00:00,22.90it/s]\n"
     ]
    },
    {
     "name": "stdout",
     "output_type": "stream",
     "text": [
      "\u001b[32m[1217 10:44:24 @DATSGAN.py:267]\u001b[0m Loading Preprocessor!\n"
     ]
    },
    {
     "name": "stderr",
     "output_type": "stream",
     "text": [
      "|                                                                                          |35/?[00:01<00:00,24.84it/s]\n"
     ]
    },
    {
     "name": "stdout",
     "output_type": "stream",
     "text": [
      "\u001b[32m[1217 10:44:26 @DATSGAN.py:267]\u001b[0m Loading Preprocessor!\n"
     ]
    },
    {
     "name": "stderr",
     "output_type": "stream",
     "text": [
      "|                                                                                          |35/?[00:01<00:00,24.78it/s]\n"
     ]
    },
    {
     "name": "stdout",
     "output_type": "stream",
     "text": [
      "Sampling synthetic data from model \u001b[1mWGAN_WO_02\u001b[0m (42/60)\n",
      "\u001b[32m[1217 10:44:42 @DATSGANModel.py:213]\u001b[0m \u001b[91mCreating cell for travel_year (in-edges: 0; ancestors: 0)\n",
      "\u001b[32m[1217 10:44:42 @DATSGANModel.py:213]\u001b[0m \u001b[91mCreating cell for car_ownership (in-edges: 0; ancestors: 0)\n",
      "\u001b[32m[1217 10:44:42 @DATSGANModel.py:213]\u001b[0m \u001b[91mCreating cell for female (in-edges: 0; ancestors: 0)\n",
      "\u001b[32m[1217 10:44:43 @DATSGANModel.py:213]\u001b[0m \u001b[91mCreating cell for age (in-edges: 0; ancestors: 0)\n",
      "\u001b[32m[1217 10:44:43 @DATSGANModel.py:213]\u001b[0m \u001b[91mCreating cell for travel_month (in-edges: 1; ancestors: 1)\n",
      "\u001b[32m[1217 10:44:43 @DATSGANModel.py:213]\u001b[0m \u001b[91mCreating cell for fueltype (in-edges: 1; ancestors: 1)\n",
      "\u001b[32m[1217 10:44:43 @DATSGANModel.py:213]\u001b[0m \u001b[91mCreating cell for driving_license (in-edges: 3; ancestors: 3)\n",
      "\u001b[32m[1217 10:44:43 @DATSGANModel.py:213]\u001b[0m \u001b[91mCreating cell for faretype (in-edges: 1; ancestors: 1)\n",
      "\u001b[32m[1217 10:44:43 @DATSGANModel.py:213]\u001b[0m \u001b[91mCreating cell for travel_date (in-edges: 1; ancestors: 2)\n",
      "\u001b[32m[1217 10:44:43 @DATSGANModel.py:213]\u001b[0m \u001b[91mCreating cell for bus_scale (in-edges: 2; ancestors: 2)\n",
      "\u001b[32m[1217 10:44:43 @DATSGANModel.py:213]\u001b[0m \u001b[91mCreating cell for day_of_week (in-edges: 2; ancestors: 3)\n",
      "\u001b[32m[1217 10:44:43 @DATSGANModel.py:213]\u001b[0m \u001b[91mCreating cell for purpose (in-edges: 1; ancestors: 4)\n",
      "\u001b[32m[1217 10:44:43 @DATSGANModel.py:213]\u001b[0m \u001b[91mCreating cell for start_time_linear (in-edges: 2; ancestors: 5)\n",
      "\u001b[32m[1217 10:44:44 @DATSGANModel.py:213]\u001b[0m \u001b[91mCreating cell for distance (in-edges: 1; ancestors: 5)\n",
      "\u001b[32m[1217 10:44:44 @DATSGANModel.py:213]\u001b[0m \u001b[91mCreating cell for driving_traffic_percent (in-edges: 3; ancestors: 6)\n",
      "\u001b[32m[1217 10:44:44 @DATSGANModel.py:213]\u001b[0m \u001b[91mCreating cell for cost_driving_fuel (in-edges: 2; ancestors: 8)\n",
      "\u001b[32m[1217 10:44:44 @DATSGANModel.py:213]\u001b[0m \u001b[91mCreating cell for dur_driving (in-edges: 1; ancestors: 6)\n",
      "\u001b[32m[1217 10:44:44 @DATSGANModel.py:213]\u001b[0m \u001b[91mCreating cell for dur_walking (in-edges: 1; ancestors: 6)\n",
      "\u001b[32m[1217 10:44:44 @DATSGANModel.py:213]\u001b[0m \u001b[91mCreating cell for dur_cycling (in-edges: 1; ancestors: 6)\n",
      "\u001b[32m[1217 10:44:44 @DATSGANModel.py:213]\u001b[0m \u001b[91mCreating cell for dur_pt_access (in-edges: 1; ancestors: 6)\n",
      "\u001b[32m[1217 10:44:44 @DATSGANModel.py:213]\u001b[0m \u001b[91mCreating cell for pt_n_interchanges (in-edges: 1; ancestors: 6)\n",
      "\u001b[32m[1217 10:44:44 @DATSGANModel.py:213]\u001b[0m \u001b[91mCreating cell for cost_driving_con_charge (in-edges: 5; ancestors: 11)\n",
      "\u001b[32m[1217 10:44:45 @DATSGANModel.py:213]\u001b[0m \u001b[91mCreating cell for dur_pt_rail (in-edges: 2; ancestors: 7)\n",
      "\u001b[32m[1217 10:44:45 @DATSGANModel.py:213]\u001b[0m \u001b[91mCreating cell for dur_pt_bus (in-edges: 2; ancestors: 7)\n",
      "\u001b[32m[1217 10:44:45 @DATSGANModel.py:213]\u001b[0m \u001b[91mCreating cell for dur_pt_int (in-edges: 2; ancestors: 7)\n",
      "\u001b[32m[1217 10:44:45 @DATSGANModel.py:213]\u001b[0m \u001b[91mCreating cell for cost_transit (in-edges: 5; ancestors: 12)\n",
      "\u001b[32m[1217 10:44:45 @DATSGANModel.py:213]\u001b[0m \u001b[91mCreating cell for travel_mode (in-edges: 21; ancestors: 26)\n",
      "\u001b[32m[1217 10:44:46 @sessinit.py:87]\u001b[0m \u001b[5m\u001b[31mWRN\u001b[0m The following variables are in the checkpoint, but not found in the graph: global_step\n",
      "INFO:tensorflow:Graph was finalized.\n",
      "INFO:tensorflow:Running local_init_op.\n",
      "INFO:tensorflow:Done running local_init_op.\n",
      "\u001b[32m[1217 10:44:48 @sessinit.py:114]\u001b[0m Restoring checkpoint from ../output/LPMC/WGAN_WO_02/model\\model-52499 ...\n",
      "INFO:tensorflow:Restoring parameters from ../output/LPMC/WGAN_WO_02/model\\model-52499\n",
      "\u001b[32m[1217 10:44:49 @DATSGAN.py:267]\u001b[0m Loading Preprocessor!\n"
     ]
    },
    {
     "name": "stderr",
     "output_type": "stream",
     "text": [
      "|                                                                                          |35/?[00:02<00:00,14.91it/s]\n"
     ]
    },
    {
     "name": "stdout",
     "output_type": "stream",
     "text": [
      "\u001b[32m[1217 10:44:52 @DATSGAN.py:267]\u001b[0m Loading Preprocessor!\n"
     ]
    },
    {
     "name": "stderr",
     "output_type": "stream",
     "text": [
      "|                                                                                          |35/?[00:01<00:00,22.05it/s]\n"
     ]
    },
    {
     "name": "stdout",
     "output_type": "stream",
     "text": [
      "\u001b[32m[1217 10:44:54 @DATSGAN.py:267]\u001b[0m Loading Preprocessor!\n"
     ]
    },
    {
     "name": "stderr",
     "output_type": "stream",
     "text": [
      "|                                                                                          |35/?[00:01<00:00,23.82it/s]\n"
     ]
    },
    {
     "name": "stdout",
     "output_type": "stream",
     "text": [
      "\u001b[32m[1217 10:44:56 @DATSGAN.py:267]\u001b[0m Loading Preprocessor!\n"
     ]
    },
    {
     "name": "stderr",
     "output_type": "stream",
     "text": [
      "|                                                                                          |35/?[00:01<00:00,22.60it/s]\n"
     ]
    },
    {
     "name": "stdout",
     "output_type": "stream",
     "text": [
      "\u001b[32m[1217 10:44:58 @DATSGAN.py:267]\u001b[0m Loading Preprocessor!\n"
     ]
    },
    {
     "name": "stderr",
     "output_type": "stream",
     "text": [
      "|                                                                                          |35/?[00:01<00:00,23.47it/s]\n"
     ]
    },
    {
     "name": "stdout",
     "output_type": "stream",
     "text": [
      "\u001b[32m[1217 10:45:00 @DATSGAN.py:267]\u001b[0m Loading Preprocessor!\n"
     ]
    },
    {
     "name": "stderr",
     "output_type": "stream",
     "text": [
      "|                                                                                          |35/?[00:01<00:00,24.37it/s]\n"
     ]
    },
    {
     "name": "stdout",
     "output_type": "stream",
     "text": [
      "\u001b[32m[1217 10:45:02 @DATSGAN.py:267]\u001b[0m Loading Preprocessor!\n"
     ]
    },
    {
     "name": "stderr",
     "output_type": "stream",
     "text": [
      "|                                                                                          |35/?[00:01<00:00,23.12it/s]\n"
     ]
    },
    {
     "name": "stdout",
     "output_type": "stream",
     "text": [
      "\u001b[32m[1217 10:45:04 @DATSGAN.py:267]\u001b[0m Loading Preprocessor!\n"
     ]
    },
    {
     "name": "stderr",
     "output_type": "stream",
     "text": [
      "|                                                                                          |35/?[00:01<00:00,23.36it/s]\n"
     ]
    },
    {
     "name": "stdout",
     "output_type": "stream",
     "text": [
      "\u001b[32m[1217 10:45:06 @DATSGAN.py:267]\u001b[0m Loading Preprocessor!\n"
     ]
    },
    {
     "name": "stderr",
     "output_type": "stream",
     "text": [
      "|                                                                                          |35/?[00:01<00:00,24.03it/s]\n"
     ]
    },
    {
     "name": "stdout",
     "output_type": "stream",
     "text": [
      "\u001b[32m[1217 10:45:08 @DATSGAN.py:267]\u001b[0m Loading Preprocessor!\n"
     ]
    },
    {
     "name": "stderr",
     "output_type": "stream",
     "text": [
      "|                                                                                          |35/?[00:01<00:00,24.33it/s]\n"
     ]
    },
    {
     "name": "stdout",
     "output_type": "stream",
     "text": [
      "\u001b[32m[1217 10:45:10 @DATSGAN.py:267]\u001b[0m Loading Preprocessor!\n"
     ]
    },
    {
     "name": "stderr",
     "output_type": "stream",
     "text": [
      "|                                                                                          |35/?[00:01<00:00,22.38it/s]\n"
     ]
    },
    {
     "name": "stdout",
     "output_type": "stream",
     "text": [
      "\u001b[32m[1217 10:45:12 @DATSGAN.py:267]\u001b[0m Loading Preprocessor!\n"
     ]
    },
    {
     "name": "stderr",
     "output_type": "stream",
     "text": [
      "|                                                                                          |35/?[00:01<00:00,23.17it/s]\n"
     ]
    },
    {
     "name": "stdout",
     "output_type": "stream",
     "text": [
      "\u001b[32m[1217 10:45:14 @DATSGAN.py:267]\u001b[0m Loading Preprocessor!\n"
     ]
    },
    {
     "name": "stderr",
     "output_type": "stream",
     "text": [
      "|                                                                                          |35/?[00:01<00:00,23.66it/s]\n"
     ]
    },
    {
     "name": "stdout",
     "output_type": "stream",
     "text": [
      "\u001b[32m[1217 10:45:16 @DATSGAN.py:267]\u001b[0m Loading Preprocessor!\n"
     ]
    },
    {
     "name": "stderr",
     "output_type": "stream",
     "text": [
      "|                                                                                          |35/?[00:01<00:00,24.52it/s]\n"
     ]
    },
    {
     "name": "stdout",
     "output_type": "stream",
     "text": [
      "\u001b[32m[1217 10:45:18 @DATSGAN.py:267]\u001b[0m Loading Preprocessor!\n"
     ]
    },
    {
     "name": "stderr",
     "output_type": "stream",
     "text": [
      "|                                                                                          |35/?[00:01<00:00,23.01it/s]\n"
     ]
    },
    {
     "name": "stdout",
     "output_type": "stream",
     "text": [
      "\u001b[32m[1217 10:45:20 @DATSGAN.py:267]\u001b[0m Loading Preprocessor!\n"
     ]
    },
    {
     "name": "stderr",
     "output_type": "stream",
     "text": [
      "|                                                                                          |35/?[00:01<00:00,23.89it/s]\n"
     ]
    },
    {
     "name": "stdout",
     "output_type": "stream",
     "text": [
      "\u001b[32m[1217 10:45:22 @DATSGAN.py:267]\u001b[0m Loading Preprocessor!\n"
     ]
    },
    {
     "name": "stderr",
     "output_type": "stream",
     "text": [
      "|                                                                                          |35/?[00:01<00:00,24.57it/s]\n"
     ]
    },
    {
     "name": "stdout",
     "output_type": "stream",
     "text": [
      "\u001b[32m[1217 10:45:24 @DATSGAN.py:267]\u001b[0m Loading Preprocessor!\n"
     ]
    },
    {
     "name": "stderr",
     "output_type": "stream",
     "text": [
      "|                                                                                          |35/?[00:01<00:00,24.20it/s]\n"
     ]
    },
    {
     "name": "stdout",
     "output_type": "stream",
     "text": [
      "\u001b[32m[1217 10:45:26 @DATSGAN.py:267]\u001b[0m Loading Preprocessor!\n"
     ]
    },
    {
     "name": "stderr",
     "output_type": "stream",
     "text": [
      "|                                                                                          |35/?[00:01<00:00,22.64it/s]\n"
     ]
    },
    {
     "name": "stdout",
     "output_type": "stream",
     "text": [
      "\u001b[32m[1217 10:45:28 @DATSGAN.py:267]\u001b[0m Loading Preprocessor!\n"
     ]
    },
    {
     "name": "stderr",
     "output_type": "stream",
     "text": [
      "|                                                                                          |35/?[00:01<00:00,22.13it/s]\n"
     ]
    },
    {
     "name": "stdout",
     "output_type": "stream",
     "text": [
      "Sampling synthetic data from model \u001b[1mWGAN_WO_03\u001b[0m (43/60)\n",
      "\u001b[32m[1217 10:45:45 @DATSGANModel.py:213]\u001b[0m \u001b[91mCreating cell for travel_year (in-edges: 0; ancestors: 0)\n",
      "\u001b[32m[1217 10:45:45 @DATSGANModel.py:213]\u001b[0m \u001b[91mCreating cell for car_ownership (in-edges: 0; ancestors: 0)\n",
      "\u001b[32m[1217 10:45:45 @DATSGANModel.py:213]\u001b[0m \u001b[91mCreating cell for female (in-edges: 0; ancestors: 0)\n",
      "\u001b[32m[1217 10:45:45 @DATSGANModel.py:213]\u001b[0m \u001b[91mCreating cell for age (in-edges: 0; ancestors: 0)\n",
      "\u001b[32m[1217 10:45:45 @DATSGANModel.py:213]\u001b[0m \u001b[91mCreating cell for travel_month (in-edges: 1; ancestors: 1)\n",
      "\u001b[32m[1217 10:45:46 @DATSGANModel.py:213]\u001b[0m \u001b[91mCreating cell for fueltype (in-edges: 1; ancestors: 1)\n",
      "\u001b[32m[1217 10:45:46 @DATSGANModel.py:213]\u001b[0m \u001b[91mCreating cell for driving_license (in-edges: 3; ancestors: 3)\n",
      "\u001b[32m[1217 10:45:46 @DATSGANModel.py:213]\u001b[0m \u001b[91mCreating cell for faretype (in-edges: 1; ancestors: 1)\n",
      "\u001b[32m[1217 10:45:46 @DATSGANModel.py:213]\u001b[0m \u001b[91mCreating cell for travel_date (in-edges: 1; ancestors: 2)\n",
      "\u001b[32m[1217 10:45:46 @DATSGANModel.py:213]\u001b[0m \u001b[91mCreating cell for bus_scale (in-edges: 2; ancestors: 2)\n",
      "\u001b[32m[1217 10:45:46 @DATSGANModel.py:213]\u001b[0m \u001b[91mCreating cell for day_of_week (in-edges: 2; ancestors: 3)\n",
      "\u001b[32m[1217 10:45:46 @DATSGANModel.py:213]\u001b[0m \u001b[91mCreating cell for purpose (in-edges: 1; ancestors: 4)\n",
      "\u001b[32m[1217 10:45:46 @DATSGANModel.py:213]\u001b[0m \u001b[91mCreating cell for start_time_linear (in-edges: 2; ancestors: 5)\n",
      "\u001b[32m[1217 10:45:46 @DATSGANModel.py:213]\u001b[0m \u001b[91mCreating cell for distance (in-edges: 1; ancestors: 5)\n",
      "\u001b[32m[1217 10:45:46 @DATSGANModel.py:213]\u001b[0m \u001b[91mCreating cell for driving_traffic_percent (in-edges: 3; ancestors: 6)\n",
      "\u001b[32m[1217 10:45:47 @DATSGANModel.py:213]\u001b[0m \u001b[91mCreating cell for cost_driving_fuel (in-edges: 2; ancestors: 8)\n",
      "\u001b[32m[1217 10:45:47 @DATSGANModel.py:213]\u001b[0m \u001b[91mCreating cell for dur_driving (in-edges: 1; ancestors: 6)\n",
      "\u001b[32m[1217 10:45:47 @DATSGANModel.py:213]\u001b[0m \u001b[91mCreating cell for dur_walking (in-edges: 1; ancestors: 6)\n",
      "\u001b[32m[1217 10:45:47 @DATSGANModel.py:213]\u001b[0m \u001b[91mCreating cell for dur_cycling (in-edges: 1; ancestors: 6)\n",
      "\u001b[32m[1217 10:45:47 @DATSGANModel.py:213]\u001b[0m \u001b[91mCreating cell for dur_pt_access (in-edges: 1; ancestors: 6)\n",
      "\u001b[32m[1217 10:45:47 @DATSGANModel.py:213]\u001b[0m \u001b[91mCreating cell for pt_n_interchanges (in-edges: 1; ancestors: 6)\n",
      "\u001b[32m[1217 10:45:47 @DATSGANModel.py:213]\u001b[0m \u001b[91mCreating cell for cost_driving_con_charge (in-edges: 5; ancestors: 11)\n",
      "\u001b[32m[1217 10:45:47 @DATSGANModel.py:213]\u001b[0m \u001b[91mCreating cell for dur_pt_rail (in-edges: 2; ancestors: 7)\n",
      "\u001b[32m[1217 10:45:47 @DATSGANModel.py:213]\u001b[0m \u001b[91mCreating cell for dur_pt_bus (in-edges: 2; ancestors: 7)\n",
      "\u001b[32m[1217 10:45:48 @DATSGANModel.py:213]\u001b[0m \u001b[91mCreating cell for dur_pt_int (in-edges: 2; ancestors: 7)\n",
      "\u001b[32m[1217 10:45:48 @DATSGANModel.py:213]\u001b[0m \u001b[91mCreating cell for cost_transit (in-edges: 5; ancestors: 12)\n",
      "\u001b[32m[1217 10:45:48 @DATSGANModel.py:213]\u001b[0m \u001b[91mCreating cell for travel_mode (in-edges: 21; ancestors: 26)\n",
      "\u001b[32m[1217 10:45:48 @sessinit.py:87]\u001b[0m \u001b[5m\u001b[31mWRN\u001b[0m The following variables are in the checkpoint, but not found in the graph: global_step\n",
      "INFO:tensorflow:Graph was finalized.\n",
      "INFO:tensorflow:Running local_init_op.\n",
      "INFO:tensorflow:Done running local_init_op.\n",
      "\u001b[32m[1217 10:45:51 @sessinit.py:114]\u001b[0m Restoring checkpoint from ../output/LPMC/WGAN_WO_03/model\\model-52499 ...\n",
      "INFO:tensorflow:Restoring parameters from ../output/LPMC/WGAN_WO_03/model\\model-52499\n",
      "\u001b[32m[1217 10:45:52 @DATSGAN.py:267]\u001b[0m Loading Preprocessor!\n"
     ]
    },
    {
     "name": "stderr",
     "output_type": "stream",
     "text": [
      "|                                                                                          |35/?[00:02<00:00,15.65it/s]\n"
     ]
    },
    {
     "name": "stdout",
     "output_type": "stream",
     "text": [
      "\u001b[32m[1217 10:45:54 @DATSGAN.py:267]\u001b[0m Loading Preprocessor!\n"
     ]
    },
    {
     "name": "stderr",
     "output_type": "stream",
     "text": [
      "|                                                                                          |35/?[00:01<00:00,22.71it/s]\n"
     ]
    },
    {
     "name": "stdout",
     "output_type": "stream",
     "text": [
      "\u001b[32m[1217 10:45:56 @DATSGAN.py:267]\u001b[0m Loading Preprocessor!\n"
     ]
    },
    {
     "name": "stderr",
     "output_type": "stream",
     "text": [
      "|                                                                                          |35/?[00:01<00:00,22.13it/s]\n"
     ]
    },
    {
     "name": "stdout",
     "output_type": "stream",
     "text": [
      "\u001b[32m[1217 10:45:58 @DATSGAN.py:267]\u001b[0m Loading Preprocessor!\n"
     ]
    },
    {
     "name": "stderr",
     "output_type": "stream",
     "text": [
      "|                                                                                          |35/?[00:01<00:00,23.19it/s]\n"
     ]
    },
    {
     "name": "stdout",
     "output_type": "stream",
     "text": [
      "\u001b[32m[1217 10:46:00 @DATSGAN.py:267]\u001b[0m Loading Preprocessor!\n"
     ]
    },
    {
     "name": "stderr",
     "output_type": "stream",
     "text": [
      "|                                                                                          |35/?[00:01<00:00,23.76it/s]\n"
     ]
    },
    {
     "name": "stdout",
     "output_type": "stream",
     "text": [
      "\u001b[32m[1217 10:46:02 @DATSGAN.py:267]\u001b[0m Loading Preprocessor!\n"
     ]
    },
    {
     "name": "stderr",
     "output_type": "stream",
     "text": [
      "|                                                                                          |35/?[00:01<00:00,23.52it/s]\n"
     ]
    },
    {
     "name": "stdout",
     "output_type": "stream",
     "text": [
      "\u001b[32m[1217 10:46:04 @DATSGAN.py:267]\u001b[0m Loading Preprocessor!\n"
     ]
    },
    {
     "name": "stderr",
     "output_type": "stream",
     "text": [
      "|                                                                                          |35/?[00:01<00:00,23.27it/s]\n"
     ]
    },
    {
     "name": "stdout",
     "output_type": "stream",
     "text": [
      "\u001b[32m[1217 10:46:06 @DATSGAN.py:267]\u001b[0m Loading Preprocessor!\n"
     ]
    },
    {
     "name": "stderr",
     "output_type": "stream",
     "text": [
      "|                                                                                          |35/?[00:01<00:00,22.65it/s]\n"
     ]
    },
    {
     "name": "stdout",
     "output_type": "stream",
     "text": [
      "\u001b[32m[1217 10:46:09 @DATSGAN.py:267]\u001b[0m Loading Preprocessor!\n"
     ]
    },
    {
     "name": "stderr",
     "output_type": "stream",
     "text": [
      "|                                                                                          |35/?[00:01<00:00,24.31it/s]\n"
     ]
    },
    {
     "name": "stdout",
     "output_type": "stream",
     "text": [
      "\u001b[32m[1217 10:46:11 @DATSGAN.py:267]\u001b[0m Loading Preprocessor!\n"
     ]
    },
    {
     "name": "stderr",
     "output_type": "stream",
     "text": [
      "|                                                                                          |35/?[00:01<00:00,24.16it/s]\n"
     ]
    },
    {
     "name": "stdout",
     "output_type": "stream",
     "text": [
      "\u001b[32m[1217 10:46:12 @DATSGAN.py:267]\u001b[0m Loading Preprocessor!\n"
     ]
    },
    {
     "name": "stderr",
     "output_type": "stream",
     "text": [
      "|                                                                                          |35/?[00:01<00:00,22.54it/s]\n"
     ]
    },
    {
     "name": "stdout",
     "output_type": "stream",
     "text": [
      "\u001b[32m[1217 10:46:15 @DATSGAN.py:267]\u001b[0m Loading Preprocessor!\n"
     ]
    },
    {
     "name": "stderr",
     "output_type": "stream",
     "text": [
      "|                                                                                          |35/?[00:01<00:00,22.53it/s]\n"
     ]
    },
    {
     "name": "stdout",
     "output_type": "stream",
     "text": [
      "\u001b[32m[1217 10:46:17 @DATSGAN.py:267]\u001b[0m Loading Preprocessor!\n"
     ]
    },
    {
     "name": "stderr",
     "output_type": "stream",
     "text": [
      "|                                                                                          |35/?[00:01<00:00,23.73it/s]\n"
     ]
    },
    {
     "name": "stdout",
     "output_type": "stream",
     "text": [
      "\u001b[32m[1217 10:46:19 @DATSGAN.py:267]\u001b[0m Loading Preprocessor!\n"
     ]
    },
    {
     "name": "stderr",
     "output_type": "stream",
     "text": [
      "|                                                                                          |35/?[00:01<00:00,23.67it/s]\n"
     ]
    },
    {
     "name": "stdout",
     "output_type": "stream",
     "text": [
      "\u001b[32m[1217 10:46:21 @DATSGAN.py:267]\u001b[0m Loading Preprocessor!\n"
     ]
    },
    {
     "name": "stderr",
     "output_type": "stream",
     "text": [
      "|                                                                                          |35/?[00:01<00:00,24.37it/s]\n"
     ]
    },
    {
     "name": "stdout",
     "output_type": "stream",
     "text": [
      "\u001b[32m[1217 10:46:23 @DATSGAN.py:267]\u001b[0m Loading Preprocessor!\n"
     ]
    },
    {
     "name": "stderr",
     "output_type": "stream",
     "text": [
      "|                                                                                          |35/?[00:01<00:00,23.86it/s]\n"
     ]
    },
    {
     "name": "stdout",
     "output_type": "stream",
     "text": [
      "\u001b[32m[1217 10:46:24 @DATSGAN.py:267]\u001b[0m Loading Preprocessor!\n"
     ]
    },
    {
     "name": "stderr",
     "output_type": "stream",
     "text": [
      "|                                                                                          |35/?[00:01<00:00,23.36it/s]\n"
     ]
    },
    {
     "name": "stdout",
     "output_type": "stream",
     "text": [
      "\u001b[32m[1217 10:46:27 @DATSGAN.py:267]\u001b[0m Loading Preprocessor!\n"
     ]
    },
    {
     "name": "stderr",
     "output_type": "stream",
     "text": [
      "|                                                                                          |35/?[00:01<00:00,23.27it/s]\n"
     ]
    },
    {
     "name": "stdout",
     "output_type": "stream",
     "text": [
      "\u001b[32m[1217 10:46:29 @DATSGAN.py:267]\u001b[0m Loading Preprocessor!\n"
     ]
    },
    {
     "name": "stderr",
     "output_type": "stream",
     "text": [
      "|                                                                                          |35/?[00:01<00:00,22.76it/s]\n"
     ]
    },
    {
     "name": "stdout",
     "output_type": "stream",
     "text": [
      "\u001b[32m[1217 10:46:31 @DATSGAN.py:267]\u001b[0m Loading Preprocessor!\n"
     ]
    },
    {
     "name": "stderr",
     "output_type": "stream",
     "text": [
      "|                                                                                          |35/?[00:01<00:00,23.20it/s]\n"
     ]
    },
    {
     "name": "stdout",
     "output_type": "stream",
     "text": [
      "Sampling synthetic data from model \u001b[1mWGAN_WO_04\u001b[0m (44/60)\n",
      "\u001b[32m[1217 10:46:48 @DATSGANModel.py:213]\u001b[0m \u001b[91mCreating cell for travel_year (in-edges: 0; ancestors: 0)\n",
      "\u001b[32m[1217 10:46:48 @DATSGANModel.py:213]\u001b[0m \u001b[91mCreating cell for car_ownership (in-edges: 0; ancestors: 0)\n",
      "\u001b[32m[1217 10:46:48 @DATSGANModel.py:213]\u001b[0m \u001b[91mCreating cell for female (in-edges: 0; ancestors: 0)\n",
      "\u001b[32m[1217 10:46:48 @DATSGANModel.py:213]\u001b[0m \u001b[91mCreating cell for age (in-edges: 0; ancestors: 0)\n",
      "\u001b[32m[1217 10:46:48 @DATSGANModel.py:213]\u001b[0m \u001b[91mCreating cell for travel_month (in-edges: 1; ancestors: 1)\n",
      "\u001b[32m[1217 10:46:48 @DATSGANModel.py:213]\u001b[0m \u001b[91mCreating cell for fueltype (in-edges: 1; ancestors: 1)\n",
      "\u001b[32m[1217 10:46:48 @DATSGANModel.py:213]\u001b[0m \u001b[91mCreating cell for driving_license (in-edges: 3; ancestors: 3)\n",
      "\u001b[32m[1217 10:46:48 @DATSGANModel.py:213]\u001b[0m \u001b[91mCreating cell for faretype (in-edges: 1; ancestors: 1)\n",
      "\u001b[32m[1217 10:46:49 @DATSGANModel.py:213]\u001b[0m \u001b[91mCreating cell for travel_date (in-edges: 1; ancestors: 2)\n",
      "\u001b[32m[1217 10:46:49 @DATSGANModel.py:213]\u001b[0m \u001b[91mCreating cell for bus_scale (in-edges: 2; ancestors: 2)\n",
      "\u001b[32m[1217 10:46:49 @DATSGANModel.py:213]\u001b[0m \u001b[91mCreating cell for day_of_week (in-edges: 2; ancestors: 3)\n",
      "\u001b[32m[1217 10:46:49 @DATSGANModel.py:213]\u001b[0m \u001b[91mCreating cell for purpose (in-edges: 1; ancestors: 4)\n",
      "\u001b[32m[1217 10:46:49 @DATSGANModel.py:213]\u001b[0m \u001b[91mCreating cell for start_time_linear (in-edges: 2; ancestors: 5)\n",
      "\u001b[32m[1217 10:46:49 @DATSGANModel.py:213]\u001b[0m \u001b[91mCreating cell for distance (in-edges: 1; ancestors: 5)\n",
      "\u001b[32m[1217 10:46:49 @DATSGANModel.py:213]\u001b[0m \u001b[91mCreating cell for driving_traffic_percent (in-edges: 3; ancestors: 6)\n",
      "\u001b[32m[1217 10:46:49 @DATSGANModel.py:213]\u001b[0m \u001b[91mCreating cell for cost_driving_fuel (in-edges: 2; ancestors: 8)\n",
      "\u001b[32m[1217 10:46:49 @DATSGANModel.py:213]\u001b[0m \u001b[91mCreating cell for dur_driving (in-edges: 1; ancestors: 6)\n",
      "\u001b[32m[1217 10:46:50 @DATSGANModel.py:213]\u001b[0m \u001b[91mCreating cell for dur_walking (in-edges: 1; ancestors: 6)\n",
      "\u001b[32m[1217 10:46:50 @DATSGANModel.py:213]\u001b[0m \u001b[91mCreating cell for dur_cycling (in-edges: 1; ancestors: 6)\n",
      "\u001b[32m[1217 10:46:50 @DATSGANModel.py:213]\u001b[0m \u001b[91mCreating cell for dur_pt_access (in-edges: 1; ancestors: 6)\n",
      "\u001b[32m[1217 10:46:50 @DATSGANModel.py:213]\u001b[0m \u001b[91mCreating cell for pt_n_interchanges (in-edges: 1; ancestors: 6)\n",
      "\u001b[32m[1217 10:46:50 @DATSGANModel.py:213]\u001b[0m \u001b[91mCreating cell for cost_driving_con_charge (in-edges: 5; ancestors: 11)\n",
      "\u001b[32m[1217 10:46:50 @DATSGANModel.py:213]\u001b[0m \u001b[91mCreating cell for dur_pt_rail (in-edges: 2; ancestors: 7)\n",
      "\u001b[32m[1217 10:46:50 @DATSGANModel.py:213]\u001b[0m \u001b[91mCreating cell for dur_pt_bus (in-edges: 2; ancestors: 7)\n",
      "\u001b[32m[1217 10:46:50 @DATSGANModel.py:213]\u001b[0m \u001b[91mCreating cell for dur_pt_int (in-edges: 2; ancestors: 7)\n",
      "\u001b[32m[1217 10:46:50 @DATSGANModel.py:213]\u001b[0m \u001b[91mCreating cell for cost_transit (in-edges: 5; ancestors: 12)\n",
      "\u001b[32m[1217 10:46:51 @DATSGANModel.py:213]\u001b[0m \u001b[91mCreating cell for travel_mode (in-edges: 21; ancestors: 26)\n",
      "\u001b[32m[1217 10:46:51 @sessinit.py:87]\u001b[0m \u001b[5m\u001b[31mWRN\u001b[0m The following variables are in the checkpoint, but not found in the graph: global_step\n",
      "INFO:tensorflow:Graph was finalized.\n",
      "INFO:tensorflow:Running local_init_op.\n",
      "INFO:tensorflow:Done running local_init_op.\n",
      "\u001b[32m[1217 10:46:54 @sessinit.py:114]\u001b[0m Restoring checkpoint from ../output/LPMC/WGAN_WO_04/model\\model-52499 ...\n",
      "INFO:tensorflow:Restoring parameters from ../output/LPMC/WGAN_WO_04/model\\model-52499\n",
      "\u001b[32m[1217 10:46:54 @DATSGAN.py:267]\u001b[0m Loading Preprocessor!\n"
     ]
    },
    {
     "name": "stderr",
     "output_type": "stream",
     "text": [
      "|                                                                                          |35/?[00:02<00:00,15.58it/s]\n"
     ]
    },
    {
     "name": "stdout",
     "output_type": "stream",
     "text": [
      "\u001b[32m[1217 10:46:57 @DATSGAN.py:267]\u001b[0m Loading Preprocessor!\n"
     ]
    },
    {
     "name": "stderr",
     "output_type": "stream",
     "text": [
      "|                                                                                          |35/?[00:01<00:00,23.62it/s]\n"
     ]
    },
    {
     "name": "stdout",
     "output_type": "stream",
     "text": [
      "\u001b[32m[1217 10:46:59 @DATSGAN.py:267]\u001b[0m Loading Preprocessor!\n"
     ]
    },
    {
     "name": "stderr",
     "output_type": "stream",
     "text": [
      "|                                                                                          |35/?[00:01<00:00,22.67it/s]\n"
     ]
    },
    {
     "name": "stdout",
     "output_type": "stream",
     "text": [
      "\u001b[32m[1217 10:47:01 @DATSGAN.py:267]\u001b[0m Loading Preprocessor!\n"
     ]
    },
    {
     "name": "stderr",
     "output_type": "stream",
     "text": [
      "|                                                                                          |35/?[00:01<00:00,24.47it/s]\n"
     ]
    },
    {
     "name": "stdout",
     "output_type": "stream",
     "text": [
      "\u001b[32m[1217 10:47:03 @DATSGAN.py:267]\u001b[0m Loading Preprocessor!\n"
     ]
    },
    {
     "name": "stderr",
     "output_type": "stream",
     "text": [
      "|                                                                                          |35/?[00:01<00:00,23.38it/s]\n"
     ]
    },
    {
     "name": "stdout",
     "output_type": "stream",
     "text": [
      "\u001b[32m[1217 10:47:05 @DATSGAN.py:267]\u001b[0m Loading Preprocessor!\n"
     ]
    },
    {
     "name": "stderr",
     "output_type": "stream",
     "text": [
      "|                                                                                          |35/?[00:01<00:00,22.99it/s]\n"
     ]
    },
    {
     "name": "stdout",
     "output_type": "stream",
     "text": [
      "\u001b[32m[1217 10:47:07 @DATSGAN.py:267]\u001b[0m Loading Preprocessor!\n"
     ]
    },
    {
     "name": "stderr",
     "output_type": "stream",
     "text": [
      "|                                                                                          |35/?[00:01<00:00,22.84it/s]\n"
     ]
    },
    {
     "name": "stdout",
     "output_type": "stream",
     "text": [
      "\u001b[32m[1217 10:47:09 @DATSGAN.py:267]\u001b[0m Loading Preprocessor!\n"
     ]
    },
    {
     "name": "stderr",
     "output_type": "stream",
     "text": [
      "|                                                                                          |35/?[00:01<00:00,22.96it/s]\n"
     ]
    },
    {
     "name": "stdout",
     "output_type": "stream",
     "text": [
      "\u001b[32m[1217 10:47:11 @DATSGAN.py:267]\u001b[0m Loading Preprocessor!\n"
     ]
    },
    {
     "name": "stderr",
     "output_type": "stream",
     "text": [
      "|                                                                                          |35/?[00:01<00:00,22.87it/s]\n"
     ]
    },
    {
     "name": "stdout",
     "output_type": "stream",
     "text": [
      "\u001b[32m[1217 10:47:13 @DATSGAN.py:267]\u001b[0m Loading Preprocessor!\n"
     ]
    },
    {
     "name": "stderr",
     "output_type": "stream",
     "text": [
      "|                                                                                          |35/?[00:01<00:00,23.05it/s]\n"
     ]
    },
    {
     "name": "stdout",
     "output_type": "stream",
     "text": [
      "\u001b[32m[1217 10:47:15 @DATSGAN.py:267]\u001b[0m Loading Preprocessor!\n"
     ]
    },
    {
     "name": "stderr",
     "output_type": "stream",
     "text": [
      "|                                                                                          |35/?[00:01<00:00,24.87it/s]\n"
     ]
    },
    {
     "name": "stdout",
     "output_type": "stream",
     "text": [
      "\u001b[32m[1217 10:47:17 @DATSGAN.py:267]\u001b[0m Loading Preprocessor!\n"
     ]
    },
    {
     "name": "stderr",
     "output_type": "stream",
     "text": [
      "|                                                                                          |35/?[00:01<00:00,23.36it/s]\n"
     ]
    },
    {
     "name": "stdout",
     "output_type": "stream",
     "text": [
      "\u001b[32m[1217 10:47:19 @DATSGAN.py:267]\u001b[0m Loading Preprocessor!\n"
     ]
    },
    {
     "name": "stderr",
     "output_type": "stream",
     "text": [
      "|                                                                                          |35/?[00:01<00:00,24.79it/s]\n"
     ]
    },
    {
     "name": "stdout",
     "output_type": "stream",
     "text": [
      "\u001b[32m[1217 10:47:21 @DATSGAN.py:267]\u001b[0m Loading Preprocessor!\n"
     ]
    },
    {
     "name": "stderr",
     "output_type": "stream",
     "text": [
      "|                                                                                          |35/?[00:01<00:00,22.16it/s]\n"
     ]
    },
    {
     "name": "stdout",
     "output_type": "stream",
     "text": [
      "\u001b[32m[1217 10:47:23 @DATSGAN.py:267]\u001b[0m Loading Preprocessor!\n"
     ]
    },
    {
     "name": "stderr",
     "output_type": "stream",
     "text": [
      "|                                                                                          |35/?[00:01<00:00,23.45it/s]\n"
     ]
    },
    {
     "name": "stdout",
     "output_type": "stream",
     "text": [
      "\u001b[32m[1217 10:47:25 @DATSGAN.py:267]\u001b[0m Loading Preprocessor!\n"
     ]
    },
    {
     "name": "stderr",
     "output_type": "stream",
     "text": [
      "|                                                                                          |35/?[00:01<00:00,23.83it/s]\n"
     ]
    },
    {
     "name": "stdout",
     "output_type": "stream",
     "text": [
      "\u001b[32m[1217 10:47:27 @DATSGAN.py:267]\u001b[0m Loading Preprocessor!\n"
     ]
    },
    {
     "name": "stderr",
     "output_type": "stream",
     "text": [
      "|                                                                                          |35/?[00:01<00:00,23.05it/s]\n"
     ]
    },
    {
     "name": "stdout",
     "output_type": "stream",
     "text": [
      "\u001b[32m[1217 10:47:29 @DATSGAN.py:267]\u001b[0m Loading Preprocessor!\n"
     ]
    },
    {
     "name": "stderr",
     "output_type": "stream",
     "text": [
      "|                                                                                          |35/?[00:01<00:00,25.07it/s]\n"
     ]
    },
    {
     "name": "stdout",
     "output_type": "stream",
     "text": [
      "\u001b[32m[1217 10:47:31 @DATSGAN.py:267]\u001b[0m Loading Preprocessor!\n"
     ]
    },
    {
     "name": "stderr",
     "output_type": "stream",
     "text": [
      "|                                                                                          |35/?[00:01<00:00,22.33it/s]\n"
     ]
    },
    {
     "name": "stdout",
     "output_type": "stream",
     "text": [
      "\u001b[32m[1217 10:47:33 @DATSGAN.py:267]\u001b[0m Loading Preprocessor!\n"
     ]
    },
    {
     "name": "stderr",
     "output_type": "stream",
     "text": [
      "|                                                                                          |35/?[00:01<00:00,22.81it/s]\n"
     ]
    },
    {
     "name": "stdout",
     "output_type": "stream",
     "text": [
      "Sampling synthetic data from model \u001b[1mWGAN_WO_05\u001b[0m (45/60)\n",
      "\u001b[32m[1217 10:47:50 @DATSGANModel.py:213]\u001b[0m \u001b[91mCreating cell for travel_year (in-edges: 0; ancestors: 0)\n",
      "\u001b[32m[1217 10:47:50 @DATSGANModel.py:213]\u001b[0m \u001b[91mCreating cell for car_ownership (in-edges: 0; ancestors: 0)\n",
      "\u001b[32m[1217 10:47:50 @DATSGANModel.py:213]\u001b[0m \u001b[91mCreating cell for female (in-edges: 0; ancestors: 0)\n",
      "\u001b[32m[1217 10:47:50 @DATSGANModel.py:213]\u001b[0m \u001b[91mCreating cell for age (in-edges: 0; ancestors: 0)\n",
      "\u001b[32m[1217 10:47:50 @DATSGANModel.py:213]\u001b[0m \u001b[91mCreating cell for travel_month (in-edges: 1; ancestors: 1)\n",
      "\u001b[32m[1217 10:47:50 @DATSGANModel.py:213]\u001b[0m \u001b[91mCreating cell for fueltype (in-edges: 1; ancestors: 1)\n",
      "\u001b[32m[1217 10:47:50 @DATSGANModel.py:213]\u001b[0m \u001b[91mCreating cell for driving_license (in-edges: 3; ancestors: 3)\n",
      "\u001b[32m[1217 10:47:50 @DATSGANModel.py:213]\u001b[0m \u001b[91mCreating cell for faretype (in-edges: 1; ancestors: 1)\n",
      "\u001b[32m[1217 10:47:50 @DATSGANModel.py:213]\u001b[0m \u001b[91mCreating cell for travel_date (in-edges: 1; ancestors: 2)\n",
      "\u001b[32m[1217 10:47:50 @DATSGANModel.py:213]\u001b[0m \u001b[91mCreating cell for bus_scale (in-edges: 2; ancestors: 2)\n",
      "\u001b[32m[1217 10:47:51 @DATSGANModel.py:213]\u001b[0m \u001b[91mCreating cell for day_of_week (in-edges: 2; ancestors: 3)\n",
      "\u001b[32m[1217 10:47:51 @DATSGANModel.py:213]\u001b[0m \u001b[91mCreating cell for purpose (in-edges: 1; ancestors: 4)\n",
      "\u001b[32m[1217 10:47:51 @DATSGANModel.py:213]\u001b[0m \u001b[91mCreating cell for start_time_linear (in-edges: 2; ancestors: 5)\n",
      "\u001b[32m[1217 10:47:51 @DATSGANModel.py:213]\u001b[0m \u001b[91mCreating cell for distance (in-edges: 1; ancestors: 5)\n",
      "\u001b[32m[1217 10:47:51 @DATSGANModel.py:213]\u001b[0m \u001b[91mCreating cell for driving_traffic_percent (in-edges: 3; ancestors: 6)\n",
      "\u001b[32m[1217 10:47:51 @DATSGANModel.py:213]\u001b[0m \u001b[91mCreating cell for cost_driving_fuel (in-edges: 2; ancestors: 8)\n",
      "\u001b[32m[1217 10:47:51 @DATSGANModel.py:213]\u001b[0m \u001b[91mCreating cell for dur_driving (in-edges: 1; ancestors: 6)\n",
      "\u001b[32m[1217 10:47:51 @DATSGANModel.py:213]\u001b[0m \u001b[91mCreating cell for dur_walking (in-edges: 1; ancestors: 6)\n",
      "\u001b[32m[1217 10:47:51 @DATSGANModel.py:213]\u001b[0m \u001b[91mCreating cell for dur_cycling (in-edges: 1; ancestors: 6)\n",
      "\u001b[32m[1217 10:47:52 @DATSGANModel.py:213]\u001b[0m \u001b[91mCreating cell for dur_pt_access (in-edges: 1; ancestors: 6)\n",
      "\u001b[32m[1217 10:47:52 @DATSGANModel.py:213]\u001b[0m \u001b[91mCreating cell for pt_n_interchanges (in-edges: 1; ancestors: 6)\n",
      "\u001b[32m[1217 10:47:52 @DATSGANModel.py:213]\u001b[0m \u001b[91mCreating cell for cost_driving_con_charge (in-edges: 5; ancestors: 11)\n",
      "\u001b[32m[1217 10:47:52 @DATSGANModel.py:213]\u001b[0m \u001b[91mCreating cell for dur_pt_rail (in-edges: 2; ancestors: 7)\n",
      "\u001b[32m[1217 10:47:52 @DATSGANModel.py:213]\u001b[0m \u001b[91mCreating cell for dur_pt_bus (in-edges: 2; ancestors: 7)\n",
      "\u001b[32m[1217 10:47:52 @DATSGANModel.py:213]\u001b[0m \u001b[91mCreating cell for dur_pt_int (in-edges: 2; ancestors: 7)\n",
      "\u001b[32m[1217 10:47:52 @DATSGANModel.py:213]\u001b[0m \u001b[91mCreating cell for cost_transit (in-edges: 5; ancestors: 12)\n",
      "\u001b[32m[1217 10:47:52 @DATSGANModel.py:213]\u001b[0m \u001b[91mCreating cell for travel_mode (in-edges: 21; ancestors: 26)\n",
      "\u001b[32m[1217 10:47:53 @sessinit.py:87]\u001b[0m \u001b[5m\u001b[31mWRN\u001b[0m The following variables are in the checkpoint, but not found in the graph: global_step\n",
      "INFO:tensorflow:Graph was finalized.\n",
      "INFO:tensorflow:Running local_init_op.\n",
      "INFO:tensorflow:Done running local_init_op.\n",
      "\u001b[32m[1217 10:47:56 @sessinit.py:114]\u001b[0m Restoring checkpoint from ../output/LPMC/WGAN_WO_05/model\\model-52499 ...\n",
      "INFO:tensorflow:Restoring parameters from ../output/LPMC/WGAN_WO_05/model\\model-52499\n",
      "\u001b[32m[1217 10:47:56 @DATSGAN.py:267]\u001b[0m Loading Preprocessor!\n"
     ]
    },
    {
     "name": "stderr",
     "output_type": "stream",
     "text": [
      "|                                                                                          |35/?[00:02<00:00,15.23it/s]\n"
     ]
    },
    {
     "name": "stdout",
     "output_type": "stream",
     "text": [
      "\u001b[32m[1217 10:47:59 @DATSGAN.py:267]\u001b[0m Loading Preprocessor!\n"
     ]
    },
    {
     "name": "stderr",
     "output_type": "stream",
     "text": [
      "|                                                                                          |35/?[00:01<00:00,22.86it/s]\n"
     ]
    },
    {
     "name": "stdout",
     "output_type": "stream",
     "text": [
      "\u001b[32m[1217 10:48:01 @DATSGAN.py:267]\u001b[0m Loading Preprocessor!\n"
     ]
    },
    {
     "name": "stderr",
     "output_type": "stream",
     "text": [
      "|                                                                                          |35/?[00:01<00:00,23.64it/s]\n"
     ]
    },
    {
     "name": "stdout",
     "output_type": "stream",
     "text": [
      "\u001b[32m[1217 10:48:03 @DATSGAN.py:267]\u001b[0m Loading Preprocessor!\n"
     ]
    },
    {
     "name": "stderr",
     "output_type": "stream",
     "text": [
      "|                                                                                          |35/?[00:01<00:00,24.05it/s]\n"
     ]
    },
    {
     "name": "stdout",
     "output_type": "stream",
     "text": [
      "\u001b[32m[1217 10:48:05 @DATSGAN.py:267]\u001b[0m Loading Preprocessor!\n"
     ]
    },
    {
     "name": "stderr",
     "output_type": "stream",
     "text": [
      "|                                                                                          |35/?[00:01<00:00,24.20it/s]\n"
     ]
    },
    {
     "name": "stdout",
     "output_type": "stream",
     "text": [
      "\u001b[32m[1217 10:48:07 @DATSGAN.py:267]\u001b[0m Loading Preprocessor!\n"
     ]
    },
    {
     "name": "stderr",
     "output_type": "stream",
     "text": [
      "|                                                                                          |35/?[00:01<00:00,22.11it/s]\n"
     ]
    },
    {
     "name": "stdout",
     "output_type": "stream",
     "text": [
      "\u001b[32m[1217 10:48:09 @DATSGAN.py:267]\u001b[0m Loading Preprocessor!\n"
     ]
    },
    {
     "name": "stderr",
     "output_type": "stream",
     "text": [
      "|                                                                                          |35/?[00:01<00:00,23.91it/s]\n"
     ]
    },
    {
     "name": "stdout",
     "output_type": "stream",
     "text": [
      "\u001b[32m[1217 10:48:11 @DATSGAN.py:267]\u001b[0m Loading Preprocessor!\n"
     ]
    },
    {
     "name": "stderr",
     "output_type": "stream",
     "text": [
      "|                                                                                          |35/?[00:01<00:00,22.51it/s]\n"
     ]
    },
    {
     "name": "stdout",
     "output_type": "stream",
     "text": [
      "\u001b[32m[1217 10:48:13 @DATSGAN.py:267]\u001b[0m Loading Preprocessor!\n"
     ]
    },
    {
     "name": "stderr",
     "output_type": "stream",
     "text": [
      "|                                                                                          |35/?[00:01<00:00,22.76it/s]\n"
     ]
    },
    {
     "name": "stdout",
     "output_type": "stream",
     "text": [
      "\u001b[32m[1217 10:48:15 @DATSGAN.py:267]\u001b[0m Loading Preprocessor!\n"
     ]
    },
    {
     "name": "stderr",
     "output_type": "stream",
     "text": [
      "|                                                                                          |35/?[00:01<00:00,23.33it/s]\n"
     ]
    },
    {
     "name": "stdout",
     "output_type": "stream",
     "text": [
      "\u001b[32m[1217 10:48:17 @DATSGAN.py:267]\u001b[0m Loading Preprocessor!\n"
     ]
    },
    {
     "name": "stderr",
     "output_type": "stream",
     "text": [
      "|                                                                                          |35/?[00:01<00:00,23.20it/s]\n"
     ]
    },
    {
     "name": "stdout",
     "output_type": "stream",
     "text": [
      "\u001b[32m[1217 10:48:19 @DATSGAN.py:267]\u001b[0m Loading Preprocessor!\n"
     ]
    },
    {
     "name": "stderr",
     "output_type": "stream",
     "text": [
      "|                                                                                          |35/?[00:01<00:00,23.87it/s]\n"
     ]
    },
    {
     "name": "stdout",
     "output_type": "stream",
     "text": [
      "\u001b[32m[1217 10:48:21 @DATSGAN.py:267]\u001b[0m Loading Preprocessor!\n"
     ]
    },
    {
     "name": "stderr",
     "output_type": "stream",
     "text": [
      "|                                                                                          |35/?[00:01<00:00,22.67it/s]\n"
     ]
    },
    {
     "name": "stdout",
     "output_type": "stream",
     "text": [
      "\u001b[32m[1217 10:48:23 @DATSGAN.py:267]\u001b[0m Loading Preprocessor!\n"
     ]
    },
    {
     "name": "stderr",
     "output_type": "stream",
     "text": [
      "|                                                                                          |35/?[00:01<00:00,22.86it/s]\n"
     ]
    },
    {
     "name": "stdout",
     "output_type": "stream",
     "text": [
      "\u001b[32m[1217 10:48:25 @DATSGAN.py:267]\u001b[0m Loading Preprocessor!\n"
     ]
    },
    {
     "name": "stderr",
     "output_type": "stream",
     "text": [
      "|                                                                                          |35/?[00:01<00:00,23.88it/s]\n"
     ]
    },
    {
     "name": "stdout",
     "output_type": "stream",
     "text": [
      "\u001b[32m[1217 10:48:27 @DATSGAN.py:267]\u001b[0m Loading Preprocessor!\n"
     ]
    },
    {
     "name": "stderr",
     "output_type": "stream",
     "text": [
      "|                                                                                          |35/?[00:01<00:00,23.79it/s]\n"
     ]
    },
    {
     "name": "stdout",
     "output_type": "stream",
     "text": [
      "\u001b[32m[1217 10:48:29 @DATSGAN.py:267]\u001b[0m Loading Preprocessor!\n"
     ]
    },
    {
     "name": "stderr",
     "output_type": "stream",
     "text": [
      "|                                                                                          |35/?[00:01<00:00,23.90it/s]\n"
     ]
    },
    {
     "name": "stdout",
     "output_type": "stream",
     "text": [
      "\u001b[32m[1217 10:48:31 @DATSGAN.py:267]\u001b[0m Loading Preprocessor!\n"
     ]
    },
    {
     "name": "stderr",
     "output_type": "stream",
     "text": [
      "|                                                                                          |35/?[00:01<00:00,22.36it/s]\n"
     ]
    },
    {
     "name": "stdout",
     "output_type": "stream",
     "text": [
      "\u001b[32m[1217 10:48:33 @DATSGAN.py:267]\u001b[0m Loading Preprocessor!\n"
     ]
    },
    {
     "name": "stderr",
     "output_type": "stream",
     "text": [
      "|                                                                                          |35/?[00:01<00:00,23.23it/s]\n"
     ]
    },
    {
     "name": "stdout",
     "output_type": "stream",
     "text": [
      "\u001b[32m[1217 10:48:35 @DATSGAN.py:267]\u001b[0m Loading Preprocessor!\n"
     ]
    },
    {
     "name": "stderr",
     "output_type": "stream",
     "text": [
      "|                                                                                          |35/?[00:01<00:00,24.83it/s]\n"
     ]
    },
    {
     "name": "stdout",
     "output_type": "stream",
     "text": [
      "Sampling synthetic data from model \u001b[1mWGGP_OR_01\u001b[0m (46/60)\n",
      "\u001b[32m[1217 10:48:53 @DATSGANModel.py:213]\u001b[0m \u001b[91mCreating cell for travel_year (in-edges: 0; ancestors: 0)\n",
      "\u001b[32m[1217 10:48:53 @DATSGANModel.py:213]\u001b[0m \u001b[91mCreating cell for car_ownership (in-edges: 0; ancestors: 0)\n",
      "\u001b[32m[1217 10:48:53 @DATSGANModel.py:213]\u001b[0m \u001b[91mCreating cell for female (in-edges: 0; ancestors: 0)\n",
      "\u001b[32m[1217 10:48:54 @DATSGANModel.py:213]\u001b[0m \u001b[91mCreating cell for age (in-edges: 0; ancestors: 0)\n",
      "\u001b[32m[1217 10:48:54 @DATSGANModel.py:213]\u001b[0m \u001b[91mCreating cell for travel_month (in-edges: 1; ancestors: 1)\n",
      "\u001b[32m[1217 10:48:54 @DATSGANModel.py:213]\u001b[0m \u001b[91mCreating cell for fueltype (in-edges: 1; ancestors: 1)\n",
      "\u001b[32m[1217 10:48:54 @DATSGANModel.py:213]\u001b[0m \u001b[91mCreating cell for driving_license (in-edges: 3; ancestors: 3)\n",
      "\u001b[32m[1217 10:48:54 @DATSGANModel.py:213]\u001b[0m \u001b[91mCreating cell for faretype (in-edges: 1; ancestors: 1)\n",
      "\u001b[32m[1217 10:48:54 @DATSGANModel.py:213]\u001b[0m \u001b[91mCreating cell for travel_date (in-edges: 1; ancestors: 2)\n",
      "\u001b[32m[1217 10:48:54 @DATSGANModel.py:213]\u001b[0m \u001b[91mCreating cell for bus_scale (in-edges: 2; ancestors: 2)\n",
      "\u001b[32m[1217 10:48:54 @DATSGANModel.py:213]\u001b[0m \u001b[91mCreating cell for day_of_week (in-edges: 2; ancestors: 3)\n",
      "\u001b[32m[1217 10:48:54 @DATSGANModel.py:213]\u001b[0m \u001b[91mCreating cell for purpose (in-edges: 1; ancestors: 4)\n",
      "\u001b[32m[1217 10:48:54 @DATSGANModel.py:213]\u001b[0m \u001b[91mCreating cell for start_time_linear (in-edges: 2; ancestors: 5)\n",
      "\u001b[32m[1217 10:48:54 @DATSGANModel.py:213]\u001b[0m \u001b[91mCreating cell for distance (in-edges: 1; ancestors: 5)\n",
      "\u001b[32m[1217 10:48:55 @DATSGANModel.py:213]\u001b[0m \u001b[91mCreating cell for driving_traffic_percent (in-edges: 3; ancestors: 6)\n",
      "\u001b[32m[1217 10:48:55 @DATSGANModel.py:213]\u001b[0m \u001b[91mCreating cell for cost_driving_fuel (in-edges: 2; ancestors: 8)\n",
      "\u001b[32m[1217 10:48:55 @DATSGANModel.py:213]\u001b[0m \u001b[91mCreating cell for dur_driving (in-edges: 1; ancestors: 6)\n",
      "\u001b[32m[1217 10:48:55 @DATSGANModel.py:213]\u001b[0m \u001b[91mCreating cell for dur_walking (in-edges: 1; ancestors: 6)\n",
      "\u001b[32m[1217 10:48:55 @DATSGANModel.py:213]\u001b[0m \u001b[91mCreating cell for dur_cycling (in-edges: 1; ancestors: 6)\n",
      "\u001b[32m[1217 10:48:55 @DATSGANModel.py:213]\u001b[0m \u001b[91mCreating cell for dur_pt_access (in-edges: 1; ancestors: 6)\n",
      "\u001b[32m[1217 10:48:55 @DATSGANModel.py:213]\u001b[0m \u001b[91mCreating cell for pt_n_interchanges (in-edges: 1; ancestors: 6)\n",
      "\u001b[32m[1217 10:48:55 @DATSGANModel.py:213]\u001b[0m \u001b[91mCreating cell for cost_driving_con_charge (in-edges: 5; ancestors: 11)\n",
      "\u001b[32m[1217 10:48:55 @DATSGANModel.py:213]\u001b[0m \u001b[91mCreating cell for dur_pt_rail (in-edges: 2; ancestors: 7)\n",
      "\u001b[32m[1217 10:48:56 @DATSGANModel.py:213]\u001b[0m \u001b[91mCreating cell for dur_pt_bus (in-edges: 2; ancestors: 7)\n",
      "\u001b[32m[1217 10:48:56 @DATSGANModel.py:213]\u001b[0m \u001b[91mCreating cell for dur_pt_int (in-edges: 2; ancestors: 7)\n",
      "\u001b[32m[1217 10:48:56 @DATSGANModel.py:213]\u001b[0m \u001b[91mCreating cell for cost_transit (in-edges: 5; ancestors: 12)\n",
      "\u001b[32m[1217 10:48:56 @DATSGANModel.py:213]\u001b[0m \u001b[91mCreating cell for travel_mode (in-edges: 21; ancestors: 26)\n",
      "\u001b[32m[1217 10:48:56 @registry.py:126]\u001b[0m discrim/discrim/dis_fc0/fc input: [500, 237]\n",
      "\u001b[32m[1217 10:48:56 @registry.py:134]\u001b[0m discrim/discrim/dis_fc0/fc output: [500, 100]\n",
      "\u001b[32m[1217 10:48:56 @registry.py:126]\u001b[0m discrim/discrim/dis_fc0/FC_DIVERSITY input: [500, 100]\n",
      "\u001b[32m[1217 10:48:56 @registry.py:134]\u001b[0m discrim/discrim/dis_fc0/FC_DIVERSITY output: [500, 100]\n",
      "\u001b[32m[1217 10:48:56 @registry.py:126]\u001b[0m discrim/discrim/dis_fc_top input: [500, 110]\n",
      "\u001b[32m[1217 10:48:56 @registry.py:134]\u001b[0m discrim/discrim/dis_fc_top output: [500, 1]\n",
      "\u001b[32m[1217 10:48:57 @sessinit.py:87]\u001b[0m \u001b[5m\u001b[31mWRN\u001b[0m The following variables are in the checkpoint, but not found in the graph: global_step, optimize/beta1_power, optimize/beta2_power\n",
      "INFO:tensorflow:Graph was finalized.\n",
      "INFO:tensorflow:Running local_init_op.\n",
      "INFO:tensorflow:Done running local_init_op.\n",
      "\u001b[32m[1217 10:48:59 @sessinit.py:114]\u001b[0m Restoring checkpoint from ../output/LPMC/WGGP_OR_01/model\\model-41999 ...\n",
      "INFO:tensorflow:Restoring parameters from ../output/LPMC/WGGP_OR_01/model\\model-41999\n",
      "\u001b[32m[1217 10:49:00 @DATSGAN.py:267]\u001b[0m Loading Preprocessor!\n"
     ]
    },
    {
     "name": "stderr",
     "output_type": "stream",
     "text": [
      "|                                                                                          |35/?[00:02<00:00,14.96it/s]\n"
     ]
    },
    {
     "name": "stdout",
     "output_type": "stream",
     "text": [
      "\u001b[32m[1217 10:49:03 @DATSGAN.py:267]\u001b[0m Loading Preprocessor!\n"
     ]
    },
    {
     "name": "stderr",
     "output_type": "stream",
     "text": [
      "|                                                                                          |35/?[00:01<00:00,23.44it/s]\n"
     ]
    },
    {
     "name": "stdout",
     "output_type": "stream",
     "text": [
      "\u001b[32m[1217 10:49:05 @DATSGAN.py:267]\u001b[0m Loading Preprocessor!\n"
     ]
    },
    {
     "name": "stderr",
     "output_type": "stream",
     "text": [
      "|                                                                                          |35/?[00:01<00:00,24.22it/s]\n"
     ]
    },
    {
     "name": "stdout",
     "output_type": "stream",
     "text": [
      "\u001b[32m[1217 10:49:07 @DATSGAN.py:267]\u001b[0m Loading Preprocessor!\n"
     ]
    },
    {
     "name": "stderr",
     "output_type": "stream",
     "text": [
      "|                                                                                          |35/?[00:01<00:00,22.18it/s]\n"
     ]
    },
    {
     "name": "stdout",
     "output_type": "stream",
     "text": [
      "\u001b[32m[1217 10:49:09 @DATSGAN.py:267]\u001b[0m Loading Preprocessor!\n"
     ]
    },
    {
     "name": "stderr",
     "output_type": "stream",
     "text": [
      "|                                                                                          |35/?[00:01<00:00,24.86it/s]\n"
     ]
    },
    {
     "name": "stdout",
     "output_type": "stream",
     "text": [
      "\u001b[32m[1217 10:49:11 @DATSGAN.py:267]\u001b[0m Loading Preprocessor!\n"
     ]
    },
    {
     "name": "stderr",
     "output_type": "stream",
     "text": [
      "|                                                                                          |35/?[00:01<00:00,24.08it/s]\n"
     ]
    },
    {
     "name": "stdout",
     "output_type": "stream",
     "text": [
      "\u001b[32m[1217 10:49:13 @DATSGAN.py:267]\u001b[0m Loading Preprocessor!\n"
     ]
    },
    {
     "name": "stderr",
     "output_type": "stream",
     "text": [
      "|                                                                                          |35/?[00:01<00:00,22.63it/s]\n"
     ]
    },
    {
     "name": "stdout",
     "output_type": "stream",
     "text": [
      "\u001b[32m[1217 10:49:15 @DATSGAN.py:267]\u001b[0m Loading Preprocessor!\n"
     ]
    },
    {
     "name": "stderr",
     "output_type": "stream",
     "text": [
      "|                                                                                          |35/?[00:01<00:00,24.68it/s]\n"
     ]
    },
    {
     "name": "stdout",
     "output_type": "stream",
     "text": [
      "\u001b[32m[1217 10:49:17 @DATSGAN.py:267]\u001b[0m Loading Preprocessor!\n"
     ]
    },
    {
     "name": "stderr",
     "output_type": "stream",
     "text": [
      "|                                                                                          |35/?[00:01<00:00,23.23it/s]\n"
     ]
    },
    {
     "name": "stdout",
     "output_type": "stream",
     "text": [
      "\u001b[32m[1217 10:49:19 @DATSGAN.py:267]\u001b[0m Loading Preprocessor!\n"
     ]
    },
    {
     "name": "stderr",
     "output_type": "stream",
     "text": [
      "|                                                                                          |35/?[00:01<00:00,23.18it/s]\n"
     ]
    },
    {
     "name": "stdout",
     "output_type": "stream",
     "text": [
      "\u001b[32m[1217 10:49:21 @DATSGAN.py:267]\u001b[0m Loading Preprocessor!\n"
     ]
    },
    {
     "name": "stderr",
     "output_type": "stream",
     "text": [
      "|                                                                                          |35/?[00:01<00:00,24.37it/s]\n"
     ]
    },
    {
     "name": "stdout",
     "output_type": "stream",
     "text": [
      "\u001b[32m[1217 10:49:23 @DATSGAN.py:267]\u001b[0m Loading Preprocessor!\n"
     ]
    },
    {
     "name": "stderr",
     "output_type": "stream",
     "text": [
      "|                                                                                          |35/?[00:01<00:00,23.87it/s]\n"
     ]
    },
    {
     "name": "stdout",
     "output_type": "stream",
     "text": [
      "\u001b[32m[1217 10:49:25 @DATSGAN.py:267]\u001b[0m Loading Preprocessor!\n"
     ]
    },
    {
     "name": "stderr",
     "output_type": "stream",
     "text": [
      "|                                                                                          |35/?[00:01<00:00,23.89it/s]\n"
     ]
    },
    {
     "name": "stdout",
     "output_type": "stream",
     "text": [
      "\u001b[32m[1217 10:49:27 @DATSGAN.py:267]\u001b[0m Loading Preprocessor!\n"
     ]
    },
    {
     "name": "stderr",
     "output_type": "stream",
     "text": [
      "|                                                                                          |35/?[00:01<00:00,23.16it/s]\n"
     ]
    },
    {
     "name": "stdout",
     "output_type": "stream",
     "text": [
      "\u001b[32m[1217 10:49:29 @DATSGAN.py:267]\u001b[0m Loading Preprocessor!\n"
     ]
    },
    {
     "name": "stderr",
     "output_type": "stream",
     "text": [
      "|                                                                                          |35/?[00:01<00:00,24.84it/s]\n"
     ]
    },
    {
     "name": "stdout",
     "output_type": "stream",
     "text": [
      "\u001b[32m[1217 10:49:31 @DATSGAN.py:267]\u001b[0m Loading Preprocessor!\n"
     ]
    },
    {
     "name": "stderr",
     "output_type": "stream",
     "text": [
      "|                                                                                          |35/?[00:01<00:00,23.78it/s]\n"
     ]
    },
    {
     "name": "stdout",
     "output_type": "stream",
     "text": [
      "\u001b[32m[1217 10:49:33 @DATSGAN.py:267]\u001b[0m Loading Preprocessor!\n"
     ]
    },
    {
     "name": "stderr",
     "output_type": "stream",
     "text": [
      "|                                                                                          |35/?[00:01<00:00,22.57it/s]\n"
     ]
    },
    {
     "name": "stdout",
     "output_type": "stream",
     "text": [
      "\u001b[32m[1217 10:49:35 @DATSGAN.py:267]\u001b[0m Loading Preprocessor!\n"
     ]
    },
    {
     "name": "stderr",
     "output_type": "stream",
     "text": [
      "|                                                                                          |35/?[00:01<00:00,24.73it/s]\n"
     ]
    },
    {
     "name": "stdout",
     "output_type": "stream",
     "text": [
      "\u001b[32m[1217 10:49:37 @DATSGAN.py:267]\u001b[0m Loading Preprocessor!\n"
     ]
    },
    {
     "name": "stderr",
     "output_type": "stream",
     "text": [
      "|                                                                                          |35/?[00:01<00:00,24.81it/s]\n"
     ]
    },
    {
     "name": "stdout",
     "output_type": "stream",
     "text": [
      "\u001b[32m[1217 10:49:38 @DATSGAN.py:267]\u001b[0m Loading Preprocessor!\n"
     ]
    },
    {
     "name": "stderr",
     "output_type": "stream",
     "text": [
      "|                                                                                          |35/?[00:01<00:00,22.78it/s]\n"
     ]
    },
    {
     "name": "stdout",
     "output_type": "stream",
     "text": [
      "Sampling synthetic data from model \u001b[1mWGGP_OR_02\u001b[0m (47/60)\n",
      "\u001b[32m[1217 10:49:57 @DATSGANModel.py:213]\u001b[0m \u001b[91mCreating cell for travel_year (in-edges: 0; ancestors: 0)\n",
      "\u001b[32m[1217 10:49:57 @DATSGANModel.py:213]\u001b[0m \u001b[91mCreating cell for car_ownership (in-edges: 0; ancestors: 0)\n",
      "\u001b[32m[1217 10:49:57 @DATSGANModel.py:213]\u001b[0m \u001b[91mCreating cell for female (in-edges: 0; ancestors: 0)\n",
      "\u001b[32m[1217 10:49:57 @DATSGANModel.py:213]\u001b[0m \u001b[91mCreating cell for age (in-edges: 0; ancestors: 0)\n",
      "\u001b[32m[1217 10:49:57 @DATSGANModel.py:213]\u001b[0m \u001b[91mCreating cell for travel_month (in-edges: 1; ancestors: 1)\n",
      "\u001b[32m[1217 10:49:57 @DATSGANModel.py:213]\u001b[0m \u001b[91mCreating cell for fueltype (in-edges: 1; ancestors: 1)\n",
      "\u001b[32m[1217 10:49:58 @DATSGANModel.py:213]\u001b[0m \u001b[91mCreating cell for driving_license (in-edges: 3; ancestors: 3)\n",
      "\u001b[32m[1217 10:49:58 @DATSGANModel.py:213]\u001b[0m \u001b[91mCreating cell for faretype (in-edges: 1; ancestors: 1)\n",
      "\u001b[32m[1217 10:49:58 @DATSGANModel.py:213]\u001b[0m \u001b[91mCreating cell for travel_date (in-edges: 1; ancestors: 2)\n",
      "\u001b[32m[1217 10:49:58 @DATSGANModel.py:213]\u001b[0m \u001b[91mCreating cell for bus_scale (in-edges: 2; ancestors: 2)\n",
      "\u001b[32m[1217 10:49:58 @DATSGANModel.py:213]\u001b[0m \u001b[91mCreating cell for day_of_week (in-edges: 2; ancestors: 3)\n",
      "\u001b[32m[1217 10:49:58 @DATSGANModel.py:213]\u001b[0m \u001b[91mCreating cell for purpose (in-edges: 1; ancestors: 4)\n",
      "\u001b[32m[1217 10:49:58 @DATSGANModel.py:213]\u001b[0m \u001b[91mCreating cell for start_time_linear (in-edges: 2; ancestors: 5)\n",
      "\u001b[32m[1217 10:49:58 @DATSGANModel.py:213]\u001b[0m \u001b[91mCreating cell for distance (in-edges: 1; ancestors: 5)\n",
      "\u001b[32m[1217 10:49:58 @DATSGANModel.py:213]\u001b[0m \u001b[91mCreating cell for driving_traffic_percent (in-edges: 3; ancestors: 6)\n",
      "\u001b[32m[1217 10:49:59 @DATSGANModel.py:213]\u001b[0m \u001b[91mCreating cell for cost_driving_fuel (in-edges: 2; ancestors: 8)\n",
      "\u001b[32m[1217 10:49:59 @DATSGANModel.py:213]\u001b[0m \u001b[91mCreating cell for dur_driving (in-edges: 1; ancestors: 6)\n",
      "\u001b[32m[1217 10:49:59 @DATSGANModel.py:213]\u001b[0m \u001b[91mCreating cell for dur_walking (in-edges: 1; ancestors: 6)\n",
      "\u001b[32m[1217 10:49:59 @DATSGANModel.py:213]\u001b[0m \u001b[91mCreating cell for dur_cycling (in-edges: 1; ancestors: 6)\n",
      "\u001b[32m[1217 10:49:59 @DATSGANModel.py:213]\u001b[0m \u001b[91mCreating cell for dur_pt_access (in-edges: 1; ancestors: 6)\n",
      "\u001b[32m[1217 10:49:59 @DATSGANModel.py:213]\u001b[0m \u001b[91mCreating cell for pt_n_interchanges (in-edges: 1; ancestors: 6)\n",
      "\u001b[32m[1217 10:49:59 @DATSGANModel.py:213]\u001b[0m \u001b[91mCreating cell for cost_driving_con_charge (in-edges: 5; ancestors: 11)\n",
      "\u001b[32m[1217 10:49:59 @DATSGANModel.py:213]\u001b[0m \u001b[91mCreating cell for dur_pt_rail (in-edges: 2; ancestors: 7)\n",
      "\u001b[32m[1217 10:49:59 @DATSGANModel.py:213]\u001b[0m \u001b[91mCreating cell for dur_pt_bus (in-edges: 2; ancestors: 7)\n",
      "\u001b[32m[1217 10:50:00 @DATSGANModel.py:213]\u001b[0m \u001b[91mCreating cell for dur_pt_int (in-edges: 2; ancestors: 7)\n",
      "\u001b[32m[1217 10:50:00 @DATSGANModel.py:213]\u001b[0m \u001b[91mCreating cell for cost_transit (in-edges: 5; ancestors: 12)\n",
      "\u001b[32m[1217 10:50:00 @DATSGANModel.py:213]\u001b[0m \u001b[91mCreating cell for travel_mode (in-edges: 21; ancestors: 26)\n",
      "\u001b[32m[1217 10:50:01 @sessinit.py:87]\u001b[0m \u001b[5m\u001b[31mWRN\u001b[0m The following variables are in the checkpoint, but not found in the graph: global_step, optimize/beta1_power, optimize/beta2_power\n",
      "INFO:tensorflow:Graph was finalized.\n",
      "INFO:tensorflow:Running local_init_op.\n",
      "INFO:tensorflow:Done running local_init_op.\n",
      "\u001b[32m[1217 10:50:03 @sessinit.py:114]\u001b[0m Restoring checkpoint from ../output/LPMC/WGGP_OR_02/model\\model-41999 ...\n",
      "INFO:tensorflow:Restoring parameters from ../output/LPMC/WGGP_OR_02/model\\model-41999\n",
      "\u001b[32m[1217 10:50:04 @DATSGAN.py:267]\u001b[0m Loading Preprocessor!\n"
     ]
    },
    {
     "name": "stderr",
     "output_type": "stream",
     "text": [
      "|                                                                                          |35/?[00:02<00:00,14.40it/s]\n"
     ]
    },
    {
     "name": "stdout",
     "output_type": "stream",
     "text": [
      "\u001b[32m[1217 10:50:07 @DATSGAN.py:267]\u001b[0m Loading Preprocessor!\n"
     ]
    },
    {
     "name": "stderr",
     "output_type": "stream",
     "text": [
      "|                                                                                          |35/?[00:01<00:00,23.06it/s]\n"
     ]
    },
    {
     "name": "stdout",
     "output_type": "stream",
     "text": [
      "\u001b[32m[1217 10:50:09 @DATSGAN.py:267]\u001b[0m Loading Preprocessor!\n"
     ]
    },
    {
     "name": "stderr",
     "output_type": "stream",
     "text": [
      "|                                                                                          |35/?[00:01<00:00,23.36it/s]\n"
     ]
    },
    {
     "name": "stdout",
     "output_type": "stream",
     "text": [
      "\u001b[32m[1217 10:50:11 @DATSGAN.py:267]\u001b[0m Loading Preprocessor!\n"
     ]
    },
    {
     "name": "stderr",
     "output_type": "stream",
     "text": [
      "|                                                                                          |35/?[00:01<00:00,22.57it/s]\n"
     ]
    },
    {
     "name": "stdout",
     "output_type": "stream",
     "text": [
      "\u001b[32m[1217 10:50:13 @DATSGAN.py:267]\u001b[0m Loading Preprocessor!\n"
     ]
    },
    {
     "name": "stderr",
     "output_type": "stream",
     "text": [
      "|                                                                                          |35/?[00:01<00:00,21.66it/s]\n"
     ]
    },
    {
     "name": "stdout",
     "output_type": "stream",
     "text": [
      "\u001b[32m[1217 10:50:15 @DATSGAN.py:267]\u001b[0m Loading Preprocessor!\n"
     ]
    },
    {
     "name": "stderr",
     "output_type": "stream",
     "text": [
      "|                                                                                          |35/?[00:01<00:00,23.00it/s]\n"
     ]
    },
    {
     "name": "stdout",
     "output_type": "stream",
     "text": [
      "\u001b[32m[1217 10:50:17 @DATSGAN.py:267]\u001b[0m Loading Preprocessor!\n"
     ]
    },
    {
     "name": "stderr",
     "output_type": "stream",
     "text": [
      "|                                                                                          |35/?[00:01<00:00,23.39it/s]\n"
     ]
    },
    {
     "name": "stdout",
     "output_type": "stream",
     "text": [
      "\u001b[32m[1217 10:50:19 @DATSGAN.py:267]\u001b[0m Loading Preprocessor!\n"
     ]
    },
    {
     "name": "stderr",
     "output_type": "stream",
     "text": [
      "|                                                                                          |35/?[00:01<00:00,23.10it/s]\n"
     ]
    },
    {
     "name": "stdout",
     "output_type": "stream",
     "text": [
      "\u001b[32m[1217 10:50:21 @DATSGAN.py:267]\u001b[0m Loading Preprocessor!\n"
     ]
    },
    {
     "name": "stderr",
     "output_type": "stream",
     "text": [
      "|                                                                                          |35/?[00:01<00:00,22.71it/s]\n"
     ]
    },
    {
     "name": "stdout",
     "output_type": "stream",
     "text": [
      "\u001b[32m[1217 10:50:23 @DATSGAN.py:267]\u001b[0m Loading Preprocessor!\n"
     ]
    },
    {
     "name": "stderr",
     "output_type": "stream",
     "text": [
      "|                                                                                          |35/?[00:01<00:00,22.93it/s]\n"
     ]
    },
    {
     "name": "stdout",
     "output_type": "stream",
     "text": [
      "\u001b[32m[1217 10:50:25 @DATSGAN.py:267]\u001b[0m Loading Preprocessor!\n"
     ]
    },
    {
     "name": "stderr",
     "output_type": "stream",
     "text": [
      "|                                                                                          |35/?[00:01<00:00,23.84it/s]\n"
     ]
    },
    {
     "name": "stdout",
     "output_type": "stream",
     "text": [
      "\u001b[32m[1217 10:50:27 @DATSGAN.py:267]\u001b[0m Loading Preprocessor!\n"
     ]
    },
    {
     "name": "stderr",
     "output_type": "stream",
     "text": [
      "|                                                                                          |35/?[00:01<00:00,22.76it/s]\n"
     ]
    },
    {
     "name": "stdout",
     "output_type": "stream",
     "text": [
      "\u001b[32m[1217 10:50:29 @DATSGAN.py:267]\u001b[0m Loading Preprocessor!\n"
     ]
    },
    {
     "name": "stderr",
     "output_type": "stream",
     "text": [
      "|                                                                                          |35/?[00:01<00:00,22.81it/s]\n"
     ]
    },
    {
     "name": "stdout",
     "output_type": "stream",
     "text": [
      "\u001b[32m[1217 10:50:31 @DATSGAN.py:267]\u001b[0m Loading Preprocessor!\n"
     ]
    },
    {
     "name": "stderr",
     "output_type": "stream",
     "text": [
      "|                                                                                          |35/?[00:01<00:00,22.55it/s]\n"
     ]
    },
    {
     "name": "stdout",
     "output_type": "stream",
     "text": [
      "\u001b[32m[1217 10:50:34 @DATSGAN.py:267]\u001b[0m Loading Preprocessor!\n"
     ]
    },
    {
     "name": "stderr",
     "output_type": "stream",
     "text": [
      "|                                                                                          |35/?[00:01<00:00,23.74it/s]\n"
     ]
    },
    {
     "name": "stdout",
     "output_type": "stream",
     "text": [
      "\u001b[32m[1217 10:50:35 @DATSGAN.py:267]\u001b[0m Loading Preprocessor!\n"
     ]
    },
    {
     "name": "stderr",
     "output_type": "stream",
     "text": [
      "|                                                                                          |35/?[00:01<00:00,24.37it/s]\n"
     ]
    },
    {
     "name": "stdout",
     "output_type": "stream",
     "text": [
      "\u001b[32m[1217 10:50:37 @DATSGAN.py:267]\u001b[0m Loading Preprocessor!\n"
     ]
    },
    {
     "name": "stderr",
     "output_type": "stream",
     "text": [
      "|                                                                                          |35/?[00:01<00:00,22.58it/s]\n"
     ]
    },
    {
     "name": "stdout",
     "output_type": "stream",
     "text": [
      "\u001b[32m[1217 10:50:40 @DATSGAN.py:267]\u001b[0m Loading Preprocessor!\n"
     ]
    },
    {
     "name": "stderr",
     "output_type": "stream",
     "text": [
      "|                                                                                          |35/?[00:01<00:00,22.40it/s]\n"
     ]
    },
    {
     "name": "stdout",
     "output_type": "stream",
     "text": [
      "\u001b[32m[1217 10:50:42 @DATSGAN.py:267]\u001b[0m Loading Preprocessor!\n"
     ]
    },
    {
     "name": "stderr",
     "output_type": "stream",
     "text": [
      "|                                                                                          |35/?[00:01<00:00,23.13it/s]\n"
     ]
    },
    {
     "name": "stdout",
     "output_type": "stream",
     "text": [
      "\u001b[32m[1217 10:50:44 @DATSGAN.py:267]\u001b[0m Loading Preprocessor!\n"
     ]
    },
    {
     "name": "stderr",
     "output_type": "stream",
     "text": [
      "|                                                                                          |35/?[00:01<00:00,23.82it/s]\n"
     ]
    },
    {
     "name": "stdout",
     "output_type": "stream",
     "text": [
      "Sampling synthetic data from model \u001b[1mWGGP_OR_03\u001b[0m (48/60)\n",
      "\u001b[32m[1217 10:51:02 @DATSGANModel.py:213]\u001b[0m \u001b[91mCreating cell for travel_year (in-edges: 0; ancestors: 0)\n",
      "\u001b[32m[1217 10:51:02 @DATSGANModel.py:213]\u001b[0m \u001b[91mCreating cell for car_ownership (in-edges: 0; ancestors: 0)\n",
      "\u001b[32m[1217 10:51:02 @DATSGANModel.py:213]\u001b[0m \u001b[91mCreating cell for female (in-edges: 0; ancestors: 0)\n",
      "\u001b[32m[1217 10:51:02 @DATSGANModel.py:213]\u001b[0m \u001b[91mCreating cell for age (in-edges: 0; ancestors: 0)\n",
      "\u001b[32m[1217 10:51:03 @DATSGANModel.py:213]\u001b[0m \u001b[91mCreating cell for travel_month (in-edges: 1; ancestors: 1)\n",
      "\u001b[32m[1217 10:51:03 @DATSGANModel.py:213]\u001b[0m \u001b[91mCreating cell for fueltype (in-edges: 1; ancestors: 1)\n",
      "\u001b[32m[1217 10:51:03 @DATSGANModel.py:213]\u001b[0m \u001b[91mCreating cell for driving_license (in-edges: 3; ancestors: 3)\n",
      "\u001b[32m[1217 10:51:03 @DATSGANModel.py:213]\u001b[0m \u001b[91mCreating cell for faretype (in-edges: 1; ancestors: 1)\n",
      "\u001b[32m[1217 10:51:03 @DATSGANModel.py:213]\u001b[0m \u001b[91mCreating cell for travel_date (in-edges: 1; ancestors: 2)\n",
      "\u001b[32m[1217 10:51:03 @DATSGANModel.py:213]\u001b[0m \u001b[91mCreating cell for bus_scale (in-edges: 2; ancestors: 2)\n",
      "\u001b[32m[1217 10:51:03 @DATSGANModel.py:213]\u001b[0m \u001b[91mCreating cell for day_of_week (in-edges: 2; ancestors: 3)\n",
      "\u001b[32m[1217 10:51:03 @DATSGANModel.py:213]\u001b[0m \u001b[91mCreating cell for purpose (in-edges: 1; ancestors: 4)\n",
      "\u001b[32m[1217 10:51:03 @DATSGANModel.py:213]\u001b[0m \u001b[91mCreating cell for start_time_linear (in-edges: 2; ancestors: 5)\n",
      "\u001b[32m[1217 10:51:03 @DATSGANModel.py:213]\u001b[0m \u001b[91mCreating cell for distance (in-edges: 1; ancestors: 5)\n",
      "\u001b[32m[1217 10:51:03 @DATSGANModel.py:213]\u001b[0m \u001b[91mCreating cell for driving_traffic_percent (in-edges: 3; ancestors: 6)\n",
      "\u001b[32m[1217 10:51:04 @DATSGANModel.py:213]\u001b[0m \u001b[91mCreating cell for cost_driving_fuel (in-edges: 2; ancestors: 8)\n",
      "\u001b[32m[1217 10:51:04 @DATSGANModel.py:213]\u001b[0m \u001b[91mCreating cell for dur_driving (in-edges: 1; ancestors: 6)\n",
      "\u001b[32m[1217 10:51:04 @DATSGANModel.py:213]\u001b[0m \u001b[91mCreating cell for dur_walking (in-edges: 1; ancestors: 6)\n",
      "\u001b[32m[1217 10:51:04 @DATSGANModel.py:213]\u001b[0m \u001b[91mCreating cell for dur_cycling (in-edges: 1; ancestors: 6)\n",
      "\u001b[32m[1217 10:51:04 @DATSGANModel.py:213]\u001b[0m \u001b[91mCreating cell for dur_pt_access (in-edges: 1; ancestors: 6)\n",
      "\u001b[32m[1217 10:51:04 @DATSGANModel.py:213]\u001b[0m \u001b[91mCreating cell for pt_n_interchanges (in-edges: 1; ancestors: 6)\n",
      "\u001b[32m[1217 10:51:04 @DATSGANModel.py:213]\u001b[0m \u001b[91mCreating cell for cost_driving_con_charge (in-edges: 5; ancestors: 11)\n",
      "\u001b[32m[1217 10:51:04 @DATSGANModel.py:213]\u001b[0m \u001b[91mCreating cell for dur_pt_rail (in-edges: 2; ancestors: 7)\n",
      "\u001b[32m[1217 10:51:04 @DATSGANModel.py:213]\u001b[0m \u001b[91mCreating cell for dur_pt_bus (in-edges: 2; ancestors: 7)\n",
      "\u001b[32m[1217 10:51:05 @DATSGANModel.py:213]\u001b[0m \u001b[91mCreating cell for dur_pt_int (in-edges: 2; ancestors: 7)\n",
      "\u001b[32m[1217 10:51:05 @DATSGANModel.py:213]\u001b[0m \u001b[91mCreating cell for cost_transit (in-edges: 5; ancestors: 12)\n",
      "\u001b[32m[1217 10:51:05 @DATSGANModel.py:213]\u001b[0m \u001b[91mCreating cell for travel_mode (in-edges: 21; ancestors: 26)\n",
      "\u001b[32m[1217 10:51:06 @sessinit.py:87]\u001b[0m \u001b[5m\u001b[31mWRN\u001b[0m The following variables are in the checkpoint, but not found in the graph: global_step, optimize/beta1_power, optimize/beta2_power\n",
      "INFO:tensorflow:Graph was finalized.\n",
      "INFO:tensorflow:Running local_init_op.\n",
      "INFO:tensorflow:Done running local_init_op.\n",
      "\u001b[32m[1217 10:51:08 @sessinit.py:114]\u001b[0m Restoring checkpoint from ../output/LPMC/WGGP_OR_03/model\\model-41999 ...\n",
      "INFO:tensorflow:Restoring parameters from ../output/LPMC/WGGP_OR_03/model\\model-41999\n",
      "\u001b[32m[1217 10:51:09 @DATSGAN.py:267]\u001b[0m Loading Preprocessor!\n"
     ]
    },
    {
     "name": "stderr",
     "output_type": "stream",
     "text": [
      "|                                                                                          |35/?[00:02<00:00,15.15it/s]\n"
     ]
    },
    {
     "name": "stdout",
     "output_type": "stream",
     "text": [
      "\u001b[32m[1217 10:51:12 @DATSGAN.py:267]\u001b[0m Loading Preprocessor!\n"
     ]
    },
    {
     "name": "stderr",
     "output_type": "stream",
     "text": [
      "|                                                                                          |35/?[00:01<00:00,22.71it/s]\n"
     ]
    },
    {
     "name": "stdout",
     "output_type": "stream",
     "text": [
      "\u001b[32m[1217 10:51:14 @DATSGAN.py:267]\u001b[0m Loading Preprocessor!\n"
     ]
    },
    {
     "name": "stderr",
     "output_type": "stream",
     "text": [
      "|                                                                                          |35/?[00:01<00:00,22.76it/s]\n"
     ]
    },
    {
     "name": "stdout",
     "output_type": "stream",
     "text": [
      "\u001b[32m[1217 10:51:16 @DATSGAN.py:267]\u001b[0m Loading Preprocessor!\n"
     ]
    },
    {
     "name": "stderr",
     "output_type": "stream",
     "text": [
      "|                                                                                          |35/?[00:01<00:00,23.82it/s]\n"
     ]
    },
    {
     "name": "stdout",
     "output_type": "stream",
     "text": [
      "\u001b[32m[1217 10:51:18 @DATSGAN.py:267]\u001b[0m Loading Preprocessor!\n"
     ]
    },
    {
     "name": "stderr",
     "output_type": "stream",
     "text": [
      "|                                                                                          |35/?[00:01<00:00,23.64it/s]\n"
     ]
    },
    {
     "name": "stdout",
     "output_type": "stream",
     "text": [
      "\u001b[32m[1217 10:51:20 @DATSGAN.py:267]\u001b[0m Loading Preprocessor!\n"
     ]
    },
    {
     "name": "stderr",
     "output_type": "stream",
     "text": [
      "|                                                                                          |35/?[00:01<00:00,23.85it/s]\n"
     ]
    },
    {
     "name": "stdout",
     "output_type": "stream",
     "text": [
      "\u001b[32m[1217 10:51:22 @DATSGAN.py:267]\u001b[0m Loading Preprocessor!\n"
     ]
    },
    {
     "name": "stderr",
     "output_type": "stream",
     "text": [
      "|                                                                                          |35/?[00:01<00:00,24.08it/s]\n"
     ]
    },
    {
     "name": "stdout",
     "output_type": "stream",
     "text": [
      "\u001b[32m[1217 10:51:24 @DATSGAN.py:267]\u001b[0m Loading Preprocessor!\n"
     ]
    },
    {
     "name": "stderr",
     "output_type": "stream",
     "text": [
      "|                                                                                          |35/?[00:01<00:00,24.54it/s]\n"
     ]
    },
    {
     "name": "stdout",
     "output_type": "stream",
     "text": [
      "\u001b[32m[1217 10:51:26 @DATSGAN.py:267]\u001b[0m Loading Preprocessor!\n"
     ]
    },
    {
     "name": "stderr",
     "output_type": "stream",
     "text": [
      "|                                                                                          |35/?[00:01<00:00,24.01it/s]\n"
     ]
    },
    {
     "name": "stdout",
     "output_type": "stream",
     "text": [
      "\u001b[32m[1217 10:51:28 @DATSGAN.py:267]\u001b[0m Loading Preprocessor!\n"
     ]
    },
    {
     "name": "stderr",
     "output_type": "stream",
     "text": [
      "|                                                                                          |35/?[00:01<00:00,22.76it/s]\n"
     ]
    },
    {
     "name": "stdout",
     "output_type": "stream",
     "text": [
      "\u001b[32m[1217 10:51:30 @DATSGAN.py:267]\u001b[0m Loading Preprocessor!\n"
     ]
    },
    {
     "name": "stderr",
     "output_type": "stream",
     "text": [
      "|                                                                                          |35/?[00:01<00:00,23.58it/s]\n"
     ]
    },
    {
     "name": "stdout",
     "output_type": "stream",
     "text": [
      "\u001b[32m[1217 10:51:32 @DATSGAN.py:267]\u001b[0m Loading Preprocessor!\n"
     ]
    },
    {
     "name": "stderr",
     "output_type": "stream",
     "text": [
      "|                                                                                          |35/?[00:01<00:00,24.79it/s]\n"
     ]
    },
    {
     "name": "stdout",
     "output_type": "stream",
     "text": [
      "\u001b[32m[1217 10:51:34 @DATSGAN.py:267]\u001b[0m Loading Preprocessor!\n"
     ]
    },
    {
     "name": "stderr",
     "output_type": "stream",
     "text": [
      "|                                                                                          |35/?[00:01<00:00,24.06it/s]\n"
     ]
    },
    {
     "name": "stdout",
     "output_type": "stream",
     "text": [
      "\u001b[32m[1217 10:51:35 @DATSGAN.py:267]\u001b[0m Loading Preprocessor!\n"
     ]
    },
    {
     "name": "stderr",
     "output_type": "stream",
     "text": [
      "|                                                                                          |35/?[00:01<00:00,23.67it/s]\n"
     ]
    },
    {
     "name": "stdout",
     "output_type": "stream",
     "text": [
      "\u001b[32m[1217 10:51:38 @DATSGAN.py:267]\u001b[0m Loading Preprocessor!\n"
     ]
    },
    {
     "name": "stderr",
     "output_type": "stream",
     "text": [
      "|                                                                                          |35/?[00:01<00:00,23.26it/s]\n"
     ]
    },
    {
     "name": "stdout",
     "output_type": "stream",
     "text": [
      "\u001b[32m[1217 10:51:40 @DATSGAN.py:267]\u001b[0m Loading Preprocessor!\n"
     ]
    },
    {
     "name": "stderr",
     "output_type": "stream",
     "text": [
      "|                                                                                          |35/?[00:01<00:00,22.68it/s]\n"
     ]
    },
    {
     "name": "stdout",
     "output_type": "stream",
     "text": [
      "\u001b[32m[1217 10:51:42 @DATSGAN.py:267]\u001b[0m Loading Preprocessor!\n"
     ]
    },
    {
     "name": "stderr",
     "output_type": "stream",
     "text": [
      "|                                                                                          |35/?[00:01<00:00,22.30it/s]\n"
     ]
    },
    {
     "name": "stdout",
     "output_type": "stream",
     "text": [
      "\u001b[32m[1217 10:51:44 @DATSGAN.py:267]\u001b[0m Loading Preprocessor!\n"
     ]
    },
    {
     "name": "stderr",
     "output_type": "stream",
     "text": [
      "|                                                                                          |35/?[00:01<00:00,21.27it/s]\n"
     ]
    },
    {
     "name": "stdout",
     "output_type": "stream",
     "text": [
      "\u001b[32m[1217 10:51:46 @DATSGAN.py:267]\u001b[0m Loading Preprocessor!\n"
     ]
    },
    {
     "name": "stderr",
     "output_type": "stream",
     "text": [
      "|                                                                                          |35/?[00:01<00:00,22.67it/s]\n"
     ]
    },
    {
     "name": "stdout",
     "output_type": "stream",
     "text": [
      "\u001b[32m[1217 10:51:48 @DATSGAN.py:267]\u001b[0m Loading Preprocessor!\n"
     ]
    },
    {
     "name": "stderr",
     "output_type": "stream",
     "text": [
      "|                                                                                          |35/?[00:01<00:00,23.54it/s]\n"
     ]
    },
    {
     "name": "stdout",
     "output_type": "stream",
     "text": [
      "Sampling synthetic data from model \u001b[1mWGGP_OR_04\u001b[0m (49/60)\n",
      "\u001b[32m[1217 10:52:06 @DATSGANModel.py:213]\u001b[0m \u001b[91mCreating cell for travel_year (in-edges: 0; ancestors: 0)\n",
      "\u001b[32m[1217 10:52:06 @DATSGANModel.py:213]\u001b[0m \u001b[91mCreating cell for car_ownership (in-edges: 0; ancestors: 0)\n",
      "\u001b[32m[1217 10:52:07 @DATSGANModel.py:213]\u001b[0m \u001b[91mCreating cell for female (in-edges: 0; ancestors: 0)\n",
      "\u001b[32m[1217 10:52:07 @DATSGANModel.py:213]\u001b[0m \u001b[91mCreating cell for age (in-edges: 0; ancestors: 0)\n",
      "\u001b[32m[1217 10:52:07 @DATSGANModel.py:213]\u001b[0m \u001b[91mCreating cell for travel_month (in-edges: 1; ancestors: 1)\n",
      "\u001b[32m[1217 10:52:07 @DATSGANModel.py:213]\u001b[0m \u001b[91mCreating cell for fueltype (in-edges: 1; ancestors: 1)\n",
      "\u001b[32m[1217 10:52:07 @DATSGANModel.py:213]\u001b[0m \u001b[91mCreating cell for driving_license (in-edges: 3; ancestors: 3)\n",
      "\u001b[32m[1217 10:52:07 @DATSGANModel.py:213]\u001b[0m \u001b[91mCreating cell for faretype (in-edges: 1; ancestors: 1)\n",
      "\u001b[32m[1217 10:52:07 @DATSGANModel.py:213]\u001b[0m \u001b[91mCreating cell for travel_date (in-edges: 1; ancestors: 2)\n",
      "\u001b[32m[1217 10:52:07 @DATSGANModel.py:213]\u001b[0m \u001b[91mCreating cell for bus_scale (in-edges: 2; ancestors: 2)\n",
      "\u001b[32m[1217 10:52:08 @DATSGANModel.py:213]\u001b[0m \u001b[91mCreating cell for day_of_week (in-edges: 2; ancestors: 3)\n",
      "\u001b[32m[1217 10:52:08 @DATSGANModel.py:213]\u001b[0m \u001b[91mCreating cell for purpose (in-edges: 1; ancestors: 4)\n",
      "\u001b[32m[1217 10:52:08 @DATSGANModel.py:213]\u001b[0m \u001b[91mCreating cell for start_time_linear (in-edges: 2; ancestors: 5)\n",
      "\u001b[32m[1217 10:52:08 @DATSGANModel.py:213]\u001b[0m \u001b[91mCreating cell for distance (in-edges: 1; ancestors: 5)\n",
      "\u001b[32m[1217 10:52:08 @DATSGANModel.py:213]\u001b[0m \u001b[91mCreating cell for driving_traffic_percent (in-edges: 3; ancestors: 6)\n",
      "\u001b[32m[1217 10:52:08 @DATSGANModel.py:213]\u001b[0m \u001b[91mCreating cell for cost_driving_fuel (in-edges: 2; ancestors: 8)\n",
      "\u001b[32m[1217 10:52:08 @DATSGANModel.py:213]\u001b[0m \u001b[91mCreating cell for dur_driving (in-edges: 1; ancestors: 6)\n",
      "\u001b[32m[1217 10:52:08 @DATSGANModel.py:213]\u001b[0m \u001b[91mCreating cell for dur_walking (in-edges: 1; ancestors: 6)\n",
      "\u001b[32m[1217 10:52:08 @DATSGANModel.py:213]\u001b[0m \u001b[91mCreating cell for dur_cycling (in-edges: 1; ancestors: 6)\n",
      "\u001b[32m[1217 10:52:08 @DATSGANModel.py:213]\u001b[0m \u001b[91mCreating cell for dur_pt_access (in-edges: 1; ancestors: 6)\n",
      "\u001b[32m[1217 10:52:09 @DATSGANModel.py:213]\u001b[0m \u001b[91mCreating cell for pt_n_interchanges (in-edges: 1; ancestors: 6)\n",
      "\u001b[32m[1217 10:52:09 @DATSGANModel.py:213]\u001b[0m \u001b[91mCreating cell for cost_driving_con_charge (in-edges: 5; ancestors: 11)\n",
      "\u001b[32m[1217 10:52:09 @DATSGANModel.py:213]\u001b[0m \u001b[91mCreating cell for dur_pt_rail (in-edges: 2; ancestors: 7)\n",
      "\u001b[32m[1217 10:52:09 @DATSGANModel.py:213]\u001b[0m \u001b[91mCreating cell for dur_pt_bus (in-edges: 2; ancestors: 7)\n",
      "\u001b[32m[1217 10:52:09 @DATSGANModel.py:213]\u001b[0m \u001b[91mCreating cell for dur_pt_int (in-edges: 2; ancestors: 7)\n",
      "\u001b[32m[1217 10:52:09 @DATSGANModel.py:213]\u001b[0m \u001b[91mCreating cell for cost_transit (in-edges: 5; ancestors: 12)\n",
      "\u001b[32m[1217 10:52:09 @DATSGANModel.py:213]\u001b[0m \u001b[91mCreating cell for travel_mode (in-edges: 21; ancestors: 26)\n",
      "\u001b[32m[1217 10:52:10 @sessinit.py:87]\u001b[0m \u001b[5m\u001b[31mWRN\u001b[0m The following variables are in the checkpoint, but not found in the graph: global_step, optimize/beta1_power, optimize/beta2_power\n",
      "INFO:tensorflow:Graph was finalized.\n",
      "INFO:tensorflow:Running local_init_op.\n",
      "INFO:tensorflow:Done running local_init_op.\n",
      "\u001b[32m[1217 10:52:13 @sessinit.py:114]\u001b[0m Restoring checkpoint from ../output/LPMC/WGGP_OR_04/model\\model-41999 ...\n",
      "INFO:tensorflow:Restoring parameters from ../output/LPMC/WGGP_OR_04/model\\model-41999\n",
      "\u001b[32m[1217 10:52:13 @DATSGAN.py:267]\u001b[0m Loading Preprocessor!\n"
     ]
    },
    {
     "name": "stderr",
     "output_type": "stream",
     "text": [
      "|                                                                                          |35/?[00:02<00:00,15.47it/s]\n"
     ]
    },
    {
     "name": "stdout",
     "output_type": "stream",
     "text": [
      "\u001b[32m[1217 10:52:16 @DATSGAN.py:267]\u001b[0m Loading Preprocessor!\n"
     ]
    },
    {
     "name": "stderr",
     "output_type": "stream",
     "text": [
      "|                                                                                          |35/?[00:01<00:00,23.39it/s]\n"
     ]
    },
    {
     "name": "stdout",
     "output_type": "stream",
     "text": [
      "\u001b[32m[1217 10:52:18 @DATSGAN.py:267]\u001b[0m Loading Preprocessor!\n"
     ]
    },
    {
     "name": "stderr",
     "output_type": "stream",
     "text": [
      "|                                                                                          |35/?[00:01<00:00,23.36it/s]\n"
     ]
    },
    {
     "name": "stdout",
     "output_type": "stream",
     "text": [
      "\u001b[32m[1217 10:52:20 @DATSGAN.py:267]\u001b[0m Loading Preprocessor!\n"
     ]
    },
    {
     "name": "stderr",
     "output_type": "stream",
     "text": [
      "|                                                                                          |35/?[00:01<00:00,25.17it/s]\n"
     ]
    },
    {
     "name": "stdout",
     "output_type": "stream",
     "text": [
      "\u001b[32m[1217 10:52:22 @DATSGAN.py:267]\u001b[0m Loading Preprocessor!\n"
     ]
    },
    {
     "name": "stderr",
     "output_type": "stream",
     "text": [
      "|                                                                                          |35/?[00:01<00:00,24.41it/s]\n"
     ]
    },
    {
     "name": "stdout",
     "output_type": "stream",
     "text": [
      "\u001b[32m[1217 10:52:24 @DATSGAN.py:267]\u001b[0m Loading Preprocessor!\n"
     ]
    },
    {
     "name": "stderr",
     "output_type": "stream",
     "text": [
      "|                                                                                          |35/?[00:01<00:00,24.71it/s]\n"
     ]
    },
    {
     "name": "stdout",
     "output_type": "stream",
     "text": [
      "\u001b[32m[1217 10:52:26 @DATSGAN.py:267]\u001b[0m Loading Preprocessor!\n"
     ]
    },
    {
     "name": "stderr",
     "output_type": "stream",
     "text": [
      "|                                                                                          |35/?[00:01<00:00,21.83it/s]\n"
     ]
    },
    {
     "name": "stdout",
     "output_type": "stream",
     "text": [
      "\u001b[32m[1217 10:52:28 @DATSGAN.py:267]\u001b[0m Loading Preprocessor!\n"
     ]
    },
    {
     "name": "stderr",
     "output_type": "stream",
     "text": [
      "|                                                                                          |35/?[00:01<00:00,23.07it/s]\n"
     ]
    },
    {
     "name": "stdout",
     "output_type": "stream",
     "text": [
      "\u001b[32m[1217 10:52:30 @DATSGAN.py:267]\u001b[0m Loading Preprocessor!\n"
     ]
    },
    {
     "name": "stderr",
     "output_type": "stream",
     "text": [
      "|                                                                                          |35/?[00:01<00:00,23.34it/s]\n"
     ]
    },
    {
     "name": "stdout",
     "output_type": "stream",
     "text": [
      "\u001b[32m[1217 10:52:32 @DATSGAN.py:267]\u001b[0m Loading Preprocessor!\n"
     ]
    },
    {
     "name": "stderr",
     "output_type": "stream",
     "text": [
      "|                                                                                          |35/?[00:01<00:00,23.82it/s]\n"
     ]
    },
    {
     "name": "stdout",
     "output_type": "stream",
     "text": [
      "\u001b[32m[1217 10:52:34 @DATSGAN.py:267]\u001b[0m Loading Preprocessor!\n"
     ]
    },
    {
     "name": "stderr",
     "output_type": "stream",
     "text": [
      "|                                                                                          |35/?[00:01<00:00,24.64it/s]\n"
     ]
    },
    {
     "name": "stdout",
     "output_type": "stream",
     "text": [
      "\u001b[32m[1217 10:52:36 @DATSGAN.py:267]\u001b[0m Loading Preprocessor!\n"
     ]
    },
    {
     "name": "stderr",
     "output_type": "stream",
     "text": [
      "|                                                                                          |35/?[00:01<00:00,22.09it/s]\n"
     ]
    },
    {
     "name": "stdout",
     "output_type": "stream",
     "text": [
      "\u001b[32m[1217 10:52:39 @DATSGAN.py:267]\u001b[0m Loading Preprocessor!\n"
     ]
    },
    {
     "name": "stderr",
     "output_type": "stream",
     "text": [
      "|                                                                                          |35/?[00:01<00:00,24.45it/s]\n"
     ]
    },
    {
     "name": "stdout",
     "output_type": "stream",
     "text": [
      "\u001b[32m[1217 10:52:41 @DATSGAN.py:267]\u001b[0m Loading Preprocessor!\n"
     ]
    },
    {
     "name": "stderr",
     "output_type": "stream",
     "text": [
      "|                                                                                          |35/?[00:01<00:00,24.07it/s]\n"
     ]
    },
    {
     "name": "stdout",
     "output_type": "stream",
     "text": [
      "\u001b[32m[1217 10:52:42 @DATSGAN.py:267]\u001b[0m Loading Preprocessor!\n"
     ]
    },
    {
     "name": "stderr",
     "output_type": "stream",
     "text": [
      "|                                                                                          |35/?[00:01<00:00,23.07it/s]\n"
     ]
    },
    {
     "name": "stdout",
     "output_type": "stream",
     "text": [
      "\u001b[32m[1217 10:52:45 @DATSGAN.py:267]\u001b[0m Loading Preprocessor!\n"
     ]
    },
    {
     "name": "stderr",
     "output_type": "stream",
     "text": [
      "|                                                                                          |35/?[00:01<00:00,24.87it/s]\n"
     ]
    },
    {
     "name": "stdout",
     "output_type": "stream",
     "text": [
      "\u001b[32m[1217 10:52:46 @DATSGAN.py:267]\u001b[0m Loading Preprocessor!\n"
     ]
    },
    {
     "name": "stderr",
     "output_type": "stream",
     "text": [
      "|                                                                                          |35/?[00:01<00:00,24.51it/s]\n"
     ]
    },
    {
     "name": "stdout",
     "output_type": "stream",
     "text": [
      "\u001b[32m[1217 10:52:48 @DATSGAN.py:267]\u001b[0m Loading Preprocessor!\n"
     ]
    },
    {
     "name": "stderr",
     "output_type": "stream",
     "text": [
      "|                                                                                          |35/?[00:01<00:00,23.78it/s]\n"
     ]
    },
    {
     "name": "stdout",
     "output_type": "stream",
     "text": [
      "\u001b[32m[1217 10:52:50 @DATSGAN.py:267]\u001b[0m Loading Preprocessor!\n"
     ]
    },
    {
     "name": "stderr",
     "output_type": "stream",
     "text": [
      "|                                                                                          |35/?[00:01<00:00,24.40it/s]\n"
     ]
    },
    {
     "name": "stdout",
     "output_type": "stream",
     "text": [
      "\u001b[32m[1217 10:52:52 @DATSGAN.py:267]\u001b[0m Loading Preprocessor!\n"
     ]
    },
    {
     "name": "stderr",
     "output_type": "stream",
     "text": [
      "|                                                                                          |35/?[00:01<00:00,24.28it/s]\n"
     ]
    },
    {
     "name": "stdout",
     "output_type": "stream",
     "text": [
      "Sampling synthetic data from model \u001b[1mWGGP_OR_05\u001b[0m (50/60)\n",
      "\u001b[32m[1217 10:53:10 @DATSGANModel.py:213]\u001b[0m \u001b[91mCreating cell for travel_year (in-edges: 0; ancestors: 0)\n",
      "\u001b[32m[1217 10:53:11 @DATSGANModel.py:213]\u001b[0m \u001b[91mCreating cell for car_ownership (in-edges: 0; ancestors: 0)\n",
      "\u001b[32m[1217 10:53:11 @DATSGANModel.py:213]\u001b[0m \u001b[91mCreating cell for female (in-edges: 0; ancestors: 0)\n",
      "\u001b[32m[1217 10:53:11 @DATSGANModel.py:213]\u001b[0m \u001b[91mCreating cell for age (in-edges: 0; ancestors: 0)\n",
      "\u001b[32m[1217 10:53:11 @DATSGANModel.py:213]\u001b[0m \u001b[91mCreating cell for travel_month (in-edges: 1; ancestors: 1)\n",
      "\u001b[32m[1217 10:53:11 @DATSGANModel.py:213]\u001b[0m \u001b[91mCreating cell for fueltype (in-edges: 1; ancestors: 1)\n",
      "\u001b[32m[1217 10:53:11 @DATSGANModel.py:213]\u001b[0m \u001b[91mCreating cell for driving_license (in-edges: 3; ancestors: 3)\n",
      "\u001b[32m[1217 10:53:11 @DATSGANModel.py:213]\u001b[0m \u001b[91mCreating cell for faretype (in-edges: 1; ancestors: 1)\n",
      "\u001b[32m[1217 10:53:11 @DATSGANModel.py:213]\u001b[0m \u001b[91mCreating cell for travel_date (in-edges: 1; ancestors: 2)\n",
      "\u001b[32m[1217 10:53:11 @DATSGANModel.py:213]\u001b[0m \u001b[91mCreating cell for bus_scale (in-edges: 2; ancestors: 2)\n",
      "\u001b[32m[1217 10:53:11 @DATSGANModel.py:213]\u001b[0m \u001b[91mCreating cell for day_of_week (in-edges: 2; ancestors: 3)\n",
      "\u001b[32m[1217 10:53:11 @DATSGANModel.py:213]\u001b[0m \u001b[91mCreating cell for purpose (in-edges: 1; ancestors: 4)\n",
      "\u001b[32m[1217 10:53:12 @DATSGANModel.py:213]\u001b[0m \u001b[91mCreating cell for start_time_linear (in-edges: 2; ancestors: 5)\n",
      "\u001b[32m[1217 10:53:12 @DATSGANModel.py:213]\u001b[0m \u001b[91mCreating cell for distance (in-edges: 1; ancestors: 5)\n",
      "\u001b[32m[1217 10:53:12 @DATSGANModel.py:213]\u001b[0m \u001b[91mCreating cell for driving_traffic_percent (in-edges: 3; ancestors: 6)\n",
      "\u001b[32m[1217 10:53:12 @DATSGANModel.py:213]\u001b[0m \u001b[91mCreating cell for cost_driving_fuel (in-edges: 2; ancestors: 8)\n",
      "\u001b[32m[1217 10:53:12 @DATSGANModel.py:213]\u001b[0m \u001b[91mCreating cell for dur_driving (in-edges: 1; ancestors: 6)\n",
      "\u001b[32m[1217 10:53:12 @DATSGANModel.py:213]\u001b[0m \u001b[91mCreating cell for dur_walking (in-edges: 1; ancestors: 6)\n",
      "\u001b[32m[1217 10:53:12 @DATSGANModel.py:213]\u001b[0m \u001b[91mCreating cell for dur_cycling (in-edges: 1; ancestors: 6)\n",
      "\u001b[32m[1217 10:53:12 @DATSGANModel.py:213]\u001b[0m \u001b[91mCreating cell for dur_pt_access (in-edges: 1; ancestors: 6)\n",
      "\u001b[32m[1217 10:53:12 @DATSGANModel.py:213]\u001b[0m \u001b[91mCreating cell for pt_n_interchanges (in-edges: 1; ancestors: 6)\n",
      "\u001b[32m[1217 10:53:13 @DATSGANModel.py:213]\u001b[0m \u001b[91mCreating cell for cost_driving_con_charge (in-edges: 5; ancestors: 11)\n",
      "\u001b[32m[1217 10:53:13 @DATSGANModel.py:213]\u001b[0m \u001b[91mCreating cell for dur_pt_rail (in-edges: 2; ancestors: 7)\n",
      "\u001b[32m[1217 10:53:13 @DATSGANModel.py:213]\u001b[0m \u001b[91mCreating cell for dur_pt_bus (in-edges: 2; ancestors: 7)\n",
      "\u001b[32m[1217 10:53:13 @DATSGANModel.py:213]\u001b[0m \u001b[91mCreating cell for dur_pt_int (in-edges: 2; ancestors: 7)\n",
      "\u001b[32m[1217 10:53:13 @DATSGANModel.py:213]\u001b[0m \u001b[91mCreating cell for cost_transit (in-edges: 5; ancestors: 12)\n",
      "\u001b[32m[1217 10:53:13 @DATSGANModel.py:213]\u001b[0m \u001b[91mCreating cell for travel_mode (in-edges: 21; ancestors: 26)\n",
      "\u001b[32m[1217 10:53:14 @sessinit.py:87]\u001b[0m \u001b[5m\u001b[31mWRN\u001b[0m The following variables are in the checkpoint, but not found in the graph: global_step, optimize/beta1_power, optimize/beta2_power\n",
      "INFO:tensorflow:Graph was finalized.\n",
      "INFO:tensorflow:Running local_init_op.\n",
      "INFO:tensorflow:Done running local_init_op.\n",
      "\u001b[32m[1217 10:53:17 @sessinit.py:114]\u001b[0m Restoring checkpoint from ../output/LPMC/WGGP_OR_05/model\\model-41999 ...\n",
      "INFO:tensorflow:Restoring parameters from ../output/LPMC/WGGP_OR_05/model\\model-41999\n",
      "\u001b[32m[1217 10:53:17 @DATSGAN.py:267]\u001b[0m Loading Preprocessor!\n"
     ]
    },
    {
     "name": "stderr",
     "output_type": "stream",
     "text": [
      "|                                                                                          |35/?[00:02<00:00,14.97it/s]\n"
     ]
    },
    {
     "name": "stdout",
     "output_type": "stream",
     "text": [
      "\u001b[32m[1217 10:53:20 @DATSGAN.py:267]\u001b[0m Loading Preprocessor!\n"
     ]
    },
    {
     "name": "stderr",
     "output_type": "stream",
     "text": [
      "|                                                                                          |35/?[00:01<00:00,22.54it/s]\n"
     ]
    },
    {
     "name": "stdout",
     "output_type": "stream",
     "text": [
      "\u001b[32m[1217 10:53:22 @DATSGAN.py:267]\u001b[0m Loading Preprocessor!\n"
     ]
    },
    {
     "name": "stderr",
     "output_type": "stream",
     "text": [
      "|                                                                                          |35/?[00:01<00:00,22.56it/s]\n"
     ]
    },
    {
     "name": "stdout",
     "output_type": "stream",
     "text": [
      "\u001b[32m[1217 10:53:24 @DATSGAN.py:267]\u001b[0m Loading Preprocessor!\n"
     ]
    },
    {
     "name": "stderr",
     "output_type": "stream",
     "text": [
      "|                                                                                          |35/?[00:01<00:00,23.47it/s]\n"
     ]
    },
    {
     "name": "stdout",
     "output_type": "stream",
     "text": [
      "\u001b[32m[1217 10:53:26 @DATSGAN.py:267]\u001b[0m Loading Preprocessor!\n"
     ]
    },
    {
     "name": "stderr",
     "output_type": "stream",
     "text": [
      "|                                                                                          |35/?[00:01<00:00,23.73it/s]\n"
     ]
    },
    {
     "name": "stdout",
     "output_type": "stream",
     "text": [
      "\u001b[32m[1217 10:53:28 @DATSGAN.py:267]\u001b[0m Loading Preprocessor!\n"
     ]
    },
    {
     "name": "stderr",
     "output_type": "stream",
     "text": [
      "|                                                                                          |35/?[00:01<00:00,22.50it/s]\n"
     ]
    },
    {
     "name": "stdout",
     "output_type": "stream",
     "text": [
      "\u001b[32m[1217 10:53:30 @DATSGAN.py:267]\u001b[0m Loading Preprocessor!\n"
     ]
    },
    {
     "name": "stderr",
     "output_type": "stream",
     "text": [
      "|                                                                                          |35/?[00:01<00:00,24.97it/s]\n"
     ]
    },
    {
     "name": "stdout",
     "output_type": "stream",
     "text": [
      "\u001b[32m[1217 10:53:32 @DATSGAN.py:267]\u001b[0m Loading Preprocessor!\n"
     ]
    },
    {
     "name": "stderr",
     "output_type": "stream",
     "text": [
      "|                                                                                          |35/?[00:01<00:00,23.80it/s]\n"
     ]
    },
    {
     "name": "stdout",
     "output_type": "stream",
     "text": [
      "\u001b[32m[1217 10:53:34 @DATSGAN.py:267]\u001b[0m Loading Preprocessor!\n"
     ]
    },
    {
     "name": "stderr",
     "output_type": "stream",
     "text": [
      "|                                                                                          |35/?[00:01<00:00,23.87it/s]\n"
     ]
    },
    {
     "name": "stdout",
     "output_type": "stream",
     "text": [
      "\u001b[32m[1217 10:53:36 @DATSGAN.py:267]\u001b[0m Loading Preprocessor!\n"
     ]
    },
    {
     "name": "stderr",
     "output_type": "stream",
     "text": [
      "|                                                                                          |35/?[00:01<00:00,22.62it/s]\n"
     ]
    },
    {
     "name": "stdout",
     "output_type": "stream",
     "text": [
      "\u001b[32m[1217 10:53:38 @DATSGAN.py:267]\u001b[0m Loading Preprocessor!\n"
     ]
    },
    {
     "name": "stderr",
     "output_type": "stream",
     "text": [
      "|                                                                                          |35/?[00:01<00:00,22.39it/s]\n"
     ]
    },
    {
     "name": "stdout",
     "output_type": "stream",
     "text": [
      "\u001b[32m[1217 10:53:40 @DATSGAN.py:267]\u001b[0m Loading Preprocessor!\n"
     ]
    },
    {
     "name": "stderr",
     "output_type": "stream",
     "text": [
      "|                                                                                          |35/?[00:01<00:00,24.28it/s]\n"
     ]
    },
    {
     "name": "stdout",
     "output_type": "stream",
     "text": [
      "\u001b[32m[1217 10:53:42 @DATSGAN.py:267]\u001b[0m Loading Preprocessor!\n"
     ]
    },
    {
     "name": "stderr",
     "output_type": "stream",
     "text": [
      "|                                                                                          |35/?[00:01<00:00,23.81it/s]\n"
     ]
    },
    {
     "name": "stdout",
     "output_type": "stream",
     "text": [
      "\u001b[32m[1217 10:53:44 @DATSGAN.py:267]\u001b[0m Loading Preprocessor!\n"
     ]
    },
    {
     "name": "stderr",
     "output_type": "stream",
     "text": [
      "|                                                                                          |35/?[00:01<00:00,22.47it/s]\n"
     ]
    },
    {
     "name": "stdout",
     "output_type": "stream",
     "text": [
      "\u001b[32m[1217 10:53:46 @DATSGAN.py:267]\u001b[0m Loading Preprocessor!\n"
     ]
    },
    {
     "name": "stderr",
     "output_type": "stream",
     "text": [
      "|                                                                                          |35/?[00:01<00:00,23.92it/s]\n"
     ]
    },
    {
     "name": "stdout",
     "output_type": "stream",
     "text": [
      "\u001b[32m[1217 10:53:48 @DATSGAN.py:267]\u001b[0m Loading Preprocessor!\n"
     ]
    },
    {
     "name": "stderr",
     "output_type": "stream",
     "text": [
      "|                                                                                          |35/?[00:01<00:00,21.75it/s]\n"
     ]
    },
    {
     "name": "stdout",
     "output_type": "stream",
     "text": [
      "\u001b[32m[1217 10:53:51 @DATSGAN.py:267]\u001b[0m Loading Preprocessor!\n"
     ]
    },
    {
     "name": "stderr",
     "output_type": "stream",
     "text": [
      "|                                                                                          |35/?[00:01<00:00,23.05it/s]\n"
     ]
    },
    {
     "name": "stdout",
     "output_type": "stream",
     "text": [
      "\u001b[32m[1217 10:53:53 @DATSGAN.py:267]\u001b[0m Loading Preprocessor!\n"
     ]
    },
    {
     "name": "stderr",
     "output_type": "stream",
     "text": [
      "|                                                                                          |35/?[00:01<00:00,23.22it/s]\n"
     ]
    },
    {
     "name": "stdout",
     "output_type": "stream",
     "text": [
      "\u001b[32m[1217 10:53:55 @DATSGAN.py:267]\u001b[0m Loading Preprocessor!\n"
     ]
    },
    {
     "name": "stderr",
     "output_type": "stream",
     "text": [
      "|                                                                                          |35/?[00:01<00:00,22.71it/s]\n"
     ]
    },
    {
     "name": "stdout",
     "output_type": "stream",
     "text": [
      "\u001b[32m[1217 10:53:57 @DATSGAN.py:267]\u001b[0m Loading Preprocessor!\n"
     ]
    },
    {
     "name": "stderr",
     "output_type": "stream",
     "text": [
      "|                                                                                          |35/?[00:01<00:00,22.49it/s]\n"
     ]
    },
    {
     "name": "stdout",
     "output_type": "stream",
     "text": [
      "Sampling synthetic data from model \u001b[1mWGGP_WI_01\u001b[0m (51/60)\n",
      "\u001b[32m[1217 10:54:15 @DATSGANModel.py:213]\u001b[0m \u001b[91mCreating cell for travel_year (in-edges: 0; ancestors: 0)\n",
      "\u001b[32m[1217 10:54:15 @DATSGANModel.py:213]\u001b[0m \u001b[91mCreating cell for car_ownership (in-edges: 0; ancestors: 0)\n",
      "\u001b[32m[1217 10:54:15 @DATSGANModel.py:213]\u001b[0m \u001b[91mCreating cell for female (in-edges: 0; ancestors: 0)\n",
      "\u001b[32m[1217 10:54:15 @DATSGANModel.py:213]\u001b[0m \u001b[91mCreating cell for age (in-edges: 0; ancestors: 0)\n",
      "\u001b[32m[1217 10:54:15 @DATSGANModel.py:213]\u001b[0m \u001b[91mCreating cell for travel_month (in-edges: 1; ancestors: 1)\n",
      "\u001b[32m[1217 10:54:15 @DATSGANModel.py:213]\u001b[0m \u001b[91mCreating cell for fueltype (in-edges: 1; ancestors: 1)\n",
      "\u001b[32m[1217 10:54:16 @DATSGANModel.py:213]\u001b[0m \u001b[91mCreating cell for driving_license (in-edges: 3; ancestors: 3)\n",
      "\u001b[32m[1217 10:54:16 @DATSGANModel.py:213]\u001b[0m \u001b[91mCreating cell for faretype (in-edges: 1; ancestors: 1)\n",
      "\u001b[32m[1217 10:54:16 @DATSGANModel.py:213]\u001b[0m \u001b[91mCreating cell for travel_date (in-edges: 1; ancestors: 2)\n",
      "\u001b[32m[1217 10:54:16 @DATSGANModel.py:213]\u001b[0m \u001b[91mCreating cell for bus_scale (in-edges: 2; ancestors: 2)\n",
      "\u001b[32m[1217 10:54:16 @DATSGANModel.py:213]\u001b[0m \u001b[91mCreating cell for day_of_week (in-edges: 2; ancestors: 3)\n",
      "\u001b[32m[1217 10:54:16 @DATSGANModel.py:213]\u001b[0m \u001b[91mCreating cell for purpose (in-edges: 1; ancestors: 4)\n",
      "\u001b[32m[1217 10:54:16 @DATSGANModel.py:213]\u001b[0m \u001b[91mCreating cell for start_time_linear (in-edges: 2; ancestors: 5)\n",
      "\u001b[32m[1217 10:54:17 @DATSGANModel.py:213]\u001b[0m \u001b[91mCreating cell for distance (in-edges: 1; ancestors: 5)\n",
      "\u001b[32m[1217 10:54:17 @DATSGANModel.py:213]\u001b[0m \u001b[91mCreating cell for driving_traffic_percent (in-edges: 3; ancestors: 6)\n",
      "\u001b[32m[1217 10:54:17 @DATSGANModel.py:213]\u001b[0m \u001b[91mCreating cell for cost_driving_fuel (in-edges: 2; ancestors: 8)\n",
      "\u001b[32m[1217 10:54:17 @DATSGANModel.py:213]\u001b[0m \u001b[91mCreating cell for dur_driving (in-edges: 1; ancestors: 6)\n",
      "\u001b[32m[1217 10:54:17 @DATSGANModel.py:213]\u001b[0m \u001b[91mCreating cell for dur_walking (in-edges: 1; ancestors: 6)\n",
      "\u001b[32m[1217 10:54:17 @DATSGANModel.py:213]\u001b[0m \u001b[91mCreating cell for dur_cycling (in-edges: 1; ancestors: 6)\n",
      "\u001b[32m[1217 10:54:17 @DATSGANModel.py:213]\u001b[0m \u001b[91mCreating cell for dur_pt_access (in-edges: 1; ancestors: 6)\n",
      "\u001b[32m[1217 10:54:17 @DATSGANModel.py:213]\u001b[0m \u001b[91mCreating cell for pt_n_interchanges (in-edges: 1; ancestors: 6)\n",
      "\u001b[32m[1217 10:54:17 @DATSGANModel.py:213]\u001b[0m \u001b[91mCreating cell for cost_driving_con_charge (in-edges: 5; ancestors: 11)\n",
      "\u001b[32m[1217 10:54:18 @DATSGANModel.py:213]\u001b[0m \u001b[91mCreating cell for dur_pt_rail (in-edges: 2; ancestors: 7)\n",
      "\u001b[32m[1217 10:54:18 @DATSGANModel.py:213]\u001b[0m \u001b[91mCreating cell for dur_pt_bus (in-edges: 2; ancestors: 7)\n",
      "\u001b[32m[1217 10:54:18 @DATSGANModel.py:213]\u001b[0m \u001b[91mCreating cell for dur_pt_int (in-edges: 2; ancestors: 7)\n",
      "\u001b[32m[1217 10:54:18 @DATSGANModel.py:213]\u001b[0m \u001b[91mCreating cell for cost_transit (in-edges: 5; ancestors: 12)\n",
      "\u001b[32m[1217 10:54:18 @DATSGANModel.py:213]\u001b[0m \u001b[91mCreating cell for travel_mode (in-edges: 21; ancestors: 26)\n",
      "\u001b[32m[1217 10:54:19 @sessinit.py:87]\u001b[0m \u001b[5m\u001b[31mWRN\u001b[0m The following variables are in the checkpoint, but not found in the graph: global_step, optimize/beta1_power, optimize/beta2_power\n",
      "INFO:tensorflow:Graph was finalized.\n",
      "INFO:tensorflow:Running local_init_op.\n",
      "INFO:tensorflow:Done running local_init_op.\n",
      "\u001b[32m[1217 10:54:22 @sessinit.py:114]\u001b[0m Restoring checkpoint from ../output/LPMC/WGGP_WI_01/model\\model-41999 ...\n",
      "INFO:tensorflow:Restoring parameters from ../output/LPMC/WGGP_WI_01/model\\model-41999\n",
      "\u001b[32m[1217 10:54:22 @DATSGAN.py:267]\u001b[0m Loading Preprocessor!\n"
     ]
    },
    {
     "name": "stderr",
     "output_type": "stream",
     "text": [
      "|                                                                                          |35/?[00:02<00:00,14.94it/s]\n"
     ]
    },
    {
     "name": "stdout",
     "output_type": "stream",
     "text": [
      "\u001b[32m[1217 10:54:25 @DATSGAN.py:267]\u001b[0m Loading Preprocessor!\n"
     ]
    },
    {
     "name": "stderr",
     "output_type": "stream",
     "text": [
      "|                                                                                          |35/?[00:01<00:00,23.39it/s]\n"
     ]
    },
    {
     "name": "stdout",
     "output_type": "stream",
     "text": [
      "\u001b[32m[1217 10:54:27 @DATSGAN.py:267]\u001b[0m Loading Preprocessor!\n"
     ]
    },
    {
     "name": "stderr",
     "output_type": "stream",
     "text": [
      "|                                                                                          |35/?[00:01<00:00,22.68it/s]\n"
     ]
    },
    {
     "name": "stdout",
     "output_type": "stream",
     "text": [
      "\u001b[32m[1217 10:54:29 @DATSGAN.py:267]\u001b[0m Loading Preprocessor!\n"
     ]
    },
    {
     "name": "stderr",
     "output_type": "stream",
     "text": [
      "|                                                                                          |35/?[00:01<00:00,23.02it/s]\n"
     ]
    },
    {
     "name": "stdout",
     "output_type": "stream",
     "text": [
      "\u001b[32m[1217 10:54:31 @DATSGAN.py:267]\u001b[0m Loading Preprocessor!\n"
     ]
    },
    {
     "name": "stderr",
     "output_type": "stream",
     "text": [
      "|                                                                                          |35/?[00:01<00:00,22.09it/s]\n"
     ]
    },
    {
     "name": "stdout",
     "output_type": "stream",
     "text": [
      "\u001b[32m[1217 10:54:34 @DATSGAN.py:267]\u001b[0m Loading Preprocessor!\n"
     ]
    },
    {
     "name": "stderr",
     "output_type": "stream",
     "text": [
      "|                                                                                          |35/?[00:01<00:00,22.25it/s]\n"
     ]
    },
    {
     "name": "stdout",
     "output_type": "stream",
     "text": [
      "\u001b[32m[1217 10:54:36 @DATSGAN.py:267]\u001b[0m Loading Preprocessor!\n"
     ]
    },
    {
     "name": "stderr",
     "output_type": "stream",
     "text": [
      "|                                                                                          |35/?[00:01<00:00,22.21it/s]\n"
     ]
    },
    {
     "name": "stdout",
     "output_type": "stream",
     "text": [
      "\u001b[32m[1217 10:54:38 @DATSGAN.py:267]\u001b[0m Loading Preprocessor!\n"
     ]
    },
    {
     "name": "stderr",
     "output_type": "stream",
     "text": [
      "|                                                                                          |35/?[00:01<00:00,22.67it/s]\n"
     ]
    },
    {
     "name": "stdout",
     "output_type": "stream",
     "text": [
      "\u001b[32m[1217 10:54:40 @DATSGAN.py:267]\u001b[0m Loading Preprocessor!\n"
     ]
    },
    {
     "name": "stderr",
     "output_type": "stream",
     "text": [
      "|                                                                                          |35/?[00:01<00:00,22.99it/s]\n"
     ]
    },
    {
     "name": "stdout",
     "output_type": "stream",
     "text": [
      "\u001b[32m[1217 10:54:42 @DATSGAN.py:267]\u001b[0m Loading Preprocessor!\n"
     ]
    },
    {
     "name": "stderr",
     "output_type": "stream",
     "text": [
      "|                                                                                          |35/?[00:01<00:00,23.72it/s]\n"
     ]
    },
    {
     "name": "stdout",
     "output_type": "stream",
     "text": [
      "\u001b[32m[1217 10:54:44 @DATSGAN.py:267]\u001b[0m Loading Preprocessor!\n"
     ]
    },
    {
     "name": "stderr",
     "output_type": "stream",
     "text": [
      "|                                                                                          |35/?[00:01<00:00,23.76it/s]\n"
     ]
    },
    {
     "name": "stdout",
     "output_type": "stream",
     "text": [
      "\u001b[32m[1217 10:54:46 @DATSGAN.py:267]\u001b[0m Loading Preprocessor!\n"
     ]
    },
    {
     "name": "stderr",
     "output_type": "stream",
     "text": [
      "|                                                                                          |35/?[00:01<00:00,22.79it/s]\n"
     ]
    },
    {
     "name": "stdout",
     "output_type": "stream",
     "text": [
      "\u001b[32m[1217 10:54:48 @DATSGAN.py:267]\u001b[0m Loading Preprocessor!\n"
     ]
    },
    {
     "name": "stderr",
     "output_type": "stream",
     "text": [
      "|                                                                                          |35/?[00:01<00:00,23.94it/s]\n"
     ]
    },
    {
     "name": "stdout",
     "output_type": "stream",
     "text": [
      "\u001b[32m[1217 10:54:50 @DATSGAN.py:267]\u001b[0m Loading Preprocessor!\n"
     ]
    },
    {
     "name": "stderr",
     "output_type": "stream",
     "text": [
      "|                                                                                          |35/?[00:01<00:00,22.89it/s]\n"
     ]
    },
    {
     "name": "stdout",
     "output_type": "stream",
     "text": [
      "\u001b[32m[1217 10:54:52 @DATSGAN.py:267]\u001b[0m Loading Preprocessor!\n"
     ]
    },
    {
     "name": "stderr",
     "output_type": "stream",
     "text": [
      "|                                                                                          |35/?[00:01<00:00,23.73it/s]\n"
     ]
    },
    {
     "name": "stdout",
     "output_type": "stream",
     "text": [
      "\u001b[32m[1217 10:54:54 @DATSGAN.py:267]\u001b[0m Loading Preprocessor!\n"
     ]
    },
    {
     "name": "stderr",
     "output_type": "stream",
     "text": [
      "|                                                                                          |35/?[00:01<00:00,24.40it/s]\n"
     ]
    },
    {
     "name": "stdout",
     "output_type": "stream",
     "text": [
      "\u001b[32m[1217 10:54:56 @DATSGAN.py:267]\u001b[0m Loading Preprocessor!\n"
     ]
    },
    {
     "name": "stderr",
     "output_type": "stream",
     "text": [
      "|                                                                                          |35/?[00:01<00:00,23.04it/s]\n"
     ]
    },
    {
     "name": "stdout",
     "output_type": "stream",
     "text": [
      "\u001b[32m[1217 10:54:58 @DATSGAN.py:267]\u001b[0m Loading Preprocessor!\n"
     ]
    },
    {
     "name": "stderr",
     "output_type": "stream",
     "text": [
      "|                                                                                          |35/?[00:01<00:00,22.16it/s]\n"
     ]
    },
    {
     "name": "stdout",
     "output_type": "stream",
     "text": [
      "\u001b[32m[1217 10:55:00 @DATSGAN.py:267]\u001b[0m Loading Preprocessor!\n"
     ]
    },
    {
     "name": "stderr",
     "output_type": "stream",
     "text": [
      "|                                                                                          |35/?[00:01<00:00,22.66it/s]\n"
     ]
    },
    {
     "name": "stdout",
     "output_type": "stream",
     "text": [
      "\u001b[32m[1217 10:55:02 @DATSGAN.py:267]\u001b[0m Loading Preprocessor!\n"
     ]
    },
    {
     "name": "stderr",
     "output_type": "stream",
     "text": [
      "|                                                                                          |35/?[00:01<00:00,23.99it/s]\n"
     ]
    },
    {
     "name": "stdout",
     "output_type": "stream",
     "text": [
      "Sampling synthetic data from model \u001b[1mWGGP_WI_02\u001b[0m (52/60)\n",
      "\u001b[32m[1217 10:55:20 @DATSGANModel.py:213]\u001b[0m \u001b[91mCreating cell for travel_year (in-edges: 0; ancestors: 0)\n",
      "\u001b[32m[1217 10:55:20 @DATSGANModel.py:213]\u001b[0m \u001b[91mCreating cell for car_ownership (in-edges: 0; ancestors: 0)\n",
      "\u001b[32m[1217 10:55:20 @DATSGANModel.py:213]\u001b[0m \u001b[91mCreating cell for female (in-edges: 0; ancestors: 0)\n",
      "\u001b[32m[1217 10:55:21 @DATSGANModel.py:213]\u001b[0m \u001b[91mCreating cell for age (in-edges: 0; ancestors: 0)\n",
      "\u001b[32m[1217 10:55:21 @DATSGANModel.py:213]\u001b[0m \u001b[91mCreating cell for travel_month (in-edges: 1; ancestors: 1)\n",
      "\u001b[32m[1217 10:55:21 @DATSGANModel.py:213]\u001b[0m \u001b[91mCreating cell for fueltype (in-edges: 1; ancestors: 1)\n",
      "\u001b[32m[1217 10:55:21 @DATSGANModel.py:213]\u001b[0m \u001b[91mCreating cell for driving_license (in-edges: 3; ancestors: 3)\n",
      "\u001b[32m[1217 10:55:21 @DATSGANModel.py:213]\u001b[0m \u001b[91mCreating cell for faretype (in-edges: 1; ancestors: 1)\n",
      "\u001b[32m[1217 10:55:21 @DATSGANModel.py:213]\u001b[0m \u001b[91mCreating cell for travel_date (in-edges: 1; ancestors: 2)\n",
      "\u001b[32m[1217 10:55:21 @DATSGANModel.py:213]\u001b[0m \u001b[91mCreating cell for bus_scale (in-edges: 2; ancestors: 2)\n",
      "\u001b[32m[1217 10:55:21 @DATSGANModel.py:213]\u001b[0m \u001b[91mCreating cell for day_of_week (in-edges: 2; ancestors: 3)\n",
      "\u001b[32m[1217 10:55:21 @DATSGANModel.py:213]\u001b[0m \u001b[91mCreating cell for purpose (in-edges: 1; ancestors: 4)\n",
      "\u001b[32m[1217 10:55:21 @DATSGANModel.py:213]\u001b[0m \u001b[91mCreating cell for start_time_linear (in-edges: 2; ancestors: 5)\n",
      "\u001b[32m[1217 10:55:21 @DATSGANModel.py:213]\u001b[0m \u001b[91mCreating cell for distance (in-edges: 1; ancestors: 5)\n",
      "\u001b[32m[1217 10:55:22 @DATSGANModel.py:213]\u001b[0m \u001b[91mCreating cell for driving_traffic_percent (in-edges: 3; ancestors: 6)\n",
      "\u001b[32m[1217 10:55:22 @DATSGANModel.py:213]\u001b[0m \u001b[91mCreating cell for cost_driving_fuel (in-edges: 2; ancestors: 8)\n",
      "\u001b[32m[1217 10:55:22 @DATSGANModel.py:213]\u001b[0m \u001b[91mCreating cell for dur_driving (in-edges: 1; ancestors: 6)\n",
      "\u001b[32m[1217 10:55:22 @DATSGANModel.py:213]\u001b[0m \u001b[91mCreating cell for dur_walking (in-edges: 1; ancestors: 6)\n",
      "\u001b[32m[1217 10:55:22 @DATSGANModel.py:213]\u001b[0m \u001b[91mCreating cell for dur_cycling (in-edges: 1; ancestors: 6)\n",
      "\u001b[32m[1217 10:55:22 @DATSGANModel.py:213]\u001b[0m \u001b[91mCreating cell for dur_pt_access (in-edges: 1; ancestors: 6)\n",
      "\u001b[32m[1217 10:55:22 @DATSGANModel.py:213]\u001b[0m \u001b[91mCreating cell for pt_n_interchanges (in-edges: 1; ancestors: 6)\n",
      "\u001b[32m[1217 10:55:22 @DATSGANModel.py:213]\u001b[0m \u001b[91mCreating cell for cost_driving_con_charge (in-edges: 5; ancestors: 11)\n",
      "\u001b[32m[1217 10:55:22 @DATSGANModel.py:213]\u001b[0m \u001b[91mCreating cell for dur_pt_rail (in-edges: 2; ancestors: 7)\n",
      "\u001b[32m[1217 10:55:23 @DATSGANModel.py:213]\u001b[0m \u001b[91mCreating cell for dur_pt_bus (in-edges: 2; ancestors: 7)\n",
      "\u001b[32m[1217 10:55:23 @DATSGANModel.py:213]\u001b[0m \u001b[91mCreating cell for dur_pt_int (in-edges: 2; ancestors: 7)\n",
      "\u001b[32m[1217 10:55:23 @DATSGANModel.py:213]\u001b[0m \u001b[91mCreating cell for cost_transit (in-edges: 5; ancestors: 12)\n",
      "\u001b[32m[1217 10:55:23 @DATSGANModel.py:213]\u001b[0m \u001b[91mCreating cell for travel_mode (in-edges: 21; ancestors: 26)\n",
      "\u001b[32m[1217 10:55:24 @sessinit.py:87]\u001b[0m \u001b[5m\u001b[31mWRN\u001b[0m The following variables are in the checkpoint, but not found in the graph: global_step, optimize/beta1_power, optimize/beta2_power\n",
      "INFO:tensorflow:Graph was finalized.\n",
      "INFO:tensorflow:Running local_init_op.\n",
      "INFO:tensorflow:Done running local_init_op.\n",
      "\u001b[32m[1217 10:55:27 @sessinit.py:114]\u001b[0m Restoring checkpoint from ../output/LPMC/WGGP_WI_02/model\\model-41999 ...\n",
      "INFO:tensorflow:Restoring parameters from ../output/LPMC/WGGP_WI_02/model\\model-41999\n",
      "\u001b[32m[1217 10:55:27 @DATSGAN.py:267]\u001b[0m Loading Preprocessor!\n"
     ]
    },
    {
     "name": "stderr",
     "output_type": "stream",
     "text": [
      "|                                                                                          |35/?[00:02<00:00,15.32it/s]\n"
     ]
    },
    {
     "name": "stdout",
     "output_type": "stream",
     "text": [
      "\u001b[32m[1217 10:55:30 @DATSGAN.py:267]\u001b[0m Loading Preprocessor!\n"
     ]
    },
    {
     "name": "stderr",
     "output_type": "stream",
     "text": [
      "|                                                                                          |35/?[00:01<00:00,23.51it/s]\n"
     ]
    },
    {
     "name": "stdout",
     "output_type": "stream",
     "text": [
      "\u001b[32m[1217 10:55:32 @DATSGAN.py:267]\u001b[0m Loading Preprocessor!\n"
     ]
    },
    {
     "name": "stderr",
     "output_type": "stream",
     "text": [
      "|                                                                                          |35/?[00:01<00:00,23.58it/s]\n"
     ]
    },
    {
     "name": "stdout",
     "output_type": "stream",
     "text": [
      "\u001b[32m[1217 10:55:34 @DATSGAN.py:267]\u001b[0m Loading Preprocessor!\n"
     ]
    },
    {
     "name": "stderr",
     "output_type": "stream",
     "text": [
      "|                                                                                          |35/?[00:01<00:00,23.17it/s]\n"
     ]
    },
    {
     "name": "stdout",
     "output_type": "stream",
     "text": [
      "\u001b[32m[1217 10:55:36 @DATSGAN.py:267]\u001b[0m Loading Preprocessor!\n"
     ]
    },
    {
     "name": "stderr",
     "output_type": "stream",
     "text": [
      "|                                                                                          |35/?[00:01<00:00,24.74it/s]\n"
     ]
    },
    {
     "name": "stdout",
     "output_type": "stream",
     "text": [
      "\u001b[32m[1217 10:55:38 @DATSGAN.py:267]\u001b[0m Loading Preprocessor!\n"
     ]
    },
    {
     "name": "stderr",
     "output_type": "stream",
     "text": [
      "|                                                                                          |35/?[00:01<00:00,22.38it/s]\n"
     ]
    },
    {
     "name": "stdout",
     "output_type": "stream",
     "text": [
      "\u001b[32m[1217 10:55:40 @DATSGAN.py:267]\u001b[0m Loading Preprocessor!\n"
     ]
    },
    {
     "name": "stderr",
     "output_type": "stream",
     "text": [
      "|                                                                                          |35/?[00:01<00:00,23.87it/s]\n"
     ]
    },
    {
     "name": "stdout",
     "output_type": "stream",
     "text": [
      "\u001b[32m[1217 10:55:42 @DATSGAN.py:267]\u001b[0m Loading Preprocessor!\n"
     ]
    },
    {
     "name": "stderr",
     "output_type": "stream",
     "text": [
      "|                                                                                          |35/?[00:01<00:00,23.11it/s]\n"
     ]
    },
    {
     "name": "stdout",
     "output_type": "stream",
     "text": [
      "\u001b[32m[1217 10:55:44 @DATSGAN.py:267]\u001b[0m Loading Preprocessor!\n"
     ]
    },
    {
     "name": "stderr",
     "output_type": "stream",
     "text": [
      "|                                                                                          |35/?[00:01<00:00,22.89it/s]\n"
     ]
    },
    {
     "name": "stdout",
     "output_type": "stream",
     "text": [
      "\u001b[32m[1217 10:55:46 @DATSGAN.py:267]\u001b[0m Loading Preprocessor!\n"
     ]
    },
    {
     "name": "stderr",
     "output_type": "stream",
     "text": [
      "|                                                                                          |35/?[00:01<00:00,22.72it/s]\n"
     ]
    },
    {
     "name": "stdout",
     "output_type": "stream",
     "text": [
      "\u001b[32m[1217 10:55:48 @DATSGAN.py:267]\u001b[0m Loading Preprocessor!\n"
     ]
    },
    {
     "name": "stderr",
     "output_type": "stream",
     "text": [
      "|                                                                                          |35/?[00:01<00:00,22.37it/s]\n"
     ]
    },
    {
     "name": "stdout",
     "output_type": "stream",
     "text": [
      "\u001b[32m[1217 10:55:50 @DATSGAN.py:267]\u001b[0m Loading Preprocessor!\n"
     ]
    },
    {
     "name": "stderr",
     "output_type": "stream",
     "text": [
      "|                                                                                          |35/?[00:01<00:00,23.67it/s]\n"
     ]
    },
    {
     "name": "stdout",
     "output_type": "stream",
     "text": [
      "\u001b[32m[1217 10:55:52 @DATSGAN.py:267]\u001b[0m Loading Preprocessor!\n"
     ]
    },
    {
     "name": "stderr",
     "output_type": "stream",
     "text": [
      "|                                                                                          |35/?[00:01<00:00,22.24it/s]\n"
     ]
    },
    {
     "name": "stdout",
     "output_type": "stream",
     "text": [
      "\u001b[32m[1217 10:55:54 @DATSGAN.py:267]\u001b[0m Loading Preprocessor!\n"
     ]
    },
    {
     "name": "stderr",
     "output_type": "stream",
     "text": [
      "|                                                                                          |35/?[00:01<00:00,22.91it/s]\n"
     ]
    },
    {
     "name": "stdout",
     "output_type": "stream",
     "text": [
      "\u001b[32m[1217 10:55:56 @DATSGAN.py:267]\u001b[0m Loading Preprocessor!\n"
     ]
    },
    {
     "name": "stderr",
     "output_type": "stream",
     "text": [
      "|                                                                                          |35/?[00:01<00:00,23.51it/s]\n"
     ]
    },
    {
     "name": "stdout",
     "output_type": "stream",
     "text": [
      "\u001b[32m[1217 10:55:58 @DATSGAN.py:267]\u001b[0m Loading Preprocessor!\n"
     ]
    },
    {
     "name": "stderr",
     "output_type": "stream",
     "text": [
      "|                                                                                          |35/?[00:01<00:00,22.84it/s]\n"
     ]
    },
    {
     "name": "stdout",
     "output_type": "stream",
     "text": [
      "\u001b[32m[1217 10:56:00 @DATSGAN.py:267]\u001b[0m Loading Preprocessor!\n"
     ]
    },
    {
     "name": "stderr",
     "output_type": "stream",
     "text": [
      "|                                                                                          |35/?[00:01<00:00,23.95it/s]\n"
     ]
    },
    {
     "name": "stdout",
     "output_type": "stream",
     "text": [
      "\u001b[32m[1217 10:56:02 @DATSGAN.py:267]\u001b[0m Loading Preprocessor!\n"
     ]
    },
    {
     "name": "stderr",
     "output_type": "stream",
     "text": [
      "|                                                                                          |35/?[00:01<00:00,23.15it/s]\n"
     ]
    },
    {
     "name": "stdout",
     "output_type": "stream",
     "text": [
      "\u001b[32m[1217 10:56:04 @DATSGAN.py:267]\u001b[0m Loading Preprocessor!\n"
     ]
    },
    {
     "name": "stderr",
     "output_type": "stream",
     "text": [
      "|                                                                                          |35/?[00:01<00:00,22.94it/s]\n"
     ]
    },
    {
     "name": "stdout",
     "output_type": "stream",
     "text": [
      "\u001b[32m[1217 10:56:06 @DATSGAN.py:267]\u001b[0m Loading Preprocessor!\n"
     ]
    },
    {
     "name": "stderr",
     "output_type": "stream",
     "text": [
      "|                                                                                          |35/?[00:01<00:00,23.51it/s]\n"
     ]
    },
    {
     "name": "stdout",
     "output_type": "stream",
     "text": [
      "Sampling synthetic data from model \u001b[1mWGGP_WI_03\u001b[0m (53/60)\n",
      "\u001b[32m[1217 10:56:25 @DATSGANModel.py:213]\u001b[0m \u001b[91mCreating cell for travel_year (in-edges: 0; ancestors: 0)\n",
      "\u001b[32m[1217 10:56:25 @DATSGANModel.py:213]\u001b[0m \u001b[91mCreating cell for car_ownership (in-edges: 0; ancestors: 0)\n",
      "\u001b[32m[1217 10:56:25 @DATSGANModel.py:213]\u001b[0m \u001b[91mCreating cell for female (in-edges: 0; ancestors: 0)\n",
      "\u001b[32m[1217 10:56:25 @DATSGANModel.py:213]\u001b[0m \u001b[91mCreating cell for age (in-edges: 0; ancestors: 0)\n",
      "\u001b[32m[1217 10:56:25 @DATSGANModel.py:213]\u001b[0m \u001b[91mCreating cell for travel_month (in-edges: 1; ancestors: 1)\n",
      "\u001b[32m[1217 10:56:26 @DATSGANModel.py:213]\u001b[0m \u001b[91mCreating cell for fueltype (in-edges: 1; ancestors: 1)\n",
      "\u001b[32m[1217 10:56:26 @DATSGANModel.py:213]\u001b[0m \u001b[91mCreating cell for driving_license (in-edges: 3; ancestors: 3)\n",
      "\u001b[32m[1217 10:56:26 @DATSGANModel.py:213]\u001b[0m \u001b[91mCreating cell for faretype (in-edges: 1; ancestors: 1)\n",
      "\u001b[32m[1217 10:56:26 @DATSGANModel.py:213]\u001b[0m \u001b[91mCreating cell for travel_date (in-edges: 1; ancestors: 2)\n",
      "\u001b[32m[1217 10:56:26 @DATSGANModel.py:213]\u001b[0m \u001b[91mCreating cell for bus_scale (in-edges: 2; ancestors: 2)\n",
      "\u001b[32m[1217 10:56:26 @DATSGANModel.py:213]\u001b[0m \u001b[91mCreating cell for day_of_week (in-edges: 2; ancestors: 3)\n",
      "\u001b[32m[1217 10:56:26 @DATSGANModel.py:213]\u001b[0m \u001b[91mCreating cell for purpose (in-edges: 1; ancestors: 4)\n",
      "\u001b[32m[1217 10:56:26 @DATSGANModel.py:213]\u001b[0m \u001b[91mCreating cell for start_time_linear (in-edges: 2; ancestors: 5)\n",
      "\u001b[32m[1217 10:56:26 @DATSGANModel.py:213]\u001b[0m \u001b[91mCreating cell for distance (in-edges: 1; ancestors: 5)\n",
      "\u001b[32m[1217 10:56:26 @DATSGANModel.py:213]\u001b[0m \u001b[91mCreating cell for driving_traffic_percent (in-edges: 3; ancestors: 6)\n",
      "\u001b[32m[1217 10:56:27 @DATSGANModel.py:213]\u001b[0m \u001b[91mCreating cell for cost_driving_fuel (in-edges: 2; ancestors: 8)\n",
      "\u001b[32m[1217 10:56:27 @DATSGANModel.py:213]\u001b[0m \u001b[91mCreating cell for dur_driving (in-edges: 1; ancestors: 6)\n",
      "\u001b[32m[1217 10:56:27 @DATSGANModel.py:213]\u001b[0m \u001b[91mCreating cell for dur_walking (in-edges: 1; ancestors: 6)\n",
      "\u001b[32m[1217 10:56:27 @DATSGANModel.py:213]\u001b[0m \u001b[91mCreating cell for dur_cycling (in-edges: 1; ancestors: 6)\n",
      "\u001b[32m[1217 10:56:27 @DATSGANModel.py:213]\u001b[0m \u001b[91mCreating cell for dur_pt_access (in-edges: 1; ancestors: 6)\n",
      "\u001b[32m[1217 10:56:27 @DATSGANModel.py:213]\u001b[0m \u001b[91mCreating cell for pt_n_interchanges (in-edges: 1; ancestors: 6)\n",
      "\u001b[32m[1217 10:56:27 @DATSGANModel.py:213]\u001b[0m \u001b[91mCreating cell for cost_driving_con_charge (in-edges: 5; ancestors: 11)\n",
      "\u001b[32m[1217 10:56:27 @DATSGANModel.py:213]\u001b[0m \u001b[91mCreating cell for dur_pt_rail (in-edges: 2; ancestors: 7)\n",
      "\u001b[32m[1217 10:56:27 @DATSGANModel.py:213]\u001b[0m \u001b[91mCreating cell for dur_pt_bus (in-edges: 2; ancestors: 7)\n",
      "\u001b[32m[1217 10:56:28 @DATSGANModel.py:213]\u001b[0m \u001b[91mCreating cell for dur_pt_int (in-edges: 2; ancestors: 7)\n",
      "\u001b[32m[1217 10:56:28 @DATSGANModel.py:213]\u001b[0m \u001b[91mCreating cell for cost_transit (in-edges: 5; ancestors: 12)\n",
      "\u001b[32m[1217 10:56:28 @DATSGANModel.py:213]\u001b[0m \u001b[91mCreating cell for travel_mode (in-edges: 21; ancestors: 26)\n",
      "\u001b[32m[1217 10:56:29 @sessinit.py:87]\u001b[0m \u001b[5m\u001b[31mWRN\u001b[0m The following variables are in the checkpoint, but not found in the graph: global_step, optimize/beta1_power, optimize/beta2_power\n",
      "INFO:tensorflow:Graph was finalized.\n",
      "INFO:tensorflow:Running local_init_op.\n",
      "INFO:tensorflow:Done running local_init_op.\n",
      "\u001b[32m[1217 10:56:31 @sessinit.py:114]\u001b[0m Restoring checkpoint from ../output/LPMC/WGGP_WI_03/model\\model-41999 ...\n",
      "INFO:tensorflow:Restoring parameters from ../output/LPMC/WGGP_WI_03/model\\model-41999\n",
      "\u001b[32m[1217 10:56:32 @DATSGAN.py:267]\u001b[0m Loading Preprocessor!\n"
     ]
    },
    {
     "name": "stderr",
     "output_type": "stream",
     "text": [
      "|                                                                                          |35/?[00:02<00:00,15.23it/s]\n"
     ]
    },
    {
     "name": "stdout",
     "output_type": "stream",
     "text": [
      "\u001b[32m[1217 10:56:35 @DATSGAN.py:267]\u001b[0m Loading Preprocessor!\n"
     ]
    },
    {
     "name": "stderr",
     "output_type": "stream",
     "text": [
      "|                                                                                          |35/?[00:01<00:00,23.95it/s]\n"
     ]
    },
    {
     "name": "stdout",
     "output_type": "stream",
     "text": [
      "\u001b[32m[1217 10:56:37 @DATSGAN.py:267]\u001b[0m Loading Preprocessor!\n"
     ]
    },
    {
     "name": "stderr",
     "output_type": "stream",
     "text": [
      "|                                                                                          |35/?[00:01<00:00,22.67it/s]\n"
     ]
    },
    {
     "name": "stdout",
     "output_type": "stream",
     "text": [
      "\u001b[32m[1217 10:56:39 @DATSGAN.py:267]\u001b[0m Loading Preprocessor!\n"
     ]
    },
    {
     "name": "stderr",
     "output_type": "stream",
     "text": [
      "|                                                                                          |35/?[00:01<00:00,23.58it/s]\n"
     ]
    },
    {
     "name": "stdout",
     "output_type": "stream",
     "text": [
      "\u001b[32m[1217 10:56:41 @DATSGAN.py:267]\u001b[0m Loading Preprocessor!\n"
     ]
    },
    {
     "name": "stderr",
     "output_type": "stream",
     "text": [
      "|                                                                                          |35/?[00:01<00:00,23.19it/s]\n"
     ]
    },
    {
     "name": "stdout",
     "output_type": "stream",
     "text": [
      "\u001b[32m[1217 10:56:43 @DATSGAN.py:267]\u001b[0m Loading Preprocessor!\n"
     ]
    },
    {
     "name": "stderr",
     "output_type": "stream",
     "text": [
      "|                                                                                          |35/?[00:01<00:00,24.52it/s]\n"
     ]
    },
    {
     "name": "stdout",
     "output_type": "stream",
     "text": [
      "\u001b[32m[1217 10:56:45 @DATSGAN.py:267]\u001b[0m Loading Preprocessor!\n"
     ]
    },
    {
     "name": "stderr",
     "output_type": "stream",
     "text": [
      "|                                                                                          |35/?[00:01<00:00,22.68it/s]\n"
     ]
    },
    {
     "name": "stdout",
     "output_type": "stream",
     "text": [
      "\u001b[32m[1217 10:56:47 @DATSGAN.py:267]\u001b[0m Loading Preprocessor!\n"
     ]
    },
    {
     "name": "stderr",
     "output_type": "stream",
     "text": [
      "|                                                                                          |35/?[00:01<00:00,24.94it/s]\n"
     ]
    },
    {
     "name": "stdout",
     "output_type": "stream",
     "text": [
      "\u001b[32m[1217 10:56:49 @DATSGAN.py:267]\u001b[0m Loading Preprocessor!\n"
     ]
    },
    {
     "name": "stderr",
     "output_type": "stream",
     "text": [
      "|                                                                                          |35/?[00:01<00:00,22.90it/s]\n"
     ]
    },
    {
     "name": "stdout",
     "output_type": "stream",
     "text": [
      "\u001b[32m[1217 10:56:51 @DATSGAN.py:267]\u001b[0m Loading Preprocessor!\n"
     ]
    },
    {
     "name": "stderr",
     "output_type": "stream",
     "text": [
      "|                                                                                          |35/?[00:01<00:00,23.36it/s]\n"
     ]
    },
    {
     "name": "stdout",
     "output_type": "stream",
     "text": [
      "\u001b[32m[1217 10:56:53 @DATSGAN.py:267]\u001b[0m Loading Preprocessor!\n"
     ]
    },
    {
     "name": "stderr",
     "output_type": "stream",
     "text": [
      "|                                                                                          |35/?[00:01<00:00,23.51it/s]\n"
     ]
    },
    {
     "name": "stdout",
     "output_type": "stream",
     "text": [
      "\u001b[32m[1217 10:56:55 @DATSGAN.py:267]\u001b[0m Loading Preprocessor!\n"
     ]
    },
    {
     "name": "stderr",
     "output_type": "stream",
     "text": [
      "|                                                                                          |35/?[00:01<00:00,23.09it/s]\n"
     ]
    },
    {
     "name": "stdout",
     "output_type": "stream",
     "text": [
      "\u001b[32m[1217 10:56:57 @DATSGAN.py:267]\u001b[0m Loading Preprocessor!\n"
     ]
    },
    {
     "name": "stderr",
     "output_type": "stream",
     "text": [
      "|                                                                                          |35/?[00:01<00:00,22.12it/s]\n"
     ]
    },
    {
     "name": "stdout",
     "output_type": "stream",
     "text": [
      "\u001b[32m[1217 10:56:59 @DATSGAN.py:267]\u001b[0m Loading Preprocessor!\n"
     ]
    },
    {
     "name": "stderr",
     "output_type": "stream",
     "text": [
      "|                                                                                          |35/?[00:01<00:00,22.75it/s]\n"
     ]
    },
    {
     "name": "stdout",
     "output_type": "stream",
     "text": [
      "\u001b[32m[1217 10:57:01 @DATSGAN.py:267]\u001b[0m Loading Preprocessor!\n"
     ]
    },
    {
     "name": "stderr",
     "output_type": "stream",
     "text": [
      "|                                                                                          |35/?[00:01<00:00,23.31it/s]\n"
     ]
    },
    {
     "name": "stdout",
     "output_type": "stream",
     "text": [
      "\u001b[32m[1217 10:57:03 @DATSGAN.py:267]\u001b[0m Loading Preprocessor!\n"
     ]
    },
    {
     "name": "stderr",
     "output_type": "stream",
     "text": [
      "|                                                                                          |35/?[00:01<00:00,22.63it/s]\n"
     ]
    },
    {
     "name": "stdout",
     "output_type": "stream",
     "text": [
      "\u001b[32m[1217 10:57:05 @DATSGAN.py:267]\u001b[0m Loading Preprocessor!\n"
     ]
    },
    {
     "name": "stderr",
     "output_type": "stream",
     "text": [
      "|                                                                                          |35/?[00:01<00:00,24.11it/s]\n"
     ]
    },
    {
     "name": "stdout",
     "output_type": "stream",
     "text": [
      "\u001b[32m[1217 10:57:07 @DATSGAN.py:267]\u001b[0m Loading Preprocessor!\n"
     ]
    },
    {
     "name": "stderr",
     "output_type": "stream",
     "text": [
      "|                                                                                          |35/?[00:01<00:00,23.96it/s]\n"
     ]
    },
    {
     "name": "stdout",
     "output_type": "stream",
     "text": [
      "\u001b[32m[1217 10:57:09 @DATSGAN.py:267]\u001b[0m Loading Preprocessor!\n"
     ]
    },
    {
     "name": "stderr",
     "output_type": "stream",
     "text": [
      "|                                                                                          |35/?[00:01<00:00,23.53it/s]\n"
     ]
    },
    {
     "name": "stdout",
     "output_type": "stream",
     "text": [
      "\u001b[32m[1217 10:57:11 @DATSGAN.py:267]\u001b[0m Loading Preprocessor!\n"
     ]
    },
    {
     "name": "stderr",
     "output_type": "stream",
     "text": [
      "|                                                                                          |35/?[00:01<00:00,23.69it/s]\n"
     ]
    },
    {
     "name": "stdout",
     "output_type": "stream",
     "text": [
      "Sampling synthetic data from model \u001b[1mWGGP_WI_04\u001b[0m (54/60)\n",
      "\u001b[32m[1217 10:57:29 @DATSGANModel.py:213]\u001b[0m \u001b[91mCreating cell for travel_year (in-edges: 0; ancestors: 0)\n",
      "\u001b[32m[1217 10:57:29 @DATSGANModel.py:213]\u001b[0m \u001b[91mCreating cell for car_ownership (in-edges: 0; ancestors: 0)\n",
      "\u001b[32m[1217 10:57:29 @DATSGANModel.py:213]\u001b[0m \u001b[91mCreating cell for female (in-edges: 0; ancestors: 0)\n",
      "\u001b[32m[1217 10:57:30 @DATSGANModel.py:213]\u001b[0m \u001b[91mCreating cell for age (in-edges: 0; ancestors: 0)\n",
      "\u001b[32m[1217 10:57:30 @DATSGANModel.py:213]\u001b[0m \u001b[91mCreating cell for travel_month (in-edges: 1; ancestors: 1)\n",
      "\u001b[32m[1217 10:57:30 @DATSGANModel.py:213]\u001b[0m \u001b[91mCreating cell for fueltype (in-edges: 1; ancestors: 1)\n",
      "\u001b[32m[1217 10:57:30 @DATSGANModel.py:213]\u001b[0m \u001b[91mCreating cell for driving_license (in-edges: 3; ancestors: 3)\n",
      "\u001b[32m[1217 10:57:30 @DATSGANModel.py:213]\u001b[0m \u001b[91mCreating cell for faretype (in-edges: 1; ancestors: 1)\n",
      "\u001b[32m[1217 10:57:30 @DATSGANModel.py:213]\u001b[0m \u001b[91mCreating cell for travel_date (in-edges: 1; ancestors: 2)\n",
      "\u001b[32m[1217 10:57:30 @DATSGANModel.py:213]\u001b[0m \u001b[91mCreating cell for bus_scale (in-edges: 2; ancestors: 2)\n",
      "\u001b[32m[1217 10:57:30 @DATSGANModel.py:213]\u001b[0m \u001b[91mCreating cell for day_of_week (in-edges: 2; ancestors: 3)\n",
      "\u001b[32m[1217 10:57:30 @DATSGANModel.py:213]\u001b[0m \u001b[91mCreating cell for purpose (in-edges: 1; ancestors: 4)\n",
      "\u001b[32m[1217 10:57:30 @DATSGANModel.py:213]\u001b[0m \u001b[91mCreating cell for start_time_linear (in-edges: 2; ancestors: 5)\n",
      "\u001b[32m[1217 10:57:30 @DATSGANModel.py:213]\u001b[0m \u001b[91mCreating cell for distance (in-edges: 1; ancestors: 5)\n",
      "\u001b[32m[1217 10:57:31 @DATSGANModel.py:213]\u001b[0m \u001b[91mCreating cell for driving_traffic_percent (in-edges: 3; ancestors: 6)\n",
      "\u001b[32m[1217 10:57:31 @DATSGANModel.py:213]\u001b[0m \u001b[91mCreating cell for cost_driving_fuel (in-edges: 2; ancestors: 8)\n",
      "\u001b[32m[1217 10:57:31 @DATSGANModel.py:213]\u001b[0m \u001b[91mCreating cell for dur_driving (in-edges: 1; ancestors: 6)\n",
      "\u001b[32m[1217 10:57:31 @DATSGANModel.py:213]\u001b[0m \u001b[91mCreating cell for dur_walking (in-edges: 1; ancestors: 6)\n",
      "\u001b[32m[1217 10:57:31 @DATSGANModel.py:213]\u001b[0m \u001b[91mCreating cell for dur_cycling (in-edges: 1; ancestors: 6)\n",
      "\u001b[32m[1217 10:57:31 @DATSGANModel.py:213]\u001b[0m \u001b[91mCreating cell for dur_pt_access (in-edges: 1; ancestors: 6)\n",
      "\u001b[32m[1217 10:57:31 @DATSGANModel.py:213]\u001b[0m \u001b[91mCreating cell for pt_n_interchanges (in-edges: 1; ancestors: 6)\n",
      "\u001b[32m[1217 10:57:31 @DATSGANModel.py:213]\u001b[0m \u001b[91mCreating cell for cost_driving_con_charge (in-edges: 5; ancestors: 11)\n",
      "\u001b[32m[1217 10:57:31 @DATSGANModel.py:213]\u001b[0m \u001b[91mCreating cell for dur_pt_rail (in-edges: 2; ancestors: 7)\n",
      "\u001b[32m[1217 10:57:32 @DATSGANModel.py:213]\u001b[0m \u001b[91mCreating cell for dur_pt_bus (in-edges: 2; ancestors: 7)\n",
      "\u001b[32m[1217 10:57:32 @DATSGANModel.py:213]\u001b[0m \u001b[91mCreating cell for dur_pt_int (in-edges: 2; ancestors: 7)\n",
      "\u001b[32m[1217 10:57:32 @DATSGANModel.py:213]\u001b[0m \u001b[91mCreating cell for cost_transit (in-edges: 5; ancestors: 12)\n",
      "\u001b[32m[1217 10:57:32 @DATSGANModel.py:213]\u001b[0m \u001b[91mCreating cell for travel_mode (in-edges: 21; ancestors: 26)\n",
      "\u001b[32m[1217 10:57:33 @sessinit.py:87]\u001b[0m \u001b[5m\u001b[31mWRN\u001b[0m The following variables are in the checkpoint, but not found in the graph: global_step, optimize/beta1_power, optimize/beta2_power\n",
      "INFO:tensorflow:Graph was finalized.\n",
      "INFO:tensorflow:Running local_init_op.\n",
      "INFO:tensorflow:Done running local_init_op.\n",
      "\u001b[32m[1217 10:57:35 @sessinit.py:114]\u001b[0m Restoring checkpoint from ../output/LPMC/WGGP_WI_04/model\\model-41999 ...\n",
      "INFO:tensorflow:Restoring parameters from ../output/LPMC/WGGP_WI_04/model\\model-41999\n",
      "\u001b[32m[1217 10:57:36 @DATSGAN.py:267]\u001b[0m Loading Preprocessor!\n"
     ]
    },
    {
     "name": "stderr",
     "output_type": "stream",
     "text": [
      "|                                                                                          |35/?[00:02<00:00,15.74it/s]\n"
     ]
    },
    {
     "name": "stdout",
     "output_type": "stream",
     "text": [
      "\u001b[32m[1217 10:57:39 @DATSGAN.py:267]\u001b[0m Loading Preprocessor!\n"
     ]
    },
    {
     "name": "stderr",
     "output_type": "stream",
     "text": [
      "|                                                                                          |35/?[00:01<00:00,23.18it/s]\n"
     ]
    },
    {
     "name": "stdout",
     "output_type": "stream",
     "text": [
      "\u001b[32m[1217 10:57:41 @DATSGAN.py:267]\u001b[0m Loading Preprocessor!\n"
     ]
    },
    {
     "name": "stderr",
     "output_type": "stream",
     "text": [
      "|                                                                                          |35/?[00:01<00:00,23.24it/s]\n"
     ]
    },
    {
     "name": "stdout",
     "output_type": "stream",
     "text": [
      "\u001b[32m[1217 10:57:43 @DATSGAN.py:267]\u001b[0m Loading Preprocessor!\n"
     ]
    },
    {
     "name": "stderr",
     "output_type": "stream",
     "text": [
      "|                                                                                          |35/?[00:01<00:00,23.97it/s]\n"
     ]
    },
    {
     "name": "stdout",
     "output_type": "stream",
     "text": [
      "\u001b[32m[1217 10:57:45 @DATSGAN.py:267]\u001b[0m Loading Preprocessor!\n"
     ]
    },
    {
     "name": "stderr",
     "output_type": "stream",
     "text": [
      "|                                                                                          |35/?[00:01<00:00,23.95it/s]\n"
     ]
    },
    {
     "name": "stdout",
     "output_type": "stream",
     "text": [
      "\u001b[32m[1217 10:57:47 @DATSGAN.py:267]\u001b[0m Loading Preprocessor!\n"
     ]
    },
    {
     "name": "stderr",
     "output_type": "stream",
     "text": [
      "|                                                                                          |35/?[00:01<00:00,23.17it/s]\n"
     ]
    },
    {
     "name": "stdout",
     "output_type": "stream",
     "text": [
      "\u001b[32m[1217 10:57:49 @DATSGAN.py:267]\u001b[0m Loading Preprocessor!\n"
     ]
    },
    {
     "name": "stderr",
     "output_type": "stream",
     "text": [
      "|                                                                                          |35/?[00:01<00:00,23.86it/s]\n"
     ]
    },
    {
     "name": "stdout",
     "output_type": "stream",
     "text": [
      "\u001b[32m[1217 10:57:51 @DATSGAN.py:267]\u001b[0m Loading Preprocessor!\n"
     ]
    },
    {
     "name": "stderr",
     "output_type": "stream",
     "text": [
      "|                                                                                          |35/?[00:01<00:00,22.58it/s]\n"
     ]
    },
    {
     "name": "stdout",
     "output_type": "stream",
     "text": [
      "\u001b[32m[1217 10:57:53 @DATSGAN.py:267]\u001b[0m Loading Preprocessor!\n"
     ]
    },
    {
     "name": "stderr",
     "output_type": "stream",
     "text": [
      "|                                                                                          |35/?[00:01<00:00,23.57it/s]\n"
     ]
    },
    {
     "name": "stdout",
     "output_type": "stream",
     "text": [
      "\u001b[32m[1217 10:57:55 @DATSGAN.py:267]\u001b[0m Loading Preprocessor!\n"
     ]
    },
    {
     "name": "stderr",
     "output_type": "stream",
     "text": [
      "|                                                                                          |35/?[00:01<00:00,23.32it/s]\n"
     ]
    },
    {
     "name": "stdout",
     "output_type": "stream",
     "text": [
      "\u001b[32m[1217 10:57:57 @DATSGAN.py:267]\u001b[0m Loading Preprocessor!\n"
     ]
    },
    {
     "name": "stderr",
     "output_type": "stream",
     "text": [
      "|                                                                                          |35/?[00:01<00:00,24.66it/s]\n"
     ]
    },
    {
     "name": "stdout",
     "output_type": "stream",
     "text": [
      "\u001b[32m[1217 10:57:59 @DATSGAN.py:267]\u001b[0m Loading Preprocessor!\n"
     ]
    },
    {
     "name": "stderr",
     "output_type": "stream",
     "text": [
      "|                                                                                          |35/?[00:01<00:00,23.86it/s]\n"
     ]
    },
    {
     "name": "stdout",
     "output_type": "stream",
     "text": [
      "\u001b[32m[1217 10:58:01 @DATSGAN.py:267]\u001b[0m Loading Preprocessor!\n"
     ]
    },
    {
     "name": "stderr",
     "output_type": "stream",
     "text": [
      "|                                                                                          |35/?[00:01<00:00,23.17it/s]\n"
     ]
    },
    {
     "name": "stdout",
     "output_type": "stream",
     "text": [
      "\u001b[32m[1217 10:58:03 @DATSGAN.py:267]\u001b[0m Loading Preprocessor!\n"
     ]
    },
    {
     "name": "stderr",
     "output_type": "stream",
     "text": [
      "|                                                                                          |35/?[00:01<00:00,24.29it/s]\n"
     ]
    },
    {
     "name": "stdout",
     "output_type": "stream",
     "text": [
      "\u001b[32m[1217 10:58:05 @DATSGAN.py:267]\u001b[0m Loading Preprocessor!\n"
     ]
    },
    {
     "name": "stderr",
     "output_type": "stream",
     "text": [
      "|                                                                                          |35/?[00:01<00:00,22.76it/s]\n"
     ]
    },
    {
     "name": "stdout",
     "output_type": "stream",
     "text": [
      "\u001b[32m[1217 10:58:07 @DATSGAN.py:267]\u001b[0m Loading Preprocessor!\n"
     ]
    },
    {
     "name": "stderr",
     "output_type": "stream",
     "text": [
      "|                                                                                          |35/?[00:01<00:00,24.21it/s]\n"
     ]
    },
    {
     "name": "stdout",
     "output_type": "stream",
     "text": [
      "\u001b[32m[1217 10:58:09 @DATSGAN.py:267]\u001b[0m Loading Preprocessor!\n"
     ]
    },
    {
     "name": "stderr",
     "output_type": "stream",
     "text": [
      "|                                                                                          |35/?[00:01<00:00,24.37it/s]\n"
     ]
    },
    {
     "name": "stdout",
     "output_type": "stream",
     "text": [
      "\u001b[32m[1217 10:58:11 @DATSGAN.py:267]\u001b[0m Loading Preprocessor!\n"
     ]
    },
    {
     "name": "stderr",
     "output_type": "stream",
     "text": [
      "|                                                                                          |35/?[00:01<00:00,22.16it/s]\n"
     ]
    },
    {
     "name": "stdout",
     "output_type": "stream",
     "text": [
      "\u001b[32m[1217 10:58:13 @DATSGAN.py:267]\u001b[0m Loading Preprocessor!\n"
     ]
    },
    {
     "name": "stderr",
     "output_type": "stream",
     "text": [
      "|                                                                                          |35/?[00:01<00:00,24.31it/s]\n"
     ]
    },
    {
     "name": "stdout",
     "output_type": "stream",
     "text": [
      "\u001b[32m[1217 10:58:15 @DATSGAN.py:267]\u001b[0m Loading Preprocessor!\n"
     ]
    },
    {
     "name": "stderr",
     "output_type": "stream",
     "text": [
      "|                                                                                          |35/?[00:01<00:00,23.32it/s]\n"
     ]
    },
    {
     "name": "stdout",
     "output_type": "stream",
     "text": [
      "Sampling synthetic data from model \u001b[1mWGGP_WI_05\u001b[0m (55/60)\n",
      "\u001b[32m[1217 10:58:34 @DATSGANModel.py:213]\u001b[0m \u001b[91mCreating cell for travel_year (in-edges: 0; ancestors: 0)\n",
      "\u001b[32m[1217 10:58:34 @DATSGANModel.py:213]\u001b[0m \u001b[91mCreating cell for car_ownership (in-edges: 0; ancestors: 0)\n",
      "\u001b[32m[1217 10:58:34 @DATSGANModel.py:213]\u001b[0m \u001b[91mCreating cell for female (in-edges: 0; ancestors: 0)\n",
      "\u001b[32m[1217 10:58:34 @DATSGANModel.py:213]\u001b[0m \u001b[91mCreating cell for age (in-edges: 0; ancestors: 0)\n",
      "\u001b[32m[1217 10:58:34 @DATSGANModel.py:213]\u001b[0m \u001b[91mCreating cell for travel_month (in-edges: 1; ancestors: 1)\n",
      "\u001b[32m[1217 10:58:35 @DATSGANModel.py:213]\u001b[0m \u001b[91mCreating cell for fueltype (in-edges: 1; ancestors: 1)\n",
      "\u001b[32m[1217 10:58:35 @DATSGANModel.py:213]\u001b[0m \u001b[91mCreating cell for driving_license (in-edges: 3; ancestors: 3)\n",
      "\u001b[32m[1217 10:58:35 @DATSGANModel.py:213]\u001b[0m \u001b[91mCreating cell for faretype (in-edges: 1; ancestors: 1)\n",
      "\u001b[32m[1217 10:58:35 @DATSGANModel.py:213]\u001b[0m \u001b[91mCreating cell for travel_date (in-edges: 1; ancestors: 2)\n",
      "\u001b[32m[1217 10:58:35 @DATSGANModel.py:213]\u001b[0m \u001b[91mCreating cell for bus_scale (in-edges: 2; ancestors: 2)\n",
      "\u001b[32m[1217 10:58:35 @DATSGANModel.py:213]\u001b[0m \u001b[91mCreating cell for day_of_week (in-edges: 2; ancestors: 3)\n",
      "\u001b[32m[1217 10:58:35 @DATSGANModel.py:213]\u001b[0m \u001b[91mCreating cell for purpose (in-edges: 1; ancestors: 4)\n",
      "\u001b[32m[1217 10:58:35 @DATSGANModel.py:213]\u001b[0m \u001b[91mCreating cell for start_time_linear (in-edges: 2; ancestors: 5)\n",
      "\u001b[32m[1217 10:58:35 @DATSGANModel.py:213]\u001b[0m \u001b[91mCreating cell for distance (in-edges: 1; ancestors: 5)\n",
      "\u001b[32m[1217 10:58:35 @DATSGANModel.py:213]\u001b[0m \u001b[91mCreating cell for driving_traffic_percent (in-edges: 3; ancestors: 6)\n",
      "\u001b[32m[1217 10:58:36 @DATSGANModel.py:213]\u001b[0m \u001b[91mCreating cell for cost_driving_fuel (in-edges: 2; ancestors: 8)\n",
      "\u001b[32m[1217 10:58:36 @DATSGANModel.py:213]\u001b[0m \u001b[91mCreating cell for dur_driving (in-edges: 1; ancestors: 6)\n",
      "\u001b[32m[1217 10:58:36 @DATSGANModel.py:213]\u001b[0m \u001b[91mCreating cell for dur_walking (in-edges: 1; ancestors: 6)\n",
      "\u001b[32m[1217 10:58:36 @DATSGANModel.py:213]\u001b[0m \u001b[91mCreating cell for dur_cycling (in-edges: 1; ancestors: 6)\n",
      "\u001b[32m[1217 10:58:36 @DATSGANModel.py:213]\u001b[0m \u001b[91mCreating cell for dur_pt_access (in-edges: 1; ancestors: 6)\n",
      "\u001b[32m[1217 10:58:36 @DATSGANModel.py:213]\u001b[0m \u001b[91mCreating cell for pt_n_interchanges (in-edges: 1; ancestors: 6)\n",
      "\u001b[32m[1217 10:58:36 @DATSGANModel.py:213]\u001b[0m \u001b[91mCreating cell for cost_driving_con_charge (in-edges: 5; ancestors: 11)\n",
      "\u001b[32m[1217 10:58:36 @DATSGANModel.py:213]\u001b[0m \u001b[91mCreating cell for dur_pt_rail (in-edges: 2; ancestors: 7)\n",
      "\u001b[32m[1217 10:58:36 @DATSGANModel.py:213]\u001b[0m \u001b[91mCreating cell for dur_pt_bus (in-edges: 2; ancestors: 7)\n",
      "\u001b[32m[1217 10:58:37 @DATSGANModel.py:213]\u001b[0m \u001b[91mCreating cell for dur_pt_int (in-edges: 2; ancestors: 7)\n",
      "\u001b[32m[1217 10:58:37 @DATSGANModel.py:213]\u001b[0m \u001b[91mCreating cell for cost_transit (in-edges: 5; ancestors: 12)\n",
      "\u001b[32m[1217 10:58:37 @DATSGANModel.py:213]\u001b[0m \u001b[91mCreating cell for travel_mode (in-edges: 21; ancestors: 26)\n",
      "\u001b[32m[1217 10:58:38 @sessinit.py:87]\u001b[0m \u001b[5m\u001b[31mWRN\u001b[0m The following variables are in the checkpoint, but not found in the graph: global_step, optimize/beta1_power, optimize/beta2_power\n",
      "INFO:tensorflow:Graph was finalized.\n",
      "INFO:tensorflow:Running local_init_op.\n",
      "INFO:tensorflow:Done running local_init_op.\n",
      "\u001b[32m[1217 10:58:41 @sessinit.py:114]\u001b[0m Restoring checkpoint from ../output/LPMC/WGGP_WI_05/model\\model-41999 ...\n",
      "INFO:tensorflow:Restoring parameters from ../output/LPMC/WGGP_WI_05/model\\model-41999\n",
      "\u001b[32m[1217 10:58:41 @DATSGAN.py:267]\u001b[0m Loading Preprocessor!\n"
     ]
    },
    {
     "name": "stderr",
     "output_type": "stream",
     "text": [
      "|                                                                                          |35/?[00:02<00:00,14.74it/s]\n"
     ]
    },
    {
     "name": "stdout",
     "output_type": "stream",
     "text": [
      "\u001b[32m[1217 10:58:44 @DATSGAN.py:267]\u001b[0m Loading Preprocessor!\n"
     ]
    },
    {
     "name": "stderr",
     "output_type": "stream",
     "text": [
      "|                                                                                          |35/?[00:01<00:00,23.66it/s]\n"
     ]
    },
    {
     "name": "stdout",
     "output_type": "stream",
     "text": [
      "\u001b[32m[1217 10:58:46 @DATSGAN.py:267]\u001b[0m Loading Preprocessor!\n"
     ]
    },
    {
     "name": "stderr",
     "output_type": "stream",
     "text": [
      "|                                                                                          |35/?[00:01<00:00,23.00it/s]\n"
     ]
    },
    {
     "name": "stdout",
     "output_type": "stream",
     "text": [
      "\u001b[32m[1217 10:58:48 @DATSGAN.py:267]\u001b[0m Loading Preprocessor!\n"
     ]
    },
    {
     "name": "stderr",
     "output_type": "stream",
     "text": [
      "|                                                                                          |35/?[00:01<00:00,22.04it/s]\n"
     ]
    },
    {
     "name": "stdout",
     "output_type": "stream",
     "text": [
      "\u001b[32m[1217 10:58:50 @DATSGAN.py:267]\u001b[0m Loading Preprocessor!\n"
     ]
    },
    {
     "name": "stderr",
     "output_type": "stream",
     "text": [
      "|                                                                                          |35/?[00:01<00:00,23.07it/s]\n"
     ]
    },
    {
     "name": "stdout",
     "output_type": "stream",
     "text": [
      "\u001b[32m[1217 10:58:53 @DATSGAN.py:267]\u001b[0m Loading Preprocessor!\n"
     ]
    },
    {
     "name": "stderr",
     "output_type": "stream",
     "text": [
      "|                                                                                          |35/?[00:01<00:00,23.05it/s]\n"
     ]
    },
    {
     "name": "stdout",
     "output_type": "stream",
     "text": [
      "\u001b[32m[1217 10:58:55 @DATSGAN.py:267]\u001b[0m Loading Preprocessor!\n"
     ]
    },
    {
     "name": "stderr",
     "output_type": "stream",
     "text": [
      "|                                                                                          |35/?[00:01<00:00,22.62it/s]\n"
     ]
    },
    {
     "name": "stdout",
     "output_type": "stream",
     "text": [
      "\u001b[32m[1217 10:58:57 @DATSGAN.py:267]\u001b[0m Loading Preprocessor!\n"
     ]
    },
    {
     "name": "stderr",
     "output_type": "stream",
     "text": [
      "|                                                                                          |35/?[00:01<00:00,24.58it/s]\n"
     ]
    },
    {
     "name": "stdout",
     "output_type": "stream",
     "text": [
      "\u001b[32m[1217 10:58:59 @DATSGAN.py:267]\u001b[0m Loading Preprocessor!\n"
     ]
    },
    {
     "name": "stderr",
     "output_type": "stream",
     "text": [
      "|                                                                                          |35/?[00:01<00:00,23.36it/s]\n"
     ]
    },
    {
     "name": "stdout",
     "output_type": "stream",
     "text": [
      "\u001b[32m[1217 10:59:01 @DATSGAN.py:267]\u001b[0m Loading Preprocessor!\n"
     ]
    },
    {
     "name": "stderr",
     "output_type": "stream",
     "text": [
      "|                                                                                          |35/?[00:01<00:00,23.33it/s]\n"
     ]
    },
    {
     "name": "stdout",
     "output_type": "stream",
     "text": [
      "\u001b[32m[1217 10:59:03 @DATSGAN.py:267]\u001b[0m Loading Preprocessor!\n"
     ]
    },
    {
     "name": "stderr",
     "output_type": "stream",
     "text": [
      "|                                                                                          |35/?[00:01<00:00,24.59it/s]\n"
     ]
    },
    {
     "name": "stdout",
     "output_type": "stream",
     "text": [
      "\u001b[32m[1217 10:59:05 @DATSGAN.py:267]\u001b[0m Loading Preprocessor!\n"
     ]
    },
    {
     "name": "stderr",
     "output_type": "stream",
     "text": [
      "|                                                                                          |35/?[00:01<00:00,21.78it/s]\n"
     ]
    },
    {
     "name": "stdout",
     "output_type": "stream",
     "text": [
      "\u001b[32m[1217 10:59:07 @DATSGAN.py:267]\u001b[0m Loading Preprocessor!\n"
     ]
    },
    {
     "name": "stderr",
     "output_type": "stream",
     "text": [
      "|                                                                                          |35/?[00:01<00:00,22.33it/s]\n"
     ]
    },
    {
     "name": "stdout",
     "output_type": "stream",
     "text": [
      "\u001b[32m[1217 10:59:09 @DATSGAN.py:267]\u001b[0m Loading Preprocessor!\n"
     ]
    },
    {
     "name": "stderr",
     "output_type": "stream",
     "text": [
      "|                                                                                          |35/?[00:01<00:00,23.23it/s]\n"
     ]
    },
    {
     "name": "stdout",
     "output_type": "stream",
     "text": [
      "\u001b[32m[1217 10:59:11 @DATSGAN.py:267]\u001b[0m Loading Preprocessor!\n"
     ]
    },
    {
     "name": "stderr",
     "output_type": "stream",
     "text": [
      "|                                                                                          |35/?[00:01<00:00,23.58it/s]\n"
     ]
    },
    {
     "name": "stdout",
     "output_type": "stream",
     "text": [
      "\u001b[32m[1217 10:59:13 @DATSGAN.py:267]\u001b[0m Loading Preprocessor!\n"
     ]
    },
    {
     "name": "stderr",
     "output_type": "stream",
     "text": [
      "|                                                                                          |35/?[00:01<00:00,22.15it/s]\n"
     ]
    },
    {
     "name": "stdout",
     "output_type": "stream",
     "text": [
      "\u001b[32m[1217 10:59:15 @DATSGAN.py:267]\u001b[0m Loading Preprocessor!\n"
     ]
    },
    {
     "name": "stderr",
     "output_type": "stream",
     "text": [
      "|                                                                                          |35/?[00:01<00:00,21.86it/s]\n"
     ]
    },
    {
     "name": "stdout",
     "output_type": "stream",
     "text": [
      "\u001b[32m[1217 10:59:17 @DATSGAN.py:267]\u001b[0m Loading Preprocessor!\n"
     ]
    },
    {
     "name": "stderr",
     "output_type": "stream",
     "text": [
      "|                                                                                          |35/?[00:01<00:00,23.91it/s]\n"
     ]
    },
    {
     "name": "stdout",
     "output_type": "stream",
     "text": [
      "\u001b[32m[1217 10:59:19 @DATSGAN.py:267]\u001b[0m Loading Preprocessor!\n"
     ]
    },
    {
     "name": "stderr",
     "output_type": "stream",
     "text": [
      "|                                                                                          |35/?[00:01<00:00,23.90it/s]\n"
     ]
    },
    {
     "name": "stdout",
     "output_type": "stream",
     "text": [
      "\u001b[32m[1217 10:59:21 @DATSGAN.py:267]\u001b[0m Loading Preprocessor!\n"
     ]
    },
    {
     "name": "stderr",
     "output_type": "stream",
     "text": [
      "|                                                                                          |35/?[00:01<00:00,24.03it/s]\n"
     ]
    },
    {
     "name": "stdout",
     "output_type": "stream",
     "text": [
      "Sampling synthetic data from model \u001b[1mWGGP_WO_01\u001b[0m (56/60)\n",
      "\u001b[32m[1217 10:59:40 @DATSGANModel.py:213]\u001b[0m \u001b[91mCreating cell for travel_year (in-edges: 0; ancestors: 0)\n",
      "\u001b[32m[1217 10:59:40 @DATSGANModel.py:213]\u001b[0m \u001b[91mCreating cell for car_ownership (in-edges: 0; ancestors: 0)\n",
      "\u001b[32m[1217 10:59:40 @DATSGANModel.py:213]\u001b[0m \u001b[91mCreating cell for female (in-edges: 0; ancestors: 0)\n",
      "\u001b[32m[1217 10:59:40 @DATSGANModel.py:213]\u001b[0m \u001b[91mCreating cell for age (in-edges: 0; ancestors: 0)\n",
      "\u001b[32m[1217 10:59:40 @DATSGANModel.py:213]\u001b[0m \u001b[91mCreating cell for travel_month (in-edges: 1; ancestors: 1)\n",
      "\u001b[32m[1217 10:59:40 @DATSGANModel.py:213]\u001b[0m \u001b[91mCreating cell for fueltype (in-edges: 1; ancestors: 1)\n",
      "\u001b[32m[1217 10:59:40 @DATSGANModel.py:213]\u001b[0m \u001b[91mCreating cell for driving_license (in-edges: 3; ancestors: 3)\n",
      "\u001b[32m[1217 10:59:40 @DATSGANModel.py:213]\u001b[0m \u001b[91mCreating cell for faretype (in-edges: 1; ancestors: 1)\n",
      "\u001b[32m[1217 10:59:40 @DATSGANModel.py:213]\u001b[0m \u001b[91mCreating cell for travel_date (in-edges: 1; ancestors: 2)\n",
      "\u001b[32m[1217 10:59:40 @DATSGANModel.py:213]\u001b[0m \u001b[91mCreating cell for bus_scale (in-edges: 2; ancestors: 2)\n",
      "\u001b[32m[1217 10:59:41 @DATSGANModel.py:213]\u001b[0m \u001b[91mCreating cell for day_of_week (in-edges: 2; ancestors: 3)\n",
      "\u001b[32m[1217 10:59:41 @DATSGANModel.py:213]\u001b[0m \u001b[91mCreating cell for purpose (in-edges: 1; ancestors: 4)\n",
      "\u001b[32m[1217 10:59:41 @DATSGANModel.py:213]\u001b[0m \u001b[91mCreating cell for start_time_linear (in-edges: 2; ancestors: 5)\n",
      "\u001b[32m[1217 10:59:41 @DATSGANModel.py:213]\u001b[0m \u001b[91mCreating cell for distance (in-edges: 1; ancestors: 5)\n",
      "\u001b[32m[1217 10:59:41 @DATSGANModel.py:213]\u001b[0m \u001b[91mCreating cell for driving_traffic_percent (in-edges: 3; ancestors: 6)\n",
      "\u001b[32m[1217 10:59:41 @DATSGANModel.py:213]\u001b[0m \u001b[91mCreating cell for cost_driving_fuel (in-edges: 2; ancestors: 8)\n",
      "\u001b[32m[1217 10:59:41 @DATSGANModel.py:213]\u001b[0m \u001b[91mCreating cell for dur_driving (in-edges: 1; ancestors: 6)\n",
      "\u001b[32m[1217 10:59:41 @DATSGANModel.py:213]\u001b[0m \u001b[91mCreating cell for dur_walking (in-edges: 1; ancestors: 6)\n",
      "\u001b[32m[1217 10:59:42 @DATSGANModel.py:213]\u001b[0m \u001b[91mCreating cell for dur_cycling (in-edges: 1; ancestors: 6)\n",
      "\u001b[32m[1217 10:59:42 @DATSGANModel.py:213]\u001b[0m \u001b[91mCreating cell for dur_pt_access (in-edges: 1; ancestors: 6)\n",
      "\u001b[32m[1217 10:59:42 @DATSGANModel.py:213]\u001b[0m \u001b[91mCreating cell for pt_n_interchanges (in-edges: 1; ancestors: 6)\n",
      "\u001b[32m[1217 10:59:42 @DATSGANModel.py:213]\u001b[0m \u001b[91mCreating cell for cost_driving_con_charge (in-edges: 5; ancestors: 11)\n",
      "\u001b[32m[1217 10:59:42 @DATSGANModel.py:213]\u001b[0m \u001b[91mCreating cell for dur_pt_rail (in-edges: 2; ancestors: 7)\n",
      "\u001b[32m[1217 10:59:42 @DATSGANModel.py:213]\u001b[0m \u001b[91mCreating cell for dur_pt_bus (in-edges: 2; ancestors: 7)\n",
      "\u001b[32m[1217 10:59:42 @DATSGANModel.py:213]\u001b[0m \u001b[91mCreating cell for dur_pt_int (in-edges: 2; ancestors: 7)\n",
      "\u001b[32m[1217 10:59:42 @DATSGANModel.py:213]\u001b[0m \u001b[91mCreating cell for cost_transit (in-edges: 5; ancestors: 12)\n",
      "\u001b[32m[1217 10:59:42 @DATSGANModel.py:213]\u001b[0m \u001b[91mCreating cell for travel_mode (in-edges: 21; ancestors: 26)\n",
      "\u001b[32m[1217 10:59:43 @sessinit.py:87]\u001b[0m \u001b[5m\u001b[31mWRN\u001b[0m The following variables are in the checkpoint, but not found in the graph: global_step, optimize/beta1_power, optimize/beta2_power\n",
      "INFO:tensorflow:Graph was finalized.\n",
      "INFO:tensorflow:Running local_init_op.\n",
      "INFO:tensorflow:Done running local_init_op.\n",
      "\u001b[32m[1217 10:59:46 @sessinit.py:114]\u001b[0m Restoring checkpoint from ../output/LPMC/WGGP_WO_01/model\\model-41999 ...\n",
      "INFO:tensorflow:Restoring parameters from ../output/LPMC/WGGP_WO_01/model\\model-41999\n",
      "\u001b[32m[1217 10:59:46 @DATSGAN.py:267]\u001b[0m Loading Preprocessor!\n"
     ]
    },
    {
     "name": "stderr",
     "output_type": "stream",
     "text": [
      "|                                                                                          |35/?[00:02<00:00,13.86it/s]\n"
     ]
    },
    {
     "name": "stdout",
     "output_type": "stream",
     "text": [
      "\u001b[32m[1217 10:59:49 @DATSGAN.py:267]\u001b[0m Loading Preprocessor!\n"
     ]
    },
    {
     "name": "stderr",
     "output_type": "stream",
     "text": [
      "|                                                                                          |35/?[00:01<00:00,22.41it/s]\n"
     ]
    },
    {
     "name": "stdout",
     "output_type": "stream",
     "text": [
      "\u001b[32m[1217 10:59:52 @DATSGAN.py:267]\u001b[0m Loading Preprocessor!\n"
     ]
    },
    {
     "name": "stderr",
     "output_type": "stream",
     "text": [
      "|                                                                                          |35/?[00:01<00:00,23.26it/s]\n"
     ]
    },
    {
     "name": "stdout",
     "output_type": "stream",
     "text": [
      "\u001b[32m[1217 10:59:54 @DATSGAN.py:267]\u001b[0m Loading Preprocessor!\n"
     ]
    },
    {
     "name": "stderr",
     "output_type": "stream",
     "text": [
      "|                                                                                          |35/?[00:01<00:00,23.26it/s]\n"
     ]
    },
    {
     "name": "stdout",
     "output_type": "stream",
     "text": [
      "\u001b[32m[1217 10:59:56 @DATSGAN.py:267]\u001b[0m Loading Preprocessor!\n"
     ]
    },
    {
     "name": "stderr",
     "output_type": "stream",
     "text": [
      "|                                                                                          |35/?[00:01<00:00,21.55it/s]\n"
     ]
    },
    {
     "name": "stdout",
     "output_type": "stream",
     "text": [
      "\u001b[32m[1217 10:59:58 @DATSGAN.py:267]\u001b[0m Loading Preprocessor!\n"
     ]
    },
    {
     "name": "stderr",
     "output_type": "stream",
     "text": [
      "|                                                                                          |35/?[00:01<00:00,22.25it/s]\n"
     ]
    },
    {
     "name": "stdout",
     "output_type": "stream",
     "text": [
      "\u001b[32m[1217 11:00:00 @DATSGAN.py:267]\u001b[0m Loading Preprocessor!\n"
     ]
    },
    {
     "name": "stderr",
     "output_type": "stream",
     "text": [
      "|                                                                                          |35/?[00:01<00:00,24.48it/s]\n"
     ]
    },
    {
     "name": "stdout",
     "output_type": "stream",
     "text": [
      "\u001b[32m[1217 11:00:02 @DATSGAN.py:267]\u001b[0m Loading Preprocessor!\n"
     ]
    },
    {
     "name": "stderr",
     "output_type": "stream",
     "text": [
      "|                                                                                          |35/?[00:01<00:00,24.06it/s]\n"
     ]
    },
    {
     "name": "stdout",
     "output_type": "stream",
     "text": [
      "\u001b[32m[1217 11:00:04 @DATSGAN.py:267]\u001b[0m Loading Preprocessor!\n"
     ]
    },
    {
     "name": "stderr",
     "output_type": "stream",
     "text": [
      "|                                                                                          |35/?[00:01<00:00,22.86it/s]\n"
     ]
    },
    {
     "name": "stdout",
     "output_type": "stream",
     "text": [
      "\u001b[32m[1217 11:00:06 @DATSGAN.py:267]\u001b[0m Loading Preprocessor!\n"
     ]
    },
    {
     "name": "stderr",
     "output_type": "stream",
     "text": [
      "|                                                                                          |35/?[00:01<00:00,22.79it/s]\n"
     ]
    },
    {
     "name": "stdout",
     "output_type": "stream",
     "text": [
      "\u001b[32m[1217 11:00:08 @DATSGAN.py:267]\u001b[0m Loading Preprocessor!\n"
     ]
    },
    {
     "name": "stderr",
     "output_type": "stream",
     "text": [
      "|                                                                                          |35/?[00:01<00:00,23.43it/s]\n"
     ]
    },
    {
     "name": "stdout",
     "output_type": "stream",
     "text": [
      "\u001b[32m[1217 11:00:10 @DATSGAN.py:267]\u001b[0m Loading Preprocessor!\n"
     ]
    },
    {
     "name": "stderr",
     "output_type": "stream",
     "text": [
      "|                                                                                          |35/?[00:01<00:00,23.83it/s]\n"
     ]
    },
    {
     "name": "stdout",
     "output_type": "stream",
     "text": [
      "\u001b[32m[1217 11:00:12 @DATSGAN.py:267]\u001b[0m Loading Preprocessor!\n"
     ]
    },
    {
     "name": "stderr",
     "output_type": "stream",
     "text": [
      "|                                                                                          |35/?[00:01<00:00,22.55it/s]\n"
     ]
    },
    {
     "name": "stdout",
     "output_type": "stream",
     "text": [
      "\u001b[32m[1217 11:00:14 @DATSGAN.py:267]\u001b[0m Loading Preprocessor!\n"
     ]
    },
    {
     "name": "stderr",
     "output_type": "stream",
     "text": [
      "|                                                                                          |35/?[00:01<00:00,23.14it/s]\n"
     ]
    },
    {
     "name": "stdout",
     "output_type": "stream",
     "text": [
      "\u001b[32m[1217 11:00:16 @DATSGAN.py:267]\u001b[0m Loading Preprocessor!\n"
     ]
    },
    {
     "name": "stderr",
     "output_type": "stream",
     "text": [
      "|                                                                                          |35/?[00:01<00:00,22.73it/s]\n"
     ]
    },
    {
     "name": "stdout",
     "output_type": "stream",
     "text": [
      "\u001b[32m[1217 11:00:18 @DATSGAN.py:267]\u001b[0m Loading Preprocessor!\n"
     ]
    },
    {
     "name": "stderr",
     "output_type": "stream",
     "text": [
      "|                                                                                          |35/?[00:01<00:00,25.06it/s]\n"
     ]
    },
    {
     "name": "stdout",
     "output_type": "stream",
     "text": [
      "\u001b[32m[1217 11:00:20 @DATSGAN.py:267]\u001b[0m Loading Preprocessor!\n"
     ]
    },
    {
     "name": "stderr",
     "output_type": "stream",
     "text": [
      "|                                                                                          |35/?[00:01<00:00,22.91it/s]\n"
     ]
    },
    {
     "name": "stdout",
     "output_type": "stream",
     "text": [
      "\u001b[32m[1217 11:00:22 @DATSGAN.py:267]\u001b[0m Loading Preprocessor!\n"
     ]
    },
    {
     "name": "stderr",
     "output_type": "stream",
     "text": [
      "|                                                                                          |35/?[00:01<00:00,23.32it/s]\n"
     ]
    },
    {
     "name": "stdout",
     "output_type": "stream",
     "text": [
      "\u001b[32m[1217 11:00:24 @DATSGAN.py:267]\u001b[0m Loading Preprocessor!\n"
     ]
    },
    {
     "name": "stderr",
     "output_type": "stream",
     "text": [
      "|                                                                                          |35/?[00:01<00:00,23.52it/s]\n"
     ]
    },
    {
     "name": "stdout",
     "output_type": "stream",
     "text": [
      "\u001b[32m[1217 11:00:26 @DATSGAN.py:267]\u001b[0m Loading Preprocessor!\n"
     ]
    },
    {
     "name": "stderr",
     "output_type": "stream",
     "text": [
      "|                                                                                          |35/?[00:01<00:00,23.00it/s]\n"
     ]
    },
    {
     "name": "stdout",
     "output_type": "stream",
     "text": [
      "Sampling synthetic data from model \u001b[1mWGGP_WO_02\u001b[0m (57/60)\n",
      "\u001b[32m[1217 11:00:44 @DATSGANModel.py:213]\u001b[0m \u001b[91mCreating cell for travel_year (in-edges: 0; ancestors: 0)\n",
      "\u001b[32m[1217 11:00:44 @DATSGANModel.py:213]\u001b[0m \u001b[91mCreating cell for car_ownership (in-edges: 0; ancestors: 0)\n",
      "\u001b[32m[1217 11:00:44 @DATSGANModel.py:213]\u001b[0m \u001b[91mCreating cell for female (in-edges: 0; ancestors: 0)\n",
      "\u001b[32m[1217 11:00:45 @DATSGANModel.py:213]\u001b[0m \u001b[91mCreating cell for age (in-edges: 0; ancestors: 0)\n",
      "\u001b[32m[1217 11:00:45 @DATSGANModel.py:213]\u001b[0m \u001b[91mCreating cell for travel_month (in-edges: 1; ancestors: 1)\n",
      "\u001b[32m[1217 11:00:45 @DATSGANModel.py:213]\u001b[0m \u001b[91mCreating cell for fueltype (in-edges: 1; ancestors: 1)\n",
      "\u001b[32m[1217 11:00:45 @DATSGANModel.py:213]\u001b[0m \u001b[91mCreating cell for driving_license (in-edges: 3; ancestors: 3)\n",
      "\u001b[32m[1217 11:00:45 @DATSGANModel.py:213]\u001b[0m \u001b[91mCreating cell for faretype (in-edges: 1; ancestors: 1)\n",
      "\u001b[32m[1217 11:00:45 @DATSGANModel.py:213]\u001b[0m \u001b[91mCreating cell for travel_date (in-edges: 1; ancestors: 2)\n",
      "\u001b[32m[1217 11:00:45 @DATSGANModel.py:213]\u001b[0m \u001b[91mCreating cell for bus_scale (in-edges: 2; ancestors: 2)\n",
      "\u001b[32m[1217 11:00:45 @DATSGANModel.py:213]\u001b[0m \u001b[91mCreating cell for day_of_week (in-edges: 2; ancestors: 3)\n",
      "\u001b[32m[1217 11:00:46 @DATSGANModel.py:213]\u001b[0m \u001b[91mCreating cell for purpose (in-edges: 1; ancestors: 4)\n",
      "\u001b[32m[1217 11:00:46 @DATSGANModel.py:213]\u001b[0m \u001b[91mCreating cell for start_time_linear (in-edges: 2; ancestors: 5)\n",
      "\u001b[32m[1217 11:00:46 @DATSGANModel.py:213]\u001b[0m \u001b[91mCreating cell for distance (in-edges: 1; ancestors: 5)\n",
      "\u001b[32m[1217 11:00:46 @DATSGANModel.py:213]\u001b[0m \u001b[91mCreating cell for driving_traffic_percent (in-edges: 3; ancestors: 6)\n",
      "\u001b[32m[1217 11:00:46 @DATSGANModel.py:213]\u001b[0m \u001b[91mCreating cell for cost_driving_fuel (in-edges: 2; ancestors: 8)\n",
      "\u001b[32m[1217 11:00:46 @DATSGANModel.py:213]\u001b[0m \u001b[91mCreating cell for dur_driving (in-edges: 1; ancestors: 6)\n",
      "\u001b[32m[1217 11:00:46 @DATSGANModel.py:213]\u001b[0m \u001b[91mCreating cell for dur_walking (in-edges: 1; ancestors: 6)\n",
      "\u001b[32m[1217 11:00:46 @DATSGANModel.py:213]\u001b[0m \u001b[91mCreating cell for dur_cycling (in-edges: 1; ancestors: 6)\n",
      "\u001b[32m[1217 11:00:46 @DATSGANModel.py:213]\u001b[0m \u001b[91mCreating cell for dur_pt_access (in-edges: 1; ancestors: 6)\n",
      "\u001b[32m[1217 11:00:46 @DATSGANModel.py:213]\u001b[0m \u001b[91mCreating cell for pt_n_interchanges (in-edges: 1; ancestors: 6)\n",
      "\u001b[32m[1217 11:00:47 @DATSGANModel.py:213]\u001b[0m \u001b[91mCreating cell for cost_driving_con_charge (in-edges: 5; ancestors: 11)\n",
      "\u001b[32m[1217 11:00:47 @DATSGANModel.py:213]\u001b[0m \u001b[91mCreating cell for dur_pt_rail (in-edges: 2; ancestors: 7)\n",
      "\u001b[32m[1217 11:00:47 @DATSGANModel.py:213]\u001b[0m \u001b[91mCreating cell for dur_pt_bus (in-edges: 2; ancestors: 7)\n",
      "\u001b[32m[1217 11:00:47 @DATSGANModel.py:213]\u001b[0m \u001b[91mCreating cell for dur_pt_int (in-edges: 2; ancestors: 7)\n",
      "\u001b[32m[1217 11:00:47 @DATSGANModel.py:213]\u001b[0m \u001b[91mCreating cell for cost_transit (in-edges: 5; ancestors: 12)\n",
      "\u001b[32m[1217 11:00:47 @DATSGANModel.py:213]\u001b[0m \u001b[91mCreating cell for travel_mode (in-edges: 21; ancestors: 26)\n",
      "\u001b[32m[1217 11:00:48 @sessinit.py:87]\u001b[0m \u001b[5m\u001b[31mWRN\u001b[0m The following variables are in the checkpoint, but not found in the graph: global_step, optimize/beta1_power, optimize/beta2_power\n",
      "INFO:tensorflow:Graph was finalized.\n",
      "INFO:tensorflow:Running local_init_op.\n",
      "INFO:tensorflow:Done running local_init_op.\n",
      "\u001b[32m[1217 11:00:51 @sessinit.py:114]\u001b[0m Restoring checkpoint from ../output/LPMC/WGGP_WO_02/model\\model-41999 ...\n",
      "INFO:tensorflow:Restoring parameters from ../output/LPMC/WGGP_WO_02/model\\model-41999\n",
      "\u001b[32m[1217 11:00:51 @DATSGAN.py:267]\u001b[0m Loading Preprocessor!\n"
     ]
    },
    {
     "name": "stderr",
     "output_type": "stream",
     "text": [
      "|                                                                                          |35/?[00:02<00:00,14.52it/s]\n"
     ]
    },
    {
     "name": "stdout",
     "output_type": "stream",
     "text": [
      "\u001b[32m[1217 11:00:54 @DATSGAN.py:267]\u001b[0m Loading Preprocessor!\n"
     ]
    },
    {
     "name": "stderr",
     "output_type": "stream",
     "text": [
      "|                                                                                          |35/?[00:01<00:00,22.93it/s]\n"
     ]
    },
    {
     "name": "stdout",
     "output_type": "stream",
     "text": [
      "\u001b[32m[1217 11:00:56 @DATSGAN.py:267]\u001b[0m Loading Preprocessor!\n"
     ]
    },
    {
     "name": "stderr",
     "output_type": "stream",
     "text": [
      "|                                                                                          |35/?[00:01<00:00,23.35it/s]\n"
     ]
    },
    {
     "name": "stdout",
     "output_type": "stream",
     "text": [
      "\u001b[32m[1217 11:00:58 @DATSGAN.py:267]\u001b[0m Loading Preprocessor!\n"
     ]
    },
    {
     "name": "stderr",
     "output_type": "stream",
     "text": [
      "|                                                                                          |35/?[00:01<00:00,22.58it/s]\n"
     ]
    },
    {
     "name": "stdout",
     "output_type": "stream",
     "text": [
      "\u001b[32m[1217 11:01:00 @DATSGAN.py:267]\u001b[0m Loading Preprocessor!\n"
     ]
    },
    {
     "name": "stderr",
     "output_type": "stream",
     "text": [
      "|                                                                                          |35/?[00:01<00:00,23.88it/s]\n"
     ]
    },
    {
     "name": "stdout",
     "output_type": "stream",
     "text": [
      "\u001b[32m[1217 11:01:02 @DATSGAN.py:267]\u001b[0m Loading Preprocessor!\n"
     ]
    },
    {
     "name": "stderr",
     "output_type": "stream",
     "text": [
      "|                                                                                          |35/?[00:01<00:00,22.02it/s]\n"
     ]
    },
    {
     "name": "stdout",
     "output_type": "stream",
     "text": [
      "\u001b[32m[1217 11:01:04 @DATSGAN.py:267]\u001b[0m Loading Preprocessor!\n"
     ]
    },
    {
     "name": "stderr",
     "output_type": "stream",
     "text": [
      "|                                                                                          |35/?[00:01<00:00,23.76it/s]\n"
     ]
    },
    {
     "name": "stdout",
     "output_type": "stream",
     "text": [
      "\u001b[32m[1217 11:01:06 @DATSGAN.py:267]\u001b[0m Loading Preprocessor!\n"
     ]
    },
    {
     "name": "stderr",
     "output_type": "stream",
     "text": [
      "|                                                                                          |35/?[00:01<00:00,22.52it/s]\n"
     ]
    },
    {
     "name": "stdout",
     "output_type": "stream",
     "text": [
      "\u001b[32m[1217 11:01:08 @DATSGAN.py:267]\u001b[0m Loading Preprocessor!\n"
     ]
    },
    {
     "name": "stderr",
     "output_type": "stream",
     "text": [
      "|                                                                                          |35/?[00:01<00:00,21.95it/s]\n"
     ]
    },
    {
     "name": "stdout",
     "output_type": "stream",
     "text": [
      "\u001b[32m[1217 11:01:11 @DATSGAN.py:267]\u001b[0m Loading Preprocessor!\n"
     ]
    },
    {
     "name": "stderr",
     "output_type": "stream",
     "text": [
      "|                                                                                          |35/?[00:01<00:00,21.91it/s]\n"
     ]
    },
    {
     "name": "stdout",
     "output_type": "stream",
     "text": [
      "\u001b[32m[1217 11:01:13 @DATSGAN.py:267]\u001b[0m Loading Preprocessor!\n"
     ]
    },
    {
     "name": "stderr",
     "output_type": "stream",
     "text": [
      "|                                                                                          |35/?[00:01<00:00,22.54it/s]\n"
     ]
    },
    {
     "name": "stdout",
     "output_type": "stream",
     "text": [
      "\u001b[32m[1217 11:01:15 @DATSGAN.py:267]\u001b[0m Loading Preprocessor!\n"
     ]
    },
    {
     "name": "stderr",
     "output_type": "stream",
     "text": [
      "|                                                                                          |35/?[00:01<00:00,22.70it/s]\n"
     ]
    },
    {
     "name": "stdout",
     "output_type": "stream",
     "text": [
      "\u001b[32m[1217 11:01:17 @DATSGAN.py:267]\u001b[0m Loading Preprocessor!\n"
     ]
    },
    {
     "name": "stderr",
     "output_type": "stream",
     "text": [
      "|                                                                                          |35/?[00:01<00:00,22.69it/s]\n"
     ]
    },
    {
     "name": "stdout",
     "output_type": "stream",
     "text": [
      "\u001b[32m[1217 11:01:19 @DATSGAN.py:267]\u001b[0m Loading Preprocessor!\n"
     ]
    },
    {
     "name": "stderr",
     "output_type": "stream",
     "text": [
      "|                                                                                          |35/?[00:01<00:00,23.51it/s]\n"
     ]
    },
    {
     "name": "stdout",
     "output_type": "stream",
     "text": [
      "\u001b[32m[1217 11:01:21 @DATSGAN.py:267]\u001b[0m Loading Preprocessor!\n"
     ]
    },
    {
     "name": "stderr",
     "output_type": "stream",
     "text": [
      "|                                                                                          |35/?[00:01<00:00,22.76it/s]\n"
     ]
    },
    {
     "name": "stdout",
     "output_type": "stream",
     "text": [
      "\u001b[32m[1217 11:01:23 @DATSGAN.py:267]\u001b[0m Loading Preprocessor!\n"
     ]
    },
    {
     "name": "stderr",
     "output_type": "stream",
     "text": [
      "|                                                                                          |35/?[00:01<00:00,23.13it/s]\n"
     ]
    },
    {
     "name": "stdout",
     "output_type": "stream",
     "text": [
      "\u001b[32m[1217 11:01:25 @DATSGAN.py:267]\u001b[0m Loading Preprocessor!\n"
     ]
    },
    {
     "name": "stderr",
     "output_type": "stream",
     "text": [
      "|                                                                                          |35/?[00:01<00:00,23.93it/s]\n"
     ]
    },
    {
     "name": "stdout",
     "output_type": "stream",
     "text": [
      "\u001b[32m[1217 11:01:27 @DATSGAN.py:267]\u001b[0m Loading Preprocessor!\n"
     ]
    },
    {
     "name": "stderr",
     "output_type": "stream",
     "text": [
      "|                                                                                          |35/?[00:01<00:00,22.69it/s]\n"
     ]
    },
    {
     "name": "stdout",
     "output_type": "stream",
     "text": [
      "\u001b[32m[1217 11:01:29 @DATSGAN.py:267]\u001b[0m Loading Preprocessor!\n"
     ]
    },
    {
     "name": "stderr",
     "output_type": "stream",
     "text": [
      "|                                                                                          |35/?[00:01<00:00,23.74it/s]\n"
     ]
    },
    {
     "name": "stdout",
     "output_type": "stream",
     "text": [
      "\u001b[32m[1217 11:01:31 @DATSGAN.py:267]\u001b[0m Loading Preprocessor!\n"
     ]
    },
    {
     "name": "stderr",
     "output_type": "stream",
     "text": [
      "|                                                                                          |35/?[00:01<00:00,25.20it/s]\n"
     ]
    },
    {
     "name": "stdout",
     "output_type": "stream",
     "text": [
      "Sampling synthetic data from model \u001b[1mWGGP_WO_03\u001b[0m (58/60)\n",
      "\u001b[32m[1217 11:01:49 @DATSGANModel.py:213]\u001b[0m \u001b[91mCreating cell for travel_year (in-edges: 0; ancestors: 0)\n",
      "\u001b[32m[1217 11:01:49 @DATSGANModel.py:213]\u001b[0m \u001b[91mCreating cell for car_ownership (in-edges: 0; ancestors: 0)\n",
      "\u001b[32m[1217 11:01:49 @DATSGANModel.py:213]\u001b[0m \u001b[91mCreating cell for female (in-edges: 0; ancestors: 0)\n",
      "\u001b[32m[1217 11:01:49 @DATSGANModel.py:213]\u001b[0m \u001b[91mCreating cell for age (in-edges: 0; ancestors: 0)\n",
      "\u001b[32m[1217 11:01:49 @DATSGANModel.py:213]\u001b[0m \u001b[91mCreating cell for travel_month (in-edges: 1; ancestors: 1)\n",
      "\u001b[32m[1217 11:01:49 @DATSGANModel.py:213]\u001b[0m \u001b[91mCreating cell for fueltype (in-edges: 1; ancestors: 1)\n",
      "\u001b[32m[1217 11:01:49 @DATSGANModel.py:213]\u001b[0m \u001b[91mCreating cell for driving_license (in-edges: 3; ancestors: 3)\n",
      "\u001b[32m[1217 11:01:49 @DATSGANModel.py:213]\u001b[0m \u001b[91mCreating cell for faretype (in-edges: 1; ancestors: 1)\n",
      "\u001b[32m[1217 11:01:49 @DATSGANModel.py:213]\u001b[0m \u001b[91mCreating cell for travel_date (in-edges: 1; ancestors: 2)\n",
      "\u001b[32m[1217 11:01:49 @DATSGANModel.py:213]\u001b[0m \u001b[91mCreating cell for bus_scale (in-edges: 2; ancestors: 2)\n",
      "\u001b[32m[1217 11:01:50 @DATSGANModel.py:213]\u001b[0m \u001b[91mCreating cell for day_of_week (in-edges: 2; ancestors: 3)\n",
      "\u001b[32m[1217 11:01:50 @DATSGANModel.py:213]\u001b[0m \u001b[91mCreating cell for purpose (in-edges: 1; ancestors: 4)\n",
      "\u001b[32m[1217 11:01:50 @DATSGANModel.py:213]\u001b[0m \u001b[91mCreating cell for start_time_linear (in-edges: 2; ancestors: 5)\n",
      "\u001b[32m[1217 11:01:50 @DATSGANModel.py:213]\u001b[0m \u001b[91mCreating cell for distance (in-edges: 1; ancestors: 5)\n",
      "\u001b[32m[1217 11:01:50 @DATSGANModel.py:213]\u001b[0m \u001b[91mCreating cell for driving_traffic_percent (in-edges: 3; ancestors: 6)\n",
      "\u001b[32m[1217 11:01:50 @DATSGANModel.py:213]\u001b[0m \u001b[91mCreating cell for cost_driving_fuel (in-edges: 2; ancestors: 8)\n",
      "\u001b[32m[1217 11:01:50 @DATSGANModel.py:213]\u001b[0m \u001b[91mCreating cell for dur_driving (in-edges: 1; ancestors: 6)\n",
      "\u001b[32m[1217 11:01:50 @DATSGANModel.py:213]\u001b[0m \u001b[91mCreating cell for dur_walking (in-edges: 1; ancestors: 6)\n",
      "\u001b[32m[1217 11:01:50 @DATSGANModel.py:213]\u001b[0m \u001b[91mCreating cell for dur_cycling (in-edges: 1; ancestors: 6)\n",
      "\u001b[32m[1217 11:01:51 @DATSGANModel.py:213]\u001b[0m \u001b[91mCreating cell for dur_pt_access (in-edges: 1; ancestors: 6)\n",
      "\u001b[32m[1217 11:01:51 @DATSGANModel.py:213]\u001b[0m \u001b[91mCreating cell for pt_n_interchanges (in-edges: 1; ancestors: 6)\n",
      "\u001b[32m[1217 11:01:51 @DATSGANModel.py:213]\u001b[0m \u001b[91mCreating cell for cost_driving_con_charge (in-edges: 5; ancestors: 11)\n",
      "\u001b[32m[1217 11:01:51 @DATSGANModel.py:213]\u001b[0m \u001b[91mCreating cell for dur_pt_rail (in-edges: 2; ancestors: 7)\n",
      "\u001b[32m[1217 11:01:51 @DATSGANModel.py:213]\u001b[0m \u001b[91mCreating cell for dur_pt_bus (in-edges: 2; ancestors: 7)\n",
      "\u001b[32m[1217 11:01:51 @DATSGANModel.py:213]\u001b[0m \u001b[91mCreating cell for dur_pt_int (in-edges: 2; ancestors: 7)\n",
      "\u001b[32m[1217 11:01:51 @DATSGANModel.py:213]\u001b[0m \u001b[91mCreating cell for cost_transit (in-edges: 5; ancestors: 12)\n",
      "\u001b[32m[1217 11:01:51 @DATSGANModel.py:213]\u001b[0m \u001b[91mCreating cell for travel_mode (in-edges: 21; ancestors: 26)\n",
      "\u001b[32m[1217 11:01:52 @sessinit.py:87]\u001b[0m \u001b[5m\u001b[31mWRN\u001b[0m The following variables are in the checkpoint, but not found in the graph: global_step, optimize/beta1_power, optimize/beta2_power\n",
      "INFO:tensorflow:Graph was finalized.\n",
      "INFO:tensorflow:Running local_init_op.\n",
      "INFO:tensorflow:Done running local_init_op.\n",
      "\u001b[32m[1217 11:01:55 @sessinit.py:114]\u001b[0m Restoring checkpoint from ../output/LPMC/WGGP_WO_03/model\\model-41999 ...\n",
      "INFO:tensorflow:Restoring parameters from ../output/LPMC/WGGP_WO_03/model\\model-41999\n",
      "\u001b[32m[1217 11:01:55 @DATSGAN.py:267]\u001b[0m Loading Preprocessor!\n"
     ]
    },
    {
     "name": "stderr",
     "output_type": "stream",
     "text": [
      "|                                                                                          |35/?[00:02<00:00,14.49it/s]\n"
     ]
    },
    {
     "name": "stdout",
     "output_type": "stream",
     "text": [
      "\u001b[32m[1217 11:01:58 @DATSGAN.py:267]\u001b[0m Loading Preprocessor!\n"
     ]
    },
    {
     "name": "stderr",
     "output_type": "stream",
     "text": [
      "|                                                                                          |35/?[00:01<00:00,23.11it/s]\n"
     ]
    },
    {
     "name": "stdout",
     "output_type": "stream",
     "text": [
      "\u001b[32m[1217 11:02:00 @DATSGAN.py:267]\u001b[0m Loading Preprocessor!\n"
     ]
    },
    {
     "name": "stderr",
     "output_type": "stream",
     "text": [
      "|                                                                                          |35/?[00:01<00:00,23.47it/s]\n"
     ]
    },
    {
     "name": "stdout",
     "output_type": "stream",
     "text": [
      "\u001b[32m[1217 11:02:02 @DATSGAN.py:267]\u001b[0m Loading Preprocessor!\n"
     ]
    },
    {
     "name": "stderr",
     "output_type": "stream",
     "text": [
      "|                                                                                          |35/?[00:01<00:00,23.35it/s]\n"
     ]
    },
    {
     "name": "stdout",
     "output_type": "stream",
     "text": [
      "\u001b[32m[1217 11:02:04 @DATSGAN.py:267]\u001b[0m Loading Preprocessor!\n"
     ]
    },
    {
     "name": "stderr",
     "output_type": "stream",
     "text": [
      "|                                                                                          |35/?[00:01<00:00,23.69it/s]\n"
     ]
    },
    {
     "name": "stdout",
     "output_type": "stream",
     "text": [
      "\u001b[32m[1217 11:02:06 @DATSGAN.py:267]\u001b[0m Loading Preprocessor!\n"
     ]
    },
    {
     "name": "stderr",
     "output_type": "stream",
     "text": [
      "|                                                                                          |35/?[00:01<00:00,21.68it/s]\n"
     ]
    },
    {
     "name": "stdout",
     "output_type": "stream",
     "text": [
      "\u001b[32m[1217 11:02:08 @DATSGAN.py:267]\u001b[0m Loading Preprocessor!\n"
     ]
    },
    {
     "name": "stderr",
     "output_type": "stream",
     "text": [
      "|                                                                                          |35/?[00:01<00:00,23.02it/s]\n"
     ]
    },
    {
     "name": "stdout",
     "output_type": "stream",
     "text": [
      "\u001b[32m[1217 11:02:10 @DATSGAN.py:267]\u001b[0m Loading Preprocessor!\n"
     ]
    },
    {
     "name": "stderr",
     "output_type": "stream",
     "text": [
      "|                                                                                          |35/?[00:01<00:00,24.15it/s]\n"
     ]
    },
    {
     "name": "stdout",
     "output_type": "stream",
     "text": [
      "\u001b[32m[1217 11:02:12 @DATSGAN.py:267]\u001b[0m Loading Preprocessor!\n"
     ]
    },
    {
     "name": "stderr",
     "output_type": "stream",
     "text": [
      "|                                                                                          |35/?[00:01<00:00,23.03it/s]\n"
     ]
    },
    {
     "name": "stdout",
     "output_type": "stream",
     "text": [
      "\u001b[32m[1217 11:02:15 @DATSGAN.py:267]\u001b[0m Loading Preprocessor!\n"
     ]
    },
    {
     "name": "stderr",
     "output_type": "stream",
     "text": [
      "|                                                                                          |35/?[00:01<00:00,23.62it/s]\n"
     ]
    },
    {
     "name": "stdout",
     "output_type": "stream",
     "text": [
      "\u001b[32m[1217 11:02:17 @DATSGAN.py:267]\u001b[0m Loading Preprocessor!\n"
     ]
    },
    {
     "name": "stderr",
     "output_type": "stream",
     "text": [
      "|                                                                                          |35/?[00:01<00:00,23.02it/s]\n"
     ]
    },
    {
     "name": "stdout",
     "output_type": "stream",
     "text": [
      "\u001b[32m[1217 11:02:19 @DATSGAN.py:267]\u001b[0m Loading Preprocessor!\n"
     ]
    },
    {
     "name": "stderr",
     "output_type": "stream",
     "text": [
      "|                                                                                          |35/?[00:01<00:00,22.45it/s]\n"
     ]
    },
    {
     "name": "stdout",
     "output_type": "stream",
     "text": [
      "\u001b[32m[1217 11:02:21 @DATSGAN.py:267]\u001b[0m Loading Preprocessor!\n"
     ]
    },
    {
     "name": "stderr",
     "output_type": "stream",
     "text": [
      "|                                                                                          |35/?[00:01<00:00,23.04it/s]\n"
     ]
    },
    {
     "name": "stdout",
     "output_type": "stream",
     "text": [
      "\u001b[32m[1217 11:02:23 @DATSGAN.py:267]\u001b[0m Loading Preprocessor!\n"
     ]
    },
    {
     "name": "stderr",
     "output_type": "stream",
     "text": [
      "|                                                                                          |35/?[00:01<00:00,23.85it/s]\n"
     ]
    },
    {
     "name": "stdout",
     "output_type": "stream",
     "text": [
      "\u001b[32m[1217 11:02:25 @DATSGAN.py:267]\u001b[0m Loading Preprocessor!\n"
     ]
    },
    {
     "name": "stderr",
     "output_type": "stream",
     "text": [
      "|                                                                                          |35/?[00:01<00:00,21.98it/s]\n"
     ]
    },
    {
     "name": "stdout",
     "output_type": "stream",
     "text": [
      "\u001b[32m[1217 11:02:27 @DATSGAN.py:267]\u001b[0m Loading Preprocessor!\n"
     ]
    },
    {
     "name": "stderr",
     "output_type": "stream",
     "text": [
      "|                                                                                          |35/?[00:01<00:00,21.31it/s]\n"
     ]
    },
    {
     "name": "stdout",
     "output_type": "stream",
     "text": [
      "\u001b[32m[1217 11:02:29 @DATSGAN.py:267]\u001b[0m Loading Preprocessor!\n"
     ]
    },
    {
     "name": "stderr",
     "output_type": "stream",
     "text": [
      "|                                                                                          |35/?[00:01<00:00,22.79it/s]\n"
     ]
    },
    {
     "name": "stdout",
     "output_type": "stream",
     "text": [
      "\u001b[32m[1217 11:02:31 @DATSGAN.py:267]\u001b[0m Loading Preprocessor!\n"
     ]
    },
    {
     "name": "stderr",
     "output_type": "stream",
     "text": [
      "|                                                                                          |35/?[00:01<00:00,22.48it/s]\n"
     ]
    },
    {
     "name": "stdout",
     "output_type": "stream",
     "text": [
      "\u001b[32m[1217 11:02:33 @DATSGAN.py:267]\u001b[0m Loading Preprocessor!\n"
     ]
    },
    {
     "name": "stderr",
     "output_type": "stream",
     "text": [
      "|                                                                                          |35/?[00:01<00:00,23.00it/s]\n"
     ]
    },
    {
     "name": "stdout",
     "output_type": "stream",
     "text": [
      "\u001b[32m[1217 11:02:35 @DATSGAN.py:267]\u001b[0m Loading Preprocessor!\n"
     ]
    },
    {
     "name": "stderr",
     "output_type": "stream",
     "text": [
      "|                                                                                          |35/?[00:01<00:00,23.88it/s]\n"
     ]
    },
    {
     "name": "stdout",
     "output_type": "stream",
     "text": [
      "Sampling synthetic data from model \u001b[1mWGGP_WO_04\u001b[0m (59/60)\n",
      "\u001b[32m[1217 11:03:06 @DATSGANModel.py:213]\u001b[0m \u001b[91mCreating cell for travel_year (in-edges: 0; ancestors: 0)\n",
      "\u001b[32m[1217 11:03:06 @DATSGANModel.py:213]\u001b[0m \u001b[91mCreating cell for car_ownership (in-edges: 0; ancestors: 0)\n",
      "\u001b[32m[1217 11:03:06 @DATSGANModel.py:213]\u001b[0m \u001b[91mCreating cell for female (in-edges: 0; ancestors: 0)\n",
      "\u001b[32m[1217 11:03:06 @DATSGANModel.py:213]\u001b[0m \u001b[91mCreating cell for age (in-edges: 0; ancestors: 0)\n",
      "\u001b[32m[1217 11:03:06 @DATSGANModel.py:213]\u001b[0m \u001b[91mCreating cell for travel_month (in-edges: 1; ancestors: 1)\n",
      "\u001b[32m[1217 11:03:07 @DATSGANModel.py:213]\u001b[0m \u001b[91mCreating cell for fueltype (in-edges: 1; ancestors: 1)\n",
      "\u001b[32m[1217 11:03:07 @DATSGANModel.py:213]\u001b[0m \u001b[91mCreating cell for driving_license (in-edges: 3; ancestors: 3)\n",
      "\u001b[32m[1217 11:03:07 @DATSGANModel.py:213]\u001b[0m \u001b[91mCreating cell for faretype (in-edges: 1; ancestors: 1)\n",
      "\u001b[32m[1217 11:03:07 @DATSGANModel.py:213]\u001b[0m \u001b[91mCreating cell for travel_date (in-edges: 1; ancestors: 2)\n",
      "\u001b[32m[1217 11:03:07 @DATSGANModel.py:213]\u001b[0m \u001b[91mCreating cell for bus_scale (in-edges: 2; ancestors: 2)\n",
      "\u001b[32m[1217 11:03:07 @DATSGANModel.py:213]\u001b[0m \u001b[91mCreating cell for day_of_week (in-edges: 2; ancestors: 3)\n",
      "\u001b[32m[1217 11:03:07 @DATSGANModel.py:213]\u001b[0m \u001b[91mCreating cell for purpose (in-edges: 1; ancestors: 4)\n",
      "\u001b[32m[1217 11:03:07 @DATSGANModel.py:213]\u001b[0m \u001b[91mCreating cell for start_time_linear (in-edges: 2; ancestors: 5)\n",
      "\u001b[32m[1217 11:03:07 @DATSGANModel.py:213]\u001b[0m \u001b[91mCreating cell for distance (in-edges: 1; ancestors: 5)\n",
      "\u001b[32m[1217 11:03:07 @DATSGANModel.py:213]\u001b[0m \u001b[91mCreating cell for driving_traffic_percent (in-edges: 3; ancestors: 6)\n",
      "\u001b[32m[1217 11:03:08 @DATSGANModel.py:213]\u001b[0m \u001b[91mCreating cell for cost_driving_fuel (in-edges: 2; ancestors: 8)\n",
      "\u001b[32m[1217 11:03:08 @DATSGANModel.py:213]\u001b[0m \u001b[91mCreating cell for dur_driving (in-edges: 1; ancestors: 6)\n",
      "\u001b[32m[1217 11:03:08 @DATSGANModel.py:213]\u001b[0m \u001b[91mCreating cell for dur_walking (in-edges: 1; ancestors: 6)\n",
      "\u001b[32m[1217 11:03:08 @DATSGANModel.py:213]\u001b[0m \u001b[91mCreating cell for dur_cycling (in-edges: 1; ancestors: 6)\n",
      "\u001b[32m[1217 11:03:08 @DATSGANModel.py:213]\u001b[0m \u001b[91mCreating cell for dur_pt_access (in-edges: 1; ancestors: 6)\n",
      "\u001b[32m[1217 11:03:08 @DATSGANModel.py:213]\u001b[0m \u001b[91mCreating cell for pt_n_interchanges (in-edges: 1; ancestors: 6)\n",
      "\u001b[32m[1217 11:03:08 @DATSGANModel.py:213]\u001b[0m \u001b[91mCreating cell for cost_driving_con_charge (in-edges: 5; ancestors: 11)\n",
      "\u001b[32m[1217 11:03:08 @DATSGANModel.py:213]\u001b[0m \u001b[91mCreating cell for dur_pt_rail (in-edges: 2; ancestors: 7)\n",
      "\u001b[32m[1217 11:03:08 @DATSGANModel.py:213]\u001b[0m \u001b[91mCreating cell for dur_pt_bus (in-edges: 2; ancestors: 7)\n",
      "\u001b[32m[1217 11:03:09 @DATSGANModel.py:213]\u001b[0m \u001b[91mCreating cell for dur_pt_int (in-edges: 2; ancestors: 7)\n",
      "\u001b[32m[1217 11:03:09 @DATSGANModel.py:213]\u001b[0m \u001b[91mCreating cell for cost_transit (in-edges: 5; ancestors: 12)\n",
      "\u001b[32m[1217 11:03:09 @DATSGANModel.py:213]\u001b[0m \u001b[91mCreating cell for travel_mode (in-edges: 21; ancestors: 26)\n",
      "\u001b[32m[1217 11:03:09 @sessinit.py:87]\u001b[0m \u001b[5m\u001b[31mWRN\u001b[0m The following variables are in the checkpoint, but not found in the graph: global_step, optimize/beta1_power, optimize/beta2_power\n",
      "INFO:tensorflow:Graph was finalized.\n",
      "INFO:tensorflow:Running local_init_op.\n",
      "INFO:tensorflow:Done running local_init_op.\n",
      "\u001b[32m[1217 11:03:12 @sessinit.py:114]\u001b[0m Restoring checkpoint from ../output/LPMC/WGGP_WO_04/model\\model-41999 ...\n",
      "INFO:tensorflow:Restoring parameters from ../output/LPMC/WGGP_WO_04/model\\model-41999\n",
      "\u001b[32m[1217 11:03:13 @DATSGAN.py:267]\u001b[0m Loading Preprocessor!\n"
     ]
    },
    {
     "name": "stderr",
     "output_type": "stream",
     "text": [
      "|                                                                                          |35/?[00:02<00:00,14.42it/s]\n"
     ]
    },
    {
     "name": "stdout",
     "output_type": "stream",
     "text": [
      "\u001b[32m[1217 11:03:16 @DATSGAN.py:267]\u001b[0m Loading Preprocessor!\n"
     ]
    },
    {
     "name": "stderr",
     "output_type": "stream",
     "text": [
      "|                                                                                          |35/?[00:01<00:00,21.71it/s]\n"
     ]
    },
    {
     "name": "stdout",
     "output_type": "stream",
     "text": [
      "\u001b[32m[1217 11:03:18 @DATSGAN.py:267]\u001b[0m Loading Preprocessor!\n"
     ]
    },
    {
     "name": "stderr",
     "output_type": "stream",
     "text": [
      "|                                                                                          |35/?[00:01<00:00,21.89it/s]\n"
     ]
    },
    {
     "name": "stdout",
     "output_type": "stream",
     "text": [
      "\u001b[32m[1217 11:03:20 @DATSGAN.py:267]\u001b[0m Loading Preprocessor!\n"
     ]
    },
    {
     "name": "stderr",
     "output_type": "stream",
     "text": [
      "|                                                                                          |35/?[00:01<00:00,22.98it/s]\n"
     ]
    },
    {
     "name": "stdout",
     "output_type": "stream",
     "text": [
      "\u001b[32m[1217 11:03:22 @DATSGAN.py:267]\u001b[0m Loading Preprocessor!\n"
     ]
    },
    {
     "name": "stderr",
     "output_type": "stream",
     "text": [
      "|                                                                                          |35/?[00:01<00:00,24.22it/s]\n"
     ]
    },
    {
     "name": "stdout",
     "output_type": "stream",
     "text": [
      "\u001b[32m[1217 11:03:24 @DATSGAN.py:267]\u001b[0m Loading Preprocessor!\n"
     ]
    },
    {
     "name": "stderr",
     "output_type": "stream",
     "text": [
      "|                                                                                          |35/?[00:01<00:00,23.88it/s]\n"
     ]
    },
    {
     "name": "stdout",
     "output_type": "stream",
     "text": [
      "\u001b[32m[1217 11:03:26 @DATSGAN.py:267]\u001b[0m Loading Preprocessor!\n"
     ]
    },
    {
     "name": "stderr",
     "output_type": "stream",
     "text": [
      "|                                                                                          |35/?[00:01<00:00,22.07it/s]\n"
     ]
    },
    {
     "name": "stdout",
     "output_type": "stream",
     "text": [
      "\u001b[32m[1217 11:03:28 @DATSGAN.py:267]\u001b[0m Loading Preprocessor!\n"
     ]
    },
    {
     "name": "stderr",
     "output_type": "stream",
     "text": [
      "|                                                                                          |35/?[00:01<00:00,23.56it/s]\n"
     ]
    },
    {
     "name": "stdout",
     "output_type": "stream",
     "text": [
      "\u001b[32m[1217 11:03:30 @DATSGAN.py:267]\u001b[0m Loading Preprocessor!\n"
     ]
    },
    {
     "name": "stderr",
     "output_type": "stream",
     "text": [
      "|                                                                                          |35/?[00:01<00:00,23.65it/s]\n"
     ]
    },
    {
     "name": "stdout",
     "output_type": "stream",
     "text": [
      "\u001b[32m[1217 11:03:32 @DATSGAN.py:267]\u001b[0m Loading Preprocessor!\n"
     ]
    },
    {
     "name": "stderr",
     "output_type": "stream",
     "text": [
      "|                                                                                          |35/?[00:01<00:00,22.20it/s]\n"
     ]
    },
    {
     "name": "stdout",
     "output_type": "stream",
     "text": [
      "\u001b[32m[1217 11:03:34 @DATSGAN.py:267]\u001b[0m Loading Preprocessor!\n"
     ]
    },
    {
     "name": "stderr",
     "output_type": "stream",
     "text": [
      "|                                                                                          |35/?[00:01<00:00,21.87it/s]\n"
     ]
    },
    {
     "name": "stdout",
     "output_type": "stream",
     "text": [
      "\u001b[32m[1217 11:03:36 @DATSGAN.py:267]\u001b[0m Loading Preprocessor!\n"
     ]
    },
    {
     "name": "stderr",
     "output_type": "stream",
     "text": [
      "|                                                                                          |35/?[00:01<00:00,23.24it/s]\n"
     ]
    },
    {
     "name": "stdout",
     "output_type": "stream",
     "text": [
      "\u001b[32m[1217 11:03:38 @DATSGAN.py:267]\u001b[0m Loading Preprocessor!\n"
     ]
    },
    {
     "name": "stderr",
     "output_type": "stream",
     "text": [
      "|                                                                                          |35/?[00:01<00:00,24.05it/s]\n"
     ]
    },
    {
     "name": "stdout",
     "output_type": "stream",
     "text": [
      "\u001b[32m[1217 11:03:40 @DATSGAN.py:267]\u001b[0m Loading Preprocessor!\n"
     ]
    },
    {
     "name": "stderr",
     "output_type": "stream",
     "text": [
      "|                                                                                          |35/?[00:01<00:00,24.41it/s]\n"
     ]
    },
    {
     "name": "stdout",
     "output_type": "stream",
     "text": [
      "\u001b[32m[1217 11:03:42 @DATSGAN.py:267]\u001b[0m Loading Preprocessor!\n"
     ]
    },
    {
     "name": "stderr",
     "output_type": "stream",
     "text": [
      "|                                                                                          |35/?[00:01<00:00,22.93it/s]\n"
     ]
    },
    {
     "name": "stdout",
     "output_type": "stream",
     "text": [
      "\u001b[32m[1217 11:03:44 @DATSGAN.py:267]\u001b[0m Loading Preprocessor!\n"
     ]
    },
    {
     "name": "stderr",
     "output_type": "stream",
     "text": [
      "|                                                                                          |35/?[00:01<00:00,22.15it/s]\n"
     ]
    },
    {
     "name": "stdout",
     "output_type": "stream",
     "text": [
      "\u001b[32m[1217 11:03:46 @DATSGAN.py:267]\u001b[0m Loading Preprocessor!\n"
     ]
    },
    {
     "name": "stderr",
     "output_type": "stream",
     "text": [
      "|                                                                                          |35/?[00:01<00:00,21.99it/s]\n"
     ]
    },
    {
     "name": "stdout",
     "output_type": "stream",
     "text": [
      "\u001b[32m[1217 11:03:49 @DATSGAN.py:267]\u001b[0m Loading Preprocessor!\n"
     ]
    },
    {
     "name": "stderr",
     "output_type": "stream",
     "text": [
      "|                                                                                          |35/?[00:01<00:00,22.67it/s]\n"
     ]
    },
    {
     "name": "stdout",
     "output_type": "stream",
     "text": [
      "\u001b[32m[1217 11:03:51 @DATSGAN.py:267]\u001b[0m Loading Preprocessor!\n"
     ]
    },
    {
     "name": "stderr",
     "output_type": "stream",
     "text": [
      "|                                                                                          |35/?[00:01<00:00,22.42it/s]\n"
     ]
    },
    {
     "name": "stdout",
     "output_type": "stream",
     "text": [
      "\u001b[32m[1217 11:03:53 @DATSGAN.py:267]\u001b[0m Loading Preprocessor!\n"
     ]
    },
    {
     "name": "stderr",
     "output_type": "stream",
     "text": [
      "|                                                                                          |35/?[00:01<00:00,22.54it/s]\n"
     ]
    },
    {
     "name": "stdout",
     "output_type": "stream",
     "text": [
      "Sampling synthetic data from model \u001b[1mWGGP_WO_05\u001b[0m (60/60)\n",
      "\u001b[32m[1217 11:04:10 @DATSGANModel.py:213]\u001b[0m \u001b[91mCreating cell for travel_year (in-edges: 0; ancestors: 0)\n",
      "\u001b[32m[1217 11:04:10 @DATSGANModel.py:213]\u001b[0m \u001b[91mCreating cell for car_ownership (in-edges: 0; ancestors: 0)\n",
      "\u001b[32m[1217 11:04:10 @DATSGANModel.py:213]\u001b[0m \u001b[91mCreating cell for female (in-edges: 0; ancestors: 0)\n",
      "\u001b[32m[1217 11:04:10 @DATSGANModel.py:213]\u001b[0m \u001b[91mCreating cell for age (in-edges: 0; ancestors: 0)\n",
      "\u001b[32m[1217 11:04:10 @DATSGANModel.py:213]\u001b[0m \u001b[91mCreating cell for travel_month (in-edges: 1; ancestors: 1)\n",
      "\u001b[32m[1217 11:04:10 @DATSGANModel.py:213]\u001b[0m \u001b[91mCreating cell for fueltype (in-edges: 1; ancestors: 1)\n",
      "\u001b[32m[1217 11:04:10 @DATSGANModel.py:213]\u001b[0m \u001b[91mCreating cell for driving_license (in-edges: 3; ancestors: 3)\n",
      "\u001b[32m[1217 11:04:10 @DATSGANModel.py:213]\u001b[0m \u001b[91mCreating cell for faretype (in-edges: 1; ancestors: 1)\n",
      "\u001b[32m[1217 11:04:10 @DATSGANModel.py:213]\u001b[0m \u001b[91mCreating cell for travel_date (in-edges: 1; ancestors: 2)\n",
      "\u001b[32m[1217 11:04:10 @DATSGANModel.py:213]\u001b[0m \u001b[91mCreating cell for bus_scale (in-edges: 2; ancestors: 2)\n",
      "\u001b[32m[1217 11:04:10 @DATSGANModel.py:213]\u001b[0m \u001b[91mCreating cell for day_of_week (in-edges: 2; ancestors: 3)\n",
      "\u001b[32m[1217 11:04:11 @DATSGANModel.py:213]\u001b[0m \u001b[91mCreating cell for purpose (in-edges: 1; ancestors: 4)\n",
      "\u001b[32m[1217 11:04:11 @DATSGANModel.py:213]\u001b[0m \u001b[91mCreating cell for start_time_linear (in-edges: 2; ancestors: 5)\n",
      "\u001b[32m[1217 11:04:11 @DATSGANModel.py:213]\u001b[0m \u001b[91mCreating cell for distance (in-edges: 1; ancestors: 5)\n",
      "\u001b[32m[1217 11:04:11 @DATSGANModel.py:213]\u001b[0m \u001b[91mCreating cell for driving_traffic_percent (in-edges: 3; ancestors: 6)\n",
      "\u001b[32m[1217 11:04:11 @DATSGANModel.py:213]\u001b[0m \u001b[91mCreating cell for cost_driving_fuel (in-edges: 2; ancestors: 8)\n",
      "\u001b[32m[1217 11:04:11 @DATSGANModel.py:213]\u001b[0m \u001b[91mCreating cell for dur_driving (in-edges: 1; ancestors: 6)\n",
      "\u001b[32m[1217 11:04:11 @DATSGANModel.py:213]\u001b[0m \u001b[91mCreating cell for dur_walking (in-edges: 1; ancestors: 6)\n",
      "\u001b[32m[1217 11:04:11 @DATSGANModel.py:213]\u001b[0m \u001b[91mCreating cell for dur_cycling (in-edges: 1; ancestors: 6)\n",
      "\u001b[32m[1217 11:04:11 @DATSGANModel.py:213]\u001b[0m \u001b[91mCreating cell for dur_pt_access (in-edges: 1; ancestors: 6)\n",
      "\u001b[32m[1217 11:04:12 @DATSGANModel.py:213]\u001b[0m \u001b[91mCreating cell for pt_n_interchanges (in-edges: 1; ancestors: 6)\n",
      "\u001b[32m[1217 11:04:12 @DATSGANModel.py:213]\u001b[0m \u001b[91mCreating cell for cost_driving_con_charge (in-edges: 5; ancestors: 11)\n",
      "\u001b[32m[1217 11:04:12 @DATSGANModel.py:213]\u001b[0m \u001b[91mCreating cell for dur_pt_rail (in-edges: 2; ancestors: 7)\n",
      "\u001b[32m[1217 11:04:12 @DATSGANModel.py:213]\u001b[0m \u001b[91mCreating cell for dur_pt_bus (in-edges: 2; ancestors: 7)\n",
      "\u001b[32m[1217 11:04:12 @DATSGANModel.py:213]\u001b[0m \u001b[91mCreating cell for dur_pt_int (in-edges: 2; ancestors: 7)\n",
      "\u001b[32m[1217 11:04:12 @DATSGANModel.py:213]\u001b[0m \u001b[91mCreating cell for cost_transit (in-edges: 5; ancestors: 12)\n",
      "\u001b[32m[1217 11:04:12 @DATSGANModel.py:213]\u001b[0m \u001b[91mCreating cell for travel_mode (in-edges: 21; ancestors: 26)\n",
      "\u001b[32m[1217 11:04:13 @sessinit.py:87]\u001b[0m \u001b[5m\u001b[31mWRN\u001b[0m The following variables are in the checkpoint, but not found in the graph: global_step, optimize/beta1_power, optimize/beta2_power\n",
      "INFO:tensorflow:Graph was finalized.\n",
      "INFO:tensorflow:Running local_init_op.\n",
      "INFO:tensorflow:Done running local_init_op.\n",
      "\u001b[32m[1217 11:04:16 @sessinit.py:114]\u001b[0m Restoring checkpoint from ../output/LPMC/WGGP_WO_05/model\\model-41999 ...\n",
      "INFO:tensorflow:Restoring parameters from ../output/LPMC/WGGP_WO_05/model\\model-41999\n",
      "\u001b[32m[1217 11:04:16 @DATSGAN.py:267]\u001b[0m Loading Preprocessor!\n"
     ]
    },
    {
     "name": "stderr",
     "output_type": "stream",
     "text": [
      "|                                                                                          |35/?[00:02<00:00,14.82it/s]\n"
     ]
    },
    {
     "name": "stdout",
     "output_type": "stream",
     "text": [
      "\u001b[32m[1217 11:04:19 @DATSGAN.py:267]\u001b[0m Loading Preprocessor!\n"
     ]
    },
    {
     "name": "stderr",
     "output_type": "stream",
     "text": [
      "|                                                                                          |35/?[00:01<00:00,23.93it/s]\n"
     ]
    },
    {
     "name": "stdout",
     "output_type": "stream",
     "text": [
      "\u001b[32m[1217 11:04:21 @DATSGAN.py:267]\u001b[0m Loading Preprocessor!\n"
     ]
    },
    {
     "name": "stderr",
     "output_type": "stream",
     "text": [
      "|                                                                                          |35/?[00:01<00:00,24.00it/s]\n"
     ]
    },
    {
     "name": "stdout",
     "output_type": "stream",
     "text": [
      "\u001b[32m[1217 11:04:23 @DATSGAN.py:267]\u001b[0m Loading Preprocessor!\n"
     ]
    },
    {
     "name": "stderr",
     "output_type": "stream",
     "text": [
      "|                                                                                          |35/?[00:01<00:00,22.79it/s]\n"
     ]
    },
    {
     "name": "stdout",
     "output_type": "stream",
     "text": [
      "\u001b[32m[1217 11:04:25 @DATSGAN.py:267]\u001b[0m Loading Preprocessor!\n"
     ]
    },
    {
     "name": "stderr",
     "output_type": "stream",
     "text": [
      "|                                                                                          |35/?[00:01<00:00,22.57it/s]\n"
     ]
    },
    {
     "name": "stdout",
     "output_type": "stream",
     "text": [
      "\u001b[32m[1217 11:04:27 @DATSGAN.py:267]\u001b[0m Loading Preprocessor!\n"
     ]
    },
    {
     "name": "stderr",
     "output_type": "stream",
     "text": [
      "|                                                                                          |35/?[00:01<00:00,22.99it/s]\n"
     ]
    },
    {
     "name": "stdout",
     "output_type": "stream",
     "text": [
      "\u001b[32m[1217 11:04:29 @DATSGAN.py:267]\u001b[0m Loading Preprocessor!\n"
     ]
    },
    {
     "name": "stderr",
     "output_type": "stream",
     "text": [
      "|                                                                                          |35/?[00:01<00:00,23.47it/s]\n"
     ]
    },
    {
     "name": "stdout",
     "output_type": "stream",
     "text": [
      "\u001b[32m[1217 11:04:31 @DATSGAN.py:267]\u001b[0m Loading Preprocessor!\n"
     ]
    },
    {
     "name": "stderr",
     "output_type": "stream",
     "text": [
      "|                                                                                          |35/?[00:01<00:00,21.69it/s]\n"
     ]
    },
    {
     "name": "stdout",
     "output_type": "stream",
     "text": [
      "\u001b[32m[1217 11:04:34 @DATSGAN.py:267]\u001b[0m Loading Preprocessor!\n"
     ]
    },
    {
     "name": "stderr",
     "output_type": "stream",
     "text": [
      "|                                                                                          |35/?[00:01<00:00,23.98it/s]\n"
     ]
    },
    {
     "name": "stdout",
     "output_type": "stream",
     "text": [
      "\u001b[32m[1217 11:04:36 @DATSGAN.py:267]\u001b[0m Loading Preprocessor!\n"
     ]
    },
    {
     "name": "stderr",
     "output_type": "stream",
     "text": [
      "|                                                                                          |35/?[00:01<00:00,23.80it/s]\n"
     ]
    },
    {
     "name": "stdout",
     "output_type": "stream",
     "text": [
      "\u001b[32m[1217 11:04:37 @DATSGAN.py:267]\u001b[0m Loading Preprocessor!\n"
     ]
    },
    {
     "name": "stderr",
     "output_type": "stream",
     "text": [
      "|                                                                                          |35/?[00:01<00:00,23.75it/s]\n"
     ]
    },
    {
     "name": "stdout",
     "output_type": "stream",
     "text": [
      "\u001b[32m[1217 11:04:39 @DATSGAN.py:267]\u001b[0m Loading Preprocessor!\n"
     ]
    },
    {
     "name": "stderr",
     "output_type": "stream",
     "text": [
      "|                                                                                          |35/?[00:01<00:00,23.14it/s]\n"
     ]
    },
    {
     "name": "stdout",
     "output_type": "stream",
     "text": [
      "\u001b[32m[1217 11:04:41 @DATSGAN.py:267]\u001b[0m Loading Preprocessor!\n"
     ]
    },
    {
     "name": "stderr",
     "output_type": "stream",
     "text": [
      "|                                                                                          |35/?[00:01<00:00,23.20it/s]\n"
     ]
    },
    {
     "name": "stdout",
     "output_type": "stream",
     "text": [
      "\u001b[32m[1217 11:04:44 @DATSGAN.py:267]\u001b[0m Loading Preprocessor!\n"
     ]
    },
    {
     "name": "stderr",
     "output_type": "stream",
     "text": [
      "|                                                                                          |35/?[00:01<00:00,23.78it/s]\n"
     ]
    },
    {
     "name": "stdout",
     "output_type": "stream",
     "text": [
      "\u001b[32m[1217 11:04:45 @DATSGAN.py:267]\u001b[0m Loading Preprocessor!\n"
     ]
    },
    {
     "name": "stderr",
     "output_type": "stream",
     "text": [
      "|                                                                                          |35/?[00:01<00:00,24.07it/s]\n"
     ]
    },
    {
     "name": "stdout",
     "output_type": "stream",
     "text": [
      "\u001b[32m[1217 11:04:47 @DATSGAN.py:267]\u001b[0m Loading Preprocessor!\n"
     ]
    },
    {
     "name": "stderr",
     "output_type": "stream",
     "text": [
      "|                                                                                          |35/?[00:01<00:00,23.21it/s]\n"
     ]
    },
    {
     "name": "stdout",
     "output_type": "stream",
     "text": [
      "\u001b[32m[1217 11:04:49 @DATSGAN.py:267]\u001b[0m Loading Preprocessor!\n"
     ]
    },
    {
     "name": "stderr",
     "output_type": "stream",
     "text": [
      "|                                                                                          |35/?[00:01<00:00,22.02it/s]\n"
     ]
    },
    {
     "name": "stdout",
     "output_type": "stream",
     "text": [
      "\u001b[32m[1217 11:04:52 @DATSGAN.py:267]\u001b[0m Loading Preprocessor!\n"
     ]
    },
    {
     "name": "stderr",
     "output_type": "stream",
     "text": [
      "|                                                                                          |35/?[00:01<00:00,25.36it/s]\n"
     ]
    },
    {
     "name": "stdout",
     "output_type": "stream",
     "text": [
      "\u001b[32m[1217 11:04:53 @DATSGAN.py:267]\u001b[0m Loading Preprocessor!\n"
     ]
    },
    {
     "name": "stderr",
     "output_type": "stream",
     "text": [
      "|                                                                                          |35/?[00:01<00:00,24.79it/s]\n"
     ]
    },
    {
     "name": "stdout",
     "output_type": "stream",
     "text": [
      "\u001b[32m[1217 11:04:55 @DATSGAN.py:267]\u001b[0m Loading Preprocessor!\n"
     ]
    },
    {
     "name": "stderr",
     "output_type": "stream",
     "text": [
      "|                                                                                          |35/?[00:01<00:00,23.36it/s]\n"
     ]
    },
    {
     "name": "stdout",
     "output_type": "stream",
     "text": [
      "\u001b[1mFINISHED!\u001b[0m\n"
     ]
    }
   ],
   "source": [
    "for i, m in enumerate(models):\n",
    "    \n",
    "    name = m.split('_')[0]\n",
    "    \n",
    "    print(\"Sampling synthetic data from model \\033[1m{}\\033[0m ({}/{})\".format(m, i+1, len(models)))\n",
    "\n",
    "    \n",
    "    model = None\n",
    "\n",
    "    if 'CTGAN' in name:\n",
    "        import ctgan\n",
    "        from ctgan import CTGANSynthesizer\n",
    "        \n",
    "        ctgan = CTGANSynthesizer()\n",
    "        model = ctgan.load(input_folder + m + '/trained.pickle')\n",
    "\n",
    "    elif 'TGAN' in name:\n",
    "        from tgan.model import TGANModel\n",
    "        model = TGANModel.load(input_folder + m + '/trained.pickle')\n",
    "        \n",
    "\n",
    "    elif 'TVAE' in name:\n",
    "        from ctgan import TVAESynthesizer\n",
    "        \n",
    "        tvae = TVAESynthesizer()\n",
    "        model = tvae.load(input_folder + m + '/trained.pickle')\n",
    "    else:\n",
    "\n",
    "        LIB = None\n",
    "\n",
    "        if 'WGAN' in name:\n",
    "            from modules.datgan import DATWGAN as LIB\n",
    "        if any(x in name for x in ('WGANGP','WGGP')) :\n",
    "            from modules.datgan import DATWGANGP as LIB\n",
    "        elif 'SGAN' in name:\n",
    "            from modules.datgan import DATSGAN as LIB\n",
    "        else:\n",
    "            from modules.datgan import DATWGAN as LIB\n",
    "\n",
    "        model = LIB.load(input_folder + m + '/', 'trained')\n",
    "    \n",
    "    for k in range(n_data):\n",
    "            \n",
    "        if is_a_DATGAN(name):   \n",
    "            for samp_type in ['NO', 'BO', 'OD', 'OC']:\n",
    "                samples = model.sample(len(df), samp_type)\n",
    "                \n",
    "                samples = round_some_vars(samples, dataset)\n",
    "                \n",
    "                if n_data == 1:\n",
    "                    samples.to_csv(output_folder + m + '_{}.csv'.format(samp_type), index=False)\n",
    "                else:\n",
    "                    samples.to_csv(output_folder + m + '_{}_{:0>2d}.csv'.format(samp_type, k+1), index=False)\n",
    "        else:\n",
    "            samples = model.sample(len(df))\n",
    "\n",
    "            samples = round_some_vars(samples, dataset)\n",
    "\n",
    "            if n_data == 1:\n",
    "                samples.to_csv(output_folder + m + '.csv', index=False)\n",
    "            else:\n",
    "                samples.to_csv(output_folder + m + '_{:0>2d}.csv'.format(k+1), index=False)\n",
    "                \n",
    "print(\"\\033[1mFINISHED!\\033[0m\")"
   ]
  },
  {
   "cell_type": "code",
   "execution_count": null,
   "metadata": {},
   "outputs": [],
   "source": []
  }
 ],
 "metadata": {
  "kernelspec": {
   "display_name": "Python 3",
   "language": "python",
   "name": "python3"
  },
  "language_info": {
   "codemirror_mode": {
    "name": "ipython",
    "version": 3
   },
   "file_extension": ".py",
   "mimetype": "text/x-python",
   "name": "python",
   "nbconvert_exporter": "python",
   "pygments_lexer": "ipython3",
   "version": "3.7.9"
  }
 },
 "nbformat": 4,
 "nbformat_minor": 4
}
