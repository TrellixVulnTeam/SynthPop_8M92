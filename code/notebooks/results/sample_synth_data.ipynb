{
 "cells": [
  {
   "cell_type": "code",
   "execution_count": 1,
   "metadata": {},
   "outputs": [],
   "source": [
    "import os\n",
    "os.chdir('../..')"
   ]
  },
  {
   "cell_type": "code",
   "execution_count": 2,
   "metadata": {},
   "outputs": [],
   "source": [
    "from platform import python_version\n",
    "print(python_version())"
   ]
  },
  {
   "cell_type": "code",
   "execution_count": 3,
   "metadata": {},
   "outputs": [],
   "source": [
    "import numpy as np\n",
    "import pandas as pd\n",
    "import json\n",
    "import sys\n",
    "\n",
    "import matplotlib.pyplot as plt\n",
    "\n",
    "# For the Python notebook\n",
    "%matplotlib inline\n",
    "%reload_ext autoreload\n",
    "%autoreload 2"
   ]
  },
  {
   "cell_type": "code",
   "execution_count": 4,
   "metadata": {},
   "outputs": [],
   "source": [
    "dataset = 'Chicago'\n",
    "n_models = 5\n",
    "n_data = 5\n",
    "\n",
    "models = ['TGAN', 'CTGAN']\n",
    "\n",
    "for i in ['WGAN', 'SGAN', 'WGGP']:\n",
    "    for j in ['WI', 'OR', 'WO']:\n",
    "        models.append('{}_{}'.format(i,j))\n",
    "\n",
    "tmp = []\n",
    "        \n",
    "for i in range(n_models):\n",
    "    for m in models:\n",
    "        tmp.append(m + '_{:0>2d}'.format(i+1))\n",
    "        \n",
    "tmp.sort()\n",
    "models = tmp"
   ]
  },
  {
   "cell_type": "code",
   "execution_count": 5,
   "metadata": {},
   "outputs": [],
   "source": [
    "df = pd.read_csv('../data/' + dataset + '/data.csv')"
   ]
  },
  {
   "cell_type": "code",
   "execution_count": 6,
   "metadata": {},
   "outputs": [],
   "source": [
    "input_folder = '../output/' + dataset + '/'\n",
    "output_folder = '../synth_data/' + dataset + '/'"
   ]
  },
  {
   "cell_type": "code",
   "execution_count": 7,
   "metadata": {},
   "outputs": [],
   "source": [
    "def is_a_DATGAN(name):\n",
    "    if 'TGAN' in name or 'CTGAN' in name:\n",
    "        return False\n",
    "    else:\n",
    "        return True\n",
    "    \n",
    "def round_some_vars(samples, dataset):\n",
    "    if dataset is 'Chicago':\n",
    "        samples.age = np.round(samples.age)\n",
    "    elif dataset is 'LPMC':\n",
    "        samples.age = np.round(samples.age)\n",
    "        samples.distance = np.round(samples.distance)\n",
    "        \n",
    "    return samples"
   ]
  },
  {
   "cell_type": "code",
   "execution_count": 8,
   "metadata": {
    "scrolled": true
   },
   "outputs": [
    {
     "name": "stdout",
     "output_type": "stream",
     "text": [
      "Sampling synthetic data from model \u001b[1mCTGAN_01\u001b[0m (1/55)\n",
      "Sampling synthetic data from model \u001b[1mCTGAN_02\u001b[0m (2/55)\n",
      "Sampling synthetic data from model \u001b[1mCTGAN_03\u001b[0m (3/55)\n",
      "Sampling synthetic data from model \u001b[1mCTGAN_04\u001b[0m (4/55)\n",
      "Sampling synthetic data from model \u001b[1mCTGAN_05\u001b[0m (5/55)\n",
      "Sampling synthetic data from model \u001b[1mSGAN_OR_01\u001b[0m (6/55)\n",
      "WARNING:tensorflow:From D:\\Users\\glede\\anaconda3\\envs\\py37\\lib\\site-packages\\tensorpack\\callbacks\\hooks.py:17: The name tf.train.SessionRunHook is deprecated. Please use tf.estimator.SessionRunHook instead.\n",
      "\n",
      "WARNING:tensorflow:From D:\\Users\\glede\\anaconda3\\envs\\py37\\lib\\site-packages\\tensorpack\\tfutils\\optimizer.py:18: The name tf.train.Optimizer is deprecated. Please use tf.compat.v1.train.Optimizer instead.\n",
      "\n",
      "WARNING:tensorflow:From D:\\Users\\glede\\anaconda3\\envs\\py37\\lib\\site-packages\\tensorpack\\tfutils\\sesscreate.py:20: The name tf.train.SessionCreator is deprecated. Please use tf.compat.v1.train.SessionCreator instead.\n",
      "\n",
      "WARNING:tensorflow:From D:\\Users\\glede\\anaconda3\\envs\\py37\\lib\\site-packages\\tensorpack\\tfutils\\varmanip.py:178: The name tf.gfile.Exists is deprecated. Please use tf.io.gfile.exists instead.\n",
      "\n",
      "WARNING:tensorflow:From D:\\Users\\glede\\anaconda3\\envs\\py37\\lib\\site-packages\\tensorpack\\predict\\config.py:101: The name tf.train.ChiefSessionCreator is deprecated. Please use tf.compat.v1.train.ChiefSessionCreator instead.\n",
      "\n",
      "WARNING:tensorflow:From D:\\Users\\glede\\anaconda3\\envs\\py37\\lib\\site-packages\\tensorpack\\tfutils\\common.py:41: The name tf.ConfigProto is deprecated. Please use tf.compat.v1.ConfigProto instead.\n",
      "\n",
      "WARNING:tensorflow:From D:\\Users\\glede\\anaconda3\\envs\\py37\\lib\\site-packages\\tensorpack\\graph_builder\\model_desc.py:29: The name tf.get_default_graph is deprecated. Please use tf.compat.v1.get_default_graph instead.\n",
      "\n",
      "WARNING:tensorflow:From D:\\Users\\glede\\anaconda3\\envs\\py37\\lib\\site-packages\\tensorpack\\graph_builder\\model_desc.py:39: The name tf.placeholder is deprecated. Please use tf.compat.v1.placeholder instead.\n",
      "\n",
      "WARNING:tensorflow:From D:\\Users\\glede\\anaconda3\\envs\\py37\\lib\\site-packages\\tensorpack\\tfutils\\tower.py:204: The name tf.get_variable_scope is deprecated. Please use tf.compat.v1.get_variable_scope instead.\n",
      "\n",
      "WARNING:tensorflow:From D:\\Users\\glede\\anaconda3\\envs\\py37\\lib\\site-packages\\tensorpack\\tfutils\\tower.py:216: The name tf.GraphKeys is deprecated. Please use tf.compat.v1.GraphKeys instead.\n",
      "\n",
      "WARNING:tensorflow:From D:\\Users\\glede\\anaconda3\\envs\\py37\\lib\\site-packages\\tensorpack\\tfutils\\tower.py:101: The name tf.variable_scope is deprecated. Please use tf.compat.v1.variable_scope instead.\n",
      "\n",
      "WARNING:tensorflow:From D:\\Users\\glede\\anaconda3\\envs\\py37\\lib\\site-packages\\tensorpack\\tfutils\\collection.py:33: The name tf.get_collection is deprecated. Please use tf.compat.v1.get_collection instead.\n",
      "\n",
      "WARNING:tensorflow:From C:\\Users\\glede\\Documents\\EPFL\\PhD\\SynthPop\\code\\modules\\datgan\\models\\DATSGANModel.py:482: The name tf.random_normal is deprecated. Please use tf.random.normal instead.\n",
      "\n",
      "WARNING:tensorflow:From C:\\Users\\glede\\Documents\\EPFL\\PhD\\SynthPop\\code\\modules\\datgan\\models\\DATSGANModel.py:483: The name tf.placeholder_with_default is deprecated. Please use tf.compat.v1.placeholder_with_default instead.\n",
      "\n",
      "WARNING:tensorflow:From C:\\Users\\glede\\Documents\\EPFL\\PhD\\SynthPop\\code\\modules\\datgan\\models\\DATSGANModel.py:199: LSTMCell.__init__ (from tensorflow.python.ops.rnn_cell_impl) is deprecated and will be removed in a future version.\n",
      "Instructions for updating:\n",
      "This class is equivalent as tf.keras.layers.LSTMCell, and will be replaced by that in Tensorflow 2.0.\n",
      "\u001b[32m[1123 12:55:57 @DATSGANModel.py:205]\u001b[0m \u001b[91mCreating cell for age (in-edges: 0; ancestors: 0)\n",
      "WARNING:tensorflow:From C:\\Users\\glede\\Documents\\EPFL\\PhD\\SynthPop\\code\\modules\\datgan\\models\\DATSGANModel.py:215: The name tf.get_variable is deprecated. Please use tf.compat.v1.get_variable instead.\n",
      "\n",
      "WARNING:tensorflow:From D:\\Users\\glede\\anaconda3\\envs\\py37\\lib\\site-packages\\tensorflow_core\\python\\ops\\rnn_cell_impl.py:958: Layer.add_variable (from tensorflow.python.keras.engine.base_layer) is deprecated and will be removed in a future version.\n",
      "Instructions for updating:\n",
      "Please use `layer.add_weight` method instead.\n",
      "WARNING:tensorflow:From D:\\Users\\glede\\anaconda3\\envs\\py37\\lib\\site-packages\\tensorflow_core\\python\\ops\\rnn_cell_impl.py:962: calling Zeros.__init__ (from tensorflow.python.ops.init_ops) with dtype is deprecated and will be removed in a future version.\n",
      "Instructions for updating:\n",
      "Call initializer instance with the dtype argument instead of passing it to the constructor\n",
      "\u001b[32m[1123 12:55:57 @registry.py:126]\u001b[0m gen/LSTM/age/FC input: [500, 100]\n",
      "WARNING:tensorflow:From D:\\Users\\glede\\anaconda3\\envs\\py37\\lib\\site-packages\\tensorpack\\models\\fc.py:57: The name tf.layers.Dense is deprecated. Please use tf.compat.v1.layers.Dense instead.\n",
      "\n",
      "WARNING:tensorflow:From D:\\Users\\glede\\anaconda3\\envs\\py37\\lib\\site-packages\\tensorpack\\models\\fc.py:67: Layer.apply (from tensorflow.python.keras.engine.base_layer) is deprecated and will be removed in a future version.\n",
      "Instructions for updating:\n",
      "Please use `layer.__call__` method instead.\n",
      "\u001b[32m[1123 12:55:57 @registry.py:134]\u001b[0m gen/LSTM/age/FC output: [500, 50]\n",
      "\u001b[32m[1123 12:55:57 @registry.py:126]\u001b[0m gen/LSTM/age/FC_val input: [500, 50]\n",
      "\u001b[32m[1123 12:55:57 @registry.py:134]\u001b[0m gen/LSTM/age/FC_val output: [500, 5]\n",
      "\u001b[32m[1123 12:55:57 @registry.py:126]\u001b[0m gen/LSTM/age/FC_prob input: [500, 50]\n",
      "\u001b[32m[1123 12:55:57 @registry.py:134]\u001b[0m gen/LSTM/age/FC_prob output: [500, 5]\n",
      "\u001b[32m[1123 12:55:57 @registry.py:126]\u001b[0m gen/LSTM/age/FC_input input: [500, 10]\n",
      "\u001b[32m[1123 12:55:57 @registry.py:134]\u001b[0m gen/LSTM/age/FC_input output: [500, 100]\n",
      "\u001b[32m[1123 12:55:57 @DATSGANModel.py:205]\u001b[0m \u001b[91mCreating cell for gender (in-edges: 0; ancestors: 0)\n",
      "\u001b[32m[1123 12:55:57 @registry.py:126]\u001b[0m gen/LSTM/gender/FC input: [500, 100]\n",
      "\u001b[32m[1123 12:55:57 @registry.py:134]\u001b[0m gen/LSTM/gender/FC output: [500, 50]\n",
      "\u001b[32m[1123 12:55:57 @registry.py:126]\u001b[0m gen/LSTM/gender/FC_prob input: [500, 50]\n",
      "\u001b[32m[1123 12:55:57 @registry.py:134]\u001b[0m gen/LSTM/gender/FC_prob output: [500, 2]\n",
      "\u001b[32m[1123 12:55:57 @registry.py:126]\u001b[0m gen/LSTM/gender/FC_input input: [500, 2]\n",
      "\u001b[32m[1123 12:55:57 @registry.py:134]\u001b[0m gen/LSTM/gender/FC_input output: [500, 100]\n",
      "\u001b[32m[1123 12:55:57 @DATSGANModel.py:205]\u001b[0m \u001b[91mCreating cell for travel_dow (in-edges: 0; ancestors: 0)\n",
      "\u001b[32m[1123 12:55:57 @registry.py:126]\u001b[0m gen/LSTM/travel_dow/FC input: [500, 100]\n",
      "\u001b[32m[1123 12:55:57 @registry.py:134]\u001b[0m gen/LSTM/travel_dow/FC output: [500, 50]\n",
      "\u001b[32m[1123 12:55:57 @registry.py:126]\u001b[0m gen/LSTM/travel_dow/FC_prob input: [500, 50]\n",
      "\u001b[32m[1123 12:55:57 @registry.py:134]\u001b[0m gen/LSTM/travel_dow/FC_prob output: [500, 7]\n",
      "\u001b[32m[1123 12:55:57 @registry.py:126]\u001b[0m gen/LSTM/travel_dow/FC_input input: [500, 7]\n",
      "\u001b[32m[1123 12:55:57 @registry.py:134]\u001b[0m gen/LSTM/travel_dow/FC_input output: [500, 100]\n",
      "\u001b[32m[1123 12:55:57 @DATSGANModel.py:205]\u001b[0m \u001b[91mCreating cell for license (in-edges: 1; ancestors: 1)\n",
      "WARNING:tensorflow:From C:\\Users\\glede\\Documents\\EPFL\\PhD\\SynthPop\\code\\modules\\datgan\\models\\DATSGANModel.py:223: The name tf.nn.rnn_cell.LSTMStateTuple is deprecated. Please use tf.compat.v1.nn.rnn_cell.LSTMStateTuple instead.\n",
      "\n",
      "\u001b[32m[1123 12:55:57 @registry.py:126]\u001b[0m gen/LSTM/license/FC input: [500, 100]\n",
      "\u001b[32m[1123 12:55:57 @registry.py:134]\u001b[0m gen/LSTM/license/FC output: [500, 50]\n",
      "\u001b[32m[1123 12:55:57 @registry.py:126]\u001b[0m gen/LSTM/license/FC_prob input: [500, 50]\n",
      "\u001b[32m[1123 12:55:57 @registry.py:134]\u001b[0m gen/LSTM/license/FC_prob output: [500, 2]\n",
      "\u001b[32m[1123 12:55:57 @registry.py:126]\u001b[0m gen/LSTM/license/FC_input input: [500, 2]\n",
      "\u001b[32m[1123 12:55:57 @registry.py:134]\u001b[0m gen/LSTM/license/FC_input output: [500, 100]\n",
      "\u001b[32m[1123 12:55:57 @DATSGANModel.py:205]\u001b[0m \u001b[91mCreating cell for education_level (in-edges: 1; ancestors: 1)\n",
      "\u001b[32m[1123 12:55:57 @registry.py:126]\u001b[0m gen/LSTM/education_level/FC input: [500, 100]\n",
      "\u001b[32m[1123 12:55:57 @registry.py:134]\u001b[0m gen/LSTM/education_level/FC output: [500, 50]\n",
      "\u001b[32m[1123 12:55:57 @registry.py:126]\u001b[0m gen/LSTM/education_level/FC_prob input: [500, 50]\n",
      "\u001b[32m[1123 12:55:57 @registry.py:134]\u001b[0m gen/LSTM/education_level/FC_prob output: [500, 6]\n"
     ]
    },
    {
     "name": "stdout",
     "output_type": "stream",
     "text": [
      "\u001b[32m[1123 12:55:57 @registry.py:126]\u001b[0m gen/LSTM/education_level/FC_input input: [500, 6]\n",
      "\u001b[32m[1123 12:55:57 @registry.py:134]\u001b[0m gen/LSTM/education_level/FC_input output: [500, 100]\n",
      "\u001b[32m[1123 12:55:57 @DATSGANModel.py:205]\u001b[0m \u001b[91mCreating cell for work_status (in-edges: 2; ancestors: 3)\n",
      "\u001b[32m[1123 12:55:57 @registry.py:126]\u001b[0m gen/LSTM/concat-work_status/FC_inputs input: [500, 200]\n",
      "\u001b[32m[1123 12:55:57 @registry.py:134]\u001b[0m gen/LSTM/concat-work_status/FC_inputs output: [500, 100]\n",
      "\u001b[32m[1123 12:55:57 @registry.py:126]\u001b[0m gen/LSTM/concat-work_status/FC_states input: [500, 200]\n",
      "\u001b[32m[1123 12:55:57 @registry.py:134]\u001b[0m gen/LSTM/concat-work_status/FC_states output: [500, 100]\n",
      "\u001b[32m[1123 12:55:57 @registry.py:126]\u001b[0m gen/LSTM/concat-work_status/FC_h_outputs input: [500, 200]\n",
      "\u001b[32m[1123 12:55:57 @registry.py:134]\u001b[0m gen/LSTM/concat-work_status/FC_h_outputs output: [500, 100]\n",
      "\u001b[32m[1123 12:55:57 @registry.py:126]\u001b[0m gen/LSTM/work_status/FC input: [500, 100]\n",
      "\u001b[32m[1123 12:55:57 @registry.py:134]\u001b[0m gen/LSTM/work_status/FC output: [500, 50]\n",
      "\u001b[32m[1123 12:55:57 @registry.py:126]\u001b[0m gen/LSTM/work_status/FC_prob input: [500, 50]\n",
      "\u001b[32m[1123 12:55:57 @registry.py:134]\u001b[0m gen/LSTM/work_status/FC_prob output: [500, 8]\n",
      "\u001b[32m[1123 12:55:57 @registry.py:126]\u001b[0m gen/LSTM/work_status/FC_input input: [500, 8]\n",
      "\u001b[32m[1123 12:55:57 @registry.py:134]\u001b[0m gen/LSTM/work_status/FC_input output: [500, 100]\n",
      "\u001b[32m[1123 12:55:57 @DATSGANModel.py:205]\u001b[0m \u001b[91mCreating cell for hh_income (in-edges: 2; ancestors: 4)\n",
      "\u001b[32m[1123 12:55:57 @registry.py:126]\u001b[0m gen/LSTM/concat-hh_income/FC_inputs input: [500, 200]\n",
      "\u001b[32m[1123 12:55:57 @registry.py:134]\u001b[0m gen/LSTM/concat-hh_income/FC_inputs output: [500, 100]\n",
      "\u001b[32m[1123 12:55:57 @registry.py:126]\u001b[0m gen/LSTM/concat-hh_income/FC_states input: [500, 200]\n",
      "\u001b[32m[1123 12:55:57 @registry.py:134]\u001b[0m gen/LSTM/concat-hh_income/FC_states output: [500, 100]\n",
      "\u001b[32m[1123 12:55:57 @registry.py:126]\u001b[0m gen/LSTM/concat-hh_income/FC_h_outputs input: [500, 200]\n",
      "\u001b[32m[1123 12:55:57 @registry.py:134]\u001b[0m gen/LSTM/concat-hh_income/FC_h_outputs output: [500, 100]\n",
      "\u001b[32m[1123 12:55:57 @registry.py:126]\u001b[0m gen/LSTM/hh_income/FC input: [500, 100]\n",
      "\u001b[32m[1123 12:55:57 @registry.py:134]\u001b[0m gen/LSTM/hh_income/FC output: [500, 50]\n",
      "\u001b[32m[1123 12:55:57 @registry.py:126]\u001b[0m gen/LSTM/hh_income/FC_prob input: [500, 50]\n",
      "\u001b[32m[1123 12:55:57 @registry.py:134]\u001b[0m gen/LSTM/hh_income/FC_prob output: [500, 7]\n",
      "\u001b[32m[1123 12:55:57 @registry.py:126]\u001b[0m gen/LSTM/hh_income/FC_input input: [500, 7]\n",
      "\u001b[32m[1123 12:55:57 @registry.py:134]\u001b[0m gen/LSTM/hh_income/FC_input output: [500, 100]\n",
      "\u001b[32m[1123 12:55:57 @DATSGANModel.py:205]\u001b[0m \u001b[91mCreating cell for trip_purpose (in-edges: 1; ancestors: 4)\n",
      "\u001b[32m[1123 12:55:57 @registry.py:126]\u001b[0m gen/LSTM/trip_purpose/FC input: [500, 100]\n",
      "\u001b[32m[1123 12:55:57 @registry.py:134]\u001b[0m gen/LSTM/trip_purpose/FC output: [500, 50]\n",
      "\u001b[32m[1123 12:55:57 @registry.py:126]\u001b[0m gen/LSTM/trip_purpose/FC_prob input: [500, 50]\n",
      "\u001b[32m[1123 12:55:57 @registry.py:134]\u001b[0m gen/LSTM/trip_purpose/FC_prob output: [500, 7]\n",
      "\u001b[32m[1123 12:55:57 @registry.py:126]\u001b[0m gen/LSTM/trip_purpose/FC_input input: [500, 7]\n",
      "\u001b[32m[1123 12:55:57 @registry.py:134]\u001b[0m gen/LSTM/trip_purpose/FC_input output: [500, 100]\n",
      "\u001b[32m[1123 12:55:57 @DATSGANModel.py:205]\u001b[0m \u001b[91mCreating cell for hh_descr (in-edges: 2; ancestors: 5)\n",
      "\u001b[32m[1123 12:55:57 @registry.py:126]\u001b[0m gen/LSTM/concat-hh_descr/FC_inputs input: [500, 200]\n",
      "\u001b[32m[1123 12:55:58 @registry.py:134]\u001b[0m gen/LSTM/concat-hh_descr/FC_inputs output: [500, 100]\n",
      "\u001b[32m[1123 12:55:58 @registry.py:126]\u001b[0m gen/LSTM/concat-hh_descr/FC_states input: [500, 200]\n",
      "\u001b[32m[1123 12:55:58 @registry.py:134]\u001b[0m gen/LSTM/concat-hh_descr/FC_states output: [500, 100]\n",
      "\u001b[32m[1123 12:55:58 @registry.py:126]\u001b[0m gen/LSTM/concat-hh_descr/FC_h_outputs input: [500, 200]\n",
      "\u001b[32m[1123 12:55:58 @registry.py:134]\u001b[0m gen/LSTM/concat-hh_descr/FC_h_outputs output: [500, 100]\n",
      "\u001b[32m[1123 12:55:58 @registry.py:126]\u001b[0m gen/LSTM/hh_descr/FC input: [500, 100]\n",
      "\u001b[32m[1123 12:55:58 @registry.py:134]\u001b[0m gen/LSTM/hh_descr/FC output: [500, 50]\n",
      "\u001b[32m[1123 12:55:58 @registry.py:126]\u001b[0m gen/LSTM/hh_descr/FC_prob input: [500, 50]\n",
      "\u001b[32m[1123 12:55:58 @registry.py:134]\u001b[0m gen/LSTM/hh_descr/FC_prob output: [500, 3]\n",
      "\u001b[32m[1123 12:55:58 @registry.py:126]\u001b[0m gen/LSTM/hh_descr/FC_input input: [500, 3]\n",
      "\u001b[32m[1123 12:55:58 @registry.py:134]\u001b[0m gen/LSTM/hh_descr/FC_input output: [500, 100]\n",
      "\u001b[32m[1123 12:55:58 @DATSGANModel.py:205]\u001b[0m \u001b[91mCreating cell for hh_size (in-edges: 3; ancestors: 5)\n",
      "\u001b[32m[1123 12:55:58 @registry.py:126]\u001b[0m gen/LSTM/concat-hh_size/FC_inputs input: [500, 300]\n",
      "\u001b[32m[1123 12:55:58 @registry.py:134]\u001b[0m gen/LSTM/concat-hh_size/FC_inputs output: [500, 100]\n",
      "\u001b[32m[1123 12:55:58 @registry.py:126]\u001b[0m gen/LSTM/concat-hh_size/FC_states input: [500, 300]\n",
      "\u001b[32m[1123 12:55:58 @registry.py:134]\u001b[0m gen/LSTM/concat-hh_size/FC_states output: [500, 100]\n",
      "\u001b[32m[1123 12:55:58 @registry.py:126]\u001b[0m gen/LSTM/concat-hh_size/FC_h_outputs input: [500, 300]\n",
      "\u001b[32m[1123 12:55:58 @registry.py:134]\u001b[0m gen/LSTM/concat-hh_size/FC_h_outputs output: [500, 100]\n",
      "\u001b[32m[1123 12:55:58 @registry.py:126]\u001b[0m gen/LSTM/hh_size/FC input: [500, 100]\n",
      "\u001b[32m[1123 12:55:58 @registry.py:134]\u001b[0m gen/LSTM/hh_size/FC output: [500, 50]\n",
      "\u001b[32m[1123 12:55:58 @registry.py:126]\u001b[0m gen/LSTM/hh_size/FC_prob input: [500, 50]\n",
      "\u001b[32m[1123 12:55:58 @registry.py:134]\u001b[0m gen/LSTM/hh_size/FC_prob output: [500, 8]\n",
      "\u001b[32m[1123 12:55:58 @registry.py:126]\u001b[0m gen/LSTM/hh_size/FC_input input: [500, 8]\n",
      "\u001b[32m[1123 12:55:58 @registry.py:134]\u001b[0m gen/LSTM/hh_size/FC_input output: [500, 100]\n",
      "\u001b[32m[1123 12:55:58 @DATSGANModel.py:205]\u001b[0m \u001b[91mCreating cell for departure_time (in-edges: 1; ancestors: 5)\n",
      "\u001b[32m[1123 12:55:58 @registry.py:126]\u001b[0m gen/LSTM/departure_time/FC input: [500, 100]\n",
      "\u001b[32m[1123 12:55:58 @registry.py:134]\u001b[0m gen/LSTM/departure_time/FC output: [500, 50]\n",
      "\u001b[32m[1123 12:55:58 @registry.py:126]\u001b[0m gen/LSTM/departure_time/FC_val input: [500, 50]\n",
      "\u001b[32m[1123 12:55:58 @registry.py:134]\u001b[0m gen/LSTM/departure_time/FC_val output: [500, 7]\n",
      "\u001b[32m[1123 12:55:58 @registry.py:126]\u001b[0m gen/LSTM/departure_time/FC_prob input: [500, 50]\n",
      "\u001b[32m[1123 12:55:58 @registry.py:134]\u001b[0m gen/LSTM/departure_time/FC_prob output: [500, 7]\n",
      "\u001b[32m[1123 12:55:58 @registry.py:126]\u001b[0m gen/LSTM/departure_time/FC_input input: [500, 14]\n",
      "\u001b[32m[1123 12:55:58 @registry.py:134]\u001b[0m gen/LSTM/departure_time/FC_input output: [500, 100]\n",
      "\u001b[32m[1123 12:55:58 @DATSGANModel.py:205]\u001b[0m \u001b[91mCreating cell for distance (in-edges: 1; ancestors: 5)\n",
      "\u001b[32m[1123 12:55:58 @registry.py:126]\u001b[0m gen/LSTM/distance/FC input: [500, 100]\n",
      "\u001b[32m[1123 12:55:58 @registry.py:134]\u001b[0m gen/LSTM/distance/FC output: [500, 50]\n",
      "\u001b[32m[1123 12:55:58 @registry.py:126]\u001b[0m gen/LSTM/distance/FC_val input: [500, 50]\n",
      "\u001b[32m[1123 12:55:58 @registry.py:134]\u001b[0m gen/LSTM/distance/FC_val output: [500, 6]\n",
      "\u001b[32m[1123 12:55:58 @registry.py:126]\u001b[0m gen/LSTM/distance/FC_prob input: [500, 50]\n",
      "\u001b[32m[1123 12:55:58 @registry.py:134]\u001b[0m gen/LSTM/distance/FC_prob output: [500, 6]\n",
      "\u001b[32m[1123 12:55:58 @registry.py:126]\u001b[0m gen/LSTM/distance/FC_input input: [500, 12]\n",
      "\u001b[32m[1123 12:55:58 @registry.py:134]\u001b[0m gen/LSTM/distance/FC_input output: [500, 100]\n",
      "\u001b[32m[1123 12:55:58 @DATSGANModel.py:205]\u001b[0m \u001b[91mCreating cell for hh_vehicles (in-edges: 2; ancestors: 6)\n",
      "\u001b[32m[1123 12:55:58 @registry.py:126]\u001b[0m gen/LSTM/concat-hh_vehicles/FC_inputs input: [500, 200]\n",
      "\u001b[32m[1123 12:55:58 @registry.py:134]\u001b[0m gen/LSTM/concat-hh_vehicles/FC_inputs output: [500, 100]\n",
      "\u001b[32m[1123 12:55:58 @registry.py:126]\u001b[0m gen/LSTM/concat-hh_vehicles/FC_states input: [500, 200]\n",
      "\u001b[32m[1123 12:55:58 @registry.py:134]\u001b[0m gen/LSTM/concat-hh_vehicles/FC_states output: [500, 100]\n",
      "\u001b[32m[1123 12:55:58 @registry.py:126]\u001b[0m gen/LSTM/concat-hh_vehicles/FC_h_outputs input: [500, 200]\n",
      "\u001b[32m[1123 12:55:58 @registry.py:134]\u001b[0m gen/LSTM/concat-hh_vehicles/FC_h_outputs output: [500, 100]\n",
      "\u001b[32m[1123 12:55:58 @registry.py:126]\u001b[0m gen/LSTM/hh_vehicles/FC input: [500, 100]\n",
      "\u001b[32m[1123 12:55:58 @registry.py:134]\u001b[0m gen/LSTM/hh_vehicles/FC output: [500, 50]\n",
      "\u001b[32m[1123 12:55:58 @registry.py:126]\u001b[0m gen/LSTM/hh_vehicles/FC_prob input: [500, 50]\n"
     ]
    },
    {
     "name": "stdout",
     "output_type": "stream",
     "text": [
      "\u001b[32m[1123 12:55:58 @registry.py:134]\u001b[0m gen/LSTM/hh_vehicles/FC_prob output: [500, 9]\n",
      "\u001b[32m[1123 12:55:58 @registry.py:126]\u001b[0m gen/LSTM/hh_vehicles/FC_input input: [500, 9]\n",
      "\u001b[32m[1123 12:55:58 @registry.py:134]\u001b[0m gen/LSTM/hh_vehicles/FC_input output: [500, 100]\n",
      "\u001b[32m[1123 12:55:58 @DATSGANModel.py:205]\u001b[0m \u001b[91mCreating cell for hh_bikes (in-edges: 2; ancestors: 6)\n",
      "\u001b[32m[1123 12:55:58 @registry.py:126]\u001b[0m gen/LSTM/concat-hh_bikes/FC_inputs input: [500, 200]\n",
      "\u001b[32m[1123 12:55:58 @registry.py:134]\u001b[0m gen/LSTM/concat-hh_bikes/FC_inputs output: [500, 100]\n",
      "\u001b[32m[1123 12:55:58 @registry.py:126]\u001b[0m gen/LSTM/concat-hh_bikes/FC_states input: [500, 200]\n",
      "\u001b[32m[1123 12:55:58 @registry.py:134]\u001b[0m gen/LSTM/concat-hh_bikes/FC_states output: [500, 100]\n",
      "\u001b[32m[1123 12:55:58 @registry.py:126]\u001b[0m gen/LSTM/concat-hh_bikes/FC_h_outputs input: [500, 200]\n",
      "\u001b[32m[1123 12:55:58 @registry.py:134]\u001b[0m gen/LSTM/concat-hh_bikes/FC_h_outputs output: [500, 100]\n",
      "\u001b[32m[1123 12:55:58 @registry.py:126]\u001b[0m gen/LSTM/hh_bikes/FC input: [500, 100]\n",
      "\u001b[32m[1123 12:55:58 @registry.py:134]\u001b[0m gen/LSTM/hh_bikes/FC output: [500, 50]\n",
      "\u001b[32m[1123 12:55:58 @registry.py:126]\u001b[0m gen/LSTM/hh_bikes/FC_prob input: [500, 50]\n",
      "\u001b[32m[1123 12:55:58 @registry.py:134]\u001b[0m gen/LSTM/hh_bikes/FC_prob output: [500, 8]\n",
      "\u001b[32m[1123 12:55:58 @registry.py:126]\u001b[0m gen/LSTM/hh_bikes/FC_input input: [500, 8]\n",
      "\u001b[32m[1123 12:55:58 @registry.py:134]\u001b[0m gen/LSTM/hh_bikes/FC_input output: [500, 100]\n",
      "\u001b[32m[1123 12:55:58 @DATSGANModel.py:205]\u001b[0m \u001b[91mCreating cell for choice (in-edges: 7; ancestors: 13)\n",
      "\u001b[32m[1123 12:55:58 @registry.py:126]\u001b[0m gen/LSTM/concat-choice/FC_inputs input: [500, 700]\n",
      "\u001b[32m[1123 12:55:58 @registry.py:134]\u001b[0m gen/LSTM/concat-choice/FC_inputs output: [500, 100]\n",
      "\u001b[32m[1123 12:55:58 @registry.py:126]\u001b[0m gen/LSTM/concat-choice/FC_states input: [500, 700]\n",
      "\u001b[32m[1123 12:55:58 @registry.py:134]\u001b[0m gen/LSTM/concat-choice/FC_states output: [500, 100]\n",
      "\u001b[32m[1123 12:55:58 @registry.py:126]\u001b[0m gen/LSTM/concat-choice/FC_h_outputs input: [500, 700]\n",
      "\u001b[32m[1123 12:55:58 @registry.py:134]\u001b[0m gen/LSTM/concat-choice/FC_h_outputs output: [500, 100]\n",
      "\u001b[32m[1123 12:55:58 @registry.py:126]\u001b[0m gen/LSTM/choice/FC input: [500, 100]\n",
      "\u001b[32m[1123 12:55:58 @registry.py:134]\u001b[0m gen/LSTM/choice/FC output: [500, 50]\n",
      "\u001b[32m[1123 12:55:58 @registry.py:126]\u001b[0m gen/LSTM/choice/FC_prob input: [500, 50]\n",
      "\u001b[32m[1123 12:55:58 @registry.py:134]\u001b[0m gen/LSTM/choice/FC_prob output: [500, 5]\n",
      "\u001b[32m[1123 12:55:58 @registry.py:126]\u001b[0m gen/LSTM/choice/FC_input input: [500, 5]\n",
      "\u001b[32m[1123 12:55:58 @registry.py:134]\u001b[0m gen/LSTM/choice/FC_input output: [500, 100]\n",
      "WARNING:tensorflow:From C:\\Users\\glede\\Documents\\EPFL\\PhD\\SynthPop\\code\\modules\\datgan\\models\\DATSGANModel.py:516: The name tf.random_uniform is deprecated. Please use tf.random.uniform instead.\n",
      "\n",
      "WARNING:tensorflow:From C:\\Users\\glede\\Documents\\EPFL\\PhD\\SynthPop\\code\\modules\\datgan\\models\\DATSGANModel.py:443: The name tf.log is deprecated. Please use tf.math.log instead.\n",
      "\n",
      "\u001b[32m[1123 12:55:58 @registry.py:126]\u001b[0m discrim/DISCR_FC_0/FC input: [500, 108]\n",
      "\u001b[32m[1123 12:55:58 @registry.py:134]\u001b[0m discrim/DISCR_FC_0/FC output: [500, 100]\n",
      "\u001b[32m[1123 12:55:58 @registry.py:126]\u001b[0m discrim/DISCR_FC_0/FC_DIVERSITY input: [500, 100]\n",
      "\u001b[32m[1123 12:55:58 @registry.py:134]\u001b[0m discrim/DISCR_FC_0/FC_DIVERSITY output: [500, 100]\n",
      "WARNING:tensorflow:From D:\\Users\\glede\\anaconda3\\envs\\py37\\lib\\site-packages\\tensorpack\\models\\batch_norm.py:204: The name tf.layers.BatchNormalization is deprecated. Please use tf.compat.v1.layers.BatchNormalization instead.\n",
      "\n",
      "WARNING:tensorflow:From D:\\Users\\glede\\anaconda3\\envs\\py37\\lib\\site-packages\\tensorpack\\tfutils\\collection.py:45: The name tf.get_collection_ref is deprecated. Please use tf.compat.v1.get_collection_ref instead.\n",
      "\n",
      "\u001b[32m[1123 12:55:58 @registry.py:126]\u001b[0m discrim/DISCR_FC_TOP input: [500, 110]\n",
      "\u001b[32m[1123 12:55:58 @registry.py:134]\u001b[0m discrim/DISCR_FC_TOP output: [500, 1]\n",
      "WARNING:tensorflow:From C:\\Users\\glede\\Documents\\EPFL\\PhD\\SynthPop\\code\\modules\\datgan\\models\\DATSGANModel.py:573: The name tf.summary.histogram is deprecated. Please use tf.compat.v1.summary.histogram instead.\n",
      "\n",
      "WARNING:tensorflow:From D:\\Users\\glede\\anaconda3\\envs\\py37\\lib\\site-packages\\tensorflow_core\\python\\ops\\nn_impl.py:183: where (from tensorflow.python.ops.array_ops) is deprecated and will be removed in a future version.\n",
      "Instructions for updating:\n",
      "Use tf.where in 2.0, which has the same broadcast rule as np.where\n",
      "WARNING:tensorflow:\n",
      "The TensorFlow contrib module will not be included in TensorFlow 2.0.\n",
      "For more information, please see:\n",
      "  * https://github.com/tensorflow/community/blob/master/rfcs/20180907-contrib-sunset.md\n",
      "  * https://github.com/tensorflow/addons\n",
      "  * https://github.com/tensorflow/io (for I/O related ops)\n",
      "If you depend on functionality not listed there, please file an issue.\n",
      "\n",
      "\u001b[32m[1123 12:55:59 @collection.py:146]\u001b[0m New collections created in tower : tf.GraphKeys.REGULARIZATION_LOSSES\n",
      "\u001b[32m[1123 12:55:59 @collection.py:165]\u001b[0m These collections were modified but restored in : (tf.GraphKeys.SUMMARIES: 0->2)\n",
      "WARNING:tensorflow:From D:\\Users\\glede\\anaconda3\\envs\\py37\\lib\\site-packages\\tensorpack\\tfutils\\sessinit.py:120: The name tf.train.NewCheckpointReader is deprecated. Please use tf.compat.v1.train.NewCheckpointReader instead.\n",
      "\n",
      "WARNING:tensorflow:From D:\\Users\\glede\\anaconda3\\envs\\py37\\lib\\site-packages\\tensorpack\\tfutils\\sessinit.py:127: The name tf.global_variables is deprecated. Please use tf.compat.v1.global_variables instead.\n",
      "\n",
      "\u001b[32m[1123 12:55:59 @sessinit.py:87]\u001b[0m \u001b[5m\u001b[31mWRN\u001b[0m The following variables are in the checkpoint, but not found in the graph: global_step, optimize/beta1_power, optimize/beta2_power\n",
      "WARNING:tensorflow:From D:\\Users\\glede\\anaconda3\\envs\\py37\\lib\\site-packages\\tensorpack\\tfutils\\sessinit.py:111: The name tf.train.Saver is deprecated. Please use tf.compat.v1.train.Saver instead.\n",
      "\n",
      "INFO:tensorflow:Graph was finalized.\n",
      "INFO:tensorflow:Running local_init_op.\n",
      "INFO:tensorflow:Done running local_init_op.\n",
      "\u001b[32m[1123 12:56:01 @sessinit.py:114]\u001b[0m Restoring checkpoint from ../output/Chicago/SGAN_OR_01/model\\model-17000 ...\n",
      "INFO:tensorflow:Restoring parameters from ../output/Chicago/SGAN_OR_01/model\\model-17000\n",
      "\u001b[32m[1123 12:56:01 @DATSGAN.py:266]\u001b[0m Loading Preprocessor!\n"
     ]
    },
    {
     "name": "stderr",
     "output_type": "stream",
     "text": [
      "|                                                                                          |17/?[00:01<00:00,15.24it/s]"
     ]
    },
    {
     "name": "stdout",
     "output_type": "stream",
     "text": [
      "\u001b[32m[1123 12:56:02 @DATSGAN.py:266]\u001b[0m Loading Preprocessor!\n"
     ]
    },
    {
     "name": "stderr",
     "output_type": "stream",
     "text": [
      "\n",
      "|                                                                                          |17/?[00:00<00:00,23.52it/s]"
     ]
    },
    {
     "name": "stdout",
     "output_type": "stream",
     "text": [
      "\u001b[32m[1123 12:56:03 @DATSGAN.py:266]\u001b[0m Loading Preprocessor!\n"
     ]
    },
    {
     "name": "stderr",
     "output_type": "stream",
     "text": [
      "\n",
      "|                                                                                          |17/?[00:00<00:00,23.54it/s]"
     ]
    },
    {
     "name": "stdout",
     "output_type": "stream",
     "text": [
      "\u001b[32m[1123 12:56:04 @DATSGAN.py:266]\u001b[0m Loading Preprocessor!\n"
     ]
    },
    {
     "name": "stderr",
     "output_type": "stream",
     "text": [
      "\n",
      "|                                                                                          |17/?[00:00<00:00,23.38it/s]"
     ]
    },
    {
     "name": "stdout",
     "output_type": "stream",
     "text": [
      "\u001b[32m[1123 12:56:04 @DATSGAN.py:266]\u001b[0m Loading Preprocessor!\n"
     ]
    },
    {
     "name": "stderr",
     "output_type": "stream",
     "text": [
      "\n",
      "|                                                                                          |17/?[00:00<00:00,23.84it/s]"
     ]
    },
    {
     "name": "stdout",
     "output_type": "stream",
     "text": [
      "\u001b[32m[1123 12:56:05 @DATSGAN.py:266]\u001b[0m Loading Preprocessor!\n"
     ]
    },
    {
     "name": "stderr",
     "output_type": "stream",
     "text": [
      "\n",
      "|                                                                                          |17/?[00:00<00:00,23.72it/s]"
     ]
    },
    {
     "name": "stdout",
     "output_type": "stream",
     "text": [
      "\u001b[32m[1123 12:56:06 @DATSGAN.py:266]\u001b[0m Loading Preprocessor!\n"
     ]
    },
    {
     "name": "stderr",
     "output_type": "stream",
     "text": [
      "\n",
      "|                                                                                          |17/?[00:00<00:00,23.46it/s]"
     ]
    },
    {
     "name": "stdout",
     "output_type": "stream",
     "text": [
      "\u001b[32m[1123 12:56:07 @DATSGAN.py:266]\u001b[0m Loading Preprocessor!\n"
     ]
    },
    {
     "name": "stderr",
     "output_type": "stream",
     "text": [
      "\n",
      "|                                                                                          |17/?[00:00<00:00,23.28it/s]"
     ]
    },
    {
     "name": "stdout",
     "output_type": "stream",
     "text": [
      "\u001b[32m[1123 12:56:07 @DATSGAN.py:266]\u001b[0m Loading Preprocessor!\n"
     ]
    },
    {
     "name": "stderr",
     "output_type": "stream",
     "text": [
      "\n",
      "|                                                                                          |17/?[00:00<00:00,23.52it/s]"
     ]
    },
    {
     "name": "stdout",
     "output_type": "stream",
     "text": [
      "\u001b[32m[1123 12:56:08 @DATSGAN.py:266]\u001b[0m Loading Preprocessor!\n"
     ]
    },
    {
     "name": "stderr",
     "output_type": "stream",
     "text": [
      "\n",
      "|                                                                                          |17/?[00:00<00:00,23.40it/s]"
     ]
    },
    {
     "name": "stdout",
     "output_type": "stream",
     "text": [
      "\u001b[32m[1123 12:56:09 @DATSGAN.py:266]\u001b[0m Loading Preprocessor!\n"
     ]
    },
    {
     "name": "stderr",
     "output_type": "stream",
     "text": [
      "\n",
      "|                                                                                          |17/?[00:00<00:00,23.48it/s]"
     ]
    },
    {
     "name": "stdout",
     "output_type": "stream",
     "text": [
      "\u001b[32m[1123 12:56:10 @DATSGAN.py:266]\u001b[0m Loading Preprocessor!\n"
     ]
    },
    {
     "name": "stderr",
     "output_type": "stream",
     "text": [
      "\n",
      "|                                                                                          |17/?[00:00<00:00,23.69it/s]"
     ]
    },
    {
     "name": "stdout",
     "output_type": "stream",
     "text": [
      "\u001b[32m[1123 12:56:11 @DATSGAN.py:266]\u001b[0m Loading Preprocessor!\n"
     ]
    },
    {
     "name": "stderr",
     "output_type": "stream",
     "text": [
      "\n",
      "|                                                                                          |17/?[00:00<00:00,23.56it/s]"
     ]
    },
    {
     "name": "stdout",
     "output_type": "stream",
     "text": [
      "\u001b[32m[1123 12:56:11 @DATSGAN.py:266]\u001b[0m Loading Preprocessor!\n"
     ]
    },
    {
     "name": "stderr",
     "output_type": "stream",
     "text": [
      "\n",
      "|                                                                                          |17/?[00:00<00:00,23.92it/s]"
     ]
    },
    {
     "name": "stdout",
     "output_type": "stream",
     "text": [
      "\u001b[32m[1123 12:56:12 @DATSGAN.py:266]\u001b[0m Loading Preprocessor!\n"
     ]
    },
    {
     "name": "stderr",
     "output_type": "stream",
     "text": [
      "\n",
      "|                                                                                          |17/?[00:00<00:00,23.79it/s]\n"
     ]
    },
    {
     "name": "stdout",
     "output_type": "stream",
     "text": [
      "Sampling synthetic data from model \u001b[1mSGAN_OR_02\u001b[0m (7/55)\n",
      "\u001b[32m[1123 12:56:18 @DATSGANModel.py:205]\u001b[0m \u001b[91mCreating cell for age (in-edges: 0; ancestors: 0)\n",
      "\u001b[32m[1123 12:56:18 @DATSGANModel.py:205]\u001b[0m \u001b[91mCreating cell for gender (in-edges: 0; ancestors: 0)\n",
      "\u001b[32m[1123 12:56:18 @DATSGANModel.py:205]\u001b[0m \u001b[91mCreating cell for travel_dow (in-edges: 0; ancestors: 0)\n",
      "\u001b[32m[1123 12:56:19 @DATSGANModel.py:205]\u001b[0m \u001b[91mCreating cell for license (in-edges: 1; ancestors: 1)\n",
      "\u001b[32m[1123 12:56:19 @DATSGANModel.py:205]\u001b[0m \u001b[91mCreating cell for education_level (in-edges: 1; ancestors: 1)\n",
      "\u001b[32m[1123 12:56:19 @DATSGANModel.py:205]\u001b[0m \u001b[91mCreating cell for work_status (in-edges: 2; ancestors: 3)\n",
      "\u001b[32m[1123 12:56:19 @DATSGANModel.py:205]\u001b[0m \u001b[91mCreating cell for hh_income (in-edges: 2; ancestors: 4)\n",
      "\u001b[32m[1123 12:56:19 @DATSGANModel.py:205]\u001b[0m \u001b[91mCreating cell for trip_purpose (in-edges: 1; ancestors: 4)\n",
      "\u001b[32m[1123 12:56:19 @DATSGANModel.py:205]\u001b[0m \u001b[91mCreating cell for hh_descr (in-edges: 2; ancestors: 5)\n",
      "\u001b[32m[1123 12:56:19 @DATSGANModel.py:205]\u001b[0m \u001b[91mCreating cell for hh_size (in-edges: 3; ancestors: 5)\n",
      "\u001b[32m[1123 12:56:19 @DATSGANModel.py:205]\u001b[0m \u001b[91mCreating cell for departure_time (in-edges: 1; ancestors: 5)\n",
      "\u001b[32m[1123 12:56:19 @DATSGANModel.py:205]\u001b[0m \u001b[91mCreating cell for distance (in-edges: 1; ancestors: 5)\n",
      "\u001b[32m[1123 12:56:19 @DATSGANModel.py:205]\u001b[0m \u001b[91mCreating cell for hh_vehicles (in-edges: 2; ancestors: 6)\n",
      "\u001b[32m[1123 12:56:19 @DATSGANModel.py:205]\u001b[0m \u001b[91mCreating cell for hh_bikes (in-edges: 2; ancestors: 6)\n",
      "\u001b[32m[1123 12:56:19 @DATSGANModel.py:205]\u001b[0m \u001b[91mCreating cell for choice (in-edges: 7; ancestors: 13)\n",
      "\u001b[32m[1123 12:56:20 @collection.py:146]\u001b[0m New collections created in tower : tf.GraphKeys.REGULARIZATION_LOSSES\n",
      "\u001b[32m[1123 12:56:20 @collection.py:165]\u001b[0m These collections were modified but restored in : (tf.GraphKeys.SUMMARIES: 0->2)\n",
      "\u001b[32m[1123 12:56:20 @sessinit.py:87]\u001b[0m \u001b[5m\u001b[31mWRN\u001b[0m The following variables are in the checkpoint, but not found in the graph: global_step, optimize/beta1_power, optimize/beta2_power\n",
      "INFO:tensorflow:Graph was finalized.\n",
      "INFO:tensorflow:Running local_init_op.\n",
      "INFO:tensorflow:Done running local_init_op.\n",
      "\u001b[32m[1123 12:56:21 @sessinit.py:114]\u001b[0m Restoring checkpoint from ../output/Chicago/SGAN_OR_02/model\\model-17000 ...\n",
      "INFO:tensorflow:Restoring parameters from ../output/Chicago/SGAN_OR_02/model\\model-17000\n",
      "\u001b[32m[1123 12:56:21 @DATSGAN.py:266]\u001b[0m Loading Preprocessor!\n"
     ]
    },
    {
     "name": "stderr",
     "output_type": "stream",
     "text": [
      "|                                                                                          |17/?[00:00<00:00,17.96it/s]"
     ]
    },
    {
     "name": "stdout",
     "output_type": "stream",
     "text": [
      "\u001b[32m[1123 12:56:22 @DATSGAN.py:266]\u001b[0m Loading Preprocessor!\n"
     ]
    },
    {
     "name": "stderr",
     "output_type": "stream",
     "text": [
      "\n",
      "|                                                                                          |17/?[00:00<00:00,23.90it/s]"
     ]
    },
    {
     "name": "stdout",
     "output_type": "stream",
     "text": [
      "\u001b[32m[1123 12:56:23 @DATSGAN.py:266]\u001b[0m Loading Preprocessor!\n"
     ]
    },
    {
     "name": "stderr",
     "output_type": "stream",
     "text": [
      "\n",
      "|                                                                                          |17/?[00:00<00:00,23.74it/s]"
     ]
    },
    {
     "name": "stdout",
     "output_type": "stream",
     "text": [
      "\u001b[32m[1123 12:56:23 @DATSGAN.py:266]\u001b[0m Loading Preprocessor!\n"
     ]
    },
    {
     "name": "stderr",
     "output_type": "stream",
     "text": [
      "\n",
      "|                                                                                          |17/?[00:00<00:00,23.85it/s]"
     ]
    },
    {
     "name": "stdout",
     "output_type": "stream",
     "text": [
      "\u001b[32m[1123 12:56:24 @DATSGAN.py:266]\u001b[0m Loading Preprocessor!\n"
     ]
    },
    {
     "name": "stderr",
     "output_type": "stream",
     "text": [
      "\n",
      "|                                                                                          |17/?[00:00<00:00,24.14it/s]"
     ]
    },
    {
     "name": "stdout",
     "output_type": "stream",
     "text": [
      "\u001b[32m[1123 12:56:25 @DATSGAN.py:266]\u001b[0m Loading Preprocessor!\n"
     ]
    },
    {
     "name": "stderr",
     "output_type": "stream",
     "text": [
      "\n",
      "|                                                                                          |17/?[00:00<00:00,24.02it/s]"
     ]
    },
    {
     "name": "stdout",
     "output_type": "stream",
     "text": [
      "\u001b[32m[1123 12:56:26 @DATSGAN.py:266]\u001b[0m Loading Preprocessor!\n"
     ]
    },
    {
     "name": "stderr",
     "output_type": "stream",
     "text": [
      "\n",
      "|                                                                                          |17/?[00:00<00:00,23.98it/s]"
     ]
    },
    {
     "name": "stdout",
     "output_type": "stream",
     "text": [
      "\u001b[32m[1123 12:56:27 @DATSGAN.py:266]\u001b[0m Loading Preprocessor!\n"
     ]
    },
    {
     "name": "stderr",
     "output_type": "stream",
     "text": [
      "\n",
      "|                                                                                          |17/?[00:00<00:00,24.00it/s]"
     ]
    },
    {
     "name": "stdout",
     "output_type": "stream",
     "text": [
      "\u001b[32m[1123 12:56:27 @DATSGAN.py:266]\u001b[0m Loading Preprocessor!\n"
     ]
    },
    {
     "name": "stderr",
     "output_type": "stream",
     "text": [
      "\n",
      "|                                                                                          |17/?[00:00<00:00,23.90it/s]"
     ]
    },
    {
     "name": "stdout",
     "output_type": "stream",
     "text": [
      "\u001b[32m[1123 12:56:28 @DATSGAN.py:266]\u001b[0m Loading Preprocessor!\n"
     ]
    },
    {
     "name": "stderr",
     "output_type": "stream",
     "text": [
      "\n",
      "|                                                                                          |17/?[00:00<00:00,24.09it/s]"
     ]
    },
    {
     "name": "stdout",
     "output_type": "stream",
     "text": [
      "\u001b[32m[1123 12:56:29 @DATSGAN.py:266]\u001b[0m Loading Preprocessor!\n"
     ]
    },
    {
     "name": "stderr",
     "output_type": "stream",
     "text": [
      "\n",
      "|                                                                                          |17/?[00:00<00:00,24.02it/s]"
     ]
    },
    {
     "name": "stdout",
     "output_type": "stream",
     "text": [
      "\u001b[32m[1123 12:56:30 @DATSGAN.py:266]\u001b[0m Loading Preprocessor!\n"
     ]
    },
    {
     "name": "stderr",
     "output_type": "stream",
     "text": [
      "\n",
      "|                                                                                          |17/?[00:00<00:00,24.19it/s]"
     ]
    },
    {
     "name": "stdout",
     "output_type": "stream",
     "text": [
      "\u001b[32m[1123 12:56:30 @DATSGAN.py:266]\u001b[0m Loading Preprocessor!\n"
     ]
    },
    {
     "name": "stderr",
     "output_type": "stream",
     "text": [
      "\n",
      "|                                                                                          |17/?[00:00<00:00,23.74it/s]"
     ]
    },
    {
     "name": "stdout",
     "output_type": "stream",
     "text": [
      "\u001b[32m[1123 12:56:31 @DATSGAN.py:266]\u001b[0m Loading Preprocessor!\n"
     ]
    },
    {
     "name": "stderr",
     "output_type": "stream",
     "text": [
      "\n",
      "|                                                                                          |17/?[00:00<00:00,24.22it/s]"
     ]
    },
    {
     "name": "stdout",
     "output_type": "stream",
     "text": [
      "\u001b[32m[1123 12:56:32 @DATSGAN.py:266]\u001b[0m Loading Preprocessor!\n"
     ]
    },
    {
     "name": "stderr",
     "output_type": "stream",
     "text": [
      "\n",
      "|                                                                                          |17/?[00:00<00:00,23.27it/s]\n"
     ]
    },
    {
     "name": "stdout",
     "output_type": "stream",
     "text": [
      "Sampling synthetic data from model \u001b[1mSGAN_OR_03\u001b[0m (8/55)\n",
      "\u001b[32m[1123 12:56:38 @DATSGANModel.py:205]\u001b[0m \u001b[91mCreating cell for age (in-edges: 0; ancestors: 0)\n",
      "\u001b[32m[1123 12:56:38 @DATSGANModel.py:205]\u001b[0m \u001b[91mCreating cell for gender (in-edges: 0; ancestors: 0)\n",
      "\u001b[32m[1123 12:56:38 @DATSGANModel.py:205]\u001b[0m \u001b[91mCreating cell for travel_dow (in-edges: 0; ancestors: 0)\n",
      "\u001b[32m[1123 12:56:38 @DATSGANModel.py:205]\u001b[0m \u001b[91mCreating cell for license (in-edges: 1; ancestors: 1)\n",
      "\u001b[32m[1123 12:56:38 @DATSGANModel.py:205]\u001b[0m \u001b[91mCreating cell for education_level (in-edges: 1; ancestors: 1)\n",
      "\u001b[32m[1123 12:56:38 @DATSGANModel.py:205]\u001b[0m \u001b[91mCreating cell for work_status (in-edges: 2; ancestors: 3)\n",
      "\u001b[32m[1123 12:56:39 @DATSGANModel.py:205]\u001b[0m \u001b[91mCreating cell for hh_income (in-edges: 2; ancestors: 4)\n",
      "\u001b[32m[1123 12:56:39 @DATSGANModel.py:205]\u001b[0m \u001b[91mCreating cell for trip_purpose (in-edges: 1; ancestors: 4)\n",
      "\u001b[32m[1123 12:56:39 @DATSGANModel.py:205]\u001b[0m \u001b[91mCreating cell for hh_descr (in-edges: 2; ancestors: 5)\n",
      "\u001b[32m[1123 12:56:39 @DATSGANModel.py:205]\u001b[0m \u001b[91mCreating cell for hh_size (in-edges: 3; ancestors: 5)\n",
      "\u001b[32m[1123 12:56:39 @DATSGANModel.py:205]\u001b[0m \u001b[91mCreating cell for departure_time (in-edges: 1; ancestors: 5)\n",
      "\u001b[32m[1123 12:56:39 @DATSGANModel.py:205]\u001b[0m \u001b[91mCreating cell for distance (in-edges: 1; ancestors: 5)\n",
      "\u001b[32m[1123 12:56:39 @DATSGANModel.py:205]\u001b[0m \u001b[91mCreating cell for hh_vehicles (in-edges: 2; ancestors: 6)\n",
      "\u001b[32m[1123 12:56:39 @DATSGANModel.py:205]\u001b[0m \u001b[91mCreating cell for hh_bikes (in-edges: 2; ancestors: 6)\n",
      "\u001b[32m[1123 12:56:39 @DATSGANModel.py:205]\u001b[0m \u001b[91mCreating cell for choice (in-edges: 7; ancestors: 13)\n",
      "\u001b[32m[1123 12:56:40 @collection.py:146]\u001b[0m New collections created in tower : tf.GraphKeys.REGULARIZATION_LOSSES\n",
      "\u001b[32m[1123 12:56:40 @collection.py:165]\u001b[0m These collections were modified but restored in : (tf.GraphKeys.SUMMARIES: 0->2)\n",
      "\u001b[32m[1123 12:56:40 @sessinit.py:87]\u001b[0m \u001b[5m\u001b[31mWRN\u001b[0m The following variables are in the checkpoint, but not found in the graph: global_step, optimize/beta1_power, optimize/beta2_power\n",
      "INFO:tensorflow:Graph was finalized.\n",
      "INFO:tensorflow:Running local_init_op.\n",
      "INFO:tensorflow:Done running local_init_op.\n",
      "\u001b[32m[1123 12:56:41 @sessinit.py:114]\u001b[0m Restoring checkpoint from ../output/Chicago/SGAN_OR_03/model\\model-17000 ...\n",
      "INFO:tensorflow:Restoring parameters from ../output/Chicago/SGAN_OR_03/model\\model-17000\n",
      "\u001b[32m[1123 12:56:41 @DATSGAN.py:266]\u001b[0m Loading Preprocessor!\n"
     ]
    },
    {
     "name": "stderr",
     "output_type": "stream",
     "text": [
      "|                                                                                          |17/?[00:00<00:00,17.65it/s]"
     ]
    },
    {
     "name": "stdout",
     "output_type": "stream",
     "text": [
      "\u001b[32m[1123 12:56:42 @DATSGAN.py:266]\u001b[0m Loading Preprocessor!\n"
     ]
    },
    {
     "name": "stderr",
     "output_type": "stream",
     "text": [
      "\n",
      "|                                                                                          |17/?[00:00<00:00,23.49it/s]"
     ]
    },
    {
     "name": "stdout",
     "output_type": "stream",
     "text": [
      "\u001b[32m[1123 12:56:43 @DATSGAN.py:266]\u001b[0m Loading Preprocessor!\n"
     ]
    },
    {
     "name": "stderr",
     "output_type": "stream",
     "text": [
      "\n",
      "|                                                                                          |17/?[00:00<00:00,22.85it/s]"
     ]
    },
    {
     "name": "stdout",
     "output_type": "stream",
     "text": [
      "\u001b[32m[1123 12:56:43 @DATSGAN.py:266]\u001b[0m Loading Preprocessor!\n"
     ]
    },
    {
     "name": "stderr",
     "output_type": "stream",
     "text": [
      "\n",
      "|                                                                                          |17/?[00:00<00:00,23.56it/s]"
     ]
    },
    {
     "name": "stdout",
     "output_type": "stream",
     "text": [
      "\u001b[32m[1123 12:56:44 @DATSGAN.py:266]\u001b[0m Loading Preprocessor!\n"
     ]
    },
    {
     "name": "stderr",
     "output_type": "stream",
     "text": [
      "\n",
      "|                                                                                          |17/?[00:00<00:00,23.22it/s]"
     ]
    },
    {
     "name": "stdout",
     "output_type": "stream",
     "text": [
      "\u001b[32m[1123 12:56:45 @DATSGAN.py:266]\u001b[0m Loading Preprocessor!\n"
     ]
    },
    {
     "name": "stderr",
     "output_type": "stream",
     "text": [
      "\n",
      "|                                                                                          |17/?[00:00<00:00,23.62it/s]"
     ]
    },
    {
     "name": "stdout",
     "output_type": "stream",
     "text": [
      "\u001b[32m[1123 12:56:46 @DATSGAN.py:266]\u001b[0m Loading Preprocessor!\n"
     ]
    },
    {
     "name": "stderr",
     "output_type": "stream",
     "text": [
      "\n",
      "|                                                                                          |17/?[00:00<00:00,22.91it/s]"
     ]
    },
    {
     "name": "stdout",
     "output_type": "stream",
     "text": [
      "\u001b[32m[1123 12:56:47 @DATSGAN.py:266]\u001b[0m Loading Preprocessor!\n"
     ]
    },
    {
     "name": "stderr",
     "output_type": "stream",
     "text": [
      "\n",
      "|                                                                                          |17/?[00:00<00:00,23.75it/s]"
     ]
    },
    {
     "name": "stdout",
     "output_type": "stream",
     "text": [
      "\u001b[32m[1123 12:56:47 @DATSGAN.py:266]\u001b[0m Loading Preprocessor!\n"
     ]
    },
    {
     "name": "stderr",
     "output_type": "stream",
     "text": [
      "\n",
      "|                                                                                          |17/?[00:00<00:00,23.33it/s]"
     ]
    },
    {
     "name": "stdout",
     "output_type": "stream",
     "text": [
      "\u001b[32m[1123 12:56:48 @DATSGAN.py:266]\u001b[0m Loading Preprocessor!\n"
     ]
    },
    {
     "name": "stderr",
     "output_type": "stream",
     "text": [
      "\n",
      "|                                                                                          |17/?[00:00<00:00,23.56it/s]"
     ]
    },
    {
     "name": "stdout",
     "output_type": "stream",
     "text": [
      "\u001b[32m[1123 12:56:49 @DATSGAN.py:266]\u001b[0m Loading Preprocessor!\n"
     ]
    },
    {
     "name": "stderr",
     "output_type": "stream",
     "text": [
      "\n",
      "|                                                                                          |17/?[00:00<00:00,23.46it/s]"
     ]
    },
    {
     "name": "stdout",
     "output_type": "stream",
     "text": [
      "\u001b[32m[1123 12:56:50 @DATSGAN.py:266]\u001b[0m Loading Preprocessor!\n"
     ]
    },
    {
     "name": "stderr",
     "output_type": "stream",
     "text": [
      "\n",
      "|                                                                                          |17/?[00:00<00:00,23.46it/s]"
     ]
    },
    {
     "name": "stdout",
     "output_type": "stream",
     "text": [
      "\u001b[32m[1123 12:56:51 @DATSGAN.py:266]\u001b[0m Loading Preprocessor!\n"
     ]
    },
    {
     "name": "stderr",
     "output_type": "stream",
     "text": [
      "\n",
      "|                                                                                          |17/?[00:00<00:00,23.44it/s]"
     ]
    },
    {
     "name": "stdout",
     "output_type": "stream",
     "text": [
      "\u001b[32m[1123 12:56:51 @DATSGAN.py:266]\u001b[0m Loading Preprocessor!\n"
     ]
    },
    {
     "name": "stderr",
     "output_type": "stream",
     "text": [
      "\n",
      "|                                                                                          |17/?[00:00<00:00,23.74it/s]"
     ]
    },
    {
     "name": "stdout",
     "output_type": "stream",
     "text": [
      "\u001b[32m[1123 12:56:52 @DATSGAN.py:266]\u001b[0m Loading Preprocessor!\n"
     ]
    },
    {
     "name": "stderr",
     "output_type": "stream",
     "text": [
      "\n",
      "|                                                                                          |17/?[00:00<00:00,23.36it/s]\n"
     ]
    },
    {
     "name": "stdout",
     "output_type": "stream",
     "text": [
      "Sampling synthetic data from model \u001b[1mSGAN_OR_04\u001b[0m (9/55)\n",
      "\u001b[32m[1123 12:56:58 @DATSGANModel.py:205]\u001b[0m \u001b[91mCreating cell for age (in-edges: 0; ancestors: 0)\n",
      "\u001b[32m[1123 12:56:58 @DATSGANModel.py:205]\u001b[0m \u001b[91mCreating cell for gender (in-edges: 0; ancestors: 0)\n",
      "\u001b[32m[1123 12:56:59 @DATSGANModel.py:205]\u001b[0m \u001b[91mCreating cell for travel_dow (in-edges: 0; ancestors: 0)\n",
      "\u001b[32m[1123 12:56:59 @DATSGANModel.py:205]\u001b[0m \u001b[91mCreating cell for license (in-edges: 1; ancestors: 1)\n",
      "\u001b[32m[1123 12:56:59 @DATSGANModel.py:205]\u001b[0m \u001b[91mCreating cell for education_level (in-edges: 1; ancestors: 1)\n",
      "\u001b[32m[1123 12:56:59 @DATSGANModel.py:205]\u001b[0m \u001b[91mCreating cell for work_status (in-edges: 2; ancestors: 3)\n",
      "\u001b[32m[1123 12:56:59 @DATSGANModel.py:205]\u001b[0m \u001b[91mCreating cell for hh_income (in-edges: 2; ancestors: 4)\n",
      "\u001b[32m[1123 12:56:59 @DATSGANModel.py:205]\u001b[0m \u001b[91mCreating cell for trip_purpose (in-edges: 1; ancestors: 4)\n",
      "\u001b[32m[1123 12:56:59 @DATSGANModel.py:205]\u001b[0m \u001b[91mCreating cell for hh_descr (in-edges: 2; ancestors: 5)\n",
      "\u001b[32m[1123 12:56:59 @DATSGANModel.py:205]\u001b[0m \u001b[91mCreating cell for hh_size (in-edges: 3; ancestors: 5)\n",
      "\u001b[32m[1123 12:56:59 @DATSGANModel.py:205]\u001b[0m \u001b[91mCreating cell for departure_time (in-edges: 1; ancestors: 5)\n",
      "\u001b[32m[1123 12:56:59 @DATSGANModel.py:205]\u001b[0m \u001b[91mCreating cell for distance (in-edges: 1; ancestors: 5)\n",
      "\u001b[32m[1123 12:56:59 @DATSGANModel.py:205]\u001b[0m \u001b[91mCreating cell for hh_vehicles (in-edges: 2; ancestors: 6)\n",
      "\u001b[32m[1123 12:56:59 @DATSGANModel.py:205]\u001b[0m \u001b[91mCreating cell for hh_bikes (in-edges: 2; ancestors: 6)\n",
      "\u001b[32m[1123 12:56:59 @DATSGANModel.py:205]\u001b[0m \u001b[91mCreating cell for choice (in-edges: 7; ancestors: 13)\n",
      "\u001b[32m[1123 12:57:00 @collection.py:146]\u001b[0m New collections created in tower : tf.GraphKeys.REGULARIZATION_LOSSES\n",
      "\u001b[32m[1123 12:57:00 @collection.py:165]\u001b[0m These collections were modified but restored in : (tf.GraphKeys.SUMMARIES: 0->2)\n",
      "\u001b[32m[1123 12:57:00 @sessinit.py:87]\u001b[0m \u001b[5m\u001b[31mWRN\u001b[0m The following variables are in the checkpoint, but not found in the graph: global_step, optimize/beta1_power, optimize/beta2_power\n",
      "INFO:tensorflow:Graph was finalized.\n",
      "INFO:tensorflow:Running local_init_op.\n",
      "INFO:tensorflow:Done running local_init_op.\n",
      "\u001b[32m[1123 12:57:01 @sessinit.py:114]\u001b[0m Restoring checkpoint from ../output/Chicago/SGAN_OR_04/model\\model-17000 ...\n",
      "INFO:tensorflow:Restoring parameters from ../output/Chicago/SGAN_OR_04/model\\model-17000\n",
      "\u001b[32m[1123 12:57:01 @DATSGAN.py:266]\u001b[0m Loading Preprocessor!\n"
     ]
    },
    {
     "name": "stderr",
     "output_type": "stream",
     "text": [
      "|                                                                                          |17/?[00:00<00:00,18.23it/s]"
     ]
    },
    {
     "name": "stdout",
     "output_type": "stream",
     "text": [
      "\u001b[32m[1123 12:57:02 @DATSGAN.py:266]\u001b[0m Loading Preprocessor!\n"
     ]
    },
    {
     "name": "stderr",
     "output_type": "stream",
     "text": [
      "\n",
      "|                                                                                          |17/?[00:00<00:00,24.27it/s]"
     ]
    },
    {
     "name": "stdout",
     "output_type": "stream",
     "text": [
      "\u001b[32m[1123 12:57:03 @DATSGAN.py:266]\u001b[0m Loading Preprocessor!\n"
     ]
    },
    {
     "name": "stderr",
     "output_type": "stream",
     "text": [
      "\n",
      "|                                                                                          |17/?[00:00<00:00,23.94it/s]"
     ]
    },
    {
     "name": "stdout",
     "output_type": "stream",
     "text": [
      "\u001b[32m[1123 12:57:04 @DATSGAN.py:266]\u001b[0m Loading Preprocessor!\n"
     ]
    },
    {
     "name": "stderr",
     "output_type": "stream",
     "text": [
      "\n",
      "|                                                                                          |17/?[00:00<00:00,24.04it/s]"
     ]
    },
    {
     "name": "stdout",
     "output_type": "stream",
     "text": [
      "\u001b[32m[1123 12:57:04 @DATSGAN.py:266]\u001b[0m Loading Preprocessor!\n"
     ]
    },
    {
     "name": "stderr",
     "output_type": "stream",
     "text": [
      "\n",
      "|                                                                                          |17/?[00:00<00:00,23.93it/s]"
     ]
    },
    {
     "name": "stdout",
     "output_type": "stream",
     "text": [
      "\u001b[32m[1123 12:57:05 @DATSGAN.py:266]\u001b[0m Loading Preprocessor!\n"
     ]
    },
    {
     "name": "stderr",
     "output_type": "stream",
     "text": [
      "\n",
      "|                                                                                          |17/?[00:00<00:00,24.27it/s]"
     ]
    },
    {
     "name": "stdout",
     "output_type": "stream",
     "text": [
      "\u001b[32m[1123 12:57:06 @DATSGAN.py:266]\u001b[0m Loading Preprocessor!\n"
     ]
    },
    {
     "name": "stderr",
     "output_type": "stream",
     "text": [
      "\n",
      "|                                                                                          |17/?[00:00<00:00,24.17it/s]"
     ]
    },
    {
     "name": "stdout",
     "output_type": "stream",
     "text": [
      "\u001b[32m[1123 12:57:07 @DATSGAN.py:266]\u001b[0m Loading Preprocessor!\n"
     ]
    },
    {
     "name": "stderr",
     "output_type": "stream",
     "text": [
      "\n",
      "|                                                                                          |17/?[00:00<00:00,24.10it/s]"
     ]
    },
    {
     "name": "stdout",
     "output_type": "stream",
     "text": [
      "\u001b[32m[1123 12:57:07 @DATSGAN.py:266]\u001b[0m Loading Preprocessor!\n"
     ]
    },
    {
     "name": "stderr",
     "output_type": "stream",
     "text": [
      "\n",
      "|                                                                                          |17/?[00:00<00:00,23.87it/s]"
     ]
    },
    {
     "name": "stdout",
     "output_type": "stream",
     "text": [
      "\u001b[32m[1123 12:57:08 @DATSGAN.py:266]\u001b[0m Loading Preprocessor!\n"
     ]
    },
    {
     "name": "stderr",
     "output_type": "stream",
     "text": [
      "\n",
      "|                                                                                          |17/?[00:00<00:00,24.19it/s]"
     ]
    },
    {
     "name": "stdout",
     "output_type": "stream",
     "text": [
      "\u001b[32m[1123 12:57:09 @DATSGAN.py:266]\u001b[0m Loading Preprocessor!\n"
     ]
    },
    {
     "name": "stderr",
     "output_type": "stream",
     "text": [
      "\n",
      "|                                                                                          |17/?[00:00<00:00,24.10it/s]"
     ]
    },
    {
     "name": "stdout",
     "output_type": "stream",
     "text": [
      "\u001b[32m[1123 12:57:10 @DATSGAN.py:266]\u001b[0m Loading Preprocessor!\n"
     ]
    },
    {
     "name": "stderr",
     "output_type": "stream",
     "text": [
      "\n",
      "|                                                                                          |17/?[00:00<00:00,24.21it/s]"
     ]
    },
    {
     "name": "stdout",
     "output_type": "stream",
     "text": [
      "\u001b[32m[1123 12:57:10 @DATSGAN.py:266]\u001b[0m Loading Preprocessor!\n"
     ]
    },
    {
     "name": "stderr",
     "output_type": "stream",
     "text": [
      "\n",
      "|                                                                                          |17/?[00:00<00:00,23.93it/s]"
     ]
    },
    {
     "name": "stdout",
     "output_type": "stream",
     "text": [
      "\u001b[32m[1123 12:57:11 @DATSGAN.py:266]\u001b[0m Loading Preprocessor!\n"
     ]
    },
    {
     "name": "stderr",
     "output_type": "stream",
     "text": [
      "\n",
      "|                                                                                          |17/?[00:00<00:00,24.12it/s]"
     ]
    },
    {
     "name": "stdout",
     "output_type": "stream",
     "text": [
      "\u001b[32m[1123 12:57:12 @DATSGAN.py:266]\u001b[0m Loading Preprocessor!\n"
     ]
    },
    {
     "name": "stderr",
     "output_type": "stream",
     "text": [
      "\n",
      "|                                                                                          |17/?[00:00<00:00,24.23it/s]\n"
     ]
    },
    {
     "name": "stdout",
     "output_type": "stream",
     "text": [
      "Sampling synthetic data from model \u001b[1mSGAN_OR_05\u001b[0m (10/55)\n",
      "\u001b[32m[1123 12:57:18 @DATSGANModel.py:205]\u001b[0m \u001b[91mCreating cell for age (in-edges: 0; ancestors: 0)\n",
      "\u001b[32m[1123 12:57:18 @DATSGANModel.py:205]\u001b[0m \u001b[91mCreating cell for gender (in-edges: 0; ancestors: 0)\n",
      "\u001b[32m[1123 12:57:18 @DATSGANModel.py:205]\u001b[0m \u001b[91mCreating cell for travel_dow (in-edges: 0; ancestors: 0)\n",
      "\u001b[32m[1123 12:57:18 @DATSGANModel.py:205]\u001b[0m \u001b[91mCreating cell for license (in-edges: 1; ancestors: 1)\n",
      "\u001b[32m[1123 12:57:18 @DATSGANModel.py:205]\u001b[0m \u001b[91mCreating cell for education_level (in-edges: 1; ancestors: 1)\n",
      "\u001b[32m[1123 12:57:18 @DATSGANModel.py:205]\u001b[0m \u001b[91mCreating cell for work_status (in-edges: 2; ancestors: 3)\n",
      "\u001b[32m[1123 12:57:19 @DATSGANModel.py:205]\u001b[0m \u001b[91mCreating cell for hh_income (in-edges: 2; ancestors: 4)\n",
      "\u001b[32m[1123 12:57:19 @DATSGANModel.py:205]\u001b[0m \u001b[91mCreating cell for trip_purpose (in-edges: 1; ancestors: 4)\n",
      "\u001b[32m[1123 12:57:19 @DATSGANModel.py:205]\u001b[0m \u001b[91mCreating cell for hh_descr (in-edges: 2; ancestors: 5)\n",
      "\u001b[32m[1123 12:57:19 @DATSGANModel.py:205]\u001b[0m \u001b[91mCreating cell for hh_size (in-edges: 3; ancestors: 5)\n",
      "\u001b[32m[1123 12:57:19 @DATSGANModel.py:205]\u001b[0m \u001b[91mCreating cell for departure_time (in-edges: 1; ancestors: 5)\n",
      "\u001b[32m[1123 12:57:19 @DATSGANModel.py:205]\u001b[0m \u001b[91mCreating cell for distance (in-edges: 1; ancestors: 5)\n",
      "\u001b[32m[1123 12:57:19 @DATSGANModel.py:205]\u001b[0m \u001b[91mCreating cell for hh_vehicles (in-edges: 2; ancestors: 6)\n",
      "\u001b[32m[1123 12:57:19 @DATSGANModel.py:205]\u001b[0m \u001b[91mCreating cell for hh_bikes (in-edges: 2; ancestors: 6)\n",
      "\u001b[32m[1123 12:57:19 @DATSGANModel.py:205]\u001b[0m \u001b[91mCreating cell for choice (in-edges: 7; ancestors: 13)\n",
      "\u001b[32m[1123 12:57:20 @collection.py:146]\u001b[0m New collections created in tower : tf.GraphKeys.REGULARIZATION_LOSSES\n",
      "\u001b[32m[1123 12:57:20 @collection.py:165]\u001b[0m These collections were modified but restored in : (tf.GraphKeys.SUMMARIES: 0->2)\n",
      "\u001b[32m[1123 12:57:20 @sessinit.py:87]\u001b[0m \u001b[5m\u001b[31mWRN\u001b[0m The following variables are in the checkpoint, but not found in the graph: global_step, optimize/beta1_power, optimize/beta2_power\n",
      "INFO:tensorflow:Graph was finalized.\n",
      "INFO:tensorflow:Running local_init_op.\n",
      "INFO:tensorflow:Done running local_init_op.\n",
      "\u001b[32m[1123 12:57:21 @sessinit.py:114]\u001b[0m Restoring checkpoint from ../output/Chicago/SGAN_OR_05/model\\model-17000 ...\n",
      "INFO:tensorflow:Restoring parameters from ../output/Chicago/SGAN_OR_05/model\\model-17000\n",
      "\u001b[32m[1123 12:57:21 @DATSGAN.py:266]\u001b[0m Loading Preprocessor!\n"
     ]
    },
    {
     "name": "stderr",
     "output_type": "stream",
     "text": [
      "|                                                                                          |17/?[00:00<00:00,17.42it/s]"
     ]
    },
    {
     "name": "stdout",
     "output_type": "stream",
     "text": [
      "\u001b[32m[1123 12:57:22 @DATSGAN.py:266]\u001b[0m Loading Preprocessor!\n"
     ]
    },
    {
     "name": "stderr",
     "output_type": "stream",
     "text": [
      "\n",
      "|                                                                                          |17/?[00:00<00:00,23.25it/s]"
     ]
    },
    {
     "name": "stdout",
     "output_type": "stream",
     "text": [
      "\u001b[32m[1123 12:57:23 @DATSGAN.py:266]\u001b[0m Loading Preprocessor!\n"
     ]
    },
    {
     "name": "stderr",
     "output_type": "stream",
     "text": [
      "\n",
      "|                                                                                          |17/?[00:00<00:00,23.24it/s]"
     ]
    },
    {
     "name": "stdout",
     "output_type": "stream",
     "text": [
      "\u001b[32m[1123 12:57:23 @DATSGAN.py:266]\u001b[0m Loading Preprocessor!\n"
     ]
    },
    {
     "name": "stderr",
     "output_type": "stream",
     "text": [
      "\n",
      "|                                                                                          |17/?[00:00<00:00,23.40it/s]"
     ]
    },
    {
     "name": "stdout",
     "output_type": "stream",
     "text": [
      "\u001b[32m[1123 12:57:24 @DATSGAN.py:266]\u001b[0m Loading Preprocessor!\n"
     ]
    },
    {
     "name": "stderr",
     "output_type": "stream",
     "text": [
      "\n",
      "|                                                                                          |17/?[00:00<00:00,23.22it/s]"
     ]
    },
    {
     "name": "stdout",
     "output_type": "stream",
     "text": [
      "\u001b[32m[1123 12:57:25 @DATSGAN.py:266]\u001b[0m Loading Preprocessor!\n"
     ]
    },
    {
     "name": "stderr",
     "output_type": "stream",
     "text": [
      "\n",
      "|                                                                                          |17/?[00:00<00:00,23.27it/s]"
     ]
    },
    {
     "name": "stdout",
     "output_type": "stream",
     "text": [
      "\u001b[32m[1123 12:57:26 @DATSGAN.py:266]\u001b[0m Loading Preprocessor!\n"
     ]
    },
    {
     "name": "stderr",
     "output_type": "stream",
     "text": [
      "\n",
      "|                                                                                          |17/?[00:00<00:00,23.35it/s]"
     ]
    },
    {
     "name": "stdout",
     "output_type": "stream",
     "text": [
      "\u001b[32m[1123 12:57:27 @DATSGAN.py:266]\u001b[0m Loading Preprocessor!\n"
     ]
    },
    {
     "name": "stderr",
     "output_type": "stream",
     "text": [
      "\n",
      "|                                                                                          |17/?[00:00<00:00,23.05it/s]"
     ]
    },
    {
     "name": "stdout",
     "output_type": "stream",
     "text": [
      "\u001b[32m[1123 12:57:27 @DATSGAN.py:266]\u001b[0m Loading Preprocessor!\n"
     ]
    },
    {
     "name": "stderr",
     "output_type": "stream",
     "text": [
      "\n",
      "|                                                                                          |17/?[00:00<00:00,23.25it/s]"
     ]
    },
    {
     "name": "stdout",
     "output_type": "stream",
     "text": [
      "\u001b[32m[1123 12:57:28 @DATSGAN.py:266]\u001b[0m Loading Preprocessor!\n"
     ]
    },
    {
     "name": "stderr",
     "output_type": "stream",
     "text": [
      "\n",
      "|                                                                                          |17/?[00:00<00:00,23.48it/s]"
     ]
    },
    {
     "name": "stdout",
     "output_type": "stream",
     "text": [
      "\u001b[32m[1123 12:57:29 @DATSGAN.py:266]\u001b[0m Loading Preprocessor!\n"
     ]
    },
    {
     "name": "stderr",
     "output_type": "stream",
     "text": [
      "\n",
      "|                                                                                          |17/?[00:00<00:00,23.27it/s]"
     ]
    },
    {
     "name": "stdout",
     "output_type": "stream",
     "text": [
      "\u001b[32m[1123 12:57:30 @DATSGAN.py:266]\u001b[0m Loading Preprocessor!\n"
     ]
    },
    {
     "name": "stderr",
     "output_type": "stream",
     "text": [
      "\n",
      "|                                                                                          |17/?[00:00<00:00,23.24it/s]"
     ]
    },
    {
     "name": "stdout",
     "output_type": "stream",
     "text": [
      "\u001b[32m[1123 12:57:30 @DATSGAN.py:266]\u001b[0m Loading Preprocessor!\n"
     ]
    },
    {
     "name": "stderr",
     "output_type": "stream",
     "text": [
      "\n",
      "|                                                                                          |17/?[00:00<00:00,23.19it/s]"
     ]
    },
    {
     "name": "stdout",
     "output_type": "stream",
     "text": [
      "\u001b[32m[1123 12:57:31 @DATSGAN.py:266]\u001b[0m Loading Preprocessor!\n"
     ]
    },
    {
     "name": "stderr",
     "output_type": "stream",
     "text": [
      "\n",
      "|                                                                                          |17/?[00:00<00:00,23.51it/s]"
     ]
    },
    {
     "name": "stdout",
     "output_type": "stream",
     "text": [
      "\u001b[32m[1123 12:57:32 @DATSGAN.py:266]\u001b[0m Loading Preprocessor!\n"
     ]
    },
    {
     "name": "stderr",
     "output_type": "stream",
     "text": [
      "\n",
      "|                                                                                          |17/?[00:00<00:00,23.28it/s]\n"
     ]
    },
    {
     "name": "stdout",
     "output_type": "stream",
     "text": [
      "Sampling synthetic data from model \u001b[1mSGAN_WI_01\u001b[0m (11/55)\n",
      "\u001b[32m[1123 12:57:38 @DATSGANModel.py:205]\u001b[0m \u001b[91mCreating cell for age (in-edges: 0; ancestors: 0)\n",
      "\u001b[32m[1123 12:57:38 @DATSGANModel.py:205]\u001b[0m \u001b[91mCreating cell for gender (in-edges: 0; ancestors: 0)\n",
      "\u001b[32m[1123 12:57:38 @DATSGANModel.py:205]\u001b[0m \u001b[91mCreating cell for travel_dow (in-edges: 0; ancestors: 0)\n",
      "\u001b[32m[1123 12:57:38 @DATSGANModel.py:205]\u001b[0m \u001b[91mCreating cell for license (in-edges: 1; ancestors: 1)\n",
      "\u001b[32m[1123 12:57:38 @DATSGANModel.py:205]\u001b[0m \u001b[91mCreating cell for education_level (in-edges: 1; ancestors: 1)\n",
      "\u001b[32m[1123 12:57:39 @DATSGANModel.py:205]\u001b[0m \u001b[91mCreating cell for work_status (in-edges: 2; ancestors: 3)\n",
      "\u001b[32m[1123 12:57:39 @DATSGANModel.py:205]\u001b[0m \u001b[91mCreating cell for hh_income (in-edges: 2; ancestors: 4)\n",
      "\u001b[32m[1123 12:57:39 @DATSGANModel.py:205]\u001b[0m \u001b[91mCreating cell for trip_purpose (in-edges: 1; ancestors: 4)\n",
      "\u001b[32m[1123 12:57:39 @DATSGANModel.py:205]\u001b[0m \u001b[91mCreating cell for hh_descr (in-edges: 2; ancestors: 5)\n",
      "\u001b[32m[1123 12:57:39 @DATSGANModel.py:205]\u001b[0m \u001b[91mCreating cell for hh_size (in-edges: 3; ancestors: 5)\n",
      "\u001b[32m[1123 12:57:39 @DATSGANModel.py:205]\u001b[0m \u001b[91mCreating cell for departure_time (in-edges: 1; ancestors: 5)\n",
      "\u001b[32m[1123 12:57:39 @DATSGANModel.py:205]\u001b[0m \u001b[91mCreating cell for distance (in-edges: 1; ancestors: 5)\n",
      "\u001b[32m[1123 12:57:39 @DATSGANModel.py:205]\u001b[0m \u001b[91mCreating cell for hh_vehicles (in-edges: 2; ancestors: 6)\n",
      "\u001b[32m[1123 12:57:39 @DATSGANModel.py:205]\u001b[0m \u001b[91mCreating cell for hh_bikes (in-edges: 2; ancestors: 6)\n",
      "\u001b[32m[1123 12:57:39 @DATSGANModel.py:205]\u001b[0m \u001b[91mCreating cell for choice (in-edges: 7; ancestors: 13)\n",
      "\u001b[32m[1123 12:57:40 @collection.py:146]\u001b[0m New collections created in tower : tf.GraphKeys.REGULARIZATION_LOSSES\n",
      "\u001b[32m[1123 12:57:40 @collection.py:165]\u001b[0m These collections were modified but restored in : (tf.GraphKeys.SUMMARIES: 0->2)\n",
      "\u001b[32m[1123 12:57:40 @sessinit.py:87]\u001b[0m \u001b[5m\u001b[31mWRN\u001b[0m The following variables are in the checkpoint, but not found in the graph: global_step, optimize/beta1_power, optimize/beta2_power\n",
      "INFO:tensorflow:Graph was finalized.\n",
      "INFO:tensorflow:Running local_init_op.\n",
      "INFO:tensorflow:Done running local_init_op.\n",
      "\u001b[32m[1123 12:57:41 @sessinit.py:114]\u001b[0m Restoring checkpoint from ../output/Chicago/SGAN_WI_01/model\\model-17000 ...\n",
      "INFO:tensorflow:Restoring parameters from ../output/Chicago/SGAN_WI_01/model\\model-17000\n",
      "\u001b[32m[1123 12:57:41 @DATSGAN.py:266]\u001b[0m Loading Preprocessor!\n"
     ]
    },
    {
     "name": "stderr",
     "output_type": "stream",
     "text": [
      "|                                                                                          |17/?[00:00<00:00,17.98it/s]"
     ]
    },
    {
     "name": "stdout",
     "output_type": "stream",
     "text": [
      "\u001b[32m[1123 12:57:42 @DATSGAN.py:266]\u001b[0m Loading Preprocessor!\n"
     ]
    },
    {
     "name": "stderr",
     "output_type": "stream",
     "text": [
      "\n",
      "|                                                                                          |17/?[00:00<00:00,23.70it/s]"
     ]
    },
    {
     "name": "stdout",
     "output_type": "stream",
     "text": [
      "\u001b[32m[1123 12:57:43 @DATSGAN.py:266]\u001b[0m Loading Preprocessor!\n"
     ]
    },
    {
     "name": "stderr",
     "output_type": "stream",
     "text": [
      "\n",
      "|                                                                                          |17/?[00:00<00:00,23.24it/s]"
     ]
    },
    {
     "name": "stdout",
     "output_type": "stream",
     "text": [
      "\u001b[32m[1123 12:57:44 @DATSGAN.py:266]\u001b[0m Loading Preprocessor!\n"
     ]
    },
    {
     "name": "stderr",
     "output_type": "stream",
     "text": [
      "\n",
      "|                                                                                          |17/?[00:00<00:00,23.41it/s]"
     ]
    },
    {
     "name": "stdout",
     "output_type": "stream",
     "text": [
      "\u001b[32m[1123 12:57:44 @DATSGAN.py:266]\u001b[0m Loading Preprocessor!\n"
     ]
    },
    {
     "name": "stderr",
     "output_type": "stream",
     "text": [
      "\n",
      "|                                                                                          |17/?[00:00<00:00,23.33it/s]"
     ]
    },
    {
     "name": "stdout",
     "output_type": "stream",
     "text": [
      "\u001b[32m[1123 12:57:45 @DATSGAN.py:266]\u001b[0m Loading Preprocessor!\n"
     ]
    },
    {
     "name": "stderr",
     "output_type": "stream",
     "text": [
      "\n",
      "|                                                                                          |17/?[00:00<00:00,23.65it/s]"
     ]
    },
    {
     "name": "stdout",
     "output_type": "stream",
     "text": [
      "\u001b[32m[1123 12:57:46 @DATSGAN.py:266]\u001b[0m Loading Preprocessor!\n"
     ]
    },
    {
     "name": "stderr",
     "output_type": "stream",
     "text": [
      "\n",
      "|                                                                                          |17/?[00:00<00:00,23.46it/s]"
     ]
    },
    {
     "name": "stdout",
     "output_type": "stream",
     "text": [
      "\u001b[32m[1123 12:57:47 @DATSGAN.py:266]\u001b[0m Loading Preprocessor!\n"
     ]
    },
    {
     "name": "stderr",
     "output_type": "stream",
     "text": [
      "\n",
      "|                                                                                          |17/?[00:00<00:00,23.80it/s]"
     ]
    },
    {
     "name": "stdout",
     "output_type": "stream",
     "text": [
      "\u001b[32m[1123 12:57:47 @DATSGAN.py:266]\u001b[0m Loading Preprocessor!\n"
     ]
    },
    {
     "name": "stderr",
     "output_type": "stream",
     "text": [
      "\n",
      "|                                                                                          |17/?[00:00<00:00,23.67it/s]"
     ]
    },
    {
     "name": "stdout",
     "output_type": "stream",
     "text": [
      "\u001b[32m[1123 12:57:48 @DATSGAN.py:266]\u001b[0m Loading Preprocessor!\n"
     ]
    },
    {
     "name": "stderr",
     "output_type": "stream",
     "text": [
      "\n",
      "|                                                                                          |17/?[00:00<00:00,23.74it/s]"
     ]
    },
    {
     "name": "stdout",
     "output_type": "stream",
     "text": [
      "\u001b[32m[1123 12:57:49 @DATSGAN.py:266]\u001b[0m Loading Preprocessor!\n"
     ]
    },
    {
     "name": "stderr",
     "output_type": "stream",
     "text": [
      "\n",
      "|                                                                                          |17/?[00:00<00:00,23.58it/s]"
     ]
    },
    {
     "name": "stdout",
     "output_type": "stream",
     "text": [
      "\u001b[32m[1123 12:57:50 @DATSGAN.py:266]\u001b[0m Loading Preprocessor!\n"
     ]
    },
    {
     "name": "stderr",
     "output_type": "stream",
     "text": [
      "\n",
      "|                                                                                          |17/?[00:00<00:00,23.24it/s]"
     ]
    },
    {
     "name": "stdout",
     "output_type": "stream",
     "text": [
      "\u001b[32m[1123 12:57:51 @DATSGAN.py:266]\u001b[0m Loading Preprocessor!\n"
     ]
    },
    {
     "name": "stderr",
     "output_type": "stream",
     "text": [
      "\n",
      "|                                                                                          |17/?[00:00<00:00,23.51it/s]"
     ]
    },
    {
     "name": "stdout",
     "output_type": "stream",
     "text": [
      "\u001b[32m[1123 12:57:51 @DATSGAN.py:266]\u001b[0m Loading Preprocessor!\n"
     ]
    },
    {
     "name": "stderr",
     "output_type": "stream",
     "text": [
      "\n",
      "|                                                                                          |17/?[00:00<00:00,23.57it/s]"
     ]
    },
    {
     "name": "stdout",
     "output_type": "stream",
     "text": [
      "\u001b[32m[1123 12:57:52 @DATSGAN.py:266]\u001b[0m Loading Preprocessor!\n"
     ]
    },
    {
     "name": "stderr",
     "output_type": "stream",
     "text": [
      "\n",
      "|                                                                                          |17/?[00:00<00:00,23.60it/s]\n"
     ]
    },
    {
     "name": "stdout",
     "output_type": "stream",
     "text": [
      "Sampling synthetic data from model \u001b[1mSGAN_WI_02\u001b[0m (12/55)\n",
      "\u001b[32m[1123 12:57:58 @DATSGANModel.py:205]\u001b[0m \u001b[91mCreating cell for age (in-edges: 0; ancestors: 0)\n",
      "\u001b[32m[1123 12:57:58 @DATSGANModel.py:205]\u001b[0m \u001b[91mCreating cell for gender (in-edges: 0; ancestors: 0)\n",
      "\u001b[32m[1123 12:57:58 @DATSGANModel.py:205]\u001b[0m \u001b[91mCreating cell for travel_dow (in-edges: 0; ancestors: 0)\n",
      "\u001b[32m[1123 12:57:58 @DATSGANModel.py:205]\u001b[0m \u001b[91mCreating cell for license (in-edges: 1; ancestors: 1)\n",
      "\u001b[32m[1123 12:57:59 @DATSGANModel.py:205]\u001b[0m \u001b[91mCreating cell for education_level (in-edges: 1; ancestors: 1)\n",
      "\u001b[32m[1123 12:57:59 @DATSGANModel.py:205]\u001b[0m \u001b[91mCreating cell for work_status (in-edges: 2; ancestors: 3)\n",
      "\u001b[32m[1123 12:57:59 @DATSGANModel.py:205]\u001b[0m \u001b[91mCreating cell for hh_income (in-edges: 2; ancestors: 4)\n",
      "\u001b[32m[1123 12:57:59 @DATSGANModel.py:205]\u001b[0m \u001b[91mCreating cell for trip_purpose (in-edges: 1; ancestors: 4)\n",
      "\u001b[32m[1123 12:57:59 @DATSGANModel.py:205]\u001b[0m \u001b[91mCreating cell for hh_descr (in-edges: 2; ancestors: 5)\n",
      "\u001b[32m[1123 12:57:59 @DATSGANModel.py:205]\u001b[0m \u001b[91mCreating cell for hh_size (in-edges: 3; ancestors: 5)\n",
      "\u001b[32m[1123 12:57:59 @DATSGANModel.py:205]\u001b[0m \u001b[91mCreating cell for departure_time (in-edges: 1; ancestors: 5)\n",
      "\u001b[32m[1123 12:57:59 @DATSGANModel.py:205]\u001b[0m \u001b[91mCreating cell for distance (in-edges: 1; ancestors: 5)\n",
      "\u001b[32m[1123 12:57:59 @DATSGANModel.py:205]\u001b[0m \u001b[91mCreating cell for hh_vehicles (in-edges: 2; ancestors: 6)\n",
      "\u001b[32m[1123 12:57:59 @DATSGANModel.py:205]\u001b[0m \u001b[91mCreating cell for hh_bikes (in-edges: 2; ancestors: 6)\n",
      "\u001b[32m[1123 12:57:59 @DATSGANModel.py:205]\u001b[0m \u001b[91mCreating cell for choice (in-edges: 7; ancestors: 13)\n",
      "\u001b[32m[1123 12:58:00 @collection.py:146]\u001b[0m New collections created in tower : tf.GraphKeys.REGULARIZATION_LOSSES\n",
      "\u001b[32m[1123 12:58:00 @collection.py:165]\u001b[0m These collections were modified but restored in : (tf.GraphKeys.SUMMARIES: 0->2)\n",
      "\u001b[32m[1123 12:58:00 @sessinit.py:87]\u001b[0m \u001b[5m\u001b[31mWRN\u001b[0m The following variables are in the checkpoint, but not found in the graph: global_step, optimize/beta1_power, optimize/beta2_power\n",
      "INFO:tensorflow:Graph was finalized.\n",
      "INFO:tensorflow:Running local_init_op.\n",
      "INFO:tensorflow:Done running local_init_op.\n",
      "\u001b[32m[1123 12:58:01 @sessinit.py:114]\u001b[0m Restoring checkpoint from ../output/Chicago/SGAN_WI_02/model\\model-17000 ...\n",
      "INFO:tensorflow:Restoring parameters from ../output/Chicago/SGAN_WI_02/model\\model-17000\n",
      "\u001b[32m[1123 12:58:01 @DATSGAN.py:266]\u001b[0m Loading Preprocessor!\n"
     ]
    },
    {
     "name": "stderr",
     "output_type": "stream",
     "text": [
      "|                                                                                          |17/?[00:00<00:00,17.96it/s]"
     ]
    },
    {
     "name": "stdout",
     "output_type": "stream",
     "text": [
      "\u001b[32m[1123 12:58:02 @DATSGAN.py:266]\u001b[0m Loading Preprocessor!\n"
     ]
    },
    {
     "name": "stderr",
     "output_type": "stream",
     "text": [
      "\n",
      "|                                                                                          |17/?[00:00<00:00,23.54it/s]"
     ]
    },
    {
     "name": "stdout",
     "output_type": "stream",
     "text": [
      "\u001b[32m[1123 12:58:03 @DATSGAN.py:266]\u001b[0m Loading Preprocessor!\n"
     ]
    },
    {
     "name": "stderr",
     "output_type": "stream",
     "text": [
      "\n",
      "|                                                                                          |17/?[00:00<00:00,23.69it/s]"
     ]
    },
    {
     "name": "stdout",
     "output_type": "stream",
     "text": [
      "\u001b[32m[1123 12:58:04 @DATSGAN.py:266]\u001b[0m Loading Preprocessor!\n"
     ]
    },
    {
     "name": "stderr",
     "output_type": "stream",
     "text": [
      "\n",
      "|                                                                                          |17/?[00:00<00:00,23.63it/s]"
     ]
    },
    {
     "name": "stdout",
     "output_type": "stream",
     "text": [
      "\u001b[32m[1123 12:58:04 @DATSGAN.py:266]\u001b[0m Loading Preprocessor!\n"
     ]
    },
    {
     "name": "stderr",
     "output_type": "stream",
     "text": [
      "\n",
      "|                                                                                          |17/?[00:00<00:00,23.62it/s]"
     ]
    },
    {
     "name": "stdout",
     "output_type": "stream",
     "text": [
      "\u001b[32m[1123 12:58:05 @DATSGAN.py:266]\u001b[0m Loading Preprocessor!\n"
     ]
    },
    {
     "name": "stderr",
     "output_type": "stream",
     "text": [
      "\n",
      "|                                                                                          |17/?[00:00<00:00,23.65it/s]"
     ]
    },
    {
     "name": "stdout",
     "output_type": "stream",
     "text": [
      "\u001b[32m[1123 12:58:06 @DATSGAN.py:266]\u001b[0m Loading Preprocessor!\n"
     ]
    },
    {
     "name": "stderr",
     "output_type": "stream",
     "text": [
      "\n",
      "|                                                                                          |17/?[00:00<00:00,23.52it/s]"
     ]
    },
    {
     "name": "stdout",
     "output_type": "stream",
     "text": [
      "\u001b[32m[1123 12:58:07 @DATSGAN.py:266]\u001b[0m Loading Preprocessor!\n"
     ]
    },
    {
     "name": "stderr",
     "output_type": "stream",
     "text": [
      "\n",
      "|                                                                                          |17/?[00:00<00:00,23.37it/s]"
     ]
    },
    {
     "name": "stdout",
     "output_type": "stream",
     "text": [
      "\u001b[32m[1123 12:58:07 @DATSGAN.py:266]\u001b[0m Loading Preprocessor!\n"
     ]
    },
    {
     "name": "stderr",
     "output_type": "stream",
     "text": [
      "\n",
      "|                                                                                          |17/?[00:00<00:00,23.05it/s]"
     ]
    },
    {
     "name": "stdout",
     "output_type": "stream",
     "text": [
      "\u001b[32m[1123 12:58:08 @DATSGAN.py:266]\u001b[0m Loading Preprocessor!\n"
     ]
    },
    {
     "name": "stderr",
     "output_type": "stream",
     "text": [
      "\n",
      "|                                                                                          |17/?[00:00<00:00,23.56it/s]"
     ]
    },
    {
     "name": "stdout",
     "output_type": "stream",
     "text": [
      "\u001b[32m[1123 12:58:09 @DATSGAN.py:266]\u001b[0m Loading Preprocessor!\n"
     ]
    },
    {
     "name": "stderr",
     "output_type": "stream",
     "text": [
      "\n",
      "|                                                                                          |17/?[00:00<00:00,23.52it/s]"
     ]
    },
    {
     "name": "stdout",
     "output_type": "stream",
     "text": [
      "\u001b[32m[1123 12:58:10 @DATSGAN.py:266]\u001b[0m Loading Preprocessor!\n"
     ]
    },
    {
     "name": "stderr",
     "output_type": "stream",
     "text": [
      "\n",
      "|                                                                                          |17/?[00:00<00:00,23.51it/s]"
     ]
    },
    {
     "name": "stdout",
     "output_type": "stream",
     "text": [
      "\u001b[32m[1123 12:58:11 @DATSGAN.py:266]\u001b[0m Loading Preprocessor!\n"
     ]
    },
    {
     "name": "stderr",
     "output_type": "stream",
     "text": [
      "\n",
      "|                                                                                          |17/?[00:00<00:00,23.59it/s]"
     ]
    },
    {
     "name": "stdout",
     "output_type": "stream",
     "text": [
      "\u001b[32m[1123 12:58:11 @DATSGAN.py:266]\u001b[0m Loading Preprocessor!\n"
     ]
    },
    {
     "name": "stderr",
     "output_type": "stream",
     "text": [
      "\n",
      "|                                                                                          |17/?[00:00<00:00,23.70it/s]"
     ]
    },
    {
     "name": "stdout",
     "output_type": "stream",
     "text": [
      "\u001b[32m[1123 12:58:12 @DATSGAN.py:266]\u001b[0m Loading Preprocessor!\n"
     ]
    },
    {
     "name": "stderr",
     "output_type": "stream",
     "text": [
      "\n",
      "|                                                                                          |17/?[00:00<00:00,23.62it/s]\n"
     ]
    },
    {
     "name": "stdout",
     "output_type": "stream",
     "text": [
      "Sampling synthetic data from model \u001b[1mSGAN_WI_03\u001b[0m (13/55)\n",
      "\u001b[32m[1123 12:58:18 @DATSGANModel.py:205]\u001b[0m \u001b[91mCreating cell for age (in-edges: 0; ancestors: 0)\n",
      "\u001b[32m[1123 12:58:18 @DATSGANModel.py:205]\u001b[0m \u001b[91mCreating cell for gender (in-edges: 0; ancestors: 0)\n",
      "\u001b[32m[1123 12:58:18 @DATSGANModel.py:205]\u001b[0m \u001b[91mCreating cell for travel_dow (in-edges: 0; ancestors: 0)\n",
      "\u001b[32m[1123 12:58:19 @DATSGANModel.py:205]\u001b[0m \u001b[91mCreating cell for license (in-edges: 1; ancestors: 1)\n",
      "\u001b[32m[1123 12:58:19 @DATSGANModel.py:205]\u001b[0m \u001b[91mCreating cell for education_level (in-edges: 1; ancestors: 1)\n",
      "\u001b[32m[1123 12:58:19 @DATSGANModel.py:205]\u001b[0m \u001b[91mCreating cell for work_status (in-edges: 2; ancestors: 3)\n",
      "\u001b[32m[1123 12:58:19 @DATSGANModel.py:205]\u001b[0m \u001b[91mCreating cell for hh_income (in-edges: 2; ancestors: 4)\n",
      "\u001b[32m[1123 12:58:19 @DATSGANModel.py:205]\u001b[0m \u001b[91mCreating cell for trip_purpose (in-edges: 1; ancestors: 4)\n",
      "\u001b[32m[1123 12:58:19 @DATSGANModel.py:205]\u001b[0m \u001b[91mCreating cell for hh_descr (in-edges: 2; ancestors: 5)\n",
      "\u001b[32m[1123 12:58:19 @DATSGANModel.py:205]\u001b[0m \u001b[91mCreating cell for hh_size (in-edges: 3; ancestors: 5)\n",
      "\u001b[32m[1123 12:58:19 @DATSGANModel.py:205]\u001b[0m \u001b[91mCreating cell for departure_time (in-edges: 1; ancestors: 5)\n",
      "\u001b[32m[1123 12:58:19 @DATSGANModel.py:205]\u001b[0m \u001b[91mCreating cell for distance (in-edges: 1; ancestors: 5)\n",
      "\u001b[32m[1123 12:58:19 @DATSGANModel.py:205]\u001b[0m \u001b[91mCreating cell for hh_vehicles (in-edges: 2; ancestors: 6)\n",
      "\u001b[32m[1123 12:58:19 @DATSGANModel.py:205]\u001b[0m \u001b[91mCreating cell for hh_bikes (in-edges: 2; ancestors: 6)\n",
      "\u001b[32m[1123 12:58:19 @DATSGANModel.py:205]\u001b[0m \u001b[91mCreating cell for choice (in-edges: 7; ancestors: 13)\n",
      "\u001b[32m[1123 12:58:20 @collection.py:146]\u001b[0m New collections created in tower : tf.GraphKeys.REGULARIZATION_LOSSES\n",
      "\u001b[32m[1123 12:58:20 @collection.py:165]\u001b[0m These collections were modified but restored in : (tf.GraphKeys.SUMMARIES: 0->2)\n",
      "\u001b[32m[1123 12:58:20 @sessinit.py:87]\u001b[0m \u001b[5m\u001b[31mWRN\u001b[0m The following variables are in the checkpoint, but not found in the graph: global_step, optimize/beta1_power, optimize/beta2_power\n",
      "INFO:tensorflow:Graph was finalized.\n",
      "INFO:tensorflow:Running local_init_op.\n",
      "INFO:tensorflow:Done running local_init_op.\n",
      "\u001b[32m[1123 12:58:21 @sessinit.py:114]\u001b[0m Restoring checkpoint from ../output/Chicago/SGAN_WI_03/model\\model-17000 ...\n",
      "INFO:tensorflow:Restoring parameters from ../output/Chicago/SGAN_WI_03/model\\model-17000\n",
      "\u001b[32m[1123 12:58:21 @DATSGAN.py:266]\u001b[0m Loading Preprocessor!\n"
     ]
    },
    {
     "name": "stderr",
     "output_type": "stream",
     "text": [
      "|                                                                                          |17/?[00:00<00:00,18.10it/s]"
     ]
    },
    {
     "name": "stdout",
     "output_type": "stream",
     "text": [
      "\u001b[32m[1123 12:58:22 @DATSGAN.py:266]\u001b[0m Loading Preprocessor!\n"
     ]
    },
    {
     "name": "stderr",
     "output_type": "stream",
     "text": [
      "\n",
      "|                                                                                          |17/?[00:00<00:00,23.89it/s]"
     ]
    },
    {
     "name": "stdout",
     "output_type": "stream",
     "text": [
      "\u001b[32m[1123 12:58:23 @DATSGAN.py:266]\u001b[0m Loading Preprocessor!\n"
     ]
    },
    {
     "name": "stderr",
     "output_type": "stream",
     "text": [
      "\n",
      "|                                                                                          |17/?[00:00<00:00,23.48it/s]"
     ]
    },
    {
     "name": "stdout",
     "output_type": "stream",
     "text": [
      "\u001b[32m[1123 12:58:24 @DATSGAN.py:266]\u001b[0m Loading Preprocessor!\n"
     ]
    },
    {
     "name": "stderr",
     "output_type": "stream",
     "text": [
      "\n",
      "|                                                                                          |17/?[00:00<00:00,23.69it/s]"
     ]
    },
    {
     "name": "stdout",
     "output_type": "stream",
     "text": [
      "\u001b[32m[1123 12:58:24 @DATSGAN.py:266]\u001b[0m Loading Preprocessor!\n"
     ]
    },
    {
     "name": "stderr",
     "output_type": "stream",
     "text": [
      "\n",
      "|                                                                                          |17/?[00:00<00:00,23.69it/s]"
     ]
    },
    {
     "name": "stdout",
     "output_type": "stream",
     "text": [
      "\u001b[32m[1123 12:58:25 @DATSGAN.py:266]\u001b[0m Loading Preprocessor!\n"
     ]
    },
    {
     "name": "stderr",
     "output_type": "stream",
     "text": [
      "\n",
      "|                                                                                          |17/?[00:00<00:00,23.41it/s]"
     ]
    },
    {
     "name": "stdout",
     "output_type": "stream",
     "text": [
      "\u001b[32m[1123 12:58:26 @DATSGAN.py:266]\u001b[0m Loading Preprocessor!\n"
     ]
    },
    {
     "name": "stderr",
     "output_type": "stream",
     "text": [
      "\n",
      "|                                                                                          |17/?[00:00<00:00,23.79it/s]"
     ]
    },
    {
     "name": "stdout",
     "output_type": "stream",
     "text": [
      "\u001b[32m[1123 12:58:27 @DATSGAN.py:266]\u001b[0m Loading Preprocessor!\n"
     ]
    },
    {
     "name": "stderr",
     "output_type": "stream",
     "text": [
      "\n",
      "|                                                                                          |17/?[00:00<00:00,23.79it/s]"
     ]
    },
    {
     "name": "stdout",
     "output_type": "stream",
     "text": [
      "\u001b[32m[1123 12:58:27 @DATSGAN.py:266]\u001b[0m Loading Preprocessor!\n"
     ]
    },
    {
     "name": "stderr",
     "output_type": "stream",
     "text": [
      "\n",
      "|                                                                                          |17/?[00:00<00:00,23.98it/s]"
     ]
    },
    {
     "name": "stdout",
     "output_type": "stream",
     "text": [
      "\u001b[32m[1123 12:58:28 @DATSGAN.py:266]\u001b[0m Loading Preprocessor!\n"
     ]
    },
    {
     "name": "stderr",
     "output_type": "stream",
     "text": [
      "\n",
      "|                                                                                          |17/?[00:00<00:00,23.88it/s]"
     ]
    },
    {
     "name": "stdout",
     "output_type": "stream",
     "text": [
      "\u001b[32m[1123 12:58:29 @DATSGAN.py:266]\u001b[0m Loading Preprocessor!\n"
     ]
    },
    {
     "name": "stderr",
     "output_type": "stream",
     "text": [
      "\n",
      "|                                                                                          |17/?[00:00<00:00,22.99it/s]"
     ]
    },
    {
     "name": "stdout",
     "output_type": "stream",
     "text": [
      "\u001b[32m[1123 12:58:30 @DATSGAN.py:266]\u001b[0m Loading Preprocessor!\n"
     ]
    },
    {
     "name": "stderr",
     "output_type": "stream",
     "text": [
      "\n",
      "|                                                                                          |17/?[00:00<00:00,23.46it/s]"
     ]
    },
    {
     "name": "stdout",
     "output_type": "stream",
     "text": [
      "\u001b[32m[1123 12:58:31 @DATSGAN.py:266]\u001b[0m Loading Preprocessor!\n"
     ]
    },
    {
     "name": "stderr",
     "output_type": "stream",
     "text": [
      "\n",
      "|                                                                                          |17/?[00:00<00:00,23.59it/s]"
     ]
    },
    {
     "name": "stdout",
     "output_type": "stream",
     "text": [
      "\u001b[32m[1123 12:58:31 @DATSGAN.py:266]\u001b[0m Loading Preprocessor!\n"
     ]
    },
    {
     "name": "stderr",
     "output_type": "stream",
     "text": [
      "\n",
      "|                                                                                          |17/?[00:00<00:00,23.31it/s]"
     ]
    },
    {
     "name": "stdout",
     "output_type": "stream",
     "text": [
      "\u001b[32m[1123 12:58:32 @DATSGAN.py:266]\u001b[0m Loading Preprocessor!\n"
     ]
    },
    {
     "name": "stderr",
     "output_type": "stream",
     "text": [
      "\n",
      "|                                                                                          |17/?[00:00<00:00,23.70it/s]\n"
     ]
    },
    {
     "name": "stdout",
     "output_type": "stream",
     "text": [
      "Sampling synthetic data from model \u001b[1mSGAN_WI_04\u001b[0m (14/55)\n",
      "\u001b[32m[1123 12:58:38 @DATSGANModel.py:205]\u001b[0m \u001b[91mCreating cell for age (in-edges: 0; ancestors: 0)\n",
      "\u001b[32m[1123 12:58:38 @DATSGANModel.py:205]\u001b[0m \u001b[91mCreating cell for gender (in-edges: 0; ancestors: 0)\n",
      "\u001b[32m[1123 12:58:39 @DATSGANModel.py:205]\u001b[0m \u001b[91mCreating cell for travel_dow (in-edges: 0; ancestors: 0)\n",
      "\u001b[32m[1123 12:58:39 @DATSGANModel.py:205]\u001b[0m \u001b[91mCreating cell for license (in-edges: 1; ancestors: 1)\n",
      "\u001b[32m[1123 12:58:39 @DATSGANModel.py:205]\u001b[0m \u001b[91mCreating cell for education_level (in-edges: 1; ancestors: 1)\n",
      "\u001b[32m[1123 12:58:39 @DATSGANModel.py:205]\u001b[0m \u001b[91mCreating cell for work_status (in-edges: 2; ancestors: 3)\n",
      "\u001b[32m[1123 12:58:39 @DATSGANModel.py:205]\u001b[0m \u001b[91mCreating cell for hh_income (in-edges: 2; ancestors: 4)\n",
      "\u001b[32m[1123 12:58:39 @DATSGANModel.py:205]\u001b[0m \u001b[91mCreating cell for trip_purpose (in-edges: 1; ancestors: 4)\n",
      "\u001b[32m[1123 12:58:39 @DATSGANModel.py:205]\u001b[0m \u001b[91mCreating cell for hh_descr (in-edges: 2; ancestors: 5)\n",
      "\u001b[32m[1123 12:58:39 @DATSGANModel.py:205]\u001b[0m \u001b[91mCreating cell for hh_size (in-edges: 3; ancestors: 5)\n",
      "\u001b[32m[1123 12:58:39 @DATSGANModel.py:205]\u001b[0m \u001b[91mCreating cell for departure_time (in-edges: 1; ancestors: 5)\n",
      "\u001b[32m[1123 12:58:39 @DATSGANModel.py:205]\u001b[0m \u001b[91mCreating cell for distance (in-edges: 1; ancestors: 5)\n",
      "\u001b[32m[1123 12:58:39 @DATSGANModel.py:205]\u001b[0m \u001b[91mCreating cell for hh_vehicles (in-edges: 2; ancestors: 6)\n",
      "\u001b[32m[1123 12:58:39 @DATSGANModel.py:205]\u001b[0m \u001b[91mCreating cell for hh_bikes (in-edges: 2; ancestors: 6)\n",
      "\u001b[32m[1123 12:58:39 @DATSGANModel.py:205]\u001b[0m \u001b[91mCreating cell for choice (in-edges: 7; ancestors: 13)\n",
      "\u001b[32m[1123 12:58:40 @collection.py:146]\u001b[0m New collections created in tower : tf.GraphKeys.REGULARIZATION_LOSSES\n",
      "\u001b[32m[1123 12:58:40 @collection.py:165]\u001b[0m These collections were modified but restored in : (tf.GraphKeys.SUMMARIES: 0->2)\n",
      "\u001b[32m[1123 12:58:40 @sessinit.py:87]\u001b[0m \u001b[5m\u001b[31mWRN\u001b[0m The following variables are in the checkpoint, but not found in the graph: global_step, optimize/beta1_power, optimize/beta2_power\n",
      "INFO:tensorflow:Graph was finalized.\n",
      "INFO:tensorflow:Running local_init_op.\n",
      "INFO:tensorflow:Done running local_init_op.\n",
      "\u001b[32m[1123 12:58:41 @sessinit.py:114]\u001b[0m Restoring checkpoint from ../output/Chicago/SGAN_WI_04/model\\model-17000 ...\n",
      "INFO:tensorflow:Restoring parameters from ../output/Chicago/SGAN_WI_04/model\\model-17000\n",
      "\u001b[32m[1123 12:58:41 @DATSGAN.py:266]\u001b[0m Loading Preprocessor!\n"
     ]
    },
    {
     "name": "stderr",
     "output_type": "stream",
     "text": [
      "|                                                                                          |17/?[00:00<00:00,17.73it/s]"
     ]
    },
    {
     "name": "stdout",
     "output_type": "stream",
     "text": [
      "\u001b[32m[1123 12:58:42 @DATSGAN.py:266]\u001b[0m Loading Preprocessor!\n"
     ]
    },
    {
     "name": "stderr",
     "output_type": "stream",
     "text": [
      "\n",
      "|                                                                                          |17/?[00:00<00:00,23.79it/s]"
     ]
    },
    {
     "name": "stdout",
     "output_type": "stream",
     "text": [
      "\u001b[32m[1123 12:58:43 @DATSGAN.py:266]\u001b[0m Loading Preprocessor!\n"
     ]
    },
    {
     "name": "stderr",
     "output_type": "stream",
     "text": [
      "\n",
      "|                                                                                          |17/?[00:00<00:00,23.40it/s]"
     ]
    },
    {
     "name": "stdout",
     "output_type": "stream",
     "text": [
      "\u001b[32m[1123 12:58:44 @DATSGAN.py:266]\u001b[0m Loading Preprocessor!\n"
     ]
    },
    {
     "name": "stderr",
     "output_type": "stream",
     "text": [
      "\n",
      "|                                                                                          |17/?[00:00<00:00,23.48it/s]"
     ]
    },
    {
     "name": "stdout",
     "output_type": "stream",
     "text": [
      "\u001b[32m[1123 12:58:44 @DATSGAN.py:266]\u001b[0m Loading Preprocessor!\n"
     ]
    },
    {
     "name": "stderr",
     "output_type": "stream",
     "text": [
      "\n",
      "|                                                                                          |17/?[00:00<00:00,23.35it/s]"
     ]
    },
    {
     "name": "stdout",
     "output_type": "stream",
     "text": [
      "\u001b[32m[1123 12:58:45 @DATSGAN.py:266]\u001b[0m Loading Preprocessor!\n"
     ]
    },
    {
     "name": "stderr",
     "output_type": "stream",
     "text": [
      "\n",
      "|                                                                                          |17/?[00:00<00:00,23.03it/s]"
     ]
    },
    {
     "name": "stdout",
     "output_type": "stream",
     "text": [
      "\u001b[32m[1123 12:58:46 @DATSGAN.py:266]\u001b[0m Loading Preprocessor!\n"
     ]
    },
    {
     "name": "stderr",
     "output_type": "stream",
     "text": [
      "\n",
      "|                                                                                          |17/?[00:00<00:00,23.46it/s]"
     ]
    },
    {
     "name": "stdout",
     "output_type": "stream",
     "text": [
      "\u001b[32m[1123 12:58:47 @DATSGAN.py:266]\u001b[0m Loading Preprocessor!\n"
     ]
    },
    {
     "name": "stderr",
     "output_type": "stream",
     "text": [
      "\n",
      "|                                                                                          |17/?[00:00<00:00,23.65it/s]"
     ]
    },
    {
     "name": "stdout",
     "output_type": "stream",
     "text": [
      "\u001b[32m[1123 12:58:48 @DATSGAN.py:266]\u001b[0m Loading Preprocessor!\n"
     ]
    },
    {
     "name": "stderr",
     "output_type": "stream",
     "text": [
      "\n",
      "|                                                                                          |17/?[00:00<00:00,23.33it/s]"
     ]
    },
    {
     "name": "stdout",
     "output_type": "stream",
     "text": [
      "\u001b[32m[1123 12:58:48 @DATSGAN.py:266]\u001b[0m Loading Preprocessor!\n"
     ]
    },
    {
     "name": "stderr",
     "output_type": "stream",
     "text": [
      "\n",
      "|                                                                                          |17/?[00:00<00:00,23.49it/s]"
     ]
    },
    {
     "name": "stdout",
     "output_type": "stream",
     "text": [
      "\u001b[32m[1123 12:58:49 @DATSGAN.py:266]\u001b[0m Loading Preprocessor!\n"
     ]
    },
    {
     "name": "stderr",
     "output_type": "stream",
     "text": [
      "\n",
      "|                                                                                          |17/?[00:00<00:00,23.10it/s]"
     ]
    },
    {
     "name": "stdout",
     "output_type": "stream",
     "text": [
      "\u001b[32m[1123 12:58:50 @DATSGAN.py:266]\u001b[0m Loading Preprocessor!\n"
     ]
    },
    {
     "name": "stderr",
     "output_type": "stream",
     "text": [
      "\n",
      "|                                                                                          |17/?[00:00<00:00,23.20it/s]"
     ]
    },
    {
     "name": "stdout",
     "output_type": "stream",
     "text": [
      "\u001b[32m[1123 12:58:51 @DATSGAN.py:266]\u001b[0m Loading Preprocessor!\n"
     ]
    },
    {
     "name": "stderr",
     "output_type": "stream",
     "text": [
      "\n",
      "|                                                                                          |17/?[00:00<00:00,23.38it/s]"
     ]
    },
    {
     "name": "stdout",
     "output_type": "stream",
     "text": [
      "\u001b[32m[1123 12:58:51 @DATSGAN.py:266]\u001b[0m Loading Preprocessor!\n"
     ]
    },
    {
     "name": "stderr",
     "output_type": "stream",
     "text": [
      "\n",
      "|                                                                                          |17/?[00:00<00:00,23.53it/s]"
     ]
    },
    {
     "name": "stdout",
     "output_type": "stream",
     "text": [
      "\u001b[32m[1123 12:58:52 @DATSGAN.py:266]\u001b[0m Loading Preprocessor!\n"
     ]
    },
    {
     "name": "stderr",
     "output_type": "stream",
     "text": [
      "\n",
      "|                                                                                          |17/?[00:00<00:00,23.21it/s]\n"
     ]
    },
    {
     "name": "stdout",
     "output_type": "stream",
     "text": [
      "Sampling synthetic data from model \u001b[1mSGAN_WI_05\u001b[0m (15/55)\n",
      "\u001b[32m[1123 12:58:58 @DATSGANModel.py:205]\u001b[0m \u001b[91mCreating cell for age (in-edges: 0; ancestors: 0)\n",
      "\u001b[32m[1123 12:58:59 @DATSGANModel.py:205]\u001b[0m \u001b[91mCreating cell for gender (in-edges: 0; ancestors: 0)\n",
      "\u001b[32m[1123 12:58:59 @DATSGANModel.py:205]\u001b[0m \u001b[91mCreating cell for travel_dow (in-edges: 0; ancestors: 0)\n",
      "\u001b[32m[1123 12:58:59 @DATSGANModel.py:205]\u001b[0m \u001b[91mCreating cell for license (in-edges: 1; ancestors: 1)\n",
      "\u001b[32m[1123 12:58:59 @DATSGANModel.py:205]\u001b[0m \u001b[91mCreating cell for education_level (in-edges: 1; ancestors: 1)\n",
      "\u001b[32m[1123 12:58:59 @DATSGANModel.py:205]\u001b[0m \u001b[91mCreating cell for work_status (in-edges: 2; ancestors: 3)\n",
      "\u001b[32m[1123 12:58:59 @DATSGANModel.py:205]\u001b[0m \u001b[91mCreating cell for hh_income (in-edges: 2; ancestors: 4)\n",
      "\u001b[32m[1123 12:58:59 @DATSGANModel.py:205]\u001b[0m \u001b[91mCreating cell for trip_purpose (in-edges: 1; ancestors: 4)\n",
      "\u001b[32m[1123 12:58:59 @DATSGANModel.py:205]\u001b[0m \u001b[91mCreating cell for hh_descr (in-edges: 2; ancestors: 5)\n",
      "\u001b[32m[1123 12:58:59 @DATSGANModel.py:205]\u001b[0m \u001b[91mCreating cell for hh_size (in-edges: 3; ancestors: 5)\n",
      "\u001b[32m[1123 12:58:59 @DATSGANModel.py:205]\u001b[0m \u001b[91mCreating cell for departure_time (in-edges: 1; ancestors: 5)\n",
      "\u001b[32m[1123 12:58:59 @DATSGANModel.py:205]\u001b[0m \u001b[91mCreating cell for distance (in-edges: 1; ancestors: 5)\n",
      "\u001b[32m[1123 12:58:59 @DATSGANModel.py:205]\u001b[0m \u001b[91mCreating cell for hh_vehicles (in-edges: 2; ancestors: 6)\n",
      "\u001b[32m[1123 12:58:59 @DATSGANModel.py:205]\u001b[0m \u001b[91mCreating cell for hh_bikes (in-edges: 2; ancestors: 6)\n",
      "\u001b[32m[1123 12:59:00 @DATSGANModel.py:205]\u001b[0m \u001b[91mCreating cell for choice (in-edges: 7; ancestors: 13)\n",
      "\u001b[32m[1123 12:59:00 @collection.py:146]\u001b[0m New collections created in tower : tf.GraphKeys.REGULARIZATION_LOSSES\n",
      "\u001b[32m[1123 12:59:00 @collection.py:165]\u001b[0m These collections were modified but restored in : (tf.GraphKeys.SUMMARIES: 0->2)\n",
      "\u001b[32m[1123 12:59:00 @sessinit.py:87]\u001b[0m \u001b[5m\u001b[31mWRN\u001b[0m The following variables are in the checkpoint, but not found in the graph: global_step, optimize/beta1_power, optimize/beta2_power\n",
      "INFO:tensorflow:Graph was finalized.\n",
      "INFO:tensorflow:Running local_init_op.\n",
      "INFO:tensorflow:Done running local_init_op.\n",
      "\u001b[32m[1123 12:59:01 @sessinit.py:114]\u001b[0m Restoring checkpoint from ../output/Chicago/SGAN_WI_05/model\\model-17000 ...\n",
      "INFO:tensorflow:Restoring parameters from ../output/Chicago/SGAN_WI_05/model\\model-17000\n",
      "\u001b[32m[1123 12:59:01 @DATSGAN.py:266]\u001b[0m Loading Preprocessor!\n"
     ]
    },
    {
     "name": "stderr",
     "output_type": "stream",
     "text": [
      "|                                                                                          |17/?[00:00<00:00,17.88it/s]"
     ]
    },
    {
     "name": "stdout",
     "output_type": "stream",
     "text": [
      "\u001b[32m[1123 12:59:02 @DATSGAN.py:266]\u001b[0m Loading Preprocessor!\n"
     ]
    },
    {
     "name": "stderr",
     "output_type": "stream",
     "text": [
      "\n",
      "|                                                                                          |17/?[00:00<00:00,23.45it/s]"
     ]
    },
    {
     "name": "stdout",
     "output_type": "stream",
     "text": [
      "\u001b[32m[1123 12:59:03 @DATSGAN.py:266]\u001b[0m Loading Preprocessor!\n"
     ]
    },
    {
     "name": "stderr",
     "output_type": "stream",
     "text": [
      "\n",
      "|                                                                                          |17/?[00:00<00:00,23.50it/s]"
     ]
    },
    {
     "name": "stdout",
     "output_type": "stream",
     "text": [
      "\u001b[32m[1123 12:59:04 @DATSGAN.py:266]\u001b[0m Loading Preprocessor!\n"
     ]
    },
    {
     "name": "stderr",
     "output_type": "stream",
     "text": [
      "\n",
      "|                                                                                          |17/?[00:00<00:00,23.08it/s]"
     ]
    },
    {
     "name": "stdout",
     "output_type": "stream",
     "text": [
      "\u001b[32m[1123 12:59:05 @DATSGAN.py:266]\u001b[0m Loading Preprocessor!\n"
     ]
    },
    {
     "name": "stderr",
     "output_type": "stream",
     "text": [
      "\n",
      "|                                                                                          |17/?[00:00<00:00,23.52it/s]"
     ]
    },
    {
     "name": "stdout",
     "output_type": "stream",
     "text": [
      "\u001b[32m[1123 12:59:05 @DATSGAN.py:266]\u001b[0m Loading Preprocessor!\n"
     ]
    },
    {
     "name": "stderr",
     "output_type": "stream",
     "text": [
      "\n",
      "|                                                                                          |17/?[00:00<00:00,23.42it/s]"
     ]
    },
    {
     "name": "stdout",
     "output_type": "stream",
     "text": [
      "\u001b[32m[1123 12:59:06 @DATSGAN.py:266]\u001b[0m Loading Preprocessor!\n"
     ]
    },
    {
     "name": "stderr",
     "output_type": "stream",
     "text": [
      "\n",
      "|                                                                                          |17/?[00:00<00:00,22.74it/s]"
     ]
    },
    {
     "name": "stdout",
     "output_type": "stream",
     "text": [
      "\u001b[32m[1123 12:59:07 @DATSGAN.py:266]\u001b[0m Loading Preprocessor!\n"
     ]
    },
    {
     "name": "stderr",
     "output_type": "stream",
     "text": [
      "\n",
      "|                                                                                          |17/?[00:00<00:00,23.11it/s]"
     ]
    },
    {
     "name": "stdout",
     "output_type": "stream",
     "text": [
      "\u001b[32m[1123 12:59:08 @DATSGAN.py:266]\u001b[0m Loading Preprocessor!\n"
     ]
    },
    {
     "name": "stderr",
     "output_type": "stream",
     "text": [
      "\n",
      "|                                                                                          |17/?[00:00<00:00,23.26it/s]"
     ]
    },
    {
     "name": "stdout",
     "output_type": "stream",
     "text": [
      "\u001b[32m[1123 12:59:08 @DATSGAN.py:266]\u001b[0m Loading Preprocessor!\n"
     ]
    },
    {
     "name": "stderr",
     "output_type": "stream",
     "text": [
      "\n",
      "|                                                                                          |17/?[00:00<00:00,23.56it/s]"
     ]
    },
    {
     "name": "stdout",
     "output_type": "stream",
     "text": [
      "\u001b[32m[1123 12:59:09 @DATSGAN.py:266]\u001b[0m Loading Preprocessor!\n"
     ]
    },
    {
     "name": "stderr",
     "output_type": "stream",
     "text": [
      "\n",
      "|                                                                                          |17/?[00:00<00:00,22.94it/s]"
     ]
    },
    {
     "name": "stdout",
     "output_type": "stream",
     "text": [
      "\u001b[32m[1123 12:59:10 @DATSGAN.py:266]\u001b[0m Loading Preprocessor!\n"
     ]
    },
    {
     "name": "stderr",
     "output_type": "stream",
     "text": [
      "\n",
      "|                                                                                          |17/?[00:00<00:00,23.24it/s]"
     ]
    },
    {
     "name": "stdout",
     "output_type": "stream",
     "text": [
      "\u001b[32m[1123 12:59:11 @DATSGAN.py:266]\u001b[0m Loading Preprocessor!\n"
     ]
    },
    {
     "name": "stderr",
     "output_type": "stream",
     "text": [
      "\n",
      "|                                                                                          |17/?[00:00<00:00,23.19it/s]"
     ]
    },
    {
     "name": "stdout",
     "output_type": "stream",
     "text": [
      "\u001b[32m[1123 12:59:12 @DATSGAN.py:266]\u001b[0m Loading Preprocessor!\n"
     ]
    },
    {
     "name": "stderr",
     "output_type": "stream",
     "text": [
      "\n",
      "|                                                                                          |17/?[00:00<00:00,23.67it/s]"
     ]
    },
    {
     "name": "stdout",
     "output_type": "stream",
     "text": [
      "\u001b[32m[1123 12:59:12 @DATSGAN.py:266]\u001b[0m Loading Preprocessor!\n"
     ]
    },
    {
     "name": "stderr",
     "output_type": "stream",
     "text": [
      "\n",
      "|                                                                                          |17/?[00:00<00:00,23.43it/s]\n"
     ]
    },
    {
     "name": "stdout",
     "output_type": "stream",
     "text": [
      "Sampling synthetic data from model \u001b[1mSGAN_WO_01\u001b[0m (16/55)\n",
      "\u001b[32m[1123 12:59:19 @DATSGANModel.py:205]\u001b[0m \u001b[91mCreating cell for age (in-edges: 0; ancestors: 0)\n",
      "\u001b[32m[1123 12:59:19 @DATSGANModel.py:205]\u001b[0m \u001b[91mCreating cell for gender (in-edges: 0; ancestors: 0)\n",
      "\u001b[32m[1123 12:59:19 @DATSGANModel.py:205]\u001b[0m \u001b[91mCreating cell for travel_dow (in-edges: 0; ancestors: 0)\n",
      "\u001b[32m[1123 12:59:19 @DATSGANModel.py:205]\u001b[0m \u001b[91mCreating cell for license (in-edges: 1; ancestors: 1)\n",
      "\u001b[32m[1123 12:59:19 @DATSGANModel.py:205]\u001b[0m \u001b[91mCreating cell for education_level (in-edges: 1; ancestors: 1)\n",
      "\u001b[32m[1123 12:59:19 @DATSGANModel.py:205]\u001b[0m \u001b[91mCreating cell for work_status (in-edges: 2; ancestors: 3)\n",
      "\u001b[32m[1123 12:59:19 @DATSGANModel.py:205]\u001b[0m \u001b[91mCreating cell for hh_income (in-edges: 2; ancestors: 4)\n",
      "\u001b[32m[1123 12:59:19 @DATSGANModel.py:205]\u001b[0m \u001b[91mCreating cell for trip_purpose (in-edges: 1; ancestors: 4)\n",
      "\u001b[32m[1123 12:59:19 @DATSGANModel.py:205]\u001b[0m \u001b[91mCreating cell for hh_descr (in-edges: 2; ancestors: 5)\n",
      "\u001b[32m[1123 12:59:19 @DATSGANModel.py:205]\u001b[0m \u001b[91mCreating cell for hh_size (in-edges: 3; ancestors: 5)\n",
      "\u001b[32m[1123 12:59:19 @DATSGANModel.py:205]\u001b[0m \u001b[91mCreating cell for departure_time (in-edges: 1; ancestors: 5)\n",
      "\u001b[32m[1123 12:59:19 @DATSGANModel.py:205]\u001b[0m \u001b[91mCreating cell for distance (in-edges: 1; ancestors: 5)\n",
      "\u001b[32m[1123 12:59:19 @DATSGANModel.py:205]\u001b[0m \u001b[91mCreating cell for hh_vehicles (in-edges: 2; ancestors: 6)\n",
      "\u001b[32m[1123 12:59:20 @DATSGANModel.py:205]\u001b[0m \u001b[91mCreating cell for hh_bikes (in-edges: 2; ancestors: 6)\n",
      "\u001b[32m[1123 12:59:20 @DATSGANModel.py:205]\u001b[0m \u001b[91mCreating cell for choice (in-edges: 7; ancestors: 13)\n",
      "\u001b[32m[1123 12:59:20 @collection.py:146]\u001b[0m New collections created in tower : tf.GraphKeys.REGULARIZATION_LOSSES\n",
      "\u001b[32m[1123 12:59:20 @collection.py:165]\u001b[0m These collections were modified but restored in : (tf.GraphKeys.SUMMARIES: 0->2)\n",
      "\u001b[32m[1123 12:59:20 @sessinit.py:87]\u001b[0m \u001b[5m\u001b[31mWRN\u001b[0m The following variables are in the checkpoint, but not found in the graph: global_step, optimize/beta1_power, optimize/beta2_power\n",
      "INFO:tensorflow:Graph was finalized.\n",
      "INFO:tensorflow:Running local_init_op.\n",
      "INFO:tensorflow:Done running local_init_op.\n",
      "\u001b[32m[1123 12:59:21 @sessinit.py:114]\u001b[0m Restoring checkpoint from ../output/Chicago/SGAN_WO_01/model\\model-17000 ...\n",
      "INFO:tensorflow:Restoring parameters from ../output/Chicago/SGAN_WO_01/model\\model-17000\n",
      "\u001b[32m[1123 12:59:21 @DATSGAN.py:266]\u001b[0m Loading Preprocessor!\n"
     ]
    },
    {
     "name": "stderr",
     "output_type": "stream",
     "text": [
      "|                                                                                          |17/?[00:00<00:00,17.88it/s]"
     ]
    },
    {
     "name": "stdout",
     "output_type": "stream",
     "text": [
      "\u001b[32m[1123 12:59:22 @DATSGAN.py:266]\u001b[0m Loading Preprocessor!\n"
     ]
    },
    {
     "name": "stderr",
     "output_type": "stream",
     "text": [
      "\n",
      "|                                                                                          |17/?[00:00<00:00,23.38it/s]"
     ]
    },
    {
     "name": "stdout",
     "output_type": "stream",
     "text": [
      "\u001b[32m[1123 12:59:23 @DATSGAN.py:266]\u001b[0m Loading Preprocessor!\n"
     ]
    },
    {
     "name": "stderr",
     "output_type": "stream",
     "text": [
      "\n",
      "|                                                                                          |17/?[00:00<00:00,23.29it/s]"
     ]
    },
    {
     "name": "stdout",
     "output_type": "stream",
     "text": [
      "\u001b[32m[1123 12:59:24 @DATSGAN.py:266]\u001b[0m Loading Preprocessor!\n"
     ]
    },
    {
     "name": "stderr",
     "output_type": "stream",
     "text": [
      "\n",
      "|                                                                                          |17/?[00:00<00:00,23.87it/s]"
     ]
    },
    {
     "name": "stdout",
     "output_type": "stream",
     "text": [
      "\u001b[32m[1123 12:59:25 @DATSGAN.py:266]\u001b[0m Loading Preprocessor!\n"
     ]
    },
    {
     "name": "stderr",
     "output_type": "stream",
     "text": [
      "\n",
      "|                                                                                          |17/?[00:00<00:00,23.77it/s]"
     ]
    },
    {
     "name": "stdout",
     "output_type": "stream",
     "text": [
      "\u001b[32m[1123 12:59:25 @DATSGAN.py:266]\u001b[0m Loading Preprocessor!\n"
     ]
    },
    {
     "name": "stderr",
     "output_type": "stream",
     "text": [
      "\n",
      "|                                                                                          |17/?[00:00<00:00,23.50it/s]"
     ]
    },
    {
     "name": "stdout",
     "output_type": "stream",
     "text": [
      "\u001b[32m[1123 12:59:26 @DATSGAN.py:266]\u001b[0m Loading Preprocessor!\n"
     ]
    },
    {
     "name": "stderr",
     "output_type": "stream",
     "text": [
      "\n",
      "|                                                                                          |17/?[00:00<00:00,23.70it/s]"
     ]
    },
    {
     "name": "stdout",
     "output_type": "stream",
     "text": [
      "\u001b[32m[1123 12:59:27 @DATSGAN.py:266]\u001b[0m Loading Preprocessor!\n"
     ]
    },
    {
     "name": "stderr",
     "output_type": "stream",
     "text": [
      "\n",
      "|                                                                                          |17/?[00:00<00:00,23.88it/s]"
     ]
    },
    {
     "name": "stdout",
     "output_type": "stream",
     "text": [
      "\u001b[32m[1123 12:59:28 @DATSGAN.py:266]\u001b[0m Loading Preprocessor!\n"
     ]
    },
    {
     "name": "stderr",
     "output_type": "stream",
     "text": [
      "\n",
      "|                                                                                          |17/?[00:00<00:00,23.44it/s]"
     ]
    },
    {
     "name": "stdout",
     "output_type": "stream",
     "text": [
      "\u001b[32m[1123 12:59:28 @DATSGAN.py:266]\u001b[0m Loading Preprocessor!\n"
     ]
    },
    {
     "name": "stderr",
     "output_type": "stream",
     "text": [
      "\n",
      "|                                                                                          |17/?[00:00<00:00,23.72it/s]"
     ]
    },
    {
     "name": "stdout",
     "output_type": "stream",
     "text": [
      "\u001b[32m[1123 12:59:29 @DATSGAN.py:266]\u001b[0m Loading Preprocessor!\n"
     ]
    },
    {
     "name": "stderr",
     "output_type": "stream",
     "text": [
      "\n",
      "|                                                                                          |17/?[00:00<00:00,23.43it/s]"
     ]
    },
    {
     "name": "stdout",
     "output_type": "stream",
     "text": [
      "\u001b[32m[1123 12:59:30 @DATSGAN.py:266]\u001b[0m Loading Preprocessor!\n"
     ]
    },
    {
     "name": "stderr",
     "output_type": "stream",
     "text": [
      "\n",
      "|                                                                                          |17/?[00:00<00:00,23.79it/s]"
     ]
    },
    {
     "name": "stdout",
     "output_type": "stream",
     "text": [
      "\u001b[32m[1123 12:59:31 @DATSGAN.py:266]\u001b[0m Loading Preprocessor!\n"
     ]
    },
    {
     "name": "stderr",
     "output_type": "stream",
     "text": [
      "\n",
      "|                                                                                          |17/?[00:00<00:00,23.46it/s]"
     ]
    },
    {
     "name": "stdout",
     "output_type": "stream",
     "text": [
      "\u001b[32m[1123 12:59:32 @DATSGAN.py:266]\u001b[0m Loading Preprocessor!\n"
     ]
    },
    {
     "name": "stderr",
     "output_type": "stream",
     "text": [
      "\n",
      "|                                                                                          |17/?[00:00<00:00,23.28it/s]"
     ]
    },
    {
     "name": "stdout",
     "output_type": "stream",
     "text": [
      "\u001b[32m[1123 12:59:32 @DATSGAN.py:266]\u001b[0m Loading Preprocessor!\n"
     ]
    },
    {
     "name": "stderr",
     "output_type": "stream",
     "text": [
      "\n",
      "|                                                                                          |17/?[00:00<00:00,23.89it/s]\n"
     ]
    },
    {
     "name": "stdout",
     "output_type": "stream",
     "text": [
      "Sampling synthetic data from model \u001b[1mSGAN_WO_02\u001b[0m (17/55)\n",
      "\u001b[32m[1123 12:59:39 @DATSGANModel.py:205]\u001b[0m \u001b[91mCreating cell for age (in-edges: 0; ancestors: 0)\n",
      "\u001b[32m[1123 12:59:39 @DATSGANModel.py:205]\u001b[0m \u001b[91mCreating cell for gender (in-edges: 0; ancestors: 0)\n",
      "\u001b[32m[1123 12:59:39 @DATSGANModel.py:205]\u001b[0m \u001b[91mCreating cell for travel_dow (in-edges: 0; ancestors: 0)\n",
      "\u001b[32m[1123 12:59:39 @DATSGANModel.py:205]\u001b[0m \u001b[91mCreating cell for license (in-edges: 1; ancestors: 1)\n",
      "\u001b[32m[1123 12:59:39 @DATSGANModel.py:205]\u001b[0m \u001b[91mCreating cell for education_level (in-edges: 1; ancestors: 1)\n",
      "\u001b[32m[1123 12:59:39 @DATSGANModel.py:205]\u001b[0m \u001b[91mCreating cell for work_status (in-edges: 2; ancestors: 3)\n",
      "\u001b[32m[1123 12:59:39 @DATSGANModel.py:205]\u001b[0m \u001b[91mCreating cell for hh_income (in-edges: 2; ancestors: 4)\n",
      "\u001b[32m[1123 12:59:39 @DATSGANModel.py:205]\u001b[0m \u001b[91mCreating cell for trip_purpose (in-edges: 1; ancestors: 4)\n",
      "\u001b[32m[1123 12:59:39 @DATSGANModel.py:205]\u001b[0m \u001b[91mCreating cell for hh_descr (in-edges: 2; ancestors: 5)\n",
      "\u001b[32m[1123 12:59:39 @DATSGANModel.py:205]\u001b[0m \u001b[91mCreating cell for hh_size (in-edges: 3; ancestors: 5)\n",
      "\u001b[32m[1123 12:59:39 @DATSGANModel.py:205]\u001b[0m \u001b[91mCreating cell for departure_time (in-edges: 1; ancestors: 5)\n",
      "\u001b[32m[1123 12:59:39 @DATSGANModel.py:205]\u001b[0m \u001b[91mCreating cell for distance (in-edges: 1; ancestors: 5)\n",
      "\u001b[32m[1123 12:59:39 @DATSGANModel.py:205]\u001b[0m \u001b[91mCreating cell for hh_vehicles (in-edges: 2; ancestors: 6)\n",
      "\u001b[32m[1123 12:59:39 @DATSGANModel.py:205]\u001b[0m \u001b[91mCreating cell for hh_bikes (in-edges: 2; ancestors: 6)\n",
      "\u001b[32m[1123 12:59:39 @DATSGANModel.py:205]\u001b[0m \u001b[91mCreating cell for choice (in-edges: 7; ancestors: 13)\n",
      "\u001b[32m[1123 12:59:40 @collection.py:146]\u001b[0m New collections created in tower : tf.GraphKeys.REGULARIZATION_LOSSES\n",
      "\u001b[32m[1123 12:59:40 @collection.py:165]\u001b[0m These collections were modified but restored in : (tf.GraphKeys.SUMMARIES: 0->2)\n",
      "\u001b[32m[1123 12:59:40 @sessinit.py:87]\u001b[0m \u001b[5m\u001b[31mWRN\u001b[0m The following variables are in the checkpoint, but not found in the graph: global_step, optimize/beta1_power, optimize/beta2_power\n",
      "INFO:tensorflow:Graph was finalized.\n",
      "INFO:tensorflow:Running local_init_op.\n",
      "INFO:tensorflow:Done running local_init_op.\n",
      "\u001b[32m[1123 12:59:41 @sessinit.py:114]\u001b[0m Restoring checkpoint from ../output/Chicago/SGAN_WO_02/model\\model-17000 ...\n",
      "INFO:tensorflow:Restoring parameters from ../output/Chicago/SGAN_WO_02/model\\model-17000\n",
      "\u001b[32m[1123 12:59:41 @DATSGAN.py:266]\u001b[0m Loading Preprocessor!\n"
     ]
    },
    {
     "name": "stderr",
     "output_type": "stream",
     "text": [
      "|                                                                                          |17/?[00:00<00:00,17.56it/s]"
     ]
    },
    {
     "name": "stdout",
     "output_type": "stream",
     "text": [
      "\u001b[32m[1123 12:59:42 @DATSGAN.py:266]\u001b[0m Loading Preprocessor!\n"
     ]
    },
    {
     "name": "stderr",
     "output_type": "stream",
     "text": [
      "\n",
      "|                                                                                          |17/?[00:00<00:00,23.56it/s]"
     ]
    },
    {
     "name": "stdout",
     "output_type": "stream",
     "text": [
      "\u001b[32m[1123 12:59:43 @DATSGAN.py:266]\u001b[0m Loading Preprocessor!\n"
     ]
    },
    {
     "name": "stderr",
     "output_type": "stream",
     "text": [
      "\n",
      "|                                                                                          |17/?[00:00<00:00,23.39it/s]"
     ]
    },
    {
     "name": "stdout",
     "output_type": "stream",
     "text": [
      "\u001b[32m[1123 12:59:44 @DATSGAN.py:266]\u001b[0m Loading Preprocessor!\n"
     ]
    },
    {
     "name": "stderr",
     "output_type": "stream",
     "text": [
      "\n",
      "|                                                                                          |17/?[00:00<00:00,23.70it/s]"
     ]
    },
    {
     "name": "stdout",
     "output_type": "stream",
     "text": [
      "\u001b[32m[1123 12:59:44 @DATSGAN.py:266]\u001b[0m Loading Preprocessor!\n"
     ]
    },
    {
     "name": "stderr",
     "output_type": "stream",
     "text": [
      "\n",
      "|                                                                                          |17/?[00:00<00:00,23.42it/s]"
     ]
    },
    {
     "name": "stdout",
     "output_type": "stream",
     "text": [
      "\u001b[32m[1123 12:59:45 @DATSGAN.py:266]\u001b[0m Loading Preprocessor!\n"
     ]
    },
    {
     "name": "stderr",
     "output_type": "stream",
     "text": [
      "\n",
      "|                                                                                          |17/?[00:00<00:00,23.30it/s]"
     ]
    },
    {
     "name": "stdout",
     "output_type": "stream",
     "text": [
      "\u001b[32m[1123 12:59:46 @DATSGAN.py:266]\u001b[0m Loading Preprocessor!\n"
     ]
    },
    {
     "name": "stderr",
     "output_type": "stream",
     "text": [
      "\n",
      "|                                                                                          |17/?[00:00<00:00,22.96it/s]"
     ]
    },
    {
     "name": "stdout",
     "output_type": "stream",
     "text": [
      "\u001b[32m[1123 12:59:47 @DATSGAN.py:266]\u001b[0m Loading Preprocessor!\n"
     ]
    },
    {
     "name": "stderr",
     "output_type": "stream",
     "text": [
      "\n",
      "|                                                                                          |17/?[00:00<00:00,23.64it/s]"
     ]
    },
    {
     "name": "stdout",
     "output_type": "stream",
     "text": [
      "\u001b[32m[1123 12:59:48 @DATSGAN.py:266]\u001b[0m Loading Preprocessor!\n"
     ]
    },
    {
     "name": "stderr",
     "output_type": "stream",
     "text": [
      "\n",
      "|                                                                                          |17/?[00:00<00:00,22.93it/s]"
     ]
    },
    {
     "name": "stdout",
     "output_type": "stream",
     "text": [
      "\u001b[32m[1123 12:59:48 @DATSGAN.py:266]\u001b[0m Loading Preprocessor!\n"
     ]
    },
    {
     "name": "stderr",
     "output_type": "stream",
     "text": [
      "\n",
      "|                                                                                          |17/?[00:00<00:00,23.65it/s]"
     ]
    },
    {
     "name": "stdout",
     "output_type": "stream",
     "text": [
      "\u001b[32m[1123 12:59:49 @DATSGAN.py:266]\u001b[0m Loading Preprocessor!\n"
     ]
    },
    {
     "name": "stderr",
     "output_type": "stream",
     "text": [
      "\n",
      "|                                                                                          |17/?[00:00<00:00,23.25it/s]"
     ]
    },
    {
     "name": "stdout",
     "output_type": "stream",
     "text": [
      "\u001b[32m[1123 12:59:50 @DATSGAN.py:266]\u001b[0m Loading Preprocessor!\n"
     ]
    },
    {
     "name": "stderr",
     "output_type": "stream",
     "text": [
      "\n",
      "|                                                                                          |17/?[00:00<00:00,23.28it/s]"
     ]
    },
    {
     "name": "stdout",
     "output_type": "stream",
     "text": [
      "\u001b[32m[1123 12:59:51 @DATSGAN.py:266]\u001b[0m Loading Preprocessor!\n"
     ]
    },
    {
     "name": "stderr",
     "output_type": "stream",
     "text": [
      "\n",
      "|                                                                                          |17/?[00:00<00:00,23.65it/s]"
     ]
    },
    {
     "name": "stdout",
     "output_type": "stream",
     "text": [
      "\u001b[32m[1123 12:59:52 @DATSGAN.py:266]\u001b[0m Loading Preprocessor!\n"
     ]
    },
    {
     "name": "stderr",
     "output_type": "stream",
     "text": [
      "\n",
      "|                                                                                          |17/?[00:00<00:00,23.57it/s]"
     ]
    },
    {
     "name": "stdout",
     "output_type": "stream",
     "text": [
      "\u001b[32m[1123 12:59:52 @DATSGAN.py:266]\u001b[0m Loading Preprocessor!\n"
     ]
    },
    {
     "name": "stderr",
     "output_type": "stream",
     "text": [
      "\n",
      "|                                                                                          |17/?[00:00<00:00,23.58it/s]\n"
     ]
    },
    {
     "name": "stdout",
     "output_type": "stream",
     "text": [
      "Sampling synthetic data from model \u001b[1mSGAN_WO_03\u001b[0m (18/55)\n",
      "\u001b[32m[1123 12:59:59 @DATSGANModel.py:205]\u001b[0m \u001b[91mCreating cell for age (in-edges: 0; ancestors: 0)\n",
      "\u001b[32m[1123 12:59:59 @DATSGANModel.py:205]\u001b[0m \u001b[91mCreating cell for gender (in-edges: 0; ancestors: 0)\n",
      "\u001b[32m[1123 12:59:59 @DATSGANModel.py:205]\u001b[0m \u001b[91mCreating cell for travel_dow (in-edges: 0; ancestors: 0)\n",
      "\u001b[32m[1123 12:59:59 @DATSGANModel.py:205]\u001b[0m \u001b[91mCreating cell for license (in-edges: 1; ancestors: 1)\n",
      "\u001b[32m[1123 12:59:59 @DATSGANModel.py:205]\u001b[0m \u001b[91mCreating cell for education_level (in-edges: 1; ancestors: 1)\n",
      "\u001b[32m[1123 12:59:59 @DATSGANModel.py:205]\u001b[0m \u001b[91mCreating cell for work_status (in-edges: 2; ancestors: 3)\n",
      "\u001b[32m[1123 12:59:59 @DATSGANModel.py:205]\u001b[0m \u001b[91mCreating cell for hh_income (in-edges: 2; ancestors: 4)\n",
      "\u001b[32m[1123 12:59:59 @DATSGANModel.py:205]\u001b[0m \u001b[91mCreating cell for trip_purpose (in-edges: 1; ancestors: 4)\n",
      "\u001b[32m[1123 12:59:59 @DATSGANModel.py:205]\u001b[0m \u001b[91mCreating cell for hh_descr (in-edges: 2; ancestors: 5)\n",
      "\u001b[32m[1123 12:59:59 @DATSGANModel.py:205]\u001b[0m \u001b[91mCreating cell for hh_size (in-edges: 3; ancestors: 5)\n",
      "\u001b[32m[1123 12:59:59 @DATSGANModel.py:205]\u001b[0m \u001b[91mCreating cell for departure_time (in-edges: 1; ancestors: 5)\n",
      "\u001b[32m[1123 12:59:59 @DATSGANModel.py:205]\u001b[0m \u001b[91mCreating cell for distance (in-edges: 1; ancestors: 5)\n",
      "\u001b[32m[1123 12:59:59 @DATSGANModel.py:205]\u001b[0m \u001b[91mCreating cell for hh_vehicles (in-edges: 2; ancestors: 6)\n",
      "\u001b[32m[1123 12:59:59 @DATSGANModel.py:205]\u001b[0m \u001b[91mCreating cell for hh_bikes (in-edges: 2; ancestors: 6)\n",
      "\u001b[32m[1123 13:00:00 @DATSGANModel.py:205]\u001b[0m \u001b[91mCreating cell for choice (in-edges: 7; ancestors: 13)\n",
      "\u001b[32m[1123 13:00:00 @collection.py:146]\u001b[0m New collections created in tower : tf.GraphKeys.REGULARIZATION_LOSSES\n",
      "\u001b[32m[1123 13:00:00 @collection.py:165]\u001b[0m These collections were modified but restored in : (tf.GraphKeys.SUMMARIES: 0->2)\n",
      "\u001b[32m[1123 13:00:00 @sessinit.py:87]\u001b[0m \u001b[5m\u001b[31mWRN\u001b[0m The following variables are in the checkpoint, but not found in the graph: global_step, optimize/beta1_power, optimize/beta2_power\n",
      "INFO:tensorflow:Graph was finalized.\n",
      "INFO:tensorflow:Running local_init_op.\n",
      "INFO:tensorflow:Done running local_init_op.\n",
      "\u001b[32m[1123 13:00:01 @sessinit.py:114]\u001b[0m Restoring checkpoint from ../output/Chicago/SGAN_WO_03/model\\model-17000 ...\n",
      "INFO:tensorflow:Restoring parameters from ../output/Chicago/SGAN_WO_03/model\\model-17000\n",
      "\u001b[32m[1123 13:00:01 @DATSGAN.py:266]\u001b[0m Loading Preprocessor!\n"
     ]
    },
    {
     "name": "stderr",
     "output_type": "stream",
     "text": [
      "|                                                                                          |17/?[00:00<00:00,17.85it/s]"
     ]
    },
    {
     "name": "stdout",
     "output_type": "stream",
     "text": [
      "\u001b[32m[1123 13:00:02 @DATSGAN.py:266]\u001b[0m Loading Preprocessor!\n"
     ]
    },
    {
     "name": "stderr",
     "output_type": "stream",
     "text": [
      "\n",
      "|                                                                                          |17/?[00:00<00:00,23.80it/s]"
     ]
    },
    {
     "name": "stdout",
     "output_type": "stream",
     "text": [
      "\u001b[32m[1123 13:00:03 @DATSGAN.py:266]\u001b[0m Loading Preprocessor!\n"
     ]
    },
    {
     "name": "stderr",
     "output_type": "stream",
     "text": [
      "\n",
      "|                                                                                          |17/?[00:00<00:00,23.45it/s]"
     ]
    },
    {
     "name": "stdout",
     "output_type": "stream",
     "text": [
      "\u001b[32m[1123 13:00:04 @DATSGAN.py:266]\u001b[0m Loading Preprocessor!\n"
     ]
    },
    {
     "name": "stderr",
     "output_type": "stream",
     "text": [
      "\n",
      "|                                                                                          |17/?[00:00<00:00,23.79it/s]"
     ]
    },
    {
     "name": "stdout",
     "output_type": "stream",
     "text": [
      "\u001b[32m[1123 13:00:04 @DATSGAN.py:266]\u001b[0m Loading Preprocessor!\n"
     ]
    },
    {
     "name": "stderr",
     "output_type": "stream",
     "text": [
      "\n",
      "|                                                                                          |17/?[00:00<00:00,23.69it/s]"
     ]
    },
    {
     "name": "stdout",
     "output_type": "stream",
     "text": [
      "\u001b[32m[1123 13:00:05 @DATSGAN.py:266]\u001b[0m Loading Preprocessor!\n"
     ]
    },
    {
     "name": "stderr",
     "output_type": "stream",
     "text": [
      "\n",
      "|                                                                                          |17/?[00:00<00:00,24.00it/s]"
     ]
    },
    {
     "name": "stdout",
     "output_type": "stream",
     "text": [
      "\u001b[32m[1123 13:00:06 @DATSGAN.py:266]\u001b[0m Loading Preprocessor!\n"
     ]
    },
    {
     "name": "stderr",
     "output_type": "stream",
     "text": [
      "\n",
      "|                                                                                          |17/?[00:00<00:00,23.20it/s]"
     ]
    },
    {
     "name": "stdout",
     "output_type": "stream",
     "text": [
      "\u001b[32m[1123 13:00:07 @DATSGAN.py:266]\u001b[0m Loading Preprocessor!\n"
     ]
    },
    {
     "name": "stderr",
     "output_type": "stream",
     "text": [
      "\n",
      "|                                                                                          |17/?[00:00<00:00,23.73it/s]"
     ]
    },
    {
     "name": "stdout",
     "output_type": "stream",
     "text": [
      "\u001b[32m[1123 13:00:08 @DATSGAN.py:266]\u001b[0m Loading Preprocessor!\n"
     ]
    },
    {
     "name": "stderr",
     "output_type": "stream",
     "text": [
      "\n",
      "|                                                                                          |17/?[00:00<00:00,23.65it/s]"
     ]
    },
    {
     "name": "stdout",
     "output_type": "stream",
     "text": [
      "\u001b[32m[1123 13:00:08 @DATSGAN.py:266]\u001b[0m Loading Preprocessor!\n"
     ]
    },
    {
     "name": "stderr",
     "output_type": "stream",
     "text": [
      "\n",
      "|                                                                                          |17/?[00:00<00:00,23.79it/s]"
     ]
    },
    {
     "name": "stdout",
     "output_type": "stream",
     "text": [
      "\u001b[32m[1123 13:00:09 @DATSGAN.py:266]\u001b[0m Loading Preprocessor!\n"
     ]
    },
    {
     "name": "stderr",
     "output_type": "stream",
     "text": [
      "\n",
      "|                                                                                          |17/?[00:00<00:00,23.98it/s]"
     ]
    },
    {
     "name": "stdout",
     "output_type": "stream",
     "text": [
      "\u001b[32m[1123 13:00:10 @DATSGAN.py:266]\u001b[0m Loading Preprocessor!\n"
     ]
    },
    {
     "name": "stderr",
     "output_type": "stream",
     "text": [
      "\n",
      "|                                                                                          |17/?[00:00<00:00,23.80it/s]"
     ]
    },
    {
     "name": "stdout",
     "output_type": "stream",
     "text": [
      "\u001b[32m[1123 13:00:11 @DATSGAN.py:266]\u001b[0m Loading Preprocessor!\n"
     ]
    },
    {
     "name": "stderr",
     "output_type": "stream",
     "text": [
      "\n",
      "|                                                                                          |17/?[00:00<00:00,23.49it/s]"
     ]
    },
    {
     "name": "stdout",
     "output_type": "stream",
     "text": [
      "\u001b[32m[1123 13:00:11 @DATSGAN.py:266]\u001b[0m Loading Preprocessor!\n"
     ]
    },
    {
     "name": "stderr",
     "output_type": "stream",
     "text": [
      "\n",
      "|                                                                                          |17/?[00:00<00:00,23.44it/s]"
     ]
    },
    {
     "name": "stdout",
     "output_type": "stream",
     "text": [
      "\u001b[32m[1123 13:00:12 @DATSGAN.py:266]\u001b[0m Loading Preprocessor!\n"
     ]
    },
    {
     "name": "stderr",
     "output_type": "stream",
     "text": [
      "\n",
      "|                                                                                          |17/?[00:00<00:00,23.95it/s]\n"
     ]
    },
    {
     "name": "stdout",
     "output_type": "stream",
     "text": [
      "Sampling synthetic data from model \u001b[1mSGAN_WO_04\u001b[0m (19/55)\n",
      "\u001b[32m[1123 13:00:18 @DATSGANModel.py:205]\u001b[0m \u001b[91mCreating cell for age (in-edges: 0; ancestors: 0)\n",
      "\u001b[32m[1123 13:00:18 @DATSGANModel.py:205]\u001b[0m \u001b[91mCreating cell for gender (in-edges: 0; ancestors: 0)\n",
      "\u001b[32m[1123 13:00:19 @DATSGANModel.py:205]\u001b[0m \u001b[91mCreating cell for travel_dow (in-edges: 0; ancestors: 0)\n",
      "\u001b[32m[1123 13:00:19 @DATSGANModel.py:205]\u001b[0m \u001b[91mCreating cell for license (in-edges: 1; ancestors: 1)\n",
      "\u001b[32m[1123 13:00:19 @DATSGANModel.py:205]\u001b[0m \u001b[91mCreating cell for education_level (in-edges: 1; ancestors: 1)\n",
      "\u001b[32m[1123 13:00:19 @DATSGANModel.py:205]\u001b[0m \u001b[91mCreating cell for work_status (in-edges: 2; ancestors: 3)\n",
      "\u001b[32m[1123 13:00:19 @DATSGANModel.py:205]\u001b[0m \u001b[91mCreating cell for hh_income (in-edges: 2; ancestors: 4)\n",
      "\u001b[32m[1123 13:00:19 @DATSGANModel.py:205]\u001b[0m \u001b[91mCreating cell for trip_purpose (in-edges: 1; ancestors: 4)\n",
      "\u001b[32m[1123 13:00:19 @DATSGANModel.py:205]\u001b[0m \u001b[91mCreating cell for hh_descr (in-edges: 2; ancestors: 5)\n",
      "\u001b[32m[1123 13:00:19 @DATSGANModel.py:205]\u001b[0m \u001b[91mCreating cell for hh_size (in-edges: 3; ancestors: 5)\n",
      "\u001b[32m[1123 13:00:19 @DATSGANModel.py:205]\u001b[0m \u001b[91mCreating cell for departure_time (in-edges: 1; ancestors: 5)\n",
      "\u001b[32m[1123 13:00:19 @DATSGANModel.py:205]\u001b[0m \u001b[91mCreating cell for distance (in-edges: 1; ancestors: 5)\n",
      "\u001b[32m[1123 13:00:19 @DATSGANModel.py:205]\u001b[0m \u001b[91mCreating cell for hh_vehicles (in-edges: 2; ancestors: 6)\n",
      "\u001b[32m[1123 13:00:19 @DATSGANModel.py:205]\u001b[0m \u001b[91mCreating cell for hh_bikes (in-edges: 2; ancestors: 6)\n",
      "\u001b[32m[1123 13:00:19 @DATSGANModel.py:205]\u001b[0m \u001b[91mCreating cell for choice (in-edges: 7; ancestors: 13)\n",
      "\u001b[32m[1123 13:00:20 @collection.py:146]\u001b[0m New collections created in tower : tf.GraphKeys.REGULARIZATION_LOSSES\n",
      "\u001b[32m[1123 13:00:20 @collection.py:165]\u001b[0m These collections were modified but restored in : (tf.GraphKeys.SUMMARIES: 0->2)\n",
      "\u001b[32m[1123 13:00:20 @sessinit.py:87]\u001b[0m \u001b[5m\u001b[31mWRN\u001b[0m The following variables are in the checkpoint, but not found in the graph: global_step, optimize/beta1_power, optimize/beta2_power\n",
      "INFO:tensorflow:Graph was finalized.\n",
      "INFO:tensorflow:Running local_init_op.\n",
      "INFO:tensorflow:Done running local_init_op.\n",
      "\u001b[32m[1123 13:00:21 @sessinit.py:114]\u001b[0m Restoring checkpoint from ../output/Chicago/SGAN_WO_04/model\\model-17000 ...\n",
      "INFO:tensorflow:Restoring parameters from ../output/Chicago/SGAN_WO_04/model\\model-17000\n",
      "\u001b[32m[1123 13:00:21 @DATSGAN.py:266]\u001b[0m Loading Preprocessor!\n"
     ]
    },
    {
     "name": "stderr",
     "output_type": "stream",
     "text": [
      "|                                                                                          |17/?[00:00<00:00,18.15it/s]"
     ]
    },
    {
     "name": "stdout",
     "output_type": "stream",
     "text": [
      "\u001b[32m[1123 13:00:22 @DATSGAN.py:266]\u001b[0m Loading Preprocessor!\n"
     ]
    },
    {
     "name": "stderr",
     "output_type": "stream",
     "text": [
      "\n",
      "|                                                                                          |17/?[00:00<00:00,23.83it/s]"
     ]
    },
    {
     "name": "stdout",
     "output_type": "stream",
     "text": [
      "\u001b[32m[1123 13:00:23 @DATSGAN.py:266]\u001b[0m Loading Preprocessor!\n"
     ]
    },
    {
     "name": "stderr",
     "output_type": "stream",
     "text": [
      "\n",
      "|                                                                                          |17/?[00:00<00:00,24.00it/s]"
     ]
    },
    {
     "name": "stdout",
     "output_type": "stream",
     "text": [
      "\u001b[32m[1123 13:00:23 @DATSGAN.py:266]\u001b[0m Loading Preprocessor!\n"
     ]
    },
    {
     "name": "stderr",
     "output_type": "stream",
     "text": [
      "\n",
      "|                                                                                          |17/?[00:00<00:00,24.02it/s]"
     ]
    },
    {
     "name": "stdout",
     "output_type": "stream",
     "text": [
      "\u001b[32m[1123 13:00:24 @DATSGAN.py:266]\u001b[0m Loading Preprocessor!\n"
     ]
    },
    {
     "name": "stderr",
     "output_type": "stream",
     "text": [
      "\n",
      "|                                                                                          |17/?[00:00<00:00,23.88it/s]"
     ]
    },
    {
     "name": "stdout",
     "output_type": "stream",
     "text": [
      "\u001b[32m[1123 13:00:25 @DATSGAN.py:266]\u001b[0m Loading Preprocessor!\n"
     ]
    },
    {
     "name": "stderr",
     "output_type": "stream",
     "text": [
      "\n",
      "|                                                                                          |17/?[00:00<00:00,24.20it/s]"
     ]
    },
    {
     "name": "stdout",
     "output_type": "stream",
     "text": [
      "\u001b[32m[1123 13:00:26 @DATSGAN.py:266]\u001b[0m Loading Preprocessor!\n"
     ]
    },
    {
     "name": "stderr",
     "output_type": "stream",
     "text": [
      "\n",
      "|                                                                                          |17/?[00:00<00:00,23.67it/s]"
     ]
    },
    {
     "name": "stdout",
     "output_type": "stream",
     "text": [
      "\u001b[32m[1123 13:00:27 @DATSGAN.py:266]\u001b[0m Loading Preprocessor!\n"
     ]
    },
    {
     "name": "stderr",
     "output_type": "stream",
     "text": [
      "\n",
      "|                                                                                          |17/?[00:00<00:00,23.69it/s]"
     ]
    },
    {
     "name": "stdout",
     "output_type": "stream",
     "text": [
      "\u001b[32m[1123 13:00:27 @DATSGAN.py:266]\u001b[0m Loading Preprocessor!\n"
     ]
    },
    {
     "name": "stderr",
     "output_type": "stream",
     "text": [
      "\n",
      "|                                                                                          |17/?[00:00<00:00,23.60it/s]"
     ]
    },
    {
     "name": "stdout",
     "output_type": "stream",
     "text": [
      "\u001b[32m[1123 13:00:28 @DATSGAN.py:266]\u001b[0m Loading Preprocessor!\n"
     ]
    },
    {
     "name": "stderr",
     "output_type": "stream",
     "text": [
      "\n",
      "|                                                                                          |17/?[00:00<00:00,23.62it/s]"
     ]
    },
    {
     "name": "stdout",
     "output_type": "stream",
     "text": [
      "\u001b[32m[1123 13:00:29 @DATSGAN.py:266]\u001b[0m Loading Preprocessor!\n"
     ]
    },
    {
     "name": "stderr",
     "output_type": "stream",
     "text": [
      "\n",
      "|                                                                                          |17/?[00:00<00:00,23.95it/s]"
     ]
    },
    {
     "name": "stdout",
     "output_type": "stream",
     "text": [
      "\u001b[32m[1123 13:00:30 @DATSGAN.py:266]\u001b[0m Loading Preprocessor!\n"
     ]
    },
    {
     "name": "stderr",
     "output_type": "stream",
     "text": [
      "\n",
      "|                                                                                          |17/?[00:00<00:00,24.08it/s]"
     ]
    },
    {
     "name": "stdout",
     "output_type": "stream",
     "text": [
      "\u001b[32m[1123 13:00:30 @DATSGAN.py:266]\u001b[0m Loading Preprocessor!\n"
     ]
    },
    {
     "name": "stderr",
     "output_type": "stream",
     "text": [
      "\n",
      "|                                                                                          |17/?[00:00<00:00,23.94it/s]"
     ]
    },
    {
     "name": "stdout",
     "output_type": "stream",
     "text": [
      "\u001b[32m[1123 13:00:31 @DATSGAN.py:266]\u001b[0m Loading Preprocessor!\n"
     ]
    },
    {
     "name": "stderr",
     "output_type": "stream",
     "text": [
      "\n",
      "|                                                                                          |17/?[00:00<00:00,23.59it/s]"
     ]
    },
    {
     "name": "stdout",
     "output_type": "stream",
     "text": [
      "\u001b[32m[1123 13:00:32 @DATSGAN.py:266]\u001b[0m Loading Preprocessor!\n"
     ]
    },
    {
     "name": "stderr",
     "output_type": "stream",
     "text": [
      "\n",
      "|                                                                                          |17/?[00:00<00:00,24.07it/s]\n"
     ]
    },
    {
     "name": "stdout",
     "output_type": "stream",
     "text": [
      "Sampling synthetic data from model \u001b[1mSGAN_WO_05\u001b[0m (20/55)\n",
      "\u001b[32m[1123 13:00:38 @DATSGANModel.py:205]\u001b[0m \u001b[91mCreating cell for age (in-edges: 0; ancestors: 0)\n",
      "\u001b[32m[1123 13:00:38 @DATSGANModel.py:205]\u001b[0m \u001b[91mCreating cell for gender (in-edges: 0; ancestors: 0)\n",
      "\u001b[32m[1123 13:00:38 @DATSGANModel.py:205]\u001b[0m \u001b[91mCreating cell for travel_dow (in-edges: 0; ancestors: 0)\n",
      "\u001b[32m[1123 13:00:38 @DATSGANModel.py:205]\u001b[0m \u001b[91mCreating cell for license (in-edges: 1; ancestors: 1)\n",
      "\u001b[32m[1123 13:00:38 @DATSGANModel.py:205]\u001b[0m \u001b[91mCreating cell for education_level (in-edges: 1; ancestors: 1)\n",
      "\u001b[32m[1123 13:00:38 @DATSGANModel.py:205]\u001b[0m \u001b[91mCreating cell for work_status (in-edges: 2; ancestors: 3)\n",
      "\u001b[32m[1123 13:00:39 @DATSGANModel.py:205]\u001b[0m \u001b[91mCreating cell for hh_income (in-edges: 2; ancestors: 4)\n",
      "\u001b[32m[1123 13:00:39 @DATSGANModel.py:205]\u001b[0m \u001b[91mCreating cell for trip_purpose (in-edges: 1; ancestors: 4)\n",
      "\u001b[32m[1123 13:00:39 @DATSGANModel.py:205]\u001b[0m \u001b[91mCreating cell for hh_descr (in-edges: 2; ancestors: 5)\n",
      "\u001b[32m[1123 13:00:39 @DATSGANModel.py:205]\u001b[0m \u001b[91mCreating cell for hh_size (in-edges: 3; ancestors: 5)\n",
      "\u001b[32m[1123 13:00:39 @DATSGANModel.py:205]\u001b[0m \u001b[91mCreating cell for departure_time (in-edges: 1; ancestors: 5)\n",
      "\u001b[32m[1123 13:00:39 @DATSGANModel.py:205]\u001b[0m \u001b[91mCreating cell for distance (in-edges: 1; ancestors: 5)\n",
      "\u001b[32m[1123 13:00:39 @DATSGANModel.py:205]\u001b[0m \u001b[91mCreating cell for hh_vehicles (in-edges: 2; ancestors: 6)\n",
      "\u001b[32m[1123 13:00:39 @DATSGANModel.py:205]\u001b[0m \u001b[91mCreating cell for hh_bikes (in-edges: 2; ancestors: 6)\n",
      "\u001b[32m[1123 13:00:39 @DATSGANModel.py:205]\u001b[0m \u001b[91mCreating cell for choice (in-edges: 7; ancestors: 13)\n",
      "\u001b[32m[1123 13:00:40 @collection.py:146]\u001b[0m New collections created in tower : tf.GraphKeys.REGULARIZATION_LOSSES\n",
      "\u001b[32m[1123 13:00:40 @collection.py:165]\u001b[0m These collections were modified but restored in : (tf.GraphKeys.SUMMARIES: 0->2)\n",
      "\u001b[32m[1123 13:00:40 @sessinit.py:87]\u001b[0m \u001b[5m\u001b[31mWRN\u001b[0m The following variables are in the checkpoint, but not found in the graph: global_step, optimize/beta1_power, optimize/beta2_power\n",
      "INFO:tensorflow:Graph was finalized.\n",
      "INFO:tensorflow:Running local_init_op.\n",
      "INFO:tensorflow:Done running local_init_op.\n",
      "\u001b[32m[1123 13:00:40 @sessinit.py:114]\u001b[0m Restoring checkpoint from ../output/Chicago/SGAN_WO_05/model\\model-17000 ...\n",
      "INFO:tensorflow:Restoring parameters from ../output/Chicago/SGAN_WO_05/model\\model-17000\n",
      "\u001b[32m[1123 13:00:41 @DATSGAN.py:266]\u001b[0m Loading Preprocessor!\n"
     ]
    },
    {
     "name": "stderr",
     "output_type": "stream",
     "text": [
      "|                                                                                          |17/?[00:00<00:00,18.21it/s]"
     ]
    },
    {
     "name": "stdout",
     "output_type": "stream",
     "text": [
      "\u001b[32m[1123 13:00:42 @DATSGAN.py:266]\u001b[0m Loading Preprocessor!\n"
     ]
    },
    {
     "name": "stderr",
     "output_type": "stream",
     "text": [
      "\n",
      "|                                                                                          |17/?[00:00<00:00,24.02it/s]"
     ]
    },
    {
     "name": "stdout",
     "output_type": "stream",
     "text": [
      "\u001b[32m[1123 13:00:42 @DATSGAN.py:266]\u001b[0m Loading Preprocessor!\n"
     ]
    },
    {
     "name": "stderr",
     "output_type": "stream",
     "text": [
      "\n",
      "|                                                                                          |17/?[00:00<00:00,23.31it/s]"
     ]
    },
    {
     "name": "stdout",
     "output_type": "stream",
     "text": [
      "\u001b[32m[1123 13:00:43 @DATSGAN.py:266]\u001b[0m Loading Preprocessor!\n"
     ]
    },
    {
     "name": "stderr",
     "output_type": "stream",
     "text": [
      "\n",
      "|                                                                                          |17/?[00:00<00:00,23.25it/s]"
     ]
    },
    {
     "name": "stdout",
     "output_type": "stream",
     "text": [
      "\u001b[32m[1123 13:00:44 @DATSGAN.py:266]\u001b[0m Loading Preprocessor!\n"
     ]
    },
    {
     "name": "stderr",
     "output_type": "stream",
     "text": [
      "\n",
      "|                                                                                          |17/?[00:00<00:00,23.67it/s]"
     ]
    },
    {
     "name": "stdout",
     "output_type": "stream",
     "text": [
      "\u001b[32m[1123 13:00:45 @DATSGAN.py:266]\u001b[0m Loading Preprocessor!\n"
     ]
    },
    {
     "name": "stderr",
     "output_type": "stream",
     "text": [
      "\n",
      "|                                                                                          |17/?[00:00<00:00,23.83it/s]"
     ]
    },
    {
     "name": "stdout",
     "output_type": "stream",
     "text": [
      "\u001b[32m[1123 13:00:46 @DATSGAN.py:266]\u001b[0m Loading Preprocessor!\n"
     ]
    },
    {
     "name": "stderr",
     "output_type": "stream",
     "text": [
      "\n",
      "|                                                                                          |17/?[00:00<00:00,23.62it/s]"
     ]
    },
    {
     "name": "stdout",
     "output_type": "stream",
     "text": [
      "\u001b[32m[1123 13:00:46 @DATSGAN.py:266]\u001b[0m Loading Preprocessor!\n"
     ]
    },
    {
     "name": "stderr",
     "output_type": "stream",
     "text": [
      "\n",
      "|                                                                                          |17/?[00:00<00:00,23.40it/s]"
     ]
    },
    {
     "name": "stdout",
     "output_type": "stream",
     "text": [
      "\u001b[32m[1123 13:00:47 @DATSGAN.py:266]\u001b[0m Loading Preprocessor!\n"
     ]
    },
    {
     "name": "stderr",
     "output_type": "stream",
     "text": [
      "\n",
      "|                                                                                          |17/?[00:00<00:00,23.56it/s]"
     ]
    },
    {
     "name": "stdout",
     "output_type": "stream",
     "text": [
      "\u001b[32m[1123 13:00:48 @DATSGAN.py:266]\u001b[0m Loading Preprocessor!\n"
     ]
    },
    {
     "name": "stderr",
     "output_type": "stream",
     "text": [
      "\n",
      "|                                                                                          |17/?[00:00<00:00,23.72it/s]"
     ]
    },
    {
     "name": "stdout",
     "output_type": "stream",
     "text": [
      "\u001b[32m[1123 13:00:49 @DATSGAN.py:266]\u001b[0m Loading Preprocessor!\n"
     ]
    },
    {
     "name": "stderr",
     "output_type": "stream",
     "text": [
      "\n",
      "|                                                                                          |17/?[00:00<00:00,23.58it/s]"
     ]
    },
    {
     "name": "stdout",
     "output_type": "stream",
     "text": [
      "\u001b[32m[1123 13:00:49 @DATSGAN.py:266]\u001b[0m Loading Preprocessor!\n"
     ]
    },
    {
     "name": "stderr",
     "output_type": "stream",
     "text": [
      "\n",
      "|                                                                                          |17/?[00:00<00:00,23.36it/s]"
     ]
    },
    {
     "name": "stdout",
     "output_type": "stream",
     "text": [
      "\u001b[32m[1123 13:00:50 @DATSGAN.py:266]\u001b[0m Loading Preprocessor!\n"
     ]
    },
    {
     "name": "stderr",
     "output_type": "stream",
     "text": [
      "\n",
      "|                                                                                          |17/?[00:00<00:00,23.54it/s]"
     ]
    },
    {
     "name": "stdout",
     "output_type": "stream",
     "text": [
      "\u001b[32m[1123 13:00:51 @DATSGAN.py:266]\u001b[0m Loading Preprocessor!\n"
     ]
    },
    {
     "name": "stderr",
     "output_type": "stream",
     "text": [
      "\n",
      "|                                                                                          |17/?[00:00<00:00,23.80it/s]"
     ]
    },
    {
     "name": "stdout",
     "output_type": "stream",
     "text": [
      "\u001b[32m[1123 13:00:52 @DATSGAN.py:266]\u001b[0m Loading Preprocessor!\n"
     ]
    },
    {
     "name": "stderr",
     "output_type": "stream",
     "text": [
      "\n",
      "|                                                                                          |17/?[00:00<00:00,23.39it/s]\n"
     ]
    },
    {
     "name": "stdout",
     "output_type": "stream",
     "text": [
      "Sampling synthetic data from model \u001b[1mTGAN_01\u001b[0m (21/55)\n",
      "\u001b[32m[1123 13:00:53 @registry.py:126]\u001b[0m gen/LSTM/00/FC input: [500, 100]\n",
      "\u001b[32m[1123 13:00:53 @registry.py:134]\u001b[0m gen/LSTM/00/FC output: [500, 100]\n",
      "\u001b[32m[1123 13:00:53 @registry.py:126]\u001b[0m gen/LSTM/00/FC2 input: [500, 100]\n",
      "\u001b[32m[1123 13:00:53 @registry.py:134]\u001b[0m gen/LSTM/00/FC2 output: [500, 5]\n",
      "\u001b[32m[1123 13:00:53 @registry.py:126]\u001b[0m gen/LSTM/00/FC3 input: [500, 5]\n",
      "\u001b[32m[1123 13:00:53 @registry.py:134]\u001b[0m gen/LSTM/00/FC3 output: [500, 100]\n",
      "\u001b[32m[1123 13:00:53 @registry.py:126]\u001b[0m gen/LSTM/01/FC input: [500, 100]\n",
      "\u001b[32m[1123 13:00:54 @registry.py:134]\u001b[0m gen/LSTM/01/FC output: [500, 100]\n",
      "\u001b[32m[1123 13:00:54 @registry.py:126]\u001b[0m gen/LSTM/01/FC2 input: [500, 100]\n",
      "\u001b[32m[1123 13:00:54 @registry.py:134]\u001b[0m gen/LSTM/01/FC2 output: [500, 7]\n",
      "\u001b[32m[1123 13:00:54 @registry.py:126]\u001b[0m gen/LSTM/01/FC3 input: [500, 7]\n",
      "\u001b[32m[1123 13:00:54 @registry.py:134]\u001b[0m gen/LSTM/01/FC3 output: [500, 100]\n",
      "\u001b[32m[1123 13:00:54 @registry.py:126]\u001b[0m gen/LSTM/02/FC input: [500, 100]\n",
      "\u001b[32m[1123 13:00:54 @registry.py:134]\u001b[0m gen/LSTM/02/FC output: [500, 100]\n",
      "\u001b[32m[1123 13:00:54 @registry.py:126]\u001b[0m gen/LSTM/02/FC2 input: [500, 100]\n",
      "\u001b[32m[1123 13:00:54 @registry.py:134]\u001b[0m gen/LSTM/02/FC2 output: [500, 7]\n",
      "\u001b[32m[1123 13:00:54 @registry.py:126]\u001b[0m gen/LSTM/02/FC3 input: [500, 7]\n",
      "\u001b[32m[1123 13:00:54 @registry.py:134]\u001b[0m gen/LSTM/02/FC3 output: [500, 100]\n",
      "\u001b[32m[1123 13:00:54 @registry.py:126]\u001b[0m gen/LSTM/03/FC input: [500, 100]\n",
      "\u001b[32m[1123 13:00:54 @registry.py:134]\u001b[0m gen/LSTM/03/FC output: [500, 100]\n",
      "\u001b[32m[1123 13:00:54 @registry.py:126]\u001b[0m gen/LSTM/03/FC2 input: [500, 100]\n",
      "\u001b[32m[1123 13:00:54 @registry.py:134]\u001b[0m gen/LSTM/03/FC2 output: [500, 1]\n",
      "\u001b[32m[1123 13:00:54 @registry.py:126]\u001b[0m gen/LSTM/04/FC input: [500, 100]\n",
      "\u001b[32m[1123 13:00:54 @registry.py:134]\u001b[0m gen/LSTM/04/FC output: [500, 100]\n",
      "\u001b[32m[1123 13:00:54 @registry.py:126]\u001b[0m gen/LSTM/04/FC2 input: [500, 100]\n",
      "\u001b[32m[1123 13:00:54 @registry.py:134]\u001b[0m gen/LSTM/04/FC2 output: [500, 5]\n",
      "\u001b[32m[1123 13:00:54 @registry.py:126]\u001b[0m gen/LSTM/04/FC3 input: [500, 5]\n",
      "\u001b[32m[1123 13:00:54 @registry.py:134]\u001b[0m gen/LSTM/04/FC3 output: [500, 100]\n",
      "\u001b[32m[1123 13:00:54 @registry.py:126]\u001b[0m gen/LSTM/05/FC input: [500, 100]\n",
      "\u001b[32m[1123 13:00:54 @registry.py:134]\u001b[0m gen/LSTM/05/FC output: [500, 100]\n",
      "\u001b[32m[1123 13:00:54 @registry.py:126]\u001b[0m gen/LSTM/05/FC2 input: [500, 100]\n",
      "\u001b[32m[1123 13:00:54 @registry.py:134]\u001b[0m gen/LSTM/05/FC2 output: [500, 9]\n",
      "\u001b[32m[1123 13:00:54 @registry.py:126]\u001b[0m gen/LSTM/05/FC3 input: [500, 9]\n",
      "\u001b[32m[1123 13:00:54 @registry.py:134]\u001b[0m gen/LSTM/05/FC3 output: [500, 100]\n",
      "\u001b[32m[1123 13:00:54 @registry.py:126]\u001b[0m gen/LSTM/06/FC input: [500, 100]\n",
      "\u001b[32m[1123 13:00:54 @registry.py:134]\u001b[0m gen/LSTM/06/FC output: [500, 100]\n",
      "\u001b[32m[1123 13:00:54 @registry.py:126]\u001b[0m gen/LSTM/06/FC2 input: [500, 100]\n",
      "\u001b[32m[1123 13:00:54 @registry.py:134]\u001b[0m gen/LSTM/06/FC2 output: [500, 8]\n",
      "\u001b[32m[1123 13:00:54 @registry.py:126]\u001b[0m gen/LSTM/06/FC3 input: [500, 8]\n",
      "\u001b[32m[1123 13:00:54 @registry.py:134]\u001b[0m gen/LSTM/06/FC3 output: [500, 100]\n",
      "\u001b[32m[1123 13:00:54 @registry.py:126]\u001b[0m gen/LSTM/07/FC input: [500, 100]\n",
      "\u001b[32m[1123 13:00:54 @registry.py:134]\u001b[0m gen/LSTM/07/FC output: [500, 100]\n",
      "\u001b[32m[1123 13:00:54 @registry.py:126]\u001b[0m gen/LSTM/07/FC2 input: [500, 100]\n",
      "\u001b[32m[1123 13:00:54 @registry.py:134]\u001b[0m gen/LSTM/07/FC2 output: [500, 8]\n",
      "\u001b[32m[1123 13:00:54 @registry.py:126]\u001b[0m gen/LSTM/07/FC3 input: [500, 8]\n",
      "\u001b[32m[1123 13:00:54 @registry.py:134]\u001b[0m gen/LSTM/07/FC3 output: [500, 100]\n",
      "\u001b[32m[1123 13:00:54 @registry.py:126]\u001b[0m gen/LSTM/08/FC input: [500, 100]\n",
      "\u001b[32m[1123 13:00:54 @registry.py:134]\u001b[0m gen/LSTM/08/FC output: [500, 100]\n",
      "\u001b[32m[1123 13:00:54 @registry.py:126]\u001b[0m gen/LSTM/08/FC2 input: [500, 100]\n",
      "\u001b[32m[1123 13:00:54 @registry.py:134]\u001b[0m gen/LSTM/08/FC2 output: [500, 3]\n",
      "\u001b[32m[1123 13:00:54 @registry.py:126]\u001b[0m gen/LSTM/08/FC3 input: [500, 3]\n",
      "\u001b[32m[1123 13:00:54 @registry.py:134]\u001b[0m gen/LSTM/08/FC3 output: [500, 100]\n",
      "\u001b[32m[1123 13:00:54 @registry.py:126]\u001b[0m gen/LSTM/09/FC input: [500, 100]\n",
      "\u001b[32m[1123 13:00:54 @registry.py:134]\u001b[0m gen/LSTM/09/FC output: [500, 100]\n",
      "\u001b[32m[1123 13:00:54 @registry.py:126]\u001b[0m gen/LSTM/09/FC2 input: [500, 100]\n",
      "\u001b[32m[1123 13:00:54 @registry.py:134]\u001b[0m gen/LSTM/09/FC2 output: [500, 7]\n",
      "\u001b[32m[1123 13:00:54 @registry.py:126]\u001b[0m gen/LSTM/09/FC3 input: [500, 7]\n",
      "\u001b[32m[1123 13:00:54 @registry.py:134]\u001b[0m gen/LSTM/09/FC3 output: [500, 100]\n",
      "\u001b[32m[1123 13:00:54 @registry.py:126]\u001b[0m gen/LSTM/10/FC input: [500, 100]\n",
      "\u001b[32m[1123 13:00:54 @registry.py:134]\u001b[0m gen/LSTM/10/FC output: [500, 100]\n",
      "\u001b[32m[1123 13:00:54 @registry.py:126]\u001b[0m gen/LSTM/10/FC2 input: [500, 100]\n",
      "\u001b[32m[1123 13:00:54 @registry.py:134]\u001b[0m gen/LSTM/10/FC2 output: [500, 2]\n",
      "\u001b[32m[1123 13:00:54 @registry.py:126]\u001b[0m gen/LSTM/10/FC3 input: [500, 2]\n",
      "\u001b[32m[1123 13:00:54 @registry.py:134]\u001b[0m gen/LSTM/10/FC3 output: [500, 100]\n",
      "\u001b[32m[1123 13:00:54 @registry.py:126]\u001b[0m gen/LSTM/11/FC input: [500, 100]\n",
      "\u001b[32m[1123 13:00:54 @registry.py:134]\u001b[0m gen/LSTM/11/FC output: [500, 100]\n",
      "\u001b[32m[1123 13:00:54 @registry.py:126]\u001b[0m gen/LSTM/11/FC2 input: [500, 100]\n",
      "\u001b[32m[1123 13:00:54 @registry.py:134]\u001b[0m gen/LSTM/11/FC2 output: [500, 1]\n",
      "\u001b[32m[1123 13:00:54 @registry.py:126]\u001b[0m gen/LSTM/12/FC input: [500, 100]\n",
      "\u001b[32m[1123 13:00:54 @registry.py:134]\u001b[0m gen/LSTM/12/FC output: [500, 100]\n",
      "\u001b[32m[1123 13:00:54 @registry.py:126]\u001b[0m gen/LSTM/12/FC2 input: [500, 100]\n",
      "\u001b[32m[1123 13:00:54 @registry.py:134]\u001b[0m gen/LSTM/12/FC2 output: [500, 5]\n",
      "\u001b[32m[1123 13:00:54 @registry.py:126]\u001b[0m gen/LSTM/12/FC3 input: [500, 5]\n",
      "\u001b[32m[1123 13:00:54 @registry.py:134]\u001b[0m gen/LSTM/12/FC3 output: [500, 100]\n",
      "\u001b[32m[1123 13:00:54 @registry.py:126]\u001b[0m gen/LSTM/13/FC input: [500, 100]\n",
      "\u001b[32m[1123 13:00:54 @registry.py:134]\u001b[0m gen/LSTM/13/FC output: [500, 100]\n",
      "\u001b[32m[1123 13:00:54 @registry.py:126]\u001b[0m gen/LSTM/13/FC2 input: [500, 100]\n",
      "\u001b[32m[1123 13:00:54 @registry.py:134]\u001b[0m gen/LSTM/13/FC2 output: [500, 2]\n",
      "\u001b[32m[1123 13:00:54 @registry.py:126]\u001b[0m gen/LSTM/13/FC3 input: [500, 2]\n",
      "\u001b[32m[1123 13:00:54 @registry.py:134]\u001b[0m gen/LSTM/13/FC3 output: [500, 100]\n",
      "\u001b[32m[1123 13:00:54 @registry.py:126]\u001b[0m gen/LSTM/14/FC input: [500, 100]\n",
      "\u001b[32m[1123 13:00:54 @registry.py:134]\u001b[0m gen/LSTM/14/FC output: [500, 100]\n",
      "\u001b[32m[1123 13:00:54 @registry.py:126]\u001b[0m gen/LSTM/14/FC2 input: [500, 100]\n",
      "\u001b[32m[1123 13:00:54 @registry.py:134]\u001b[0m gen/LSTM/14/FC2 output: [500, 6]\n",
      "\u001b[32m[1123 13:00:54 @registry.py:126]\u001b[0m gen/LSTM/14/FC3 input: [500, 6]\n",
      "\u001b[32m[1123 13:00:54 @registry.py:134]\u001b[0m gen/LSTM/14/FC3 output: [500, 100]\n",
      "\u001b[32m[1123 13:00:54 @registry.py:126]\u001b[0m gen/LSTM/15/FC input: [500, 100]\n",
      "\u001b[32m[1123 13:00:54 @registry.py:134]\u001b[0m gen/LSTM/15/FC output: [500, 100]\n",
      "\u001b[32m[1123 13:00:54 @registry.py:126]\u001b[0m gen/LSTM/15/FC2 input: [500, 100]\n",
      "\u001b[32m[1123 13:00:54 @registry.py:134]\u001b[0m gen/LSTM/15/FC2 output: [500, 8]\n",
      "\u001b[32m[1123 13:00:54 @registry.py:126]\u001b[0m gen/LSTM/15/FC3 input: [500, 8]\n",
      "\u001b[32m[1123 13:00:54 @registry.py:134]\u001b[0m gen/LSTM/15/FC3 output: [500, 100]\n",
      "\u001b[32m[1123 13:00:54 @registry.py:126]\u001b[0m gen/LSTM/16/FC input: [500, 100]\n",
      "\u001b[32m[1123 13:00:54 @registry.py:134]\u001b[0m gen/LSTM/16/FC output: [500, 100]\n",
      "\u001b[32m[1123 13:00:54 @registry.py:126]\u001b[0m gen/LSTM/16/FC2 input: [500, 100]\n",
      "\u001b[32m[1123 13:00:54 @registry.py:134]\u001b[0m gen/LSTM/16/FC2 output: [500, 1]\n",
      "\u001b[32m[1123 13:00:54 @registry.py:126]\u001b[0m gen/LSTM/17/FC input: [500, 100]\n",
      "\u001b[32m[1123 13:00:54 @registry.py:134]\u001b[0m gen/LSTM/17/FC output: [500, 100]\n",
      "\u001b[32m[1123 13:00:54 @registry.py:126]\u001b[0m gen/LSTM/17/FC2 input: [500, 100]\n",
      "\u001b[32m[1123 13:00:54 @registry.py:134]\u001b[0m gen/LSTM/17/FC2 output: [500, 5]\n",
      "\u001b[32m[1123 13:00:54 @registry.py:126]\u001b[0m gen/LSTM/17/FC3 input: [500, 5]\n",
      "\u001b[32m[1123 13:00:54 @registry.py:134]\u001b[0m gen/LSTM/17/FC3 output: [500, 100]\n",
      "\u001b[32m[1123 13:00:54 @registry.py:126]\u001b[0m discrim/dis_fc0/fc input: [500, 90]\n",
      "\u001b[32m[1123 13:00:55 @registry.py:134]\u001b[0m discrim/dis_fc0/fc output: [500, 100]\n",
      "\u001b[32m[1123 13:00:55 @registry.py:126]\u001b[0m discrim/dis_fc0/fc_diversity input: [500, 100]\n",
      "\u001b[32m[1123 13:00:55 @registry.py:134]\u001b[0m discrim/dis_fc0/fc_diversity output: [500, 100]\n",
      "\u001b[32m[1123 13:00:55 @registry.py:126]\u001b[0m discrim/dis_fc_top input: [500, 110]\n",
      "\u001b[32m[1123 13:00:55 @registry.py:134]\u001b[0m discrim/dis_fc_top output: [500, 1]\n"
     ]
    },
    {
     "name": "stdout",
     "output_type": "stream",
     "text": [
      "\u001b[32m[1123 13:00:55 @collection.py:146]\u001b[0m New collections created in tower : tf.GraphKeys.REGULARIZATION_LOSSES\n",
      "\u001b[32m[1123 13:00:55 @collection.py:165]\u001b[0m These collections were modified but restored in : (tf.GraphKeys.SUMMARIES: 0->2)\n",
      "\u001b[32m[1123 13:00:55 @sessinit.py:87]\u001b[0m \u001b[5m\u001b[31mWRN\u001b[0m The following variables are in the checkpoint, but not found in the graph: global_step, optimize/beta1_power, optimize/beta2_power\n",
      "INFO:tensorflow:Graph was finalized.\n",
      "INFO:tensorflow:Running local_init_op.\n",
      "INFO:tensorflow:Done running local_init_op.\n",
      "\u001b[32m[1123 13:00:55 @sessinit.py:114]\u001b[0m Restoring checkpoint from ../output/Chicago/TGAN_01/model\\model-17000 ...\n",
      "INFO:tensorflow:Restoring parameters from ../output/Chicago/TGAN_01/model\\model-17000\n"
     ]
    },
    {
     "name": "stderr",
     "output_type": "stream",
     "text": [
      "  3%|##8                                                                                 |17/500[00:00<00:11,43.27it/s]\n",
      "  3%|##8                                                                                |17/500[00:00<00:03,121.54it/s]\n",
      "  3%|##8                                                                                |17/500[00:00<00:03,125.55it/s]\n",
      "  3%|##8                                                                                |17/500[00:00<00:03,129.34it/s]\n",
      "  3%|##8                                                                                |17/500[00:00<00:03,132.33it/s]\n"
     ]
    },
    {
     "name": "stdout",
     "output_type": "stream",
     "text": [
      "Sampling synthetic data from model \u001b[1mTGAN_02\u001b[0m (22/55)\n",
      "\u001b[32m[1123 13:00:58 @collection.py:146]\u001b[0m New collections created in tower : tf.GraphKeys.REGULARIZATION_LOSSES\n",
      "\u001b[32m[1123 13:00:58 @collection.py:165]\u001b[0m These collections were modified but restored in : (tf.GraphKeys.SUMMARIES: 0->2)\n",
      "\u001b[32m[1123 13:00:58 @sessinit.py:87]\u001b[0m \u001b[5m\u001b[31mWRN\u001b[0m The following variables are in the checkpoint, but not found in the graph: global_step, optimize/beta1_power, optimize/beta2_power\n",
      "INFO:tensorflow:Graph was finalized.\n",
      "INFO:tensorflow:Running local_init_op.\n",
      "INFO:tensorflow:Done running local_init_op.\n",
      "\u001b[32m[1123 13:00:59 @sessinit.py:114]\u001b[0m Restoring checkpoint from ../output/Chicago/TGAN_02/model\\model-17000 ...\n",
      "INFO:tensorflow:Restoring parameters from ../output/Chicago/TGAN_02/model\\model-17000\n"
     ]
    },
    {
     "name": "stderr",
     "output_type": "stream",
     "text": [
      "  3%|##8                                                                                 |17/500[00:00<00:09,50.28it/s]\n",
      "  3%|##8                                                                                |17/500[00:00<00:03,122.10it/s]\n",
      "  3%|##8                                                                                |17/500[00:00<00:03,124.18it/s]\n",
      "  3%|##8                                                                                |17/500[00:00<00:04,117.78it/s]\n",
      "  3%|##8                                                                                |17/500[00:00<00:03,123.73it/s]\n"
     ]
    },
    {
     "name": "stdout",
     "output_type": "stream",
     "text": [
      "Sampling synthetic data from model \u001b[1mTGAN_03\u001b[0m (23/55)\n",
      "\u001b[32m[1123 13:01:03 @collection.py:146]\u001b[0m New collections created in tower : tf.GraphKeys.REGULARIZATION_LOSSES\n",
      "\u001b[32m[1123 13:01:03 @collection.py:165]\u001b[0m These collections were modified but restored in : (tf.GraphKeys.SUMMARIES: 0->2)\n",
      "\u001b[32m[1123 13:01:03 @sessinit.py:87]\u001b[0m \u001b[5m\u001b[31mWRN\u001b[0m The following variables are in the checkpoint, but not found in the graph: global_step, optimize/beta1_power, optimize/beta2_power\n",
      "INFO:tensorflow:Graph was finalized.\n",
      "INFO:tensorflow:Running local_init_op.\n",
      "INFO:tensorflow:Done running local_init_op.\n",
      "\u001b[32m[1123 13:01:04 @sessinit.py:114]\u001b[0m Restoring checkpoint from ../output/Chicago/TGAN_03/model\\model-17000 ...\n",
      "INFO:tensorflow:Restoring parameters from ../output/Chicago/TGAN_03/model\\model-17000\n"
     ]
    },
    {
     "name": "stderr",
     "output_type": "stream",
     "text": [
      "  3%|##8                                                                                 |17/500[00:00<00:09,50.67it/s]\n",
      "  3%|##8                                                                                |17/500[00:00<00:03,121.56it/s]\n",
      "  3%|##8                                                                                |17/500[00:00<00:03,123.29it/s]\n",
      "  3%|##8                                                                                |17/500[00:00<00:03,126.01it/s]\n",
      "  3%|##8                                                                                |17/500[00:00<00:03,127.89it/s]\n"
     ]
    },
    {
     "name": "stdout",
     "output_type": "stream",
     "text": [
      "Sampling synthetic data from model \u001b[1mTGAN_04\u001b[0m (24/55)\n",
      "\u001b[32m[1123 13:01:07 @collection.py:146]\u001b[0m New collections created in tower : tf.GraphKeys.REGULARIZATION_LOSSES\n",
      "\u001b[32m[1123 13:01:07 @collection.py:165]\u001b[0m These collections were modified but restored in : (tf.GraphKeys.SUMMARIES: 0->2)\n",
      "\u001b[32m[1123 13:01:07 @sessinit.py:87]\u001b[0m \u001b[5m\u001b[31mWRN\u001b[0m The following variables are in the checkpoint, but not found in the graph: global_step, optimize/beta1_power, optimize/beta2_power\n",
      "INFO:tensorflow:Graph was finalized.\n",
      "INFO:tensorflow:Running local_init_op.\n",
      "INFO:tensorflow:Done running local_init_op.\n",
      "\u001b[32m[1123 13:01:07 @sessinit.py:114]\u001b[0m Restoring checkpoint from ../output/Chicago/TGAN_04/model\\model-17000 ...\n",
      "INFO:tensorflow:Restoring parameters from ../output/Chicago/TGAN_04/model\\model-17000\n"
     ]
    },
    {
     "name": "stderr",
     "output_type": "stream",
     "text": [
      "  3%|##8                                                                                 |17/500[00:00<00:09,50.63it/s]\n",
      "  3%|##8                                                                                |17/500[00:00<00:03,123.73it/s]\n",
      "  3%|##8                                                                                |17/500[00:00<00:03,123.73it/s]\n",
      "  3%|##8                                                                                |17/500[00:00<00:03,124.63it/s]\n",
      "  3%|##8                                                                                |17/500[00:00<00:03,130.33it/s]\n"
     ]
    },
    {
     "name": "stdout",
     "output_type": "stream",
     "text": [
      "Sampling synthetic data from model \u001b[1mTGAN_05\u001b[0m (25/55)\n",
      "\u001b[32m[1123 13:01:10 @collection.py:146]\u001b[0m New collections created in tower : tf.GraphKeys.REGULARIZATION_LOSSES\n",
      "\u001b[32m[1123 13:01:10 @collection.py:165]\u001b[0m These collections were modified but restored in : (tf.GraphKeys.SUMMARIES: 0->2)\n",
      "\u001b[32m[1123 13:01:10 @sessinit.py:87]\u001b[0m \u001b[5m\u001b[31mWRN\u001b[0m The following variables are in the checkpoint, but not found in the graph: global_step, optimize/beta1_power, optimize/beta2_power\n",
      "INFO:tensorflow:Graph was finalized.\n",
      "INFO:tensorflow:Running local_init_op.\n",
      "INFO:tensorflow:Done running local_init_op.\n",
      "\u001b[32m[1123 13:01:11 @sessinit.py:114]\u001b[0m Restoring checkpoint from ../output/Chicago/TGAN_05/model\\model-17000 ...\n",
      "INFO:tensorflow:Restoring parameters from ../output/Chicago/TGAN_05/model\\model-17000\n"
     ]
    },
    {
     "name": "stderr",
     "output_type": "stream",
     "text": [
      "  3%|##8                                                                                 |17/500[00:00<00:09,50.93it/s]\n",
      "  3%|##8                                                                                |17/500[00:00<00:04,119.01it/s]\n",
      "  3%|##8                                                                                |17/500[00:00<00:03,126.94it/s]\n",
      "  3%|##8                                                                                |17/500[00:00<00:03,130.30it/s]\n",
      "  3%|##8                                                                                |17/500[00:00<00:03,132.33it/s]\n"
     ]
    },
    {
     "name": "stdout",
     "output_type": "stream",
     "text": [
      "Sampling synthetic data from model \u001b[1mWGAN_OR_01\u001b[0m (26/55)\n",
      "\u001b[32m[1123 13:01:18 @DATSGANModel.py:205]\u001b[0m \u001b[91mCreating cell for age (in-edges: 0; ancestors: 0)\n",
      "\u001b[32m[1123 13:01:18 @DATSGANModel.py:205]\u001b[0m \u001b[91mCreating cell for gender (in-edges: 0; ancestors: 0)\n",
      "\u001b[32m[1123 13:01:18 @DATSGANModel.py:205]\u001b[0m \u001b[91mCreating cell for travel_dow (in-edges: 0; ancestors: 0)\n",
      "\u001b[32m[1123 13:01:18 @DATSGANModel.py:205]\u001b[0m \u001b[91mCreating cell for license (in-edges: 1; ancestors: 1)\n",
      "\u001b[32m[1123 13:01:18 @DATSGANModel.py:205]\u001b[0m \u001b[91mCreating cell for education_level (in-edges: 1; ancestors: 1)\n",
      "\u001b[32m[1123 13:01:18 @DATSGANModel.py:205]\u001b[0m \u001b[91mCreating cell for work_status (in-edges: 2; ancestors: 3)\n",
      "\u001b[32m[1123 13:01:18 @DATSGANModel.py:205]\u001b[0m \u001b[91mCreating cell for hh_income (in-edges: 2; ancestors: 4)\n",
      "\u001b[32m[1123 13:01:18 @DATSGANModel.py:205]\u001b[0m \u001b[91mCreating cell for trip_purpose (in-edges: 1; ancestors: 4)\n",
      "\u001b[32m[1123 13:01:18 @DATSGANModel.py:205]\u001b[0m \u001b[91mCreating cell for hh_descr (in-edges: 2; ancestors: 5)\n",
      "\u001b[32m[1123 13:01:18 @DATSGANModel.py:205]\u001b[0m \u001b[91mCreating cell for hh_size (in-edges: 3; ancestors: 5)\n",
      "\u001b[32m[1123 13:01:18 @DATSGANModel.py:205]\u001b[0m \u001b[91mCreating cell for departure_time (in-edges: 1; ancestors: 5)\n",
      "\u001b[32m[1123 13:01:18 @DATSGANModel.py:205]\u001b[0m \u001b[91mCreating cell for distance (in-edges: 1; ancestors: 5)\n",
      "\u001b[32m[1123 13:01:18 @DATSGANModel.py:205]\u001b[0m \u001b[91mCreating cell for hh_vehicles (in-edges: 2; ancestors: 6)\n",
      "\u001b[32m[1123 13:01:19 @DATSGANModel.py:205]\u001b[0m \u001b[91mCreating cell for hh_bikes (in-edges: 2; ancestors: 6)\n",
      "\u001b[32m[1123 13:01:19 @DATSGANModel.py:205]\u001b[0m \u001b[91mCreating cell for choice (in-edges: 7; ancestors: 13)\n",
      "\u001b[32m[1123 13:01:19 @sessinit.py:87]\u001b[0m \u001b[5m\u001b[31mWRN\u001b[0m The following variables are in the checkpoint, but not found in the graph: global_step\n",
      "INFO:tensorflow:Graph was finalized.\n",
      "INFO:tensorflow:Running local_init_op.\n",
      "INFO:tensorflow:Done running local_init_op.\n",
      "\u001b[32m[1123 13:01:20 @sessinit.py:114]\u001b[0m Restoring checkpoint from ../output/Chicago/WGAN_OR_01/model\\model-25499 ...\n",
      "INFO:tensorflow:Restoring parameters from ../output/Chicago/WGAN_OR_01/model\\model-25499\n",
      "\u001b[32m[1123 13:01:20 @DATSGAN.py:266]\u001b[0m Loading Preprocessor!\n"
     ]
    },
    {
     "name": "stderr",
     "output_type": "stream",
     "text": [
      "|                                                                                          |17/?[00:00<00:00,17.95it/s]"
     ]
    },
    {
     "name": "stdout",
     "output_type": "stream",
     "text": [
      "\u001b[32m[1123 13:01:21 @DATSGAN.py:266]\u001b[0m Loading Preprocessor!\n"
     ]
    },
    {
     "name": "stderr",
     "output_type": "stream",
     "text": [
      "\n",
      "|                                                                                          |17/?[00:00<00:00,23.80it/s]"
     ]
    },
    {
     "name": "stdout",
     "output_type": "stream",
     "text": [
      "\u001b[32m[1123 13:01:22 @DATSGAN.py:266]\u001b[0m Loading Preprocessor!\n"
     ]
    },
    {
     "name": "stderr",
     "output_type": "stream",
     "text": [
      "\n",
      "|                                                                                          |17/?[00:00<00:00,23.57it/s]"
     ]
    },
    {
     "name": "stdout",
     "output_type": "stream",
     "text": [
      "\u001b[32m[1123 13:01:23 @DATSGAN.py:266]\u001b[0m Loading Preprocessor!\n"
     ]
    },
    {
     "name": "stderr",
     "output_type": "stream",
     "text": [
      "\n",
      "|                                                                                          |17/?[00:00<00:00,23.19it/s]"
     ]
    },
    {
     "name": "stdout",
     "output_type": "stream",
     "text": [
      "\u001b[32m[1123 13:01:23 @DATSGAN.py:266]\u001b[0m Loading Preprocessor!\n"
     ]
    },
    {
     "name": "stderr",
     "output_type": "stream",
     "text": [
      "\n",
      "|                                                                                          |17/?[00:00<00:00,23.49it/s]"
     ]
    },
    {
     "name": "stdout",
     "output_type": "stream",
     "text": [
      "\u001b[32m[1123 13:01:24 @DATSGAN.py:266]\u001b[0m Loading Preprocessor!\n"
     ]
    },
    {
     "name": "stderr",
     "output_type": "stream",
     "text": [
      "\n",
      "|                                                                                          |17/?[00:00<00:00,23.58it/s]"
     ]
    },
    {
     "name": "stdout",
     "output_type": "stream",
     "text": [
      "\u001b[32m[1123 13:01:25 @DATSGAN.py:266]\u001b[0m Loading Preprocessor!\n"
     ]
    },
    {
     "name": "stderr",
     "output_type": "stream",
     "text": [
      "\n",
      "|                                                                                          |17/?[00:00<00:00,22.92it/s]"
     ]
    },
    {
     "name": "stdout",
     "output_type": "stream",
     "text": [
      "\u001b[32m[1123 13:01:26 @DATSGAN.py:266]\u001b[0m Loading Preprocessor!\n"
     ]
    },
    {
     "name": "stderr",
     "output_type": "stream",
     "text": [
      "\n",
      "|                                                                                          |17/?[00:00<00:00,23.22it/s]"
     ]
    },
    {
     "name": "stdout",
     "output_type": "stream",
     "text": [
      "\u001b[32m[1123 13:01:27 @DATSGAN.py:266]\u001b[0m Loading Preprocessor!\n"
     ]
    },
    {
     "name": "stderr",
     "output_type": "stream",
     "text": [
      "\n",
      "|                                                                                          |17/?[00:00<00:00,23.28it/s]"
     ]
    },
    {
     "name": "stdout",
     "output_type": "stream",
     "text": [
      "\u001b[32m[1123 13:01:27 @DATSGAN.py:266]\u001b[0m Loading Preprocessor!\n"
     ]
    },
    {
     "name": "stderr",
     "output_type": "stream",
     "text": [
      "\n",
      "|                                                                                          |17/?[00:00<00:00,23.57it/s]"
     ]
    },
    {
     "name": "stdout",
     "output_type": "stream",
     "text": [
      "\u001b[32m[1123 13:01:28 @DATSGAN.py:266]\u001b[0m Loading Preprocessor!\n"
     ]
    },
    {
     "name": "stderr",
     "output_type": "stream",
     "text": [
      "\n",
      "|                                                                                          |17/?[00:00<00:00,23.62it/s]"
     ]
    },
    {
     "name": "stdout",
     "output_type": "stream",
     "text": [
      "\u001b[32m[1123 13:01:29 @DATSGAN.py:266]\u001b[0m Loading Preprocessor!\n"
     ]
    },
    {
     "name": "stderr",
     "output_type": "stream",
     "text": [
      "\n",
      "|                                                                                          |17/?[00:00<00:00,23.46it/s]"
     ]
    },
    {
     "name": "stdout",
     "output_type": "stream",
     "text": [
      "\u001b[32m[1123 13:01:30 @DATSGAN.py:266]\u001b[0m Loading Preprocessor!\n"
     ]
    },
    {
     "name": "stderr",
     "output_type": "stream",
     "text": [
      "\n",
      "|                                                                                          |17/?[00:00<00:00,23.36it/s]"
     ]
    },
    {
     "name": "stdout",
     "output_type": "stream",
     "text": [
      "\u001b[32m[1123 13:01:30 @DATSGAN.py:266]\u001b[0m Loading Preprocessor!\n"
     ]
    },
    {
     "name": "stderr",
     "output_type": "stream",
     "text": [
      "\n",
      "|                                                                                          |17/?[00:00<00:00,23.34it/s]"
     ]
    },
    {
     "name": "stdout",
     "output_type": "stream",
     "text": [
      "\u001b[32m[1123 13:01:31 @DATSGAN.py:266]\u001b[0m Loading Preprocessor!\n"
     ]
    },
    {
     "name": "stderr",
     "output_type": "stream",
     "text": [
      "\n",
      "|                                                                                          |17/?[00:00<00:00,23.56it/s]\n"
     ]
    },
    {
     "name": "stdout",
     "output_type": "stream",
     "text": [
      "Sampling synthetic data from model \u001b[1mWGAN_OR_02\u001b[0m (27/55)\n",
      "\u001b[32m[1123 13:01:37 @DATSGANModel.py:205]\u001b[0m \u001b[91mCreating cell for age (in-edges: 0; ancestors: 0)\n",
      "\u001b[32m[1123 13:01:37 @DATSGANModel.py:205]\u001b[0m \u001b[91mCreating cell for gender (in-edges: 0; ancestors: 0)\n",
      "\u001b[32m[1123 13:01:37 @DATSGANModel.py:205]\u001b[0m \u001b[91mCreating cell for travel_dow (in-edges: 0; ancestors: 0)\n",
      "\u001b[32m[1123 13:01:38 @DATSGANModel.py:205]\u001b[0m \u001b[91mCreating cell for license (in-edges: 1; ancestors: 1)\n",
      "\u001b[32m[1123 13:01:38 @DATSGANModel.py:205]\u001b[0m \u001b[91mCreating cell for education_level (in-edges: 1; ancestors: 1)\n",
      "\u001b[32m[1123 13:01:38 @DATSGANModel.py:205]\u001b[0m \u001b[91mCreating cell for work_status (in-edges: 2; ancestors: 3)\n",
      "\u001b[32m[1123 13:01:38 @DATSGANModel.py:205]\u001b[0m \u001b[91mCreating cell for hh_income (in-edges: 2; ancestors: 4)\n",
      "\u001b[32m[1123 13:01:38 @DATSGANModel.py:205]\u001b[0m \u001b[91mCreating cell for trip_purpose (in-edges: 1; ancestors: 4)\n",
      "\u001b[32m[1123 13:01:38 @DATSGANModel.py:205]\u001b[0m \u001b[91mCreating cell for hh_descr (in-edges: 2; ancestors: 5)\n",
      "\u001b[32m[1123 13:01:38 @DATSGANModel.py:205]\u001b[0m \u001b[91mCreating cell for hh_size (in-edges: 3; ancestors: 5)\n",
      "\u001b[32m[1123 13:01:38 @DATSGANModel.py:205]\u001b[0m \u001b[91mCreating cell for departure_time (in-edges: 1; ancestors: 5)\n",
      "\u001b[32m[1123 13:01:38 @DATSGANModel.py:205]\u001b[0m \u001b[91mCreating cell for distance (in-edges: 1; ancestors: 5)\n",
      "\u001b[32m[1123 13:01:38 @DATSGANModel.py:205]\u001b[0m \u001b[91mCreating cell for hh_vehicles (in-edges: 2; ancestors: 6)\n",
      "\u001b[32m[1123 13:01:38 @DATSGANModel.py:205]\u001b[0m \u001b[91mCreating cell for hh_bikes (in-edges: 2; ancestors: 6)\n",
      "\u001b[32m[1123 13:01:38 @DATSGANModel.py:205]\u001b[0m \u001b[91mCreating cell for choice (in-edges: 7; ancestors: 13)\n",
      "\u001b[32m[1123 13:01:39 @sessinit.py:87]\u001b[0m \u001b[5m\u001b[31mWRN\u001b[0m The following variables are in the checkpoint, but not found in the graph: global_step\n",
      "INFO:tensorflow:Graph was finalized.\n",
      "INFO:tensorflow:Running local_init_op.\n",
      "INFO:tensorflow:Done running local_init_op.\n",
      "\u001b[32m[1123 13:01:40 @sessinit.py:114]\u001b[0m Restoring checkpoint from ../output/Chicago/WGAN_OR_02/model\\model-25499 ...\n",
      "INFO:tensorflow:Restoring parameters from ../output/Chicago/WGAN_OR_02/model\\model-25499\n",
      "\u001b[32m[1123 13:01:40 @DATSGAN.py:266]\u001b[0m Loading Preprocessor!\n"
     ]
    },
    {
     "name": "stderr",
     "output_type": "stream",
     "text": [
      "|                                                                                          |17/?[00:00<00:00,17.95it/s]"
     ]
    },
    {
     "name": "stdout",
     "output_type": "stream",
     "text": [
      "\u001b[32m[1123 13:01:41 @DATSGAN.py:266]\u001b[0m Loading Preprocessor!\n"
     ]
    },
    {
     "name": "stderr",
     "output_type": "stream",
     "text": [
      "\n",
      "|                                                                                          |17/?[00:00<00:00,23.22it/s]"
     ]
    },
    {
     "name": "stdout",
     "output_type": "stream",
     "text": [
      "\u001b[32m[1123 13:01:41 @DATSGAN.py:266]\u001b[0m Loading Preprocessor!\n"
     ]
    },
    {
     "name": "stderr",
     "output_type": "stream",
     "text": [
      "\n",
      "|                                                                                          |17/?[00:00<00:00,23.52it/s]"
     ]
    },
    {
     "name": "stdout",
     "output_type": "stream",
     "text": [
      "\u001b[32m[1123 13:01:42 @DATSGAN.py:266]\u001b[0m Loading Preprocessor!\n"
     ]
    },
    {
     "name": "stderr",
     "output_type": "stream",
     "text": [
      "\n",
      "|                                                                                          |17/?[00:00<00:00,23.25it/s]"
     ]
    },
    {
     "name": "stdout",
     "output_type": "stream",
     "text": [
      "\u001b[32m[1123 13:01:43 @DATSGAN.py:266]\u001b[0m Loading Preprocessor!\n"
     ]
    },
    {
     "name": "stderr",
     "output_type": "stream",
     "text": [
      "\n",
      "|                                                                                          |17/?[00:00<00:00,23.40it/s]"
     ]
    },
    {
     "name": "stdout",
     "output_type": "stream",
     "text": [
      "\u001b[32m[1123 13:01:44 @DATSGAN.py:266]\u001b[0m Loading Preprocessor!\n"
     ]
    },
    {
     "name": "stderr",
     "output_type": "stream",
     "text": [
      "\n",
      "|                                                                                          |17/?[00:00<00:00,23.62it/s]"
     ]
    },
    {
     "name": "stdout",
     "output_type": "stream",
     "text": [
      "\u001b[32m[1123 13:01:45 @DATSGAN.py:266]\u001b[0m Loading Preprocessor!\n"
     ]
    },
    {
     "name": "stderr",
     "output_type": "stream",
     "text": [
      "\n",
      "|                                                                                          |17/?[00:00<00:00,23.32it/s]"
     ]
    },
    {
     "name": "stdout",
     "output_type": "stream",
     "text": [
      "\u001b[32m[1123 13:01:45 @DATSGAN.py:266]\u001b[0m Loading Preprocessor!\n"
     ]
    },
    {
     "name": "stderr",
     "output_type": "stream",
     "text": [
      "\n",
      "|                                                                                          |17/?[00:00<00:00,23.45it/s]"
     ]
    },
    {
     "name": "stdout",
     "output_type": "stream",
     "text": [
      "\u001b[32m[1123 13:01:46 @DATSGAN.py:266]\u001b[0m Loading Preprocessor!\n"
     ]
    },
    {
     "name": "stderr",
     "output_type": "stream",
     "text": [
      "\n",
      "|                                                                                          |17/?[00:00<00:00,23.32it/s]"
     ]
    },
    {
     "name": "stdout",
     "output_type": "stream",
     "text": [
      "\u001b[32m[1123 13:01:47 @DATSGAN.py:266]\u001b[0m Loading Preprocessor!\n"
     ]
    },
    {
     "name": "stderr",
     "output_type": "stream",
     "text": [
      "\n",
      "|                                                                                          |17/?[00:00<00:00,23.22it/s]"
     ]
    },
    {
     "name": "stdout",
     "output_type": "stream",
     "text": [
      "\u001b[32m[1123 13:01:48 @DATSGAN.py:266]\u001b[0m Loading Preprocessor!\n"
     ]
    },
    {
     "name": "stderr",
     "output_type": "stream",
     "text": [
      "\n",
      "|                                                                                          |17/?[00:00<00:00,23.62it/s]"
     ]
    },
    {
     "name": "stdout",
     "output_type": "stream",
     "text": [
      "\u001b[32m[1123 13:01:49 @DATSGAN.py:266]\u001b[0m Loading Preprocessor!\n"
     ]
    },
    {
     "name": "stderr",
     "output_type": "stream",
     "text": [
      "\n",
      "|                                                                                          |17/?[00:00<00:00,23.44it/s]"
     ]
    },
    {
     "name": "stdout",
     "output_type": "stream",
     "text": [
      "\u001b[32m[1123 13:01:49 @DATSGAN.py:266]\u001b[0m Loading Preprocessor!\n"
     ]
    },
    {
     "name": "stderr",
     "output_type": "stream",
     "text": [
      "\n",
      "|                                                                                          |17/?[00:00<00:00,23.46it/s]"
     ]
    },
    {
     "name": "stdout",
     "output_type": "stream",
     "text": [
      "\u001b[32m[1123 13:01:50 @DATSGAN.py:266]\u001b[0m Loading Preprocessor!\n"
     ]
    },
    {
     "name": "stderr",
     "output_type": "stream",
     "text": [
      "\n",
      "|                                                                                          |17/?[00:00<00:00,23.38it/s]"
     ]
    },
    {
     "name": "stdout",
     "output_type": "stream",
     "text": [
      "\u001b[32m[1123 13:01:51 @DATSGAN.py:266]\u001b[0m Loading Preprocessor!\n"
     ]
    },
    {
     "name": "stderr",
     "output_type": "stream",
     "text": [
      "\n",
      "|                                                                                          |17/?[00:00<00:00,23.65it/s]\n"
     ]
    },
    {
     "name": "stdout",
     "output_type": "stream",
     "text": [
      "Sampling synthetic data from model \u001b[1mWGAN_OR_03\u001b[0m (28/55)\n",
      "\u001b[32m[1123 13:01:57 @DATSGANModel.py:205]\u001b[0m \u001b[91mCreating cell for age (in-edges: 0; ancestors: 0)\n",
      "\u001b[32m[1123 13:01:57 @DATSGANModel.py:205]\u001b[0m \u001b[91mCreating cell for gender (in-edges: 0; ancestors: 0)\n",
      "\u001b[32m[1123 13:01:57 @DATSGANModel.py:205]\u001b[0m \u001b[91mCreating cell for travel_dow (in-edges: 0; ancestors: 0)\n",
      "\u001b[32m[1123 13:01:57 @DATSGANModel.py:205]\u001b[0m \u001b[91mCreating cell for license (in-edges: 1; ancestors: 1)\n",
      "\u001b[32m[1123 13:01:57 @DATSGANModel.py:205]\u001b[0m \u001b[91mCreating cell for education_level (in-edges: 1; ancestors: 1)\n",
      "\u001b[32m[1123 13:01:57 @DATSGANModel.py:205]\u001b[0m \u001b[91mCreating cell for work_status (in-edges: 2; ancestors: 3)\n",
      "\u001b[32m[1123 13:01:57 @DATSGANModel.py:205]\u001b[0m \u001b[91mCreating cell for hh_income (in-edges: 2; ancestors: 4)\n",
      "\u001b[32m[1123 13:01:57 @DATSGANModel.py:205]\u001b[0m \u001b[91mCreating cell for trip_purpose (in-edges: 1; ancestors: 4)\n",
      "\u001b[32m[1123 13:01:58 @DATSGANModel.py:205]\u001b[0m \u001b[91mCreating cell for hh_descr (in-edges: 2; ancestors: 5)\n",
      "\u001b[32m[1123 13:01:58 @DATSGANModel.py:205]\u001b[0m \u001b[91mCreating cell for hh_size (in-edges: 3; ancestors: 5)\n",
      "\u001b[32m[1123 13:01:58 @DATSGANModel.py:205]\u001b[0m \u001b[91mCreating cell for departure_time (in-edges: 1; ancestors: 5)\n",
      "\u001b[32m[1123 13:01:58 @DATSGANModel.py:205]\u001b[0m \u001b[91mCreating cell for distance (in-edges: 1; ancestors: 5)\n",
      "\u001b[32m[1123 13:01:58 @DATSGANModel.py:205]\u001b[0m \u001b[91mCreating cell for hh_vehicles (in-edges: 2; ancestors: 6)\n",
      "\u001b[32m[1123 13:01:58 @DATSGANModel.py:205]\u001b[0m \u001b[91mCreating cell for hh_bikes (in-edges: 2; ancestors: 6)\n",
      "\u001b[32m[1123 13:01:58 @DATSGANModel.py:205]\u001b[0m \u001b[91mCreating cell for choice (in-edges: 7; ancestors: 13)\n",
      "\u001b[32m[1123 13:01:58 @sessinit.py:87]\u001b[0m \u001b[5m\u001b[31mWRN\u001b[0m The following variables are in the checkpoint, but not found in the graph: global_step\n",
      "INFO:tensorflow:Graph was finalized.\n",
      "INFO:tensorflow:Running local_init_op.\n",
      "INFO:tensorflow:Done running local_init_op.\n",
      "\u001b[32m[1123 13:01:59 @sessinit.py:114]\u001b[0m Restoring checkpoint from ../output/Chicago/WGAN_OR_03/model\\model-25499 ...\n",
      "INFO:tensorflow:Restoring parameters from ../output/Chicago/WGAN_OR_03/model\\model-25499\n",
      "\u001b[32m[1123 13:02:00 @DATSGAN.py:266]\u001b[0m Loading Preprocessor!\n"
     ]
    },
    {
     "name": "stderr",
     "output_type": "stream",
     "text": [
      "|                                                                                          |17/?[00:00<00:00,17.22it/s]"
     ]
    },
    {
     "name": "stdout",
     "output_type": "stream",
     "text": [
      "\u001b[32m[1123 13:02:01 @DATSGAN.py:266]\u001b[0m Loading Preprocessor!\n"
     ]
    },
    {
     "name": "stderr",
     "output_type": "stream",
     "text": [
      "\n",
      "|                                                                                          |17/?[00:00<00:00,22.97it/s]"
     ]
    },
    {
     "name": "stdout",
     "output_type": "stream",
     "text": [
      "\u001b[32m[1123 13:02:01 @DATSGAN.py:266]\u001b[0m Loading Preprocessor!\n"
     ]
    },
    {
     "name": "stderr",
     "output_type": "stream",
     "text": [
      "\n",
      "|                                                                                          |17/?[00:00<00:00,22.76it/s]"
     ]
    },
    {
     "name": "stdout",
     "output_type": "stream",
     "text": [
      "\u001b[32m[1123 13:02:02 @DATSGAN.py:266]\u001b[0m Loading Preprocessor!\n"
     ]
    },
    {
     "name": "stderr",
     "output_type": "stream",
     "text": [
      "\n",
      "|                                                                                          |17/?[00:00<00:00,22.76it/s]"
     ]
    },
    {
     "name": "stdout",
     "output_type": "stream",
     "text": [
      "\u001b[32m[1123 13:02:03 @DATSGAN.py:266]\u001b[0m Loading Preprocessor!\n"
     ]
    },
    {
     "name": "stderr",
     "output_type": "stream",
     "text": [
      "\n",
      "|                                                                                          |17/?[00:00<00:00,23.33it/s]"
     ]
    },
    {
     "name": "stdout",
     "output_type": "stream",
     "text": [
      "\u001b[32m[1123 13:02:04 @DATSGAN.py:266]\u001b[0m Loading Preprocessor!\n"
     ]
    },
    {
     "name": "stderr",
     "output_type": "stream",
     "text": [
      "\n",
      "|                                                                                          |17/?[00:00<00:00,23.67it/s]"
     ]
    },
    {
     "name": "stdout",
     "output_type": "stream",
     "text": [
      "\u001b[32m[1123 13:02:05 @DATSGAN.py:266]\u001b[0m Loading Preprocessor!\n"
     ]
    },
    {
     "name": "stderr",
     "output_type": "stream",
     "text": [
      "\n",
      "|                                                                                          |17/?[00:00<00:00,23.32it/s]"
     ]
    },
    {
     "name": "stdout",
     "output_type": "stream",
     "text": [
      "\u001b[32m[1123 13:02:06 @DATSGAN.py:266]\u001b[0m Loading Preprocessor!\n"
     ]
    },
    {
     "name": "stderr",
     "output_type": "stream",
     "text": [
      "\n",
      "|                                                                                          |17/?[00:00<00:00,23.57it/s]"
     ]
    },
    {
     "name": "stdout",
     "output_type": "stream",
     "text": [
      "\u001b[32m[1123 13:02:07 @DATSGAN.py:266]\u001b[0m Loading Preprocessor!\n"
     ]
    },
    {
     "name": "stderr",
     "output_type": "stream",
     "text": [
      "\n",
      "|                                                                                          |17/?[00:00<00:00,23.56it/s]"
     ]
    },
    {
     "name": "stdout",
     "output_type": "stream",
     "text": [
      "\u001b[32m[1123 13:02:08 @DATSGAN.py:266]\u001b[0m Loading Preprocessor!\n"
     ]
    },
    {
     "name": "stderr",
     "output_type": "stream",
     "text": [
      "\n",
      "|                                                                                          |17/?[00:00<00:00,23.33it/s]"
     ]
    },
    {
     "name": "stdout",
     "output_type": "stream",
     "text": [
      "\u001b[32m[1123 13:02:09 @DATSGAN.py:266]\u001b[0m Loading Preprocessor!\n"
     ]
    },
    {
     "name": "stderr",
     "output_type": "stream",
     "text": [
      "\n",
      "|                                                                                          |17/?[00:00<00:00,23.32it/s]"
     ]
    },
    {
     "name": "stdout",
     "output_type": "stream",
     "text": [
      "\u001b[32m[1123 13:02:10 @DATSGAN.py:266]\u001b[0m Loading Preprocessor!\n"
     ]
    },
    {
     "name": "stderr",
     "output_type": "stream",
     "text": [
      "\n",
      "|                                                                                          |17/?[00:00<00:00,23.19it/s]"
     ]
    },
    {
     "name": "stdout",
     "output_type": "stream",
     "text": [
      "\u001b[32m[1123 13:02:11 @DATSGAN.py:266]\u001b[0m Loading Preprocessor!\n"
     ]
    },
    {
     "name": "stderr",
     "output_type": "stream",
     "text": [
      "\n",
      "|                                                                                          |17/?[00:00<00:00,23.28it/s]"
     ]
    },
    {
     "name": "stdout",
     "output_type": "stream",
     "text": [
      "\u001b[32m[1123 13:02:11 @DATSGAN.py:266]\u001b[0m Loading Preprocessor!\n"
     ]
    },
    {
     "name": "stderr",
     "output_type": "stream",
     "text": [
      "\n",
      "|                                                                                          |17/?[00:00<00:00,23.30it/s]"
     ]
    },
    {
     "name": "stdout",
     "output_type": "stream",
     "text": [
      "\u001b[32m[1123 13:02:12 @DATSGAN.py:266]\u001b[0m Loading Preprocessor!\n"
     ]
    },
    {
     "name": "stderr",
     "output_type": "stream",
     "text": [
      "\n",
      "|                                                                                          |17/?[00:00<00:00,23.46it/s]\n"
     ]
    },
    {
     "name": "stdout",
     "output_type": "stream",
     "text": [
      "Sampling synthetic data from model \u001b[1mWGAN_OR_04\u001b[0m (29/55)\n",
      "\u001b[32m[1123 13:02:19 @DATSGANModel.py:205]\u001b[0m \u001b[91mCreating cell for age (in-edges: 0; ancestors: 0)\n",
      "\u001b[32m[1123 13:02:19 @DATSGANModel.py:205]\u001b[0m \u001b[91mCreating cell for gender (in-edges: 0; ancestors: 0)\n",
      "\u001b[32m[1123 13:02:19 @DATSGANModel.py:205]\u001b[0m \u001b[91mCreating cell for travel_dow (in-edges: 0; ancestors: 0)\n",
      "\u001b[32m[1123 13:02:19 @DATSGANModel.py:205]\u001b[0m \u001b[91mCreating cell for license (in-edges: 1; ancestors: 1)\n",
      "\u001b[32m[1123 13:02:19 @DATSGANModel.py:205]\u001b[0m \u001b[91mCreating cell for education_level (in-edges: 1; ancestors: 1)\n",
      "\u001b[32m[1123 13:02:19 @DATSGANModel.py:205]\u001b[0m \u001b[91mCreating cell for work_status (in-edges: 2; ancestors: 3)\n",
      "\u001b[32m[1123 13:02:19 @DATSGANModel.py:205]\u001b[0m \u001b[91mCreating cell for hh_income (in-edges: 2; ancestors: 4)\n",
      "\u001b[32m[1123 13:02:19 @DATSGANModel.py:205]\u001b[0m \u001b[91mCreating cell for trip_purpose (in-edges: 1; ancestors: 4)\n",
      "\u001b[32m[1123 13:02:19 @DATSGANModel.py:205]\u001b[0m \u001b[91mCreating cell for hh_descr (in-edges: 2; ancestors: 5)\n",
      "\u001b[32m[1123 13:02:19 @DATSGANModel.py:205]\u001b[0m \u001b[91mCreating cell for hh_size (in-edges: 3; ancestors: 5)\n",
      "\u001b[32m[1123 13:02:19 @DATSGANModel.py:205]\u001b[0m \u001b[91mCreating cell for departure_time (in-edges: 1; ancestors: 5)\n",
      "\u001b[32m[1123 13:02:19 @DATSGANModel.py:205]\u001b[0m \u001b[91mCreating cell for distance (in-edges: 1; ancestors: 5)\n",
      "\u001b[32m[1123 13:02:19 @DATSGANModel.py:205]\u001b[0m \u001b[91mCreating cell for hh_vehicles (in-edges: 2; ancestors: 6)\n",
      "\u001b[32m[1123 13:02:19 @DATSGANModel.py:205]\u001b[0m \u001b[91mCreating cell for hh_bikes (in-edges: 2; ancestors: 6)\n",
      "\u001b[32m[1123 13:02:20 @DATSGANModel.py:205]\u001b[0m \u001b[91mCreating cell for choice (in-edges: 7; ancestors: 13)\n",
      "\u001b[32m[1123 13:02:20 @sessinit.py:87]\u001b[0m \u001b[5m\u001b[31mWRN\u001b[0m The following variables are in the checkpoint, but not found in the graph: global_step\n",
      "INFO:tensorflow:Graph was finalized.\n",
      "INFO:tensorflow:Running local_init_op.\n",
      "INFO:tensorflow:Done running local_init_op.\n",
      "\u001b[32m[1123 13:02:21 @sessinit.py:114]\u001b[0m Restoring checkpoint from ../output/Chicago/WGAN_OR_04/model\\model-25499 ...\n",
      "INFO:tensorflow:Restoring parameters from ../output/Chicago/WGAN_OR_04/model\\model-25499\n",
      "\u001b[32m[1123 13:02:21 @DATSGAN.py:266]\u001b[0m Loading Preprocessor!\n"
     ]
    },
    {
     "name": "stderr",
     "output_type": "stream",
     "text": [
      "|                                                                                          |17/?[00:00<00:00,17.94it/s]"
     ]
    },
    {
     "name": "stdout",
     "output_type": "stream",
     "text": [
      "\u001b[32m[1123 13:02:22 @DATSGAN.py:266]\u001b[0m Loading Preprocessor!\n"
     ]
    },
    {
     "name": "stderr",
     "output_type": "stream",
     "text": [
      "\n",
      "|                                                                                          |17/?[00:00<00:00,23.19it/s]"
     ]
    },
    {
     "name": "stdout",
     "output_type": "stream",
     "text": [
      "\u001b[32m[1123 13:02:23 @DATSGAN.py:266]\u001b[0m Loading Preprocessor!\n"
     ]
    },
    {
     "name": "stderr",
     "output_type": "stream",
     "text": [
      "\n",
      "|                                                                                          |17/?[00:00<00:00,23.51it/s]"
     ]
    },
    {
     "name": "stdout",
     "output_type": "stream",
     "text": [
      "\u001b[32m[1123 13:02:24 @DATSGAN.py:266]\u001b[0m Loading Preprocessor!\n"
     ]
    },
    {
     "name": "stderr",
     "output_type": "stream",
     "text": [
      "\n",
      "|                                                                                          |17/?[00:00<00:00,23.52it/s]"
     ]
    },
    {
     "name": "stdout",
     "output_type": "stream",
     "text": [
      "\u001b[32m[1123 13:02:24 @DATSGAN.py:266]\u001b[0m Loading Preprocessor!\n"
     ]
    },
    {
     "name": "stderr",
     "output_type": "stream",
     "text": [
      "\n",
      "|                                                                                          |17/?[00:00<00:00,23.28it/s]"
     ]
    },
    {
     "name": "stdout",
     "output_type": "stream",
     "text": [
      "\u001b[32m[1123 13:02:25 @DATSGAN.py:266]\u001b[0m Loading Preprocessor!\n"
     ]
    },
    {
     "name": "stderr",
     "output_type": "stream",
     "text": [
      "\n",
      "|                                                                                          |17/?[00:00<00:00,23.43it/s]"
     ]
    },
    {
     "name": "stdout",
     "output_type": "stream",
     "text": [
      "\u001b[32m[1123 13:02:26 @DATSGAN.py:266]\u001b[0m Loading Preprocessor!\n"
     ]
    },
    {
     "name": "stderr",
     "output_type": "stream",
     "text": [
      "\n",
      "|                                                                                          |17/?[00:00<00:00,23.30it/s]"
     ]
    },
    {
     "name": "stdout",
     "output_type": "stream",
     "text": [
      "\u001b[32m[1123 13:02:27 @DATSGAN.py:266]\u001b[0m Loading Preprocessor!\n"
     ]
    },
    {
     "name": "stderr",
     "output_type": "stream",
     "text": [
      "\n",
      "|                                                                                          |17/?[00:00<00:00,23.76it/s]"
     ]
    },
    {
     "name": "stdout",
     "output_type": "stream",
     "text": [
      "\u001b[32m[1123 13:02:28 @DATSGAN.py:266]\u001b[0m Loading Preprocessor!\n"
     ]
    },
    {
     "name": "stderr",
     "output_type": "stream",
     "text": [
      "\n",
      "|                                                                                          |17/?[00:00<00:00,23.68it/s]"
     ]
    },
    {
     "name": "stdout",
     "output_type": "stream",
     "text": [
      "\u001b[32m[1123 13:02:28 @DATSGAN.py:266]\u001b[0m Loading Preprocessor!\n"
     ]
    },
    {
     "name": "stderr",
     "output_type": "stream",
     "text": [
      "\n",
      "|                                                                                          |17/?[00:00<00:00,23.38it/s]"
     ]
    },
    {
     "name": "stdout",
     "output_type": "stream",
     "text": [
      "\u001b[32m[1123 13:02:29 @DATSGAN.py:266]\u001b[0m Loading Preprocessor!\n"
     ]
    },
    {
     "name": "stderr",
     "output_type": "stream",
     "text": [
      "\n",
      "|                                                                                          |17/?[00:00<00:00,23.72it/s]"
     ]
    },
    {
     "name": "stdout",
     "output_type": "stream",
     "text": [
      "\u001b[32m[1123 13:02:30 @DATSGAN.py:266]\u001b[0m Loading Preprocessor!\n"
     ]
    },
    {
     "name": "stderr",
     "output_type": "stream",
     "text": [
      "\n",
      "|                                                                                          |17/?[00:00<00:00,23.40it/s]"
     ]
    },
    {
     "name": "stdout",
     "output_type": "stream",
     "text": [
      "\u001b[32m[1123 13:02:31 @DATSGAN.py:266]\u001b[0m Loading Preprocessor!\n"
     ]
    },
    {
     "name": "stderr",
     "output_type": "stream",
     "text": [
      "\n",
      "|                                                                                          |17/?[00:00<00:00,23.00it/s]"
     ]
    },
    {
     "name": "stdout",
     "output_type": "stream",
     "text": [
      "\u001b[32m[1123 13:02:31 @DATSGAN.py:266]\u001b[0m Loading Preprocessor!\n"
     ]
    },
    {
     "name": "stderr",
     "output_type": "stream",
     "text": [
      "\n",
      "|                                                                                          |17/?[00:00<00:00,23.41it/s]"
     ]
    },
    {
     "name": "stdout",
     "output_type": "stream",
     "text": [
      "\u001b[32m[1123 13:02:32 @DATSGAN.py:266]\u001b[0m Loading Preprocessor!\n"
     ]
    },
    {
     "name": "stderr",
     "output_type": "stream",
     "text": [
      "\n",
      "|                                                                                          |17/?[00:00<00:00,23.22it/s]\n"
     ]
    },
    {
     "name": "stdout",
     "output_type": "stream",
     "text": [
      "Sampling synthetic data from model \u001b[1mWGAN_OR_05\u001b[0m (30/55)\n",
      "\u001b[32m[1123 13:02:38 @DATSGANModel.py:205]\u001b[0m \u001b[91mCreating cell for age (in-edges: 0; ancestors: 0)\n",
      "\u001b[32m[1123 13:02:38 @DATSGANModel.py:205]\u001b[0m \u001b[91mCreating cell for gender (in-edges: 0; ancestors: 0)\n",
      "\u001b[32m[1123 13:02:38 @DATSGANModel.py:205]\u001b[0m \u001b[91mCreating cell for travel_dow (in-edges: 0; ancestors: 0)\n",
      "\u001b[32m[1123 13:02:39 @DATSGANModel.py:205]\u001b[0m \u001b[91mCreating cell for license (in-edges: 1; ancestors: 1)\n",
      "\u001b[32m[1123 13:02:39 @DATSGANModel.py:205]\u001b[0m \u001b[91mCreating cell for education_level (in-edges: 1; ancestors: 1)\n",
      "\u001b[32m[1123 13:02:39 @DATSGANModel.py:205]\u001b[0m \u001b[91mCreating cell for work_status (in-edges: 2; ancestors: 3)\n",
      "\u001b[32m[1123 13:02:39 @DATSGANModel.py:205]\u001b[0m \u001b[91mCreating cell for hh_income (in-edges: 2; ancestors: 4)\n",
      "\u001b[32m[1123 13:02:39 @DATSGANModel.py:205]\u001b[0m \u001b[91mCreating cell for trip_purpose (in-edges: 1; ancestors: 4)\n",
      "\u001b[32m[1123 13:02:39 @DATSGANModel.py:205]\u001b[0m \u001b[91mCreating cell for hh_descr (in-edges: 2; ancestors: 5)\n",
      "\u001b[32m[1123 13:02:39 @DATSGANModel.py:205]\u001b[0m \u001b[91mCreating cell for hh_size (in-edges: 3; ancestors: 5)\n",
      "\u001b[32m[1123 13:02:39 @DATSGANModel.py:205]\u001b[0m \u001b[91mCreating cell for departure_time (in-edges: 1; ancestors: 5)\n",
      "\u001b[32m[1123 13:02:39 @DATSGANModel.py:205]\u001b[0m \u001b[91mCreating cell for distance (in-edges: 1; ancestors: 5)\n",
      "\u001b[32m[1123 13:02:39 @DATSGANModel.py:205]\u001b[0m \u001b[91mCreating cell for hh_vehicles (in-edges: 2; ancestors: 6)\n",
      "\u001b[32m[1123 13:02:39 @DATSGANModel.py:205]\u001b[0m \u001b[91mCreating cell for hh_bikes (in-edges: 2; ancestors: 6)\n",
      "\u001b[32m[1123 13:02:39 @DATSGANModel.py:205]\u001b[0m \u001b[91mCreating cell for choice (in-edges: 7; ancestors: 13)\n",
      "\u001b[32m[1123 13:02:40 @sessinit.py:87]\u001b[0m \u001b[5m\u001b[31mWRN\u001b[0m The following variables are in the checkpoint, but not found in the graph: global_step\n",
      "INFO:tensorflow:Graph was finalized.\n",
      "INFO:tensorflow:Running local_init_op.\n",
      "INFO:tensorflow:Done running local_init_op.\n",
      "\u001b[32m[1123 13:02:40 @sessinit.py:114]\u001b[0m Restoring checkpoint from ../output/Chicago/WGAN_OR_05/model\\model-25499 ...\n",
      "INFO:tensorflow:Restoring parameters from ../output/Chicago/WGAN_OR_05/model\\model-25499\n",
      "\u001b[32m[1123 13:02:41 @DATSGAN.py:266]\u001b[0m Loading Preprocessor!\n"
     ]
    },
    {
     "name": "stderr",
     "output_type": "stream",
     "text": [
      "|                                                                                          |17/?[00:00<00:00,17.94it/s]"
     ]
    },
    {
     "name": "stdout",
     "output_type": "stream",
     "text": [
      "\u001b[32m[1123 13:02:42 @DATSGAN.py:266]\u001b[0m Loading Preprocessor!\n"
     ]
    },
    {
     "name": "stderr",
     "output_type": "stream",
     "text": [
      "\n",
      "|                                                                                          |17/?[00:00<00:00,23.49it/s]"
     ]
    },
    {
     "name": "stdout",
     "output_type": "stream",
     "text": [
      "\u001b[32m[1123 13:02:42 @DATSGAN.py:266]\u001b[0m Loading Preprocessor!\n"
     ]
    },
    {
     "name": "stderr",
     "output_type": "stream",
     "text": [
      "\n",
      "|                                                                                          |17/?[00:00<00:00,23.27it/s]"
     ]
    },
    {
     "name": "stdout",
     "output_type": "stream",
     "text": [
      "\u001b[32m[1123 13:02:43 @DATSGAN.py:266]\u001b[0m Loading Preprocessor!\n"
     ]
    },
    {
     "name": "stderr",
     "output_type": "stream",
     "text": [
      "\n",
      "|                                                                                          |17/?[00:00<00:00,23.45it/s]"
     ]
    },
    {
     "name": "stdout",
     "output_type": "stream",
     "text": [
      "\u001b[32m[1123 13:02:44 @DATSGAN.py:266]\u001b[0m Loading Preprocessor!\n"
     ]
    },
    {
     "name": "stderr",
     "output_type": "stream",
     "text": [
      "\n",
      "|                                                                                          |17/?[00:00<00:00,23.05it/s]"
     ]
    },
    {
     "name": "stdout",
     "output_type": "stream",
     "text": [
      "\u001b[32m[1123 13:02:45 @DATSGAN.py:266]\u001b[0m Loading Preprocessor!\n"
     ]
    },
    {
     "name": "stderr",
     "output_type": "stream",
     "text": [
      "\n",
      "|                                                                                          |17/?[00:00<00:00,23.22it/s]"
     ]
    },
    {
     "name": "stdout",
     "output_type": "stream",
     "text": [
      "\u001b[32m[1123 13:02:46 @DATSGAN.py:266]\u001b[0m Loading Preprocessor!\n"
     ]
    },
    {
     "name": "stderr",
     "output_type": "stream",
     "text": [
      "\n",
      "|                                                                                          |17/?[00:00<00:00,23.30it/s]"
     ]
    },
    {
     "name": "stdout",
     "output_type": "stream",
     "text": [
      "\u001b[32m[1123 13:02:46 @DATSGAN.py:266]\u001b[0m Loading Preprocessor!\n"
     ]
    },
    {
     "name": "stderr",
     "output_type": "stream",
     "text": [
      "\n",
      "|                                                                                          |17/?[00:00<00:00,23.68it/s]"
     ]
    },
    {
     "name": "stdout",
     "output_type": "stream",
     "text": [
      "\u001b[32m[1123 13:02:47 @DATSGAN.py:266]\u001b[0m Loading Preprocessor!\n"
     ]
    },
    {
     "name": "stderr",
     "output_type": "stream",
     "text": [
      "\n",
      "|                                                                                          |17/?[00:00<00:00,23.11it/s]"
     ]
    },
    {
     "name": "stdout",
     "output_type": "stream",
     "text": [
      "\u001b[32m[1123 13:02:48 @DATSGAN.py:266]\u001b[0m Loading Preprocessor!\n"
     ]
    },
    {
     "name": "stderr",
     "output_type": "stream",
     "text": [
      "\n",
      "|                                                                                          |17/?[00:00<00:00,23.19it/s]"
     ]
    },
    {
     "name": "stdout",
     "output_type": "stream",
     "text": [
      "\u001b[32m[1123 13:02:49 @DATSGAN.py:266]\u001b[0m Loading Preprocessor!\n"
     ]
    },
    {
     "name": "stderr",
     "output_type": "stream",
     "text": [
      "\n",
      "|                                                                                          |17/?[00:00<00:00,23.53it/s]"
     ]
    },
    {
     "name": "stdout",
     "output_type": "stream",
     "text": [
      "\u001b[32m[1123 13:02:50 @DATSGAN.py:266]\u001b[0m Loading Preprocessor!\n"
     ]
    },
    {
     "name": "stderr",
     "output_type": "stream",
     "text": [
      "\n",
      "|                                                                                          |17/?[00:00<00:00,23.08it/s]"
     ]
    },
    {
     "name": "stdout",
     "output_type": "stream",
     "text": [
      "\u001b[32m[1123 13:02:50 @DATSGAN.py:266]\u001b[0m Loading Preprocessor!\n"
     ]
    },
    {
     "name": "stderr",
     "output_type": "stream",
     "text": [
      "\n",
      "|                                                                                          |17/?[00:00<00:00,22.79it/s]"
     ]
    },
    {
     "name": "stdout",
     "output_type": "stream",
     "text": [
      "\u001b[32m[1123 13:02:51 @DATSGAN.py:266]\u001b[0m Loading Preprocessor!\n"
     ]
    },
    {
     "name": "stderr",
     "output_type": "stream",
     "text": [
      "\n",
      "|                                                                                          |17/?[00:00<00:00,23.46it/s]"
     ]
    },
    {
     "name": "stdout",
     "output_type": "stream",
     "text": [
      "\u001b[32m[1123 13:02:52 @DATSGAN.py:266]\u001b[0m Loading Preprocessor!\n"
     ]
    },
    {
     "name": "stderr",
     "output_type": "stream",
     "text": [
      "\n",
      "|                                                                                          |17/?[00:00<00:00,23.47it/s]\n"
     ]
    },
    {
     "name": "stdout",
     "output_type": "stream",
     "text": [
      "Sampling synthetic data from model \u001b[1mWGAN_WI_01\u001b[0m (31/55)\n",
      "\u001b[32m[1123 13:02:58 @DATSGANModel.py:205]\u001b[0m \u001b[91mCreating cell for age (in-edges: 0; ancestors: 0)\n",
      "\u001b[32m[1123 13:02:58 @DATSGANModel.py:205]\u001b[0m \u001b[91mCreating cell for gender (in-edges: 0; ancestors: 0)\n",
      "\u001b[32m[1123 13:02:58 @DATSGANModel.py:205]\u001b[0m \u001b[91mCreating cell for travel_dow (in-edges: 0; ancestors: 0)\n",
      "\u001b[32m[1123 13:02:58 @DATSGANModel.py:205]\u001b[0m \u001b[91mCreating cell for license (in-edges: 1; ancestors: 1)\n",
      "\u001b[32m[1123 13:02:58 @DATSGANModel.py:205]\u001b[0m \u001b[91mCreating cell for education_level (in-edges: 1; ancestors: 1)\n",
      "\u001b[32m[1123 13:02:58 @DATSGANModel.py:205]\u001b[0m \u001b[91mCreating cell for work_status (in-edges: 2; ancestors: 3)\n",
      "\u001b[32m[1123 13:02:58 @DATSGANModel.py:205]\u001b[0m \u001b[91mCreating cell for hh_income (in-edges: 2; ancestors: 4)\n",
      "\u001b[32m[1123 13:02:58 @DATSGANModel.py:205]\u001b[0m \u001b[91mCreating cell for trip_purpose (in-edges: 1; ancestors: 4)\n",
      "\u001b[32m[1123 13:02:59 @DATSGANModel.py:205]\u001b[0m \u001b[91mCreating cell for hh_descr (in-edges: 2; ancestors: 5)\n",
      "\u001b[32m[1123 13:02:59 @DATSGANModel.py:205]\u001b[0m \u001b[91mCreating cell for hh_size (in-edges: 3; ancestors: 5)\n",
      "\u001b[32m[1123 13:02:59 @DATSGANModel.py:205]\u001b[0m \u001b[91mCreating cell for departure_time (in-edges: 1; ancestors: 5)\n",
      "\u001b[32m[1123 13:02:59 @DATSGANModel.py:205]\u001b[0m \u001b[91mCreating cell for distance (in-edges: 1; ancestors: 5)\n",
      "\u001b[32m[1123 13:02:59 @DATSGANModel.py:205]\u001b[0m \u001b[91mCreating cell for hh_vehicles (in-edges: 2; ancestors: 6)\n",
      "\u001b[32m[1123 13:02:59 @DATSGANModel.py:205]\u001b[0m \u001b[91mCreating cell for hh_bikes (in-edges: 2; ancestors: 6)\n",
      "\u001b[32m[1123 13:02:59 @DATSGANModel.py:205]\u001b[0m \u001b[91mCreating cell for choice (in-edges: 7; ancestors: 13)\n",
      "\u001b[32m[1123 13:02:59 @sessinit.py:87]\u001b[0m \u001b[5m\u001b[31mWRN\u001b[0m The following variables are in the checkpoint, but not found in the graph: global_step\n",
      "INFO:tensorflow:Graph was finalized.\n",
      "INFO:tensorflow:Running local_init_op.\n",
      "INFO:tensorflow:Done running local_init_op.\n",
      "\u001b[32m[1123 13:03:00 @sessinit.py:114]\u001b[0m Restoring checkpoint from ../output/Chicago/WGAN_WI_01/model\\model-25499 ...\n",
      "INFO:tensorflow:Restoring parameters from ../output/Chicago/WGAN_WI_01/model\\model-25499\n",
      "\u001b[32m[1123 13:03:01 @DATSGAN.py:266]\u001b[0m Loading Preprocessor!\n"
     ]
    },
    {
     "name": "stderr",
     "output_type": "stream",
     "text": [
      "|                                                                                          |17/?[00:00<00:00,18.14it/s]"
     ]
    },
    {
     "name": "stdout",
     "output_type": "stream",
     "text": [
      "\u001b[32m[1123 13:03:02 @DATSGAN.py:266]\u001b[0m Loading Preprocessor!\n"
     ]
    },
    {
     "name": "stderr",
     "output_type": "stream",
     "text": [
      "\n",
      "|                                                                                          |17/?[00:00<00:00,23.32it/s]"
     ]
    },
    {
     "name": "stdout",
     "output_type": "stream",
     "text": [
      "\u001b[32m[1123 13:03:02 @DATSGAN.py:266]\u001b[0m Loading Preprocessor!\n"
     ]
    },
    {
     "name": "stderr",
     "output_type": "stream",
     "text": [
      "\n",
      "|                                                                                          |17/?[00:00<00:00,23.32it/s]"
     ]
    },
    {
     "name": "stdout",
     "output_type": "stream",
     "text": [
      "\u001b[32m[1123 13:03:03 @DATSGAN.py:266]\u001b[0m Loading Preprocessor!\n"
     ]
    },
    {
     "name": "stderr",
     "output_type": "stream",
     "text": [
      "\n",
      "|                                                                                          |17/?[00:00<00:00,23.57it/s]"
     ]
    },
    {
     "name": "stdout",
     "output_type": "stream",
     "text": [
      "\u001b[32m[1123 13:03:04 @DATSGAN.py:266]\u001b[0m Loading Preprocessor!\n"
     ]
    },
    {
     "name": "stderr",
     "output_type": "stream",
     "text": [
      "\n",
      "|                                                                                          |17/?[00:00<00:00,23.19it/s]"
     ]
    },
    {
     "name": "stdout",
     "output_type": "stream",
     "text": [
      "\u001b[32m[1123 13:03:05 @DATSGAN.py:266]\u001b[0m Loading Preprocessor!\n"
     ]
    },
    {
     "name": "stderr",
     "output_type": "stream",
     "text": [
      "\n",
      "|                                                                                          |17/?[00:00<00:00,23.52it/s]"
     ]
    },
    {
     "name": "stdout",
     "output_type": "stream",
     "text": [
      "\u001b[32m[1123 13:03:05 @DATSGAN.py:266]\u001b[0m Loading Preprocessor!\n"
     ]
    },
    {
     "name": "stderr",
     "output_type": "stream",
     "text": [
      "\n",
      "|                                                                                          |17/?[00:00<00:00,23.48it/s]"
     ]
    },
    {
     "name": "stdout",
     "output_type": "stream",
     "text": [
      "\u001b[32m[1123 13:03:06 @DATSGAN.py:266]\u001b[0m Loading Preprocessor!\n"
     ]
    },
    {
     "name": "stderr",
     "output_type": "stream",
     "text": [
      "\n",
      "|                                                                                          |17/?[00:00<00:00,23.22it/s]"
     ]
    },
    {
     "name": "stdout",
     "output_type": "stream",
     "text": [
      "\u001b[32m[1123 13:03:07 @DATSGAN.py:266]\u001b[0m Loading Preprocessor!\n"
     ]
    },
    {
     "name": "stderr",
     "output_type": "stream",
     "text": [
      "\n",
      "|                                                                                          |17/?[00:00<00:00,23.27it/s]"
     ]
    },
    {
     "name": "stdout",
     "output_type": "stream",
     "text": [
      "\u001b[32m[1123 13:03:08 @DATSGAN.py:266]\u001b[0m Loading Preprocessor!\n"
     ]
    },
    {
     "name": "stderr",
     "output_type": "stream",
     "text": [
      "\n",
      "|                                                                                          |17/?[00:00<00:00,23.32it/s]"
     ]
    },
    {
     "name": "stdout",
     "output_type": "stream",
     "text": [
      "\u001b[32m[1123 13:03:09 @DATSGAN.py:266]\u001b[0m Loading Preprocessor!\n"
     ]
    },
    {
     "name": "stderr",
     "output_type": "stream",
     "text": [
      "\n",
      "|                                                                                          |17/?[00:00<00:00,23.43it/s]"
     ]
    },
    {
     "name": "stdout",
     "output_type": "stream",
     "text": [
      "\u001b[32m[1123 13:03:09 @DATSGAN.py:266]\u001b[0m Loading Preprocessor!\n"
     ]
    },
    {
     "name": "stderr",
     "output_type": "stream",
     "text": [
      "\n",
      "|                                                                                          |17/?[00:00<00:00,23.21it/s]"
     ]
    },
    {
     "name": "stdout",
     "output_type": "stream",
     "text": [
      "\u001b[32m[1123 13:03:10 @DATSGAN.py:266]\u001b[0m Loading Preprocessor!\n"
     ]
    },
    {
     "name": "stderr",
     "output_type": "stream",
     "text": [
      "\n",
      "|                                                                                          |17/?[00:00<00:00,23.41it/s]"
     ]
    },
    {
     "name": "stdout",
     "output_type": "stream",
     "text": [
      "\u001b[32m[1123 13:03:11 @DATSGAN.py:266]\u001b[0m Loading Preprocessor!\n"
     ]
    },
    {
     "name": "stderr",
     "output_type": "stream",
     "text": [
      "\n",
      "|                                                                                          |17/?[00:00<00:00,23.40it/s]"
     ]
    },
    {
     "name": "stdout",
     "output_type": "stream",
     "text": [
      "\u001b[32m[1123 13:03:12 @DATSGAN.py:266]\u001b[0m Loading Preprocessor!\n"
     ]
    },
    {
     "name": "stderr",
     "output_type": "stream",
     "text": [
      "\n",
      "|                                                                                          |17/?[00:00<00:00,23.71it/s]\n"
     ]
    },
    {
     "name": "stdout",
     "output_type": "stream",
     "text": [
      "Sampling synthetic data from model \u001b[1mWGAN_WI_02\u001b[0m (32/55)\n",
      "\u001b[32m[1123 13:03:18 @DATSGANModel.py:205]\u001b[0m \u001b[91mCreating cell for age (in-edges: 0; ancestors: 0)\n",
      "\u001b[32m[1123 13:03:18 @DATSGANModel.py:205]\u001b[0m \u001b[91mCreating cell for gender (in-edges: 0; ancestors: 0)\n",
      "\u001b[32m[1123 13:03:18 @DATSGANModel.py:205]\u001b[0m \u001b[91mCreating cell for travel_dow (in-edges: 0; ancestors: 0)\n",
      "\u001b[32m[1123 13:03:18 @DATSGANModel.py:205]\u001b[0m \u001b[91mCreating cell for license (in-edges: 1; ancestors: 1)\n",
      "\u001b[32m[1123 13:03:18 @DATSGANModel.py:205]\u001b[0m \u001b[91mCreating cell for education_level (in-edges: 1; ancestors: 1)\n",
      "\u001b[32m[1123 13:03:18 @DATSGANModel.py:205]\u001b[0m \u001b[91mCreating cell for work_status (in-edges: 2; ancestors: 3)\n",
      "\u001b[32m[1123 13:03:18 @DATSGANModel.py:205]\u001b[0m \u001b[91mCreating cell for hh_income (in-edges: 2; ancestors: 4)\n",
      "\u001b[32m[1123 13:03:18 @DATSGANModel.py:205]\u001b[0m \u001b[91mCreating cell for trip_purpose (in-edges: 1; ancestors: 4)\n",
      "\u001b[32m[1123 13:03:18 @DATSGANModel.py:205]\u001b[0m \u001b[91mCreating cell for hh_descr (in-edges: 2; ancestors: 5)\n",
      "\u001b[32m[1123 13:03:18 @DATSGANModel.py:205]\u001b[0m \u001b[91mCreating cell for hh_size (in-edges: 3; ancestors: 5)\n",
      "\u001b[32m[1123 13:03:19 @DATSGANModel.py:205]\u001b[0m \u001b[91mCreating cell for departure_time (in-edges: 1; ancestors: 5)\n",
      "\u001b[32m[1123 13:03:19 @DATSGANModel.py:205]\u001b[0m \u001b[91mCreating cell for distance (in-edges: 1; ancestors: 5)\n",
      "\u001b[32m[1123 13:03:19 @DATSGANModel.py:205]\u001b[0m \u001b[91mCreating cell for hh_vehicles (in-edges: 2; ancestors: 6)\n",
      "\u001b[32m[1123 13:03:19 @DATSGANModel.py:205]\u001b[0m \u001b[91mCreating cell for hh_bikes (in-edges: 2; ancestors: 6)\n",
      "\u001b[32m[1123 13:03:19 @DATSGANModel.py:205]\u001b[0m \u001b[91mCreating cell for choice (in-edges: 7; ancestors: 13)\n",
      "\u001b[32m[1123 13:03:19 @sessinit.py:87]\u001b[0m \u001b[5m\u001b[31mWRN\u001b[0m The following variables are in the checkpoint, but not found in the graph: global_step\n",
      "INFO:tensorflow:Graph was finalized.\n",
      "INFO:tensorflow:Running local_init_op.\n",
      "INFO:tensorflow:Done running local_init_op.\n",
      "\u001b[32m[1123 13:03:20 @sessinit.py:114]\u001b[0m Restoring checkpoint from ../output/Chicago/WGAN_WI_02/model\\model-25499 ...\n",
      "INFO:tensorflow:Restoring parameters from ../output/Chicago/WGAN_WI_02/model\\model-25499\n",
      "\u001b[32m[1123 13:03:20 @DATSGAN.py:266]\u001b[0m Loading Preprocessor!\n"
     ]
    },
    {
     "name": "stderr",
     "output_type": "stream",
     "text": [
      "|                                                                                          |17/?[00:00<00:00,17.81it/s]"
     ]
    },
    {
     "name": "stdout",
     "output_type": "stream",
     "text": [
      "\u001b[32m[1123 13:03:21 @DATSGAN.py:266]\u001b[0m Loading Preprocessor!\n"
     ]
    },
    {
     "name": "stderr",
     "output_type": "stream",
     "text": [
      "\n",
      "|                                                                                          |17/?[00:00<00:00,23.80it/s]"
     ]
    },
    {
     "name": "stdout",
     "output_type": "stream",
     "text": [
      "\u001b[32m[1123 13:03:22 @DATSGAN.py:266]\u001b[0m Loading Preprocessor!\n"
     ]
    },
    {
     "name": "stderr",
     "output_type": "stream",
     "text": [
      "\n",
      "|                                                                                          |17/?[00:00<00:00,23.47it/s]"
     ]
    },
    {
     "name": "stdout",
     "output_type": "stream",
     "text": [
      "\u001b[32m[1123 13:03:23 @DATSGAN.py:266]\u001b[0m Loading Preprocessor!\n"
     ]
    },
    {
     "name": "stderr",
     "output_type": "stream",
     "text": [
      "\n",
      "|                                                                                          |17/?[00:00<00:00,23.20it/s]"
     ]
    },
    {
     "name": "stdout",
     "output_type": "stream",
     "text": [
      "\u001b[32m[1123 13:03:24 @DATSGAN.py:266]\u001b[0m Loading Preprocessor!\n"
     ]
    },
    {
     "name": "stderr",
     "output_type": "stream",
     "text": [
      "\n",
      "|                                                                                          |17/?[00:00<00:00,23.35it/s]"
     ]
    },
    {
     "name": "stdout",
     "output_type": "stream",
     "text": [
      "\u001b[32m[1123 13:03:24 @DATSGAN.py:266]\u001b[0m Loading Preprocessor!\n"
     ]
    },
    {
     "name": "stderr",
     "output_type": "stream",
     "text": [
      "\n",
      "|                                                                                          |17/?[00:00<00:00,23.35it/s]"
     ]
    },
    {
     "name": "stdout",
     "output_type": "stream",
     "text": [
      "\u001b[32m[1123 13:03:25 @DATSGAN.py:266]\u001b[0m Loading Preprocessor!\n"
     ]
    },
    {
     "name": "stderr",
     "output_type": "stream",
     "text": [
      "\n",
      "|                                                                                          |17/?[00:00<00:00,23.49it/s]"
     ]
    },
    {
     "name": "stdout",
     "output_type": "stream",
     "text": [
      "\u001b[32m[1123 13:03:26 @DATSGAN.py:266]\u001b[0m Loading Preprocessor!\n"
     ]
    },
    {
     "name": "stderr",
     "output_type": "stream",
     "text": [
      "\n",
      "|                                                                                          |17/?[00:00<00:00,23.01it/s]"
     ]
    },
    {
     "name": "stdout",
     "output_type": "stream",
     "text": [
      "\u001b[32m[1123 13:03:27 @DATSGAN.py:266]\u001b[0m Loading Preprocessor!\n"
     ]
    },
    {
     "name": "stderr",
     "output_type": "stream",
     "text": [
      "\n",
      "|                                                                                          |17/?[00:00<00:00,23.45it/s]"
     ]
    },
    {
     "name": "stdout",
     "output_type": "stream",
     "text": [
      "\u001b[32m[1123 13:03:28 @DATSGAN.py:266]\u001b[0m Loading Preprocessor!\n"
     ]
    },
    {
     "name": "stderr",
     "output_type": "stream",
     "text": [
      "\n",
      "|                                                                                          |17/?[00:00<00:00,23.36it/s]"
     ]
    },
    {
     "name": "stdout",
     "output_type": "stream",
     "text": [
      "\u001b[32m[1123 13:03:28 @DATSGAN.py:266]\u001b[0m Loading Preprocessor!\n"
     ]
    },
    {
     "name": "stderr",
     "output_type": "stream",
     "text": [
      "\n",
      "|                                                                                          |17/?[00:00<00:00,23.01it/s]"
     ]
    },
    {
     "name": "stdout",
     "output_type": "stream",
     "text": [
      "\u001b[32m[1123 13:03:29 @DATSGAN.py:266]\u001b[0m Loading Preprocessor!\n"
     ]
    },
    {
     "name": "stderr",
     "output_type": "stream",
     "text": [
      "\n",
      "|                                                                                          |17/?[00:00<00:00,23.19it/s]"
     ]
    },
    {
     "name": "stdout",
     "output_type": "stream",
     "text": [
      "\u001b[32m[1123 13:03:30 @DATSGAN.py:266]\u001b[0m Loading Preprocessor!\n"
     ]
    },
    {
     "name": "stderr",
     "output_type": "stream",
     "text": [
      "\n",
      "|                                                                                          |17/?[00:00<00:00,23.46it/s]"
     ]
    },
    {
     "name": "stdout",
     "output_type": "stream",
     "text": [
      "\u001b[32m[1123 13:03:31 @DATSGAN.py:266]\u001b[0m Loading Preprocessor!\n"
     ]
    },
    {
     "name": "stderr",
     "output_type": "stream",
     "text": [
      "\n",
      "|                                                                                          |17/?[00:00<00:00,23.22it/s]"
     ]
    },
    {
     "name": "stdout",
     "output_type": "stream",
     "text": [
      "\u001b[32m[1123 13:03:32 @DATSGAN.py:266]\u001b[0m Loading Preprocessor!\n"
     ]
    },
    {
     "name": "stderr",
     "output_type": "stream",
     "text": [
      "\n",
      "|                                                                                          |17/?[00:00<00:00,22.83it/s]\n"
     ]
    },
    {
     "name": "stdout",
     "output_type": "stream",
     "text": [
      "Sampling synthetic data from model \u001b[1mWGAN_WI_03\u001b[0m (33/55)\n",
      "\u001b[32m[1123 13:03:38 @DATSGANModel.py:205]\u001b[0m \u001b[91mCreating cell for age (in-edges: 0; ancestors: 0)\n",
      "\u001b[32m[1123 13:03:38 @DATSGANModel.py:205]\u001b[0m \u001b[91mCreating cell for gender (in-edges: 0; ancestors: 0)\n",
      "\u001b[32m[1123 13:03:38 @DATSGANModel.py:205]\u001b[0m \u001b[91mCreating cell for travel_dow (in-edges: 0; ancestors: 0)\n",
      "\u001b[32m[1123 13:03:38 @DATSGANModel.py:205]\u001b[0m \u001b[91mCreating cell for license (in-edges: 1; ancestors: 1)\n",
      "\u001b[32m[1123 13:03:38 @DATSGANModel.py:205]\u001b[0m \u001b[91mCreating cell for education_level (in-edges: 1; ancestors: 1)\n",
      "\u001b[32m[1123 13:03:38 @DATSGANModel.py:205]\u001b[0m \u001b[91mCreating cell for work_status (in-edges: 2; ancestors: 3)\n",
      "\u001b[32m[1123 13:03:38 @DATSGANModel.py:205]\u001b[0m \u001b[91mCreating cell for hh_income (in-edges: 2; ancestors: 4)\n",
      "\u001b[32m[1123 13:03:38 @DATSGANModel.py:205]\u001b[0m \u001b[91mCreating cell for trip_purpose (in-edges: 1; ancestors: 4)\n",
      "\u001b[32m[1123 13:03:38 @DATSGANModel.py:205]\u001b[0m \u001b[91mCreating cell for hh_descr (in-edges: 2; ancestors: 5)\n",
      "\u001b[32m[1123 13:03:38 @DATSGANModel.py:205]\u001b[0m \u001b[91mCreating cell for hh_size (in-edges: 3; ancestors: 5)\n",
      "\u001b[32m[1123 13:03:38 @DATSGANModel.py:205]\u001b[0m \u001b[91mCreating cell for departure_time (in-edges: 1; ancestors: 5)\n",
      "\u001b[32m[1123 13:03:38 @DATSGANModel.py:205]\u001b[0m \u001b[91mCreating cell for distance (in-edges: 1; ancestors: 5)\n",
      "\u001b[32m[1123 13:03:39 @DATSGANModel.py:205]\u001b[0m \u001b[91mCreating cell for hh_vehicles (in-edges: 2; ancestors: 6)\n",
      "\u001b[32m[1123 13:03:39 @DATSGANModel.py:205]\u001b[0m \u001b[91mCreating cell for hh_bikes (in-edges: 2; ancestors: 6)\n",
      "\u001b[32m[1123 13:03:39 @DATSGANModel.py:205]\u001b[0m \u001b[91mCreating cell for choice (in-edges: 7; ancestors: 13)\n",
      "\u001b[32m[1123 13:03:39 @sessinit.py:87]\u001b[0m \u001b[5m\u001b[31mWRN\u001b[0m The following variables are in the checkpoint, but not found in the graph: global_step\n",
      "INFO:tensorflow:Graph was finalized.\n",
      "INFO:tensorflow:Running local_init_op.\n",
      "INFO:tensorflow:Done running local_init_op.\n",
      "\u001b[32m[1123 13:03:40 @sessinit.py:114]\u001b[0m Restoring checkpoint from ../output/Chicago/WGAN_WI_03/model\\model-25499 ...\n",
      "INFO:tensorflow:Restoring parameters from ../output/Chicago/WGAN_WI_03/model\\model-25499\n",
      "\u001b[32m[1123 13:03:40 @DATSGAN.py:266]\u001b[0m Loading Preprocessor!\n"
     ]
    },
    {
     "name": "stderr",
     "output_type": "stream",
     "text": [
      "|                                                                                          |17/?[00:00<00:00,17.51it/s]"
     ]
    },
    {
     "name": "stdout",
     "output_type": "stream",
     "text": [
      "\u001b[32m[1123 13:03:41 @DATSGAN.py:266]\u001b[0m Loading Preprocessor!\n"
     ]
    },
    {
     "name": "stderr",
     "output_type": "stream",
     "text": [
      "\n",
      "|                                                                                          |17/?[00:00<00:00,23.23it/s]"
     ]
    },
    {
     "name": "stdout",
     "output_type": "stream",
     "text": [
      "\u001b[32m[1123 13:03:42 @DATSGAN.py:266]\u001b[0m Loading Preprocessor!\n"
     ]
    },
    {
     "name": "stderr",
     "output_type": "stream",
     "text": [
      "\n",
      "|                                                                                          |17/?[00:00<00:00,23.59it/s]"
     ]
    },
    {
     "name": "stdout",
     "output_type": "stream",
     "text": [
      "\u001b[32m[1123 13:03:43 @DATSGAN.py:266]\u001b[0m Loading Preprocessor!\n"
     ]
    },
    {
     "name": "stderr",
     "output_type": "stream",
     "text": [
      "\n",
      "|                                                                                          |17/?[00:00<00:00,23.57it/s]"
     ]
    },
    {
     "name": "stdout",
     "output_type": "stream",
     "text": [
      "\u001b[32m[1123 13:03:44 @DATSGAN.py:266]\u001b[0m Loading Preprocessor!\n"
     ]
    },
    {
     "name": "stderr",
     "output_type": "stream",
     "text": [
      "\n",
      "|                                                                                          |17/?[00:00<00:00,23.33it/s]"
     ]
    },
    {
     "name": "stdout",
     "output_type": "stream",
     "text": [
      "\u001b[32m[1123 13:03:44 @DATSGAN.py:266]\u001b[0m Loading Preprocessor!\n"
     ]
    },
    {
     "name": "stderr",
     "output_type": "stream",
     "text": [
      "\n",
      "|                                                                                          |17/?[00:00<00:00,23.51it/s]"
     ]
    },
    {
     "name": "stdout",
     "output_type": "stream",
     "text": [
      "\u001b[32m[1123 13:03:45 @DATSGAN.py:266]\u001b[0m Loading Preprocessor!\n"
     ]
    },
    {
     "name": "stderr",
     "output_type": "stream",
     "text": [
      "\n",
      "|                                                                                          |17/?[00:00<00:00,23.57it/s]"
     ]
    },
    {
     "name": "stdout",
     "output_type": "stream",
     "text": [
      "\u001b[32m[1123 13:03:46 @DATSGAN.py:266]\u001b[0m Loading Preprocessor!\n"
     ]
    },
    {
     "name": "stderr",
     "output_type": "stream",
     "text": [
      "\n",
      "|                                                                                          |17/?[00:00<00:00,22.82it/s]"
     ]
    },
    {
     "name": "stdout",
     "output_type": "stream",
     "text": [
      "\u001b[32m[1123 13:03:47 @DATSGAN.py:266]\u001b[0m Loading Preprocessor!\n"
     ]
    },
    {
     "name": "stderr",
     "output_type": "stream",
     "text": [
      "\n",
      "|                                                                                          |17/?[00:00<00:00,23.36it/s]"
     ]
    },
    {
     "name": "stdout",
     "output_type": "stream",
     "text": [
      "\u001b[32m[1123 13:03:47 @DATSGAN.py:266]\u001b[0m Loading Preprocessor!\n"
     ]
    },
    {
     "name": "stderr",
     "output_type": "stream",
     "text": [
      "\n",
      "|                                                                                          |17/?[00:00<00:00,23.65it/s]"
     ]
    },
    {
     "name": "stdout",
     "output_type": "stream",
     "text": [
      "\u001b[32m[1123 13:03:48 @DATSGAN.py:266]\u001b[0m Loading Preprocessor!\n"
     ]
    },
    {
     "name": "stderr",
     "output_type": "stream",
     "text": [
      "\n",
      "|                                                                                          |17/?[00:00<00:00,22.95it/s]"
     ]
    },
    {
     "name": "stdout",
     "output_type": "stream",
     "text": [
      "\u001b[32m[1123 13:03:49 @DATSGAN.py:266]\u001b[0m Loading Preprocessor!\n"
     ]
    },
    {
     "name": "stderr",
     "output_type": "stream",
     "text": [
      "\n",
      "|                                                                                          |17/?[00:00<00:00,23.61it/s]"
     ]
    },
    {
     "name": "stdout",
     "output_type": "stream",
     "text": [
      "\u001b[32m[1123 13:03:50 @DATSGAN.py:266]\u001b[0m Loading Preprocessor!\n"
     ]
    },
    {
     "name": "stderr",
     "output_type": "stream",
     "text": [
      "\n",
      "|                                                                                          |17/?[00:00<00:00,22.79it/s]"
     ]
    },
    {
     "name": "stdout",
     "output_type": "stream",
     "text": [
      "\u001b[32m[1123 13:03:51 @DATSGAN.py:266]\u001b[0m Loading Preprocessor!\n"
     ]
    },
    {
     "name": "stderr",
     "output_type": "stream",
     "text": [
      "\n",
      "|                                                                                          |17/?[00:00<00:00,23.65it/s]"
     ]
    },
    {
     "name": "stdout",
     "output_type": "stream",
     "text": [
      "\u001b[32m[1123 13:03:51 @DATSGAN.py:266]\u001b[0m Loading Preprocessor!\n"
     ]
    },
    {
     "name": "stderr",
     "output_type": "stream",
     "text": [
      "\n",
      "|                                                                                          |17/?[00:00<00:00,23.62it/s]\n"
     ]
    },
    {
     "name": "stdout",
     "output_type": "stream",
     "text": [
      "Sampling synthetic data from model \u001b[1mWGAN_WI_04\u001b[0m (34/55)\n",
      "\u001b[32m[1123 13:03:57 @DATSGANModel.py:205]\u001b[0m \u001b[91mCreating cell for age (in-edges: 0; ancestors: 0)\n",
      "\u001b[32m[1123 13:03:58 @DATSGANModel.py:205]\u001b[0m \u001b[91mCreating cell for gender (in-edges: 0; ancestors: 0)\n",
      "\u001b[32m[1123 13:03:58 @DATSGANModel.py:205]\u001b[0m \u001b[91mCreating cell for travel_dow (in-edges: 0; ancestors: 0)\n",
      "\u001b[32m[1123 13:03:58 @DATSGANModel.py:205]\u001b[0m \u001b[91mCreating cell for license (in-edges: 1; ancestors: 1)\n",
      "\u001b[32m[1123 13:03:58 @DATSGANModel.py:205]\u001b[0m \u001b[91mCreating cell for education_level (in-edges: 1; ancestors: 1)\n",
      "\u001b[32m[1123 13:03:58 @DATSGANModel.py:205]\u001b[0m \u001b[91mCreating cell for work_status (in-edges: 2; ancestors: 3)\n",
      "\u001b[32m[1123 13:03:58 @DATSGANModel.py:205]\u001b[0m \u001b[91mCreating cell for hh_income (in-edges: 2; ancestors: 4)\n",
      "\u001b[32m[1123 13:03:58 @DATSGANModel.py:205]\u001b[0m \u001b[91mCreating cell for trip_purpose (in-edges: 1; ancestors: 4)\n",
      "\u001b[32m[1123 13:03:58 @DATSGANModel.py:205]\u001b[0m \u001b[91mCreating cell for hh_descr (in-edges: 2; ancestors: 5)\n",
      "\u001b[32m[1123 13:03:58 @DATSGANModel.py:205]\u001b[0m \u001b[91mCreating cell for hh_size (in-edges: 3; ancestors: 5)\n",
      "\u001b[32m[1123 13:03:58 @DATSGANModel.py:205]\u001b[0m \u001b[91mCreating cell for departure_time (in-edges: 1; ancestors: 5)\n",
      "\u001b[32m[1123 13:03:58 @DATSGANModel.py:205]\u001b[0m \u001b[91mCreating cell for distance (in-edges: 1; ancestors: 5)\n",
      "\u001b[32m[1123 13:03:58 @DATSGANModel.py:205]\u001b[0m \u001b[91mCreating cell for hh_vehicles (in-edges: 2; ancestors: 6)\n",
      "\u001b[32m[1123 13:03:58 @DATSGANModel.py:205]\u001b[0m \u001b[91mCreating cell for hh_bikes (in-edges: 2; ancestors: 6)\n",
      "\u001b[32m[1123 13:03:58 @DATSGANModel.py:205]\u001b[0m \u001b[91mCreating cell for choice (in-edges: 7; ancestors: 13)\n",
      "\u001b[32m[1123 13:03:59 @sessinit.py:87]\u001b[0m \u001b[5m\u001b[31mWRN\u001b[0m The following variables are in the checkpoint, but not found in the graph: global_step\n",
      "INFO:tensorflow:Graph was finalized.\n",
      "INFO:tensorflow:Running local_init_op.\n",
      "INFO:tensorflow:Done running local_init_op.\n",
      "\u001b[32m[1123 13:04:00 @sessinit.py:114]\u001b[0m Restoring checkpoint from ../output/Chicago/WGAN_WI_04/model\\model-25499 ...\n",
      "INFO:tensorflow:Restoring parameters from ../output/Chicago/WGAN_WI_04/model\\model-25499\n",
      "\u001b[32m[1123 13:04:00 @DATSGAN.py:266]\u001b[0m Loading Preprocessor!\n"
     ]
    },
    {
     "name": "stderr",
     "output_type": "stream",
     "text": [
      "|                                                                                          |17/?[00:00<00:00,17.68it/s]"
     ]
    },
    {
     "name": "stdout",
     "output_type": "stream",
     "text": [
      "\u001b[32m[1123 13:04:01 @DATSGAN.py:266]\u001b[0m Loading Preprocessor!\n"
     ]
    },
    {
     "name": "stderr",
     "output_type": "stream",
     "text": [
      "\n",
      "|                                                                                          |17/?[00:00<00:00,23.51it/s]"
     ]
    },
    {
     "name": "stdout",
     "output_type": "stream",
     "text": [
      "\u001b[32m[1123 13:04:02 @DATSGAN.py:266]\u001b[0m Loading Preprocessor!\n"
     ]
    },
    {
     "name": "stderr",
     "output_type": "stream",
     "text": [
      "\n",
      "|                                                                                          |17/?[00:00<00:00,23.24it/s]"
     ]
    },
    {
     "name": "stdout",
     "output_type": "stream",
     "text": [
      "\u001b[32m[1123 13:04:03 @DATSGAN.py:266]\u001b[0m Loading Preprocessor!\n"
     ]
    },
    {
     "name": "stderr",
     "output_type": "stream",
     "text": [
      "\n",
      "|                                                                                          |17/?[00:00<00:00,23.61it/s]"
     ]
    },
    {
     "name": "stdout",
     "output_type": "stream",
     "text": [
      "\u001b[32m[1123 13:04:03 @DATSGAN.py:266]\u001b[0m Loading Preprocessor!\n"
     ]
    },
    {
     "name": "stderr",
     "output_type": "stream",
     "text": [
      "\n",
      "|                                                                                          |17/?[00:00<00:00,23.49it/s]"
     ]
    },
    {
     "name": "stdout",
     "output_type": "stream",
     "text": [
      "\u001b[32m[1123 13:04:04 @DATSGAN.py:266]\u001b[0m Loading Preprocessor!\n"
     ]
    },
    {
     "name": "stderr",
     "output_type": "stream",
     "text": [
      "\n",
      "|                                                                                          |17/?[00:00<00:00,23.63it/s]"
     ]
    },
    {
     "name": "stdout",
     "output_type": "stream",
     "text": [
      "\u001b[32m[1123 13:04:05 @DATSGAN.py:266]\u001b[0m Loading Preprocessor!\n"
     ]
    },
    {
     "name": "stderr",
     "output_type": "stream",
     "text": [
      "\n",
      "|                                                                                          |17/?[00:00<00:00,23.57it/s]"
     ]
    },
    {
     "name": "stdout",
     "output_type": "stream",
     "text": [
      "\u001b[32m[1123 13:04:06 @DATSGAN.py:266]\u001b[0m Loading Preprocessor!\n"
     ]
    },
    {
     "name": "stderr",
     "output_type": "stream",
     "text": [
      "\n",
      "|                                                                                          |17/?[00:00<00:00,23.80it/s]"
     ]
    },
    {
     "name": "stdout",
     "output_type": "stream",
     "text": [
      "\u001b[32m[1123 13:04:06 @DATSGAN.py:266]\u001b[0m Loading Preprocessor!\n"
     ]
    },
    {
     "name": "stderr",
     "output_type": "stream",
     "text": [
      "\n",
      "|                                                                                          |17/?[00:00<00:00,23.38it/s]"
     ]
    },
    {
     "name": "stdout",
     "output_type": "stream",
     "text": [
      "\u001b[32m[1123 13:04:07 @DATSGAN.py:266]\u001b[0m Loading Preprocessor!\n"
     ]
    },
    {
     "name": "stderr",
     "output_type": "stream",
     "text": [
      "\n",
      "|                                                                                          |17/?[00:00<00:00,23.72it/s]"
     ]
    },
    {
     "name": "stdout",
     "output_type": "stream",
     "text": [
      "\u001b[32m[1123 13:04:08 @DATSGAN.py:266]\u001b[0m Loading Preprocessor!\n"
     ]
    },
    {
     "name": "stderr",
     "output_type": "stream",
     "text": [
      "\n",
      "|                                                                                          |17/?[00:00<00:00,23.61it/s]"
     ]
    },
    {
     "name": "stdout",
     "output_type": "stream",
     "text": [
      "\u001b[32m[1123 13:04:09 @DATSGAN.py:266]\u001b[0m Loading Preprocessor!\n"
     ]
    },
    {
     "name": "stderr",
     "output_type": "stream",
     "text": [
      "\n",
      "|                                                                                          |17/?[00:00<00:00,23.25it/s]"
     ]
    },
    {
     "name": "stdout",
     "output_type": "stream",
     "text": [
      "\u001b[32m[1123 13:04:10 @DATSGAN.py:266]\u001b[0m Loading Preprocessor!\n"
     ]
    },
    {
     "name": "stderr",
     "output_type": "stream",
     "text": [
      "\n",
      "|                                                                                          |17/?[00:00<00:00,22.77it/s]"
     ]
    },
    {
     "name": "stdout",
     "output_type": "stream",
     "text": [
      "\u001b[32m[1123 13:04:10 @DATSGAN.py:266]\u001b[0m Loading Preprocessor!\n"
     ]
    },
    {
     "name": "stderr",
     "output_type": "stream",
     "text": [
      "\n",
      "|                                                                                          |17/?[00:00<00:00,23.63it/s]"
     ]
    },
    {
     "name": "stdout",
     "output_type": "stream",
     "text": [
      "\u001b[32m[1123 13:04:11 @DATSGAN.py:266]\u001b[0m Loading Preprocessor!\n"
     ]
    },
    {
     "name": "stderr",
     "output_type": "stream",
     "text": [
      "\n",
      "|                                                                                          |17/?[00:00<00:00,23.65it/s]\n"
     ]
    },
    {
     "name": "stdout",
     "output_type": "stream",
     "text": [
      "Sampling synthetic data from model \u001b[1mWGAN_WI_05\u001b[0m (35/55)\n",
      "\u001b[32m[1123 13:04:17 @DATSGANModel.py:205]\u001b[0m \u001b[91mCreating cell for age (in-edges: 0; ancestors: 0)\n",
      "\u001b[32m[1123 13:04:17 @DATSGANModel.py:205]\u001b[0m \u001b[91mCreating cell for gender (in-edges: 0; ancestors: 0)\n",
      "\u001b[32m[1123 13:04:17 @DATSGANModel.py:205]\u001b[0m \u001b[91mCreating cell for travel_dow (in-edges: 0; ancestors: 0)\n",
      "\u001b[32m[1123 13:04:17 @DATSGANModel.py:205]\u001b[0m \u001b[91mCreating cell for license (in-edges: 1; ancestors: 1)\n",
      "\u001b[32m[1123 13:04:17 @DATSGANModel.py:205]\u001b[0m \u001b[91mCreating cell for education_level (in-edges: 1; ancestors: 1)\n",
      "\u001b[32m[1123 13:04:18 @DATSGANModel.py:205]\u001b[0m \u001b[91mCreating cell for work_status (in-edges: 2; ancestors: 3)\n",
      "\u001b[32m[1123 13:04:18 @DATSGANModel.py:205]\u001b[0m \u001b[91mCreating cell for hh_income (in-edges: 2; ancestors: 4)\n",
      "\u001b[32m[1123 13:04:18 @DATSGANModel.py:205]\u001b[0m \u001b[91mCreating cell for trip_purpose (in-edges: 1; ancestors: 4)\n",
      "\u001b[32m[1123 13:04:18 @DATSGANModel.py:205]\u001b[0m \u001b[91mCreating cell for hh_descr (in-edges: 2; ancestors: 5)\n",
      "\u001b[32m[1123 13:04:18 @DATSGANModel.py:205]\u001b[0m \u001b[91mCreating cell for hh_size (in-edges: 3; ancestors: 5)\n",
      "\u001b[32m[1123 13:04:18 @DATSGANModel.py:205]\u001b[0m \u001b[91mCreating cell for departure_time (in-edges: 1; ancestors: 5)\n",
      "\u001b[32m[1123 13:04:18 @DATSGANModel.py:205]\u001b[0m \u001b[91mCreating cell for distance (in-edges: 1; ancestors: 5)\n",
      "\u001b[32m[1123 13:04:18 @DATSGANModel.py:205]\u001b[0m \u001b[91mCreating cell for hh_vehicles (in-edges: 2; ancestors: 6)\n",
      "\u001b[32m[1123 13:04:18 @DATSGANModel.py:205]\u001b[0m \u001b[91mCreating cell for hh_bikes (in-edges: 2; ancestors: 6)\n",
      "\u001b[32m[1123 13:04:18 @DATSGANModel.py:205]\u001b[0m \u001b[91mCreating cell for choice (in-edges: 7; ancestors: 13)\n",
      "\u001b[32m[1123 13:04:19 @sessinit.py:87]\u001b[0m \u001b[5m\u001b[31mWRN\u001b[0m The following variables are in the checkpoint, but not found in the graph: global_step\n",
      "INFO:tensorflow:Graph was finalized.\n",
      "INFO:tensorflow:Running local_init_op.\n",
      "INFO:tensorflow:Done running local_init_op.\n",
      "\u001b[32m[1123 13:04:19 @sessinit.py:114]\u001b[0m Restoring checkpoint from ../output/Chicago/WGAN_WI_05/model\\model-25499 ...\n",
      "INFO:tensorflow:Restoring parameters from ../output/Chicago/WGAN_WI_05/model\\model-25499\n",
      "\u001b[32m[1123 13:04:20 @DATSGAN.py:266]\u001b[0m Loading Preprocessor!\n"
     ]
    },
    {
     "name": "stderr",
     "output_type": "stream",
     "text": [
      "|                                                                                          |17/?[00:00<00:00,17.58it/s]"
     ]
    },
    {
     "name": "stdout",
     "output_type": "stream",
     "text": [
      "\u001b[32m[1123 13:04:21 @DATSGAN.py:266]\u001b[0m Loading Preprocessor!\n"
     ]
    },
    {
     "name": "stderr",
     "output_type": "stream",
     "text": [
      "\n",
      "|                                                                                          |17/?[00:00<00:00,23.66it/s]\n"
     ]
    },
    {
     "name": "stdout",
     "output_type": "stream",
     "text": [
      "\u001b[32m[1123 13:04:22 @DATSGAN.py:266]\u001b[0m Loading Preprocessor!\n"
     ]
    },
    {
     "name": "stderr",
     "output_type": "stream",
     "text": [
      "|                                                                                          |17/?[00:00<00:00,23.14it/s]"
     ]
    },
    {
     "name": "stdout",
     "output_type": "stream",
     "text": [
      "\u001b[32m[1123 13:04:23 @DATSGAN.py:266]\u001b[0m Loading Preprocessor!\n"
     ]
    },
    {
     "name": "stderr",
     "output_type": "stream",
     "text": [
      "\n",
      "|                                                                                          |17/?[00:00<00:00,23.18it/s]\n"
     ]
    },
    {
     "name": "stdout",
     "output_type": "stream",
     "text": [
      "\u001b[32m[1123 13:04:24 @DATSGAN.py:266]\u001b[0m Loading Preprocessor!\n"
     ]
    },
    {
     "name": "stderr",
     "output_type": "stream",
     "text": [
      "|                                                                                          |17/?[00:00<00:00,22.82it/s]\n"
     ]
    },
    {
     "name": "stdout",
     "output_type": "stream",
     "text": [
      "\u001b[32m[1123 13:04:24 @DATSGAN.py:266]\u001b[0m Loading Preprocessor!\n"
     ]
    },
    {
     "name": "stderr",
     "output_type": "stream",
     "text": [
      "|                                                                                          |17/?[00:00<00:00,23.21it/s]"
     ]
    },
    {
     "name": "stdout",
     "output_type": "stream",
     "text": [
      "\u001b[32m[1123 13:04:25 @DATSGAN.py:266]\u001b[0m Loading Preprocessor!\n"
     ]
    },
    {
     "name": "stderr",
     "output_type": "stream",
     "text": [
      "\n",
      "|                                                                                          |17/?[00:00<00:00,23.41it/s]\n"
     ]
    },
    {
     "name": "stdout",
     "output_type": "stream",
     "text": [
      "\u001b[32m[1123 13:04:26 @DATSGAN.py:266]\u001b[0m Loading Preprocessor!\n"
     ]
    },
    {
     "name": "stderr",
     "output_type": "stream",
     "text": [
      "|                                                                                          |17/?[00:00<00:00,23.21it/s]"
     ]
    },
    {
     "name": "stdout",
     "output_type": "stream",
     "text": [
      "\u001b[32m[1123 13:04:27 @DATSGAN.py:266]\u001b[0m Loading Preprocessor!\n"
     ]
    },
    {
     "name": "stderr",
     "output_type": "stream",
     "text": [
      "\n",
      "|                                                                                          |17/?[00:00<00:00,23.46it/s]"
     ]
    },
    {
     "name": "stdout",
     "output_type": "stream",
     "text": [
      "\u001b[32m[1123 13:04:28 @DATSGAN.py:266]\u001b[0m Loading Preprocessor!\n"
     ]
    },
    {
     "name": "stderr",
     "output_type": "stream",
     "text": [
      "\n",
      "|                                                                                          |17/?[00:00<00:00,23.24it/s]"
     ]
    },
    {
     "name": "stdout",
     "output_type": "stream",
     "text": [
      "\u001b[32m[1123 13:04:29 @DATSGAN.py:266]\u001b[0m Loading Preprocessor!\n"
     ]
    },
    {
     "name": "stderr",
     "output_type": "stream",
     "text": [
      "\n",
      "|                                                                                          |17/?[00:00<00:00,23.38it/s]"
     ]
    },
    {
     "name": "stdout",
     "output_type": "stream",
     "text": [
      "\u001b[32m[1123 13:04:30 @DATSGAN.py:266]\u001b[0m Loading Preprocessor!\n"
     ]
    },
    {
     "name": "stderr",
     "output_type": "stream",
     "text": [
      "\n",
      "|                                                                                          |17/?[00:00<00:00,23.54it/s]"
     ]
    },
    {
     "name": "stdout",
     "output_type": "stream",
     "text": [
      "\u001b[32m[1123 13:04:31 @DATSGAN.py:266]\u001b[0m Loading Preprocessor!\n"
     ]
    },
    {
     "name": "stderr",
     "output_type": "stream",
     "text": [
      "\n",
      "|                                                                                          |17/?[00:00<00:00,23.26it/s]\n"
     ]
    },
    {
     "name": "stdout",
     "output_type": "stream",
     "text": [
      "\u001b[32m[1123 13:04:32 @DATSGAN.py:266]\u001b[0m Loading Preprocessor!\n"
     ]
    },
    {
     "name": "stderr",
     "output_type": "stream",
     "text": [
      "|                                                                                          |17/?[00:00<00:00,23.48it/s]"
     ]
    },
    {
     "name": "stdout",
     "output_type": "stream",
     "text": [
      "\u001b[32m[1123 13:04:33 @DATSGAN.py:266]\u001b[0m Loading Preprocessor!\n"
     ]
    },
    {
     "name": "stderr",
     "output_type": "stream",
     "text": [
      "\n",
      "|                                                                                          |17/?[00:00<00:00,23.54it/s]\n"
     ]
    },
    {
     "name": "stdout",
     "output_type": "stream",
     "text": [
      "Sampling synthetic data from model \u001b[1mWGAN_WO_01\u001b[0m (36/55)\n",
      "\u001b[32m[1123 13:04:39 @DATSGANModel.py:205]\u001b[0m \u001b[91mCreating cell for age (in-edges: 0; ancestors: 0)\n",
      "\u001b[32m[1123 13:04:39 @DATSGANModel.py:205]\u001b[0m \u001b[91mCreating cell for gender (in-edges: 0; ancestors: 0)\n",
      "\u001b[32m[1123 13:04:39 @DATSGANModel.py:205]\u001b[0m \u001b[91mCreating cell for travel_dow (in-edges: 0; ancestors: 0)\n",
      "\u001b[32m[1123 13:04:39 @DATSGANModel.py:205]\u001b[0m \u001b[91mCreating cell for license (in-edges: 1; ancestors: 1)\n",
      "\u001b[32m[1123 13:04:39 @DATSGANModel.py:205]\u001b[0m \u001b[91mCreating cell for education_level (in-edges: 1; ancestors: 1)\n",
      "\u001b[32m[1123 13:04:39 @DATSGANModel.py:205]\u001b[0m \u001b[91mCreating cell for work_status (in-edges: 2; ancestors: 3)\n",
      "\u001b[32m[1123 13:04:39 @DATSGANModel.py:205]\u001b[0m \u001b[91mCreating cell for hh_income (in-edges: 2; ancestors: 4)\n",
      "\u001b[32m[1123 13:04:39 @DATSGANModel.py:205]\u001b[0m \u001b[91mCreating cell for trip_purpose (in-edges: 1; ancestors: 4)\n",
      "\u001b[32m[1123 13:04:40 @DATSGANModel.py:205]\u001b[0m \u001b[91mCreating cell for hh_descr (in-edges: 2; ancestors: 5)\n",
      "\u001b[32m[1123 13:04:40 @DATSGANModel.py:205]\u001b[0m \u001b[91mCreating cell for hh_size (in-edges: 3; ancestors: 5)\n",
      "\u001b[32m[1123 13:04:40 @DATSGANModel.py:205]\u001b[0m \u001b[91mCreating cell for departure_time (in-edges: 1; ancestors: 5)\n",
      "\u001b[32m[1123 13:04:40 @DATSGANModel.py:205]\u001b[0m \u001b[91mCreating cell for distance (in-edges: 1; ancestors: 5)\n",
      "\u001b[32m[1123 13:04:40 @DATSGANModel.py:205]\u001b[0m \u001b[91mCreating cell for hh_vehicles (in-edges: 2; ancestors: 6)\n",
      "\u001b[32m[1123 13:04:40 @DATSGANModel.py:205]\u001b[0m \u001b[91mCreating cell for hh_bikes (in-edges: 2; ancestors: 6)\n",
      "\u001b[32m[1123 13:04:40 @DATSGANModel.py:205]\u001b[0m \u001b[91mCreating cell for choice (in-edges: 7; ancestors: 13)\n",
      "\u001b[32m[1123 13:04:40 @sessinit.py:87]\u001b[0m \u001b[5m\u001b[31mWRN\u001b[0m The following variables are in the checkpoint, but not found in the graph: global_step\n",
      "INFO:tensorflow:Graph was finalized.\n",
      "INFO:tensorflow:Running local_init_op.\n",
      "INFO:tensorflow:Done running local_init_op.\n",
      "\u001b[32m[1123 13:04:41 @sessinit.py:114]\u001b[0m Restoring checkpoint from ../output/Chicago/WGAN_WO_01/model\\model-25499 ...\n",
      "INFO:tensorflow:Restoring parameters from ../output/Chicago/WGAN_WO_01/model\\model-25499\n",
      "\u001b[32m[1123 13:04:41 @DATSGAN.py:266]\u001b[0m Loading Preprocessor!\n"
     ]
    },
    {
     "name": "stderr",
     "output_type": "stream",
     "text": [
      "|                                                                                          |17/?[00:00<00:00,17.94it/s]"
     ]
    },
    {
     "name": "stdout",
     "output_type": "stream",
     "text": [
      "\u001b[32m[1123 13:04:42 @DATSGAN.py:266]\u001b[0m Loading Preprocessor!\n"
     ]
    },
    {
     "name": "stderr",
     "output_type": "stream",
     "text": [
      "\n",
      "|                                                                                          |17/?[00:00<00:00,23.82it/s]"
     ]
    },
    {
     "name": "stdout",
     "output_type": "stream",
     "text": [
      "\u001b[32m[1123 13:04:43 @DATSGAN.py:266]\u001b[0m Loading Preprocessor!\n"
     ]
    },
    {
     "name": "stderr",
     "output_type": "stream",
     "text": [
      "\n",
      "|                                                                                          |17/?[00:00<00:00,23.63it/s]"
     ]
    },
    {
     "name": "stdout",
     "output_type": "stream",
     "text": [
      "\u001b[32m[1123 13:04:44 @DATSGAN.py:266]\u001b[0m Loading Preprocessor!\n"
     ]
    },
    {
     "name": "stderr",
     "output_type": "stream",
     "text": [
      "\n",
      "|                                                                                          |17/?[00:00<00:00,22.88it/s]"
     ]
    },
    {
     "name": "stdout",
     "output_type": "stream",
     "text": [
      "\u001b[32m[1123 13:04:45 @DATSGAN.py:266]\u001b[0m Loading Preprocessor!\n"
     ]
    },
    {
     "name": "stderr",
     "output_type": "stream",
     "text": [
      "\n",
      "|                                                                                          |17/?[00:00<00:00,23.36it/s]"
     ]
    },
    {
     "name": "stdout",
     "output_type": "stream",
     "text": [
      "\u001b[32m[1123 13:04:45 @DATSGAN.py:266]\u001b[0m Loading Preprocessor!\n"
     ]
    },
    {
     "name": "stderr",
     "output_type": "stream",
     "text": [
      "\n",
      "|                                                                                          |17/?[00:00<00:00,23.64it/s]"
     ]
    },
    {
     "name": "stdout",
     "output_type": "stream",
     "text": [
      "\u001b[32m[1123 13:04:46 @DATSGAN.py:266]\u001b[0m Loading Preprocessor!\n"
     ]
    },
    {
     "name": "stderr",
     "output_type": "stream",
     "text": [
      "\n",
      "|                                                                                          |17/?[00:00<00:00,23.14it/s]"
     ]
    },
    {
     "name": "stdout",
     "output_type": "stream",
     "text": [
      "\u001b[32m[1123 13:04:47 @DATSGAN.py:266]\u001b[0m Loading Preprocessor!\n"
     ]
    },
    {
     "name": "stderr",
     "output_type": "stream",
     "text": [
      "\n",
      "|                                                                                          |17/?[00:00<00:00,23.32it/s]"
     ]
    },
    {
     "name": "stdout",
     "output_type": "stream",
     "text": [
      "\u001b[32m[1123 13:04:48 @DATSGAN.py:266]\u001b[0m Loading Preprocessor!\n"
     ]
    },
    {
     "name": "stderr",
     "output_type": "stream",
     "text": [
      "\n",
      "|                                                                                          |17/?[00:00<00:00,23.46it/s]"
     ]
    },
    {
     "name": "stdout",
     "output_type": "stream",
     "text": [
      "\u001b[32m[1123 13:04:49 @DATSGAN.py:266]\u001b[0m Loading Preprocessor!\n"
     ]
    },
    {
     "name": "stderr",
     "output_type": "stream",
     "text": [
      "\n",
      "|                                                                                          |17/?[00:00<00:00,23.49it/s]"
     ]
    },
    {
     "name": "stdout",
     "output_type": "stream",
     "text": [
      "\u001b[32m[1123 13:04:49 @DATSGAN.py:266]\u001b[0m Loading Preprocessor!\n"
     ]
    },
    {
     "name": "stderr",
     "output_type": "stream",
     "text": [
      "\n",
      "|                                                                                          |17/?[00:00<00:00,23.10it/s]"
     ]
    },
    {
     "name": "stdout",
     "output_type": "stream",
     "text": [
      "\u001b[32m[1123 13:04:50 @DATSGAN.py:266]\u001b[0m Loading Preprocessor!\n"
     ]
    },
    {
     "name": "stderr",
     "output_type": "stream",
     "text": [
      "\n",
      "|                                                                                          |17/?[00:00<00:00,22.76it/s]"
     ]
    },
    {
     "name": "stdout",
     "output_type": "stream",
     "text": [
      "\u001b[32m[1123 13:04:51 @DATSGAN.py:266]\u001b[0m Loading Preprocessor!\n"
     ]
    },
    {
     "name": "stderr",
     "output_type": "stream",
     "text": [
      "\n",
      "|                                                                                          |17/?[00:00<00:00,23.57it/s]"
     ]
    },
    {
     "name": "stdout",
     "output_type": "stream",
     "text": [
      "\u001b[32m[1123 13:04:52 @DATSGAN.py:266]\u001b[0m Loading Preprocessor!\n"
     ]
    },
    {
     "name": "stderr",
     "output_type": "stream",
     "text": [
      "\n",
      "|                                                                                          |17/?[00:00<00:00,23.39it/s]"
     ]
    },
    {
     "name": "stdout",
     "output_type": "stream",
     "text": [
      "\u001b[32m[1123 13:04:53 @DATSGAN.py:266]\u001b[0m Loading Preprocessor!\n"
     ]
    },
    {
     "name": "stderr",
     "output_type": "stream",
     "text": [
      "\n",
      "|                                                                                          |17/?[00:00<00:00,23.38it/s]\n"
     ]
    },
    {
     "name": "stdout",
     "output_type": "stream",
     "text": [
      "Sampling synthetic data from model \u001b[1mWGAN_WO_02\u001b[0m (37/55)\n",
      "\u001b[32m[1123 13:05:04 @DATSGANModel.py:205]\u001b[0m \u001b[91mCreating cell for age (in-edges: 0; ancestors: 0)\n",
      "\u001b[32m[1123 13:05:04 @DATSGANModel.py:205]\u001b[0m \u001b[91mCreating cell for gender (in-edges: 0; ancestors: 0)\n",
      "\u001b[32m[1123 13:05:04 @DATSGANModel.py:205]\u001b[0m \u001b[91mCreating cell for travel_dow (in-edges: 0; ancestors: 0)\n",
      "\u001b[32m[1123 13:05:04 @DATSGANModel.py:205]\u001b[0m \u001b[91mCreating cell for license (in-edges: 1; ancestors: 1)\n",
      "\u001b[32m[1123 13:05:04 @DATSGANModel.py:205]\u001b[0m \u001b[91mCreating cell for education_level (in-edges: 1; ancestors: 1)\n",
      "\u001b[32m[1123 13:05:04 @DATSGANModel.py:205]\u001b[0m \u001b[91mCreating cell for work_status (in-edges: 2; ancestors: 3)\n",
      "\u001b[32m[1123 13:05:04 @DATSGANModel.py:205]\u001b[0m \u001b[91mCreating cell for hh_income (in-edges: 2; ancestors: 4)\n",
      "\u001b[32m[1123 13:05:04 @DATSGANModel.py:205]\u001b[0m \u001b[91mCreating cell for trip_purpose (in-edges: 1; ancestors: 4)\n",
      "\u001b[32m[1123 13:05:04 @DATSGANModel.py:205]\u001b[0m \u001b[91mCreating cell for hh_descr (in-edges: 2; ancestors: 5)\n",
      "\u001b[32m[1123 13:05:04 @DATSGANModel.py:205]\u001b[0m \u001b[91mCreating cell for hh_size (in-edges: 3; ancestors: 5)\n",
      "\u001b[32m[1123 13:05:05 @DATSGANModel.py:205]\u001b[0m \u001b[91mCreating cell for departure_time (in-edges: 1; ancestors: 5)\n",
      "\u001b[32m[1123 13:05:05 @DATSGANModel.py:205]\u001b[0m \u001b[91mCreating cell for distance (in-edges: 1; ancestors: 5)\n",
      "\u001b[32m[1123 13:05:05 @DATSGANModel.py:205]\u001b[0m \u001b[91mCreating cell for hh_vehicles (in-edges: 2; ancestors: 6)\n",
      "\u001b[32m[1123 13:05:05 @DATSGANModel.py:205]\u001b[0m \u001b[91mCreating cell for hh_bikes (in-edges: 2; ancestors: 6)\n",
      "\u001b[32m[1123 13:05:05 @DATSGANModel.py:205]\u001b[0m \u001b[91mCreating cell for choice (in-edges: 7; ancestors: 13)\n",
      "\u001b[32m[1123 13:05:05 @sessinit.py:87]\u001b[0m \u001b[5m\u001b[31mWRN\u001b[0m The following variables are in the checkpoint, but not found in the graph: global_step\n",
      "INFO:tensorflow:Graph was finalized.\n",
      "INFO:tensorflow:Running local_init_op.\n",
      "INFO:tensorflow:Done running local_init_op.\n",
      "\u001b[32m[1123 13:05:06 @sessinit.py:114]\u001b[0m Restoring checkpoint from ../output/Chicago/WGAN_WO_02/model\\model-25499 ...\n",
      "INFO:tensorflow:Restoring parameters from ../output/Chicago/WGAN_WO_02/model\\model-25499\n",
      "\u001b[32m[1123 13:05:06 @DATSGAN.py:266]\u001b[0m Loading Preprocessor!\n"
     ]
    },
    {
     "name": "stderr",
     "output_type": "stream",
     "text": [
      "|                                                                                          |17/?[00:00<00:00,17.83it/s]"
     ]
    },
    {
     "name": "stdout",
     "output_type": "stream",
     "text": [
      "\u001b[32m[1123 13:05:07 @DATSGAN.py:266]\u001b[0m Loading Preprocessor!\n"
     ]
    },
    {
     "name": "stderr",
     "output_type": "stream",
     "text": [
      "\n",
      "|                                                                                          |17/?[00:00<00:00,23.32it/s]"
     ]
    },
    {
     "name": "stdout",
     "output_type": "stream",
     "text": [
      "\u001b[32m[1123 13:05:08 @DATSGAN.py:266]\u001b[0m Loading Preprocessor!\n"
     ]
    },
    {
     "name": "stderr",
     "output_type": "stream",
     "text": [
      "\n",
      "|                                                                                          |17/?[00:00<00:00,23.23it/s]"
     ]
    },
    {
     "name": "stdout",
     "output_type": "stream",
     "text": [
      "\u001b[32m[1123 13:05:09 @DATSGAN.py:266]\u001b[0m Loading Preprocessor!\n"
     ]
    },
    {
     "name": "stderr",
     "output_type": "stream",
     "text": [
      "\n",
      "|                                                                                          |17/?[00:00<00:00,23.11it/s]"
     ]
    },
    {
     "name": "stdout",
     "output_type": "stream",
     "text": [
      "\u001b[32m[1123 13:05:10 @DATSGAN.py:266]\u001b[0m Loading Preprocessor!\n"
     ]
    },
    {
     "name": "stderr",
     "output_type": "stream",
     "text": [
      "\n",
      "|                                                                                          |17/?[00:00<00:00,22.65it/s]"
     ]
    },
    {
     "name": "stdout",
     "output_type": "stream",
     "text": [
      "\u001b[32m[1123 13:05:10 @DATSGAN.py:266]\u001b[0m Loading Preprocessor!\n"
     ]
    },
    {
     "name": "stderr",
     "output_type": "stream",
     "text": [
      "\n",
      "|                                                                                          |17/?[00:00<00:00,23.17it/s]"
     ]
    },
    {
     "name": "stdout",
     "output_type": "stream",
     "text": [
      "\u001b[32m[1123 13:05:11 @DATSGAN.py:266]\u001b[0m Loading Preprocessor!\n"
     ]
    },
    {
     "name": "stderr",
     "output_type": "stream",
     "text": [
      "\n",
      "|                                                                                          |17/?[00:00<00:00,22.90it/s]"
     ]
    },
    {
     "name": "stdout",
     "output_type": "stream",
     "text": [
      "\u001b[32m[1123 13:05:12 @DATSGAN.py:266]\u001b[0m Loading Preprocessor!\n"
     ]
    },
    {
     "name": "stderr",
     "output_type": "stream",
     "text": [
      "\n",
      "|                                                                                          |17/?[00:00<00:00,23.25it/s]"
     ]
    },
    {
     "name": "stdout",
     "output_type": "stream",
     "text": [
      "\u001b[32m[1123 13:05:13 @DATSGAN.py:266]\u001b[0m Loading Preprocessor!\n"
     ]
    },
    {
     "name": "stderr",
     "output_type": "stream",
     "text": [
      "\n",
      "|                                                                                          |17/?[00:00<00:00,22.58it/s]"
     ]
    },
    {
     "name": "stdout",
     "output_type": "stream",
     "text": [
      "\u001b[32m[1123 13:05:14 @DATSGAN.py:266]\u001b[0m Loading Preprocessor!\n"
     ]
    },
    {
     "name": "stderr",
     "output_type": "stream",
     "text": [
      "\n",
      "|                                                                                          |17/?[00:00<00:00,23.52it/s]"
     ]
    },
    {
     "name": "stdout",
     "output_type": "stream",
     "text": [
      "\u001b[32m[1123 13:05:14 @DATSGAN.py:266]\u001b[0m Loading Preprocessor!\n"
     ]
    },
    {
     "name": "stderr",
     "output_type": "stream",
     "text": [
      "\n",
      "|                                                                                          |17/?[00:00<00:00,23.21it/s]"
     ]
    },
    {
     "name": "stdout",
     "output_type": "stream",
     "text": [
      "\u001b[32m[1123 13:05:15 @DATSGAN.py:266]\u001b[0m Loading Preprocessor!\n"
     ]
    },
    {
     "name": "stderr",
     "output_type": "stream",
     "text": [
      "\n",
      "|                                                                                          |17/?[00:00<00:00,23.27it/s]"
     ]
    },
    {
     "name": "stdout",
     "output_type": "stream",
     "text": [
      "\u001b[32m[1123 13:05:16 @DATSGAN.py:266]\u001b[0m Loading Preprocessor!\n"
     ]
    },
    {
     "name": "stderr",
     "output_type": "stream",
     "text": [
      "\n",
      "|                                                                                          |17/?[00:00<00:00,23.38it/s]"
     ]
    },
    {
     "name": "stdout",
     "output_type": "stream",
     "text": [
      "\u001b[32m[1123 13:05:17 @DATSGAN.py:266]\u001b[0m Loading Preprocessor!\n"
     ]
    },
    {
     "name": "stderr",
     "output_type": "stream",
     "text": [
      "\n",
      "|                                                                                          |17/?[00:00<00:00,23.30it/s]"
     ]
    },
    {
     "name": "stdout",
     "output_type": "stream",
     "text": [
      "\u001b[32m[1123 13:05:18 @DATSGAN.py:266]\u001b[0m Loading Preprocessor!\n"
     ]
    },
    {
     "name": "stderr",
     "output_type": "stream",
     "text": [
      "\n",
      "|                                                                                          |17/?[00:00<00:00,23.19it/s]\n"
     ]
    },
    {
     "name": "stdout",
     "output_type": "stream",
     "text": [
      "Sampling synthetic data from model \u001b[1mWGAN_WO_03\u001b[0m (38/55)\n",
      "\u001b[32m[1123 13:05:24 @DATSGANModel.py:205]\u001b[0m \u001b[91mCreating cell for age (in-edges: 0; ancestors: 0)\n",
      "\u001b[32m[1123 13:05:24 @DATSGANModel.py:205]\u001b[0m \u001b[91mCreating cell for gender (in-edges: 0; ancestors: 0)\n",
      "\u001b[32m[1123 13:05:24 @DATSGANModel.py:205]\u001b[0m \u001b[91mCreating cell for travel_dow (in-edges: 0; ancestors: 0)\n",
      "\u001b[32m[1123 13:05:24 @DATSGANModel.py:205]\u001b[0m \u001b[91mCreating cell for license (in-edges: 1; ancestors: 1)\n",
      "\u001b[32m[1123 13:05:24 @DATSGANModel.py:205]\u001b[0m \u001b[91mCreating cell for education_level (in-edges: 1; ancestors: 1)\n",
      "\u001b[32m[1123 13:05:24 @DATSGANModel.py:205]\u001b[0m \u001b[91mCreating cell for work_status (in-edges: 2; ancestors: 3)\n",
      "\u001b[32m[1123 13:05:24 @DATSGANModel.py:205]\u001b[0m \u001b[91mCreating cell for hh_income (in-edges: 2; ancestors: 4)\n",
      "\u001b[32m[1123 13:05:24 @DATSGANModel.py:205]\u001b[0m \u001b[91mCreating cell for trip_purpose (in-edges: 1; ancestors: 4)\n",
      "\u001b[32m[1123 13:05:24 @DATSGANModel.py:205]\u001b[0m \u001b[91mCreating cell for hh_descr (in-edges: 2; ancestors: 5)\n",
      "\u001b[32m[1123 13:05:24 @DATSGANModel.py:205]\u001b[0m \u001b[91mCreating cell for hh_size (in-edges: 3; ancestors: 5)\n",
      "\u001b[32m[1123 13:05:24 @DATSGANModel.py:205]\u001b[0m \u001b[91mCreating cell for departure_time (in-edges: 1; ancestors: 5)\n",
      "\u001b[32m[1123 13:05:24 @DATSGANModel.py:205]\u001b[0m \u001b[91mCreating cell for distance (in-edges: 1; ancestors: 5)\n",
      "\u001b[32m[1123 13:05:24 @DATSGANModel.py:205]\u001b[0m \u001b[91mCreating cell for hh_vehicles (in-edges: 2; ancestors: 6)\n",
      "\u001b[32m[1123 13:05:25 @DATSGANModel.py:205]\u001b[0m \u001b[91mCreating cell for hh_bikes (in-edges: 2; ancestors: 6)\n",
      "\u001b[32m[1123 13:05:25 @DATSGANModel.py:205]\u001b[0m \u001b[91mCreating cell for choice (in-edges: 7; ancestors: 13)\n",
      "\u001b[32m[1123 13:05:25 @sessinit.py:87]\u001b[0m \u001b[5m\u001b[31mWRN\u001b[0m The following variables are in the checkpoint, but not found in the graph: global_step\n",
      "INFO:tensorflow:Graph was finalized.\n",
      "INFO:tensorflow:Running local_init_op.\n",
      "INFO:tensorflow:Done running local_init_op.\n",
      "\u001b[32m[1123 13:05:26 @sessinit.py:114]\u001b[0m Restoring checkpoint from ../output/Chicago/WGAN_WO_03/model\\model-25499 ...\n",
      "INFO:tensorflow:Restoring parameters from ../output/Chicago/WGAN_WO_03/model\\model-25499\n",
      "\u001b[32m[1123 13:05:26 @DATSGAN.py:266]\u001b[0m Loading Preprocessor!\n"
     ]
    },
    {
     "name": "stderr",
     "output_type": "stream",
     "text": [
      "|                                                                                          |17/?[00:00<00:00,18.05it/s]"
     ]
    },
    {
     "name": "stdout",
     "output_type": "stream",
     "text": [
      "\u001b[32m[1123 13:05:27 @DATSGAN.py:266]\u001b[0m Loading Preprocessor!\n"
     ]
    },
    {
     "name": "stderr",
     "output_type": "stream",
     "text": [
      "\n",
      "|                                                                                          |17/?[00:00<00:00,23.64it/s]"
     ]
    },
    {
     "name": "stdout",
     "output_type": "stream",
     "text": [
      "\u001b[32m[1123 13:05:28 @DATSGAN.py:266]\u001b[0m Loading Preprocessor!\n"
     ]
    },
    {
     "name": "stderr",
     "output_type": "stream",
     "text": [
      "\n",
      "|                                                                                          |17/?[00:00<00:00,23.41it/s]"
     ]
    },
    {
     "name": "stdout",
     "output_type": "stream",
     "text": [
      "\u001b[32m[1123 13:05:29 @DATSGAN.py:266]\u001b[0m Loading Preprocessor!\n"
     ]
    },
    {
     "name": "stderr",
     "output_type": "stream",
     "text": [
      "\n",
      "|                                                                                          |17/?[00:00<00:00,23.22it/s]"
     ]
    },
    {
     "name": "stdout",
     "output_type": "stream",
     "text": [
      "\u001b[32m[1123 13:05:29 @DATSGAN.py:266]\u001b[0m Loading Preprocessor!\n"
     ]
    },
    {
     "name": "stderr",
     "output_type": "stream",
     "text": [
      "\n",
      "|                                                                                          |17/?[00:00<00:00,23.60it/s]"
     ]
    },
    {
     "name": "stdout",
     "output_type": "stream",
     "text": [
      "\u001b[32m[1123 13:05:30 @DATSGAN.py:266]\u001b[0m Loading Preprocessor!\n"
     ]
    },
    {
     "name": "stderr",
     "output_type": "stream",
     "text": [
      "\n",
      "|                                                                                          |17/?[00:00<00:00,23.27it/s]"
     ]
    },
    {
     "name": "stdout",
     "output_type": "stream",
     "text": [
      "\u001b[32m[1123 13:05:31 @DATSGAN.py:266]\u001b[0m Loading Preprocessor!\n"
     ]
    },
    {
     "name": "stderr",
     "output_type": "stream",
     "text": [
      "\n",
      "|                                                                                          |17/?[00:00<00:00,23.56it/s]"
     ]
    },
    {
     "name": "stdout",
     "output_type": "stream",
     "text": [
      "\u001b[32m[1123 13:05:32 @DATSGAN.py:266]\u001b[0m Loading Preprocessor!\n"
     ]
    },
    {
     "name": "stderr",
     "output_type": "stream",
     "text": [
      "\n",
      "|                                                                                          |17/?[00:00<00:00,23.52it/s]"
     ]
    },
    {
     "name": "stdout",
     "output_type": "stream",
     "text": [
      "\u001b[32m[1123 13:05:32 @DATSGAN.py:266]\u001b[0m Loading Preprocessor!\n"
     ]
    },
    {
     "name": "stderr",
     "output_type": "stream",
     "text": [
      "\n",
      "|                                                                                          |17/?[00:00<00:00,23.64it/s]"
     ]
    },
    {
     "name": "stdout",
     "output_type": "stream",
     "text": [
      "\u001b[32m[1123 13:05:33 @DATSGAN.py:266]\u001b[0m Loading Preprocessor!\n"
     ]
    },
    {
     "name": "stderr",
     "output_type": "stream",
     "text": [
      "\n",
      "|                                                                                          |17/?[00:00<00:00,23.26it/s]"
     ]
    },
    {
     "name": "stdout",
     "output_type": "stream",
     "text": [
      "\u001b[32m[1123 13:05:34 @DATSGAN.py:266]\u001b[0m Loading Preprocessor!\n"
     ]
    },
    {
     "name": "stderr",
     "output_type": "stream",
     "text": [
      "\n",
      "|                                                                                          |17/?[00:00<00:00,23.70it/s]"
     ]
    },
    {
     "name": "stdout",
     "output_type": "stream",
     "text": [
      "\u001b[32m[1123 13:05:35 @DATSGAN.py:266]\u001b[0m Loading Preprocessor!\n"
     ]
    },
    {
     "name": "stderr",
     "output_type": "stream",
     "text": [
      "\n",
      "|                                                                                          |17/?[00:00<00:00,23.00it/s]"
     ]
    },
    {
     "name": "stdout",
     "output_type": "stream",
     "text": [
      "\u001b[32m[1123 13:05:36 @DATSGAN.py:266]\u001b[0m Loading Preprocessor!\n"
     ]
    },
    {
     "name": "stderr",
     "output_type": "stream",
     "text": [
      "\n",
      "|                                                                                          |17/?[00:00<00:00,23.52it/s]\n"
     ]
    },
    {
     "name": "stdout",
     "output_type": "stream",
     "text": [
      "\u001b[32m[1123 13:05:37 @DATSGAN.py:266]\u001b[0m Loading Preprocessor!\n"
     ]
    },
    {
     "name": "stderr",
     "output_type": "stream",
     "text": [
      "|                                                                                          |17/?[00:00<00:00,23.62it/s]"
     ]
    },
    {
     "name": "stdout",
     "output_type": "stream",
     "text": [
      "\u001b[32m[1123 13:05:37 @DATSGAN.py:266]\u001b[0m Loading Preprocessor!\n"
     ]
    },
    {
     "name": "stderr",
     "output_type": "stream",
     "text": [
      "\n",
      "|                                                                                          |17/?[00:00<00:00,23.67it/s]\n"
     ]
    },
    {
     "name": "stdout",
     "output_type": "stream",
     "text": [
      "Sampling synthetic data from model \u001b[1mWGAN_WO_04\u001b[0m (39/55)\n",
      "\u001b[32m[1123 13:05:44 @DATSGANModel.py:205]\u001b[0m \u001b[91mCreating cell for age (in-edges: 0; ancestors: 0)\n",
      "\u001b[32m[1123 13:05:44 @DATSGANModel.py:205]\u001b[0m \u001b[91mCreating cell for gender (in-edges: 0; ancestors: 0)\n",
      "\u001b[32m[1123 13:05:44 @DATSGANModel.py:205]\u001b[0m \u001b[91mCreating cell for travel_dow (in-edges: 0; ancestors: 0)\n",
      "\u001b[32m[1123 13:05:44 @DATSGANModel.py:205]\u001b[0m \u001b[91mCreating cell for license (in-edges: 1; ancestors: 1)\n",
      "\u001b[32m[1123 13:05:44 @DATSGANModel.py:205]\u001b[0m \u001b[91mCreating cell for education_level (in-edges: 1; ancestors: 1)\n",
      "\u001b[32m[1123 13:05:44 @DATSGANModel.py:205]\u001b[0m \u001b[91mCreating cell for work_status (in-edges: 2; ancestors: 3)\n",
      "\u001b[32m[1123 13:05:44 @DATSGANModel.py:205]\u001b[0m \u001b[91mCreating cell for hh_income (in-edges: 2; ancestors: 4)\n",
      "\u001b[32m[1123 13:05:44 @DATSGANModel.py:205]\u001b[0m \u001b[91mCreating cell for trip_purpose (in-edges: 1; ancestors: 4)\n",
      "\u001b[32m[1123 13:05:44 @DATSGANModel.py:205]\u001b[0m \u001b[91mCreating cell for hh_descr (in-edges: 2; ancestors: 5)\n",
      "\u001b[32m[1123 13:05:44 @DATSGANModel.py:205]\u001b[0m \u001b[91mCreating cell for hh_size (in-edges: 3; ancestors: 5)\n",
      "\u001b[32m[1123 13:05:44 @DATSGANModel.py:205]\u001b[0m \u001b[91mCreating cell for departure_time (in-edges: 1; ancestors: 5)\n",
      "\u001b[32m[1123 13:05:44 @DATSGANModel.py:205]\u001b[0m \u001b[91mCreating cell for distance (in-edges: 1; ancestors: 5)\n",
      "\u001b[32m[1123 13:05:44 @DATSGANModel.py:205]\u001b[0m \u001b[91mCreating cell for hh_vehicles (in-edges: 2; ancestors: 6)\n",
      "\u001b[32m[1123 13:05:45 @DATSGANModel.py:205]\u001b[0m \u001b[91mCreating cell for hh_bikes (in-edges: 2; ancestors: 6)\n",
      "\u001b[32m[1123 13:05:45 @DATSGANModel.py:205]\u001b[0m \u001b[91mCreating cell for choice (in-edges: 7; ancestors: 13)\n",
      "\u001b[32m[1123 13:05:45 @sessinit.py:87]\u001b[0m \u001b[5m\u001b[31mWRN\u001b[0m The following variables are in the checkpoint, but not found in the graph: global_step\n",
      "INFO:tensorflow:Graph was finalized.\n",
      "INFO:tensorflow:Running local_init_op.\n",
      "INFO:tensorflow:Done running local_init_op.\n",
      "\u001b[32m[1123 13:05:46 @sessinit.py:114]\u001b[0m Restoring checkpoint from ../output/Chicago/WGAN_WO_04/model\\model-25499 ...\n",
      "INFO:tensorflow:Restoring parameters from ../output/Chicago/WGAN_WO_04/model\\model-25499\n",
      "\u001b[32m[1123 13:05:46 @DATSGAN.py:266]\u001b[0m Loading Preprocessor!\n"
     ]
    },
    {
     "name": "stderr",
     "output_type": "stream",
     "text": [
      "|                                                                                          |17/?[00:00<00:00,18.06it/s]"
     ]
    },
    {
     "name": "stdout",
     "output_type": "stream",
     "text": [
      "\u001b[32m[1123 13:05:47 @DATSGAN.py:266]\u001b[0m Loading Preprocessor!\n"
     ]
    },
    {
     "name": "stderr",
     "output_type": "stream",
     "text": [
      "\n",
      "|                                                                                          |17/?[00:00<00:00,23.63it/s]"
     ]
    },
    {
     "name": "stdout",
     "output_type": "stream",
     "text": [
      "\u001b[32m[1123 13:05:48 @DATSGAN.py:266]\u001b[0m Loading Preprocessor!\n"
     ]
    },
    {
     "name": "stderr",
     "output_type": "stream",
     "text": [
      "\n",
      "|                                                                                          |17/?[00:00<00:00,23.35it/s]"
     ]
    },
    {
     "name": "stdout",
     "output_type": "stream",
     "text": [
      "\u001b[32m[1123 13:05:49 @DATSGAN.py:266]\u001b[0m Loading Preprocessor!\n"
     ]
    },
    {
     "name": "stderr",
     "output_type": "stream",
     "text": [
      "\n",
      "|                                                                                          |17/?[00:00<00:00,23.56it/s]"
     ]
    },
    {
     "name": "stdout",
     "output_type": "stream",
     "text": [
      "\u001b[32m[1123 13:05:49 @DATSGAN.py:266]\u001b[0m Loading Preprocessor!\n"
     ]
    },
    {
     "name": "stderr",
     "output_type": "stream",
     "text": [
      "\n",
      "|                                                                                          |17/?[00:00<00:00,23.15it/s]"
     ]
    },
    {
     "name": "stdout",
     "output_type": "stream",
     "text": [
      "\u001b[32m[1123 13:05:50 @DATSGAN.py:266]\u001b[0m Loading Preprocessor!\n"
     ]
    },
    {
     "name": "stderr",
     "output_type": "stream",
     "text": [
      "\n",
      "|                                                                                          |17/?[00:00<00:00,23.56it/s]"
     ]
    },
    {
     "name": "stdout",
     "output_type": "stream",
     "text": [
      "\u001b[32m[1123 13:05:51 @DATSGAN.py:266]\u001b[0m Loading Preprocessor!\n"
     ]
    },
    {
     "name": "stderr",
     "output_type": "stream",
     "text": [
      "\n",
      "|                                                                                          |17/?[00:00<00:00,23.38it/s]"
     ]
    },
    {
     "name": "stdout",
     "output_type": "stream",
     "text": [
      "\u001b[32m[1123 13:05:52 @DATSGAN.py:266]\u001b[0m Loading Preprocessor!\n"
     ]
    },
    {
     "name": "stderr",
     "output_type": "stream",
     "text": [
      "\n",
      "|                                                                                          |17/?[00:00<00:00,23.64it/s]"
     ]
    },
    {
     "name": "stdout",
     "output_type": "stream",
     "text": [
      "\u001b[32m[1123 13:05:53 @DATSGAN.py:266]\u001b[0m Loading Preprocessor!\n"
     ]
    },
    {
     "name": "stderr",
     "output_type": "stream",
     "text": [
      "\n",
      "|                                                                                          |17/?[00:00<00:00,23.51it/s]"
     ]
    },
    {
     "name": "stdout",
     "output_type": "stream",
     "text": [
      "\u001b[32m[1123 13:05:53 @DATSGAN.py:266]\u001b[0m Loading Preprocessor!\n"
     ]
    },
    {
     "name": "stderr",
     "output_type": "stream",
     "text": [
      "\n",
      "|                                                                                          |17/?[00:00<00:00,23.54it/s]"
     ]
    },
    {
     "name": "stdout",
     "output_type": "stream",
     "text": [
      "\u001b[32m[1123 13:05:54 @DATSGAN.py:266]\u001b[0m Loading Preprocessor!\n"
     ]
    },
    {
     "name": "stderr",
     "output_type": "stream",
     "text": [
      "\n",
      "|                                                                                          |17/?[00:00<00:00,23.44it/s]"
     ]
    },
    {
     "name": "stdout",
     "output_type": "stream",
     "text": [
      "\u001b[32m[1123 13:05:55 @DATSGAN.py:266]\u001b[0m Loading Preprocessor!\n"
     ]
    },
    {
     "name": "stderr",
     "output_type": "stream",
     "text": [
      "\n",
      "|                                                                                          |17/?[00:00<00:00,23.48it/s]"
     ]
    },
    {
     "name": "stdout",
     "output_type": "stream",
     "text": [
      "\u001b[32m[1123 13:05:56 @DATSGAN.py:266]\u001b[0m Loading Preprocessor!\n"
     ]
    },
    {
     "name": "stderr",
     "output_type": "stream",
     "text": [
      "\n",
      "|                                                                                          |17/?[00:00<00:00,23.77it/s]"
     ]
    },
    {
     "name": "stdout",
     "output_type": "stream",
     "text": [
      "\u001b[32m[1123 13:05:56 @DATSGAN.py:266]\u001b[0m Loading Preprocessor!\n"
     ]
    },
    {
     "name": "stderr",
     "output_type": "stream",
     "text": [
      "\n",
      "|                                                                                          |17/?[00:00<00:00,23.22it/s]"
     ]
    },
    {
     "name": "stdout",
     "output_type": "stream",
     "text": [
      "\u001b[32m[1123 13:05:57 @DATSGAN.py:266]\u001b[0m Loading Preprocessor!\n"
     ]
    },
    {
     "name": "stderr",
     "output_type": "stream",
     "text": [
      "\n",
      "|                                                                                          |17/?[00:00<00:00,23.36it/s]\n"
     ]
    },
    {
     "name": "stdout",
     "output_type": "stream",
     "text": [
      "Sampling synthetic data from model \u001b[1mWGAN_WO_05\u001b[0m (40/55)\n",
      "\u001b[32m[1123 13:06:03 @DATSGANModel.py:205]\u001b[0m \u001b[91mCreating cell for age (in-edges: 0; ancestors: 0)\n",
      "\u001b[32m[1123 13:06:03 @DATSGANModel.py:205]\u001b[0m \u001b[91mCreating cell for gender (in-edges: 0; ancestors: 0)\n",
      "\u001b[32m[1123 13:06:03 @DATSGANModel.py:205]\u001b[0m \u001b[91mCreating cell for travel_dow (in-edges: 0; ancestors: 0)\n",
      "\u001b[32m[1123 13:06:04 @DATSGANModel.py:205]\u001b[0m \u001b[91mCreating cell for license (in-edges: 1; ancestors: 1)\n",
      "\u001b[32m[1123 13:06:04 @DATSGANModel.py:205]\u001b[0m \u001b[91mCreating cell for education_level (in-edges: 1; ancestors: 1)\n",
      "\u001b[32m[1123 13:06:04 @DATSGANModel.py:205]\u001b[0m \u001b[91mCreating cell for work_status (in-edges: 2; ancestors: 3)\n",
      "\u001b[32m[1123 13:06:04 @DATSGANModel.py:205]\u001b[0m \u001b[91mCreating cell for hh_income (in-edges: 2; ancestors: 4)\n",
      "\u001b[32m[1123 13:06:04 @DATSGANModel.py:205]\u001b[0m \u001b[91mCreating cell for trip_purpose (in-edges: 1; ancestors: 4)\n",
      "\u001b[32m[1123 13:06:04 @DATSGANModel.py:205]\u001b[0m \u001b[91mCreating cell for hh_descr (in-edges: 2; ancestors: 5)\n",
      "\u001b[32m[1123 13:06:04 @DATSGANModel.py:205]\u001b[0m \u001b[91mCreating cell for hh_size (in-edges: 3; ancestors: 5)\n",
      "\u001b[32m[1123 13:06:04 @DATSGANModel.py:205]\u001b[0m \u001b[91mCreating cell for departure_time (in-edges: 1; ancestors: 5)\n",
      "\u001b[32m[1123 13:06:04 @DATSGANModel.py:205]\u001b[0m \u001b[91mCreating cell for distance (in-edges: 1; ancestors: 5)\n",
      "\u001b[32m[1123 13:06:04 @DATSGANModel.py:205]\u001b[0m \u001b[91mCreating cell for hh_vehicles (in-edges: 2; ancestors: 6)\n",
      "\u001b[32m[1123 13:06:04 @DATSGANModel.py:205]\u001b[0m \u001b[91mCreating cell for hh_bikes (in-edges: 2; ancestors: 6)\n",
      "\u001b[32m[1123 13:06:04 @DATSGANModel.py:205]\u001b[0m \u001b[91mCreating cell for choice (in-edges: 7; ancestors: 13)\n",
      "\u001b[32m[1123 13:06:05 @sessinit.py:87]\u001b[0m \u001b[5m\u001b[31mWRN\u001b[0m The following variables are in the checkpoint, but not found in the graph: global_step\n",
      "INFO:tensorflow:Graph was finalized.\n",
      "INFO:tensorflow:Running local_init_op.\n",
      "INFO:tensorflow:Done running local_init_op.\n",
      "\u001b[32m[1123 13:06:05 @sessinit.py:114]\u001b[0m Restoring checkpoint from ../output/Chicago/WGAN_WO_05/model\\model-25499 ...\n",
      "INFO:tensorflow:Restoring parameters from ../output/Chicago/WGAN_WO_05/model\\model-25499\n",
      "\u001b[32m[1123 13:06:06 @DATSGAN.py:266]\u001b[0m Loading Preprocessor!\n"
     ]
    },
    {
     "name": "stderr",
     "output_type": "stream",
     "text": [
      "|                                                                                          |17/?[00:00<00:00,17.88it/s]"
     ]
    },
    {
     "name": "stdout",
     "output_type": "stream",
     "text": [
      "\u001b[32m[1123 13:06:07 @DATSGAN.py:266]\u001b[0m Loading Preprocessor!\n"
     ]
    },
    {
     "name": "stderr",
     "output_type": "stream",
     "text": [
      "\n",
      "|                                                                                          |17/?[00:00<00:00,23.37it/s]"
     ]
    },
    {
     "name": "stdout",
     "output_type": "stream",
     "text": [
      "\u001b[32m[1123 13:06:07 @DATSGAN.py:266]\u001b[0m Loading Preprocessor!\n"
     ]
    },
    {
     "name": "stderr",
     "output_type": "stream",
     "text": [
      "\n",
      "|                                                                                          |17/?[00:00<00:00,23.32it/s]"
     ]
    },
    {
     "name": "stdout",
     "output_type": "stream",
     "text": [
      "\u001b[32m[1123 13:06:08 @DATSGAN.py:266]\u001b[0m Loading Preprocessor!\n"
     ]
    },
    {
     "name": "stderr",
     "output_type": "stream",
     "text": [
      "\n",
      "|                                                                                          |17/?[00:00<00:00,23.57it/s]"
     ]
    },
    {
     "name": "stdout",
     "output_type": "stream",
     "text": [
      "\u001b[32m[1123 13:06:09 @DATSGAN.py:266]\u001b[0m Loading Preprocessor!\n"
     ]
    },
    {
     "name": "stderr",
     "output_type": "stream",
     "text": [
      "\n",
      "|                                                                                          |17/?[00:00<00:00,23.70it/s]"
     ]
    },
    {
     "name": "stdout",
     "output_type": "stream",
     "text": [
      "\u001b[32m[1123 13:06:10 @DATSGAN.py:266]\u001b[0m Loading Preprocessor!\n"
     ]
    },
    {
     "name": "stderr",
     "output_type": "stream",
     "text": [
      "\n",
      "|                                                                                          |17/?[00:00<00:00,23.28it/s]"
     ]
    },
    {
     "name": "stdout",
     "output_type": "stream",
     "text": [
      "\u001b[32m[1123 13:06:11 @DATSGAN.py:266]\u001b[0m Loading Preprocessor!\n"
     ]
    },
    {
     "name": "stderr",
     "output_type": "stream",
     "text": [
      "\n",
      "|                                                                                          |17/?[00:00<00:00,23.28it/s]"
     ]
    },
    {
     "name": "stdout",
     "output_type": "stream",
     "text": [
      "\u001b[32m[1123 13:06:11 @DATSGAN.py:266]\u001b[0m Loading Preprocessor!\n"
     ]
    },
    {
     "name": "stderr",
     "output_type": "stream",
     "text": [
      "\n",
      "|                                                                                          |17/?[00:00<00:00,23.66it/s]"
     ]
    },
    {
     "name": "stdout",
     "output_type": "stream",
     "text": [
      "\u001b[32m[1123 13:06:12 @DATSGAN.py:266]\u001b[0m Loading Preprocessor!\n"
     ]
    },
    {
     "name": "stderr",
     "output_type": "stream",
     "text": [
      "\n",
      "|                                                                                          |17/?[00:00<00:00,23.65it/s]"
     ]
    },
    {
     "name": "stdout",
     "output_type": "stream",
     "text": [
      "\u001b[32m[1123 13:06:13 @DATSGAN.py:266]\u001b[0m Loading Preprocessor!\n"
     ]
    },
    {
     "name": "stderr",
     "output_type": "stream",
     "text": [
      "\n",
      "|                                                                                          |17/?[00:00<00:00,23.33it/s]"
     ]
    },
    {
     "name": "stdout",
     "output_type": "stream",
     "text": [
      "\u001b[32m[1123 13:06:14 @DATSGAN.py:266]\u001b[0m Loading Preprocessor!\n"
     ]
    },
    {
     "name": "stderr",
     "output_type": "stream",
     "text": [
      "\n",
      "|                                                                                          |17/?[00:00<00:00,23.52it/s]"
     ]
    },
    {
     "name": "stdout",
     "output_type": "stream",
     "text": [
      "\u001b[32m[1123 13:06:15 @DATSGAN.py:266]\u001b[0m Loading Preprocessor!\n"
     ]
    },
    {
     "name": "stderr",
     "output_type": "stream",
     "text": [
      "\n",
      "|                                                                                          |17/?[00:00<00:00,23.43it/s]"
     ]
    },
    {
     "name": "stdout",
     "output_type": "stream",
     "text": [
      "\u001b[32m[1123 13:06:15 @DATSGAN.py:266]\u001b[0m Loading Preprocessor!\n"
     ]
    },
    {
     "name": "stderr",
     "output_type": "stream",
     "text": [
      "\n",
      "|                                                                                          |17/?[00:00<00:00,23.00it/s]"
     ]
    },
    {
     "name": "stdout",
     "output_type": "stream",
     "text": [
      "\u001b[32m[1123 13:06:16 @DATSGAN.py:266]\u001b[0m Loading Preprocessor!\n"
     ]
    },
    {
     "name": "stderr",
     "output_type": "stream",
     "text": [
      "\n",
      "|                                                                                          |17/?[00:00<00:00,23.16it/s]"
     ]
    },
    {
     "name": "stdout",
     "output_type": "stream",
     "text": [
      "\u001b[32m[1123 13:06:17 @DATSGAN.py:266]\u001b[0m Loading Preprocessor!\n"
     ]
    },
    {
     "name": "stderr",
     "output_type": "stream",
     "text": [
      "\n",
      "|                                                                                          |17/?[00:00<00:00,23.69it/s]\n"
     ]
    },
    {
     "name": "stdout",
     "output_type": "stream",
     "text": [
      "Sampling synthetic data from model \u001b[1mWGGP_OR_01\u001b[0m (41/55)\n",
      "\u001b[32m[1123 13:06:23 @DATSGANModel.py:205]\u001b[0m \u001b[91mCreating cell for age (in-edges: 0; ancestors: 0)\n",
      "\u001b[32m[1123 13:06:23 @DATSGANModel.py:205]\u001b[0m \u001b[91mCreating cell for gender (in-edges: 0; ancestors: 0)\n",
      "\u001b[32m[1123 13:06:23 @DATSGANModel.py:205]\u001b[0m \u001b[91mCreating cell for travel_dow (in-edges: 0; ancestors: 0)\n",
      "\u001b[32m[1123 13:06:23 @DATSGANModel.py:205]\u001b[0m \u001b[91mCreating cell for license (in-edges: 1; ancestors: 1)\n",
      "\u001b[32m[1123 13:06:23 @DATSGANModel.py:205]\u001b[0m \u001b[91mCreating cell for education_level (in-edges: 1; ancestors: 1)\n",
      "\u001b[32m[1123 13:06:23 @DATSGANModel.py:205]\u001b[0m \u001b[91mCreating cell for work_status (in-edges: 2; ancestors: 3)\n",
      "\u001b[32m[1123 13:06:23 @DATSGANModel.py:205]\u001b[0m \u001b[91mCreating cell for hh_income (in-edges: 2; ancestors: 4)\n",
      "\u001b[32m[1123 13:06:23 @DATSGANModel.py:205]\u001b[0m \u001b[91mCreating cell for trip_purpose (in-edges: 1; ancestors: 4)\n",
      "\u001b[32m[1123 13:06:23 @DATSGANModel.py:205]\u001b[0m \u001b[91mCreating cell for hh_descr (in-edges: 2; ancestors: 5)\n",
      "\u001b[32m[1123 13:06:24 @DATSGANModel.py:205]\u001b[0m \u001b[91mCreating cell for hh_size (in-edges: 3; ancestors: 5)\n",
      "\u001b[32m[1123 13:06:24 @DATSGANModel.py:205]\u001b[0m \u001b[91mCreating cell for departure_time (in-edges: 1; ancestors: 5)\n",
      "\u001b[32m[1123 13:06:24 @DATSGANModel.py:205]\u001b[0m \u001b[91mCreating cell for distance (in-edges: 1; ancestors: 5)\n",
      "\u001b[32m[1123 13:06:24 @DATSGANModel.py:205]\u001b[0m \u001b[91mCreating cell for hh_vehicles (in-edges: 2; ancestors: 6)\n",
      "\u001b[32m[1123 13:06:24 @DATSGANModel.py:205]\u001b[0m \u001b[91mCreating cell for hh_bikes (in-edges: 2; ancestors: 6)\n",
      "\u001b[32m[1123 13:06:24 @DATSGANModel.py:205]\u001b[0m \u001b[91mCreating cell for choice (in-edges: 7; ancestors: 13)\n",
      "\u001b[32m[1123 13:06:24 @registry.py:126]\u001b[0m discrim/discrim/dis_fc0/fc input: [500, 106]\n",
      "\u001b[32m[1123 13:06:24 @registry.py:134]\u001b[0m discrim/discrim/dis_fc0/fc output: [500, 100]\n",
      "\u001b[32m[1123 13:06:24 @registry.py:126]\u001b[0m discrim/discrim/dis_fc0/FC_DIVERSITY input: [500, 100]\n",
      "\u001b[32m[1123 13:06:24 @registry.py:134]\u001b[0m discrim/discrim/dis_fc0/FC_DIVERSITY output: [500, 100]\n",
      "\u001b[32m[1123 13:06:24 @registry.py:126]\u001b[0m discrim/discrim/dis_fc_top input: [500, 110]\n",
      "\u001b[32m[1123 13:06:24 @registry.py:134]\u001b[0m discrim/discrim/dis_fc_top output: [500, 1]\n",
      "\u001b[32m[1123 13:06:24 @sessinit.py:87]\u001b[0m \u001b[5m\u001b[31mWRN\u001b[0m The following variables are in the checkpoint, but not found in the graph: global_step, optimize/beta1_power, optimize/beta2_power\n",
      "INFO:tensorflow:Graph was finalized.\n",
      "INFO:tensorflow:Running local_init_op.\n",
      "INFO:tensorflow:Done running local_init_op.\n",
      "\u001b[32m[1123 13:06:25 @sessinit.py:114]\u001b[0m Restoring checkpoint from ../output/Chicago/WGGP_OR_01/model\\model-20399 ...\n",
      "INFO:tensorflow:Restoring parameters from ../output/Chicago/WGGP_OR_01/model\\model-20399\n",
      "\u001b[32m[1123 13:06:25 @DATSGAN.py:266]\u001b[0m Loading Preprocessor!\n"
     ]
    },
    {
     "name": "stderr",
     "output_type": "stream",
     "text": [
      "|                                                                                          |17/?[00:00<00:00,18.08it/s]"
     ]
    },
    {
     "name": "stdout",
     "output_type": "stream",
     "text": [
      "\u001b[32m[1123 13:06:26 @DATSGAN.py:266]\u001b[0m Loading Preprocessor!\n"
     ]
    },
    {
     "name": "stderr",
     "output_type": "stream",
     "text": [
      "\n",
      "|                                                                                          |17/?[00:00<00:00,23.54it/s]"
     ]
    },
    {
     "name": "stdout",
     "output_type": "stream",
     "text": [
      "\u001b[32m[1123 13:06:27 @DATSGAN.py:266]\u001b[0m Loading Preprocessor!\n"
     ]
    },
    {
     "name": "stderr",
     "output_type": "stream",
     "text": [
      "\n",
      "|                                                                                          |17/?[00:00<00:00,23.64it/s]"
     ]
    },
    {
     "name": "stdout",
     "output_type": "stream",
     "text": [
      "\u001b[32m[1123 13:06:28 @DATSGAN.py:266]\u001b[0m Loading Preprocessor!\n"
     ]
    },
    {
     "name": "stderr",
     "output_type": "stream",
     "text": [
      "\n",
      "|                                                                                          |17/?[00:00<00:00,23.13it/s]"
     ]
    },
    {
     "name": "stdout",
     "output_type": "stream",
     "text": [
      "\u001b[32m[1123 13:06:29 @DATSGAN.py:266]\u001b[0m Loading Preprocessor!\n"
     ]
    },
    {
     "name": "stderr",
     "output_type": "stream",
     "text": [
      "\n",
      "|                                                                                          |17/?[00:00<00:00,23.40it/s]"
     ]
    },
    {
     "name": "stdout",
     "output_type": "stream",
     "text": [
      "\u001b[32m[1123 13:06:30 @DATSGAN.py:266]\u001b[0m Loading Preprocessor!\n"
     ]
    },
    {
     "name": "stderr",
     "output_type": "stream",
     "text": [
      "\n",
      "|                                                                                          |17/?[00:00<00:00,23.59it/s]"
     ]
    },
    {
     "name": "stdout",
     "output_type": "stream",
     "text": [
      "\u001b[32m[1123 13:06:30 @DATSGAN.py:266]\u001b[0m Loading Preprocessor!\n"
     ]
    },
    {
     "name": "stderr",
     "output_type": "stream",
     "text": [
      "\n",
      "|                                                                                          |17/?[00:00<00:00,23.21it/s]"
     ]
    },
    {
     "name": "stdout",
     "output_type": "stream",
     "text": [
      "\u001b[32m[1123 13:06:31 @DATSGAN.py:266]\u001b[0m Loading Preprocessor!\n"
     ]
    },
    {
     "name": "stderr",
     "output_type": "stream",
     "text": [
      "\n",
      "|                                                                                          |17/?[00:00<00:00,23.72it/s]"
     ]
    },
    {
     "name": "stdout",
     "output_type": "stream",
     "text": [
      "\u001b[32m[1123 13:06:32 @DATSGAN.py:266]\u001b[0m Loading Preprocessor!\n"
     ]
    },
    {
     "name": "stderr",
     "output_type": "stream",
     "text": [
      "\n",
      "|                                                                                          |17/?[00:00<00:00,23.67it/s]"
     ]
    },
    {
     "name": "stdout",
     "output_type": "stream",
     "text": [
      "\u001b[32m[1123 13:06:33 @DATSGAN.py:266]\u001b[0m Loading Preprocessor!\n"
     ]
    },
    {
     "name": "stderr",
     "output_type": "stream",
     "text": [
      "\n",
      "|                                                                                          |17/?[00:00<00:00,23.56it/s]"
     ]
    },
    {
     "name": "stdout",
     "output_type": "stream",
     "text": [
      "\u001b[32m[1123 13:06:34 @DATSGAN.py:266]\u001b[0m Loading Preprocessor!\n"
     ]
    },
    {
     "name": "stderr",
     "output_type": "stream",
     "text": [
      "\n",
      "|                                                                                          |17/?[00:00<00:00,23.77it/s]"
     ]
    },
    {
     "name": "stdout",
     "output_type": "stream",
     "text": [
      "\u001b[32m[1123 13:06:34 @DATSGAN.py:266]\u001b[0m Loading Preprocessor!\n"
     ]
    },
    {
     "name": "stderr",
     "output_type": "stream",
     "text": [
      "\n",
      "|                                                                                          |17/?[00:00<00:00,22.96it/s]"
     ]
    },
    {
     "name": "stdout",
     "output_type": "stream",
     "text": [
      "\u001b[32m[1123 13:06:35 @DATSGAN.py:266]\u001b[0m Loading Preprocessor!\n"
     ]
    },
    {
     "name": "stderr",
     "output_type": "stream",
     "text": [
      "\n",
      "|                                                                                          |17/?[00:00<00:00,23.46it/s]"
     ]
    },
    {
     "name": "stdout",
     "output_type": "stream",
     "text": [
      "\u001b[32m[1123 13:06:36 @DATSGAN.py:266]\u001b[0m Loading Preprocessor!\n"
     ]
    },
    {
     "name": "stderr",
     "output_type": "stream",
     "text": [
      "\n",
      "|                                                                                          |17/?[00:00<00:00,23.30it/s]"
     ]
    },
    {
     "name": "stdout",
     "output_type": "stream",
     "text": [
      "\u001b[32m[1123 13:06:37 @DATSGAN.py:266]\u001b[0m Loading Preprocessor!\n"
     ]
    },
    {
     "name": "stderr",
     "output_type": "stream",
     "text": [
      "\n",
      "|                                                                                          |17/?[00:00<00:00,23.17it/s]\n"
     ]
    },
    {
     "name": "stdout",
     "output_type": "stream",
     "text": [
      "Sampling synthetic data from model \u001b[1mWGGP_OR_02\u001b[0m (42/55)\n",
      "\u001b[32m[1123 13:06:43 @DATSGANModel.py:205]\u001b[0m \u001b[91mCreating cell for age (in-edges: 0; ancestors: 0)\n",
      "\u001b[32m[1123 13:06:43 @DATSGANModel.py:205]\u001b[0m \u001b[91mCreating cell for gender (in-edges: 0; ancestors: 0)\n",
      "\u001b[32m[1123 13:06:43 @DATSGANModel.py:205]\u001b[0m \u001b[91mCreating cell for travel_dow (in-edges: 0; ancestors: 0)\n",
      "\u001b[32m[1123 13:06:43 @DATSGANModel.py:205]\u001b[0m \u001b[91mCreating cell for license (in-edges: 1; ancestors: 1)\n",
      "\u001b[32m[1123 13:06:43 @DATSGANModel.py:205]\u001b[0m \u001b[91mCreating cell for education_level (in-edges: 1; ancestors: 1)\n",
      "\u001b[32m[1123 13:06:43 @DATSGANModel.py:205]\u001b[0m \u001b[91mCreating cell for work_status (in-edges: 2; ancestors: 3)\n",
      "\u001b[32m[1123 13:06:43 @DATSGANModel.py:205]\u001b[0m \u001b[91mCreating cell for hh_income (in-edges: 2; ancestors: 4)\n",
      "\u001b[32m[1123 13:06:43 @DATSGANModel.py:205]\u001b[0m \u001b[91mCreating cell for trip_purpose (in-edges: 1; ancestors: 4)\n",
      "\u001b[32m[1123 13:06:43 @DATSGANModel.py:205]\u001b[0m \u001b[91mCreating cell for hh_descr (in-edges: 2; ancestors: 5)\n",
      "\u001b[32m[1123 13:06:43 @DATSGANModel.py:205]\u001b[0m \u001b[91mCreating cell for hh_size (in-edges: 3; ancestors: 5)\n",
      "\u001b[32m[1123 13:06:43 @DATSGANModel.py:205]\u001b[0m \u001b[91mCreating cell for departure_time (in-edges: 1; ancestors: 5)\n",
      "\u001b[32m[1123 13:06:43 @DATSGANModel.py:205]\u001b[0m \u001b[91mCreating cell for distance (in-edges: 1; ancestors: 5)\n",
      "\u001b[32m[1123 13:06:44 @DATSGANModel.py:205]\u001b[0m \u001b[91mCreating cell for hh_vehicles (in-edges: 2; ancestors: 6)\n",
      "\u001b[32m[1123 13:06:44 @DATSGANModel.py:205]\u001b[0m \u001b[91mCreating cell for hh_bikes (in-edges: 2; ancestors: 6)\n",
      "\u001b[32m[1123 13:06:44 @DATSGANModel.py:205]\u001b[0m \u001b[91mCreating cell for choice (in-edges: 7; ancestors: 13)\n",
      "\u001b[32m[1123 13:06:44 @sessinit.py:87]\u001b[0m \u001b[5m\u001b[31mWRN\u001b[0m The following variables are in the checkpoint, but not found in the graph: global_step, optimize/beta1_power, optimize/beta2_power\n",
      "INFO:tensorflow:Graph was finalized.\n",
      "INFO:tensorflow:Running local_init_op.\n",
      "INFO:tensorflow:Done running local_init_op.\n",
      "\u001b[32m[1123 13:06:45 @sessinit.py:114]\u001b[0m Restoring checkpoint from ../output/Chicago/WGGP_OR_02/model\\model-20399 ...\n",
      "INFO:tensorflow:Restoring parameters from ../output/Chicago/WGGP_OR_02/model\\model-20399\n",
      "\u001b[32m[1123 13:06:45 @DATSGAN.py:266]\u001b[0m Loading Preprocessor!\n"
     ]
    },
    {
     "name": "stderr",
     "output_type": "stream",
     "text": [
      "|                                                                                          |17/?[00:00<00:00,17.74it/s]"
     ]
    },
    {
     "name": "stdout",
     "output_type": "stream",
     "text": [
      "\u001b[32m[1123 13:06:46 @DATSGAN.py:266]\u001b[0m Loading Preprocessor!\n"
     ]
    },
    {
     "name": "stderr",
     "output_type": "stream",
     "text": [
      "\n",
      "|                                                                                          |17/?[00:00<00:00,23.52it/s]"
     ]
    },
    {
     "name": "stdout",
     "output_type": "stream",
     "text": [
      "\u001b[32m[1123 13:06:47 @DATSGAN.py:266]\u001b[0m Loading Preprocessor!\n"
     ]
    },
    {
     "name": "stderr",
     "output_type": "stream",
     "text": [
      "\n",
      "|                                                                                          |17/?[00:00<00:00,23.67it/s]"
     ]
    },
    {
     "name": "stdout",
     "output_type": "stream",
     "text": [
      "\u001b[32m[1123 13:06:48 @DATSGAN.py:266]\u001b[0m Loading Preprocessor!\n"
     ]
    },
    {
     "name": "stderr",
     "output_type": "stream",
     "text": [
      "\n",
      "|                                                                                          |17/?[00:00<00:00,23.17it/s]"
     ]
    },
    {
     "name": "stdout",
     "output_type": "stream",
     "text": [
      "\u001b[32m[1123 13:06:49 @DATSGAN.py:266]\u001b[0m Loading Preprocessor!\n"
     ]
    },
    {
     "name": "stderr",
     "output_type": "stream",
     "text": [
      "\n",
      "|                                                                                          |17/?[00:00<00:00,23.43it/s]"
     ]
    },
    {
     "name": "stdout",
     "output_type": "stream",
     "text": [
      "\u001b[32m[1123 13:06:49 @DATSGAN.py:266]\u001b[0m Loading Preprocessor!\n"
     ]
    },
    {
     "name": "stderr",
     "output_type": "stream",
     "text": [
      "\n",
      "|                                                                                          |17/?[00:00<00:00,23.32it/s]"
     ]
    },
    {
     "name": "stdout",
     "output_type": "stream",
     "text": [
      "\u001b[32m[1123 13:06:50 @DATSGAN.py:266]\u001b[0m Loading Preprocessor!\n"
     ]
    },
    {
     "name": "stderr",
     "output_type": "stream",
     "text": [
      "\n",
      "|                                                                                          |17/?[00:00<00:00,23.27it/s]"
     ]
    },
    {
     "name": "stdout",
     "output_type": "stream",
     "text": [
      "\u001b[32m[1123 13:06:51 @DATSGAN.py:266]\u001b[0m Loading Preprocessor!\n"
     ]
    },
    {
     "name": "stderr",
     "output_type": "stream",
     "text": [
      "\n",
      "|                                                                                          |17/?[00:00<00:00,23.49it/s]"
     ]
    },
    {
     "name": "stdout",
     "output_type": "stream",
     "text": [
      "\u001b[32m[1123 13:06:52 @DATSGAN.py:266]\u001b[0m Loading Preprocessor!\n"
     ]
    },
    {
     "name": "stderr",
     "output_type": "stream",
     "text": [
      "\n",
      "|                                                                                          |17/?[00:00<00:00,23.65it/s]"
     ]
    },
    {
     "name": "stdout",
     "output_type": "stream",
     "text": [
      "\u001b[32m[1123 13:06:53 @DATSGAN.py:266]\u001b[0m Loading Preprocessor!\n"
     ]
    },
    {
     "name": "stderr",
     "output_type": "stream",
     "text": [
      "\n",
      "|                                                                                          |17/?[00:00<00:00,23.32it/s]"
     ]
    },
    {
     "name": "stdout",
     "output_type": "stream",
     "text": [
      "\u001b[32m[1123 13:06:53 @DATSGAN.py:266]\u001b[0m Loading Preprocessor!\n"
     ]
    },
    {
     "name": "stderr",
     "output_type": "stream",
     "text": [
      "\n",
      "|                                                                                          |17/?[00:00<00:00,23.38it/s]"
     ]
    },
    {
     "name": "stdout",
     "output_type": "stream",
     "text": [
      "\u001b[32m[1123 13:06:54 @DATSGAN.py:266]\u001b[0m Loading Preprocessor!\n"
     ]
    },
    {
     "name": "stderr",
     "output_type": "stream",
     "text": [
      "\n",
      "|                                                                                          |17/?[00:00<00:00,23.33it/s]"
     ]
    },
    {
     "name": "stdout",
     "output_type": "stream",
     "text": [
      "\u001b[32m[1123 13:06:55 @DATSGAN.py:266]\u001b[0m Loading Preprocessor!\n"
     ]
    },
    {
     "name": "stderr",
     "output_type": "stream",
     "text": [
      "\n",
      "|                                                                                          |17/?[00:00<00:00,23.48it/s]"
     ]
    },
    {
     "name": "stdout",
     "output_type": "stream",
     "text": [
      "\u001b[32m[1123 13:06:56 @DATSGAN.py:266]\u001b[0m Loading Preprocessor!\n"
     ]
    },
    {
     "name": "stderr",
     "output_type": "stream",
     "text": [
      "\n",
      "|                                                                                          |17/?[00:00<00:00,23.19it/s]"
     ]
    },
    {
     "name": "stdout",
     "output_type": "stream",
     "text": [
      "\u001b[32m[1123 13:06:57 @DATSGAN.py:266]\u001b[0m Loading Preprocessor!\n"
     ]
    },
    {
     "name": "stderr",
     "output_type": "stream",
     "text": [
      "\n",
      "|                                                                                          |17/?[00:00<00:00,23.52it/s]\n"
     ]
    },
    {
     "name": "stdout",
     "output_type": "stream",
     "text": [
      "Sampling synthetic data from model \u001b[1mWGGP_OR_03\u001b[0m (43/55)\n",
      "\u001b[32m[1123 13:07:03 @DATSGANModel.py:205]\u001b[0m \u001b[91mCreating cell for age (in-edges: 0; ancestors: 0)\n",
      "\u001b[32m[1123 13:07:03 @DATSGANModel.py:205]\u001b[0m \u001b[91mCreating cell for gender (in-edges: 0; ancestors: 0)\n",
      "\u001b[32m[1123 13:07:03 @DATSGANModel.py:205]\u001b[0m \u001b[91mCreating cell for travel_dow (in-edges: 0; ancestors: 0)\n",
      "\u001b[32m[1123 13:07:03 @DATSGANModel.py:205]\u001b[0m \u001b[91mCreating cell for license (in-edges: 1; ancestors: 1)\n",
      "\u001b[32m[1123 13:07:03 @DATSGANModel.py:205]\u001b[0m \u001b[91mCreating cell for education_level (in-edges: 1; ancestors: 1)\n",
      "\u001b[32m[1123 13:07:03 @DATSGANModel.py:205]\u001b[0m \u001b[91mCreating cell for work_status (in-edges: 2; ancestors: 3)\n",
      "\u001b[32m[1123 13:07:03 @DATSGANModel.py:205]\u001b[0m \u001b[91mCreating cell for hh_income (in-edges: 2; ancestors: 4)\n",
      "\u001b[32m[1123 13:07:03 @DATSGANModel.py:205]\u001b[0m \u001b[91mCreating cell for trip_purpose (in-edges: 1; ancestors: 4)\n",
      "\u001b[32m[1123 13:07:03 @DATSGANModel.py:205]\u001b[0m \u001b[91mCreating cell for hh_descr (in-edges: 2; ancestors: 5)\n",
      "\u001b[32m[1123 13:07:03 @DATSGANModel.py:205]\u001b[0m \u001b[91mCreating cell for hh_size (in-edges: 3; ancestors: 5)\n",
      "\u001b[32m[1123 13:07:03 @DATSGANModel.py:205]\u001b[0m \u001b[91mCreating cell for departure_time (in-edges: 1; ancestors: 5)\n",
      "\u001b[32m[1123 13:07:03 @DATSGANModel.py:205]\u001b[0m \u001b[91mCreating cell for distance (in-edges: 1; ancestors: 5)\n",
      "\u001b[32m[1123 13:07:03 @DATSGANModel.py:205]\u001b[0m \u001b[91mCreating cell for hh_vehicles (in-edges: 2; ancestors: 6)\n",
      "\u001b[32m[1123 13:07:03 @DATSGANModel.py:205]\u001b[0m \u001b[91mCreating cell for hh_bikes (in-edges: 2; ancestors: 6)\n",
      "\u001b[32m[1123 13:07:04 @DATSGANModel.py:205]\u001b[0m \u001b[91mCreating cell for choice (in-edges: 7; ancestors: 13)\n",
      "\u001b[32m[1123 13:07:04 @sessinit.py:87]\u001b[0m \u001b[5m\u001b[31mWRN\u001b[0m The following variables are in the checkpoint, but not found in the graph: global_step, optimize/beta1_power, optimize/beta2_power\n",
      "INFO:tensorflow:Graph was finalized.\n",
      "INFO:tensorflow:Running local_init_op.\n",
      "INFO:tensorflow:Done running local_init_op.\n",
      "\u001b[32m[1123 13:07:05 @sessinit.py:114]\u001b[0m Restoring checkpoint from ../output/Chicago/WGGP_OR_03/model\\model-20399 ...\n",
      "INFO:tensorflow:Restoring parameters from ../output/Chicago/WGGP_OR_03/model\\model-20399\n",
      "\u001b[32m[1123 13:07:05 @DATSGAN.py:266]\u001b[0m Loading Preprocessor!\n"
     ]
    },
    {
     "name": "stderr",
     "output_type": "stream",
     "text": [
      "|                                                                                          |17/?[00:00<00:00,18.05it/s]"
     ]
    },
    {
     "name": "stdout",
     "output_type": "stream",
     "text": [
      "\u001b[32m[1123 13:07:06 @DATSGAN.py:266]\u001b[0m Loading Preprocessor!\n"
     ]
    },
    {
     "name": "stderr",
     "output_type": "stream",
     "text": [
      "\n",
      "|                                                                                          |17/?[00:00<00:00,23.67it/s]"
     ]
    },
    {
     "name": "stdout",
     "output_type": "stream",
     "text": [
      "\u001b[32m[1123 13:07:07 @DATSGAN.py:266]\u001b[0m Loading Preprocessor!\n"
     ]
    },
    {
     "name": "stderr",
     "output_type": "stream",
     "text": [
      "\n",
      "|                                                                                          |17/?[00:00<00:00,23.41it/s]"
     ]
    },
    {
     "name": "stdout",
     "output_type": "stream",
     "text": [
      "\u001b[32m[1123 13:07:08 @DATSGAN.py:266]\u001b[0m Loading Preprocessor!\n"
     ]
    },
    {
     "name": "stderr",
     "output_type": "stream",
     "text": [
      "\n",
      "|                                                                                          |17/?[00:00<00:00,23.38it/s]"
     ]
    },
    {
     "name": "stdout",
     "output_type": "stream",
     "text": [
      "\u001b[32m[1123 13:07:08 @DATSGAN.py:266]\u001b[0m Loading Preprocessor!\n"
     ]
    },
    {
     "name": "stderr",
     "output_type": "stream",
     "text": [
      "\n",
      "|                                                                                          |17/?[00:00<00:00,23.49it/s]"
     ]
    },
    {
     "name": "stdout",
     "output_type": "stream",
     "text": [
      "\u001b[32m[1123 13:07:09 @DATSGAN.py:266]\u001b[0m Loading Preprocessor!\n"
     ]
    },
    {
     "name": "stderr",
     "output_type": "stream",
     "text": [
      "\n",
      "|                                                                                          |17/?[00:00<00:00,23.44it/s]"
     ]
    },
    {
     "name": "stdout",
     "output_type": "stream",
     "text": [
      "\u001b[32m[1123 13:07:10 @DATSGAN.py:266]\u001b[0m Loading Preprocessor!\n"
     ]
    },
    {
     "name": "stderr",
     "output_type": "stream",
     "text": [
      "\n",
      "|                                                                                          |17/?[00:00<00:00,23.25it/s]"
     ]
    },
    {
     "name": "stdout",
     "output_type": "stream",
     "text": [
      "\u001b[32m[1123 13:07:11 @DATSGAN.py:266]\u001b[0m Loading Preprocessor!\n"
     ]
    },
    {
     "name": "stderr",
     "output_type": "stream",
     "text": [
      "\n",
      "|                                                                                          |17/?[00:00<00:00,23.54it/s]"
     ]
    },
    {
     "name": "stdout",
     "output_type": "stream",
     "text": [
      "\u001b[32m[1123 13:07:12 @DATSGAN.py:266]\u001b[0m Loading Preprocessor!\n"
     ]
    },
    {
     "name": "stderr",
     "output_type": "stream",
     "text": [
      "\n",
      "|                                                                                          |17/?[00:00<00:00,23.49it/s]"
     ]
    },
    {
     "name": "stdout",
     "output_type": "stream",
     "text": [
      "\u001b[32m[1123 13:07:12 @DATSGAN.py:266]\u001b[0m Loading Preprocessor!\n"
     ]
    },
    {
     "name": "stderr",
     "output_type": "stream",
     "text": [
      "\n",
      "|                                                                                          |17/?[00:00<00:00,23.72it/s]"
     ]
    },
    {
     "name": "stdout",
     "output_type": "stream",
     "text": [
      "\u001b[32m[1123 13:07:13 @DATSGAN.py:266]\u001b[0m Loading Preprocessor!\n"
     ]
    },
    {
     "name": "stderr",
     "output_type": "stream",
     "text": [
      "\n",
      "|                                                                                          |17/?[00:00<00:00,23.52it/s]"
     ]
    },
    {
     "name": "stdout",
     "output_type": "stream",
     "text": [
      "\u001b[32m[1123 13:07:14 @DATSGAN.py:266]\u001b[0m Loading Preprocessor!\n"
     ]
    },
    {
     "name": "stderr",
     "output_type": "stream",
     "text": [
      "\n",
      "|                                                                                          |17/?[00:00<00:00,23.31it/s]"
     ]
    },
    {
     "name": "stdout",
     "output_type": "stream",
     "text": [
      "\u001b[32m[1123 13:07:15 @DATSGAN.py:266]\u001b[0m Loading Preprocessor!\n"
     ]
    },
    {
     "name": "stderr",
     "output_type": "stream",
     "text": [
      "\n",
      "|                                                                                          |17/?[00:00<00:00,23.41it/s]"
     ]
    },
    {
     "name": "stdout",
     "output_type": "stream",
     "text": [
      "\u001b[32m[1123 13:07:15 @DATSGAN.py:266]\u001b[0m Loading Preprocessor!\n"
     ]
    },
    {
     "name": "stderr",
     "output_type": "stream",
     "text": [
      "\n",
      "|                                                                                          |17/?[00:00<00:00,23.52it/s]"
     ]
    },
    {
     "name": "stdout",
     "output_type": "stream",
     "text": [
      "\u001b[32m[1123 13:07:16 @DATSGAN.py:266]\u001b[0m Loading Preprocessor!\n"
     ]
    },
    {
     "name": "stderr",
     "output_type": "stream",
     "text": [
      "\n",
      "|                                                                                          |17/?[00:00<00:00,23.72it/s]\n"
     ]
    },
    {
     "name": "stdout",
     "output_type": "stream",
     "text": [
      "Sampling synthetic data from model \u001b[1mWGGP_OR_04\u001b[0m (44/55)\n",
      "\u001b[32m[1123 13:07:22 @DATSGANModel.py:205]\u001b[0m \u001b[91mCreating cell for age (in-edges: 0; ancestors: 0)\n",
      "\u001b[32m[1123 13:07:22 @DATSGANModel.py:205]\u001b[0m \u001b[91mCreating cell for gender (in-edges: 0; ancestors: 0)\n",
      "\u001b[32m[1123 13:07:22 @DATSGANModel.py:205]\u001b[0m \u001b[91mCreating cell for travel_dow (in-edges: 0; ancestors: 0)\n",
      "\u001b[32m[1123 13:07:22 @DATSGANModel.py:205]\u001b[0m \u001b[91mCreating cell for license (in-edges: 1; ancestors: 1)\n",
      "\u001b[32m[1123 13:07:23 @DATSGANModel.py:205]\u001b[0m \u001b[91mCreating cell for education_level (in-edges: 1; ancestors: 1)\n",
      "\u001b[32m[1123 13:07:23 @DATSGANModel.py:205]\u001b[0m \u001b[91mCreating cell for work_status (in-edges: 2; ancestors: 3)\n",
      "\u001b[32m[1123 13:07:23 @DATSGANModel.py:205]\u001b[0m \u001b[91mCreating cell for hh_income (in-edges: 2; ancestors: 4)\n",
      "\u001b[32m[1123 13:07:23 @DATSGANModel.py:205]\u001b[0m \u001b[91mCreating cell for trip_purpose (in-edges: 1; ancestors: 4)\n",
      "\u001b[32m[1123 13:07:23 @DATSGANModel.py:205]\u001b[0m \u001b[91mCreating cell for hh_descr (in-edges: 2; ancestors: 5)\n",
      "\u001b[32m[1123 13:07:23 @DATSGANModel.py:205]\u001b[0m \u001b[91mCreating cell for hh_size (in-edges: 3; ancestors: 5)\n",
      "\u001b[32m[1123 13:07:23 @DATSGANModel.py:205]\u001b[0m \u001b[91mCreating cell for departure_time (in-edges: 1; ancestors: 5)\n",
      "\u001b[32m[1123 13:07:23 @DATSGANModel.py:205]\u001b[0m \u001b[91mCreating cell for distance (in-edges: 1; ancestors: 5)\n",
      "\u001b[32m[1123 13:07:23 @DATSGANModel.py:205]\u001b[0m \u001b[91mCreating cell for hh_vehicles (in-edges: 2; ancestors: 6)\n",
      "\u001b[32m[1123 13:07:23 @DATSGANModel.py:205]\u001b[0m \u001b[91mCreating cell for hh_bikes (in-edges: 2; ancestors: 6)\n",
      "\u001b[32m[1123 13:07:23 @DATSGANModel.py:205]\u001b[0m \u001b[91mCreating cell for choice (in-edges: 7; ancestors: 13)\n",
      "\u001b[32m[1123 13:07:24 @sessinit.py:87]\u001b[0m \u001b[5m\u001b[31mWRN\u001b[0m The following variables are in the checkpoint, but not found in the graph: global_step, optimize/beta1_power, optimize/beta2_power\n",
      "INFO:tensorflow:Graph was finalized.\n",
      "INFO:tensorflow:Running local_init_op.\n",
      "INFO:tensorflow:Done running local_init_op.\n",
      "\u001b[32m[1123 13:07:25 @sessinit.py:114]\u001b[0m Restoring checkpoint from ../output/Chicago/WGGP_OR_04/model\\model-20399 ...\n",
      "INFO:tensorflow:Restoring parameters from ../output/Chicago/WGGP_OR_04/model\\model-20399\n",
      "\u001b[32m[1123 13:07:25 @DATSGAN.py:266]\u001b[0m Loading Preprocessor!\n"
     ]
    },
    {
     "name": "stderr",
     "output_type": "stream",
     "text": [
      "|                                                                                          |17/?[00:00<00:00,17.85it/s]"
     ]
    },
    {
     "name": "stdout",
     "output_type": "stream",
     "text": [
      "\u001b[32m[1123 13:07:26 @DATSGAN.py:266]\u001b[0m Loading Preprocessor!\n"
     ]
    },
    {
     "name": "stderr",
     "output_type": "stream",
     "text": [
      "\n",
      "|                                                                                          |17/?[00:00<00:00,23.41it/s]"
     ]
    },
    {
     "name": "stdout",
     "output_type": "stream",
     "text": [
      "\u001b[32m[1123 13:07:27 @DATSGAN.py:266]\u001b[0m Loading Preprocessor!\n"
     ]
    },
    {
     "name": "stderr",
     "output_type": "stream",
     "text": [
      "\n",
      "|                                                                                          |17/?[00:00<00:00,23.33it/s]"
     ]
    },
    {
     "name": "stdout",
     "output_type": "stream",
     "text": [
      "\u001b[32m[1123 13:07:27 @DATSGAN.py:266]\u001b[0m Loading Preprocessor!\n"
     ]
    },
    {
     "name": "stderr",
     "output_type": "stream",
     "text": [
      "\n",
      "|                                                                                          |17/?[00:00<00:00,23.74it/s]"
     ]
    },
    {
     "name": "stdout",
     "output_type": "stream",
     "text": [
      "\u001b[32m[1123 13:07:28 @DATSGAN.py:266]\u001b[0m Loading Preprocessor!\n"
     ]
    },
    {
     "name": "stderr",
     "output_type": "stream",
     "text": [
      "\n",
      "|                                                                                          |17/?[00:00<00:00,23.41it/s]"
     ]
    },
    {
     "name": "stdout",
     "output_type": "stream",
     "text": [
      "\u001b[32m[1123 13:07:29 @DATSGAN.py:266]\u001b[0m Loading Preprocessor!\n"
     ]
    },
    {
     "name": "stderr",
     "output_type": "stream",
     "text": [
      "\n",
      "|                                                                                          |17/?[00:00<00:00,23.56it/s]"
     ]
    },
    {
     "name": "stdout",
     "output_type": "stream",
     "text": [
      "\u001b[32m[1123 13:07:30 @DATSGAN.py:266]\u001b[0m Loading Preprocessor!\n"
     ]
    },
    {
     "name": "stderr",
     "output_type": "stream",
     "text": [
      "\n",
      "|                                                                                          |17/?[00:00<00:00,23.06it/s]"
     ]
    },
    {
     "name": "stdout",
     "output_type": "stream",
     "text": [
      "\u001b[32m[1123 13:07:31 @DATSGAN.py:266]\u001b[0m Loading Preprocessor!\n"
     ]
    },
    {
     "name": "stderr",
     "output_type": "stream",
     "text": [
      "\n",
      "|                                                                                          |17/?[00:00<00:00,23.55it/s]"
     ]
    },
    {
     "name": "stdout",
     "output_type": "stream",
     "text": [
      "\u001b[32m[1123 13:07:31 @DATSGAN.py:266]\u001b[0m Loading Preprocessor!\n"
     ]
    },
    {
     "name": "stderr",
     "output_type": "stream",
     "text": [
      "\n",
      "|                                                                                          |17/?[00:00<00:00,23.33it/s]"
     ]
    },
    {
     "name": "stdout",
     "output_type": "stream",
     "text": [
      "\u001b[32m[1123 13:07:32 @DATSGAN.py:266]\u001b[0m Loading Preprocessor!\n"
     ]
    },
    {
     "name": "stderr",
     "output_type": "stream",
     "text": [
      "\n",
      "|                                                                                          |17/?[00:00<00:00,23.10it/s]"
     ]
    },
    {
     "name": "stdout",
     "output_type": "stream",
     "text": [
      "\u001b[32m[1123 13:07:33 @DATSGAN.py:266]\u001b[0m Loading Preprocessor!\n"
     ]
    },
    {
     "name": "stderr",
     "output_type": "stream",
     "text": [
      "\n",
      "|                                                                                          |17/?[00:00<00:00,23.25it/s]"
     ]
    },
    {
     "name": "stdout",
     "output_type": "stream",
     "text": [
      "\u001b[32m[1123 13:07:34 @DATSGAN.py:266]\u001b[0m Loading Preprocessor!\n"
     ]
    },
    {
     "name": "stderr",
     "output_type": "stream",
     "text": [
      "\n",
      "|                                                                                          |17/?[00:00<00:00,22.74it/s]"
     ]
    },
    {
     "name": "stdout",
     "output_type": "stream",
     "text": [
      "\u001b[32m[1123 13:07:35 @DATSGAN.py:266]\u001b[0m Loading Preprocessor!\n"
     ]
    },
    {
     "name": "stderr",
     "output_type": "stream",
     "text": [
      "\n",
      "|                                                                                          |17/?[00:00<00:00,22.93it/s]"
     ]
    },
    {
     "name": "stdout",
     "output_type": "stream",
     "text": [
      "\u001b[32m[1123 13:07:35 @DATSGAN.py:266]\u001b[0m Loading Preprocessor!\n"
     ]
    },
    {
     "name": "stderr",
     "output_type": "stream",
     "text": [
      "\n",
      "|                                                                                          |17/?[00:00<00:00,23.65it/s]"
     ]
    },
    {
     "name": "stdout",
     "output_type": "stream",
     "text": [
      "\u001b[32m[1123 13:07:36 @DATSGAN.py:266]\u001b[0m Loading Preprocessor!\n"
     ]
    },
    {
     "name": "stderr",
     "output_type": "stream",
     "text": [
      "\n",
      "|                                                                                          |17/?[00:00<00:00,23.35it/s]\n"
     ]
    },
    {
     "name": "stdout",
     "output_type": "stream",
     "text": [
      "Sampling synthetic data from model \u001b[1mWGGP_OR_05\u001b[0m (45/55)\n",
      "\u001b[32m[1123 13:07:42 @DATSGANModel.py:205]\u001b[0m \u001b[91mCreating cell for age (in-edges: 0; ancestors: 0)\n",
      "\u001b[32m[1123 13:07:42 @DATSGANModel.py:205]\u001b[0m \u001b[91mCreating cell for gender (in-edges: 0; ancestors: 0)\n",
      "\u001b[32m[1123 13:07:42 @DATSGANModel.py:205]\u001b[0m \u001b[91mCreating cell for travel_dow (in-edges: 0; ancestors: 0)\n",
      "\u001b[32m[1123 13:07:42 @DATSGANModel.py:205]\u001b[0m \u001b[91mCreating cell for license (in-edges: 1; ancestors: 1)\n",
      "\u001b[32m[1123 13:07:42 @DATSGANModel.py:205]\u001b[0m \u001b[91mCreating cell for education_level (in-edges: 1; ancestors: 1)\n",
      "\u001b[32m[1123 13:07:43 @DATSGANModel.py:205]\u001b[0m \u001b[91mCreating cell for work_status (in-edges: 2; ancestors: 3)\n",
      "\u001b[32m[1123 13:07:43 @DATSGANModel.py:205]\u001b[0m \u001b[91mCreating cell for hh_income (in-edges: 2; ancestors: 4)\n",
      "\u001b[32m[1123 13:07:43 @DATSGANModel.py:205]\u001b[0m \u001b[91mCreating cell for trip_purpose (in-edges: 1; ancestors: 4)\n",
      "\u001b[32m[1123 13:07:43 @DATSGANModel.py:205]\u001b[0m \u001b[91mCreating cell for hh_descr (in-edges: 2; ancestors: 5)\n",
      "\u001b[32m[1123 13:07:43 @DATSGANModel.py:205]\u001b[0m \u001b[91mCreating cell for hh_size (in-edges: 3; ancestors: 5)\n",
      "\u001b[32m[1123 13:07:43 @DATSGANModel.py:205]\u001b[0m \u001b[91mCreating cell for departure_time (in-edges: 1; ancestors: 5)\n",
      "\u001b[32m[1123 13:07:43 @DATSGANModel.py:205]\u001b[0m \u001b[91mCreating cell for distance (in-edges: 1; ancestors: 5)\n",
      "\u001b[32m[1123 13:07:43 @DATSGANModel.py:205]\u001b[0m \u001b[91mCreating cell for hh_vehicles (in-edges: 2; ancestors: 6)\n",
      "\u001b[32m[1123 13:07:43 @DATSGANModel.py:205]\u001b[0m \u001b[91mCreating cell for hh_bikes (in-edges: 2; ancestors: 6)\n",
      "\u001b[32m[1123 13:07:43 @DATSGANModel.py:205]\u001b[0m \u001b[91mCreating cell for choice (in-edges: 7; ancestors: 13)\n",
      "\u001b[32m[1123 13:07:44 @sessinit.py:87]\u001b[0m \u001b[5m\u001b[31mWRN\u001b[0m The following variables are in the checkpoint, but not found in the graph: global_step, optimize/beta1_power, optimize/beta2_power\n",
      "INFO:tensorflow:Graph was finalized.\n",
      "INFO:tensorflow:Running local_init_op.\n",
      "INFO:tensorflow:Done running local_init_op.\n",
      "\u001b[32m[1123 13:07:45 @sessinit.py:114]\u001b[0m Restoring checkpoint from ../output/Chicago/WGGP_OR_05/model\\model-20399 ...\n",
      "INFO:tensorflow:Restoring parameters from ../output/Chicago/WGGP_OR_05/model\\model-20399\n",
      "\u001b[32m[1123 13:07:45 @DATSGAN.py:266]\u001b[0m Loading Preprocessor!\n"
     ]
    },
    {
     "name": "stderr",
     "output_type": "stream",
     "text": [
      "|                                                                                          |17/?[00:00<00:00,17.75it/s]\n"
     ]
    },
    {
     "name": "stdout",
     "output_type": "stream",
     "text": [
      "\u001b[32m[1123 13:07:46 @DATSGAN.py:266]\u001b[0m Loading Preprocessor!\n"
     ]
    },
    {
     "name": "stderr",
     "output_type": "stream",
     "text": [
      "|                                                                                          |17/?[00:00<00:00,23.39it/s]\n"
     ]
    },
    {
     "name": "stdout",
     "output_type": "stream",
     "text": [
      "\u001b[32m[1123 13:07:47 @DATSGAN.py:266]\u001b[0m Loading Preprocessor!\n"
     ]
    },
    {
     "name": "stderr",
     "output_type": "stream",
     "text": [
      "|                                                                                          |17/?[00:00<00:00,23.67it/s]"
     ]
    },
    {
     "name": "stdout",
     "output_type": "stream",
     "text": [
      "\u001b[32m[1123 13:07:48 @DATSGAN.py:266]\u001b[0m Loading Preprocessor!\n"
     ]
    },
    {
     "name": "stderr",
     "output_type": "stream",
     "text": [
      "\n",
      "|                                                                                          |17/?[00:00<00:00,23.46it/s]\n"
     ]
    },
    {
     "name": "stdout",
     "output_type": "stream",
     "text": [
      "\u001b[32m[1123 13:07:49 @DATSGAN.py:266]\u001b[0m Loading Preprocessor!\n"
     ]
    },
    {
     "name": "stderr",
     "output_type": "stream",
     "text": [
      "|                                                                                          |17/?[00:00<00:00,23.32it/s]"
     ]
    },
    {
     "name": "stdout",
     "output_type": "stream",
     "text": [
      "\u001b[32m[1123 13:07:49 @DATSGAN.py:266]\u001b[0m Loading Preprocessor!\n"
     ]
    },
    {
     "name": "stderr",
     "output_type": "stream",
     "text": [
      "\n",
      "|                                                                                          |17/?[00:00<00:00,23.62it/s]"
     ]
    },
    {
     "name": "stdout",
     "output_type": "stream",
     "text": [
      "\u001b[32m[1123 13:07:50 @DATSGAN.py:266]\u001b[0m Loading Preprocessor!\n"
     ]
    },
    {
     "name": "stderr",
     "output_type": "stream",
     "text": [
      "\n",
      "|                                                                                          |17/?[00:00<00:00,23.49it/s]\n"
     ]
    },
    {
     "name": "stdout",
     "output_type": "stream",
     "text": [
      "\u001b[32m[1123 13:07:51 @DATSGAN.py:266]\u001b[0m Loading Preprocessor!\n"
     ]
    },
    {
     "name": "stderr",
     "output_type": "stream",
     "text": [
      "|                                                                                          |17/?[00:00<00:00,23.48it/s]"
     ]
    },
    {
     "name": "stdout",
     "output_type": "stream",
     "text": [
      "\u001b[32m[1123 13:07:52 @DATSGAN.py:266]\u001b[0m Loading Preprocessor!\n"
     ]
    },
    {
     "name": "stderr",
     "output_type": "stream",
     "text": [
      "\n",
      "|                                                                                          |17/?[00:00<00:00,23.54it/s]"
     ]
    },
    {
     "name": "stdout",
     "output_type": "stream",
     "text": [
      "\u001b[32m[1123 13:07:53 @DATSGAN.py:266]\u001b[0m Loading Preprocessor!\n"
     ]
    },
    {
     "name": "stderr",
     "output_type": "stream",
     "text": [
      "\n",
      "|                                                                                          |17/?[00:00<00:00,23.30it/s]\n"
     ]
    },
    {
     "name": "stdout",
     "output_type": "stream",
     "text": [
      "\u001b[32m[1123 13:07:54 @DATSGAN.py:266]\u001b[0m Loading Preprocessor!\n"
     ]
    },
    {
     "name": "stderr",
     "output_type": "stream",
     "text": [
      "|                                                                                          |17/?[00:00<00:00,23.25it/s]\n"
     ]
    },
    {
     "name": "stdout",
     "output_type": "stream",
     "text": [
      "\u001b[32m[1123 13:07:55 @DATSGAN.py:266]\u001b[0m Loading Preprocessor!\n"
     ]
    },
    {
     "name": "stderr",
     "output_type": "stream",
     "text": [
      "|                                                                                          |17/?[00:00<00:00,23.39it/s]"
     ]
    },
    {
     "name": "stdout",
     "output_type": "stream",
     "text": [
      "\u001b[32m[1123 13:07:56 @DATSGAN.py:266]\u001b[0m Loading Preprocessor!\n"
     ]
    },
    {
     "name": "stderr",
     "output_type": "stream",
     "text": [
      "\n",
      "|                                                                                          |17/?[00:00<00:00,23.35it/s]"
     ]
    },
    {
     "name": "stdout",
     "output_type": "stream",
     "text": [
      "\u001b[32m[1123 13:07:57 @DATSGAN.py:266]\u001b[0m Loading Preprocessor!\n"
     ]
    },
    {
     "name": "stderr",
     "output_type": "stream",
     "text": [
      "\n",
      "|                                                                                          |17/?[00:00<00:00,23.57it/s]"
     ]
    },
    {
     "name": "stdout",
     "output_type": "stream",
     "text": [
      "\u001b[32m[1123 13:07:58 @DATSGAN.py:266]\u001b[0m Loading Preprocessor!\n"
     ]
    },
    {
     "name": "stderr",
     "output_type": "stream",
     "text": [
      "\n",
      "|                                                                                          |17/?[00:00<00:00,23.48it/s]\n"
     ]
    },
    {
     "name": "stdout",
     "output_type": "stream",
     "text": [
      "Sampling synthetic data from model \u001b[1mWGGP_WI_01\u001b[0m (46/55)\n",
      "\u001b[32m[1123 13:08:04 @DATSGANModel.py:205]\u001b[0m \u001b[91mCreating cell for age (in-edges: 0; ancestors: 0)\n",
      "\u001b[32m[1123 13:08:04 @DATSGANModel.py:205]\u001b[0m \u001b[91mCreating cell for gender (in-edges: 0; ancestors: 0)\n",
      "\u001b[32m[1123 13:08:04 @DATSGANModel.py:205]\u001b[0m \u001b[91mCreating cell for travel_dow (in-edges: 0; ancestors: 0)\n",
      "\u001b[32m[1123 13:08:04 @DATSGANModel.py:205]\u001b[0m \u001b[91mCreating cell for license (in-edges: 1; ancestors: 1)\n",
      "\u001b[32m[1123 13:08:04 @DATSGANModel.py:205]\u001b[0m \u001b[91mCreating cell for education_level (in-edges: 1; ancestors: 1)\n",
      "\u001b[32m[1123 13:08:04 @DATSGANModel.py:205]\u001b[0m \u001b[91mCreating cell for work_status (in-edges: 2; ancestors: 3)\n",
      "\u001b[32m[1123 13:08:04 @DATSGANModel.py:205]\u001b[0m \u001b[91mCreating cell for hh_income (in-edges: 2; ancestors: 4)\n",
      "\u001b[32m[1123 13:08:05 @DATSGANModel.py:205]\u001b[0m \u001b[91mCreating cell for trip_purpose (in-edges: 1; ancestors: 4)\n",
      "\u001b[32m[1123 13:08:05 @DATSGANModel.py:205]\u001b[0m \u001b[91mCreating cell for hh_descr (in-edges: 2; ancestors: 5)\n",
      "\u001b[32m[1123 13:08:05 @DATSGANModel.py:205]\u001b[0m \u001b[91mCreating cell for hh_size (in-edges: 3; ancestors: 5)\n",
      "\u001b[32m[1123 13:08:05 @DATSGANModel.py:205]\u001b[0m \u001b[91mCreating cell for departure_time (in-edges: 1; ancestors: 5)\n",
      "\u001b[32m[1123 13:08:05 @DATSGANModel.py:205]\u001b[0m \u001b[91mCreating cell for distance (in-edges: 1; ancestors: 5)\n",
      "\u001b[32m[1123 13:08:05 @DATSGANModel.py:205]\u001b[0m \u001b[91mCreating cell for hh_vehicles (in-edges: 2; ancestors: 6)\n",
      "\u001b[32m[1123 13:08:05 @DATSGANModel.py:205]\u001b[0m \u001b[91mCreating cell for hh_bikes (in-edges: 2; ancestors: 6)\n",
      "\u001b[32m[1123 13:08:05 @DATSGANModel.py:205]\u001b[0m \u001b[91mCreating cell for choice (in-edges: 7; ancestors: 13)\n",
      "\u001b[32m[1123 13:08:05 @sessinit.py:87]\u001b[0m \u001b[5m\u001b[31mWRN\u001b[0m The following variables are in the checkpoint, but not found in the graph: global_step, optimize/beta1_power, optimize/beta2_power\n",
      "INFO:tensorflow:Graph was finalized.\n",
      "INFO:tensorflow:Running local_init_op.\n",
      "INFO:tensorflow:Done running local_init_op.\n",
      "\u001b[32m[1123 13:08:06 @sessinit.py:114]\u001b[0m Restoring checkpoint from ../output/Chicago/WGGP_WI_01/model\\model-20399 ...\n",
      "INFO:tensorflow:Restoring parameters from ../output/Chicago/WGGP_WI_01/model\\model-20399\n",
      "\u001b[32m[1123 13:08:07 @DATSGAN.py:266]\u001b[0m Loading Preprocessor!\n"
     ]
    },
    {
     "name": "stderr",
     "output_type": "stream",
     "text": [
      "|                                                                                          |17/?[00:00<00:00,17.87it/s]"
     ]
    },
    {
     "name": "stdout",
     "output_type": "stream",
     "text": [
      "\u001b[32m[1123 13:08:08 @DATSGAN.py:266]\u001b[0m Loading Preprocessor!\n"
     ]
    },
    {
     "name": "stderr",
     "output_type": "stream",
     "text": [
      "\n",
      "|                                                                                          |17/?[00:00<00:00,23.19it/s]"
     ]
    },
    {
     "name": "stdout",
     "output_type": "stream",
     "text": [
      "\u001b[32m[1123 13:08:08 @DATSGAN.py:266]\u001b[0m Loading Preprocessor!\n"
     ]
    },
    {
     "name": "stderr",
     "output_type": "stream",
     "text": [
      "\n",
      "|                                                                                          |17/?[00:00<00:00,23.52it/s]"
     ]
    },
    {
     "name": "stdout",
     "output_type": "stream",
     "text": [
      "\u001b[32m[1123 13:08:09 @DATSGAN.py:266]\u001b[0m Loading Preprocessor!\n"
     ]
    },
    {
     "name": "stderr",
     "output_type": "stream",
     "text": [
      "\n",
      "|                                                                                          |17/?[00:00<00:00,23.28it/s]"
     ]
    },
    {
     "name": "stdout",
     "output_type": "stream",
     "text": [
      "\u001b[32m[1123 13:08:10 @DATSGAN.py:266]\u001b[0m Loading Preprocessor!\n"
     ]
    },
    {
     "name": "stderr",
     "output_type": "stream",
     "text": [
      "\n",
      "|                                                                                          |17/?[00:00<00:00,22.96it/s]"
     ]
    },
    {
     "name": "stdout",
     "output_type": "stream",
     "text": [
      "\u001b[32m[1123 13:08:11 @DATSGAN.py:266]\u001b[0m Loading Preprocessor!\n"
     ]
    },
    {
     "name": "stderr",
     "output_type": "stream",
     "text": [
      "\n",
      "|                                                                                          |17/?[00:00<00:00,23.53it/s]"
     ]
    },
    {
     "name": "stdout",
     "output_type": "stream",
     "text": [
      "\u001b[32m[1123 13:08:12 @DATSGAN.py:266]\u001b[0m Loading Preprocessor!\n"
     ]
    },
    {
     "name": "stderr",
     "output_type": "stream",
     "text": [
      "\n",
      "|                                                                                          |17/?[00:00<00:00,23.30it/s]"
     ]
    },
    {
     "name": "stdout",
     "output_type": "stream",
     "text": [
      "\u001b[32m[1123 13:08:12 @DATSGAN.py:266]\u001b[0m Loading Preprocessor!\n"
     ]
    },
    {
     "name": "stderr",
     "output_type": "stream",
     "text": [
      "\n",
      "|                                                                                          |17/?[00:00<00:00,23.66it/s]"
     ]
    },
    {
     "name": "stdout",
     "output_type": "stream",
     "text": [
      "\u001b[32m[1123 13:08:13 @DATSGAN.py:266]\u001b[0m Loading Preprocessor!\n"
     ]
    },
    {
     "name": "stderr",
     "output_type": "stream",
     "text": [
      "\n",
      "|                                                                                          |17/?[00:00<00:00,23.66it/s]"
     ]
    },
    {
     "name": "stdout",
     "output_type": "stream",
     "text": [
      "\u001b[32m[1123 13:08:14 @DATSGAN.py:266]\u001b[0m Loading Preprocessor!\n"
     ]
    },
    {
     "name": "stderr",
     "output_type": "stream",
     "text": [
      "\n",
      "|                                                                                          |17/?[00:00<00:00,23.44it/s]"
     ]
    },
    {
     "name": "stdout",
     "output_type": "stream",
     "text": [
      "\u001b[32m[1123 13:08:15 @DATSGAN.py:266]\u001b[0m Loading Preprocessor!\n"
     ]
    },
    {
     "name": "stderr",
     "output_type": "stream",
     "text": [
      "\n",
      "|                                                                                          |17/?[00:00<00:00,22.97it/s]"
     ]
    },
    {
     "name": "stdout",
     "output_type": "stream",
     "text": [
      "\u001b[32m[1123 13:08:15 @DATSGAN.py:266]\u001b[0m Loading Preprocessor!\n"
     ]
    },
    {
     "name": "stderr",
     "output_type": "stream",
     "text": [
      "\n",
      "|                                                                                          |17/?[00:00<00:00,23.05it/s]"
     ]
    },
    {
     "name": "stdout",
     "output_type": "stream",
     "text": [
      "\u001b[32m[1123 13:08:16 @DATSGAN.py:266]\u001b[0m Loading Preprocessor!\n"
     ]
    },
    {
     "name": "stderr",
     "output_type": "stream",
     "text": [
      "\n",
      "|                                                                                          |17/?[00:00<00:00,23.63it/s]"
     ]
    },
    {
     "name": "stdout",
     "output_type": "stream",
     "text": [
      "\u001b[32m[1123 13:08:17 @DATSGAN.py:266]\u001b[0m Loading Preprocessor!\n"
     ]
    },
    {
     "name": "stderr",
     "output_type": "stream",
     "text": [
      "\n",
      "|                                                                                          |17/?[00:00<00:00,23.54it/s]"
     ]
    },
    {
     "name": "stdout",
     "output_type": "stream",
     "text": [
      "\u001b[32m[1123 13:08:18 @DATSGAN.py:266]\u001b[0m Loading Preprocessor!\n"
     ]
    },
    {
     "name": "stderr",
     "output_type": "stream",
     "text": [
      "\n",
      "|                                                                                          |17/?[00:00<00:00,23.52it/s]\n"
     ]
    },
    {
     "name": "stdout",
     "output_type": "stream",
     "text": [
      "Sampling synthetic data from model \u001b[1mWGGP_WI_02\u001b[0m (47/55)\n",
      "\u001b[32m[1123 13:08:24 @DATSGANModel.py:205]\u001b[0m \u001b[91mCreating cell for age (in-edges: 0; ancestors: 0)\n",
      "\u001b[32m[1123 13:08:24 @DATSGANModel.py:205]\u001b[0m \u001b[91mCreating cell for gender (in-edges: 0; ancestors: 0)\n",
      "\u001b[32m[1123 13:08:24 @DATSGANModel.py:205]\u001b[0m \u001b[91mCreating cell for travel_dow (in-edges: 0; ancestors: 0)\n",
      "\u001b[32m[1123 13:08:24 @DATSGANModel.py:205]\u001b[0m \u001b[91mCreating cell for license (in-edges: 1; ancestors: 1)\n",
      "\u001b[32m[1123 13:08:24 @DATSGANModel.py:205]\u001b[0m \u001b[91mCreating cell for education_level (in-edges: 1; ancestors: 1)\n",
      "\u001b[32m[1123 13:08:24 @DATSGANModel.py:205]\u001b[0m \u001b[91mCreating cell for work_status (in-edges: 2; ancestors: 3)\n",
      "\u001b[32m[1123 13:08:24 @DATSGANModel.py:205]\u001b[0m \u001b[91mCreating cell for hh_income (in-edges: 2; ancestors: 4)\n",
      "\u001b[32m[1123 13:08:24 @DATSGANModel.py:205]\u001b[0m \u001b[91mCreating cell for trip_purpose (in-edges: 1; ancestors: 4)\n",
      "\u001b[32m[1123 13:08:24 @DATSGANModel.py:205]\u001b[0m \u001b[91mCreating cell for hh_descr (in-edges: 2; ancestors: 5)\n",
      "\u001b[32m[1123 13:08:24 @DATSGANModel.py:205]\u001b[0m \u001b[91mCreating cell for hh_size (in-edges: 3; ancestors: 5)\n",
      "\u001b[32m[1123 13:08:25 @DATSGANModel.py:205]\u001b[0m \u001b[91mCreating cell for departure_time (in-edges: 1; ancestors: 5)\n",
      "\u001b[32m[1123 13:08:25 @DATSGANModel.py:205]\u001b[0m \u001b[91mCreating cell for distance (in-edges: 1; ancestors: 5)\n",
      "\u001b[32m[1123 13:08:25 @DATSGANModel.py:205]\u001b[0m \u001b[91mCreating cell for hh_vehicles (in-edges: 2; ancestors: 6)\n",
      "\u001b[32m[1123 13:08:25 @DATSGANModel.py:205]\u001b[0m \u001b[91mCreating cell for hh_bikes (in-edges: 2; ancestors: 6)\n",
      "\u001b[32m[1123 13:08:25 @DATSGANModel.py:205]\u001b[0m \u001b[91mCreating cell for choice (in-edges: 7; ancestors: 13)\n",
      "\u001b[32m[1123 13:08:25 @sessinit.py:87]\u001b[0m \u001b[5m\u001b[31mWRN\u001b[0m The following variables are in the checkpoint, but not found in the graph: global_step, optimize/beta1_power, optimize/beta2_power\n",
      "INFO:tensorflow:Graph was finalized.\n",
      "INFO:tensorflow:Running local_init_op.\n",
      "INFO:tensorflow:Done running local_init_op.\n",
      "\u001b[32m[1123 13:08:26 @sessinit.py:114]\u001b[0m Restoring checkpoint from ../output/Chicago/WGGP_WI_02/model\\model-20399 ...\n",
      "INFO:tensorflow:Restoring parameters from ../output/Chicago/WGGP_WI_02/model\\model-20399\n",
      "\u001b[32m[1123 13:08:26 @DATSGAN.py:266]\u001b[0m Loading Preprocessor!\n"
     ]
    },
    {
     "name": "stderr",
     "output_type": "stream",
     "text": [
      "|                                                                                          |17/?[00:00<00:00,17.78it/s]"
     ]
    },
    {
     "name": "stdout",
     "output_type": "stream",
     "text": [
      "\u001b[32m[1123 13:08:27 @DATSGAN.py:266]\u001b[0m Loading Preprocessor!\n"
     ]
    },
    {
     "name": "stderr",
     "output_type": "stream",
     "text": [
      "\n",
      "|                                                                                          |17/?[00:00<00:00,23.25it/s]"
     ]
    },
    {
     "name": "stdout",
     "output_type": "stream",
     "text": [
      "\u001b[32m[1123 13:08:28 @DATSGAN.py:266]\u001b[0m Loading Preprocessor!\n"
     ]
    },
    {
     "name": "stderr",
     "output_type": "stream",
     "text": [
      "\n",
      "|                                                                                          |17/?[00:00<00:00,23.56it/s]"
     ]
    },
    {
     "name": "stdout",
     "output_type": "stream",
     "text": [
      "\u001b[32m[1123 13:08:29 @DATSGAN.py:266]\u001b[0m Loading Preprocessor!\n"
     ]
    },
    {
     "name": "stderr",
     "output_type": "stream",
     "text": [
      "\n",
      "|                                                                                          |17/?[00:00<00:00,23.80it/s]"
     ]
    },
    {
     "name": "stdout",
     "output_type": "stream",
     "text": [
      "\u001b[32m[1123 13:08:30 @DATSGAN.py:266]\u001b[0m Loading Preprocessor!\n"
     ]
    },
    {
     "name": "stderr",
     "output_type": "stream",
     "text": [
      "\n",
      "|                                                                                          |17/?[00:00<00:00,23.21it/s]"
     ]
    },
    {
     "name": "stdout",
     "output_type": "stream",
     "text": [
      "\u001b[32m[1123 13:08:31 @DATSGAN.py:266]\u001b[0m Loading Preprocessor!\n"
     ]
    },
    {
     "name": "stderr",
     "output_type": "stream",
     "text": [
      "\n",
      "|                                                                                          |17/?[00:00<00:00,23.06it/s]"
     ]
    },
    {
     "name": "stdout",
     "output_type": "stream",
     "text": [
      "\u001b[32m[1123 13:08:31 @DATSGAN.py:266]\u001b[0m Loading Preprocessor!\n"
     ]
    },
    {
     "name": "stderr",
     "output_type": "stream",
     "text": [
      "\n",
      "|                                                                                          |17/?[00:00<00:00,23.36it/s]"
     ]
    },
    {
     "name": "stdout",
     "output_type": "stream",
     "text": [
      "\u001b[32m[1123 13:08:32 @DATSGAN.py:266]\u001b[0m Loading Preprocessor!\n"
     ]
    },
    {
     "name": "stderr",
     "output_type": "stream",
     "text": [
      "\n",
      "|                                                                                          |17/?[00:00<00:00,23.83it/s]"
     ]
    },
    {
     "name": "stdout",
     "output_type": "stream",
     "text": [
      "\u001b[32m[1123 13:08:33 @DATSGAN.py:266]\u001b[0m Loading Preprocessor!\n"
     ]
    },
    {
     "name": "stderr",
     "output_type": "stream",
     "text": [
      "\n",
      "|                                                                                          |17/?[00:00<00:00,23.62it/s]"
     ]
    },
    {
     "name": "stdout",
     "output_type": "stream",
     "text": [
      "\u001b[32m[1123 13:08:34 @DATSGAN.py:266]\u001b[0m Loading Preprocessor!\n"
     ]
    },
    {
     "name": "stderr",
     "output_type": "stream",
     "text": [
      "\n",
      "|                                                                                          |17/?[00:00<00:00,23.69it/s]"
     ]
    },
    {
     "name": "stdout",
     "output_type": "stream",
     "text": [
      "\u001b[32m[1123 13:08:35 @DATSGAN.py:266]\u001b[0m Loading Preprocessor!\n"
     ]
    },
    {
     "name": "stderr",
     "output_type": "stream",
     "text": [
      "\n",
      "|                                                                                          |17/?[00:00<00:00,23.75it/s]"
     ]
    },
    {
     "name": "stdout",
     "output_type": "stream",
     "text": [
      "\u001b[32m[1123 13:08:35 @DATSGAN.py:266]\u001b[0m Loading Preprocessor!\n"
     ]
    },
    {
     "name": "stderr",
     "output_type": "stream",
     "text": [
      "\n",
      "|                                                                                          |17/?[00:00<00:00,23.43it/s]"
     ]
    },
    {
     "name": "stdout",
     "output_type": "stream",
     "text": [
      "\u001b[32m[1123 13:08:36 @DATSGAN.py:266]\u001b[0m Loading Preprocessor!\n"
     ]
    },
    {
     "name": "stderr",
     "output_type": "stream",
     "text": [
      "\n",
      "|                                                                                          |17/?[00:00<00:00,23.83it/s]"
     ]
    },
    {
     "name": "stdout",
     "output_type": "stream",
     "text": [
      "\u001b[32m[1123 13:08:37 @DATSGAN.py:266]\u001b[0m Loading Preprocessor!\n"
     ]
    },
    {
     "name": "stderr",
     "output_type": "stream",
     "text": [
      "\n",
      "|                                                                                          |17/?[00:00<00:00,23.28it/s]"
     ]
    },
    {
     "name": "stdout",
     "output_type": "stream",
     "text": [
      "\u001b[32m[1123 13:08:38 @DATSGAN.py:266]\u001b[0m Loading Preprocessor!\n"
     ]
    },
    {
     "name": "stderr",
     "output_type": "stream",
     "text": [
      "\n",
      "|                                                                                          |17/?[00:00<00:00,23.64it/s]\n"
     ]
    },
    {
     "name": "stdout",
     "output_type": "stream",
     "text": [
      "Sampling synthetic data from model \u001b[1mWGGP_WI_03\u001b[0m (48/55)\n",
      "\u001b[32m[1123 13:08:44 @DATSGANModel.py:205]\u001b[0m \u001b[91mCreating cell for age (in-edges: 0; ancestors: 0)\n",
      "\u001b[32m[1123 13:08:44 @DATSGANModel.py:205]\u001b[0m \u001b[91mCreating cell for gender (in-edges: 0; ancestors: 0)\n",
      "\u001b[32m[1123 13:08:44 @DATSGANModel.py:205]\u001b[0m \u001b[91mCreating cell for travel_dow (in-edges: 0; ancestors: 0)\n",
      "\u001b[32m[1123 13:08:44 @DATSGANModel.py:205]\u001b[0m \u001b[91mCreating cell for license (in-edges: 1; ancestors: 1)\n",
      "\u001b[32m[1123 13:08:44 @DATSGANModel.py:205]\u001b[0m \u001b[91mCreating cell for education_level (in-edges: 1; ancestors: 1)\n",
      "\u001b[32m[1123 13:08:44 @DATSGANModel.py:205]\u001b[0m \u001b[91mCreating cell for work_status (in-edges: 2; ancestors: 3)\n",
      "\u001b[32m[1123 13:08:44 @DATSGANModel.py:205]\u001b[0m \u001b[91mCreating cell for hh_income (in-edges: 2; ancestors: 4)\n",
      "\u001b[32m[1123 13:08:44 @DATSGANModel.py:205]\u001b[0m \u001b[91mCreating cell for trip_purpose (in-edges: 1; ancestors: 4)\n",
      "\u001b[32m[1123 13:08:44 @DATSGANModel.py:205]\u001b[0m \u001b[91mCreating cell for hh_descr (in-edges: 2; ancestors: 5)\n",
      "\u001b[32m[1123 13:08:44 @DATSGANModel.py:205]\u001b[0m \u001b[91mCreating cell for hh_size (in-edges: 3; ancestors: 5)\n",
      "\u001b[32m[1123 13:08:44 @DATSGANModel.py:205]\u001b[0m \u001b[91mCreating cell for departure_time (in-edges: 1; ancestors: 5)\n",
      "\u001b[32m[1123 13:08:44 @DATSGANModel.py:205]\u001b[0m \u001b[91mCreating cell for distance (in-edges: 1; ancestors: 5)\n",
      "\u001b[32m[1123 13:08:45 @DATSGANModel.py:205]\u001b[0m \u001b[91mCreating cell for hh_vehicles (in-edges: 2; ancestors: 6)\n",
      "\u001b[32m[1123 13:08:45 @DATSGANModel.py:205]\u001b[0m \u001b[91mCreating cell for hh_bikes (in-edges: 2; ancestors: 6)\n",
      "\u001b[32m[1123 13:08:45 @DATSGANModel.py:205]\u001b[0m \u001b[91mCreating cell for choice (in-edges: 7; ancestors: 13)\n",
      "\u001b[32m[1123 13:08:45 @sessinit.py:87]\u001b[0m \u001b[5m\u001b[31mWRN\u001b[0m The following variables are in the checkpoint, but not found in the graph: global_step, optimize/beta1_power, optimize/beta2_power\n",
      "INFO:tensorflow:Graph was finalized.\n",
      "INFO:tensorflow:Running local_init_op.\n",
      "INFO:tensorflow:Done running local_init_op.\n",
      "\u001b[32m[1123 13:08:46 @sessinit.py:114]\u001b[0m Restoring checkpoint from ../output/Chicago/WGGP_WI_03/model\\model-20399 ...\n",
      "INFO:tensorflow:Restoring parameters from ../output/Chicago/WGGP_WI_03/model\\model-20399\n",
      "\u001b[32m[1123 13:08:46 @DATSGAN.py:266]\u001b[0m Loading Preprocessor!\n"
     ]
    },
    {
     "name": "stderr",
     "output_type": "stream",
     "text": [
      "|                                                                                          |17/?[00:00<00:00,18.15it/s]"
     ]
    },
    {
     "name": "stdout",
     "output_type": "stream",
     "text": [
      "\u001b[32m[1123 13:08:47 @DATSGAN.py:266]\u001b[0m Loading Preprocessor!\n"
     ]
    },
    {
     "name": "stderr",
     "output_type": "stream",
     "text": [
      "\n",
      "|                                                                                          |17/?[00:00<00:00,23.61it/s]"
     ]
    },
    {
     "name": "stdout",
     "output_type": "stream",
     "text": [
      "\u001b[32m[1123 13:08:48 @DATSGAN.py:266]\u001b[0m Loading Preprocessor!\n"
     ]
    },
    {
     "name": "stderr",
     "output_type": "stream",
     "text": [
      "\n",
      "|                                                                                          |17/?[00:00<00:00,22.97it/s]"
     ]
    },
    {
     "name": "stdout",
     "output_type": "stream",
     "text": [
      "\u001b[32m[1123 13:08:49 @DATSGAN.py:266]\u001b[0m Loading Preprocessor!\n"
     ]
    },
    {
     "name": "stderr",
     "output_type": "stream",
     "text": [
      "\n",
      "|                                                                                          |17/?[00:00<00:00,23.82it/s]"
     ]
    },
    {
     "name": "stdout",
     "output_type": "stream",
     "text": [
      "\u001b[32m[1123 13:08:50 @DATSGAN.py:266]\u001b[0m Loading Preprocessor!\n"
     ]
    },
    {
     "name": "stderr",
     "output_type": "stream",
     "text": [
      "\n",
      "|                                                                                          |17/?[00:00<00:00,23.51it/s]"
     ]
    },
    {
     "name": "stdout",
     "output_type": "stream",
     "text": [
      "\u001b[32m[1123 13:08:50 @DATSGAN.py:266]\u001b[0m Loading Preprocessor!\n"
     ]
    },
    {
     "name": "stderr",
     "output_type": "stream",
     "text": [
      "\n",
      "|                                                                                          |17/?[00:00<00:00,23.21it/s]"
     ]
    },
    {
     "name": "stdout",
     "output_type": "stream",
     "text": [
      "\u001b[32m[1123 13:08:51 @DATSGAN.py:266]\u001b[0m Loading Preprocessor!\n"
     ]
    },
    {
     "name": "stderr",
     "output_type": "stream",
     "text": [
      "\n",
      "|                                                                                          |17/?[00:00<00:00,23.57it/s]"
     ]
    },
    {
     "name": "stdout",
     "output_type": "stream",
     "text": [
      "\u001b[32m[1123 13:08:52 @DATSGAN.py:266]\u001b[0m Loading Preprocessor!\n"
     ]
    },
    {
     "name": "stderr",
     "output_type": "stream",
     "text": [
      "\n",
      "|                                                                                          |17/?[00:00<00:00,23.85it/s]"
     ]
    },
    {
     "name": "stdout",
     "output_type": "stream",
     "text": [
      "\u001b[32m[1123 13:08:53 @DATSGAN.py:266]\u001b[0m Loading Preprocessor!\n"
     ]
    },
    {
     "name": "stderr",
     "output_type": "stream",
     "text": [
      "\n",
      "|                                                                                          |17/?[00:00<00:00,23.70it/s]"
     ]
    },
    {
     "name": "stdout",
     "output_type": "stream",
     "text": [
      "\u001b[32m[1123 13:08:53 @DATSGAN.py:266]\u001b[0m Loading Preprocessor!\n"
     ]
    },
    {
     "name": "stderr",
     "output_type": "stream",
     "text": [
      "\n",
      "|                                                                                          |17/?[00:00<00:00,23.48it/s]"
     ]
    },
    {
     "name": "stdout",
     "output_type": "stream",
     "text": [
      "\u001b[32m[1123 13:08:54 @DATSGAN.py:266]\u001b[0m Loading Preprocessor!\n"
     ]
    },
    {
     "name": "stderr",
     "output_type": "stream",
     "text": [
      "\n",
      "|                                                                                          |17/?[00:00<00:00,23.33it/s]"
     ]
    },
    {
     "name": "stdout",
     "output_type": "stream",
     "text": [
      "\u001b[32m[1123 13:08:55 @DATSGAN.py:266]\u001b[0m Loading Preprocessor!\n"
     ]
    },
    {
     "name": "stderr",
     "output_type": "stream",
     "text": [
      "\n",
      "|                                                                                          |17/?[00:00<00:00,23.49it/s]"
     ]
    },
    {
     "name": "stdout",
     "output_type": "stream",
     "text": [
      "\u001b[32m[1123 13:08:56 @DATSGAN.py:266]\u001b[0m Loading Preprocessor!\n"
     ]
    },
    {
     "name": "stderr",
     "output_type": "stream",
     "text": [
      "\n",
      "|                                                                                          |17/?[00:00<00:00,23.56it/s]"
     ]
    },
    {
     "name": "stdout",
     "output_type": "stream",
     "text": [
      "\u001b[32m[1123 13:08:57 @DATSGAN.py:266]\u001b[0m Loading Preprocessor!\n"
     ]
    },
    {
     "name": "stderr",
     "output_type": "stream",
     "text": [
      "\n",
      "|                                                                                          |17/?[00:00<00:00,23.82it/s]"
     ]
    },
    {
     "name": "stdout",
     "output_type": "stream",
     "text": [
      "\u001b[32m[1123 13:08:57 @DATSGAN.py:266]\u001b[0m Loading Preprocessor!\n"
     ]
    },
    {
     "name": "stderr",
     "output_type": "stream",
     "text": [
      "\n",
      "|                                                                                          |17/?[00:00<00:00,23.64it/s]\n"
     ]
    },
    {
     "name": "stdout",
     "output_type": "stream",
     "text": [
      "Sampling synthetic data from model \u001b[1mWGGP_WI_04\u001b[0m (49/55)\n",
      "\u001b[32m[1123 13:09:03 @DATSGANModel.py:205]\u001b[0m \u001b[91mCreating cell for age (in-edges: 0; ancestors: 0)\n",
      "\u001b[32m[1123 13:09:04 @DATSGANModel.py:205]\u001b[0m \u001b[91mCreating cell for gender (in-edges: 0; ancestors: 0)\n",
      "\u001b[32m[1123 13:09:04 @DATSGANModel.py:205]\u001b[0m \u001b[91mCreating cell for travel_dow (in-edges: 0; ancestors: 0)\n",
      "\u001b[32m[1123 13:09:04 @DATSGANModel.py:205]\u001b[0m \u001b[91mCreating cell for license (in-edges: 1; ancestors: 1)\n",
      "\u001b[32m[1123 13:09:04 @DATSGANModel.py:205]\u001b[0m \u001b[91mCreating cell for education_level (in-edges: 1; ancestors: 1)\n",
      "\u001b[32m[1123 13:09:04 @DATSGANModel.py:205]\u001b[0m \u001b[91mCreating cell for work_status (in-edges: 2; ancestors: 3)\n",
      "\u001b[32m[1123 13:09:04 @DATSGANModel.py:205]\u001b[0m \u001b[91mCreating cell for hh_income (in-edges: 2; ancestors: 4)\n",
      "\u001b[32m[1123 13:09:04 @DATSGANModel.py:205]\u001b[0m \u001b[91mCreating cell for trip_purpose (in-edges: 1; ancestors: 4)\n",
      "\u001b[32m[1123 13:09:04 @DATSGANModel.py:205]\u001b[0m \u001b[91mCreating cell for hh_descr (in-edges: 2; ancestors: 5)\n",
      "\u001b[32m[1123 13:09:04 @DATSGANModel.py:205]\u001b[0m \u001b[91mCreating cell for hh_size (in-edges: 3; ancestors: 5)\n",
      "\u001b[32m[1123 13:09:04 @DATSGANModel.py:205]\u001b[0m \u001b[91mCreating cell for departure_time (in-edges: 1; ancestors: 5)\n",
      "\u001b[32m[1123 13:09:04 @DATSGANModel.py:205]\u001b[0m \u001b[91mCreating cell for distance (in-edges: 1; ancestors: 5)\n",
      "\u001b[32m[1123 13:09:04 @DATSGANModel.py:205]\u001b[0m \u001b[91mCreating cell for hh_vehicles (in-edges: 2; ancestors: 6)\n",
      "\u001b[32m[1123 13:09:04 @DATSGANModel.py:205]\u001b[0m \u001b[91mCreating cell for hh_bikes (in-edges: 2; ancestors: 6)\n",
      "\u001b[32m[1123 13:09:05 @DATSGANModel.py:205]\u001b[0m \u001b[91mCreating cell for choice (in-edges: 7; ancestors: 13)\n",
      "\u001b[32m[1123 13:09:05 @sessinit.py:87]\u001b[0m \u001b[5m\u001b[31mWRN\u001b[0m The following variables are in the checkpoint, but not found in the graph: global_step, optimize/beta1_power, optimize/beta2_power\n",
      "INFO:tensorflow:Graph was finalized.\n",
      "INFO:tensorflow:Running local_init_op.\n",
      "INFO:tensorflow:Done running local_init_op.\n",
      "\u001b[32m[1123 13:09:06 @sessinit.py:114]\u001b[0m Restoring checkpoint from ../output/Chicago/WGGP_WI_04/model\\model-20399 ...\n",
      "INFO:tensorflow:Restoring parameters from ../output/Chicago/WGGP_WI_04/model\\model-20399\n",
      "\u001b[32m[1123 13:09:06 @DATSGAN.py:266]\u001b[0m Loading Preprocessor!\n"
     ]
    },
    {
     "name": "stderr",
     "output_type": "stream",
     "text": [
      "|                                                                                          |17/?[00:00<00:00,17.94it/s]"
     ]
    },
    {
     "name": "stdout",
     "output_type": "stream",
     "text": [
      "\u001b[32m[1123 13:09:07 @DATSGAN.py:266]\u001b[0m Loading Preprocessor!\n"
     ]
    },
    {
     "name": "stderr",
     "output_type": "stream",
     "text": [
      "\n",
      "|                                                                                          |17/?[00:00<00:00,23.32it/s]"
     ]
    },
    {
     "name": "stdout",
     "output_type": "stream",
     "text": [
      "\u001b[32m[1123 13:09:08 @DATSGAN.py:266]\u001b[0m Loading Preprocessor!\n"
     ]
    },
    {
     "name": "stderr",
     "output_type": "stream",
     "text": [
      "\n",
      "|                                                                                          |17/?[00:00<00:00,23.36it/s]"
     ]
    },
    {
     "name": "stdout",
     "output_type": "stream",
     "text": [
      "\u001b[32m[1123 13:09:09 @DATSGAN.py:266]\u001b[0m Loading Preprocessor!\n"
     ]
    },
    {
     "name": "stderr",
     "output_type": "stream",
     "text": [
      "\n",
      "|                                                                                          |17/?[00:00<00:00,23.59it/s]"
     ]
    },
    {
     "name": "stdout",
     "output_type": "stream",
     "text": [
      "\u001b[32m[1123 13:09:09 @DATSGAN.py:266]\u001b[0m Loading Preprocessor!\n"
     ]
    },
    {
     "name": "stderr",
     "output_type": "stream",
     "text": [
      "\n",
      "|                                                                                          |17/?[00:00<00:00,23.56it/s]"
     ]
    },
    {
     "name": "stdout",
     "output_type": "stream",
     "text": [
      "\u001b[32m[1123 13:09:10 @DATSGAN.py:266]\u001b[0m Loading Preprocessor!\n"
     ]
    },
    {
     "name": "stderr",
     "output_type": "stream",
     "text": [
      "\n",
      "|                                                                                          |17/?[00:00<00:00,23.54it/s]"
     ]
    },
    {
     "name": "stdout",
     "output_type": "stream",
     "text": [
      "\u001b[32m[1123 13:09:11 @DATSGAN.py:266]\u001b[0m Loading Preprocessor!\n"
     ]
    },
    {
     "name": "stderr",
     "output_type": "stream",
     "text": [
      "\n",
      "|                                                                                          |17/?[00:00<00:00,22.91it/s]"
     ]
    },
    {
     "name": "stdout",
     "output_type": "stream",
     "text": [
      "\u001b[32m[1123 13:09:12 @DATSGAN.py:266]\u001b[0m Loading Preprocessor!\n"
     ]
    },
    {
     "name": "stderr",
     "output_type": "stream",
     "text": [
      "\n",
      "|                                                                                          |17/?[00:00<00:00,23.52it/s]"
     ]
    },
    {
     "name": "stdout",
     "output_type": "stream",
     "text": [
      "\u001b[32m[1123 13:09:13 @DATSGAN.py:266]\u001b[0m Loading Preprocessor!\n"
     ]
    },
    {
     "name": "stderr",
     "output_type": "stream",
     "text": [
      "\n",
      "|                                                                                          |17/?[00:00<00:00,23.48it/s]"
     ]
    },
    {
     "name": "stdout",
     "output_type": "stream",
     "text": [
      "\u001b[32m[1123 13:09:13 @DATSGAN.py:266]\u001b[0m Loading Preprocessor!\n"
     ]
    },
    {
     "name": "stderr",
     "output_type": "stream",
     "text": [
      "\n",
      "|                                                                                          |17/?[00:00<00:00,23.16it/s]"
     ]
    },
    {
     "name": "stdout",
     "output_type": "stream",
     "text": [
      "\u001b[32m[1123 13:09:14 @DATSGAN.py:266]\u001b[0m Loading Preprocessor!\n"
     ]
    },
    {
     "name": "stderr",
     "output_type": "stream",
     "text": [
      "\n",
      "|                                                                                          |17/?[00:00<00:00,23.46it/s]"
     ]
    },
    {
     "name": "stdout",
     "output_type": "stream",
     "text": [
      "\u001b[32m[1123 13:09:15 @DATSGAN.py:266]\u001b[0m Loading Preprocessor!\n"
     ]
    },
    {
     "name": "stderr",
     "output_type": "stream",
     "text": [
      "\n",
      "|                                                                                          |17/?[00:00<00:00,23.08it/s]"
     ]
    },
    {
     "name": "stdout",
     "output_type": "stream",
     "text": [
      "\u001b[32m[1123 13:09:16 @DATSGAN.py:266]\u001b[0m Loading Preprocessor!\n"
     ]
    },
    {
     "name": "stderr",
     "output_type": "stream",
     "text": [
      "\n",
      "|                                                                                          |17/?[00:00<00:00,23.40it/s]"
     ]
    },
    {
     "name": "stdout",
     "output_type": "stream",
     "text": [
      "\u001b[32m[1123 13:09:17 @DATSGAN.py:266]\u001b[0m Loading Preprocessor!\n"
     ]
    },
    {
     "name": "stderr",
     "output_type": "stream",
     "text": [
      "\n",
      "|                                                                                          |17/?[00:00<00:00,23.41it/s]"
     ]
    },
    {
     "name": "stdout",
     "output_type": "stream",
     "text": [
      "\u001b[32m[1123 13:09:17 @DATSGAN.py:266]\u001b[0m Loading Preprocessor!\n"
     ]
    },
    {
     "name": "stderr",
     "output_type": "stream",
     "text": [
      "\n",
      "|                                                                                          |17/?[00:00<00:00,23.62it/s]\n"
     ]
    },
    {
     "name": "stdout",
     "output_type": "stream",
     "text": [
      "Sampling synthetic data from model \u001b[1mWGGP_WI_05\u001b[0m (50/55)\n",
      "\u001b[32m[1123 13:09:23 @DATSGANModel.py:205]\u001b[0m \u001b[91mCreating cell for age (in-edges: 0; ancestors: 0)\n",
      "\u001b[32m[1123 13:09:23 @DATSGANModel.py:205]\u001b[0m \u001b[91mCreating cell for gender (in-edges: 0; ancestors: 0)\n",
      "\u001b[32m[1123 13:09:24 @DATSGANModel.py:205]\u001b[0m \u001b[91mCreating cell for travel_dow (in-edges: 0; ancestors: 0)\n",
      "\u001b[32m[1123 13:09:24 @DATSGANModel.py:205]\u001b[0m \u001b[91mCreating cell for license (in-edges: 1; ancestors: 1)\n",
      "\u001b[32m[1123 13:09:24 @DATSGANModel.py:205]\u001b[0m \u001b[91mCreating cell for education_level (in-edges: 1; ancestors: 1)\n",
      "\u001b[32m[1123 13:09:24 @DATSGANModel.py:205]\u001b[0m \u001b[91mCreating cell for work_status (in-edges: 2; ancestors: 3)\n",
      "\u001b[32m[1123 13:09:24 @DATSGANModel.py:205]\u001b[0m \u001b[91mCreating cell for hh_income (in-edges: 2; ancestors: 4)\n",
      "\u001b[32m[1123 13:09:24 @DATSGANModel.py:205]\u001b[0m \u001b[91mCreating cell for trip_purpose (in-edges: 1; ancestors: 4)\n",
      "\u001b[32m[1123 13:09:24 @DATSGANModel.py:205]\u001b[0m \u001b[91mCreating cell for hh_descr (in-edges: 2; ancestors: 5)\n",
      "\u001b[32m[1123 13:09:24 @DATSGANModel.py:205]\u001b[0m \u001b[91mCreating cell for hh_size (in-edges: 3; ancestors: 5)\n",
      "\u001b[32m[1123 13:09:24 @DATSGANModel.py:205]\u001b[0m \u001b[91mCreating cell for departure_time (in-edges: 1; ancestors: 5)\n",
      "\u001b[32m[1123 13:09:24 @DATSGANModel.py:205]\u001b[0m \u001b[91mCreating cell for distance (in-edges: 1; ancestors: 5)\n",
      "\u001b[32m[1123 13:09:24 @DATSGANModel.py:205]\u001b[0m \u001b[91mCreating cell for hh_vehicles (in-edges: 2; ancestors: 6)\n",
      "\u001b[32m[1123 13:09:24 @DATSGANModel.py:205]\u001b[0m \u001b[91mCreating cell for hh_bikes (in-edges: 2; ancestors: 6)\n",
      "\u001b[32m[1123 13:09:24 @DATSGANModel.py:205]\u001b[0m \u001b[91mCreating cell for choice (in-edges: 7; ancestors: 13)\n",
      "\u001b[32m[1123 13:09:25 @sessinit.py:87]\u001b[0m \u001b[5m\u001b[31mWRN\u001b[0m The following variables are in the checkpoint, but not found in the graph: global_step, optimize/beta1_power, optimize/beta2_power\n",
      "INFO:tensorflow:Graph was finalized.\n",
      "INFO:tensorflow:Running local_init_op.\n",
      "INFO:tensorflow:Done running local_init_op.\n",
      "\u001b[32m[1123 13:09:26 @sessinit.py:114]\u001b[0m Restoring checkpoint from ../output/Chicago/WGGP_WI_05/model\\model-20399 ...\n",
      "INFO:tensorflow:Restoring parameters from ../output/Chicago/WGGP_WI_05/model\\model-20399\n",
      "\u001b[32m[1123 13:09:26 @DATSGAN.py:266]\u001b[0m Loading Preprocessor!\n"
     ]
    },
    {
     "name": "stderr",
     "output_type": "stream",
     "text": [
      "|                                                                                          |17/?[00:00<00:00,17.77it/s]"
     ]
    },
    {
     "name": "stdout",
     "output_type": "stream",
     "text": [
      "\u001b[32m[1123 13:09:27 @DATSGAN.py:266]\u001b[0m Loading Preprocessor!\n"
     ]
    },
    {
     "name": "stderr",
     "output_type": "stream",
     "text": [
      "\n",
      "|                                                                                          |17/?[00:00<00:00,23.48it/s]"
     ]
    },
    {
     "name": "stdout",
     "output_type": "stream",
     "text": [
      "\u001b[32m[1123 13:09:28 @DATSGAN.py:266]\u001b[0m Loading Preprocessor!\n"
     ]
    },
    {
     "name": "stderr",
     "output_type": "stream",
     "text": [
      "\n",
      "|                                                                                          |17/?[00:00<00:00,23.70it/s]"
     ]
    },
    {
     "name": "stdout",
     "output_type": "stream",
     "text": [
      "\u001b[32m[1123 13:09:29 @DATSGAN.py:266]\u001b[0m Loading Preprocessor!\n"
     ]
    },
    {
     "name": "stderr",
     "output_type": "stream",
     "text": [
      "\n",
      "|                                                                                          |17/?[00:00<00:00,23.48it/s]"
     ]
    },
    {
     "name": "stdout",
     "output_type": "stream",
     "text": [
      "\u001b[32m[1123 13:09:29 @DATSGAN.py:266]\u001b[0m Loading Preprocessor!\n"
     ]
    },
    {
     "name": "stderr",
     "output_type": "stream",
     "text": [
      "\n",
      "|                                                                                          |17/?[00:00<00:00,23.52it/s]"
     ]
    },
    {
     "name": "stdout",
     "output_type": "stream",
     "text": [
      "\u001b[32m[1123 13:09:30 @DATSGAN.py:266]\u001b[0m Loading Preprocessor!\n"
     ]
    },
    {
     "name": "stderr",
     "output_type": "stream",
     "text": [
      "\n",
      "|                                                                                          |17/?[00:00<00:00,23.54it/s]"
     ]
    },
    {
     "name": "stdout",
     "output_type": "stream",
     "text": [
      "\u001b[32m[1123 13:09:31 @DATSGAN.py:266]\u001b[0m Loading Preprocessor!\n"
     ]
    },
    {
     "name": "stderr",
     "output_type": "stream",
     "text": [
      "\n",
      "|                                                                                          |17/?[00:00<00:00,23.04it/s]"
     ]
    },
    {
     "name": "stdout",
     "output_type": "stream",
     "text": [
      "\u001b[32m[1123 13:09:32 @DATSGAN.py:266]\u001b[0m Loading Preprocessor!\n"
     ]
    },
    {
     "name": "stderr",
     "output_type": "stream",
     "text": [
      "\n",
      "|                                                                                          |17/?[00:00<00:00,23.35it/s]"
     ]
    },
    {
     "name": "stdout",
     "output_type": "stream",
     "text": [
      "\u001b[32m[1123 13:09:32 @DATSGAN.py:266]\u001b[0m Loading Preprocessor!\n"
     ]
    },
    {
     "name": "stderr",
     "output_type": "stream",
     "text": [
      "\n",
      "|                                                                                          |17/?[00:00<00:00,23.36it/s]"
     ]
    },
    {
     "name": "stdout",
     "output_type": "stream",
     "text": [
      "\u001b[32m[1123 13:09:33 @DATSGAN.py:266]\u001b[0m Loading Preprocessor!\n"
     ]
    },
    {
     "name": "stderr",
     "output_type": "stream",
     "text": [
      "\n",
      "|                                                                                          |17/?[00:00<00:00,23.62it/s]"
     ]
    },
    {
     "name": "stdout",
     "output_type": "stream",
     "text": [
      "\u001b[32m[1123 13:09:34 @DATSGAN.py:266]\u001b[0m Loading Preprocessor!\n"
     ]
    },
    {
     "name": "stderr",
     "output_type": "stream",
     "text": [
      "\n",
      "|                                                                                          |17/?[00:00<00:00,23.77it/s]"
     ]
    },
    {
     "name": "stdout",
     "output_type": "stream",
     "text": [
      "\u001b[32m[1123 13:09:35 @DATSGAN.py:266]\u001b[0m Loading Preprocessor!\n"
     ]
    },
    {
     "name": "stderr",
     "output_type": "stream",
     "text": [
      "\n",
      "|                                                                                          |17/?[00:00<00:00,23.25it/s]"
     ]
    },
    {
     "name": "stdout",
     "output_type": "stream",
     "text": [
      "\u001b[32m[1123 13:09:36 @DATSGAN.py:266]\u001b[0m Loading Preprocessor!\n"
     ]
    },
    {
     "name": "stderr",
     "output_type": "stream",
     "text": [
      "\n",
      "|                                                                                          |17/?[00:00<00:00,23.30it/s]"
     ]
    },
    {
     "name": "stdout",
     "output_type": "stream",
     "text": [
      "\u001b[32m[1123 13:09:36 @DATSGAN.py:266]\u001b[0m Loading Preprocessor!\n"
     ]
    },
    {
     "name": "stderr",
     "output_type": "stream",
     "text": [
      "\n",
      "|                                                                                          |17/?[00:00<00:00,23.44it/s]"
     ]
    },
    {
     "name": "stdout",
     "output_type": "stream",
     "text": [
      "\u001b[32m[1123 13:09:37 @DATSGAN.py:266]\u001b[0m Loading Preprocessor!\n"
     ]
    },
    {
     "name": "stderr",
     "output_type": "stream",
     "text": [
      "\n",
      "|                                                                                          |17/?[00:00<00:00,23.80it/s]\n"
     ]
    },
    {
     "name": "stdout",
     "output_type": "stream",
     "text": [
      "Sampling synthetic data from model \u001b[1mWGGP_WO_01\u001b[0m (51/55)\n",
      "\u001b[32m[1123 13:09:43 @DATSGANModel.py:205]\u001b[0m \u001b[91mCreating cell for age (in-edges: 0; ancestors: 0)\n",
      "\u001b[32m[1123 13:09:43 @DATSGANModel.py:205]\u001b[0m \u001b[91mCreating cell for gender (in-edges: 0; ancestors: 0)\n",
      "\u001b[32m[1123 13:09:43 @DATSGANModel.py:205]\u001b[0m \u001b[91mCreating cell for travel_dow (in-edges: 0; ancestors: 0)\n",
      "\u001b[32m[1123 13:09:43 @DATSGANModel.py:205]\u001b[0m \u001b[91mCreating cell for license (in-edges: 1; ancestors: 1)\n",
      "\u001b[32m[1123 13:09:43 @DATSGANModel.py:205]\u001b[0m \u001b[91mCreating cell for education_level (in-edges: 1; ancestors: 1)\n",
      "\u001b[32m[1123 13:09:44 @DATSGANModel.py:205]\u001b[0m \u001b[91mCreating cell for work_status (in-edges: 2; ancestors: 3)\n",
      "\u001b[32m[1123 13:09:44 @DATSGANModel.py:205]\u001b[0m \u001b[91mCreating cell for hh_income (in-edges: 2; ancestors: 4)\n",
      "\u001b[32m[1123 13:09:44 @DATSGANModel.py:205]\u001b[0m \u001b[91mCreating cell for trip_purpose (in-edges: 1; ancestors: 4)\n",
      "\u001b[32m[1123 13:09:44 @DATSGANModel.py:205]\u001b[0m \u001b[91mCreating cell for hh_descr (in-edges: 2; ancestors: 5)\n",
      "\u001b[32m[1123 13:09:44 @DATSGANModel.py:205]\u001b[0m \u001b[91mCreating cell for hh_size (in-edges: 3; ancestors: 5)\n",
      "\u001b[32m[1123 13:09:44 @DATSGANModel.py:205]\u001b[0m \u001b[91mCreating cell for departure_time (in-edges: 1; ancestors: 5)\n",
      "\u001b[32m[1123 13:09:44 @DATSGANModel.py:205]\u001b[0m \u001b[91mCreating cell for distance (in-edges: 1; ancestors: 5)\n",
      "\u001b[32m[1123 13:09:44 @DATSGANModel.py:205]\u001b[0m \u001b[91mCreating cell for hh_vehicles (in-edges: 2; ancestors: 6)\n",
      "\u001b[32m[1123 13:09:44 @DATSGANModel.py:205]\u001b[0m \u001b[91mCreating cell for hh_bikes (in-edges: 2; ancestors: 6)\n",
      "\u001b[32m[1123 13:09:44 @DATSGANModel.py:205]\u001b[0m \u001b[91mCreating cell for choice (in-edges: 7; ancestors: 13)\n",
      "\u001b[32m[1123 13:09:45 @sessinit.py:87]\u001b[0m \u001b[5m\u001b[31mWRN\u001b[0m The following variables are in the checkpoint, but not found in the graph: global_step, optimize/beta1_power, optimize/beta2_power\n",
      "INFO:tensorflow:Graph was finalized.\n",
      "INFO:tensorflow:Running local_init_op.\n",
      "INFO:tensorflow:Done running local_init_op.\n",
      "\u001b[32m[1123 13:09:46 @sessinit.py:114]\u001b[0m Restoring checkpoint from ../output/Chicago/WGGP_WO_01/model\\model-20399 ...\n",
      "INFO:tensorflow:Restoring parameters from ../output/Chicago/WGGP_WO_01/model\\model-20399\n",
      "\u001b[32m[1123 13:09:46 @DATSGAN.py:266]\u001b[0m Loading Preprocessor!\n"
     ]
    },
    {
     "name": "stderr",
     "output_type": "stream",
     "text": [
      "|                                                                                          |17/?[00:00<00:00,17.97it/s]"
     ]
    },
    {
     "name": "stdout",
     "output_type": "stream",
     "text": [
      "\u001b[32m[1123 13:09:47 @DATSGAN.py:266]\u001b[0m Loading Preprocessor!\n"
     ]
    },
    {
     "name": "stderr",
     "output_type": "stream",
     "text": [
      "\n",
      "|                                                                                          |17/?[00:00<00:00,23.32it/s]"
     ]
    },
    {
     "name": "stdout",
     "output_type": "stream",
     "text": [
      "\u001b[32m[1123 13:09:47 @DATSGAN.py:266]\u001b[0m Loading Preprocessor!\n"
     ]
    },
    {
     "name": "stderr",
     "output_type": "stream",
     "text": [
      "\n",
      "|                                                                                          |17/?[00:00<00:00,23.41it/s]"
     ]
    },
    {
     "name": "stdout",
     "output_type": "stream",
     "text": [
      "\u001b[32m[1123 13:09:48 @DATSGAN.py:266]\u001b[0m Loading Preprocessor!\n"
     ]
    },
    {
     "name": "stderr",
     "output_type": "stream",
     "text": [
      "\n",
      "|                                                                                          |17/?[00:00<00:00,23.63it/s]"
     ]
    },
    {
     "name": "stdout",
     "output_type": "stream",
     "text": [
      "\u001b[32m[1123 13:09:49 @DATSGAN.py:266]\u001b[0m Loading Preprocessor!\n"
     ]
    },
    {
     "name": "stderr",
     "output_type": "stream",
     "text": [
      "\n",
      "|                                                                                          |17/?[00:00<00:00,23.30it/s]"
     ]
    },
    {
     "name": "stdout",
     "output_type": "stream",
     "text": [
      "\u001b[32m[1123 13:09:50 @DATSGAN.py:266]\u001b[0m Loading Preprocessor!\n"
     ]
    },
    {
     "name": "stderr",
     "output_type": "stream",
     "text": [
      "\n",
      "|                                                                                          |17/?[00:00<00:00,23.80it/s]"
     ]
    },
    {
     "name": "stdout",
     "output_type": "stream",
     "text": [
      "\u001b[32m[1123 13:09:51 @DATSGAN.py:266]\u001b[0m Loading Preprocessor!\n"
     ]
    },
    {
     "name": "stderr",
     "output_type": "stream",
     "text": [
      "\n",
      "|                                                                                          |17/?[00:00<00:00,23.74it/s]"
     ]
    },
    {
     "name": "stdout",
     "output_type": "stream",
     "text": [
      "\u001b[32m[1123 13:09:51 @DATSGAN.py:266]\u001b[0m Loading Preprocessor!\n"
     ]
    },
    {
     "name": "stderr",
     "output_type": "stream",
     "text": [
      "\n",
      "|                                                                                          |17/?[00:00<00:00,23.65it/s]"
     ]
    },
    {
     "name": "stdout",
     "output_type": "stream",
     "text": [
      "\u001b[32m[1123 13:09:52 @DATSGAN.py:266]\u001b[0m Loading Preprocessor!\n"
     ]
    },
    {
     "name": "stderr",
     "output_type": "stream",
     "text": [
      "\n",
      "|                                                                                          |17/?[00:00<00:00,23.58it/s]"
     ]
    },
    {
     "name": "stdout",
     "output_type": "stream",
     "text": [
      "\u001b[32m[1123 13:09:53 @DATSGAN.py:266]\u001b[0m Loading Preprocessor!\n"
     ]
    },
    {
     "name": "stderr",
     "output_type": "stream",
     "text": [
      "\n",
      "|                                                                                          |17/?[00:00<00:00,23.62it/s]"
     ]
    },
    {
     "name": "stdout",
     "output_type": "stream",
     "text": [
      "\u001b[32m[1123 13:09:54 @DATSGAN.py:266]\u001b[0m Loading Preprocessor!\n"
     ]
    },
    {
     "name": "stderr",
     "output_type": "stream",
     "text": [
      "\n",
      "|                                                                                          |17/?[00:00<00:00,23.86it/s]"
     ]
    },
    {
     "name": "stdout",
     "output_type": "stream",
     "text": [
      "\u001b[32m[1123 13:09:54 @DATSGAN.py:266]\u001b[0m Loading Preprocessor!\n"
     ]
    },
    {
     "name": "stderr",
     "output_type": "stream",
     "text": [
      "\n",
      "|                                                                                          |17/?[00:00<00:00,22.56it/s]"
     ]
    },
    {
     "name": "stdout",
     "output_type": "stream",
     "text": [
      "\u001b[32m[1123 13:09:55 @DATSGAN.py:266]\u001b[0m Loading Preprocessor!\n"
     ]
    },
    {
     "name": "stderr",
     "output_type": "stream",
     "text": [
      "\n",
      "|                                                                                          |17/?[00:00<00:00,23.48it/s]"
     ]
    },
    {
     "name": "stdout",
     "output_type": "stream",
     "text": [
      "\u001b[32m[1123 13:09:56 @DATSGAN.py:266]\u001b[0m Loading Preprocessor!\n"
     ]
    },
    {
     "name": "stderr",
     "output_type": "stream",
     "text": [
      "\n",
      "|                                                                                          |17/?[00:00<00:00,23.43it/s]"
     ]
    },
    {
     "name": "stdout",
     "output_type": "stream",
     "text": [
      "\u001b[32m[1123 13:09:57 @DATSGAN.py:266]\u001b[0m Loading Preprocessor!\n"
     ]
    },
    {
     "name": "stderr",
     "output_type": "stream",
     "text": [
      "\n",
      "|                                                                                          |17/?[00:00<00:00,23.03it/s]\n"
     ]
    },
    {
     "name": "stdout",
     "output_type": "stream",
     "text": [
      "Sampling synthetic data from model \u001b[1mWGGP_WO_02\u001b[0m (52/55)\n",
      "\u001b[32m[1123 13:10:03 @DATSGANModel.py:205]\u001b[0m \u001b[91mCreating cell for age (in-edges: 0; ancestors: 0)\n",
      "\u001b[32m[1123 13:10:03 @DATSGANModel.py:205]\u001b[0m \u001b[91mCreating cell for gender (in-edges: 0; ancestors: 0)\n",
      "\u001b[32m[1123 13:10:03 @DATSGANModel.py:205]\u001b[0m \u001b[91mCreating cell for travel_dow (in-edges: 0; ancestors: 0)\n",
      "\u001b[32m[1123 13:10:03 @DATSGANModel.py:205]\u001b[0m \u001b[91mCreating cell for license (in-edges: 1; ancestors: 1)\n",
      "\u001b[32m[1123 13:10:03 @DATSGANModel.py:205]\u001b[0m \u001b[91mCreating cell for education_level (in-edges: 1; ancestors: 1)\n",
      "\u001b[32m[1123 13:10:03 @DATSGANModel.py:205]\u001b[0m \u001b[91mCreating cell for work_status (in-edges: 2; ancestors: 3)\n",
      "\u001b[32m[1123 13:10:03 @DATSGANModel.py:205]\u001b[0m \u001b[91mCreating cell for hh_income (in-edges: 2; ancestors: 4)\n",
      "\u001b[32m[1123 13:10:03 @DATSGANModel.py:205]\u001b[0m \u001b[91mCreating cell for trip_purpose (in-edges: 1; ancestors: 4)\n",
      "\u001b[32m[1123 13:10:03 @DATSGANModel.py:205]\u001b[0m \u001b[91mCreating cell for hh_descr (in-edges: 2; ancestors: 5)\n",
      "\u001b[32m[1123 13:10:04 @DATSGANModel.py:205]\u001b[0m \u001b[91mCreating cell for hh_size (in-edges: 3; ancestors: 5)\n",
      "\u001b[32m[1123 13:10:04 @DATSGANModel.py:205]\u001b[0m \u001b[91mCreating cell for departure_time (in-edges: 1; ancestors: 5)\n",
      "\u001b[32m[1123 13:10:04 @DATSGANModel.py:205]\u001b[0m \u001b[91mCreating cell for distance (in-edges: 1; ancestors: 5)\n",
      "\u001b[32m[1123 13:10:04 @DATSGANModel.py:205]\u001b[0m \u001b[91mCreating cell for hh_vehicles (in-edges: 2; ancestors: 6)\n",
      "\u001b[32m[1123 13:10:04 @DATSGANModel.py:205]\u001b[0m \u001b[91mCreating cell for hh_bikes (in-edges: 2; ancestors: 6)\n",
      "\u001b[32m[1123 13:10:04 @DATSGANModel.py:205]\u001b[0m \u001b[91mCreating cell for choice (in-edges: 7; ancestors: 13)\n",
      "\u001b[32m[1123 13:10:04 @sessinit.py:87]\u001b[0m \u001b[5m\u001b[31mWRN\u001b[0m The following variables are in the checkpoint, but not found in the graph: global_step, optimize/beta1_power, optimize/beta2_power\n",
      "INFO:tensorflow:Graph was finalized.\n",
      "INFO:tensorflow:Running local_init_op.\n",
      "INFO:tensorflow:Done running local_init_op.\n",
      "\u001b[32m[1123 13:10:05 @sessinit.py:114]\u001b[0m Restoring checkpoint from ../output/Chicago/WGGP_WO_02/model\\model-20399 ...\n",
      "INFO:tensorflow:Restoring parameters from ../output/Chicago/WGGP_WO_02/model\\model-20399\n",
      "\u001b[32m[1123 13:10:05 @DATSGAN.py:266]\u001b[0m Loading Preprocessor!\n"
     ]
    },
    {
     "name": "stderr",
     "output_type": "stream",
     "text": [
      "|                                                                                          |17/?[00:00<00:00,17.66it/s]\n"
     ]
    },
    {
     "name": "stdout",
     "output_type": "stream",
     "text": [
      "\u001b[32m[1123 13:10:07 @DATSGAN.py:266]\u001b[0m Loading Preprocessor!\n"
     ]
    },
    {
     "name": "stderr",
     "output_type": "stream",
     "text": [
      "|                                                                                          |17/?[00:00<00:00,23.56it/s]"
     ]
    },
    {
     "name": "stdout",
     "output_type": "stream",
     "text": [
      "\u001b[32m[1123 13:10:07 @DATSGAN.py:266]\u001b[0m Loading Preprocessor!\n"
     ]
    },
    {
     "name": "stderr",
     "output_type": "stream",
     "text": [
      "\n",
      "|                                                                                          |17/?[00:00<00:00,23.60it/s]"
     ]
    },
    {
     "name": "stdout",
     "output_type": "stream",
     "text": [
      "\u001b[32m[1123 13:10:08 @DATSGAN.py:266]\u001b[0m Loading Preprocessor!\n"
     ]
    },
    {
     "name": "stderr",
     "output_type": "stream",
     "text": [
      "\n",
      "|                                                                                          |17/?[00:00<00:00,23.64it/s]"
     ]
    },
    {
     "name": "stdout",
     "output_type": "stream",
     "text": [
      "\u001b[32m[1123 13:10:09 @DATSGAN.py:266]\u001b[0m Loading Preprocessor!\n"
     ]
    },
    {
     "name": "stderr",
     "output_type": "stream",
     "text": [
      "\n",
      "|                                                                                          |17/?[00:00<00:00,23.60it/s]"
     ]
    },
    {
     "name": "stdout",
     "output_type": "stream",
     "text": [
      "\u001b[32m[1123 13:10:10 @DATSGAN.py:266]\u001b[0m Loading Preprocessor!\n"
     ]
    },
    {
     "name": "stderr",
     "output_type": "stream",
     "text": [
      "\n",
      "|                                                                                          |17/?[00:00<00:00,23.61it/s]"
     ]
    },
    {
     "name": "stdout",
     "output_type": "stream",
     "text": [
      "\u001b[32m[1123 13:10:11 @DATSGAN.py:266]\u001b[0m Loading Preprocessor!\n"
     ]
    },
    {
     "name": "stderr",
     "output_type": "stream",
     "text": [
      "\n",
      "|                                                                                          |17/?[00:00<00:00,23.64it/s]\n"
     ]
    },
    {
     "name": "stdout",
     "output_type": "stream",
     "text": [
      "\u001b[32m[1123 13:10:12 @DATSGAN.py:266]\u001b[0m Loading Preprocessor!\n"
     ]
    },
    {
     "name": "stderr",
     "output_type": "stream",
     "text": [
      "|                                                                                          |17/?[00:00<00:00,23.39it/s]\n"
     ]
    },
    {
     "name": "stdout",
     "output_type": "stream",
     "text": [
      "\u001b[32m[1123 13:10:13 @DATSGAN.py:266]\u001b[0m Loading Preprocessor!\n"
     ]
    },
    {
     "name": "stderr",
     "output_type": "stream",
     "text": [
      "|                                                                                          |17/?[00:00<00:00,23.33it/s]"
     ]
    },
    {
     "name": "stdout",
     "output_type": "stream",
     "text": [
      "\u001b[32m[1123 13:10:14 @DATSGAN.py:266]\u001b[0m Loading Preprocessor!\n"
     ]
    },
    {
     "name": "stderr",
     "output_type": "stream",
     "text": [
      "\n",
      "|                                                                                          |17/?[00:00<00:00,23.39it/s]"
     ]
    },
    {
     "name": "stdout",
     "output_type": "stream",
     "text": [
      "\u001b[32m[1123 13:10:15 @DATSGAN.py:266]\u001b[0m Loading Preprocessor!\n"
     ]
    },
    {
     "name": "stderr",
     "output_type": "stream",
     "text": [
      "\n",
      "|                                                                                          |17/?[00:00<00:00,23.52it/s]"
     ]
    },
    {
     "name": "stdout",
     "output_type": "stream",
     "text": [
      "\u001b[32m[1123 13:10:16 @DATSGAN.py:266]\u001b[0m Loading Preprocessor!\n"
     ]
    },
    {
     "name": "stderr",
     "output_type": "stream",
     "text": [
      "\n",
      "|                                                                                          |17/?[00:00<00:00,23.46it/s]\n"
     ]
    },
    {
     "name": "stdout",
     "output_type": "stream",
     "text": [
      "\u001b[32m[1123 13:10:17 @DATSGAN.py:266]\u001b[0m Loading Preprocessor!\n"
     ]
    },
    {
     "name": "stderr",
     "output_type": "stream",
     "text": [
      "|                                                                                          |17/?[00:00<00:00,23.21it/s]"
     ]
    },
    {
     "name": "stdout",
     "output_type": "stream",
     "text": [
      "\u001b[32m[1123 13:10:18 @DATSGAN.py:266]\u001b[0m Loading Preprocessor!\n"
     ]
    },
    {
     "name": "stderr",
     "output_type": "stream",
     "text": [
      "\n",
      "|                                                                                          |17/?[00:00<00:00,23.13it/s]"
     ]
    },
    {
     "name": "stdout",
     "output_type": "stream",
     "text": [
      "\u001b[32m[1123 13:10:18 @DATSGAN.py:266]\u001b[0m Loading Preprocessor!\n"
     ]
    },
    {
     "name": "stderr",
     "output_type": "stream",
     "text": [
      "\n",
      "|                                                                                          |17/?[00:00<00:00,23.56it/s]\n"
     ]
    },
    {
     "name": "stdout",
     "output_type": "stream",
     "text": [
      "Sampling synthetic data from model \u001b[1mWGGP_WO_03\u001b[0m (53/55)\n",
      "\u001b[32m[1123 13:10:25 @DATSGANModel.py:205]\u001b[0m \u001b[91mCreating cell for age (in-edges: 0; ancestors: 0)\n",
      "\u001b[32m[1123 13:10:25 @DATSGANModel.py:205]\u001b[0m \u001b[91mCreating cell for gender (in-edges: 0; ancestors: 0)\n",
      "\u001b[32m[1123 13:10:25 @DATSGANModel.py:205]\u001b[0m \u001b[91mCreating cell for travel_dow (in-edges: 0; ancestors: 0)\n",
      "\u001b[32m[1123 13:10:25 @DATSGANModel.py:205]\u001b[0m \u001b[91mCreating cell for license (in-edges: 1; ancestors: 1)\n",
      "\u001b[32m[1123 13:10:25 @DATSGANModel.py:205]\u001b[0m \u001b[91mCreating cell for education_level (in-edges: 1; ancestors: 1)\n",
      "\u001b[32m[1123 13:10:25 @DATSGANModel.py:205]\u001b[0m \u001b[91mCreating cell for work_status (in-edges: 2; ancestors: 3)\n",
      "\u001b[32m[1123 13:10:25 @DATSGANModel.py:205]\u001b[0m \u001b[91mCreating cell for hh_income (in-edges: 2; ancestors: 4)\n",
      "\u001b[32m[1123 13:10:25 @DATSGANModel.py:205]\u001b[0m \u001b[91mCreating cell for trip_purpose (in-edges: 1; ancestors: 4)\n",
      "\u001b[32m[1123 13:10:25 @DATSGANModel.py:205]\u001b[0m \u001b[91mCreating cell for hh_descr (in-edges: 2; ancestors: 5)\n",
      "\u001b[32m[1123 13:10:25 @DATSGANModel.py:205]\u001b[0m \u001b[91mCreating cell for hh_size (in-edges: 3; ancestors: 5)\n",
      "\u001b[32m[1123 13:10:25 @DATSGANModel.py:205]\u001b[0m \u001b[91mCreating cell for departure_time (in-edges: 1; ancestors: 5)\n",
      "\u001b[32m[1123 13:10:25 @DATSGANModel.py:205]\u001b[0m \u001b[91mCreating cell for distance (in-edges: 1; ancestors: 5)\n",
      "\u001b[32m[1123 13:10:26 @DATSGANModel.py:205]\u001b[0m \u001b[91mCreating cell for hh_vehicles (in-edges: 2; ancestors: 6)\n",
      "\u001b[32m[1123 13:10:26 @DATSGANModel.py:205]\u001b[0m \u001b[91mCreating cell for hh_bikes (in-edges: 2; ancestors: 6)\n",
      "\u001b[32m[1123 13:10:26 @DATSGANModel.py:205]\u001b[0m \u001b[91mCreating cell for choice (in-edges: 7; ancestors: 13)\n",
      "\u001b[32m[1123 13:10:26 @sessinit.py:87]\u001b[0m \u001b[5m\u001b[31mWRN\u001b[0m The following variables are in the checkpoint, but not found in the graph: global_step, optimize/beta1_power, optimize/beta2_power\n",
      "INFO:tensorflow:Graph was finalized.\n",
      "INFO:tensorflow:Running local_init_op.\n",
      "INFO:tensorflow:Done running local_init_op.\n",
      "\u001b[32m[1123 13:10:27 @sessinit.py:114]\u001b[0m Restoring checkpoint from ../output/Chicago/WGGP_WO_03/model\\model-20399 ...\n",
      "INFO:tensorflow:Restoring parameters from ../output/Chicago/WGGP_WO_03/model\\model-20399\n",
      "\u001b[32m[1123 13:10:27 @DATSGAN.py:266]\u001b[0m Loading Preprocessor!\n"
     ]
    },
    {
     "name": "stderr",
     "output_type": "stream",
     "text": [
      "|                                                                                          |17/?[00:00<00:00,18.01it/s]"
     ]
    },
    {
     "name": "stdout",
     "output_type": "stream",
     "text": [
      "\u001b[32m[1123 13:10:28 @DATSGAN.py:266]\u001b[0m Loading Preprocessor!\n"
     ]
    },
    {
     "name": "stderr",
     "output_type": "stream",
     "text": [
      "\n",
      "|                                                                                          |17/?[00:00<00:00,23.36it/s]"
     ]
    },
    {
     "name": "stdout",
     "output_type": "stream",
     "text": [
      "\u001b[32m[1123 13:10:29 @DATSGAN.py:266]\u001b[0m Loading Preprocessor!\n"
     ]
    },
    {
     "name": "stderr",
     "output_type": "stream",
     "text": [
      "\n",
      "|                                                                                          |17/?[00:00<00:00,23.33it/s]"
     ]
    },
    {
     "name": "stdout",
     "output_type": "stream",
     "text": [
      "\u001b[32m[1123 13:10:30 @DATSGAN.py:266]\u001b[0m Loading Preprocessor!\n"
     ]
    },
    {
     "name": "stderr",
     "output_type": "stream",
     "text": [
      "\n",
      "|                                                                                          |17/?[00:00<00:00,23.59it/s]"
     ]
    },
    {
     "name": "stdout",
     "output_type": "stream",
     "text": [
      "\u001b[32m[1123 13:10:30 @DATSGAN.py:266]\u001b[0m Loading Preprocessor!\n"
     ]
    },
    {
     "name": "stderr",
     "output_type": "stream",
     "text": [
      "\n",
      "|                                                                                          |17/?[00:00<00:00,23.44it/s]"
     ]
    },
    {
     "name": "stdout",
     "output_type": "stream",
     "text": [
      "\u001b[32m[1123 13:10:31 @DATSGAN.py:266]\u001b[0m Loading Preprocessor!\n"
     ]
    },
    {
     "name": "stderr",
     "output_type": "stream",
     "text": [
      "\n",
      "|                                                                                          |17/?[00:00<00:00,23.80it/s]"
     ]
    },
    {
     "name": "stdout",
     "output_type": "stream",
     "text": [
      "\u001b[32m[1123 13:10:32 @DATSGAN.py:266]\u001b[0m Loading Preprocessor!\n"
     ]
    },
    {
     "name": "stderr",
     "output_type": "stream",
     "text": [
      "\n",
      "|                                                                                          |17/?[00:00<00:00,23.60it/s]"
     ]
    },
    {
     "name": "stdout",
     "output_type": "stream",
     "text": [
      "\u001b[32m[1123 13:10:33 @DATSGAN.py:266]\u001b[0m Loading Preprocessor!\n"
     ]
    },
    {
     "name": "stderr",
     "output_type": "stream",
     "text": [
      "\n",
      "|                                                                                          |17/?[00:00<00:00,23.64it/s]"
     ]
    },
    {
     "name": "stdout",
     "output_type": "stream",
     "text": [
      "\u001b[32m[1123 13:10:34 @DATSGAN.py:266]\u001b[0m Loading Preprocessor!\n"
     ]
    },
    {
     "name": "stderr",
     "output_type": "stream",
     "text": [
      "\n",
      "|                                                                                          |17/?[00:00<00:00,23.54it/s]"
     ]
    },
    {
     "name": "stdout",
     "output_type": "stream",
     "text": [
      "\u001b[32m[1123 13:10:34 @DATSGAN.py:266]\u001b[0m Loading Preprocessor!\n"
     ]
    },
    {
     "name": "stderr",
     "output_type": "stream",
     "text": [
      "\n",
      "|                                                                                          |17/?[00:00<00:00,23.41it/s]"
     ]
    },
    {
     "name": "stdout",
     "output_type": "stream",
     "text": [
      "\u001b[32m[1123 13:10:35 @DATSGAN.py:266]\u001b[0m Loading Preprocessor!\n"
     ]
    },
    {
     "name": "stderr",
     "output_type": "stream",
     "text": [
      "\n",
      "|                                                                                          |17/?[00:00<00:00,23.32it/s]"
     ]
    },
    {
     "name": "stdout",
     "output_type": "stream",
     "text": [
      "\u001b[32m[1123 13:10:36 @DATSGAN.py:266]\u001b[0m Loading Preprocessor!\n"
     ]
    },
    {
     "name": "stderr",
     "output_type": "stream",
     "text": [
      "\n",
      "|                                                                                          |17/?[00:00<00:00,23.14it/s]"
     ]
    },
    {
     "name": "stdout",
     "output_type": "stream",
     "text": [
      "\u001b[32m[1123 13:10:37 @DATSGAN.py:266]\u001b[0m Loading Preprocessor!\n"
     ]
    },
    {
     "name": "stderr",
     "output_type": "stream",
     "text": [
      "\n",
      "|                                                                                          |17/?[00:00<00:00,23.38it/s]"
     ]
    },
    {
     "name": "stdout",
     "output_type": "stream",
     "text": [
      "\u001b[32m[1123 13:10:38 @DATSGAN.py:266]\u001b[0m Loading Preprocessor!\n"
     ]
    },
    {
     "name": "stderr",
     "output_type": "stream",
     "text": [
      "\n",
      "|                                                                                          |17/?[00:00<00:00,23.13it/s]"
     ]
    },
    {
     "name": "stdout",
     "output_type": "stream",
     "text": [
      "\u001b[32m[1123 13:10:38 @DATSGAN.py:266]\u001b[0m Loading Preprocessor!\n"
     ]
    },
    {
     "name": "stderr",
     "output_type": "stream",
     "text": [
      "\n",
      "|                                                                                          |17/?[00:00<00:00,23.24it/s]\n"
     ]
    },
    {
     "name": "stdout",
     "output_type": "stream",
     "text": [
      "Sampling synthetic data from model \u001b[1mWGGP_WO_04\u001b[0m (54/55)\n",
      "\u001b[32m[1123 13:10:44 @DATSGANModel.py:205]\u001b[0m \u001b[91mCreating cell for age (in-edges: 0; ancestors: 0)\n",
      "\u001b[32m[1123 13:10:44 @DATSGANModel.py:205]\u001b[0m \u001b[91mCreating cell for gender (in-edges: 0; ancestors: 0)\n",
      "\u001b[32m[1123 13:10:45 @DATSGANModel.py:205]\u001b[0m \u001b[91mCreating cell for travel_dow (in-edges: 0; ancestors: 0)\n",
      "\u001b[32m[1123 13:10:45 @DATSGANModel.py:205]\u001b[0m \u001b[91mCreating cell for license (in-edges: 1; ancestors: 1)\n",
      "\u001b[32m[1123 13:10:45 @DATSGANModel.py:205]\u001b[0m \u001b[91mCreating cell for education_level (in-edges: 1; ancestors: 1)\n",
      "\u001b[32m[1123 13:10:45 @DATSGANModel.py:205]\u001b[0m \u001b[91mCreating cell for work_status (in-edges: 2; ancestors: 3)\n",
      "\u001b[32m[1123 13:10:45 @DATSGANModel.py:205]\u001b[0m \u001b[91mCreating cell for hh_income (in-edges: 2; ancestors: 4)\n",
      "\u001b[32m[1123 13:10:45 @DATSGANModel.py:205]\u001b[0m \u001b[91mCreating cell for trip_purpose (in-edges: 1; ancestors: 4)\n",
      "\u001b[32m[1123 13:10:45 @DATSGANModel.py:205]\u001b[0m \u001b[91mCreating cell for hh_descr (in-edges: 2; ancestors: 5)\n",
      "\u001b[32m[1123 13:10:45 @DATSGANModel.py:205]\u001b[0m \u001b[91mCreating cell for hh_size (in-edges: 3; ancestors: 5)\n",
      "\u001b[32m[1123 13:10:45 @DATSGANModel.py:205]\u001b[0m \u001b[91mCreating cell for departure_time (in-edges: 1; ancestors: 5)\n",
      "\u001b[32m[1123 13:10:45 @DATSGANModel.py:205]\u001b[0m \u001b[91mCreating cell for distance (in-edges: 1; ancestors: 5)\n",
      "\u001b[32m[1123 13:10:45 @DATSGANModel.py:205]\u001b[0m \u001b[91mCreating cell for hh_vehicles (in-edges: 2; ancestors: 6)\n",
      "\u001b[32m[1123 13:10:45 @DATSGANModel.py:205]\u001b[0m \u001b[91mCreating cell for hh_bikes (in-edges: 2; ancestors: 6)\n",
      "\u001b[32m[1123 13:10:45 @DATSGANModel.py:205]\u001b[0m \u001b[91mCreating cell for choice (in-edges: 7; ancestors: 13)\n",
      "\u001b[32m[1123 13:10:46 @sessinit.py:87]\u001b[0m \u001b[5m\u001b[31mWRN\u001b[0m The following variables are in the checkpoint, but not found in the graph: global_step, optimize/beta1_power, optimize/beta2_power\n",
      "INFO:tensorflow:Graph was finalized.\n",
      "INFO:tensorflow:Running local_init_op.\n",
      "INFO:tensorflow:Done running local_init_op.\n",
      "\u001b[32m[1123 13:10:47 @sessinit.py:114]\u001b[0m Restoring checkpoint from ../output/Chicago/WGGP_WO_04/model\\model-20399 ...\n",
      "INFO:tensorflow:Restoring parameters from ../output/Chicago/WGGP_WO_04/model\\model-20399\n",
      "\u001b[32m[1123 13:10:47 @DATSGAN.py:266]\u001b[0m Loading Preprocessor!\n"
     ]
    },
    {
     "name": "stderr",
     "output_type": "stream",
     "text": [
      "|                                                                                          |17/?[00:00<00:00,18.21it/s]"
     ]
    },
    {
     "name": "stdout",
     "output_type": "stream",
     "text": [
      "\u001b[32m[1123 13:10:48 @DATSGAN.py:266]\u001b[0m Loading Preprocessor!\n"
     ]
    },
    {
     "name": "stderr",
     "output_type": "stream",
     "text": [
      "\n",
      "|                                                                                          |17/?[00:00<00:00,23.24it/s]"
     ]
    },
    {
     "name": "stdout",
     "output_type": "stream",
     "text": [
      "\u001b[32m[1123 13:10:49 @DATSGAN.py:266]\u001b[0m Loading Preprocessor!\n"
     ]
    },
    {
     "name": "stderr",
     "output_type": "stream",
     "text": [
      "\n",
      "|                                                                                          |17/?[00:00<00:00,23.67it/s]"
     ]
    },
    {
     "name": "stdout",
     "output_type": "stream",
     "text": [
      "\u001b[32m[1123 13:10:49 @DATSGAN.py:266]\u001b[0m Loading Preprocessor!\n"
     ]
    },
    {
     "name": "stderr",
     "output_type": "stream",
     "text": [
      "\n",
      "|                                                                                          |17/?[00:00<00:00,23.11it/s]"
     ]
    },
    {
     "name": "stdout",
     "output_type": "stream",
     "text": [
      "\u001b[32m[1123 13:10:50 @DATSGAN.py:266]\u001b[0m Loading Preprocessor!\n"
     ]
    },
    {
     "name": "stderr",
     "output_type": "stream",
     "text": [
      "\n",
      "|                                                                                          |17/?[00:00<00:00,22.58it/s]"
     ]
    },
    {
     "name": "stdout",
     "output_type": "stream",
     "text": [
      "\u001b[32m[1123 13:10:51 @DATSGAN.py:266]\u001b[0m Loading Preprocessor!\n"
     ]
    },
    {
     "name": "stderr",
     "output_type": "stream",
     "text": [
      "\n",
      "|                                                                                          |17/?[00:00<00:00,23.10it/s]"
     ]
    },
    {
     "name": "stdout",
     "output_type": "stream",
     "text": [
      "\u001b[32m[1123 13:10:52 @DATSGAN.py:266]\u001b[0m Loading Preprocessor!\n"
     ]
    },
    {
     "name": "stderr",
     "output_type": "stream",
     "text": [
      "\n",
      "|                                                                                          |17/?[00:00<00:00,23.09it/s]"
     ]
    },
    {
     "name": "stdout",
     "output_type": "stream",
     "text": [
      "\u001b[32m[1123 13:10:53 @DATSGAN.py:266]\u001b[0m Loading Preprocessor!\n"
     ]
    },
    {
     "name": "stderr",
     "output_type": "stream",
     "text": [
      "\n",
      "|                                                                                          |17/?[00:00<00:00,23.49it/s]"
     ]
    },
    {
     "name": "stdout",
     "output_type": "stream",
     "text": [
      "\u001b[32m[1123 13:10:53 @DATSGAN.py:266]\u001b[0m Loading Preprocessor!\n"
     ]
    },
    {
     "name": "stderr",
     "output_type": "stream",
     "text": [
      "\n",
      "|                                                                                          |17/?[00:00<00:00,23.59it/s]"
     ]
    },
    {
     "name": "stdout",
     "output_type": "stream",
     "text": [
      "\u001b[32m[1123 13:10:54 @DATSGAN.py:266]\u001b[0m Loading Preprocessor!\n"
     ]
    },
    {
     "name": "stderr",
     "output_type": "stream",
     "text": [
      "\n",
      "|                                                                                          |17/?[00:00<00:00,23.43it/s]"
     ]
    },
    {
     "name": "stdout",
     "output_type": "stream",
     "text": [
      "\u001b[32m[1123 13:10:55 @DATSGAN.py:266]\u001b[0m Loading Preprocessor!\n"
     ]
    },
    {
     "name": "stderr",
     "output_type": "stream",
     "text": [
      "\n",
      "|                                                                                          |17/?[00:00<00:00,22.97it/s]"
     ]
    },
    {
     "name": "stdout",
     "output_type": "stream",
     "text": [
      "\u001b[32m[1123 13:10:56 @DATSGAN.py:266]\u001b[0m Loading Preprocessor!\n"
     ]
    },
    {
     "name": "stderr",
     "output_type": "stream",
     "text": [
      "\n",
      "|                                                                                          |17/?[00:00<00:00,23.27it/s]"
     ]
    },
    {
     "name": "stdout",
     "output_type": "stream",
     "text": [
      "\u001b[32m[1123 13:10:57 @DATSGAN.py:266]\u001b[0m Loading Preprocessor!\n"
     ]
    },
    {
     "name": "stderr",
     "output_type": "stream",
     "text": [
      "\n",
      "|                                                                                          |17/?[00:00<00:00,23.65it/s]"
     ]
    },
    {
     "name": "stdout",
     "output_type": "stream",
     "text": [
      "\u001b[32m[1123 13:10:57 @DATSGAN.py:266]\u001b[0m Loading Preprocessor!\n"
     ]
    },
    {
     "name": "stderr",
     "output_type": "stream",
     "text": [
      "\n",
      "|                                                                                          |17/?[00:00<00:00,23.40it/s]"
     ]
    },
    {
     "name": "stdout",
     "output_type": "stream",
     "text": [
      "\u001b[32m[1123 13:10:58 @DATSGAN.py:266]\u001b[0m Loading Preprocessor!\n"
     ]
    },
    {
     "name": "stderr",
     "output_type": "stream",
     "text": [
      "\n",
      "|                                                                                          |17/?[00:00<00:00,23.23it/s]\n"
     ]
    },
    {
     "name": "stdout",
     "output_type": "stream",
     "text": [
      "Sampling synthetic data from model \u001b[1mWGGP_WO_05\u001b[0m (55/55)\n",
      "\u001b[32m[1123 13:11:04 @DATSGANModel.py:205]\u001b[0m \u001b[91mCreating cell for age (in-edges: 0; ancestors: 0)\n",
      "\u001b[32m[1123 13:11:04 @DATSGANModel.py:205]\u001b[0m \u001b[91mCreating cell for gender (in-edges: 0; ancestors: 0)\n",
      "\u001b[32m[1123 13:11:04 @DATSGANModel.py:205]\u001b[0m \u001b[91mCreating cell for travel_dow (in-edges: 0; ancestors: 0)\n",
      "\u001b[32m[1123 13:11:04 @DATSGANModel.py:205]\u001b[0m \u001b[91mCreating cell for license (in-edges: 1; ancestors: 1)\n",
      "\u001b[32m[1123 13:11:04 @DATSGANModel.py:205]\u001b[0m \u001b[91mCreating cell for education_level (in-edges: 1; ancestors: 1)\n",
      "\u001b[32m[1123 13:11:05 @DATSGANModel.py:205]\u001b[0m \u001b[91mCreating cell for work_status (in-edges: 2; ancestors: 3)\n",
      "\u001b[32m[1123 13:11:05 @DATSGANModel.py:205]\u001b[0m \u001b[91mCreating cell for hh_income (in-edges: 2; ancestors: 4)\n",
      "\u001b[32m[1123 13:11:05 @DATSGANModel.py:205]\u001b[0m \u001b[91mCreating cell for trip_purpose (in-edges: 1; ancestors: 4)\n",
      "\u001b[32m[1123 13:11:05 @DATSGANModel.py:205]\u001b[0m \u001b[91mCreating cell for hh_descr (in-edges: 2; ancestors: 5)\n",
      "\u001b[32m[1123 13:11:05 @DATSGANModel.py:205]\u001b[0m \u001b[91mCreating cell for hh_size (in-edges: 3; ancestors: 5)\n",
      "\u001b[32m[1123 13:11:05 @DATSGANModel.py:205]\u001b[0m \u001b[91mCreating cell for departure_time (in-edges: 1; ancestors: 5)\n",
      "\u001b[32m[1123 13:11:05 @DATSGANModel.py:205]\u001b[0m \u001b[91mCreating cell for distance (in-edges: 1; ancestors: 5)\n",
      "\u001b[32m[1123 13:11:05 @DATSGANModel.py:205]\u001b[0m \u001b[91mCreating cell for hh_vehicles (in-edges: 2; ancestors: 6)\n",
      "\u001b[32m[1123 13:11:05 @DATSGANModel.py:205]\u001b[0m \u001b[91mCreating cell for hh_bikes (in-edges: 2; ancestors: 6)\n",
      "\u001b[32m[1123 13:11:05 @DATSGANModel.py:205]\u001b[0m \u001b[91mCreating cell for choice (in-edges: 7; ancestors: 13)\n",
      "\u001b[32m[1123 13:11:06 @sessinit.py:87]\u001b[0m \u001b[5m\u001b[31mWRN\u001b[0m The following variables are in the checkpoint, but not found in the graph: global_step, optimize/beta1_power, optimize/beta2_power\n",
      "INFO:tensorflow:Graph was finalized.\n",
      "INFO:tensorflow:Running local_init_op.\n",
      "INFO:tensorflow:Done running local_init_op.\n",
      "\u001b[32m[1123 13:11:07 @sessinit.py:114]\u001b[0m Restoring checkpoint from ../output/Chicago/WGGP_WO_05/model\\model-20399 ...\n",
      "INFO:tensorflow:Restoring parameters from ../output/Chicago/WGGP_WO_05/model\\model-20399\n",
      "\u001b[32m[1123 13:11:07 @DATSGAN.py:266]\u001b[0m Loading Preprocessor!\n"
     ]
    },
    {
     "name": "stderr",
     "output_type": "stream",
     "text": [
      "|                                                                                          |17/?[00:00<00:00,18.14it/s]"
     ]
    },
    {
     "name": "stdout",
     "output_type": "stream",
     "text": [
      "\u001b[32m[1123 13:11:08 @DATSGAN.py:266]\u001b[0m Loading Preprocessor!\n"
     ]
    },
    {
     "name": "stderr",
     "output_type": "stream",
     "text": [
      "\n",
      "|                                                                                          |17/?[00:00<00:00,23.55it/s]"
     ]
    },
    {
     "name": "stdout",
     "output_type": "stream",
     "text": [
      "\u001b[32m[1123 13:11:09 @DATSGAN.py:266]\u001b[0m Loading Preprocessor!\n"
     ]
    },
    {
     "name": "stderr",
     "output_type": "stream",
     "text": [
      "\n",
      "|                                                                                          |17/?[00:00<00:00,23.73it/s]"
     ]
    },
    {
     "name": "stdout",
     "output_type": "stream",
     "text": [
      "\u001b[32m[1123 13:11:09 @DATSGAN.py:266]\u001b[0m Loading Preprocessor!\n"
     ]
    },
    {
     "name": "stderr",
     "output_type": "stream",
     "text": [
      "\n",
      "|                                                                                          |17/?[00:00<00:00,23.62it/s]"
     ]
    },
    {
     "name": "stdout",
     "output_type": "stream",
     "text": [
      "\u001b[32m[1123 13:11:10 @DATSGAN.py:266]\u001b[0m Loading Preprocessor!\n"
     ]
    },
    {
     "name": "stderr",
     "output_type": "stream",
     "text": [
      "\n",
      "|                                                                                          |17/?[00:00<00:00,23.70it/s]"
     ]
    },
    {
     "name": "stdout",
     "output_type": "stream",
     "text": [
      "\u001b[32m[1123 13:11:11 @DATSGAN.py:266]\u001b[0m Loading Preprocessor!\n"
     ]
    },
    {
     "name": "stderr",
     "output_type": "stream",
     "text": [
      "\n",
      "|                                                                                          |17/?[00:00<00:00,23.56it/s]"
     ]
    },
    {
     "name": "stdout",
     "output_type": "stream",
     "text": [
      "\u001b[32m[1123 13:11:12 @DATSGAN.py:266]\u001b[0m Loading Preprocessor!\n"
     ]
    },
    {
     "name": "stderr",
     "output_type": "stream",
     "text": [
      "\n",
      "|                                                                                          |17/?[00:00<00:00,23.17it/s]"
     ]
    },
    {
     "name": "stdout",
     "output_type": "stream",
     "text": [
      "\u001b[32m[1123 13:11:12 @DATSGAN.py:266]\u001b[0m Loading Preprocessor!\n"
     ]
    },
    {
     "name": "stderr",
     "output_type": "stream",
     "text": [
      "\n",
      "|                                                                                          |17/?[00:00<00:00,23.65it/s]"
     ]
    },
    {
     "name": "stdout",
     "output_type": "stream",
     "text": [
      "\u001b[32m[1123 13:11:13 @DATSGAN.py:266]\u001b[0m Loading Preprocessor!\n"
     ]
    },
    {
     "name": "stderr",
     "output_type": "stream",
     "text": [
      "\n",
      "|                                                                                          |17/?[00:00<00:00,23.05it/s]"
     ]
    },
    {
     "name": "stdout",
     "output_type": "stream",
     "text": [
      "\u001b[32m[1123 13:11:14 @DATSGAN.py:266]\u001b[0m Loading Preprocessor!\n"
     ]
    },
    {
     "name": "stderr",
     "output_type": "stream",
     "text": [
      "\n",
      "|                                                                                          |17/?[00:00<00:00,23.41it/s]"
     ]
    },
    {
     "name": "stdout",
     "output_type": "stream",
     "text": [
      "\u001b[32m[1123 13:11:15 @DATSGAN.py:266]\u001b[0m Loading Preprocessor!\n"
     ]
    },
    {
     "name": "stderr",
     "output_type": "stream",
     "text": [
      "\n",
      "|                                                                                          |17/?[00:00<00:00,23.47it/s]"
     ]
    },
    {
     "name": "stdout",
     "output_type": "stream",
     "text": [
      "\u001b[32m[1123 13:11:16 @DATSGAN.py:266]\u001b[0m Loading Preprocessor!\n"
     ]
    },
    {
     "name": "stderr",
     "output_type": "stream",
     "text": [
      "\n",
      "|                                                                                          |17/?[00:00<00:00,22.13it/s]"
     ]
    },
    {
     "name": "stdout",
     "output_type": "stream",
     "text": [
      "\u001b[32m[1123 13:11:16 @DATSGAN.py:266]\u001b[0m Loading Preprocessor!\n"
     ]
    },
    {
     "name": "stderr",
     "output_type": "stream",
     "text": [
      "\n",
      "|                                                                                          |17/?[00:00<00:00,22.79it/s]"
     ]
    },
    {
     "name": "stdout",
     "output_type": "stream",
     "text": [
      "\u001b[32m[1123 13:11:17 @DATSGAN.py:266]\u001b[0m Loading Preprocessor!\n"
     ]
    },
    {
     "name": "stderr",
     "output_type": "stream",
     "text": [
      "\n",
      "|                                                                                          |17/?[00:00<00:00,23.30it/s]"
     ]
    },
    {
     "name": "stdout",
     "output_type": "stream",
     "text": [
      "\u001b[32m[1123 13:11:18 @DATSGAN.py:266]\u001b[0m Loading Preprocessor!\n"
     ]
    },
    {
     "name": "stderr",
     "output_type": "stream",
     "text": [
      "\n",
      "|                                                                                          |17/?[00:00<00:00,23.47it/s]\n"
     ]
    },
    {
     "name": "stdout",
     "output_type": "stream",
     "text": [
      "\u001b[1mFINISHED!\u001b[0m\n"
     ]
    }
   ],
   "source": [
    "for i, m in enumerate(models):\n",
    "    \n",
    "    name = m.split('_')[0]\n",
    "    \n",
    "    print(\"Sampling synthetic data from model \\033[1m{}\\033[0m ({}/{})\".format(m, i+1, len(models)))\n",
    "\n",
    "    \n",
    "    model = None\n",
    "\n",
    "    if 'CTGAN' in name:\n",
    "        import ctgan\n",
    "        from ctgan import CTGANSynthesizer\n",
    "        \n",
    "        ctgan = CTGANSynthesizer()\n",
    "        model = ctgan.load(input_folder + m + '/trained.pickle')\n",
    "\n",
    "    elif 'TGAN' in name:\n",
    "        from tgan.model import TGANModel\n",
    "        model = TGANModel.load(input_folder + m + '/trained.pickle')\n",
    "    else:\n",
    "\n",
    "        LIB = None\n",
    "\n",
    "        if 'WGAN' in name:\n",
    "            from modules.datgan import DATWGAN as LIB\n",
    "        if any(x in name for x in ('WGANGP','WGGP')) :\n",
    "            from modules.datgan import DATWGANGP as LIB\n",
    "        elif 'SGAN' in name:\n",
    "            from modules.datgan import DATSGAN as LIB\n",
    "        else:\n",
    "            from modules.datgan import DATWGAN as LIB\n",
    "\n",
    "        model = LIB.load(input_folder + m + '/', 'trained')\n",
    "    \n",
    "    for k in range(n_data):\n",
    "            \n",
    "        if is_a_DATGAN(name):   \n",
    "            for samp_type in ['NO', 'BO', 'OD']:\n",
    "                samples = model.sample(len(df), samp_type)\n",
    "                \n",
    "                samples = round_some_vars(samples, dataset)\n",
    "                \n",
    "                if n_data == 1:\n",
    "                    samples.to_csv(output_folder + m + '_{}.csv'.format(samp_type), index=False)\n",
    "                else:\n",
    "                    samples.to_csv(output_folder + m + '_{}_{:0>2d}.csv'.format(samp_type, k+1), index=False)\n",
    "        else:\n",
    "            samples = model.sample(len(df))\n",
    "\n",
    "            samples = round_some_vars(samples, dataset)\n",
    "\n",
    "            if n_data == 1:\n",
    "                samples.to_csv(output_folder + m + '.csv', index=False)\n",
    "            else:\n",
    "                samples.to_csv(output_folder + m + '_{:0>2d}.csv'.format(k+1), index=False)\n",
    "                \n",
    "print(\"\\033[1mFINISHED!\\033[0m\")"
   ]
  },
  {
   "cell_type": "code",
   "execution_count": null,
   "metadata": {},
   "outputs": [],
   "source": []
  }
 ],
 "metadata": {
  "kernelspec": {
   "display_name": "Python 3",
   "language": "python",
   "name": "python3"
  },
  "language_info": {
   "codemirror_mode": {
    "name": "ipython",
    "version": 3
   },
   "file_extension": ".py",
   "mimetype": "text/x-python",
   "name": "python",
   "nbconvert_exporter": "python",
   "pygments_lexer": "ipython3",
   "version": "3.7.9"
  }
 },
 "nbformat": 4,
 "nbformat_minor": 4
}
