{
 "cells": [
  {
   "cell_type": "code",
   "execution_count": 1,
   "metadata": {},
   "outputs": [],
   "source": [
    "import os\n",
    "os.chdir('../..')"
   ]
  },
  {
   "cell_type": "code",
   "execution_count": 2,
   "metadata": {},
   "outputs": [],
   "source": [
    "from platform import python_version\n",
    "print(python_version())"
   ]
  },
  {
   "cell_type": "code",
   "execution_count": 3,
   "metadata": {},
   "outputs": [],
   "source": [
    "import numpy as np\n",
    "import pandas as pd\n",
    "import json\n",
    "import sys\n",
    "\n",
    "import matplotlib.pyplot as plt\n",
    "\n",
    "# For the Python notebook\n",
    "%matplotlib inline\n",
    "%reload_ext autoreload\n",
    "%autoreload 2"
   ]
  },
  {
   "cell_type": "code",
   "execution_count": 4,
   "metadata": {},
   "outputs": [],
   "source": [
    "dataset = 'Chicago'\n",
    "n_models = 5\n",
    "n_data = 5\n",
    "\n",
    "models = ['TGAN', 'CTGAN']\n",
    "\n",
    "for i in ['WGAN', 'SGAN', 'WGGP']:\n",
    "    for j in ['WI', 'OR', 'WO']:\n",
    "        models.append('{}_{}'.format(i,j))\n",
    "\n",
    "if n_models > 1:\n",
    "    tmp = []\n",
    "    \n",
    "    for i in range(n_models):\n",
    "        for m in models:\n",
    "            tmp.append(m + '_{:0>2d}'.format(i+1))\n",
    "        \n",
    "    tmp.sort()\n",
    "    models = tmp"
   ]
  },
  {
   "cell_type": "code",
   "execution_count": 5,
   "metadata": {},
   "outputs": [],
   "source": [
    "df = pd.read_csv('../data/' + dataset + '/data.csv')"
   ]
  },
  {
   "cell_type": "code",
   "execution_count": 6,
   "metadata": {},
   "outputs": [],
   "source": [
    "input_folder = '../output/' + dataset + '/'\n",
    "output_folder = '../synth_data/' + dataset + '/'"
   ]
  },
  {
   "cell_type": "code",
   "execution_count": 7,
   "metadata": {},
   "outputs": [],
   "source": [
    "def is_a_DATGAN(name):\n",
    "    if 'TGAN' in name or 'CTGAN' in name:\n",
    "        return False\n",
    "    else:\n",
    "        return True\n",
    "    \n",
    "def round_some_vars(samples, dataset):\n",
    "    if dataset is 'Chicago':\n",
    "        samples.age = np.round(samples.age)\n",
    "    elif dataset is 'LPMC':\n",
    "        samples.age = np.round(samples.age)\n",
    "        samples.distance = np.round(samples.distance)\n",
    "        \n",
    "    return samples"
   ]
  },
  {
   "cell_type": "code",
   "execution_count": 8,
   "metadata": {
    "scrolled": true
   },
   "outputs": [
    {
     "name": "stdout",
     "output_type": "stream",
     "text": [
      "Sampling synthetic data from model \u001b[1mCTGAN_01\u001b[0m (1/55)\n",
      "Sampling synthetic data from model \u001b[1mCTGAN_02\u001b[0m (2/55)\n",
      "Sampling synthetic data from model \u001b[1mCTGAN_03\u001b[0m (3/55)\n",
      "Sampling synthetic data from model \u001b[1mCTGAN_04\u001b[0m (4/55)\n",
      "Sampling synthetic data from model \u001b[1mCTGAN_05\u001b[0m (5/55)\n",
      "Sampling synthetic data from model \u001b[1mSGAN_OR_01\u001b[0m (6/55)\n",
      "WARNING:tensorflow:From D:\\Users\\glede\\anaconda3\\envs\\py37\\lib\\site-packages\\tensorpack\\callbacks\\hooks.py:17: The name tf.train.SessionRunHook is deprecated. Please use tf.estimator.SessionRunHook instead.\n",
      "\n",
      "WARNING:tensorflow:From D:\\Users\\glede\\anaconda3\\envs\\py37\\lib\\site-packages\\tensorpack\\tfutils\\optimizer.py:18: The name tf.train.Optimizer is deprecated. Please use tf.compat.v1.train.Optimizer instead.\n",
      "\n",
      "WARNING:tensorflow:From D:\\Users\\glede\\anaconda3\\envs\\py37\\lib\\site-packages\\tensorpack\\tfutils\\sesscreate.py:20: The name tf.train.SessionCreator is deprecated. Please use tf.compat.v1.train.SessionCreator instead.\n",
      "\n",
      "WARNING:tensorflow:From D:\\Users\\glede\\anaconda3\\envs\\py37\\lib\\site-packages\\tensorpack\\tfutils\\varmanip.py:178: The name tf.gfile.Exists is deprecated. Please use tf.io.gfile.exists instead.\n",
      "\n",
      "WARNING:tensorflow:From D:\\Users\\glede\\anaconda3\\envs\\py37\\lib\\site-packages\\tensorpack\\predict\\config.py:101: The name tf.train.ChiefSessionCreator is deprecated. Please use tf.compat.v1.train.ChiefSessionCreator instead.\n",
      "\n",
      "WARNING:tensorflow:From D:\\Users\\glede\\anaconda3\\envs\\py37\\lib\\site-packages\\tensorpack\\tfutils\\common.py:41: The name tf.ConfigProto is deprecated. Please use tf.compat.v1.ConfigProto instead.\n",
      "\n",
      "WARNING:tensorflow:From D:\\Users\\glede\\anaconda3\\envs\\py37\\lib\\site-packages\\tensorpack\\graph_builder\\model_desc.py:29: The name tf.get_default_graph is deprecated. Please use tf.compat.v1.get_default_graph instead.\n",
      "\n",
      "WARNING:tensorflow:From D:\\Users\\glede\\anaconda3\\envs\\py37\\lib\\site-packages\\tensorpack\\graph_builder\\model_desc.py:39: The name tf.placeholder is deprecated. Please use tf.compat.v1.placeholder instead.\n",
      "\n",
      "WARNING:tensorflow:From D:\\Users\\glede\\anaconda3\\envs\\py37\\lib\\site-packages\\tensorpack\\tfutils\\tower.py:204: The name tf.get_variable_scope is deprecated. Please use tf.compat.v1.get_variable_scope instead.\n",
      "\n",
      "WARNING:tensorflow:From D:\\Users\\glede\\anaconda3\\envs\\py37\\lib\\site-packages\\tensorpack\\tfutils\\tower.py:216: The name tf.GraphKeys is deprecated. Please use tf.compat.v1.GraphKeys instead.\n",
      "\n",
      "WARNING:tensorflow:From D:\\Users\\glede\\anaconda3\\envs\\py37\\lib\\site-packages\\tensorpack\\tfutils\\tower.py:101: The name tf.variable_scope is deprecated. Please use tf.compat.v1.variable_scope instead.\n",
      "\n",
      "WARNING:tensorflow:From D:\\Users\\glede\\anaconda3\\envs\\py37\\lib\\site-packages\\tensorpack\\tfutils\\collection.py:33: The name tf.get_collection is deprecated. Please use tf.compat.v1.get_collection instead.\n",
      "\n",
      "WARNING:tensorflow:From C:\\Users\\glede\\Documents\\EPFL\\PhD\\SynthPop\\code\\modules\\datgan\\models\\DATSGANModel.py:517: The name tf.random_normal is deprecated. Please use tf.random.normal instead.\n",
      "\n",
      "WARNING:tensorflow:From C:\\Users\\glede\\Documents\\EPFL\\PhD\\SynthPop\\code\\modules\\datgan\\models\\DATSGANModel.py:518: The name tf.placeholder_with_default is deprecated. Please use tf.compat.v1.placeholder_with_default instead.\n",
      "\n",
      "WARNING:tensorflow:From C:\\Users\\glede\\Documents\\EPFL\\PhD\\SynthPop\\code\\modules\\datgan\\models\\DATSGANModel.py:207: LSTMCell.__init__ (from tensorflow.python.ops.rnn_cell_impl) is deprecated and will be removed in a future version.\n",
      "Instructions for updating:\n",
      "This class is equivalent as tf.keras.layers.LSTMCell, and will be replaced by that in Tensorflow 2.0.\n",
      "\u001b[32m[1201 15:26:59 @DATSGANModel.py:213]\u001b[0m \u001b[91mCreating cell for age (in-edges: 0; ancestors: 0)\n",
      "WARNING:tensorflow:From C:\\Users\\glede\\Documents\\EPFL\\PhD\\SynthPop\\code\\modules\\datgan\\models\\DATSGANModel.py:224: The name tf.get_variable is deprecated. Please use tf.compat.v1.get_variable instead.\n",
      "\n",
      "WARNING:tensorflow:From D:\\Users\\glede\\anaconda3\\envs\\py37\\lib\\site-packages\\tensorflow_core\\python\\ops\\rnn_cell_impl.py:958: Layer.add_variable (from tensorflow.python.keras.engine.base_layer) is deprecated and will be removed in a future version.\n",
      "Instructions for updating:\n",
      "Please use `layer.add_weight` method instead.\n",
      "WARNING:tensorflow:From D:\\Users\\glede\\anaconda3\\envs\\py37\\lib\\site-packages\\tensorflow_core\\python\\ops\\rnn_cell_impl.py:962: calling Zeros.__init__ (from tensorflow.python.ops.init_ops) with dtype is deprecated and will be removed in a future version.\n",
      "Instructions for updating:\n",
      "Call initializer instance with the dtype argument instead of passing it to the constructor\n",
      "\u001b[32m[1201 15:26:59 @registry.py:126]\u001b[0m gen/LSTM/age/FC input: [500, 100]\n",
      "WARNING:tensorflow:From D:\\Users\\glede\\anaconda3\\envs\\py37\\lib\\site-packages\\tensorpack\\models\\fc.py:57: The name tf.layers.Dense is deprecated. Please use tf.compat.v1.layers.Dense instead.\n",
      "\n",
      "WARNING:tensorflow:From D:\\Users\\glede\\anaconda3\\envs\\py37\\lib\\site-packages\\tensorpack\\models\\fc.py:67: Layer.apply (from tensorflow.python.keras.engine.base_layer) is deprecated and will be removed in a future version.\n",
      "Instructions for updating:\n",
      "Please use `layer.__call__` method instead.\n",
      "\u001b[32m[1201 15:26:59 @registry.py:134]\u001b[0m gen/LSTM/age/FC output: [500, 50]\n",
      "\u001b[32m[1201 15:26:59 @registry.py:126]\u001b[0m gen/LSTM/age/FC_val input: [500, 50]\n",
      "\u001b[32m[1201 15:26:59 @registry.py:134]\u001b[0m gen/LSTM/age/FC_val output: [500, 5]\n",
      "\u001b[32m[1201 15:26:59 @registry.py:126]\u001b[0m gen/LSTM/age/FC_prob input: [500, 50]\n",
      "\u001b[32m[1201 15:26:59 @registry.py:134]\u001b[0m gen/LSTM/age/FC_prob output: [500, 5]\n",
      "\u001b[32m[1201 15:26:59 @registry.py:126]\u001b[0m gen/LSTM/age/FC_input input: [500, 10]\n",
      "\u001b[32m[1201 15:26:59 @registry.py:134]\u001b[0m gen/LSTM/age/FC_input output: [500, 100]\n",
      "\u001b[32m[1201 15:26:59 @DATSGANModel.py:213]\u001b[0m \u001b[91mCreating cell for gender (in-edges: 0; ancestors: 0)\n",
      "\u001b[32m[1201 15:26:59 @registry.py:126]\u001b[0m gen/LSTM/gender/FC input: [500, 100]\n",
      "\u001b[32m[1201 15:26:59 @registry.py:134]\u001b[0m gen/LSTM/gender/FC output: [500, 50]\n",
      "\u001b[32m[1201 15:26:59 @registry.py:126]\u001b[0m gen/LSTM/gender/FC_prob input: [500, 50]\n",
      "\u001b[32m[1201 15:26:59 @registry.py:134]\u001b[0m gen/LSTM/gender/FC_prob output: [500, 2]\n",
      "\u001b[32m[1201 15:26:59 @registry.py:126]\u001b[0m gen/LSTM/gender/FC_input input: [500, 2]\n",
      "\u001b[32m[1201 15:26:59 @registry.py:134]\u001b[0m gen/LSTM/gender/FC_input output: [500, 100]\n",
      "\u001b[32m[1201 15:26:59 @DATSGANModel.py:213]\u001b[0m \u001b[91mCreating cell for travel_dow (in-edges: 0; ancestors: 0)\n",
      "\u001b[32m[1201 15:26:59 @registry.py:126]\u001b[0m gen/LSTM/travel_dow/FC input: [500, 100]\n",
      "\u001b[32m[1201 15:26:59 @registry.py:134]\u001b[0m gen/LSTM/travel_dow/FC output: [500, 50]\n",
      "\u001b[32m[1201 15:26:59 @registry.py:126]\u001b[0m gen/LSTM/travel_dow/FC_prob input: [500, 50]\n",
      "\u001b[32m[1201 15:26:59 @registry.py:134]\u001b[0m gen/LSTM/travel_dow/FC_prob output: [500, 7]\n",
      "\u001b[32m[1201 15:26:59 @registry.py:126]\u001b[0m gen/LSTM/travel_dow/FC_input input: [500, 7]\n",
      "\u001b[32m[1201 15:26:59 @registry.py:134]\u001b[0m gen/LSTM/travel_dow/FC_input output: [500, 100]\n",
      "\u001b[32m[1201 15:26:59 @DATSGANModel.py:213]\u001b[0m \u001b[91mCreating cell for license (in-edges: 1; ancestors: 1)\n",
      "WARNING:tensorflow:From C:\\Users\\glede\\Documents\\EPFL\\PhD\\SynthPop\\code\\modules\\datgan\\models\\DATSGANModel.py:233: The name tf.nn.rnn_cell.LSTMStateTuple is deprecated. Please use tf.compat.v1.nn.rnn_cell.LSTMStateTuple instead.\n",
      "\n",
      "\u001b[32m[1201 15:26:59 @registry.py:126]\u001b[0m gen/LSTM/license/FC input: [500, 100]\n",
      "\u001b[32m[1201 15:26:59 @registry.py:134]\u001b[0m gen/LSTM/license/FC output: [500, 50]\n",
      "\u001b[32m[1201 15:26:59 @registry.py:126]\u001b[0m gen/LSTM/license/FC_prob input: [500, 50]\n",
      "\u001b[32m[1201 15:26:59 @registry.py:134]\u001b[0m gen/LSTM/license/FC_prob output: [500, 2]\n",
      "\u001b[32m[1201 15:26:59 @registry.py:126]\u001b[0m gen/LSTM/license/FC_input input: [500, 2]\n",
      "\u001b[32m[1201 15:26:59 @registry.py:134]\u001b[0m gen/LSTM/license/FC_input output: [500, 100]\n",
      "\u001b[32m[1201 15:26:59 @DATSGANModel.py:213]\u001b[0m \u001b[91mCreating cell for education_level (in-edges: 1; ancestors: 1)\n",
      "\u001b[32m[1201 15:27:00 @registry.py:126]\u001b[0m gen/LSTM/education_level/FC input: [500, 100]\n",
      "\u001b[32m[1201 15:27:00 @registry.py:134]\u001b[0m gen/LSTM/education_level/FC output: [500, 50]\n",
      "\u001b[32m[1201 15:27:00 @registry.py:126]\u001b[0m gen/LSTM/education_level/FC_prob input: [500, 50]\n",
      "\u001b[32m[1201 15:27:00 @registry.py:134]\u001b[0m gen/LSTM/education_level/FC_prob output: [500, 6]\n"
     ]
    },
    {
     "name": "stdout",
     "output_type": "stream",
     "text": [
      "\u001b[32m[1201 15:27:00 @registry.py:126]\u001b[0m gen/LSTM/education_level/FC_input input: [500, 6]\n",
      "\u001b[32m[1201 15:27:00 @registry.py:134]\u001b[0m gen/LSTM/education_level/FC_input output: [500, 100]\n",
      "\u001b[32m[1201 15:27:00 @DATSGANModel.py:213]\u001b[0m \u001b[91mCreating cell for work_status (in-edges: 2; ancestors: 3)\n",
      "\u001b[32m[1201 15:27:00 @registry.py:126]\u001b[0m gen/LSTM/concat-work_status/FC_inputs input: [500, 200]\n",
      "\u001b[32m[1201 15:27:00 @registry.py:134]\u001b[0m gen/LSTM/concat-work_status/FC_inputs output: [500, 100]\n",
      "\u001b[32m[1201 15:27:00 @registry.py:126]\u001b[0m gen/LSTM/concat-work_status/FC_states input: [500, 200]\n",
      "\u001b[32m[1201 15:27:00 @registry.py:134]\u001b[0m gen/LSTM/concat-work_status/FC_states output: [500, 100]\n",
      "\u001b[32m[1201 15:27:00 @registry.py:126]\u001b[0m gen/LSTM/concat-work_status/FC_h_outputs input: [500, 200]\n",
      "\u001b[32m[1201 15:27:00 @registry.py:134]\u001b[0m gen/LSTM/concat-work_status/FC_h_outputs output: [500, 100]\n",
      "\u001b[32m[1201 15:27:00 @registry.py:126]\u001b[0m gen/LSTM/age-gender/FC_noise input: [None, 400]\n",
      "\u001b[32m[1201 15:27:00 @registry.py:134]\u001b[0m gen/LSTM/age-gender/FC_noise output: [None, 200]\n",
      "\u001b[32m[1201 15:27:00 @registry.py:126]\u001b[0m gen/LSTM/work_status/FC input: [500, 100]\n",
      "\u001b[32m[1201 15:27:00 @registry.py:134]\u001b[0m gen/LSTM/work_status/FC output: [500, 50]\n",
      "\u001b[32m[1201 15:27:00 @registry.py:126]\u001b[0m gen/LSTM/work_status/FC_prob input: [500, 50]\n",
      "\u001b[32m[1201 15:27:00 @registry.py:134]\u001b[0m gen/LSTM/work_status/FC_prob output: [500, 8]\n",
      "\u001b[32m[1201 15:27:00 @registry.py:126]\u001b[0m gen/LSTM/work_status/FC_input input: [500, 8]\n",
      "\u001b[32m[1201 15:27:00 @registry.py:134]\u001b[0m gen/LSTM/work_status/FC_input output: [500, 100]\n",
      "\u001b[32m[1201 15:27:00 @DATSGANModel.py:213]\u001b[0m \u001b[91mCreating cell for hh_income (in-edges: 2; ancestors: 4)\n",
      "\u001b[32m[1201 15:27:00 @registry.py:126]\u001b[0m gen/LSTM/concat-hh_income/FC_inputs input: [500, 200]\n",
      "\u001b[32m[1201 15:27:00 @registry.py:134]\u001b[0m gen/LSTM/concat-hh_income/FC_inputs output: [500, 100]\n",
      "\u001b[32m[1201 15:27:00 @registry.py:126]\u001b[0m gen/LSTM/concat-hh_income/FC_states input: [500, 200]\n",
      "\u001b[32m[1201 15:27:00 @registry.py:134]\u001b[0m gen/LSTM/concat-hh_income/FC_states output: [500, 100]\n",
      "\u001b[32m[1201 15:27:00 @registry.py:126]\u001b[0m gen/LSTM/concat-hh_income/FC_h_outputs input: [500, 200]\n",
      "\u001b[32m[1201 15:27:00 @registry.py:134]\u001b[0m gen/LSTM/concat-hh_income/FC_h_outputs output: [500, 100]\n",
      "\u001b[32m[1201 15:27:00 @registry.py:126]\u001b[0m gen/LSTM/hh_income/FC input: [500, 100]\n",
      "\u001b[32m[1201 15:27:00 @registry.py:134]\u001b[0m gen/LSTM/hh_income/FC output: [500, 50]\n",
      "\u001b[32m[1201 15:27:00 @registry.py:126]\u001b[0m gen/LSTM/hh_income/FC_prob input: [500, 50]\n",
      "\u001b[32m[1201 15:27:00 @registry.py:134]\u001b[0m gen/LSTM/hh_income/FC_prob output: [500, 7]\n",
      "\u001b[32m[1201 15:27:00 @registry.py:126]\u001b[0m gen/LSTM/hh_income/FC_input input: [500, 7]\n",
      "\u001b[32m[1201 15:27:00 @registry.py:134]\u001b[0m gen/LSTM/hh_income/FC_input output: [500, 100]\n",
      "\u001b[32m[1201 15:27:00 @DATSGANModel.py:213]\u001b[0m \u001b[91mCreating cell for trip_purpose (in-edges: 1; ancestors: 4)\n",
      "\u001b[32m[1201 15:27:00 @registry.py:126]\u001b[0m gen/LSTM/trip_purpose/FC input: [500, 100]\n",
      "\u001b[32m[1201 15:27:00 @registry.py:134]\u001b[0m gen/LSTM/trip_purpose/FC output: [500, 50]\n",
      "\u001b[32m[1201 15:27:00 @registry.py:126]\u001b[0m gen/LSTM/trip_purpose/FC_prob input: [500, 50]\n",
      "\u001b[32m[1201 15:27:00 @registry.py:134]\u001b[0m gen/LSTM/trip_purpose/FC_prob output: [500, 7]\n",
      "\u001b[32m[1201 15:27:00 @registry.py:126]\u001b[0m gen/LSTM/trip_purpose/FC_input input: [500, 7]\n",
      "\u001b[32m[1201 15:27:00 @registry.py:134]\u001b[0m gen/LSTM/trip_purpose/FC_input output: [500, 100]\n",
      "\u001b[32m[1201 15:27:00 @DATSGANModel.py:213]\u001b[0m \u001b[91mCreating cell for hh_descr (in-edges: 2; ancestors: 5)\n",
      "\u001b[32m[1201 15:27:00 @registry.py:126]\u001b[0m gen/LSTM/concat-hh_descr/FC_inputs input: [500, 200]\n",
      "\u001b[32m[1201 15:27:00 @registry.py:134]\u001b[0m gen/LSTM/concat-hh_descr/FC_inputs output: [500, 100]\n",
      "\u001b[32m[1201 15:27:00 @registry.py:126]\u001b[0m gen/LSTM/concat-hh_descr/FC_states input: [500, 200]\n",
      "\u001b[32m[1201 15:27:00 @registry.py:134]\u001b[0m gen/LSTM/concat-hh_descr/FC_states output: [500, 100]\n",
      "\u001b[32m[1201 15:27:00 @registry.py:126]\u001b[0m gen/LSTM/concat-hh_descr/FC_h_outputs input: [500, 200]\n",
      "\u001b[32m[1201 15:27:00 @registry.py:134]\u001b[0m gen/LSTM/concat-hh_descr/FC_h_outputs output: [500, 100]\n",
      "\u001b[32m[1201 15:27:00 @registry.py:126]\u001b[0m gen/LSTM/hh_descr/FC input: [500, 100]\n",
      "\u001b[32m[1201 15:27:00 @registry.py:134]\u001b[0m gen/LSTM/hh_descr/FC output: [500, 50]\n",
      "\u001b[32m[1201 15:27:00 @registry.py:126]\u001b[0m gen/LSTM/hh_descr/FC_prob input: [500, 50]\n",
      "\u001b[32m[1201 15:27:00 @registry.py:134]\u001b[0m gen/LSTM/hh_descr/FC_prob output: [500, 3]\n",
      "\u001b[32m[1201 15:27:00 @registry.py:126]\u001b[0m gen/LSTM/hh_descr/FC_input input: [500, 3]\n",
      "\u001b[32m[1201 15:27:00 @registry.py:134]\u001b[0m gen/LSTM/hh_descr/FC_input output: [500, 100]\n",
      "\u001b[32m[1201 15:27:00 @DATSGANModel.py:213]\u001b[0m \u001b[91mCreating cell for hh_size (in-edges: 3; ancestors: 5)\n",
      "\u001b[32m[1201 15:27:00 @registry.py:126]\u001b[0m gen/LSTM/concat-hh_size/FC_inputs input: [500, 300]\n",
      "\u001b[32m[1201 15:27:00 @registry.py:134]\u001b[0m gen/LSTM/concat-hh_size/FC_inputs output: [500, 100]\n",
      "\u001b[32m[1201 15:27:00 @registry.py:126]\u001b[0m gen/LSTM/concat-hh_size/FC_states input: [500, 300]\n",
      "\u001b[32m[1201 15:27:00 @registry.py:134]\u001b[0m gen/LSTM/concat-hh_size/FC_states output: [500, 100]\n",
      "\u001b[32m[1201 15:27:00 @registry.py:126]\u001b[0m gen/LSTM/concat-hh_size/FC_h_outputs input: [500, 300]\n",
      "\u001b[32m[1201 15:27:00 @registry.py:134]\u001b[0m gen/LSTM/concat-hh_size/FC_h_outputs output: [500, 100]\n",
      "\u001b[32m[1201 15:27:00 @registry.py:126]\u001b[0m gen/LSTM/hh_size/FC input: [500, 100]\n",
      "\u001b[32m[1201 15:27:00 @registry.py:134]\u001b[0m gen/LSTM/hh_size/FC output: [500, 50]\n",
      "\u001b[32m[1201 15:27:00 @registry.py:126]\u001b[0m gen/LSTM/hh_size/FC_prob input: [500, 50]\n",
      "\u001b[32m[1201 15:27:00 @registry.py:134]\u001b[0m gen/LSTM/hh_size/FC_prob output: [500, 8]\n",
      "\u001b[32m[1201 15:27:00 @registry.py:126]\u001b[0m gen/LSTM/hh_size/FC_input input: [500, 8]\n",
      "\u001b[32m[1201 15:27:00 @registry.py:134]\u001b[0m gen/LSTM/hh_size/FC_input output: [500, 100]\n",
      "\u001b[32m[1201 15:27:00 @DATSGANModel.py:213]\u001b[0m \u001b[91mCreating cell for departure_time (in-edges: 1; ancestors: 5)\n",
      "\u001b[32m[1201 15:27:00 @registry.py:126]\u001b[0m gen/LSTM/departure_time/FC input: [500, 100]\n",
      "\u001b[32m[1201 15:27:00 @registry.py:134]\u001b[0m gen/LSTM/departure_time/FC output: [500, 50]\n",
      "\u001b[32m[1201 15:27:00 @registry.py:126]\u001b[0m gen/LSTM/departure_time/FC_val input: [500, 50]\n",
      "\u001b[32m[1201 15:27:00 @registry.py:134]\u001b[0m gen/LSTM/departure_time/FC_val output: [500, 7]\n",
      "\u001b[32m[1201 15:27:00 @registry.py:126]\u001b[0m gen/LSTM/departure_time/FC_prob input: [500, 50]\n",
      "\u001b[32m[1201 15:27:00 @registry.py:134]\u001b[0m gen/LSTM/departure_time/FC_prob output: [500, 7]\n",
      "\u001b[32m[1201 15:27:00 @registry.py:126]\u001b[0m gen/LSTM/departure_time/FC_input input: [500, 14]\n",
      "\u001b[32m[1201 15:27:00 @registry.py:134]\u001b[0m gen/LSTM/departure_time/FC_input output: [500, 100]\n",
      "\u001b[32m[1201 15:27:00 @DATSGANModel.py:213]\u001b[0m \u001b[91mCreating cell for distance (in-edges: 1; ancestors: 5)\n",
      "\u001b[32m[1201 15:27:00 @registry.py:126]\u001b[0m gen/LSTM/distance/FC input: [500, 100]\n",
      "\u001b[32m[1201 15:27:00 @registry.py:134]\u001b[0m gen/LSTM/distance/FC output: [500, 50]\n",
      "\u001b[32m[1201 15:27:00 @registry.py:126]\u001b[0m gen/LSTM/distance/FC_val input: [500, 50]\n",
      "\u001b[32m[1201 15:27:00 @registry.py:134]\u001b[0m gen/LSTM/distance/FC_val output: [500, 7]\n",
      "\u001b[32m[1201 15:27:00 @registry.py:126]\u001b[0m gen/LSTM/distance/FC_prob input: [500, 50]\n",
      "\u001b[32m[1201 15:27:00 @registry.py:134]\u001b[0m gen/LSTM/distance/FC_prob output: [500, 7]\n",
      "\u001b[32m[1201 15:27:00 @registry.py:126]\u001b[0m gen/LSTM/distance/FC_input input: [500, 14]\n",
      "\u001b[32m[1201 15:27:00 @registry.py:134]\u001b[0m gen/LSTM/distance/FC_input output: [500, 100]\n",
      "\u001b[32m[1201 15:27:00 @DATSGANModel.py:213]\u001b[0m \u001b[91mCreating cell for hh_vehicles (in-edges: 2; ancestors: 6)\n",
      "\u001b[32m[1201 15:27:00 @registry.py:126]\u001b[0m gen/LSTM/concat-hh_vehicles/FC_inputs input: [500, 200]\n",
      "\u001b[32m[1201 15:27:00 @registry.py:134]\u001b[0m gen/LSTM/concat-hh_vehicles/FC_inputs output: [500, 100]\n",
      "\u001b[32m[1201 15:27:00 @registry.py:126]\u001b[0m gen/LSTM/concat-hh_vehicles/FC_states input: [500, 200]\n",
      "\u001b[32m[1201 15:27:00 @registry.py:134]\u001b[0m gen/LSTM/concat-hh_vehicles/FC_states output: [500, 100]\n",
      "\u001b[32m[1201 15:27:00 @registry.py:126]\u001b[0m gen/LSTM/concat-hh_vehicles/FC_h_outputs input: [500, 200]\n",
      "\u001b[32m[1201 15:27:00 @registry.py:134]\u001b[0m gen/LSTM/concat-hh_vehicles/FC_h_outputs output: [500, 100]\n",
      "\u001b[32m[1201 15:27:00 @registry.py:126]\u001b[0m gen/LSTM/hh_vehicles/FC input: [500, 100]\n"
     ]
    },
    {
     "name": "stdout",
     "output_type": "stream",
     "text": [
      "\u001b[32m[1201 15:27:00 @registry.py:134]\u001b[0m gen/LSTM/hh_vehicles/FC output: [500, 50]\n",
      "\u001b[32m[1201 15:27:00 @registry.py:126]\u001b[0m gen/LSTM/hh_vehicles/FC_prob input: [500, 50]\n",
      "\u001b[32m[1201 15:27:00 @registry.py:134]\u001b[0m gen/LSTM/hh_vehicles/FC_prob output: [500, 9]\n",
      "\u001b[32m[1201 15:27:00 @registry.py:126]\u001b[0m gen/LSTM/hh_vehicles/FC_input input: [500, 9]\n",
      "\u001b[32m[1201 15:27:00 @registry.py:134]\u001b[0m gen/LSTM/hh_vehicles/FC_input output: [500, 100]\n",
      "\u001b[32m[1201 15:27:00 @DATSGANModel.py:213]\u001b[0m \u001b[91mCreating cell for hh_bikes (in-edges: 2; ancestors: 6)\n",
      "\u001b[32m[1201 15:27:00 @registry.py:126]\u001b[0m gen/LSTM/concat-hh_bikes/FC_inputs input: [500, 200]\n",
      "\u001b[32m[1201 15:27:00 @registry.py:134]\u001b[0m gen/LSTM/concat-hh_bikes/FC_inputs output: [500, 100]\n",
      "\u001b[32m[1201 15:27:00 @registry.py:126]\u001b[0m gen/LSTM/concat-hh_bikes/FC_states input: [500, 200]\n",
      "\u001b[32m[1201 15:27:00 @registry.py:134]\u001b[0m gen/LSTM/concat-hh_bikes/FC_states output: [500, 100]\n",
      "\u001b[32m[1201 15:27:00 @registry.py:126]\u001b[0m gen/LSTM/concat-hh_bikes/FC_h_outputs input: [500, 200]\n",
      "\u001b[32m[1201 15:27:00 @registry.py:134]\u001b[0m gen/LSTM/concat-hh_bikes/FC_h_outputs output: [500, 100]\n",
      "\u001b[32m[1201 15:27:00 @registry.py:126]\u001b[0m gen/LSTM/hh_bikes/FC input: [500, 100]\n",
      "\u001b[32m[1201 15:27:00 @registry.py:134]\u001b[0m gen/LSTM/hh_bikes/FC output: [500, 50]\n",
      "\u001b[32m[1201 15:27:00 @registry.py:126]\u001b[0m gen/LSTM/hh_bikes/FC_prob input: [500, 50]\n",
      "\u001b[32m[1201 15:27:00 @registry.py:134]\u001b[0m gen/LSTM/hh_bikes/FC_prob output: [500, 8]\n",
      "\u001b[32m[1201 15:27:00 @registry.py:126]\u001b[0m gen/LSTM/hh_bikes/FC_input input: [500, 8]\n",
      "\u001b[32m[1201 15:27:00 @registry.py:134]\u001b[0m gen/LSTM/hh_bikes/FC_input output: [500, 100]\n",
      "\u001b[32m[1201 15:27:00 @DATSGANModel.py:213]\u001b[0m \u001b[91mCreating cell for choice (in-edges: 7; ancestors: 13)\n",
      "\u001b[32m[1201 15:27:00 @registry.py:126]\u001b[0m gen/LSTM/concat-choice/FC_inputs input: [500, 700]\n",
      "\u001b[32m[1201 15:27:00 @registry.py:134]\u001b[0m gen/LSTM/concat-choice/FC_inputs output: [500, 100]\n",
      "\u001b[32m[1201 15:27:00 @registry.py:126]\u001b[0m gen/LSTM/concat-choice/FC_states input: [500, 700]\n",
      "\u001b[32m[1201 15:27:00 @registry.py:134]\u001b[0m gen/LSTM/concat-choice/FC_states output: [500, 100]\n",
      "\u001b[32m[1201 15:27:00 @registry.py:126]\u001b[0m gen/LSTM/concat-choice/FC_h_outputs input: [500, 700]\n",
      "\u001b[32m[1201 15:27:00 @registry.py:134]\u001b[0m gen/LSTM/concat-choice/FC_h_outputs output: [500, 100]\n",
      "\u001b[32m[1201 15:27:00 @registry.py:126]\u001b[0m gen/LSTM/age-gender-travel_dow/FC_noise input: [None, 600]\n",
      "\u001b[32m[1201 15:27:00 @registry.py:134]\u001b[0m gen/LSTM/age-gender-travel_dow/FC_noise output: [None, 200]\n",
      "\u001b[32m[1201 15:27:00 @registry.py:126]\u001b[0m gen/LSTM/choice/FC input: [500, 100]\n",
      "\u001b[32m[1201 15:27:00 @registry.py:134]\u001b[0m gen/LSTM/choice/FC output: [500, 50]\n",
      "\u001b[32m[1201 15:27:00 @registry.py:126]\u001b[0m gen/LSTM/choice/FC_prob input: [500, 50]\n",
      "\u001b[32m[1201 15:27:00 @registry.py:134]\u001b[0m gen/LSTM/choice/FC_prob output: [500, 5]\n",
      "\u001b[32m[1201 15:27:00 @registry.py:126]\u001b[0m gen/LSTM/choice/FC_input input: [500, 5]\n",
      "\u001b[32m[1201 15:27:00 @registry.py:134]\u001b[0m gen/LSTM/choice/FC_input output: [500, 100]\n",
      "WARNING:tensorflow:From C:\\Users\\glede\\Documents\\EPFL\\PhD\\SynthPop\\code\\modules\\datgan\\models\\DATSGANModel.py:551: The name tf.random_uniform is deprecated. Please use tf.random.uniform instead.\n",
      "\n",
      "WARNING:tensorflow:From C:\\Users\\glede\\Documents\\EPFL\\PhD\\SynthPop\\code\\modules\\datgan\\models\\DATSGANModel.py:479: The name tf.log is deprecated. Please use tf.math.log instead.\n",
      "\n",
      "\u001b[32m[1201 15:27:01 @registry.py:126]\u001b[0m discrim/DISCR_FC_0/FC input: [500, 110]\n",
      "\u001b[32m[1201 15:27:01 @registry.py:134]\u001b[0m discrim/DISCR_FC_0/FC output: [500, 100]\n",
      "\u001b[32m[1201 15:27:01 @registry.py:126]\u001b[0m discrim/DISCR_FC_0/FC_DIVERSITY input: [500, 100]\n",
      "\u001b[32m[1201 15:27:01 @registry.py:134]\u001b[0m discrim/DISCR_FC_0/FC_DIVERSITY output: [500, 100]\n",
      "WARNING:tensorflow:From D:\\Users\\glede\\anaconda3\\envs\\py37\\lib\\site-packages\\tensorpack\\models\\batch_norm.py:204: The name tf.layers.BatchNormalization is deprecated. Please use tf.compat.v1.layers.BatchNormalization instead.\n",
      "\n",
      "WARNING:tensorflow:From D:\\Users\\glede\\anaconda3\\envs\\py37\\lib\\site-packages\\tensorpack\\tfutils\\collection.py:45: The name tf.get_collection_ref is deprecated. Please use tf.compat.v1.get_collection_ref instead.\n",
      "\n",
      "\u001b[32m[1201 15:27:01 @registry.py:126]\u001b[0m discrim/DISCR_FC_TOP input: [500, 110]\n",
      "\u001b[32m[1201 15:27:01 @registry.py:134]\u001b[0m discrim/DISCR_FC_TOP output: [500, 1]\n",
      "WARNING:tensorflow:From C:\\Users\\glede\\Documents\\EPFL\\PhD\\SynthPop\\code\\modules\\datgan\\models\\DATSGANModel.py:608: The name tf.summary.histogram is deprecated. Please use tf.compat.v1.summary.histogram instead.\n",
      "\n",
      "WARNING:tensorflow:From D:\\Users\\glede\\anaconda3\\envs\\py37\\lib\\site-packages\\tensorflow_core\\python\\ops\\nn_impl.py:183: where (from tensorflow.python.ops.array_ops) is deprecated and will be removed in a future version.\n",
      "Instructions for updating:\n",
      "Use tf.where in 2.0, which has the same broadcast rule as np.where\n",
      "WARNING:tensorflow:\n",
      "The TensorFlow contrib module will not be included in TensorFlow 2.0.\n",
      "For more information, please see:\n",
      "  * https://github.com/tensorflow/community/blob/master/rfcs/20180907-contrib-sunset.md\n",
      "  * https://github.com/tensorflow/addons\n",
      "  * https://github.com/tensorflow/io (for I/O related ops)\n",
      "If you depend on functionality not listed there, please file an issue.\n",
      "\n",
      "\u001b[32m[1201 15:27:05 @collection.py:146]\u001b[0m New collections created in tower : tf.GraphKeys.REGULARIZATION_LOSSES\n",
      "\u001b[32m[1201 15:27:05 @collection.py:165]\u001b[0m These collections were modified but restored in : (tf.GraphKeys.SUMMARIES: 0->2)\n",
      "WARNING:tensorflow:From D:\\Users\\glede\\anaconda3\\envs\\py37\\lib\\site-packages\\tensorpack\\tfutils\\sessinit.py:120: The name tf.train.NewCheckpointReader is deprecated. Please use tf.compat.v1.train.NewCheckpointReader instead.\n",
      "\n",
      "WARNING:tensorflow:From D:\\Users\\glede\\anaconda3\\envs\\py37\\lib\\site-packages\\tensorpack\\tfutils\\sessinit.py:127: The name tf.global_variables is deprecated. Please use tf.compat.v1.global_variables instead.\n",
      "\n",
      "\u001b[32m[1201 15:27:05 @sessinit.py:87]\u001b[0m \u001b[5m\u001b[31mWRN\u001b[0m The following variables are in the checkpoint, but not found in the graph: global_step, optimize/beta1_power, optimize/beta2_power\n",
      "WARNING:tensorflow:From D:\\Users\\glede\\anaconda3\\envs\\py37\\lib\\site-packages\\tensorpack\\tfutils\\sessinit.py:111: The name tf.train.Saver is deprecated. Please use tf.compat.v1.train.Saver instead.\n",
      "\n",
      "INFO:tensorflow:Graph was finalized.\n",
      "INFO:tensorflow:Running local_init_op.\n",
      "INFO:tensorflow:Done running local_init_op.\n",
      "\u001b[32m[1201 15:27:07 @sessinit.py:114]\u001b[0m Restoring checkpoint from ../output/Chicago/SGAN_OR_01/model\\model-17000 ...\n",
      "INFO:tensorflow:Restoring parameters from ../output/Chicago/SGAN_OR_01/model\\model-17000\n",
      "\u001b[32m[1201 15:27:07 @DATSGAN.py:267]\u001b[0m Loading Preprocessor!\n"
     ]
    },
    {
     "name": "stderr",
     "output_type": "stream",
     "text": [
      "|                                                                                          |17/?[00:00<00:00,25.18it/s]\n"
     ]
    },
    {
     "name": "stdout",
     "output_type": "stream",
     "text": [
      "\u001b[32m[1201 15:27:07 @DATSGAN.py:267]\u001b[0m Loading Preprocessor!\n"
     ]
    },
    {
     "name": "stderr",
     "output_type": "stream",
     "text": [
      "|                                                                                          |17/?[00:00<00:00,74.19it/s]"
     ]
    },
    {
     "name": "stdout",
     "output_type": "stream",
     "text": [
      "\u001b[32m[1201 15:27:08 @DATSGAN.py:267]\u001b[0m Loading Preprocessor!\n"
     ]
    },
    {
     "name": "stderr",
     "output_type": "stream",
     "text": [
      "\n",
      "|                                                                                          |17/?[00:00<00:00,74.02it/s]"
     ]
    },
    {
     "name": "stdout",
     "output_type": "stream",
     "text": [
      "\u001b[32m[1201 15:27:08 @DATSGAN.py:267]\u001b[0m Loading Preprocessor!\n"
     ]
    },
    {
     "name": "stderr",
     "output_type": "stream",
     "text": [
      "\n",
      "|                                                                                          |17/?[00:00<00:00,73.55it/s]"
     ]
    },
    {
     "name": "stdout",
     "output_type": "stream",
     "text": [
      "\u001b[32m[1201 15:27:08 @DATSGAN.py:267]\u001b[0m Loading Preprocessor!\n"
     ]
    },
    {
     "name": "stderr",
     "output_type": "stream",
     "text": [
      "\n",
      "|                                                                                          |17/?[00:00<00:00,71.55it/s]"
     ]
    },
    {
     "name": "stdout",
     "output_type": "stream",
     "text": [
      "\u001b[32m[1201 15:27:09 @DATSGAN.py:267]\u001b[0m Loading Preprocessor!\n"
     ]
    },
    {
     "name": "stderr",
     "output_type": "stream",
     "text": [
      "\n",
      "|                                                                                          |17/?[00:00<00:00,73.08it/s]"
     ]
    },
    {
     "name": "stdout",
     "output_type": "stream",
     "text": [
      "\u001b[32m[1201 15:27:09 @DATSGAN.py:267]\u001b[0m Loading Preprocessor!\n"
     ]
    },
    {
     "name": "stderr",
     "output_type": "stream",
     "text": [
      "\n",
      "|                                                                                          |17/?[00:00<00:00,69.95it/s]"
     ]
    },
    {
     "name": "stdout",
     "output_type": "stream",
     "text": [
      "\u001b[32m[1201 15:27:09 @DATSGAN.py:267]\u001b[0m Loading Preprocessor!\n"
     ]
    },
    {
     "name": "stderr",
     "output_type": "stream",
     "text": [
      "\n",
      "|                                                                                          |17/?[00:00<00:00,71.26it/s]"
     ]
    },
    {
     "name": "stdout",
     "output_type": "stream",
     "text": [
      "\u001b[32m[1201 15:27:10 @DATSGAN.py:267]\u001b[0m Loading Preprocessor!\n"
     ]
    },
    {
     "name": "stderr",
     "output_type": "stream",
     "text": [
      "\n",
      "|                                                                                          |17/?[00:00<00:00,73.71it/s]"
     ]
    },
    {
     "name": "stdout",
     "output_type": "stream",
     "text": [
      "\u001b[32m[1201 15:27:10 @DATSGAN.py:267]\u001b[0m Loading Preprocessor!\n"
     ]
    },
    {
     "name": "stderr",
     "output_type": "stream",
     "text": [
      "\n",
      "|                                                                                          |17/?[00:00<00:00,73.71it/s]"
     ]
    },
    {
     "name": "stdout",
     "output_type": "stream",
     "text": [
      "\u001b[32m[1201 15:27:10 @DATSGAN.py:267]\u001b[0m Loading Preprocessor!\n"
     ]
    },
    {
     "name": "stderr",
     "output_type": "stream",
     "text": [
      "\n",
      "|                                                                                          |17/?[00:00<00:00,73.08it/s]"
     ]
    },
    {
     "name": "stdout",
     "output_type": "stream",
     "text": [
      "\u001b[32m[1201 15:27:10 @DATSGAN.py:267]\u001b[0m Loading Preprocessor!\n"
     ]
    },
    {
     "name": "stderr",
     "output_type": "stream",
     "text": [
      "\n",
      "|                                                                                          |17/?[00:00<00:00,72.62it/s]"
     ]
    },
    {
     "name": "stdout",
     "output_type": "stream",
     "text": [
      "\u001b[32m[1201 15:27:11 @DATSGAN.py:267]\u001b[0m Loading Preprocessor!\n"
     ]
    },
    {
     "name": "stderr",
     "output_type": "stream",
     "text": [
      "\n",
      "|                                                                                          |17/?[00:00<00:00,74.19it/s]"
     ]
    },
    {
     "name": "stdout",
     "output_type": "stream",
     "text": [
      "\u001b[32m[1201 15:27:11 @DATSGAN.py:267]\u001b[0m Loading Preprocessor!\n"
     ]
    },
    {
     "name": "stderr",
     "output_type": "stream",
     "text": [
      "\n",
      "|                                                                                          |17/?[00:00<00:00,74.67it/s]"
     ]
    },
    {
     "name": "stdout",
     "output_type": "stream",
     "text": [
      "\u001b[32m[1201 15:27:11 @DATSGAN.py:267]\u001b[0m Loading Preprocessor!\n"
     ]
    },
    {
     "name": "stderr",
     "output_type": "stream",
     "text": [
      "\n",
      "|                                                                                          |17/?[00:00<00:00,74.83it/s]\n"
     ]
    },
    {
     "name": "stdout",
     "output_type": "stream",
     "text": [
      "Sampling synthetic data from model \u001b[1mSGAN_OR_02\u001b[0m (7/55)\n",
      "\u001b[32m[1201 15:27:18 @DATSGANModel.py:213]\u001b[0m \u001b[91mCreating cell for age (in-edges: 0; ancestors: 0)\n",
      "\u001b[32m[1201 15:27:18 @DATSGANModel.py:213]\u001b[0m \u001b[91mCreating cell for gender (in-edges: 0; ancestors: 0)\n",
      "\u001b[32m[1201 15:27:18 @DATSGANModel.py:213]\u001b[0m \u001b[91mCreating cell for travel_dow (in-edges: 0; ancestors: 0)\n",
      "\u001b[32m[1201 15:27:18 @DATSGANModel.py:213]\u001b[0m \u001b[91mCreating cell for license (in-edges: 1; ancestors: 1)\n",
      "\u001b[32m[1201 15:27:18 @DATSGANModel.py:213]\u001b[0m \u001b[91mCreating cell for education_level (in-edges: 1; ancestors: 1)\n",
      "\u001b[32m[1201 15:27:18 @DATSGANModel.py:213]\u001b[0m \u001b[91mCreating cell for work_status (in-edges: 2; ancestors: 3)\n",
      "\u001b[32m[1201 15:27:18 @DATSGANModel.py:213]\u001b[0m \u001b[91mCreating cell for hh_income (in-edges: 2; ancestors: 4)\n",
      "\u001b[32m[1201 15:27:18 @DATSGANModel.py:213]\u001b[0m \u001b[91mCreating cell for trip_purpose (in-edges: 1; ancestors: 4)\n",
      "\u001b[32m[1201 15:27:18 @DATSGANModel.py:213]\u001b[0m \u001b[91mCreating cell for hh_descr (in-edges: 2; ancestors: 5)\n",
      "\u001b[32m[1201 15:27:19 @DATSGANModel.py:213]\u001b[0m \u001b[91mCreating cell for hh_size (in-edges: 3; ancestors: 5)\n",
      "\u001b[32m[1201 15:27:19 @DATSGANModel.py:213]\u001b[0m \u001b[91mCreating cell for departure_time (in-edges: 1; ancestors: 5)\n",
      "\u001b[32m[1201 15:27:19 @DATSGANModel.py:213]\u001b[0m \u001b[91mCreating cell for distance (in-edges: 1; ancestors: 5)\n",
      "\u001b[32m[1201 15:27:19 @DATSGANModel.py:213]\u001b[0m \u001b[91mCreating cell for hh_vehicles (in-edges: 2; ancestors: 6)\n",
      "\u001b[32m[1201 15:27:19 @DATSGANModel.py:213]\u001b[0m \u001b[91mCreating cell for hh_bikes (in-edges: 2; ancestors: 6)\n",
      "\u001b[32m[1201 15:27:19 @DATSGANModel.py:213]\u001b[0m \u001b[91mCreating cell for choice (in-edges: 7; ancestors: 13)\n",
      "\u001b[32m[1201 15:27:20 @collection.py:146]\u001b[0m New collections created in tower : tf.GraphKeys.REGULARIZATION_LOSSES\n",
      "\u001b[32m[1201 15:27:20 @collection.py:165]\u001b[0m These collections were modified but restored in : (tf.GraphKeys.SUMMARIES: 0->2)\n",
      "\u001b[32m[1201 15:27:20 @sessinit.py:87]\u001b[0m \u001b[5m\u001b[31mWRN\u001b[0m The following variables are in the checkpoint, but not found in the graph: global_step, optimize/beta1_power, optimize/beta2_power\n",
      "INFO:tensorflow:Graph was finalized.\n",
      "INFO:tensorflow:Running local_init_op.\n",
      "INFO:tensorflow:Done running local_init_op.\n",
      "\u001b[32m[1201 15:27:21 @sessinit.py:114]\u001b[0m Restoring checkpoint from ../output/Chicago/SGAN_OR_02/model\\model-17000 ...\n",
      "INFO:tensorflow:Restoring parameters from ../output/Chicago/SGAN_OR_02/model\\model-17000\n",
      "\u001b[32m[1201 15:27:21 @DATSGAN.py:267]\u001b[0m Loading Preprocessor!\n"
     ]
    },
    {
     "name": "stderr",
     "output_type": "stream",
     "text": [
      "|                                                                                          |17/?[00:00<00:00,35.15it/s]"
     ]
    },
    {
     "name": "stdout",
     "output_type": "stream",
     "text": [
      "\u001b[32m[1201 15:27:21 @DATSGAN.py:267]\u001b[0m Loading Preprocessor!\n"
     ]
    },
    {
     "name": "stderr",
     "output_type": "stream",
     "text": [
      "\n",
      "|                                                                                          |17/?[00:00<00:00,72.92it/s]"
     ]
    },
    {
     "name": "stdout",
     "output_type": "stream",
     "text": [
      "\u001b[32m[1201 15:27:22 @DATSGAN.py:267]\u001b[0m Loading Preprocessor!\n"
     ]
    },
    {
     "name": "stderr",
     "output_type": "stream",
     "text": [
      "\n",
      "|                                                                                          |17/?[00:00<00:00,70.67it/s]"
     ]
    },
    {
     "name": "stdout",
     "output_type": "stream",
     "text": [
      "\u001b[32m[1201 15:27:22 @DATSGAN.py:267]\u001b[0m Loading Preprocessor!\n"
     ]
    },
    {
     "name": "stderr",
     "output_type": "stream",
     "text": [
      "\n",
      "|                                                                                          |17/?[00:00<00:00,68.00it/s]"
     ]
    },
    {
     "name": "stdout",
     "output_type": "stream",
     "text": [
      "\u001b[32m[1201 15:27:22 @DATSGAN.py:267]\u001b[0m Loading Preprocessor!\n"
     ]
    },
    {
     "name": "stderr",
     "output_type": "stream",
     "text": [
      "\n",
      "|                                                                                          |17/?[00:00<00:00,73.08it/s]"
     ]
    },
    {
     "name": "stdout",
     "output_type": "stream",
     "text": [
      "\u001b[32m[1201 15:27:23 @DATSGAN.py:267]\u001b[0m Loading Preprocessor!\n"
     ]
    },
    {
     "name": "stderr",
     "output_type": "stream",
     "text": [
      "\n",
      "|                                                                                          |17/?[00:00<00:00,74.35it/s]"
     ]
    },
    {
     "name": "stdout",
     "output_type": "stream",
     "text": [
      "\u001b[32m[1201 15:27:23 @DATSGAN.py:267]\u001b[0m Loading Preprocessor!\n"
     ]
    },
    {
     "name": "stderr",
     "output_type": "stream",
     "text": [
      "\n",
      "|                                                                                          |17/?[00:00<00:00,68.14it/s]"
     ]
    },
    {
     "name": "stdout",
     "output_type": "stream",
     "text": [
      "\u001b[32m[1201 15:27:23 @DATSGAN.py:267]\u001b[0m Loading Preprocessor!\n"
     ]
    },
    {
     "name": "stderr",
     "output_type": "stream",
     "text": [
      "\n",
      "|                                                                                          |17/?[00:00<00:00,73.71it/s]"
     ]
    },
    {
     "name": "stdout",
     "output_type": "stream",
     "text": [
      "\u001b[32m[1201 15:27:23 @DATSGAN.py:267]\u001b[0m Loading Preprocessor!\n"
     ]
    },
    {
     "name": "stderr",
     "output_type": "stream",
     "text": [
      "\n",
      "|                                                                                          |17/?[00:00<00:00,71.40it/s]"
     ]
    },
    {
     "name": "stdout",
     "output_type": "stream",
     "text": [
      "\u001b[32m[1201 15:27:24 @DATSGAN.py:267]\u001b[0m Loading Preprocessor!\n"
     ]
    },
    {
     "name": "stderr",
     "output_type": "stream",
     "text": [
      "\n",
      "|                                                                                          |17/?[00:00<00:00,76.33it/s]"
     ]
    },
    {
     "name": "stdout",
     "output_type": "stream",
     "text": [
      "\u001b[32m[1201 15:27:24 @DATSGAN.py:267]\u001b[0m Loading Preprocessor!\n"
     ]
    },
    {
     "name": "stderr",
     "output_type": "stream",
     "text": [
      "\n",
      "|                                                                                          |17/?[00:00<00:00,73.87it/s]"
     ]
    },
    {
     "name": "stdout",
     "output_type": "stream",
     "text": [
      "\u001b[32m[1201 15:27:24 @DATSGAN.py:267]\u001b[0m Loading Preprocessor!\n"
     ]
    },
    {
     "name": "stderr",
     "output_type": "stream",
     "text": [
      "\n",
      "|                                                                                          |17/?[00:00<00:00,69.80it/s]"
     ]
    },
    {
     "name": "stdout",
     "output_type": "stream",
     "text": [
      "\u001b[32m[1201 15:27:25 @DATSGAN.py:267]\u001b[0m Loading Preprocessor!\n"
     ]
    },
    {
     "name": "stderr",
     "output_type": "stream",
     "text": [
      "\n",
      "|                                                                                          |17/?[00:00<00:00,75.00it/s]"
     ]
    },
    {
     "name": "stdout",
     "output_type": "stream",
     "text": [
      "\u001b[32m[1201 15:27:25 @DATSGAN.py:267]\u001b[0m Loading Preprocessor!\n"
     ]
    },
    {
     "name": "stderr",
     "output_type": "stream",
     "text": [
      "\n",
      "|                                                                                          |17/?[00:00<00:00,65.41it/s]"
     ]
    },
    {
     "name": "stdout",
     "output_type": "stream",
     "text": [
      "\u001b[32m[1201 15:27:25 @DATSGAN.py:267]\u001b[0m Loading Preprocessor!\n"
     ]
    },
    {
     "name": "stderr",
     "output_type": "stream",
     "text": [
      "\n",
      "|                                                                                          |17/?[00:00<00:00,74.51it/s]\n"
     ]
    },
    {
     "name": "stdout",
     "output_type": "stream",
     "text": [
      "Sampling synthetic data from model \u001b[1mSGAN_OR_03\u001b[0m (8/55)\n",
      "\u001b[32m[1201 15:27:32 @DATSGANModel.py:213]\u001b[0m \u001b[91mCreating cell for age (in-edges: 0; ancestors: 0)\n",
      "\u001b[32m[1201 15:27:32 @DATSGANModel.py:213]\u001b[0m \u001b[91mCreating cell for gender (in-edges: 0; ancestors: 0)\n",
      "\u001b[32m[1201 15:27:32 @DATSGANModel.py:213]\u001b[0m \u001b[91mCreating cell for travel_dow (in-edges: 0; ancestors: 0)\n",
      "\u001b[32m[1201 15:27:32 @DATSGANModel.py:213]\u001b[0m \u001b[91mCreating cell for license (in-edges: 1; ancestors: 1)\n",
      "\u001b[32m[1201 15:27:32 @DATSGANModel.py:213]\u001b[0m \u001b[91mCreating cell for education_level (in-edges: 1; ancestors: 1)\n",
      "\u001b[32m[1201 15:27:32 @DATSGANModel.py:213]\u001b[0m \u001b[91mCreating cell for work_status (in-edges: 2; ancestors: 3)\n",
      "\u001b[32m[1201 15:27:32 @DATSGANModel.py:213]\u001b[0m \u001b[91mCreating cell for hh_income (in-edges: 2; ancestors: 4)\n",
      "\u001b[32m[1201 15:27:32 @DATSGANModel.py:213]\u001b[0m \u001b[91mCreating cell for trip_purpose (in-edges: 1; ancestors: 4)\n",
      "\u001b[32m[1201 15:27:32 @DATSGANModel.py:213]\u001b[0m \u001b[91mCreating cell for hh_descr (in-edges: 2; ancestors: 5)\n",
      "\u001b[32m[1201 15:27:32 @DATSGANModel.py:213]\u001b[0m \u001b[91mCreating cell for hh_size (in-edges: 3; ancestors: 5)\n",
      "\u001b[32m[1201 15:27:32 @DATSGANModel.py:213]\u001b[0m \u001b[91mCreating cell for departure_time (in-edges: 1; ancestors: 5)\n",
      "\u001b[32m[1201 15:27:32 @DATSGANModel.py:213]\u001b[0m \u001b[91mCreating cell for distance (in-edges: 1; ancestors: 5)\n",
      "\u001b[32m[1201 15:27:33 @DATSGANModel.py:213]\u001b[0m \u001b[91mCreating cell for hh_vehicles (in-edges: 2; ancestors: 6)\n",
      "\u001b[32m[1201 15:27:33 @DATSGANModel.py:213]\u001b[0m \u001b[91mCreating cell for hh_bikes (in-edges: 2; ancestors: 6)\n",
      "\u001b[32m[1201 15:27:33 @DATSGANModel.py:213]\u001b[0m \u001b[91mCreating cell for choice (in-edges: 7; ancestors: 13)\n",
      "\u001b[32m[1201 15:27:33 @collection.py:146]\u001b[0m New collections created in tower : tf.GraphKeys.REGULARIZATION_LOSSES\n",
      "\u001b[32m[1201 15:27:33 @collection.py:165]\u001b[0m These collections were modified but restored in : (tf.GraphKeys.SUMMARIES: 0->2)\n",
      "\u001b[32m[1201 15:27:33 @sessinit.py:87]\u001b[0m \u001b[5m\u001b[31mWRN\u001b[0m The following variables are in the checkpoint, but not found in the graph: global_step, optimize/beta1_power, optimize/beta2_power\n",
      "INFO:tensorflow:Graph was finalized.\n",
      "INFO:tensorflow:Running local_init_op.\n",
      "INFO:tensorflow:Done running local_init_op.\n",
      "\u001b[32m[1201 15:27:34 @sessinit.py:114]\u001b[0m Restoring checkpoint from ../output/Chicago/SGAN_OR_03/model\\model-17000 ...\n",
      "INFO:tensorflow:Restoring parameters from ../output/Chicago/SGAN_OR_03/model\\model-17000\n",
      "\u001b[32m[1201 15:27:34 @DATSGAN.py:267]\u001b[0m Loading Preprocessor!\n"
     ]
    },
    {
     "name": "stderr",
     "output_type": "stream",
     "text": [
      "|                                                                                          |17/?[00:00<00:00,34.14it/s]"
     ]
    },
    {
     "name": "stdout",
     "output_type": "stream",
     "text": [
      "\u001b[32m[1201 15:27:35 @DATSGAN.py:267]\u001b[0m Loading Preprocessor!\n"
     ]
    },
    {
     "name": "stderr",
     "output_type": "stream",
     "text": [
      "\n",
      "|                                                                                          |17/?[00:00<00:00,66.68it/s]"
     ]
    },
    {
     "name": "stdout",
     "output_type": "stream",
     "text": [
      "\u001b[32m[1201 15:27:35 @DATSGAN.py:267]\u001b[0m Loading Preprocessor!\n"
     ]
    },
    {
     "name": "stderr",
     "output_type": "stream",
     "text": [
      "\n",
      "|                                                                                          |17/?[00:00<00:00,69.10it/s]"
     ]
    },
    {
     "name": "stdout",
     "output_type": "stream",
     "text": [
      "\u001b[32m[1201 15:27:36 @DATSGAN.py:267]\u001b[0m Loading Preprocessor!\n"
     ]
    },
    {
     "name": "stderr",
     "output_type": "stream",
     "text": [
      "\n",
      "|                                                                                          |17/?[00:00<00:00,69.10it/s]"
     ]
    },
    {
     "name": "stdout",
     "output_type": "stream",
     "text": [
      "\u001b[32m[1201 15:27:36 @DATSGAN.py:267]\u001b[0m Loading Preprocessor!\n"
     ]
    },
    {
     "name": "stderr",
     "output_type": "stream",
     "text": [
      "\n",
      "|                                                                                          |17/?[00:00<00:00,69.66it/s]"
     ]
    },
    {
     "name": "stdout",
     "output_type": "stream",
     "text": [
      "\u001b[32m[1201 15:27:36 @DATSGAN.py:267]\u001b[0m Loading Preprocessor!\n"
     ]
    },
    {
     "name": "stderr",
     "output_type": "stream",
     "text": [
      "\n",
      "|                                                                                          |17/?[00:00<00:00,66.55it/s]"
     ]
    },
    {
     "name": "stdout",
     "output_type": "stream",
     "text": [
      "\u001b[32m[1201 15:27:37 @DATSGAN.py:267]\u001b[0m Loading Preprocessor!\n"
     ]
    },
    {
     "name": "stderr",
     "output_type": "stream",
     "text": [
      "\n",
      "|                                                                                          |17/?[00:00<00:00,70.23it/s]"
     ]
    },
    {
     "name": "stdout",
     "output_type": "stream",
     "text": [
      "\u001b[32m[1201 15:27:37 @DATSGAN.py:267]\u001b[0m Loading Preprocessor!\n"
     ]
    },
    {
     "name": "stderr",
     "output_type": "stream",
     "text": [
      "\n",
      "|                                                                                          |17/?[00:00<00:00,63.71it/s]"
     ]
    },
    {
     "name": "stdout",
     "output_type": "stream",
     "text": [
      "\u001b[32m[1201 15:27:37 @DATSGAN.py:267]\u001b[0m Loading Preprocessor!\n"
     ]
    },
    {
     "name": "stderr",
     "output_type": "stream",
     "text": [
      "\n",
      "|                                                                                          |17/?[00:00<00:00,69.38it/s]"
     ]
    },
    {
     "name": "stdout",
     "output_type": "stream",
     "text": [
      "\u001b[32m[1201 15:27:38 @DATSGAN.py:267]\u001b[0m Loading Preprocessor!\n"
     ]
    },
    {
     "name": "stderr",
     "output_type": "stream",
     "text": [
      "\n",
      "|                                                                                          |17/?[00:00<00:00,64.55it/s]"
     ]
    },
    {
     "name": "stdout",
     "output_type": "stream",
     "text": [
      "\u001b[32m[1201 15:27:38 @DATSGAN.py:267]\u001b[0m Loading Preprocessor!\n"
     ]
    },
    {
     "name": "stderr",
     "output_type": "stream",
     "text": [
      "\n",
      "|                                                                                          |17/?[00:00<00:00,72.61it/s]"
     ]
    },
    {
     "name": "stdout",
     "output_type": "stream",
     "text": [
      "\u001b[32m[1201 15:27:38 @DATSGAN.py:267]\u001b[0m Loading Preprocessor!\n"
     ]
    },
    {
     "name": "stderr",
     "output_type": "stream",
     "text": [
      "\n",
      "|                                                                                          |17/?[00:00<00:00,65.28it/s]"
     ]
    },
    {
     "name": "stdout",
     "output_type": "stream",
     "text": [
      "\u001b[32m[1201 15:27:38 @DATSGAN.py:267]\u001b[0m Loading Preprocessor!\n"
     ]
    },
    {
     "name": "stderr",
     "output_type": "stream",
     "text": [
      "\n",
      "|                                                                                          |17/?[00:00<00:00,66.68it/s]"
     ]
    },
    {
     "name": "stdout",
     "output_type": "stream",
     "text": [
      "\u001b[32m[1201 15:27:39 @DATSGAN.py:267]\u001b[0m Loading Preprocessor!\n"
     ]
    },
    {
     "name": "stderr",
     "output_type": "stream",
     "text": [
      "\n",
      "|                                                                                          |17/?[00:00<00:00,67.07it/s]"
     ]
    },
    {
     "name": "stdout",
     "output_type": "stream",
     "text": [
      "\u001b[32m[1201 15:27:39 @DATSGAN.py:267]\u001b[0m Loading Preprocessor!\n"
     ]
    },
    {
     "name": "stderr",
     "output_type": "stream",
     "text": [
      "\n",
      "|                                                                                          |17/?[00:00<00:00,69.66it/s]\n"
     ]
    },
    {
     "name": "stdout",
     "output_type": "stream",
     "text": [
      "Sampling synthetic data from model \u001b[1mSGAN_OR_04\u001b[0m (9/55)\n",
      "\u001b[32m[1201 15:27:45 @DATSGANModel.py:213]\u001b[0m \u001b[91mCreating cell for age (in-edges: 0; ancestors: 0)\n",
      "\u001b[32m[1201 15:27:45 @DATSGANModel.py:213]\u001b[0m \u001b[91mCreating cell for gender (in-edges: 0; ancestors: 0)\n",
      "\u001b[32m[1201 15:27:46 @DATSGANModel.py:213]\u001b[0m \u001b[91mCreating cell for travel_dow (in-edges: 0; ancestors: 0)\n",
      "\u001b[32m[1201 15:27:46 @DATSGANModel.py:213]\u001b[0m \u001b[91mCreating cell for license (in-edges: 1; ancestors: 1)\n",
      "\u001b[32m[1201 15:27:46 @DATSGANModel.py:213]\u001b[0m \u001b[91mCreating cell for education_level (in-edges: 1; ancestors: 1)\n",
      "\u001b[32m[1201 15:27:46 @DATSGANModel.py:213]\u001b[0m \u001b[91mCreating cell for work_status (in-edges: 2; ancestors: 3)\n",
      "\u001b[32m[1201 15:27:46 @DATSGANModel.py:213]\u001b[0m \u001b[91mCreating cell for hh_income (in-edges: 2; ancestors: 4)\n",
      "\u001b[32m[1201 15:27:46 @DATSGANModel.py:213]\u001b[0m \u001b[91mCreating cell for trip_purpose (in-edges: 1; ancestors: 4)\n",
      "\u001b[32m[1201 15:27:46 @DATSGANModel.py:213]\u001b[0m \u001b[91mCreating cell for hh_descr (in-edges: 2; ancestors: 5)\n",
      "\u001b[32m[1201 15:27:46 @DATSGANModel.py:213]\u001b[0m \u001b[91mCreating cell for hh_size (in-edges: 3; ancestors: 5)\n",
      "\u001b[32m[1201 15:27:46 @DATSGANModel.py:213]\u001b[0m \u001b[91mCreating cell for departure_time (in-edges: 1; ancestors: 5)\n",
      "\u001b[32m[1201 15:27:46 @DATSGANModel.py:213]\u001b[0m \u001b[91mCreating cell for distance (in-edges: 1; ancestors: 5)\n",
      "\u001b[32m[1201 15:27:46 @DATSGANModel.py:213]\u001b[0m \u001b[91mCreating cell for hh_vehicles (in-edges: 2; ancestors: 6)\n",
      "\u001b[32m[1201 15:27:46 @DATSGANModel.py:213]\u001b[0m \u001b[91mCreating cell for hh_bikes (in-edges: 2; ancestors: 6)\n",
      "\u001b[32m[1201 15:27:46 @DATSGANModel.py:213]\u001b[0m \u001b[91mCreating cell for choice (in-edges: 7; ancestors: 13)\n",
      "\u001b[32m[1201 15:27:47 @collection.py:146]\u001b[0m New collections created in tower : tf.GraphKeys.REGULARIZATION_LOSSES\n",
      "\u001b[32m[1201 15:27:47 @collection.py:165]\u001b[0m These collections were modified but restored in : (tf.GraphKeys.SUMMARIES: 0->2)\n",
      "\u001b[32m[1201 15:27:47 @sessinit.py:87]\u001b[0m \u001b[5m\u001b[31mWRN\u001b[0m The following variables are in the checkpoint, but not found in the graph: global_step, optimize/beta1_power, optimize/beta2_power\n",
      "INFO:tensorflow:Graph was finalized.\n",
      "INFO:tensorflow:Running local_init_op.\n",
      "INFO:tensorflow:Done running local_init_op.\n",
      "\u001b[32m[1201 15:27:48 @sessinit.py:114]\u001b[0m Restoring checkpoint from ../output/Chicago/SGAN_OR_04/model\\model-17000 ...\n",
      "INFO:tensorflow:Restoring parameters from ../output/Chicago/SGAN_OR_04/model\\model-17000\n",
      "\u001b[32m[1201 15:27:48 @DATSGAN.py:267]\u001b[0m Loading Preprocessor!\n"
     ]
    },
    {
     "name": "stderr",
     "output_type": "stream",
     "text": [
      "|                                                                                          |17/?[00:00<00:00,34.73it/s]"
     ]
    },
    {
     "name": "stdout",
     "output_type": "stream",
     "text": [
      "\u001b[32m[1201 15:27:49 @DATSGAN.py:267]\u001b[0m Loading Preprocessor!\n"
     ]
    },
    {
     "name": "stderr",
     "output_type": "stream",
     "text": [
      "\n",
      "|                                                                                          |17/?[00:00<00:00,74.67it/s]"
     ]
    },
    {
     "name": "stdout",
     "output_type": "stream",
     "text": [
      "\u001b[32m[1201 15:27:49 @DATSGAN.py:267]\u001b[0m Loading Preprocessor!\n"
     ]
    },
    {
     "name": "stderr",
     "output_type": "stream",
     "text": [
      "\n",
      "|                                                                                          |17/?[00:00<00:00,75.00it/s]"
     ]
    },
    {
     "name": "stdout",
     "output_type": "stream",
     "text": [
      "\u001b[32m[1201 15:27:49 @DATSGAN.py:267]\u001b[0m Loading Preprocessor!\n"
     ]
    },
    {
     "name": "stderr",
     "output_type": "stream",
     "text": [
      "\n",
      "|                                                                                          |17/?[00:00<00:00,67.20it/s]"
     ]
    },
    {
     "name": "stdout",
     "output_type": "stream",
     "text": [
      "\u001b[32m[1201 15:27:50 @DATSGAN.py:267]\u001b[0m Loading Preprocessor!\n"
     ]
    },
    {
     "name": "stderr",
     "output_type": "stream",
     "text": [
      "\n",
      "|                                                                                          |17/?[00:00<00:00,72.92it/s]"
     ]
    },
    {
     "name": "stdout",
     "output_type": "stream",
     "text": [
      "\u001b[32m[1201 15:27:50 @DATSGAN.py:267]\u001b[0m Loading Preprocessor!\n"
     ]
    },
    {
     "name": "stderr",
     "output_type": "stream",
     "text": [
      "\n",
      "|                                                                                          |17/?[00:00<00:00,73.08it/s]"
     ]
    },
    {
     "name": "stdout",
     "output_type": "stream",
     "text": [
      "\u001b[32m[1201 15:27:50 @DATSGAN.py:267]\u001b[0m Loading Preprocessor!\n"
     ]
    },
    {
     "name": "stderr",
     "output_type": "stream",
     "text": [
      "\n",
      "|                                                                                          |17/?[00:00<00:00,66.29it/s]"
     ]
    },
    {
     "name": "stdout",
     "output_type": "stream",
     "text": [
      "\u001b[32m[1201 15:27:51 @DATSGAN.py:267]\u001b[0m Loading Preprocessor!\n"
     ]
    },
    {
     "name": "stderr",
     "output_type": "stream",
     "text": [
      "\n",
      "|                                                                                          |17/?[00:00<00:00,72.16it/s]"
     ]
    },
    {
     "name": "stdout",
     "output_type": "stream",
     "text": [
      "\u001b[32m[1201 15:27:51 @DATSGAN.py:267]\u001b[0m Loading Preprocessor!\n"
     ]
    },
    {
     "name": "stderr",
     "output_type": "stream",
     "text": [
      "\n",
      "|                                                                                          |17/?[00:00<00:00,67.60it/s]"
     ]
    },
    {
     "name": "stdout",
     "output_type": "stream",
     "text": [
      "\u001b[32m[1201 15:27:51 @DATSGAN.py:267]\u001b[0m Loading Preprocessor!\n"
     ]
    },
    {
     "name": "stderr",
     "output_type": "stream",
     "text": [
      "\n",
      "|                                                                                          |17/?[00:00<00:00,69.66it/s]"
     ]
    },
    {
     "name": "stdout",
     "output_type": "stream",
     "text": [
      "\u001b[32m[1201 15:27:52 @DATSGAN.py:267]\u001b[0m Loading Preprocessor!\n"
     ]
    },
    {
     "name": "stderr",
     "output_type": "stream",
     "text": [
      "\n",
      "|                                                                                          |17/?[00:00<00:00,66.68it/s]"
     ]
    },
    {
     "name": "stdout",
     "output_type": "stream",
     "text": [
      "\u001b[32m[1201 15:27:52 @DATSGAN.py:267]\u001b[0m Loading Preprocessor!\n"
     ]
    },
    {
     "name": "stderr",
     "output_type": "stream",
     "text": [
      "\n",
      "|                                                                                          |17/?[00:00<00:00,70.67it/s]"
     ]
    },
    {
     "name": "stdout",
     "output_type": "stream",
     "text": [
      "\u001b[32m[1201 15:27:52 @DATSGAN.py:267]\u001b[0m Loading Preprocessor!\n"
     ]
    },
    {
     "name": "stderr",
     "output_type": "stream",
     "text": [
      "\n",
      "|                                                                                          |17/?[00:00<00:00,66.94it/s]"
     ]
    },
    {
     "name": "stdout",
     "output_type": "stream",
     "text": [
      "\u001b[32m[1201 15:27:52 @DATSGAN.py:267]\u001b[0m Loading Preprocessor!\n"
     ]
    },
    {
     "name": "stderr",
     "output_type": "stream",
     "text": [
      "\n",
      "|                                                                                          |17/?[00:00<00:00,72.16it/s]"
     ]
    },
    {
     "name": "stdout",
     "output_type": "stream",
     "text": [
      "\u001b[32m[1201 15:27:53 @DATSGAN.py:267]\u001b[0m Loading Preprocessor!\n"
     ]
    },
    {
     "name": "stderr",
     "output_type": "stream",
     "text": [
      "\n",
      "|                                                                                          |17/?[00:00<00:00,66.81it/s]\n"
     ]
    },
    {
     "name": "stdout",
     "output_type": "stream",
     "text": [
      "Sampling synthetic data from model \u001b[1mSGAN_OR_05\u001b[0m (10/55)\n",
      "\u001b[32m[1201 15:27:59 @DATSGANModel.py:213]\u001b[0m \u001b[91mCreating cell for age (in-edges: 0; ancestors: 0)\n",
      "\u001b[32m[1201 15:27:59 @DATSGANModel.py:213]\u001b[0m \u001b[91mCreating cell for gender (in-edges: 0; ancestors: 0)\n",
      "\u001b[32m[1201 15:27:59 @DATSGANModel.py:213]\u001b[0m \u001b[91mCreating cell for travel_dow (in-edges: 0; ancestors: 0)\n",
      "\u001b[32m[1201 15:27:59 @DATSGANModel.py:213]\u001b[0m \u001b[91mCreating cell for license (in-edges: 1; ancestors: 1)\n",
      "\u001b[32m[1201 15:27:59 @DATSGANModel.py:213]\u001b[0m \u001b[91mCreating cell for education_level (in-edges: 1; ancestors: 1)\n",
      "\u001b[32m[1201 15:27:59 @DATSGANModel.py:213]\u001b[0m \u001b[91mCreating cell for work_status (in-edges: 2; ancestors: 3)\n",
      "\u001b[32m[1201 15:28:00 @DATSGANModel.py:213]\u001b[0m \u001b[91mCreating cell for hh_income (in-edges: 2; ancestors: 4)\n",
      "\u001b[32m[1201 15:28:00 @DATSGANModel.py:213]\u001b[0m \u001b[91mCreating cell for trip_purpose (in-edges: 1; ancestors: 4)\n",
      "\u001b[32m[1201 15:28:00 @DATSGANModel.py:213]\u001b[0m \u001b[91mCreating cell for hh_descr (in-edges: 2; ancestors: 5)\n",
      "\u001b[32m[1201 15:28:00 @DATSGANModel.py:213]\u001b[0m \u001b[91mCreating cell for hh_size (in-edges: 3; ancestors: 5)\n",
      "\u001b[32m[1201 15:28:00 @DATSGANModel.py:213]\u001b[0m \u001b[91mCreating cell for departure_time (in-edges: 1; ancestors: 5)\n",
      "\u001b[32m[1201 15:28:00 @DATSGANModel.py:213]\u001b[0m \u001b[91mCreating cell for distance (in-edges: 1; ancestors: 5)\n",
      "\u001b[32m[1201 15:28:00 @DATSGANModel.py:213]\u001b[0m \u001b[91mCreating cell for hh_vehicles (in-edges: 2; ancestors: 6)\n",
      "\u001b[32m[1201 15:28:00 @DATSGANModel.py:213]\u001b[0m \u001b[91mCreating cell for hh_bikes (in-edges: 2; ancestors: 6)\n",
      "\u001b[32m[1201 15:28:00 @DATSGANModel.py:213]\u001b[0m \u001b[91mCreating cell for choice (in-edges: 7; ancestors: 13)\n",
      "\u001b[32m[1201 15:28:01 @collection.py:146]\u001b[0m New collections created in tower : tf.GraphKeys.REGULARIZATION_LOSSES\n",
      "\u001b[32m[1201 15:28:01 @collection.py:165]\u001b[0m These collections were modified but restored in : (tf.GraphKeys.SUMMARIES: 0->2)\n",
      "\u001b[32m[1201 15:28:01 @sessinit.py:87]\u001b[0m \u001b[5m\u001b[31mWRN\u001b[0m The following variables are in the checkpoint, but not found in the graph: global_step, optimize/beta1_power, optimize/beta2_power\n",
      "INFO:tensorflow:Graph was finalized.\n",
      "INFO:tensorflow:Running local_init_op.\n",
      "INFO:tensorflow:Done running local_init_op.\n",
      "\u001b[32m[1201 15:28:02 @sessinit.py:114]\u001b[0m Restoring checkpoint from ../output/Chicago/SGAN_OR_05/model\\model-17000 ...\n",
      "INFO:tensorflow:Restoring parameters from ../output/Chicago/SGAN_OR_05/model\\model-17000\n",
      "\u001b[32m[1201 15:28:02 @DATSGAN.py:267]\u001b[0m Loading Preprocessor!\n"
     ]
    },
    {
     "name": "stderr",
     "output_type": "stream",
     "text": [
      "|                                                                                          |17/?[00:00<00:00,36.42it/s]"
     ]
    },
    {
     "name": "stdout",
     "output_type": "stream",
     "text": [
      "\u001b[32m[1201 15:28:02 @DATSGAN.py:267]\u001b[0m Loading Preprocessor!\n"
     ]
    },
    {
     "name": "stderr",
     "output_type": "stream",
     "text": [
      "\n",
      "|                                                                                          |17/?[00:00<00:00,69.66it/s]"
     ]
    },
    {
     "name": "stdout",
     "output_type": "stream",
     "text": [
      "\u001b[32m[1201 15:28:03 @DATSGAN.py:267]\u001b[0m Loading Preprocessor!\n"
     ]
    },
    {
     "name": "stderr",
     "output_type": "stream",
     "text": [
      "\n",
      "|                                                                                          |17/?[00:00<00:00,72.61it/s]"
     ]
    },
    {
     "name": "stdout",
     "output_type": "stream",
     "text": [
      "\u001b[32m[1201 15:28:03 @DATSGAN.py:267]\u001b[0m Loading Preprocessor!\n"
     ]
    },
    {
     "name": "stderr",
     "output_type": "stream",
     "text": [
      "\n",
      "|                                                                                          |17/?[00:00<00:00,71.11it/s]"
     ]
    },
    {
     "name": "stdout",
     "output_type": "stream",
     "text": [
      "\u001b[32m[1201 15:28:03 @DATSGAN.py:267]\u001b[0m Loading Preprocessor!\n"
     ]
    },
    {
     "name": "stderr",
     "output_type": "stream",
     "text": [
      "\n",
      "|                                                                                          |17/?[00:00<00:00,72.77it/s]"
     ]
    },
    {
     "name": "stdout",
     "output_type": "stream",
     "text": [
      "\u001b[32m[1201 15:28:04 @DATSGAN.py:267]\u001b[0m Loading Preprocessor!\n"
     ]
    },
    {
     "name": "stderr",
     "output_type": "stream",
     "text": [
      "\n",
      "|                                                                                          |17/?[00:00<00:00,74.67it/s]"
     ]
    },
    {
     "name": "stdout",
     "output_type": "stream",
     "text": [
      "\u001b[32m[1201 15:28:04 @DATSGAN.py:267]\u001b[0m Loading Preprocessor!\n"
     ]
    },
    {
     "name": "stderr",
     "output_type": "stream",
     "text": [
      "\n",
      "|                                                                                          |17/?[00:00<00:00,68.41it/s]"
     ]
    },
    {
     "name": "stdout",
     "output_type": "stream",
     "text": [
      "\u001b[32m[1201 15:28:04 @DATSGAN.py:267]\u001b[0m Loading Preprocessor!\n"
     ]
    },
    {
     "name": "stderr",
     "output_type": "stream",
     "text": [
      "\n",
      "|                                                                                          |17/?[00:00<00:00,72.92it/s]"
     ]
    },
    {
     "name": "stdout",
     "output_type": "stream",
     "text": [
      "\u001b[32m[1201 15:28:05 @DATSGAN.py:267]\u001b[0m Loading Preprocessor!\n"
     ]
    },
    {
     "name": "stderr",
     "output_type": "stream",
     "text": [
      "\n",
      "|                                                                                          |17/?[00:00<00:00,71.40it/s]"
     ]
    },
    {
     "name": "stdout",
     "output_type": "stream",
     "text": [
      "\u001b[32m[1201 15:28:05 @DATSGAN.py:267]\u001b[0m Loading Preprocessor!\n"
     ]
    },
    {
     "name": "stderr",
     "output_type": "stream",
     "text": [
      "\n",
      "|                                                                                          |17/?[00:00<00:00,64.67it/s]"
     ]
    },
    {
     "name": "stdout",
     "output_type": "stream",
     "text": [
      "\u001b[32m[1201 15:28:05 @DATSGAN.py:267]\u001b[0m Loading Preprocessor!\n"
     ]
    },
    {
     "name": "stderr",
     "output_type": "stream",
     "text": [
      "\n",
      "|                                                                                          |17/?[00:00<00:00,72.92it/s]"
     ]
    },
    {
     "name": "stdout",
     "output_type": "stream",
     "text": [
      "\u001b[32m[1201 15:28:06 @DATSGAN.py:267]\u001b[0m Loading Preprocessor!\n"
     ]
    },
    {
     "name": "stderr",
     "output_type": "stream",
     "text": [
      "\n",
      "|                                                                                          |17/?[00:00<00:00,73.55it/s]"
     ]
    },
    {
     "name": "stdout",
     "output_type": "stream",
     "text": [
      "\u001b[32m[1201 15:28:06 @DATSGAN.py:267]\u001b[0m Loading Preprocessor!\n"
     ]
    },
    {
     "name": "stderr",
     "output_type": "stream",
     "text": [
      "\n",
      "|                                                                                          |17/?[00:00<00:00,64.18it/s]"
     ]
    },
    {
     "name": "stdout",
     "output_type": "stream",
     "text": [
      "\u001b[32m[1201 15:28:06 @DATSGAN.py:267]\u001b[0m Loading Preprocessor!\n"
     ]
    },
    {
     "name": "stderr",
     "output_type": "stream",
     "text": [
      "\n",
      "|                                                                                          |17/?[00:00<00:00,74.35it/s]"
     ]
    },
    {
     "name": "stdout",
     "output_type": "stream",
     "text": [
      "\u001b[32m[1201 15:28:06 @DATSGAN.py:267]\u001b[0m Loading Preprocessor!\n"
     ]
    },
    {
     "name": "stderr",
     "output_type": "stream",
     "text": [
      "\n",
      "|                                                                                          |17/?[00:00<00:00,70.96it/s]\n"
     ]
    },
    {
     "name": "stdout",
     "output_type": "stream",
     "text": [
      "Sampling synthetic data from model \u001b[1mSGAN_WI_01\u001b[0m (11/55)\n",
      "\u001b[32m[1201 15:28:13 @DATSGANModel.py:213]\u001b[0m \u001b[91mCreating cell for age (in-edges: 0; ancestors: 0)\n",
      "\u001b[32m[1201 15:28:13 @DATSGANModel.py:213]\u001b[0m \u001b[91mCreating cell for gender (in-edges: 0; ancestors: 0)\n",
      "\u001b[32m[1201 15:28:13 @DATSGANModel.py:213]\u001b[0m \u001b[91mCreating cell for travel_dow (in-edges: 0; ancestors: 0)\n",
      "\u001b[32m[1201 15:28:13 @DATSGANModel.py:213]\u001b[0m \u001b[91mCreating cell for license (in-edges: 1; ancestors: 1)\n",
      "\u001b[32m[1201 15:28:13 @DATSGANModel.py:213]\u001b[0m \u001b[91mCreating cell for education_level (in-edges: 1; ancestors: 1)\n",
      "\u001b[32m[1201 15:28:13 @DATSGANModel.py:213]\u001b[0m \u001b[91mCreating cell for work_status (in-edges: 2; ancestors: 3)\n",
      "\u001b[32m[1201 15:28:13 @DATSGANModel.py:213]\u001b[0m \u001b[91mCreating cell for hh_income (in-edges: 2; ancestors: 4)\n",
      "\u001b[32m[1201 15:28:13 @DATSGANModel.py:213]\u001b[0m \u001b[91mCreating cell for trip_purpose (in-edges: 1; ancestors: 4)\n",
      "\u001b[32m[1201 15:28:13 @DATSGANModel.py:213]\u001b[0m \u001b[91mCreating cell for hh_descr (in-edges: 2; ancestors: 5)\n",
      "\u001b[32m[1201 15:28:13 @DATSGANModel.py:213]\u001b[0m \u001b[91mCreating cell for hh_size (in-edges: 3; ancestors: 5)\n",
      "\u001b[32m[1201 15:28:14 @DATSGANModel.py:213]\u001b[0m \u001b[91mCreating cell for departure_time (in-edges: 1; ancestors: 5)\n",
      "\u001b[32m[1201 15:28:14 @DATSGANModel.py:213]\u001b[0m \u001b[91mCreating cell for distance (in-edges: 1; ancestors: 5)\n",
      "\u001b[32m[1201 15:28:14 @DATSGANModel.py:213]\u001b[0m \u001b[91mCreating cell for hh_vehicles (in-edges: 2; ancestors: 6)\n",
      "\u001b[32m[1201 15:28:14 @DATSGANModel.py:213]\u001b[0m \u001b[91mCreating cell for hh_bikes (in-edges: 2; ancestors: 6)\n",
      "\u001b[32m[1201 15:28:14 @DATSGANModel.py:213]\u001b[0m \u001b[91mCreating cell for choice (in-edges: 7; ancestors: 13)\n",
      "\u001b[32m[1201 15:28:14 @collection.py:146]\u001b[0m New collections created in tower : tf.GraphKeys.REGULARIZATION_LOSSES\n",
      "\u001b[32m[1201 15:28:14 @collection.py:165]\u001b[0m These collections were modified but restored in : (tf.GraphKeys.SUMMARIES: 0->2)\n",
      "\u001b[32m[1201 15:28:14 @sessinit.py:87]\u001b[0m \u001b[5m\u001b[31mWRN\u001b[0m The following variables are in the checkpoint, but not found in the graph: global_step, optimize/beta1_power, optimize/beta2_power\n",
      "INFO:tensorflow:Graph was finalized.\n",
      "INFO:tensorflow:Running local_init_op.\n",
      "INFO:tensorflow:Done running local_init_op.\n",
      "\u001b[32m[1201 15:28:15 @sessinit.py:114]\u001b[0m Restoring checkpoint from ../output/Chicago/SGAN_WI_01/model\\model-17000 ...\n",
      "INFO:tensorflow:Restoring parameters from ../output/Chicago/SGAN_WI_01/model\\model-17000\n",
      "\u001b[32m[1201 15:28:16 @DATSGAN.py:267]\u001b[0m Loading Preprocessor!\n"
     ]
    },
    {
     "name": "stderr",
     "output_type": "stream",
     "text": [
      "|                                                                                          |17/?[00:00<00:00,34.62it/s]"
     ]
    },
    {
     "name": "stdout",
     "output_type": "stream",
     "text": [
      "\u001b[32m[1201 15:28:16 @DATSGAN.py:267]\u001b[0m Loading Preprocessor!\n"
     ]
    },
    {
     "name": "stderr",
     "output_type": "stream",
     "text": [
      "\n",
      "|                                                                                          |17/?[00:00<00:00,65.16it/s]"
     ]
    },
    {
     "name": "stdout",
     "output_type": "stream",
     "text": [
      "\u001b[32m[1201 15:28:17 @DATSGAN.py:267]\u001b[0m Loading Preprocessor!\n"
     ]
    },
    {
     "name": "stderr",
     "output_type": "stream",
     "text": [
      "\n",
      "|                                                                                          |17/?[00:00<00:00,69.38it/s]"
     ]
    },
    {
     "name": "stdout",
     "output_type": "stream",
     "text": [
      "\u001b[32m[1201 15:28:17 @DATSGAN.py:267]\u001b[0m Loading Preprocessor!\n"
     ]
    },
    {
     "name": "stderr",
     "output_type": "stream",
     "text": [
      "\n",
      "|                                                                                          |17/?[00:00<00:00,74.67it/s]"
     ]
    },
    {
     "name": "stdout",
     "output_type": "stream",
     "text": [
      "\u001b[32m[1201 15:28:17 @DATSGAN.py:267]\u001b[0m Loading Preprocessor!\n"
     ]
    },
    {
     "name": "stderr",
     "output_type": "stream",
     "text": [
      "\n",
      "|                                                                                          |17/?[00:00<00:00,65.79it/s]"
     ]
    },
    {
     "name": "stdout",
     "output_type": "stream",
     "text": [
      "\u001b[32m[1201 15:28:17 @DATSGAN.py:267]\u001b[0m Loading Preprocessor!\n"
     ]
    },
    {
     "name": "stderr",
     "output_type": "stream",
     "text": [
      "\n",
      "|                                                                                          |17/?[00:00<00:00,71.55it/s]"
     ]
    },
    {
     "name": "stdout",
     "output_type": "stream",
     "text": [
      "\u001b[32m[1201 15:28:18 @DATSGAN.py:267]\u001b[0m Loading Preprocessor!\n"
     ]
    },
    {
     "name": "stderr",
     "output_type": "stream",
     "text": [
      "\n",
      "|                                                                                          |17/?[00:00<00:00,64.55it/s]"
     ]
    },
    {
     "name": "stdout",
     "output_type": "stream",
     "text": [
      "\u001b[32m[1201 15:28:18 @DATSGAN.py:267]\u001b[0m Loading Preprocessor!\n"
     ]
    },
    {
     "name": "stderr",
     "output_type": "stream",
     "text": [
      "\n",
      "|                                                                                          |17/?[00:00<00:00,69.80it/s]"
     ]
    },
    {
     "name": "stdout",
     "output_type": "stream",
     "text": [
      "\u001b[32m[1201 15:28:18 @DATSGAN.py:267]\u001b[0m Loading Preprocessor!\n"
     ]
    },
    {
     "name": "stderr",
     "output_type": "stream",
     "text": [
      "\n",
      "|                                                                                          |17/?[00:00<00:00,72.31it/s]"
     ]
    },
    {
     "name": "stdout",
     "output_type": "stream",
     "text": [
      "\u001b[32m[1201 15:28:19 @DATSGAN.py:267]\u001b[0m Loading Preprocessor!\n"
     ]
    },
    {
     "name": "stderr",
     "output_type": "stream",
     "text": [
      "\n",
      "|                                                                                          |17/?[00:00<00:00,65.04it/s]"
     ]
    },
    {
     "name": "stdout",
     "output_type": "stream",
     "text": [
      "\u001b[32m[1201 15:28:19 @DATSGAN.py:267]\u001b[0m Loading Preprocessor!\n"
     ]
    },
    {
     "name": "stderr",
     "output_type": "stream",
     "text": [
      "\n",
      "|                                                                                          |17/?[00:00<00:00,74.84it/s]"
     ]
    },
    {
     "name": "stdout",
     "output_type": "stream",
     "text": [
      "\u001b[32m[1201 15:28:19 @DATSGAN.py:267]\u001b[0m Loading Preprocessor!\n"
     ]
    },
    {
     "name": "stderr",
     "output_type": "stream",
     "text": [
      "\n",
      "|                                                                                          |17/?[00:00<00:00,67.47it/s]"
     ]
    },
    {
     "name": "stdout",
     "output_type": "stream",
     "text": [
      "\u001b[32m[1201 15:28:20 @DATSGAN.py:267]\u001b[0m Loading Preprocessor!\n"
     ]
    },
    {
     "name": "stderr",
     "output_type": "stream",
     "text": [
      "\n",
      "|                                                                                          |17/?[00:00<00:00,71.70it/s]"
     ]
    },
    {
     "name": "stdout",
     "output_type": "stream",
     "text": [
      "\u001b[32m[1201 15:28:20 @DATSGAN.py:267]\u001b[0m Loading Preprocessor!\n"
     ]
    },
    {
     "name": "stderr",
     "output_type": "stream",
     "text": [
      "\n",
      "|                                                                                          |17/?[00:00<00:00,64.30it/s]"
     ]
    },
    {
     "name": "stdout",
     "output_type": "stream",
     "text": [
      "\u001b[32m[1201 15:28:20 @DATSGAN.py:267]\u001b[0m Loading Preprocessor!\n"
     ]
    },
    {
     "name": "stderr",
     "output_type": "stream",
     "text": [
      "\n",
      "|                                                                                          |17/?[00:00<00:00,73.55it/s]\n"
     ]
    },
    {
     "name": "stdout",
     "output_type": "stream",
     "text": [
      "Sampling synthetic data from model \u001b[1mSGAN_WI_02\u001b[0m (12/55)\n",
      "\u001b[32m[1201 15:28:27 @DATSGANModel.py:213]\u001b[0m \u001b[91mCreating cell for age (in-edges: 0; ancestors: 0)\n",
      "\u001b[32m[1201 15:28:27 @DATSGANModel.py:213]\u001b[0m \u001b[91mCreating cell for gender (in-edges: 0; ancestors: 0)\n",
      "\u001b[32m[1201 15:28:27 @DATSGANModel.py:213]\u001b[0m \u001b[91mCreating cell for travel_dow (in-edges: 0; ancestors: 0)\n",
      "\u001b[32m[1201 15:28:27 @DATSGANModel.py:213]\u001b[0m \u001b[91mCreating cell for license (in-edges: 1; ancestors: 1)\n",
      "\u001b[32m[1201 15:28:27 @DATSGANModel.py:213]\u001b[0m \u001b[91mCreating cell for education_level (in-edges: 1; ancestors: 1)\n",
      "\u001b[32m[1201 15:28:27 @DATSGANModel.py:213]\u001b[0m \u001b[91mCreating cell for work_status (in-edges: 2; ancestors: 3)\n",
      "\u001b[32m[1201 15:28:27 @DATSGANModel.py:213]\u001b[0m \u001b[91mCreating cell for hh_income (in-edges: 2; ancestors: 4)\n",
      "\u001b[32m[1201 15:28:27 @DATSGANModel.py:213]\u001b[0m \u001b[91mCreating cell for trip_purpose (in-edges: 1; ancestors: 4)\n",
      "\u001b[32m[1201 15:28:27 @DATSGANModel.py:213]\u001b[0m \u001b[91mCreating cell for hh_descr (in-edges: 2; ancestors: 5)\n",
      "\u001b[32m[1201 15:28:27 @DATSGANModel.py:213]\u001b[0m \u001b[91mCreating cell for hh_size (in-edges: 3; ancestors: 5)\n",
      "\u001b[32m[1201 15:28:27 @DATSGANModel.py:213]\u001b[0m \u001b[91mCreating cell for departure_time (in-edges: 1; ancestors: 5)\n",
      "\u001b[32m[1201 15:28:27 @DATSGANModel.py:213]\u001b[0m \u001b[91mCreating cell for distance (in-edges: 1; ancestors: 5)\n",
      "\u001b[32m[1201 15:28:27 @DATSGANModel.py:213]\u001b[0m \u001b[91mCreating cell for hh_vehicles (in-edges: 2; ancestors: 6)\n",
      "\u001b[32m[1201 15:28:28 @DATSGANModel.py:213]\u001b[0m \u001b[91mCreating cell for hh_bikes (in-edges: 2; ancestors: 6)\n",
      "\u001b[32m[1201 15:28:28 @DATSGANModel.py:213]\u001b[0m \u001b[91mCreating cell for choice (in-edges: 7; ancestors: 13)\n",
      "\u001b[32m[1201 15:28:28 @collection.py:146]\u001b[0m New collections created in tower : tf.GraphKeys.REGULARIZATION_LOSSES\n",
      "\u001b[32m[1201 15:28:28 @collection.py:165]\u001b[0m These collections were modified but restored in : (tf.GraphKeys.SUMMARIES: 0->2)\n",
      "\u001b[32m[1201 15:28:28 @sessinit.py:87]\u001b[0m \u001b[5m\u001b[31mWRN\u001b[0m The following variables are in the checkpoint, but not found in the graph: global_step, optimize/beta1_power, optimize/beta2_power\n",
      "INFO:tensorflow:Graph was finalized.\n",
      "INFO:tensorflow:Running local_init_op.\n",
      "INFO:tensorflow:Done running local_init_op.\n",
      "\u001b[32m[1201 15:28:29 @sessinit.py:114]\u001b[0m Restoring checkpoint from ../output/Chicago/SGAN_WI_02/model\\model-17000 ...\n",
      "INFO:tensorflow:Restoring parameters from ../output/Chicago/SGAN_WI_02/model\\model-17000\n",
      "\u001b[32m[1201 15:28:30 @DATSGAN.py:267]\u001b[0m Loading Preprocessor!\n"
     ]
    },
    {
     "name": "stderr",
     "output_type": "stream",
     "text": [
      "|                                                                                          |17/?[00:00<00:00,34.31it/s]"
     ]
    },
    {
     "name": "stdout",
     "output_type": "stream",
     "text": [
      "\u001b[32m[1201 15:28:30 @DATSGAN.py:267]\u001b[0m Loading Preprocessor!\n"
     ]
    },
    {
     "name": "stderr",
     "output_type": "stream",
     "text": [
      "\n",
      "|                                                                                          |17/?[00:00<00:00,71.26it/s]"
     ]
    },
    {
     "name": "stdout",
     "output_type": "stream",
     "text": [
      "\u001b[32m[1201 15:28:30 @DATSGAN.py:267]\u001b[0m Loading Preprocessor!\n"
     ]
    },
    {
     "name": "stderr",
     "output_type": "stream",
     "text": [
      "\n",
      "|                                                                                          |17/?[00:00<00:00,67.47it/s]"
     ]
    },
    {
     "name": "stdout",
     "output_type": "stream",
     "text": [
      "\u001b[32m[1201 15:28:31 @DATSGAN.py:267]\u001b[0m Loading Preprocessor!\n"
     ]
    },
    {
     "name": "stderr",
     "output_type": "stream",
     "text": [
      "\n",
      "|                                                                                          |17/?[00:00<00:00,74.67it/s]"
     ]
    },
    {
     "name": "stdout",
     "output_type": "stream",
     "text": [
      "\u001b[32m[1201 15:28:31 @DATSGAN.py:267]\u001b[0m Loading Preprocessor!\n"
     ]
    },
    {
     "name": "stderr",
     "output_type": "stream",
     "text": [
      "\n",
      "|                                                                                          |17/?[00:00<00:00,65.79it/s]"
     ]
    },
    {
     "name": "stdout",
     "output_type": "stream",
     "text": [
      "\u001b[32m[1201 15:28:31 @DATSGAN.py:267]\u001b[0m Loading Preprocessor!\n"
     ]
    },
    {
     "name": "stderr",
     "output_type": "stream",
     "text": [
      "\n",
      "|                                                                                          |17/?[00:00<00:00,74.19it/s]"
     ]
    },
    {
     "name": "stdout",
     "output_type": "stream",
     "text": [
      "\u001b[32m[1201 15:28:32 @DATSGAN.py:267]\u001b[0m Loading Preprocessor!\n"
     ]
    },
    {
     "name": "stderr",
     "output_type": "stream",
     "text": [
      "\n",
      "|                                                                                          |17/?[00:00<00:00,63.83it/s]"
     ]
    },
    {
     "name": "stdout",
     "output_type": "stream",
     "text": [
      "\u001b[32m[1201 15:28:32 @DATSGAN.py:267]\u001b[0m Loading Preprocessor!\n"
     ]
    },
    {
     "name": "stderr",
     "output_type": "stream",
     "text": [
      "\n",
      "|                                                                                          |17/?[00:00<00:00,71.85it/s]"
     ]
    },
    {
     "name": "stdout",
     "output_type": "stream",
     "text": [
      "\u001b[32m[1201 15:28:32 @DATSGAN.py:267]\u001b[0m Loading Preprocessor!\n"
     ]
    },
    {
     "name": "stderr",
     "output_type": "stream",
     "text": [
      "\n",
      "|                                                                                          |17/?[00:00<00:00,67.47it/s]"
     ]
    },
    {
     "name": "stdout",
     "output_type": "stream",
     "text": [
      "\u001b[32m[1201 15:28:33 @DATSGAN.py:267]\u001b[0m Loading Preprocessor!\n"
     ]
    },
    {
     "name": "stderr",
     "output_type": "stream",
     "text": [
      "\n",
      "|                                                                                          |17/?[00:00<00:00,70.81it/s]"
     ]
    },
    {
     "name": "stdout",
     "output_type": "stream",
     "text": [
      "\u001b[32m[1201 15:28:33 @DATSGAN.py:267]\u001b[0m Loading Preprocessor!\n"
     ]
    },
    {
     "name": "stderr",
     "output_type": "stream",
     "text": [
      "\n",
      "|                                                                                          |17/?[00:00<00:00,67.07it/s]"
     ]
    },
    {
     "name": "stdout",
     "output_type": "stream",
     "text": [
      "\u001b[32m[1201 15:28:33 @DATSGAN.py:267]\u001b[0m Loading Preprocessor!\n"
     ]
    },
    {
     "name": "stderr",
     "output_type": "stream",
     "text": [
      "\n",
      "|                                                                                          |17/?[00:00<00:00,73.08it/s]"
     ]
    },
    {
     "name": "stdout",
     "output_type": "stream",
     "text": [
      "\u001b[32m[1201 15:28:33 @DATSGAN.py:267]\u001b[0m Loading Preprocessor!\n"
     ]
    },
    {
     "name": "stderr",
     "output_type": "stream",
     "text": [
      "\n",
      "|                                                                                          |17/?[00:00<00:00,64.79it/s]"
     ]
    },
    {
     "name": "stdout",
     "output_type": "stream",
     "text": [
      "\u001b[32m[1201 15:28:34 @DATSGAN.py:267]\u001b[0m Loading Preprocessor!\n"
     ]
    },
    {
     "name": "stderr",
     "output_type": "stream",
     "text": [
      "\n",
      "|                                                                                          |17/?[00:00<00:00,74.19it/s]"
     ]
    },
    {
     "name": "stdout",
     "output_type": "stream",
     "text": [
      "\u001b[32m[1201 15:28:34 @DATSGAN.py:267]\u001b[0m Loading Preprocessor!\n"
     ]
    },
    {
     "name": "stderr",
     "output_type": "stream",
     "text": [
      "\n",
      "|                                                                                          |17/?[00:00<00:00,65.79it/s]\n"
     ]
    },
    {
     "name": "stdout",
     "output_type": "stream",
     "text": [
      "Sampling synthetic data from model \u001b[1mSGAN_WI_03\u001b[0m (13/55)\n",
      "\u001b[32m[1201 15:28:40 @DATSGANModel.py:213]\u001b[0m \u001b[91mCreating cell for age (in-edges: 0; ancestors: 0)\n",
      "\u001b[32m[1201 15:28:41 @DATSGANModel.py:213]\u001b[0m \u001b[91mCreating cell for gender (in-edges: 0; ancestors: 0)\n",
      "\u001b[32m[1201 15:28:41 @DATSGANModel.py:213]\u001b[0m \u001b[91mCreating cell for travel_dow (in-edges: 0; ancestors: 0)\n",
      "\u001b[32m[1201 15:28:41 @DATSGANModel.py:213]\u001b[0m \u001b[91mCreating cell for license (in-edges: 1; ancestors: 1)\n",
      "\u001b[32m[1201 15:28:41 @DATSGANModel.py:213]\u001b[0m \u001b[91mCreating cell for education_level (in-edges: 1; ancestors: 1)\n",
      "\u001b[32m[1201 15:28:41 @DATSGANModel.py:213]\u001b[0m \u001b[91mCreating cell for work_status (in-edges: 2; ancestors: 3)\n",
      "\u001b[32m[1201 15:28:41 @DATSGANModel.py:213]\u001b[0m \u001b[91mCreating cell for hh_income (in-edges: 2; ancestors: 4)\n",
      "\u001b[32m[1201 15:28:41 @DATSGANModel.py:213]\u001b[0m \u001b[91mCreating cell for trip_purpose (in-edges: 1; ancestors: 4)\n",
      "\u001b[32m[1201 15:28:41 @DATSGANModel.py:213]\u001b[0m \u001b[91mCreating cell for hh_descr (in-edges: 2; ancestors: 5)\n",
      "\u001b[32m[1201 15:28:41 @DATSGANModel.py:213]\u001b[0m \u001b[91mCreating cell for hh_size (in-edges: 3; ancestors: 5)\n",
      "\u001b[32m[1201 15:28:41 @DATSGANModel.py:213]\u001b[0m \u001b[91mCreating cell for departure_time (in-edges: 1; ancestors: 5)\n",
      "\u001b[32m[1201 15:28:41 @DATSGANModel.py:213]\u001b[0m \u001b[91mCreating cell for distance (in-edges: 1; ancestors: 5)\n",
      "\u001b[32m[1201 15:28:41 @DATSGANModel.py:213]\u001b[0m \u001b[91mCreating cell for hh_vehicles (in-edges: 2; ancestors: 6)\n",
      "\u001b[32m[1201 15:28:41 @DATSGANModel.py:213]\u001b[0m \u001b[91mCreating cell for hh_bikes (in-edges: 2; ancestors: 6)\n",
      "\u001b[32m[1201 15:28:41 @DATSGANModel.py:213]\u001b[0m \u001b[91mCreating cell for choice (in-edges: 7; ancestors: 13)\n",
      "\u001b[32m[1201 15:28:42 @collection.py:146]\u001b[0m New collections created in tower : tf.GraphKeys.REGULARIZATION_LOSSES\n",
      "\u001b[32m[1201 15:28:42 @collection.py:165]\u001b[0m These collections were modified but restored in : (tf.GraphKeys.SUMMARIES: 0->2)\n",
      "\u001b[32m[1201 15:28:42 @sessinit.py:87]\u001b[0m \u001b[5m\u001b[31mWRN\u001b[0m The following variables are in the checkpoint, but not found in the graph: global_step, optimize/beta1_power, optimize/beta2_power\n",
      "INFO:tensorflow:Graph was finalized.\n",
      "INFO:tensorflow:Running local_init_op.\n",
      "INFO:tensorflow:Done running local_init_op.\n",
      "\u001b[32m[1201 15:28:43 @sessinit.py:114]\u001b[0m Restoring checkpoint from ../output/Chicago/SGAN_WI_03/model\\model-17000 ...\n",
      "INFO:tensorflow:Restoring parameters from ../output/Chicago/SGAN_WI_03/model\\model-17000\n",
      "\u001b[32m[1201 15:28:43 @DATSGAN.py:267]\u001b[0m Loading Preprocessor!\n"
     ]
    },
    {
     "name": "stderr",
     "output_type": "stream",
     "text": [
      "|                                                                                          |17/?[00:00<00:00,34.97it/s]"
     ]
    },
    {
     "name": "stdout",
     "output_type": "stream",
     "text": [
      "\u001b[32m[1201 15:28:44 @DATSGAN.py:267]\u001b[0m Loading Preprocessor!\n"
     ]
    },
    {
     "name": "stderr",
     "output_type": "stream",
     "text": [
      "\n",
      "|                                                                                          |17/?[00:00<00:00,64.79it/s]"
     ]
    },
    {
     "name": "stdout",
     "output_type": "stream",
     "text": [
      "\u001b[32m[1201 15:28:44 @DATSGAN.py:267]\u001b[0m Loading Preprocessor!\n"
     ]
    },
    {
     "name": "stderr",
     "output_type": "stream",
     "text": [
      "\n",
      "|                                                                                          |17/?[00:00<00:00,68.82it/s]"
     ]
    },
    {
     "name": "stdout",
     "output_type": "stream",
     "text": [
      "\u001b[32m[1201 15:28:44 @DATSGAN.py:267]\u001b[0m Loading Preprocessor!\n"
     ]
    },
    {
     "name": "stderr",
     "output_type": "stream",
     "text": [
      "\n",
      "|                                                                                          |17/?[00:00<00:00,68.96it/s]"
     ]
    },
    {
     "name": "stdout",
     "output_type": "stream",
     "text": [
      "\u001b[32m[1201 15:28:45 @DATSGAN.py:267]\u001b[0m Loading Preprocessor!\n"
     ]
    },
    {
     "name": "stderr",
     "output_type": "stream",
     "text": [
      "\n",
      "|                                                                                          |17/?[00:00<00:00,71.26it/s]"
     ]
    },
    {
     "name": "stdout",
     "output_type": "stream",
     "text": [
      "\u001b[32m[1201 15:28:45 @DATSGAN.py:267]\u001b[0m Loading Preprocessor!\n"
     ]
    },
    {
     "name": "stderr",
     "output_type": "stream",
     "text": [
      "\n",
      "|                                                                                          |17/?[00:00<00:00,74.19it/s]"
     ]
    },
    {
     "name": "stdout",
     "output_type": "stream",
     "text": [
      "\u001b[32m[1201 15:28:45 @DATSGAN.py:267]\u001b[0m Loading Preprocessor!\n"
     ]
    },
    {
     "name": "stderr",
     "output_type": "stream",
     "text": [
      "\n",
      "|                                                                                          |17/?[00:00<00:00,71.26it/s]"
     ]
    },
    {
     "name": "stdout",
     "output_type": "stream",
     "text": [
      "\u001b[32m[1201 15:28:46 @DATSGAN.py:267]\u001b[0m Loading Preprocessor!\n"
     ]
    },
    {
     "name": "stderr",
     "output_type": "stream",
     "text": [
      "\n",
      "|                                                                                          |17/?[00:00<00:00,70.81it/s]"
     ]
    },
    {
     "name": "stdout",
     "output_type": "stream",
     "text": [
      "\u001b[32m[1201 15:28:46 @DATSGAN.py:267]\u001b[0m Loading Preprocessor!\n"
     ]
    },
    {
     "name": "stderr",
     "output_type": "stream",
     "text": [
      "\n",
      "|                                                                                          |17/?[00:00<00:00,72.16it/s]"
     ]
    },
    {
     "name": "stdout",
     "output_type": "stream",
     "text": [
      "\u001b[32m[1201 15:28:46 @DATSGAN.py:267]\u001b[0m Loading Preprocessor!\n"
     ]
    },
    {
     "name": "stderr",
     "output_type": "stream",
     "text": [
      "\n",
      "|                                                                                          |17/?[00:00<00:00,69.81it/s]"
     ]
    },
    {
     "name": "stdout",
     "output_type": "stream",
     "text": [
      "\u001b[32m[1201 15:28:47 @DATSGAN.py:267]\u001b[0m Loading Preprocessor!\n"
     ]
    },
    {
     "name": "stderr",
     "output_type": "stream",
     "text": [
      "\n",
      "|                                                                                          |17/?[00:00<00:00,71.11it/s]"
     ]
    },
    {
     "name": "stdout",
     "output_type": "stream",
     "text": [
      "\u001b[32m[1201 15:28:47 @DATSGAN.py:267]\u001b[0m Loading Preprocessor!\n"
     ]
    },
    {
     "name": "stderr",
     "output_type": "stream",
     "text": [
      "\n",
      "|                                                                                          |17/?[00:00<00:00,69.66it/s]"
     ]
    },
    {
     "name": "stdout",
     "output_type": "stream",
     "text": [
      "\u001b[32m[1201 15:28:47 @DATSGAN.py:267]\u001b[0m Loading Preprocessor!\n"
     ]
    },
    {
     "name": "stderr",
     "output_type": "stream",
     "text": [
      "\n",
      "|                                                                                          |17/?[00:00<00:00,59.61it/s]"
     ]
    },
    {
     "name": "stdout",
     "output_type": "stream",
     "text": [
      "\u001b[32m[1201 15:28:48 @DATSGAN.py:267]\u001b[0m Loading Preprocessor!\n"
     ]
    },
    {
     "name": "stderr",
     "output_type": "stream",
     "text": [
      "\n",
      "|                                                                                          |17/?[00:00<00:00,67.60it/s]"
     ]
    },
    {
     "name": "stdout",
     "output_type": "stream",
     "text": [
      "\u001b[32m[1201 15:28:48 @DATSGAN.py:267]\u001b[0m Loading Preprocessor!\n"
     ]
    },
    {
     "name": "stderr",
     "output_type": "stream",
     "text": [
      "\n",
      "|                                                                                          |17/?[00:00<00:00,66.42it/s]\n"
     ]
    },
    {
     "name": "stdout",
     "output_type": "stream",
     "text": [
      "Sampling synthetic data from model \u001b[1mSGAN_WI_04\u001b[0m (14/55)\n",
      "\u001b[32m[1201 15:28:54 @DATSGANModel.py:213]\u001b[0m \u001b[91mCreating cell for age (in-edges: 0; ancestors: 0)\n",
      "\u001b[32m[1201 15:28:54 @DATSGANModel.py:213]\u001b[0m \u001b[91mCreating cell for gender (in-edges: 0; ancestors: 0)\n",
      "\u001b[32m[1201 15:28:54 @DATSGANModel.py:213]\u001b[0m \u001b[91mCreating cell for travel_dow (in-edges: 0; ancestors: 0)\n",
      "\u001b[32m[1201 15:28:54 @DATSGANModel.py:213]\u001b[0m \u001b[91mCreating cell for license (in-edges: 1; ancestors: 1)\n",
      "\u001b[32m[1201 15:28:55 @DATSGANModel.py:213]\u001b[0m \u001b[91mCreating cell for education_level (in-edges: 1; ancestors: 1)\n",
      "\u001b[32m[1201 15:28:55 @DATSGANModel.py:213]\u001b[0m \u001b[91mCreating cell for work_status (in-edges: 2; ancestors: 3)\n",
      "\u001b[32m[1201 15:28:55 @DATSGANModel.py:213]\u001b[0m \u001b[91mCreating cell for hh_income (in-edges: 2; ancestors: 4)\n",
      "\u001b[32m[1201 15:28:55 @DATSGANModel.py:213]\u001b[0m \u001b[91mCreating cell for trip_purpose (in-edges: 1; ancestors: 4)\n",
      "\u001b[32m[1201 15:28:55 @DATSGANModel.py:213]\u001b[0m \u001b[91mCreating cell for hh_descr (in-edges: 2; ancestors: 5)\n",
      "\u001b[32m[1201 15:28:55 @DATSGANModel.py:213]\u001b[0m \u001b[91mCreating cell for hh_size (in-edges: 3; ancestors: 5)\n",
      "\u001b[32m[1201 15:28:55 @DATSGANModel.py:213]\u001b[0m \u001b[91mCreating cell for departure_time (in-edges: 1; ancestors: 5)\n",
      "\u001b[32m[1201 15:28:55 @DATSGANModel.py:213]\u001b[0m \u001b[91mCreating cell for distance (in-edges: 1; ancestors: 5)\n",
      "\u001b[32m[1201 15:28:55 @DATSGANModel.py:213]\u001b[0m \u001b[91mCreating cell for hh_vehicles (in-edges: 2; ancestors: 6)\n",
      "\u001b[32m[1201 15:28:55 @DATSGANModel.py:213]\u001b[0m \u001b[91mCreating cell for hh_bikes (in-edges: 2; ancestors: 6)\n",
      "\u001b[32m[1201 15:28:55 @DATSGANModel.py:213]\u001b[0m \u001b[91mCreating cell for choice (in-edges: 7; ancestors: 13)\n",
      "\u001b[32m[1201 15:28:56 @collection.py:146]\u001b[0m New collections created in tower : tf.GraphKeys.REGULARIZATION_LOSSES\n",
      "\u001b[32m[1201 15:28:56 @collection.py:165]\u001b[0m These collections were modified but restored in : (tf.GraphKeys.SUMMARIES: 0->2)\n",
      "\u001b[32m[1201 15:28:56 @sessinit.py:87]\u001b[0m \u001b[5m\u001b[31mWRN\u001b[0m The following variables are in the checkpoint, but not found in the graph: global_step, optimize/beta1_power, optimize/beta2_power\n",
      "INFO:tensorflow:Graph was finalized.\n",
      "INFO:tensorflow:Running local_init_op.\n",
      "INFO:tensorflow:Done running local_init_op.\n",
      "\u001b[32m[1201 15:28:57 @sessinit.py:114]\u001b[0m Restoring checkpoint from ../output/Chicago/SGAN_WI_04/model\\model-17000 ...\n",
      "INFO:tensorflow:Restoring parameters from ../output/Chicago/SGAN_WI_04/model\\model-17000\n",
      "\u001b[32m[1201 15:28:57 @DATSGAN.py:267]\u001b[0m Loading Preprocessor!\n"
     ]
    },
    {
     "name": "stderr",
     "output_type": "stream",
     "text": [
      "|                                                                                          |17/?[00:00<00:00,26.16it/s]\n"
     ]
    },
    {
     "name": "stdout",
     "output_type": "stream",
     "text": [
      "\u001b[32m[1201 15:28:58 @DATSGAN.py:267]\u001b[0m Loading Preprocessor!\n"
     ]
    },
    {
     "name": "stderr",
     "output_type": "stream",
     "text": [
      "|                                                                                          |17/?[00:00<00:00,63.94it/s]"
     ]
    },
    {
     "name": "stdout",
     "output_type": "stream",
     "text": [
      "\u001b[32m[1201 15:28:58 @DATSGAN.py:267]\u001b[0m Loading Preprocessor!\n"
     ]
    },
    {
     "name": "stderr",
     "output_type": "stream",
     "text": [
      "\n",
      "|                                                                                          |17/?[00:00<00:00,50.26it/s]"
     ]
    },
    {
     "name": "stdout",
     "output_type": "stream",
     "text": [
      "\u001b[32m[1201 15:28:59 @DATSGAN.py:267]\u001b[0m Loading Preprocessor!\n"
     ]
    },
    {
     "name": "stderr",
     "output_type": "stream",
     "text": [
      "\n",
      "|                                                                                          |17/?[00:00<00:00,61.76it/s]\n"
     ]
    },
    {
     "name": "stdout",
     "output_type": "stream",
     "text": [
      "\u001b[32m[1201 15:28:59 @DATSGAN.py:267]\u001b[0m Loading Preprocessor!\n"
     ]
    },
    {
     "name": "stderr",
     "output_type": "stream",
     "text": [
      "|                                                                                          |17/?[00:00<00:00,56.10it/s]"
     ]
    },
    {
     "name": "stdout",
     "output_type": "stream",
     "text": [
      "\u001b[32m[1201 15:29:00 @DATSGAN.py:267]\u001b[0m Loading Preprocessor!\n"
     ]
    },
    {
     "name": "stderr",
     "output_type": "stream",
     "text": [
      "\n",
      "|                                                                                          |17/?[00:00<00:00,52.41it/s]\n"
     ]
    },
    {
     "name": "stdout",
     "output_type": "stream",
     "text": [
      "\u001b[32m[1201 15:29:00 @DATSGAN.py:267]\u001b[0m Loading Preprocessor!\n"
     ]
    },
    {
     "name": "stderr",
     "output_type": "stream",
     "text": [
      "|                                                                                          |17/?[00:00<00:00,53.64it/s]\n"
     ]
    },
    {
     "name": "stdout",
     "output_type": "stream",
     "text": [
      "\u001b[32m[1201 15:29:01 @DATSGAN.py:267]\u001b[0m Loading Preprocessor!\n"
     ]
    },
    {
     "name": "stderr",
     "output_type": "stream",
     "text": [
      "|                                                                                          |17/?[00:00<00:00,63.00it/s]\n"
     ]
    },
    {
     "name": "stdout",
     "output_type": "stream",
     "text": [
      "\u001b[32m[1201 15:29:01 @DATSGAN.py:267]\u001b[0m Loading Preprocessor!\n"
     ]
    },
    {
     "name": "stderr",
     "output_type": "stream",
     "text": [
      "|                                                                                          |17/?[00:00<00:00,48.75it/s]\n"
     ]
    },
    {
     "name": "stdout",
     "output_type": "stream",
     "text": [
      "\u001b[32m[1201 15:29:02 @DATSGAN.py:267]\u001b[0m Loading Preprocessor!\n"
     ]
    },
    {
     "name": "stderr",
     "output_type": "stream",
     "text": [
      "|                                                                                          |17/?[00:00<00:00,49.75it/s]\n"
     ]
    },
    {
     "name": "stdout",
     "output_type": "stream",
     "text": [
      "\u001b[32m[1201 15:29:02 @DATSGAN.py:267]\u001b[0m Loading Preprocessor!\n"
     ]
    },
    {
     "name": "stderr",
     "output_type": "stream",
     "text": [
      "|                                                                                          |17/?[00:00<00:00,53.14it/s]\n"
     ]
    },
    {
     "name": "stdout",
     "output_type": "stream",
     "text": [
      "\u001b[32m[1201 15:29:03 @DATSGAN.py:267]\u001b[0m Loading Preprocessor!\n"
     ]
    },
    {
     "name": "stderr",
     "output_type": "stream",
     "text": [
      "|                                                                                          |17/?[00:00<00:00,64.18it/s]\n"
     ]
    },
    {
     "name": "stdout",
     "output_type": "stream",
     "text": [
      "\u001b[32m[1201 15:29:03 @DATSGAN.py:267]\u001b[0m Loading Preprocessor!\n"
     ]
    },
    {
     "name": "stderr",
     "output_type": "stream",
     "text": [
      "|                                                                                          |17/?[00:00<00:00,53.81it/s]\n"
     ]
    },
    {
     "name": "stdout",
     "output_type": "stream",
     "text": [
      "\u001b[32m[1201 15:29:04 @DATSGAN.py:267]\u001b[0m Loading Preprocessor!\n"
     ]
    },
    {
     "name": "stderr",
     "output_type": "stream",
     "text": [
      "|                                                                                          |17/?[00:00<00:00,51.00it/s]\n"
     ]
    },
    {
     "name": "stdout",
     "output_type": "stream",
     "text": [
      "\u001b[32m[1201 15:29:04 @DATSGAN.py:267]\u001b[0m Loading Preprocessor!\n"
     ]
    },
    {
     "name": "stderr",
     "output_type": "stream",
     "text": [
      "|                                                                                          |17/?[00:00<00:00,52.57it/s]\n"
     ]
    },
    {
     "name": "stdout",
     "output_type": "stream",
     "text": [
      "Sampling synthetic data from model \u001b[1mSGAN_WI_05\u001b[0m (15/55)\n",
      "\u001b[32m[1201 15:29:11 @DATSGANModel.py:213]\u001b[0m \u001b[91mCreating cell for age (in-edges: 0; ancestors: 0)\n",
      "\u001b[32m[1201 15:29:11 @DATSGANModel.py:213]\u001b[0m \u001b[91mCreating cell for gender (in-edges: 0; ancestors: 0)\n",
      "\u001b[32m[1201 15:29:11 @DATSGANModel.py:213]\u001b[0m \u001b[91mCreating cell for travel_dow (in-edges: 0; ancestors: 0)\n",
      "\u001b[32m[1201 15:29:11 @DATSGANModel.py:213]\u001b[0m \u001b[91mCreating cell for license (in-edges: 1; ancestors: 1)\n",
      "\u001b[32m[1201 15:29:11 @DATSGANModel.py:213]\u001b[0m \u001b[91mCreating cell for education_level (in-edges: 1; ancestors: 1)\n",
      "\u001b[32m[1201 15:29:11 @DATSGANModel.py:213]\u001b[0m \u001b[91mCreating cell for work_status (in-edges: 2; ancestors: 3)\n",
      "\u001b[32m[1201 15:29:11 @DATSGANModel.py:213]\u001b[0m \u001b[91mCreating cell for hh_income (in-edges: 2; ancestors: 4)\n",
      "\u001b[32m[1201 15:29:11 @DATSGANModel.py:213]\u001b[0m \u001b[91mCreating cell for trip_purpose (in-edges: 1; ancestors: 4)\n",
      "\u001b[32m[1201 15:29:11 @DATSGANModel.py:213]\u001b[0m \u001b[91mCreating cell for hh_descr (in-edges: 2; ancestors: 5)\n",
      "\u001b[32m[1201 15:29:12 @DATSGANModel.py:213]\u001b[0m \u001b[91mCreating cell for hh_size (in-edges: 3; ancestors: 5)\n",
      "\u001b[32m[1201 15:29:12 @DATSGANModel.py:213]\u001b[0m \u001b[91mCreating cell for departure_time (in-edges: 1; ancestors: 5)\n",
      "\u001b[32m[1201 15:29:12 @DATSGANModel.py:213]\u001b[0m \u001b[91mCreating cell for distance (in-edges: 1; ancestors: 5)\n",
      "\u001b[32m[1201 15:29:12 @DATSGANModel.py:213]\u001b[0m \u001b[91mCreating cell for hh_vehicles (in-edges: 2; ancestors: 6)\n",
      "\u001b[32m[1201 15:29:12 @DATSGANModel.py:213]\u001b[0m \u001b[91mCreating cell for hh_bikes (in-edges: 2; ancestors: 6)\n",
      "\u001b[32m[1201 15:29:12 @DATSGANModel.py:213]\u001b[0m \u001b[91mCreating cell for choice (in-edges: 7; ancestors: 13)\n",
      "\u001b[32m[1201 15:29:13 @collection.py:146]\u001b[0m New collections created in tower : tf.GraphKeys.REGULARIZATION_LOSSES\n",
      "\u001b[32m[1201 15:29:13 @collection.py:165]\u001b[0m These collections were modified but restored in : (tf.GraphKeys.SUMMARIES: 0->2)\n",
      "\u001b[32m[1201 15:29:13 @sessinit.py:87]\u001b[0m \u001b[5m\u001b[31mWRN\u001b[0m The following variables are in the checkpoint, but not found in the graph: global_step, optimize/beta1_power, optimize/beta2_power\n",
      "INFO:tensorflow:Graph was finalized.\n",
      "INFO:tensorflow:Running local_init_op.\n",
      "INFO:tensorflow:Done running local_init_op.\n",
      "\u001b[32m[1201 15:29:14 @sessinit.py:114]\u001b[0m Restoring checkpoint from ../output/Chicago/SGAN_WI_05/model\\model-17000 ...\n",
      "INFO:tensorflow:Restoring parameters from ../output/Chicago/SGAN_WI_05/model\\model-17000\n",
      "\u001b[32m[1201 15:29:14 @DATSGAN.py:267]\u001b[0m Loading Preprocessor!\n"
     ]
    },
    {
     "name": "stderr",
     "output_type": "stream",
     "text": [
      "|                                                                                          |17/?[00:00<00:00,28.47it/s]"
     ]
    },
    {
     "name": "stdout",
     "output_type": "stream",
     "text": [
      "\u001b[32m[1201 15:29:15 @DATSGAN.py:267]\u001b[0m Loading Preprocessor!\n"
     ]
    },
    {
     "name": "stderr",
     "output_type": "stream",
     "text": [
      "\n",
      "|                                                                                          |17/?[00:00<00:00,60.02it/s]"
     ]
    },
    {
     "name": "stdout",
     "output_type": "stream",
     "text": [
      "\u001b[32m[1201 15:29:15 @DATSGAN.py:267]\u001b[0m Loading Preprocessor!\n"
     ]
    },
    {
     "name": "stderr",
     "output_type": "stream",
     "text": [
      "\n",
      "|                                                                                          |17/?[00:00<00:00,50.78it/s]"
     ]
    },
    {
     "name": "stdout",
     "output_type": "stream",
     "text": [
      "\u001b[32m[1201 15:29:15 @DATSGAN.py:267]\u001b[0m Loading Preprocessor!\n"
     ]
    },
    {
     "name": "stderr",
     "output_type": "stream",
     "text": [
      "\n",
      "|                                                                                          |17/?[00:00<00:00,61.31it/s]"
     ]
    },
    {
     "name": "stdout",
     "output_type": "stream",
     "text": [
      "\u001b[32m[1201 15:29:16 @DATSGAN.py:267]\u001b[0m Loading Preprocessor!\n"
     ]
    },
    {
     "name": "stderr",
     "output_type": "stream",
     "text": [
      "\n",
      "|                                                                                          |17/?[00:00<00:00,51.39it/s]"
     ]
    },
    {
     "name": "stdout",
     "output_type": "stream",
     "text": [
      "\u001b[32m[1201 15:29:16 @DATSGAN.py:267]\u001b[0m Loading Preprocessor!\n"
     ]
    },
    {
     "name": "stderr",
     "output_type": "stream",
     "text": [
      "\n",
      "|                                                                                          |17/?[00:00<00:00,63.47it/s]"
     ]
    },
    {
     "name": "stdout",
     "output_type": "stream",
     "text": [
      "\u001b[32m[1201 15:29:16 @DATSGAN.py:267]\u001b[0m Loading Preprocessor!\n"
     ]
    },
    {
     "name": "stderr",
     "output_type": "stream",
     "text": [
      "\n",
      "|                                                                                          |17/?[00:00<00:00,49.39it/s]"
     ]
    },
    {
     "name": "stdout",
     "output_type": "stream",
     "text": [
      "\u001b[32m[1201 15:29:17 @DATSGAN.py:267]\u001b[0m Loading Preprocessor!\n"
     ]
    },
    {
     "name": "stderr",
     "output_type": "stream",
     "text": [
      "\n",
      "|                                                                                          |17/?[00:00<00:00,62.20it/s]"
     ]
    },
    {
     "name": "stdout",
     "output_type": "stream",
     "text": [
      "\u001b[32m[1201 15:29:17 @DATSGAN.py:267]\u001b[0m Loading Preprocessor!\n"
     ]
    },
    {
     "name": "stderr",
     "output_type": "stream",
     "text": [
      "\n",
      "|                                                                                          |17/?[00:00<00:00,52.41it/s]"
     ]
    },
    {
     "name": "stdout",
     "output_type": "stream",
     "text": [
      "\u001b[32m[1201 15:29:18 @DATSGAN.py:267]\u001b[0m Loading Preprocessor!\n"
     ]
    },
    {
     "name": "stderr",
     "output_type": "stream",
     "text": [
      "\n",
      "|                                                                                          |17/?[00:00<00:00,49.96it/s]"
     ]
    },
    {
     "name": "stdout",
     "output_type": "stream",
     "text": [
      "\u001b[32m[1201 15:29:18 @DATSGAN.py:267]\u001b[0m Loading Preprocessor!\n"
     ]
    },
    {
     "name": "stderr",
     "output_type": "stream",
     "text": [
      "\n",
      "|                                                                                          |17/?[00:00<00:00,49.46it/s]"
     ]
    },
    {
     "name": "stdout",
     "output_type": "stream",
     "text": [
      "\u001b[32m[1201 15:29:18 @DATSGAN.py:267]\u001b[0m Loading Preprocessor!\n"
     ]
    },
    {
     "name": "stderr",
     "output_type": "stream",
     "text": [
      "\n",
      "|                                                                                          |17/?[00:00<00:00,59.61it/s]"
     ]
    },
    {
     "name": "stdout",
     "output_type": "stream",
     "text": [
      "\u001b[32m[1201 15:29:19 @DATSGAN.py:267]\u001b[0m Loading Preprocessor!\n"
     ]
    },
    {
     "name": "stderr",
     "output_type": "stream",
     "text": [
      "\n",
      "|                                                                                          |17/?[00:00<00:00,49.67it/s]"
     ]
    },
    {
     "name": "stdout",
     "output_type": "stream",
     "text": [
      "\u001b[32m[1201 15:29:19 @DATSGAN.py:267]\u001b[0m Loading Preprocessor!\n"
     ]
    },
    {
     "name": "stderr",
     "output_type": "stream",
     "text": [
      "\n",
      "|                                                                                          |17/?[00:00<00:00,59.20it/s]"
     ]
    },
    {
     "name": "stdout",
     "output_type": "stream",
     "text": [
      "\u001b[32m[1201 15:29:19 @DATSGAN.py:267]\u001b[0m Loading Preprocessor!\n"
     ]
    },
    {
     "name": "stderr",
     "output_type": "stream",
     "text": [
      "\n",
      "|                                                                                          |17/?[00:00<00:00,50.33it/s]\n"
     ]
    },
    {
     "name": "stdout",
     "output_type": "stream",
     "text": [
      "Sampling synthetic data from model \u001b[1mSGAN_WO_01\u001b[0m (16/55)\n",
      "\u001b[32m[1201 15:29:26 @DATSGANModel.py:213]\u001b[0m \u001b[91mCreating cell for age (in-edges: 0; ancestors: 0)\n",
      "\u001b[32m[1201 15:29:26 @DATSGANModel.py:213]\u001b[0m \u001b[91mCreating cell for gender (in-edges: 0; ancestors: 0)\n",
      "\u001b[32m[1201 15:29:26 @DATSGANModel.py:213]\u001b[0m \u001b[91mCreating cell for travel_dow (in-edges: 0; ancestors: 0)\n",
      "\u001b[32m[1201 15:29:26 @DATSGANModel.py:213]\u001b[0m \u001b[91mCreating cell for license (in-edges: 1; ancestors: 1)\n",
      "\u001b[32m[1201 15:29:26 @DATSGANModel.py:213]\u001b[0m \u001b[91mCreating cell for education_level (in-edges: 1; ancestors: 1)\n",
      "\u001b[32m[1201 15:29:26 @DATSGANModel.py:213]\u001b[0m \u001b[91mCreating cell for work_status (in-edges: 2; ancestors: 3)\n",
      "\u001b[32m[1201 15:29:26 @DATSGANModel.py:213]\u001b[0m \u001b[91mCreating cell for hh_income (in-edges: 2; ancestors: 4)\n",
      "\u001b[32m[1201 15:29:27 @DATSGANModel.py:213]\u001b[0m \u001b[91mCreating cell for trip_purpose (in-edges: 1; ancestors: 4)\n",
      "\u001b[32m[1201 15:29:27 @DATSGANModel.py:213]\u001b[0m \u001b[91mCreating cell for hh_descr (in-edges: 2; ancestors: 5)\n",
      "\u001b[32m[1201 15:29:27 @DATSGANModel.py:213]\u001b[0m \u001b[91mCreating cell for hh_size (in-edges: 3; ancestors: 5)\n",
      "\u001b[32m[1201 15:29:27 @DATSGANModel.py:213]\u001b[0m \u001b[91mCreating cell for departure_time (in-edges: 1; ancestors: 5)\n",
      "\u001b[32m[1201 15:29:27 @DATSGANModel.py:213]\u001b[0m \u001b[91mCreating cell for distance (in-edges: 1; ancestors: 5)\n",
      "\u001b[32m[1201 15:29:27 @DATSGANModel.py:213]\u001b[0m \u001b[91mCreating cell for hh_vehicles (in-edges: 2; ancestors: 6)\n",
      "\u001b[32m[1201 15:29:27 @DATSGANModel.py:213]\u001b[0m \u001b[91mCreating cell for hh_bikes (in-edges: 2; ancestors: 6)\n",
      "\u001b[32m[1201 15:29:27 @DATSGANModel.py:213]\u001b[0m \u001b[91mCreating cell for choice (in-edges: 7; ancestors: 13)\n",
      "\u001b[32m[1201 15:29:28 @collection.py:146]\u001b[0m New collections created in tower : tf.GraphKeys.REGULARIZATION_LOSSES\n",
      "\u001b[32m[1201 15:29:28 @collection.py:165]\u001b[0m These collections were modified but restored in : (tf.GraphKeys.SUMMARIES: 0->2)\n",
      "\u001b[32m[1201 15:29:28 @sessinit.py:87]\u001b[0m \u001b[5m\u001b[31mWRN\u001b[0m The following variables are in the checkpoint, but not found in the graph: global_step, optimize/beta1_power, optimize/beta2_power\n",
      "INFO:tensorflow:Graph was finalized.\n",
      "INFO:tensorflow:Running local_init_op.\n",
      "INFO:tensorflow:Done running local_init_op.\n",
      "\u001b[32m[1201 15:29:29 @sessinit.py:114]\u001b[0m Restoring checkpoint from ../output/Chicago/SGAN_WO_01/model\\model-17000 ...\n",
      "INFO:tensorflow:Restoring parameters from ../output/Chicago/SGAN_WO_01/model\\model-17000\n",
      "\u001b[32m[1201 15:29:29 @DATSGAN.py:267]\u001b[0m Loading Preprocessor!\n"
     ]
    },
    {
     "name": "stderr",
     "output_type": "stream",
     "text": [
      "|                                                                                          |17/?[00:00<00:00,28.92it/s]"
     ]
    },
    {
     "name": "stdout",
     "output_type": "stream",
     "text": [
      "\u001b[32m[1201 15:29:30 @DATSGAN.py:267]\u001b[0m Loading Preprocessor!\n"
     ]
    },
    {
     "name": "stderr",
     "output_type": "stream",
     "text": [
      "\n",
      "|                                                                                          |17/?[00:00<00:00,65.04it/s]"
     ]
    },
    {
     "name": "stdout",
     "output_type": "stream",
     "text": [
      "\u001b[32m[1201 15:29:30 @DATSGAN.py:267]\u001b[0m Loading Preprocessor!\n"
     ]
    },
    {
     "name": "stderr",
     "output_type": "stream",
     "text": [
      "\n",
      "|                                                                                          |17/?[00:00<00:00,49.39it/s]"
     ]
    },
    {
     "name": "stdout",
     "output_type": "stream",
     "text": [
      "\u001b[32m[1201 15:29:30 @DATSGAN.py:267]\u001b[0m Loading Preprocessor!\n"
     ]
    },
    {
     "name": "stderr",
     "output_type": "stream",
     "text": [
      "\n",
      "|                                                                                          |17/?[00:00<00:00,64.43it/s]"
     ]
    },
    {
     "name": "stdout",
     "output_type": "stream",
     "text": [
      "\u001b[32m[1201 15:29:31 @DATSGAN.py:267]\u001b[0m Loading Preprocessor!\n"
     ]
    },
    {
     "name": "stderr",
     "output_type": "stream",
     "text": [
      "\n",
      "|                                                                                          |17/?[00:00<00:00,51.85it/s]"
     ]
    },
    {
     "name": "stdout",
     "output_type": "stream",
     "text": [
      "\u001b[32m[1201 15:29:31 @DATSGAN.py:267]\u001b[0m Loading Preprocessor!\n"
     ]
    },
    {
     "name": "stderr",
     "output_type": "stream",
     "text": [
      "\n",
      "|                                                                                          |17/?[00:00<00:00,60.24it/s]"
     ]
    },
    {
     "name": "stdout",
     "output_type": "stream",
     "text": [
      "\u001b[32m[1201 15:29:31 @DATSGAN.py:267]\u001b[0m Loading Preprocessor!\n"
     ]
    },
    {
     "name": "stderr",
     "output_type": "stream",
     "text": [
      "\n",
      "|                                                                                          |17/?[00:00<00:00,49.67it/s]"
     ]
    },
    {
     "name": "stdout",
     "output_type": "stream",
     "text": [
      "\u001b[32m[1201 15:29:32 @DATSGAN.py:267]\u001b[0m Loading Preprocessor!\n"
     ]
    },
    {
     "name": "stderr",
     "output_type": "stream",
     "text": [
      "\n",
      "|                                                                                          |17/?[00:00<00:00,60.13it/s]"
     ]
    },
    {
     "name": "stdout",
     "output_type": "stream",
     "text": [
      "\u001b[32m[1201 15:29:32 @DATSGAN.py:267]\u001b[0m Loading Preprocessor!\n"
     ]
    },
    {
     "name": "stderr",
     "output_type": "stream",
     "text": [
      "\n",
      "|                                                                                          |17/?[00:00<00:00,51.54it/s]"
     ]
    },
    {
     "name": "stdout",
     "output_type": "stream",
     "text": [
      "\u001b[32m[1201 15:29:33 @DATSGAN.py:267]\u001b[0m Loading Preprocessor!\n"
     ]
    },
    {
     "name": "stderr",
     "output_type": "stream",
     "text": [
      "\n",
      "|                                                                                          |17/?[00:00<00:00,59.30it/s]"
     ]
    },
    {
     "name": "stdout",
     "output_type": "stream",
     "text": [
      "\u001b[32m[1201 15:29:33 @DATSGAN.py:267]\u001b[0m Loading Preprocessor!\n"
     ]
    },
    {
     "name": "stderr",
     "output_type": "stream",
     "text": [
      "\n",
      "|                                                                                          |17/?[00:00<00:00,49.89it/s]"
     ]
    },
    {
     "name": "stdout",
     "output_type": "stream",
     "text": [
      "\u001b[32m[1201 15:29:33 @DATSGAN.py:267]\u001b[0m Loading Preprocessor!\n"
     ]
    },
    {
     "name": "stderr",
     "output_type": "stream",
     "text": [
      "\n",
      "|                                                                                          |17/?[00:00<00:00,59.50it/s]"
     ]
    },
    {
     "name": "stdout",
     "output_type": "stream",
     "text": [
      "\u001b[32m[1201 15:29:34 @DATSGAN.py:267]\u001b[0m Loading Preprocessor!\n"
     ]
    },
    {
     "name": "stderr",
     "output_type": "stream",
     "text": [
      "\n",
      "|                                                                                          |17/?[00:00<00:00,52.17it/s]"
     ]
    },
    {
     "name": "stdout",
     "output_type": "stream",
     "text": [
      "\u001b[32m[1201 15:29:34 @DATSGAN.py:267]\u001b[0m Loading Preprocessor!\n"
     ]
    },
    {
     "name": "stderr",
     "output_type": "stream",
     "text": [
      "\n",
      "|                                                                                          |17/?[00:00<00:00,56.65it/s]"
     ]
    },
    {
     "name": "stdout",
     "output_type": "stream",
     "text": [
      "\u001b[32m[1201 15:29:34 @DATSGAN.py:267]\u001b[0m Loading Preprocessor!\n"
     ]
    },
    {
     "name": "stderr",
     "output_type": "stream",
     "text": [
      "\n",
      "|                                                                                          |17/?[00:00<00:00,52.57it/s]\n"
     ]
    },
    {
     "name": "stdout",
     "output_type": "stream",
     "text": [
      "Sampling synthetic data from model \u001b[1mSGAN_WO_02\u001b[0m (17/55)\n",
      "\u001b[32m[1201 15:29:41 @DATSGANModel.py:213]\u001b[0m \u001b[91mCreating cell for age (in-edges: 0; ancestors: 0)\n",
      "\u001b[32m[1201 15:29:41 @DATSGANModel.py:213]\u001b[0m \u001b[91mCreating cell for gender (in-edges: 0; ancestors: 0)\n",
      "\u001b[32m[1201 15:29:41 @DATSGANModel.py:213]\u001b[0m \u001b[91mCreating cell for travel_dow (in-edges: 0; ancestors: 0)\n",
      "\u001b[32m[1201 15:29:41 @DATSGANModel.py:213]\u001b[0m \u001b[91mCreating cell for license (in-edges: 1; ancestors: 1)\n",
      "\u001b[32m[1201 15:29:41 @DATSGANModel.py:213]\u001b[0m \u001b[91mCreating cell for education_level (in-edges: 1; ancestors: 1)\n",
      "\u001b[32m[1201 15:29:41 @DATSGANModel.py:213]\u001b[0m \u001b[91mCreating cell for work_status (in-edges: 2; ancestors: 3)\n",
      "\u001b[32m[1201 15:29:41 @DATSGANModel.py:213]\u001b[0m \u001b[91mCreating cell for hh_income (in-edges: 2; ancestors: 4)\n",
      "\u001b[32m[1201 15:29:41 @DATSGANModel.py:213]\u001b[0m \u001b[91mCreating cell for trip_purpose (in-edges: 1; ancestors: 4)\n",
      "\u001b[32m[1201 15:29:41 @DATSGANModel.py:213]\u001b[0m \u001b[91mCreating cell for hh_descr (in-edges: 2; ancestors: 5)\n",
      "\u001b[32m[1201 15:29:42 @DATSGANModel.py:213]\u001b[0m \u001b[91mCreating cell for hh_size (in-edges: 3; ancestors: 5)\n",
      "\u001b[32m[1201 15:29:42 @DATSGANModel.py:213]\u001b[0m \u001b[91mCreating cell for departure_time (in-edges: 1; ancestors: 5)\n",
      "\u001b[32m[1201 15:29:42 @DATSGANModel.py:213]\u001b[0m \u001b[91mCreating cell for distance (in-edges: 1; ancestors: 5)\n",
      "\u001b[32m[1201 15:29:42 @DATSGANModel.py:213]\u001b[0m \u001b[91mCreating cell for hh_vehicles (in-edges: 2; ancestors: 6)\n",
      "\u001b[32m[1201 15:29:42 @DATSGANModel.py:213]\u001b[0m \u001b[91mCreating cell for hh_bikes (in-edges: 2; ancestors: 6)\n",
      "\u001b[32m[1201 15:29:42 @DATSGANModel.py:213]\u001b[0m \u001b[91mCreating cell for choice (in-edges: 7; ancestors: 13)\n",
      "\u001b[32m[1201 15:29:42 @collection.py:146]\u001b[0m New collections created in tower : tf.GraphKeys.REGULARIZATION_LOSSES\n",
      "\u001b[32m[1201 15:29:42 @collection.py:165]\u001b[0m These collections were modified but restored in : (tf.GraphKeys.SUMMARIES: 0->2)\n",
      "\u001b[32m[1201 15:29:42 @sessinit.py:87]\u001b[0m \u001b[5m\u001b[31mWRN\u001b[0m The following variables are in the checkpoint, but not found in the graph: global_step, optimize/beta1_power, optimize/beta2_power\n",
      "INFO:tensorflow:Graph was finalized.\n",
      "INFO:tensorflow:Running local_init_op.\n",
      "INFO:tensorflow:Done running local_init_op.\n",
      "\u001b[32m[1201 15:29:43 @sessinit.py:114]\u001b[0m Restoring checkpoint from ../output/Chicago/SGAN_WO_02/model\\model-17000 ...\n",
      "INFO:tensorflow:Restoring parameters from ../output/Chicago/SGAN_WO_02/model\\model-17000\n",
      "\u001b[32m[1201 15:29:44 @DATSGAN.py:267]\u001b[0m Loading Preprocessor!\n"
     ]
    },
    {
     "name": "stderr",
     "output_type": "stream",
     "text": [
      "|                                                                                          |17/?[00:00<00:00,31.33it/s]"
     ]
    },
    {
     "name": "stdout",
     "output_type": "stream",
     "text": [
      "\u001b[32m[1201 15:29:44 @DATSGAN.py:267]\u001b[0m Loading Preprocessor!\n"
     ]
    },
    {
     "name": "stderr",
     "output_type": "stream",
     "text": [
      "\n",
      "|                                                                                          |17/?[00:00<00:00,53.22it/s]"
     ]
    },
    {
     "name": "stdout",
     "output_type": "stream",
     "text": [
      "\u001b[32m[1201 15:29:45 @DATSGAN.py:267]\u001b[0m Loading Preprocessor!\n"
     ]
    },
    {
     "name": "stderr",
     "output_type": "stream",
     "text": [
      "\n",
      "|                                                                                          |17/?[00:00<00:00,57.99it/s]"
     ]
    },
    {
     "name": "stdout",
     "output_type": "stream",
     "text": [
      "\u001b[32m[1201 15:29:45 @DATSGAN.py:267]\u001b[0m Loading Preprocessor!\n"
     ]
    },
    {
     "name": "stderr",
     "output_type": "stream",
     "text": [
      "\n",
      "|                                                                                          |17/?[00:00<00:00,52.01it/s]"
     ]
    },
    {
     "name": "stdout",
     "output_type": "stream",
     "text": [
      "\u001b[32m[1201 15:29:45 @DATSGAN.py:267]\u001b[0m Loading Preprocessor!\n"
     ]
    },
    {
     "name": "stderr",
     "output_type": "stream",
     "text": [
      "\n",
      "|                                                                                          |17/?[00:00<00:00,61.20it/s]"
     ]
    },
    {
     "name": "stdout",
     "output_type": "stream",
     "text": [
      "\u001b[32m[1201 15:29:46 @DATSGAN.py:267]\u001b[0m Loading Preprocessor!\n"
     ]
    },
    {
     "name": "stderr",
     "output_type": "stream",
     "text": [
      "\n",
      "|                                                                                          |17/?[00:00<00:00,50.78it/s]"
     ]
    },
    {
     "name": "stdout",
     "output_type": "stream",
     "text": [
      "\u001b[32m[1201 15:29:46 @DATSGAN.py:267]\u001b[0m Loading Preprocessor!\n"
     ]
    },
    {
     "name": "stderr",
     "output_type": "stream",
     "text": [
      "\n",
      "|                                                                                          |17/?[00:00<00:00,57.51it/s]"
     ]
    },
    {
     "name": "stdout",
     "output_type": "stream",
     "text": [
      "\u001b[32m[1201 15:29:46 @DATSGAN.py:267]\u001b[0m Loading Preprocessor!\n"
     ]
    },
    {
     "name": "stderr",
     "output_type": "stream",
     "text": [
      "\n",
      "|                                                                                          |17/?[00:00<00:00,50.78it/s]"
     ]
    },
    {
     "name": "stdout",
     "output_type": "stream",
     "text": [
      "\u001b[32m[1201 15:29:47 @DATSGAN.py:267]\u001b[0m Loading Preprocessor!\n"
     ]
    },
    {
     "name": "stderr",
     "output_type": "stream",
     "text": [
      "\n",
      "|                                                                                          |17/?[00:00<00:00,64.79it/s]"
     ]
    },
    {
     "name": "stdout",
     "output_type": "stream",
     "text": [
      "\u001b[32m[1201 15:29:47 @DATSGAN.py:267]\u001b[0m Loading Preprocessor!\n"
     ]
    },
    {
     "name": "stderr",
     "output_type": "stream",
     "text": [
      "\n",
      "|                                                                                          |17/?[00:00<00:00,51.54it/s]"
     ]
    },
    {
     "name": "stdout",
     "output_type": "stream",
     "text": [
      "\u001b[32m[1201 15:29:48 @DATSGAN.py:267]\u001b[0m Loading Preprocessor!\n"
     ]
    },
    {
     "name": "stderr",
     "output_type": "stream",
     "text": [
      "\n",
      "|                                                                                          |17/?[00:00<00:00,60.34it/s]"
     ]
    },
    {
     "name": "stdout",
     "output_type": "stream",
     "text": [
      "\u001b[32m[1201 15:29:48 @DATSGAN.py:267]\u001b[0m Loading Preprocessor!\n"
     ]
    },
    {
     "name": "stderr",
     "output_type": "stream",
     "text": [
      "\n",
      "|                                                                                          |17/?[00:00<00:00,52.41it/s]"
     ]
    },
    {
     "name": "stdout",
     "output_type": "stream",
     "text": [
      "\u001b[32m[1201 15:29:48 @DATSGAN.py:267]\u001b[0m Loading Preprocessor!\n"
     ]
    },
    {
     "name": "stderr",
     "output_type": "stream",
     "text": [
      "\n",
      "|                                                                                          |17/?[00:00<00:00,58.89it/s]"
     ]
    },
    {
     "name": "stdout",
     "output_type": "stream",
     "text": [
      "\u001b[32m[1201 15:29:49 @DATSGAN.py:267]\u001b[0m Loading Preprocessor!\n"
     ]
    },
    {
     "name": "stderr",
     "output_type": "stream",
     "text": [
      "\n",
      "|                                                                                          |17/?[00:00<00:00,49.82it/s]"
     ]
    },
    {
     "name": "stdout",
     "output_type": "stream",
     "text": [
      "\u001b[32m[1201 15:29:49 @DATSGAN.py:267]\u001b[0m Loading Preprocessor!\n"
     ]
    },
    {
     "name": "stderr",
     "output_type": "stream",
     "text": [
      "\n",
      "|                                                                                          |17/?[00:00<00:00,61.76it/s]\n"
     ]
    },
    {
     "name": "stdout",
     "output_type": "stream",
     "text": [
      "Sampling synthetic data from model \u001b[1mSGAN_WO_03\u001b[0m (18/55)\n",
      "\u001b[32m[1201 15:29:56 @DATSGANModel.py:213]\u001b[0m \u001b[91mCreating cell for age (in-edges: 0; ancestors: 0)\n",
      "\u001b[32m[1201 15:29:56 @DATSGANModel.py:213]\u001b[0m \u001b[91mCreating cell for gender (in-edges: 0; ancestors: 0)\n",
      "\u001b[32m[1201 15:29:56 @DATSGANModel.py:213]\u001b[0m \u001b[91mCreating cell for travel_dow (in-edges: 0; ancestors: 0)\n",
      "\u001b[32m[1201 15:29:56 @DATSGANModel.py:213]\u001b[0m \u001b[91mCreating cell for license (in-edges: 1; ancestors: 1)\n",
      "\u001b[32m[1201 15:29:56 @DATSGANModel.py:213]\u001b[0m \u001b[91mCreating cell for education_level (in-edges: 1; ancestors: 1)\n",
      "\u001b[32m[1201 15:29:56 @DATSGANModel.py:213]\u001b[0m \u001b[91mCreating cell for work_status (in-edges: 2; ancestors: 3)\n",
      "\u001b[32m[1201 15:29:56 @DATSGANModel.py:213]\u001b[0m \u001b[91mCreating cell for hh_income (in-edges: 2; ancestors: 4)\n",
      "\u001b[32m[1201 15:29:56 @DATSGANModel.py:213]\u001b[0m \u001b[91mCreating cell for trip_purpose (in-edges: 1; ancestors: 4)\n",
      "\u001b[32m[1201 15:29:56 @DATSGANModel.py:213]\u001b[0m \u001b[91mCreating cell for hh_descr (in-edges: 2; ancestors: 5)\n",
      "\u001b[32m[1201 15:29:56 @DATSGANModel.py:213]\u001b[0m \u001b[91mCreating cell for hh_size (in-edges: 3; ancestors: 5)\n",
      "\u001b[32m[1201 15:29:56 @DATSGANModel.py:213]\u001b[0m \u001b[91mCreating cell for departure_time (in-edges: 1; ancestors: 5)\n",
      "\u001b[32m[1201 15:29:56 @DATSGANModel.py:213]\u001b[0m \u001b[91mCreating cell for distance (in-edges: 1; ancestors: 5)\n",
      "\u001b[32m[1201 15:29:56 @DATSGANModel.py:213]\u001b[0m \u001b[91mCreating cell for hh_vehicles (in-edges: 2; ancestors: 6)\n",
      "\u001b[32m[1201 15:29:57 @DATSGANModel.py:213]\u001b[0m \u001b[91mCreating cell for hh_bikes (in-edges: 2; ancestors: 6)\n",
      "\u001b[32m[1201 15:29:57 @DATSGANModel.py:213]\u001b[0m \u001b[91mCreating cell for choice (in-edges: 7; ancestors: 13)\n",
      "\u001b[32m[1201 15:29:57 @collection.py:146]\u001b[0m New collections created in tower : tf.GraphKeys.REGULARIZATION_LOSSES\n",
      "\u001b[32m[1201 15:29:57 @collection.py:165]\u001b[0m These collections were modified but restored in : (tf.GraphKeys.SUMMARIES: 0->2)\n",
      "\u001b[32m[1201 15:29:57 @sessinit.py:87]\u001b[0m \u001b[5m\u001b[31mWRN\u001b[0m The following variables are in the checkpoint, but not found in the graph: global_step, optimize/beta1_power, optimize/beta2_power\n",
      "INFO:tensorflow:Graph was finalized.\n",
      "INFO:tensorflow:Running local_init_op.\n",
      "INFO:tensorflow:Done running local_init_op.\n",
      "\u001b[32m[1201 15:29:58 @sessinit.py:114]\u001b[0m Restoring checkpoint from ../output/Chicago/SGAN_WO_03/model\\model-17000 ...\n",
      "INFO:tensorflow:Restoring parameters from ../output/Chicago/SGAN_WO_03/model\\model-17000\n",
      "\u001b[32m[1201 15:29:58 @DATSGAN.py:267]\u001b[0m Loading Preprocessor!\n"
     ]
    },
    {
     "name": "stderr",
     "output_type": "stream",
     "text": [
      "|                                                                                          |17/?[00:00<00:00,27.07it/s]\n"
     ]
    },
    {
     "name": "stdout",
     "output_type": "stream",
     "text": [
      "\u001b[32m[1201 15:29:59 @DATSGAN.py:267]\u001b[0m Loading Preprocessor!\n"
     ]
    },
    {
     "name": "stderr",
     "output_type": "stream",
     "text": [
      "|                                                                                          |17/?[00:00<00:00,61.98it/s]"
     ]
    },
    {
     "name": "stdout",
     "output_type": "stream",
     "text": [
      "\u001b[32m[1201 15:29:59 @DATSGAN.py:267]\u001b[0m Loading Preprocessor!\n"
     ]
    },
    {
     "name": "stderr",
     "output_type": "stream",
     "text": [
      "\n",
      "|                                                                                          |17/?[00:00<00:00,52.01it/s]"
     ]
    },
    {
     "name": "stdout",
     "output_type": "stream",
     "text": [
      "\u001b[32m[1201 15:30:00 @DATSGAN.py:267]\u001b[0m Loading Preprocessor!\n"
     ]
    },
    {
     "name": "stderr",
     "output_type": "stream",
     "text": [
      "\n",
      "|                                                                                          |17/?[00:00<00:00,62.66it/s]"
     ]
    },
    {
     "name": "stdout",
     "output_type": "stream",
     "text": [
      "\u001b[32m[1201 15:30:00 @DATSGAN.py:267]\u001b[0m Loading Preprocessor!\n"
     ]
    },
    {
     "name": "stderr",
     "output_type": "stream",
     "text": [
      "\n",
      "|                                                                                          |17/?[00:00<00:00,50.78it/s]"
     ]
    },
    {
     "name": "stdout",
     "output_type": "stream",
     "text": [
      "\u001b[32m[1201 15:30:01 @DATSGAN.py:267]\u001b[0m Loading Preprocessor!\n"
     ]
    },
    {
     "name": "stderr",
     "output_type": "stream",
     "text": [
      "\n",
      "|                                                                                          |17/?[00:00<00:00,70.52it/s]"
     ]
    },
    {
     "name": "stdout",
     "output_type": "stream",
     "text": [
      "\u001b[32m[1201 15:30:01 @DATSGAN.py:267]\u001b[0m Loading Preprocessor!\n"
     ]
    },
    {
     "name": "stderr",
     "output_type": "stream",
     "text": [
      "\n",
      "|                                                                                          |17/?[00:00<00:00,51.46it/s]"
     ]
    },
    {
     "name": "stdout",
     "output_type": "stream",
     "text": [
      "\u001b[32m[1201 15:30:01 @DATSGAN.py:267]\u001b[0m Loading Preprocessor!\n"
     ]
    },
    {
     "name": "stderr",
     "output_type": "stream",
     "text": [
      "\n",
      "|                                                                                          |17/?[00:00<00:00,62.54it/s]"
     ]
    },
    {
     "name": "stdout",
     "output_type": "stream",
     "text": [
      "\u001b[32m[1201 15:30:02 @DATSGAN.py:267]\u001b[0m Loading Preprocessor!\n"
     ]
    },
    {
     "name": "stderr",
     "output_type": "stream",
     "text": [
      "\n",
      "|                                                                                          |17/?[00:00<00:00,56.28it/s]"
     ]
    },
    {
     "name": "stdout",
     "output_type": "stream",
     "text": [
      "\u001b[32m[1201 15:30:02 @DATSGAN.py:267]\u001b[0m Loading Preprocessor!\n"
     ]
    },
    {
     "name": "stderr",
     "output_type": "stream",
     "text": [
      "\n",
      "|                                                                                          |17/?[00:00<00:00,54.75it/s]"
     ]
    },
    {
     "name": "stdout",
     "output_type": "stream",
     "text": [
      "\u001b[32m[1201 15:30:02 @DATSGAN.py:267]\u001b[0m Loading Preprocessor!\n"
     ]
    },
    {
     "name": "stderr",
     "output_type": "stream",
     "text": [
      "\n",
      "|                                                                                          |17/?[00:00<00:00,61.98it/s]"
     ]
    },
    {
     "name": "stdout",
     "output_type": "stream",
     "text": [
      "\u001b[32m[1201 15:30:03 @DATSGAN.py:267]\u001b[0m Loading Preprocessor!\n"
     ]
    },
    {
     "name": "stderr",
     "output_type": "stream",
     "text": [
      "\n",
      "|                                                                                          |17/?[00:00<00:00,52.09it/s]"
     ]
    },
    {
     "name": "stdout",
     "output_type": "stream",
     "text": [
      "\u001b[32m[1201 15:30:03 @DATSGAN.py:267]\u001b[0m Loading Preprocessor!\n"
     ]
    },
    {
     "name": "stderr",
     "output_type": "stream",
     "text": [
      "\n",
      "|                                                                                          |17/?[00:00<00:00,68.14it/s]"
     ]
    },
    {
     "name": "stdout",
     "output_type": "stream",
     "text": [
      "\u001b[32m[1201 15:30:03 @DATSGAN.py:267]\u001b[0m Loading Preprocessor!\n"
     ]
    },
    {
     "name": "stderr",
     "output_type": "stream",
     "text": [
      "\n",
      "|                                                                                          |17/?[00:00<00:00,51.62it/s]"
     ]
    },
    {
     "name": "stdout",
     "output_type": "stream",
     "text": [
      "\u001b[32m[1201 15:30:04 @DATSGAN.py:267]\u001b[0m Loading Preprocessor!\n"
     ]
    },
    {
     "name": "stderr",
     "output_type": "stream",
     "text": [
      "\n",
      "|                                                                                          |17/?[00:00<00:00,64.67it/s]\n"
     ]
    },
    {
     "name": "stdout",
     "output_type": "stream",
     "text": [
      "Sampling synthetic data from model \u001b[1mSGAN_WO_04\u001b[0m (19/55)\n",
      "\u001b[32m[1201 15:30:10 @DATSGANModel.py:213]\u001b[0m \u001b[91mCreating cell for age (in-edges: 0; ancestors: 0)\n",
      "\u001b[32m[1201 15:30:10 @DATSGANModel.py:213]\u001b[0m \u001b[91mCreating cell for gender (in-edges: 0; ancestors: 0)\n",
      "\u001b[32m[1201 15:30:10 @DATSGANModel.py:213]\u001b[0m \u001b[91mCreating cell for travel_dow (in-edges: 0; ancestors: 0)\n",
      "\u001b[32m[1201 15:30:10 @DATSGANModel.py:213]\u001b[0m \u001b[91mCreating cell for license (in-edges: 1; ancestors: 1)\n",
      "\u001b[32m[1201 15:30:11 @DATSGANModel.py:213]\u001b[0m \u001b[91mCreating cell for education_level (in-edges: 1; ancestors: 1)\n",
      "\u001b[32m[1201 15:30:11 @DATSGANModel.py:213]\u001b[0m \u001b[91mCreating cell for work_status (in-edges: 2; ancestors: 3)\n",
      "\u001b[32m[1201 15:30:11 @DATSGANModel.py:213]\u001b[0m \u001b[91mCreating cell for hh_income (in-edges: 2; ancestors: 4)\n",
      "\u001b[32m[1201 15:30:11 @DATSGANModel.py:213]\u001b[0m \u001b[91mCreating cell for trip_purpose (in-edges: 1; ancestors: 4)\n",
      "\u001b[32m[1201 15:30:11 @DATSGANModel.py:213]\u001b[0m \u001b[91mCreating cell for hh_descr (in-edges: 2; ancestors: 5)\n",
      "\u001b[32m[1201 15:30:11 @DATSGANModel.py:213]\u001b[0m \u001b[91mCreating cell for hh_size (in-edges: 3; ancestors: 5)\n",
      "\u001b[32m[1201 15:30:11 @DATSGANModel.py:213]\u001b[0m \u001b[91mCreating cell for departure_time (in-edges: 1; ancestors: 5)\n",
      "\u001b[32m[1201 15:30:11 @DATSGANModel.py:213]\u001b[0m \u001b[91mCreating cell for distance (in-edges: 1; ancestors: 5)\n",
      "\u001b[32m[1201 15:30:11 @DATSGANModel.py:213]\u001b[0m \u001b[91mCreating cell for hh_vehicles (in-edges: 2; ancestors: 6)\n",
      "\u001b[32m[1201 15:30:11 @DATSGANModel.py:213]\u001b[0m \u001b[91mCreating cell for hh_bikes (in-edges: 2; ancestors: 6)\n",
      "\u001b[32m[1201 15:30:11 @DATSGANModel.py:213]\u001b[0m \u001b[91mCreating cell for choice (in-edges: 7; ancestors: 13)\n",
      "\u001b[32m[1201 15:30:12 @collection.py:146]\u001b[0m New collections created in tower : tf.GraphKeys.REGULARIZATION_LOSSES\n",
      "\u001b[32m[1201 15:30:12 @collection.py:165]\u001b[0m These collections were modified but restored in : (tf.GraphKeys.SUMMARIES: 0->2)\n",
      "\u001b[32m[1201 15:30:12 @sessinit.py:87]\u001b[0m \u001b[5m\u001b[31mWRN\u001b[0m The following variables are in the checkpoint, but not found in the graph: global_step, optimize/beta1_power, optimize/beta2_power\n",
      "INFO:tensorflow:Graph was finalized.\n",
      "INFO:tensorflow:Running local_init_op.\n",
      "INFO:tensorflow:Done running local_init_op.\n",
      "\u001b[32m[1201 15:30:13 @sessinit.py:114]\u001b[0m Restoring checkpoint from ../output/Chicago/SGAN_WO_04/model\\model-17000 ...\n",
      "INFO:tensorflow:Restoring parameters from ../output/Chicago/SGAN_WO_04/model\\model-17000\n",
      "\u001b[32m[1201 15:30:13 @DATSGAN.py:267]\u001b[0m Loading Preprocessor!\n"
     ]
    },
    {
     "name": "stderr",
     "output_type": "stream",
     "text": [
      "|                                                                                          |17/?[00:00<00:00,29.78it/s]"
     ]
    },
    {
     "name": "stdout",
     "output_type": "stream",
     "text": [
      "\u001b[32m[1201 15:30:14 @DATSGAN.py:267]\u001b[0m Loading Preprocessor!\n"
     ]
    },
    {
     "name": "stderr",
     "output_type": "stream",
     "text": [
      "\n",
      "|                                                                                          |17/?[00:00<00:00,54.84it/s]"
     ]
    },
    {
     "name": "stdout",
     "output_type": "stream",
     "text": [
      "\u001b[32m[1201 15:30:14 @DATSGAN.py:267]\u001b[0m Loading Preprocessor!\n"
     ]
    },
    {
     "name": "stderr",
     "output_type": "stream",
     "text": [
      "\n",
      "|                                                                                          |17/?[00:00<00:00,55.55it/s]"
     ]
    },
    {
     "name": "stdout",
     "output_type": "stream",
     "text": [
      "\u001b[32m[1201 15:30:14 @DATSGAN.py:267]\u001b[0m Loading Preprocessor!\n"
     ]
    },
    {
     "name": "stderr",
     "output_type": "stream",
     "text": [
      "\n",
      "|                                                                                          |17/?[00:00<00:00,55.64it/s]"
     ]
    },
    {
     "name": "stdout",
     "output_type": "stream",
     "text": [
      "\u001b[32m[1201 15:30:15 @DATSGAN.py:267]\u001b[0m Loading Preprocessor!\n"
     ]
    },
    {
     "name": "stderr",
     "output_type": "stream",
     "text": [
      "\n",
      "|                                                                                          |17/?[00:00<00:00,54.49it/s]"
     ]
    },
    {
     "name": "stdout",
     "output_type": "stream",
     "text": [
      "\u001b[32m[1201 15:30:15 @DATSGAN.py:267]\u001b[0m Loading Preprocessor!\n"
     ]
    },
    {
     "name": "stderr",
     "output_type": "stream",
     "text": [
      "\n",
      "|                                                                                          |17/?[00:00<00:00,54.84it/s]"
     ]
    },
    {
     "name": "stdout",
     "output_type": "stream",
     "text": [
      "\u001b[32m[1201 15:30:16 @DATSGAN.py:267]\u001b[0m Loading Preprocessor!\n"
     ]
    },
    {
     "name": "stderr",
     "output_type": "stream",
     "text": [
      "\n",
      "|                                                                                          |17/?[00:00<00:00,52.97it/s]"
     ]
    },
    {
     "name": "stdout",
     "output_type": "stream",
     "text": [
      "\u001b[32m[1201 15:30:16 @DATSGAN.py:267]\u001b[0m Loading Preprocessor!\n"
     ]
    },
    {
     "name": "stderr",
     "output_type": "stream",
     "text": [
      "\n",
      "|                                                                                          |17/?[00:00<00:00,59.71it/s]"
     ]
    },
    {
     "name": "stdout",
     "output_type": "stream",
     "text": [
      "\u001b[32m[1201 15:30:16 @DATSGAN.py:267]\u001b[0m Loading Preprocessor!\n"
     ]
    },
    {
     "name": "stderr",
     "output_type": "stream",
     "text": [
      "\n",
      "|                                                                                          |17/?[00:00<00:00,50.85it/s]"
     ]
    },
    {
     "name": "stdout",
     "output_type": "stream",
     "text": [
      "\u001b[32m[1201 15:30:17 @DATSGAN.py:267]\u001b[0m Loading Preprocessor!\n"
     ]
    },
    {
     "name": "stderr",
     "output_type": "stream",
     "text": [
      "\n",
      "|                                                                                          |17/?[00:00<00:00,57.90it/s]"
     ]
    },
    {
     "name": "stdout",
     "output_type": "stream",
     "text": [
      "\u001b[32m[1201 15:30:17 @DATSGAN.py:267]\u001b[0m Loading Preprocessor!\n"
     ]
    },
    {
     "name": "stderr",
     "output_type": "stream",
     "text": [
      "\n",
      "|                                                                                          |17/?[00:00<00:00,49.60it/s]"
     ]
    },
    {
     "name": "stdout",
     "output_type": "stream",
     "text": [
      "\u001b[32m[1201 15:30:18 @DATSGAN.py:267]\u001b[0m Loading Preprocessor!\n"
     ]
    },
    {
     "name": "stderr",
     "output_type": "stream",
     "text": [
      "\n",
      "|                                                                                          |17/?[00:00<00:00,63.12it/s]"
     ]
    },
    {
     "name": "stdout",
     "output_type": "stream",
     "text": [
      "\u001b[32m[1201 15:30:18 @DATSGAN.py:267]\u001b[0m Loading Preprocessor!\n"
     ]
    },
    {
     "name": "stderr",
     "output_type": "stream",
     "text": [
      "\n",
      "|                                                                                          |17/?[00:00<00:00,53.98it/s]"
     ]
    },
    {
     "name": "stdout",
     "output_type": "stream",
     "text": [
      "\u001b[32m[1201 15:30:18 @DATSGAN.py:267]\u001b[0m Loading Preprocessor!\n"
     ]
    },
    {
     "name": "stderr",
     "output_type": "stream",
     "text": [
      "\n",
      "|                                                                                          |17/?[00:00<00:00,63.24it/s]"
     ]
    },
    {
     "name": "stdout",
     "output_type": "stream",
     "text": [
      "\u001b[32m[1201 15:30:19 @DATSGAN.py:267]\u001b[0m Loading Preprocessor!\n"
     ]
    },
    {
     "name": "stderr",
     "output_type": "stream",
     "text": [
      "\n",
      "|                                                                                          |17/?[00:00<00:00,51.31it/s]\n"
     ]
    },
    {
     "name": "stdout",
     "output_type": "stream",
     "text": [
      "Sampling synthetic data from model \u001b[1mSGAN_WO_05\u001b[0m (20/55)\n",
      "\u001b[32m[1201 15:30:25 @DATSGANModel.py:213]\u001b[0m \u001b[91mCreating cell for age (in-edges: 0; ancestors: 0)\n",
      "\u001b[32m[1201 15:30:25 @DATSGANModel.py:213]\u001b[0m \u001b[91mCreating cell for gender (in-edges: 0; ancestors: 0)\n",
      "\u001b[32m[1201 15:30:25 @DATSGANModel.py:213]\u001b[0m \u001b[91mCreating cell for travel_dow (in-edges: 0; ancestors: 0)\n",
      "\u001b[32m[1201 15:30:25 @DATSGANModel.py:213]\u001b[0m \u001b[91mCreating cell for license (in-edges: 1; ancestors: 1)\n",
      "\u001b[32m[1201 15:30:25 @DATSGANModel.py:213]\u001b[0m \u001b[91mCreating cell for education_level (in-edges: 1; ancestors: 1)\n",
      "\u001b[32m[1201 15:30:25 @DATSGANModel.py:213]\u001b[0m \u001b[91mCreating cell for work_status (in-edges: 2; ancestors: 3)\n",
      "\u001b[32m[1201 15:30:25 @DATSGANModel.py:213]\u001b[0m \u001b[91mCreating cell for hh_income (in-edges: 2; ancestors: 4)\n",
      "\u001b[32m[1201 15:30:26 @DATSGANModel.py:213]\u001b[0m \u001b[91mCreating cell for trip_purpose (in-edges: 1; ancestors: 4)\n",
      "\u001b[32m[1201 15:30:26 @DATSGANModel.py:213]\u001b[0m \u001b[91mCreating cell for hh_descr (in-edges: 2; ancestors: 5)\n",
      "\u001b[32m[1201 15:30:26 @DATSGANModel.py:213]\u001b[0m \u001b[91mCreating cell for hh_size (in-edges: 3; ancestors: 5)\n",
      "\u001b[32m[1201 15:30:26 @DATSGANModel.py:213]\u001b[0m \u001b[91mCreating cell for departure_time (in-edges: 1; ancestors: 5)\n",
      "\u001b[32m[1201 15:30:26 @DATSGANModel.py:213]\u001b[0m \u001b[91mCreating cell for distance (in-edges: 1; ancestors: 5)\n",
      "\u001b[32m[1201 15:30:26 @DATSGANModel.py:213]\u001b[0m \u001b[91mCreating cell for hh_vehicles (in-edges: 2; ancestors: 6)\n",
      "\u001b[32m[1201 15:30:26 @DATSGANModel.py:213]\u001b[0m \u001b[91mCreating cell for hh_bikes (in-edges: 2; ancestors: 6)\n",
      "\u001b[32m[1201 15:30:26 @DATSGANModel.py:213]\u001b[0m \u001b[91mCreating cell for choice (in-edges: 7; ancestors: 13)\n",
      "\u001b[32m[1201 15:30:27 @collection.py:146]\u001b[0m New collections created in tower : tf.GraphKeys.REGULARIZATION_LOSSES\n",
      "\u001b[32m[1201 15:30:27 @collection.py:165]\u001b[0m These collections were modified but restored in : (tf.GraphKeys.SUMMARIES: 0->2)\n",
      "\u001b[32m[1201 15:30:27 @sessinit.py:87]\u001b[0m \u001b[5m\u001b[31mWRN\u001b[0m The following variables are in the checkpoint, but not found in the graph: global_step, optimize/beta1_power, optimize/beta2_power\n",
      "INFO:tensorflow:Graph was finalized.\n",
      "INFO:tensorflow:Running local_init_op.\n",
      "INFO:tensorflow:Done running local_init_op.\n",
      "\u001b[32m[1201 15:30:28 @sessinit.py:114]\u001b[0m Restoring checkpoint from ../output/Chicago/SGAN_WO_05/model\\model-17000 ...\n",
      "INFO:tensorflow:Restoring parameters from ../output/Chicago/SGAN_WO_05/model\\model-17000\n",
      "\u001b[32m[1201 15:30:28 @DATSGAN.py:267]\u001b[0m Loading Preprocessor!\n"
     ]
    },
    {
     "name": "stderr",
     "output_type": "stream",
     "text": [
      "|                                                                                          |17/?[00:00<00:00,29.22it/s]"
     ]
    },
    {
     "name": "stdout",
     "output_type": "stream",
     "text": [
      "\u001b[32m[1201 15:30:28 @DATSGAN.py:267]\u001b[0m Loading Preprocessor!\n"
     ]
    },
    {
     "name": "stderr",
     "output_type": "stream",
     "text": [
      "\n",
      "|                                                                                          |17/?[00:00<00:00,59.50it/s]"
     ]
    },
    {
     "name": "stdout",
     "output_type": "stream",
     "text": [
      "\u001b[32m[1201 15:30:29 @DATSGAN.py:267]\u001b[0m Loading Preprocessor!\n"
     ]
    },
    {
     "name": "stderr",
     "output_type": "stream",
     "text": [
      "\n",
      "|                                                                                          |17/?[00:00<00:00,49.24it/s]"
     ]
    },
    {
     "name": "stdout",
     "output_type": "stream",
     "text": [
      "\u001b[32m[1201 15:30:29 @DATSGAN.py:267]\u001b[0m Loading Preprocessor!\n"
     ]
    },
    {
     "name": "stderr",
     "output_type": "stream",
     "text": [
      "\n",
      "|                                                                                          |17/?[00:00<00:00,59.40it/s]"
     ]
    },
    {
     "name": "stdout",
     "output_type": "stream",
     "text": [
      "\u001b[32m[1201 15:30:30 @DATSGAN.py:267]\u001b[0m Loading Preprocessor!\n"
     ]
    },
    {
     "name": "stderr",
     "output_type": "stream",
     "text": [
      "\n",
      "|                                                                                          |17/?[00:00<00:00,53.22it/s]"
     ]
    },
    {
     "name": "stdout",
     "output_type": "stream",
     "text": [
      "\u001b[32m[1201 15:30:30 @DATSGAN.py:267]\u001b[0m Loading Preprocessor!\n"
     ]
    },
    {
     "name": "stderr",
     "output_type": "stream",
     "text": [
      "\n",
      "|                                                                                          |17/?[00:00<00:00,62.09it/s]"
     ]
    },
    {
     "name": "stdout",
     "output_type": "stream",
     "text": [
      "\u001b[32m[1201 15:30:30 @DATSGAN.py:267]\u001b[0m Loading Preprocessor!\n"
     ]
    },
    {
     "name": "stderr",
     "output_type": "stream",
     "text": [
      "\n",
      "|                                                                                          |17/?[00:00<00:00,50.04it/s]"
     ]
    },
    {
     "name": "stdout",
     "output_type": "stream",
     "text": [
      "\u001b[32m[1201 15:30:31 @DATSGAN.py:267]\u001b[0m Loading Preprocessor!\n"
     ]
    },
    {
     "name": "stderr",
     "output_type": "stream",
     "text": [
      "\n",
      "|                                                                                          |17/?[00:00<00:00,64.43it/s]"
     ]
    },
    {
     "name": "stdout",
     "output_type": "stream",
     "text": [
      "\u001b[32m[1201 15:30:31 @DATSGAN.py:267]\u001b[0m Loading Preprocessor!\n"
     ]
    },
    {
     "name": "stderr",
     "output_type": "stream",
     "text": [
      "\n",
      "|                                                                                          |17/?[00:00<00:00,50.04it/s]"
     ]
    },
    {
     "name": "stdout",
     "output_type": "stream",
     "text": [
      "\u001b[32m[1201 15:30:31 @DATSGAN.py:267]\u001b[0m Loading Preprocessor!\n"
     ]
    },
    {
     "name": "stderr",
     "output_type": "stream",
     "text": [
      "\n",
      "|                                                                                          |17/?[00:00<00:00,63.35it/s]"
     ]
    },
    {
     "name": "stdout",
     "output_type": "stream",
     "text": [
      "\u001b[32m[1201 15:30:32 @DATSGAN.py:267]\u001b[0m Loading Preprocessor!\n"
     ]
    },
    {
     "name": "stderr",
     "output_type": "stream",
     "text": [
      "\n",
      "|                                                                                          |17/?[00:00<00:00,48.55it/s]"
     ]
    },
    {
     "name": "stdout",
     "output_type": "stream",
     "text": [
      "\u001b[32m[1201 15:30:32 @DATSGAN.py:267]\u001b[0m Loading Preprocessor!\n"
     ]
    },
    {
     "name": "stderr",
     "output_type": "stream",
     "text": [
      "\n",
      "|                                                                                          |17/?[00:00<00:00,62.89it/s]"
     ]
    },
    {
     "name": "stdout",
     "output_type": "stream",
     "text": [
      "\u001b[32m[1201 15:30:33 @DATSGAN.py:267]\u001b[0m Loading Preprocessor!\n"
     ]
    },
    {
     "name": "stderr",
     "output_type": "stream",
     "text": [
      "\n",
      "|                                                                                          |17/?[00:00<00:00,52.65it/s]"
     ]
    },
    {
     "name": "stdout",
     "output_type": "stream",
     "text": [
      "\u001b[32m[1201 15:30:33 @DATSGAN.py:267]\u001b[0m Loading Preprocessor!\n"
     ]
    },
    {
     "name": "stderr",
     "output_type": "stream",
     "text": [
      "\n",
      "|                                                                                          |17/?[00:00<00:00,60.02it/s]"
     ]
    },
    {
     "name": "stdout",
     "output_type": "stream",
     "text": [
      "\u001b[32m[1201 15:30:33 @DATSGAN.py:267]\u001b[0m Loading Preprocessor!\n"
     ]
    },
    {
     "name": "stderr",
     "output_type": "stream",
     "text": [
      "\n",
      "|                                                                                          |17/?[00:00<00:00,50.63it/s]\n"
     ]
    },
    {
     "name": "stdout",
     "output_type": "stream",
     "text": [
      "Sampling synthetic data from model \u001b[1mTGAN_01\u001b[0m (21/55)\n",
      "\u001b[32m[1201 15:30:35 @registry.py:126]\u001b[0m gen/LSTM/00/FC input: [500, 100]\n",
      "\u001b[32m[1201 15:30:35 @registry.py:134]\u001b[0m gen/LSTM/00/FC output: [500, 100]\n",
      "\u001b[32m[1201 15:30:35 @registry.py:126]\u001b[0m gen/LSTM/00/FC2 input: [500, 100]\n",
      "\u001b[32m[1201 15:30:35 @registry.py:134]\u001b[0m gen/LSTM/00/FC2 output: [500, 5]\n",
      "\u001b[32m[1201 15:30:35 @registry.py:126]\u001b[0m gen/LSTM/00/FC3 input: [500, 5]\n",
      "\u001b[32m[1201 15:30:35 @registry.py:134]\u001b[0m gen/LSTM/00/FC3 output: [500, 100]\n",
      "\u001b[32m[1201 15:30:35 @registry.py:126]\u001b[0m gen/LSTM/01/FC input: [500, 100]\n",
      "\u001b[32m[1201 15:30:35 @registry.py:134]\u001b[0m gen/LSTM/01/FC output: [500, 100]\n",
      "\u001b[32m[1201 15:30:35 @registry.py:126]\u001b[0m gen/LSTM/01/FC2 input: [500, 100]\n",
      "\u001b[32m[1201 15:30:35 @registry.py:134]\u001b[0m gen/LSTM/01/FC2 output: [500, 7]\n",
      "\u001b[32m[1201 15:30:35 @registry.py:126]\u001b[0m gen/LSTM/01/FC3 input: [500, 7]\n",
      "\u001b[32m[1201 15:30:35 @registry.py:134]\u001b[0m gen/LSTM/01/FC3 output: [500, 100]\n",
      "\u001b[32m[1201 15:30:35 @registry.py:126]\u001b[0m gen/LSTM/02/FC input: [500, 100]\n",
      "\u001b[32m[1201 15:30:35 @registry.py:134]\u001b[0m gen/LSTM/02/FC output: [500, 100]\n",
      "\u001b[32m[1201 15:30:35 @registry.py:126]\u001b[0m gen/LSTM/02/FC2 input: [500, 100]\n",
      "\u001b[32m[1201 15:30:35 @registry.py:134]\u001b[0m gen/LSTM/02/FC2 output: [500, 7]\n",
      "\u001b[32m[1201 15:30:35 @registry.py:126]\u001b[0m gen/LSTM/02/FC3 input: [500, 7]\n",
      "\u001b[32m[1201 15:30:35 @registry.py:134]\u001b[0m gen/LSTM/02/FC3 output: [500, 100]\n",
      "\u001b[32m[1201 15:30:35 @registry.py:126]\u001b[0m gen/LSTM/03/FC input: [500, 100]\n",
      "\u001b[32m[1201 15:30:35 @registry.py:134]\u001b[0m gen/LSTM/03/FC output: [500, 100]\n",
      "\u001b[32m[1201 15:30:35 @registry.py:126]\u001b[0m gen/LSTM/03/FC2 input: [500, 100]\n",
      "\u001b[32m[1201 15:30:35 @registry.py:134]\u001b[0m gen/LSTM/03/FC2 output: [500, 1]\n",
      "\u001b[32m[1201 15:30:35 @registry.py:126]\u001b[0m gen/LSTM/04/FC input: [500, 100]\n",
      "\u001b[32m[1201 15:30:35 @registry.py:134]\u001b[0m gen/LSTM/04/FC output: [500, 100]\n",
      "\u001b[32m[1201 15:30:35 @registry.py:126]\u001b[0m gen/LSTM/04/FC2 input: [500, 100]\n",
      "\u001b[32m[1201 15:30:35 @registry.py:134]\u001b[0m gen/LSTM/04/FC2 output: [500, 5]\n",
      "\u001b[32m[1201 15:30:35 @registry.py:126]\u001b[0m gen/LSTM/04/FC3 input: [500, 5]\n",
      "\u001b[32m[1201 15:30:35 @registry.py:134]\u001b[0m gen/LSTM/04/FC3 output: [500, 100]\n",
      "\u001b[32m[1201 15:30:35 @registry.py:126]\u001b[0m gen/LSTM/05/FC input: [500, 100]\n",
      "\u001b[32m[1201 15:30:35 @registry.py:134]\u001b[0m gen/LSTM/05/FC output: [500, 100]\n",
      "\u001b[32m[1201 15:30:35 @registry.py:126]\u001b[0m gen/LSTM/05/FC2 input: [500, 100]\n",
      "\u001b[32m[1201 15:30:35 @registry.py:134]\u001b[0m gen/LSTM/05/FC2 output: [500, 9]\n",
      "\u001b[32m[1201 15:30:35 @registry.py:126]\u001b[0m gen/LSTM/05/FC3 input: [500, 9]\n",
      "\u001b[32m[1201 15:30:35 @registry.py:134]\u001b[0m gen/LSTM/05/FC3 output: [500, 100]\n",
      "\u001b[32m[1201 15:30:35 @registry.py:126]\u001b[0m gen/LSTM/06/FC input: [500, 100]\n",
      "\u001b[32m[1201 15:30:35 @registry.py:134]\u001b[0m gen/LSTM/06/FC output: [500, 100]\n",
      "\u001b[32m[1201 15:30:35 @registry.py:126]\u001b[0m gen/LSTM/06/FC2 input: [500, 100]\n",
      "\u001b[32m[1201 15:30:35 @registry.py:134]\u001b[0m gen/LSTM/06/FC2 output: [500, 8]\n",
      "\u001b[32m[1201 15:30:35 @registry.py:126]\u001b[0m gen/LSTM/06/FC3 input: [500, 8]\n",
      "\u001b[32m[1201 15:30:35 @registry.py:134]\u001b[0m gen/LSTM/06/FC3 output: [500, 100]\n",
      "\u001b[32m[1201 15:30:35 @registry.py:126]\u001b[0m gen/LSTM/07/FC input: [500, 100]\n",
      "\u001b[32m[1201 15:30:35 @registry.py:134]\u001b[0m gen/LSTM/07/FC output: [500, 100]\n",
      "\u001b[32m[1201 15:30:35 @registry.py:126]\u001b[0m gen/LSTM/07/FC2 input: [500, 100]\n",
      "\u001b[32m[1201 15:30:35 @registry.py:134]\u001b[0m gen/LSTM/07/FC2 output: [500, 8]\n",
      "\u001b[32m[1201 15:30:35 @registry.py:126]\u001b[0m gen/LSTM/07/FC3 input: [500, 8]\n",
      "\u001b[32m[1201 15:30:35 @registry.py:134]\u001b[0m gen/LSTM/07/FC3 output: [500, 100]\n",
      "\u001b[32m[1201 15:30:35 @registry.py:126]\u001b[0m gen/LSTM/08/FC input: [500, 100]\n",
      "\u001b[32m[1201 15:30:35 @registry.py:134]\u001b[0m gen/LSTM/08/FC output: [500, 100]\n",
      "\u001b[32m[1201 15:30:35 @registry.py:126]\u001b[0m gen/LSTM/08/FC2 input: [500, 100]\n",
      "\u001b[32m[1201 15:30:35 @registry.py:134]\u001b[0m gen/LSTM/08/FC2 output: [500, 3]\n",
      "\u001b[32m[1201 15:30:35 @registry.py:126]\u001b[0m gen/LSTM/08/FC3 input: [500, 3]\n",
      "\u001b[32m[1201 15:30:35 @registry.py:134]\u001b[0m gen/LSTM/08/FC3 output: [500, 100]\n",
      "\u001b[32m[1201 15:30:35 @registry.py:126]\u001b[0m gen/LSTM/09/FC input: [500, 100]\n",
      "\u001b[32m[1201 15:30:35 @registry.py:134]\u001b[0m gen/LSTM/09/FC output: [500, 100]\n",
      "\u001b[32m[1201 15:30:35 @registry.py:126]\u001b[0m gen/LSTM/09/FC2 input: [500, 100]\n",
      "\u001b[32m[1201 15:30:35 @registry.py:134]\u001b[0m gen/LSTM/09/FC2 output: [500, 7]\n",
      "\u001b[32m[1201 15:30:35 @registry.py:126]\u001b[0m gen/LSTM/09/FC3 input: [500, 7]\n",
      "\u001b[32m[1201 15:30:35 @registry.py:134]\u001b[0m gen/LSTM/09/FC3 output: [500, 100]\n",
      "\u001b[32m[1201 15:30:35 @registry.py:126]\u001b[0m gen/LSTM/10/FC input: [500, 100]\n",
      "\u001b[32m[1201 15:30:35 @registry.py:134]\u001b[0m gen/LSTM/10/FC output: [500, 100]\n",
      "\u001b[32m[1201 15:30:35 @registry.py:126]\u001b[0m gen/LSTM/10/FC2 input: [500, 100]\n",
      "\u001b[32m[1201 15:30:35 @registry.py:134]\u001b[0m gen/LSTM/10/FC2 output: [500, 2]\n",
      "\u001b[32m[1201 15:30:35 @registry.py:126]\u001b[0m gen/LSTM/10/FC3 input: [500, 2]\n",
      "\u001b[32m[1201 15:30:35 @registry.py:134]\u001b[0m gen/LSTM/10/FC3 output: [500, 100]\n",
      "\u001b[32m[1201 15:30:35 @registry.py:126]\u001b[0m gen/LSTM/11/FC input: [500, 100]\n",
      "\u001b[32m[1201 15:30:35 @registry.py:134]\u001b[0m gen/LSTM/11/FC output: [500, 100]\n",
      "\u001b[32m[1201 15:30:35 @registry.py:126]\u001b[0m gen/LSTM/11/FC2 input: [500, 100]\n",
      "\u001b[32m[1201 15:30:35 @registry.py:134]\u001b[0m gen/LSTM/11/FC2 output: [500, 1]\n",
      "\u001b[32m[1201 15:30:35 @registry.py:126]\u001b[0m gen/LSTM/12/FC input: [500, 100]\n",
      "\u001b[32m[1201 15:30:35 @registry.py:134]\u001b[0m gen/LSTM/12/FC output: [500, 100]\n",
      "\u001b[32m[1201 15:30:35 @registry.py:126]\u001b[0m gen/LSTM/12/FC2 input: [500, 100]\n",
      "\u001b[32m[1201 15:30:35 @registry.py:134]\u001b[0m gen/LSTM/12/FC2 output: [500, 5]\n",
      "\u001b[32m[1201 15:30:35 @registry.py:126]\u001b[0m gen/LSTM/12/FC3 input: [500, 5]\n",
      "\u001b[32m[1201 15:30:35 @registry.py:134]\u001b[0m gen/LSTM/12/FC3 output: [500, 100]\n",
      "\u001b[32m[1201 15:30:35 @registry.py:126]\u001b[0m gen/LSTM/13/FC input: [500, 100]\n",
      "\u001b[32m[1201 15:30:35 @registry.py:134]\u001b[0m gen/LSTM/13/FC output: [500, 100]\n",
      "\u001b[32m[1201 15:30:35 @registry.py:126]\u001b[0m gen/LSTM/13/FC2 input: [500, 100]\n",
      "\u001b[32m[1201 15:30:35 @registry.py:134]\u001b[0m gen/LSTM/13/FC2 output: [500, 2]\n",
      "\u001b[32m[1201 15:30:35 @registry.py:126]\u001b[0m gen/LSTM/13/FC3 input: [500, 2]\n",
      "\u001b[32m[1201 15:30:35 @registry.py:134]\u001b[0m gen/LSTM/13/FC3 output: [500, 100]\n",
      "\u001b[32m[1201 15:30:35 @registry.py:126]\u001b[0m gen/LSTM/14/FC input: [500, 100]\n",
      "\u001b[32m[1201 15:30:35 @registry.py:134]\u001b[0m gen/LSTM/14/FC output: [500, 100]\n",
      "\u001b[32m[1201 15:30:35 @registry.py:126]\u001b[0m gen/LSTM/14/FC2 input: [500, 100]\n",
      "\u001b[32m[1201 15:30:35 @registry.py:134]\u001b[0m gen/LSTM/14/FC2 output: [500, 6]\n",
      "\u001b[32m[1201 15:30:35 @registry.py:126]\u001b[0m gen/LSTM/14/FC3 input: [500, 6]\n",
      "\u001b[32m[1201 15:30:35 @registry.py:134]\u001b[0m gen/LSTM/14/FC3 output: [500, 100]\n",
      "\u001b[32m[1201 15:30:35 @registry.py:126]\u001b[0m gen/LSTM/15/FC input: [500, 100]\n",
      "\u001b[32m[1201 15:30:35 @registry.py:134]\u001b[0m gen/LSTM/15/FC output: [500, 100]\n",
      "\u001b[32m[1201 15:30:35 @registry.py:126]\u001b[0m gen/LSTM/15/FC2 input: [500, 100]\n",
      "\u001b[32m[1201 15:30:35 @registry.py:134]\u001b[0m gen/LSTM/15/FC2 output: [500, 8]\n",
      "\u001b[32m[1201 15:30:35 @registry.py:126]\u001b[0m gen/LSTM/15/FC3 input: [500, 8]\n",
      "\u001b[32m[1201 15:30:36 @registry.py:134]\u001b[0m gen/LSTM/15/FC3 output: [500, 100]\n",
      "\u001b[32m[1201 15:30:36 @registry.py:126]\u001b[0m gen/LSTM/16/FC input: [500, 100]\n",
      "\u001b[32m[1201 15:30:36 @registry.py:134]\u001b[0m gen/LSTM/16/FC output: [500, 100]\n",
      "\u001b[32m[1201 15:30:36 @registry.py:126]\u001b[0m gen/LSTM/16/FC2 input: [500, 100]\n",
      "\u001b[32m[1201 15:30:36 @registry.py:134]\u001b[0m gen/LSTM/16/FC2 output: [500, 1]\n",
      "\u001b[32m[1201 15:30:36 @registry.py:126]\u001b[0m gen/LSTM/17/FC input: [500, 100]\n",
      "\u001b[32m[1201 15:30:36 @registry.py:134]\u001b[0m gen/LSTM/17/FC output: [500, 100]\n",
      "\u001b[32m[1201 15:30:36 @registry.py:126]\u001b[0m gen/LSTM/17/FC2 input: [500, 100]\n",
      "\u001b[32m[1201 15:30:36 @registry.py:134]\u001b[0m gen/LSTM/17/FC2 output: [500, 5]\n",
      "\u001b[32m[1201 15:30:36 @registry.py:126]\u001b[0m gen/LSTM/17/FC3 input: [500, 5]\n",
      "\u001b[32m[1201 15:30:36 @registry.py:134]\u001b[0m gen/LSTM/17/FC3 output: [500, 100]\n",
      "\u001b[32m[1201 15:30:36 @registry.py:126]\u001b[0m discrim/dis_fc0/fc input: [500, 90]\n",
      "\u001b[32m[1201 15:30:36 @registry.py:134]\u001b[0m discrim/dis_fc0/fc output: [500, 100]\n",
      "\u001b[32m[1201 15:30:36 @registry.py:126]\u001b[0m discrim/dis_fc0/fc_diversity input: [500, 100]\n",
      "\u001b[32m[1201 15:30:36 @registry.py:134]\u001b[0m discrim/dis_fc0/fc_diversity output: [500, 100]\n",
      "\u001b[32m[1201 15:30:36 @registry.py:126]\u001b[0m discrim/dis_fc_top input: [500, 110]\n",
      "\u001b[32m[1201 15:30:36 @registry.py:134]\u001b[0m discrim/dis_fc_top output: [500, 1]\n"
     ]
    },
    {
     "name": "stdout",
     "output_type": "stream",
     "text": [
      "\u001b[32m[1201 15:30:36 @collection.py:146]\u001b[0m New collections created in tower : tf.GraphKeys.REGULARIZATION_LOSSES\n",
      "\u001b[32m[1201 15:30:36 @collection.py:165]\u001b[0m These collections were modified but restored in : (tf.GraphKeys.SUMMARIES: 0->2)\n",
      "\u001b[32m[1201 15:30:36 @sessinit.py:87]\u001b[0m \u001b[5m\u001b[31mWRN\u001b[0m The following variables are in the checkpoint, but not found in the graph: global_step, optimize/beta1_power, optimize/beta2_power\n",
      "INFO:tensorflow:Graph was finalized.\n",
      "INFO:tensorflow:Running local_init_op.\n",
      "INFO:tensorflow:Done running local_init_op.\n",
      "\u001b[32m[1201 15:30:37 @sessinit.py:114]\u001b[0m Restoring checkpoint from ../output/Chicago/TGAN_01/model\\model-17000 ...\n",
      "INFO:tensorflow:Restoring parameters from ../output/Chicago/TGAN_01/model\\model-17000\n"
     ]
    },
    {
     "name": "stderr",
     "output_type": "stream",
     "text": [
      "  3%|##8                                                                                 |17/500[00:00<00:13,35.26it/s]\n",
      "  3%|##8                                                                                |17/500[00:00<00:04,107.78it/s]\n",
      "  3%|##8                                                                                 |17/500[00:00<00:06,75.16it/s]\n",
      "  3%|##8                                                                                 |17/500[00:00<00:06,72.61it/s]\n",
      "  3%|##8                                                                                |17/500[00:00<00:03,122.85it/s]\n"
     ]
    },
    {
     "name": "stdout",
     "output_type": "stream",
     "text": [
      "Sampling synthetic data from model \u001b[1mTGAN_02\u001b[0m (22/55)\n",
      "\u001b[32m[1201 15:30:40 @collection.py:146]\u001b[0m New collections created in tower : tf.GraphKeys.REGULARIZATION_LOSSES\n",
      "\u001b[32m[1201 15:30:40 @collection.py:165]\u001b[0m These collections were modified but restored in : (tf.GraphKeys.SUMMARIES: 0->2)\n",
      "\u001b[32m[1201 15:30:40 @sessinit.py:87]\u001b[0m \u001b[5m\u001b[31mWRN\u001b[0m The following variables are in the checkpoint, but not found in the graph: global_step, optimize/beta1_power, optimize/beta2_power\n",
      "INFO:tensorflow:Graph was finalized.\n",
      "INFO:tensorflow:Running local_init_op.\n",
      "INFO:tensorflow:Done running local_init_op.\n",
      "\u001b[32m[1201 15:30:41 @sessinit.py:114]\u001b[0m Restoring checkpoint from ../output/Chicago/TGAN_02/model\\model-17000 ...\n",
      "INFO:tensorflow:Restoring parameters from ../output/Chicago/TGAN_02/model\\model-17000\n"
     ]
    },
    {
     "name": "stderr",
     "output_type": "stream",
     "text": [
      "  3%|##8                                                                                 |17/500[00:00<00:13,36.12it/s]\n",
      "  3%|##8                                                                                 |17/500[00:00<00:05,92.63it/s]\n",
      "  3%|##8                                                                                 |17/500[00:00<00:05,85.69it/s]\n",
      "  3%|##8                                                                                 |17/500[00:00<00:06,72.16it/s]\n",
      "  3%|##8                                                                                 |17/500[00:00<00:05,85.05it/s]\n"
     ]
    },
    {
     "name": "stdout",
     "output_type": "stream",
     "text": [
      "Sampling synthetic data from model \u001b[1mTGAN_03\u001b[0m (23/55)\n",
      "\u001b[32m[1201 15:30:45 @collection.py:146]\u001b[0m New collections created in tower : tf.GraphKeys.REGULARIZATION_LOSSES\n",
      "\u001b[32m[1201 15:30:45 @collection.py:165]\u001b[0m These collections were modified but restored in : (tf.GraphKeys.SUMMARIES: 0->2)\n",
      "\u001b[32m[1201 15:30:45 @sessinit.py:87]\u001b[0m \u001b[5m\u001b[31mWRN\u001b[0m The following variables are in the checkpoint, but not found in the graph: global_step, optimize/beta1_power, optimize/beta2_power\n",
      "INFO:tensorflow:Graph was finalized.\n",
      "INFO:tensorflow:Running local_init_op.\n",
      "INFO:tensorflow:Done running local_init_op.\n",
      "\u001b[32m[1201 15:30:46 @sessinit.py:114]\u001b[0m Restoring checkpoint from ../output/Chicago/TGAN_03/model\\model-17000 ...\n",
      "INFO:tensorflow:Restoring parameters from ../output/Chicago/TGAN_03/model\\model-17000\n"
     ]
    },
    {
     "name": "stderr",
     "output_type": "stream",
     "text": [
      "  3%|##8                                                                                 |17/500[00:00<00:11,42.47it/s]\n",
      "  3%|##8                                                                                 |17/500[00:00<00:06,78.97it/s]\n",
      "  3%|##8                                                                                 |17/500[00:00<00:06,76.00it/s]\n",
      "  3%|##8                                                                                 |17/500[00:00<00:05,84.42it/s]\n",
      "  3%|##8                                                                                 |17/500[00:00<00:06,74.35it/s]\n"
     ]
    },
    {
     "name": "stdout",
     "output_type": "stream",
     "text": [
      "Sampling synthetic data from model \u001b[1mTGAN_04\u001b[0m (24/55)\n",
      "\u001b[32m[1201 15:30:49 @collection.py:146]\u001b[0m New collections created in tower : tf.GraphKeys.REGULARIZATION_LOSSES\n",
      "\u001b[32m[1201 15:30:49 @collection.py:165]\u001b[0m These collections were modified but restored in : (tf.GraphKeys.SUMMARIES: 0->2)\n",
      "\u001b[32m[1201 15:30:49 @sessinit.py:87]\u001b[0m \u001b[5m\u001b[31mWRN\u001b[0m The following variables are in the checkpoint, but not found in the graph: global_step, optimize/beta1_power, optimize/beta2_power\n",
      "INFO:tensorflow:Graph was finalized.\n",
      "INFO:tensorflow:Running local_init_op.\n",
      "INFO:tensorflow:Done running local_init_op.\n",
      "\u001b[32m[1201 15:30:50 @sessinit.py:114]\u001b[0m Restoring checkpoint from ../output/Chicago/TGAN_04/model\\model-17000 ...\n",
      "INFO:tensorflow:Restoring parameters from ../output/Chicago/TGAN_04/model\\model-17000\n"
     ]
    },
    {
     "name": "stderr",
     "output_type": "stream",
     "text": [
      "  3%|##8                                                                                 |17/500[00:00<00:12,37.71it/s]\n",
      "  3%|##8                                                                                |17/500[00:00<00:04,110.21it/s]\n",
      "  3%|##8                                                                                 |17/500[00:00<00:06,72.46it/s]\n",
      "  3%|##8                                                                                 |17/500[00:00<00:06,71.85it/s]\n",
      "  3%|##8                                                                                 |17/500[00:00<00:05,91.40it/s]\n"
     ]
    },
    {
     "name": "stdout",
     "output_type": "stream",
     "text": [
      "Sampling synthetic data from model \u001b[1mTGAN_05\u001b[0m (25/55)\n",
      "\u001b[32m[1201 15:30:54 @collection.py:146]\u001b[0m New collections created in tower : tf.GraphKeys.REGULARIZATION_LOSSES\n",
      "\u001b[32m[1201 15:30:54 @collection.py:165]\u001b[0m These collections were modified but restored in : (tf.GraphKeys.SUMMARIES: 0->2)\n",
      "\u001b[32m[1201 15:30:54 @sessinit.py:87]\u001b[0m \u001b[5m\u001b[31mWRN\u001b[0m The following variables are in the checkpoint, but not found in the graph: global_step, optimize/beta1_power, optimize/beta2_power\n",
      "INFO:tensorflow:Graph was finalized.\n",
      "INFO:tensorflow:Running local_init_op.\n",
      "INFO:tensorflow:Done running local_init_op.\n",
      "\u001b[32m[1201 15:30:54 @sessinit.py:114]\u001b[0m Restoring checkpoint from ../output/Chicago/TGAN_05/model\\model-17000 ...\n",
      "INFO:tensorflow:Restoring parameters from ../output/Chicago/TGAN_05/model\\model-17000\n"
     ]
    },
    {
     "name": "stderr",
     "output_type": "stream",
     "text": [
      "  3%|##8                                                                                 |17/500[00:00<00:12,37.79it/s]\n",
      "  3%|##8                                                                                |17/500[00:00<00:04,110.21it/s]\n",
      "  3%|##8                                                                                 |17/500[00:00<00:06,73.39it/s]\n",
      "  3%|##8                                                                                 |17/500[00:00<00:06,74.83it/s]\n",
      "  3%|##8                                                                                |17/500[00:00<00:04,115.79it/s]\n"
     ]
    },
    {
     "name": "stdout",
     "output_type": "stream",
     "text": [
      "Sampling synthetic data from model \u001b[1mWGAN_OR_01\u001b[0m (26/55)\n",
      "\u001b[32m[1201 15:31:02 @DATSGANModel.py:213]\u001b[0m \u001b[91mCreating cell for age (in-edges: 0; ancestors: 0)\n",
      "\u001b[32m[1201 15:31:02 @DATSGANModel.py:213]\u001b[0m \u001b[91mCreating cell for gender (in-edges: 0; ancestors: 0)\n",
      "\u001b[32m[1201 15:31:02 @DATSGANModel.py:213]\u001b[0m \u001b[91mCreating cell for travel_dow (in-edges: 0; ancestors: 0)\n",
      "\u001b[32m[1201 15:31:02 @DATSGANModel.py:213]\u001b[0m \u001b[91mCreating cell for license (in-edges: 1; ancestors: 1)\n",
      "\u001b[32m[1201 15:31:02 @DATSGANModel.py:213]\u001b[0m \u001b[91mCreating cell for education_level (in-edges: 1; ancestors: 1)\n",
      "\u001b[32m[1201 15:31:02 @DATSGANModel.py:213]\u001b[0m \u001b[91mCreating cell for work_status (in-edges: 2; ancestors: 3)\n",
      "\u001b[32m[1201 15:31:02 @DATSGANModel.py:213]\u001b[0m \u001b[91mCreating cell for hh_income (in-edges: 2; ancestors: 4)\n",
      "\u001b[32m[1201 15:31:02 @DATSGANModel.py:213]\u001b[0m \u001b[91mCreating cell for trip_purpose (in-edges: 1; ancestors: 4)\n",
      "\u001b[32m[1201 15:31:03 @DATSGANModel.py:213]\u001b[0m \u001b[91mCreating cell for hh_descr (in-edges: 2; ancestors: 5)\n",
      "\u001b[32m[1201 15:31:03 @DATSGANModel.py:213]\u001b[0m \u001b[91mCreating cell for hh_size (in-edges: 3; ancestors: 5)\n",
      "\u001b[32m[1201 15:31:03 @DATSGANModel.py:213]\u001b[0m \u001b[91mCreating cell for departure_time (in-edges: 1; ancestors: 5)\n",
      "\u001b[32m[1201 15:31:03 @DATSGANModel.py:213]\u001b[0m \u001b[91mCreating cell for distance (in-edges: 1; ancestors: 5)\n",
      "\u001b[32m[1201 15:31:03 @DATSGANModel.py:213]\u001b[0m \u001b[91mCreating cell for hh_vehicles (in-edges: 2; ancestors: 6)\n",
      "\u001b[32m[1201 15:31:03 @DATSGANModel.py:213]\u001b[0m \u001b[91mCreating cell for hh_bikes (in-edges: 2; ancestors: 6)\n",
      "\u001b[32m[1201 15:31:03 @DATSGANModel.py:213]\u001b[0m \u001b[91mCreating cell for choice (in-edges: 7; ancestors: 13)\n",
      "\u001b[32m[1201 15:31:03 @sessinit.py:87]\u001b[0m \u001b[5m\u001b[31mWRN\u001b[0m The following variables are in the checkpoint, but not found in the graph: global_step\n",
      "INFO:tensorflow:Graph was finalized.\n",
      "INFO:tensorflow:Running local_init_op.\n",
      "INFO:tensorflow:Done running local_init_op.\n",
      "\u001b[32m[1201 15:31:04 @sessinit.py:114]\u001b[0m Restoring checkpoint from ../output/Chicago/WGAN_OR_01/model\\model-25499 ...\n",
      "INFO:tensorflow:Restoring parameters from ../output/Chicago/WGAN_OR_01/model\\model-25499\n",
      "\u001b[32m[1201 15:31:05 @DATSGAN.py:267]\u001b[0m Loading Preprocessor!\n"
     ]
    },
    {
     "name": "stderr",
     "output_type": "stream",
     "text": [
      "|                                                                                          |17/?[00:00<00:00,29.29it/s]"
     ]
    },
    {
     "name": "stdout",
     "output_type": "stream",
     "text": [
      "\u001b[32m[1201 15:31:05 @DATSGAN.py:267]\u001b[0m Loading Preprocessor!\n"
     ]
    },
    {
     "name": "stderr",
     "output_type": "stream",
     "text": [
      "\n",
      "|                                                                                          |17/?[00:00<00:00,58.29it/s]"
     ]
    },
    {
     "name": "stdout",
     "output_type": "stream",
     "text": [
      "\u001b[32m[1201 15:31:06 @DATSGAN.py:267]\u001b[0m Loading Preprocessor!\n"
     ]
    },
    {
     "name": "stderr",
     "output_type": "stream",
     "text": [
      "\n",
      "|                                                                                          |17/?[00:00<00:00,50.70it/s]"
     ]
    },
    {
     "name": "stdout",
     "output_type": "stream",
     "text": [
      "\u001b[32m[1201 15:31:06 @DATSGAN.py:267]\u001b[0m Loading Preprocessor!\n"
     ]
    },
    {
     "name": "stderr",
     "output_type": "stream",
     "text": [
      "\n",
      "|                                                                                          |17/?[00:00<00:00,59.92it/s]"
     ]
    },
    {
     "name": "stdout",
     "output_type": "stream",
     "text": [
      "\u001b[32m[1201 15:31:06 @DATSGAN.py:267]\u001b[0m Loading Preprocessor!\n"
     ]
    },
    {
     "name": "stderr",
     "output_type": "stream",
     "text": [
      "\n",
      "|                                                                                          |17/?[00:00<00:00,51.70it/s]"
     ]
    },
    {
     "name": "stdout",
     "output_type": "stream",
     "text": [
      "\u001b[32m[1201 15:31:07 @DATSGAN.py:267]\u001b[0m Loading Preprocessor!\n"
     ]
    },
    {
     "name": "stderr",
     "output_type": "stream",
     "text": [
      "\n",
      "|                                                                                          |17/?[00:00<00:00,60.66it/s]"
     ]
    },
    {
     "name": "stdout",
     "output_type": "stream",
     "text": [
      "\u001b[32m[1201 15:31:07 @DATSGAN.py:267]\u001b[0m Loading Preprocessor!\n"
     ]
    },
    {
     "name": "stderr",
     "output_type": "stream",
     "text": [
      "\n",
      "|                                                                                          |17/?[00:00<00:00,50.85it/s]"
     ]
    },
    {
     "name": "stdout",
     "output_type": "stream",
     "text": [
      "\u001b[32m[1201 15:31:07 @DATSGAN.py:267]\u001b[0m Loading Preprocessor!\n"
     ]
    },
    {
     "name": "stderr",
     "output_type": "stream",
     "text": [
      "\n",
      "|                                                                                          |17/?[00:00<00:00,59.50it/s]"
     ]
    },
    {
     "name": "stdout",
     "output_type": "stream",
     "text": [
      "\u001b[32m[1201 15:31:08 @DATSGAN.py:267]\u001b[0m Loading Preprocessor!\n"
     ]
    },
    {
     "name": "stderr",
     "output_type": "stream",
     "text": [
      "\n",
      "|                                                                                          |17/?[00:00<00:00,53.06it/s]"
     ]
    },
    {
     "name": "stdout",
     "output_type": "stream",
     "text": [
      "\u001b[32m[1201 15:31:08 @DATSGAN.py:267]\u001b[0m Loading Preprocessor!\n"
     ]
    },
    {
     "name": "stderr",
     "output_type": "stream",
     "text": [
      "\n",
      "|                                                                                          |17/?[00:00<00:00,56.56it/s]"
     ]
    },
    {
     "name": "stdout",
     "output_type": "stream",
     "text": [
      "\u001b[32m[1201 15:31:09 @DATSGAN.py:267]\u001b[0m Loading Preprocessor!\n"
     ]
    },
    {
     "name": "stderr",
     "output_type": "stream",
     "text": [
      "\n",
      "|                                                                                          |17/?[00:00<00:00,50.55it/s]"
     ]
    },
    {
     "name": "stdout",
     "output_type": "stream",
     "text": [
      "\u001b[32m[1201 15:31:09 @DATSGAN.py:267]\u001b[0m Loading Preprocessor!\n"
     ]
    },
    {
     "name": "stderr",
     "output_type": "stream",
     "text": [
      "\n",
      "|                                                                                          |17/?[00:00<00:00,60.45it/s]"
     ]
    },
    {
     "name": "stdout",
     "output_type": "stream",
     "text": [
      "\u001b[32m[1201 15:31:09 @DATSGAN.py:267]\u001b[0m Loading Preprocessor!\n"
     ]
    },
    {
     "name": "stderr",
     "output_type": "stream",
     "text": [
      "\n",
      "|                                                                                          |17/?[00:00<00:00,51.00it/s]"
     ]
    },
    {
     "name": "stdout",
     "output_type": "stream",
     "text": [
      "\u001b[32m[1201 15:31:10 @DATSGAN.py:267]\u001b[0m Loading Preprocessor!\n"
     ]
    },
    {
     "name": "stderr",
     "output_type": "stream",
     "text": [
      "\n",
      "|                                                                                          |17/?[00:00<00:00,58.99it/s]"
     ]
    },
    {
     "name": "stdout",
     "output_type": "stream",
     "text": [
      "\u001b[32m[1201 15:31:10 @DATSGAN.py:267]\u001b[0m Loading Preprocessor!\n"
     ]
    },
    {
     "name": "stderr",
     "output_type": "stream",
     "text": [
      "\n",
      "|                                                                                          |17/?[00:00<00:00,48.41it/s]\n"
     ]
    },
    {
     "name": "stdout",
     "output_type": "stream",
     "text": [
      "Sampling synthetic data from model \u001b[1mWGAN_OR_02\u001b[0m (27/55)\n",
      "\u001b[32m[1201 15:31:17 @DATSGANModel.py:213]\u001b[0m \u001b[91mCreating cell for age (in-edges: 0; ancestors: 0)\n",
      "\u001b[32m[1201 15:31:17 @DATSGANModel.py:213]\u001b[0m \u001b[91mCreating cell for gender (in-edges: 0; ancestors: 0)\n",
      "\u001b[32m[1201 15:31:17 @DATSGANModel.py:213]\u001b[0m \u001b[91mCreating cell for travel_dow (in-edges: 0; ancestors: 0)\n",
      "\u001b[32m[1201 15:31:17 @DATSGANModel.py:213]\u001b[0m \u001b[91mCreating cell for license (in-edges: 1; ancestors: 1)\n",
      "\u001b[32m[1201 15:31:17 @DATSGANModel.py:213]\u001b[0m \u001b[91mCreating cell for education_level (in-edges: 1; ancestors: 1)\n",
      "\u001b[32m[1201 15:31:17 @DATSGANModel.py:213]\u001b[0m \u001b[91mCreating cell for work_status (in-edges: 2; ancestors: 3)\n",
      "\u001b[32m[1201 15:31:17 @DATSGANModel.py:213]\u001b[0m \u001b[91mCreating cell for hh_income (in-edges: 2; ancestors: 4)\n",
      "\u001b[32m[1201 15:31:17 @DATSGANModel.py:213]\u001b[0m \u001b[91mCreating cell for trip_purpose (in-edges: 1; ancestors: 4)\n",
      "\u001b[32m[1201 15:31:17 @DATSGANModel.py:213]\u001b[0m \u001b[91mCreating cell for hh_descr (in-edges: 2; ancestors: 5)\n",
      "\u001b[32m[1201 15:31:17 @DATSGANModel.py:213]\u001b[0m \u001b[91mCreating cell for hh_size (in-edges: 3; ancestors: 5)\n",
      "\u001b[32m[1201 15:31:17 @DATSGANModel.py:213]\u001b[0m \u001b[91mCreating cell for departure_time (in-edges: 1; ancestors: 5)\n",
      "\u001b[32m[1201 15:31:17 @DATSGANModel.py:213]\u001b[0m \u001b[91mCreating cell for distance (in-edges: 1; ancestors: 5)\n",
      "\u001b[32m[1201 15:31:17 @DATSGANModel.py:213]\u001b[0m \u001b[91mCreating cell for hh_vehicles (in-edges: 2; ancestors: 6)\n",
      "\u001b[32m[1201 15:31:18 @DATSGANModel.py:213]\u001b[0m \u001b[91mCreating cell for hh_bikes (in-edges: 2; ancestors: 6)\n",
      "\u001b[32m[1201 15:31:18 @DATSGANModel.py:213]\u001b[0m \u001b[91mCreating cell for choice (in-edges: 7; ancestors: 13)\n",
      "\u001b[32m[1201 15:31:18 @sessinit.py:87]\u001b[0m \u001b[5m\u001b[31mWRN\u001b[0m The following variables are in the checkpoint, but not found in the graph: global_step\n",
      "INFO:tensorflow:Graph was finalized.\n",
      "INFO:tensorflow:Running local_init_op.\n",
      "INFO:tensorflow:Done running local_init_op.\n",
      "\u001b[32m[1201 15:31:19 @sessinit.py:114]\u001b[0m Restoring checkpoint from ../output/Chicago/WGAN_OR_02/model\\model-25499 ...\n",
      "INFO:tensorflow:Restoring parameters from ../output/Chicago/WGAN_OR_02/model\\model-25499\n",
      "\u001b[32m[1201 15:31:19 @DATSGAN.py:267]\u001b[0m Loading Preprocessor!\n"
     ]
    },
    {
     "name": "stderr",
     "output_type": "stream",
     "text": [
      "|                                                                                          |17/?[00:00<00:00,32.30it/s]"
     ]
    },
    {
     "name": "stdout",
     "output_type": "stream",
     "text": [
      "\u001b[32m[1201 15:31:20 @DATSGAN.py:267]\u001b[0m Loading Preprocessor!\n"
     ]
    },
    {
     "name": "stderr",
     "output_type": "stream",
     "text": [
      "\n",
      "|                                                                                          |17/?[00:00<00:00,55.46it/s]"
     ]
    },
    {
     "name": "stdout",
     "output_type": "stream",
     "text": [
      "\u001b[32m[1201 15:31:20 @DATSGAN.py:267]\u001b[0m Loading Preprocessor!\n"
     ]
    },
    {
     "name": "stderr",
     "output_type": "stream",
     "text": [
      "\n",
      "|                                                                                          |17/?[00:00<00:00,60.24it/s]"
     ]
    },
    {
     "name": "stdout",
     "output_type": "stream",
     "text": [
      "\u001b[32m[1201 15:31:21 @DATSGAN.py:267]\u001b[0m Loading Preprocessor!\n"
     ]
    },
    {
     "name": "stderr",
     "output_type": "stream",
     "text": [
      "\n",
      "|                                                                                          |17/?[00:00<00:00,52.57it/s]"
     ]
    },
    {
     "name": "stdout",
     "output_type": "stream",
     "text": [
      "\u001b[32m[1201 15:31:21 @DATSGAN.py:267]\u001b[0m Loading Preprocessor!\n"
     ]
    },
    {
     "name": "stderr",
     "output_type": "stream",
     "text": [
      "\n",
      "|                                                                                          |17/?[00:00<00:00,66.04it/s]"
     ]
    },
    {
     "name": "stdout",
     "output_type": "stream",
     "text": [
      "\u001b[32m[1201 15:31:21 @DATSGAN.py:267]\u001b[0m Loading Preprocessor!\n"
     ]
    },
    {
     "name": "stderr",
     "output_type": "stream",
     "text": [
      "\n",
      "|                                                                                          |17/?[00:00<00:00,50.63it/s]"
     ]
    },
    {
     "name": "stdout",
     "output_type": "stream",
     "text": [
      "\u001b[32m[1201 15:31:22 @DATSGAN.py:267]\u001b[0m Loading Preprocessor!\n"
     ]
    },
    {
     "name": "stderr",
     "output_type": "stream",
     "text": [
      "\n",
      "|                                                                                          |17/?[00:00<00:00,62.32it/s]"
     ]
    },
    {
     "name": "stdout",
     "output_type": "stream",
     "text": [
      "\u001b[32m[1201 15:31:22 @DATSGAN.py:267]\u001b[0m Loading Preprocessor!\n"
     ]
    },
    {
     "name": "stderr",
     "output_type": "stream",
     "text": [
      "\n",
      "|                                                                                          |17/?[00:00<00:00,52.57it/s]"
     ]
    },
    {
     "name": "stdout",
     "output_type": "stream",
     "text": [
      "\u001b[32m[1201 15:31:22 @DATSGAN.py:267]\u001b[0m Loading Preprocessor!\n"
     ]
    },
    {
     "name": "stderr",
     "output_type": "stream",
     "text": [
      "\n",
      "|                                                                                          |17/?[00:00<00:00,64.30it/s]"
     ]
    },
    {
     "name": "stdout",
     "output_type": "stream",
     "text": [
      "\u001b[32m[1201 15:31:23 @DATSGAN.py:267]\u001b[0m Loading Preprocessor!\n"
     ]
    },
    {
     "name": "stderr",
     "output_type": "stream",
     "text": [
      "\n",
      "|                                                                                          |17/?[00:00<00:00,49.74it/s]"
     ]
    },
    {
     "name": "stdout",
     "output_type": "stream",
     "text": [
      "\u001b[32m[1201 15:31:23 @DATSGAN.py:267]\u001b[0m Loading Preprocessor!\n"
     ]
    },
    {
     "name": "stderr",
     "output_type": "stream",
     "text": [
      "\n",
      "|                                                                                          |17/?[00:00<00:00,61.53it/s]"
     ]
    },
    {
     "name": "stdout",
     "output_type": "stream",
     "text": [
      "\u001b[32m[1201 15:31:23 @DATSGAN.py:267]\u001b[0m Loading Preprocessor!\n"
     ]
    },
    {
     "name": "stderr",
     "output_type": "stream",
     "text": [
      "\n",
      "|                                                                                          |17/?[00:00<00:00,50.26it/s]"
     ]
    },
    {
     "name": "stdout",
     "output_type": "stream",
     "text": [
      "\u001b[32m[1201 15:31:24 @DATSGAN.py:267]\u001b[0m Loading Preprocessor!\n"
     ]
    },
    {
     "name": "stderr",
     "output_type": "stream",
     "text": [
      "\n",
      "|                                                                                          |17/?[00:00<00:00,61.76it/s]"
     ]
    },
    {
     "name": "stdout",
     "output_type": "stream",
     "text": [
      "\u001b[32m[1201 15:31:24 @DATSGAN.py:267]\u001b[0m Loading Preprocessor!\n"
     ]
    },
    {
     "name": "stderr",
     "output_type": "stream",
     "text": [
      "\n",
      "|                                                                                          |17/?[00:00<00:00,50.85it/s]"
     ]
    },
    {
     "name": "stdout",
     "output_type": "stream",
     "text": [
      "\u001b[32m[1201 15:31:25 @DATSGAN.py:267]\u001b[0m Loading Preprocessor!\n"
     ]
    },
    {
     "name": "stderr",
     "output_type": "stream",
     "text": [
      "\n",
      "|                                                                                          |17/?[00:00<00:00,62.89it/s]\n"
     ]
    },
    {
     "name": "stdout",
     "output_type": "stream",
     "text": [
      "Sampling synthetic data from model \u001b[1mWGAN_OR_03\u001b[0m (28/55)\n",
      "\u001b[32m[1201 15:31:31 @DATSGANModel.py:213]\u001b[0m \u001b[91mCreating cell for age (in-edges: 0; ancestors: 0)\n",
      "\u001b[32m[1201 15:31:31 @DATSGANModel.py:213]\u001b[0m \u001b[91mCreating cell for gender (in-edges: 0; ancestors: 0)\n",
      "\u001b[32m[1201 15:31:31 @DATSGANModel.py:213]\u001b[0m \u001b[91mCreating cell for travel_dow (in-edges: 0; ancestors: 0)\n",
      "\u001b[32m[1201 15:31:31 @DATSGANModel.py:213]\u001b[0m \u001b[91mCreating cell for license (in-edges: 1; ancestors: 1)\n",
      "\u001b[32m[1201 15:31:31 @DATSGANModel.py:213]\u001b[0m \u001b[91mCreating cell for education_level (in-edges: 1; ancestors: 1)\n",
      "\u001b[32m[1201 15:31:31 @DATSGANModel.py:213]\u001b[0m \u001b[91mCreating cell for work_status (in-edges: 2; ancestors: 3)\n",
      "\u001b[32m[1201 15:31:31 @DATSGANModel.py:213]\u001b[0m \u001b[91mCreating cell for hh_income (in-edges: 2; ancestors: 4)\n",
      "\u001b[32m[1201 15:31:31 @DATSGANModel.py:213]\u001b[0m \u001b[91mCreating cell for trip_purpose (in-edges: 1; ancestors: 4)\n",
      "\u001b[32m[1201 15:31:31 @DATSGANModel.py:213]\u001b[0m \u001b[91mCreating cell for hh_descr (in-edges: 2; ancestors: 5)\n",
      "\u001b[32m[1201 15:31:32 @DATSGANModel.py:213]\u001b[0m \u001b[91mCreating cell for hh_size (in-edges: 3; ancestors: 5)\n",
      "\u001b[32m[1201 15:31:32 @DATSGANModel.py:213]\u001b[0m \u001b[91mCreating cell for departure_time (in-edges: 1; ancestors: 5)\n",
      "\u001b[32m[1201 15:31:32 @DATSGANModel.py:213]\u001b[0m \u001b[91mCreating cell for distance (in-edges: 1; ancestors: 5)\n",
      "\u001b[32m[1201 15:31:32 @DATSGANModel.py:213]\u001b[0m \u001b[91mCreating cell for hh_vehicles (in-edges: 2; ancestors: 6)\n",
      "\u001b[32m[1201 15:31:32 @DATSGANModel.py:213]\u001b[0m \u001b[91mCreating cell for hh_bikes (in-edges: 2; ancestors: 6)\n",
      "\u001b[32m[1201 15:31:32 @DATSGANModel.py:213]\u001b[0m \u001b[91mCreating cell for choice (in-edges: 7; ancestors: 13)\n",
      "\u001b[32m[1201 15:31:32 @sessinit.py:87]\u001b[0m \u001b[5m\u001b[31mWRN\u001b[0m The following variables are in the checkpoint, but not found in the graph: global_step\n",
      "INFO:tensorflow:Graph was finalized.\n",
      "INFO:tensorflow:Running local_init_op.\n",
      "INFO:tensorflow:Done running local_init_op.\n",
      "\u001b[32m[1201 15:31:33 @sessinit.py:114]\u001b[0m Restoring checkpoint from ../output/Chicago/WGAN_OR_03/model\\model-25499 ...\n",
      "INFO:tensorflow:Restoring parameters from ../output/Chicago/WGAN_OR_03/model\\model-25499\n",
      "\u001b[32m[1201 15:31:34 @DATSGAN.py:267]\u001b[0m Loading Preprocessor!\n"
     ]
    },
    {
     "name": "stderr",
     "output_type": "stream",
     "text": [
      "|                                                                                          |17/?[00:00<00:00,29.57it/s]"
     ]
    },
    {
     "name": "stdout",
     "output_type": "stream",
     "text": [
      "\u001b[32m[1201 15:31:34 @DATSGAN.py:267]\u001b[0m Loading Preprocessor!\n"
     ]
    },
    {
     "name": "stderr",
     "output_type": "stream",
     "text": [
      "\n",
      "|                                                                                          |17/?[00:00<00:00,57.41it/s]"
     ]
    },
    {
     "name": "stdout",
     "output_type": "stream",
     "text": [
      "\u001b[32m[1201 15:31:35 @DATSGAN.py:267]\u001b[0m Loading Preprocessor!\n"
     ]
    },
    {
     "name": "stderr",
     "output_type": "stream",
     "text": [
      "\n",
      "|                                                                                          |17/?[00:00<00:00,54.32it/s]"
     ]
    },
    {
     "name": "stdout",
     "output_type": "stream",
     "text": [
      "\u001b[32m[1201 15:31:35 @DATSGAN.py:267]\u001b[0m Loading Preprocessor!\n"
     ]
    },
    {
     "name": "stderr",
     "output_type": "stream",
     "text": [
      "\n",
      "|                                                                                          |17/?[00:00<00:00,55.10it/s]"
     ]
    },
    {
     "name": "stdout",
     "output_type": "stream",
     "text": [
      "\u001b[32m[1201 15:31:35 @DATSGAN.py:267]\u001b[0m Loading Preprocessor!\n"
     ]
    },
    {
     "name": "stderr",
     "output_type": "stream",
     "text": [
      "\n",
      "|                                                                                          |17/?[00:00<00:00,54.49it/s]"
     ]
    },
    {
     "name": "stdout",
     "output_type": "stream",
     "text": [
      "\u001b[32m[1201 15:31:36 @DATSGAN.py:267]\u001b[0m Loading Preprocessor!\n"
     ]
    },
    {
     "name": "stderr",
     "output_type": "stream",
     "text": [
      "\n",
      "|                                                                                          |17/?[00:00<00:00,56.28it/s]"
     ]
    },
    {
     "name": "stdout",
     "output_type": "stream",
     "text": [
      "\u001b[32m[1201 15:31:36 @DATSGAN.py:267]\u001b[0m Loading Preprocessor!\n"
     ]
    },
    {
     "name": "stderr",
     "output_type": "stream",
     "text": [
      "\n",
      "|                                                                                          |17/?[00:00<00:00,53.14it/s]"
     ]
    },
    {
     "name": "stdout",
     "output_type": "stream",
     "text": [
      "\u001b[32m[1201 15:31:36 @DATSGAN.py:267]\u001b[0m Loading Preprocessor!\n"
     ]
    },
    {
     "name": "stderr",
     "output_type": "stream",
     "text": [
      "\n",
      "|                                                                                          |17/?[00:00<00:00,54.15it/s]"
     ]
    },
    {
     "name": "stdout",
     "output_type": "stream",
     "text": [
      "\u001b[32m[1201 15:31:37 @DATSGAN.py:267]\u001b[0m Loading Preprocessor!\n"
     ]
    },
    {
     "name": "stderr",
     "output_type": "stream",
     "text": [
      "\n",
      "|                                                                                          |17/?[00:00<00:00,54.40it/s]"
     ]
    },
    {
     "name": "stdout",
     "output_type": "stream",
     "text": [
      "\u001b[32m[1201 15:31:37 @DATSGAN.py:267]\u001b[0m Loading Preprocessor!\n"
     ]
    },
    {
     "name": "stderr",
     "output_type": "stream",
     "text": [
      "\n",
      "|                                                                                          |17/?[00:00<00:00,52.97it/s]"
     ]
    },
    {
     "name": "stdout",
     "output_type": "stream",
     "text": [
      "\u001b[32m[1201 15:31:38 @DATSGAN.py:267]\u001b[0m Loading Preprocessor!\n"
     ]
    },
    {
     "name": "stderr",
     "output_type": "stream",
     "text": [
      "\n",
      "|                                                                                          |17/?[00:00<00:00,55.91it/s]"
     ]
    },
    {
     "name": "stdout",
     "output_type": "stream",
     "text": [
      "\u001b[32m[1201 15:31:38 @DATSGAN.py:267]\u001b[0m Loading Preprocessor!\n"
     ]
    },
    {
     "name": "stderr",
     "output_type": "stream",
     "text": [
      "\n",
      "|                                                                                          |17/?[00:00<00:00,53.55it/s]"
     ]
    },
    {
     "name": "stdout",
     "output_type": "stream",
     "text": [
      "\u001b[32m[1201 15:31:38 @DATSGAN.py:267]\u001b[0m Loading Preprocessor!\n"
     ]
    },
    {
     "name": "stderr",
     "output_type": "stream",
     "text": [
      "\n",
      "|                                                                                          |17/?[00:00<00:00,56.28it/s]"
     ]
    },
    {
     "name": "stdout",
     "output_type": "stream",
     "text": [
      "\u001b[32m[1201 15:31:39 @DATSGAN.py:267]\u001b[0m Loading Preprocessor!\n"
     ]
    },
    {
     "name": "stderr",
     "output_type": "stream",
     "text": [
      "\n",
      "|                                                                                          |17/?[00:00<00:00,54.15it/s]"
     ]
    },
    {
     "name": "stdout",
     "output_type": "stream",
     "text": [
      "\u001b[32m[1201 15:31:39 @DATSGAN.py:267]\u001b[0m Loading Preprocessor!\n"
     ]
    },
    {
     "name": "stderr",
     "output_type": "stream",
     "text": [
      "\n",
      "|                                                                                          |17/?[00:00<00:00,56.37it/s]\n"
     ]
    },
    {
     "name": "stdout",
     "output_type": "stream",
     "text": [
      "Sampling synthetic data from model \u001b[1mWGAN_OR_04\u001b[0m (29/55)\n",
      "\u001b[32m[1201 15:31:45 @DATSGANModel.py:213]\u001b[0m \u001b[91mCreating cell for age (in-edges: 0; ancestors: 0)\n",
      "\u001b[32m[1201 15:31:46 @DATSGANModel.py:213]\u001b[0m \u001b[91mCreating cell for gender (in-edges: 0; ancestors: 0)\n",
      "\u001b[32m[1201 15:31:46 @DATSGANModel.py:213]\u001b[0m \u001b[91mCreating cell for travel_dow (in-edges: 0; ancestors: 0)\n",
      "\u001b[32m[1201 15:31:46 @DATSGANModel.py:213]\u001b[0m \u001b[91mCreating cell for license (in-edges: 1; ancestors: 1)\n",
      "\u001b[32m[1201 15:31:46 @DATSGANModel.py:213]\u001b[0m \u001b[91mCreating cell for education_level (in-edges: 1; ancestors: 1)\n",
      "\u001b[32m[1201 15:31:46 @DATSGANModel.py:213]\u001b[0m \u001b[91mCreating cell for work_status (in-edges: 2; ancestors: 3)\n",
      "\u001b[32m[1201 15:31:46 @DATSGANModel.py:213]\u001b[0m \u001b[91mCreating cell for hh_income (in-edges: 2; ancestors: 4)\n",
      "\u001b[32m[1201 15:31:46 @DATSGANModel.py:213]\u001b[0m \u001b[91mCreating cell for trip_purpose (in-edges: 1; ancestors: 4)\n",
      "\u001b[32m[1201 15:31:46 @DATSGANModel.py:213]\u001b[0m \u001b[91mCreating cell for hh_descr (in-edges: 2; ancestors: 5)\n",
      "\u001b[32m[1201 15:31:46 @DATSGANModel.py:213]\u001b[0m \u001b[91mCreating cell for hh_size (in-edges: 3; ancestors: 5)\n",
      "\u001b[32m[1201 15:31:46 @DATSGANModel.py:213]\u001b[0m \u001b[91mCreating cell for departure_time (in-edges: 1; ancestors: 5)\n",
      "\u001b[32m[1201 15:31:46 @DATSGANModel.py:213]\u001b[0m \u001b[91mCreating cell for distance (in-edges: 1; ancestors: 5)\n",
      "\u001b[32m[1201 15:31:46 @DATSGANModel.py:213]\u001b[0m \u001b[91mCreating cell for hh_vehicles (in-edges: 2; ancestors: 6)\n",
      "\u001b[32m[1201 15:31:46 @DATSGANModel.py:213]\u001b[0m \u001b[91mCreating cell for hh_bikes (in-edges: 2; ancestors: 6)\n",
      "\u001b[32m[1201 15:31:46 @DATSGANModel.py:213]\u001b[0m \u001b[91mCreating cell for choice (in-edges: 7; ancestors: 13)\n",
      "\u001b[32m[1201 15:31:47 @sessinit.py:87]\u001b[0m \u001b[5m\u001b[31mWRN\u001b[0m The following variables are in the checkpoint, but not found in the graph: global_step\n",
      "INFO:tensorflow:Graph was finalized.\n",
      "INFO:tensorflow:Running local_init_op.\n",
      "INFO:tensorflow:Done running local_init_op.\n",
      "\u001b[32m[1201 15:31:48 @sessinit.py:114]\u001b[0m Restoring checkpoint from ../output/Chicago/WGAN_OR_04/model\\model-25499 ...\n",
      "INFO:tensorflow:Restoring parameters from ../output/Chicago/WGAN_OR_04/model\\model-25499\n",
      "\u001b[32m[1201 15:31:48 @DATSGAN.py:267]\u001b[0m Loading Preprocessor!\n"
     ]
    },
    {
     "name": "stderr",
     "output_type": "stream",
     "text": [
      "|                                                                                          |17/?[00:00<00:00,28.49it/s]"
     ]
    },
    {
     "name": "stdout",
     "output_type": "stream",
     "text": [
      "\u001b[32m[1201 15:31:49 @DATSGAN.py:267]\u001b[0m Loading Preprocessor!\n"
     ]
    },
    {
     "name": "stderr",
     "output_type": "stream",
     "text": [
      "\n",
      "|                                                                                          |17/?[00:00<00:00,49.53it/s]"
     ]
    },
    {
     "name": "stdout",
     "output_type": "stream",
     "text": [
      "\u001b[32m[1201 15:31:49 @DATSGAN.py:267]\u001b[0m Loading Preprocessor!\n"
     ]
    },
    {
     "name": "stderr",
     "output_type": "stream",
     "text": [
      "\n",
      "|                                                                                          |17/?[00:00<00:00,61.42it/s]"
     ]
    },
    {
     "name": "stdout",
     "output_type": "stream",
     "text": [
      "\u001b[32m[1201 15:31:50 @DATSGAN.py:267]\u001b[0m Loading Preprocessor!\n"
     ]
    },
    {
     "name": "stderr",
     "output_type": "stream",
     "text": [
      "\n",
      "|                                                                                          |17/?[00:00<00:00,51.39it/s]"
     ]
    },
    {
     "name": "stdout",
     "output_type": "stream",
     "text": [
      "\u001b[32m[1201 15:31:50 @DATSGAN.py:267]\u001b[0m Loading Preprocessor!\n"
     ]
    },
    {
     "name": "stderr",
     "output_type": "stream",
     "text": [
      "\n",
      "|                                                                                          |17/?[00:00<00:00,60.77it/s]"
     ]
    },
    {
     "name": "stdout",
     "output_type": "stream",
     "text": [
      "\u001b[32m[1201 15:31:50 @DATSGAN.py:267]\u001b[0m Loading Preprocessor!\n"
     ]
    },
    {
     "name": "stderr",
     "output_type": "stream",
     "text": [
      "\n",
      "|                                                                                          |17/?[00:00<00:00,51.62it/s]"
     ]
    },
    {
     "name": "stdout",
     "output_type": "stream",
     "text": [
      "\u001b[32m[1201 15:31:51 @DATSGAN.py:267]\u001b[0m Loading Preprocessor!\n"
     ]
    },
    {
     "name": "stderr",
     "output_type": "stream",
     "text": [
      "\n",
      "|                                                                                          |17/?[00:00<00:00,56.65it/s]"
     ]
    },
    {
     "name": "stdout",
     "output_type": "stream",
     "text": [
      "\u001b[32m[1201 15:31:51 @DATSGAN.py:267]\u001b[0m Loading Preprocessor!\n"
     ]
    },
    {
     "name": "stderr",
     "output_type": "stream",
     "text": [
      "\n",
      "|                                                                                          |17/?[00:00<00:00,50.93it/s]"
     ]
    },
    {
     "name": "stdout",
     "output_type": "stream",
     "text": [
      "\u001b[32m[1201 15:31:51 @DATSGAN.py:267]\u001b[0m Loading Preprocessor!\n"
     ]
    },
    {
     "name": "stderr",
     "output_type": "stream",
     "text": [
      "\n",
      "|                                                                                          |17/?[00:00<00:00,58.49it/s]"
     ]
    },
    {
     "name": "stdout",
     "output_type": "stream",
     "text": [
      "\u001b[32m[1201 15:31:52 @DATSGAN.py:267]\u001b[0m Loading Preprocessor!\n"
     ]
    },
    {
     "name": "stderr",
     "output_type": "stream",
     "text": [
      "\n",
      "|                                                                                          |17/?[00:00<00:00,52.73it/s]"
     ]
    },
    {
     "name": "stdout",
     "output_type": "stream",
     "text": [
      "\u001b[32m[1201 15:31:52 @DATSGAN.py:267]\u001b[0m Loading Preprocessor!\n"
     ]
    },
    {
     "name": "stderr",
     "output_type": "stream",
     "text": [
      "\n",
      "|                                                                                          |17/?[00:00<00:00,54.49it/s]"
     ]
    },
    {
     "name": "stdout",
     "output_type": "stream",
     "text": [
      "\u001b[32m[1201 15:31:53 @DATSGAN.py:267]\u001b[0m Loading Preprocessor!\n"
     ]
    },
    {
     "name": "stderr",
     "output_type": "stream",
     "text": [
      "\n",
      "|                                                                                          |17/?[00:00<00:00,51.00it/s]"
     ]
    },
    {
     "name": "stdout",
     "output_type": "stream",
     "text": [
      "\u001b[32m[1201 15:31:53 @DATSGAN.py:267]\u001b[0m Loading Preprocessor!\n"
     ]
    },
    {
     "name": "stderr",
     "output_type": "stream",
     "text": [
      "\n",
      "|                                                                                          |17/?[00:00<00:00,56.93it/s]"
     ]
    },
    {
     "name": "stdout",
     "output_type": "stream",
     "text": [
      "\u001b[32m[1201 15:31:53 @DATSGAN.py:267]\u001b[0m Loading Preprocessor!\n"
     ]
    },
    {
     "name": "stderr",
     "output_type": "stream",
     "text": [
      "\n",
      "|                                                                                          |17/?[00:00<00:00,55.55it/s]"
     ]
    },
    {
     "name": "stdout",
     "output_type": "stream",
     "text": [
      "\u001b[32m[1201 15:31:54 @DATSGAN.py:267]\u001b[0m Loading Preprocessor!\n"
     ]
    },
    {
     "name": "stderr",
     "output_type": "stream",
     "text": [
      "\n",
      "|                                                                                          |17/?[00:00<00:00,51.85it/s]\n"
     ]
    },
    {
     "name": "stdout",
     "output_type": "stream",
     "text": [
      "Sampling synthetic data from model \u001b[1mWGAN_OR_05\u001b[0m (30/55)\n",
      "\u001b[32m[1201 15:32:00 @DATSGANModel.py:213]\u001b[0m \u001b[91mCreating cell for age (in-edges: 0; ancestors: 0)\n",
      "\u001b[32m[1201 15:32:00 @DATSGANModel.py:213]\u001b[0m \u001b[91mCreating cell for gender (in-edges: 0; ancestors: 0)\n",
      "\u001b[32m[1201 15:32:00 @DATSGANModel.py:213]\u001b[0m \u001b[91mCreating cell for travel_dow (in-edges: 0; ancestors: 0)\n",
      "\u001b[32m[1201 15:32:00 @DATSGANModel.py:213]\u001b[0m \u001b[91mCreating cell for license (in-edges: 1; ancestors: 1)\n",
      "\u001b[32m[1201 15:32:00 @DATSGANModel.py:213]\u001b[0m \u001b[91mCreating cell for education_level (in-edges: 1; ancestors: 1)\n",
      "\u001b[32m[1201 15:32:00 @DATSGANModel.py:213]\u001b[0m \u001b[91mCreating cell for work_status (in-edges: 2; ancestors: 3)\n",
      "\u001b[32m[1201 15:32:01 @DATSGANModel.py:213]\u001b[0m \u001b[91mCreating cell for hh_income (in-edges: 2; ancestors: 4)\n",
      "\u001b[32m[1201 15:32:01 @DATSGANModel.py:213]\u001b[0m \u001b[91mCreating cell for trip_purpose (in-edges: 1; ancestors: 4)\n",
      "\u001b[32m[1201 15:32:01 @DATSGANModel.py:213]\u001b[0m \u001b[91mCreating cell for hh_descr (in-edges: 2; ancestors: 5)\n",
      "\u001b[32m[1201 15:32:01 @DATSGANModel.py:213]\u001b[0m \u001b[91mCreating cell for hh_size (in-edges: 3; ancestors: 5)\n",
      "\u001b[32m[1201 15:32:01 @DATSGANModel.py:213]\u001b[0m \u001b[91mCreating cell for departure_time (in-edges: 1; ancestors: 5)\n",
      "\u001b[32m[1201 15:32:01 @DATSGANModel.py:213]\u001b[0m \u001b[91mCreating cell for distance (in-edges: 1; ancestors: 5)\n",
      "\u001b[32m[1201 15:32:01 @DATSGANModel.py:213]\u001b[0m \u001b[91mCreating cell for hh_vehicles (in-edges: 2; ancestors: 6)\n",
      "\u001b[32m[1201 15:32:01 @DATSGANModel.py:213]\u001b[0m \u001b[91mCreating cell for hh_bikes (in-edges: 2; ancestors: 6)\n",
      "\u001b[32m[1201 15:32:01 @DATSGANModel.py:213]\u001b[0m \u001b[91mCreating cell for choice (in-edges: 7; ancestors: 13)\n",
      "\u001b[32m[1201 15:32:02 @sessinit.py:87]\u001b[0m \u001b[5m\u001b[31mWRN\u001b[0m The following variables are in the checkpoint, but not found in the graph: global_step\n",
      "INFO:tensorflow:Graph was finalized.\n",
      "INFO:tensorflow:Running local_init_op.\n",
      "INFO:tensorflow:Done running local_init_op.\n",
      "\u001b[32m[1201 15:32:03 @sessinit.py:114]\u001b[0m Restoring checkpoint from ../output/Chicago/WGAN_OR_05/model\\model-25499 ...\n",
      "INFO:tensorflow:Restoring parameters from ../output/Chicago/WGAN_OR_05/model\\model-25499\n",
      "\u001b[32m[1201 15:32:03 @DATSGAN.py:267]\u001b[0m Loading Preprocessor!\n"
     ]
    },
    {
     "name": "stderr",
     "output_type": "stream",
     "text": [
      "|                                                                                          |17/?[00:00<00:00,31.36it/s]"
     ]
    },
    {
     "name": "stdout",
     "output_type": "stream",
     "text": [
      "\u001b[32m[1201 15:32:03 @DATSGAN.py:267]\u001b[0m Loading Preprocessor!\n"
     ]
    },
    {
     "name": "stderr",
     "output_type": "stream",
     "text": [
      "\n",
      "|                                                                                          |17/?[00:00<00:00,53.30it/s]"
     ]
    },
    {
     "name": "stdout",
     "output_type": "stream",
     "text": [
      "\u001b[32m[1201 15:32:04 @DATSGAN.py:267]\u001b[0m Loading Preprocessor!\n"
     ]
    },
    {
     "name": "stderr",
     "output_type": "stream",
     "text": [
      "\n",
      "|                                                                                          |17/?[00:00<00:00,58.39it/s]"
     ]
    },
    {
     "name": "stdout",
     "output_type": "stream",
     "text": [
      "\u001b[32m[1201 15:32:04 @DATSGAN.py:267]\u001b[0m Loading Preprocessor!\n"
     ]
    },
    {
     "name": "stderr",
     "output_type": "stream",
     "text": [
      "\n",
      "|                                                                                          |17/?[00:00<00:00,50.85it/s]"
     ]
    },
    {
     "name": "stdout",
     "output_type": "stream",
     "text": [
      "\u001b[32m[1201 15:32:04 @DATSGAN.py:267]\u001b[0m Loading Preprocessor!\n"
     ]
    },
    {
     "name": "stderr",
     "output_type": "stream",
     "text": [
      "\n",
      "|                                                                                          |17/?[00:00<00:00,58.49it/s]"
     ]
    },
    {
     "name": "stdout",
     "output_type": "stream",
     "text": [
      "\u001b[32m[1201 15:32:05 @DATSGAN.py:267]\u001b[0m Loading Preprocessor!\n"
     ]
    },
    {
     "name": "stderr",
     "output_type": "stream",
     "text": [
      "\n",
      "|                                                                                          |17/?[00:00<00:00,51.31it/s]"
     ]
    },
    {
     "name": "stdout",
     "output_type": "stream",
     "text": [
      "\u001b[32m[1201 15:32:05 @DATSGAN.py:267]\u001b[0m Loading Preprocessor!\n"
     ]
    },
    {
     "name": "stderr",
     "output_type": "stream",
     "text": [
      "\n",
      "|                                                                                          |17/?[00:00<00:00,57.03it/s]"
     ]
    },
    {
     "name": "stdout",
     "output_type": "stream",
     "text": [
      "\u001b[32m[1201 15:32:06 @DATSGAN.py:267]\u001b[0m Loading Preprocessor!\n"
     ]
    },
    {
     "name": "stderr",
     "output_type": "stream",
     "text": [
      "\n",
      "|                                                                                          |17/?[00:00<00:00,50.40it/s]"
     ]
    },
    {
     "name": "stdout",
     "output_type": "stream",
     "text": [
      "\u001b[32m[1201 15:32:06 @DATSGAN.py:267]\u001b[0m Loading Preprocessor!\n"
     ]
    },
    {
     "name": "stderr",
     "output_type": "stream",
     "text": [
      "\n",
      "|                                                                                          |17/?[00:00<00:00,62.89it/s]"
     ]
    },
    {
     "name": "stdout",
     "output_type": "stream",
     "text": [
      "\u001b[32m[1201 15:32:06 @DATSGAN.py:267]\u001b[0m Loading Preprocessor!\n"
     ]
    },
    {
     "name": "stderr",
     "output_type": "stream",
     "text": [
      "\n",
      "|                                                                                          |17/?[00:00<00:00,49.03it/s]"
     ]
    },
    {
     "name": "stdout",
     "output_type": "stream",
     "text": [
      "\u001b[32m[1201 15:32:07 @DATSGAN.py:267]\u001b[0m Loading Preprocessor!\n"
     ]
    },
    {
     "name": "stderr",
     "output_type": "stream",
     "text": [
      "\n",
      "|                                                                                          |17/?[00:00<00:00,58.59it/s]"
     ]
    },
    {
     "name": "stdout",
     "output_type": "stream",
     "text": [
      "\u001b[32m[1201 15:32:07 @DATSGAN.py:267]\u001b[0m Loading Preprocessor!\n"
     ]
    },
    {
     "name": "stderr",
     "output_type": "stream",
     "text": [
      "\n",
      "|                                                                                          |17/?[00:00<00:00,52.65it/s]"
     ]
    },
    {
     "name": "stdout",
     "output_type": "stream",
     "text": [
      "\u001b[32m[1201 15:32:07 @DATSGAN.py:267]\u001b[0m Loading Preprocessor!\n"
     ]
    },
    {
     "name": "stderr",
     "output_type": "stream",
     "text": [
      "\n",
      "|                                                                                          |17/?[00:00<00:00,61.98it/s]"
     ]
    },
    {
     "name": "stdout",
     "output_type": "stream",
     "text": [
      "\u001b[32m[1201 15:32:08 @DATSGAN.py:267]\u001b[0m Loading Preprocessor!\n"
     ]
    },
    {
     "name": "stderr",
     "output_type": "stream",
     "text": [
      "\n",
      "|                                                                                          |17/?[00:00<00:00,50.40it/s]"
     ]
    },
    {
     "name": "stdout",
     "output_type": "stream",
     "text": [
      "\u001b[32m[1201 15:32:08 @DATSGAN.py:267]\u001b[0m Loading Preprocessor!\n"
     ]
    },
    {
     "name": "stderr",
     "output_type": "stream",
     "text": [
      "\n",
      "|                                                                                          |17/?[00:00<00:00,60.56it/s]\n"
     ]
    },
    {
     "name": "stdout",
     "output_type": "stream",
     "text": [
      "Sampling synthetic data from model \u001b[1mWGAN_WI_01\u001b[0m (31/55)\n",
      "\u001b[32m[1201 15:32:15 @DATSGANModel.py:213]\u001b[0m \u001b[91mCreating cell for age (in-edges: 0; ancestors: 0)\n",
      "\u001b[32m[1201 15:32:15 @DATSGANModel.py:213]\u001b[0m \u001b[91mCreating cell for gender (in-edges: 0; ancestors: 0)\n",
      "\u001b[32m[1201 15:32:15 @DATSGANModel.py:213]\u001b[0m \u001b[91mCreating cell for travel_dow (in-edges: 0; ancestors: 0)\n",
      "\u001b[32m[1201 15:32:15 @DATSGANModel.py:213]\u001b[0m \u001b[91mCreating cell for license (in-edges: 1; ancestors: 1)\n",
      "\u001b[32m[1201 15:32:15 @DATSGANModel.py:213]\u001b[0m \u001b[91mCreating cell for education_level (in-edges: 1; ancestors: 1)\n",
      "\u001b[32m[1201 15:32:15 @DATSGANModel.py:213]\u001b[0m \u001b[91mCreating cell for work_status (in-edges: 2; ancestors: 3)\n",
      "\u001b[32m[1201 15:32:15 @DATSGANModel.py:213]\u001b[0m \u001b[91mCreating cell for hh_income (in-edges: 2; ancestors: 4)\n",
      "\u001b[32m[1201 15:32:15 @DATSGANModel.py:213]\u001b[0m \u001b[91mCreating cell for trip_purpose (in-edges: 1; ancestors: 4)\n",
      "\u001b[32m[1201 15:32:15 @DATSGANModel.py:213]\u001b[0m \u001b[91mCreating cell for hh_descr (in-edges: 2; ancestors: 5)\n",
      "\u001b[32m[1201 15:32:15 @DATSGANModel.py:213]\u001b[0m \u001b[91mCreating cell for hh_size (in-edges: 3; ancestors: 5)\n",
      "\u001b[32m[1201 15:32:15 @DATSGANModel.py:213]\u001b[0m \u001b[91mCreating cell for departure_time (in-edges: 1; ancestors: 5)\n",
      "\u001b[32m[1201 15:32:15 @DATSGANModel.py:213]\u001b[0m \u001b[91mCreating cell for distance (in-edges: 1; ancestors: 5)\n",
      "\u001b[32m[1201 15:32:15 @DATSGANModel.py:213]\u001b[0m \u001b[91mCreating cell for hh_vehicles (in-edges: 2; ancestors: 6)\n",
      "\u001b[32m[1201 15:32:15 @DATSGANModel.py:213]\u001b[0m \u001b[91mCreating cell for hh_bikes (in-edges: 2; ancestors: 6)\n",
      "\u001b[32m[1201 15:32:16 @DATSGANModel.py:213]\u001b[0m \u001b[91mCreating cell for choice (in-edges: 7; ancestors: 13)\n",
      "\u001b[32m[1201 15:32:16 @sessinit.py:87]\u001b[0m \u001b[5m\u001b[31mWRN\u001b[0m The following variables are in the checkpoint, but not found in the graph: global_step\n",
      "INFO:tensorflow:Graph was finalized.\n",
      "INFO:tensorflow:Running local_init_op.\n",
      "INFO:tensorflow:Done running local_init_op.\n",
      "\u001b[32m[1201 15:32:17 @sessinit.py:114]\u001b[0m Restoring checkpoint from ../output/Chicago/WGAN_WI_01/model\\model-25499 ...\n",
      "INFO:tensorflow:Restoring parameters from ../output/Chicago/WGAN_WI_01/model\\model-25499\n",
      "\u001b[32m[1201 15:32:17 @DATSGAN.py:267]\u001b[0m Loading Preprocessor!\n"
     ]
    },
    {
     "name": "stderr",
     "output_type": "stream",
     "text": [
      "|                                                                                          |17/?[00:00<00:00,29.19it/s]"
     ]
    },
    {
     "name": "stdout",
     "output_type": "stream",
     "text": [
      "\u001b[32m[1201 15:32:18 @DATSGAN.py:267]\u001b[0m Loading Preprocessor!\n"
     ]
    },
    {
     "name": "stderr",
     "output_type": "stream",
     "text": [
      "\n",
      "|                                                                                          |17/?[00:00<00:00,60.24it/s]"
     ]
    },
    {
     "name": "stdout",
     "output_type": "stream",
     "text": [
      "\u001b[32m[1201 15:32:18 @DATSGAN.py:267]\u001b[0m Loading Preprocessor!\n"
     ]
    },
    {
     "name": "stderr",
     "output_type": "stream",
     "text": [
      "\n",
      "|                                                                                          |17/?[00:00<00:00,52.73it/s]"
     ]
    },
    {
     "name": "stdout",
     "output_type": "stream",
     "text": [
      "\u001b[32m[1201 15:32:19 @DATSGAN.py:267]\u001b[0m Loading Preprocessor!\n"
     ]
    },
    {
     "name": "stderr",
     "output_type": "stream",
     "text": [
      "\n",
      "|                                                                                          |17/?[00:00<00:00,57.60it/s]"
     ]
    },
    {
     "name": "stdout",
     "output_type": "stream",
     "text": [
      "\u001b[32m[1201 15:32:19 @DATSGAN.py:267]\u001b[0m Loading Preprocessor!\n"
     ]
    },
    {
     "name": "stderr",
     "output_type": "stream",
     "text": [
      "\n",
      "|                                                                                          |17/?[00:00<00:00,51.16it/s]"
     ]
    },
    {
     "name": "stdout",
     "output_type": "stream",
     "text": [
      "\u001b[32m[1201 15:32:19 @DATSGAN.py:267]\u001b[0m Loading Preprocessor!\n"
     ]
    },
    {
     "name": "stderr",
     "output_type": "stream",
     "text": [
      "\n",
      "|                                                                                          |17/?[00:00<00:00,58.19it/s]"
     ]
    },
    {
     "name": "stdout",
     "output_type": "stream",
     "text": [
      "\u001b[32m[1201 15:32:20 @DATSGAN.py:267]\u001b[0m Loading Preprocessor!\n"
     ]
    },
    {
     "name": "stderr",
     "output_type": "stream",
     "text": [
      "\n",
      "|                                                                                          |17/?[00:00<00:00,49.96it/s]"
     ]
    },
    {
     "name": "stdout",
     "output_type": "stream",
     "text": [
      "\u001b[32m[1201 15:32:20 @DATSGAN.py:267]\u001b[0m Loading Preprocessor!\n"
     ]
    },
    {
     "name": "stderr",
     "output_type": "stream",
     "text": [
      "\n",
      "|                                                                                          |17/?[00:00<00:00,61.20it/s]"
     ]
    },
    {
     "name": "stdout",
     "output_type": "stream",
     "text": [
      "\u001b[32m[1201 15:32:20 @DATSGAN.py:267]\u001b[0m Loading Preprocessor!\n"
     ]
    },
    {
     "name": "stderr",
     "output_type": "stream",
     "text": [
      "\n",
      "|                                                                                          |17/?[00:00<00:00,50.26it/s]"
     ]
    },
    {
     "name": "stdout",
     "output_type": "stream",
     "text": [
      "\u001b[32m[1201 15:32:21 @DATSGAN.py:267]\u001b[0m Loading Preprocessor!\n"
     ]
    },
    {
     "name": "stderr",
     "output_type": "stream",
     "text": [
      "\n",
      "|                                                                                          |17/?[00:00<00:00,62.32it/s]"
     ]
    },
    {
     "name": "stdout",
     "output_type": "stream",
     "text": [
      "\u001b[32m[1201 15:32:21 @DATSGAN.py:267]\u001b[0m Loading Preprocessor!\n"
     ]
    },
    {
     "name": "stderr",
     "output_type": "stream",
     "text": [
      "\n",
      "|                                                                                          |17/?[00:00<00:00,50.11it/s]"
     ]
    },
    {
     "name": "stdout",
     "output_type": "stream",
     "text": [
      "\u001b[32m[1201 15:32:22 @DATSGAN.py:267]\u001b[0m Loading Preprocessor!\n"
     ]
    },
    {
     "name": "stderr",
     "output_type": "stream",
     "text": [
      "\n",
      "|                                                                                          |17/?[00:00<00:00,65.53it/s]"
     ]
    },
    {
     "name": "stdout",
     "output_type": "stream",
     "text": [
      "\u001b[32m[1201 15:32:22 @DATSGAN.py:267]\u001b[0m Loading Preprocessor!\n"
     ]
    },
    {
     "name": "stderr",
     "output_type": "stream",
     "text": [
      "\n",
      "|                                                                                          |17/?[00:00<00:00,50.55it/s]"
     ]
    },
    {
     "name": "stdout",
     "output_type": "stream",
     "text": [
      "\u001b[32m[1201 15:32:22 @DATSGAN.py:267]\u001b[0m Loading Preprocessor!\n"
     ]
    },
    {
     "name": "stderr",
     "output_type": "stream",
     "text": [
      "\n",
      "|                                                                                          |17/?[00:00<00:00,66.04it/s]"
     ]
    },
    {
     "name": "stdout",
     "output_type": "stream",
     "text": [
      "\u001b[32m[1201 15:32:23 @DATSGAN.py:267]\u001b[0m Loading Preprocessor!\n"
     ]
    },
    {
     "name": "stderr",
     "output_type": "stream",
     "text": [
      "\n",
      "|                                                                                          |17/?[00:00<00:00,51.08it/s]\n"
     ]
    },
    {
     "name": "stdout",
     "output_type": "stream",
     "text": [
      "Sampling synthetic data from model \u001b[1mWGAN_WI_02\u001b[0m (32/55)\n",
      "\u001b[32m[1201 15:32:29 @DATSGANModel.py:213]\u001b[0m \u001b[91mCreating cell for age (in-edges: 0; ancestors: 0)\n",
      "\u001b[32m[1201 15:32:29 @DATSGANModel.py:213]\u001b[0m \u001b[91mCreating cell for gender (in-edges: 0; ancestors: 0)\n",
      "\u001b[32m[1201 15:32:29 @DATSGANModel.py:213]\u001b[0m \u001b[91mCreating cell for travel_dow (in-edges: 0; ancestors: 0)\n",
      "\u001b[32m[1201 15:32:29 @DATSGANModel.py:213]\u001b[0m \u001b[91mCreating cell for license (in-edges: 1; ancestors: 1)\n",
      "\u001b[32m[1201 15:32:29 @DATSGANModel.py:213]\u001b[0m \u001b[91mCreating cell for education_level (in-edges: 1; ancestors: 1)\n",
      "\u001b[32m[1201 15:32:29 @DATSGANModel.py:213]\u001b[0m \u001b[91mCreating cell for work_status (in-edges: 2; ancestors: 3)\n",
      "\u001b[32m[1201 15:32:29 @DATSGANModel.py:213]\u001b[0m \u001b[91mCreating cell for hh_income (in-edges: 2; ancestors: 4)\n",
      "\u001b[32m[1201 15:32:29 @DATSGANModel.py:213]\u001b[0m \u001b[91mCreating cell for trip_purpose (in-edges: 1; ancestors: 4)\n",
      "\u001b[32m[1201 15:32:30 @DATSGANModel.py:213]\u001b[0m \u001b[91mCreating cell for hh_descr (in-edges: 2; ancestors: 5)\n",
      "\u001b[32m[1201 15:32:30 @DATSGANModel.py:213]\u001b[0m \u001b[91mCreating cell for hh_size (in-edges: 3; ancestors: 5)\n",
      "\u001b[32m[1201 15:32:30 @DATSGANModel.py:213]\u001b[0m \u001b[91mCreating cell for departure_time (in-edges: 1; ancestors: 5)\n",
      "\u001b[32m[1201 15:32:30 @DATSGANModel.py:213]\u001b[0m \u001b[91mCreating cell for distance (in-edges: 1; ancestors: 5)\n",
      "\u001b[32m[1201 15:32:30 @DATSGANModel.py:213]\u001b[0m \u001b[91mCreating cell for hh_vehicles (in-edges: 2; ancestors: 6)\n",
      "\u001b[32m[1201 15:32:30 @DATSGANModel.py:213]\u001b[0m \u001b[91mCreating cell for hh_bikes (in-edges: 2; ancestors: 6)\n",
      "\u001b[32m[1201 15:32:30 @DATSGANModel.py:213]\u001b[0m \u001b[91mCreating cell for choice (in-edges: 7; ancestors: 13)\n",
      "\u001b[32m[1201 15:32:30 @sessinit.py:87]\u001b[0m \u001b[5m\u001b[31mWRN\u001b[0m The following variables are in the checkpoint, but not found in the graph: global_step\n",
      "INFO:tensorflow:Graph was finalized.\n",
      "INFO:tensorflow:Running local_init_op.\n",
      "INFO:tensorflow:Done running local_init_op.\n",
      "\u001b[32m[1201 15:32:31 @sessinit.py:114]\u001b[0m Restoring checkpoint from ../output/Chicago/WGAN_WI_02/model\\model-25499 ...\n",
      "INFO:tensorflow:Restoring parameters from ../output/Chicago/WGAN_WI_02/model\\model-25499\n",
      "\u001b[32m[1201 15:32:32 @DATSGAN.py:267]\u001b[0m Loading Preprocessor!\n"
     ]
    },
    {
     "name": "stderr",
     "output_type": "stream",
     "text": [
      "|                                                                                          |17/?[00:00<00:00,28.63it/s]"
     ]
    },
    {
     "name": "stdout",
     "output_type": "stream",
     "text": [
      "\u001b[32m[1201 15:32:32 @DATSGAN.py:267]\u001b[0m Loading Preprocessor!\n"
     ]
    },
    {
     "name": "stderr",
     "output_type": "stream",
     "text": [
      "\n",
      "|                                                                                          |17/?[00:00<00:00,55.28it/s]"
     ]
    },
    {
     "name": "stdout",
     "output_type": "stream",
     "text": [
      "\u001b[32m[1201 15:32:33 @DATSGAN.py:267]\u001b[0m Loading Preprocessor!\n"
     ]
    },
    {
     "name": "stderr",
     "output_type": "stream",
     "text": [
      "\n",
      "|                                                                                          |17/?[00:00<00:00,54.49it/s]"
     ]
    },
    {
     "name": "stdout",
     "output_type": "stream",
     "text": [
      "\u001b[32m[1201 15:32:33 @DATSGAN.py:267]\u001b[0m Loading Preprocessor!\n"
     ]
    },
    {
     "name": "stderr",
     "output_type": "stream",
     "text": [
      "\n",
      "|                                                                                          |17/?[00:00<00:00,58.09it/s]"
     ]
    },
    {
     "name": "stdout",
     "output_type": "stream",
     "text": [
      "\u001b[32m[1201 15:32:33 @DATSGAN.py:267]\u001b[0m Loading Preprocessor!\n"
     ]
    },
    {
     "name": "stderr",
     "output_type": "stream",
     "text": [
      "\n",
      "|                                                                                          |17/?[00:00<00:00,54.06it/s]"
     ]
    },
    {
     "name": "stdout",
     "output_type": "stream",
     "text": [
      "\u001b[32m[1201 15:32:34 @DATSGAN.py:267]\u001b[0m Loading Preprocessor!\n"
     ]
    },
    {
     "name": "stderr",
     "output_type": "stream",
     "text": [
      "\n",
      "|                                                                                          |17/?[00:00<00:00,53.06it/s]"
     ]
    },
    {
     "name": "stdout",
     "output_type": "stream",
     "text": [
      "\u001b[32m[1201 15:32:34 @DATSGAN.py:267]\u001b[0m Loading Preprocessor!\n"
     ]
    },
    {
     "name": "stderr",
     "output_type": "stream",
     "text": [
      "\n",
      "|                                                                                          |17/?[00:00<00:00,53.72it/s]"
     ]
    },
    {
     "name": "stdout",
     "output_type": "stream",
     "text": [
      "\u001b[32m[1201 15:32:34 @DATSGAN.py:267]\u001b[0m Loading Preprocessor!\n"
     ]
    },
    {
     "name": "stderr",
     "output_type": "stream",
     "text": [
      "\n",
      "|                                                                                          |17/?[00:00<00:00,55.19it/s]"
     ]
    },
    {
     "name": "stdout",
     "output_type": "stream",
     "text": [
      "\u001b[32m[1201 15:32:35 @DATSGAN.py:267]\u001b[0m Loading Preprocessor!\n"
     ]
    },
    {
     "name": "stderr",
     "output_type": "stream",
     "text": [
      "\n",
      "|                                                                                          |17/?[00:00<00:00,55.28it/s]"
     ]
    },
    {
     "name": "stdout",
     "output_type": "stream",
     "text": [
      "\u001b[32m[1201 15:32:35 @DATSGAN.py:267]\u001b[0m Loading Preprocessor!\n"
     ]
    },
    {
     "name": "stderr",
     "output_type": "stream",
     "text": [
      "\n",
      "|                                                                                          |17/?[00:00<00:00,54.15it/s]"
     ]
    },
    {
     "name": "stdout",
     "output_type": "stream",
     "text": [
      "\u001b[32m[1201 15:32:36 @DATSGAN.py:267]\u001b[0m Loading Preprocessor!\n"
     ]
    },
    {
     "name": "stderr",
     "output_type": "stream",
     "text": [
      "\n",
      "|                                                                                          |17/?[00:00<00:00,51.93it/s]"
     ]
    },
    {
     "name": "stdout",
     "output_type": "stream",
     "text": [
      "\u001b[32m[1201 15:32:36 @DATSGAN.py:267]\u001b[0m Loading Preprocessor!\n"
     ]
    },
    {
     "name": "stderr",
     "output_type": "stream",
     "text": [
      "\n",
      "|                                                                                          |17/?[00:00<00:00,63.35it/s]"
     ]
    },
    {
     "name": "stdout",
     "output_type": "stream",
     "text": [
      "\u001b[32m[1201 15:32:36 @DATSGAN.py:267]\u001b[0m Loading Preprocessor!\n"
     ]
    },
    {
     "name": "stderr",
     "output_type": "stream",
     "text": [
      "\n",
      "|                                                                                          |17/?[00:00<00:00,50.33it/s]"
     ]
    },
    {
     "name": "stdout",
     "output_type": "stream",
     "text": [
      "\u001b[32m[1201 15:32:37 @DATSGAN.py:267]\u001b[0m Loading Preprocessor!\n"
     ]
    },
    {
     "name": "stderr",
     "output_type": "stream",
     "text": [
      "\n",
      "|                                                                                          |17/?[00:00<00:00,65.66it/s]"
     ]
    },
    {
     "name": "stdout",
     "output_type": "stream",
     "text": [
      "\u001b[32m[1201 15:32:37 @DATSGAN.py:267]\u001b[0m Loading Preprocessor!\n"
     ]
    },
    {
     "name": "stderr",
     "output_type": "stream",
     "text": [
      "\n",
      "|                                                                                          |17/?[00:00<00:00,52.33it/s]\n"
     ]
    },
    {
     "name": "stdout",
     "output_type": "stream",
     "text": [
      "Sampling synthetic data from model \u001b[1mWGAN_WI_03\u001b[0m (33/55)\n",
      "\u001b[32m[1201 15:32:43 @DATSGANModel.py:213]\u001b[0m \u001b[91mCreating cell for age (in-edges: 0; ancestors: 0)\n",
      "\u001b[32m[1201 15:32:43 @DATSGANModel.py:213]\u001b[0m \u001b[91mCreating cell for gender (in-edges: 0; ancestors: 0)\n",
      "\u001b[32m[1201 15:32:44 @DATSGANModel.py:213]\u001b[0m \u001b[91mCreating cell for travel_dow (in-edges: 0; ancestors: 0)\n",
      "\u001b[32m[1201 15:32:44 @DATSGANModel.py:213]\u001b[0m \u001b[91mCreating cell for license (in-edges: 1; ancestors: 1)\n",
      "\u001b[32m[1201 15:32:44 @DATSGANModel.py:213]\u001b[0m \u001b[91mCreating cell for education_level (in-edges: 1; ancestors: 1)\n",
      "\u001b[32m[1201 15:32:44 @DATSGANModel.py:213]\u001b[0m \u001b[91mCreating cell for work_status (in-edges: 2; ancestors: 3)\n",
      "\u001b[32m[1201 15:32:44 @DATSGANModel.py:213]\u001b[0m \u001b[91mCreating cell for hh_income (in-edges: 2; ancestors: 4)\n",
      "\u001b[32m[1201 15:32:44 @DATSGANModel.py:213]\u001b[0m \u001b[91mCreating cell for trip_purpose (in-edges: 1; ancestors: 4)\n",
      "\u001b[32m[1201 15:32:44 @DATSGANModel.py:213]\u001b[0m \u001b[91mCreating cell for hh_descr (in-edges: 2; ancestors: 5)\n",
      "\u001b[32m[1201 15:32:44 @DATSGANModel.py:213]\u001b[0m \u001b[91mCreating cell for hh_size (in-edges: 3; ancestors: 5)\n",
      "\u001b[32m[1201 15:32:44 @DATSGANModel.py:213]\u001b[0m \u001b[91mCreating cell for departure_time (in-edges: 1; ancestors: 5)\n",
      "\u001b[32m[1201 15:32:44 @DATSGANModel.py:213]\u001b[0m \u001b[91mCreating cell for distance (in-edges: 1; ancestors: 5)\n",
      "\u001b[32m[1201 15:32:44 @DATSGANModel.py:213]\u001b[0m \u001b[91mCreating cell for hh_vehicles (in-edges: 2; ancestors: 6)\n",
      "\u001b[32m[1201 15:32:44 @DATSGANModel.py:213]\u001b[0m \u001b[91mCreating cell for hh_bikes (in-edges: 2; ancestors: 6)\n",
      "\u001b[32m[1201 15:32:45 @DATSGANModel.py:213]\u001b[0m \u001b[91mCreating cell for choice (in-edges: 7; ancestors: 13)\n",
      "\u001b[32m[1201 15:32:45 @sessinit.py:87]\u001b[0m \u001b[5m\u001b[31mWRN\u001b[0m The following variables are in the checkpoint, but not found in the graph: global_step\n",
      "INFO:tensorflow:Graph was finalized.\n",
      "INFO:tensorflow:Running local_init_op.\n",
      "INFO:tensorflow:Done running local_init_op.\n",
      "\u001b[32m[1201 15:32:46 @sessinit.py:114]\u001b[0m Restoring checkpoint from ../output/Chicago/WGAN_WI_03/model\\model-25499 ...\n",
      "INFO:tensorflow:Restoring parameters from ../output/Chicago/WGAN_WI_03/model\\model-25499\n",
      "\u001b[32m[1201 15:32:46 @DATSGAN.py:267]\u001b[0m Loading Preprocessor!\n"
     ]
    },
    {
     "name": "stderr",
     "output_type": "stream",
     "text": [
      "|                                                                                          |17/?[00:00<00:00,27.91it/s]"
     ]
    },
    {
     "name": "stdout",
     "output_type": "stream",
     "text": [
      "\u001b[32m[1201 15:32:47 @DATSGAN.py:267]\u001b[0m Loading Preprocessor!\n"
     ]
    },
    {
     "name": "stderr",
     "output_type": "stream",
     "text": [
      "\n",
      "|                                                                                          |17/?[00:00<00:00,63.83it/s]"
     ]
    },
    {
     "name": "stdout",
     "output_type": "stream",
     "text": [
      "\u001b[32m[1201 15:32:47 @DATSGAN.py:267]\u001b[0m Loading Preprocessor!\n"
     ]
    },
    {
     "name": "stderr",
     "output_type": "stream",
     "text": [
      "\n",
      "|                                                                                          |17/?[00:00<00:00,51.39it/s]"
     ]
    },
    {
     "name": "stdout",
     "output_type": "stream",
     "text": [
      "\u001b[32m[1201 15:32:48 @DATSGAN.py:267]\u001b[0m Loading Preprocessor!\n"
     ]
    },
    {
     "name": "stderr",
     "output_type": "stream",
     "text": [
      "\n",
      "|                                                                                          |17/?[00:00<00:00,60.88it/s]"
     ]
    },
    {
     "name": "stdout",
     "output_type": "stream",
     "text": [
      "\u001b[32m[1201 15:32:48 @DATSGAN.py:267]\u001b[0m Loading Preprocessor!\n"
     ]
    },
    {
     "name": "stderr",
     "output_type": "stream",
     "text": [
      "\n",
      "|                                                                                          |17/?[00:00<00:00,51.85it/s]"
     ]
    },
    {
     "name": "stdout",
     "output_type": "stream",
     "text": [
      "\u001b[32m[1201 15:32:48 @DATSGAN.py:267]\u001b[0m Loading Preprocessor!\n"
     ]
    },
    {
     "name": "stderr",
     "output_type": "stream",
     "text": [
      "\n",
      "|                                                                                          |17/?[00:00<00:00,60.66it/s]"
     ]
    },
    {
     "name": "stdout",
     "output_type": "stream",
     "text": [
      "\u001b[32m[1201 15:32:49 @DATSGAN.py:267]\u001b[0m Loading Preprocessor!\n"
     ]
    },
    {
     "name": "stderr",
     "output_type": "stream",
     "text": [
      "\n",
      "|                                                                                          |17/?[00:00<00:00,50.55it/s]"
     ]
    },
    {
     "name": "stdout",
     "output_type": "stream",
     "text": [
      "\u001b[32m[1201 15:32:49 @DATSGAN.py:267]\u001b[0m Loading Preprocessor!\n"
     ]
    },
    {
     "name": "stderr",
     "output_type": "stream",
     "text": [
      "\n",
      "|                                                                                          |17/?[00:00<00:00,62.66it/s]"
     ]
    },
    {
     "name": "stdout",
     "output_type": "stream",
     "text": [
      "\u001b[32m[1201 15:32:49 @DATSGAN.py:267]\u001b[0m Loading Preprocessor!\n"
     ]
    },
    {
     "name": "stderr",
     "output_type": "stream",
     "text": [
      "\n",
      "|                                                                                          |17/?[00:00<00:00,50.78it/s]"
     ]
    },
    {
     "name": "stdout",
     "output_type": "stream",
     "text": [
      "\u001b[32m[1201 15:32:50 @DATSGAN.py:267]\u001b[0m Loading Preprocessor!\n"
     ]
    },
    {
     "name": "stderr",
     "output_type": "stream",
     "text": [
      "\n",
      "|                                                                                          |17/?[00:00<00:00,61.98it/s]"
     ]
    },
    {
     "name": "stdout",
     "output_type": "stream",
     "text": [
      "\u001b[32m[1201 15:32:50 @DATSGAN.py:267]\u001b[0m Loading Preprocessor!\n"
     ]
    },
    {
     "name": "stderr",
     "output_type": "stream",
     "text": [
      "\n",
      "|                                                                                          |17/?[00:00<00:00,48.14it/s]"
     ]
    },
    {
     "name": "stdout",
     "output_type": "stream",
     "text": [
      "\u001b[32m[1201 15:32:51 @DATSGAN.py:267]\u001b[0m Loading Preprocessor!\n"
     ]
    },
    {
     "name": "stderr",
     "output_type": "stream",
     "text": [
      "\n",
      "|                                                                                          |17/?[00:00<00:00,63.59it/s]"
     ]
    },
    {
     "name": "stdout",
     "output_type": "stream",
     "text": [
      "\u001b[32m[1201 15:32:51 @DATSGAN.py:267]\u001b[0m Loading Preprocessor!\n"
     ]
    },
    {
     "name": "stderr",
     "output_type": "stream",
     "text": [
      "\n",
      "|                                                                                          |17/?[00:00<00:00,49.89it/s]"
     ]
    },
    {
     "name": "stdout",
     "output_type": "stream",
     "text": [
      "\u001b[32m[1201 15:32:51 @DATSGAN.py:267]\u001b[0m Loading Preprocessor!\n"
     ]
    },
    {
     "name": "stderr",
     "output_type": "stream",
     "text": [
      "\n",
      "|                                                                                          |17/?[00:00<00:00,64.06it/s]"
     ]
    },
    {
     "name": "stdout",
     "output_type": "stream",
     "text": [
      "\u001b[32m[1201 15:32:52 @DATSGAN.py:267]\u001b[0m Loading Preprocessor!\n"
     ]
    },
    {
     "name": "stderr",
     "output_type": "stream",
     "text": [
      "\n",
      "|                                                                                          |17/?[00:00<00:00,51.31it/s]\n"
     ]
    },
    {
     "name": "stdout",
     "output_type": "stream",
     "text": [
      "Sampling synthetic data from model \u001b[1mWGAN_WI_04\u001b[0m (34/55)\n",
      "\u001b[32m[1201 15:32:58 @DATSGANModel.py:213]\u001b[0m \u001b[91mCreating cell for age (in-edges: 0; ancestors: 0)\n",
      "\u001b[32m[1201 15:32:58 @DATSGANModel.py:213]\u001b[0m \u001b[91mCreating cell for gender (in-edges: 0; ancestors: 0)\n",
      "\u001b[32m[1201 15:32:58 @DATSGANModel.py:213]\u001b[0m \u001b[91mCreating cell for travel_dow (in-edges: 0; ancestors: 0)\n",
      "\u001b[32m[1201 15:32:58 @DATSGANModel.py:213]\u001b[0m \u001b[91mCreating cell for license (in-edges: 1; ancestors: 1)\n",
      "\u001b[32m[1201 15:32:58 @DATSGANModel.py:213]\u001b[0m \u001b[91mCreating cell for education_level (in-edges: 1; ancestors: 1)\n",
      "\u001b[32m[1201 15:32:58 @DATSGANModel.py:213]\u001b[0m \u001b[91mCreating cell for work_status (in-edges: 2; ancestors: 3)\n",
      "\u001b[32m[1201 15:32:58 @DATSGANModel.py:213]\u001b[0m \u001b[91mCreating cell for hh_income (in-edges: 2; ancestors: 4)\n",
      "\u001b[32m[1201 15:32:58 @DATSGANModel.py:213]\u001b[0m \u001b[91mCreating cell for trip_purpose (in-edges: 1; ancestors: 4)\n",
      "\u001b[32m[1201 15:32:58 @DATSGANModel.py:213]\u001b[0m \u001b[91mCreating cell for hh_descr (in-edges: 2; ancestors: 5)\n",
      "\u001b[32m[1201 15:32:59 @DATSGANModel.py:213]\u001b[0m \u001b[91mCreating cell for hh_size (in-edges: 3; ancestors: 5)\n",
      "\u001b[32m[1201 15:32:59 @DATSGANModel.py:213]\u001b[0m \u001b[91mCreating cell for departure_time (in-edges: 1; ancestors: 5)\n",
      "\u001b[32m[1201 15:32:59 @DATSGANModel.py:213]\u001b[0m \u001b[91mCreating cell for distance (in-edges: 1; ancestors: 5)\n",
      "\u001b[32m[1201 15:32:59 @DATSGANModel.py:213]\u001b[0m \u001b[91mCreating cell for hh_vehicles (in-edges: 2; ancestors: 6)\n",
      "\u001b[32m[1201 15:32:59 @DATSGANModel.py:213]\u001b[0m \u001b[91mCreating cell for hh_bikes (in-edges: 2; ancestors: 6)\n",
      "\u001b[32m[1201 15:32:59 @DATSGANModel.py:213]\u001b[0m \u001b[91mCreating cell for choice (in-edges: 7; ancestors: 13)\n",
      "\u001b[32m[1201 15:32:59 @sessinit.py:87]\u001b[0m \u001b[5m\u001b[31mWRN\u001b[0m The following variables are in the checkpoint, but not found in the graph: global_step\n",
      "INFO:tensorflow:Graph was finalized.\n",
      "INFO:tensorflow:Running local_init_op.\n",
      "INFO:tensorflow:Done running local_init_op.\n",
      "\u001b[32m[1201 15:33:00 @sessinit.py:114]\u001b[0m Restoring checkpoint from ../output/Chicago/WGAN_WI_04/model\\model-25499 ...\n",
      "INFO:tensorflow:Restoring parameters from ../output/Chicago/WGAN_WI_04/model\\model-25499\n",
      "\u001b[32m[1201 15:33:01 @DATSGAN.py:267]\u001b[0m Loading Preprocessor!\n"
     ]
    },
    {
     "name": "stderr",
     "output_type": "stream",
     "text": [
      "|                                                                                          |17/?[00:00<00:00,28.80it/s]"
     ]
    },
    {
     "name": "stdout",
     "output_type": "stream",
     "text": [
      "\u001b[32m[1201 15:33:01 @DATSGAN.py:267]\u001b[0m Loading Preprocessor!\n"
     ]
    },
    {
     "name": "stderr",
     "output_type": "stream",
     "text": [
      "\n",
      "|                                                                                          |17/?[00:00<00:00,51.93it/s]"
     ]
    },
    {
     "name": "stdout",
     "output_type": "stream",
     "text": [
      "\u001b[32m[1201 15:33:02 @DATSGAN.py:267]\u001b[0m Loading Preprocessor!\n"
     ]
    },
    {
     "name": "stderr",
     "output_type": "stream",
     "text": [
      "\n",
      "|                                                                                          |17/?[00:00<00:00,57.03it/s]"
     ]
    },
    {
     "name": "stdout",
     "output_type": "stream",
     "text": [
      "\u001b[32m[1201 15:33:02 @DATSGAN.py:267]\u001b[0m Loading Preprocessor!\n"
     ]
    },
    {
     "name": "stderr",
     "output_type": "stream",
     "text": [
      "\n",
      "|                                                                                          |17/?[00:00<00:00,53.98it/s]"
     ]
    },
    {
     "name": "stdout",
     "output_type": "stream",
     "text": [
      "\u001b[32m[1201 15:33:02 @DATSGAN.py:267]\u001b[0m Loading Preprocessor!\n"
     ]
    },
    {
     "name": "stderr",
     "output_type": "stream",
     "text": [
      "\n",
      "|                                                                                          |17/?[00:00<00:00,56.46it/s]"
     ]
    },
    {
     "name": "stdout",
     "output_type": "stream",
     "text": [
      "\u001b[32m[1201 15:33:03 @DATSGAN.py:267]\u001b[0m Loading Preprocessor!\n"
     ]
    },
    {
     "name": "stderr",
     "output_type": "stream",
     "text": [
      "\n",
      "|                                                                                          |17/?[00:00<00:00,52.41it/s]"
     ]
    },
    {
     "name": "stdout",
     "output_type": "stream",
     "text": [
      "\u001b[32m[1201 15:33:03 @DATSGAN.py:267]\u001b[0m Loading Preprocessor!\n"
     ]
    },
    {
     "name": "stderr",
     "output_type": "stream",
     "text": [
      "\n",
      "|                                                                                          |17/?[00:00<00:00,56.19it/s]"
     ]
    },
    {
     "name": "stdout",
     "output_type": "stream",
     "text": [
      "\u001b[32m[1201 15:33:04 @DATSGAN.py:267]\u001b[0m Loading Preprocessor!\n"
     ]
    },
    {
     "name": "stderr",
     "output_type": "stream",
     "text": [
      "\n",
      "|                                                                                          |17/?[00:00<00:00,49.89it/s]"
     ]
    },
    {
     "name": "stdout",
     "output_type": "stream",
     "text": [
      "\u001b[32m[1201 15:33:04 @DATSGAN.py:267]\u001b[0m Loading Preprocessor!\n"
     ]
    },
    {
     "name": "stderr",
     "output_type": "stream",
     "text": [
      "\n",
      "|                                                                                          |17/?[00:00<00:00,61.09it/s]"
     ]
    },
    {
     "name": "stdout",
     "output_type": "stream",
     "text": [
      "\u001b[32m[1201 15:33:04 @DATSGAN.py:267]\u001b[0m Loading Preprocessor!\n"
     ]
    },
    {
     "name": "stderr",
     "output_type": "stream",
     "text": [
      "\n",
      "|                                                                                          |17/?[00:00<00:00,50.48it/s]"
     ]
    },
    {
     "name": "stdout",
     "output_type": "stream",
     "text": [
      "\u001b[32m[1201 15:33:05 @DATSGAN.py:267]\u001b[0m Loading Preprocessor!\n"
     ]
    },
    {
     "name": "stderr",
     "output_type": "stream",
     "text": [
      "\n",
      "|                                                                                          |17/?[00:00<00:00,58.89it/s]"
     ]
    },
    {
     "name": "stdout",
     "output_type": "stream",
     "text": [
      "\u001b[32m[1201 15:33:05 @DATSGAN.py:267]\u001b[0m Loading Preprocessor!\n"
     ]
    },
    {
     "name": "stderr",
     "output_type": "stream",
     "text": [
      "\n",
      "|                                                                                          |17/?[00:00<00:00,48.14it/s]"
     ]
    },
    {
     "name": "stdout",
     "output_type": "stream",
     "text": [
      "\u001b[32m[1201 15:33:05 @DATSGAN.py:267]\u001b[0m Loading Preprocessor!\n"
     ]
    },
    {
     "name": "stderr",
     "output_type": "stream",
     "text": [
      "\n",
      "|                                                                                          |17/?[00:00<00:00,64.55it/s]"
     ]
    },
    {
     "name": "stdout",
     "output_type": "stream",
     "text": [
      "\u001b[32m[1201 15:33:06 @DATSGAN.py:267]\u001b[0m Loading Preprocessor!\n"
     ]
    },
    {
     "name": "stderr",
     "output_type": "stream",
     "text": [
      "\n",
      "|                                                                                          |17/?[00:00<00:00,50.55it/s]"
     ]
    },
    {
     "name": "stdout",
     "output_type": "stream",
     "text": [
      "\u001b[32m[1201 15:33:06 @DATSGAN.py:267]\u001b[0m Loading Preprocessor!\n"
     ]
    },
    {
     "name": "stderr",
     "output_type": "stream",
     "text": [
      "\n",
      "|                                                                                          |17/?[00:00<00:00,63.00it/s]\n"
     ]
    },
    {
     "name": "stdout",
     "output_type": "stream",
     "text": [
      "Sampling synthetic data from model \u001b[1mWGAN_WI_05\u001b[0m (35/55)\n",
      "\u001b[32m[1201 15:33:12 @DATSGANModel.py:213]\u001b[0m \u001b[91mCreating cell for age (in-edges: 0; ancestors: 0)\n",
      "\u001b[32m[1201 15:33:13 @DATSGANModel.py:213]\u001b[0m \u001b[91mCreating cell for gender (in-edges: 0; ancestors: 0)\n",
      "\u001b[32m[1201 15:33:13 @DATSGANModel.py:213]\u001b[0m \u001b[91mCreating cell for travel_dow (in-edges: 0; ancestors: 0)\n",
      "\u001b[32m[1201 15:33:13 @DATSGANModel.py:213]\u001b[0m \u001b[91mCreating cell for license (in-edges: 1; ancestors: 1)\n",
      "\u001b[32m[1201 15:33:13 @DATSGANModel.py:213]\u001b[0m \u001b[91mCreating cell for education_level (in-edges: 1; ancestors: 1)\n",
      "\u001b[32m[1201 15:33:13 @DATSGANModel.py:213]\u001b[0m \u001b[91mCreating cell for work_status (in-edges: 2; ancestors: 3)\n",
      "\u001b[32m[1201 15:33:13 @DATSGANModel.py:213]\u001b[0m \u001b[91mCreating cell for hh_income (in-edges: 2; ancestors: 4)\n",
      "\u001b[32m[1201 15:33:13 @DATSGANModel.py:213]\u001b[0m \u001b[91mCreating cell for trip_purpose (in-edges: 1; ancestors: 4)\n",
      "\u001b[32m[1201 15:33:13 @DATSGANModel.py:213]\u001b[0m \u001b[91mCreating cell for hh_descr (in-edges: 2; ancestors: 5)\n",
      "\u001b[32m[1201 15:33:13 @DATSGANModel.py:213]\u001b[0m \u001b[91mCreating cell for hh_size (in-edges: 3; ancestors: 5)\n",
      "\u001b[32m[1201 15:33:13 @DATSGANModel.py:213]\u001b[0m \u001b[91mCreating cell for departure_time (in-edges: 1; ancestors: 5)\n",
      "\u001b[32m[1201 15:33:13 @DATSGANModel.py:213]\u001b[0m \u001b[91mCreating cell for distance (in-edges: 1; ancestors: 5)\n",
      "\u001b[32m[1201 15:33:13 @DATSGANModel.py:213]\u001b[0m \u001b[91mCreating cell for hh_vehicles (in-edges: 2; ancestors: 6)\n",
      "\u001b[32m[1201 15:33:13 @DATSGANModel.py:213]\u001b[0m \u001b[91mCreating cell for hh_bikes (in-edges: 2; ancestors: 6)\n",
      "\u001b[32m[1201 15:33:14 @DATSGANModel.py:213]\u001b[0m \u001b[91mCreating cell for choice (in-edges: 7; ancestors: 13)\n",
      "\u001b[32m[1201 15:33:14 @sessinit.py:87]\u001b[0m \u001b[5m\u001b[31mWRN\u001b[0m The following variables are in the checkpoint, but not found in the graph: global_step\n",
      "INFO:tensorflow:Graph was finalized.\n",
      "INFO:tensorflow:Running local_init_op.\n",
      "INFO:tensorflow:Done running local_init_op.\n",
      "\u001b[32m[1201 15:33:15 @sessinit.py:114]\u001b[0m Restoring checkpoint from ../output/Chicago/WGAN_WI_05/model\\model-25499 ...\n",
      "INFO:tensorflow:Restoring parameters from ../output/Chicago/WGAN_WI_05/model\\model-25499\n",
      "\u001b[32m[1201 15:33:15 @DATSGAN.py:267]\u001b[0m Loading Preprocessor!\n"
     ]
    },
    {
     "name": "stderr",
     "output_type": "stream",
     "text": [
      "|                                                                                          |17/?[00:00<00:00,32.18it/s]\n"
     ]
    },
    {
     "name": "stdout",
     "output_type": "stream",
     "text": [
      "\u001b[32m[1201 15:33:16 @DATSGAN.py:267]\u001b[0m Loading Preprocessor!\n"
     ]
    },
    {
     "name": "stderr",
     "output_type": "stream",
     "text": [
      "|                                                                                          |17/?[00:00<00:00,57.60it/s]\n"
     ]
    },
    {
     "name": "stdout",
     "output_type": "stream",
     "text": [
      "\u001b[32m[1201 15:33:16 @DATSGAN.py:267]\u001b[0m Loading Preprocessor!\n"
     ]
    },
    {
     "name": "stderr",
     "output_type": "stream",
     "text": [
      "|                                                                                          |17/?[00:00<00:00,53.22it/s]"
     ]
    },
    {
     "name": "stdout",
     "output_type": "stream",
     "text": [
      "\u001b[32m[1201 15:33:17 @DATSGAN.py:267]\u001b[0m Loading Preprocessor!\n"
     ]
    },
    {
     "name": "stderr",
     "output_type": "stream",
     "text": [
      "\n",
      "|                                                                                          |17/?[00:00<00:00,71.70it/s]\n"
     ]
    },
    {
     "name": "stdout",
     "output_type": "stream",
     "text": [
      "\u001b[32m[1201 15:33:17 @DATSGAN.py:267]\u001b[0m Loading Preprocessor!\n"
     ]
    },
    {
     "name": "stderr",
     "output_type": "stream",
     "text": [
      "|                                                                                          |17/?[00:00<00:00,50.48it/s]\n"
     ]
    },
    {
     "name": "stdout",
     "output_type": "stream",
     "text": [
      "\u001b[32m[1201 15:33:18 @DATSGAN.py:267]\u001b[0m Loading Preprocessor!\n"
     ]
    },
    {
     "name": "stderr",
     "output_type": "stream",
     "text": [
      "|                                                                                          |17/?[00:00<00:00,57.41it/s]\n"
     ]
    },
    {
     "name": "stdout",
     "output_type": "stream",
     "text": [
      "\u001b[32m[1201 15:33:18 @DATSGAN.py:267]\u001b[0m Loading Preprocessor!\n"
     ]
    },
    {
     "name": "stderr",
     "output_type": "stream",
     "text": [
      "|                                                                                          |17/?[00:00<00:00,64.67it/s]\n"
     ]
    },
    {
     "name": "stdout",
     "output_type": "stream",
     "text": [
      "\u001b[32m[1201 15:33:19 @DATSGAN.py:267]\u001b[0m Loading Preprocessor!\n"
     ]
    },
    {
     "name": "stderr",
     "output_type": "stream",
     "text": [
      "|                                                                                          |17/?[00:00<00:00,52.01it/s]\n"
     ]
    },
    {
     "name": "stdout",
     "output_type": "stream",
     "text": [
      "\u001b[32m[1201 15:33:19 @DATSGAN.py:267]\u001b[0m Loading Preprocessor!\n"
     ]
    },
    {
     "name": "stderr",
     "output_type": "stream",
     "text": [
      "|                                                                                          |17/?[00:00<00:00,53.64it/s]\n"
     ]
    },
    {
     "name": "stdout",
     "output_type": "stream",
     "text": [
      "\u001b[32m[1201 15:33:20 @DATSGAN.py:267]\u001b[0m Loading Preprocessor!\n"
     ]
    },
    {
     "name": "stderr",
     "output_type": "stream",
     "text": [
      "|                                                                                          |17/?[00:00<00:00,66.94it/s]\n"
     ]
    },
    {
     "name": "stdout",
     "output_type": "stream",
     "text": [
      "\u001b[32m[1201 15:33:20 @DATSGAN.py:267]\u001b[0m Loading Preprocessor!\n"
     ]
    },
    {
     "name": "stderr",
     "output_type": "stream",
     "text": [
      "|                                                                                          |17/?[00:00<00:00,52.09it/s]\n"
     ]
    },
    {
     "name": "stdout",
     "output_type": "stream",
     "text": [
      "\u001b[32m[1201 15:33:21 @DATSGAN.py:267]\u001b[0m Loading Preprocessor!\n"
     ]
    },
    {
     "name": "stderr",
     "output_type": "stream",
     "text": [
      "|                                                                                          |17/?[00:00<00:00,52.01it/s]\n"
     ]
    },
    {
     "name": "stdout",
     "output_type": "stream",
     "text": [
      "\u001b[32m[1201 15:33:21 @DATSGAN.py:267]\u001b[0m Loading Preprocessor!\n"
     ]
    },
    {
     "name": "stderr",
     "output_type": "stream",
     "text": [
      "|                                                                                          |17/?[00:00<00:00,57.41it/s]\n"
     ]
    },
    {
     "name": "stdout",
     "output_type": "stream",
     "text": [
      "\u001b[32m[1201 15:33:22 @DATSGAN.py:267]\u001b[0m Loading Preprocessor!\n"
     ]
    },
    {
     "name": "stderr",
     "output_type": "stream",
     "text": [
      "|                                                                                          |17/?[00:00<00:00,62.77it/s]"
     ]
    },
    {
     "name": "stdout",
     "output_type": "stream",
     "text": [
      "\u001b[32m[1201 15:33:22 @DATSGAN.py:267]\u001b[0m Loading Preprocessor!\n"
     ]
    },
    {
     "name": "stderr",
     "output_type": "stream",
     "text": [
      "\n",
      "|                                                                                          |17/?[00:00<00:00,50.63it/s]\n"
     ]
    },
    {
     "name": "stdout",
     "output_type": "stream",
     "text": [
      "Sampling synthetic data from model \u001b[1mWGAN_WO_01\u001b[0m (36/55)\n",
      "\u001b[32m[1201 15:33:29 @DATSGANModel.py:213]\u001b[0m \u001b[91mCreating cell for age (in-edges: 0; ancestors: 0)\n",
      "\u001b[32m[1201 15:33:29 @DATSGANModel.py:213]\u001b[0m \u001b[91mCreating cell for gender (in-edges: 0; ancestors: 0)\n",
      "\u001b[32m[1201 15:33:29 @DATSGANModel.py:213]\u001b[0m \u001b[91mCreating cell for travel_dow (in-edges: 0; ancestors: 0)\n",
      "\u001b[32m[1201 15:33:29 @DATSGANModel.py:213]\u001b[0m \u001b[91mCreating cell for license (in-edges: 1; ancestors: 1)\n",
      "\u001b[32m[1201 15:33:29 @DATSGANModel.py:213]\u001b[0m \u001b[91mCreating cell for education_level (in-edges: 1; ancestors: 1)\n",
      "\u001b[32m[1201 15:33:29 @DATSGANModel.py:213]\u001b[0m \u001b[91mCreating cell for work_status (in-edges: 2; ancestors: 3)\n",
      "\u001b[32m[1201 15:33:29 @DATSGANModel.py:213]\u001b[0m \u001b[91mCreating cell for hh_income (in-edges: 2; ancestors: 4)\n",
      "\u001b[32m[1201 15:33:29 @DATSGANModel.py:213]\u001b[0m \u001b[91mCreating cell for trip_purpose (in-edges: 1; ancestors: 4)\n",
      "\u001b[32m[1201 15:33:29 @DATSGANModel.py:213]\u001b[0m \u001b[91mCreating cell for hh_descr (in-edges: 2; ancestors: 5)\n",
      "\u001b[32m[1201 15:33:29 @DATSGANModel.py:213]\u001b[0m \u001b[91mCreating cell for hh_size (in-edges: 3; ancestors: 5)\n",
      "\u001b[32m[1201 15:33:30 @DATSGANModel.py:213]\u001b[0m \u001b[91mCreating cell for departure_time (in-edges: 1; ancestors: 5)\n",
      "\u001b[32m[1201 15:33:30 @DATSGANModel.py:213]\u001b[0m \u001b[91mCreating cell for distance (in-edges: 1; ancestors: 5)\n",
      "\u001b[32m[1201 15:33:30 @DATSGANModel.py:213]\u001b[0m \u001b[91mCreating cell for hh_vehicles (in-edges: 2; ancestors: 6)\n",
      "\u001b[32m[1201 15:33:30 @DATSGANModel.py:213]\u001b[0m \u001b[91mCreating cell for hh_bikes (in-edges: 2; ancestors: 6)\n",
      "\u001b[32m[1201 15:33:30 @DATSGANModel.py:213]\u001b[0m \u001b[91mCreating cell for choice (in-edges: 7; ancestors: 13)\n",
      "\u001b[32m[1201 15:33:30 @sessinit.py:87]\u001b[0m \u001b[5m\u001b[31mWRN\u001b[0m The following variables are in the checkpoint, but not found in the graph: global_step\n",
      "INFO:tensorflow:Graph was finalized.\n",
      "INFO:tensorflow:Running local_init_op.\n",
      "INFO:tensorflow:Done running local_init_op.\n",
      "\u001b[32m[1201 15:33:31 @sessinit.py:114]\u001b[0m Restoring checkpoint from ../output/Chicago/WGAN_WO_01/model\\model-25499 ...\n",
      "INFO:tensorflow:Restoring parameters from ../output/Chicago/WGAN_WO_01/model\\model-25499\n",
      "\u001b[32m[1201 15:33:31 @DATSGAN.py:267]\u001b[0m Loading Preprocessor!\n"
     ]
    },
    {
     "name": "stderr",
     "output_type": "stream",
     "text": [
      "|                                                                                          |17/?[00:00<00:00,33.12it/s]"
     ]
    },
    {
     "name": "stdout",
     "output_type": "stream",
     "text": [
      "\u001b[32m[1201 15:33:32 @DATSGAN.py:267]\u001b[0m Loading Preprocessor!\n"
     ]
    },
    {
     "name": "stderr",
     "output_type": "stream",
     "text": [
      "\n",
      "|                                                                                          |17/?[00:00<00:00,50.70it/s]"
     ]
    },
    {
     "name": "stdout",
     "output_type": "stream",
     "text": [
      "\u001b[32m[1201 15:33:32 @DATSGAN.py:267]\u001b[0m Loading Preprocessor!\n"
     ]
    },
    {
     "name": "stderr",
     "output_type": "stream",
     "text": [
      "\n",
      "|                                                                                          |17/?[00:00<00:00,64.06it/s]"
     ]
    },
    {
     "name": "stdout",
     "output_type": "stream",
     "text": [
      "\u001b[32m[1201 15:33:33 @DATSGAN.py:267]\u001b[0m Loading Preprocessor!\n"
     ]
    },
    {
     "name": "stderr",
     "output_type": "stream",
     "text": [
      "\n",
      "|                                                                                          |17/?[00:00<00:00,50.85it/s]"
     ]
    },
    {
     "name": "stdout",
     "output_type": "stream",
     "text": [
      "\u001b[32m[1201 15:33:33 @DATSGAN.py:267]\u001b[0m Loading Preprocessor!\n"
     ]
    },
    {
     "name": "stderr",
     "output_type": "stream",
     "text": [
      "\n",
      "|                                                                                          |17/?[00:00<00:00,65.16it/s]"
     ]
    },
    {
     "name": "stdout",
     "output_type": "stream",
     "text": [
      "\u001b[32m[1201 15:33:33 @DATSGAN.py:267]\u001b[0m Loading Preprocessor!\n"
     ]
    },
    {
     "name": "stderr",
     "output_type": "stream",
     "text": [
      "\n",
      "|                                                                                          |17/?[00:00<00:00,49.67it/s]"
     ]
    },
    {
     "name": "stdout",
     "output_type": "stream",
     "text": [
      "\u001b[32m[1201 15:33:34 @DATSGAN.py:267]\u001b[0m Loading Preprocessor!\n"
     ]
    },
    {
     "name": "stderr",
     "output_type": "stream",
     "text": [
      "\n",
      "|                                                                                          |17/?[00:00<00:00,65.28it/s]"
     ]
    },
    {
     "name": "stdout",
     "output_type": "stream",
     "text": [
      "\u001b[32m[1201 15:33:34 @DATSGAN.py:267]\u001b[0m Loading Preprocessor!\n"
     ]
    },
    {
     "name": "stderr",
     "output_type": "stream",
     "text": [
      "\n",
      "|                                                                                          |17/?[00:00<00:00,51.85it/s]"
     ]
    },
    {
     "name": "stdout",
     "output_type": "stream",
     "text": [
      "\u001b[32m[1201 15:33:35 @DATSGAN.py:267]\u001b[0m Loading Preprocessor!\n"
     ]
    },
    {
     "name": "stderr",
     "output_type": "stream",
     "text": [
      "\n",
      "|                                                                                          |17/?[00:00<00:00,64.06it/s]"
     ]
    },
    {
     "name": "stdout",
     "output_type": "stream",
     "text": [
      "\u001b[32m[1201 15:33:35 @DATSGAN.py:267]\u001b[0m Loading Preprocessor!\n"
     ]
    },
    {
     "name": "stderr",
     "output_type": "stream",
     "text": [
      "\n",
      "|                                                                                          |17/?[00:00<00:00,49.24it/s]"
     ]
    },
    {
     "name": "stdout",
     "output_type": "stream",
     "text": [
      "\u001b[32m[1201 15:33:35 @DATSGAN.py:267]\u001b[0m Loading Preprocessor!\n"
     ]
    },
    {
     "name": "stderr",
     "output_type": "stream",
     "text": [
      "\n",
      "|                                                                                          |17/?[00:00<00:00,63.24it/s]"
     ]
    },
    {
     "name": "stdout",
     "output_type": "stream",
     "text": [
      "\u001b[32m[1201 15:33:36 @DATSGAN.py:267]\u001b[0m Loading Preprocessor!\n"
     ]
    },
    {
     "name": "stderr",
     "output_type": "stream",
     "text": [
      "\n",
      "|                                                                                          |17/?[00:00<00:00,51.39it/s]"
     ]
    },
    {
     "name": "stdout",
     "output_type": "stream",
     "text": [
      "\u001b[32m[1201 15:33:36 @DATSGAN.py:267]\u001b[0m Loading Preprocessor!\n"
     ]
    },
    {
     "name": "stderr",
     "output_type": "stream",
     "text": [
      "\n",
      "|                                                                                          |17/?[00:00<00:00,63.00it/s]"
     ]
    },
    {
     "name": "stdout",
     "output_type": "stream",
     "text": [
      "\u001b[32m[1201 15:33:36 @DATSGAN.py:267]\u001b[0m Loading Preprocessor!\n"
     ]
    },
    {
     "name": "stderr",
     "output_type": "stream",
     "text": [
      "\n",
      "|                                                                                          |17/?[00:00<00:00,49.96it/s]"
     ]
    },
    {
     "name": "stdout",
     "output_type": "stream",
     "text": [
      "\u001b[32m[1201 15:33:37 @DATSGAN.py:267]\u001b[0m Loading Preprocessor!\n"
     ]
    },
    {
     "name": "stderr",
     "output_type": "stream",
     "text": [
      "\n",
      "|                                                                                          |17/?[00:00<00:00,63.24it/s]\n"
     ]
    },
    {
     "name": "stdout",
     "output_type": "stream",
     "text": [
      "Sampling synthetic data from model \u001b[1mWGAN_WO_02\u001b[0m (37/55)\n",
      "\u001b[32m[1201 15:33:43 @DATSGANModel.py:213]\u001b[0m \u001b[91mCreating cell for age (in-edges: 0; ancestors: 0)\n",
      "\u001b[32m[1201 15:33:43 @DATSGANModel.py:213]\u001b[0m \u001b[91mCreating cell for gender (in-edges: 0; ancestors: 0)\n",
      "\u001b[32m[1201 15:33:43 @DATSGANModel.py:213]\u001b[0m \u001b[91mCreating cell for travel_dow (in-edges: 0; ancestors: 0)\n",
      "\u001b[32m[1201 15:33:43 @DATSGANModel.py:213]\u001b[0m \u001b[91mCreating cell for license (in-edges: 1; ancestors: 1)\n",
      "\u001b[32m[1201 15:33:43 @DATSGANModel.py:213]\u001b[0m \u001b[91mCreating cell for education_level (in-edges: 1; ancestors: 1)\n",
      "\u001b[32m[1201 15:33:43 @DATSGANModel.py:213]\u001b[0m \u001b[91mCreating cell for work_status (in-edges: 2; ancestors: 3)\n",
      "\u001b[32m[1201 15:33:44 @DATSGANModel.py:213]\u001b[0m \u001b[91mCreating cell for hh_income (in-edges: 2; ancestors: 4)\n",
      "\u001b[32m[1201 15:33:44 @DATSGANModel.py:213]\u001b[0m \u001b[91mCreating cell for trip_purpose (in-edges: 1; ancestors: 4)\n",
      "\u001b[32m[1201 15:33:44 @DATSGANModel.py:213]\u001b[0m \u001b[91mCreating cell for hh_descr (in-edges: 2; ancestors: 5)\n",
      "\u001b[32m[1201 15:33:44 @DATSGANModel.py:213]\u001b[0m \u001b[91mCreating cell for hh_size (in-edges: 3; ancestors: 5)\n",
      "\u001b[32m[1201 15:33:44 @DATSGANModel.py:213]\u001b[0m \u001b[91mCreating cell for departure_time (in-edges: 1; ancestors: 5)\n",
      "\u001b[32m[1201 15:33:44 @DATSGANModel.py:213]\u001b[0m \u001b[91mCreating cell for distance (in-edges: 1; ancestors: 5)\n",
      "\u001b[32m[1201 15:33:44 @DATSGANModel.py:213]\u001b[0m \u001b[91mCreating cell for hh_vehicles (in-edges: 2; ancestors: 6)\n",
      "\u001b[32m[1201 15:33:44 @DATSGANModel.py:213]\u001b[0m \u001b[91mCreating cell for hh_bikes (in-edges: 2; ancestors: 6)\n",
      "\u001b[32m[1201 15:33:44 @DATSGANModel.py:213]\u001b[0m \u001b[91mCreating cell for choice (in-edges: 7; ancestors: 13)\n",
      "\u001b[32m[1201 15:33:45 @sessinit.py:87]\u001b[0m \u001b[5m\u001b[31mWRN\u001b[0m The following variables are in the checkpoint, but not found in the graph: global_step\n",
      "INFO:tensorflow:Graph was finalized.\n",
      "INFO:tensorflow:Running local_init_op.\n",
      "INFO:tensorflow:Done running local_init_op.\n",
      "\u001b[32m[1201 15:33:46 @sessinit.py:114]\u001b[0m Restoring checkpoint from ../output/Chicago/WGAN_WO_02/model\\model-25499 ...\n",
      "INFO:tensorflow:Restoring parameters from ../output/Chicago/WGAN_WO_02/model\\model-25499\n",
      "\u001b[32m[1201 15:33:46 @DATSGAN.py:267]\u001b[0m Loading Preprocessor!\n"
     ]
    },
    {
     "name": "stderr",
     "output_type": "stream",
     "text": [
      "|                                                                                          |17/?[00:00<00:00,31.24it/s]"
     ]
    },
    {
     "name": "stdout",
     "output_type": "stream",
     "text": [
      "\u001b[32m[1201 15:33:46 @DATSGAN.py:267]\u001b[0m Loading Preprocessor!\n"
     ]
    },
    {
     "name": "stderr",
     "output_type": "stream",
     "text": [
      "\n",
      "|                                                                                          |17/?[00:00<00:00,53.64it/s]"
     ]
    },
    {
     "name": "stdout",
     "output_type": "stream",
     "text": [
      "\u001b[32m[1201 15:33:47 @DATSGAN.py:267]\u001b[0m Loading Preprocessor!\n"
     ]
    },
    {
     "name": "stderr",
     "output_type": "stream",
     "text": [
      "\n",
      "|                                                                                          |17/?[00:00<00:00,56.28it/s]"
     ]
    },
    {
     "name": "stdout",
     "output_type": "stream",
     "text": [
      "\u001b[32m[1201 15:33:47 @DATSGAN.py:267]\u001b[0m Loading Preprocessor!\n"
     ]
    },
    {
     "name": "stderr",
     "output_type": "stream",
     "text": [
      "\n",
      "|                                                                                          |17/?[00:00<00:00,51.93it/s]"
     ]
    },
    {
     "name": "stdout",
     "output_type": "stream",
     "text": [
      "\u001b[32m[1201 15:33:47 @DATSGAN.py:267]\u001b[0m Loading Preprocessor!\n"
     ]
    },
    {
     "name": "stderr",
     "output_type": "stream",
     "text": [
      "\n",
      "|                                                                                          |17/?[00:00<00:00,56.84it/s]"
     ]
    },
    {
     "name": "stdout",
     "output_type": "stream",
     "text": [
      "\u001b[32m[1201 15:33:48 @DATSGAN.py:267]\u001b[0m Loading Preprocessor!\n"
     ]
    },
    {
     "name": "stderr",
     "output_type": "stream",
     "text": [
      "\n",
      "|                                                                                          |17/?[00:00<00:00,50.78it/s]"
     ]
    },
    {
     "name": "stdout",
     "output_type": "stream",
     "text": [
      "\u001b[32m[1201 15:33:48 @DATSGAN.py:267]\u001b[0m Loading Preprocessor!\n"
     ]
    },
    {
     "name": "stderr",
     "output_type": "stream",
     "text": [
      "\n",
      "|                                                                                          |17/?[00:00<00:00,57.22it/s]"
     ]
    },
    {
     "name": "stdout",
     "output_type": "stream",
     "text": [
      "\u001b[32m[1201 15:33:49 @DATSGAN.py:267]\u001b[0m Loading Preprocessor!\n"
     ]
    },
    {
     "name": "stderr",
     "output_type": "stream",
     "text": [
      "\n",
      "|                                                                                          |17/?[00:00<00:00,59.30it/s]"
     ]
    },
    {
     "name": "stdout",
     "output_type": "stream",
     "text": [
      "\u001b[32m[1201 15:33:49 @DATSGAN.py:267]\u001b[0m Loading Preprocessor!\n"
     ]
    },
    {
     "name": "stderr",
     "output_type": "stream",
     "text": [
      "\n",
      "|                                                                                          |17/?[00:00<00:00,50.78it/s]"
     ]
    },
    {
     "name": "stdout",
     "output_type": "stream",
     "text": [
      "\u001b[32m[1201 15:33:49 @DATSGAN.py:267]\u001b[0m Loading Preprocessor!\n"
     ]
    },
    {
     "name": "stderr",
     "output_type": "stream",
     "text": [
      "\n",
      "|                                                                                          |17/?[00:00<00:00,74.03it/s]"
     ]
    },
    {
     "name": "stdout",
     "output_type": "stream",
     "text": [
      "\u001b[32m[1201 15:33:50 @DATSGAN.py:267]\u001b[0m Loading Preprocessor!\n"
     ]
    },
    {
     "name": "stderr",
     "output_type": "stream",
     "text": [
      "\n",
      "|                                                                                          |17/?[00:00<00:00,50.55it/s]"
     ]
    },
    {
     "name": "stdout",
     "output_type": "stream",
     "text": [
      "\u001b[32m[1201 15:33:50 @DATSGAN.py:267]\u001b[0m Loading Preprocessor!\n"
     ]
    },
    {
     "name": "stderr",
     "output_type": "stream",
     "text": [
      "\n",
      "|                                                                                          |17/?[00:00<00:00,68.14it/s]"
     ]
    },
    {
     "name": "stdout",
     "output_type": "stream",
     "text": [
      "\u001b[32m[1201 15:33:50 @DATSGAN.py:267]\u001b[0m Loading Preprocessor!\n"
     ]
    },
    {
     "name": "stderr",
     "output_type": "stream",
     "text": [
      "\n",
      "|                                                                                          |17/?[00:00<00:00,56.65it/s]"
     ]
    },
    {
     "name": "stdout",
     "output_type": "stream",
     "text": [
      "\u001b[32m[1201 15:33:51 @DATSGAN.py:267]\u001b[0m Loading Preprocessor!\n"
     ]
    },
    {
     "name": "stderr",
     "output_type": "stream",
     "text": [
      "\n",
      "|                                                                                          |17/?[00:00<00:00,53.39it/s]"
     ]
    },
    {
     "name": "stdout",
     "output_type": "stream",
     "text": [
      "\u001b[32m[1201 15:33:51 @DATSGAN.py:267]\u001b[0m Loading Preprocessor!\n"
     ]
    },
    {
     "name": "stderr",
     "output_type": "stream",
     "text": [
      "\n",
      "|                                                                                          |17/?[00:00<00:00,78.07it/s]\n"
     ]
    },
    {
     "name": "stdout",
     "output_type": "stream",
     "text": [
      "Sampling synthetic data from model \u001b[1mWGAN_WO_03\u001b[0m (38/55)\n",
      "\u001b[32m[1201 15:33:57 @DATSGANModel.py:213]\u001b[0m \u001b[91mCreating cell for age (in-edges: 0; ancestors: 0)\n",
      "\u001b[32m[1201 15:33:57 @DATSGANModel.py:213]\u001b[0m \u001b[91mCreating cell for gender (in-edges: 0; ancestors: 0)\n",
      "\u001b[32m[1201 15:33:57 @DATSGANModel.py:213]\u001b[0m \u001b[91mCreating cell for travel_dow (in-edges: 0; ancestors: 0)\n",
      "\u001b[32m[1201 15:33:57 @DATSGANModel.py:213]\u001b[0m \u001b[91mCreating cell for license (in-edges: 1; ancestors: 1)\n",
      "\u001b[32m[1201 15:33:58 @DATSGANModel.py:213]\u001b[0m \u001b[91mCreating cell for education_level (in-edges: 1; ancestors: 1)\n",
      "\u001b[32m[1201 15:33:58 @DATSGANModel.py:213]\u001b[0m \u001b[91mCreating cell for work_status (in-edges: 2; ancestors: 3)\n",
      "\u001b[32m[1201 15:33:58 @DATSGANModel.py:213]\u001b[0m \u001b[91mCreating cell for hh_income (in-edges: 2; ancestors: 4)\n",
      "\u001b[32m[1201 15:33:58 @DATSGANModel.py:213]\u001b[0m \u001b[91mCreating cell for trip_purpose (in-edges: 1; ancestors: 4)\n",
      "\u001b[32m[1201 15:33:58 @DATSGANModel.py:213]\u001b[0m \u001b[91mCreating cell for hh_descr (in-edges: 2; ancestors: 5)\n",
      "\u001b[32m[1201 15:33:58 @DATSGANModel.py:213]\u001b[0m \u001b[91mCreating cell for hh_size (in-edges: 3; ancestors: 5)\n",
      "\u001b[32m[1201 15:33:58 @DATSGANModel.py:213]\u001b[0m \u001b[91mCreating cell for departure_time (in-edges: 1; ancestors: 5)\n",
      "\u001b[32m[1201 15:33:58 @DATSGANModel.py:213]\u001b[0m \u001b[91mCreating cell for distance (in-edges: 1; ancestors: 5)\n",
      "\u001b[32m[1201 15:33:58 @DATSGANModel.py:213]\u001b[0m \u001b[91mCreating cell for hh_vehicles (in-edges: 2; ancestors: 6)\n",
      "\u001b[32m[1201 15:33:58 @DATSGANModel.py:213]\u001b[0m \u001b[91mCreating cell for hh_bikes (in-edges: 2; ancestors: 6)\n",
      "\u001b[32m[1201 15:33:58 @DATSGANModel.py:213]\u001b[0m \u001b[91mCreating cell for choice (in-edges: 7; ancestors: 13)\n",
      "\u001b[32m[1201 15:33:59 @sessinit.py:87]\u001b[0m \u001b[5m\u001b[31mWRN\u001b[0m The following variables are in the checkpoint, but not found in the graph: global_step\n",
      "INFO:tensorflow:Graph was finalized.\n",
      "INFO:tensorflow:Running local_init_op.\n",
      "INFO:tensorflow:Done running local_init_op.\n",
      "\u001b[32m[1201 15:34:00 @sessinit.py:114]\u001b[0m Restoring checkpoint from ../output/Chicago/WGAN_WO_03/model\\model-25499 ...\n",
      "INFO:tensorflow:Restoring parameters from ../output/Chicago/WGAN_WO_03/model\\model-25499\n",
      "\u001b[32m[1201 15:34:00 @DATSGAN.py:267]\u001b[0m Loading Preprocessor!\n"
     ]
    },
    {
     "name": "stderr",
     "output_type": "stream",
     "text": [
      "|                                                                                          |17/?[00:00<00:00,33.21it/s]"
     ]
    },
    {
     "name": "stdout",
     "output_type": "stream",
     "text": [
      "\u001b[32m[1201 15:34:01 @DATSGAN.py:267]\u001b[0m Loading Preprocessor!\n"
     ]
    },
    {
     "name": "stderr",
     "output_type": "stream",
     "text": [
      "\n",
      "|                                                                                          |17/?[00:00<00:00,50.93it/s]"
     ]
    },
    {
     "name": "stdout",
     "output_type": "stream",
     "text": [
      "\u001b[32m[1201 15:34:01 @DATSGAN.py:267]\u001b[0m Loading Preprocessor!\n"
     ]
    },
    {
     "name": "stderr",
     "output_type": "stream",
     "text": [
      "\n",
      "|                                                                                          |17/?[00:00<00:00,66.68it/s]"
     ]
    },
    {
     "name": "stdout",
     "output_type": "stream",
     "text": [
      "\u001b[32m[1201 15:34:01 @DATSGAN.py:267]\u001b[0m Loading Preprocessor!\n"
     ]
    },
    {
     "name": "stderr",
     "output_type": "stream",
     "text": [
      "\n",
      "|                                                                                          |17/?[00:00<00:00,48.96it/s]"
     ]
    },
    {
     "name": "stdout",
     "output_type": "stream",
     "text": [
      "\u001b[32m[1201 15:34:02 @DATSGAN.py:267]\u001b[0m Loading Preprocessor!\n"
     ]
    },
    {
     "name": "stderr",
     "output_type": "stream",
     "text": [
      "\n",
      "|                                                                                          |17/?[00:00<00:00,62.43it/s]"
     ]
    },
    {
     "name": "stdout",
     "output_type": "stream",
     "text": [
      "\u001b[32m[1201 15:34:02 @DATSGAN.py:267]\u001b[0m Loading Preprocessor!\n"
     ]
    },
    {
     "name": "stderr",
     "output_type": "stream",
     "text": [
      "\n",
      "|                                                                                          |17/?[00:00<00:00,52.09it/s]"
     ]
    },
    {
     "name": "stdout",
     "output_type": "stream",
     "text": [
      "\u001b[32m[1201 15:34:02 @DATSGAN.py:267]\u001b[0m Loading Preprocessor!\n"
     ]
    },
    {
     "name": "stderr",
     "output_type": "stream",
     "text": [
      "\n",
      "|                                                                                          |17/?[00:00<00:00,64.43it/s]"
     ]
    },
    {
     "name": "stdout",
     "output_type": "stream",
     "text": [
      "\u001b[32m[1201 15:34:03 @DATSGAN.py:267]\u001b[0m Loading Preprocessor!\n"
     ]
    },
    {
     "name": "stderr",
     "output_type": "stream",
     "text": [
      "\n",
      "|                                                                                          |17/?[00:00<00:00,50.40it/s]"
     ]
    },
    {
     "name": "stdout",
     "output_type": "stream",
     "text": [
      "\u001b[32m[1201 15:34:03 @DATSGAN.py:267]\u001b[0m Loading Preprocessor!\n"
     ]
    },
    {
     "name": "stderr",
     "output_type": "stream",
     "text": [
      "\n",
      "|                                                                                          |17/?[00:00<00:00,63.00it/s]"
     ]
    },
    {
     "name": "stdout",
     "output_type": "stream",
     "text": [
      "\u001b[32m[1201 15:34:03 @DATSGAN.py:267]\u001b[0m Loading Preprocessor!\n"
     ]
    },
    {
     "name": "stderr",
     "output_type": "stream",
     "text": [
      "\n",
      "|                                                                                          |17/?[00:00<00:00,50.18it/s]"
     ]
    },
    {
     "name": "stdout",
     "output_type": "stream",
     "text": [
      "\u001b[32m[1201 15:34:04 @DATSGAN.py:267]\u001b[0m Loading Preprocessor!\n"
     ]
    },
    {
     "name": "stderr",
     "output_type": "stream",
     "text": [
      "\n",
      "|                                                                                          |17/?[00:00<00:00,65.04it/s]"
     ]
    },
    {
     "name": "stdout",
     "output_type": "stream",
     "text": [
      "\u001b[32m[1201 15:34:04 @DATSGAN.py:267]\u001b[0m Loading Preprocessor!\n"
     ]
    },
    {
     "name": "stderr",
     "output_type": "stream",
     "text": [
      "\n",
      "|                                                                                          |17/?[00:00<00:00,52.73it/s]"
     ]
    },
    {
     "name": "stdout",
     "output_type": "stream",
     "text": [
      "\u001b[32m[1201 15:34:05 @DATSGAN.py:267]\u001b[0m Loading Preprocessor!\n"
     ]
    },
    {
     "name": "stderr",
     "output_type": "stream",
     "text": [
      "\n",
      "|                                                                                          |17/?[00:00<00:00,64.91it/s]"
     ]
    },
    {
     "name": "stdout",
     "output_type": "stream",
     "text": [
      "\u001b[32m[1201 15:34:05 @DATSGAN.py:267]\u001b[0m Loading Preprocessor!\n"
     ]
    },
    {
     "name": "stderr",
     "output_type": "stream",
     "text": [
      "\n",
      "|                                                                                          |17/?[00:00<00:00,50.26it/s]"
     ]
    },
    {
     "name": "stdout",
     "output_type": "stream",
     "text": [
      "\u001b[32m[1201 15:34:05 @DATSGAN.py:267]\u001b[0m Loading Preprocessor!\n"
     ]
    },
    {
     "name": "stderr",
     "output_type": "stream",
     "text": [
      "\n",
      "|                                                                                          |17/?[00:00<00:00,63.59it/s]\n"
     ]
    },
    {
     "name": "stdout",
     "output_type": "stream",
     "text": [
      "Sampling synthetic data from model \u001b[1mWGAN_WO_04\u001b[0m (39/55)\n",
      "\u001b[32m[1201 15:34:12 @DATSGANModel.py:213]\u001b[0m \u001b[91mCreating cell for age (in-edges: 0; ancestors: 0)\n",
      "\u001b[32m[1201 15:34:12 @DATSGANModel.py:213]\u001b[0m \u001b[91mCreating cell for gender (in-edges: 0; ancestors: 0)\n",
      "\u001b[32m[1201 15:34:12 @DATSGANModel.py:213]\u001b[0m \u001b[91mCreating cell for travel_dow (in-edges: 0; ancestors: 0)\n",
      "\u001b[32m[1201 15:34:12 @DATSGANModel.py:213]\u001b[0m \u001b[91mCreating cell for license (in-edges: 1; ancestors: 1)\n",
      "\u001b[32m[1201 15:34:12 @DATSGANModel.py:213]\u001b[0m \u001b[91mCreating cell for education_level (in-edges: 1; ancestors: 1)\n",
      "\u001b[32m[1201 15:34:12 @DATSGANModel.py:213]\u001b[0m \u001b[91mCreating cell for work_status (in-edges: 2; ancestors: 3)\n",
      "\u001b[32m[1201 15:34:12 @DATSGANModel.py:213]\u001b[0m \u001b[91mCreating cell for hh_income (in-edges: 2; ancestors: 4)\n",
      "\u001b[32m[1201 15:34:12 @DATSGANModel.py:213]\u001b[0m \u001b[91mCreating cell for trip_purpose (in-edges: 1; ancestors: 4)\n",
      "\u001b[32m[1201 15:34:12 @DATSGANModel.py:213]\u001b[0m \u001b[91mCreating cell for hh_descr (in-edges: 2; ancestors: 5)\n",
      "\u001b[32m[1201 15:34:12 @DATSGANModel.py:213]\u001b[0m \u001b[91mCreating cell for hh_size (in-edges: 3; ancestors: 5)\n",
      "\u001b[32m[1201 15:34:12 @DATSGANModel.py:213]\u001b[0m \u001b[91mCreating cell for departure_time (in-edges: 1; ancestors: 5)\n",
      "\u001b[32m[1201 15:34:12 @DATSGANModel.py:213]\u001b[0m \u001b[91mCreating cell for distance (in-edges: 1; ancestors: 5)\n",
      "\u001b[32m[1201 15:34:12 @DATSGANModel.py:213]\u001b[0m \u001b[91mCreating cell for hh_vehicles (in-edges: 2; ancestors: 6)\n",
      "\u001b[32m[1201 15:34:13 @DATSGANModel.py:213]\u001b[0m \u001b[91mCreating cell for hh_bikes (in-edges: 2; ancestors: 6)\n",
      "\u001b[32m[1201 15:34:13 @DATSGANModel.py:213]\u001b[0m \u001b[91mCreating cell for choice (in-edges: 7; ancestors: 13)\n",
      "\u001b[32m[1201 15:34:13 @sessinit.py:87]\u001b[0m \u001b[5m\u001b[31mWRN\u001b[0m The following variables are in the checkpoint, but not found in the graph: global_step\n",
      "INFO:tensorflow:Graph was finalized.\n",
      "INFO:tensorflow:Running local_init_op.\n",
      "INFO:tensorflow:Done running local_init_op.\n",
      "\u001b[32m[1201 15:34:14 @sessinit.py:114]\u001b[0m Restoring checkpoint from ../output/Chicago/WGAN_WO_04/model\\model-25499 ...\n",
      "INFO:tensorflow:Restoring parameters from ../output/Chicago/WGAN_WO_04/model\\model-25499\n",
      "\u001b[32m[1201 15:34:14 @DATSGAN.py:267]\u001b[0m Loading Preprocessor!\n"
     ]
    },
    {
     "name": "stderr",
     "output_type": "stream",
     "text": [
      "|                                                                                          |17/?[00:00<00:00,32.96it/s]"
     ]
    },
    {
     "name": "stdout",
     "output_type": "stream",
     "text": [
      "\u001b[32m[1201 15:34:15 @DATSGAN.py:267]\u001b[0m Loading Preprocessor!\n"
     ]
    },
    {
     "name": "stderr",
     "output_type": "stream",
     "text": [
      "\n",
      "|                                                                                          |17/?[00:00<00:00,52.41it/s]"
     ]
    },
    {
     "name": "stdout",
     "output_type": "stream",
     "text": [
      "\u001b[32m[1201 15:34:15 @DATSGAN.py:267]\u001b[0m Loading Preprocessor!\n"
     ]
    },
    {
     "name": "stderr",
     "output_type": "stream",
     "text": [
      "\n",
      "|                                                                                          |17/?[00:00<00:00,63.12it/s]"
     ]
    },
    {
     "name": "stdout",
     "output_type": "stream",
     "text": [
      "\u001b[32m[1201 15:34:16 @DATSGAN.py:267]\u001b[0m Loading Preprocessor!\n"
     ]
    },
    {
     "name": "stderr",
     "output_type": "stream",
     "text": [
      "\n",
      "|                                                                                          |17/?[00:00<00:00,51.16it/s]"
     ]
    },
    {
     "name": "stdout",
     "output_type": "stream",
     "text": [
      "\u001b[32m[1201 15:34:16 @DATSGAN.py:267]\u001b[0m Loading Preprocessor!\n"
     ]
    },
    {
     "name": "stderr",
     "output_type": "stream",
     "text": [
      "\n",
      "|                                                                                          |17/?[00:00<00:00,63.71it/s]"
     ]
    },
    {
     "name": "stdout",
     "output_type": "stream",
     "text": [
      "\u001b[32m[1201 15:34:16 @DATSGAN.py:267]\u001b[0m Loading Preprocessor!\n"
     ]
    },
    {
     "name": "stderr",
     "output_type": "stream",
     "text": [
      "\n",
      "|                                                                                          |17/?[00:00<00:00,51.85it/s]"
     ]
    },
    {
     "name": "stdout",
     "output_type": "stream",
     "text": [
      "\u001b[32m[1201 15:34:17 @DATSGAN.py:267]\u001b[0m Loading Preprocessor!\n"
     ]
    },
    {
     "name": "stderr",
     "output_type": "stream",
     "text": [
      "\n",
      "|                                                                                          |17/?[00:00<00:00,60.13it/s]"
     ]
    },
    {
     "name": "stdout",
     "output_type": "stream",
     "text": [
      "\u001b[32m[1201 15:34:17 @DATSGAN.py:267]\u001b[0m Loading Preprocessor!\n"
     ]
    },
    {
     "name": "stderr",
     "output_type": "stream",
     "text": [
      "\n",
      "|                                                                                          |17/?[00:00<00:00,49.67it/s]"
     ]
    },
    {
     "name": "stdout",
     "output_type": "stream",
     "text": [
      "\u001b[32m[1201 15:34:17 @DATSGAN.py:267]\u001b[0m Loading Preprocessor!\n"
     ]
    },
    {
     "name": "stderr",
     "output_type": "stream",
     "text": [
      "\n",
      "|                                                                                          |17/?[00:00<00:00,62.43it/s]"
     ]
    },
    {
     "name": "stdout",
     "output_type": "stream",
     "text": [
      "\u001b[32m[1201 15:34:18 @DATSGAN.py:267]\u001b[0m Loading Preprocessor!\n"
     ]
    },
    {
     "name": "stderr",
     "output_type": "stream",
     "text": [
      "\n",
      "|                                                                                          |17/?[00:00<00:00,50.33it/s]"
     ]
    },
    {
     "name": "stdout",
     "output_type": "stream",
     "text": [
      "\u001b[32m[1201 15:34:18 @DATSGAN.py:267]\u001b[0m Loading Preprocessor!\n"
     ]
    },
    {
     "name": "stderr",
     "output_type": "stream",
     "text": [
      "\n",
      "|                                                                                          |17/?[00:00<00:00,57.70it/s]"
     ]
    },
    {
     "name": "stdout",
     "output_type": "stream",
     "text": [
      "\u001b[32m[1201 15:34:18 @DATSGAN.py:267]\u001b[0m Loading Preprocessor!\n"
     ]
    },
    {
     "name": "stderr",
     "output_type": "stream",
     "text": [
      "\n",
      "|                                                                                          |17/?[00:00<00:00,52.25it/s]"
     ]
    },
    {
     "name": "stdout",
     "output_type": "stream",
     "text": [
      "\u001b[32m[1201 15:34:19 @DATSGAN.py:267]\u001b[0m Loading Preprocessor!\n"
     ]
    },
    {
     "name": "stderr",
     "output_type": "stream",
     "text": [
      "\n",
      "|                                                                                          |17/?[00:00<00:00,59.30it/s]"
     ]
    },
    {
     "name": "stdout",
     "output_type": "stream",
     "text": [
      "\u001b[32m[1201 15:34:19 @DATSGAN.py:267]\u001b[0m Loading Preprocessor!\n"
     ]
    },
    {
     "name": "stderr",
     "output_type": "stream",
     "text": [
      "\n",
      "|                                                                                          |17/?[00:00<00:00,51.62it/s]"
     ]
    },
    {
     "name": "stdout",
     "output_type": "stream",
     "text": [
      "\u001b[32m[1201 15:34:20 @DATSGAN.py:267]\u001b[0m Loading Preprocessor!\n"
     ]
    },
    {
     "name": "stderr",
     "output_type": "stream",
     "text": [
      "\n",
      "|                                                                                          |17/?[00:00<00:00,56.75it/s]\n"
     ]
    },
    {
     "name": "stdout",
     "output_type": "stream",
     "text": [
      "Sampling synthetic data from model \u001b[1mWGAN_WO_05\u001b[0m (40/55)\n",
      "\u001b[32m[1201 15:34:26 @DATSGANModel.py:213]\u001b[0m \u001b[91mCreating cell for age (in-edges: 0; ancestors: 0)\n",
      "\u001b[32m[1201 15:34:26 @DATSGANModel.py:213]\u001b[0m \u001b[91mCreating cell for gender (in-edges: 0; ancestors: 0)\n",
      "\u001b[32m[1201 15:34:26 @DATSGANModel.py:213]\u001b[0m \u001b[91mCreating cell for travel_dow (in-edges: 0; ancestors: 0)\n",
      "\u001b[32m[1201 15:34:26 @DATSGANModel.py:213]\u001b[0m \u001b[91mCreating cell for license (in-edges: 1; ancestors: 1)\n",
      "\u001b[32m[1201 15:34:26 @DATSGANModel.py:213]\u001b[0m \u001b[91mCreating cell for education_level (in-edges: 1; ancestors: 1)\n",
      "\u001b[32m[1201 15:34:26 @DATSGANModel.py:213]\u001b[0m \u001b[91mCreating cell for work_status (in-edges: 2; ancestors: 3)\n",
      "\u001b[32m[1201 15:34:26 @DATSGANModel.py:213]\u001b[0m \u001b[91mCreating cell for hh_income (in-edges: 2; ancestors: 4)\n",
      "\u001b[32m[1201 15:34:26 @DATSGANModel.py:213]\u001b[0m \u001b[91mCreating cell for trip_purpose (in-edges: 1; ancestors: 4)\n",
      "\u001b[32m[1201 15:34:26 @DATSGANModel.py:213]\u001b[0m \u001b[91mCreating cell for hh_descr (in-edges: 2; ancestors: 5)\n",
      "\u001b[32m[1201 15:34:27 @DATSGANModel.py:213]\u001b[0m \u001b[91mCreating cell for hh_size (in-edges: 3; ancestors: 5)\n",
      "\u001b[32m[1201 15:34:27 @DATSGANModel.py:213]\u001b[0m \u001b[91mCreating cell for departure_time (in-edges: 1; ancestors: 5)\n",
      "\u001b[32m[1201 15:34:27 @DATSGANModel.py:213]\u001b[0m \u001b[91mCreating cell for distance (in-edges: 1; ancestors: 5)\n",
      "\u001b[32m[1201 15:34:27 @DATSGANModel.py:213]\u001b[0m \u001b[91mCreating cell for hh_vehicles (in-edges: 2; ancestors: 6)\n",
      "\u001b[32m[1201 15:34:27 @DATSGANModel.py:213]\u001b[0m \u001b[91mCreating cell for hh_bikes (in-edges: 2; ancestors: 6)\n",
      "\u001b[32m[1201 15:34:27 @DATSGANModel.py:213]\u001b[0m \u001b[91mCreating cell for choice (in-edges: 7; ancestors: 13)\n",
      "\u001b[32m[1201 15:34:27 @sessinit.py:87]\u001b[0m \u001b[5m\u001b[31mWRN\u001b[0m The following variables are in the checkpoint, but not found in the graph: global_step\n",
      "INFO:tensorflow:Graph was finalized.\n",
      "INFO:tensorflow:Running local_init_op.\n",
      "INFO:tensorflow:Done running local_init_op.\n",
      "\u001b[32m[1201 15:34:28 @sessinit.py:114]\u001b[0m Restoring checkpoint from ../output/Chicago/WGAN_WO_05/model\\model-25499 ...\n",
      "INFO:tensorflow:Restoring parameters from ../output/Chicago/WGAN_WO_05/model\\model-25499\n",
      "\u001b[32m[1201 15:34:28 @DATSGAN.py:267]\u001b[0m Loading Preprocessor!\n"
     ]
    },
    {
     "name": "stderr",
     "output_type": "stream",
     "text": [
      "|                                                                                          |17/?[00:00<00:00,28.14it/s]\n"
     ]
    },
    {
     "name": "stdout",
     "output_type": "stream",
     "text": [
      "\u001b[32m[1201 15:34:29 @DATSGAN.py:267]\u001b[0m Loading Preprocessor!\n"
     ]
    },
    {
     "name": "stderr",
     "output_type": "stream",
     "text": [
      "|                                                                                          |17/?[00:00<00:00,69.10it/s]"
     ]
    },
    {
     "name": "stdout",
     "output_type": "stream",
     "text": [
      "\u001b[32m[1201 15:34:30 @DATSGAN.py:267]\u001b[0m Loading Preprocessor!\n"
     ]
    },
    {
     "name": "stderr",
     "output_type": "stream",
     "text": [
      "\n",
      "|                                                                                          |17/?[00:00<00:00,56.00it/s]"
     ]
    },
    {
     "name": "stdout",
     "output_type": "stream",
     "text": [
      "\u001b[32m[1201 15:34:30 @DATSGAN.py:267]\u001b[0m Loading Preprocessor!\n"
     ]
    },
    {
     "name": "stderr",
     "output_type": "stream",
     "text": [
      "\n",
      "|                                                                                          |17/?[00:00<00:00,51.16it/s]\n"
     ]
    },
    {
     "name": "stdout",
     "output_type": "stream",
     "text": [
      "\u001b[32m[1201 15:34:31 @DATSGAN.py:267]\u001b[0m Loading Preprocessor!\n"
     ]
    },
    {
     "name": "stderr",
     "output_type": "stream",
     "text": [
      "|                                                                                          |17/?[00:00<00:00,71.11it/s]\n"
     ]
    },
    {
     "name": "stdout",
     "output_type": "stream",
     "text": [
      "\u001b[32m[1201 15:34:31 @DATSGAN.py:267]\u001b[0m Loading Preprocessor!\n"
     ]
    },
    {
     "name": "stderr",
     "output_type": "stream",
     "text": [
      "|                                                                                          |17/?[00:00<00:00,52.65it/s]\n"
     ]
    },
    {
     "name": "stdout",
     "output_type": "stream",
     "text": [
      "\u001b[32m[1201 15:34:32 @DATSGAN.py:267]\u001b[0m Loading Preprocessor!\n"
     ]
    },
    {
     "name": "stderr",
     "output_type": "stream",
     "text": [
      "|                                                                                          |17/?[00:00<00:00,51.85it/s]\n"
     ]
    },
    {
     "name": "stdout",
     "output_type": "stream",
     "text": [
      "\u001b[32m[1201 15:34:32 @DATSGAN.py:267]\u001b[0m Loading Preprocessor!\n"
     ]
    },
    {
     "name": "stderr",
     "output_type": "stream",
     "text": [
      "|                                                                                          |17/?[00:00<00:00,58.99it/s]"
     ]
    },
    {
     "name": "stdout",
     "output_type": "stream",
     "text": [
      "\u001b[32m[1201 15:34:33 @DATSGAN.py:267]\u001b[0m Loading Preprocessor!\n"
     ]
    },
    {
     "name": "stderr",
     "output_type": "stream",
     "text": [
      "\n",
      "|                                                                                          |17/?[00:00<00:00,63.71it/s]\n"
     ]
    },
    {
     "name": "stdout",
     "output_type": "stream",
     "text": [
      "\u001b[32m[1201 15:34:33 @DATSGAN.py:267]\u001b[0m Loading Preprocessor!\n"
     ]
    },
    {
     "name": "stderr",
     "output_type": "stream",
     "text": [
      "|                                                                                          |17/?[00:00<00:00,52.97it/s]"
     ]
    },
    {
     "name": "stdout",
     "output_type": "stream",
     "text": [
      "\u001b[32m[1201 15:34:34 @DATSGAN.py:267]\u001b[0m Loading Preprocessor!\n"
     ]
    },
    {
     "name": "stderr",
     "output_type": "stream",
     "text": [
      "\n",
      "|                                                                                          |17/?[00:00<00:00,52.09it/s]\n"
     ]
    },
    {
     "name": "stdout",
     "output_type": "stream",
     "text": [
      "\u001b[32m[1201 15:34:34 @DATSGAN.py:267]\u001b[0m Loading Preprocessor!\n"
     ]
    },
    {
     "name": "stderr",
     "output_type": "stream",
     "text": [
      "|                                                                                          |17/?[00:00<00:00,68.82it/s]\n"
     ]
    },
    {
     "name": "stdout",
     "output_type": "stream",
     "text": [
      "\u001b[32m[1201 15:34:35 @DATSGAN.py:267]\u001b[0m Loading Preprocessor!\n"
     ]
    },
    {
     "name": "stderr",
     "output_type": "stream",
     "text": [
      "|                                                                                          |17/?[00:00<00:00,53.30it/s]\n"
     ]
    },
    {
     "name": "stdout",
     "output_type": "stream",
     "text": [
      "\u001b[32m[1201 15:34:35 @DATSGAN.py:267]\u001b[0m Loading Preprocessor!\n"
     ]
    },
    {
     "name": "stderr",
     "output_type": "stream",
     "text": [
      "|                                                                                          |17/?[00:00<00:00,52.97it/s]\n"
     ]
    },
    {
     "name": "stdout",
     "output_type": "stream",
     "text": [
      "\u001b[32m[1201 15:34:36 @DATSGAN.py:267]\u001b[0m Loading Preprocessor!\n"
     ]
    },
    {
     "name": "stderr",
     "output_type": "stream",
     "text": [
      "|                                                                                          |17/?[00:00<00:00,69.10it/s]\n"
     ]
    },
    {
     "name": "stdout",
     "output_type": "stream",
     "text": [
      "Sampling synthetic data from model \u001b[1mWGGP_OR_01\u001b[0m (41/55)\n",
      "\u001b[32m[1201 15:34:42 @DATSGANModel.py:213]\u001b[0m \u001b[91mCreating cell for age (in-edges: 0; ancestors: 0)\n",
      "\u001b[32m[1201 15:34:42 @DATSGANModel.py:213]\u001b[0m \u001b[91mCreating cell for gender (in-edges: 0; ancestors: 0)\n",
      "\u001b[32m[1201 15:34:42 @DATSGANModel.py:213]\u001b[0m \u001b[91mCreating cell for travel_dow (in-edges: 0; ancestors: 0)\n",
      "\u001b[32m[1201 15:34:42 @DATSGANModel.py:213]\u001b[0m \u001b[91mCreating cell for license (in-edges: 1; ancestors: 1)\n",
      "\u001b[32m[1201 15:34:42 @DATSGANModel.py:213]\u001b[0m \u001b[91mCreating cell for education_level (in-edges: 1; ancestors: 1)\n",
      "\u001b[32m[1201 15:34:42 @DATSGANModel.py:213]\u001b[0m \u001b[91mCreating cell for work_status (in-edges: 2; ancestors: 3)\n",
      "\u001b[32m[1201 15:34:43 @DATSGANModel.py:213]\u001b[0m \u001b[91mCreating cell for hh_income (in-edges: 2; ancestors: 4)\n",
      "\u001b[32m[1201 15:34:43 @DATSGANModel.py:213]\u001b[0m \u001b[91mCreating cell for trip_purpose (in-edges: 1; ancestors: 4)\n",
      "\u001b[32m[1201 15:34:43 @DATSGANModel.py:213]\u001b[0m \u001b[91mCreating cell for hh_descr (in-edges: 2; ancestors: 5)\n",
      "\u001b[32m[1201 15:34:43 @DATSGANModel.py:213]\u001b[0m \u001b[91mCreating cell for hh_size (in-edges: 3; ancestors: 5)\n",
      "\u001b[32m[1201 15:34:43 @DATSGANModel.py:213]\u001b[0m \u001b[91mCreating cell for departure_time (in-edges: 1; ancestors: 5)\n",
      "\u001b[32m[1201 15:34:43 @DATSGANModel.py:213]\u001b[0m \u001b[91mCreating cell for distance (in-edges: 1; ancestors: 5)\n",
      "\u001b[32m[1201 15:34:43 @DATSGANModel.py:213]\u001b[0m \u001b[91mCreating cell for hh_vehicles (in-edges: 2; ancestors: 6)\n",
      "\u001b[32m[1201 15:34:43 @DATSGANModel.py:213]\u001b[0m \u001b[91mCreating cell for hh_bikes (in-edges: 2; ancestors: 6)\n",
      "\u001b[32m[1201 15:34:43 @DATSGANModel.py:213]\u001b[0m \u001b[91mCreating cell for choice (in-edges: 7; ancestors: 13)\n",
      "\u001b[32m[1201 15:34:43 @registry.py:126]\u001b[0m discrim/discrim/dis_fc0/fc input: [500, 106]\n",
      "\u001b[32m[1201 15:34:43 @registry.py:134]\u001b[0m discrim/discrim/dis_fc0/fc output: [500, 100]\n",
      "\u001b[32m[1201 15:34:43 @registry.py:126]\u001b[0m discrim/discrim/dis_fc0/FC_DIVERSITY input: [500, 100]\n",
      "\u001b[32m[1201 15:34:43 @registry.py:134]\u001b[0m discrim/discrim/dis_fc0/FC_DIVERSITY output: [500, 100]\n",
      "\u001b[32m[1201 15:34:44 @registry.py:126]\u001b[0m discrim/discrim/dis_fc_top input: [500, 110]\n",
      "\u001b[32m[1201 15:34:44 @registry.py:134]\u001b[0m discrim/discrim/dis_fc_top output: [500, 1]\n",
      "\u001b[32m[1201 15:34:44 @sessinit.py:87]\u001b[0m \u001b[5m\u001b[31mWRN\u001b[0m The following variables are in the checkpoint, but not found in the graph: global_step, optimize/beta1_power, optimize/beta2_power\n",
      "INFO:tensorflow:Graph was finalized.\n",
      "INFO:tensorflow:Running local_init_op.\n",
      "INFO:tensorflow:Done running local_init_op.\n",
      "\u001b[32m[1201 15:34:45 @sessinit.py:114]\u001b[0m Restoring checkpoint from ../output/Chicago/WGGP_OR_01/model\\model-20399 ...\n",
      "INFO:tensorflow:Restoring parameters from ../output/Chicago/WGGP_OR_01/model\\model-20399\n",
      "\u001b[32m[1201 15:34:45 @DATSGAN.py:267]\u001b[0m Loading Preprocessor!\n"
     ]
    },
    {
     "name": "stderr",
     "output_type": "stream",
     "text": [
      "|                                                                                          |17/?[00:00<00:00,29.29it/s]"
     ]
    },
    {
     "name": "stdout",
     "output_type": "stream",
     "text": [
      "\u001b[32m[1201 15:34:46 @DATSGAN.py:267]\u001b[0m Loading Preprocessor!\n"
     ]
    },
    {
     "name": "stderr",
     "output_type": "stream",
     "text": [
      "\n",
      "|                                                                                          |17/?[00:00<00:00,58.69it/s]"
     ]
    },
    {
     "name": "stdout",
     "output_type": "stream",
     "text": [
      "\u001b[32m[1201 15:34:46 @DATSGAN.py:267]\u001b[0m Loading Preprocessor!\n"
     ]
    },
    {
     "name": "stderr",
     "output_type": "stream",
     "text": [
      "\n",
      "|                                                                                          |17/?[00:00<00:00,53.39it/s]"
     ]
    },
    {
     "name": "stdout",
     "output_type": "stream",
     "text": [
      "\u001b[32m[1201 15:34:46 @DATSGAN.py:267]\u001b[0m Loading Preprocessor!\n"
     ]
    },
    {
     "name": "stderr",
     "output_type": "stream",
     "text": [
      "\n",
      "|                                                                                          |17/?[00:00<00:00,59.71it/s]"
     ]
    },
    {
     "name": "stdout",
     "output_type": "stream",
     "text": [
      "\u001b[32m[1201 15:34:47 @DATSGAN.py:267]\u001b[0m Loading Preprocessor!\n"
     ]
    },
    {
     "name": "stderr",
     "output_type": "stream",
     "text": [
      "\n",
      "|                                                                                          |17/?[00:00<00:00,53.39it/s]"
     ]
    },
    {
     "name": "stdout",
     "output_type": "stream",
     "text": [
      "\u001b[32m[1201 15:34:47 @DATSGAN.py:267]\u001b[0m Loading Preprocessor!\n"
     ]
    },
    {
     "name": "stderr",
     "output_type": "stream",
     "text": [
      "\n",
      "|                                                                                          |17/?[00:00<00:00,57.70it/s]"
     ]
    },
    {
     "name": "stdout",
     "output_type": "stream",
     "text": [
      "\u001b[32m[1201 15:34:47 @DATSGAN.py:267]\u001b[0m Loading Preprocessor!\n"
     ]
    },
    {
     "name": "stderr",
     "output_type": "stream",
     "text": [
      "\n",
      "|                                                                                          |17/?[00:00<00:00,49.89it/s]"
     ]
    },
    {
     "name": "stdout",
     "output_type": "stream",
     "text": [
      "\u001b[32m[1201 15:34:48 @DATSGAN.py:267]\u001b[0m Loading Preprocessor!\n"
     ]
    },
    {
     "name": "stderr",
     "output_type": "stream",
     "text": [
      "\n",
      "|                                                                                          |17/?[00:00<00:00,61.87it/s]"
     ]
    },
    {
     "name": "stdout",
     "output_type": "stream",
     "text": [
      "\u001b[32m[1201 15:34:48 @DATSGAN.py:267]\u001b[0m Loading Preprocessor!\n"
     ]
    },
    {
     "name": "stderr",
     "output_type": "stream",
     "text": [
      "\n",
      "|                                                                                          |17/?[00:00<00:00,50.78it/s]"
     ]
    },
    {
     "name": "stdout",
     "output_type": "stream",
     "text": [
      "\u001b[32m[1201 15:34:49 @DATSGAN.py:267]\u001b[0m Loading Preprocessor!\n"
     ]
    },
    {
     "name": "stderr",
     "output_type": "stream",
     "text": [
      "\n",
      "|                                                                                          |17/?[00:00<00:00,62.09it/s]"
     ]
    },
    {
     "name": "stdout",
     "output_type": "stream",
     "text": [
      "\u001b[32m[1201 15:34:49 @DATSGAN.py:267]\u001b[0m Loading Preprocessor!\n"
     ]
    },
    {
     "name": "stderr",
     "output_type": "stream",
     "text": [
      "\n",
      "|                                                                                          |17/?[00:00<00:00,50.63it/s]"
     ]
    },
    {
     "name": "stdout",
     "output_type": "stream",
     "text": [
      "\u001b[32m[1201 15:34:49 @DATSGAN.py:267]\u001b[0m Loading Preprocessor!\n"
     ]
    },
    {
     "name": "stderr",
     "output_type": "stream",
     "text": [
      "\n",
      "|                                                                                          |17/?[00:00<00:00,58.59it/s]"
     ]
    },
    {
     "name": "stdout",
     "output_type": "stream",
     "text": [
      "\u001b[32m[1201 15:34:50 @DATSGAN.py:267]\u001b[0m Loading Preprocessor!\n"
     ]
    },
    {
     "name": "stderr",
     "output_type": "stream",
     "text": [
      "\n",
      "|                                                                                          |17/?[00:00<00:00,52.25it/s]"
     ]
    },
    {
     "name": "stdout",
     "output_type": "stream",
     "text": [
      "\u001b[32m[1201 15:34:50 @DATSGAN.py:267]\u001b[0m Loading Preprocessor!\n"
     ]
    },
    {
     "name": "stderr",
     "output_type": "stream",
     "text": [
      "\n",
      "|                                                                                          |17/?[00:00<00:00,62.54it/s]"
     ]
    },
    {
     "name": "stdout",
     "output_type": "stream",
     "text": [
      "\u001b[32m[1201 15:34:50 @DATSGAN.py:267]\u001b[0m Loading Preprocessor!\n"
     ]
    },
    {
     "name": "stderr",
     "output_type": "stream",
     "text": [
      "\n",
      "|                                                                                          |17/?[00:00<00:00,50.63it/s]\n"
     ]
    },
    {
     "name": "stdout",
     "output_type": "stream",
     "text": [
      "Sampling synthetic data from model \u001b[1mWGGP_OR_02\u001b[0m (42/55)\n",
      "\u001b[32m[1201 15:34:57 @DATSGANModel.py:213]\u001b[0m \u001b[91mCreating cell for age (in-edges: 0; ancestors: 0)\n",
      "\u001b[32m[1201 15:34:57 @DATSGANModel.py:213]\u001b[0m \u001b[91mCreating cell for gender (in-edges: 0; ancestors: 0)\n",
      "\u001b[32m[1201 15:34:57 @DATSGANModel.py:213]\u001b[0m \u001b[91mCreating cell for travel_dow (in-edges: 0; ancestors: 0)\n",
      "\u001b[32m[1201 15:34:57 @DATSGANModel.py:213]\u001b[0m \u001b[91mCreating cell for license (in-edges: 1; ancestors: 1)\n",
      "\u001b[32m[1201 15:34:57 @DATSGANModel.py:213]\u001b[0m \u001b[91mCreating cell for education_level (in-edges: 1; ancestors: 1)\n",
      "\u001b[32m[1201 15:34:57 @DATSGANModel.py:213]\u001b[0m \u001b[91mCreating cell for work_status (in-edges: 2; ancestors: 3)\n",
      "\u001b[32m[1201 15:34:57 @DATSGANModel.py:213]\u001b[0m \u001b[91mCreating cell for hh_income (in-edges: 2; ancestors: 4)\n",
      "\u001b[32m[1201 15:34:57 @DATSGANModel.py:213]\u001b[0m \u001b[91mCreating cell for trip_purpose (in-edges: 1; ancestors: 4)\n",
      "\u001b[32m[1201 15:34:57 @DATSGANModel.py:213]\u001b[0m \u001b[91mCreating cell for hh_descr (in-edges: 2; ancestors: 5)\n",
      "\u001b[32m[1201 15:34:57 @DATSGANModel.py:213]\u001b[0m \u001b[91mCreating cell for hh_size (in-edges: 3; ancestors: 5)\n",
      "\u001b[32m[1201 15:34:58 @DATSGANModel.py:213]\u001b[0m \u001b[91mCreating cell for departure_time (in-edges: 1; ancestors: 5)\n",
      "\u001b[32m[1201 15:34:58 @DATSGANModel.py:213]\u001b[0m \u001b[91mCreating cell for distance (in-edges: 1; ancestors: 5)\n",
      "\u001b[32m[1201 15:34:58 @DATSGANModel.py:213]\u001b[0m \u001b[91mCreating cell for hh_vehicles (in-edges: 2; ancestors: 6)\n",
      "\u001b[32m[1201 15:34:58 @DATSGANModel.py:213]\u001b[0m \u001b[91mCreating cell for hh_bikes (in-edges: 2; ancestors: 6)\n",
      "\u001b[32m[1201 15:34:58 @DATSGANModel.py:213]\u001b[0m \u001b[91mCreating cell for choice (in-edges: 7; ancestors: 13)\n",
      "\u001b[32m[1201 15:34:58 @sessinit.py:87]\u001b[0m \u001b[5m\u001b[31mWRN\u001b[0m The following variables are in the checkpoint, but not found in the graph: global_step, optimize/beta1_power, optimize/beta2_power\n",
      "INFO:tensorflow:Graph was finalized.\n",
      "INFO:tensorflow:Running local_init_op.\n",
      "INFO:tensorflow:Done running local_init_op.\n",
      "\u001b[32m[1201 15:34:59 @sessinit.py:114]\u001b[0m Restoring checkpoint from ../output/Chicago/WGGP_OR_02/model\\model-20399 ...\n",
      "INFO:tensorflow:Restoring parameters from ../output/Chicago/WGGP_OR_02/model\\model-20399\n",
      "\u001b[32m[1201 15:34:59 @DATSGAN.py:267]\u001b[0m Loading Preprocessor!\n"
     ]
    },
    {
     "name": "stderr",
     "output_type": "stream",
     "text": [
      "|                                                                                          |17/?[00:00<00:00,27.96it/s]"
     ]
    },
    {
     "name": "stdout",
     "output_type": "stream",
     "text": [
      "\u001b[32m[1201 15:35:00 @DATSGAN.py:267]\u001b[0m Loading Preprocessor!\n"
     ]
    },
    {
     "name": "stderr",
     "output_type": "stream",
     "text": [
      "\n",
      "|                                                                                          |17/?[00:00<00:00,68.82it/s]"
     ]
    },
    {
     "name": "stdout",
     "output_type": "stream",
     "text": [
      "\u001b[32m[1201 15:35:00 @DATSGAN.py:267]\u001b[0m Loading Preprocessor!\n"
     ]
    },
    {
     "name": "stderr",
     "output_type": "stream",
     "text": [
      "\n",
      "|                                                                                          |17/?[00:00<00:00,52.01it/s]"
     ]
    },
    {
     "name": "stdout",
     "output_type": "stream",
     "text": [
      "\u001b[32m[1201 15:35:01 @DATSGAN.py:267]\u001b[0m Loading Preprocessor!\n"
     ]
    },
    {
     "name": "stderr",
     "output_type": "stream",
     "text": [
      "\n",
      "|                                                                                          |17/?[00:00<00:00,72.77it/s]"
     ]
    },
    {
     "name": "stdout",
     "output_type": "stream",
     "text": [
      "\u001b[32m[1201 15:35:01 @DATSGAN.py:267]\u001b[0m Loading Preprocessor!\n"
     ]
    },
    {
     "name": "stderr",
     "output_type": "stream",
     "text": [
      "\n",
      "|                                                                                          |17/?[00:00<00:00,52.25it/s]"
     ]
    },
    {
     "name": "stdout",
     "output_type": "stream",
     "text": [
      "\u001b[32m[1201 15:35:02 @DATSGAN.py:267]\u001b[0m Loading Preprocessor!\n"
     ]
    },
    {
     "name": "stderr",
     "output_type": "stream",
     "text": [
      "\n",
      "|                                                                                          |17/?[00:00<00:00,59.82it/s]"
     ]
    },
    {
     "name": "stdout",
     "output_type": "stream",
     "text": [
      "\u001b[32m[1201 15:35:02 @DATSGAN.py:267]\u001b[0m Loading Preprocessor!\n"
     ]
    },
    {
     "name": "stderr",
     "output_type": "stream",
     "text": [
      "\n",
      "|                                                                                          |17/?[00:00<00:00,55.73it/s]"
     ]
    },
    {
     "name": "stdout",
     "output_type": "stream",
     "text": [
      "\u001b[32m[1201 15:35:02 @DATSGAN.py:267]\u001b[0m Loading Preprocessor!\n"
     ]
    },
    {
     "name": "stderr",
     "output_type": "stream",
     "text": [
      "\n",
      "|                                                                                          |17/?[00:00<00:00,54.84it/s]"
     ]
    },
    {
     "name": "stdout",
     "output_type": "stream",
     "text": [
      "\u001b[32m[1201 15:35:03 @DATSGAN.py:267]\u001b[0m Loading Preprocessor!\n"
     ]
    },
    {
     "name": "stderr",
     "output_type": "stream",
     "text": [
      "\n",
      "|                                                                                          |17/?[00:00<00:00,65.16it/s]"
     ]
    },
    {
     "name": "stdout",
     "output_type": "stream",
     "text": [
      "\u001b[32m[1201 15:35:03 @DATSGAN.py:267]\u001b[0m Loading Preprocessor!\n"
     ]
    },
    {
     "name": "stderr",
     "output_type": "stream",
     "text": [
      "\n",
      "|                                                                                          |17/?[00:00<00:00,51.93it/s]"
     ]
    },
    {
     "name": "stdout",
     "output_type": "stream",
     "text": [
      "\u001b[32m[1201 15:35:03 @DATSGAN.py:267]\u001b[0m Loading Preprocessor!\n"
     ]
    },
    {
     "name": "stderr",
     "output_type": "stream",
     "text": [
      "\n",
      "|                                                                                          |17/?[00:00<00:00,67.20it/s]"
     ]
    },
    {
     "name": "stdout",
     "output_type": "stream",
     "text": [
      "\u001b[32m[1201 15:35:04 @DATSGAN.py:267]\u001b[0m Loading Preprocessor!\n"
     ]
    },
    {
     "name": "stderr",
     "output_type": "stream",
     "text": [
      "\n",
      "|                                                                                          |17/?[00:00<00:00,51.31it/s]"
     ]
    },
    {
     "name": "stdout",
     "output_type": "stream",
     "text": [
      "\u001b[32m[1201 15:35:04 @DATSGAN.py:267]\u001b[0m Loading Preprocessor!\n"
     ]
    },
    {
     "name": "stderr",
     "output_type": "stream",
     "text": [
      "\n",
      "|                                                                                          |17/?[00:00<00:00,60.99it/s]"
     ]
    },
    {
     "name": "stdout",
     "output_type": "stream",
     "text": [
      "\u001b[32m[1201 15:35:04 @DATSGAN.py:267]\u001b[0m Loading Preprocessor!\n"
     ]
    },
    {
     "name": "stderr",
     "output_type": "stream",
     "text": [
      "\n",
      "|                                                                                          |17/?[00:00<00:00,49.24it/s]"
     ]
    },
    {
     "name": "stdout",
     "output_type": "stream",
     "text": [
      "\u001b[32m[1201 15:35:05 @DATSGAN.py:267]\u001b[0m Loading Preprocessor!\n"
     ]
    },
    {
     "name": "stderr",
     "output_type": "stream",
     "text": [
      "\n",
      "|                                                                                          |17/?[00:00<00:00,65.16it/s]\n"
     ]
    },
    {
     "name": "stdout",
     "output_type": "stream",
     "text": [
      "Sampling synthetic data from model \u001b[1mWGGP_OR_03\u001b[0m (43/55)\n",
      "\u001b[32m[1201 15:35:11 @DATSGANModel.py:213]\u001b[0m \u001b[91mCreating cell for age (in-edges: 0; ancestors: 0)\n",
      "\u001b[32m[1201 15:35:11 @DATSGANModel.py:213]\u001b[0m \u001b[91mCreating cell for gender (in-edges: 0; ancestors: 0)\n",
      "\u001b[32m[1201 15:35:11 @DATSGANModel.py:213]\u001b[0m \u001b[91mCreating cell for travel_dow (in-edges: 0; ancestors: 0)\n",
      "\u001b[32m[1201 15:35:11 @DATSGANModel.py:213]\u001b[0m \u001b[91mCreating cell for license (in-edges: 1; ancestors: 1)\n",
      "\u001b[32m[1201 15:35:11 @DATSGANModel.py:213]\u001b[0m \u001b[91mCreating cell for education_level (in-edges: 1; ancestors: 1)\n",
      "\u001b[32m[1201 15:35:11 @DATSGANModel.py:213]\u001b[0m \u001b[91mCreating cell for work_status (in-edges: 2; ancestors: 3)\n",
      "\u001b[32m[1201 15:35:12 @DATSGANModel.py:213]\u001b[0m \u001b[91mCreating cell for hh_income (in-edges: 2; ancestors: 4)\n",
      "\u001b[32m[1201 15:35:12 @DATSGANModel.py:213]\u001b[0m \u001b[91mCreating cell for trip_purpose (in-edges: 1; ancestors: 4)\n",
      "\u001b[32m[1201 15:35:12 @DATSGANModel.py:213]\u001b[0m \u001b[91mCreating cell for hh_descr (in-edges: 2; ancestors: 5)\n",
      "\u001b[32m[1201 15:35:12 @DATSGANModel.py:213]\u001b[0m \u001b[91mCreating cell for hh_size (in-edges: 3; ancestors: 5)\n",
      "\u001b[32m[1201 15:35:12 @DATSGANModel.py:213]\u001b[0m \u001b[91mCreating cell for departure_time (in-edges: 1; ancestors: 5)\n",
      "\u001b[32m[1201 15:35:12 @DATSGANModel.py:213]\u001b[0m \u001b[91mCreating cell for distance (in-edges: 1; ancestors: 5)\n",
      "\u001b[32m[1201 15:35:12 @DATSGANModel.py:213]\u001b[0m \u001b[91mCreating cell for hh_vehicles (in-edges: 2; ancestors: 6)\n",
      "\u001b[32m[1201 15:35:12 @DATSGANModel.py:213]\u001b[0m \u001b[91mCreating cell for hh_bikes (in-edges: 2; ancestors: 6)\n",
      "\u001b[32m[1201 15:35:12 @DATSGANModel.py:213]\u001b[0m \u001b[91mCreating cell for choice (in-edges: 7; ancestors: 13)\n",
      "\u001b[32m[1201 15:35:13 @sessinit.py:87]\u001b[0m \u001b[5m\u001b[31mWRN\u001b[0m The following variables are in the checkpoint, but not found in the graph: global_step, optimize/beta1_power, optimize/beta2_power\n",
      "INFO:tensorflow:Graph was finalized.\n",
      "INFO:tensorflow:Running local_init_op.\n",
      "INFO:tensorflow:Done running local_init_op.\n",
      "\u001b[32m[1201 15:35:14 @sessinit.py:114]\u001b[0m Restoring checkpoint from ../output/Chicago/WGGP_OR_03/model\\model-20399 ...\n",
      "INFO:tensorflow:Restoring parameters from ../output/Chicago/WGGP_OR_03/model\\model-20399\n",
      "\u001b[32m[1201 15:35:14 @DATSGAN.py:267]\u001b[0m Loading Preprocessor!\n"
     ]
    },
    {
     "name": "stderr",
     "output_type": "stream",
     "text": [
      "|                                                                                          |17/?[00:00<00:00,28.95it/s]"
     ]
    },
    {
     "name": "stdout",
     "output_type": "stream",
     "text": [
      "\u001b[32m[1201 15:35:15 @DATSGAN.py:267]\u001b[0m Loading Preprocessor!\n"
     ]
    },
    {
     "name": "stderr",
     "output_type": "stream",
     "text": [
      "\n",
      "|                                                                                          |17/?[00:00<00:00,60.13it/s]"
     ]
    },
    {
     "name": "stdout",
     "output_type": "stream",
     "text": [
      "\u001b[32m[1201 15:35:15 @DATSGAN.py:267]\u001b[0m Loading Preprocessor!\n"
     ]
    },
    {
     "name": "stderr",
     "output_type": "stream",
     "text": [
      "\n",
      "|                                                                                          |17/?[00:00<00:00,51.85it/s]"
     ]
    },
    {
     "name": "stdout",
     "output_type": "stream",
     "text": [
      "\u001b[32m[1201 15:35:15 @DATSGAN.py:267]\u001b[0m Loading Preprocessor!\n"
     ]
    },
    {
     "name": "stderr",
     "output_type": "stream",
     "text": [
      "\n",
      "|                                                                                          |17/?[00:00<00:00,63.59it/s]"
     ]
    },
    {
     "name": "stdout",
     "output_type": "stream",
     "text": [
      "\u001b[32m[1201 15:35:16 @DATSGAN.py:267]\u001b[0m Loading Preprocessor!\n"
     ]
    },
    {
     "name": "stderr",
     "output_type": "stream",
     "text": [
      "\n",
      "|                                                                                          |17/?[00:00<00:00,53.55it/s]"
     ]
    },
    {
     "name": "stdout",
     "output_type": "stream",
     "text": [
      "\u001b[32m[1201 15:35:16 @DATSGAN.py:267]\u001b[0m Loading Preprocessor!\n"
     ]
    },
    {
     "name": "stderr",
     "output_type": "stream",
     "text": [
      "\n",
      "|                                                                                          |17/?[00:00<00:00,57.80it/s]"
     ]
    },
    {
     "name": "stdout",
     "output_type": "stream",
     "text": [
      "\u001b[32m[1201 15:35:16 @DATSGAN.py:267]\u001b[0m Loading Preprocessor!\n"
     ]
    },
    {
     "name": "stderr",
     "output_type": "stream",
     "text": [
      "\n",
      "|                                                                                          |17/?[00:00<00:00,51.62it/s]"
     ]
    },
    {
     "name": "stdout",
     "output_type": "stream",
     "text": [
      "\u001b[32m[1201 15:35:17 @DATSGAN.py:267]\u001b[0m Loading Preprocessor!\n"
     ]
    },
    {
     "name": "stderr",
     "output_type": "stream",
     "text": [
      "\n",
      "|                                                                                          |17/?[00:00<00:00,59.40it/s]"
     ]
    },
    {
     "name": "stdout",
     "output_type": "stream",
     "text": [
      "\u001b[32m[1201 15:35:17 @DATSGAN.py:267]\u001b[0m Loading Preprocessor!\n"
     ]
    },
    {
     "name": "stderr",
     "output_type": "stream",
     "text": [
      "\n",
      "|                                                                                          |17/?[00:00<00:00,49.39it/s]"
     ]
    },
    {
     "name": "stdout",
     "output_type": "stream",
     "text": [
      "\u001b[32m[1201 15:35:18 @DATSGAN.py:267]\u001b[0m Loading Preprocessor!\n"
     ]
    },
    {
     "name": "stderr",
     "output_type": "stream",
     "text": [
      "\n",
      "|                                                                                          |17/?[00:00<00:00,60.02it/s]"
     ]
    },
    {
     "name": "stdout",
     "output_type": "stream",
     "text": [
      "\u001b[32m[1201 15:35:18 @DATSGAN.py:267]\u001b[0m Loading Preprocessor!\n"
     ]
    },
    {
     "name": "stderr",
     "output_type": "stream",
     "text": [
      "\n",
      "|                                                                                          |17/?[00:00<00:00,52.09it/s]"
     ]
    },
    {
     "name": "stdout",
     "output_type": "stream",
     "text": [
      "\u001b[32m[1201 15:35:18 @DATSGAN.py:267]\u001b[0m Loading Preprocessor!\n"
     ]
    },
    {
     "name": "stderr",
     "output_type": "stream",
     "text": [
      "\n",
      "|                                                                                          |17/?[00:00<00:00,55.28it/s]"
     ]
    },
    {
     "name": "stdout",
     "output_type": "stream",
     "text": [
      "\u001b[32m[1201 15:35:19 @DATSGAN.py:267]\u001b[0m Loading Preprocessor!\n"
     ]
    },
    {
     "name": "stderr",
     "output_type": "stream",
     "text": [
      "\n",
      "|                                                                                          |17/?[00:00<00:00,54.84it/s]"
     ]
    },
    {
     "name": "stdout",
     "output_type": "stream",
     "text": [
      "\u001b[32m[1201 15:35:19 @DATSGAN.py:267]\u001b[0m Loading Preprocessor!\n"
     ]
    },
    {
     "name": "stderr",
     "output_type": "stream",
     "text": [
      "\n",
      "|                                                                                          |17/?[00:00<00:00,54.49it/s]"
     ]
    },
    {
     "name": "stdout",
     "output_type": "stream",
     "text": [
      "\u001b[32m[1201 15:35:19 @DATSGAN.py:267]\u001b[0m Loading Preprocessor!\n"
     ]
    },
    {
     "name": "stderr",
     "output_type": "stream",
     "text": [
      "\n",
      "|                                                                                          |17/?[00:00<00:00,56.47it/s]\n"
     ]
    },
    {
     "name": "stdout",
     "output_type": "stream",
     "text": [
      "Sampling synthetic data from model \u001b[1mWGGP_OR_04\u001b[0m (44/55)\n",
      "\u001b[32m[1201 15:35:26 @DATSGANModel.py:213]\u001b[0m \u001b[91mCreating cell for age (in-edges: 0; ancestors: 0)\n",
      "\u001b[32m[1201 15:35:26 @DATSGANModel.py:213]\u001b[0m \u001b[91mCreating cell for gender (in-edges: 0; ancestors: 0)\n",
      "\u001b[32m[1201 15:35:26 @DATSGANModel.py:213]\u001b[0m \u001b[91mCreating cell for travel_dow (in-edges: 0; ancestors: 0)\n",
      "\u001b[32m[1201 15:35:26 @DATSGANModel.py:213]\u001b[0m \u001b[91mCreating cell for license (in-edges: 1; ancestors: 1)\n",
      "\u001b[32m[1201 15:35:26 @DATSGANModel.py:213]\u001b[0m \u001b[91mCreating cell for education_level (in-edges: 1; ancestors: 1)\n",
      "\u001b[32m[1201 15:35:26 @DATSGANModel.py:213]\u001b[0m \u001b[91mCreating cell for work_status (in-edges: 2; ancestors: 3)\n",
      "\u001b[32m[1201 15:35:26 @DATSGANModel.py:213]\u001b[0m \u001b[91mCreating cell for hh_income (in-edges: 2; ancestors: 4)\n",
      "\u001b[32m[1201 15:35:26 @DATSGANModel.py:213]\u001b[0m \u001b[91mCreating cell for trip_purpose (in-edges: 1; ancestors: 4)\n",
      "\u001b[32m[1201 15:35:26 @DATSGANModel.py:213]\u001b[0m \u001b[91mCreating cell for hh_descr (in-edges: 2; ancestors: 5)\n",
      "\u001b[32m[1201 15:35:26 @DATSGANModel.py:213]\u001b[0m \u001b[91mCreating cell for hh_size (in-edges: 3; ancestors: 5)\n",
      "\u001b[32m[1201 15:35:27 @DATSGANModel.py:213]\u001b[0m \u001b[91mCreating cell for departure_time (in-edges: 1; ancestors: 5)\n",
      "\u001b[32m[1201 15:35:27 @DATSGANModel.py:213]\u001b[0m \u001b[91mCreating cell for distance (in-edges: 1; ancestors: 5)\n",
      "\u001b[32m[1201 15:35:27 @DATSGANModel.py:213]\u001b[0m \u001b[91mCreating cell for hh_vehicles (in-edges: 2; ancestors: 6)\n",
      "\u001b[32m[1201 15:35:27 @DATSGANModel.py:213]\u001b[0m \u001b[91mCreating cell for hh_bikes (in-edges: 2; ancestors: 6)\n",
      "\u001b[32m[1201 15:35:27 @DATSGANModel.py:213]\u001b[0m \u001b[91mCreating cell for choice (in-edges: 7; ancestors: 13)\n",
      "\u001b[32m[1201 15:35:27 @sessinit.py:87]\u001b[0m \u001b[5m\u001b[31mWRN\u001b[0m The following variables are in the checkpoint, but not found in the graph: global_step, optimize/beta1_power, optimize/beta2_power\n",
      "INFO:tensorflow:Graph was finalized.\n",
      "INFO:tensorflow:Running local_init_op.\n",
      "INFO:tensorflow:Done running local_init_op.\n",
      "\u001b[32m[1201 15:35:29 @sessinit.py:114]\u001b[0m Restoring checkpoint from ../output/Chicago/WGGP_OR_04/model\\model-20399 ...\n",
      "INFO:tensorflow:Restoring parameters from ../output/Chicago/WGGP_OR_04/model\\model-20399\n",
      "\u001b[32m[1201 15:35:29 @DATSGAN.py:267]\u001b[0m Loading Preprocessor!\n"
     ]
    },
    {
     "name": "stderr",
     "output_type": "stream",
     "text": [
      "|                                                                                          |17/?[00:00<00:00,27.77it/s]"
     ]
    },
    {
     "name": "stdout",
     "output_type": "stream",
     "text": [
      "\u001b[32m[1201 15:35:29 @DATSGAN.py:267]\u001b[0m Loading Preprocessor!\n"
     ]
    },
    {
     "name": "stderr",
     "output_type": "stream",
     "text": [
      "\n",
      "|                                                                                          |17/?[00:00<00:00,59.09it/s]"
     ]
    },
    {
     "name": "stdout",
     "output_type": "stream",
     "text": [
      "\u001b[32m[1201 15:35:30 @DATSGAN.py:267]\u001b[0m Loading Preprocessor!\n"
     ]
    },
    {
     "name": "stderr",
     "output_type": "stream",
     "text": [
      "\n",
      "|                                                                                          |17/?[00:00<00:00,52.09it/s]"
     ]
    },
    {
     "name": "stdout",
     "output_type": "stream",
     "text": [
      "\u001b[32m[1201 15:35:30 @DATSGAN.py:267]\u001b[0m Loading Preprocessor!\n"
     ]
    },
    {
     "name": "stderr",
     "output_type": "stream",
     "text": [
      "\n",
      "|                                                                                          |17/?[00:00<00:00,57.99it/s]"
     ]
    },
    {
     "name": "stdout",
     "output_type": "stream",
     "text": [
      "\u001b[32m[1201 15:35:31 @DATSGAN.py:267]\u001b[0m Loading Preprocessor!\n"
     ]
    },
    {
     "name": "stderr",
     "output_type": "stream",
     "text": [
      "\n",
      "|                                                                                          |17/?[00:00<00:00,49.89it/s]"
     ]
    },
    {
     "name": "stdout",
     "output_type": "stream",
     "text": [
      "\u001b[32m[1201 15:35:31 @DATSGAN.py:267]\u001b[0m Loading Preprocessor!\n"
     ]
    },
    {
     "name": "stderr",
     "output_type": "stream",
     "text": [
      "\n",
      "|                                                                                          |17/?[00:00<00:00,55.82it/s]"
     ]
    },
    {
     "name": "stdout",
     "output_type": "stream",
     "text": [
      "\u001b[32m[1201 15:35:31 @DATSGAN.py:267]\u001b[0m Loading Preprocessor!\n"
     ]
    },
    {
     "name": "stderr",
     "output_type": "stream",
     "text": [
      "\n",
      "|                                                                                          |17/?[00:00<00:00,49.32it/s]"
     ]
    },
    {
     "name": "stdout",
     "output_type": "stream",
     "text": [
      "\u001b[32m[1201 15:35:32 @DATSGAN.py:267]\u001b[0m Loading Preprocessor!\n"
     ]
    },
    {
     "name": "stderr",
     "output_type": "stream",
     "text": [
      "\n",
      "|                                                                                          |17/?[00:00<00:00,55.46it/s]"
     ]
    },
    {
     "name": "stdout",
     "output_type": "stream",
     "text": [
      "\u001b[32m[1201 15:35:32 @DATSGAN.py:267]\u001b[0m Loading Preprocessor!\n"
     ]
    },
    {
     "name": "stderr",
     "output_type": "stream",
     "text": [
      "\n",
      "|                                                                                          |17/?[00:00<00:00,49.24it/s]"
     ]
    },
    {
     "name": "stdout",
     "output_type": "stream",
     "text": [
      "\u001b[32m[1201 15:35:33 @DATSGAN.py:267]\u001b[0m Loading Preprocessor!\n"
     ]
    },
    {
     "name": "stderr",
     "output_type": "stream",
     "text": [
      "\n",
      "|                                                                                          |17/?[00:00<00:00,54.23it/s]"
     ]
    },
    {
     "name": "stdout",
     "output_type": "stream",
     "text": [
      "\u001b[32m[1201 15:35:33 @DATSGAN.py:267]\u001b[0m Loading Preprocessor!\n"
     ]
    },
    {
     "name": "stderr",
     "output_type": "stream",
     "text": [
      "\n",
      "|                                                                                          |17/?[00:00<00:00,53.47it/s]"
     ]
    },
    {
     "name": "stdout",
     "output_type": "stream",
     "text": [
      "\u001b[32m[1201 15:35:33 @DATSGAN.py:267]\u001b[0m Loading Preprocessor!\n"
     ]
    },
    {
     "name": "stderr",
     "output_type": "stream",
     "text": [
      "\n",
      "|                                                                                          |17/?[00:00<00:00,54.06it/s]"
     ]
    },
    {
     "name": "stdout",
     "output_type": "stream",
     "text": [
      "\u001b[32m[1201 15:35:34 @DATSGAN.py:267]\u001b[0m Loading Preprocessor!\n"
     ]
    },
    {
     "name": "stderr",
     "output_type": "stream",
     "text": [
      "\n",
      "|                                                                                          |17/?[00:00<00:00,54.32it/s]"
     ]
    },
    {
     "name": "stdout",
     "output_type": "stream",
     "text": [
      "\u001b[32m[1201 15:35:34 @DATSGAN.py:267]\u001b[0m Loading Preprocessor!\n"
     ]
    },
    {
     "name": "stderr",
     "output_type": "stream",
     "text": [
      "\n",
      "|                                                                                          |17/?[00:00<00:00,56.00it/s]"
     ]
    },
    {
     "name": "stdout",
     "output_type": "stream",
     "text": [
      "\u001b[32m[1201 15:35:34 @DATSGAN.py:267]\u001b[0m Loading Preprocessor!\n"
     ]
    },
    {
     "name": "stderr",
     "output_type": "stream",
     "text": [
      "\n",
      "|                                                                                          |17/?[00:00<00:00,53.14it/s]\n"
     ]
    },
    {
     "name": "stdout",
     "output_type": "stream",
     "text": [
      "Sampling synthetic data from model \u001b[1mWGGP_OR_05\u001b[0m (45/55)\n",
      "\u001b[32m[1201 15:35:41 @DATSGANModel.py:213]\u001b[0m \u001b[91mCreating cell for age (in-edges: 0; ancestors: 0)\n",
      "\u001b[32m[1201 15:35:41 @DATSGANModel.py:213]\u001b[0m \u001b[91mCreating cell for gender (in-edges: 0; ancestors: 0)\n",
      "\u001b[32m[1201 15:35:41 @DATSGANModel.py:213]\u001b[0m \u001b[91mCreating cell for travel_dow (in-edges: 0; ancestors: 0)\n",
      "\u001b[32m[1201 15:35:41 @DATSGANModel.py:213]\u001b[0m \u001b[91mCreating cell for license (in-edges: 1; ancestors: 1)\n",
      "\u001b[32m[1201 15:35:41 @DATSGANModel.py:213]\u001b[0m \u001b[91mCreating cell for education_level (in-edges: 1; ancestors: 1)\n",
      "\u001b[32m[1201 15:35:41 @DATSGANModel.py:213]\u001b[0m \u001b[91mCreating cell for work_status (in-edges: 2; ancestors: 3)\n",
      "\u001b[32m[1201 15:35:41 @DATSGANModel.py:213]\u001b[0m \u001b[91mCreating cell for hh_income (in-edges: 2; ancestors: 4)\n",
      "\u001b[32m[1201 15:35:41 @DATSGANModel.py:213]\u001b[0m \u001b[91mCreating cell for trip_purpose (in-edges: 1; ancestors: 4)\n",
      "\u001b[32m[1201 15:35:41 @DATSGANModel.py:213]\u001b[0m \u001b[91mCreating cell for hh_descr (in-edges: 2; ancestors: 5)\n",
      "\u001b[32m[1201 15:35:41 @DATSGANModel.py:213]\u001b[0m \u001b[91mCreating cell for hh_size (in-edges: 3; ancestors: 5)\n",
      "\u001b[32m[1201 15:35:42 @DATSGANModel.py:213]\u001b[0m \u001b[91mCreating cell for departure_time (in-edges: 1; ancestors: 5)\n",
      "\u001b[32m[1201 15:35:42 @DATSGANModel.py:213]\u001b[0m \u001b[91mCreating cell for distance (in-edges: 1; ancestors: 5)\n",
      "\u001b[32m[1201 15:35:42 @DATSGANModel.py:213]\u001b[0m \u001b[91mCreating cell for hh_vehicles (in-edges: 2; ancestors: 6)\n",
      "\u001b[32m[1201 15:35:42 @DATSGANModel.py:213]\u001b[0m \u001b[91mCreating cell for hh_bikes (in-edges: 2; ancestors: 6)\n",
      "\u001b[32m[1201 15:35:42 @DATSGANModel.py:213]\u001b[0m \u001b[91mCreating cell for choice (in-edges: 7; ancestors: 13)\n",
      "\u001b[32m[1201 15:35:42 @sessinit.py:87]\u001b[0m \u001b[5m\u001b[31mWRN\u001b[0m The following variables are in the checkpoint, but not found in the graph: global_step, optimize/beta1_power, optimize/beta2_power\n",
      "INFO:tensorflow:Graph was finalized.\n",
      "INFO:tensorflow:Running local_init_op.\n",
      "INFO:tensorflow:Done running local_init_op.\n",
      "\u001b[32m[1201 15:35:43 @sessinit.py:114]\u001b[0m Restoring checkpoint from ../output/Chicago/WGGP_OR_05/model\\model-20399 ...\n",
      "INFO:tensorflow:Restoring parameters from ../output/Chicago/WGGP_OR_05/model\\model-20399\n",
      "\u001b[32m[1201 15:35:43 @DATSGAN.py:267]\u001b[0m Loading Preprocessor!\n"
     ]
    },
    {
     "name": "stderr",
     "output_type": "stream",
     "text": [
      "|                                                                                          |17/?[00:00<00:00,31.76it/s]"
     ]
    },
    {
     "name": "stdout",
     "output_type": "stream",
     "text": [
      "\u001b[32m[1201 15:35:44 @DATSGAN.py:267]\u001b[0m Loading Preprocessor!\n"
     ]
    },
    {
     "name": "stderr",
     "output_type": "stream",
     "text": [
      "\n",
      "|                                                                                          |17/?[00:00<00:00,55.46it/s]"
     ]
    },
    {
     "name": "stdout",
     "output_type": "stream",
     "text": [
      "\u001b[32m[1201 15:35:44 @DATSGAN.py:267]\u001b[0m Loading Preprocessor!\n"
     ]
    },
    {
     "name": "stderr",
     "output_type": "stream",
     "text": [
      "\n",
      "|                                                                                          |17/?[00:00<00:00,55.01it/s]"
     ]
    },
    {
     "name": "stdout",
     "output_type": "stream",
     "text": [
      "\u001b[32m[1201 15:35:45 @DATSGAN.py:267]\u001b[0m Loading Preprocessor!\n"
     ]
    },
    {
     "name": "stderr",
     "output_type": "stream",
     "text": [
      "\n",
      "|                                                                                          |17/?[00:00<00:00,56.37it/s]"
     ]
    },
    {
     "name": "stdout",
     "output_type": "stream",
     "text": [
      "\u001b[32m[1201 15:35:45 @DATSGAN.py:267]\u001b[0m Loading Preprocessor!\n"
     ]
    },
    {
     "name": "stderr",
     "output_type": "stream",
     "text": [
      "\n",
      "|                                                                                          |17/?[00:00<00:00,56.46it/s]"
     ]
    },
    {
     "name": "stdout",
     "output_type": "stream",
     "text": [
      "\u001b[32m[1201 15:35:46 @DATSGAN.py:267]\u001b[0m Loading Preprocessor!\n"
     ]
    },
    {
     "name": "stderr",
     "output_type": "stream",
     "text": [
      "\n",
      "|                                                                                          |17/?[00:00<00:00,54.15it/s]"
     ]
    },
    {
     "name": "stdout",
     "output_type": "stream",
     "text": [
      "\u001b[32m[1201 15:35:46 @DATSGAN.py:267]\u001b[0m Loading Preprocessor!\n"
     ]
    },
    {
     "name": "stderr",
     "output_type": "stream",
     "text": [
      "\n",
      "|                                                                                          |17/?[00:00<00:00,53.47it/s]"
     ]
    },
    {
     "name": "stdout",
     "output_type": "stream",
     "text": [
      "\u001b[32m[1201 15:35:46 @DATSGAN.py:267]\u001b[0m Loading Preprocessor!\n"
     ]
    },
    {
     "name": "stderr",
     "output_type": "stream",
     "text": [
      "\n",
      "|                                                                                          |17/?[00:00<00:00,57.80it/s]"
     ]
    },
    {
     "name": "stdout",
     "output_type": "stream",
     "text": [
      "\u001b[32m[1201 15:35:47 @DATSGAN.py:267]\u001b[0m Loading Preprocessor!\n"
     ]
    },
    {
     "name": "stderr",
     "output_type": "stream",
     "text": [
      "\n",
      "|                                                                                          |17/?[00:00<00:00,53.55it/s]"
     ]
    },
    {
     "name": "stdout",
     "output_type": "stream",
     "text": [
      "\u001b[32m[1201 15:35:47 @DATSGAN.py:267]\u001b[0m Loading Preprocessor!\n"
     ]
    },
    {
     "name": "stderr",
     "output_type": "stream",
     "text": [
      "\n",
      "|                                                                                          |17/?[00:00<00:00,57.41it/s]"
     ]
    },
    {
     "name": "stdout",
     "output_type": "stream",
     "text": [
      "\u001b[32m[1201 15:35:47 @DATSGAN.py:267]\u001b[0m Loading Preprocessor!\n"
     ]
    },
    {
     "name": "stderr",
     "output_type": "stream",
     "text": [
      "\n",
      "|                                                                                          |17/?[00:00<00:00,49.03it/s]"
     ]
    },
    {
     "name": "stdout",
     "output_type": "stream",
     "text": [
      "\u001b[32m[1201 15:35:48 @DATSGAN.py:267]\u001b[0m Loading Preprocessor!\n"
     ]
    },
    {
     "name": "stderr",
     "output_type": "stream",
     "text": [
      "\n",
      "|                                                                                          |17/?[00:00<00:00,55.73it/s]"
     ]
    },
    {
     "name": "stdout",
     "output_type": "stream",
     "text": [
      "\u001b[32m[1201 15:35:48 @DATSGAN.py:267]\u001b[0m Loading Preprocessor!\n"
     ]
    },
    {
     "name": "stderr",
     "output_type": "stream",
     "text": [
      "\n",
      "|                                                                                          |17/?[00:00<00:00,53.47it/s]"
     ]
    },
    {
     "name": "stdout",
     "output_type": "stream",
     "text": [
      "\u001b[32m[1201 15:35:49 @DATSGAN.py:267]\u001b[0m Loading Preprocessor!\n"
     ]
    },
    {
     "name": "stderr",
     "output_type": "stream",
     "text": [
      "\n",
      "|                                                                                          |17/?[00:00<00:00,58.09it/s]"
     ]
    },
    {
     "name": "stdout",
     "output_type": "stream",
     "text": [
      "\u001b[32m[1201 15:35:49 @DATSGAN.py:267]\u001b[0m Loading Preprocessor!\n"
     ]
    },
    {
     "name": "stderr",
     "output_type": "stream",
     "text": [
      "\n",
      "|                                                                                          |17/?[00:00<00:00,52.33it/s]\n"
     ]
    },
    {
     "name": "stdout",
     "output_type": "stream",
     "text": [
      "Sampling synthetic data from model \u001b[1mWGGP_WI_01\u001b[0m (46/55)\n",
      "\u001b[32m[1201 15:35:55 @DATSGANModel.py:213]\u001b[0m \u001b[91mCreating cell for age (in-edges: 0; ancestors: 0)\n",
      "\u001b[32m[1201 15:35:55 @DATSGANModel.py:213]\u001b[0m \u001b[91mCreating cell for gender (in-edges: 0; ancestors: 0)\n",
      "\u001b[32m[1201 15:35:55 @DATSGANModel.py:213]\u001b[0m \u001b[91mCreating cell for travel_dow (in-edges: 0; ancestors: 0)\n",
      "\u001b[32m[1201 15:35:56 @DATSGANModel.py:213]\u001b[0m \u001b[91mCreating cell for license (in-edges: 1; ancestors: 1)\n",
      "\u001b[32m[1201 15:35:56 @DATSGANModel.py:213]\u001b[0m \u001b[91mCreating cell for education_level (in-edges: 1; ancestors: 1)\n",
      "\u001b[32m[1201 15:35:56 @DATSGANModel.py:213]\u001b[0m \u001b[91mCreating cell for work_status (in-edges: 2; ancestors: 3)\n",
      "\u001b[32m[1201 15:35:56 @DATSGANModel.py:213]\u001b[0m \u001b[91mCreating cell for hh_income (in-edges: 2; ancestors: 4)\n",
      "\u001b[32m[1201 15:35:56 @DATSGANModel.py:213]\u001b[0m \u001b[91mCreating cell for trip_purpose (in-edges: 1; ancestors: 4)\n",
      "\u001b[32m[1201 15:35:56 @DATSGANModel.py:213]\u001b[0m \u001b[91mCreating cell for hh_descr (in-edges: 2; ancestors: 5)\n",
      "\u001b[32m[1201 15:35:56 @DATSGANModel.py:213]\u001b[0m \u001b[91mCreating cell for hh_size (in-edges: 3; ancestors: 5)\n",
      "\u001b[32m[1201 15:35:56 @DATSGANModel.py:213]\u001b[0m \u001b[91mCreating cell for departure_time (in-edges: 1; ancestors: 5)\n",
      "\u001b[32m[1201 15:35:56 @DATSGANModel.py:213]\u001b[0m \u001b[91mCreating cell for distance (in-edges: 1; ancestors: 5)\n",
      "\u001b[32m[1201 15:35:56 @DATSGANModel.py:213]\u001b[0m \u001b[91mCreating cell for hh_vehicles (in-edges: 2; ancestors: 6)\n",
      "\u001b[32m[1201 15:35:56 @DATSGANModel.py:213]\u001b[0m \u001b[91mCreating cell for hh_bikes (in-edges: 2; ancestors: 6)\n",
      "\u001b[32m[1201 15:35:57 @DATSGANModel.py:213]\u001b[0m \u001b[91mCreating cell for choice (in-edges: 7; ancestors: 13)\n",
      "\u001b[32m[1201 15:35:57 @sessinit.py:87]\u001b[0m \u001b[5m\u001b[31mWRN\u001b[0m The following variables are in the checkpoint, but not found in the graph: global_step, optimize/beta1_power, optimize/beta2_power\n",
      "INFO:tensorflow:Graph was finalized.\n",
      "INFO:tensorflow:Running local_init_op.\n",
      "INFO:tensorflow:Done running local_init_op.\n",
      "\u001b[32m[1201 15:35:58 @sessinit.py:114]\u001b[0m Restoring checkpoint from ../output/Chicago/WGGP_WI_01/model\\model-20399 ...\n",
      "INFO:tensorflow:Restoring parameters from ../output/Chicago/WGGP_WI_01/model\\model-20399\n",
      "\u001b[32m[1201 15:35:58 @DATSGAN.py:267]\u001b[0m Loading Preprocessor!\n"
     ]
    },
    {
     "name": "stderr",
     "output_type": "stream",
     "text": [
      "|                                                                                          |17/?[00:00<00:00,30.25it/s]"
     ]
    },
    {
     "name": "stdout",
     "output_type": "stream",
     "text": [
      "\u001b[32m[1201 15:35:59 @DATSGAN.py:267]\u001b[0m Loading Preprocessor!\n"
     ]
    },
    {
     "name": "stderr",
     "output_type": "stream",
     "text": [
      "\n",
      "|                                                                                          |17/?[00:00<00:00,51.62it/s]"
     ]
    },
    {
     "name": "stdout",
     "output_type": "stream",
     "text": [
      "\u001b[32m[1201 15:35:59 @DATSGAN.py:267]\u001b[0m Loading Preprocessor!\n"
     ]
    },
    {
     "name": "stderr",
     "output_type": "stream",
     "text": [
      "\n",
      "|                                                                                          |17/?[00:00<00:00,54.93it/s]"
     ]
    },
    {
     "name": "stdout",
     "output_type": "stream",
     "text": [
      "\u001b[32m[1201 15:36:00 @DATSGAN.py:267]\u001b[0m Loading Preprocessor!\n"
     ]
    },
    {
     "name": "stderr",
     "output_type": "stream",
     "text": [
      "\n",
      "|                                                                                          |17/?[00:00<00:00,55.82it/s]"
     ]
    },
    {
     "name": "stdout",
     "output_type": "stream",
     "text": [
      "\u001b[32m[1201 15:36:00 @DATSGAN.py:267]\u001b[0m Loading Preprocessor!\n"
     ]
    },
    {
     "name": "stderr",
     "output_type": "stream",
     "text": [
      "\n",
      "|                                                                                          |17/?[00:00<00:00,55.55it/s]"
     ]
    },
    {
     "name": "stdout",
     "output_type": "stream",
     "text": [
      "\u001b[32m[1201 15:36:00 @DATSGAN.py:267]\u001b[0m Loading Preprocessor!\n"
     ]
    },
    {
     "name": "stderr",
     "output_type": "stream",
     "text": [
      "\n",
      "|                                                                                          |17/?[00:00<00:00,59.09it/s]"
     ]
    },
    {
     "name": "stdout",
     "output_type": "stream",
     "text": [
      "\u001b[32m[1201 15:36:01 @DATSGAN.py:267]\u001b[0m Loading Preprocessor!\n"
     ]
    },
    {
     "name": "stderr",
     "output_type": "stream",
     "text": [
      "\n",
      "|                                                                                          |17/?[00:00<00:00,51.00it/s]"
     ]
    },
    {
     "name": "stdout",
     "output_type": "stream",
     "text": [
      "\u001b[32m[1201 15:36:01 @DATSGAN.py:267]\u001b[0m Loading Preprocessor!\n"
     ]
    },
    {
     "name": "stderr",
     "output_type": "stream",
     "text": [
      "\n",
      "|                                                                                          |17/?[00:00<00:00,57.31it/s]"
     ]
    },
    {
     "name": "stdout",
     "output_type": "stream",
     "text": [
      "\u001b[32m[1201 15:36:01 @DATSGAN.py:267]\u001b[0m Loading Preprocessor!\n"
     ]
    },
    {
     "name": "stderr",
     "output_type": "stream",
     "text": [
      "\n",
      "|                                                                                          |17/?[00:00<00:00,53.22it/s]"
     ]
    },
    {
     "name": "stdout",
     "output_type": "stream",
     "text": [
      "\u001b[32m[1201 15:36:02 @DATSGAN.py:267]\u001b[0m Loading Preprocessor!\n"
     ]
    },
    {
     "name": "stderr",
     "output_type": "stream",
     "text": [
      "\n",
      "|                                                                                          |17/?[00:00<00:00,59.82it/s]"
     ]
    },
    {
     "name": "stdout",
     "output_type": "stream",
     "text": [
      "\u001b[32m[1201 15:36:02 @DATSGAN.py:267]\u001b[0m Loading Preprocessor!\n"
     ]
    },
    {
     "name": "stderr",
     "output_type": "stream",
     "text": [
      "\n",
      "|                                                                                          |17/?[00:00<00:00,50.70it/s]"
     ]
    },
    {
     "name": "stdout",
     "output_type": "stream",
     "text": [
      "\u001b[32m[1201 15:36:03 @DATSGAN.py:267]\u001b[0m Loading Preprocessor!\n"
     ]
    },
    {
     "name": "stderr",
     "output_type": "stream",
     "text": [
      "\n",
      "|                                                                                          |17/?[00:00<00:00,62.77it/s]"
     ]
    },
    {
     "name": "stdout",
     "output_type": "stream",
     "text": [
      "\u001b[32m[1201 15:36:03 @DATSGAN.py:267]\u001b[0m Loading Preprocessor!\n"
     ]
    },
    {
     "name": "stderr",
     "output_type": "stream",
     "text": [
      "\n",
      "|                                                                                          |17/?[00:00<00:00,51.39it/s]"
     ]
    },
    {
     "name": "stdout",
     "output_type": "stream",
     "text": [
      "\u001b[32m[1201 15:36:03 @DATSGAN.py:267]\u001b[0m Loading Preprocessor!\n"
     ]
    },
    {
     "name": "stderr",
     "output_type": "stream",
     "text": [
      "\n",
      "|                                                                                          |17/?[00:00<00:00,61.76it/s]"
     ]
    },
    {
     "name": "stdout",
     "output_type": "stream",
     "text": [
      "\u001b[32m[1201 15:36:04 @DATSGAN.py:267]\u001b[0m Loading Preprocessor!\n"
     ]
    },
    {
     "name": "stderr",
     "output_type": "stream",
     "text": [
      "\n",
      "|                                                                                          |17/?[00:00<00:00,50.40it/s]\n"
     ]
    },
    {
     "name": "stdout",
     "output_type": "stream",
     "text": [
      "Sampling synthetic data from model \u001b[1mWGGP_WI_02\u001b[0m (47/55)\n",
      "\u001b[32m[1201 15:36:10 @DATSGANModel.py:213]\u001b[0m \u001b[91mCreating cell for age (in-edges: 0; ancestors: 0)\n",
      "\u001b[32m[1201 15:36:10 @DATSGANModel.py:213]\u001b[0m \u001b[91mCreating cell for gender (in-edges: 0; ancestors: 0)\n",
      "\u001b[32m[1201 15:36:10 @DATSGANModel.py:213]\u001b[0m \u001b[91mCreating cell for travel_dow (in-edges: 0; ancestors: 0)\n",
      "\u001b[32m[1201 15:36:10 @DATSGANModel.py:213]\u001b[0m \u001b[91mCreating cell for license (in-edges: 1; ancestors: 1)\n",
      "\u001b[32m[1201 15:36:10 @DATSGANModel.py:213]\u001b[0m \u001b[91mCreating cell for education_level (in-edges: 1; ancestors: 1)\n",
      "\u001b[32m[1201 15:36:10 @DATSGANModel.py:213]\u001b[0m \u001b[91mCreating cell for work_status (in-edges: 2; ancestors: 3)\n",
      "\u001b[32m[1201 15:36:10 @DATSGANModel.py:213]\u001b[0m \u001b[91mCreating cell for hh_income (in-edges: 2; ancestors: 4)\n",
      "\u001b[32m[1201 15:36:11 @DATSGANModel.py:213]\u001b[0m \u001b[91mCreating cell for trip_purpose (in-edges: 1; ancestors: 4)\n",
      "\u001b[32m[1201 15:36:11 @DATSGANModel.py:213]\u001b[0m \u001b[91mCreating cell for hh_descr (in-edges: 2; ancestors: 5)\n",
      "\u001b[32m[1201 15:36:11 @DATSGANModel.py:213]\u001b[0m \u001b[91mCreating cell for hh_size (in-edges: 3; ancestors: 5)\n",
      "\u001b[32m[1201 15:36:11 @DATSGANModel.py:213]\u001b[0m \u001b[91mCreating cell for departure_time (in-edges: 1; ancestors: 5)\n",
      "\u001b[32m[1201 15:36:11 @DATSGANModel.py:213]\u001b[0m \u001b[91mCreating cell for distance (in-edges: 1; ancestors: 5)\n",
      "\u001b[32m[1201 15:36:11 @DATSGANModel.py:213]\u001b[0m \u001b[91mCreating cell for hh_vehicles (in-edges: 2; ancestors: 6)\n",
      "\u001b[32m[1201 15:36:11 @DATSGANModel.py:213]\u001b[0m \u001b[91mCreating cell for hh_bikes (in-edges: 2; ancestors: 6)\n",
      "\u001b[32m[1201 15:36:11 @DATSGANModel.py:213]\u001b[0m \u001b[91mCreating cell for choice (in-edges: 7; ancestors: 13)\n",
      "\u001b[32m[1201 15:36:12 @sessinit.py:87]\u001b[0m \u001b[5m\u001b[31mWRN\u001b[0m The following variables are in the checkpoint, but not found in the graph: global_step, optimize/beta1_power, optimize/beta2_power\n",
      "INFO:tensorflow:Graph was finalized.\n",
      "INFO:tensorflow:Running local_init_op.\n",
      "INFO:tensorflow:Done running local_init_op.\n",
      "\u001b[32m[1201 15:36:13 @sessinit.py:114]\u001b[0m Restoring checkpoint from ../output/Chicago/WGGP_WI_02/model\\model-20399 ...\n",
      "INFO:tensorflow:Restoring parameters from ../output/Chicago/WGGP_WI_02/model\\model-20399\n",
      "\u001b[32m[1201 15:36:13 @DATSGAN.py:267]\u001b[0m Loading Preprocessor!\n"
     ]
    },
    {
     "name": "stderr",
     "output_type": "stream",
     "text": [
      "|                                                                                          |17/?[00:00<00:00,35.08it/s]"
     ]
    },
    {
     "name": "stdout",
     "output_type": "stream",
     "text": [
      "\u001b[32m[1201 15:36:13 @DATSGAN.py:267]\u001b[0m Loading Preprocessor!\n"
     ]
    },
    {
     "name": "stderr",
     "output_type": "stream",
     "text": [
      "\n",
      "|                                                                                          |17/?[00:00<00:00,50.63it/s]"
     ]
    },
    {
     "name": "stdout",
     "output_type": "stream",
     "text": [
      "\u001b[32m[1201 15:36:14 @DATSGAN.py:267]\u001b[0m Loading Preprocessor!\n"
     ]
    },
    {
     "name": "stderr",
     "output_type": "stream",
     "text": [
      "\n",
      "|                                                                                          |17/?[00:00<00:00,60.45it/s]"
     ]
    },
    {
     "name": "stdout",
     "output_type": "stream",
     "text": [
      "\u001b[32m[1201 15:36:14 @DATSGAN.py:267]\u001b[0m Loading Preprocessor!\n"
     ]
    },
    {
     "name": "stderr",
     "output_type": "stream",
     "text": [
      "\n",
      "|                                                                                          |17/?[00:00<00:00,52.09it/s]"
     ]
    },
    {
     "name": "stdout",
     "output_type": "stream",
     "text": [
      "\u001b[32m[1201 15:36:14 @DATSGAN.py:267]\u001b[0m Loading Preprocessor!\n"
     ]
    },
    {
     "name": "stderr",
     "output_type": "stream",
     "text": [
      "\n",
      "|                                                                                          |17/?[00:00<00:00,56.75it/s]"
     ]
    },
    {
     "name": "stdout",
     "output_type": "stream",
     "text": [
      "\u001b[32m[1201 15:36:15 @DATSGAN.py:267]\u001b[0m Loading Preprocessor!\n"
     ]
    },
    {
     "name": "stderr",
     "output_type": "stream",
     "text": [
      "\n",
      "|                                                                                          |17/?[00:00<00:00,53.47it/s]"
     ]
    },
    {
     "name": "stdout",
     "output_type": "stream",
     "text": [
      "\u001b[32m[1201 15:36:15 @DATSGAN.py:267]\u001b[0m Loading Preprocessor!\n"
     ]
    },
    {
     "name": "stderr",
     "output_type": "stream",
     "text": [
      "\n",
      "|                                                                                          |17/?[00:00<00:00,53.89it/s]"
     ]
    },
    {
     "name": "stdout",
     "output_type": "stream",
     "text": [
      "\u001b[32m[1201 15:36:16 @DATSGAN.py:267]\u001b[0m Loading Preprocessor!\n"
     ]
    },
    {
     "name": "stderr",
     "output_type": "stream",
     "text": [
      "\n",
      "|                                                                                          |17/?[00:00<00:00,51.77it/s]"
     ]
    },
    {
     "name": "stdout",
     "output_type": "stream",
     "text": [
      "\u001b[32m[1201 15:36:16 @DATSGAN.py:267]\u001b[0m Loading Preprocessor!\n"
     ]
    },
    {
     "name": "stderr",
     "output_type": "stream",
     "text": [
      "\n",
      "|                                                                                          |17/?[00:00<00:00,55.46it/s]"
     ]
    },
    {
     "name": "stdout",
     "output_type": "stream",
     "text": [
      "\u001b[32m[1201 15:36:16 @DATSGAN.py:267]\u001b[0m Loading Preprocessor!\n"
     ]
    },
    {
     "name": "stderr",
     "output_type": "stream",
     "text": [
      "\n",
      "|                                                                                          |17/?[00:00<00:00,54.49it/s]"
     ]
    },
    {
     "name": "stdout",
     "output_type": "stream",
     "text": [
      "\u001b[32m[1201 15:36:17 @DATSGAN.py:267]\u001b[0m Loading Preprocessor!\n"
     ]
    },
    {
     "name": "stderr",
     "output_type": "stream",
     "text": [
      "\n",
      "|                                                                                          |17/?[00:00<00:00,55.64it/s]"
     ]
    },
    {
     "name": "stdout",
     "output_type": "stream",
     "text": [
      "\u001b[32m[1201 15:36:17 @DATSGAN.py:267]\u001b[0m Loading Preprocessor!\n"
     ]
    },
    {
     "name": "stderr",
     "output_type": "stream",
     "text": [
      "\n",
      "|                                                                                          |17/?[00:00<00:00,53.39it/s]"
     ]
    },
    {
     "name": "stdout",
     "output_type": "stream",
     "text": [
      "\u001b[32m[1201 15:36:18 @DATSGAN.py:267]\u001b[0m Loading Preprocessor!\n"
     ]
    },
    {
     "name": "stderr",
     "output_type": "stream",
     "text": [
      "\n",
      "|                                                                                          |17/?[00:00<00:00,54.66it/s]"
     ]
    },
    {
     "name": "stdout",
     "output_type": "stream",
     "text": [
      "\u001b[32m[1201 15:36:18 @DATSGAN.py:267]\u001b[0m Loading Preprocessor!\n"
     ]
    },
    {
     "name": "stderr",
     "output_type": "stream",
     "text": [
      "\n",
      "|                                                                                          |17/?[00:00<00:00,51.77it/s]"
     ]
    },
    {
     "name": "stdout",
     "output_type": "stream",
     "text": [
      "\u001b[32m[1201 15:36:18 @DATSGAN.py:267]\u001b[0m Loading Preprocessor!\n"
     ]
    },
    {
     "name": "stderr",
     "output_type": "stream",
     "text": [
      "\n",
      "|                                                                                          |17/?[00:00<00:00,57.03it/s]\n"
     ]
    },
    {
     "name": "stdout",
     "output_type": "stream",
     "text": [
      "Sampling synthetic data from model \u001b[1mWGGP_WI_03\u001b[0m (48/55)\n",
      "\u001b[32m[1201 15:36:25 @DATSGANModel.py:213]\u001b[0m \u001b[91mCreating cell for age (in-edges: 0; ancestors: 0)\n",
      "\u001b[32m[1201 15:36:25 @DATSGANModel.py:213]\u001b[0m \u001b[91mCreating cell for gender (in-edges: 0; ancestors: 0)\n",
      "\u001b[32m[1201 15:36:25 @DATSGANModel.py:213]\u001b[0m \u001b[91mCreating cell for travel_dow (in-edges: 0; ancestors: 0)\n",
      "\u001b[32m[1201 15:36:25 @DATSGANModel.py:213]\u001b[0m \u001b[91mCreating cell for license (in-edges: 1; ancestors: 1)\n",
      "\u001b[32m[1201 15:36:25 @DATSGANModel.py:213]\u001b[0m \u001b[91mCreating cell for education_level (in-edges: 1; ancestors: 1)\n",
      "\u001b[32m[1201 15:36:25 @DATSGANModel.py:213]\u001b[0m \u001b[91mCreating cell for work_status (in-edges: 2; ancestors: 3)\n",
      "\u001b[32m[1201 15:36:25 @DATSGANModel.py:213]\u001b[0m \u001b[91mCreating cell for hh_income (in-edges: 2; ancestors: 4)\n",
      "\u001b[32m[1201 15:36:25 @DATSGANModel.py:213]\u001b[0m \u001b[91mCreating cell for trip_purpose (in-edges: 1; ancestors: 4)\n",
      "\u001b[32m[1201 15:36:25 @DATSGANModel.py:213]\u001b[0m \u001b[91mCreating cell for hh_descr (in-edges: 2; ancestors: 5)\n",
      "\u001b[32m[1201 15:36:25 @DATSGANModel.py:213]\u001b[0m \u001b[91mCreating cell for hh_size (in-edges: 3; ancestors: 5)\n",
      "\u001b[32m[1201 15:36:26 @DATSGANModel.py:213]\u001b[0m \u001b[91mCreating cell for departure_time (in-edges: 1; ancestors: 5)\n",
      "\u001b[32m[1201 15:36:26 @DATSGANModel.py:213]\u001b[0m \u001b[91mCreating cell for distance (in-edges: 1; ancestors: 5)\n",
      "\u001b[32m[1201 15:36:26 @DATSGANModel.py:213]\u001b[0m \u001b[91mCreating cell for hh_vehicles (in-edges: 2; ancestors: 6)\n",
      "\u001b[32m[1201 15:36:26 @DATSGANModel.py:213]\u001b[0m \u001b[91mCreating cell for hh_bikes (in-edges: 2; ancestors: 6)\n",
      "\u001b[32m[1201 15:36:26 @DATSGANModel.py:213]\u001b[0m \u001b[91mCreating cell for choice (in-edges: 7; ancestors: 13)\n",
      "\u001b[32m[1201 15:36:26 @sessinit.py:87]\u001b[0m \u001b[5m\u001b[31mWRN\u001b[0m The following variables are in the checkpoint, but not found in the graph: global_step, optimize/beta1_power, optimize/beta2_power\n",
      "INFO:tensorflow:Graph was finalized.\n",
      "INFO:tensorflow:Running local_init_op.\n",
      "INFO:tensorflow:Done running local_init_op.\n",
      "\u001b[32m[1201 15:36:27 @sessinit.py:114]\u001b[0m Restoring checkpoint from ../output/Chicago/WGGP_WI_03/model\\model-20399 ...\n",
      "INFO:tensorflow:Restoring parameters from ../output/Chicago/WGGP_WI_03/model\\model-20399\n",
      "\u001b[32m[1201 15:36:28 @DATSGAN.py:267]\u001b[0m Loading Preprocessor!\n"
     ]
    },
    {
     "name": "stderr",
     "output_type": "stream",
     "text": [
      "|                                                                                          |17/?[00:00<00:00,33.41it/s]"
     ]
    },
    {
     "name": "stdout",
     "output_type": "stream",
     "text": [
      "\u001b[32m[1201 15:36:28 @DATSGAN.py:267]\u001b[0m Loading Preprocessor!\n"
     ]
    },
    {
     "name": "stderr",
     "output_type": "stream",
     "text": [
      "\n",
      "|                                                                                          |17/?[00:00<00:00,52.01it/s]"
     ]
    },
    {
     "name": "stdout",
     "output_type": "stream",
     "text": [
      "\u001b[32m[1201 15:36:29 @DATSGAN.py:267]\u001b[0m Loading Preprocessor!\n"
     ]
    },
    {
     "name": "stderr",
     "output_type": "stream",
     "text": [
      "\n",
      "|                                                                                          |17/?[00:00<00:00,65.79it/s]"
     ]
    },
    {
     "name": "stdout",
     "output_type": "stream",
     "text": [
      "\u001b[32m[1201 15:36:29 @DATSGAN.py:267]\u001b[0m Loading Preprocessor!\n"
     ]
    },
    {
     "name": "stderr",
     "output_type": "stream",
     "text": [
      "\n",
      "|                                                                                          |17/?[00:00<00:00,52.97it/s]"
     ]
    },
    {
     "name": "stdout",
     "output_type": "stream",
     "text": [
      "\u001b[32m[1201 15:36:29 @DATSGAN.py:267]\u001b[0m Loading Preprocessor!\n"
     ]
    },
    {
     "name": "stderr",
     "output_type": "stream",
     "text": [
      "\n",
      "|                                                                                          |17/?[00:00<00:00,68.00it/s]"
     ]
    },
    {
     "name": "stdout",
     "output_type": "stream",
     "text": [
      "\u001b[32m[1201 15:36:30 @DATSGAN.py:267]\u001b[0m Loading Preprocessor!\n"
     ]
    },
    {
     "name": "stderr",
     "output_type": "stream",
     "text": [
      "\n",
      "|                                                                                          |17/?[00:00<00:00,53.22it/s]"
     ]
    },
    {
     "name": "stdout",
     "output_type": "stream",
     "text": [
      "\u001b[32m[1201 15:36:30 @DATSGAN.py:267]\u001b[0m Loading Preprocessor!\n"
     ]
    },
    {
     "name": "stderr",
     "output_type": "stream",
     "text": [
      "\n",
      "|                                                                                          |17/?[00:00<00:00,64.43it/s]"
     ]
    },
    {
     "name": "stdout",
     "output_type": "stream",
     "text": [
      "\u001b[32m[1201 15:36:30 @DATSGAN.py:267]\u001b[0m Loading Preprocessor!\n"
     ]
    },
    {
     "name": "stderr",
     "output_type": "stream",
     "text": [
      "\n",
      "|                                                                                          |17/?[00:00<00:00,52.25it/s]"
     ]
    },
    {
     "name": "stdout",
     "output_type": "stream",
     "text": [
      "\u001b[32m[1201 15:36:31 @DATSGAN.py:267]\u001b[0m Loading Preprocessor!\n"
     ]
    },
    {
     "name": "stderr",
     "output_type": "stream",
     "text": [
      "\n",
      "|                                                                                          |17/?[00:00<00:00,64.43it/s]"
     ]
    },
    {
     "name": "stdout",
     "output_type": "stream",
     "text": [
      "\u001b[32m[1201 15:36:31 @DATSGAN.py:267]\u001b[0m Loading Preprocessor!\n"
     ]
    },
    {
     "name": "stderr",
     "output_type": "stream",
     "text": [
      "\n",
      "|                                                                                          |17/?[00:00<00:00,52.57it/s]"
     ]
    },
    {
     "name": "stdout",
     "output_type": "stream",
     "text": [
      "\u001b[32m[1201 15:36:31 @DATSGAN.py:267]\u001b[0m Loading Preprocessor!\n"
     ]
    },
    {
     "name": "stderr",
     "output_type": "stream",
     "text": [
      "\n",
      "|                                                                                          |17/?[00:00<00:00,61.42it/s]"
     ]
    },
    {
     "name": "stdout",
     "output_type": "stream",
     "text": [
      "\u001b[32m[1201 15:36:32 @DATSGAN.py:267]\u001b[0m Loading Preprocessor!\n"
     ]
    },
    {
     "name": "stderr",
     "output_type": "stream",
     "text": [
      "\n",
      "|                                                                                          |17/?[00:00<00:00,52.09it/s]"
     ]
    },
    {
     "name": "stdout",
     "output_type": "stream",
     "text": [
      "\u001b[32m[1201 15:36:32 @DATSGAN.py:267]\u001b[0m Loading Preprocessor!\n"
     ]
    },
    {
     "name": "stderr",
     "output_type": "stream",
     "text": [
      "\n",
      "|                                                                                          |17/?[00:00<00:00,55.28it/s]"
     ]
    },
    {
     "name": "stdout",
     "output_type": "stream",
     "text": [
      "\u001b[32m[1201 15:36:32 @DATSGAN.py:267]\u001b[0m Loading Preprocessor!\n"
     ]
    },
    {
     "name": "stderr",
     "output_type": "stream",
     "text": [
      "\n",
      "|                                                                                          |17/?[00:00<00:00,52.57it/s]"
     ]
    },
    {
     "name": "stdout",
     "output_type": "stream",
     "text": [
      "\u001b[32m[1201 15:36:33 @DATSGAN.py:267]\u001b[0m Loading Preprocessor!\n"
     ]
    },
    {
     "name": "stderr",
     "output_type": "stream",
     "text": [
      "\n",
      "|                                                                                          |17/?[00:00<00:00,54.93it/s]\n"
     ]
    },
    {
     "name": "stdout",
     "output_type": "stream",
     "text": [
      "Sampling synthetic data from model \u001b[1mWGGP_WI_04\u001b[0m (49/55)\n",
      "\u001b[32m[1201 15:36:39 @DATSGANModel.py:213]\u001b[0m \u001b[91mCreating cell for age (in-edges: 0; ancestors: 0)\n",
      "\u001b[32m[1201 15:36:39 @DATSGANModel.py:213]\u001b[0m \u001b[91mCreating cell for gender (in-edges: 0; ancestors: 0)\n",
      "\u001b[32m[1201 15:36:39 @DATSGANModel.py:213]\u001b[0m \u001b[91mCreating cell for travel_dow (in-edges: 0; ancestors: 0)\n",
      "\u001b[32m[1201 15:36:39 @DATSGANModel.py:213]\u001b[0m \u001b[91mCreating cell for license (in-edges: 1; ancestors: 1)\n",
      "\u001b[32m[1201 15:36:39 @DATSGANModel.py:213]\u001b[0m \u001b[91mCreating cell for education_level (in-edges: 1; ancestors: 1)\n",
      "\u001b[32m[1201 15:36:40 @DATSGANModel.py:213]\u001b[0m \u001b[91mCreating cell for work_status (in-edges: 2; ancestors: 3)\n",
      "\u001b[32m[1201 15:36:40 @DATSGANModel.py:213]\u001b[0m \u001b[91mCreating cell for hh_income (in-edges: 2; ancestors: 4)\n",
      "\u001b[32m[1201 15:36:40 @DATSGANModel.py:213]\u001b[0m \u001b[91mCreating cell for trip_purpose (in-edges: 1; ancestors: 4)\n",
      "\u001b[32m[1201 15:36:40 @DATSGANModel.py:213]\u001b[0m \u001b[91mCreating cell for hh_descr (in-edges: 2; ancestors: 5)\n",
      "\u001b[32m[1201 15:36:40 @DATSGANModel.py:213]\u001b[0m \u001b[91mCreating cell for hh_size (in-edges: 3; ancestors: 5)\n",
      "\u001b[32m[1201 15:36:40 @DATSGANModel.py:213]\u001b[0m \u001b[91mCreating cell for departure_time (in-edges: 1; ancestors: 5)\n",
      "\u001b[32m[1201 15:36:40 @DATSGANModel.py:213]\u001b[0m \u001b[91mCreating cell for distance (in-edges: 1; ancestors: 5)\n",
      "\u001b[32m[1201 15:36:40 @DATSGANModel.py:213]\u001b[0m \u001b[91mCreating cell for hh_vehicles (in-edges: 2; ancestors: 6)\n",
      "\u001b[32m[1201 15:36:40 @DATSGANModel.py:213]\u001b[0m \u001b[91mCreating cell for hh_bikes (in-edges: 2; ancestors: 6)\n",
      "\u001b[32m[1201 15:36:40 @DATSGANModel.py:213]\u001b[0m \u001b[91mCreating cell for choice (in-edges: 7; ancestors: 13)\n",
      "\u001b[32m[1201 15:36:41 @sessinit.py:87]\u001b[0m \u001b[5m\u001b[31mWRN\u001b[0m The following variables are in the checkpoint, but not found in the graph: global_step, optimize/beta1_power, optimize/beta2_power\n",
      "INFO:tensorflow:Graph was finalized.\n",
      "INFO:tensorflow:Running local_init_op.\n",
      "INFO:tensorflow:Done running local_init_op.\n",
      "\u001b[32m[1201 15:36:42 @sessinit.py:114]\u001b[0m Restoring checkpoint from ../output/Chicago/WGGP_WI_04/model\\model-20399 ...\n",
      "INFO:tensorflow:Restoring parameters from ../output/Chicago/WGGP_WI_04/model\\model-20399\n",
      "\u001b[32m[1201 15:36:42 @DATSGAN.py:267]\u001b[0m Loading Preprocessor!\n"
     ]
    },
    {
     "name": "stderr",
     "output_type": "stream",
     "text": [
      "|                                                                                          |17/?[00:00<00:00,29.29it/s]\n"
     ]
    },
    {
     "name": "stdout",
     "output_type": "stream",
     "text": [
      "\u001b[32m[1201 15:36:43 @DATSGAN.py:267]\u001b[0m Loading Preprocessor!\n"
     ]
    },
    {
     "name": "stderr",
     "output_type": "stream",
     "text": [
      "|                                                                                          |17/?[00:00<00:00,50.18it/s]\n"
     ]
    },
    {
     "name": "stdout",
     "output_type": "stream",
     "text": [
      "\u001b[32m[1201 15:36:43 @DATSGAN.py:267]\u001b[0m Loading Preprocessor!\n"
     ]
    },
    {
     "name": "stderr",
     "output_type": "stream",
     "text": [
      "|                                                                                          |17/?[00:00<00:00,64.30it/s]"
     ]
    },
    {
     "name": "stdout",
     "output_type": "stream",
     "text": [
      "\u001b[32m[1201 15:36:44 @DATSGAN.py:267]\u001b[0m Loading Preprocessor!\n"
     ]
    },
    {
     "name": "stderr",
     "output_type": "stream",
     "text": [
      "\n",
      "|                                                                                          |17/?[00:00<00:00,56.37it/s]\n"
     ]
    },
    {
     "name": "stdout",
     "output_type": "stream",
     "text": [
      "\u001b[32m[1201 15:36:44 @DATSGAN.py:267]\u001b[0m Loading Preprocessor!\n"
     ]
    },
    {
     "name": "stderr",
     "output_type": "stream",
     "text": [
      "|                                                                                          |17/?[00:00<00:00,49.60it/s]\n"
     ]
    },
    {
     "name": "stdout",
     "output_type": "stream",
     "text": [
      "\u001b[32m[1201 15:36:45 @DATSGAN.py:267]\u001b[0m Loading Preprocessor!\n"
     ]
    },
    {
     "name": "stderr",
     "output_type": "stream",
     "text": [
      "|                                                                                          |17/?[00:00<00:00,60.34it/s]\n"
     ]
    },
    {
     "name": "stdout",
     "output_type": "stream",
     "text": [
      "\u001b[32m[1201 15:36:45 @DATSGAN.py:267]\u001b[0m Loading Preprocessor!\n"
     ]
    },
    {
     "name": "stderr",
     "output_type": "stream",
     "text": [
      "|                                                                                          |17/?[00:00<00:00,60.99it/s]\n"
     ]
    },
    {
     "name": "stdout",
     "output_type": "stream",
     "text": [
      "\u001b[32m[1201 15:36:46 @DATSGAN.py:267]\u001b[0m Loading Preprocessor!\n"
     ]
    },
    {
     "name": "stderr",
     "output_type": "stream",
     "text": [
      "|                                                                                          |17/?[00:00<00:00,54.75it/s]\n"
     ]
    },
    {
     "name": "stdout",
     "output_type": "stream",
     "text": [
      "\u001b[32m[1201 15:36:46 @DATSGAN.py:267]\u001b[0m Loading Preprocessor!\n"
     ]
    },
    {
     "name": "stderr",
     "output_type": "stream",
     "text": [
      "|                                                                                          |17/?[00:00<00:00,56.93it/s]\n"
     ]
    },
    {
     "name": "stdout",
     "output_type": "stream",
     "text": [
      "\u001b[32m[1201 15:36:47 @DATSGAN.py:267]\u001b[0m Loading Preprocessor!\n"
     ]
    },
    {
     "name": "stderr",
     "output_type": "stream",
     "text": [
      "|                                                                                          |17/?[00:00<00:00,63.47it/s]\n"
     ]
    },
    {
     "name": "stdout",
     "output_type": "stream",
     "text": [
      "\u001b[32m[1201 15:36:47 @DATSGAN.py:267]\u001b[0m Loading Preprocessor!\n"
     ]
    },
    {
     "name": "stderr",
     "output_type": "stream",
     "text": [
      "|                                                                                          |17/?[00:00<00:00,49.96it/s]\n"
     ]
    },
    {
     "name": "stdout",
     "output_type": "stream",
     "text": [
      "\u001b[32m[1201 15:36:48 @DATSGAN.py:267]\u001b[0m Loading Preprocessor!\n"
     ]
    },
    {
     "name": "stderr",
     "output_type": "stream",
     "text": [
      "|                                                                                          |17/?[00:00<00:00,52.49it/s]\n"
     ]
    },
    {
     "name": "stdout",
     "output_type": "stream",
     "text": [
      "\u001b[32m[1201 15:36:48 @DATSGAN.py:267]\u001b[0m Loading Preprocessor!\n"
     ]
    },
    {
     "name": "stderr",
     "output_type": "stream",
     "text": [
      "|                                                                                          |17/?[00:00<00:00,66.04it/s]\n"
     ]
    },
    {
     "name": "stdout",
     "output_type": "stream",
     "text": [
      "\u001b[32m[1201 15:36:49 @DATSGAN.py:267]\u001b[0m Loading Preprocessor!\n"
     ]
    },
    {
     "name": "stderr",
     "output_type": "stream",
     "text": [
      "|                                                                                          |17/?[00:00<00:00,57.51it/s]"
     ]
    },
    {
     "name": "stdout",
     "output_type": "stream",
     "text": [
      "\u001b[32m[1201 15:36:49 @DATSGAN.py:267]\u001b[0m Loading Preprocessor!\n"
     ]
    },
    {
     "name": "stderr",
     "output_type": "stream",
     "text": [
      "\n",
      "|                                                                                          |17/?[00:00<00:00,51.23it/s]\n"
     ]
    },
    {
     "name": "stdout",
     "output_type": "stream",
     "text": [
      "Sampling synthetic data from model \u001b[1mWGGP_WI_05\u001b[0m (50/55)\n",
      "\u001b[32m[1201 15:36:56 @DATSGANModel.py:213]\u001b[0m \u001b[91mCreating cell for age (in-edges: 0; ancestors: 0)\n",
      "\u001b[32m[1201 15:36:56 @DATSGANModel.py:213]\u001b[0m \u001b[91mCreating cell for gender (in-edges: 0; ancestors: 0)\n",
      "\u001b[32m[1201 15:36:56 @DATSGANModel.py:213]\u001b[0m \u001b[91mCreating cell for travel_dow (in-edges: 0; ancestors: 0)\n",
      "\u001b[32m[1201 15:36:56 @DATSGANModel.py:213]\u001b[0m \u001b[91mCreating cell for license (in-edges: 1; ancestors: 1)\n",
      "\u001b[32m[1201 15:36:56 @DATSGANModel.py:213]\u001b[0m \u001b[91mCreating cell for education_level (in-edges: 1; ancestors: 1)\n",
      "\u001b[32m[1201 15:36:56 @DATSGANModel.py:213]\u001b[0m \u001b[91mCreating cell for work_status (in-edges: 2; ancestors: 3)\n",
      "\u001b[32m[1201 15:36:56 @DATSGANModel.py:213]\u001b[0m \u001b[91mCreating cell for hh_income (in-edges: 2; ancestors: 4)\n",
      "\u001b[32m[1201 15:36:56 @DATSGANModel.py:213]\u001b[0m \u001b[91mCreating cell for trip_purpose (in-edges: 1; ancestors: 4)\n",
      "\u001b[32m[1201 15:36:56 @DATSGANModel.py:213]\u001b[0m \u001b[91mCreating cell for hh_descr (in-edges: 2; ancestors: 5)\n",
      "\u001b[32m[1201 15:36:57 @DATSGANModel.py:213]\u001b[0m \u001b[91mCreating cell for hh_size (in-edges: 3; ancestors: 5)\n",
      "\u001b[32m[1201 15:36:57 @DATSGANModel.py:213]\u001b[0m \u001b[91mCreating cell for departure_time (in-edges: 1; ancestors: 5)\n",
      "\u001b[32m[1201 15:36:57 @DATSGANModel.py:213]\u001b[0m \u001b[91mCreating cell for distance (in-edges: 1; ancestors: 5)\n",
      "\u001b[32m[1201 15:36:57 @DATSGANModel.py:213]\u001b[0m \u001b[91mCreating cell for hh_vehicles (in-edges: 2; ancestors: 6)\n",
      "\u001b[32m[1201 15:36:57 @DATSGANModel.py:213]\u001b[0m \u001b[91mCreating cell for hh_bikes (in-edges: 2; ancestors: 6)\n",
      "\u001b[32m[1201 15:36:57 @DATSGANModel.py:213]\u001b[0m \u001b[91mCreating cell for choice (in-edges: 7; ancestors: 13)\n",
      "\u001b[32m[1201 15:36:57 @sessinit.py:87]\u001b[0m \u001b[5m\u001b[31mWRN\u001b[0m The following variables are in the checkpoint, but not found in the graph: global_step, optimize/beta1_power, optimize/beta2_power\n",
      "INFO:tensorflow:Graph was finalized.\n",
      "INFO:tensorflow:Running local_init_op.\n",
      "INFO:tensorflow:Done running local_init_op.\n",
      "\u001b[32m[1201 15:36:59 @sessinit.py:114]\u001b[0m Restoring checkpoint from ../output/Chicago/WGGP_WI_05/model\\model-20399 ...\n",
      "INFO:tensorflow:Restoring parameters from ../output/Chicago/WGGP_WI_05/model\\model-20399\n",
      "\u001b[32m[1201 15:36:59 @DATSGAN.py:267]\u001b[0m Loading Preprocessor!\n"
     ]
    },
    {
     "name": "stderr",
     "output_type": "stream",
     "text": [
      "|                                                                                          |17/?[00:00<00:00,32.18it/s]"
     ]
    },
    {
     "name": "stdout",
     "output_type": "stream",
     "text": [
      "\u001b[32m[1201 15:36:59 @DATSGAN.py:267]\u001b[0m Loading Preprocessor!\n"
     ]
    },
    {
     "name": "stderr",
     "output_type": "stream",
     "text": [
      "\n",
      "|                                                                                          |17/?[00:00<00:00,52.57it/s]"
     ]
    },
    {
     "name": "stdout",
     "output_type": "stream",
     "text": [
      "\u001b[32m[1201 15:37:00 @DATSGAN.py:267]\u001b[0m Loading Preprocessor!\n"
     ]
    },
    {
     "name": "stderr",
     "output_type": "stream",
     "text": [
      "\n",
      "|                                                                                          |17/?[00:00<00:00,60.34it/s]"
     ]
    },
    {
     "name": "stdout",
     "output_type": "stream",
     "text": [
      "\u001b[32m[1201 15:37:00 @DATSGAN.py:267]\u001b[0m Loading Preprocessor!\n"
     ]
    },
    {
     "name": "stderr",
     "output_type": "stream",
     "text": [
      "\n",
      "|                                                                                          |17/?[00:00<00:00,50.18it/s]"
     ]
    },
    {
     "name": "stdout",
     "output_type": "stream",
     "text": [
      "\u001b[32m[1201 15:37:00 @DATSGAN.py:267]\u001b[0m Loading Preprocessor!\n"
     ]
    },
    {
     "name": "stderr",
     "output_type": "stream",
     "text": [
      "\n",
      "|                                                                                          |17/?[00:00<00:00,65.28it/s]"
     ]
    },
    {
     "name": "stdout",
     "output_type": "stream",
     "text": [
      "\u001b[32m[1201 15:37:01 @DATSGAN.py:267]\u001b[0m Loading Preprocessor!\n"
     ]
    },
    {
     "name": "stderr",
     "output_type": "stream",
     "text": [
      "\n",
      "|                                                                                          |17/?[00:00<00:00,50.93it/s]"
     ]
    },
    {
     "name": "stdout",
     "output_type": "stream",
     "text": [
      "\u001b[32m[1201 15:37:01 @DATSGAN.py:267]\u001b[0m Loading Preprocessor!\n"
     ]
    },
    {
     "name": "stderr",
     "output_type": "stream",
     "text": [
      "\n",
      "|                                                                                          |17/?[00:00<00:00,65.16it/s]"
     ]
    },
    {
     "name": "stdout",
     "output_type": "stream",
     "text": [
      "\u001b[32m[1201 15:37:02 @DATSGAN.py:267]\u001b[0m Loading Preprocessor!\n"
     ]
    },
    {
     "name": "stderr",
     "output_type": "stream",
     "text": [
      "\n",
      "|                                                                                          |17/?[00:00<00:00,50.33it/s]"
     ]
    },
    {
     "name": "stdout",
     "output_type": "stream",
     "text": [
      "\u001b[32m[1201 15:37:02 @DATSGAN.py:267]\u001b[0m Loading Preprocessor!\n"
     ]
    },
    {
     "name": "stderr",
     "output_type": "stream",
     "text": [
      "\n",
      "|                                                                                          |17/?[00:00<00:00,62.66it/s]"
     ]
    },
    {
     "name": "stdout",
     "output_type": "stream",
     "text": [
      "\u001b[32m[1201 15:37:02 @DATSGAN.py:267]\u001b[0m Loading Preprocessor!\n"
     ]
    },
    {
     "name": "stderr",
     "output_type": "stream",
     "text": [
      "\n",
      "|                                                                                          |17/?[00:00<00:00,49.89it/s]"
     ]
    },
    {
     "name": "stdout",
     "output_type": "stream",
     "text": [
      "\u001b[32m[1201 15:37:03 @DATSGAN.py:267]\u001b[0m Loading Preprocessor!\n"
     ]
    },
    {
     "name": "stderr",
     "output_type": "stream",
     "text": [
      "\n",
      "|                                                                                          |17/?[00:00<00:00,62.09it/s]"
     ]
    },
    {
     "name": "stdout",
     "output_type": "stream",
     "text": [
      "\u001b[32m[1201 15:37:03 @DATSGAN.py:267]\u001b[0m Loading Preprocessor!\n"
     ]
    },
    {
     "name": "stderr",
     "output_type": "stream",
     "text": [
      "\n",
      "|                                                                                          |17/?[00:00<00:00,51.00it/s]"
     ]
    },
    {
     "name": "stdout",
     "output_type": "stream",
     "text": [
      "\u001b[32m[1201 15:37:03 @DATSGAN.py:267]\u001b[0m Loading Preprocessor!\n"
     ]
    },
    {
     "name": "stderr",
     "output_type": "stream",
     "text": [
      "\n",
      "|                                                                                          |17/?[00:00<00:00,59.30it/s]"
     ]
    },
    {
     "name": "stdout",
     "output_type": "stream",
     "text": [
      "\u001b[32m[1201 15:37:04 @DATSGAN.py:267]\u001b[0m Loading Preprocessor!\n"
     ]
    },
    {
     "name": "stderr",
     "output_type": "stream",
     "text": [
      "\n",
      "|                                                                                          |17/?[00:00<00:00,50.48it/s]"
     ]
    },
    {
     "name": "stdout",
     "output_type": "stream",
     "text": [
      "\u001b[32m[1201 15:37:04 @DATSGAN.py:267]\u001b[0m Loading Preprocessor!\n"
     ]
    },
    {
     "name": "stderr",
     "output_type": "stream",
     "text": [
      "\n",
      "|                                                                                          |17/?[00:00<00:00,56.19it/s]\n"
     ]
    },
    {
     "name": "stdout",
     "output_type": "stream",
     "text": [
      "Sampling synthetic data from model \u001b[1mWGGP_WO_01\u001b[0m (51/55)\n",
      "\u001b[32m[1201 15:37:11 @DATSGANModel.py:213]\u001b[0m \u001b[91mCreating cell for age (in-edges: 0; ancestors: 0)\n",
      "\u001b[32m[1201 15:37:11 @DATSGANModel.py:213]\u001b[0m \u001b[91mCreating cell for gender (in-edges: 0; ancestors: 0)\n",
      "\u001b[32m[1201 15:37:11 @DATSGANModel.py:213]\u001b[0m \u001b[91mCreating cell for travel_dow (in-edges: 0; ancestors: 0)\n",
      "\u001b[32m[1201 15:37:11 @DATSGANModel.py:213]\u001b[0m \u001b[91mCreating cell for license (in-edges: 1; ancestors: 1)\n",
      "\u001b[32m[1201 15:37:11 @DATSGANModel.py:213]\u001b[0m \u001b[91mCreating cell for education_level (in-edges: 1; ancestors: 1)\n",
      "\u001b[32m[1201 15:37:11 @DATSGANModel.py:213]\u001b[0m \u001b[91mCreating cell for work_status (in-edges: 2; ancestors: 3)\n",
      "\u001b[32m[1201 15:37:11 @DATSGANModel.py:213]\u001b[0m \u001b[91mCreating cell for hh_income (in-edges: 2; ancestors: 4)\n",
      "\u001b[32m[1201 15:37:11 @DATSGANModel.py:213]\u001b[0m \u001b[91mCreating cell for trip_purpose (in-edges: 1; ancestors: 4)\n",
      "\u001b[32m[1201 15:37:11 @DATSGANModel.py:213]\u001b[0m \u001b[91mCreating cell for hh_descr (in-edges: 2; ancestors: 5)\n",
      "\u001b[32m[1201 15:37:11 @DATSGANModel.py:213]\u001b[0m \u001b[91mCreating cell for hh_size (in-edges: 3; ancestors: 5)\n",
      "\u001b[32m[1201 15:37:11 @DATSGANModel.py:213]\u001b[0m \u001b[91mCreating cell for departure_time (in-edges: 1; ancestors: 5)\n",
      "\u001b[32m[1201 15:37:11 @DATSGANModel.py:213]\u001b[0m \u001b[91mCreating cell for distance (in-edges: 1; ancestors: 5)\n",
      "\u001b[32m[1201 15:37:12 @DATSGANModel.py:213]\u001b[0m \u001b[91mCreating cell for hh_vehicles (in-edges: 2; ancestors: 6)\n",
      "\u001b[32m[1201 15:37:12 @DATSGANModel.py:213]\u001b[0m \u001b[91mCreating cell for hh_bikes (in-edges: 2; ancestors: 6)\n",
      "\u001b[32m[1201 15:37:12 @DATSGANModel.py:213]\u001b[0m \u001b[91mCreating cell for choice (in-edges: 7; ancestors: 13)\n",
      "\u001b[32m[1201 15:37:12 @sessinit.py:87]\u001b[0m \u001b[5m\u001b[31mWRN\u001b[0m The following variables are in the checkpoint, but not found in the graph: global_step, optimize/beta1_power, optimize/beta2_power\n",
      "INFO:tensorflow:Graph was finalized.\n",
      "INFO:tensorflow:Running local_init_op.\n",
      "INFO:tensorflow:Done running local_init_op.\n",
      "\u001b[32m[1201 15:37:13 @sessinit.py:114]\u001b[0m Restoring checkpoint from ../output/Chicago/WGGP_WO_01/model\\model-20399 ...\n",
      "INFO:tensorflow:Restoring parameters from ../output/Chicago/WGGP_WO_01/model\\model-20399\n",
      "\u001b[32m[1201 15:37:13 @DATSGAN.py:267]\u001b[0m Loading Preprocessor!\n"
     ]
    },
    {
     "name": "stderr",
     "output_type": "stream",
     "text": [
      "|                                                                                          |17/?[00:00<00:00,29.57it/s]"
     ]
    },
    {
     "name": "stdout",
     "output_type": "stream",
     "text": [
      "\u001b[32m[1201 15:37:14 @DATSGAN.py:267]\u001b[0m Loading Preprocessor!\n"
     ]
    },
    {
     "name": "stderr",
     "output_type": "stream",
     "text": [
      "\n",
      "|                                                                                          |17/?[00:00<00:00,58.59it/s]"
     ]
    },
    {
     "name": "stdout",
     "output_type": "stream",
     "text": [
      "\u001b[32m[1201 15:37:14 @DATSGAN.py:267]\u001b[0m Loading Preprocessor!\n"
     ]
    },
    {
     "name": "stderr",
     "output_type": "stream",
     "text": [
      "\n",
      "|                                                                                          |17/?[00:00<00:00,51.93it/s]"
     ]
    },
    {
     "name": "stdout",
     "output_type": "stream",
     "text": [
      "\u001b[32m[1201 15:37:15 @DATSGAN.py:267]\u001b[0m Loading Preprocessor!\n"
     ]
    },
    {
     "name": "stderr",
     "output_type": "stream",
     "text": [
      "\n",
      "|                                                                                          |17/?[00:00<00:00,59.71it/s]"
     ]
    },
    {
     "name": "stdout",
     "output_type": "stream",
     "text": [
      "\u001b[32m[1201 15:37:15 @DATSGAN.py:267]\u001b[0m Loading Preprocessor!\n"
     ]
    },
    {
     "name": "stderr",
     "output_type": "stream",
     "text": [
      "\n",
      "|                                                                                          |17/?[00:00<00:00,53.64it/s]"
     ]
    },
    {
     "name": "stdout",
     "output_type": "stream",
     "text": [
      "\u001b[32m[1201 15:37:15 @DATSGAN.py:267]\u001b[0m Loading Preprocessor!\n"
     ]
    },
    {
     "name": "stderr",
     "output_type": "stream",
     "text": [
      "\n",
      "|                                                                                          |17/?[00:00<00:00,61.31it/s]"
     ]
    },
    {
     "name": "stdout",
     "output_type": "stream",
     "text": [
      "\u001b[32m[1201 15:37:16 @DATSGAN.py:267]\u001b[0m Loading Preprocessor!\n"
     ]
    },
    {
     "name": "stderr",
     "output_type": "stream",
     "text": [
      "\n",
      "|                                                                                          |17/?[00:00<00:00,50.48it/s]"
     ]
    },
    {
     "name": "stdout",
     "output_type": "stream",
     "text": [
      "\u001b[32m[1201 15:37:16 @DATSGAN.py:267]\u001b[0m Loading Preprocessor!\n"
     ]
    },
    {
     "name": "stderr",
     "output_type": "stream",
     "text": [
      "\n",
      "|                                                                                          |17/?[00:00<00:00,63.35it/s]"
     ]
    },
    {
     "name": "stdout",
     "output_type": "stream",
     "text": [
      "\u001b[32m[1201 15:37:16 @DATSGAN.py:267]\u001b[0m Loading Preprocessor!\n"
     ]
    },
    {
     "name": "stderr",
     "output_type": "stream",
     "text": [
      "\n",
      "|                                                                                          |17/?[00:00<00:00,52.57it/s]"
     ]
    },
    {
     "name": "stdout",
     "output_type": "stream",
     "text": [
      "\u001b[32m[1201 15:37:17 @DATSGAN.py:267]\u001b[0m Loading Preprocessor!\n"
     ]
    },
    {
     "name": "stderr",
     "output_type": "stream",
     "text": [
      "\n",
      "|                                                                                          |17/?[00:00<00:00,65.66it/s]"
     ]
    },
    {
     "name": "stdout",
     "output_type": "stream",
     "text": [
      "\u001b[32m[1201 15:37:17 @DATSGAN.py:267]\u001b[0m Loading Preprocessor!\n"
     ]
    },
    {
     "name": "stderr",
     "output_type": "stream",
     "text": [
      "\n",
      "|                                                                                          |17/?[00:00<00:00,50.55it/s]"
     ]
    },
    {
     "name": "stdout",
     "output_type": "stream",
     "text": [
      "\u001b[32m[1201 15:37:18 @DATSGAN.py:267]\u001b[0m Loading Preprocessor!\n"
     ]
    },
    {
     "name": "stderr",
     "output_type": "stream",
     "text": [
      "\n",
      "|                                                                                          |17/?[00:00<00:00,64.18it/s]"
     ]
    },
    {
     "name": "stdout",
     "output_type": "stream",
     "text": [
      "\u001b[32m[1201 15:37:18 @DATSGAN.py:267]\u001b[0m Loading Preprocessor!\n"
     ]
    },
    {
     "name": "stderr",
     "output_type": "stream",
     "text": [
      "\n",
      "|                                                                                          |17/?[00:00<00:00,50.78it/s]"
     ]
    },
    {
     "name": "stdout",
     "output_type": "stream",
     "text": [
      "\u001b[32m[1201 15:37:18 @DATSGAN.py:267]\u001b[0m Loading Preprocessor!\n"
     ]
    },
    {
     "name": "stderr",
     "output_type": "stream",
     "text": [
      "\n",
      "|                                                                                          |17/?[00:00<00:00,65.66it/s]"
     ]
    },
    {
     "name": "stdout",
     "output_type": "stream",
     "text": [
      "\u001b[32m[1201 15:37:19 @DATSGAN.py:267]\u001b[0m Loading Preprocessor!\n"
     ]
    },
    {
     "name": "stderr",
     "output_type": "stream",
     "text": [
      "\n",
      "|                                                                                          |17/?[00:00<00:00,52.09it/s]\n"
     ]
    },
    {
     "name": "stdout",
     "output_type": "stream",
     "text": [
      "Sampling synthetic data from model \u001b[1mWGGP_WO_02\u001b[0m (52/55)\n",
      "\u001b[32m[1201 15:37:25 @DATSGANModel.py:213]\u001b[0m \u001b[91mCreating cell for age (in-edges: 0; ancestors: 0)\n",
      "\u001b[32m[1201 15:37:25 @DATSGANModel.py:213]\u001b[0m \u001b[91mCreating cell for gender (in-edges: 0; ancestors: 0)\n",
      "\u001b[32m[1201 15:37:25 @DATSGANModel.py:213]\u001b[0m \u001b[91mCreating cell for travel_dow (in-edges: 0; ancestors: 0)\n",
      "\u001b[32m[1201 15:37:25 @DATSGANModel.py:213]\u001b[0m \u001b[91mCreating cell for license (in-edges: 1; ancestors: 1)\n",
      "\u001b[32m[1201 15:37:25 @DATSGANModel.py:213]\u001b[0m \u001b[91mCreating cell for education_level (in-edges: 1; ancestors: 1)\n",
      "\u001b[32m[1201 15:37:25 @DATSGANModel.py:213]\u001b[0m \u001b[91mCreating cell for work_status (in-edges: 2; ancestors: 3)\n",
      "\u001b[32m[1201 15:37:25 @DATSGANModel.py:213]\u001b[0m \u001b[91mCreating cell for hh_income (in-edges: 2; ancestors: 4)\n",
      "\u001b[32m[1201 15:37:25 @DATSGANModel.py:213]\u001b[0m \u001b[91mCreating cell for trip_purpose (in-edges: 1; ancestors: 4)\n",
      "\u001b[32m[1201 15:37:26 @DATSGANModel.py:213]\u001b[0m \u001b[91mCreating cell for hh_descr (in-edges: 2; ancestors: 5)\n",
      "\u001b[32m[1201 15:37:26 @DATSGANModel.py:213]\u001b[0m \u001b[91mCreating cell for hh_size (in-edges: 3; ancestors: 5)\n",
      "\u001b[32m[1201 15:37:26 @DATSGANModel.py:213]\u001b[0m \u001b[91mCreating cell for departure_time (in-edges: 1; ancestors: 5)\n",
      "\u001b[32m[1201 15:37:26 @DATSGANModel.py:213]\u001b[0m \u001b[91mCreating cell for distance (in-edges: 1; ancestors: 5)\n",
      "\u001b[32m[1201 15:37:26 @DATSGANModel.py:213]\u001b[0m \u001b[91mCreating cell for hh_vehicles (in-edges: 2; ancestors: 6)\n",
      "\u001b[32m[1201 15:37:26 @DATSGANModel.py:213]\u001b[0m \u001b[91mCreating cell for hh_bikes (in-edges: 2; ancestors: 6)\n",
      "\u001b[32m[1201 15:37:26 @DATSGANModel.py:213]\u001b[0m \u001b[91mCreating cell for choice (in-edges: 7; ancestors: 13)\n",
      "\u001b[32m[1201 15:37:26 @sessinit.py:87]\u001b[0m \u001b[5m\u001b[31mWRN\u001b[0m The following variables are in the checkpoint, but not found in the graph: global_step, optimize/beta1_power, optimize/beta2_power\n",
      "INFO:tensorflow:Graph was finalized.\n",
      "INFO:tensorflow:Running local_init_op.\n",
      "INFO:tensorflow:Done running local_init_op.\n",
      "\u001b[32m[1201 15:37:28 @sessinit.py:114]\u001b[0m Restoring checkpoint from ../output/Chicago/WGGP_WO_02/model\\model-20399 ...\n",
      "INFO:tensorflow:Restoring parameters from ../output/Chicago/WGGP_WO_02/model\\model-20399\n",
      "\u001b[32m[1201 15:37:28 @DATSGAN.py:267]\u001b[0m Loading Preprocessor!\n"
     ]
    },
    {
     "name": "stderr",
     "output_type": "stream",
     "text": [
      "|                                                                                          |17/?[00:00<00:00,28.19it/s]"
     ]
    },
    {
     "name": "stdout",
     "output_type": "stream",
     "text": [
      "\u001b[32m[1201 15:37:28 @DATSGAN.py:267]\u001b[0m Loading Preprocessor!\n"
     ]
    },
    {
     "name": "stderr",
     "output_type": "stream",
     "text": [
      "\n",
      "|                                                                                          |17/?[00:00<00:00,54.06it/s]"
     ]
    },
    {
     "name": "stdout",
     "output_type": "stream",
     "text": [
      "\u001b[32m[1201 15:37:29 @DATSGAN.py:267]\u001b[0m Loading Preprocessor!\n"
     ]
    },
    {
     "name": "stderr",
     "output_type": "stream",
     "text": [
      "\n",
      "|                                                                                          |17/?[00:00<00:00,57.22it/s]"
     ]
    },
    {
     "name": "stdout",
     "output_type": "stream",
     "text": [
      "\u001b[32m[1201 15:37:29 @DATSGAN.py:267]\u001b[0m Loading Preprocessor!\n"
     ]
    },
    {
     "name": "stderr",
     "output_type": "stream",
     "text": [
      "\n",
      "|                                                                                          |17/?[00:00<00:00,52.65it/s]"
     ]
    },
    {
     "name": "stdout",
     "output_type": "stream",
     "text": [
      "\u001b[32m[1201 15:37:29 @DATSGAN.py:267]\u001b[0m Loading Preprocessor!\n"
     ]
    },
    {
     "name": "stderr",
     "output_type": "stream",
     "text": [
      "\n",
      "|                                                                                          |17/?[00:00<00:00,53.39it/s]"
     ]
    },
    {
     "name": "stdout",
     "output_type": "stream",
     "text": [
      "\u001b[32m[1201 15:37:30 @DATSGAN.py:267]\u001b[0m Loading Preprocessor!\n"
     ]
    },
    {
     "name": "stderr",
     "output_type": "stream",
     "text": [
      "\n",
      "|                                                                                          |17/?[00:00<00:00,52.73it/s]"
     ]
    },
    {
     "name": "stdout",
     "output_type": "stream",
     "text": [
      "\u001b[32m[1201 15:37:30 @DATSGAN.py:267]\u001b[0m Loading Preprocessor!\n"
     ]
    },
    {
     "name": "stderr",
     "output_type": "stream",
     "text": [
      "\n",
      "|                                                                                          |17/?[00:00<00:00,55.82it/s]"
     ]
    },
    {
     "name": "stdout",
     "output_type": "stream",
     "text": [
      "\u001b[32m[1201 15:37:31 @DATSGAN.py:267]\u001b[0m Loading Preprocessor!\n"
     ]
    },
    {
     "name": "stderr",
     "output_type": "stream",
     "text": [
      "\n",
      "|                                                                                          |17/?[00:00<00:00,51.31it/s]"
     ]
    },
    {
     "name": "stdout",
     "output_type": "stream",
     "text": [
      "\u001b[32m[1201 15:37:31 @DATSGAN.py:267]\u001b[0m Loading Preprocessor!\n"
     ]
    },
    {
     "name": "stderr",
     "output_type": "stream",
     "text": [
      "\n",
      "|                                                                                          |17/?[00:00<00:00,57.70it/s]"
     ]
    },
    {
     "name": "stdout",
     "output_type": "stream",
     "text": [
      "\u001b[32m[1201 15:37:31 @DATSGAN.py:267]\u001b[0m Loading Preprocessor!\n"
     ]
    },
    {
     "name": "stderr",
     "output_type": "stream",
     "text": [
      "\n",
      "|                                                                                          |17/?[00:00<00:00,50.85it/s]"
     ]
    },
    {
     "name": "stdout",
     "output_type": "stream",
     "text": [
      "\u001b[32m[1201 15:37:32 @DATSGAN.py:267]\u001b[0m Loading Preprocessor!\n"
     ]
    },
    {
     "name": "stderr",
     "output_type": "stream",
     "text": [
      "\n",
      "|                                                                                          |17/?[00:00<00:00,60.34it/s]"
     ]
    },
    {
     "name": "stdout",
     "output_type": "stream",
     "text": [
      "\u001b[32m[1201 15:37:32 @DATSGAN.py:267]\u001b[0m Loading Preprocessor!\n"
     ]
    },
    {
     "name": "stderr",
     "output_type": "stream",
     "text": [
      "\n",
      "|                                                                                          |17/?[00:00<00:00,47.41it/s]"
     ]
    },
    {
     "name": "stdout",
     "output_type": "stream",
     "text": [
      "\u001b[32m[1201 15:37:33 @DATSGAN.py:267]\u001b[0m Loading Preprocessor!\n"
     ]
    },
    {
     "name": "stderr",
     "output_type": "stream",
     "text": [
      "\n",
      "|                                                                                          |17/?[00:00<00:00,75.16it/s]"
     ]
    },
    {
     "name": "stdout",
     "output_type": "stream",
     "text": [
      "\u001b[32m[1201 15:37:33 @DATSGAN.py:267]\u001b[0m Loading Preprocessor!\n"
     ]
    },
    {
     "name": "stderr",
     "output_type": "stream",
     "text": [
      "\n",
      "|                                                                                          |17/?[00:00<00:00,51.70it/s]"
     ]
    },
    {
     "name": "stdout",
     "output_type": "stream",
     "text": [
      "\u001b[32m[1201 15:37:33 @DATSGAN.py:267]\u001b[0m Loading Preprocessor!\n"
     ]
    },
    {
     "name": "stderr",
     "output_type": "stream",
     "text": [
      "\n",
      "|                                                                                          |17/?[00:00<00:00,59.09it/s]\n"
     ]
    },
    {
     "name": "stdout",
     "output_type": "stream",
     "text": [
      "Sampling synthetic data from model \u001b[1mWGGP_WO_03\u001b[0m (53/55)\n",
      "\u001b[32m[1201 15:37:40 @DATSGANModel.py:213]\u001b[0m \u001b[91mCreating cell for age (in-edges: 0; ancestors: 0)\n",
      "\u001b[32m[1201 15:37:40 @DATSGANModel.py:213]\u001b[0m \u001b[91mCreating cell for gender (in-edges: 0; ancestors: 0)\n",
      "\u001b[32m[1201 15:37:40 @DATSGANModel.py:213]\u001b[0m \u001b[91mCreating cell for travel_dow (in-edges: 0; ancestors: 0)\n",
      "\u001b[32m[1201 15:37:40 @DATSGANModel.py:213]\u001b[0m \u001b[91mCreating cell for license (in-edges: 1; ancestors: 1)\n",
      "\u001b[32m[1201 15:37:40 @DATSGANModel.py:213]\u001b[0m \u001b[91mCreating cell for education_level (in-edges: 1; ancestors: 1)\n",
      "\u001b[32m[1201 15:37:40 @DATSGANModel.py:213]\u001b[0m \u001b[91mCreating cell for work_status (in-edges: 2; ancestors: 3)\n",
      "\u001b[32m[1201 15:37:40 @DATSGANModel.py:213]\u001b[0m \u001b[91mCreating cell for hh_income (in-edges: 2; ancestors: 4)\n",
      "\u001b[32m[1201 15:37:40 @DATSGANModel.py:213]\u001b[0m \u001b[91mCreating cell for trip_purpose (in-edges: 1; ancestors: 4)\n",
      "\u001b[32m[1201 15:37:40 @DATSGANModel.py:213]\u001b[0m \u001b[91mCreating cell for hh_descr (in-edges: 2; ancestors: 5)\n",
      "\u001b[32m[1201 15:37:40 @DATSGANModel.py:213]\u001b[0m \u001b[91mCreating cell for hh_size (in-edges: 3; ancestors: 5)\n",
      "\u001b[32m[1201 15:37:40 @DATSGANModel.py:213]\u001b[0m \u001b[91mCreating cell for departure_time (in-edges: 1; ancestors: 5)\n",
      "\u001b[32m[1201 15:37:40 @DATSGANModel.py:213]\u001b[0m \u001b[91mCreating cell for distance (in-edges: 1; ancestors: 5)\n",
      "\u001b[32m[1201 15:37:40 @DATSGANModel.py:213]\u001b[0m \u001b[91mCreating cell for hh_vehicles (in-edges: 2; ancestors: 6)\n",
      "\u001b[32m[1201 15:37:41 @DATSGANModel.py:213]\u001b[0m \u001b[91mCreating cell for hh_bikes (in-edges: 2; ancestors: 6)\n",
      "\u001b[32m[1201 15:37:41 @DATSGANModel.py:213]\u001b[0m \u001b[91mCreating cell for choice (in-edges: 7; ancestors: 13)\n",
      "\u001b[32m[1201 15:37:41 @sessinit.py:87]\u001b[0m \u001b[5m\u001b[31mWRN\u001b[0m The following variables are in the checkpoint, but not found in the graph: global_step, optimize/beta1_power, optimize/beta2_power\n",
      "INFO:tensorflow:Graph was finalized.\n",
      "INFO:tensorflow:Running local_init_op.\n",
      "INFO:tensorflow:Done running local_init_op.\n",
      "\u001b[32m[1201 15:37:42 @sessinit.py:114]\u001b[0m Restoring checkpoint from ../output/Chicago/WGGP_WO_03/model\\model-20399 ...\n",
      "INFO:tensorflow:Restoring parameters from ../output/Chicago/WGGP_WO_03/model\\model-20399\n",
      "\u001b[32m[1201 15:37:42 @DATSGAN.py:267]\u001b[0m Loading Preprocessor!\n"
     ]
    },
    {
     "name": "stderr",
     "output_type": "stream",
     "text": [
      "|                                                                                          |17/?[00:00<00:00,28.49it/s]"
     ]
    },
    {
     "name": "stdout",
     "output_type": "stream",
     "text": [
      "\u001b[32m[1201 15:37:43 @DATSGAN.py:267]\u001b[0m Loading Preprocessor!\n"
     ]
    },
    {
     "name": "stderr",
     "output_type": "stream",
     "text": [
      "\n",
      "|                                                                                          |17/?[00:00<00:00,63.35it/s]"
     ]
    },
    {
     "name": "stdout",
     "output_type": "stream",
     "text": [
      "\u001b[32m[1201 15:37:43 @DATSGAN.py:267]\u001b[0m Loading Preprocessor!\n"
     ]
    },
    {
     "name": "stderr",
     "output_type": "stream",
     "text": [
      "\n",
      "|                                                                                          |17/?[00:00<00:00,50.33it/s]"
     ]
    },
    {
     "name": "stdout",
     "output_type": "stream",
     "text": [
      "\u001b[32m[1201 15:37:44 @DATSGAN.py:267]\u001b[0m Loading Preprocessor!\n"
     ]
    },
    {
     "name": "stderr",
     "output_type": "stream",
     "text": [
      "\n",
      "|                                                                                          |17/?[00:00<00:00,64.55it/s]"
     ]
    },
    {
     "name": "stdout",
     "output_type": "stream",
     "text": [
      "\u001b[32m[1201 15:37:44 @DATSGAN.py:267]\u001b[0m Loading Preprocessor!\n"
     ]
    },
    {
     "name": "stderr",
     "output_type": "stream",
     "text": [
      "\n",
      "|                                                                                          |17/?[00:00<00:00,48.82it/s]"
     ]
    },
    {
     "name": "stdout",
     "output_type": "stream",
     "text": [
      "\u001b[32m[1201 15:37:44 @DATSGAN.py:267]\u001b[0m Loading Preprocessor!\n"
     ]
    },
    {
     "name": "stderr",
     "output_type": "stream",
     "text": [
      "\n",
      "|                                                                                          |17/?[00:00<00:00,62.66it/s]"
     ]
    },
    {
     "name": "stdout",
     "output_type": "stream",
     "text": [
      "\u001b[32m[1201 15:37:45 @DATSGAN.py:267]\u001b[0m Loading Preprocessor!\n"
     ]
    },
    {
     "name": "stderr",
     "output_type": "stream",
     "text": [
      "\n",
      "|                                                                                          |17/?[00:00<00:00,51.16it/s]"
     ]
    },
    {
     "name": "stdout",
     "output_type": "stream",
     "text": [
      "\u001b[32m[1201 15:37:45 @DATSGAN.py:267]\u001b[0m Loading Preprocessor!\n"
     ]
    },
    {
     "name": "stderr",
     "output_type": "stream",
     "text": [
      "\n",
      "|                                                                                          |17/?[00:00<00:00,65.66it/s]"
     ]
    },
    {
     "name": "stdout",
     "output_type": "stream",
     "text": [
      "\u001b[32m[1201 15:37:45 @DATSGAN.py:267]\u001b[0m Loading Preprocessor!\n"
     ]
    },
    {
     "name": "stderr",
     "output_type": "stream",
     "text": [
      "\n",
      "|                                                                                          |17/?[00:00<00:00,50.93it/s]"
     ]
    },
    {
     "name": "stdout",
     "output_type": "stream",
     "text": [
      "\u001b[32m[1201 15:37:46 @DATSGAN.py:267]\u001b[0m Loading Preprocessor!\n"
     ]
    },
    {
     "name": "stderr",
     "output_type": "stream",
     "text": [
      "\n",
      "|                                                                                          |17/?[00:00<00:00,64.06it/s]"
     ]
    },
    {
     "name": "stdout",
     "output_type": "stream",
     "text": [
      "\u001b[32m[1201 15:37:46 @DATSGAN.py:267]\u001b[0m Loading Preprocessor!\n"
     ]
    },
    {
     "name": "stderr",
     "output_type": "stream",
     "text": [
      "\n",
      "|                                                                                          |17/?[00:00<00:00,50.04it/s]"
     ]
    },
    {
     "name": "stdout",
     "output_type": "stream",
     "text": [
      "\u001b[32m[1201 15:37:47 @DATSGAN.py:267]\u001b[0m Loading Preprocessor!\n"
     ]
    },
    {
     "name": "stderr",
     "output_type": "stream",
     "text": [
      "\n",
      "|                                                                                          |17/?[00:00<00:00,65.28it/s]"
     ]
    },
    {
     "name": "stdout",
     "output_type": "stream",
     "text": [
      "\u001b[32m[1201 15:37:47 @DATSGAN.py:267]\u001b[0m Loading Preprocessor!\n"
     ]
    },
    {
     "name": "stderr",
     "output_type": "stream",
     "text": [
      "\n",
      "|                                                                                          |17/?[00:00<00:00,49.17it/s]"
     ]
    },
    {
     "name": "stdout",
     "output_type": "stream",
     "text": [
      "\u001b[32m[1201 15:37:47 @DATSGAN.py:267]\u001b[0m Loading Preprocessor!\n"
     ]
    },
    {
     "name": "stderr",
     "output_type": "stream",
     "text": [
      "\n",
      "|                                                                                          |17/?[00:00<00:00,67.74it/s]"
     ]
    },
    {
     "name": "stdout",
     "output_type": "stream",
     "text": [
      "\u001b[32m[1201 15:37:48 @DATSGAN.py:267]\u001b[0m Loading Preprocessor!\n"
     ]
    },
    {
     "name": "stderr",
     "output_type": "stream",
     "text": [
      "\n",
      "|                                                                                          |17/?[00:00<00:00,48.89it/s]\n"
     ]
    },
    {
     "name": "stdout",
     "output_type": "stream",
     "text": [
      "Sampling synthetic data from model \u001b[1mWGGP_WO_04\u001b[0m (54/55)\n",
      "\u001b[32m[1201 15:37:54 @DATSGANModel.py:213]\u001b[0m \u001b[91mCreating cell for age (in-edges: 0; ancestors: 0)\n",
      "\u001b[32m[1201 15:37:54 @DATSGANModel.py:213]\u001b[0m \u001b[91mCreating cell for gender (in-edges: 0; ancestors: 0)\n",
      "\u001b[32m[1201 15:37:54 @DATSGANModel.py:213]\u001b[0m \u001b[91mCreating cell for travel_dow (in-edges: 0; ancestors: 0)\n",
      "\u001b[32m[1201 15:37:54 @DATSGANModel.py:213]\u001b[0m \u001b[91mCreating cell for license (in-edges: 1; ancestors: 1)\n",
      "\u001b[32m[1201 15:37:54 @DATSGANModel.py:213]\u001b[0m \u001b[91mCreating cell for education_level (in-edges: 1; ancestors: 1)\n",
      "\u001b[32m[1201 15:37:54 @DATSGANModel.py:213]\u001b[0m \u001b[91mCreating cell for work_status (in-edges: 2; ancestors: 3)\n",
      "\u001b[32m[1201 15:37:55 @DATSGANModel.py:213]\u001b[0m \u001b[91mCreating cell for hh_income (in-edges: 2; ancestors: 4)\n",
      "\u001b[32m[1201 15:37:55 @DATSGANModel.py:213]\u001b[0m \u001b[91mCreating cell for trip_purpose (in-edges: 1; ancestors: 4)\n",
      "\u001b[32m[1201 15:37:55 @DATSGANModel.py:213]\u001b[0m \u001b[91mCreating cell for hh_descr (in-edges: 2; ancestors: 5)\n",
      "\u001b[32m[1201 15:37:55 @DATSGANModel.py:213]\u001b[0m \u001b[91mCreating cell for hh_size (in-edges: 3; ancestors: 5)\n",
      "\u001b[32m[1201 15:37:55 @DATSGANModel.py:213]\u001b[0m \u001b[91mCreating cell for departure_time (in-edges: 1; ancestors: 5)\n",
      "\u001b[32m[1201 15:37:55 @DATSGANModel.py:213]\u001b[0m \u001b[91mCreating cell for distance (in-edges: 1; ancestors: 5)\n",
      "\u001b[32m[1201 15:37:55 @DATSGANModel.py:213]\u001b[0m \u001b[91mCreating cell for hh_vehicles (in-edges: 2; ancestors: 6)\n",
      "\u001b[32m[1201 15:37:55 @DATSGANModel.py:213]\u001b[0m \u001b[91mCreating cell for hh_bikes (in-edges: 2; ancestors: 6)\n",
      "\u001b[32m[1201 15:37:55 @DATSGANModel.py:213]\u001b[0m \u001b[91mCreating cell for choice (in-edges: 7; ancestors: 13)\n",
      "\u001b[32m[1201 15:37:56 @sessinit.py:87]\u001b[0m \u001b[5m\u001b[31mWRN\u001b[0m The following variables are in the checkpoint, but not found in the graph: global_step, optimize/beta1_power, optimize/beta2_power\n",
      "INFO:tensorflow:Graph was finalized.\n",
      "INFO:tensorflow:Running local_init_op.\n",
      "INFO:tensorflow:Done running local_init_op.\n",
      "\u001b[32m[1201 15:37:57 @sessinit.py:114]\u001b[0m Restoring checkpoint from ../output/Chicago/WGGP_WO_04/model\\model-20399 ...\n",
      "INFO:tensorflow:Restoring parameters from ../output/Chicago/WGGP_WO_04/model\\model-20399\n",
      "\u001b[32m[1201 15:37:57 @DATSGAN.py:267]\u001b[0m Loading Preprocessor!\n"
     ]
    },
    {
     "name": "stderr",
     "output_type": "stream",
     "text": [
      "|                                                                                          |17/?[00:00<00:00,28.97it/s]"
     ]
    },
    {
     "name": "stdout",
     "output_type": "stream",
     "text": [
      "\u001b[32m[1201 15:37:57 @DATSGAN.py:267]\u001b[0m Loading Preprocessor!\n"
     ]
    },
    {
     "name": "stderr",
     "output_type": "stream",
     "text": [
      "\n",
      "|                                                                                          |17/?[00:00<00:00,63.24it/s]"
     ]
    },
    {
     "name": "stdout",
     "output_type": "stream",
     "text": [
      "\u001b[32m[1201 15:37:58 @DATSGAN.py:267]\u001b[0m Loading Preprocessor!\n"
     ]
    },
    {
     "name": "stderr",
     "output_type": "stream",
     "text": [
      "\n",
      "|                                                                                          |17/?[00:00<00:00,53.30it/s]"
     ]
    },
    {
     "name": "stdout",
     "output_type": "stream",
     "text": [
      "\u001b[32m[1201 15:37:58 @DATSGAN.py:267]\u001b[0m Loading Preprocessor!\n"
     ]
    },
    {
     "name": "stderr",
     "output_type": "stream",
     "text": [
      "\n",
      "|                                                                                          |17/?[00:00<00:00,62.66it/s]"
     ]
    },
    {
     "name": "stdout",
     "output_type": "stream",
     "text": [
      "\u001b[32m[1201 15:37:59 @DATSGAN.py:267]\u001b[0m Loading Preprocessor!\n"
     ]
    },
    {
     "name": "stderr",
     "output_type": "stream",
     "text": [
      "\n",
      "|                                                                                          |17/?[00:00<00:00,52.41it/s]"
     ]
    },
    {
     "name": "stdout",
     "output_type": "stream",
     "text": [
      "\u001b[32m[1201 15:37:59 @DATSGAN.py:267]\u001b[0m Loading Preprocessor!\n"
     ]
    },
    {
     "name": "stderr",
     "output_type": "stream",
     "text": [
      "\n",
      "|                                                                                          |17/?[00:00<00:00,59.09it/s]"
     ]
    },
    {
     "name": "stdout",
     "output_type": "stream",
     "text": [
      "\u001b[32m[1201 15:37:59 @DATSGAN.py:267]\u001b[0m Loading Preprocessor!\n"
     ]
    },
    {
     "name": "stderr",
     "output_type": "stream",
     "text": [
      "\n",
      "|                                                                                          |17/?[00:00<00:00,53.89it/s]"
     ]
    },
    {
     "name": "stdout",
     "output_type": "stream",
     "text": [
      "\u001b[32m[1201 15:38:00 @DATSGAN.py:267]\u001b[0m Loading Preprocessor!\n"
     ]
    },
    {
     "name": "stderr",
     "output_type": "stream",
     "text": [
      "\n",
      "|                                                                                          |17/?[00:00<00:00,53.81it/s]"
     ]
    },
    {
     "name": "stdout",
     "output_type": "stream",
     "text": [
      "\u001b[32m[1201 15:38:00 @DATSGAN.py:267]\u001b[0m Loading Preprocessor!\n"
     ]
    },
    {
     "name": "stderr",
     "output_type": "stream",
     "text": [
      "\n",
      "|                                                                                          |17/?[00:00<00:00,54.15it/s]"
     ]
    },
    {
     "name": "stdout",
     "output_type": "stream",
     "text": [
      "\u001b[32m[1201 15:38:00 @DATSGAN.py:267]\u001b[0m Loading Preprocessor!\n"
     ]
    },
    {
     "name": "stderr",
     "output_type": "stream",
     "text": [
      "\n",
      "|                                                                                          |17/?[00:00<00:00,53.39it/s]"
     ]
    },
    {
     "name": "stdout",
     "output_type": "stream",
     "text": [
      "\u001b[32m[1201 15:38:01 @DATSGAN.py:267]\u001b[0m Loading Preprocessor!\n"
     ]
    },
    {
     "name": "stderr",
     "output_type": "stream",
     "text": [
      "\n",
      "|                                                                                          |17/?[00:00<00:00,55.91it/s]"
     ]
    },
    {
     "name": "stdout",
     "output_type": "stream",
     "text": [
      "\u001b[32m[1201 15:38:01 @DATSGAN.py:267]\u001b[0m Loading Preprocessor!\n"
     ]
    },
    {
     "name": "stderr",
     "output_type": "stream",
     "text": [
      "\n",
      "|                                                                                          |17/?[00:00<00:00,51.39it/s]"
     ]
    },
    {
     "name": "stdout",
     "output_type": "stream",
     "text": [
      "\u001b[32m[1201 15:38:02 @DATSGAN.py:267]\u001b[0m Loading Preprocessor!\n"
     ]
    },
    {
     "name": "stderr",
     "output_type": "stream",
     "text": [
      "\n",
      "|                                                                                          |17/?[00:00<00:00,60.45it/s]"
     ]
    },
    {
     "name": "stdout",
     "output_type": "stream",
     "text": [
      "\u001b[32m[1201 15:38:02 @DATSGAN.py:267]\u001b[0m Loading Preprocessor!\n"
     ]
    },
    {
     "name": "stderr",
     "output_type": "stream",
     "text": [
      "\n",
      "|                                                                                          |17/?[00:00<00:00,51.85it/s]"
     ]
    },
    {
     "name": "stdout",
     "output_type": "stream",
     "text": [
      "\u001b[32m[1201 15:38:02 @DATSGAN.py:267]\u001b[0m Loading Preprocessor!\n"
     ]
    },
    {
     "name": "stderr",
     "output_type": "stream",
     "text": [
      "\n",
      "|                                                                                          |17/?[00:00<00:00,64.91it/s]\n"
     ]
    },
    {
     "name": "stdout",
     "output_type": "stream",
     "text": [
      "Sampling synthetic data from model \u001b[1mWGGP_WO_05\u001b[0m (55/55)\n",
      "\u001b[32m[1201 15:38:09 @DATSGANModel.py:213]\u001b[0m \u001b[91mCreating cell for age (in-edges: 0; ancestors: 0)\n",
      "\u001b[32m[1201 15:38:09 @DATSGANModel.py:213]\u001b[0m \u001b[91mCreating cell for gender (in-edges: 0; ancestors: 0)\n",
      "\u001b[32m[1201 15:38:09 @DATSGANModel.py:213]\u001b[0m \u001b[91mCreating cell for travel_dow (in-edges: 0; ancestors: 0)\n",
      "\u001b[32m[1201 15:38:09 @DATSGANModel.py:213]\u001b[0m \u001b[91mCreating cell for license (in-edges: 1; ancestors: 1)\n",
      "\u001b[32m[1201 15:38:09 @DATSGANModel.py:213]\u001b[0m \u001b[91mCreating cell for education_level (in-edges: 1; ancestors: 1)\n",
      "\u001b[32m[1201 15:38:09 @DATSGANModel.py:213]\u001b[0m \u001b[91mCreating cell for work_status (in-edges: 2; ancestors: 3)\n",
      "\u001b[32m[1201 15:38:09 @DATSGANModel.py:213]\u001b[0m \u001b[91mCreating cell for hh_income (in-edges: 2; ancestors: 4)\n",
      "\u001b[32m[1201 15:38:09 @DATSGANModel.py:213]\u001b[0m \u001b[91mCreating cell for trip_purpose (in-edges: 1; ancestors: 4)\n",
      "\u001b[32m[1201 15:38:09 @DATSGANModel.py:213]\u001b[0m \u001b[91mCreating cell for hh_descr (in-edges: 2; ancestors: 5)\n",
      "\u001b[32m[1201 15:38:09 @DATSGANModel.py:213]\u001b[0m \u001b[91mCreating cell for hh_size (in-edges: 3; ancestors: 5)\n",
      "\u001b[32m[1201 15:38:09 @DATSGANModel.py:213]\u001b[0m \u001b[91mCreating cell for departure_time (in-edges: 1; ancestors: 5)\n",
      "\u001b[32m[1201 15:38:10 @DATSGANModel.py:213]\u001b[0m \u001b[91mCreating cell for distance (in-edges: 1; ancestors: 5)\n",
      "\u001b[32m[1201 15:38:10 @DATSGANModel.py:213]\u001b[0m \u001b[91mCreating cell for hh_vehicles (in-edges: 2; ancestors: 6)\n",
      "\u001b[32m[1201 15:38:10 @DATSGANModel.py:213]\u001b[0m \u001b[91mCreating cell for hh_bikes (in-edges: 2; ancestors: 6)\n",
      "\u001b[32m[1201 15:38:10 @DATSGANModel.py:213]\u001b[0m \u001b[91mCreating cell for choice (in-edges: 7; ancestors: 13)\n",
      "\u001b[32m[1201 15:38:10 @sessinit.py:87]\u001b[0m \u001b[5m\u001b[31mWRN\u001b[0m The following variables are in the checkpoint, but not found in the graph: global_step, optimize/beta1_power, optimize/beta2_power\n",
      "INFO:tensorflow:Graph was finalized.\n",
      "INFO:tensorflow:Running local_init_op.\n",
      "INFO:tensorflow:Done running local_init_op.\n",
      "\u001b[32m[1201 15:38:11 @sessinit.py:114]\u001b[0m Restoring checkpoint from ../output/Chicago/WGGP_WO_05/model\\model-20399 ...\n",
      "INFO:tensorflow:Restoring parameters from ../output/Chicago/WGGP_WO_05/model\\model-20399\n",
      "\u001b[32m[1201 15:38:11 @DATSGAN.py:267]\u001b[0m Loading Preprocessor!\n"
     ]
    },
    {
     "name": "stderr",
     "output_type": "stream",
     "text": [
      "|                                                                                          |17/?[00:00<00:00,31.71it/s]"
     ]
    },
    {
     "name": "stdout",
     "output_type": "stream",
     "text": [
      "\u001b[32m[1201 15:38:12 @DATSGAN.py:267]\u001b[0m Loading Preprocessor!\n"
     ]
    },
    {
     "name": "stderr",
     "output_type": "stream",
     "text": [
      "\n",
      "|                                                                                          |17/?[00:00<00:00,52.09it/s]"
     ]
    },
    {
     "name": "stdout",
     "output_type": "stream",
     "text": [
      "\u001b[32m[1201 15:38:12 @DATSGAN.py:267]\u001b[0m Loading Preprocessor!\n"
     ]
    },
    {
     "name": "stderr",
     "output_type": "stream",
     "text": [
      "\n",
      "|                                                                                          |17/?[00:00<00:00,64.67it/s]"
     ]
    },
    {
     "name": "stdout",
     "output_type": "stream",
     "text": [
      "\u001b[32m[1201 15:38:13 @DATSGAN.py:267]\u001b[0m Loading Preprocessor!\n"
     ]
    },
    {
     "name": "stderr",
     "output_type": "stream",
     "text": [
      "\n",
      "|                                                                                          |17/?[00:00<00:00,47.87it/s]"
     ]
    },
    {
     "name": "stdout",
     "output_type": "stream",
     "text": [
      "\u001b[32m[1201 15:38:13 @DATSGAN.py:267]\u001b[0m Loading Preprocessor!\n"
     ]
    },
    {
     "name": "stderr",
     "output_type": "stream",
     "text": [
      "\n",
      "|                                                                                          |17/?[00:00<00:00,61.98it/s]"
     ]
    },
    {
     "name": "stdout",
     "output_type": "stream",
     "text": [
      "\u001b[32m[1201 15:38:14 @DATSGAN.py:267]\u001b[0m Loading Preprocessor!\n"
     ]
    },
    {
     "name": "stderr",
     "output_type": "stream",
     "text": [
      "\n",
      "|                                                                                          |17/?[00:00<00:00,51.77it/s]"
     ]
    },
    {
     "name": "stdout",
     "output_type": "stream",
     "text": [
      "\u001b[32m[1201 15:38:14 @DATSGAN.py:267]\u001b[0m Loading Preprocessor!\n"
     ]
    },
    {
     "name": "stderr",
     "output_type": "stream",
     "text": [
      "\n",
      "|                                                                                          |17/?[00:00<00:00,63.00it/s]"
     ]
    },
    {
     "name": "stdout",
     "output_type": "stream",
     "text": [
      "\u001b[32m[1201 15:38:14 @DATSGAN.py:267]\u001b[0m Loading Preprocessor!\n"
     ]
    },
    {
     "name": "stderr",
     "output_type": "stream",
     "text": [
      "\n",
      "|                                                                                          |17/?[00:00<00:00,52.01it/s]"
     ]
    },
    {
     "name": "stdout",
     "output_type": "stream",
     "text": [
      "\u001b[32m[1201 15:38:15 @DATSGAN.py:267]\u001b[0m Loading Preprocessor!\n"
     ]
    },
    {
     "name": "stderr",
     "output_type": "stream",
     "text": [
      "\n",
      "|                                                                                          |17/?[00:00<00:00,68.55it/s]"
     ]
    },
    {
     "name": "stdout",
     "output_type": "stream",
     "text": [
      "\u001b[32m[1201 15:38:15 @DATSGAN.py:267]\u001b[0m Loading Preprocessor!\n"
     ]
    },
    {
     "name": "stderr",
     "output_type": "stream",
     "text": [
      "\n",
      "|                                                                                          |17/?[00:00<00:00,49.46it/s]"
     ]
    },
    {
     "name": "stdout",
     "output_type": "stream",
     "text": [
      "\u001b[32m[1201 15:38:15 @DATSGAN.py:267]\u001b[0m Loading Preprocessor!\n"
     ]
    },
    {
     "name": "stderr",
     "output_type": "stream",
     "text": [
      "\n",
      "|                                                                                          |17/?[00:00<00:00,65.41it/s]"
     ]
    },
    {
     "name": "stdout",
     "output_type": "stream",
     "text": [
      "\u001b[32m[1201 15:38:16 @DATSGAN.py:267]\u001b[0m Loading Preprocessor!\n"
     ]
    },
    {
     "name": "stderr",
     "output_type": "stream",
     "text": [
      "\n",
      "|                                                                                          |17/?[00:00<00:00,51.85it/s]"
     ]
    },
    {
     "name": "stdout",
     "output_type": "stream",
     "text": [
      "\u001b[32m[1201 15:38:16 @DATSGAN.py:267]\u001b[0m Loading Preprocessor!\n"
     ]
    },
    {
     "name": "stderr",
     "output_type": "stream",
     "text": [
      "\n",
      "|                                                                                          |17/?[00:00<00:00,67.20it/s]"
     ]
    },
    {
     "name": "stdout",
     "output_type": "stream",
     "text": [
      "\u001b[32m[1201 15:38:16 @DATSGAN.py:267]\u001b[0m Loading Preprocessor!\n"
     ]
    },
    {
     "name": "stderr",
     "output_type": "stream",
     "text": [
      "\n",
      "|                                                                                          |17/?[00:00<00:00,49.24it/s]"
     ]
    },
    {
     "name": "stdout",
     "output_type": "stream",
     "text": [
      "\u001b[32m[1201 15:38:17 @DATSGAN.py:267]\u001b[0m Loading Preprocessor!\n"
     ]
    },
    {
     "name": "stderr",
     "output_type": "stream",
     "text": [
      "\n",
      "|                                                                                          |17/?[00:00<00:00,66.04it/s]\n"
     ]
    },
    {
     "name": "stdout",
     "output_type": "stream",
     "text": [
      "\u001b[1mFINISHED!\u001b[0m\n"
     ]
    }
   ],
   "source": [
    "for i, m in enumerate(models):\n",
    "    \n",
    "    name = m.split('_')[0]\n",
    "    \n",
    "    print(\"Sampling synthetic data from model \\033[1m{}\\033[0m ({}/{})\".format(m, i+1, len(models)))\n",
    "\n",
    "    \n",
    "    model = None\n",
    "\n",
    "    if 'CTGAN' in name:\n",
    "        import ctgan\n",
    "        from ctgan import CTGANSynthesizer\n",
    "        \n",
    "        ctgan = CTGANSynthesizer()\n",
    "        model = ctgan.load(input_folder + m + '/trained.pickle')\n",
    "\n",
    "    elif 'TGAN' in name:\n",
    "        from tgan.model import TGANModel\n",
    "        model = TGANModel.load(input_folder + m + '/trained.pickle')\n",
    "    else:\n",
    "\n",
    "        LIB = None\n",
    "\n",
    "        if 'WGAN' in name:\n",
    "            from modules.datgan import DATWGAN as LIB\n",
    "        if any(x in name for x in ('WGANGP','WGGP')) :\n",
    "            from modules.datgan import DATWGANGP as LIB\n",
    "        elif 'SGAN' in name:\n",
    "            from modules.datgan import DATSGAN as LIB\n",
    "        else:\n",
    "            from modules.datgan import DATWGAN as LIB\n",
    "\n",
    "        model = LIB.load(input_folder + m + '/', 'trained')\n",
    "    \n",
    "    for k in range(n_data):\n",
    "            \n",
    "        if is_a_DATGAN(name):   \n",
    "            for samp_type in ['NO', 'BO', 'OD']:\n",
    "                samples = model.sample(len(df), samp_type)\n",
    "                \n",
    "                samples = round_some_vars(samples, dataset)\n",
    "                \n",
    "                if n_data == 1:\n",
    "                    samples.to_csv(output_folder + m + '_{}.csv'.format(samp_type), index=False)\n",
    "                else:\n",
    "                    samples.to_csv(output_folder + m + '_{}_{:0>2d}.csv'.format(samp_type, k+1), index=False)\n",
    "        else:\n",
    "            samples = model.sample(len(df))\n",
    "\n",
    "            samples = round_some_vars(samples, dataset)\n",
    "\n",
    "            if n_data == 1:\n",
    "                samples.to_csv(output_folder + m + '.csv', index=False)\n",
    "            else:\n",
    "                samples.to_csv(output_folder + m + '_{:0>2d}.csv'.format(k+1), index=False)\n",
    "                \n",
    "print(\"\\033[1mFINISHED!\\033[0m\")"
   ]
  },
  {
   "cell_type": "code",
   "execution_count": null,
   "metadata": {},
   "outputs": [],
   "source": []
  }
 ],
 "metadata": {
  "kernelspec": {
   "display_name": "Python 3",
   "language": "python",
   "name": "python3"
  },
  "language_info": {
   "codemirror_mode": {
    "name": "ipython",
    "version": 3
   },
   "file_extension": ".py",
   "mimetype": "text/x-python",
   "name": "python",
   "nbconvert_exporter": "python",
   "pygments_lexer": "ipython3",
   "version": "3.7.9"
  }
 },
 "nbformat": 4,
 "nbformat_minor": 4
}
