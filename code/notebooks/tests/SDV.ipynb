{
 "cells": [
  {
   "cell_type": "code",
   "execution_count": 1,
   "metadata": {},
   "outputs": [],
   "source": [
    "import os\n",
    "os.chdir('../..')"
   ]
  },
  {
   "cell_type": "code",
   "execution_count": 2,
   "metadata": {},
   "outputs": [],
   "source": [
    "import numpy as np\n",
    "import pandas as pd\n",
    "import json\n",
    "\n",
    "import matplotlib.pyplot as plt\n",
    "\n",
    "import sdv.metrics.tabular as sdvm\n",
    "\n",
    "# For the Python notebook\n",
    "%matplotlib inline\n",
    "%reload_ext autoreload\n",
    "%autoreload 2"
   ]
  },
  {
   "cell_type": "code",
   "execution_count": 3,
   "metadata": {},
   "outputs": [],
   "source": [
    "dataset = 'Chicago'"
   ]
  },
  {
   "cell_type": "code",
   "execution_count": 4,
   "metadata": {},
   "outputs": [],
   "source": [
    "synth_dir = '../synth_data/' + dataset\n",
    "\n",
    "files = ['../data/' + dataset + '/data.csv']\n",
    "labels = ['original', 'WGAN_WI_SIMCONT', 'LINEAR', 'TGAN']\n",
    "\n",
    "for l in labels[1:]:\n",
    "    files.append('../synth_data/' + dataset + '/' + l + '.csv')"
   ]
  },
  {
   "cell_type": "code",
   "execution_count": 5,
   "metadata": {},
   "outputs": [
    {
     "data": {
      "text/plain": [
       "['../data/Chicago/data.csv',\n",
       " '../synth_data/Chicago/WGAN_WI_SIMCONT.csv',\n",
       " '../synth_data/Chicago/LINEAR.csv',\n",
       " '../synth_data/Chicago/TGAN.csv']"
      ]
     },
     "execution_count": 5,
     "metadata": {},
     "output_type": "execute_result"
    }
   ],
   "source": [
    "files"
   ]
  },
  {
   "cell_type": "code",
   "execution_count": 6,
   "metadata": {},
   "outputs": [],
   "source": [
    "dfs = [pd.read_csv(file) for file in files]"
   ]
  },
  {
   "cell_type": "code",
   "execution_count": 7,
   "metadata": {},
   "outputs": [
    {
     "name": "stdout",
     "output_type": "stream",
     "text": [
      "\n"
     ]
    }
   ],
   "source": [
    "print()"
   ]
  },
  {
   "cell_type": "code",
   "execution_count": 8,
   "metadata": {},
   "outputs": [],
   "source": [
    "def do_stuff(real, synth):\n",
    "    \n",
    "    print('  Statistical metrics:')\n",
    "    res = sdvm.CSTest.compute(real, synth)\n",
    "    print('    - CS test: {:.3f}'.format(res))\n",
    "    res = sdvm.KSTest.compute(real, synth)\n",
    "    print('    - KS test: {:.3f}'.format(res))\n",
    "    \n",
    "    print('  Likelihood metrics:')\n",
    "    res = sdvm.BNLikelihood.compute(real, synth)\n",
    "    print('    - BN Likelihood: {:.3f}'.format(res))\n",
    "    res = sdvm.BNLogLikelihood.compute(real, synth)\n",
    "    print('    - BN Loglikelihood: {:.3f}'.format(res))\n",
    "    #res = sdvm.GMLogLikelihood.compute(real, synth)\n",
    "    #print('    - GM Loglikelihood: {:.3f}'.format(res))\n",
    "    \n",
    "    print('  ML efficacy metrics:')\n",
    "    res = sdvm.MulticlassDecisionTreeClassifier.compute(real, synth, target='choice')\n",
    "    print('    - Decision Tree: {:.3f}'.format(res))\n",
    "    res = sdvm.MulticlassMLPClassifier.compute(real, synth, target='choice')\n",
    "    print('    - MLP: {:.3f}'.format(res))\n",
    "    print('')\n",
    "    "
   ]
  },
  {
   "cell_type": "code",
   "execution_count": 9,
   "metadata": {},
   "outputs": [
    {
     "name": "stdout",
     "output_type": "stream",
     "text": [
      "Results from real data only:\n",
      "  Statistical metrics:\n",
      "    - CS test: 1.000\n",
      "    - KS test: 0.995\n",
      "  Likelihood metrics:\n",
      "    - BN Likelihood: 0.029\n",
      "    - BN Loglikelihood: -4.155\n",
      "  ML efficacy metrics:\n",
      "    - Decision Tree: 0.535\n"
     ]
    },
    {
     "name": "stderr",
     "output_type": "stream",
     "text": [
      "D:\\Users\\glede\\anaconda3\\envs\\py37\\lib\\site-packages\\sklearn\\neural_network\\_multilayer_perceptron.py:617: ConvergenceWarning: Stochastic Optimizer: Maximum iterations (50) reached and the optimization hasn't converged yet.\n",
      "  % self.max_iter, ConvergenceWarning)\n"
     ]
    },
    {
     "name": "stdout",
     "output_type": "stream",
     "text": [
      "    - MLP: 0.532\n",
      "\n",
      "Dataset: WGAN_WI_SIMCONT\n",
      "  Statistical metrics:\n",
      "    - CS test: 1.000\n",
      "    - KS test: 0.988\n",
      "  Likelihood metrics:\n",
      "    - BN Likelihood: 0.030\n",
      "    - BN Loglikelihood: -4.203\n",
      "  ML efficacy metrics:\n",
      "    - Decision Tree: 0.419\n"
     ]
    },
    {
     "name": "stderr",
     "output_type": "stream",
     "text": [
      "D:\\Users\\glede\\anaconda3\\envs\\py37\\lib\\site-packages\\sklearn\\neural_network\\_multilayer_perceptron.py:617: ConvergenceWarning: Stochastic Optimizer: Maximum iterations (50) reached and the optimization hasn't converged yet.\n",
      "  % self.max_iter, ConvergenceWarning)\n"
     ]
    },
    {
     "name": "stdout",
     "output_type": "stream",
     "text": [
      "    - MLP: 0.499\n",
      "\n",
      "Dataset: LINEAR\n",
      "  Statistical metrics:\n",
      "    - CS test: 1.000\n",
      "    - KS test: 0.988\n",
      "  Likelihood metrics:\n",
      "    - BN Likelihood: 0.029\n",
      "    - BN Loglikelihood: -4.297\n",
      "  ML efficacy metrics:\n",
      "    - Decision Tree: 0.411\n"
     ]
    },
    {
     "name": "stderr",
     "output_type": "stream",
     "text": [
      "D:\\Users\\glede\\anaconda3\\envs\\py37\\lib\\site-packages\\sklearn\\neural_network\\_multilayer_perceptron.py:617: ConvergenceWarning: Stochastic Optimizer: Maximum iterations (50) reached and the optimization hasn't converged yet.\n",
      "  % self.max_iter, ConvergenceWarning)\n"
     ]
    },
    {
     "name": "stdout",
     "output_type": "stream",
     "text": [
      "    - MLP: 0.489\n",
      "\n",
      "Dataset: TGAN\n",
      "  Statistical metrics:\n",
      "    - CS test: 1.000\n",
      "    - KS test: 0.975\n",
      "  Likelihood metrics:\n",
      "    - BN Likelihood: 0.030\n",
      "    - BN Loglikelihood: -4.211\n",
      "  ML efficacy metrics:\n",
      "    - Decision Tree: 0.408\n"
     ]
    },
    {
     "name": "stderr",
     "output_type": "stream",
     "text": [
      "D:\\Users\\glede\\anaconda3\\envs\\py37\\lib\\site-packages\\sklearn\\neural_network\\_multilayer_perceptron.py:617: ConvergenceWarning: Stochastic Optimizer: Maximum iterations (50) reached and the optimization hasn't converged yet.\n",
      "  % self.max_iter, ConvergenceWarning)\n"
     ]
    },
    {
     "name": "stdout",
     "output_type": "stream",
     "text": [
      "    - MLP: 0.495\n",
      "\n"
     ]
    }
   ],
   "source": [
    "print('Results from real data only:')\n",
    "\n",
    "train = dfs[0].sample(int(len(dfs[0]) * 0.75))\n",
    "test = dfs[0][~dfs[0].index.isin(train.index)]\n",
    "\n",
    "do_stuff(train, test)\n",
    "\n",
    "for i, l in enumerate(labels[1:]):\n",
    "    print('Dataset: {}'.format(l))\n",
    "    \n",
    "    do_stuff(dfs[0], dfs[i+1])"
   ]
  },
  {
   "cell_type": "code",
   "execution_count": null,
   "metadata": {},
   "outputs": [],
   "source": []
  }
 ],
 "metadata": {
  "kernelspec": {
   "display_name": "Python 3",
   "language": "python",
   "name": "python3"
  },
  "language_info": {
   "codemirror_mode": {
    "name": "ipython",
    "version": 3
   },
   "file_extension": ".py",
   "mimetype": "text/x-python",
   "name": "python",
   "nbconvert_exporter": "python",
   "pygments_lexer": "ipython3",
   "version": "3.7.9"
  }
 },
 "nbformat": 4,
 "nbformat_minor": 4
}
