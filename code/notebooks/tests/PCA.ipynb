{
 "cells": [
  {
   "cell_type": "code",
   "execution_count": 1,
   "metadata": {},
   "outputs": [],
   "source": [
    "import os\n",
    "os.chdir('../..')"
   ]
  },
  {
   "cell_type": "code",
   "execution_count": 2,
   "metadata": {},
   "outputs": [],
   "source": [
    "import numpy as np\n",
    "import pandas as pd\n",
    "\n",
    "from sklearn import decomposition\n",
    "from sklearn.preprocessing import StandardScaler\n",
    "from sklearn.metrics import mean_squared_error \n",
    "\n",
    "import matplotlib.pyplot as plt\n",
    "import matplotlib\n",
    "\n",
    "# For the Python notebook\n",
    "%matplotlib inline\n",
    "%reload_ext autoreload\n",
    "%autoreload 2"
   ]
  },
  {
   "cell_type": "markdown",
   "metadata": {},
   "source": [
    "# Load the files"
   ]
  },
  {
   "cell_type": "code",
   "execution_count": 3,
   "metadata": {},
   "outputs": [],
   "source": [
    "files = ['../data/Chicago/full.csv', \n",
    "         '../synth_data/Chicago/tgan_100.csv', \n",
    "         '../synth_data/Chicago/tgan_1000.csv', \n",
    "         '../synth_data/Chicago/ctgan.csv',\n",
    "         '../synth_data/Chicago/ctgan_300.csv',\n",
    "         '../synth_data/Chicago/ctgan_1000.csv']\n",
    "labels = ['original', 'tgan - 100ep', 'tgan - 1000ep', 'ctgan - 100ep', 'ctgan - 300ep', 'ctgan - 1000ep']"
   ]
  },
  {
   "cell_type": "code",
   "execution_count": 4,
   "metadata": {},
   "outputs": [],
   "source": [
    "dfs = [pd.read_csv(file) for file in files]"
   ]
  },
  {
   "cell_type": "markdown",
   "metadata": {},
   "source": [
    "# All to numeric"
   ]
  },
  {
   "cell_type": "code",
   "execution_count": 5,
   "metadata": {},
   "outputs": [],
   "source": [
    "ints = ['travel_dow', 'hh_vehicles', 'hh_size', 'hh_bikes', 'hh_descr', 'hh_income', 'gender', 'education_level', 'age']\n",
    "floats = ['departure_time', 'distance', 'license']"
   ]
  },
  {
   "cell_type": "code",
   "execution_count": 6,
   "metadata": {},
   "outputs": [],
   "source": [
    "dct = {}\n",
    "\n",
    "for i in ints:\n",
    "    dct[i] = 'int64'\n",
    "    \n",
    "for i in floats:\n",
    "    dct[i] = 'float64'"
   ]
  },
  {
   "cell_type": "code",
   "execution_count": 7,
   "metadata": {},
   "outputs": [
    {
     "data": {
      "text/plain": [
       "{'travel_dow': 'int64',\n",
       " 'hh_vehicles': 'int64',\n",
       " 'hh_size': 'int64',\n",
       " 'hh_bikes': 'int64',\n",
       " 'hh_descr': 'int64',\n",
       " 'hh_income': 'int64',\n",
       " 'gender': 'int64',\n",
       " 'education_level': 'int64',\n",
       " 'age': 'int64',\n",
       " 'departure_time': 'float64',\n",
       " 'distance': 'float64',\n",
       " 'license': 'float64'}"
      ]
     },
     "execution_count": 7,
     "metadata": {},
     "output_type": "execute_result"
    }
   ],
   "source": [
    "dct"
   ]
  },
  {
   "cell_type": "code",
   "execution_count": 8,
   "metadata": {},
   "outputs": [],
   "source": [
    "dfs = [df.astype(dct) for df in dfs]"
   ]
  },
  {
   "cell_type": "code",
   "execution_count": 9,
   "metadata": {},
   "outputs": [],
   "source": [
    "choices = {}\n",
    "trip_purpose = {}\n",
    "work_status = {}\n",
    "\n",
    "for c in ['choice', 'trip_purpose', 'work_status']: \n",
    "    dct = {}\n",
    "    \n",
    "    for n, i in enumerate(dfs[0][c].unique()):\n",
    "        if c == 'choice':\n",
    "            choices[n] = i\n",
    "            \n",
    "        if c == 'trip_purpose':\n",
    "            trip_purpose[n] = i\n",
    "            \n",
    "        if c == 'work_status':\n",
    "            work_status[n] = i\n",
    "        \n",
    "        dct[i] = n\n",
    "        \n",
    "    dfs = [df.replace(dct) for df in dfs]"
   ]
  },
  {
   "cell_type": "code",
   "execution_count": 10,
   "metadata": {},
   "outputs": [
    {
     "data": {
      "text/plain": [
       "choice               int64\n",
       "travel_dow           int64\n",
       "trip_purpose         int64\n",
       "distance           float64\n",
       "hh_vehicles          int64\n",
       "hh_size              int64\n",
       "hh_bikes             int64\n",
       "hh_descr             int64\n",
       "hh_income            int64\n",
       "gender               int64\n",
       "age                  int64\n",
       "license            float64\n",
       "education_level      int64\n",
       "work_status          int64\n",
       "departure_time     float64\n",
       "dtype: object"
      ]
     },
     "execution_count": 10,
     "metadata": {},
     "output_type": "execute_result"
    }
   ],
   "source": [
    "dfs[0].dtypes"
   ]
  },
  {
   "cell_type": "markdown",
   "metadata": {},
   "source": [
    "# Standardized the data"
   ]
  },
  {
   "cell_type": "code",
   "execution_count": 11,
   "metadata": {},
   "outputs": [
    {
     "data": {
      "text/plain": [
       "StandardScaler()"
      ]
     },
     "execution_count": 11,
     "metadata": {},
     "output_type": "execute_result"
    }
   ],
   "source": [
    "full_df = dfs[0]\n",
    "for i in range(1, len(dfs)):\n",
    "    \n",
    "    full_df = full_df.append(dfs[i], ignore_index=True)\n",
    "\n",
    "scaler = StandardScaler()\n",
    "scaler.fit(full_df)"
   ]
  },
  {
   "cell_type": "code",
   "execution_count": 12,
   "metadata": {},
   "outputs": [],
   "source": [
    "stand = []\n",
    "\n",
    "for df in dfs:\n",
    "    stand.append(scaler.transform(df))"
   ]
  },
  {
   "cell_type": "markdown",
   "metadata": {},
   "source": [
    "# PCA"
   ]
  },
  {
   "cell_type": "code",
   "execution_count": 17,
   "metadata": {},
   "outputs": [],
   "source": [
    "angles = []\n",
    "mse = []\n",
    "pca_var = []\n",
    "\n",
    "orig_pca = decomposition.PCA(n_components=len(dfs[0].columns))\n",
    "orig_pca.fit(stand[0])\n",
    "pca_var.append(orig_pca.explained_variance_)\n",
    "\n",
    "for st in stand[1:]:\n",
    "    \n",
    "    synth_pca = decomposition.PCA(n_components=len(dfs[0].columns))\n",
    "    synth_pca.fit(st)\n",
    "    \n",
    "    pca_var.append(synth_pca.explained_variance_)\n",
    "    \n",
    "    tmp_angle = []\n",
    "    tmp_mse = []\n",
    "    \n",
    "    for eig_orig, eig_synth in zip(orig_pca.components_, synth_pca.components_):\n",
    "        dot_product = np.dot(eig_orig, eig_synth)\n",
    "        angle = np.arccos(dot_product)\n",
    "        tmp_angle.append(angle)\n",
    "        \n",
    "        tmp_mse.append(mean_squared_error(eig_orig, eig_synth))\n",
    "        \n",
    "    angles.append(tmp_angle)\n",
    "    mse.append(tmp_mse)"
   ]
  },
  {
   "cell_type": "code",
   "execution_count": 32,
   "metadata": {},
   "outputs": [
    {
     "name": "stdout",
     "output_type": "stream",
     "text": [
      "Weighted average of angles\n",
      "tgan - 100ep: 0.876\n",
      "tgan - 1000ep: 1.068\n",
      "ctgan - 100ep: 1.479\n",
      "ctgan - 300ep: 1.560\n",
      "ctgan - 1000ep: 1.341\n"
     ]
    },
    {
     "data": {
      "image/png": "[encoded data removed]",
      "text/plain": [
       "<Figure size 720x360 with 1 Axes>"
      ]
     },
     "metadata": {
      "needs_background": "light"
     },
     "output_type": "display_data"
    }
   ],
   "source": [
    "plt.figure(figsize=(10,5))\n",
    "plt.boxplot(angles)\n",
    "plt.xticks(range(1,len(angles)+1), labels[1:])\n",
    "plt.ylabel('angles of PCA eigenvectors')\n",
    "\n",
    "print(\"Weighted average of angles\")\n",
    "for i in range(len(angles)):\n",
    "    print(\"{}: {:.3f}\".format(labels[i+1], np.mean(angles[i])))#*pca_var[0])))"
   ]
  },
  {
   "cell_type": "code",
   "execution_count": 31,
   "metadata": {},
   "outputs": [
    {
     "name": "stdout",
     "output_type": "stream",
     "text": [
      "Weighted average of MSE\n",
      "tgan - 100ep: 0.061\n",
      "tgan - 1000ep: 0.083\n",
      "ctgan - 100ep: 0.124\n",
      "ctgan - 300ep: 0.129\n",
      "ctgan - 1000ep: 0.109\n"
     ]
    },
    {
     "data": {
      "image/png": "[encoded data removed]",
      "text/plain": [
       "<Figure size 720x360 with 1 Axes>"
      ]
     },
     "metadata": {
      "needs_background": "light"
     },
     "output_type": "display_data"
    }
   ],
   "source": [
    "plt.figure(figsize=(10,5))\n",
    "plt.boxplot(mse)\n",
    "plt.xticks(range(1,len(mse)+1), labels[1:])\n",
    "plt.ylabel('MSE of PCA eigenvectors')\n",
    "\n",
    "print(\"Weighted average of MSE\")\n",
    "for i in range(len(mse)):\n",
    "    print(\"{}: {:.3f}\".format(labels[i+1], np.mean(mse[i])))#*(pca_var[0]+pca_var[i+1])/2)))"
   ]
  },
  {
   "cell_type": "code",
   "execution_count": null,
   "metadata": {},
   "outputs": [],
   "source": []
  }
 ],
 "metadata": {
  "kernelspec": {
   "display_name": "Python 3",
   "language": "python",
   "name": "python3"
  },
  "language_info": {
   "codemirror_mode": {
    "name": "ipython",
    "version": 3
   },
   "file_extension": ".py",
   "mimetype": "text/x-python",
   "name": "python",
   "nbconvert_exporter": "python",
   "pygments_lexer": "ipython3",
   "version": "3.7.9"
  }
 },
 "nbformat": 4,
 "nbformat_minor": 4
}
