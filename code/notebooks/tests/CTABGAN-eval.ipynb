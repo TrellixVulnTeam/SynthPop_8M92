{
 "cells": [
  {
   "cell_type": "code",
   "execution_count": 1,
   "metadata": {},
   "outputs": [],
   "source": [
    "import os\n",
    "os.chdir('../..')"
   ]
  },
  {
   "cell_type": "code",
   "execution_count": 2,
   "metadata": {},
   "outputs": [
    {
     "name": "stderr",
     "output_type": "stream",
     "text": [
      "D:\\Users\\glede\\anaconda3\\envs\\py37\\lib\\site-packages\\ipykernel_launcher.py:6: DeprecationWarning: Using or importing the ABCs from 'collections' instead of from 'collections.abc' is deprecated since Python 3.3,and in 3.9 it will stop working\n",
      "  \n"
     ]
    }
   ],
   "source": [
    "import numpy as np\n",
    "import pandas as pd\n",
    "import matplotlib.pyplot as plt\n",
    "import matplotlib\n",
    "from sklearn.linear_model import LinearRegression\n",
    "from collections import Iterable\n",
    "import random\n",
    "from os import listdir\n",
    "from os.path import isfile, join\n",
    "import matplotlib.patches as mpatches\n",
    "import pickle\n",
    "import glob\n",
    "\n",
    "from itertools import combinations\n",
    "\n",
    "import seaborn as sns\n",
    "sns.set_style(\"whitegrid\")\n",
    "from CTABGAN.model.eval.evaluation import get_utility_metrics,stat_sim,privacy_metrics\n",
    "\n",
    "# For the Python notebook\n",
    "%matplotlib inline\n",
    "%reload_ext autoreload\n",
    "%autoreload 2"
   ]
  },
  {
   "cell_type": "code",
   "execution_count": 3,
   "metadata": {},
   "outputs": [],
   "source": [
    "dataset = 'LPMC'\n",
    "orig_path = '../data/' + dataset + '/data.csv'"
   ]
  },
  {
   "cell_type": "code",
   "execution_count": 4,
   "metadata": {},
   "outputs": [],
   "source": [
    "input_folder = '../synth_data/TEST/'\n",
    "\n",
    "files_ = {}\n",
    "models = []\n",
    "\n",
    "for f in listdir(input_folder):\n",
    "    if isfile(join(input_folder, f)):\n",
    "        m = f.split('.')[0]\n",
    "        models.append(m)\n",
    "        files_[m] = join(input_folder, f)"
   ]
  },
  {
   "cell_type": "code",
   "execution_count": 5,
   "metadata": {},
   "outputs": [
    {
     "name": "stdout",
     "output_type": "stream",
     "text": [
      "CTABGAN\n",
      "           Acc       AUC  F1_Score\n",
      "lr   14.387060  0.037495  0.126386\n",
      "dt   12.712826  0.065168  0.114746\n",
      "rf    8.115778  0.043870  0.072341\n",
      "mlp  13.138479  0.050769  0.115915\n",
      "\n",
      "CTGAN\n",
      "           Acc       AUC  F1_Score\n",
      "lr    3.064699  0.013369  0.028684\n",
      "dt   16.572077  0.133681  0.172254\n",
      "rf    3.234960  0.031216  0.030745\n",
      "mlp   3.916005  0.023781  0.037868\n",
      "\n",
      "DATGAN\n",
      "          Acc       AUC  F1_Score\n",
      "lr   3.972758  0.011659  0.033527\n",
      "dt   7.945516  0.050679  0.076548\n",
      "rf   3.859251  0.022573  0.036035\n",
      "mlp  4.029512  0.019956  0.041387\n",
      "\n"
     ]
    }
   ],
   "source": [
    "for s in files_:\n",
    "    classifiers_list = [\"lr\",\"dt\",\"rf\",\"mlp\"]\n",
    "    result_mat = get_utility_metrics(orig_path, [files_[s]], \"MinMax\", classifiers_list, test_ratio = 0.20, target='travel_mode')\n",
    "    result_df  = pd.DataFrame(result_mat, columns=[\"Acc\",\"AUC\",\"F1_Score\"])\n",
    "    result_df.index = classifiers_list\n",
    "    print(s)\n",
    "    print(result_df)\n",
    "    print()"
   ]
  },
  {
   "cell_type": "code",
   "execution_count": 6,
   "metadata": {},
   "outputs": [
    {
     "name": "stdout",
     "output_type": "stream",
     "text": [
      "         Average WD (Continuous Columns  Average JSD (Categorical Columns)  \\\n",
      "CTABGAN                        0.029011                           0.121527   \n",
      "CTGAN                          0.022925                           0.097058   \n",
      "DATGAN                         0.007726                           0.019094   \n",
      "\n",
      "         Correlation Distance  \n",
      "CTABGAN              2.713892  \n",
      "CTGAN                1.899819  \n",
      "DATGAN               1.730790  \n"
     ]
    }
   ],
   "source": [
    "if dataset is 'Chicago':\n",
    "    discrete_columns = [\n",
    "        'choice',\n",
    "        'travel_dow',\n",
    "        'trip_purpose',\n",
    "        'hh_vehicles',\n",
    "        'hh_size',\n",
    "        'hh_bikes',\n",
    "        'hh_descr',\n",
    "        'hh_income',\n",
    "        'gender',\n",
    "        'license',\n",
    "        'education_level',\n",
    "        'work_status'\n",
    "    ]\n",
    "elif dataset is 'LPMC':\n",
    "    discrete_columns = [\n",
    "        'travel_mode',\n",
    "        'purpose',\n",
    "        'fueltype',\n",
    "        'faretype',\n",
    "        'bus_scale',\n",
    "        'travel_year',\n",
    "        'travel_month',\n",
    "        'travel_date',\n",
    "        'day_of_week',\n",
    "        'female',\n",
    "        'driving_license',\n",
    "        'car_ownership',\n",
    "        'pt_n_interchanges',\n",
    "        'cost_driving_con_charge'\n",
    "    ]\n",
    "\n",
    "stat_res_avg = []\n",
    "for s in files_:\n",
    "    stat_res = stat_sim(orig_path,files_[s],discrete_columns)\n",
    "    stat_res_avg.append(stat_res)\n",
    "\n",
    "stat_columns = [\"Average WD (Continuous Columns\",\"Average JSD (Categorical Columns)\",\"Correlation Distance\"]\n",
    "stat_results = pd.DataFrame(np.array(stat_res_avg),columns=stat_columns)\n",
    "stat_results.index = files_.keys()\n",
    "print(stat_results)"
   ]
  },
  {
   "cell_type": "code",
   "execution_count": 7,
   "metadata": {},
   "outputs": [
    {
     "name": "stdout",
     "output_type": "stream",
     "text": [
      "         DCR between Real and Fake (5th perc)  DCR within Real(5th perc)  \\\n",
      "CTABGAN                              2.903798                   1.625665   \n",
      "CTGAN                                1.849950                   1.625665   \n",
      "DATGAN                               1.708961                   1.625665   \n",
      "\n",
      "         DCR within Fake (5th perc)  NNDR between Real and Fake (5th perc)  \\\n",
      "CTABGAN                    1.685415                               0.876397   \n",
      "CTGAN                      1.833297                               0.764490   \n",
      "DATGAN                     1.713483                               0.728039   \n",
      "\n",
      "         NNDR within Real (5th perc)  NNDR within Fake (5th perc)  \n",
      "CTABGAN                     0.716443                     0.728822  \n",
      "CTGAN                       0.716443                     0.749853  \n",
      "DATGAN                      0.716443                     0.736681  \n"
     ]
    }
   ],
   "source": [
    "priv_res_avg = []\n",
    "for s in files_:\n",
    "    priv_res = privacy_metrics(orig_path,files_[s])\n",
    "    priv_res_avg.append(priv_res)\n",
    "    \n",
    "privacy_columns = [\"DCR between Real and Fake (5th perc)\",\"DCR within Real(5th perc)\",\"DCR within Fake (5th perc)\",\"NNDR between Real and Fake (5th perc)\",\"NNDR within Real (5th perc)\",\"NNDR within Fake (5th perc)\"]\n",
    "privacy_results = pd.DataFrame(np.array(priv_res_avg).reshape(3,6),columns=privacy_columns)\n",
    "privacy_results.index = files_.keys()\n",
    "print(privacy_results)"
   ]
  },
  {
   "cell_type": "code",
   "execution_count": null,
   "metadata": {},
   "outputs": [],
   "source": []
  }
 ],
 "metadata": {
  "kernelspec": {
   "display_name": "Python 3",
   "language": "python",
   "name": "python3"
  },
  "language_info": {
   "codemirror_mode": {
    "name": "ipython",
    "version": 3
   },
   "file_extension": ".py",
   "mimetype": "text/x-python",
   "name": "python",
   "nbconvert_exporter": "python",
   "pygments_lexer": "ipython3",
   "version": "3.7.9"
  }
 },
 "nbformat": 4,
 "nbformat_minor": 4
}
