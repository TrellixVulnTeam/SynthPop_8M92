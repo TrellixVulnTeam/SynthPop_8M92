{
 "cells": [
  {
   "cell_type": "code",
   "execution_count": 1,
   "metadata": {},
   "outputs": [],
   "source": [
    "import os\n",
    "os.chdir('../..')"
   ]
  },
  {
   "cell_type": "code",
   "execution_count": 2,
   "metadata": {},
   "outputs": [
    {
     "name": "stderr",
     "output_type": "stream",
     "text": [
      "D:\\Users\\glede\\anaconda3\\envs\\py37\\lib\\site-packages\\ipykernel_launcher.py:6: DeprecationWarning: Using or importing the ABCs from 'collections' instead of from 'collections.abc' is deprecated since Python 3.3,and in 3.9 it will stop working\n",
      "  \n"
     ]
    }
   ],
   "source": [
    "import numpy as np\n",
    "import pandas as pd\n",
    "import matplotlib.pyplot as plt\n",
    "import matplotlib\n",
    "from sklearn.linear_model import LinearRegression\n",
    "from collections import Iterable\n",
    "import random\n",
    "from os import listdir\n",
    "from os.path import isfile, join\n",
    "\n",
    "import scipy.stats as st\n",
    "\n",
    "import seaborn as sns\n",
    "sns.set_style(\"whitegrid\")\n",
    "\n",
    "# For the Python notebook\n",
    "%matplotlib inline\n",
    "%reload_ext autoreload\n",
    "%autoreload 2"
   ]
  },
  {
   "cell_type": "markdown",
   "metadata": {},
   "source": [
    "# Calculations for stats and plots are based on: https://github.com/stasmix/popsynth/blob/master/pop-synth-vae.ipynb"
   ]
  },
  {
   "cell_type": "markdown",
   "metadata": {},
   "source": [
    "# Load the files"
   ]
  },
  {
   "cell_type": "code",
   "execution_count": 3,
   "metadata": {},
   "outputs": [],
   "source": [
    "dataset = 'LPMC'"
   ]
  },
  {
   "cell_type": "code",
   "execution_count": 4,
   "metadata": {},
   "outputs": [],
   "source": [
    "synth_dir = '../synth_data/' + dataset\n",
    "\n",
    "files = ['../data/' + dataset + '/data.csv']\n",
    "labels = ['original']\n",
    "\n",
    "for f in listdir(synth_dir):\n",
    "    if isfile(join(synth_dir, f)):\n",
    "        files.append(join(synth_dir, f))\n",
    "        labels.append(f.split('.')[0])"
   ]
  },
  {
   "cell_type": "code",
   "execution_count": 5,
   "metadata": {},
   "outputs": [
    {
     "data": {
      "text/plain": [
       "['original', 'CTGAN', 'DATGAN', 'TGAN']"
      ]
     },
     "execution_count": 5,
     "metadata": {},
     "output_type": "execute_result"
    }
   ],
   "source": [
    "labels"
   ]
  },
  {
   "cell_type": "code",
   "execution_count": 6,
   "metadata": {},
   "outputs": [],
   "source": [
    "dfs = [pd.read_csv(file) for file in files]"
   ]
  },
  {
   "cell_type": "code",
   "execution_count": 7,
   "metadata": {},
   "outputs": [],
   "source": [
    "if dataset is 'Chicago':\n",
    "    continuous_cols = ['distance', 'age', 'departure_time']\n",
    "elif dataset is 'LPMC':\n",
    "    continuous_cols = ['start_time_linear', 'age', 'distance', 'dur_walking', 'dur_cycling', 'dur_pt_access', 'dur_pt_rail', 'dur_pt_bus', 'dur_pt_int', 'dur_driving', 'cost_transit', 'cost_driving_fuel', 'driving_traffic_percent']"
   ]
  },
  {
   "cell_type": "code",
   "execution_count": 8,
   "metadata": {},
   "outputs": [
    {
     "data": {
      "text/html": [
       "<div>\n",
       "<style scoped>\n",
       "    .dataframe tbody tr th:only-of-type {\n",
       "        vertical-align: middle;\n",
       "    }\n",
       "\n",
       "    .dataframe tbody tr th {\n",
       "        vertical-align: top;\n",
       "    }\n",
       "\n",
       "    .dataframe thead th {\n",
       "        text-align: right;\n",
       "    }\n",
       "</style>\n",
       "<table border=\"1\" class=\"dataframe\">\n",
       "  <thead>\n",
       "    <tr style=\"text-align: right;\">\n",
       "      <th></th>\n",
       "      <th>travel_mode</th>\n",
       "      <th>purpose</th>\n",
       "      <th>fueltype</th>\n",
       "      <th>faretype</th>\n",
       "      <th>bus_scale</th>\n",
       "      <th>survey_year</th>\n",
       "      <th>travel_year</th>\n",
       "      <th>travel_month</th>\n",
       "      <th>travel_date</th>\n",
       "      <th>day_of_week</th>\n",
       "      <th>...</th>\n",
       "      <th>dur_pt_access</th>\n",
       "      <th>dur_pt_rail</th>\n",
       "      <th>dur_pt_bus</th>\n",
       "      <th>dur_pt_int</th>\n",
       "      <th>pt_n_interchanges</th>\n",
       "      <th>dur_driving</th>\n",
       "      <th>cost_transit</th>\n",
       "      <th>cost_driving_fuel</th>\n",
       "      <th>cost_driving_con_charge</th>\n",
       "      <th>driving_traffic_percent</th>\n",
       "    </tr>\n",
       "  </thead>\n",
       "  <tbody>\n",
       "    <tr>\n",
       "      <th>0</th>\n",
       "      <td>drive</td>\n",
       "      <td>HBO</td>\n",
       "      <td>Petrol_Car</td>\n",
       "      <td>full</td>\n",
       "      <td>1.0</td>\n",
       "      <td>1</td>\n",
       "      <td>2012</td>\n",
       "      <td>4</td>\n",
       "      <td>1</td>\n",
       "      <td>7</td>\n",
       "      <td>...</td>\n",
       "      <td>0.134444</td>\n",
       "      <td>0.000000</td>\n",
       "      <td>0.016667</td>\n",
       "      <td>0.000000</td>\n",
       "      <td>0</td>\n",
       "      <td>0.052222</td>\n",
       "      <td>1.5</td>\n",
       "      <td>0.14</td>\n",
       "      <td>0.0</td>\n",
       "      <td>0.111702</td>\n",
       "    </tr>\n",
       "    <tr>\n",
       "      <th>1</th>\n",
       "      <td>drive</td>\n",
       "      <td>HBO</td>\n",
       "      <td>Petrol_Car</td>\n",
       "      <td>full</td>\n",
       "      <td>1.0</td>\n",
       "      <td>1</td>\n",
       "      <td>2012</td>\n",
       "      <td>4</td>\n",
       "      <td>1</td>\n",
       "      <td>7</td>\n",
       "      <td>...</td>\n",
       "      <td>0.109444</td>\n",
       "      <td>0.000000</td>\n",
       "      <td>0.055556</td>\n",
       "      <td>0.000000</td>\n",
       "      <td>0</td>\n",
       "      <td>0.059444</td>\n",
       "      <td>1.5</td>\n",
       "      <td>0.15</td>\n",
       "      <td>0.0</td>\n",
       "      <td>0.112150</td>\n",
       "    </tr>\n",
       "    <tr>\n",
       "      <th>2</th>\n",
       "      <td>drive</td>\n",
       "      <td>HBO</td>\n",
       "      <td>Petrol_Car</td>\n",
       "      <td>full</td>\n",
       "      <td>1.0</td>\n",
       "      <td>1</td>\n",
       "      <td>2012</td>\n",
       "      <td>4</td>\n",
       "      <td>1</td>\n",
       "      <td>7</td>\n",
       "      <td>...</td>\n",
       "      <td>0.203056</td>\n",
       "      <td>0.000000</td>\n",
       "      <td>0.210278</td>\n",
       "      <td>0.000000</td>\n",
       "      <td>0</td>\n",
       "      <td>0.236667</td>\n",
       "      <td>1.5</td>\n",
       "      <td>0.79</td>\n",
       "      <td>0.0</td>\n",
       "      <td>0.203052</td>\n",
       "    </tr>\n",
       "    <tr>\n",
       "      <th>3</th>\n",
       "      <td>drive</td>\n",
       "      <td>HBO</td>\n",
       "      <td>Petrol_Car</td>\n",
       "      <td>full</td>\n",
       "      <td>1.0</td>\n",
       "      <td>1</td>\n",
       "      <td>2012</td>\n",
       "      <td>4</td>\n",
       "      <td>1</td>\n",
       "      <td>7</td>\n",
       "      <td>...</td>\n",
       "      <td>0.205556</td>\n",
       "      <td>0.000000</td>\n",
       "      <td>0.258611</td>\n",
       "      <td>0.000000</td>\n",
       "      <td>0</td>\n",
       "      <td>0.233333</td>\n",
       "      <td>1.5</td>\n",
       "      <td>0.78</td>\n",
       "      <td>0.0</td>\n",
       "      <td>0.160714</td>\n",
       "    </tr>\n",
       "    <tr>\n",
       "      <th>4</th>\n",
       "      <td>drive</td>\n",
       "      <td>HBO</td>\n",
       "      <td>Petrol_Car</td>\n",
       "      <td>dis</td>\n",
       "      <td>1.0</td>\n",
       "      <td>1</td>\n",
       "      <td>2012</td>\n",
       "      <td>4</td>\n",
       "      <td>1</td>\n",
       "      <td>7</td>\n",
       "      <td>...</td>\n",
       "      <td>0.203056</td>\n",
       "      <td>0.000000</td>\n",
       "      <td>0.189444</td>\n",
       "      <td>0.000000</td>\n",
       "      <td>0</td>\n",
       "      <td>0.229167</td>\n",
       "      <td>1.5</td>\n",
       "      <td>0.78</td>\n",
       "      <td>0.0</td>\n",
       "      <td>0.130909</td>\n",
       "    </tr>\n",
       "    <tr>\n",
       "      <th>...</th>\n",
       "      <td>...</td>\n",
       "      <td>...</td>\n",
       "      <td>...</td>\n",
       "      <td>...</td>\n",
       "      <td>...</td>\n",
       "      <td>...</td>\n",
       "      <td>...</td>\n",
       "      <td>...</td>\n",
       "      <td>...</td>\n",
       "      <td>...</td>\n",
       "      <td>...</td>\n",
       "      <td>...</td>\n",
       "      <td>...</td>\n",
       "      <td>...</td>\n",
       "      <td>...</td>\n",
       "      <td>...</td>\n",
       "      <td>...</td>\n",
       "      <td>...</td>\n",
       "      <td>...</td>\n",
       "      <td>...</td>\n",
       "      <td>...</td>\n",
       "    </tr>\n",
       "    <tr>\n",
       "      <th>81081</th>\n",
       "      <td>drive</td>\n",
       "      <td>HBO</td>\n",
       "      <td>Average_Car</td>\n",
       "      <td>full</td>\n",
       "      <td>1.0</td>\n",
       "      <td>3</td>\n",
       "      <td>2015</td>\n",
       "      <td>3</td>\n",
       "      <td>31</td>\n",
       "      <td>2</td>\n",
       "      <td>...</td>\n",
       "      <td>0.129722</td>\n",
       "      <td>0.466667</td>\n",
       "      <td>0.203333</td>\n",
       "      <td>0.216667</td>\n",
       "      <td>2</td>\n",
       "      <td>0.859722</td>\n",
       "      <td>4.3</td>\n",
       "      <td>2.48</td>\n",
       "      <td>0.0</td>\n",
       "      <td>0.402262</td>\n",
       "    </tr>\n",
       "    <tr>\n",
       "      <th>81082</th>\n",
       "      <td>drive</td>\n",
       "      <td>NHBO</td>\n",
       "      <td>Average_Car</td>\n",
       "      <td>full</td>\n",
       "      <td>1.0</td>\n",
       "      <td>3</td>\n",
       "      <td>2015</td>\n",
       "      <td>3</td>\n",
       "      <td>31</td>\n",
       "      <td>2</td>\n",
       "      <td>...</td>\n",
       "      <td>0.047500</td>\n",
       "      <td>0.466667</td>\n",
       "      <td>0.083333</td>\n",
       "      <td>0.183333</td>\n",
       "      <td>2</td>\n",
       "      <td>0.925833</td>\n",
       "      <td>4.3</td>\n",
       "      <td>2.53</td>\n",
       "      <td>0.0</td>\n",
       "      <td>0.503750</td>\n",
       "    </tr>\n",
       "    <tr>\n",
       "      <th>81083</th>\n",
       "      <td>drive</td>\n",
       "      <td>HBO</td>\n",
       "      <td>Average_Car</td>\n",
       "      <td>full</td>\n",
       "      <td>1.0</td>\n",
       "      <td>3</td>\n",
       "      <td>2015</td>\n",
       "      <td>3</td>\n",
       "      <td>31</td>\n",
       "      <td>2</td>\n",
       "      <td>...</td>\n",
       "      <td>0.118611</td>\n",
       "      <td>0.000000</td>\n",
       "      <td>0.166667</td>\n",
       "      <td>0.000000</td>\n",
       "      <td>0</td>\n",
       "      <td>0.112500</td>\n",
       "      <td>1.5</td>\n",
       "      <td>0.32</td>\n",
       "      <td>0.0</td>\n",
       "      <td>0.234568</td>\n",
       "    </tr>\n",
       "    <tr>\n",
       "      <th>81084</th>\n",
       "      <td>pt</td>\n",
       "      <td>HBW</td>\n",
       "      <td>Average_Car</td>\n",
       "      <td>full</td>\n",
       "      <td>1.0</td>\n",
       "      <td>3</td>\n",
       "      <td>2015</td>\n",
       "      <td>3</td>\n",
       "      <td>31</td>\n",
       "      <td>2</td>\n",
       "      <td>...</td>\n",
       "      <td>0.215833</td>\n",
       "      <td>0.283333</td>\n",
       "      <td>0.186667</td>\n",
       "      <td>0.250000</td>\n",
       "      <td>2</td>\n",
       "      <td>1.121944</td>\n",
       "      <td>4.4</td>\n",
       "      <td>2.38</td>\n",
       "      <td>10.5</td>\n",
       "      <td>0.760832</td>\n",
       "    </tr>\n",
       "    <tr>\n",
       "      <th>81085</th>\n",
       "      <td>pt</td>\n",
       "      <td>HBW</td>\n",
       "      <td>Average_Car</td>\n",
       "      <td>full</td>\n",
       "      <td>1.0</td>\n",
       "      <td>3</td>\n",
       "      <td>2015</td>\n",
       "      <td>3</td>\n",
       "      <td>31</td>\n",
       "      <td>2</td>\n",
       "      <td>...</td>\n",
       "      <td>0.285833</td>\n",
       "      <td>0.533333</td>\n",
       "      <td>0.000000</td>\n",
       "      <td>0.100000</td>\n",
       "      <td>1</td>\n",
       "      <td>0.941389</td>\n",
       "      <td>5.9</td>\n",
       "      <td>2.38</td>\n",
       "      <td>0.0</td>\n",
       "      <td>0.652995</td>\n",
       "    </tr>\n",
       "  </tbody>\n",
       "</table>\n",
       "<p>81086 rows × 28 columns</p>\n",
       "</div>"
      ],
      "text/plain": [
       "      travel_mode purpose     fueltype faretype  bus_scale  survey_year  \\\n",
       "0           drive     HBO   Petrol_Car     full        1.0            1   \n",
       "1           drive     HBO   Petrol_Car     full        1.0            1   \n",
       "2           drive     HBO   Petrol_Car     full        1.0            1   \n",
       "3           drive     HBO   Petrol_Car     full        1.0            1   \n",
       "4           drive     HBO   Petrol_Car      dis        1.0            1   \n",
       "...           ...     ...          ...      ...        ...          ...   \n",
       "81081       drive     HBO  Average_Car     full        1.0            3   \n",
       "81082       drive    NHBO  Average_Car     full        1.0            3   \n",
       "81083       drive     HBO  Average_Car     full        1.0            3   \n",
       "81084          pt     HBW  Average_Car     full        1.0            3   \n",
       "81085          pt     HBW  Average_Car     full        1.0            3   \n",
       "\n",
       "       travel_year  travel_month  travel_date  day_of_week  ...  \\\n",
       "0             2012             4            1            7  ...   \n",
       "1             2012             4            1            7  ...   \n",
       "2             2012             4            1            7  ...   \n",
       "3             2012             4            1            7  ...   \n",
       "4             2012             4            1            7  ...   \n",
       "...            ...           ...          ...          ...  ...   \n",
       "81081         2015             3           31            2  ...   \n",
       "81082         2015             3           31            2  ...   \n",
       "81083         2015             3           31            2  ...   \n",
       "81084         2015             3           31            2  ...   \n",
       "81085         2015             3           31            2  ...   \n",
       "\n",
       "       dur_pt_access  dur_pt_rail  dur_pt_bus  dur_pt_int  pt_n_interchanges  \\\n",
       "0           0.134444     0.000000    0.016667    0.000000                  0   \n",
       "1           0.109444     0.000000    0.055556    0.000000                  0   \n",
       "2           0.203056     0.000000    0.210278    0.000000                  0   \n",
       "3           0.205556     0.000000    0.258611    0.000000                  0   \n",
       "4           0.203056     0.000000    0.189444    0.000000                  0   \n",
       "...              ...          ...         ...         ...                ...   \n",
       "81081       0.129722     0.466667    0.203333    0.216667                  2   \n",
       "81082       0.047500     0.466667    0.083333    0.183333                  2   \n",
       "81083       0.118611     0.000000    0.166667    0.000000                  0   \n",
       "81084       0.215833     0.283333    0.186667    0.250000                  2   \n",
       "81085       0.285833     0.533333    0.000000    0.100000                  1   \n",
       "\n",
       "       dur_driving  cost_transit  cost_driving_fuel  cost_driving_con_charge  \\\n",
       "0         0.052222           1.5               0.14                      0.0   \n",
       "1         0.059444           1.5               0.15                      0.0   \n",
       "2         0.236667           1.5               0.79                      0.0   \n",
       "3         0.233333           1.5               0.78                      0.0   \n",
       "4         0.229167           1.5               0.78                      0.0   \n",
       "...            ...           ...                ...                      ...   \n",
       "81081     0.859722           4.3               2.48                      0.0   \n",
       "81082     0.925833           4.3               2.53                      0.0   \n",
       "81083     0.112500           1.5               0.32                      0.0   \n",
       "81084     1.121944           4.4               2.38                     10.5   \n",
       "81085     0.941389           5.9               2.38                      0.0   \n",
       "\n",
       "       driving_traffic_percent  \n",
       "0                     0.111702  \n",
       "1                     0.112150  \n",
       "2                     0.203052  \n",
       "3                     0.160714  \n",
       "4                     0.130909  \n",
       "...                        ...  \n",
       "81081                 0.402262  \n",
       "81082                 0.503750  \n",
       "81083                 0.234568  \n",
       "81084                 0.760832  \n",
       "81085                 0.652995  \n",
       "\n",
       "[81086 rows x 28 columns]"
      ]
     },
     "execution_count": 8,
     "metadata": {},
     "output_type": "execute_result"
    }
   ],
   "source": [
    "dfs[0]"
   ]
  },
  {
   "cell_type": "markdown",
   "metadata": {},
   "source": [
    "# Transform all values in numerical"
   ]
  },
  {
   "cell_type": "code",
   "execution_count": 9,
   "metadata": {},
   "outputs": [
    {
     "data": {
      "text/plain": [
       "travel_mode                 object\n",
       "purpose                     object\n",
       "fueltype                    object\n",
       "faretype                    object\n",
       "bus_scale                  float64\n",
       "survey_year                  int64\n",
       "travel_year                  int64\n",
       "travel_month                 int64\n",
       "travel_date                  int64\n",
       "day_of_week                  int64\n",
       "start_time_linear          float64\n",
       "age                          int64\n",
       "female                       int64\n",
       "driving_license              int64\n",
       "car_ownership                int64\n",
       "distance                     int64\n",
       "dur_walking                float64\n",
       "dur_cycling                float64\n",
       "dur_pt_access              float64\n",
       "dur_pt_rail                float64\n",
       "dur_pt_bus                 float64\n",
       "dur_pt_int                 float64\n",
       "pt_n_interchanges            int64\n",
       "dur_driving                float64\n",
       "cost_transit               float64\n",
       "cost_driving_fuel          float64\n",
       "cost_driving_con_charge    float64\n",
       "driving_traffic_percent    float64\n",
       "dtype: object"
      ]
     },
     "execution_count": 9,
     "metadata": {},
     "output_type": "execute_result"
    }
   ],
   "source": [
    "dfs[0].dtypes"
   ]
  },
  {
   "cell_type": "code",
   "execution_count": 10,
   "metadata": {},
   "outputs": [],
   "source": [
    "if dataset is 'Chicago':\n",
    "    ints = ['travel_dow', 'hh_vehicles', 'hh_size', 'hh_bikes', 'hh_descr', 'hh_income', 'gender', 'education_level', 'age']\n",
    "    floats = ['departure_time', 'distance', 'license']\n",
    "    strs = ['choice', 'trip_purpose', 'work_status']\n",
    "elif dataset is 'LPMC':\n",
    "    ints = ['survey_year', 'travel_year', 'travel_month', 'travel_date', 'day_of_week', 'age', 'female', 'driving_license', 'car_ownership', 'distance', 'pt_n_interchanges']\n",
    "    floats = ['bus_scale', 'start_time_linear', 'dur_walking', 'dur_cycling', 'dur_pt_access', 'dur_pt_rail', 'dur_pt_bus', 'dur_pt_int', 'dur_driving', 'cost_transit', 'cost_driving_fuel', 'cost_driving_con_charge', 'driving_traffic_percent']\n",
    "    strs = ['travel_mode', 'purpose', 'fueltype', 'faretype']"
   ]
  },
  {
   "cell_type": "code",
   "execution_count": 11,
   "metadata": {},
   "outputs": [],
   "source": [
    "dct = {}\n",
    "\n",
    "for i in ints:\n",
    "    dct[i] = 'int64'\n",
    "    \n",
    "for i in floats:\n",
    "    dct[i] = 'float64'"
   ]
  },
  {
   "cell_type": "code",
   "execution_count": 12,
   "metadata": {},
   "outputs": [],
   "source": [
    "dfs = [df.astype(dct) for df in dfs]"
   ]
  },
  {
   "cell_type": "code",
   "execution_count": 13,
   "metadata": {},
   "outputs": [],
   "source": [
    "for c in strs: \n",
    "    dct = {}\n",
    "    \n",
    "    for n, i in enumerate(dfs[0][c].unique()):        \n",
    "        dct[i] = n\n",
    "        \n",
    "    dfs = [df.replace(dct) for df in dfs]"
   ]
  },
  {
   "cell_type": "code",
   "execution_count": 14,
   "metadata": {},
   "outputs": [
    {
     "data": {
      "text/plain": [
       "travel_mode                  int64\n",
       "purpose                      int64\n",
       "fueltype                     int64\n",
       "faretype                     int64\n",
       "bus_scale                  float64\n",
       "survey_year                  int64\n",
       "travel_year                  int64\n",
       "travel_month                 int64\n",
       "travel_date                  int64\n",
       "day_of_week                  int64\n",
       "start_time_linear          float64\n",
       "age                          int64\n",
       "female                       int64\n",
       "driving_license              int64\n",
       "car_ownership                int64\n",
       "distance                     int64\n",
       "dur_walking                float64\n",
       "dur_cycling                float64\n",
       "dur_pt_access              float64\n",
       "dur_pt_rail                float64\n",
       "dur_pt_bus                 float64\n",
       "dur_pt_int                 float64\n",
       "pt_n_interchanges            int64\n",
       "dur_driving                float64\n",
       "cost_transit               float64\n",
       "cost_driving_fuel          float64\n",
       "cost_driving_con_charge    float64\n",
       "driving_traffic_percent    float64\n",
       "dtype: object"
      ]
     },
     "execution_count": 14,
     "metadata": {},
     "output_type": "execute_result"
    }
   ],
   "source": [
    "dfs[0].dtypes"
   ]
  },
  {
   "cell_type": "markdown",
   "metadata": {},
   "source": [
    "# Compute the stats"
   ]
  },
  {
   "cell_type": "code",
   "execution_count": 15,
   "metadata": {},
   "outputs": [],
   "source": [
    "# calculate min_max_bins for an arbitrary discretization scheme\n",
    "def get_min_max(data1, data2, num_bins, cont_cols):\n",
    "    \"\"\"\n",
    "    Create a dictionnary with all variables indicating the number of bins and the min and max value \n",
    "    \"\"\"\n",
    "    \n",
    "    min_max = {}\n",
    "    eps = 1e-10\n",
    "    \n",
    "    # Go through all columns in the first dataset (assuming data2 has the same columns)\n",
    "    for c in data1.columns:\n",
    "        if c in cont_cols: # Continuous column\n",
    "            \n",
    "            # Compute min and max values between both datasets\n",
    "            min_val = min(np.min(data1[c]), np.min(data2[c])) - eps\n",
    "            max_val = max(np.max(data1[c]), np.max(data2[c])) + eps\n",
    "            \n",
    "            # Fill the dict\n",
    "            min_max[c] = [min_val, max_val, num_bins]\n",
    "            \n",
    "        else: # Categorical column\n",
    "            # Set of all unique values in both datasets\n",
    "            unique_vals = set(np.unique(data1[c])).union(set(np.unique(data2[c])))\n",
    "                                    \n",
    "            num_bins_cat = min(len(unique_vals), num_bins)\n",
    "            \n",
    "            min_max[c] = [min(unique_vals), max(unique_vals), num_bins_cat]\n",
    "                \n",
    "\n",
    "    return min_max"
   ]
  },
  {
   "cell_type": "code",
   "execution_count": 16,
   "metadata": {},
   "outputs": [],
   "source": [
    "def get_frequency_list(original, synthetic, max_num_bins, cat=True):\n",
    "    \"\"\"\n",
    "    Compute the frequency lists\n",
    "    \"\"\"\n",
    "    \n",
    "    # Check if the number of unique values is less than the max\n",
    "    # number of bins for the cat variables\n",
    "    if cat:\n",
    "        unique_vals = set(np.unique(original)).union(set(np.unique(synthetic)))\n",
    "        \n",
    "        if len(unique_vals) > max_num_bins:\n",
    "            cat = False\n",
    "    \n",
    "    eps = 1e-10\n",
    "    # Compute min and max values between both datasets\n",
    "    min_val = min(np.min(original), np.min(synthetic)) - eps\n",
    "    max_val = max(np.max(original), np.max(synthetic)) + eps\n",
    "    \n",
    "    # Compute the bins\n",
    "    bins = []\n",
    "    if cat:\n",
    "        # bins = all values\n",
    "        bins = list(unique_vals)\n",
    "        bins.sort()\n",
    "    else:\n",
    "        # bins = hist bins\n",
    "        delta = (max_val-min_val)/max_num_bins\n",
    "        for i in range(max_num_bins+1):\n",
    "            bins.append(min_val+delta*i)\n",
    "            \n",
    "    # Calculate the frequencies\n",
    "    freqs = []\n",
    "    if cat:\n",
    "        count_orig = [(original==b).sum() for b in bins]\n",
    "        count_synth = [(synthetic==b).sum() for b in bins]\n",
    "        \n",
    "        freqs = [count_orig, count_synth]\n",
    "    else:\n",
    "        hist_orig, _ = np.histogram(original, bins)\n",
    "        hist_synth, _ = np.histogram(synthetic, bins)\n",
    "        \n",
    "        freqs = [hist_orig, hist_synth]\n",
    "\n",
    "            \n",
    "    return freqs, bins"
   ]
  },
  {
   "cell_type": "code",
   "execution_count": 17,
   "metadata": {},
   "outputs": [],
   "source": [
    "def stats(freq_list_orig, freq_list_synth):\n",
    "    \"\"\"\n",
    "    Different statistics computed on the frequency list\n",
    "    \n",
    "    \"\"\"\n",
    "    freq_list_orig, freq_list_synth = np.array(freq_list_orig), np.array(freq_list_synth)\n",
    "    corr_mat = np.corrcoef(freq_list_orig, freq_list_synth)\n",
    "    corr = corr_mat[0, 1]\n",
    "    if np.isnan(corr): corr = 0.0\n",
    "    # MAE\n",
    "    mae = np.absolute(freq_list_orig - freq_list_synth).mean()\n",
    "    # RMSE\n",
    "    rmse = np.linalg.norm(freq_list_orig - freq_list_synth) / np.sqrt(len(freq_list_orig))\n",
    "    # SRMSE\n",
    "    freq_list_orig_avg = freq_list_orig.mean()\n",
    "    srmse = rmse / freq_list_orig_avg\n",
    "    # r-square\n",
    "    u = np.sum((freq_list_synth - freq_list_orig)**2)\n",
    "    v = np.sum((freq_list_orig - freq_list_orig_avg)**2)\n",
    "    r2 = 1.0 - u / v\n",
    "    stat = {'mae': mae, 'rmse': rmse, 'r2': r2, 'srmse': srmse, 'corr': corr}\n",
    "    \n",
    "    return stat"
   ]
  },
  {
   "cell_type": "code",
   "execution_count": 18,
   "metadata": {},
   "outputs": [],
   "source": [
    "def plot(freqs_original, freqs_synthetic, title=None, filename=None):\n",
    "    f = plt.figure(figsize=(10,10))\n",
    "    \n",
    "    font = {'family' : 'normal',\n",
    "        'weight' : 'normal',\n",
    "        'size'   : 18}\n",
    "\n",
    "    matplotlib.rc('font', **font)\n",
    "    ax = f.add_subplot(111)\n",
    "    \n",
    "    min_val = min(np.min(freqs_original), np.min(freqs_synthetic))\n",
    "    max_val = max(np.max(freqs_original), np.max(freqs_synthetic))\n",
    "    \n",
    "    plt.plot(freqs_original, freqs_synthetic, 'ok')\n",
    "    \n",
    "    reg = LinearRegression()\n",
    "    reg.fit(np.array(freqs_original)[:, np.newaxis], np.array(freqs_synthetic))\n",
    "    \n",
    "    xfit = np.linspace(np.min(freqs_original), np.max(freqs_original), 10)\n",
    "    yfit = reg.predict(xfit[:, np.newaxis])\n",
    "    \n",
    "    plt.plot(xfit, yfit, 'grey')\n",
    "    \n",
    "    stat = stats(freqs_original, freqs_synthetic)\n",
    "    \n",
    "    str_ = \"SRMSE={:.3f}\\nR²={:.3f}\\ny={:.3f}x\".format(stat['srmse'], stat['r2'], reg.coef_[0])\n",
    "    \n",
    "    t = plt.text(0.05, 0.9,str_,\n",
    "                 horizontalalignment='left',\n",
    "                 verticalalignment='center',\n",
    "                 transform = ax.transAxes,\n",
    "                 fontsize=18)\n",
    "    \n",
    "    t.set_bbox(dict(facecolor='white', alpha=1, edgecolor='black'))\n",
    "    \n",
    "    plt.xlabel('Observed frequencies')\n",
    "    plt.ylabel('Simulated frequencies')\n",
    "    plt.xlim((0,8000))\n",
    "    plt.ylim((0,8000))\n",
    "    \n",
    "    if title is not None:\n",
    "        plt.title(title)\n",
    "        \n",
    "    if filename is not None:\n",
    "        plt.savefig(filename + '.png', bbox_inches='tight')\n",
    "        plt.savefig(filename + '.pdf', bbox_inches='tight')"
   ]
  },
  {
   "cell_type": "markdown",
   "metadata": {},
   "source": [
    "# Let's have some fun =)"
   ]
  },
  {
   "cell_type": "code",
   "execution_count": 19,
   "metadata": {},
   "outputs": [],
   "source": [
    "orig_freqs = []\n",
    "synth_freqs = []\n",
    "\n",
    "for i in range(len(dfs)-1):\n",
    "    synth_freqs.append([])\n",
    "\n",
    "for c in dfs[0].columns:\n",
    "    for i in range(1, len(dfs)):\n",
    "        \n",
    "        [a,b],bins = get_frequency_list(dfs[0][c], dfs[i][c], 50, c not in continuous_cols)\n",
    "        \n",
    "        if i == 1:\n",
    "            orig_freqs.append(a)\n",
    "        \n",
    "        synth_freqs[i-1].append(b)"
   ]
  },
  {
   "cell_type": "code",
   "execution_count": 20,
   "metadata": {},
   "outputs": [],
   "source": [
    "def flatten(items):\n",
    "    \"\"\"Yield items from any nested iterable; see Reference.\"\"\"\n",
    "    for x in items:\n",
    "        if isinstance(x, Iterable) and not isinstance(x, (str, bytes)):\n",
    "            for sub_x in flatten(x):\n",
    "                yield sub_x\n",
    "        else:\n",
    "            yield x"
   ]
  },
  {
   "cell_type": "code",
   "execution_count": 21,
   "metadata": {
    "scrolled": false
   },
   "outputs": [],
   "source": [
    "orig_freqs = list(flatten(orig_freqs))\n",
    "\n",
    "\n",
    "for i in range(len(synth_freqs)):\n",
    "    synth_freqs[i] = list(flatten(synth_freqs[i]))"
   ]
  },
  {
   "cell_type": "code",
   "execution_count": 22,
   "metadata": {
    "scrolled": false
   },
   "outputs": [
    {
     "name": "stderr",
     "output_type": "stream",
     "text": [
      "findfont: Font family ['normal'] not found. Falling back to DejaVu Sans.\n"
     ]
    },
    {
     "data": {
      "image/png": "[encoded data removed]",
      "text/plain": [
       "<Figure size 720x720 with 1 Axes>"
      ]
     },
     "metadata": {
      "needs_background": "light"
     },
     "output_type": "display_data"
    },
    {
     "data": {
      "image/png": "[encoded data removed]",
      "text/plain": [
       "<Figure size 720x720 with 1 Axes>"
      ]
     },
     "metadata": {
      "needs_background": "light"
     },
     "output_type": "display_data"
    },
    {
     "data": {
      "image/png": "[encoded data removed]",
      "text/plain": [
       "<Figure size 720x720 with 1 Axes>"
      ]
     },
     "metadata": {
      "needs_background": "light"
     },
     "output_type": "display_data"
    }
   ],
   "source": [
    "for i in range(len(synth_freqs)):  \n",
    "    #plot(orig_freqs, synth_freqs[i], labels[0] + ' - ' + labels[i+1])\n",
    "    plot(orig_freqs, synth_freqs[i], None, '../figures/' + dataset + '/' + labels[i+1])"
   ]
  },
  {
   "cell_type": "markdown",
   "metadata": {},
   "source": [
    "# Stats by model"
   ]
  },
  {
   "cell_type": "code",
   "execution_count": 23,
   "metadata": {},
   "outputs": [],
   "source": [
    "stats_vals = []\n",
    "\n",
    "for i in range(len(dfs)-1):\n",
    "    stats_vals.append({'mae': [], 'rmse': [], 'r2': [], 'srmse': [], 'corr': []})\n",
    "\n",
    "for c in dfs[0].columns:\n",
    "    for i in range(1, len(dfs)):\n",
    "        \n",
    "        [a,b],bins = get_frequency_list(dfs[0][c], dfs[i][c], 50)\n",
    "        \n",
    "        stat = stats(a,b)\n",
    "        \n",
    "        for k in stat.keys():\n",
    "            stats_vals[i-1][k].append(stat[k])\n",
    "            \n",
    "n = len(stats_vals)"
   ]
  },
  {
   "cell_type": "code",
   "execution_count": 24,
   "metadata": {},
   "outputs": [
    {
     "name": "stdout",
     "output_type": "stream",
     "text": [
      "Weighted average of SRMSE\n",
      "CTGAN: 0.267 +- 0.149\n",
      "DATGAN: 0.520 +- 0.660\n",
      "TGAN: 0.479 +- 0.577\n"
     ]
    }
   ],
   "source": [
    "print(\"Weighted average of SRMSE\")\n",
    "for i in range(n):\n",
    "    print(\"{}: {:.3f} +- {:.3f}\".format(labels[i+1], np.mean(stats_vals[i]['srmse']), np.std(stats_vals[i]['srmse'])))"
   ]
  },
  {
   "cell_type": "code",
   "execution_count": 25,
   "metadata": {},
   "outputs": [
    {
     "name": "stdout",
     "output_type": "stream",
     "text": [
      "Weighted average of RMSE\n",
      "CTGAN: 1889.071 +- 1886.681\n",
      "DATGAN: 1184.368 +- 936.730\n",
      "TGAN: 1280.164 +- 802.060\n"
     ]
    }
   ],
   "source": [
    "print(\"Weighted average of RMSE\")\n",
    "for i in range(n):\n",
    "    print(\"{}: {:.3f} +- {:.3f}\".format(labels[i+1], np.mean(stats_vals[i]['rmse']), np.std(stats_vals[i]['rmse'])))"
   ]
  },
  {
   "cell_type": "code",
   "execution_count": 26,
   "metadata": {},
   "outputs": [
    {
     "name": "stdout",
     "output_type": "stream",
     "text": [
      "Weighted average of MAE\n",
      "CTGAN: 1561.135 +- 1840.307\n",
      "DATGAN: 674.806 +- 482.744\n",
      "TGAN: 804.784 +- 518.845\n"
     ]
    }
   ],
   "source": [
    "print(\"Weighted average of MAE\")\n",
    "for i in range(n):\n",
    "    print(\"{}: {:.3f} +- {:.3f}\".format(labels[i+1], np.mean(stats_vals[i]['mae']), np.std(stats_vals[i]['mae'])))"
   ]
  },
  {
   "cell_type": "code",
   "execution_count": 27,
   "metadata": {},
   "outputs": [
    {
     "name": "stdout",
     "output_type": "stream",
     "text": [
      "Weighted average of R^2\n",
      "CTGAN: -0.540 +- 4.089\n",
      "DATGAN: 0.526 +- 0.967\n",
      "TGAN: -0.401 +- 4.694\n"
     ]
    }
   ],
   "source": [
    "print(\"Weighted average of R^2\")\n",
    "for i in range(n):\n",
    "    print(\"{}: {:.3f} +- {:.3f}\".format(labels[i+1], np.mean(stats_vals[i]['r2']), np.std(stats_vals[i]['r2'])))"
   ]
  },
  {
   "cell_type": "code",
   "execution_count": 28,
   "metadata": {},
   "outputs": [
    {
     "name": "stdout",
     "output_type": "stream",
     "text": [
      "Weighted average of corr\n",
      "CTGAN: 0.835 +- 0.369\n",
      "DATGAN: 0.859 +- 0.251\n",
      "TGAN: 0.827 +- 0.382\n"
     ]
    }
   ],
   "source": [
    "print(\"Weighted average of corr\")\n",
    "for i in range(n):\n",
    "    print(\"{}: {:.3f} +- {:.3f}\".format(labels[i+1], np.mean(stats_vals[i]['corr']), np.std(stats_vals[i]['corr'])))"
   ]
  },
  {
   "cell_type": "markdown",
   "metadata": {},
   "source": [
    "# Continuous vs Categorical"
   ]
  },
  {
   "cell_type": "code",
   "execution_count": 32,
   "metadata": {},
   "outputs": [],
   "source": [
    "msk = []\n",
    "for i in dfs[0].columns:\n",
    "    if i in continuous_cols:\n",
    "        msk.append(True)\n",
    "    else:\n",
    "        msk.append(False)\n",
    "msk = np.array(msk)"
   ]
  },
  {
   "cell_type": "code",
   "execution_count": 38,
   "metadata": {},
   "outputs": [
    {
     "name": "stdout",
     "output_type": "stream",
     "text": [
      "Weighted average of SRMSE (continuous / categorical)\n",
      "CTGAN: 0.372 +- 0.106 / 0.176 +- 0.117\n",
      "DATGAN: 1.068 +- 0.613 / 0.045 +- 0.035\n",
      "TGAN: 0.927 +- 0.566 / 0.090 +- 0.131\n"
     ]
    }
   ],
   "source": [
    "print(\"Weighted average of SRMSE (continuous / categorical)\")\n",
    "for i in range(n):\n",
    "    print(\"{}: {:.3f} +- {:.3f} / {:.3f} +- {:.3f}\".format(labels[i+1], np.mean(np.array(stats_vals[i]['srmse'])[msk]), \n",
    "                                                           np.std(np.array(stats_vals[i]['srmse'])[msk]),\n",
    "                                                           np.mean(np.array(stats_vals[i]['srmse'])[~msk]), \n",
    "                                                           np.std(np.array(stats_vals[i]['srmse'])[~msk])))"
   ]
  },
  {
   "cell_type": "code",
   "execution_count": 39,
   "metadata": {},
   "outputs": [
    {
     "name": "stdout",
     "output_type": "stream",
     "text": [
      "Weighted average of RMSE (continuous / categorical)\n",
      "CTGAN: 602.513 +- 171.888 / 3004.089 +- 1985.225\n",
      "DATGAN: 1731.990 +- 993.672 / 709.762 +- 545.017\n",
      "TGAN: 1503.707 +- 918.336 / 1086.427 +- 623.771\n"
     ]
    }
   ],
   "source": [
    "print(\"Weighted average of RMSE (continuous / categorical)\")\n",
    "for i in range(n):\n",
    "    print(\"{}: {:.3f} +- {:.3f} / {:.3f} +- {:.3f}\".format(labels[i+1], np.mean(np.array(stats_vals[i]['rmse'])[msk]), \n",
    "                                                           np.std(np.array(stats_vals[i]['rmse'])[msk]),\n",
    "                                                           np.mean(np.array(stats_vals[i]['rmse'])[~msk]), \n",
    "                                                           np.std(np.array(stats_vals[i]['rmse'])[~msk])))"
   ]
  },
  {
   "cell_type": "code",
   "execution_count": 40,
   "metadata": {},
   "outputs": [
    {
     "name": "stdout",
     "output_type": "stream",
     "text": [
      "Weighted average of MAE (continuous / categorical)\n",
      "CTGAN: 309.954 +- 80.598 / 2645.493 +- 1945.176\n",
      "DATGAN: 719.452 +- 438.831 / 636.112 +- 514.675\n",
      "TGAN: 635.831 +- 373.725 / 951.210 +- 579.033\n"
     ]
    }
   ],
   "source": [
    "print(\"Weighted average of MAE (continuous / categorical)\")\n",
    "for i in range(n):\n",
    "    print(\"{}: {:.3f} +- {:.3f} / {:.3f} +- {:.3f}\".format(labels[i+1], np.mean(np.array(stats_vals[i]['mae'])[msk]), \n",
    "                                                           np.std(np.array(stats_vals[i]['mae'])[msk]),\n",
    "                                                           np.mean(np.array(stats_vals[i]['mae'])[~msk]), \n",
    "                                                           np.std(np.array(stats_vals[i]['mae'])[~msk])))"
   ]
  },
  {
   "cell_type": "code",
   "execution_count": 41,
   "metadata": {},
   "outputs": [
    {
     "name": "stdout",
     "output_type": "stream",
     "text": [
      "Weighted average of R^2 (continuous / categorical)\n",
      "CTGAN: 0.935 +- 0.081 / -1.818 +- 5.262\n",
      "DATGAN: 0.237 +- 1.296 / 0.776 +- 0.394\n",
      "TGAN: 0.379 +- 0.904 / -1.076 +- 6.279\n"
     ]
    }
   ],
   "source": [
    "print(\"Weighted average of R^2 (continuous / categorical)\")\n",
    "for i in range(n):\n",
    "    print(\"{}: {:.3f} +- {:.3f} / {:.3f} +- {:.3f}\".format(labels[i+1], np.mean(np.array(stats_vals[i]['r2'])[msk]), \n",
    "                                                           np.std(np.array(stats_vals[i]['r2'])[msk]),\n",
    "                                                           np.mean(np.array(stats_vals[i]['r2'])[~msk]), \n",
    "                                                           np.std(np.array(stats_vals[i]['r2'])[~msk])))"
   ]
  },
  {
   "cell_type": "code",
   "execution_count": 42,
   "metadata": {},
   "outputs": [
    {
     "name": "stdout",
     "output_type": "stream",
     "text": [
      "Weighted average of Pearson's corr (continuous / categorical)\n",
      "CTGAN: 0.971 +- 0.037 / 0.718 +- 0.472\n",
      "DATGAN: 0.822 +- 0.176 / 0.891 +- 0.297\n",
      "TGAN: 0.838 +- 0.188 / 0.817 +- 0.491\n"
     ]
    }
   ],
   "source": [
    "print(\"Weighted average of Pearson's corr (continuous / categorical)\")\n",
    "for i in range(n):\n",
    "    print(\"{}: {:.3f} +- {:.3f} / {:.3f} +- {:.3f}\".format(labels[i+1], np.mean(np.array(stats_vals[i]['corr'])[msk]), \n",
    "                                                           np.std(np.array(stats_vals[i]['corr'])[msk]),\n",
    "                                                           np.mean(np.array(stats_vals[i]['corr'])[~msk]), \n",
    "                                                           np.std(np.array(stats_vals[i]['corr'])[~msk])))"
   ]
  },
  {
   "cell_type": "code",
   "execution_count": null,
   "metadata": {},
   "outputs": [],
   "source": []
  }
 ],
 "metadata": {
  "kernelspec": {
   "display_name": "Python 3",
   "language": "python",
   "name": "python3"
  },
  "language_info": {
   "codemirror_mode": {
    "name": "ipython",
    "version": 3
   },
   "file_extension": ".py",
   "mimetype": "text/x-python",
   "name": "python",
   "nbconvert_exporter": "python",
   "pygments_lexer": "ipython3",
   "version": "3.7.9"
  }
 },
 "nbformat": 4,
 "nbformat_minor": 4
}
