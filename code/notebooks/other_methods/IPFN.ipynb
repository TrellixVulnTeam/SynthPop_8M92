{
 "cells": [
  {
   "cell_type": "code",
   "execution_count": 2,
   "metadata": {},
   "outputs": [],
   "source": [
    "from ipfn import ipfn\n",
    "import numpy as np\n",
    "import pandas as pd"
   ]
  },
  {
   "cell_type": "code",
   "execution_count": 3,
   "metadata": {},
   "outputs": [],
   "source": [
    "m      = np.array([1., 2., 1., 3., 5., 5., 6., 2., 2., 1., 7., 2.,\n",
    "               5., 4., 2., 5., 5., 5., 3., 8., 7., 2., 7., 6.], )\n",
    "dma_l  = [501, 501, 501, 501, 501, 501, 501, 501, 501, 501, 501, 501,\n",
    "          502, 502, 502, 502, 502, 502, 502, 502, 502, 502, 502, 502]\n",
    "size_l = [1, 1, 1, 2, 2, 2, 3, 3, 3, 4, 4, 4,\n",
    "          1, 1, 1, 2, 2, 2, 3, 3, 3, 4, 4, 4]\n",
    "age_l  = ['20-25','30-35','40-45',\n",
    "          '20-25','30-35','40-45',\n",
    "          '20-25','30-35','40-45',\n",
    "          '20-25','30-35','40-45',\n",
    "          '20-25','30-35','40-45',\n",
    "          '20-25','30-35','40-45',\n",
    "          '20-25','30-35','40-45',\n",
    "          '20-25','30-35','40-45']"
   ]
  },
  {
   "cell_type": "code",
   "execution_count": 4,
   "metadata": {},
   "outputs": [],
   "source": [
    "df = pd.DataFrame()\n",
    "df['dma'] = dma_l\n",
    "df['size'] = size_l\n",
    "df['age'] = age_l\n",
    "df['total'] = m"
   ]
  },
  {
   "cell_type": "code",
   "execution_count": 5,
   "metadata": {},
   "outputs": [
    {
     "data": {
      "text/html": [
       "<div>\n",
       "<style scoped>\n",
       "    .dataframe tbody tr th:only-of-type {\n",
       "        vertical-align: middle;\n",
       "    }\n",
       "\n",
       "    .dataframe tbody tr th {\n",
       "        vertical-align: top;\n",
       "    }\n",
       "\n",
       "    .dataframe thead th {\n",
       "        text-align: right;\n",
       "    }\n",
       "</style>\n",
       "<table border=\"1\" class=\"dataframe\">\n",
       "  <thead>\n",
       "    <tr style=\"text-align: right;\">\n",
       "      <th></th>\n",
       "      <th>dma</th>\n",
       "      <th>size</th>\n",
       "      <th>age</th>\n",
       "      <th>total</th>\n",
       "    </tr>\n",
       "  </thead>\n",
       "  <tbody>\n",
       "    <tr>\n",
       "      <th>0</th>\n",
       "      <td>501</td>\n",
       "      <td>1</td>\n",
       "      <td>20-25</td>\n",
       "      <td>1.0</td>\n",
       "    </tr>\n",
       "    <tr>\n",
       "      <th>1</th>\n",
       "      <td>501</td>\n",
       "      <td>1</td>\n",
       "      <td>30-35</td>\n",
       "      <td>2.0</td>\n",
       "    </tr>\n",
       "    <tr>\n",
       "      <th>2</th>\n",
       "      <td>501</td>\n",
       "      <td>1</td>\n",
       "      <td>40-45</td>\n",
       "      <td>1.0</td>\n",
       "    </tr>\n",
       "    <tr>\n",
       "      <th>3</th>\n",
       "      <td>501</td>\n",
       "      <td>2</td>\n",
       "      <td>20-25</td>\n",
       "      <td>3.0</td>\n",
       "    </tr>\n",
       "    <tr>\n",
       "      <th>4</th>\n",
       "      <td>501</td>\n",
       "      <td>2</td>\n",
       "      <td>30-35</td>\n",
       "      <td>5.0</td>\n",
       "    </tr>\n",
       "  </tbody>\n",
       "</table>\n",
       "</div>"
      ],
      "text/plain": [
       "   dma  size    age  total\n",
       "0  501     1  20-25    1.0\n",
       "1  501     1  30-35    2.0\n",
       "2  501     1  40-45    1.0\n",
       "3  501     2  20-25    3.0\n",
       "4  501     2  30-35    5.0"
      ]
     },
     "execution_count": 5,
     "metadata": {},
     "output_type": "execute_result"
    }
   ],
   "source": [
    "df.head()"
   ]
  },
  {
   "cell_type": "code",
   "execution_count": 6,
   "metadata": {},
   "outputs": [],
   "source": [
    "xipp = df.groupby('dma')['total'].sum()\n",
    "xpjp = df.groupby('size')['total'].sum()\n",
    "xppk = df.groupby('age')['total'].sum()\n",
    "xijp = df.groupby(['dma', 'size'])['total'].sum()\n",
    "xpjk = df.groupby(['size', 'age'])['total'].sum()\n",
    "# xppk = df.groupby('age')['total'].sum()"
   ]
  },
  {
   "cell_type": "code",
   "execution_count": 7,
   "metadata": {},
   "outputs": [
    {
     "data": {
      "text/plain": [
       "dma\n",
       "501    37.0\n",
       "502    59.0\n",
       "Name: total, dtype: float64"
      ]
     },
     "execution_count": 7,
     "metadata": {},
     "output_type": "execute_result"
    }
   ],
   "source": [
    "xipp"
   ]
  },
  {
   "cell_type": "code",
   "execution_count": 8,
   "metadata": {},
   "outputs": [
    {
     "data": {
      "text/plain": [
       "size\n",
       "1    15.0\n",
       "2    28.0\n",
       "3    28.0\n",
       "4    25.0\n",
       "Name: total, dtype: float64"
      ]
     },
     "execution_count": 8,
     "metadata": {},
     "output_type": "execute_result"
    }
   ],
   "source": [
    "xpjp"
   ]
  },
  {
   "cell_type": "code",
   "execution_count": 10,
   "metadata": {},
   "outputs": [],
   "source": [
    "xipp.loc[501] = 52\n",
    "xipp.loc[502] = 48\n",
    "\n",
    "xpjp.loc[1] = 20\n",
    "xpjp.loc[2] = 30\n",
    "xpjp.loc[3] = 35\n",
    "xpjp.loc[4] = 15\n",
    "\n",
    "xppk.loc['20-25'] = 35\n",
    "xppk.loc['30-35'] = 40\n",
    "xppk.loc['40-45'] = 25\n",
    "\n",
    "xijp.loc[501] = [9, 17, 19, 7]\n",
    "xijp.loc[502] = [11, 13, 16, 8]\n",
    "\n",
    "xpjk.loc[1] = [7, 9, 4]\n",
    "xpjk.loc[2] = [8, 12, 10]\n",
    "xpjk.loc[3] = [15, 12, 8]\n",
    "xpjk.loc[4] = [5, 7, 3]"
   ]
  },
  {
   "cell_type": "code",
   "execution_count": 11,
   "metadata": {},
   "outputs": [],
   "source": [
    "aggregates = [xipp, xpjp, xppk, xijp, xpjk]\n",
    "dimensions = [['dma'], ['size'], ['age'], ['dma', 'size'], ['size', 'age']]"
   ]
  },
  {
   "cell_type": "code",
   "execution_count": 12,
   "metadata": {},
   "outputs": [],
   "source": [
    "IPF = ipfn.ipfn(df, aggregates, dimensions)\n",
    "df2 = IPF.iteration()"
   ]
  },
  {
   "cell_type": "code",
   "execution_count": 13,
   "metadata": {},
   "outputs": [
    {
     "data": {
      "text/html": [
       "<div>\n",
       "<style scoped>\n",
       "    .dataframe tbody tr th:only-of-type {\n",
       "        vertical-align: middle;\n",
       "    }\n",
       "\n",
       "    .dataframe tbody tr th {\n",
       "        vertical-align: top;\n",
       "    }\n",
       "\n",
       "    .dataframe thead th {\n",
       "        text-align: right;\n",
       "    }\n",
       "</style>\n",
       "<table border=\"1\" class=\"dataframe\">\n",
       "  <thead>\n",
       "    <tr style=\"text-align: right;\">\n",
       "      <th></th>\n",
       "      <th>size</th>\n",
       "      <th>age</th>\n",
       "      <th>dma</th>\n",
       "      <th>total</th>\n",
       "    </tr>\n",
       "  </thead>\n",
       "  <tbody>\n",
       "    <tr>\n",
       "      <th>0</th>\n",
       "      <td>1</td>\n",
       "      <td>20-25</td>\n",
       "      <td>501</td>\n",
       "      <td>2.155122</td>\n",
       "    </tr>\n",
       "    <tr>\n",
       "      <th>1</th>\n",
       "      <td>1</td>\n",
       "      <td>20-25</td>\n",
       "      <td>502</td>\n",
       "      <td>4.844878</td>\n",
       "    </tr>\n",
       "    <tr>\n",
       "      <th>2</th>\n",
       "      <td>1</td>\n",
       "      <td>30-35</td>\n",
       "      <td>501</td>\n",
       "      <td>4.738761</td>\n",
       "    </tr>\n",
       "    <tr>\n",
       "      <th>3</th>\n",
       "      <td>1</td>\n",
       "      <td>30-35</td>\n",
       "      <td>502</td>\n",
       "      <td>4.261239</td>\n",
       "    </tr>\n",
       "    <tr>\n",
       "      <th>4</th>\n",
       "      <td>1</td>\n",
       "      <td>40-45</td>\n",
       "      <td>501</td>\n",
       "      <td>2.106116</td>\n",
       "    </tr>\n",
       "  </tbody>\n",
       "</table>\n",
       "</div>"
      ],
      "text/plain": [
       "   size    age  dma     total\n",
       "0     1  20-25  501  2.155122\n",
       "1     1  20-25  502  4.844878\n",
       "2     1  30-35  501  4.738761\n",
       "3     1  30-35  502  4.261239\n",
       "4     1  40-45  501  2.106116"
      ]
     },
     "execution_count": 13,
     "metadata": {},
     "output_type": "execute_result"
    }
   ],
   "source": [
    "df.head()"
   ]
  },
  {
   "cell_type": "code",
   "execution_count": 14,
   "metadata": {},
   "outputs": [
    {
     "data": {
      "text/html": [
       "<div>\n",
       "<style scoped>\n",
       "    .dataframe tbody tr th:only-of-type {\n",
       "        vertical-align: middle;\n",
       "    }\n",
       "\n",
       "    .dataframe tbody tr th {\n",
       "        vertical-align: top;\n",
       "    }\n",
       "\n",
       "    .dataframe thead th {\n",
       "        text-align: right;\n",
       "    }\n",
       "</style>\n",
       "<table border=\"1\" class=\"dataframe\">\n",
       "  <thead>\n",
       "    <tr style=\"text-align: right;\">\n",
       "      <th></th>\n",
       "      <th>size</th>\n",
       "      <th>age</th>\n",
       "      <th>dma</th>\n",
       "      <th>total</th>\n",
       "    </tr>\n",
       "  </thead>\n",
       "  <tbody>\n",
       "    <tr>\n",
       "      <th>0</th>\n",
       "      <td>1</td>\n",
       "      <td>20-25</td>\n",
       "      <td>501</td>\n",
       "      <td>2.155122</td>\n",
       "    </tr>\n",
       "    <tr>\n",
       "      <th>1</th>\n",
       "      <td>1</td>\n",
       "      <td>20-25</td>\n",
       "      <td>502</td>\n",
       "      <td>4.844878</td>\n",
       "    </tr>\n",
       "    <tr>\n",
       "      <th>2</th>\n",
       "      <td>1</td>\n",
       "      <td>30-35</td>\n",
       "      <td>501</td>\n",
       "      <td>4.738761</td>\n",
       "    </tr>\n",
       "    <tr>\n",
       "      <th>3</th>\n",
       "      <td>1</td>\n",
       "      <td>30-35</td>\n",
       "      <td>502</td>\n",
       "      <td>4.261239</td>\n",
       "    </tr>\n",
       "    <tr>\n",
       "      <th>4</th>\n",
       "      <td>1</td>\n",
       "      <td>40-45</td>\n",
       "      <td>501</td>\n",
       "      <td>2.106116</td>\n",
       "    </tr>\n",
       "  </tbody>\n",
       "</table>\n",
       "</div>"
      ],
      "text/plain": [
       "   size    age  dma     total\n",
       "0     1  20-25  501  2.155122\n",
       "1     1  20-25  502  4.844878\n",
       "2     1  30-35  501  4.738761\n",
       "3     1  30-35  502  4.261239\n",
       "4     1  40-45  501  2.106116"
      ]
     },
     "execution_count": 14,
     "metadata": {},
     "output_type": "execute_result"
    }
   ],
   "source": [
    "df2.head()"
   ]
  },
  {
   "cell_type": "code",
   "execution_count": 15,
   "metadata": {},
   "outputs": [
    {
     "data": {
      "text/plain": [
       "dma\n",
       "501    51.99993\n",
       "502    48.00007\n",
       "Name: total, dtype: float64"
      ]
     },
     "execution_count": 15,
     "metadata": {},
     "output_type": "execute_result"
    }
   ],
   "source": [
    "df.groupby('dma')['total'].sum()"
   ]
  },
  {
   "cell_type": "code",
   "execution_count": null,
   "metadata": {},
   "outputs": [],
   "source": []
  }
 ],
 "metadata": {
  "kernelspec": {
   "display_name": "Python 3",
   "language": "python",
   "name": "python3"
  },
  "language_info": {
   "codemirror_mode": {
    "name": "ipython",
    "version": 3
   },
   "file_extension": ".py",
   "mimetype": "text/x-python",
   "name": "python",
   "nbconvert_exporter": "python",
   "pygments_lexer": "ipython3",
   "version": "3.7.9"
  }
 },
 "nbformat": 4,
 "nbformat_minor": 4
}
